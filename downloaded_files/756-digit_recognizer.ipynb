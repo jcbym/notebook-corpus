{
  "nbformat": 4,
  "nbformat_minor": 0,
  "metadata": {
    "colab": {
      "name": "digit_recognition.ipynb",
      "provenance": [],
      "collapsed_sections": [],
      "authorship_tag": "ABX9TyNSg7s5CzBw0f29WFg30scH",
      "include_colab_link": true
    },
    "kernelspec": {
      "name": "python3",
      "display_name": "Python 3"
    },
    "language_info": {
      "name": "python"
    }
  },
  "cells": [
    {
      "cell_type": "markdown",
      "metadata": {
        "id": "view-in-github",
        "colab_type": "text"
      },
      "source": [
        "<a href=\"https://colab.research.google.com/github/Spidey03/digit_recognizer/blob/main/digit_recognition.ipynb\" target=\"_parent\"><img src=\"https://colab.research.google.com/assets/colab-badge.svg\" alt=\"Open In Colab\"/></a>"
      ]
    },
    {
      "cell_type": "code",
      "metadata": {
        "id": "Swn8sExTKKln"
      },
      "source": [
        "import numpy as np"
      ],
      "execution_count": null,
      "outputs": []
    },
    {
      "cell_type": "code",
      "metadata": {
        "id": "LH-gaMj7OyOo"
      },
      "source": [
        "! wget https://myawsbucket003.s3.ap-south-1.amazonaws.com/AI+ML/Digit+Recognition/datasets/mnist_test.csv\n",
        "! wget https://myawsbucket003.s3.ap-south-1.amazonaws.com/AI+ML/Digit+Recognition/datasets/mnist_train.csv"
      ],
      "execution_count": null,
      "outputs": []
    },
    {
      "cell_type": "code",
      "metadata": {
        "id": "-i9rx6-H1hG1"
      },
      "source": [
        "def get_data_from_train_data_file():\n",
        "    train_data_file = \"mnist_train.csv\"\n",
        "    data = np.genfromtxt(\n",
        "        fname=train_data_file, delimiter=\",\", dtype=int\n",
        "    )\n",
        "    print(\"Shape of data in train data file is {}\".format(data.shape))\n",
        "    mnist_labels = data[:, 0]\n",
        "    mnist_variables = data[:, 1:]\n",
        "    return mnist_variables, mnist_labels\n"
      ],
      "execution_count": null,
      "outputs": []
    },
    {
      "cell_type": "code",
      "metadata": {
        "id": "b8-BRQQg1jBN"
      },
      "source": [
        "def get_data_from_test_data_file():\n",
        "    test_data_file = \"mnist_test.csv\"\n",
        "    data = np.genfromtxt(\n",
        "        fname=test_data_file, delimiter=\",\", dtype=int\n",
        "    )\n",
        "    print(\"Shape of data in test data file is {}\".format(data.shape))\n",
        "    mnist_labels = data[:, 0]\n",
        "    mnist_variables = data[:, 1:]\n",
        "    return mnist_variables, mnist_labels\n"
      ],
      "execution_count": null,
      "outputs": []
    },
    {
      "cell_type": "code",
      "metadata": {
        "id": "xrNvqRUTKw1U"
      },
      "source": [
        "def ln_norm_distances(train_inputs, test_input, n):\n",
        "    \"\"\"\n",
        "    LN Norm Distances which computes distances between\n",
        "    a testing instance and other training instance\n",
        "\n",
        "    :param train_inputs: a 2D numpy array of floats where each row represents a training input instance\n",
        "    :param test_input: a 1D numpy array of floats which represent training instance\n",
        "    :param n: n is for compute LN Norm distance\n",
        "    :return: a 1D of array floats i.e distance between testing instance and trainging instances\n",
        "    \"\"\"\n",
        "    abs_diff = np.abs(train_inputs - test_input)\n",
        "    summation = np.sum(np.power(abs_diff, n), axis=1)\n",
        "    return np.power(summation, 1 / n)"
      ],
      "execution_count": null,
      "outputs": []
    },
    {
      "cell_type": "code",
      "metadata": {
        "id": "AWVkgiRH2UHU"
      },
      "source": [
        "def k_nearest_neightbours(train_inputs, test_input, n, k):\n",
        "      \"\"\"\n",
        "      Get K nearest neighbours of the test inputs\n",
        "\n",
        "      :param train_inputs: a 2D numpy array of floats where each row represents a training input instance\n",
        "      :param test_input: a 1D numpy array of floats which represent training instance\n",
        "      :param n: n is for compute LN Norm distance\n",
        "      :param k: k is the number of closest neighbours to consider\n",
        "      :return: returns indices of K-nearest neighbours and their distances\n",
        "      \"\"\"\n",
        "      distances = ln_norm_distances(\n",
        "          train_inputs=train_inputs, test_input=test_input, n=n\n",
        "      )\n",
        "      indices = np.argsort(distances)\n",
        "      kth_dist_repeat_count = 0\n",
        "      if train_inputs.shape[0] > k:\n",
        "          kth_nearesh_neighbour_index = indices[k - 1]  # last most neighbour\n",
        "          kth_neighbour_distance = distances[kth_nearesh_neighbour_index]\n",
        "          indices_except_top_k = indices[k:]\n",
        "          # distance tie\n",
        "          distance_of_points_except_top_k = distances[indices_except_top_k]\n",
        "          kth_dist_repeat_count = np.count_nonzero(distance_of_points_except_top_k == kth_neighbour_distance)\n",
        "      indices_of_k_neighbours = indices[:(k+kth_dist_repeat_count)]\n",
        "      distance_k = distances[indices_of_k_neighbours]\n",
        "      return indices_of_k_neighbours, distance_k"
      ],
      "execution_count": null,
      "outputs": []
    },
    {
      "cell_type": "code",
      "metadata": {
        "id": "SuQdxW7u2Out"
      },
      "source": [
        "def distance_weighted_knn(train_inputs, train_outputs, test_inputs, n, k):\n",
        "      \"\"\"\n",
        "      Predict the label using distance weighted KNN\n",
        "\n",
        "      :param train_inputs: a 2D numpy array of floats where each row represents a training input instance\n",
        "      :param train_outputs: a 2D numpy array that represents the labels corresponds to train_inputs\n",
        "      :param test_inputs: a 2D numpy array of floats which represent training instances\n",
        "      :param n: n is for compute LN Norm distance\n",
        "      :param k: k is the number of closest neighbours to consider\n",
        "      :return:\n",
        "      \"\"\"\n",
        "      unique_class_labels = np.unique(train_outputs)\n",
        "      weights = np.zeros(shape=(train_inputs.shape[0], unique_class_labels.shape[0]))\n",
        "      for test_idx, test_input in enumerate(test_inputs):\n",
        "          k_distance_indices, k_distances = k_nearest_neightbours(\n",
        "              train_inputs=train_inputs, test_input=test_input, n=n, k=k\n",
        "          )\n",
        "          predicted_labels = train_outputs[k_distance_indices]\n",
        "          for label_idx, label in enumerate(unique_class_labels):\n",
        "              label_weight = np.sum(np.where(predicted_labels == label, 1/k_distances, 0.0))\n",
        "              weights[test_idx][label_idx] = label_weight\n",
        "\n",
        "      highest_label_indices = np.argmax(weights, axis=1)\n",
        "      return unique_class_labels[highest_label_indices]"
      ],
      "execution_count": null,
      "outputs": []
    },
    {
      "cell_type": "code",
      "metadata": {
        "id": "fp_z0XFP5Osj"
      },
      "source": [
        "def get_distance_matrix(train_inputs, validation_inputs, n):\n",
        "  \"\"\"\n",
        "  :param train_inputs: a 2D numpy array of floats which represent training instances\n",
        "  :param validation_inputs: a 2D numpy array of floats which represent test instances\n",
        "  :param n: n is for compute LN Norm distance\n",
        "  \"\"\"\n",
        "  train_count = train_inputs.shape[0]\n",
        "  validation_count = validation_inputs.shape[0]\n",
        "  num_of_feature = train_inputs.shape[1]\n",
        "\n",
        "  distance_matrix = np.zeros(shape=(validation_count, train_count), dtype=np.float32)\n",
        "  for idx, validation_input in enumerate(validation_inputs):\n",
        "    distances = ln_norm_distances(train_inputs=train_inputs, test_input=validation_input, n=n)\n",
        "    distance_matrix[idx] = distances\n",
        "  return distance_matrix"
      ],
      "execution_count": null,
      "outputs": []
    },
    {
      "cell_type": "code",
      "metadata": {
        "id": "8dq7LOpx2HQQ"
      },
      "source": [
        "def majority_based_knn(distance_matrix, train_outputs, k):\n",
        "      \"\"\"\n",
        "      predict the label for test inputs based on the majority among K nearest neighbours\n",
        "\n",
        "      :param distance_matrix: a 2D numpy array of floats where each row represents a distance between test input to train inputs\n",
        "      :param train_outputs: a 2D numpy array that represents the labels corresponds to train_inputs\n",
        "      :param k: k is the number of closest neighbours to consider\n",
        "      :return:\n",
        "      \"\"\"\n",
        "      unique_class_labels = np.unique(train_outputs)\n",
        "      num_of_unique_class_labels = unique_class_labels.shape[0]\n",
        "\n",
        "      train_length = distance_matrix.shape[1]\n",
        "      test_length = distance_matrix.shape[0]\n",
        "\n",
        "      label_wise_counts = np.zeros(shape=(test_length, num_of_unique_class_labels))\n",
        "      label_wise_weights = np.zeros(shape=(test_length, num_of_unique_class_labels))\n",
        "\n",
        "      \n",
        "      sorted_indices = np.argsort(distance_matrix, axis=1)\n",
        "\n",
        "      for test_idx in range(test_length):\n",
        "          # k_distance_indices, k_distances = k_nearest_neightbours(\n",
        "          #     train_inputs=train_inputs, test_input=test_input, n=n, k=k\n",
        "          # )\n",
        "          test_distances = distance_matrix[test_idx]\n",
        "          sorted_test_indices = sorted_indices[test_idx]\n",
        "          kth_dist_repeat_count = 0\n",
        "          if train_length > k:\n",
        "            kth_neighbour_distance = test_distances[sorted_test_indices[k-1]]\n",
        "            kth_dist_repeat_count = np.count_nonzero(test_distances == kth_neighbour_distance)\n",
        "\n",
        "          indices_k = sorted_test_indices[:(k+kth_dist_repeat_count)]\n",
        "          k_distances = test_distances[indices_k]\n",
        "          predicted_labels = train_outputs[indices_k]\n",
        "                    \n",
        "          # predicted_labels = train_outputs[k_distance_indices]\n",
        "          for label_idx, label in enumerate(unique_class_labels):\n",
        "              label_weight = np.sum(np.where(predicted_labels == label, 1/k_distances, 0.0))\n",
        "              label_count = np.sum(np.where(predicted_labels == label, 1.0, 0.0))\n",
        "              label_wise_weights[test_idx][label_idx] = label_weight\n",
        "              label_wise_counts[test_idx][label_idx] = label_count\n",
        "\n",
        "      output_labels = np.empty(test_length, dtype=int)\n",
        "      sorted_count_indices = np.argsort(label_wise_counts, axis=1)\n",
        "\n",
        "      for test_idx, label_indices in enumerate(sorted_count_indices):\n",
        "          highest_count = label_wise_counts[test_idx][label_indices[num_of_unique_class_labels-1]]\n",
        "          highest_label_repeat = np.count_nonzero(label_wise_counts[test_idx] == highest_count)\n",
        "          no_voting_tie = (highest_label_repeat == 1)\n",
        "          if no_voting_tie:\n",
        "              output_labels[test_idx] = unique_class_labels[label_indices[num_of_unique_class_labels-1]]\n",
        "          else:\n",
        "              tied_class_indices = label_indices[num_of_unique_class_labels-highest_label_repeat:]\n",
        "              tied_class_weights = label_wise_weights[test_idx][tied_class_indices]\n",
        "              max_weight_idx = np.argmax(tied_class_weights)\n",
        "              max_idx = tied_class_indices[max_weight_idx]\n",
        "              output_labels[test_idx] = unique_class_labels[max_idx]\n",
        "\n",
        "      return output_labels"
      ],
      "execution_count": null,
      "outputs": []
    },
    {
      "cell_type": "code",
      "metadata": {
        "id": "ThpUaD3R1q_r"
      },
      "source": [
        "def shuffle(variables, labels):\n",
        "    data_count = variables.shape[0]\n",
        "    np.random.seed(3)\n",
        "    permute_indices = np.random.permutation(data_count)\n",
        "    shuffled_variables = variables[permute_indices]\n",
        "    shuffled_labels = labels[permute_indices]\n",
        "    return shuffled_variables, shuffled_labels"
      ],
      "execution_count": null,
      "outputs": []
    },
    {
      "cell_type": "code",
      "metadata": {
        "id": "IFhZ23R_2B4x"
      },
      "source": [
        "def calculate_accuracy(predicted_labels, actual_labels):\n",
        "    true_predictions = np.count_nonzero(predicted_labels==actual_labels)\n",
        "    accuracy = (true_predictions/actual_labels.size)\n",
        "    return accuracy"
      ],
      "execution_count": null,
      "outputs": []
    },
    {
      "cell_type": "code",
      "metadata": {
        "id": "eh_OurXP1whj"
      },
      "source": [
        "def get_best_k_n_values_using_validation_set(\n",
        "      variables, labels, validation_split_percent, possible_values_of_n\n",
        "  ):\n",
        "      import math\n",
        "      shuffled_variables, shuffled_labels = \\\n",
        "          shuffle(variables=variables, labels=labels)\n",
        "      train_data_count = math.floor(\n",
        "          (float(100 - validation_split_percent) / 100) * variables.shape[0]\n",
        "      )\n",
        "      train_inputs = shuffled_variables[:train_data_count]\n",
        "      train_outputs = shuffled_labels[:train_data_count]\n",
        "      validation_inputs = shuffled_variables[train_data_count:]\n",
        "      validation_outputs = shuffled_labels[train_data_count:]\n",
        "\n",
        "      accuracy_matrix = np.empty(shape=(possible_values_of_n.shape[0], train_data_count))\n",
        "\n",
        "      for n_idx, n in enumerate(possible_values_of_n):\n",
        "          distance_matrix = get_distance_matrix(\n",
        "            train_inputs=train_inputs, validation_inputs=validation_inputs, n=n\n",
        "          )\n",
        "          for k_idx, k in enumerate(range(1, train_data_count+1)):\n",
        "              predicted_labels = majority_based_knn(\n",
        "                  distance_matrix=distance_matrix, train_outputs=train_outputs, k=k\n",
        "              )\n",
        "              accuracy = calculate_accuracy(\n",
        "                  predicted_labels=predicted_labels,\n",
        "                  actual_labels=validation_outputs\n",
        "              )\n",
        "              accuracy_matrix[n_idx][k_idx] = accuracy\n",
        "\n",
        "      max_accuracy = np.max(accuracy_matrix)\n",
        "      ties = (accuracy_matrix == max_accuracy)\n",
        "\n",
        "      n_idx = np.argmax(np.any(ties, axis=1))\n",
        "      n = possible_values_of_n[n_idx]\n",
        "      k = np.argmax(ties[n_idx, :]) + 1\n",
        "      return np.array([k, n], dtype=int)"
      ],
      "execution_count": null,
      "outputs": []
    },
    {
      "cell_type": "code",
      "metadata": {
        "id": "mRXxkIF3RF8I"
      },
      "source": [
        "variables, labels = get_data_from_train_data_file()"
      ],
      "execution_count": null,
      "outputs": []
    },
    {
      "cell_type": "code",
      "metadata": {
        "id": "U6B5o-U2K0wO"
      },
      "source": [
        "validation_split_percent = 30\n",
        "n = np.array([1, 2, 3])\n",
        "best_k_n = get_best_k_n_values_using_validation_set(\n",
        "    variables=variables[568:678], labels=labels[568:678].reshape(110,),\n",
        "    validation_split_percent=validation_split_percent,\n",
        "    possible_values_of_n=n\n",
        ")\n",
        "print(best_k_n)"
      ],
      "execution_count": null,
      "outputs": []
    },
    {
      "cell_type": "code",
      "metadata": {
        "id": "lCi4glMa9l8_"
      },
      "source": [
        ""
      ],
      "execution_count": null,
      "outputs": []
    }
  ]
}