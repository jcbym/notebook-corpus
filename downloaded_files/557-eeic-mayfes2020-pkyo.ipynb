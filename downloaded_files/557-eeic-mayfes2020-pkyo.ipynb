{
 "cells": [
  {
   "cell_type": "code",
   "execution_count": 8,
   "metadata": {},
   "outputs": [],
   "source": [
    "import json\n",
    "import copy"
   ]
  },
  {
   "cell_type": "code",
   "execution_count": 13,
   "metadata": {},
   "outputs": [
    {
     "name": "stdout",
     "output_type": "stream",
     "text": [
      "[34, 34, 34, 34, 34, 34, 34, 34, 34, 34, 34, 34, 34, 34, 34, 34, 34, 34, 34, 34, 34, 34, 34, 34, 34, 34, 34, 34, 34, 34, 34, 34, 34, 34, 34, 34, 34, 34, 34, 34, 34, 34, 34, 34, 34, 34, 34, 34, 34, 34, 34, 34, 34, 34, 34, 34, 34, 34, 34, 34, 34, 34, 34, 34, 34, 34, 34, 34, 34, 34, 34, 34, 34, 34, 34, 34, 34, 34, 34, 34, 34, 34, 34, 34, 34, 34, 34, 34, 34, 34, 34, 34, 34, 34, 34, 34, 34, 34, 34, 34, 34, 34, 34, 34, 34, 34, 34, 34, 34, 34, 34, 34, 34, 34, 34, 34, 34, 34, 34, 34, 34, 34, 34, 34, 34, 34, 116, 130, 130, 130, 130, 130, 130, 117, 34, 34, 34, 34, 34, 34, 34, 34, 34, 34, 34, 34, 123, 497, 497, 497, 497, 497, 521, 121, 34, 34, 34, 34, 34, 34, 34, 34, 34, 34, 34, 34, 123, 497, 34, 34, 34, 34, 497, 121, 34, 34, 34, 34, 34, 34, 34, 34, 34, 34, 34, 34, 123, 497, 34, 34, 34, 122, 497, 121, 34, 34, 34, 34, 34, 34, 34, 34, 34, 34, 34, 34, 123, 497, 34, 34, 34, 122, 497, 121, 34, 34, 34, 34, 34, 34, 34, 34, 34, 34, 34, 34, 123, 497, 34, 34, 34, 122, 497, 121, 34, 34, 34, 34, 34, 34, 34, 34, 34, 34, 34, 34, 123, 497, 497, 497, 497, 497, 497, 121, 34, 34, 34, 34, 34, 34, 34, 34, 34, 34, 34, 34, 124, 114, 114, 114, 114, 114, 114, 125, 34, 34, 34, 34, 34, 34, 34, 34, 34, 34, 34, 34, 122, 34, 34, 34, 34, 34, 34, 34, 34, 34, 34, 34, 34, 34, 34, 34, 34, 34, 34, 34, 34, 34, 34, 34, 34, 34, 34, 34, 34, 34, 34, 34, 34, 34, 34, 34, 34, 34, 34, 34, 34, 34, 34, 34, 34, 34, 34, 34, 34, 34, 34, 34, 34, 34, 34, 34, 34, 34, 34, 34, 34, 34, 34, 34, 34, 34, 34, 34, 34, 34, 34, 34, 34, 34, 34, 34, 34, 34, 34, 34, 34, 34, 34, 34, 34, 34, 34, 34, 34, 34, 34, 34, 34, 34, 34, 34, 34, 34, 34, 34, 34, 34, 34, 34, 34, 34, 34, 34, 34, 34, 34, 34, 34, 34]\n",
      "[34, 34, 34, 34, 34, 34, 34, 34, 34, 34, 34, 34, 34, 34, 34, 34, 34, 34, 34, 34]\n",
      "[34, 34, 34, 34, 34, 34, 34, 34, 34, 34, 34, 34, 34, 34, 34, 34, 34, 34, 34, 34]\n",
      "[34, 34, 34, 34, 34, 34, 34, 34, 34, 34, 34, 34, 34, 34, 34, 34, 34, 34, 34, 34]\n",
      "[34, 34, 34, 34, 34, 34, 34, 34, 34, 34, 34, 34, 34, 34, 34, 34, 34, 34, 34, 34]\n",
      "[34, 34, 34, 34, 34, 34, 34, 34, 34, 34, 34, 34, 34, 34, 34, 34, 34, 34, 34, 34]\n",
      "[34, 34, 34, 34, 34, 34, 34, 34, 34, 34, 34, 34, 34, 34, 34, 34, 34, 34, 34, 34]\n",
      "[34, 34, 34, 34, 34, 34, 116, 130, 130, 130, 130, 130, 130, 117, 34, 34, 34, 34, 34, 34]\n",
      "[34, 34, 34, 34, 34, 34, 123, 497, 497, 497, 497, 497, 521, 121, 34, 34, 34, 34, 34, 34]\n",
      "[34, 34, 34, 34, 34, 34, 123, 497, 34, 34, 34, 34, 497, 121, 34, 34, 34, 34, 34, 34]\n",
      "[34, 34, 34, 34, 34, 34, 123, 497, 34, 34, 34, 122, 497, 121, 34, 34, 34, 34, 34, 34]\n",
      "[34, 34, 34, 34, 34, 34, 123, 497, 34, 34, 34, 122, 497, 121, 34, 34, 34, 34, 34, 34]\n",
      "[34, 34, 34, 34, 34, 34, 123, 497, 34, 34, 34, 122, 497, 121, 34, 34, 34, 34, 34, 34]\n",
      "[34, 34, 34, 34, 34, 34, 123, 497, 497, 497, 497, 497, 497, 121, 34, 34, 34, 34, 34, 34]\n",
      "[34, 34, 34, 34, 34, 34, 124, 114, 114, 114, 114, 114, 114, 125, 34, 34, 34, 34, 34, 34]\n",
      "[34, 34, 34, 34, 34, 34, 122, 34, 34, 34, 34, 34, 34, 34, 34, 34, 34, 34, 34, 34]\n",
      "[34, 34, 34, 34, 34, 34, 34, 34, 34, 34, 34, 34, 34, 34, 34, 34, 34, 34, 34, 34]\n",
      "[34, 34, 34, 34, 34, 34, 34, 34, 34, 34, 34, 34, 34, 34, 34, 34, 34, 34, 34, 34]\n",
      "[34, 34, 34, 34, 34, 34, 34, 34, 34, 34, 34, 34, 34, 34, 34, 34, 34, 34, 34, 34]\n",
      "[34, 34, 34, 34, 34, 34, 34, 34, 34, 34, 34, 34, 34, 34, 34, 34, 34, 34, 34, 34]\n",
      "[34, 34, 34, 34, 34, 34, 34, 34, 34, 34, 34, 34, 34, 34, 34, 34, 34, 34, 34, 34]\n"
     ]
    }
   ],
   "source": [
    "filename = 'tilemap.json'\n",
    "fr = open(filename, 'r')\n",
    "tilemap_data = json.load(fr)\n",
    "map_data = tilemap_data['layers'][0]['data']\n",
    "print(map_data)\n",
    "width = 20\n",
    "n_cells = len(map_data)\n",
    "row = []\n",
    "map_list = []\n",
    "for i in range(n_cells):\n",
    "    row.append(map_data[i])\n",
    "    if len(row) == width:\n",
    "        tmp = copy.deepcopy(row)\n",
    "        map_list.append(tmp)\n",
    "        row.clear()\n",
    "for i in range(len(map_list)):\n",
    "    print(map_list[i])\n",
    "    \n",
    "not_wall_list = [497,521]\n",
    "\n"
   ]
  },
  {
   "cell_type": "code",
   "execution_count": 19,
   "metadata": {},
   "outputs": [
    {
     "name": "stdout",
     "output_type": "stream",
     "text": [
      "{'isWall': [['true', 'true', 'true', 'true', 'true', 'true', 'true', 'true', 'true', 'true', 'true', 'true', 'true', 'true', 'true', 'true', 'true', 'true', 'true', 'true'], ['true', 'true', 'true', 'true', 'true', 'true', 'true', 'true', 'true', 'true', 'true', 'true', 'true', 'true', 'true', 'true', 'true', 'true', 'true', 'true'], ['true', 'true', 'true', 'true', 'true', 'true', 'true', 'true', 'true', 'true', 'true', 'true', 'true', 'true', 'true', 'true', 'true', 'true', 'true', 'true'], ['true', 'true', 'true', 'true', 'true', 'true', 'true', 'true', 'true', 'true', 'true', 'true', 'true', 'true', 'true', 'true', 'true', 'true', 'true', 'true'], ['true', 'true', 'true', 'true', 'true', 'true', 'true', 'true', 'true', 'true', 'true', 'true', 'true', 'true', 'true', 'true', 'true', 'true', 'true', 'true'], ['true', 'true', 'true', 'true', 'true', 'true', 'true', 'true', 'true', 'true', 'true', 'true', 'true', 'true', 'true', 'true', 'true', 'true', 'true', 'true'], ['true', 'true', 'true', 'true', 'true', 'true', 'true', 'false', 'false', 'false', 'false', 'false', 'false', 'true', 'true', 'true', 'true', 'true', 'true', 'true'], ['true', 'true', 'true', 'true', 'true', 'true', 'true', 'false', 'true', 'true', 'true', 'true', 'false', 'true', 'true', 'true', 'true', 'true', 'true', 'true'], ['true', 'true', 'true', 'true', 'true', 'true', 'true', 'false', 'true', 'true', 'true', 'true', 'false', 'true', 'true', 'true', 'true', 'true', 'true', 'true'], ['true', 'true', 'true', 'true', 'true', 'true', 'true', 'false', 'true', 'true', 'true', 'true', 'false', 'true', 'true', 'true', 'true', 'true', 'true', 'true'], ['true', 'true', 'true', 'true', 'true', 'true', 'true', 'false', 'true', 'true', 'true', 'true', 'false', 'true', 'true', 'true', 'true', 'true', 'true', 'true'], ['true', 'true', 'true', 'true', 'true', 'true', 'true', 'false', 'false', 'false', 'false', 'false', 'false', 'true', 'true', 'true', 'true', 'true', 'true', 'true'], ['true', 'true', 'true', 'true', 'true', 'true', 'true', 'true', 'true', 'true', 'true', 'true', 'true', 'true', 'true', 'true', 'true', 'true', 'true', 'true'], ['true', 'true', 'true', 'true', 'true', 'true', 'true', 'true', 'true', 'true', 'true', 'true', 'true', 'true', 'true', 'true', 'true', 'true', 'true', 'true'], ['true', 'true', 'true', 'true', 'true', 'true', 'true', 'true', 'true', 'true', 'true', 'true', 'true', 'true', 'true', 'true', 'true', 'true', 'true', 'true'], ['true', 'true', 'true', 'true', 'true', 'true', 'true', 'true', 'true', 'true', 'true', 'true', 'true', 'true', 'true', 'true', 'true', 'true', 'true', 'true'], ['true', 'true', 'true', 'true', 'true', 'true', 'true', 'true', 'true', 'true', 'true', 'true', 'true', 'true', 'true', 'true', 'true', 'true', 'true', 'true'], ['true', 'true', 'true', 'true', 'true', 'true', 'true', 'true', 'true', 'true', 'true', 'true', 'true', 'true', 'true', 'true', 'true', 'true', 'true', 'true'], ['true', 'true', 'true', 'true', 'true', 'true', 'true', 'true', 'true', 'true', 'true', 'true', 'true', 'true', 'true', 'true', 'true', 'true', 'true', 'true'], ['true', 'true', 'true', 'true', 'true', 'true', 'true', 'true', 'true', 'true', 'true', 'true', 'true', 'true', 'true', 'true', 'true', 'true', 'true', 'true']], 'playerX': 'playerX', 'playerY': 'playerY', 'goalX': 'goalX', 'goalY': 'goalY', 'playerD': 'playerD'}\n"
     ]
    }
   ],
   "source": [
    "config = {}\n",
    "config['isWall']=[]\n",
    "for i in range(len(map_list)):\n",
    "    row = ['true'] * width\n",
    "    for j in range(width):\n",
    "        tile = map_list[i][j]\n",
    "        if tile in not_wall_list:\n",
    "            tmp[j]='false'\n",
    "    tmp = copy.deepcopy(row)\n",
    "    config['isWall'].append(tmp)\n",
    "\n",
    "config['playerX'] = 'playerX'\n",
    "config['playerY'] = 'playerY'\n",
    "config['goalX'] = 'goalX'\n",
    "config['goalY'] = 'goalY'\n",
    "config['playerD'] = 'playerD'\n",
    "\n",
    "print(config)\n",
    "\n",
    "with open('config.json','w') as fw:\n",
    "    json.dump(config,fw,indent=2)"
   ]
  },
  {
   "cell_type": "code",
   "execution_count": null,
   "metadata": {},
   "outputs": [],
   "source": []
  }
 ],
 "metadata": {
  "kernelspec": {
   "display_name": "Python 3",
   "language": "python",
   "name": "python3"
  },
  "language_info": {
   "codemirror_mode": {
    "name": "ipython",
    "version": 3
   },
   "file_extension": ".py",
   "mimetype": "text/x-python",
   "name": "python",
   "nbconvert_exporter": "python",
   "pygments_lexer": "ipython3",
   "version": "3.7.3"
  }
 },
 "nbformat": 4,
 "nbformat_minor": 2
}
