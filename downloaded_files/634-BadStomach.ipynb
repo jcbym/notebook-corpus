{
 "cells": [
  {
   "cell_type": "markdown",
   "metadata": {},
   "source": [
    "XGBoost Code for running binary classificaiton of patient data\n",
    "https://xgboost.readthedocs.io/en/latest/parameter.html - Link to the parameter definitions\n",
    "Grid searching can be applied to optimize the parameter tuning if desired."
   ]
  },
  {
   "cell_type": "code",
   "execution_count": 56,
   "metadata": {},
   "outputs": [],
   "source": [
    "import xgboost as xgb\n",
    "import pandas as pd\n",
    "import numpy as np\n",
    "import sklearn\n",
    "import matplotlib\n",
    "from sklearn.cross_validation import train_test_split\n",
    "from sklearn.externals import joblib\n",
    "from sklearn.metrics import precision_score"
   ]
  },
  {
   "cell_type": "code",
   "execution_count": 6,
   "metadata": {},
   "outputs": [],
   "source": [
    "datafile = open('testdata.txt', 'r')\n",
    "data = pd.read_csv(datafile, sep = \"\\t\")"
   ]
  },
  {
   "cell_type": "markdown",
   "metadata": {},
   "source": [
    "The code below changes categorical variables to numeric.  It does NOT do one hot encoding.  It only replaces the values with a number corresponding to the different number of entities in the column.  One hot encoding is an option that could be used instead."
   ]
  },
  {
   "cell_type": "code",
   "execution_count": 7,
   "metadata": {},
   "outputs": [],
   "source": [
    "for feature in data.columns: # Loop through all columns in the dataframe\n",
    "    if data[feature].dtype == 'object': # Only apply for columns with categorical strings\n",
    "        data[feature] = pd.Categorical(data[feature]).codes # Replace strings with an integer"
   ]
  },
  {
   "cell_type": "markdown",
   "metadata": {},
   "source": [
    "Split the data into data frames of variables(X) and target (y).  The term \"Season\" must be changed to accomodate the prediction target name."
   ]
  },
  {
   "cell_type": "code",
   "execution_count": 8,
   "metadata": {},
   "outputs": [],
   "source": [
    "X = data.drop(\"Season\", axis=1)\n",
    "y = data[\"Season\"]"
   ]
  },
  {
   "cell_type": "markdown",
   "metadata": {},
   "source": [
    "Train/test splits of the data, 80/20 split.  The test_size can be changed to any value."
   ]
  },
  {
   "cell_type": "code",
   "execution_count": 10,
   "metadata": {},
   "outputs": [],
   "source": [
    "X_train, X_test, y_train, y_test = train_test_split(X, y, test_size=0.2, random_state=42)"
   ]
  },
  {
   "cell_type": "markdown",
   "metadata": {},
   "source": [
    "Creat the necessary xgboost matrices for the algorithm."
   ]
  },
  {
   "cell_type": "code",
   "execution_count": 57,
   "metadata": {},
   "outputs": [],
   "source": [
    "dtrain = xgb.DMatrix(X_train, label=y_train)\n",
    "dtest = xgb.DMatrix(X_test, label=y_test)"
   ]
  },
  {
   "cell_type": "markdown",
   "metadata": {},
   "source": [
    "Model parameter settings.  Included below are the most commonly changed settings and the default settings.  The website above has explanations of each and defaluts."
   ]
  },
  {
   "cell_type": "code",
   "execution_count": 37,
   "metadata": {},
   "outputs": [],
   "source": [
    "param = {'max_depth': 1, 'eta': 0.9, 'gamma':0, \n",
    "         'silent': 1, 'min_child_weight':1, 'objective': 'binary:logistic'}\n",
    "param['nthread'] = 4\n",
    "param['eval_metric'] = 'auc'"
   ]
  },
  {
   "cell_type": "markdown",
   "metadata": {},
   "source": [
    "Set the number of folds for the cross validation run to find optimal number of rounds for the xgboost algorithm to run."
   ]
  },
  {
   "cell_type": "code",
   "execution_count": 38,
   "metadata": {},
   "outputs": [],
   "source": [
    "n_folds = 10\n",
    "early_stopping = 10"
   ]
  },
  {
   "cell_type": "markdown",
   "metadata": {},
   "source": [
    "Run a cross validation to find the optimal number of nrounds for the final model. "
   ]
  },
  {
   "cell_type": "code",
   "execution_count": 39,
   "metadata": {},
   "outputs": [
    {
     "name": "stdout",
     "output_type": "stream",
     "text": [
      "[0]\ttrain-auc:0.734608+0.000898196\ttest-auc:0.734501+0.00805576\n",
      "[1]\ttrain-auc:0.822222+0.000790204\ttest-auc:0.82212+0.00697276\n",
      "[2]\ttrain-auc:0.93867+0.000525561\ttest-auc:0.938624+0.00474451\n",
      "[3]\ttrain-auc:1+0\ttest-auc:1+0\n",
      "[4]\ttrain-auc:1+0\ttest-auc:1+0\n",
      "[5]\ttrain-auc:1+0\ttest-auc:1+0\n",
      "[6]\ttrain-auc:1+0\ttest-auc:1+0\n",
      "[7]\ttrain-auc:1+0\ttest-auc:1+0\n",
      "[8]\ttrain-auc:1+0\ttest-auc:1+0\n",
      "[9]\ttrain-auc:1+0\ttest-auc:1+0\n",
      "[10]\ttrain-auc:1+0\ttest-auc:1+0\n",
      "[11]\ttrain-auc:1+0\ttest-auc:1+0\n",
      "[12]\ttrain-auc:1+0\ttest-auc:1+0\n"
     ]
    }
   ],
   "source": [
    "cv = xgb.cv(param, dtrain, 5000, nfold=n_folds, early_stopping_rounds=early_stopping, verbose_eval=1)"
   ]
  },
  {
   "cell_type": "code",
   "execution_count": 40,
   "metadata": {},
   "outputs": [
    {
     "data": {
      "text/html": [
       "<div>\n",
       "<style scoped>\n",
       "    .dataframe tbody tr th:only-of-type {\n",
       "        vertical-align: middle;\n",
       "    }\n",
       "\n",
       "    .dataframe tbody tr th {\n",
       "        vertical-align: top;\n",
       "    }\n",
       "\n",
       "    .dataframe thead th {\n",
       "        text-align: right;\n",
       "    }\n",
       "</style>\n",
       "<table border=\"1\" class=\"dataframe\">\n",
       "  <thead>\n",
       "    <tr style=\"text-align: right;\">\n",
       "      <th></th>\n",
       "      <th>train-auc-mean</th>\n",
       "      <th>train-auc-std</th>\n",
       "      <th>test-auc-mean</th>\n",
       "      <th>test-auc-std</th>\n",
       "    </tr>\n",
       "  </thead>\n",
       "  <tbody>\n",
       "    <tr>\n",
       "      <th>0</th>\n",
       "      <td>0.734608</td>\n",
       "      <td>0.000898</td>\n",
       "      <td>0.734501</td>\n",
       "      <td>0.008056</td>\n",
       "    </tr>\n",
       "    <tr>\n",
       "      <th>1</th>\n",
       "      <td>0.822222</td>\n",
       "      <td>0.000790</td>\n",
       "      <td>0.822120</td>\n",
       "      <td>0.006973</td>\n",
       "    </tr>\n",
       "    <tr>\n",
       "      <th>2</th>\n",
       "      <td>0.938670</td>\n",
       "      <td>0.000526</td>\n",
       "      <td>0.938624</td>\n",
       "      <td>0.004745</td>\n",
       "    </tr>\n",
       "    <tr>\n",
       "      <th>3</th>\n",
       "      <td>1.000000</td>\n",
       "      <td>0.000000</td>\n",
       "      <td>1.000000</td>\n",
       "      <td>0.000000</td>\n",
       "    </tr>\n",
       "  </tbody>\n",
       "</table>\n",
       "</div>"
      ],
      "text/plain": [
       "   train-auc-mean  train-auc-std  test-auc-mean  test-auc-std\n",
       "0        0.734608       0.000898       0.734501      0.008056\n",
       "1        0.822222       0.000790       0.822120      0.006973\n",
       "2        0.938670       0.000526       0.938624      0.004745\n",
       "3        1.000000       0.000000       1.000000      0.000000"
      ]
     },
     "execution_count": 40,
     "metadata": {},
     "output_type": "execute_result"
    }
   ],
   "source": [
    "cv"
   ]
  },
  {
   "cell_type": "code",
   "execution_count": 41,
   "metadata": {},
   "outputs": [],
   "source": [
    "evallist = [(dtest, 'eval'), (dtrain, 'train')]"
   ]
  },
  {
   "cell_type": "markdown",
   "metadata": {},
   "source": [
    "Use the optimal found in the cross validation for the num_rounds"
   ]
  },
  {
   "cell_type": "code",
   "execution_count": 50,
   "metadata": {},
   "outputs": [
    {
     "name": "stdout",
     "output_type": "stream",
     "text": [
      "[0]\teval-auc:0.734143\ttrain-auc:0.734609\n",
      "[1]\teval-auc:0.81802\ttrain-auc:0.822224\n",
      "[2]\teval-auc:0.935375\ttrain-auc:0.93867\n"
     ]
    }
   ],
   "source": [
    "num_round = 3\n",
    "bst = xgb.train(param, dtrain, num_round, evallist)"
   ]
  },
  {
   "cell_type": "markdown",
   "metadata": {},
   "source": [
    "Predict the test set"
   ]
  },
  {
   "cell_type": "code",
   "execution_count": 51,
   "metadata": {},
   "outputs": [],
   "source": [
    "ypred = bst.predict(dtest)"
   ]
  },
  {
   "cell_type": "code",
   "execution_count": 52,
   "metadata": {},
   "outputs": [
    {
     "data": {
      "text/plain": [
       "array([0.8443916 , 0.07787831, 0.8443916 , ..., 0.449635  , 0.449635  ,\n",
       "       0.449635  ], dtype=float32)"
      ]
     },
     "execution_count": 52,
     "metadata": {},
     "output_type": "execute_result"
    }
   ],
   "source": [
    "ypred"
   ]
  },
  {
   "cell_type": "markdown",
   "metadata": {},
   "source": [
    "Variable importance plot"
   ]
  },
  {
   "cell_type": "code",
   "execution_count": 53,
   "metadata": {},
   "outputs": [
    {
     "data": {
      "text/plain": [
       "<matplotlib.axes._subplots.AxesSubplot at 0x7f4ceeda5240>"
      ]
     },
     "execution_count": 53,
     "metadata": {},
     "output_type": "execute_result"
    },
    {
     "data": {
      "image/png": "[encoded data removed]",
      "text/plain": [
       "<Figure size 432x288 with 1 Axes>"
      ]
     },
     "metadata": {},
     "output_type": "display_data"
    }
   ],
   "source": [
    "xgb.plot_importance(bst)"
   ]
  },
  {
   "cell_type": "code",
   "execution_count": null,
   "metadata": {},
   "outputs": [],
   "source": []
  }
 ],
 "metadata": {
  "kernelspec": {
   "display_name": "Python 3",
   "language": "python",
   "name": "python3"
  },
  "language_info": {
   "codemirror_mode": {
    "name": "ipython",
    "version": 3
   },
   "file_extension": ".py",
   "mimetype": "text/x-python",
   "name": "python",
   "nbconvert_exporter": "python",
   "pygments_lexer": "ipython3",
   "version": "3.6.5"
  }
 },
 "nbformat": 4,
 "nbformat_minor": 2
}
