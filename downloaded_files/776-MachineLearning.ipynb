{
  "nbformat": 4,
  "nbformat_minor": 0,
  "metadata": {
    "colab": {
      "name": "Challenge-1.ipynb",
      "provenance": []
    },
    "kernelspec": {
      "name": "python3",
      "display_name": "Python 3"
    }
  },
  "cells": [
    {
      "cell_type": "code",
      "metadata": {
        "id": "B1Qo1YWkCZGC",
        "colab_type": "code",
        "colab": {
          "base_uri": "https://localhost:8080/",
          "height": 202
        },
        "outputId": "3fb98405-34c1-44a9-a508-0cb09e433a1c"
      },
      "source": [
        "!wget https://raw.githubusercontent.com/DeepConnectAI/challenge-week-1/master/data/structured_data/data.csv"
      ],
      "execution_count": null,
      "outputs": [
        {
          "output_type": "stream",
          "text": [
            "--2020-08-18 11:19:41--  https://raw.githubusercontent.com/DeepConnectAI/challenge-week-1/master/data/structured_data/data.csv\n",
            "Resolving raw.githubusercontent.com (raw.githubusercontent.com)... 151.101.0.133, 151.101.64.133, 151.101.128.133, ...\n",
            "Connecting to raw.githubusercontent.com (raw.githubusercontent.com)|151.101.0.133|:443... connected.\n",
            "HTTP request sent, awaiting response... 200 OK\n",
            "Length: 473 [text/plain]\n",
            "Saving to: ‘data.csv’\n",
            "\n",
            "\rdata.csv              0%[                    ]       0  --.-KB/s               \rdata.csv            100%[===================>]     473  --.-KB/s    in 0s      \n",
            "\n",
            "2020-08-18 11:19:41 (13.0 MB/s) - ‘data.csv’ saved [473/473]\n",
            "\n"
          ],
          "name": "stdout"
        }
      ]
    },
    {
      "cell_type": "code",
      "metadata": {
        "id": "Gx5WzTbdDYHD",
        "colab_type": "code",
        "colab": {}
      },
      "source": [
        "import pandas as pd\n",
        "import numpy as np\n",
        "import os"
      ],
      "execution_count": null,
      "outputs": []
    },
    {
      "cell_type": "code",
      "metadata": {
        "id": "AFovM63eD9uU",
        "colab_type": "code",
        "colab": {}
      },
      "source": [
        "data=pd.read_csv(\"data.csv\")"
      ],
      "execution_count": null,
      "outputs": []
    },
    {
      "cell_type": "code",
      "metadata": {
        "id": "3dIJaWLFEaq4",
        "colab_type": "code",
        "colab": {
          "base_uri": "https://localhost:8080/",
          "height": 118
        },
        "outputId": "e1ea89ab-b27d-4ca2-a78f-c9937e6bd9f2"
      },
      "source": [
        "data.isnull().sum()"
      ],
      "execution_count": null,
      "outputs": [
        {
          "output_type": "execute_result",
          "data": {
            "text/plain": [
              "Country                       0\n",
              "Age                           2\n",
              "Salary                        3\n",
              "Purchased                     0\n",
              "Price Category Of Purchase    0\n",
              "dtype: int64"
            ]
          },
          "metadata": {
            "tags": []
          },
          "execution_count": 6
        }
      ]
    },
    {
      "cell_type": "code",
      "metadata": {
        "id": "nAxCmuNzFnPV",
        "colab_type": "code",
        "colab": {}
      },
      "source": [
        "data['Age']=data['Age'].replace(np.NaN,data['Age'].mean())"
      ],
      "execution_count": null,
      "outputs": []
    },
    {
      "cell_type": "code",
      "metadata": {
        "id": "nMVpqNokJjDZ",
        "colab_type": "code",
        "colab": {}
      },
      "source": [
        "data['Salary']=data['Salary'].replace(np.NaN,data['Salary'].mean())"
      ],
      "execution_count": null,
      "outputs": []
    },
    {
      "cell_type": "code",
      "metadata": {
        "id": "8YVQN4TibWbR",
        "colab_type": "code",
        "colab": {
          "base_uri": "https://localhost:8080/",
          "height": 343
        },
        "outputId": "f5c08e55-8f36-4a0a-ea59-f2b6e65ebb77"
      },
      "source": [
        "data.head(10)"
      ],
      "execution_count": null,
      "outputs": [
        {
          "output_type": "execute_result",
          "data": {
            "text/html": [
              "<div>\n",
              "<style scoped>\n",
              "    .dataframe tbody tr th:only-of-type {\n",
              "        vertical-align: middle;\n",
              "    }\n",
              "\n",
              "    .dataframe tbody tr th {\n",
              "        vertical-align: top;\n",
              "    }\n",
              "\n",
              "    .dataframe thead th {\n",
              "        text-align: right;\n",
              "    }\n",
              "</style>\n",
              "<table border=\"1\" class=\"dataframe\">\n",
              "  <thead>\n",
              "    <tr style=\"text-align: right;\">\n",
              "      <th></th>\n",
              "      <th>Country</th>\n",
              "      <th>Age</th>\n",
              "      <th>Salary</th>\n",
              "      <th>Purchased</th>\n",
              "      <th>Price Category Of Purchase</th>\n",
              "    </tr>\n",
              "  </thead>\n",
              "  <tbody>\n",
              "    <tr>\n",
              "      <th>0</th>\n",
              "      <td>France</td>\n",
              "      <td>44.000000</td>\n",
              "      <td>72000.000000</td>\n",
              "      <td>No</td>\n",
              "      <td>1</td>\n",
              "    </tr>\n",
              "    <tr>\n",
              "      <th>1</th>\n",
              "      <td>Spain</td>\n",
              "      <td>27.000000</td>\n",
              "      <td>48000.000000</td>\n",
              "      <td>Yes</td>\n",
              "      <td>1</td>\n",
              "    </tr>\n",
              "    <tr>\n",
              "      <th>2</th>\n",
              "      <td>Germany</td>\n",
              "      <td>30.000000</td>\n",
              "      <td>54000.000000</td>\n",
              "      <td>No</td>\n",
              "      <td>2</td>\n",
              "    </tr>\n",
              "    <tr>\n",
              "      <th>3</th>\n",
              "      <td>Spain</td>\n",
              "      <td>38.000000</td>\n",
              "      <td>61000.000000</td>\n",
              "      <td>No</td>\n",
              "      <td>3</td>\n",
              "    </tr>\n",
              "    <tr>\n",
              "      <th>4</th>\n",
              "      <td>Germany</td>\n",
              "      <td>40.000000</td>\n",
              "      <td>60364.705882</td>\n",
              "      <td>Yes</td>\n",
              "      <td>1</td>\n",
              "    </tr>\n",
              "    <tr>\n",
              "      <th>5</th>\n",
              "      <td>France</td>\n",
              "      <td>35.000000</td>\n",
              "      <td>58000.000000</td>\n",
              "      <td>Yes</td>\n",
              "      <td>2</td>\n",
              "    </tr>\n",
              "    <tr>\n",
              "      <th>6</th>\n",
              "      <td>Spain</td>\n",
              "      <td>34.222222</td>\n",
              "      <td>52000.000000</td>\n",
              "      <td>No</td>\n",
              "      <td>3</td>\n",
              "    </tr>\n",
              "    <tr>\n",
              "      <th>7</th>\n",
              "      <td>France</td>\n",
              "      <td>48.000000</td>\n",
              "      <td>79000.000000</td>\n",
              "      <td>Yes</td>\n",
              "      <td>1</td>\n",
              "    </tr>\n",
              "    <tr>\n",
              "      <th>8</th>\n",
              "      <td>Germany</td>\n",
              "      <td>50.000000</td>\n",
              "      <td>83000.000000</td>\n",
              "      <td>No</td>\n",
              "      <td>2</td>\n",
              "    </tr>\n",
              "    <tr>\n",
              "      <th>9</th>\n",
              "      <td>France</td>\n",
              "      <td>37.000000</td>\n",
              "      <td>67000.000000</td>\n",
              "      <td>Yes</td>\n",
              "      <td>2</td>\n",
              "    </tr>\n",
              "  </tbody>\n",
              "</table>\n",
              "</div>"
            ],
            "text/plain": [
              "   Country        Age        Salary Purchased  Price Category Of Purchase\n",
              "0   France  44.000000  72000.000000        No                           1\n",
              "1    Spain  27.000000  48000.000000       Yes                           1\n",
              "2  Germany  30.000000  54000.000000        No                           2\n",
              "3    Spain  38.000000  61000.000000        No                           3\n",
              "4  Germany  40.000000  60364.705882       Yes                           1\n",
              "5   France  35.000000  58000.000000       Yes                           2\n",
              "6    Spain  34.222222  52000.000000        No                           3\n",
              "7   France  48.000000  79000.000000       Yes                           1\n",
              "8  Germany  50.000000  83000.000000        No                           2\n",
              "9   France  37.000000  67000.000000       Yes                           2"
            ]
          },
          "metadata": {
            "tags": []
          },
          "execution_count": 9
        }
      ]
    },
    {
      "cell_type": "code",
      "metadata": {
        "id": "NM4i6iFUbg0A",
        "colab_type": "code",
        "colab": {}
      },
      "source": [
        "from sklearn.preprocessing import LabelEncoder\n",
        "from sklearn.preprocessing import OneHotEncoder"
      ],
      "execution_count": null,
      "outputs": []
    },
    {
      "cell_type": "code",
      "metadata": {
        "id": "cdQ-qETBggks",
        "colab_type": "code",
        "colab": {
          "base_uri": "https://localhost:8080/",
          "height": 50
        },
        "outputId": "f8f6e168-ab46-484b-ebd4-034e21a50c88"
      },
      "source": [
        "label_encoder = LabelEncoder()\n",
        "country_integer_encoded = label_encoder.fit_transform(np.array(data['Country']))\n",
        "purchased_integer_encoded=label_encoder.fit_transform(np.array(data['Purchased']))\n",
        "print(country_integer_encoded)\n",
        "print(purchased_integer_encoded)"
      ],
      "execution_count": null,
      "outputs": [
        {
          "output_type": "stream",
          "text": [
            "[0 2 1 2 1 0 2 0 1 0 0 1 1 0 0 1 1 1 0 1]\n",
            "[0 1 0 0 1 1 0 1 0 1 0 1 1 0 0 0 1 1 1 0]\n"
          ],
          "name": "stdout"
        }
      ]
    },
    {
      "cell_type": "code",
      "metadata": {
        "id": "w4vuCna8g-wg",
        "colab_type": "code",
        "colab": {}
      },
      "source": [
        "onehot_encoder = OneHotEncoder(sparse=False)\n",
        "country_integer_encoded = country_integer_encoded.reshape(len(country_integer_encoded), 1)\n",
        "purchased_integer_encoded = purchased_integer_encoded.reshape(len(purchased_integer_encoded), 1)\n",
        "country_onehot_encoded = onehot_encoder.fit_transform(country_integer_encoded)\n",
        "purchased_onehot_encoded = onehot_encoder.fit_transform(purchased_integer_encoded)"
      ],
      "execution_count": null,
      "outputs": []
    },
    {
      "cell_type": "code",
      "metadata": {
        "id": "i39MT19chFMQ",
        "colab_type": "code",
        "colab": {
          "base_uri": "https://localhost:8080/",
          "height": 265
        },
        "outputId": "76656e09-3c20-4cf5-ed67-e16b9ef126a0"
      },
      "source": [
        "import matplotlib.pyplot as plt\n",
        "plt.plot(np.array(data['Salary']))\n",
        "plt.show()"
      ],
      "execution_count": null,
      "outputs": [
        {
          "output_type": "display_data",
          "data": {
            "image/png": "[encoded data removed]",
            "text/plain": [
              "<Figure size 432x288 with 1 Axes>"
            ]
          },
          "metadata": {
            "tags": [],
            "needs_background": "light"
          }
        }
      ]
    },
    {
      "cell_type": "code",
      "metadata": {
        "id": "x-azolc4rybL",
        "colab_type": "code",
        "colab": {}
      },
      "source": [
        ""
      ],
      "execution_count": null,
      "outputs": []
    },
    {
      "cell_type": "code",
      "metadata": {
        "id": "6zLup63JtRYx",
        "colab_type": "code",
        "colab": {}
      },
      "source": [
        "data = pd.concat([data,pd.get_dummies(data['Country'], prefix='Country')],axis=1).drop(['Country'],axis=1)"
      ],
      "execution_count": null,
      "outputs": []
    },
    {
      "cell_type": "code",
      "metadata": {
        "id": "eHbnMZo_IYE9",
        "colab_type": "code",
        "colab": {}
      },
      "source": [
        "data=pd.concat([data,pd.get_dummies(data['Purchased'],prefix='Purchased',)],axis=1).drop(['Purchased'],axis=1)"
      ],
      "execution_count": null,
      "outputs": []
    },
    {
      "cell_type": "code",
      "metadata": {
        "id": "_r3YHrt8P1QA",
        "colab_type": "code",
        "colab": {}
      },
      "source": [
        "data=pd.concat([data,pd.get_dummies(data['Price Category Of Purchase'],prefix='Price_Category',)],axis=1).drop(['Price Category Of Purchase'],axis=1)"
      ],
      "execution_count": null,
      "outputs": []
    },
    {
      "cell_type": "code",
      "metadata": {
        "id": "t4nOfsT5RJsi",
        "colab_type": "code",
        "colab": {
          "base_uri": "https://localhost:8080/",
          "height": 659
        },
        "outputId": "0d7a47bd-a585-4cd2-b97f-7af0dbf65e9e"
      },
      "source": [
        "data"
      ],
      "execution_count": null,
      "outputs": [
        {
          "output_type": "execute_result",
          "data": {
            "text/html": [
              "<div>\n",
              "<style scoped>\n",
              "    .dataframe tbody tr th:only-of-type {\n",
              "        vertical-align: middle;\n",
              "    }\n",
              "\n",
              "    .dataframe tbody tr th {\n",
              "        vertical-align: top;\n",
              "    }\n",
              "\n",
              "    .dataframe thead th {\n",
              "        text-align: right;\n",
              "    }\n",
              "</style>\n",
              "<table border=\"1\" class=\"dataframe\">\n",
              "  <thead>\n",
              "    <tr style=\"text-align: right;\">\n",
              "      <th></th>\n",
              "      <th>Age</th>\n",
              "      <th>Salary</th>\n",
              "      <th>Country_France</th>\n",
              "      <th>Country_Germany</th>\n",
              "      <th>Country_Spain</th>\n",
              "      <th>Purchased_No</th>\n",
              "      <th>Purchased_Yes</th>\n",
              "      <th>Price_Category_1</th>\n",
              "      <th>Price_Category_2</th>\n",
              "      <th>Price_Category_3</th>\n",
              "    </tr>\n",
              "  </thead>\n",
              "  <tbody>\n",
              "    <tr>\n",
              "      <th>0</th>\n",
              "      <td>44.000000</td>\n",
              "      <td>72000.000000</td>\n",
              "      <td>1</td>\n",
              "      <td>0</td>\n",
              "      <td>0</td>\n",
              "      <td>1</td>\n",
              "      <td>0</td>\n",
              "      <td>1</td>\n",
              "      <td>0</td>\n",
              "      <td>0</td>\n",
              "    </tr>\n",
              "    <tr>\n",
              "      <th>1</th>\n",
              "      <td>27.000000</td>\n",
              "      <td>48000.000000</td>\n",
              "      <td>0</td>\n",
              "      <td>0</td>\n",
              "      <td>1</td>\n",
              "      <td>0</td>\n",
              "      <td>1</td>\n",
              "      <td>1</td>\n",
              "      <td>0</td>\n",
              "      <td>0</td>\n",
              "    </tr>\n",
              "    <tr>\n",
              "      <th>2</th>\n",
              "      <td>30.000000</td>\n",
              "      <td>54000.000000</td>\n",
              "      <td>0</td>\n",
              "      <td>1</td>\n",
              "      <td>0</td>\n",
              "      <td>1</td>\n",
              "      <td>0</td>\n",
              "      <td>0</td>\n",
              "      <td>1</td>\n",
              "      <td>0</td>\n",
              "    </tr>\n",
              "    <tr>\n",
              "      <th>3</th>\n",
              "      <td>38.000000</td>\n",
              "      <td>61000.000000</td>\n",
              "      <td>0</td>\n",
              "      <td>0</td>\n",
              "      <td>1</td>\n",
              "      <td>1</td>\n",
              "      <td>0</td>\n",
              "      <td>0</td>\n",
              "      <td>0</td>\n",
              "      <td>1</td>\n",
              "    </tr>\n",
              "    <tr>\n",
              "      <th>4</th>\n",
              "      <td>40.000000</td>\n",
              "      <td>60364.705882</td>\n",
              "      <td>0</td>\n",
              "      <td>1</td>\n",
              "      <td>0</td>\n",
              "      <td>0</td>\n",
              "      <td>1</td>\n",
              "      <td>1</td>\n",
              "      <td>0</td>\n",
              "      <td>0</td>\n",
              "    </tr>\n",
              "    <tr>\n",
              "      <th>5</th>\n",
              "      <td>35.000000</td>\n",
              "      <td>58000.000000</td>\n",
              "      <td>1</td>\n",
              "      <td>0</td>\n",
              "      <td>0</td>\n",
              "      <td>0</td>\n",
              "      <td>1</td>\n",
              "      <td>0</td>\n",
              "      <td>1</td>\n",
              "      <td>0</td>\n",
              "    </tr>\n",
              "    <tr>\n",
              "      <th>6</th>\n",
              "      <td>34.222222</td>\n",
              "      <td>52000.000000</td>\n",
              "      <td>0</td>\n",
              "      <td>0</td>\n",
              "      <td>1</td>\n",
              "      <td>1</td>\n",
              "      <td>0</td>\n",
              "      <td>0</td>\n",
              "      <td>0</td>\n",
              "      <td>1</td>\n",
              "    </tr>\n",
              "    <tr>\n",
              "      <th>7</th>\n",
              "      <td>48.000000</td>\n",
              "      <td>79000.000000</td>\n",
              "      <td>1</td>\n",
              "      <td>0</td>\n",
              "      <td>0</td>\n",
              "      <td>0</td>\n",
              "      <td>1</td>\n",
              "      <td>1</td>\n",
              "      <td>0</td>\n",
              "      <td>0</td>\n",
              "    </tr>\n",
              "    <tr>\n",
              "      <th>8</th>\n",
              "      <td>50.000000</td>\n",
              "      <td>83000.000000</td>\n",
              "      <td>0</td>\n",
              "      <td>1</td>\n",
              "      <td>0</td>\n",
              "      <td>1</td>\n",
              "      <td>0</td>\n",
              "      <td>0</td>\n",
              "      <td>1</td>\n",
              "      <td>0</td>\n",
              "    </tr>\n",
              "    <tr>\n",
              "      <th>9</th>\n",
              "      <td>37.000000</td>\n",
              "      <td>67000.000000</td>\n",
              "      <td>1</td>\n",
              "      <td>0</td>\n",
              "      <td>0</td>\n",
              "      <td>0</td>\n",
              "      <td>1</td>\n",
              "      <td>0</td>\n",
              "      <td>1</td>\n",
              "      <td>0</td>\n",
              "    </tr>\n",
              "    <tr>\n",
              "      <th>10</th>\n",
              "      <td>18.000000</td>\n",
              "      <td>54400.000000</td>\n",
              "      <td>1</td>\n",
              "      <td>0</td>\n",
              "      <td>0</td>\n",
              "      <td>1</td>\n",
              "      <td>0</td>\n",
              "      <td>0</td>\n",
              "      <td>0</td>\n",
              "      <td>1</td>\n",
              "    </tr>\n",
              "    <tr>\n",
              "      <th>11</th>\n",
              "      <td>22.000000</td>\n",
              "      <td>55000.000000</td>\n",
              "      <td>0</td>\n",
              "      <td>1</td>\n",
              "      <td>0</td>\n",
              "      <td>0</td>\n",
              "      <td>1</td>\n",
              "      <td>0</td>\n",
              "      <td>0</td>\n",
              "      <td>1</td>\n",
              "    </tr>\n",
              "    <tr>\n",
              "      <th>12</th>\n",
              "      <td>34.222222</td>\n",
              "      <td>58800.000000</td>\n",
              "      <td>0</td>\n",
              "      <td>1</td>\n",
              "      <td>0</td>\n",
              "      <td>0</td>\n",
              "      <td>1</td>\n",
              "      <td>1</td>\n",
              "      <td>0</td>\n",
              "      <td>0</td>\n",
              "    </tr>\n",
              "    <tr>\n",
              "      <th>13</th>\n",
              "      <td>28.000000</td>\n",
              "      <td>42000.000000</td>\n",
              "      <td>1</td>\n",
              "      <td>0</td>\n",
              "      <td>0</td>\n",
              "      <td>1</td>\n",
              "      <td>0</td>\n",
              "      <td>0</td>\n",
              "      <td>0</td>\n",
              "      <td>1</td>\n",
              "    </tr>\n",
              "    <tr>\n",
              "      <th>14</th>\n",
              "      <td>24.000000</td>\n",
              "      <td>41000.000000</td>\n",
              "      <td>1</td>\n",
              "      <td>0</td>\n",
              "      <td>0</td>\n",
              "      <td>1</td>\n",
              "      <td>0</td>\n",
              "      <td>0</td>\n",
              "      <td>1</td>\n",
              "      <td>0</td>\n",
              "    </tr>\n",
              "    <tr>\n",
              "      <th>15</th>\n",
              "      <td>35.000000</td>\n",
              "      <td>69000.000000</td>\n",
              "      <td>0</td>\n",
              "      <td>1</td>\n",
              "      <td>0</td>\n",
              "      <td>1</td>\n",
              "      <td>0</td>\n",
              "      <td>1</td>\n",
              "      <td>0</td>\n",
              "      <td>0</td>\n",
              "    </tr>\n",
              "    <tr>\n",
              "      <th>16</th>\n",
              "      <td>32.000000</td>\n",
              "      <td>67000.000000</td>\n",
              "      <td>0</td>\n",
              "      <td>1</td>\n",
              "      <td>0</td>\n",
              "      <td>0</td>\n",
              "      <td>1</td>\n",
              "      <td>0</td>\n",
              "      <td>0</td>\n",
              "      <td>1</td>\n",
              "    </tr>\n",
              "    <tr>\n",
              "      <th>17</th>\n",
              "      <td>38.000000</td>\n",
              "      <td>65000.000000</td>\n",
              "      <td>0</td>\n",
              "      <td>1</td>\n",
              "      <td>0</td>\n",
              "      <td>0</td>\n",
              "      <td>1</td>\n",
              "      <td>0</td>\n",
              "      <td>0</td>\n",
              "      <td>1</td>\n",
              "    </tr>\n",
              "    <tr>\n",
              "      <th>18</th>\n",
              "      <td>45.000000</td>\n",
              "      <td>60364.705882</td>\n",
              "      <td>1</td>\n",
              "      <td>0</td>\n",
              "      <td>0</td>\n",
              "      <td>0</td>\n",
              "      <td>1</td>\n",
              "      <td>0</td>\n",
              "      <td>1</td>\n",
              "      <td>0</td>\n",
              "    </tr>\n",
              "    <tr>\n",
              "      <th>19</th>\n",
              "      <td>25.000000</td>\n",
              "      <td>60364.705882</td>\n",
              "      <td>0</td>\n",
              "      <td>1</td>\n",
              "      <td>0</td>\n",
              "      <td>1</td>\n",
              "      <td>0</td>\n",
              "      <td>1</td>\n",
              "      <td>0</td>\n",
              "      <td>0</td>\n",
              "    </tr>\n",
              "  </tbody>\n",
              "</table>\n",
              "</div>"
            ],
            "text/plain": [
              "          Age        Salary  ...  Price_Category_2  Price_Category_3\n",
              "0   44.000000  72000.000000  ...                 0                 0\n",
              "1   27.000000  48000.000000  ...                 0                 0\n",
              "2   30.000000  54000.000000  ...                 1                 0\n",
              "3   38.000000  61000.000000  ...                 0                 1\n",
              "4   40.000000  60364.705882  ...                 0                 0\n",
              "5   35.000000  58000.000000  ...                 1                 0\n",
              "6   34.222222  52000.000000  ...                 0                 1\n",
              "7   48.000000  79000.000000  ...                 0                 0\n",
              "8   50.000000  83000.000000  ...                 1                 0\n",
              "9   37.000000  67000.000000  ...                 1                 0\n",
              "10  18.000000  54400.000000  ...                 0                 1\n",
              "11  22.000000  55000.000000  ...                 0                 1\n",
              "12  34.222222  58800.000000  ...                 0                 0\n",
              "13  28.000000  42000.000000  ...                 0                 1\n",
              "14  24.000000  41000.000000  ...                 1                 0\n",
              "15  35.000000  69000.000000  ...                 0                 0\n",
              "16  32.000000  67000.000000  ...                 0                 1\n",
              "17  38.000000  65000.000000  ...                 0                 1\n",
              "18  45.000000  60364.705882  ...                 1                 0\n",
              "19  25.000000  60364.705882  ...                 0                 0\n",
              "\n",
              "[20 rows x 10 columns]"
            ]
          },
          "metadata": {
            "tags": []
          },
          "execution_count": 17
        }
      ]
    },
    {
      "cell_type": "code",
      "metadata": {
        "id": "biQMI5IrR-b3",
        "colab_type": "code",
        "colab": {
          "base_uri": "https://localhost:8080/",
          "height": 50
        },
        "outputId": "1cb05971-7693-47e3-ea31-4a7765877e4f"
      },
      "source": [
        "from sklearn.preprocessing import MinMaxScaler\n",
        "scaler = MinMaxScaler() \n",
        "data_scaled = scaler.fit_transform(data[:2])\n",
        "data_scaled"
      ],
      "execution_count": null,
      "outputs": [
        {
          "output_type": "execute_result",
          "data": {
            "text/plain": [
              "array([[1., 1., 1., 0., 0., 1., 0., 0., 0., 0.],\n",
              "       [0., 0., 0., 0., 1., 0., 1., 0., 0., 0.]])"
            ]
          },
          "metadata": {
            "tags": []
          },
          "execution_count": 28
        }
      ]
    },
    {
      "cell_type": "code",
      "metadata": {
        "id": "hi0IIfCqTrZ6",
        "colab_type": "code",
        "colab": {}
      },
      "source": [
        ""
      ],
      "execution_count": null,
      "outputs": []
    },
    {
      "cell_type": "code",
      "metadata": {
        "id": "w0pG3a4qUg-m",
        "colab_type": "code",
        "colab": {}
      },
      "source": [
        ""
      ],
      "execution_count": null,
      "outputs": []
    },
    {
      "cell_type": "code",
      "metadata": {
        "id": "Bx63RH2DU5eR",
        "colab_type": "code",
        "colab": {
          "base_uri": "https://localhost:8080/",
          "height": 134
        },
        "outputId": "79137564-f5d4-49c5-bb97-566672690fb8"
      },
      "source": [
        "!git clone https://github.com/DeepConnectAI/challenge-week-1.git"
      ],
      "execution_count": null,
      "outputs": [
        {
          "output_type": "stream",
          "text": [
            "Cloning into 'challenge-week-1'...\n",
            "remote: Enumerating objects: 101, done.\u001b[K\n",
            "remote: Counting objects:   0% (1/101)\u001b[K\rremote: Counting objects:   1% (2/101)\u001b[K\rremote: Counting objects:   2% (3/101)\u001b[K\rremote: Counting objects:   3% (4/101)\u001b[K\rremote: Counting objects:   4% (5/101)\u001b[K\rremote: Counting objects:   5% (6/101)\u001b[K\rremote: Counting objects:   6% (7/101)\u001b[K\rremote: Counting objects:   7% (8/101)\u001b[K\rremote: Counting objects:   8% (9/101)\u001b[K\rremote: Counting objects:   9% (10/101)\u001b[K\rremote: Counting objects:  10% (11/101)\u001b[K\rremote: Counting objects:  11% (12/101)\u001b[K\rremote: Counting objects:  12% (13/101)\u001b[K\rremote: Counting objects:  13% (14/101)\u001b[K\rremote: Counting objects:  14% (15/101)\u001b[K\rremote: Counting objects:  15% (16/101)\u001b[K\rremote: Counting objects:  16% (17/101)\u001b[K\rremote: Counting objects:  17% (18/101)\u001b[K\rremote: Counting objects:  18% (19/101)\u001b[K\rremote: Counting objects:  19% (20/101)\u001b[K\rremote: Counting objects:  20% (21/101)\u001b[K\rremote: Counting objects:  21% (22/101)\u001b[K\rremote: Counting objects:  22% (23/101)\u001b[K\rremote: Counting objects:  23% (24/101)\u001b[K\rremote: Counting objects:  24% (25/101)\u001b[K\rremote: Counting objects:  25% (26/101)\u001b[K\rremote: Counting objects:  26% (27/101)\u001b[K\rremote: Counting objects:  27% (28/101)\u001b[K\rremote: Counting objects:  28% (29/101)\u001b[K\rremote: Counting objects:  29% (30/101)\u001b[K\rremote: Counting objects:  30% (31/101)\u001b[K\rremote: Counting objects:  31% (32/101)\u001b[K\rremote: Counting objects:  32% (33/101)\u001b[K\rremote: Counting objects:  33% (34/101)\u001b[K\rremote: Counting objects:  34% (35/101)\u001b[K\rremote: Counting objects:  35% (36/101)\u001b[K\rremote: Counting objects:  36% (37/101)\u001b[K\rremote: Counting objects:  37% (38/101)\u001b[K\rremote: Counting objects:  38% (39/101)\u001b[K\rremote: Counting objects:  39% (40/101)\u001b[K\rremote: Counting objects:  40% (41/101)\u001b[K\rremote: Counting objects:  41% (42/101)\u001b[K\rremote: Counting objects:  42% (43/101)\u001b[K\rremote: Counting objects:  43% (44/101)\u001b[K\rremote: Counting objects:  44% (45/101)\u001b[K\rremote: Counting objects:  45% (46/101)\u001b[K\rremote: Counting objects:  46% (47/101)\u001b[K\rremote: Counting objects:  47% (48/101)\u001b[K\rremote: Counting objects:  48% (49/101)\u001b[K\rremote: Counting objects:  49% (50/101)\u001b[K\rremote: Counting objects:  50% (51/101)\u001b[K\rremote: Counting objects:  51% (52/101)\u001b[K\rremote: Counting objects:  52% (53/101)\u001b[K\rremote: Counting objects:  53% (54/101)\u001b[K\rremote: Counting objects:  54% (55/101)\u001b[K\rremote: Counting objects:  55% (56/101)\u001b[K\rremote: Counting objects:  56% (57/101)\u001b[K\rremote: Counting objects:  57% (58/101)\u001b[K\rremote: Counting objects:  58% (59/101)\u001b[K\rremote: Counting objects:  59% (60/101)\u001b[K\rremote: Counting objects:  60% (61/101)\u001b[K\rremote: Counting objects:  61% (62/101)\u001b[K\rremote: Counting objects:  62% (63/101)\u001b[K\rremote: Counting objects:  63% (64/101)\u001b[K\rremote: Counting objects:  64% (65/101)\u001b[K\rremote: Counting objects:  65% (66/101)\u001b[K\rremote: Counting objects:  66% (67/101)\u001b[K\rremote: Counting objects:  67% (68/101)\u001b[K\rremote: Counting objects:  68% (69/101)\u001b[K\rremote: Counting objects:  69% (70/101)\u001b[K\rremote: Counting objects:  70% (71/101)\u001b[K\rremote: Counting objects:  71% (72/101)\u001b[K\rremote: Counting objects:  72% (73/101)\u001b[K\rremote: Counting objects:  73% (74/101)\u001b[K\rremote: Counting objects:  74% (75/101)\u001b[K\rremote: Counting objects:  75% (76/101)\u001b[K\rremote: Counting objects:  76% (77/101)\u001b[K\rremote: Counting objects:  77% (78/101)\u001b[K\rremote: Counting objects:  78% (79/101)\u001b[K\rremote: Counting objects:  79% (80/101)\u001b[K\rremote: Counting objects:  80% (81/101)\u001b[K\rremote: Counting objects:  81% (82/101)\u001b[K\rremote: Counting objects:  82% (83/101)\u001b[K\rremote: Counting objects:  83% (84/101)\u001b[K\rremote: Counting objects:  84% (85/101)\u001b[K\rremote: Counting objects:  85% (86/101)\u001b[K\rremote: Counting objects:  86% (87/101)\u001b[K\rremote: Counting objects:  87% (88/101)\u001b[K\rremote: Counting objects:  88% (89/101)\u001b[K\rremote: Counting objects:  89% (90/101)\u001b[K\rremote: Counting objects:  90% (91/101)\u001b[K\rremote: Counting objects:  91% (92/101)\u001b[K\rremote: Counting objects:  92% (93/101)\u001b[K\rremote: Counting objects:  93% (94/101)\u001b[K\rremote: Counting objects:  94% (95/101)\u001b[K\rremote: Counting objects:  95% (96/101)\u001b[K\rremote: Counting objects:  96% (97/101)\u001b[K\rremote: Counting objects:  97% (98/101)\u001b[K\rremote: Counting objects:  98% (99/101)\u001b[K\rremote: Counting objects:  99% (100/101)\u001b[K\rremote: Counting objects: 100% (101/101)\u001b[K\rremote: Counting objects: 100% (101/101), done.\u001b[K\n",
            "remote: Compressing objects: 100% (87/87), done.\u001b[K\n",
            "remote: Total 143 (delta 41), reused 43 (delta 13), pack-reused 42\u001b[K\n",
            "Receiving objects: 100% (143/143), 223.33 MiB | 43.99 MiB/s, done.\n",
            "Resolving deltas: 100% (44/44), done.\n"
          ],
          "name": "stdout"
        }
      ]
    },
    {
      "cell_type": "code",
      "metadata": {
        "id": "QqxLEL9xaUCu",
        "colab_type": "code",
        "colab": {
          "base_uri": "https://localhost:8080/",
          "height": 1000
        },
        "outputId": "cd5101d4-fa36-4a2d-a9c2-8b704e750067"
      },
      "source": [
        "import matplotlib.pyplot as plt\n",
        "import cv2\n",
        "from PIL import Image\n",
        "from numpy import asarray\n",
        "\n",
        "i=0\n",
        "\n",
        "for img in os.listdir(path='challenge-week-1/data/rgb_images/'):\n",
        "  image=Image.open(os.path.join('challenge-week-1/data/rgb_images/',img))\n",
        "  image_data=asarray(image)\n",
        "\n",
        "  if(i<5):\n",
        "    i+=1\n",
        "    print(img)\n",
        "    grey_image=cv2.imread(os.path.join('challenge-week-1/data/rgb_images/',img),cv2.IMREAD_GRAYSCALE)\n",
        "    plt.imshow(grey_image,cmap='gray')\n",
        "    plt.show()\n",
        "\n",
        "  if(img=='9.jpeg'):\n",
        "    print(img)\n",
        "    plt.imshow(image)\n",
        "  elif(img=='12.jpeg'):\n",
        "    print(\"Dimension of 12.jpeg\",image_data.shape)\n"
      ],
      "execution_count": null,
      "outputs": [
        {
          "output_type": "stream",
          "text": [
            "10.jpeg\n"
          ],
          "name": "stdout"
        },
        {
          "output_type": "display_data",
          "data": {
            "image/png": "[encoded data removed]",
            "text/plain": [
              "<Figure size 432x288 with 1 Axes>"
            ]
          },
          "metadata": {
            "tags": [],
            "needs_background": "light"
          }
        },
        {
          "output_type": "stream",
          "text": [
            "18.jpeg\n"
          ],
          "name": "stdout"
        },
        {
          "output_type": "display_data",
          "data": {
            "image/png": "[encoded data removed]",
            "text/plain": [
              "<Figure size 432x288 with 1 Axes>"
            ]
          },
          "metadata": {
            "tags": [],
            "needs_background": "light"
          }
        },
        {
          "output_type": "stream",
          "text": [
            "13.jpeg\n"
          ],
          "name": "stdout"
        },
        {
          "output_type": "display_data",
          "data": {
            "image/png": "[encoded data removed]",
            "text/plain": [
              "<Figure size 432x288 with 1 Axes>"
            ]
          },
          "metadata": {
            "tags": [],
            "needs_background": "light"
          }
        },
        {
          "output_type": "stream",
          "text": [
            "6.jpeg\n"
          ],
          "name": "stdout"
        },
        {
          "output_type": "display_data",
          "data": {
            "image/png": "[encoded data removed]",
            "text/plain": [
              "<Figure size 432x288 with 1 Axes>"
            ]
          },
          "metadata": {
            "tags": [],
            "needs_background": "light"
          }
        },
        {
          "output_type": "stream",
          "text": [
            "1.jpeg\n"
          ],
          "name": "stdout"
        },
        {
          "output_type": "display_data",
          "data": {
            "image/png": "[encoded data removed]",
            "text/plain": [
              "<Figure size 432x288 with 1 Axes>"
            ]
          },
          "metadata": {
            "tags": [],
            "needs_background": "light"
          }
        },
        {
          "output_type": "stream",
          "text": [
            "9.jpeg\n",
            "Dimension of 12.jpeg (590, 1280, 3)\n"
          ],
          "name": "stdout"
        },
        {
          "output_type": "display_data",
          "data": {
            "image/png": "[encoded data removed]",
            "text/plain": [
              "<Figure size 432x288 with 1 Axes>"
            ]
          },
          "metadata": {
            "tags": [],
            "needs_background": "light"
          }
        }
      ]
    },
    {
      "cell_type": "code",
      "metadata": {
        "id": "DwcE9jgradCN",
        "colab_type": "code",
        "colab": {
          "base_uri": "https://localhost:8080/",
          "height": 121
        },
        "outputId": "7b10ac23-4003-421b-d60f-6f391b039179"
      },
      "source": [
        "!pip install pydicom"
      ],
      "execution_count": null,
      "outputs": [
        {
          "output_type": "stream",
          "text": [
            "Collecting pydicom\n",
            "\u001b[?25l  Downloading https://files.pythonhosted.org/packages/d3/56/342e1f8ce5afe63bf65c23d0b2c1cd5a05600caad1c211c39725d3a4cc56/pydicom-2.0.0-py3-none-any.whl (35.4MB)\n",
            "\u001b[K     |████████████████████████████████| 35.5MB 68.8MB/s \n",
            "\u001b[?25hInstalling collected packages: pydicom\n",
            "Successfully installed pydicom-2.0.0\n"
          ],
          "name": "stdout"
        }
      ]
    },
    {
      "cell_type": "code",
      "metadata": {
        "id": "DOV9ULErkRuY",
        "colab_type": "code",
        "colab": {}
      },
      "source": [
        "import pydicom\n",
        "import os\n",
        "import pandas as pd\n",
        "import numpy as np\n",
        "import matplotlib.pyplot as plt\n",
        "import cv2\n"
      ],
      "execution_count": null,
      "outputs": []
    },
    {
      "cell_type": "code",
      "metadata": {
        "id": "ksDp955aDeWF",
        "colab_type": "code",
        "colab": {
          "base_uri": "https://localhost:8080/",
          "height": 34
        },
        "outputId": "be029b17-cbdc-40fb-a684-7527e5d2c17d"
      },
      "source": [
        "files=os.listdir('challenge-week-1/data/dicom_images')\n",
        "print(files)\n"
      ],
      "execution_count": null,
      "outputs": [
        {
          "output_type": "stream",
          "text": [
            "['0002.DCM', '0009.DCM', '0003.DCM', '0004.DCM']\n"
          ],
          "name": "stdout"
        }
      ]
    },
    {
      "cell_type": "code",
      "metadata": {
        "id": "X2RnMHLmD7bI",
        "colab_type": "code",
        "colab": {
          "base_uri": "https://localhost:8080/",
          "height": 1000
        },
        "outputId": "3bbec5be-a00a-4561-8c5b-71ca1678f349"
      },
      "source": [
        "dimg=pydicom.dcmread('challenge-week-1/data/dicom_images/0002.DCM')\n",
        "dimg\n"
      ],
      "execution_count": null,
      "outputs": [
        {
          "output_type": "execute_result",
          "data": {
            "text/plain": [
              "Dataset.file_meta -------------------------------\n",
              "(0002, 0000) File Meta Information Group Length  UL: 150\n",
              "(0002, 0001) File Meta Information Version       OB: b'\\x00\\x01'\n",
              "(0002, 0002) Media Storage SOP Class UID         UI: X-Ray Angiographic Image Storage\n",
              "(0002, 0003) Media Storage SOP Instance UID      UI: 1.3.12.2.1107.5.4.3.321890.19960124.162922.29\n",
              "(0002, 0010) Transfer Syntax UID                 UI: JPEG Baseline (Process 1)\n",
              "(0002, 0012) Implementation Class UID            UI: 999.999\n",
              "-------------------------------------------------\n",
              "(0008, 0008) Image Type                          CS: ['DERIVED', 'PRIMARY', 'SINGLE PLANE', 'SINGLE A']\n",
              "(0008, 0016) SOP Class UID                       UI: X-Ray Angiographic Image Storage\n",
              "(0008, 0018) SOP Instance UID                    UI: 1.3.12.2.1107.5.4.3.321890.19960124.162922.29\n",
              "(0008, 0020) Study Date                          DA: '19941013'\n",
              "(0008, 0030) Study Time                          TM: '141917'\n",
              "(0008, 0050) Accession Number                    SH: ''\n",
              "(0008, 0060) Modality                            CS: 'XA'\n",
              "(0008, 0070) Manufacturer                        LO: ''\n",
              "(0008, 0080) Institution Name                    LO: ''\n",
              "(0008, 0081) Institution Address                 ST: ''\n",
              "(0008, 0090) Referring Physician's Name          PN: ''\n",
              "(0008, 1030) Study Description                   LO: ''\n",
              "(0008, 1050) Performing Physician's Name         PN: ''\n",
              "(0008, 2110) Lossy Image Compression (Retired)   CS: '01'\n",
              "(0008, 2112)  Source Image Sequence   1 item(s) ---- \n",
              "   (0008, 1150) Referenced SOP Class UID            UI: X-Ray Angiographic Image Storage\n",
              "   (0008, 1155) Referenced SOP Instance UID         UI: 1.3.12.2.1107.5.4.3.321890.19960124.162922.28\n",
              "   ---------\n",
              "(0009, 0010) Private Creator                     LO: 'CARDIO-SMS 1.0'\n",
              "(0009, 1002) [Private Data]                      OB: Array of 904 elements\n",
              "(0009, 1003) [Private Data]                      OB: Array of 528 elements\n",
              "(0009, 1005) [Private Data]                      OB: Array of 24 elements\n",
              "(0010, 0010) Patient's Name                      PN: 'Rubo DEMO  '\n",
              "(0010, 0020) Patient ID                          LO: '556342B'\n",
              "(0010, 0030) Patient's Birth Date                DA: '19951025'\n",
              "(0010, 0040) Patient's Sex                       CS: 'M'\n",
              "(0018, 0060) KVP                                 DS: None\n",
              "(0018, 1063) Frame Time                          DS: \"33.0\"\n",
              "(0018, 1152) Exposure                            IS: None\n",
              "(0018, 1155) Radiation Setting                   CS: 'GR'\n",
              "(0018, 1500) Positioner Motion                   CS: ''\n",
              "(0018, 1510) Positioner Primary Angle            DS: \"-32.0\"\n",
              "(0018, 1511) Positioner Secondary Angle          DS: \"2.0\"\n",
              "(0019, 0010) Private Creator                     LO: 'CARDIO-D.R. 1.0'\n",
              "(0019, 1030) [Maximum Frame Size]                UL: 262144\n",
              "(0020, 000d) Study Instance UID                  UI: 1.3.12.2.1107.5.4.3.123456789012345.19950922.121803.6\n",
              "(0020, 000e) Series Instance UID                 UI: 1.3.12.2.1107.5.4.3.123456789012345.19950922.121803.8\n",
              "(0020, 0010) Study ID                            SH: ''\n",
              "(0020, 0011) Series Number                       IS: \"1\"\n",
              "(0020, 0013) Instance Number                     IS: None\n",
              "(0020, 0020) Patient Orientation                 CS: ''\n",
              "(0021, 0010) Private Creator                     LO: 'CARDIO-D.R. 1.0'\n",
              "(0021, 1013) [Image Sequence Number]             IS: \"15\"\n",
              "(0028, 0002) Samples per Pixel                   US: 1\n",
              "(0028, 0004) Photometric Interpretation          CS: 'MONOCHROME2'\n",
              "(0028, 0008) Number of Frames                    IS: \"96\"\n",
              "(0028, 0009) Frame Increment Pointer             AT: (0018, 1063)\n",
              "(0028, 0010) Rows                                US: 512\n",
              "(0028, 0011) Columns                             US: 512\n",
              "(0028, 0100) Bits Allocated                      US: 8\n",
              "(0028, 0101) Bits Stored                         US: 8\n",
              "(0028, 0102) High Bit                            US: 7\n",
              "(0028, 0103) Pixel Representation                US: 0\n",
              "(0028, 1040) Pixel Intensity Relationship        CS: 'LIN'\n",
              "(0028, 1090) Recommended Viewing Mode            CS: 'NAT'\n",
              "(0028, 6040) R Wave Pointer                      US: [20, 53, 77]\n",
              "(0028, 6100)  Mask Subtraction Sequence   1 item(s) ---- \n",
              "   (0028, 6101) Mask Operation                      CS: 'NONE'\n",
              "   (0028, 6110) Mask Frame Numbers                  US: 0\n",
              "   ---------\n",
              "(0029, 0010) Private Creator                     LO: 'CARDIO-D.R. 1.0'\n",
              "(0029, 1000)  Private tag data   1 item(s) ---- \n",
              "   (0029, 0010) Private Creator                     LO: 'CARDIO-D.R. 1.0'\n",
              "   (0029, 1001) [Convolution Kernel Size]           US: [5, 5]\n",
              "   (0029, 1002) [Convolution Kernel Coefficients]   US: Array of 25 elements\n",
              "   (0029, 1003) [Edge Enhancement Gain]             FL: 0.5\n",
              "   ---------\n",
              "(5000, 0005) Curve Dimensions                    US: 2\n",
              "(5000, 0010) Number of Points                    US: 3840\n",
              "(5000, 0020) Type of Data                        CS: 'ECG'\n",
              "(5000, 0030) Axis Units                          SH: ['DPPS', 'NONE']\n",
              "(5000, 0103) Data Value Representation           US: 0\n",
              "(5000, 0104) Minimum Coordinate Value            US: None\n",
              "(5000, 0105) Maximum Coordinate Value            US: None\n",
              "(5000, 0106) Curve Range                         US: None\n",
              "(5000, 0110) Curve Data Descriptor               US: [0, 1]\n",
              "(5000, 0112) Coordinate Start Value              US: 0\n",
              "(5000, 0114) Coordinate Step Value               US: 40\n",
              "(5000, 3000) Curve Data                          OW: Array of 7680 elements\n",
              "(7fe0, 0010) Pixel Data                          OB: Array of 1691664 elements"
            ]
          },
          "metadata": {
            "tags": []
          },
          "execution_count": 33
        }
      ]
    },
    {
      "cell_type": "code",
      "metadata": {
        "id": "yiPQTIv4FK0o",
        "colab_type": "code",
        "colab": {}
      },
      "source": [
        "dimg.pixel_array[0,:,:]\n",
        "\n",
        "for i in range(dimg.pixel_array.shape[0]):\n",
        "  dicom_img=dimg.pixel_array[i,:,:]\n",
        "  plt.imshow(dicom_img,cmap=plt.cm.bone)\n",
        "  plt.show()"
      ],
      "execution_count": null,
      "outputs": []
    },
    {
      "cell_type": "code",
      "metadata": {
        "id": "OGUZ0PiCOMoq",
        "colab_type": "code",
        "colab": {
          "base_uri": "https://localhost:8080/",
          "height": 54
        },
        "outputId": "98facacb-2e8f-44d7-b5b4-ec840628a6ec"
      },
      "source": [
        "videos=os.listdir('challenge-week-1/data/videos')\n",
        "print(videos)\n"
      ],
      "execution_count": null,
      "outputs": [
        {
          "output_type": "stream",
          "text": [
            "['VID_13.mp4', 'VID_4.mp4', 'VID_9.mp4', 'VID_11.mp4', 'VID_12.mp4', 'VID_5.mp4', 'VID_2.mp4', 'VID_7.mp4', 'VID_10.mp4', 'VID_6.mp4', 'VID_14.mp4', 'VID_1.mp4', 'VID_3.mp4', 'VID_8.mp4']\n"
          ],
          "name": "stdout"
        }
      ]
    },
    {
      "cell_type": "code",
      "metadata": {
        "id": "raoEyiAWOnUD",
        "colab_type": "code",
        "colab": {
          "base_uri": "https://localhost:8080/",
          "height": 487
        },
        "outputId": "6b7774b6-395f-45a2-b431-96000b394def"
      },
      "source": [
        "z=0\n",
        "for i in videos:\n",
        "  cap=cv2.VideoCapture(os.path.join('challenge-week-1/data/videos/',i))\n",
        "  print(cap)\n",
        "  y = 0\n",
        "    # a variable to set how many frames you want to skip\n",
        "  frame_skip = 10\n",
        "  while cap.isOpened():\n",
        "        ret, frame = cap.read()\n",
        "        if not ret:\n",
        "            break\n",
        "        if y > frame_skip - 1:\n",
        "            # cv2.imwrite('test_'+str(z)+'.jpg', frame)\n",
        "            z+=1\n",
        "            continue\n",
        "        y += 1\n",
        "\n",
        "  cap.release()\n",
        "  print('done')\n",
        "  cv2.destroyAllWindows()"
      ],
      "execution_count": null,
      "outputs": [
        {
          "output_type": "stream",
          "text": [
            "<VideoCapture 0x7f164a81a830>\n",
            "done\n",
            "<VideoCapture 0x7f1653954270>\n",
            "done\n",
            "<VideoCapture 0x7f164a81a6b0>\n",
            "done\n",
            "<VideoCapture 0x7f164a81a830>\n",
            "done\n",
            "<VideoCapture 0x7f1653954270>\n",
            "done\n",
            "<VideoCapture 0x7f164a81a6d0>\n",
            "done\n",
            "<VideoCapture 0x7f1653954270>\n",
            "done\n",
            "<VideoCapture 0x7f164a81a6b0>\n",
            "done\n",
            "<VideoCapture 0x7f164a81a730>\n",
            "done\n",
            "<VideoCapture 0x7f1653954270>\n",
            "done\n",
            "<VideoCapture 0x7f164a81a830>\n",
            "done\n",
            "<VideoCapture 0x7f164a81a6b0>\n",
            "done\n",
            "<VideoCapture 0x7f164a81a730>\n",
            "done\n",
            "<VideoCapture 0x7f164a81a830>\n",
            "done\n"
          ],
          "name": "stdout"
        }
      ]
    },
    {
      "cell_type": "code",
      "metadata": {
        "id": "1cEyroSRPiSu",
        "colab_type": "code",
        "colab": {
          "base_uri": "https://localhost:8080/",
          "height": 840
        },
        "outputId": "1249719e-17cb-4b17-fbd5-fa09dde36e26"
      },
      "source": [
        "vid=cv2.VideoCapture('challenge-week-1/data/videos/VID_2.mp4')\n",
        "vid.set(1,4)\n",
        "print(vid.read())"
      ],
      "execution_count": null,
      "outputs": [
        {
          "output_type": "stream",
          "text": [
            "(True, array([[[15, 11, 12],\n",
            "        [15, 11, 12],\n",
            "        [15, 11, 12],\n",
            "        ...,\n",
            "        [39, 51, 42],\n",
            "        [35, 47, 38],\n",
            "        [30, 42, 33]],\n",
            "\n",
            "       [[15, 11, 12],\n",
            "        [15, 11, 12],\n",
            "        [15, 11, 12],\n",
            "        ...,\n",
            "        [40, 52, 43],\n",
            "        [36, 48, 39],\n",
            "        [31, 43, 34]],\n",
            "\n",
            "       [[15, 11, 12],\n",
            "        [15, 11, 12],\n",
            "        [15, 11, 12],\n",
            "        ...,\n",
            "        [41, 53, 44],\n",
            "        [38, 50, 41],\n",
            "        [33, 45, 36]],\n",
            "\n",
            "       ...,\n",
            "\n",
            "       [[15, 11, 10],\n",
            "        [15, 11, 10],\n",
            "        [15, 11, 10],\n",
            "        ...,\n",
            "        [27, 33, 26],\n",
            "        [26, 32, 25],\n",
            "        [27, 33, 26]],\n",
            "\n",
            "       [[14, 10,  9],\n",
            "        [14, 10,  9],\n",
            "        [14, 10,  9],\n",
            "        ...,\n",
            "        [28, 34, 27],\n",
            "        [31, 37, 30],\n",
            "        [34, 40, 33]],\n",
            "\n",
            "       [[14, 10,  9],\n",
            "        [14, 10,  9],\n",
            "        [14, 10,  9],\n",
            "        ...,\n",
            "        [29, 35, 28],\n",
            "        [31, 37, 30],\n",
            "        [35, 41, 34]]], dtype=uint8))\n"
          ],
          "name": "stdout"
        }
      ]
    },
    {
      "cell_type": "code",
      "metadata": {
        "id": "v0mdLHuhvvUw",
        "colab_type": "code",
        "colab": {}
      },
      "source": [
        ""
      ],
      "execution_count": null,
      "outputs": []
    }
  ]
}