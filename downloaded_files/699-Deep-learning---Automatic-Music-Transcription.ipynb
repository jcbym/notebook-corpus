{
  "nbformat": 4,
  "nbformat_minor": 2,
  "metadata": {
    "accelerator": "GPU",
    "colab": {
      "name": "Model1-MEL.ipynb",
      "provenance": [],
      "collapsed_sections": [],
      "machine_shape": "hm"
    },
    "kernelspec": {
      "display_name": "Python 3",
      "name": "python3"
    },
    "language_info": {
      "name": "python"
    }
  },
  "cells": [
    {
      "cell_type": "code",
      "execution_count": null,
      "source": [
        "# Import the Libraries : \r\n",
        "import tensorflow as tf\r\n",
        "from tensorflow.keras import Sequential\r\n",
        "from tensorflow.keras import Input\r\n",
        "import numpy as np\r\n",
        "import pandas as pd\r\n",
        "import os\r\n",
        "import keras\r\n",
        "from keras.layers import Conv2D, MaxPool2D, add,Dropout,Dense,Flatten\r\n",
        "from keras.layers.normalization import BatchNormalization\r\n",
        "from keras.optimizers import Adam\r\n",
        "from keras.callbacks import EarlyStopping, Callback\r\n",
        "\r\n",
        "import sklearn\r\n",
        "from sklearn.metrics import precision_recall_fscore_support\r\n",
        "from numpy import save"
      ],
      "outputs": [],
      "metadata": {
        "id": "T2pxbSvIWF_H"
      }
    },
    {
      "cell_type": "code",
      "execution_count": null,
      "source": [
        "# Load the data set to the Google drive \r\n",
        "from google.colab import drive\r\n",
        "drive.mount('/content/drive')"
      ],
      "outputs": [
        {
          "output_type": "stream",
          "name": "stdout",
          "text": [
            "Mounted at /content/drive\n"
          ]
        }
      ],
      "metadata": {
        "colab": {
          "base_uri": "https://localhost:8080/"
        },
        "id": "uC9E_DAojOQp",
        "outputId": "1bed6b4c-b5fb-4855-d8cd-bf67a849a587"
      }
    },
    {
      "cell_type": "code",
      "execution_count": null,
      "source": [
        "# we pass the data set into different pakages\r\n",
        "mini_batch_size = 700"
      ],
      "outputs": [],
      "metadata": {
        "id": "vwl1bjNLyQhc"
      }
    },
    {
      "cell_type": "code",
      "execution_count": null,
      "source": [
        "y_train=np.load('/content/drive/MyDrive/train/Y_final_MEL_train.npy',mmap_mode= 'r')\n",
        "print(y_train.shape)"
      ],
      "outputs": [
        {
          "output_type": "stream",
          "name": "stdout",
          "text": [
            "(13253, 100, 1, 88)\n"
          ]
        }
      ],
      "metadata": {
        "colab": {
          "base_uri": "https://localhost:8080/"
        },
        "id": "dehBhwF_4_ua",
        "outputId": "4f090c2b-015d-45da-bbd7-30ea11052502"
      }
    },
    {
      "cell_type": "code",
      "execution_count": null,
      "source": [
        "X_train=np.load('/content/drive/MyDrive/train/X_final_MEL_train.npy',mmap_mode= 'r')\n",
        "print(X_train.shape)"
      ],
      "outputs": [
        {
          "output_type": "stream",
          "name": "stdout",
          "text": [
            "(13253, 100, 1, 252)\n"
          ]
        }
      ],
      "metadata": {
        "id": "-dcWsIXb5EdG",
        "colab": {
          "base_uri": "https://localhost:8080/"
        },
        "outputId": "1cb3f190-2fd0-49de-d888-c8eabc711820"
      }
    },
    {
      "cell_type": "code",
      "execution_count": null,
      "source": [
        "X_validation=np.load('/content/drive/MyDrive/MEL-val/X_final_MEL_val.npy',mmap_mode= 'r')\n",
        "print(X_validation.shape)"
      ],
      "outputs": [
        {
          "output_type": "stream",
          "name": "stdout",
          "text": [
            "(2953, 100, 1, 252)\n"
          ]
        }
      ],
      "metadata": {
        "id": "3RWS8wCXEvBt",
        "colab": {
          "base_uri": "https://localhost:8080/"
        },
        "outputId": "ea8f9df4-2c52-4622-dd24-7a36a307e170"
      }
    },
    {
      "cell_type": "code",
      "execution_count": null,
      "source": [
        "y_validation=np.load('/content/drive/MyDrive/MEL-val/Y_final_MEL_val.npy',mmap_mode= 'r')\n",
        "print(y_validation.shape)"
      ],
      "outputs": [
        {
          "output_type": "stream",
          "name": "stdout",
          "text": [
            "(2953, 100, 1, 88)\n"
          ]
        }
      ],
      "metadata": {
        "id": "K31otmFkE7Oa",
        "colab": {
          "base_uri": "https://localhost:8080/"
        },
        "outputId": "7ee893fe-a5f2-45a4-e978-53d0f91f9745"
      }
    },
    {
      "cell_type": "code",
      "execution_count": null,
      "source": [
        "X_test=np.load('/content/drive/MyDrive/MEL-val/X_final_MEL_val.npy',mmap_mode= 'r')\n",
        "print(X_test.shape)"
      ],
      "outputs": [
        {
          "output_type": "stream",
          "name": "stdout",
          "text": [
            "(2953, 100, 1, 252)\n"
          ]
        }
      ],
      "metadata": {
        "id": "Gx9-U5NdIuIw",
        "colab": {
          "base_uri": "https://localhost:8080/"
        },
        "outputId": "c0105647-2857-49c3-e775-bf2db0973fea"
      }
    },
    {
      "cell_type": "code",
      "execution_count": null,
      "source": [
        "y_test=np.load('/content/drive/MyDrive/MEL-val/Y_final_MEL_val.npy',mmap_mode= 'r')\n",
        "print(y_test.shape)"
      ],
      "outputs": [
        {
          "output_type": "stream",
          "name": "stdout",
          "text": [
            "(2953, 100, 1, 88)\n"
          ]
        }
      ],
      "metadata": {
        "id": "ObiNX-zkIvA0",
        "colab": {
          "base_uri": "https://localhost:8080/"
        },
        "outputId": "afad7a6c-efa7-49ae-f46b-3e35bd5589f2"
      }
    },
    {
      "cell_type": "code",
      "execution_count": null,
      "source": [
        "# X_train = np.expand_dims(X_train,axis=-2)\n",
        "# y_train= np.expand_dims(y_train,axis=-2) "
      ],
      "outputs": [],
      "metadata": {
        "id": "USnZjnT0FRtM"
      }
    },
    {
      "cell_type": "code",
      "execution_count": null,
      "source": [
        "# X_validation = np.expand_dims(X_validation,axis=-2)\n",
        "# y_validation= np.expand_dims(y_validation,axis=-2) "
      ],
      "outputs": [],
      "metadata": {
        "id": "DIha_y0gFvUT"
      }
    },
    {
      "cell_type": "code",
      "execution_count": null,
      "source": [
        "# print(y_train.shape)\n",
        "# print(X_train.shape)\n",
        "# print(X_validation.shape)\n",
        "# print(y_validation.shape)"
      ],
      "outputs": [],
      "metadata": {
        "id": "FkGZziJEF8eZ"
      }
    },
    {
      "cell_type": "code",
      "execution_count": null,
      "source": [
        "# X=X[:Y.shape[0],:]\n",
        "# print(X.shape)"
      ],
      "outputs": [],
      "metadata": {
        "id": "gl5WAdtVdQ7q"
      }
    },
    {
      "cell_type": "code",
      "execution_count": null,
      "source": [
        "# # Dividing the data in train, test and validation\n",
        "# # 20% data in test_size , 20% in validation_set and rest in test_set\n",
        "# from sklearn.model_selection import train_test_split\n",
        "# test_size = 0.2\n",
        "# validation_size = 0.2\n",
        "\n",
        "# #train test split\n",
        "# X_train, X_test, y_train, y_test = train_test_split(X,y,test_size=test_size)\n",
        "    \n",
        "# # create train validation split\n",
        "# X_train, X_validation, y_train, y_validation = train_test_split(X_train, y_train, test_size=validation_size)"
      ],
      "outputs": [],
      "metadata": {
        "id": "HnTRxph_j0au"
      }
    },
    {
      "cell_type": "code",
      "execution_count": null,
      "source": [
        "# print(X.shape)\n",
        "# print(Y.shape)"
      ],
      "outputs": [],
      "metadata": {
        "id": "W8EkumxNQT9g"
      }
    },
    {
      "cell_type": "code",
      "execution_count": null,
      "source": [
        "# The X_train is converted to 4 dimension with a mini_batch size of 400 \n",
        "X_train = X_train[:int(X_train.shape[0]/mini_batch_size)*mini_batch_size,:]\n",
        "print(X_train.shape)"
      ],
      "outputs": [
        {
          "output_type": "stream",
          "name": "stdout",
          "text": [
            "(12600, 100, 1, 252)\n"
          ]
        }
      ],
      "metadata": {
        "id": "8WHpSdposTkJ",
        "colab": {
          "base_uri": "https://localhost:8080/"
        },
        "outputId": "7070711b-933a-48a7-e8be-d20a28d24dbb"
      }
    },
    {
      "cell_type": "code",
      "execution_count": null,
      "source": [
        "# The Y_train is converted to 4 dimension with a mini_batch size of 400 similar to X_train\r\n",
        "y_train = y_train[:int(y_train.shape[0]/mini_batch_size)*mini_batch_size,:]\r\n",
        "print(y_train.shape)"
      ],
      "outputs": [
        {
          "output_type": "stream",
          "name": "stdout",
          "text": [
            "(12600, 100, 1, 88)\n"
          ]
        }
      ],
      "metadata": {
        "id": "xKiU1ADOsUbB",
        "colab": {
          "base_uri": "https://localhost:8080/"
        },
        "outputId": "467e85ae-5ebc-45c2-ee30-8c43ef31920f"
      }
    },
    {
      "cell_type": "code",
      "execution_count": null,
      "source": [
        "X_validation = X_validation[:int(X_validation.shape[0]/mini_batch_size)*mini_batch_size,:]\r\n",
        "print(X_validation.shape)"
      ],
      "outputs": [
        {
          "output_type": "stream",
          "name": "stdout",
          "text": [
            "(2800, 100, 1, 252)\n"
          ]
        }
      ],
      "metadata": {
        "id": "Zi7nsfBMaKWh",
        "colab": {
          "base_uri": "https://localhost:8080/"
        },
        "outputId": "ed3edd6b-c757-4c8c-a2b7-f5d8cae88bfa"
      }
    },
    {
      "cell_type": "code",
      "execution_count": null,
      "source": [
        "y_validation = y_validation[:int(y_validation.shape[0]/mini_batch_size)*mini_batch_size,:]\r\n",
        "print(y_validation.shape)"
      ],
      "outputs": [
        {
          "output_type": "stream",
          "name": "stdout",
          "text": [
            "(2800, 100, 1, 88)\n"
          ]
        }
      ],
      "metadata": {
        "id": "7GzAnhXxaV0e",
        "colab": {
          "base_uri": "https://localhost:8080/"
        },
        "outputId": "7315acbb-a632-45d1-f45d-cc93aa937325"
      }
    },
    {
      "cell_type": "code",
      "execution_count": null,
      "source": [
        "# Shapes of both X_train and y_train)\r\n",
        "print(X_train.shape)\r\n",
        "print(y_train.shape)"
      ],
      "outputs": [
        {
          "output_type": "stream",
          "name": "stdout",
          "text": [
            "(12600, 100, 1, 252)\n",
            "(12600, 100, 1, 88)\n"
          ]
        }
      ],
      "metadata": {
        "id": "_z5TfRCPkA_t",
        "colab": {
          "base_uri": "https://localhost:8080/"
        },
        "outputId": "7f50d43a-c82d-45bc-a85e-dc5307d716df"
      }
    },
    {
      "cell_type": "code",
      "execution_count": null,
      "source": [
        "# shape of validation set :\r\n",
        "print(X_validation.shape)\r\n",
        "print(y_validation.shape)"
      ],
      "outputs": [
        {
          "output_type": "stream",
          "name": "stdout",
          "text": [
            "(2800, 100, 1, 252)\n",
            "(2800, 100, 1, 88)\n"
          ]
        }
      ],
      "metadata": {
        "id": "zwtDTlgaJEAn",
        "colab": {
          "base_uri": "https://localhost:8080/"
        },
        "outputId": "34e297e7-b7eb-479f-c283-1aa641ab06b1"
      }
    },
    {
      "cell_type": "code",
      "execution_count": null,
      "source": [
        "# preparing test and validation data\r\n",
        "train_data = tf.data.Dataset.from_tensor_slices((X_train,y_train))\r\n",
        "train_data = train_data.batch(mini_batch_size)\r\n",
        "\r\n",
        "validation_data = tf.data.Dataset.from_tensor_slices((X_validation,y_validation))\r\n",
        "validation_data = validation_data.batch(mini_batch_size)"
      ],
      "outputs": [],
      "metadata": {
        "id": "HdwSG7TUj5tw"
      }
    },
    {
      "cell_type": "code",
      "execution_count": null,
      "source": [
        "# parameters for the layers of neural network \r\n",
        "window_size=7\r\n",
        "min_midi = 21\r\n",
        "max_midi = 108\r\n",
        "note_range = max_midi - min_midi + 1"
      ],
      "outputs": [],
      "metadata": {
        "id": "HlRDYMOXvBB8"
      }
    },
    {
      "cell_type": "code",
      "execution_count": null,
      "source": [
        "# layers of Model \r\n",
        "input_shape=(None,100,1,252) #number of samples\r\n",
        "model=Sequential()\r\n",
        "\r\n",
        "# 1st Layer \r\n",
        "model.add(Conv2D(filters=32, kernel_size=(5,4),padding=\"same\", activation='relu', input_shape=input_shape))\r\n",
        "model.add(BatchNormalization())\r\n",
        "model.add(Dropout(rate=0.2))\r\n",
        "\r\n",
        "# 2nd Layer \r\n",
        "model.add(Conv2D(filters=32, kernel_size=(3, 3),padding=\"same\", activation='relu'))\r\n",
        "model.add(BatchNormalization())\r\n",
        "model.add(Dropout(rate=0.2))\r\n",
        "model.add(MaxPool2D(pool_size=(1, 2),padding=\"same\"))\r\n",
        "\r\n",
        "#stage3\r\n",
        "model.add(Dense(1000, activation='relu'))\r\n",
        "model.add(BatchNormalization())\r\n",
        "model.add(Dropout(rate=0.5))\r\n",
        "\r\n",
        "# 4th Layer \r\n",
        "model.add(Dense(200, activation='relu'))\r\n",
        "model.add(BatchNormalization())\r\n",
        "model.add(Dropout(rate=0.5))\r\n",
        "\r\n",
        "# Output Layer\r\n",
        "model.add(Dense(88, activation='sigmoid'))"
      ],
      "outputs": [],
      "metadata": {
        "id": "B6YkMthtTE4i"
      }
    },
    {
      "cell_type": "code",
      "execution_count": null,
      "source": [
        "# Code for the Accuracy of the Model \r\n",
        "class AccuracyHistory(tf.keras.callbacks.Callback):\r\n",
        "    def on_train_begin(self, logs={}):\r\n",
        "        self.acc = []\r\n",
        "\r\n",
        "    def on_epoch_end(self, batch, logs={}):\r\n",
        "        self.acc.append(logs.get('acc'))"
      ],
      "outputs": [],
      "metadata": {
        "id": "eYyqPWpNbxhF"
      }
    },
    {
      "cell_type": "code",
      "execution_count": null,
      "source": [
        "# Calculating the accuracy of the model using adam as optimizer and the learning rate is 0.001\n",
        "optimizer1 = Adam(learning_rate=0.001)\n",
        "model.compile(loss='binary_crossentropy', optimizer= optimizer1, metrics=['accuracy'])\n",
        "history = AccuracyHistory()\n",
        "\n",
        "# checkpoint = ModelCheckpoint(model_ckpt,monitor='val_loss',verbose=1,save_best_only=True,mode='min')\n",
        "# early_stop = EarlyStopping(patience=10, monitor='val_loss',verbose=1, mode='min')\n",
        "callbacks = [history]"
      ],
      "outputs": [],
      "metadata": {
        "id": "bhVKImwVbo_2"
      }
    },
    {
      "cell_type": "code",
      "execution_count": null,
      "source": [
        "history=model.fit(train_data,epochs=30,batch_size=mini_batch_size,validation_data=validation_data, verbose = 1, callbacks=callbacks)"
      ],
      "outputs": [
        {
          "output_type": "stream",
          "name": "stdout",
          "text": [
            "Epoch 1/30\n",
            "18/18 [==============================] - 171s 8s/step - loss: 0.1743 - accuracy: 0.0418 - val_loss: 0.1752 - val_accuracy: 0.0386\n",
            "Epoch 2/30\n",
            "18/18 [==============================] - 140s 8s/step - loss: 0.1724 - accuracy: 0.0441 - val_loss: 0.1740 - val_accuracy: 0.0360\n",
            "Epoch 3/30\n",
            "18/18 [==============================] - 130s 7s/step - loss: 0.1704 - accuracy: 0.0466 - val_loss: 0.1726 - val_accuracy: 0.0360\n",
            "Epoch 4/30\n",
            "18/18 [==============================] - 131s 7s/step - loss: 0.1688 - accuracy: 0.0500 - val_loss: 0.1711 - val_accuracy: 0.0472\n",
            "Epoch 5/30\n",
            "18/18 [==============================] - 130s 7s/step - loss: 0.1673 - accuracy: 0.0534 - val_loss: 0.1696 - val_accuracy: 0.0527\n",
            "Epoch 6/30\n",
            "18/18 [==============================] - 134s 7s/step - loss: 0.1655 - accuracy: 0.0571 - val_loss: 0.1690 - val_accuracy: 0.0469\n",
            "Epoch 7/30\n",
            "18/18 [==============================] - 136s 8s/step - loss: 0.1640 - accuracy: 0.0614 - val_loss: 0.1681 - val_accuracy: 0.0534\n",
            "Epoch 8/30\n",
            "18/18 [==============================] - 130s 7s/step - loss: 0.1626 - accuracy: 0.0655 - val_loss: 0.1674 - val_accuracy: 0.0495\n",
            "Epoch 9/30\n",
            "18/18 [==============================] - 130s 7s/step - loss: 0.1611 - accuracy: 0.0691 - val_loss: 0.1667 - val_accuracy: 0.0555\n",
            "Epoch 10/30\n",
            "18/18 [==============================] - 132s 7s/step - loss: 0.1600 - accuracy: 0.0708 - val_loss: 0.1669 - val_accuracy: 0.0525\n",
            "Epoch 11/30\n",
            "18/18 [==============================] - 138s 8s/step - loss: 0.1588 - accuracy: 0.0724 - val_loss: 0.1642 - val_accuracy: 0.0559\n",
            "Epoch 12/30\n",
            "18/18 [==============================] - 129s 7s/step - loss: 0.1580 - accuracy: 0.0738 - val_loss: 0.1619 - val_accuracy: 0.0597\n",
            "Epoch 13/30\n",
            "18/18 [==============================] - 129s 7s/step - loss: 0.1572 - accuracy: 0.0746 - val_loss: 0.1582 - val_accuracy: 0.0713\n",
            "Epoch 14/30\n",
            "18/18 [==============================] - 129s 7s/step - loss: 0.1566 - accuracy: 0.0763 - val_loss: 0.1570 - val_accuracy: 0.0732\n",
            "Epoch 15/30\n",
            "18/18 [==============================] - 125s 7s/step - loss: 0.1560 - accuracy: 0.0770 - val_loss: 0.1566 - val_accuracy: 0.0722\n",
            "Epoch 16/30\n",
            "18/18 [==============================] - 142s 8s/step - loss: 0.1555 - accuracy: 0.0783 - val_loss: 0.1563 - val_accuracy: 0.0716\n",
            "Epoch 17/30\n",
            "18/18 [==============================] - 134s 7s/step - loss: 0.1551 - accuracy: 0.0795 - val_loss: 0.1542 - val_accuracy: 0.0695\n",
            "Epoch 18/30\n",
            "18/18 [==============================] - 132s 7s/step - loss: 0.1546 - accuracy: 0.0807 - val_loss: 0.1559 - val_accuracy: 0.0649\n",
            "Epoch 19/30\n",
            "18/18 [==============================] - 132s 7s/step - loss: 0.1543 - accuracy: 0.0817 - val_loss: 0.1548 - val_accuracy: 0.0658\n",
            "Epoch 20/30\n",
            "18/18 [==============================] - 139s 8s/step - loss: 0.1539 - accuracy: 0.0823 - val_loss: 0.1548 - val_accuracy: 0.0692\n",
            "Epoch 21/30\n",
            "18/18 [==============================] - 133s 7s/step - loss: 0.1534 - accuracy: 0.0832 - val_loss: 0.1530 - val_accuracy: 0.0717\n",
            "Epoch 22/30\n",
            "18/18 [==============================] - 133s 7s/step - loss: 0.1533 - accuracy: 0.0845 - val_loss: 0.1540 - val_accuracy: 0.0706\n",
            "Epoch 23/30\n",
            "18/18 [==============================] - 135s 8s/step - loss: 0.1530 - accuracy: 0.0844 - val_loss: 0.1511 - val_accuracy: 0.0715\n",
            "Epoch 24/30\n",
            "18/18 [==============================] - 144s 8s/step - loss: 0.1527 - accuracy: 0.0851 - val_loss: 0.1525 - val_accuracy: 0.0684\n",
            "Epoch 25/30\n",
            "18/18 [==============================] - 134s 7s/step - loss: 0.1523 - accuracy: 0.0856 - val_loss: 0.1489 - val_accuracy: 0.0730\n",
            "Epoch 26/30\n",
            "18/18 [==============================] - 135s 7s/step - loss: 0.1523 - accuracy: 0.0864 - val_loss: 0.1498 - val_accuracy: 0.0707\n",
            "Epoch 27/30\n",
            "18/18 [==============================] - 128s 7s/step - loss: 0.1521 - accuracy: 0.0869 - val_loss: 0.1495 - val_accuracy: 0.0638\n",
            "Epoch 28/30\n",
            "18/18 [==============================] - 130s 7s/step - loss: 0.1517 - accuracy: 0.0878 - val_loss: 0.1512 - val_accuracy: 0.0623\n",
            "Epoch 29/30\n",
            "18/18 [==============================] - 137s 8s/step - loss: 0.1516 - accuracy: 0.0877 - val_loss: 0.1497 - val_accuracy: 0.0645\n",
            "Epoch 30/30\n",
            "17/18 [===========================>..] - ETA: 6s - loss: 0.1517 - accuracy: 0.0864 "
          ]
        }
      ],
      "metadata": {
        "id": "-r-7rgbykCNm",
        "colab": {
          "base_uri": "https://localhost:8080/"
        },
        "outputId": "8d932675-7d3a-4ff8-cbc6-55188dc238b5"
      }
    },
    {
      "cell_type": "code",
      "execution_count": null,
      "source": [
        "from matplotlib import pyplot as plt\r\n",
        "plt.plot(history.history['accuracy'])\r\n",
        "plt.plot(history.history['val_accuracy'])\r\n",
        "plt.title('model accuracy')\r\n",
        "plt.ylabel('accuracy')\r\n",
        "plt.xlabel('epoch')\r\n",
        "plt.legend(['train', 'val'], loc='upper left')\r\n",
        "plt.show()"
      ],
      "outputs": [
        {
          "output_type": "display_data",
          "data": {
            "text/plain": [
              "<Figure size 432x288 with 1 Axes>"
            ],
            "image/png": "[encoded data removed]"
          },
          "metadata": {
            "tags": [],
            "needs_background": "light"
          }
        }
      ],
      "metadata": {
        "colab": {
          "base_uri": "https://localhost:8080/",
          "height": 295
        },
        "id": "xPLUO8SeYcoR",
        "outputId": "7748cc94-8d44-4d34-dd22-ea2b6c0c6304"
      }
    },
    {
      "cell_type": "code",
      "execution_count": null,
      "source": [
        "plt.plot(history.history['loss'])\r\n",
        "plt.plot(history.history['val_loss'])\r\n",
        "plt.title('model loss')\r\n",
        "plt.ylabel('loss')\r\n",
        "plt.xlabel('epoch')\r\n",
        "plt.legend(['train', 'val'], loc='upper left')\r\n",
        "plt.show()"
      ],
      "outputs": [
        {
          "output_type": "display_data",
          "data": {
            "text/plain": [
              "<Figure size 432x288 with 1 Axes>"
            ],
            "image/png": "[encoded data removed]"
          },
          "metadata": {
            "tags": [],
            "needs_background": "light"
          }
        }
      ],
      "metadata": {
        "colab": {
          "base_uri": "https://localhost:8080/",
          "height": 295
        },
        "id": "GhGSwAqcYdYl",
        "outputId": "8a165ed0-9345-431c-e4c7-9981e7e76db2"
      }
    },
    {
      "cell_type": "code",
      "execution_count": null,
      "source": [
        "# Summary of the Model and dimension of different layers\r\n",
        "model.summary()"
      ],
      "outputs": [
        {
          "output_type": "stream",
          "name": "stdout",
          "text": [
            "Model: \"sequential\"\n",
            "_________________________________________________________________\n",
            "Layer (type)                 Output Shape              Param #   \n",
            "=================================================================\n",
            "module_wrapper (ModuleWrappe (None, 100, 1, 32)        161312    \n",
            "_________________________________________________________________\n",
            "module_wrapper_1 (ModuleWrap (None, 100, 1, 32)        128       \n",
            "_________________________________________________________________\n",
            "module_wrapper_2 (ModuleWrap (None, 100, 1, 32)        0         \n",
            "_________________________________________________________________\n",
            "module_wrapper_3 (ModuleWrap (None, 100, 1, 32)        9248      \n",
            "_________________________________________________________________\n",
            "module_wrapper_4 (ModuleWrap (None, 100, 1, 32)        128       \n",
            "_________________________________________________________________\n",
            "module_wrapper_5 (ModuleWrap (None, 100, 1, 32)        0         \n",
            "_________________________________________________________________\n",
            "module_wrapper_6 (ModuleWrap multiple                  0         \n",
            "_________________________________________________________________\n",
            "module_wrapper_7 (ModuleWrap multiple                  33000     \n",
            "_________________________________________________________________\n",
            "module_wrapper_8 (ModuleWrap multiple                  4000      \n",
            "_________________________________________________________________\n",
            "module_wrapper_9 (ModuleWrap multiple                  0         \n",
            "_________________________________________________________________\n",
            "module_wrapper_10 (ModuleWra multiple                  200200    \n",
            "_________________________________________________________________\n",
            "module_wrapper_11 (ModuleWra multiple                  800       \n",
            "_________________________________________________________________\n",
            "module_wrapper_12 (ModuleWra multiple                  0         \n",
            "_________________________________________________________________\n",
            "module_wrapper_13 (ModuleWra multiple                  17688     \n",
            "=================================================================\n",
            "Total params: 426,504\n",
            "Trainable params: 423,976\n",
            "Non-trainable params: 2,528\n",
            "_________________________________________________________________\n"
          ]
        }
      ],
      "metadata": {
        "id": "q-ON-d7okDY6",
        "colab": {
          "base_uri": "https://localhost:8080/"
        },
        "outputId": "63dd7152-ad66-42ea-879f-b7c9694d6638"
      }
    },
    {
      "cell_type": "code",
      "execution_count": null,
      "source": [
        "def opt_thresholds(y_true,y_scores):\r\n",
        "    othresholds = np.zeros(y_scores.shape[1])\r\n",
        "    print(othresholds.shape)\r\n",
        "    for label, (label_scores, true_bin) in enumerate(zip(y_scores.T,y_true.T)):\r\n",
        "        # print(type_of_target(y_test))\r\n",
        "        precision, recall, thresholds = sklearn.metrics.precision_recall_curve(true_bin, label_scores)\r\n",
        "        max_f1 = 0\r\n",
        "        max_f1_threshold = .5\r\n",
        "        for r, p, t in zip(recall, precision, thresholds):\r\n",
        "            if p + r == 0: continue\r\n",
        "            if (2*p*r)/(p + r) > max_f1:\r\n",
        "                max_f1 = (2*p*r)/(p + r)\r\n",
        "                max_f1_threshold = t\r\n",
        "        # print(\"label %f: max_f1_threshold %f => max_f1 %f\" %(label, max_f1_threshold, max_f1))\r\n",
        "        othresholds[label] = max_f1_threshold\r\n",
        "    return othresholds"
      ],
      "outputs": [],
      "metadata": {
        "id": "VJRwmCAU6uEd"
      }
    },
    {
      "cell_type": "code",
      "execution_count": null,
      "source": [
        "x, y_true=X_validation, y_validation\r\n",
        "y_scores=model.predict(x)\r\n",
        "y_scores=np.reshape(y_scores, (280000, 88))\r\n",
        "y_validation=np.reshape(y_validation, (280000, 88))\r\n",
        "thresholds = opt_thresholds(y_true,y_scores)\r\n",
        "\r\n",
        "#evaludate this over validation data\r\n",
        "y_pred = y_scores > thresholds\r\n",
        "#precision, recall, fbetascore, support =>p, r, f, s\r\n",
        "p,r,f,s = sklearn.metrics.precision_recall_fscore_support(y_true,y_pred,average='micro')\r\n",
        "print(\"%f %f %f\" %(p, r, f))"
      ],
      "outputs": [
        {
          "output_type": "stream",
          "name": "stdout",
          "text": [
            "(88,)\n"
          ]
        },
        {
          "output_type": "stream",
          "name": "stderr",
          "text": [
            "/usr/local/lib/python3.7/dist-packages/sklearn/metrics/_ranking.py:677: RuntimeWarning: invalid value encountered in true_divide\n",
            "  recall = tps / tps[-1]\n"
          ]
        },
        {
          "output_type": "stream",
          "name": "stdout",
          "text": [
            "0.327799 0.534852 0.406477\n"
          ]
        }
      ],
      "metadata": {
        "id": "g6diYAJccHwE",
        "colab": {
          "base_uri": "https://localhost:8080/"
        },
        "outputId": "f963f65d-3fe3-40b7-adb3-4a04d995ded1"
      }
    },
    {
      "cell_type": "code",
      "execution_count": null,
      "source": [
        "y_scores_test=model.predict(X_test)\r\n",
        "#evaludate this over test data so that we get a 4D boolean matrix\r\n",
        "y_pred_test = y_scores_test > thresholds"
      ],
      "outputs": [],
      "metadata": {
        "id": "Oq1JXV0YaGew"
      }
    },
    {
      "cell_type": "code",
      "execution_count": null,
      "source": [
        "y_pred_test=np.squeeze(y_pred_test, axis=-2)\r\n",
        "print(y_pred_test.shape)"
      ],
      "outputs": [
        {
          "output_type": "stream",
          "name": "stdout",
          "text": [
            "(2953, 100, 88)\n"
          ]
        }
      ],
      "metadata": {
        "id": "g8J52hGGc_Jo",
        "colab": {
          "base_uri": "https://localhost:8080/"
        },
        "outputId": "bd5aaf58-2351-4f38-c68c-9d6ffbfc45b0"
      }
    },
    {
      "cell_type": "code",
      "execution_count": null,
      "source": [
        "#saving the y_pred_test for further post processing and generating piano roll\r\n",
        "save('MEL2.npy', y_pred_test)"
      ],
      "outputs": [],
      "metadata": {
        "id": "yW2i63GxoYdy"
      }
    }
  ]
}