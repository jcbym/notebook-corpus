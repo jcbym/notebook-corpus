{
 "cells": [
  {
   "cell_type": "markdown",
   "id": "unsigned-accreditation",
   "metadata": {},
   "source": [
    "## **Markdown proof**"
   ]
  },
  {
   "cell_type": "markdown",
   "id": "compressed-click",
   "metadata": {},
   "source": [
    "*Hi my name is Jakob*"
   ]
  },
  {
   "cell_type": "markdown",
   "id": "flying-flesh",
   "metadata": {},
   "source": [
    "This is an unordered list \n",
    "- Observation 1\n",
    "- Obs. 2\n",
    "- 3 \n",
    "- 4"
   ]
  },
  {
   "cell_type": "markdown",
   "id": "floppy-genetics",
   "metadata": {},
   "source": [
    "**This is an ordered list**\n",
    "- Observation 1\n",
    "- Obs. 2\n",
    "- 3\n",
    "- 4"
   ]
  },
  {
   "cell_type": "code",
   "execution_count": null,
   "id": "affecting-reconstruction",
   "metadata": {},
   "outputs": [],
   "source": []
  }
 ],
 "metadata": {
  "kernelspec": {
   "display_name": "Python 3",
   "language": "python",
   "name": "python3"
  },
  "language_info": {
   "codemirror_mode": {
    "name": "ipython",
    "version": 3
   },
   "file_extension": ".py",
   "mimetype": "text/x-python",
   "name": "python",
   "nbconvert_exporter": "python",
   "pygments_lexer": "ipython3",
   "version": "3.8.5"
  }
 },
 "nbformat": 4,
 "nbformat_minor": 5
}
