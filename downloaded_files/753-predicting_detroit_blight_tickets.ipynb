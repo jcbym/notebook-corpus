{
 "cells": [
  {
   "cell_type": "markdown",
   "metadata": {},
   "source": [
    "# Parking Ticket Predictions\n",
    "\n",
    "This project is based on a data challenge from Michigan Data Science Team (MDST). \n",
    "\n",
    "The Michigan Data Science Team (MDST) and the Michigan Student Symposium for Interdisciplinary Statistical Sciences (MSSISS) have partnered with the City of Detroit to help solve one of the most pressing problems facing Detroit - building deterioration. Blight violations are issued by the city to individuals who allow their properties to remain in a deteriorated condition. Every year, the city of Detroit issues millions of dollars in fines to residents and every year, many of these fines remain unpaid. Enforcing unpaid blight fines is a costly and tedious process, so the city wants to know: how can we increase blight ticket compliance?\n",
    "\n",
    "Our data comes from the Detroit Open Data Portal (https://data.detroitmi.gov/) and comes with two files: past_blight_tickets.csv and current_blight_tickets.csv. \n",
    "\n",
    "The first step in increasing blight ticket payment compliance is to better understand common indicators of when and why citizens do not pay their ticket fees. To do this, we will build a few supervised learning models to take a deeper look at the commonalities that people who do or don't pay their blight fees.   \n",
    "\n",
    "The **files** include:\n",
    "\n",
    "    past_blight_tickets.csv - training set of tickets issued 2004-2011\n",
    "    current_blight_tickets.csv = the test set of all blight tickets issued 2012-2016\n",
    "    addresses.csv and latalons.csv - used to map ticket_id to addresses\n",
    " \n",
    "**Data fields**\n",
    "\n",
    "train.csv & test.csv\n",
    "\n",
    "    ticket_id - unique identifier for tickets\n",
    "    agency_name - Agency that issued the ticket\n",
    "    inspector_name - Name of inspector that issued the ticket\n",
    "    violator_name - Name of the person/organization that the ticket was issued to\n",
    "    violation_street_number, violation_street_name, violation_zip_code - Address where the violation occurred\n",
    "    mailing_address_str_number, mailing_address_str_name, city, state, zip_code, non_us_str_code, country - Mailing address of the violator\n",
    "    ticket_issued_date - Date and time the ticket was issued\n",
    "    hearing_date - Date and time the violator's hearing was scheduled\n",
    "    violation_code, violation_description - Type of violation\n",
    "    disposition - Judgment and judgement type\n",
    "    fine_amount - Violation fine amount, excluding fees\n",
    "    admin_fee - $20 fee assigned to responsible judgments\n",
    "state_fee - $10 fee assigned to responsible judgments\n",
    "    late_fee - 10% fee assigned to responsible judgments\n",
    "    discount_amount - discount applied, if any\n",
    "    clean_up_cost - DPW clean-up or graffiti removal cost\n",
    "    judgment_amount - Sum of all fines and fees\n",
    "    grafitti_status - Flag for graffiti violations\n",
    "    \n",
    "train.csv only\n",
    "\n",
    "    payment_amount - Amount paid, if any\n",
    "    payment_date - Date payment was made, if it was received\n",
    "    payment_status - Current payment status as of Feb 1 2017\n",
    "    balance_due - Fines and fees still owed\n",
    "    collection_status - Flag for payments in collections\n",
    "    compliance - whether the ticket was paid or not \n",
    "    compliance_detail - More information on why each ticket was marked compliant or non-compliant\n"
   ]
  },
  {
   "cell_type": "markdown",
   "metadata": {},
   "source": [
    "# Import Libraries"
   ]
  },
  {
   "cell_type": "code",
   "execution_count": 1,
   "metadata": {},
   "outputs": [],
   "source": [
    "import numpy as np\n",
    "import pandas as pd\n",
    "import matplotlib.pyplot as plt\n",
    "\n",
    "from sklearn.model_selection import train_test_split\n",
    "from sklearn.preprocessing import MinMaxScaler\n",
    "\n",
    "from sklearn.svm import SVC\n",
    "from sklearn.ensemble import RandomForestClassifier, BaggingClassifier\n",
    "from sklearn.neural_network import MLPClassifier\n",
    "\n",
    "from sklearn.model_selection import GridSearchCV\n",
    "from sklearn.metrics import roc_auc_score\n",
    "from sklearn.metrics import classification_report"
   ]
  },
  {
   "cell_type": "markdown",
   "metadata": {},
   "source": [
    "# Exploring the Data"
   ]
  },
  {
   "cell_type": "code",
   "execution_count": 2,
   "metadata": {
    "scrolled": true
   },
   "outputs": [
    {
     "name": "stdout",
     "output_type": "stream",
     "text": [
      "The input file has the shape  (250306, 35)\n",
      "\n",
      "Our fields are  ['Unnamed: 0' 'ticket_id' 'agency_name' 'inspector_name' 'violator_name'\n",
      " 'violation_street_number' 'violation_street_name' 'violation_zip_code'\n",
      " 'mailing_address_str_number' 'mailing_address_str_name' 'city' 'state'\n",
      " 'zip_code' 'non_us_str_code' 'country' 'ticket_issued_date'\n",
      " 'hearing_date' 'violation_code' 'violation_description' 'disposition'\n",
      " 'fine_amount' 'admin_fee' 'state_fee' 'late_fee' 'discount_amount'\n",
      " 'clean_up_cost' 'judgment_amount' 'payment_amount' 'balance_due'\n",
      " 'payment_date' 'payment_status' 'collection_status' 'grafitti_status'\n",
      " 'compliance_detail' 'compliance']\n"
     ]
    }
   ],
   "source": [
    "past_tickets = pd.read_csv('data/past_blight_tickets.csv', low_memory=False)\n",
    "\n",
    "current_tickets = pd.read_csv('data/current_blight_tickets.csv', low_memory=False)\n",
    "\n",
    "print('The input file has the shape ', past_tickets.shape)\n",
    "print('\\nOur fields are ', past_tickets.columns.values)"
   ]
  },
  {
   "cell_type": "code",
   "execution_count": 3,
   "metadata": {},
   "outputs": [],
   "source": [
    "target_variable = 'compliance'"
   ]
  },
  {
   "cell_type": "code",
   "execution_count": 4,
   "metadata": {},
   "outputs": [
    {
     "data": {
      "text/plain": [
       "compliance\n",
       "0.0    148283\n",
       "1.0     11597\n",
       "Name: ticket_id, dtype: int64"
      ]
     },
     "execution_count": 4,
     "metadata": {},
     "output_type": "execute_result"
    }
   ],
   "source": [
    "# The target value for our prediction \n",
    "\n",
    "past_tickets.groupby(target_variable).count()['ticket_id']"
   ]
  },
  {
   "cell_type": "code",
   "execution_count": 5,
   "metadata": {},
   "outputs": [
    {
     "data": {
      "text/plain": [
       "disposition\n",
       "Not responsible by Dismissal         48695\n",
       "Not responsible by City Dismissal    34401\n",
       "Not responsible by Determination      6639\n",
       "PENDING JUDGMENT                       387\n",
       "SET-ASIDE (PENDING JUDGMENT)           304\n",
       "Name: ticket_id, dtype: int64"
      ]
     },
     "execution_count": 5,
     "metadata": {},
     "output_type": "execute_result"
    }
   ],
   "source": [
    "# There are about 100,000 nas in our target value. There are not  \n",
    "\n",
    "target_nas = past_tickets[past_tickets[target_variable].isna()]\n",
    "target_nas.groupby('disposition').count()['ticket_id'].sort_values(ascending=False)"
   ]
  },
  {
   "cell_type": "markdown",
   "metadata": {},
   "source": [
    "**Note on NA values in Target Field**\n",
    "\n",
    "We see that the NA values in the 'compliance' field (our target variable) represent issued tickets that have been revoked by the city. We can remove these from the dataset because we are interested only in parties where tickets have stayed issued by the city. "
   ]
  },
  {
   "cell_type": "code",
   "execution_count": 6,
   "metadata": {},
   "outputs": [],
   "source": [
    "# Remove dismissed or determinated tickets\n",
    "\n",
    "past_tickets = past_tickets[~past_tickets[target_variable].isna()]"
   ]
  },
  {
   "cell_type": "code",
   "execution_count": 7,
   "metadata": {},
   "outputs": [
    {
     "name": "stdout",
     "output_type": "stream",
     "text": [
      "The Most Common 7 Violations \n",
      "\n",
      "violation_description\n",
      "Failure of owner to obtain certificate of compliance                                                    64414\n",
      "Failure to obtain certificate of registration for rental property                                       23145\n",
      "Failure of owner to keep property, its sidewalks, or adjoining public property free from solid waste    19072\n",
      "Excessive weeds or plant growth one- or two-family dwelling or commercial Building                      16927\n",
      "Allowing bulk solid waste to lie or accumulate on or about the premises                                  4879\n",
      "Violation of time limit for approved containers to remain at curbside - early or late                    4200\n",
      "Rodent harborage one-or two-family dwelling or commercial building                                       3619\n",
      "Name: ticket_id, dtype: int64\n"
     ]
    }
   ],
   "source": [
    "# Common Violations\n",
    "\n",
    "num_violations = 7\n",
    "\n",
    "print('The Most Common {} Violations \\n'.format(num_violations))\n",
    "print(past_tickets.groupby('violation_description').count()['ticket_id'].sort_values(ascending=False)[:num_violations])"
   ]
  },
  {
   "cell_type": "code",
   "execution_count": 8,
   "metadata": {},
   "outputs": [
    {
     "data": {
      "text/plain": [
       "Text(0.5, 0, 'Fine Amount ($USD)')"
      ]
     },
     "execution_count": 8,
     "metadata": {},
     "output_type": "execute_result"
    },
    {
     "data": {
      "image/png": "[encoded data removed]",
      "text/plain": [
       "<Figure size 1440x576 with 1 Axes>"
      ]
     },
     "metadata": {
      "needs_background": "light"
     },
     "output_type": "display_data"
    }
   ],
   "source": [
    "# Plot ticket\n",
    "plt.figure(figsize=(20,8))\n",
    "plt.xlim(0,2000)\n",
    "\n",
    "\n",
    "plt.hist(past_tickets['fine_amount'], bins=200)\n",
    "\n",
    "plt.title('Distribution of Fine Amounts')\n",
    "plt.ylabel('Number of Tickets')\n",
    "plt.xlabel('Fine Amount ($USD)')"
   ]
  },
  {
   "cell_type": "code",
   "execution_count": 9,
   "metadata": {},
   "outputs": [
    {
     "data": {
      "text/plain": [
       "Index(['Unnamed: 0', 'ticket_id', 'agency_name', 'inspector_name',\n",
       "       'violator_name', 'violation_street_number', 'violation_street_name',\n",
       "       'violation_zip_code', 'mailing_address_str_number',\n",
       "       'mailing_address_str_name', 'city', 'state', 'zip_code',\n",
       "       'non_us_str_code', 'country', 'ticket_issued_date', 'hearing_date',\n",
       "       'violation_code', 'violation_description', 'disposition', 'fine_amount',\n",
       "       'admin_fee', 'state_fee', 'late_fee', 'discount_amount',\n",
       "       'clean_up_cost', 'judgment_amount', 'payment_amount', 'balance_due',\n",
       "       'payment_date', 'payment_status', 'collection_status',\n",
       "       'grafitti_status', 'compliance_detail', 'compliance'],\n",
       "      dtype='object')"
      ]
     },
     "execution_count": 9,
     "metadata": {},
     "output_type": "execute_result"
    }
   ],
   "source": [
    "past_tickets.columns"
   ]
  },
  {
   "cell_type": "code",
   "execution_count": 10,
   "metadata": {},
   "outputs": [
    {
     "data": {
      "text/plain": [
       "Index(['ticket_id', 'agency_name', 'inspector_name', 'violator_name',\n",
       "       'violation_street_number', 'violation_street_name',\n",
       "       'violation_zip_code', 'mailing_address_str_number',\n",
       "       'mailing_address_str_name', 'city', 'state', 'zip_code',\n",
       "       'non_us_str_code', 'country', 'ticket_issued_date', 'hearing_date',\n",
       "       'violation_code', 'violation_description', 'disposition', 'fine_amount',\n",
       "       'admin_fee', 'state_fee', 'late_fee', 'discount_amount',\n",
       "       'clean_up_cost', 'judgment_amount', 'grafitti_status'],\n",
       "      dtype='object')"
      ]
     },
     "execution_count": 10,
     "metadata": {},
     "output_type": "execute_result"
    }
   ],
   "source": [
    "current_tickets.columns"
   ]
  },
  {
   "cell_type": "markdown",
   "metadata": {},
   "source": [
    "# Cleaning the Data for Model Usage"
   ]
  },
  {
   "cell_type": "code",
   "execution_count": 11,
   "metadata": {},
   "outputs": [],
   "source": [
    "def check_for_nas(data):\n",
    "    copy = data.copy()\n",
    "    \n",
    "    for col in copy.columns:\n",
    "        \n",
    "        if copy[col].isnull().values.any():\n",
    "            num_nas = len(copy[copy[col].isnull()])\n",
    "            proportion_na = num_nas/len(copy[col])\n",
    "            \n",
    "            print('There are nulls in column:', col)\n",
    "            print('The number of NAs is {}'.format(num_nas))\n",
    "            print('The proportion of nas in {} is {}'.format(col, proportion_na), '\\n')"
   ]
  },
  {
   "cell_type": "code",
   "execution_count": 12,
   "metadata": {},
   "outputs": [
    {
     "name": "stdout",
     "output_type": "stream",
     "text": [
      "There are nulls in column: violator_name\n",
      "The number of NAs is 26\n",
      "The proportion of nas in violator_name is 0.00016262196647485615 \n",
      "\n",
      "There are nulls in column: violation_zip_code\n",
      "The number of NAs is 159880\n",
      "The proportion of nas in violation_zip_code is 1.0 \n",
      "\n",
      "There are nulls in column: mailing_address_str_number\n",
      "The number of NAs is 2558\n",
      "The proportion of nas in mailing_address_str_number is 0.015999499624718538 \n",
      "\n",
      "There are nulls in column: mailing_address_str_name\n",
      "The number of NAs is 3\n",
      "The proportion of nas in mailing_address_str_name is 1.8764073054791094e-05 \n",
      "\n",
      "There are nulls in column: state\n",
      "The number of NAs is 84\n",
      "The proportion of nas in state is 0.0005253940455341507 \n",
      "\n",
      "There are nulls in column: zip_code\n",
      "The number of NAs is 1\n",
      "The proportion of nas in zip_code is 6.254691018263698e-06 \n",
      "\n",
      "There are nulls in column: non_us_str_code\n",
      "The number of NAs is 159877\n",
      "The proportion of nas in non_us_str_code is 0.9999812359269452 \n",
      "\n",
      "There are nulls in column: hearing_date\n",
      "The number of NAs is 227\n",
      "The proportion of nas in hearing_date is 0.0014198148611458594 \n",
      "\n",
      "There are nulls in column: payment_date\n",
      "The number of NAs is 120269\n",
      "The proportion of nas in payment_date is 0.7522454340755567 \n",
      "\n",
      "There are nulls in column: collection_status\n",
      "The number of NAs is 122983\n",
      "The proportion of nas in collection_status is 0.7692206654991244 \n",
      "\n",
      "There are nulls in column: grafitti_status\n",
      "The number of NAs is 159880\n",
      "The proportion of nas in grafitti_status is 1.0 \n",
      "\n"
     ]
    }
   ],
   "source": [
    "check_for_nas(past_tickets)"
   ]
  },
  {
   "cell_type": "code",
   "execution_count": 13,
   "metadata": {},
   "outputs": [
    {
     "name": "stdout",
     "output_type": "stream",
     "text": [
      "There are nulls in column: violator_name\n",
      "The number of NAs is 28\n",
      "The proportion of nas in violator_name is 0.00045900886870707037 \n",
      "\n",
      "There are nulls in column: violation_zip_code\n",
      "The number of NAs is 36977\n",
      "The proportion of nas in violation_zip_code is 0.6061703906493336 \n",
      "\n",
      "There are nulls in column: mailing_address_str_number\n",
      "The number of NAs is 1014\n",
      "The proportion of nas in mailing_address_str_number is 0.016622678316748907 \n",
      "\n",
      "There are nulls in column: mailing_address_str_name\n",
      "The number of NAs is 3\n",
      "The proportion of nas in mailing_address_str_name is 4.917952164718611e-05 \n",
      "\n",
      "There are nulls in column: city\n",
      "The number of NAs is 1\n",
      "The proportion of nas in city is 1.639317388239537e-05 \n",
      "\n",
      "There are nulls in column: state\n",
      "The number of NAs is 331\n",
      "The proportion of nas in state is 0.005426140555072867 \n",
      "\n",
      "There are nulls in column: zip_code\n",
      "The number of NAs is 3\n",
      "The proportion of nas in zip_code is 4.917952164718611e-05 \n",
      "\n",
      "There are nulls in column: non_us_str_code\n",
      "The number of NAs is 61001\n",
      "The proportion of nas in non_us_str_code is 1.0 \n",
      "\n",
      "There are nulls in column: hearing_date\n",
      "The number of NAs is 2197\n",
      "The proportion of nas in hearing_date is 0.03601580301962263 \n",
      "\n",
      "There are nulls in column: grafitti_status\n",
      "The number of NAs is 58780\n",
      "The proportion of nas in grafitti_status is 0.9635907608071999 \n",
      "\n"
     ]
    }
   ],
   "source": [
    "check_for_nas(current_tickets)"
   ]
  },
  {
   "cell_type": "markdown",
   "metadata": {},
   "source": [
    "**Note on NA values**\n",
    "\n",
    "We don't want to drop entire columns during training simply because of a few NA values.\n",
    "\n",
    "We first check to see if our na values have a proportion of nas higher than na_floor. Then, based on the type of data in the field, we either fill it with the median value, or an empty string \"\". "
   ]
  },
  {
   "cell_type": "code",
   "execution_count": 14,
   "metadata": {},
   "outputs": [],
   "source": [
    "# Pull out columns with high proportion of NA values, turn text into float data, and typecast other fields to floats \n",
    "\n",
    "def numericize_or_drop_col(data, na_floor=0.01):\n",
    "    \n",
    "    dropped_cols = []\n",
    "    copy = data.copy()\n",
    "    \n",
    "    for col in copy.columns:\n",
    "        \n",
    "        #print(col)\n",
    "        \n",
    "        if copy[col].isnull().values.any(): #Drops columns with too many NA values\n",
    "            \n",
    "            proportion_na = len(copy[copy[col].isnull()])/len(copy[col])\n",
    "            \n",
    "            if proportion_na > na_floor:\n",
    "                dropped_cols.append((col, 'Too many NA values'))\n",
    "                copy = copy.drop([col], axis=1)\n",
    "                continue\n",
    "                \n",
    "            if type(copy[col][1] == str):\n",
    "                copy[col] = copy[col].fillna('0')\n",
    "                \n",
    "            else:\n",
    "                col_average = copy[col].mean()\n",
    "                copy[col] = copy[col].fillna(col_average)\n",
    "                \n",
    "        \n",
    "        if type(copy[col][1]) == str: #Turn string data into numerical for model\n",
    "            #Sorts unique values of series by frequency and returns integers instead of strings \n",
    "            #Note: this is particularly useful for decision trees models that make binary splits\n",
    "            \n",
    "            dropped_cols.append((col, 'text to integers'))\n",
    "            \n",
    "            unique_series = copy[col].groupby(copy[col]).count()\n",
    "            unique_series = unique_series.sort_values(ascending=False)\n",
    "            text_to_int_dict = {unique_value:float(i) for i, unique_value in enumerate(unique_series.index)}\n",
    "            copy['{}_as_float'.format(col)] = [text_to_int_dict[val] for val in copy.loc[:,col]].copy()\n",
    "\n",
    "            copy = copy.drop([col], axis=1)\n",
    "                  \n",
    "                \n",
    "        else: #typecast columns to floats\n",
    "            #print('No nulls, moving on')\n",
    "            copy[col] = copy[col].astype(np.float64)\n",
    "                  \n",
    "    #Make sure we didn't miss any NA values after process (debugging)\n",
    "    check_for_nas(copy)\n",
    "    \n",
    "    return copy, dropped_cols"
   ]
  },
  {
   "cell_type": "code",
   "execution_count": 15,
   "metadata": {},
   "outputs": [],
   "source": [
    "def numericize_or_drop_col(data, na_floor=0.01):\n",
    "    dropped_cols = []\n",
    "    copy = data.copy()\n",
    "    for col in copy.columns:\n",
    "        if copy[col].isnull().values.any(): #Drops columns with too many NA values\n",
    "            proportion_na = len(copy[copy[col].isnull()])/len(copy[col])\n",
    "            if proportion_na > na_floor:\n",
    "                dropped_cols.append((col, 'Too many NA values'))\n",
    "                copy = copy.drop([col], axis=1)\n",
    "                continue\n",
    "            if type(copy[col][1] == str):\n",
    "                copy[col] = copy[col].fillna('0')\n",
    "            else:\n",
    "                col_average = copy[col].mean()\n",
    "                copy[col] = copy[col].fillna(col_average)\n",
    "        if type(copy[col][1]) == str: \n",
    "            dropped_cols.append((col, 'text to integers'))\n",
    "            unique_series = copy[col].groupby(copy[col]).count()\n",
    "            unique_series = unique_series.sort_values(ascending=False)\n",
    "            text_to_int_dict = {unique_value:float(i) for i, unique_value in enumerate(unique_series.index)}\n",
    "            copy['{}_as_float'.format(col)] = [text_to_int_dict[val] for val in copy.loc[:,col]].copy()\n",
    "            copy = copy.drop([col], axis=1)    \n",
    "        else:\n",
    "            copy[col] = copy[col].astype(np.float64)\n",
    "    return copy, dropped_cols"
   ]
  },
  {
   "cell_type": "code",
   "execution_count": 16,
   "metadata": {},
   "outputs": [
    {
     "name": "stdout",
     "output_type": "stream",
     "text": [
      "Dropped columns:\n",
      " [('agency_name', 'text to integers'), ('inspector_name', 'text to integers'), ('violator_name', 'text to integers'), ('violation_street_name', 'text to integers'), ('violation_zip_code', 'Too many NA values'), ('mailing_address_str_number', 'Too many NA values'), ('mailing_address_str_name', 'text to integers'), ('city', 'text to integers'), ('state', 'text to integers'), ('zip_code', 'text to integers'), ('non_us_str_code', 'Too many NA values'), ('country', 'text to integers'), ('ticket_issued_date', 'text to integers'), ('hearing_date', 'text to integers'), ('violation_code', 'text to integers'), ('violation_description', 'text to integers'), ('disposition', 'text to integers'), ('payment_date', 'Too many NA values'), ('payment_status', 'text to integers'), ('collection_status', 'Too many NA values'), ('grafitti_status', 'Too many NA values'), ('compliance_detail', 'text to integers')]\n",
      "\n",
      " New df columns\n",
      "Index(['Unnamed: 0', 'ticket_id', 'violation_street_number', 'fine_amount',\n",
      "       'admin_fee', 'state_fee', 'late_fee', 'discount_amount',\n",
      "       'clean_up_cost', 'judgment_amount', 'payment_amount', 'balance_due',\n",
      "       'compliance', 'agency_name_as_float', 'inspector_name_as_float',\n",
      "       'violator_name_as_float', 'violation_street_name_as_float',\n",
      "       'mailing_address_str_name_as_float', 'city_as_float', 'state_as_float',\n",
      "       'zip_code_as_float', 'country_as_float', 'ticket_issued_date_as_float',\n",
      "       'hearing_date_as_float', 'violation_code_as_float',\n",
      "       'violation_description_as_float', 'disposition_as_float',\n",
      "       'payment_status_as_float', 'compliance_detail_as_float'],\n",
      "      dtype='object')\n"
     ]
    }
   ],
   "source": [
    "#Updating our training data for the model training \n",
    "\n",
    "new_past, past_dropped_cols = numericize_or_drop_col(past_tickets)\n",
    "print('Dropped columns:\\n', past_dropped_cols)\n",
    "print('\\n', 'New df columns')\n",
    "print(new_past.columns)"
   ]
  },
  {
   "cell_type": "code",
   "execution_count": 17,
   "metadata": {},
   "outputs": [
    {
     "name": "stdout",
     "output_type": "stream",
     "text": [
      "Dropped columns:\n",
      " [('agency_name', 'text to integers'), ('inspector_name', 'text to integers'), ('violator_name', 'text to integers'), ('violation_street_name', 'text to integers'), ('violation_zip_code', 'Too many NA values'), ('mailing_address_str_number', 'Too many NA values'), ('mailing_address_str_name', 'text to integers'), ('city', 'text to integers'), ('state', 'text to integers'), ('zip_code', 'text to integers'), ('non_us_str_code', 'Too many NA values'), ('country', 'text to integers'), ('ticket_issued_date', 'text to integers'), ('hearing_date', 'Too many NA values'), ('violation_code', 'text to integers'), ('violation_description', 'text to integers'), ('disposition', 'text to integers'), ('grafitti_status', 'Too many NA values')]\n",
      "\n",
      " New df columns\n",
      "Index(['ticket_id', 'violation_street_number', 'fine_amount', 'admin_fee',\n",
      "       'state_fee', 'late_fee', 'discount_amount', 'clean_up_cost',\n",
      "       'judgment_amount', 'agency_name_as_float', 'inspector_name_as_float',\n",
      "       'violator_name_as_float', 'violation_street_name_as_float',\n",
      "       'mailing_address_str_name_as_float', 'city_as_float', 'state_as_float',\n",
      "       'zip_code_as_float', 'country_as_float', 'ticket_issued_date_as_float',\n",
      "       'violation_code_as_float', 'violation_description_as_float',\n",
      "       'disposition_as_float'],\n",
      "      dtype='object')\n"
     ]
    }
   ],
   "source": [
    "#Updating our current_tickets data for model prediction use after training/testing\n",
    "\n",
    "new_current, current_dropped_cols = numericize_or_drop_col(current_tickets)\n",
    "print('Dropped columns:\\n', current_dropped_cols)\n",
    "print('\\n', 'New df columns')\n",
    "print(new_current.columns)"
   ]
  },
  {
   "cell_type": "markdown",
   "metadata": {},
   "source": [
    "**Note on Data Leakage**\n",
    "\n",
    "In our original past_tickets data and current_tickts data, columns appear in past_tickets that are not in current_tickets. In our model we don't want any data leakage during training, that is, we want to avoid training the model on fields that the testing set won't have. Because of this, we will drop any columns that are in the past_tickets data that are not in our current_tickets data."
   ]
  },
  {
   "cell_type": "code",
   "execution_count": 18,
   "metadata": {},
   "outputs": [
    {
     "name": "stdout",
     "output_type": "stream",
     "text": [
      "compliance\n"
     ]
    }
   ],
   "source": [
    "print(target_variable)"
   ]
  },
  {
   "cell_type": "code",
   "execution_count": 19,
   "metadata": {},
   "outputs": [
    {
     "name": "stdout",
     "output_type": "stream",
     "text": [
      "There is Data Leakage\n",
      "Columns Dropped are:\n",
      " {'compliance_detail_as_float', 'hearing_date_as_float', 'payment_amount', 'balance_due', 'Unnamed: 0', 'payment_status_as_float'}\n"
     ]
    }
   ],
   "source": [
    "new_current_col_set = set(new_current.columns.values) \n",
    "new_past_col_set = set(new_past.columns.values)\n",
    "\n",
    "p_c_intersection = new_current_col_set.intersection(new_past_col_set)\n",
    "p_c_union = new_current_col_set.union(new_past_col_set)\n",
    "\n",
    "if p_c_union != p_c_intersection:\n",
    "    print('There is Data Leakage')\n",
    "    \n",
    "    to_drop = p_c_union - p_c_intersection\n",
    "    to_drop.remove(target_variable)\n",
    "\n",
    "    print('Columns Dropped are:\\n', to_drop)\n",
    "    \n",
    "    new_current = new_current[list(p_c_intersection)]\n",
    "    p_c_intersection.add(target_variable)\n",
    "    new_past = new_past[list(p_c_intersection)]\n",
    "    \n",
    "\n",
    "    \n",
    "# Check for data leakage again (debug)\n",
    "if set(new_past.columns.values) != set(new_past.columns.values):\n",
    "    print('Still has data leakage')"
   ]
  },
  {
   "cell_type": "code",
   "execution_count": 20,
   "metadata": {},
   "outputs": [],
   "source": [
    "# Many of these fields make sense in the context of our problem because current_tickets shouldn't contain fields related to \n",
    "# 'compliance' (our target variable)"
   ]
  },
  {
   "cell_type": "markdown",
   "metadata": {},
   "source": [
    "# Building our Model\n",
    "Here we will use three out of the box models: the Random Forest Classifier, Ridge Regression, and Multi-layer Perceptron Algorithms.\n",
    "\n",
    "\n",
    "**Note on Normalization**\n",
    "\n",
    "Two of our models will be more accurate if we normalize our data on a scale from 0 to 1, and the third model will be unaffected. Here we use sklearn's MeanMaxScaler fit on our training data to fit transform both our training and testing data."
   ]
  },
  {
   "cell_type": "code",
   "execution_count": 21,
   "metadata": {},
   "outputs": [],
   "source": [
    "# past_tickets Target Variable\n",
    "y = new_past[target_variable]\n",
    "\n",
    "# past_tickets without target variable\n",
    "columns_minus_target = np.delete(new_past.columns.values, np.where(new_past.columns.values == target_variable))\n",
    "X = new_past[columns_minus_target]\n",
    "\n",
    "X_train, X_test, y_train, y_test = train_test_split(X, y, test_size=0.33, random_state=0)\n",
    "\n",
    "\n",
    "scaler = MinMaxScaler()\n",
    "X_train_scaled = scaler.fit_transform(X_train)\n",
    "X_test_scaled = scaler.transform(X_test)\n",
    "new_current_scaled = scaler.transform(new_current)"
   ]
  },
  {
   "cell_type": "code",
   "execution_count": 22,
   "metadata": {},
   "outputs": [],
   "source": [
    "def plot_feature_importances(clf, feature_names):\n",
    "    c_features = len(feature_names)\n",
    "    plt.barh(range(c_features), clf.feature_importances_)\n",
    "    plt.xlabel(\"Feature importance\")\n",
    "    plt.ylabel(\"Feature name\")\n",
    "    plt.yticks(np.arange(c_features), feature_names)"
   ]
  },
  {
   "cell_type": "markdown",
   "metadata": {},
   "source": [
    "### Support Vector Machines Classifier\n",
    "With Support Vector Machines, we decide to use GridSearchCV to find the best parameter for gamma and C. Grid search cross validation allows us to both look at overfitting and undefitting the data by adjusting our parameters while minimizing the variance between training runs. We find that C=0.01 and gamma=0.01 have the best accuracy on a partition of our data.\n",
    "**Note on computation time**\n",
    "The normal SVC takes a really long time to "
   ]
  },
  {
   "cell_type": "code",
   "execution_count": 23,
   "metadata": {},
   "outputs": [
    {
     "name": "stdout",
     "output_type": "stream",
     "text": [
      "Grid best parameter (max. accuracy) for C:  0.01\n",
      "Grid best parameter (max. accuracy) for gamma:  0.01\n",
      "Grid best score (accuracy) for C:  0.945\n"
     ]
    }
   ],
   "source": [
    "clf = SVC(kernel='rbf')\n",
    "\n",
    "grid_values = {'C': [0.01, 0.05, 0.1, 1, 10, 100],\n",
    "               'gamma': [0.01, 0.05, 0.1, 1, 10, 100]}\n",
    "\n",
    "grid_clf_acc = GridSearchCV(clf, param_grid = grid_values)\n",
    "grid_clf_acc.fit(X_train.iloc[:1000], y_train[:1000])\n",
    "gridsvc = grid_clf_acc.best_params_\n",
    "\n",
    "print('Grid best parameter (max. accuracy) for C: ', gridsvc['C'])\n",
    "print('Grid best parameter (max. accuracy) for gamma: ', gridsvc['gamma'])\n",
    "print('Grid best score (accuracy) for C: ', grid_clf_acc.best_score_)\n",
    "\n",
    "#Grid Search for gamma\n",
    "#grid_values = {'gamma': [0.01, 0.05, 0.1, 1, 10, 100]}\n",
    "\n",
    "#grid_clf_acc = GridSearchCV(clf, param_grid = grid_values)\n",
    "#grid_clf_acc.fit(X_train.iloc[:1000], y_train[:1000])\n",
    "#best_gamma = grid_clf_acc.best_params_\n",
    "\n",
    "#print('Grid best parameter (max. accuracy) for gamma: ', best_gamma)\n",
    "#print('Grid best score (accuracy) for gamma: ', grid_clf_acc.best_score_)"
   ]
  },
  {
   "cell_type": "code",
   "execution_count": 24,
   "metadata": {},
   "outputs": [
    {
     "name": "stdout",
     "output_type": "stream",
     "text": [
      "Accuracy of RF classifier on training set: 0.927\n",
      "Accuracy of RF classifier on test set: 0.928\n"
     ]
    },
    {
     "ename": "AttributeError",
     "evalue": "predict_proba is not available when  probability=False",
     "output_type": "error",
     "traceback": [
      "\u001b[1;31m---------------------------------------------------------------------------\u001b[0m",
      "\u001b[1;31mAttributeError\u001b[0m                            Traceback (most recent call last)",
      "\u001b[1;32m<ipython-input-24-d1abd6631ac6>\u001b[0m in \u001b[0;36m<module>\u001b[1;34m\u001b[0m\n\u001b[0;32m      4\u001b[0m print('Accuracy of RF classifier on test set: {:.3f}'\n\u001b[0;32m      5\u001b[0m      .format(clf.score(X_test, y_test)))\n\u001b[1;32m----> 6\u001b[1;33m \u001b[0mprint\u001b[0m\u001b[1;33m(\u001b[0m\u001b[1;34m'Roc AUC score on data: {:.3f}'\u001b[0m\u001b[1;33m.\u001b[0m\u001b[0mformat\u001b[0m\u001b[1;33m(\u001b[0m\u001b[0mroc_auc_score\u001b[0m\u001b[1;33m(\u001b[0m\u001b[0my\u001b[0m\u001b[1;33m,\u001b[0m \u001b[0mclf\u001b[0m\u001b[1;33m.\u001b[0m\u001b[0mpredict_proba\u001b[0m\u001b[1;33m(\u001b[0m\u001b[0mX\u001b[0m\u001b[1;33m)\u001b[0m\u001b[1;33m[\u001b[0m\u001b[1;33m:\u001b[0m\u001b[1;33m,\u001b[0m \u001b[1;36m1\u001b[0m\u001b[1;33m]\u001b[0m\u001b[1;33m)\u001b[0m\u001b[1;33m)\u001b[0m\u001b[1;33m)\u001b[0m\u001b[1;33m\u001b[0m\u001b[1;33m\u001b[0m\u001b[0m\n\u001b[0m",
      "\u001b[1;32m~\\anaconda3\\lib\\site-packages\\sklearn\\svm\\_base.py\u001b[0m in \u001b[0;36mpredict_proba\u001b[1;34m(self)\u001b[0m\n\u001b[0;32m    655\u001b[0m         \u001b[0mdatasets\u001b[0m\u001b[1;33m.\u001b[0m\u001b[1;33m\u001b[0m\u001b[1;33m\u001b[0m\u001b[0m\n\u001b[0;32m    656\u001b[0m         \"\"\"\n\u001b[1;32m--> 657\u001b[1;33m         \u001b[0mself\u001b[0m\u001b[1;33m.\u001b[0m\u001b[0m_check_proba\u001b[0m\u001b[1;33m(\u001b[0m\u001b[1;33m)\u001b[0m\u001b[1;33m\u001b[0m\u001b[1;33m\u001b[0m\u001b[0m\n\u001b[0m\u001b[0;32m    658\u001b[0m         \u001b[1;32mreturn\u001b[0m \u001b[0mself\u001b[0m\u001b[1;33m.\u001b[0m\u001b[0m_predict_proba\u001b[0m\u001b[1;33m\u001b[0m\u001b[1;33m\u001b[0m\u001b[0m\n\u001b[0;32m    659\u001b[0m \u001b[1;33m\u001b[0m\u001b[0m\n",
      "\u001b[1;32m~\\anaconda3\\lib\\site-packages\\sklearn\\svm\\_base.py\u001b[0m in \u001b[0;36m_check_proba\u001b[1;34m(self)\u001b[0m\n\u001b[0;32m    622\u001b[0m     \u001b[1;32mdef\u001b[0m \u001b[0m_check_proba\u001b[0m\u001b[1;33m(\u001b[0m\u001b[0mself\u001b[0m\u001b[1;33m)\u001b[0m\u001b[1;33m:\u001b[0m\u001b[1;33m\u001b[0m\u001b[1;33m\u001b[0m\u001b[0m\n\u001b[0;32m    623\u001b[0m         \u001b[1;32mif\u001b[0m \u001b[1;32mnot\u001b[0m \u001b[0mself\u001b[0m\u001b[1;33m.\u001b[0m\u001b[0mprobability\u001b[0m\u001b[1;33m:\u001b[0m\u001b[1;33m\u001b[0m\u001b[1;33m\u001b[0m\u001b[0m\n\u001b[1;32m--> 624\u001b[1;33m             raise AttributeError(\"predict_proba is not available when \"\n\u001b[0m\u001b[0;32m    625\u001b[0m                                  \" probability=False\")\n\u001b[0;32m    626\u001b[0m         \u001b[1;32mif\u001b[0m \u001b[0mself\u001b[0m\u001b[1;33m.\u001b[0m\u001b[0m_impl\u001b[0m \u001b[1;32mnot\u001b[0m \u001b[1;32min\u001b[0m \u001b[1;33m(\u001b[0m\u001b[1;34m'c_svc'\u001b[0m\u001b[1;33m,\u001b[0m \u001b[1;34m'nu_svc'\u001b[0m\u001b[1;33m)\u001b[0m\u001b[1;33m:\u001b[0m\u001b[1;33m\u001b[0m\u001b[1;33m\u001b[0m\u001b[0m\n",
      "\u001b[1;31mAttributeError\u001b[0m: predict_proba is not available when  probability=False"
     ]
    }
   ],
   "source": [
    "clf = SVC(kernel='rbf', C=gridsvc['C'], gamma=gridsvc['gamma']).fit(X_train[:1000], y_train[:1000])\n",
    "print('Accuracy of RF classifier on training set: {:.3f}'\n",
    "     .format(clf.score(X_train, y_train)))\n",
    "print('Accuracy of RF classifier on test set: {:.3f}'\n",
    "     .format(clf.score(X_test, y_test)))\n",
    "print('Roc AUC score on data: {:.3f}'.format(roc_auc_score(y, clf.predict_proba(X)[:, 1])))"
   ]
  },
  {
   "cell_type": "code",
   "execution_count": null,
   "metadata": {},
   "outputs": [],
   "source": [
    "print(classification_report(y_test, clf.predict(X_test), target_names=['No Compliance', 'Compliance']))"
   ]
  },
  {
   "cell_type": "code",
   "execution_count": null,
   "metadata": {},
   "outputs": [],
   "source": [
    "plt.figure(figsize=(10,4), dpi=80)\n",
    "plot_feature_importances(clf, X_train.columns)\n",
    "plt.show()\n",
    "\n",
    "print('Feature importances: {}'.format(clf.feature_importances_))"
   ]
  },
  {
   "cell_type": "markdown",
   "metadata": {},
   "source": [
    "### Random Forest Classifier\n",
    "In this model, we use cross validation again, while using 10 trees for our CV and 150 trees for our model training to limit model computation time. From our CV, we find that our best max_features is ### and our best max_depth is ###, making sure that our training set is not too overfit, while still having a complex model."
   ]
  },
  {
   "cell_type": "code",
   "execution_count": null,
   "metadata": {},
   "outputs": [],
   "source": [
    "clf = RandomForestClassifier()\n",
    "\n",
    "#Grid search for C\n",
    "grid_values = {'max_features': [2, 5, 8, 12, 15, 20],\n",
    "               'max_depth': [2, 5, 10, 15, 20, 25, 30]}\n",
    "\n",
    "grid_clf_acc = GridSearchCV(clf, param_grid = grid_values)\n",
    "grid_clf_acc.fit(X_train.iloc[:1000], y_train[:1000])\n",
    "gridsvc = grid_clf_acc.best_params_\n",
    "\n",
    "print('Grid best parameter (max. accuracy) for C: ', gridsvc['C'])\n",
    "print('Grid best parameter (max. accuracy) for gamma: ', gridsvc['gamma'])\n",
    "print('Grid best score (accuracy) for C: ', grid_clf_acc.best_score_)"
   ]
  },
  {
   "cell_type": "code",
   "execution_count": 54,
   "metadata": {},
   "outputs": [
    {
     "name": "stdout",
     "output_type": "stream",
     "text": [
      "Accuracy of RF classifier on training set: 0.983\n",
      "Accuracy of RF classifier on test set: 0.946\n",
      "Roc AUC score on data: 0.966\n"
     ]
    }
   ],
   "source": [
    "# Random Forest Classifier\n",
    "clf = RandomForestClassifier(n_estimators=150, max_features = 'auto', max_depth=25, random_state = 222).fit(X_train, y_train)\n",
    "print('Accuracy of RF classifier on training set: {:.3f}'\n",
    "     .format(clf.score(X_train, y_train)))\n",
    "print('Accuracy of RF classifier on test set: {:.3f}'\n",
    "     .format(clf.score(X_test, y_test)))\n",
    "print('Roc AUC score on data: {:.3f}'.format(roc_auc_score(y, clf.predict_proba(X)[:, 1])))"
   ]
  },
  {
   "cell_type": "code",
   "execution_count": 55,
   "metadata": {},
   "outputs": [
    {
     "name": "stdout",
     "output_type": "stream",
     "text": [
      "               precision    recall  f1-score   support\n",
      "\n",
      "No Compliance       0.95      1.00      0.97     48961\n",
      "   Compliance       0.89      0.29      0.43      3800\n",
      "\n",
      "     accuracy                           0.95     52761\n",
      "    macro avg       0.92      0.64      0.70     52761\n",
      " weighted avg       0.94      0.95      0.93     52761\n",
      "\n"
     ]
    }
   ],
   "source": [
    "print(classification_report(y_test, clf.predict(X_test), target_names=['No Compliance', 'Compliance']))"
   ]
  },
  {
   "cell_type": "code",
   "execution_count": 56,
   "metadata": {},
   "outputs": [
    {
     "data": {
      "image/png": "[encoded data removed]",
      "text/plain": [
       "<Figure size 800x320 with 1 Axes>"
      ]
     },
     "metadata": {
      "needs_background": "light"
     },
     "output_type": "display_data"
    },
    {
     "name": "stdout",
     "output_type": "stream",
     "text": [
      "Feature importances: [0.0157767  0.         0.01669969 0.00940788 0.         0.0494628\n",
      " 0.08964746 0.05988227 0.10261363 0.08205252 0.07280329 0.06187233\n",
      " 0.00677202 0.08336106 0.08321596 0.07565463 0.         0.10824339\n",
      " 0.03687022 0.00014081 0.03017871 0.01534461]\n"
     ]
    }
   ],
   "source": [
    "plt.figure(figsize=(10,4), dpi=80)\n",
    "plot_feature_importances(clf, X_train.columns)\n",
    "plt.show()\n",
    "\n",
    "print('Feature importances: {}'.format(clf.feature_importances_))"
   ]
  },
  {
   "cell_type": "markdown",
   "metadata": {},
   "source": [
    "### Multi-layer Perceptron Classifier"
   ]
  },
  {
   "cell_type": "code",
   "execution_count": null,
   "metadata": {},
   "outputs": [],
   "source": [
    "MLPClassifier"
   ]
  },
  {
   "cell_type": "code",
   "execution_count": null,
   "metadata": {},
   "outputs": [],
   "source": []
  },
  {
   "cell_type": "code",
   "execution_count": null,
   "metadata": {},
   "outputs": [],
   "source": []
  },
  {
   "cell_type": "markdown",
   "metadata": {},
   "source": [
    "# Model Evaluation"
   ]
  },
  {
   "cell_type": "code",
   "execution_count": null,
   "metadata": {},
   "outputs": [],
   "source": []
  },
  {
   "cell_type": "markdown",
   "metadata": {},
   "source": [
    "# Creating and Exporting Predictions"
   ]
  },
  {
   "cell_type": "code",
   "execution_count": null,
   "metadata": {},
   "outputs": [],
   "source": []
  }
 ],
 "metadata": {
  "kernelspec": {
   "display_name": "Python 3",
   "language": "python",
   "name": "python3"
  },
  "language_info": {
   "codemirror_mode": {
    "name": "ipython",
    "version": 3
   },
   "file_extension": ".py",
   "mimetype": "text/x-python",
   "name": "python",
   "nbconvert_exporter": "python",
   "pygments_lexer": "ipython3",
   "version": "3.8.3"
  }
 },
 "nbformat": 4,
 "nbformat_minor": 4
}
