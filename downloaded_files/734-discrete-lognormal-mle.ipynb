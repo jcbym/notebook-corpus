{
 "cells": [
  {
   "cell_type": "code",
   "execution_count": 1,
   "id": "c2b8a0db",
   "metadata": {},
   "outputs": [],
   "source": [
    "import pandas as pd\n",
    "import numpy as np\n",
    "from generate_data import generate_data\n",
    "from discrete_lognormal import DiscreteLognormal\n",
    "import statsmodels.api as sm\n",
    "import matplotlib.pyplot as plt\n",
    "plt.rcParams[\"figure.figsize\"] = (8,5)\n",
    "import seaborn as sns\n",
    "from timeit import default_timer as timer\n",
    "import warnings"
   ]
  },
  {
   "cell_type": "code",
   "execution_count": 2,
   "id": "8480236e",
   "metadata": {},
   "outputs": [
    {
     "name": "stdout",
     "output_type": "stream",
     "text": [
      "Optimization terminated successfully.\n",
      "         Current function value: 30.636796\n",
      "         Iterations: 11\n",
      "         Function evaluations: 12\n",
      "         Gradient evaluations: 12\n",
      "         Hessian evaluations: 11\n"
     ]
    }
   ],
   "source": [
    "data = generate_data()\n",
    "pois = sm.Poisson(data.y, data.x_df)\n",
    "pois_fit = pois.fit(method=\"ncg\")"
   ]
  },
  {
   "cell_type": "code",
   "execution_count": 3,
   "id": "2808ddc5",
   "metadata": {},
   "outputs": [],
   "source": [
    "def get_loss(mod, params):\n",
    "    return mod.nloglikeobs(params).mean()\n",
    "\n",
    "true_params = np.concatenate([data.beta, data.alpha], axis=0)\n",
    "def get_mse(params):\n",
    "    error = params - true_params\n",
    "    return np.mean(error**2)"
   ]
  },
  {
   "cell_type": "code",
   "execution_count": 4,
   "id": "592c5b65",
   "metadata": {
    "scrolled": true
   },
   "outputs": [
    {
     "name": "stdout",
     "output_type": "stream",
     "text": [
      "0\n",
      "1\n",
      "2\n",
      "3\n",
      "4\n",
      "5\n",
      "6\n",
      "7\n",
      "8\n",
      "9\n",
      "10\n",
      "11\n",
      "12\n",
      "13\n",
      "14\n",
      "15\n",
      "16\n",
      "17\n",
      "18\n",
      "19\n",
      "20\n",
      "21\n",
      "22\n",
      "23\n",
      "24\n",
      "25\n",
      "26\n",
      "27\n",
      "28\n",
      "29\n",
      "30\n",
      "31\n",
      "32\n",
      "33\n",
      "34\n",
      "35\n",
      "36\n",
      "37\n",
      "38\n",
      "39\n",
      "40\n",
      "41\n",
      "42\n",
      "43\n",
      "44\n",
      "45\n",
      "46\n",
      "47\n",
      "48\n",
      "49\n",
      "50\n",
      "51\n",
      "52\n",
      "53\n",
      "54\n",
      "55\n",
      "56\n",
      "57\n",
      "58\n",
      "59\n",
      "60\n",
      "61\n",
      "62\n",
      "63\n",
      "64\n",
      "65\n",
      "66\n",
      "67\n",
      "68\n",
      "69\n",
      "70\n",
      "71\n",
      "72\n",
      "73\n",
      "74\n",
      "75\n",
      "76\n",
      "77\n",
      "78\n",
      "79\n",
      "80\n",
      "81\n",
      "82\n",
      "83\n",
      "84\n",
      "85\n",
      "86\n",
      "87\n",
      "88\n",
      "89\n",
      "90\n",
      "91\n",
      "92\n",
      "93\n",
      "94\n",
      "95\n",
      "96\n",
      "97\n",
      "98\n",
      "99\n"
     ]
    }
   ],
   "source": [
    "n_sims = 100\n",
    "names = list(data.x_df)\n",
    "names_alpha = [s + \"_alpha\" for s in names]\n",
    "sim_solver_times = []\n",
    "sim_losses = []\n",
    "sim_mses = []\n",
    "penalty = 1e-4\n",
    "maxiter = 1000\n",
    "n = data.y.size\n",
    "tol = 1e-8 / n\n",
    "\n",
    "with warnings.catch_warnings():\n",
    "    warnings.filterwarnings(\"ignore\")\n",
    "    for i in range(n_sims):\n",
    "        print(i)\n",
    "        data = generate_data()\n",
    "        times = []\n",
    "        losses = []\n",
    "        mses = []\n",
    "\n",
    "        # Seed with poisson parameters\n",
    "        pois = sm.Poisson(data.y, data.x_df)\n",
    "        pois_fit = pois.fit(disp=0)\n",
    "        start_params = np.zeros(22)\n",
    "        start_params[:11] = pois_fit.params\n",
    "        start_params[11] = -1\n",
    "        dln = DiscreteLognormal(data.y, data.x_df, extra_params_names=names_alpha)\n",
    "\n",
    "        start = timer()\n",
    "        dln_mod = dln.fit(method = \"ncg\", start_params = start_params, maxiter=maxiter, penalty=penalty, tol=tol, disp=0)\n",
    "        end = timer()\n",
    "        times.append(end-start)\n",
    "        losses.append(get_loss(dln, dln_mod.params))\n",
    "        mses.append(get_mse(dln_mod.params))\n",
    "\n",
    "        start = timer()\n",
    "        dln_mod = dln.fit(method = \"cg\", start_params = start_params, maxiter=maxiter, penalty=penalty, tol=tol, disp=0)\n",
    "        end = timer()\n",
    "        times.append(end-start)\n",
    "        losses.append(get_loss(dln, dln_mod.params))\n",
    "        mses.append(get_mse(dln_mod.params))\n",
    "\n",
    "        start = timer()\n",
    "        dln_mod = dln.fit(method = \"bfgs\", start_params = start_params, maxiter=maxiter, penalty=penalty, tol=tol, disp=0)\n",
    "        end = timer()\n",
    "        times.append(end-start)\n",
    "        losses.append(get_loss(dln, dln_mod.params))\n",
    "        mses.append(get_mse(dln_mod.params))\n",
    "\n",
    "        start = timer()\n",
    "        dln_mod = dln.fit(method = \"powell\", start_params = start_params, maxiter=maxiter, penalty=penalty, tol=tol, disp=0)\n",
    "        end = timer()\n",
    "        powell = end-start\n",
    "        times.append(end-start)\n",
    "        losses.append(get_loss(dln, dln_mod.params))\n",
    "        mses.append(get_mse(dln_mod.params))\n",
    "\n",
    "        start = timer()\n",
    "        dln_mod = dln.fit(method = \"newton\", start_params = start_params, maxiter=maxiter, penalty=penalty, tol=tol, disp=0)\n",
    "        end = timer()\n",
    "        newton = end-start\n",
    "        times.append(end-start)\n",
    "        losses.append(get_loss(dln, dln_mod.params))\n",
    "        mses.append(get_mse(dln_mod.params))\n",
    "        \n",
    "        start = timer()\n",
    "        dln_mod = dln.fit(method = \"EM\", start_params=start_params, use_hessian=False, maxiter=maxiter, penalty=penalty, step_size=1e-3, tol=tol, disp=0)\n",
    "        end = timer()\n",
    "        newton = end-start\n",
    "        times.append(end-start)\n",
    "        losses.append(get_loss(dln, dln_mod.params))\n",
    "        mses.append(get_mse(dln_mod.params))\n",
    "        \n",
    "        start = timer()\n",
    "        dln_mod = dln.fit(method = \"EM\", start_params=start_params, use_hessian=True, maxiter=maxiter, penalty=penalty, tol=tol, disp=0)\n",
    "        end = timer()\n",
    "        newton = end-start\n",
    "        times.append(end-start)\n",
    "        losses.append(get_loss(dln, dln_mod.params))\n",
    "        mses.append(get_mse(dln_mod.params))\n",
    "\n",
    "        sim_solver_times.append(times)\n",
    "        sim_losses.append(losses)\n",
    "        sim_mses.append(mses)"
   ]
  },
  {
   "cell_type": "code",
   "execution_count": 5,
   "id": "6b0a8838",
   "metadata": {},
   "outputs": [
    {
     "data": {
      "image/png": "[encoded data removed]",
      "text/plain": [
       "<Figure size 576x360 with 1 Axes>"
      ]
     },
     "metadata": {
      "needs_background": "light"
     },
     "output_type": "display_data"
    }
   ],
   "source": [
    "cols = [\"ncg\", \"cg\", \"bfgs\", \"powell\", \"newton\", \"EM1\", \"EM2\"]\n",
    "times_df = pd.DataFrame(\n",
    "    sim_solver_times,\n",
    "    columns=cols)\n",
    "times_long_df = pd.melt(times_df.reset_index(), id_vars=\"index\", var_name=\"Algorithm\" ,value_vars=cols, value_name=\"Time\")\n",
    "times_long_df = times_long_df.rename({\"index\": \"Simulation\"}, axis=1)\n",
    "sns.boxplot(\n",
    "    x = times_long_df.Algorithm,\n",
    "    y = times_long_df.Time,\n",
    "    order=[\"EM2\", \"bfgs\", \"newton\", \"ncg\", \"cg\", \"powell\", \"EM1\"]\n",
    ")\n",
    "plt.tight_layout()\n",
    "plt.savefig(\"./plots/runtimes.png\")\n",
    "plt.show()"
   ]
  },
  {
   "cell_type": "code",
   "execution_count": 6,
   "id": "d16dc882",
   "metadata": {},
   "outputs": [
    {
     "data": {
      "image/png": "[encoded data removed]",
      "text/plain": [
       "<Figure size 576x360 with 1 Axes>"
      ]
     },
     "metadata": {
      "needs_background": "light"
     },
     "output_type": "display_data"
    }
   ],
   "source": [
    "losses_df = pd.DataFrame(\n",
    "    sim_losses,\n",
    "    columns=cols)\n",
    "losses_long_df = pd.melt(losses_df.reset_index(), id_vars=\"index\", var_name=\"Algorithm\" ,value_vars=cols, value_name=\"Loss\")\n",
    "losses_long_df = losses_long_df.rename({\"index\": \"Simulation\"}, axis=1)\n",
    "sns.boxplot(\n",
    "    x = losses_long_df.Algorithm,\n",
    "    y = losses_long_df.Loss)\n",
    "plt.tight_layout()\n",
    "plt.savefig(\"./plots/losses.png\")\n",
    "plt.show()"
   ]
  },
  {
   "cell_type": "code",
   "execution_count": 7,
   "id": "d2b49711",
   "metadata": {},
   "outputs": [
    {
     "data": {
      "image/png": "[encoded data removed]",
      "text/plain": [
       "<Figure size 576x360 with 1 Axes>"
      ]
     },
     "metadata": {
      "needs_background": "light"
     },
     "output_type": "display_data"
    }
   ],
   "source": [
    "mses_df = pd.DataFrame(\n",
    "    sim_mses,\n",
    "    columns=cols)\n",
    "mses_long_df = pd.melt(mses_df.reset_index(), id_vars=\"index\", var_name=\"Algorithm\" ,value_vars=cols, value_name=\"MSE\")\n",
    "mses_long_df = mses_long_df.rename({\"index\": \"Simulation\"}, axis=1)\n",
    "sns.boxplot(\n",
    "    x = mses_long_df.Algorithm,\n",
    "    y = mses_long_df.MSE)\n",
    "plt.tight_layout()\n",
    "plt.savefig(\"./plots/MSE.png\")\n",
    "plt.show()"
   ]
  },
  {
   "cell_type": "code",
   "execution_count": 8,
   "id": "bafb5f19",
   "metadata": {},
   "outputs": [
    {
     "data": {
      "image/png": "[encoded data removed]",
      "text/plain": [
       "<Figure size 792x252 with 3 Axes>"
      ]
     },
     "metadata": {
      "needs_background": "light"
     },
     "output_type": "display_data"
    }
   ],
   "source": [
    "fig, ax = plt.subplots(1, 3, figsize=(11, 3.5))\n",
    "\n",
    "algorithm_order = [\"EM2\", \"bfgs\", \"newton\", \"ncg\", \"cg\", \"powell\", \"EM1\"]\n",
    "rotate_degrees = 30\n",
    "sns.boxplot(\n",
    "    x = times_long_df.Algorithm,\n",
    "    y = times_long_df.Time,\n",
    "    order=algorithm_order,\n",
    "    ax=ax[0]\n",
    ")\n",
    "ax[0].tick_params(axis='x', labelrotation=rotate_degrees)\n",
    "ax[0].set_title(\"(a) Runtime\")\n",
    "\n",
    "sns.boxplot(\n",
    "    x = losses_long_df.Algorithm,\n",
    "    y = losses_long_df.Loss,\n",
    "    order=algorithm_order,\n",
    "    ax=ax[1]\n",
    ")\n",
    "ax[1].tick_params(axis='x', labelrotation=rotate_degrees)\n",
    "ax[1].set_title(\"(b) Loss at Optimum\")\n",
    "\n",
    "sns.boxplot(\n",
    "    x = mses_long_df.Algorithm,\n",
    "    y = mses_long_df.MSE,\n",
    "    order=algorithm_order,\n",
    "    ax=ax[2]\n",
    ")\n",
    "ax[2].tick_params(axis='x', labelrotation=rotate_degrees)\n",
    "ax[2].set_title(r\"(c) MSE for $(\\beta\\ \\alpha)'$\")\n",
    "\n",
    "plt.tight_layout()\n",
    "fig.savefig(\"./plots/algorithm_comparison.png\")\n",
    "plt.savefig(\"./plots/MSE.png\")\n",
    "plt.show()"
   ]
  },
  {
   "cell_type": "code",
   "execution_count": 9,
   "id": "07967ceb",
   "metadata": {
    "scrolled": true
   },
   "outputs": [
    {
     "name": "stdout",
     "output_type": "stream",
     "text": [
      "\\begin{tabular}{llllllll}\n",
      "\\toprule\n",
      "\\textbf{Algorithm   } &   EM2 &  bfgs &  newton &   ncg &    cg &  powell &   EM1 \\\\\n",
      "\\textbf{Mean Runtime} & 0.042 & 0.098 &   0.125 & 0.184 & 0.397 &   0.468 & 0.723 \\\\\n",
      "\\bottomrule\n",
      "\\end{tabular}\n",
      "\n"
     ]
    }
   ],
   "source": [
    "mean_times_df = times_long_df.groupby(\"Algorithm\")[\"Time\"].mean().reset_index()\n",
    "mean_times_df = mean_times_df.rename({\"Time\": \"Mean Runtime\"}, axis=1)\n",
    "mean_times_df = mean_times_df.sort_values(by=\"Mean Runtime\")\n",
    "mean_times_latex = mean_times_df.T.to_latex(\n",
    "    header=False,\n",
    "    float_format=\"{:0.3f}\".format,\n",
    "    bold_rows=True\n",
    ")\n",
    "print(mean_times_latex)"
   ]
  }
 ],
 "metadata": {
  "kernelspec": {
   "display_name": "Python 3",
   "language": "python",
   "name": "python3"
  },
  "language_info": {
   "codemirror_mode": {
    "name": "ipython",
    "version": 3
   },
   "file_extension": ".py",
   "mimetype": "text/x-python",
   "name": "python",
   "nbconvert_exporter": "python",
   "pygments_lexer": "ipython3",
   "version": "3.8.8"
  }
 },
 "nbformat": 4,
 "nbformat_minor": 5
}
