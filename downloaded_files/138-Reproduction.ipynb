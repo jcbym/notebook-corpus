{
 "cells": [
  {
   "cell_type": "markdown",
   "metadata": {},
   "source": [
    "## Erdos-Renyi Network"
   ]
  },
  {
   "cell_type": "markdown",
   "metadata": {},
   "source": [
    "### Import Modules"
   ]
  },
  {
   "cell_type": "code",
   "execution_count": 1,
   "metadata": {},
   "outputs": [],
   "source": [
    "import random\n",
    "from tqdm import tqdm\n",
    "import numpy as np\n",
    "import pandas as pd\n",
    "import matplotlib.pyplot as plt\n",
    "import seaborn as sns\n",
    "from scipy.optimize import curve_fit\n",
    "from scipy.special import factorial\n",
    "from scipy.stats import poisson\n",
    "from scipy.optimize import minimize\n",
    "from scipy import stats\n",
    "from collections import deque\n",
    "import networkx as nx"
   ]
  },
  {
   "cell_type": "markdown",
   "metadata": {},
   "source": [
    "### Network Initialize"
   ]
  },
  {
   "cell_type": "code",
   "execution_count": 112,
   "metadata": {},
   "outputs": [
    {
     "name": "stdout",
     "output_type": "stream",
     "text": [
      "Network Size : 1000000\n",
      "Mean Degree : 10\n"
     ]
    }
   ],
   "source": [
    "size = int(input(\"Network Size : \").strip())\n",
    "mean_degree = int(input(\"Mean Degree : \").strip())\n",
    "edge_prob = mean_degree / size * 2"
   ]
  },
  {
   "cell_type": "markdown",
   "metadata": {},
   "source": [
    "### ER Network Class"
   ]
  },
  {
   "cell_type": "code",
   "execution_count": 113,
   "metadata": {},
   "outputs": [],
   "source": [
    "class ERN:\n",
    "    def __init__(self, size, edge_prob):\n",
    "        self.size = size\n",
    "        self.edge_prob = edge_prob\n",
    "        self.degree = dict()\n",
    "        self.adjacent = dict()\n",
    "        self.num_of_links = 0\n",
    "        self.largest_cluster = []\n",
    "        \n",
    "    def generate(self):\n",
    "        nodes = [i for i in range(self.size)]\n",
    "        \n",
    "        for node in range(self.size):\n",
    "            self.adjacent[node] = []\n",
    "            self.degree[node] = 0\n",
    "        \n",
    "        for self.num_of_links in tqdm(range(int(self.edge_prob * self.size * (self.size - 1) / 2.0))):\n",
    "            node1, node2 = random.sample(nodes, 2)\n",
    "            if node2 not in self.adjacent[node1]:\n",
    "                self.degree[node1] += 1\n",
    "                self.adjacent[node1].append(node2)\n",
    "    \n",
    "    def fast_generate(self):\n",
    "        link_max = int(self.edge_prob * self.size * (self.size - 1) / 2.0)\n",
    "        samples = np.random.randint(low=0, high=self.size-1, size=link_max*4).reshape(-1, 2)\n",
    "        print(samples.shape, link_max)\n",
    "        idx_filter = (samples[:, 0] - samples[:, 1]).astype(bool)\n",
    "        samples = samples[idx_filter][:link_max]\n",
    "        print(samples.shape, link_max)\n",
    "        samples = np.unique(samples, axis=0)\n",
    "        print(samples.shape)\n",
    "        \n",
    "        for node in range(self.size):\n",
    "            self.adjacent[node] = []\n",
    "            self.degree[node] = 0\n",
    "        \n",
    "        for node1, node2 in tqdm(samples):\n",
    "            if node2 not in self.adjacent[node1]:\n",
    "                self.degree[node1] += 1\n",
    "                self.adjacent[node1].append(node2)\n",
    "        \n",
    "    def plot_degree_dist(self):\n",
    "        dat = sorted(self.degree.values(), reverse=False)\n",
    "        plt.figure(figsize=(10, 6))\n",
    "        sns.countplot(dat)\n",
    "        plt.show()\n",
    "        \n",
    "    @staticmethod\n",
    "    def poisson(k, lamb):\n",
    "        return (lamb**k/factorial(k)) * np.exp(-lamb)\n",
    "    \n",
    "    @staticmethod\n",
    "    def negative_log_likelihood(params, data):\n",
    "        ''' better alternative using scipy '''\n",
    "        return -stats.poisson.logpmf(data, params[0]).sum()\n",
    "    \n",
    "    def fit_poisson(self):\n",
    "        dat = sorted(self.degree.values(), reverse=False)\n",
    "        data = dict()\n",
    "        for item in dat:\n",
    "            if item in data.keys():\n",
    "                data[item] += 1\n",
    "            else:\n",
    "                data[item] = 1\n",
    "                \n",
    "        plt.figure(figsize=(10, 6))\n",
    "        \n",
    "        x_data = np.array(list(data.keys()))\n",
    "        y_data = np.array(list(data.values()))\n",
    "        \n",
    "        result = minimize(self.negative_log_likelihood,  # function to minimize\n",
    "                  x0=np.ones(1),               # start value\n",
    "                  args=(dat, ),             # additional arguments for function\n",
    "                  method='Powell',             # minimization method, see docs\n",
    "                  )\n",
    "        # result is a scipy optimize result object, the fit parameters \n",
    "        # are stored in result.x\n",
    "        print(result)\n",
    "\n",
    "        # plot poisson-distribution with fitted parameter\n",
    "        x_plot = x_data\n",
    "        fig = plt.figure()\n",
    "        plt.bar(x_data, y_data/sum(y_data))\n",
    "        plt.plot(\n",
    "            x_plot,\n",
    "            stats.poisson.pmf(x_data, *result.x),\n",
    "            marker='o', linestyle='',\n",
    "            label='Fit result',\n",
    "            color='r'\n",
    "        )\n",
    "        plt.legend()\n",
    "        plt.show()\n",
    "        fig.savefig(\"./ern.png\")\n",
    "    \n",
    "    def bfs2(self, start):\n",
    "        # keep track of all visited nodes\n",
    "        explored = []\n",
    "        # keep track of nodes to be checked\n",
    "        queue = [start]\n",
    "\n",
    "        # keep looping until there are nodes still to be checked\n",
    "        while queue:\n",
    "            # pop shallowest node (first node) from queue\n",
    "            node = queue.pop(0)\n",
    "            if node not in explored:\n",
    "                # add node to list of checked nodes\n",
    "                explored.append(node)\n",
    "                neighbours = self.adjacent[node]\n",
    "\n",
    "                # add neighbours of node to queue\n",
    "                for neighbour in neighbours:\n",
    "                    queue.append(neighbour)\n",
    "        return explored\n",
    "    \n",
    "    def bfs(self, root):\n",
    "        visited = []\n",
    "        queue = deque([root])\n",
    "\n",
    "        while queue:\n",
    "            n = queue.popleft()\n",
    "            if n not in visited:\n",
    "                visited.append(n)\n",
    "                queue += set(self.adjacent[n]) - set(visited)\n",
    "        return visited\n",
    "    \n",
    "    def bfs3(self, root):\n",
    "        visited = []\n",
    "        buf = self.adjacent[root]\n",
    "        \n",
    "        while buf:\n",
    "            n = buf.pop(0)\n",
    "            \n",
    "            if n not in visited:\n",
    "                visited.append(n)\n",
    "                buf += list(set(self.adjacent[n]) - set(visited))\n",
    "                \n",
    "        return visited\n",
    "    \n",
    "    def burning(self):\n",
    "        max_length = 0\n",
    "        for node in tqdm(range(self.size)):\n",
    "            buf = self.bfs3(node)\n",
    "            if len(buf) > max_length:\n",
    "                max_length = len(buf)\n",
    "                self.largest_cluster = buf     "
   ]
  },
  {
   "cell_type": "code",
   "execution_count": 114,
   "metadata": {},
   "outputs": [],
   "source": [
    "ern = ERN(size, edge_prob)"
   ]
  },
  {
   "cell_type": "code",
   "execution_count": 115,
   "metadata": {},
   "outputs": [
    {
     "name": "stdout",
     "output_type": "stream",
     "text": [
      "(19999980, 2) 9999990\n",
      "(9999990, 2) 9999990\n",
      "(9999944, 2)\n"
     ]
    },
    {
     "name": "stderr",
     "output_type": "stream",
     "text": [
      "100%|████████████████████████████████████████████████████| 9999944/9999944 [00:48<00:00, 204858.12it/s]\n"
     ]
    }
   ],
   "source": [
    "ern.fast_generate()"
   ]
  },
  {
   "cell_type": "code",
   "execution_count": 116,
   "metadata": {},
   "outputs": [
    {
     "name": "stdout",
     "output_type": "stream",
     "text": [
      "   direc: array([[0.00462553]])\n",
      "     fun: 2561325.232641729\n",
      " message: 'Optimization terminated successfully.'\n",
      "    nfev: 38\n",
      "     nit: 2\n",
      "  status: 0\n",
      " success: True\n",
      "       x: array([9.99994407])\n"
     ]
    },
    {
     "data": {
      "text/plain": [
       "<Figure size 720x432 with 0 Axes>"
      ]
     },
     "metadata": {},
     "output_type": "display_data"
    },
    {
     "data": {
      "image/png": "[encoded data removed]",
      "text/plain": [
       "<Figure size 432x288 with 1 Axes>"
      ]
     },
     "metadata": {
      "needs_background": "light"
     },
     "output_type": "display_data"
    }
   ],
   "source": [
    "ern.fit_poisson()"
   ]
  },
  {
   "cell_type": "code",
   "execution_count": 111,
   "metadata": {},
   "outputs": [
    {
     "data": {
      "text/plain": [
       "4"
      ]
     },
     "execution_count": 111,
     "metadata": {},
     "output_type": "execute_result"
    }
   ],
   "source": [
    "ern.degree[0]"
   ]
  },
  {
   "cell_type": "code",
   "execution_count": 100,
   "metadata": {},
   "outputs": [
    {
     "data": {
      "text/plain": [
       "[4066, 37859, 52153, 61205, 79844]"
      ]
     },
     "execution_count": 100,
     "metadata": {},
     "output_type": "execute_result"
    }
   ],
   "source": [
    "ern.adjacent[0]"
   ]
  },
  {
   "cell_type": "code",
   "execution_count": null,
   "metadata": {},
   "outputs": [],
   "source": []
  }
 ],
 "metadata": {
  "kernelspec": {
   "display_name": "Python 3",
   "language": "python",
   "name": "python3"
  },
  "language_info": {
   "codemirror_mode": {
    "name": "ipython",
    "version": 3
   },
   "file_extension": ".py",
   "mimetype": "text/x-python",
   "name": "python",
   "nbconvert_exporter": "python",
   "pygments_lexer": "ipython3",
   "version": "3.7.7"
  }
 },
 "nbformat": 4,
 "nbformat_minor": 4
}
