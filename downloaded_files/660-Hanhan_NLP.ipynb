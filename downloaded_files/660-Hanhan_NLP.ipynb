{
 "cells": [
  {
   "cell_type": "code",
   "execution_count": 1,
   "metadata": {
    "collapsed": true
   },
   "outputs": [],
   "source": [
    "#!/usr/bin/env python\n",
    "from textblob import TextBlob"
   ]
  },
  {
   "cell_type": "code",
   "execution_count": 25,
   "metadata": {
    "collapsed": true
   },
   "outputs": [],
   "source": [
    "blob = TextBlob(\"\"\"Baby Emmanuel is very adorable! Obviously, among all the languages, Python is not his strength, \n",
    "       (I felt his SQL and C# maybe better) but he's still trying to answer StackOverflow questions in Python. What\n",
    "       I love most is his structure thinking, the way he solves problems. No matter whether you are familiar with\n",
    "       a computing language, problem solving skills can make a difference. I can see his potentials, and look forward\n",
    "       to see him thrive along the career path he's choosing. Penetration Testing looks really really cool! I'm\n",
    "       learning from books now, but very very slow, and I'm still thinking whether I should get a new laptop, installing\n",
    "       a workstation and try penetration testing on it? How I hope my baby Emmanuel will go to DEF CON! \n",
    "       I think that's the most excited event for cyber security fans, although at this momnet, not sure whether \n",
    "       I can go in 2018, depends on the speed of Canada government. I really want to strengthen my practical skills \n",
    "       in cyber security data science, build my network and broaden my eyes, talking to those experts can help. I also\n",
    "       think baby Emmanuel loves playing video games is very cool! I love reading as a way to relax, but if he's my\n",
    "       boyfriend, I can learn to play video games with him. Sitting with him, even just to keep quiet, always made me\n",
    "       feel peaceful and secure. He also has a pretty good taste of life. Having food with him, is easier to share\n",
    "       similar opinion towards the food. I love baby Emmanuel, I was so lucky that I had him sitting there with me\n",
    "       in those days when I was looking for myself. Still not sure why he added my Skype back but then blocked me on\n",
    "       2018-01-03. I want Canada PR, because it's much faster to get citizenship in Canada and I want to secure my\n",
    "       future in US or Canada, these 2 countries are very close, not just geologically. I will just focus on my career\n",
    "and follow my passion now, living a healthy life, keep positive and look forward to see what future will bring to me.\"\"\")"
   ]
  },
  {
   "cell_type": "code",
   "execution_count": 26,
   "metadata": {},
   "outputs": [
    {
     "data": {
      "text/plain": [
       "[Sentence(\"Baby Emmanuel is very adorable!\"),\n",
       " Sentence(\"Obviously, among all the languages, Python is not his strength, \n",
       "        (I felt his SQL and C# maybe better) but he's still trying to answer StackOverflow questions in Python.\"),\n",
       " Sentence(\"What\n",
       "        I love most is his structure thinking, the way he solves problems.\"),\n",
       " Sentence(\"No matter whether you are familiar with\n",
       "        a computing language, problem solving skills can make a difference.\"),\n",
       " Sentence(\"I can see his potentials, and look forward\n",
       "        to see him thrive along the career path he's choosing.\"),\n",
       " Sentence(\"Penetration Testing looks really really cool!\"),\n",
       " Sentence(\"I'm\n",
       "        learning from books now, but very very slow, and I'm still thinking whether I should get a new laptop, installing\n",
       "        a workstation and try penetration testing on it?\"),\n",
       " Sentence(\"How I hope my baby Emmanuel will go to DEF CON!\"),\n",
       " Sentence(\"I think that's the most excited event for cyber security fans, although at this momnet, not sure whether \n",
       "        I can go in 2018, depends on the speed of Canada government.\"),\n",
       " Sentence(\"I really want to strengthen my practical skills \n",
       "        in cyber security data science, build my network and broaden my eyes, talking to those experts can help.\"),\n",
       " Sentence(\"I also\n",
       "        think baby Emmanuel loves playing video games is very cool!\"),\n",
       " Sentence(\"I love reading as a way to relax, but if he's my\n",
       "        boyfriend, I can learn to play video games with him.\"),\n",
       " Sentence(\"Sitting with him, even just to keep quiet, always made me\n",
       "        feel peaceful and secure.\"),\n",
       " Sentence(\"He also has a pretty good taste of life.\"),\n",
       " Sentence(\"Having food with him, is easier to share\n",
       "        similar opinion towards the food.\"),\n",
       " Sentence(\"I love baby Emmanuel, I was so lucky that I had him sitting there with me\n",
       "        in those days when I was looking for myself.\"),\n",
       " Sentence(\"Still not sure why he added my Skype back but then blocked me on\n",
       "        2018-01-03.\"),\n",
       " Sentence(\"I want Canada PR, because it's much faster to get citizenship in Canada and I want to secure my\n",
       "        future in US or Canada, these 2 countries are very close, not just geologically.\"),\n",
       " Sentence(\"I will just focus on my career\n",
       " and follow my passion now, living a healthy life, keep positive and look forward to see what future will bring to me.\")]"
      ]
     },
     "execution_count": 26,
     "metadata": {},
     "output_type": "execute_result"
    }
   ],
   "source": [
    "# tokenization\n",
    "blob.sentences"
   ]
  },
  {
   "cell_type": "code",
   "execution_count": 27,
   "metadata": {},
   "outputs": [
    {
     "data": {
      "text/plain": [
       "WordList(['How', 'I', 'hope', 'my', 'baby', 'Emmanuel', 'will', 'go', 'to', 'DEF', 'CON'])"
      ]
     },
     "execution_count": 27,
     "metadata": {},
     "output_type": "execute_result"
    }
   ],
   "source": [
    "blob.sentences[7].words"
   ]
  },
  {
   "cell_type": "code",
   "execution_count": 28,
   "metadata": {},
   "outputs": [
    {
     "name": "stdout",
     "output_type": "stream",
     "text": [
      "set([u'cyber security fans', u'pretty good taste', u'cyber security data science', 'stackoverflow', 'emmanuel', u'penetration testing', 'skype', u'career path', 'canada', u'practical skills', u'similar opinion', u'healthy life', u'c #', u'new laptop', u'def con', 'python', u'solves problems', 'sql', u'canada pr', u'video games', 'obviously', u'baby emmanuel'])\n"
     ]
    }
   ],
   "source": [
    "# Noun Phrase Extraction\n",
    "noun_phrase_set = set([noun_phrase for noun_phrase in blob.noun_phrases])\n",
    "print noun_phrase_set"
   ]
  },
  {
   "cell_type": "code",
   "execution_count": 29,
   "metadata": {},
   "outputs": [
    {
     "name": "stdout",
     "output_type": "stream",
     "text": [
      "('adorable', u'JJ')\n",
      "('Obviously', u'RB')\n",
      "('among', u'IN')\n",
      "('all', u'PDT')\n",
      "('the', u'DT')\n",
      "('languages', u'NNS')\n"
     ]
    }
   ],
   "source": [
    "# POS (part-of-speech) tagging\n",
    "for words, tag in blob.tags[4:10]:\n",
    "    print (words, tag)"
   ]
  },
  {
   "cell_type": "code",
   "execution_count": 30,
   "metadata": {},
   "outputs": [
    {
     "name": "stdout",
     "output_type": "stream",
     "text": [
      "set([u'cyber security fans', u'pretty good taste', u'cyber security data science', 'stackoverflow', 'emmanuel', u'penetration testing', 'skype', u'career path', 'canada', u'practical skills', u'similar opinion', u'healthy life', u'c #', u'new laptop', u'def con', 'python', u'solves problems', 'sql', u'canada pr', u'video games', 'obviously', u'baby emmanuel'])\n",
      "Singularized Noun Phrase: [u'cyber security fan', u'pretty good taste', u'cyber security data science', 'stackoverflow', 'emmanuel', u'penetration testing', 'skype', u'career path', 'canada', u'practical skill', u'similar opinion', u'healthy life', u'c #', u'new laptop', u'def con', 'python', u'solves problem', 'sql', u'canada pr', u'video game', 'obviously', u'baby emmanuel']\n",
      "Plural Noun Phrase: [u'cyber security fans', u'pretty good tastes', u'cyber security data sciences', 'stackoverflows', u'penetration testings', 'skypes', u'career paths', 'canadas', u'practical skills', u'similar opinions', u'healthy lives', u'c #s', u'new laptops', u'def cons', 'pythons', u'solves problems', 'sqls', u'canada prs', u'video games', 'obviouslies']\n"
     ]
    }
   ],
   "source": [
    "# Words Inflection - just singular or plural\n",
    "print noun_phrase_set\n",
    "singular_np = [np.singularize() for np in list(noun_phrase_set)]\n",
    "print 'Singularized Noun Phrase:', singular_np\n",
    "plural_np = [np.pluralize() for np in singular_np if 'emmanuel' not in np]\n",
    "print 'Plural Noun Phrase:', plural_np"
   ]
  },
  {
   "cell_type": "code",
   "execution_count": 36,
   "metadata": {},
   "outputs": [
    {
     "name": "stdout",
     "output_type": "stream",
     "text": [
      "['Obviously', 'among', 'all', 'the', 'languages', 'Python', 'is', 'not', 'his', 'strength', 'I', 'felt', 'his', 'SQL', 'and', 'C', 'maybe', 'better', 'but', 'he', \"'s\", 'still', 'trying', 'to', 'answer', 'StackOverflow', 'questions', 'in', 'Python']\n",
      "['Obviously', 'among', 'all', 'the', u'language', 'Python', 'is', 'not', 'his', 'strength', 'I', 'felt', 'his', 'SQL', 'and', 'C', 'maybe', 'better', 'but', 'he', \"'s\", 'still', 'trying', 'to', 'answer', 'StackOverflow', u'question', 'in', 'Python']\n"
     ]
    }
   ],
   "source": [
    "# lemmatization\n",
    "print blob.sentences[1].words\n",
    "lemmed_np = [w.lemmatize() for w in blob.sentences[1].words]\n",
    "print lemmed_np\n",
    "## It seems that \"better\" didn't get changed to \"good\""
   ]
  },
  {
   "cell_type": "code",
   "execution_count": 41,
   "metadata": {},
   "outputs": [
    {
     "name": "stdout",
     "output_type": "stream",
     "text": [
      "[WordList(['adorable', 'Obviously', 'among']), WordList(['Obviously', 'among', 'all']), WordList(['among', 'all', 'the']), WordList(['all', 'the', 'languages']), WordList(['the', 'languages', 'Python']), WordList(['languages', 'Python', 'is'])]\n"
     ]
    }
   ],
   "source": [
    "# N-grams\n",
    "ngrams = blob.ngrams(3)\n",
    "print ngrams[4:10]"
   ]
  },
  {
   "cell_type": "code",
   "execution_count": 42,
   "metadata": {},
   "outputs": [
    {
     "name": "stdout",
     "output_type": "stream",
     "text": [
      "Sentiment(polarity=0.26593158143939394, subjectivity=0.536232638888889)\n"
     ]
    }
   ],
   "source": [
    "# Sentiment Analysis\n",
    "print blob.sentiment"
   ]
  },
  {
   "cell_type": "code",
   "execution_count": 47,
   "metadata": {},
   "outputs": [
    {
     "name": "stdout",
     "output_type": "stream",
     "text": [
      "Sentiment(polarity=0.625, subjectivity=0.6)\n",
      "Sentiment(polarity=-1.0, subjectivity=0.9)\n",
      "Sentiment(polarity=0.0, subjectivity=0.05)\n"
     ]
    }
   ],
   "source": [
    "test_sent = TextBlob(\"I love Emmanuel!\")\n",
    "print test_sent.sentiment\n",
    "test_sent = TextBlob(\"I hate raining season!\")\n",
    "print test_sent.sentiment\n",
    "test_sent = TextBlob(\"Apple is red, ocean is blue, ice-cream is tasty\")\n",
    "print test_sent.sentiment\n",
    "\n",
    "# It seems that positive value for polarity is Positive, negative value is negative.\n",
    "# subjectivity indicates how subjective you opinion is"
   ]
  },
  {
   "cell_type": "code",
   "execution_count": 50,
   "metadata": {},
   "outputs": [
    {
     "data": {
      "text/plain": [
       "TextBlob(\"Baby Emmauel is very adorable! Obviously, among all the languages, Python is not his strength, \n",
       "       (I felt his SQL and C# maybe better) but he's still trying to answer StackOverflow questions in Python. That\n",
       "       I love most is his structure thinking, the way he solved problems. To matter whether you are familiar with\n",
       "       a computing language, problem solving skill can make a difference. I can see his potential, and look forward\n",
       "       to see him thrive along the career path he's choosing. Penetration Resting looks really really cool! I'm\n",
       "       learning from books now, but very very slow, and I'm still thinking whether I should get a new lawton, installing\n",
       "       a workstation and try penetration testing on it? Now I hope my baby Emmanuel will go to DEF CON! \n",
       "       I think that's the most excited event for saber security fan, although at this moment, not sure whether \n",
       "       I can go in 2018, depends on the speed of Canada government. I really want to strengthen my practical skill \n",
       "       in saber security data science, build my network and broaden my eyes, talking to those experts can help. I also\n",
       "       think baby Emmauel loves playing video games is very cool! I love reading as a way to relax, but if he's my\n",
       "       boyfriend, I can learn to play video games with him. Sitting with him, even just to keep quiet, always made me\n",
       "       feel peaceful and secure. He also has a pretty good taste of life. Having food with him, is easier to share\n",
       "       similar opinion towards the food. I love baby Emmanuel, I was so lucky that I had him sitting there with me\n",
       "       in those days when I was looking for myself. Still not sure why he added my Type back but then blocked me on\n",
       "       2018-01-03. I want Canada of, because it's much faster to get citizenship in Canada and I want to secure my\n",
       "       future in of or Canada, these 2 countries are very close, not just geological. I will just focus on my career\n",
       "and follow my passion now, living a healthy life, keep positive and look forward to see what future will bring to me.\")"
      ]
     },
     "execution_count": 50,
     "metadata": {},
     "output_type": "execute_result"
    }
   ],
   "source": [
    "# Spelling correction - has to apply on TextBlob object\n",
    "bolb.correct()"
   ]
  },
  {
   "cell_type": "code",
   "execution_count": 56,
   "metadata": {},
   "outputs": [
    {
     "name": "stdout",
     "output_type": "stream",
     "text": [
      "[[('adorable', 1.0)], [(u'Obviously', 1.0)], [('among', 1.0)], [('all', 1.0)], [('the', 1.0)], [('languages', 1.0)]]\n"
     ]
    }
   ],
   "source": [
    "# Spelling check confidence - has to apply on TextBlob object's words\n",
    "spelling_conf = [w.spellcheck() for w in blob.words[4:10]]\n",
    "print spelling_conf"
   ]
  },
  {
   "cell_type": "code",
   "execution_count": 57,
   "metadata": {},
   "outputs": [
    {
     "data": {
      "text/plain": [
       "u'en'"
      ]
     },
     "execution_count": 57,
     "metadata": {},
     "output_type": "execute_result"
    }
   ],
   "source": [
    "# Language Translation\n",
    "blob.detect_language()"
   ]
  },
  {
   "cell_type": "code",
   "execution_count": 61,
   "metadata": {},
   "outputs": [
    {
     "data": {
      "text/plain": [
       "TextBlob(\"宝贝伊曼纽尔很可爱！显然，在所有的语言中，Python不是他的力量，\n",
       "       （我觉得他的SQL和C＃可能更好），但他仍然试图在Python中回答StackOverflow问题。什么\n",
       "       我最喜欢的是他的结构思维，他解决问题的方式。不管你是否熟悉\n",
       "       一种计算语言，解决问题的技巧可以有所作为。我可以看到他的潜力，并期待\n",
       "       看到他在他选择的职业道路上茁壮成长。渗透测试看起来非常酷！我\n",
       "       现在从书本上学习，但速度非常缓慢，我仍在考虑是否应该安装新的笔记本电脑\n",
       "       一台工作站并尝试对其进行渗透测试？我希望我的宝贝伊曼纽尔会去DEF CON！\n",
       "       我认为这对网络安全粉丝来说是最激动人心的事件，尽管在这个家庭中，我不确定是否\n",
       "       我可以在2018年，取决于加拿大政府的速度。我真的想加强我的实践技能\n",
       "       在网络安全数据科学中，建立我的网络并拓宽我的视野，与专家交谈可以提供帮助。我也\n",
       "       想婴儿埃马纽埃尔喜欢玩电子游戏是非常酷的！我喜欢阅读作为放松的方式，但如果他是我的\n",
       "       男朋友，我可以学习和他一起玩电子游戏。与他坐在一起，即使只是为了保持安静，也总是让我\n",
       "       感到安宁和安全。他也有相当不错的生活品味。与他一起吃饭，更容易分享\n",
       "       对食物的类似意见。我爱婴儿伊曼纽尔，我非常幸运，因此我让他坐在那里和我一起\n",
       "       在我寻找自己的那些日子里。仍然不知道为什么他加我的Skype回来，但然后阻止我\n",
       "       2018年1月3日。我想加拿大公关，因为在加拿大获得公民身份要快得多，我想要保护我的公民\n",
       "       未来在美国或加拿大，这两个国家非常接近，而不仅仅是地质。我只会专注于我的职业生涯\n",
       "现在就跟随我的热情，过上健康的生活，保持积极的态度，期待看到未来会给我带来什么。\")"
      ]
     },
     "execution_count": 61,
     "metadata": {},
     "output_type": "execute_result"
    }
   ],
   "source": [
    "blob.translate(from_lang='en', to ='zh-CN')  # to Chinese, not bad"
   ]
  },
  {
   "cell_type": "code",
   "execution_count": 62,
   "metadata": {},
   "outputs": [
    {
     "data": {
      "text/plain": [
       "TextBlob(\"¡Baby Emmanuel es muy adorable! Obviamente, entre todos los idiomas, Python no es su fuerza,\n",
       "       (Creo que su SQL y C # quizás sean mejores) pero aún está tratando de responder preguntas de StackOverflow en Python. Qué\n",
       "       Lo que más me gusta es su forma de pensar, la forma en que resuelve los problemas. No importa si está familiarizado con\n",
       "       un lenguaje informático, las habilidades de resolución de problemas pueden marcar la diferencia. Puedo ver su potencial y mirar hacia adelante\n",
       "       para verlo prosperar a lo largo de la carrera que está eligiendo. Penetration Testing se ve realmente genial! estoy\n",
       "       aprendiendo de los libros ahora, pero muy muy lento, y todavía estoy pensando si debería obtener una nueva computadora portátil, instalando\n",
       "       una estación de trabajo y prueba de penetración en ella? ¡Cómo espero que mi bebé Emmanuel vaya a DEF CON!\n",
       "       Creo que es el evento más emocionado para los fanáticos de la seguridad cibernética, aunque en este momento, no estoy seguro de si\n",
       "       Puedo irme en 2018, depende de la velocidad del gobierno de Canadá. Realmente quiero fortalecer mis habilidades prácticas\n",
       "       en la ciencia de datos de seguridad cibernética, construir mi red y ampliar mis ojos, hablar con esos expertos puede ayudar. Yo también\n",
       "       ¡Creo que al bebé Emmanuel le encantan los videojuegos, es genial! Me encanta leer como una forma de relajarme, pero si él es mi\n",
       "       novio, puedo aprender a jugar videojuegos con él. Sentado con él, incluso para callarme, siempre me hizo\n",
       "       sentirse tranquilo y seguro. Él también tiene un buen sabor de la vida. Tener comida con él, es más fácil de compartir\n",
       "       opinión similar hacia la comida. Amo al bebé Emmanuel, tuve tanta suerte de tenerlo allí sentado conmigo\n",
       "       en esos días cuando estaba buscándome a mí mismo. Todavía no estoy seguro de por qué agregó mi Skype, pero luego me bloqueó\n",
       "       2018-01-03. Quiero relaciones públicas de Canadá, porque es mucho más rápido obtener la ciudadanía en Canadá y quiero asegurar mi\n",
       "       futuro en EE. UU. o Canadá, estos 2 países son muy cercanos, no solo geológicamente. Solo me enfocaré en mi carrera\n",
       "y siga mi pasión ahora, viviendo una vida sana, manténgase positivo y ansioso por ver qué me traerá el futuro.\")"
      ]
     },
     "execution_count": 62,
     "metadata": {},
     "output_type": "execute_result"
    }
   ],
   "source": [
    "blob.translate(from_lang='en', to ='es')  # to Spanish"
   ]
  },
  {
   "cell_type": "code",
   "execution_count": 64,
   "metadata": {
    "collapsed": true
   },
   "outputs": [],
   "source": [
    "# Classifiers\n",
    "from textblob import classifiers\n",
    "training = [\n",
    "('Snowing during the weekend is beautiful','pos'),\n",
    "('Snowing during the weekdays is terrible','neg'),\n",
    "('The food I make is delicious','pos'),\n",
    "('My parents are having fun during this new year','pos'),\n",
    "('Having too much dessert can cause depresson','neg'),\n",
    "('Those terrbile memoeries at MSFT can never be forgotten, often appeared in my mind again and again','neg'),\n",
    "('It is very inspiring to watch Hamilton','pos'),\n",
    "('I do not really have any friend whom I can share my passion of life with','neg')\n",
    "]\n",
    "testing = [\n",
    "('I have many friends','pos'),\n",
    "('Snowing happend this Saturday','pos'),\n",
    "('I make delicious food','pos')\n",
    "]"
   ]
  },
  {
   "cell_type": "code",
   "execution_count": 66,
   "metadata": {},
   "outputs": [
    {
     "name": "stdout",
     "output_type": "stream",
     "text": [
      "1.0\n",
      "Most Informative Features\n",
      "           contains(can) = False             pos : neg    =      3.0 : 1.0\n",
      "            contains(is) = True              pos : neg    =      2.3 : 1.0\n",
      "            contains(is) = False             neg : pos    =      2.3 : 1.0\n",
      "            contains(my) = False             pos : neg    =      1.8 : 1.0\n",
      "        contains(during) = True              pos : neg    =      1.7 : 1.0\n",
      "        contains(during) = False             neg : pos    =      1.4 : 1.0\n",
      "        contains(Having) = False             pos : neg    =      1.3 : 1.0\n"
     ]
    }
   ],
   "source": [
    "classifier = classifiers.NaiveBayesClassifier(training)\n",
    "print (classifier.accuracy(testing))\n",
    "classifier.show_informative_features(7)"
   ]
  },
  {
   "cell_type": "code",
   "execution_count": 68,
   "metadata": {},
   "outputs": [
    {
     "name": "stdout",
     "output_type": "stream",
     "text": [
      "1.0\n"
     ]
    }
   ],
   "source": [
    "classifier = classifiers.DecisionTreeClassifier(training)\n",
    "print (classifier.accuracy(testing))"
   ]
  },
  {
   "cell_type": "code",
   "execution_count": 69,
   "metadata": {},
   "outputs": [
    {
     "name": "stdout",
     "output_type": "stream",
     "text": [
      "pos\n"
     ]
    }
   ],
   "source": [
    "test_blob = TextBlob(\"I found a bigger distance to communicate with Chinese\", classifier=classifier)\n",
    "print (test_blob.classify())"
   ]
  }
 ],
 "metadata": {
  "kernelspec": {
   "display_name": "Python 2",
   "language": "python",
   "name": "python2"
  },
  "language_info": {
   "codemirror_mode": {
    "name": "ipython",
    "version": 2
   },
   "file_extension": ".py",
   "mimetype": "text/x-python",
   "name": "python",
   "nbconvert_exporter": "python",
   "pygments_lexer": "ipython2",
   "version": "2.7.13"
  }
 },
 "nbformat": 4,
 "nbformat_minor": 2
}
