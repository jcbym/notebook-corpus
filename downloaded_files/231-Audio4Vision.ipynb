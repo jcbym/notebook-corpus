{
 "cells": [
  {
   "cell_type": "code",
   "execution_count": 1,
   "metadata": {
    "collapsed": true
   },
   "outputs": [],
   "source": [
    "from __future__ import absolute_import\n",
    "from __future__ import division\n",
    "from __future__ import print_function"
   ]
  },
  {
   "cell_type": "code",
   "execution_count": 2,
   "metadata": {},
   "outputs": [
    {
     "name": "stderr",
     "output_type": "stream",
     "text": [
      "C:\\Users\\W2W\\Anaconda3\\lib\\site-packages\\h5py\\__init__.py:34: FutureWarning: Conversion of the second argument of issubdtype from `float` to `np.floating` is deprecated. In future, it will be treated as `np.float64 == np.dtype(float).type`.\n",
      "  from ._conv import register_converters as _register_converters\n"
     ]
    }
   ],
   "source": [
    "import math\n",
    "import os\n",
    "\n",
    "\n",
    "import tensorflow as tf\n",
    "\n",
    "import configuration\n",
    "import inference_wrapper\n",
    "from inference_utils import caption_generator\n",
    "from inference_utils import vocabulary"
   ]
  },
  {
   "cell_type": "code",
   "execution_count": 4,
   "metadata": {
    "collapsed": true
   },
   "outputs": [],
   "source": [
    "FLAGS = tf.flags.FLAGS"
   ]
  },
  {
   "cell_type": "code",
   "execution_count": 5,
   "metadata": {},
   "outputs": [
    {
     "name": "stdout",
     "output_type": "stream",
     "text": [
      "Enter name of image (e.g. 2.jpg):2.jpg\n"
     ]
    }
   ],
   "source": [
    "image_name = input(\"Enter name of image (e.g. 2.jpg):\")"
   ]
  },
  {
   "cell_type": "code",
   "execution_count": 6,
   "metadata": {
    "collapsed": true,
    "scrolled": true
   },
   "outputs": [],
   "source": [
    "tf.flags.DEFINE_string(\"input_files\", \"./test_images/\" + image_name,\n",
    "                       \"File pattern or comma-separated list of file patterns \"\n",
    "                       \"of image files.\")"
   ]
  },
  {
   "cell_type": "code",
   "execution_count": 7,
   "metadata": {
    "collapsed": true
   },
   "outputs": [],
   "source": [
    "tf.flags.DEFINE_string(\"checkpoint_path\", \"./model.ckpt-2000000\",\n",
    "                       \"Model checkpoint file or directory containing a \"\n",
    "                       \"model checkpoint file.\")\n",
    "tf.flags.DEFINE_string(\"vocab_file\", \"./word_counts.txt\", \"Text file containing the vocabulary.\")\n",
    "tf.logging.set_verbosity(tf.logging.INFO)\n"
   ]
  },
  {
   "cell_type": "code",
   "execution_count": 8,
   "metadata": {
    "collapsed": true
   },
   "outputs": [],
   "source": [
    "def main(_):\n",
    "  # Build the inference graph.\n",
    "  g = tf.Graph()\n",
    "  with g.as_default():\n",
    "    model = inference_wrapper.InferenceWrapper()\n",
    "    restore_fn = model.build_graph_from_config(configuration.ModelConfig(),\n",
    "                                               FLAGS.checkpoint_path)\n",
    "  g.finalize()\n",
    "\n",
    "  # Create the vocabulary.\n",
    "  vocab = vocabulary.Vocabulary(FLAGS.vocab_file)\n",
    "\n",
    "  filenames = []\n",
    "  for file_pattern in FLAGS.input_files.split(\",\"):\n",
    "    filenames.extend(tf.gfile.Glob(file_pattern))\n",
    "  tf.logging.info(\"Running caption generation on %d files matching %s\",\n",
    "                  len(filenames), FLAGS.input_files)\n",
    "\n",
    "  with tf.Session(graph=g) as sess:\n",
    "    # Load the model from checkpoint.\n",
    "    restore_fn(sess)\n",
    "\n",
    "    # Prepare the caption generator. Here we are implicitly using the default\n",
    "    # beam search parameters. See caption_generator.py for a description of the\n",
    "    # available beam search parameters.\n",
    "    generator = caption_generator.CaptionGenerator(model, vocab)\n",
    "\n",
    "    for filename in filenames:\n",
    "      with tf.gfile.GFile(filename, \"rb\") as f:\n",
    "        image = f.read()\n",
    "      captions = generator.beam_search(sess, image)\n",
    "      print(\"Captions for image %s:\" % os.path.basename(filename))\n",
    "      for i, caption in enumerate(captions):\n",
    "        # Ignore begin and end words.\n",
    "        sentence = [vocab.id_to_word(w) for w in caption.sentence[1:-1]]\n",
    "        sentence = \" \".join(sentence)\n",
    "        print(\"  %d) %s (p=%f)\" % (i, sentence, math.exp(caption.logprob)))"
   ]
  },
  {
   "cell_type": "code",
   "execution_count": 9,
   "metadata": {},
   "outputs": [
    {
     "name": "stdout",
     "output_type": "stream",
     "text": [
      "INFO:tensorflow:Building model.\n",
      "INFO:tensorflow:Initializing vocabulary from file: ./word_counts.txt\n",
      "INFO:tensorflow:Created vocabulary with 11520 words\n",
      "INFO:tensorflow:Running caption generation on 1 files matching ./test_images/2.jpg\n",
      "INFO:tensorflow:Loading model from checkpoint: ./model.ckpt-2000000\n",
      "INFO:tensorflow:Restoring parameters from ./model.ckpt-2000000\n",
      "INFO:tensorflow:Successfully loaded checkpoint: model.ckpt-2000000\n",
      "Captions for image 2.jpg:\n",
      "  0) a man riding a paddle board on top of a river . (p=0.000126)\n",
      "  1) a man riding a paddle board on a river . (p=0.000061)\n",
      "  2) a man riding a paddle board on top of a lake . (p=0.000022)\n"
     ]
    },
    {
     "ename": "SystemExit",
     "evalue": "",
     "output_type": "error",
     "traceback": [
      "An exception has occurred, use %tb to see the full traceback.\n",
      "\u001b[1;31mSystemExit\u001b[0m\n"
     ]
    },
    {
     "name": "stderr",
     "output_type": "stream",
     "text": [
      "C:\\Users\\W2W\\Anaconda3\\lib\\site-packages\\IPython\\core\\interactiveshell.py:2870: UserWarning: To exit: use 'exit', 'quit', or Ctrl-D.\n",
      "  warn(\"To exit: use 'exit', 'quit', or Ctrl-D.\", stacklevel=1)\n"
     ]
    }
   ],
   "source": [
    "if __name__ == \"__main__\":\n",
    "  tf.app.run()"
   ]
  },
  {
   "cell_type": "code",
   "execution_count": null,
   "metadata": {
    "collapsed": true
   },
   "outputs": [],
   "source": []
  }
 ],
 "metadata": {
  "kernelspec": {
   "display_name": "Python 3",
   "language": "python",
   "name": "python3"
  },
  "language_info": {
   "codemirror_mode": {
    "name": "ipython",
    "version": 3
   },
   "file_extension": ".py",
   "mimetype": "text/x-python",
   "name": "python",
   "nbconvert_exporter": "python",
   "pygments_lexer": "ipython3",
   "version": "3.6.3"
  }
 },
 "nbformat": 4,
 "nbformat_minor": 2
}
