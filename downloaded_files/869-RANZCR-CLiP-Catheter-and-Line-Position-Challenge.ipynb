{
 "cells": [
  {
   "cell_type": "code",
   "execution_count": 4,
   "metadata": {},
   "outputs": [],
   "source": [
    "import os\n",
    "import sys\n",
    "import time\n",
    "import math\n",
    "import glob\n",
    "\n",
    "import matplotlib.pyplot as plt \n",
    "import numpy as np\n",
    "import pandas as pd\n",
    "import torch\n",
    "import torch.nn as nn\n",
    "import torch.nn.functional as F\n",
    "import pytorch_lightning as pl\n",
    "\n",
    "import PIL"
   ]
  },
  {
   "cell_type": "markdown",
   "metadata": {},
   "source": [
    "### data loading"
   ]
  },
  {
   "cell_type": "code",
   "execution_count": 7,
   "metadata": {},
   "outputs": [],
   "source": [
    "data_dir = \"../ranzcr-clip-catheter-line-classification/\"\n",
    "\n",
    "train_dir_path = os.path.join(data_dir, 'train')\n",
    "test_dir_path = os.path.join(data_dir, 'test')\n",
    "train_csv_path = os.path.join(data_dir, 'train.csv')\n",
    "train_annotations_path = os.path.join(data_dir, 'train_annotations.csv')\n",
    "sample_submission_file_path = os.path.join(data_dir, 'sample_submission.csv')"
   ]
  },
  {
   "cell_type": "code",
   "execution_count": 2,
   "metadata": {},
   "outputs": [
    {
     "name": "stdout",
     "output_type": "stream",
     "text": [
      "total 11688\n",
      "drwxrwxr-x 2 welcome welcome    4096 Dec 26 23:05 train_tfrecords\n",
      "drwxrwxr-x 2 welcome welcome 3375104 Dec 26 23:05 train\n",
      "drwxrwxr-x 2 welcome welcome    4096 Dec 26 23:04 test_tfrecords\n",
      "drwxrwxr-x 2 welcome welcome  393216 Dec 26 23:04 test\n",
      "-rw-rw-r-- 1 welcome welcome 4950273 Dec 14 20:16 train_annotations.csv\n",
      "-rw-rw-r-- 1 welcome welcome 2918266 Dec 14 20:02 train.csv\n",
      "-rw-rw-r-- 1 welcome welcome  311839 Dec 14 19:59 sample_submission.csv\n"
     ]
    }
   ],
   "source": [
    "!ls ../ranzcr-clip-catheter-line-classification/ -lt"
   ]
  },
  {
   "cell_type": "code",
   "execution_count": 8,
   "metadata": {},
   "outputs": [],
   "source": [
    "train = pd.read_csv(train_csv_path)\n"
   ]
  },
  {
   "cell_type": "code",
   "execution_count": 9,
   "metadata": {},
   "outputs": [
    {
     "data": {
      "text/html": [
       "<div>\n",
       "<style scoped>\n",
       "    .dataframe tbody tr th:only-of-type {\n",
       "        vertical-align: middle;\n",
       "    }\n",
       "\n",
       "    .dataframe tbody tr th {\n",
       "        vertical-align: top;\n",
       "    }\n",
       "\n",
       "    .dataframe thead th {\n",
       "        text-align: right;\n",
       "    }\n",
       "</style>\n",
       "<table border=\"1\" class=\"dataframe\">\n",
       "  <thead>\n",
       "    <tr style=\"text-align: right;\">\n",
       "      <th></th>\n",
       "      <th>StudyInstanceUID</th>\n",
       "      <th>ETT - Abnormal</th>\n",
       "      <th>ETT - Borderline</th>\n",
       "      <th>ETT - Normal</th>\n",
       "      <th>NGT - Abnormal</th>\n",
       "      <th>NGT - Borderline</th>\n",
       "      <th>NGT - Incompletely Imaged</th>\n",
       "      <th>NGT - Normal</th>\n",
       "      <th>CVC - Abnormal</th>\n",
       "      <th>CVC - Borderline</th>\n",
       "      <th>CVC - Normal</th>\n",
       "      <th>Swan Ganz Catheter Present</th>\n",
       "      <th>PatientID</th>\n",
       "    </tr>\n",
       "  </thead>\n",
       "  <tbody>\n",
       "    <tr>\n",
       "      <th>0</th>\n",
       "      <td>1.2.826.0.1.3680043.8.498.26697628953273228189...</td>\n",
       "      <td>0</td>\n",
       "      <td>0</td>\n",
       "      <td>0</td>\n",
       "      <td>0</td>\n",
       "      <td>0</td>\n",
       "      <td>0</td>\n",
       "      <td>1</td>\n",
       "      <td>0</td>\n",
       "      <td>0</td>\n",
       "      <td>0</td>\n",
       "      <td>0</td>\n",
       "      <td>ec89415d1</td>\n",
       "    </tr>\n",
       "    <tr>\n",
       "      <th>1</th>\n",
       "      <td>1.2.826.0.1.3680043.8.498.46302891597398758759...</td>\n",
       "      <td>0</td>\n",
       "      <td>0</td>\n",
       "      <td>1</td>\n",
       "      <td>0</td>\n",
       "      <td>0</td>\n",
       "      <td>1</td>\n",
       "      <td>0</td>\n",
       "      <td>0</td>\n",
       "      <td>0</td>\n",
       "      <td>1</td>\n",
       "      <td>0</td>\n",
       "      <td>bf4c6da3c</td>\n",
       "    </tr>\n",
       "    <tr>\n",
       "      <th>2</th>\n",
       "      <td>1.2.826.0.1.3680043.8.498.23819260719748494858...</td>\n",
       "      <td>0</td>\n",
       "      <td>0</td>\n",
       "      <td>0</td>\n",
       "      <td>0</td>\n",
       "      <td>0</td>\n",
       "      <td>0</td>\n",
       "      <td>0</td>\n",
       "      <td>0</td>\n",
       "      <td>1</td>\n",
       "      <td>0</td>\n",
       "      <td>0</td>\n",
       "      <td>3fc1c97e5</td>\n",
       "    </tr>\n",
       "    <tr>\n",
       "      <th>3</th>\n",
       "      <td>1.2.826.0.1.3680043.8.498.68286643202323212801...</td>\n",
       "      <td>0</td>\n",
       "      <td>0</td>\n",
       "      <td>0</td>\n",
       "      <td>0</td>\n",
       "      <td>0</td>\n",
       "      <td>0</td>\n",
       "      <td>0</td>\n",
       "      <td>1</td>\n",
       "      <td>0</td>\n",
       "      <td>0</td>\n",
       "      <td>0</td>\n",
       "      <td>c31019814</td>\n",
       "    </tr>\n",
       "    <tr>\n",
       "      <th>4</th>\n",
       "      <td>1.2.826.0.1.3680043.8.498.10050203009225938259...</td>\n",
       "      <td>0</td>\n",
       "      <td>0</td>\n",
       "      <td>0</td>\n",
       "      <td>0</td>\n",
       "      <td>0</td>\n",
       "      <td>0</td>\n",
       "      <td>0</td>\n",
       "      <td>0</td>\n",
       "      <td>0</td>\n",
       "      <td>1</td>\n",
       "      <td>0</td>\n",
       "      <td>207685cd1</td>\n",
       "    </tr>\n",
       "  </tbody>\n",
       "</table>\n",
       "</div>"
      ],
      "text/plain": [
       "                                    StudyInstanceUID  ETT - Abnormal  \\\n",
       "0  1.2.826.0.1.3680043.8.498.26697628953273228189...               0   \n",
       "1  1.2.826.0.1.3680043.8.498.46302891597398758759...               0   \n",
       "2  1.2.826.0.1.3680043.8.498.23819260719748494858...               0   \n",
       "3  1.2.826.0.1.3680043.8.498.68286643202323212801...               0   \n",
       "4  1.2.826.0.1.3680043.8.498.10050203009225938259...               0   \n",
       "\n",
       "   ETT - Borderline  ETT - Normal  NGT - Abnormal  NGT - Borderline  \\\n",
       "0                 0             0               0                 0   \n",
       "1                 0             1               0                 0   \n",
       "2                 0             0               0                 0   \n",
       "3                 0             0               0                 0   \n",
       "4                 0             0               0                 0   \n",
       "\n",
       "   NGT - Incompletely Imaged  NGT - Normal  CVC - Abnormal  CVC - Borderline  \\\n",
       "0                          0             1               0                 0   \n",
       "1                          1             0               0                 0   \n",
       "2                          0             0               0                 1   \n",
       "3                          0             0               1                 0   \n",
       "4                          0             0               0                 0   \n",
       "\n",
       "   CVC - Normal  Swan Ganz Catheter Present  PatientID  \n",
       "0             0                           0  ec89415d1  \n",
       "1             1                           0  bf4c6da3c  \n",
       "2             0                           0  3fc1c97e5  \n",
       "3             0                           0  c31019814  \n",
       "4             1                           0  207685cd1  "
      ]
     },
     "execution_count": 9,
     "metadata": {},
     "output_type": "execute_result"
    }
   ],
   "source": [
    "train.head()"
   ]
  },
  {
   "cell_type": "code",
   "execution_count": 11,
   "metadata": {},
   "outputs": [
    {
     "name": "stdout",
     "output_type": "stream",
     "text": [
      "total 6810572\n",
      "-rw-rw-r-- 1 welcome welcome 312114 Dec 14 20:16 \u001b[0m\u001b[01;35m1.2.826.0.1.3680043.8.498.99971231542589897710744415581839623025.jpg\u001b[0m\u001b[K\n",
      "-rw-rw-r-- 1 welcome welcome 159343 Dec 14 20:16 \u001b[01;35m1.2.826.0.1.3680043.8.498.99971919985113251695401367974124184826.jpg\u001b[0m\u001b[K\n",
      "-rw-rw-r-- 1 welcome welcome 163899 Dec 14 20:16 \u001b[01;35m1.2.826.0.1.3680043.8.498.99974757496176821720048757591692208827.jpg\u001b[0m\u001b[K\n",
      "-rw-rw-r-- 1 welcome welcome 325595 Dec 14 20:16 \u001b[01;35m1.2.826.0.1.3680043.8.498.99979645057411935093674597476197972475.jpg\u001b[0m\u001b[K\n",
      "-rw-rw-r-- 1 welcome welcome 169122 Dec 14 20:16 \u001b[01;35m1.2.826.0.1.3680043.8.498.99989600335044826115371936809352740080.jpg\u001b[0m\u001b[K\n",
      "-rw-rw-r-- 1 welcome welcome 308266 Dec 14 20:16 \u001b[01;35m1.2.826.0.1.3680043.8.498.99991581639229040366812735770671130168.jpg\u001b[0m\u001b[K\n",
      "-rw-rw-r-- 1 welcome welcome 361610 Dec 14 20:16 \u001b[01;35m1.2.826.0.1.3680043.8.498.99704910154542866752812317447226576492.jpg\u001b[0m\u001b[K\n",
      "-rw-rw-r-- 1 welcome welcome 154911 Dec 14 20:16 \u001b[01;35m1.2.826.0.1.3680043.8.498.99710332543782550669055201234440116474.jpg\u001b[0m\u001b[K\n",
      "-rw-rw-r-- 1 welcome welcome 153123 Dec 14 20:16 \u001b[01;35m1.2.826.0.1.3680043.8.498.99722513002839474309194956069139195175.jpg\u001b[0m\u001b[K\n",
      "ls: write error\n"
     ]
    }
   ],
   "source": [
    "ls -lt ../ranzcr-clip-catheter-line-classification/train | head -n 10"
   ]
  },
  {
   "cell_type": "code",
   "execution_count": 1,
   "metadata": {},
   "outputs": [],
   "source": [
    "# import tensorflow as tf\n",
    "#     \n",
    "# raw_dataset = tf.data.TFRecordDataset(\"../ranzcr-clip-catheter-line-classification/train_tfrecords/00-1881.tfrec\")\n",
    "# \n",
    "# for raw_record in raw_dataset.take(1):\n",
    "#     example = tf.train.Example()\n",
    "#     example.ParseFromString(raw_record.numpy())\n",
    "#     print(example)\n",
    "#     break"
   ]
  },
  {
   "cell_type": "code",
   "execution_count": null,
   "metadata": {},
   "outputs": [],
   "source": []
  }
 ],
 "metadata": {
  "kernelspec": {
   "display_name": "Python 3",
   "language": "python",
   "name": "python3"
  },
  "language_info": {
   "codemirror_mode": {
    "name": "ipython",
    "version": 3
   },
   "file_extension": ".py",
   "mimetype": "text/x-python",
   "name": "python",
   "nbconvert_exporter": "python",
   "pygments_lexer": "ipython3",
   "version": "3.8.5"
  }
 },
 "nbformat": 4,
 "nbformat_minor": 4
}