{
  "nbformat": 4,
  "nbformat_minor": 0,
  "metadata": {
    "colab": {
      "name": "tratamentoDosArquivos.ipynb",
      "provenance": [],
      "authorship_tag": "ABX9TyPGPb40zqVFCCEoQYCtICDE",
      "include_colab_link": true
    },
    "kernelspec": {
      "name": "python3",
      "display_name": "Python 3"
    },
    "language_info": {
      "name": "python"
    }
  },
  "cells": [
    {
      "cell_type": "markdown",
      "metadata": {
        "id": "view-in-github",
        "colab_type": "text"
      },
      "source": [
        "<a href=\"https://colab.research.google.com/github/marcelopaludetto/aulao-datascience/blob/main/tratamentoDosArquivos.ipynb\" target=\"_parent\"><img src=\"https://colab.research.google.com/assets/colab-badge.svg\" alt=\"Open In Colab\"/></a>"
      ]
    },
    {
      "cell_type": "code",
      "metadata": {
        "id": "PXa0Lz8cisuS"
      },
      "source": [
        "import pandas as pd\n",
        "import warnings\n",
        "\n",
        "warnings.filterwarnings('ignore')"
      ],
      "execution_count": 1,
      "outputs": []
    },
    {
      "cell_type": "code",
      "metadata": {
        "id": "ExpdMoN4i0EL",
        "colab": {
          "base_uri": "https://localhost:8080/"
        },
        "outputId": "40d28735-c2ea-4539-d012-6b53fe7902f3"
      },
      "source": [
        "#dados27 = pd.read_csv('/content/SEED - Semana {i}.csv' for i in range(27)\n",
        "\n",
        "filenames = [f'/content/SEED - Semana {i}.csv' for i in range(37)]           \n",
        "\n",
        "filenames = filenames[1:]\n",
        "filenames"
      ],
      "execution_count": 10,
      "outputs": [
        {
          "output_type": "execute_result",
          "data": {
            "text/plain": [
              "['/content/SEED - Semana 1.csv',\n",
              " '/content/SEED - Semana 2.csv',\n",
              " '/content/SEED - Semana 3.csv',\n",
              " '/content/SEED - Semana 4.csv',\n",
              " '/content/SEED - Semana 5.csv',\n",
              " '/content/SEED - Semana 6.csv',\n",
              " '/content/SEED - Semana 7.csv',\n",
              " '/content/SEED - Semana 8.csv',\n",
              " '/content/SEED - Semana 9.csv',\n",
              " '/content/SEED - Semana 10.csv',\n",
              " '/content/SEED - Semana 11.csv',\n",
              " '/content/SEED - Semana 12.csv',\n",
              " '/content/SEED - Semana 13.csv',\n",
              " '/content/SEED - Semana 14.csv',\n",
              " '/content/SEED - Semana 15.csv',\n",
              " '/content/SEED - Semana 16.csv',\n",
              " '/content/SEED - Semana 17.csv',\n",
              " '/content/SEED - Semana 18.csv',\n",
              " '/content/SEED - Semana 19.csv',\n",
              " '/content/SEED - Semana 20.csv',\n",
              " '/content/SEED - Semana 21.csv',\n",
              " '/content/SEED - Semana 22.csv',\n",
              " '/content/SEED - Semana 23.csv',\n",
              " '/content/SEED - Semana 24.csv',\n",
              " '/content/SEED - Semana 25.csv',\n",
              " '/content/SEED - Semana 26.csv',\n",
              " '/content/SEED - Semana 27.csv',\n",
              " '/content/SEED - Semana 28.csv',\n",
              " '/content/SEED - Semana 29.csv',\n",
              " '/content/SEED - Semana 30.csv',\n",
              " '/content/SEED - Semana 31.csv',\n",
              " '/content/SEED - Semana 32.csv',\n",
              " '/content/SEED - Semana 33.csv',\n",
              " '/content/SEED - Semana 34.csv',\n",
              " '/content/SEED - Semana 35.csv',\n",
              " '/content/SEED - Semana 36.csv']"
            ]
          },
          "metadata": {},
          "execution_count": 10
        }
      ]
    },
    {
      "cell_type": "code",
      "source": [
        "dados = [pd.read_csv(i) for i in filenames]"
      ],
      "metadata": {
        "id": "UbdRVM5e5U3J"
      },
      "execution_count": 11,
      "outputs": []
    },
    {
      "cell_type": "code",
      "metadata": {
        "id": "mLkcki7WmrRw"
      },
      "source": [
        "for i in range(36):\n",
        "    dados[i] = dados[i].drop(columns=['email','cargo','teamId'])"
      ],
      "execution_count": 12,
      "outputs": []
    },
    {
      "cell_type": "code",
      "metadata": {
        "id": "zmNjwJramsj2",
        "colab": {
          "base_uri": "https://localhost:8080/",
          "height": 206
        },
        "outputId": "110fd739-c509-440e-c16a-213fd167cd0f"
      },
      "source": [
        "dados[1].head()"
      ],
      "execution_count": 13,
      "outputs": [
        {
          "output_type": "execute_result",
          "data": {
            "text/html": [
              "\n",
              "  <div id=\"df-ed36511d-6b49-4ae4-a0dd-cfa3e65edd15\">\n",
              "    <div class=\"colab-df-container\">\n",
              "      <div>\n",
              "<style scoped>\n",
              "    .dataframe tbody tr th:only-of-type {\n",
              "        vertical-align: middle;\n",
              "    }\n",
              "\n",
              "    .dataframe tbody tr th {\n",
              "        vertical-align: top;\n",
              "    }\n",
              "\n",
              "    .dataframe thead th {\n",
              "        text-align: right;\n",
              "    }\n",
              "</style>\n",
              "<table border=\"1\" class=\"dataframe\">\n",
              "  <thead>\n",
              "    <tr style=\"text-align: right;\">\n",
              "      <th></th>\n",
              "      <th>data</th>\n",
              "      <th>data de último acesso</th>\n",
              "      <th>id</th>\n",
              "      <th>turmaTrilha</th>\n",
              "      <th>atividadesFeitas</th>\n",
              "      <th>atividadesCorretas</th>\n",
              "      <th>atividadesGerais</th>\n",
              "    </tr>\n",
              "  </thead>\n",
              "  <tbody>\n",
              "    <tr>\n",
              "      <th>0</th>\n",
              "      <td>2021-04-26</td>\n",
              "      <td>2021-05-05</td>\n",
              "      <td>589712</td>\n",
              "      <td>12400431</td>\n",
              "      <td>165</td>\n",
              "      <td>139</td>\n",
              "      <td>699.0</td>\n",
              "    </tr>\n",
              "    <tr>\n",
              "      <th>1</th>\n",
              "      <td>2021-04-26</td>\n",
              "      <td>2021-05-06</td>\n",
              "      <td>575825</td>\n",
              "      <td>11413411</td>\n",
              "      <td>146</td>\n",
              "      <td>124</td>\n",
              "      <td>726.0</td>\n",
              "    </tr>\n",
              "    <tr>\n",
              "      <th>2</th>\n",
              "      <td>2021-04-26</td>\n",
              "      <td>2021-04-28</td>\n",
              "      <td>585090</td>\n",
              "      <td>25400111</td>\n",
              "      <td>131</td>\n",
              "      <td>116</td>\n",
              "      <td>402.0</td>\n",
              "    </tr>\n",
              "    <tr>\n",
              "      <th>3</th>\n",
              "      <td>2021-04-26</td>\n",
              "      <td>2021-04-26</td>\n",
              "      <td>605128</td>\n",
              "      <td>22402231</td>\n",
              "      <td>106</td>\n",
              "      <td>105</td>\n",
              "      <td>394.0</td>\n",
              "    </tr>\n",
              "    <tr>\n",
              "      <th>4</th>\n",
              "      <td>2021-04-26</td>\n",
              "      <td>2021-05-05</td>\n",
              "      <td>583378</td>\n",
              "      <td>21400911</td>\n",
              "      <td>124</td>\n",
              "      <td>96</td>\n",
              "      <td>464.0</td>\n",
              "    </tr>\n",
              "  </tbody>\n",
              "</table>\n",
              "</div>\n",
              "      <button class=\"colab-df-convert\" onclick=\"convertToInteractive('df-ed36511d-6b49-4ae4-a0dd-cfa3e65edd15')\"\n",
              "              title=\"Convert this dataframe to an interactive table.\"\n",
              "              style=\"display:none;\">\n",
              "        \n",
              "  <svg xmlns=\"http://www.w3.org/2000/svg\" height=\"24px\"viewBox=\"0 0 24 24\"\n",
              "       width=\"24px\">\n",
              "    <path d=\"M0 0h24v24H0V0z\" fill=\"none\"/>\n",
              "    <path d=\"M18.56 5.44l.94 2.06.94-2.06 2.06-.94-2.06-.94-.94-2.06-.94 2.06-2.06.94zm-11 1L8.5 8.5l.94-2.06 2.06-.94-2.06-.94L8.5 2.5l-.94 2.06-2.06.94zm10 10l.94 2.06.94-2.06 2.06-.94-2.06-.94-.94-2.06-.94 2.06-2.06.94z\"/><path d=\"M17.41 7.96l-1.37-1.37c-.4-.4-.92-.59-1.43-.59-.52 0-1.04.2-1.43.59L10.3 9.45l-7.72 7.72c-.78.78-.78 2.05 0 2.83L4 21.41c.39.39.9.59 1.41.59.51 0 1.02-.2 1.41-.59l7.78-7.78 2.81-2.81c.8-.78.8-2.07 0-2.86zM5.41 20L4 18.59l7.72-7.72 1.47 1.35L5.41 20z\"/>\n",
              "  </svg>\n",
              "      </button>\n",
              "      \n",
              "  <style>\n",
              "    .colab-df-container {\n",
              "      display:flex;\n",
              "      flex-wrap:wrap;\n",
              "      gap: 12px;\n",
              "    }\n",
              "\n",
              "    .colab-df-convert {\n",
              "      background-color: #E8F0FE;\n",
              "      border: none;\n",
              "      border-radius: 50%;\n",
              "      cursor: pointer;\n",
              "      display: none;\n",
              "      fill: #1967D2;\n",
              "      height: 32px;\n",
              "      padding: 0 0 0 0;\n",
              "      width: 32px;\n",
              "    }\n",
              "\n",
              "    .colab-df-convert:hover {\n",
              "      background-color: #E2EBFA;\n",
              "      box-shadow: 0px 1px 2px rgba(60, 64, 67, 0.3), 0px 1px 3px 1px rgba(60, 64, 67, 0.15);\n",
              "      fill: #174EA6;\n",
              "    }\n",
              "\n",
              "    [theme=dark] .colab-df-convert {\n",
              "      background-color: #3B4455;\n",
              "      fill: #D2E3FC;\n",
              "    }\n",
              "\n",
              "    [theme=dark] .colab-df-convert:hover {\n",
              "      background-color: #434B5C;\n",
              "      box-shadow: 0px 1px 3px 1px rgba(0, 0, 0, 0.15);\n",
              "      filter: drop-shadow(0px 1px 2px rgba(0, 0, 0, 0.3));\n",
              "      fill: #FFFFFF;\n",
              "    }\n",
              "  </style>\n",
              "\n",
              "      <script>\n",
              "        const buttonEl =\n",
              "          document.querySelector('#df-ed36511d-6b49-4ae4-a0dd-cfa3e65edd15 button.colab-df-convert');\n",
              "        buttonEl.style.display =\n",
              "          google.colab.kernel.accessAllowed ? 'block' : 'none';\n",
              "\n",
              "        async function convertToInteractive(key) {\n",
              "          const element = document.querySelector('#df-ed36511d-6b49-4ae4-a0dd-cfa3e65edd15');\n",
              "          const dataTable =\n",
              "            await google.colab.kernel.invokeFunction('convertToInteractive',\n",
              "                                                     [key], {});\n",
              "          if (!dataTable) return;\n",
              "\n",
              "          const docLinkHtml = 'Like what you see? Visit the ' +\n",
              "            '<a target=\"_blank\" href=https://colab.research.google.com/notebooks/data_table.ipynb>data table notebook</a>'\n",
              "            + ' to learn more about interactive tables.';\n",
              "          element.innerHTML = '';\n",
              "          dataTable['output_type'] = 'display_data';\n",
              "          await google.colab.output.renderOutput(dataTable, element);\n",
              "          const docLink = document.createElement('div');\n",
              "          docLink.innerHTML = docLinkHtml;\n",
              "          element.appendChild(docLink);\n",
              "        }\n",
              "      </script>\n",
              "    </div>\n",
              "  </div>\n",
              "  "
            ],
            "text/plain": [
              "         data data de último acesso  ...  atividadesCorretas atividadesGerais\n",
              "0  2021-04-26            2021-05-05  ...                 139            699.0\n",
              "1  2021-04-26            2021-05-06  ...                 124            726.0\n",
              "2  2021-04-26            2021-04-28  ...                 116            402.0\n",
              "3  2021-04-26            2021-04-26  ...                 105            394.0\n",
              "4  2021-04-26            2021-05-05  ...                  96            464.0\n",
              "\n",
              "[5 rows x 7 columns]"
            ]
          },
          "metadata": {},
          "execution_count": 13
        }
      ]
    },
    {
      "cell_type": "code",
      "metadata": {
        "id": "vHib-pZrm10I"
      },
      "source": [
        "for i in range(36):\n",
        "  filenames = [f'dados{i}.csv' for i in range(36)]   \n",
        "  dados[i].to_csv(filenames[i], index=False, encoding='UTF-8')"
      ],
      "execution_count": 14,
      "outputs": []
    },
    {
      "cell_type": "code",
      "metadata": {
        "id": "e_z6WoIvm3Xc"
      },
      "source": [
        "dados27.to_csv('dados27.csv', index=False, encoding='UTF-8')"
      ],
      "execution_count": null,
      "outputs": []
    },
    {
      "cell_type": "code",
      "metadata": {
        "id": "HVj55TtMnHRL"
      },
      "source": [
        ""
      ],
      "execution_count": null,
      "outputs": []
    }
  ]
}