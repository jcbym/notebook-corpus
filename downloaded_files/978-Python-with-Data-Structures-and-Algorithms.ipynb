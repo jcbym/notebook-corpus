{
 "cells": [
  {
   "cell_type": "code",
   "execution_count": 17,
   "id": "dc4d25bd",
   "metadata": {},
   "outputs": [],
   "source": [
    "\n",
    "def SelectionSort(arr):\n",
    "     for i in range(len(arr)-1):\n",
    "            minIndex = i\n",
    "            #calculating the index for minimum element \n",
    "            for j in range(i+1,len(arr)):\n",
    "                if(arr[j] < arr[minIndex]):\n",
    "                    minIndex = j\n",
    "            arr[i],arr[minIndex] = arr[minIndex],arr[i]"
   ]
  },
  {
   "cell_type": "code",
   "execution_count": 19,
   "id": "d155631a",
   "metadata": {},
   "outputs": [
    {
     "name": "stdout",
     "output_type": "stream",
     "text": [
      "7\n",
      "1 3 2 4 0 6 8\n",
      "0 1 2 3 4 6 8 "
     ]
    }
   ],
   "source": [
    "n = int(input())\n",
    "li = [int(x) for x in input().split()]\n",
    "SelectionSort(li)\n",
    "for k in range(len(li)):\n",
    "    print(li[k],end=' ')"
   ]
  },
  {
   "cell_type": "code",
   "execution_count": null,
   "id": "6bb2bdd5",
   "metadata": {},
   "outputs": [],
   "source": []
  }
 ],
 "metadata": {
  "kernelspec": {
   "display_name": "Python 3",
   "language": "python",
   "name": "python3"
  },
  "language_info": {
   "codemirror_mode": {
    "name": "ipython",
    "version": 3
   },
   "file_extension": ".py",
   "mimetype": "text/x-python",
   "name": "python",
   "nbconvert_exporter": "python",
   "pygments_lexer": "ipython3",
   "version": "3.8.10"
  }
 },
 "nbformat": 4,
 "nbformat_minor": 5
}
