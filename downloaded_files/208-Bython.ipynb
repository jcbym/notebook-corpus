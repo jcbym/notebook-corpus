{
 "cells": [
  {
   "cell_type": "code",
   "execution_count": 1,
   "metadata": {
    "collapsed": false
   },
   "outputs": [
    {
     "name": "stdout",
     "output_type": "stream",
     "text": [
      "Number of molecules in input file:  34 \n",
      "\n",
      "Molid: 1 Molecule_Type: Protein\n",
      "Chain break encountered in molecule 1 at residue positions: \n",
      "261 301 347 \n",
      "\n",
      "Molid: 2 Molecule_Type: Protein\n",
      "Chain break encountered in molecule 2 at residue positions: \n",
      "261 300 347 \n",
      "\n",
      "Molid: 3 Molecule_Type: Ligand\n",
      "Molid: 4 Molecule_Type: Ligand\n",
      "Molid: 5 Molecule_Type: Ligand\n",
      "Molid: 6 Molecule_Type: Ligand\n",
      "Molid: 7 Molecule_Type: Ligand\n",
      "Molid: 8 Molecule_Type: Ligand\n",
      "Molid: 9 Molecule_Type: Ligand\n",
      "Molid: 10 Molecule_Type: Ligand\n",
      "Molid: 11 Molecule_Type: Ligand\n",
      "Molid: 12 Molecule_Type: Ligand\n",
      "Molid: 13 Molecule_Type: Ligand\n",
      "Molid: 14 Molecule_Type: Ligand\n",
      "Molid: 15 Molecule_Type: Ligand\n",
      "Molid: 16 Molecule_Type: Ligand\n",
      "Molid: 17 Molecule_Type: Ligand\n",
      "Molid: 18 Molecule_Type: Ligand\n",
      "Molid: 19 Molecule_Type: Ligand\n",
      "Molid: 20 Molecule_Type: Ligand\n",
      "Molid: 21 Molecule_Type: Ligand\n",
      "Molid: 22 Molecule_Type: Ligand\n",
      "Molid: 23 Molecule_Type: Ligand\n",
      "Molid: 24 Molecule_Type: Ligand\n",
      "Molid: 25 Molecule_Type: Ligand\n",
      "Molid: 26 Molecule_Type: Ligand\n",
      "Molid: 27 Molecule_Type: Ligand\n",
      "Molid: 28 Molecule_Type: Ligand\n",
      "Molid: 29 Molecule_Type: Ligand\n",
      "Molid: 30 Molecule_Type: Ligand\n",
      "Molid: 31 Molecule_Type: Ligand\n",
      "Molid: 32 Molecule_Type: Ligand\n",
      "Molid: 33 Molecule_Type: Ligand\n",
      "Molid: 34 Molecule_Type: Ligand\n"
     ]
    }
   ],
   "source": [
    "from Bython.Structure import Loadstruc, FetchPDB\n",
    "\n",
    "#Download 4DJH from RCSB to current working directory\n",
    "f_pdb = FetchPDB(pdbid='4DJH')\n",
    "\n",
    "#Load 4DJH in Bython\n",
    "mypdb = Loadstruc(intype='pdb', filename='4DJH.pdb', hetatm = True, verbose=True)"
   ]
  },
  {
   "cell_type": "code",
   "execution_count": 2,
   "metadata": {
    "collapsed": false
   },
   "outputs": [
    {
     "name": "stdout",
     "output_type": "stream",
     "text": [
      "34 <Bython.Structure.protein.Protein object at 0x7f1e1d044550>\n"
     ]
    }
   ],
   "source": [
    "#mypdb is a dictionary of Bython objects (in this case 34 objects) with keys set to Molid\n",
    "print len(mypdb), mypdb[1]"
   ]
  },
  {
   "cell_type": "code",
   "execution_count": 3,
   "metadata": {
    "collapsed": false
   },
   "outputs": [
    {
     "name": "stdout",
     "output_type": "stream",
     "text": [
      "Protein Ligand\n"
     ]
    }
   ],
   "source": [
    "#Check the molecule tupe of an object\n",
    "print mypdb[1].molecule_type(), mypdb[20].molecule_type()"
   ]
  },
  {
   "cell_type": "code",
   "execution_count": 4,
   "metadata": {
    "collapsed": false
   },
   "outputs": [
    {
     "name": "stdout",
     "output_type": "stream",
     "text": [
      "447 [55, 56, 57, 58, 59, 60, 61, 62, 63, 64, 65, 66, 67, 68, 69, 70, 71, 72, 73, 74, 75, 76, 77, 78, 79, 80, 81, 82, 83, 84, 85, 86, 87, 88, 89, 90, 91, 92, 93, 94, 95, 96, 97, 98, 99, 100, 101, 102, 103, 104, 105, 106, 107, 108, 109, 110, 111, 112, 113, 114, 115, 116, 117, 118, 119, 120, 121, 122, 123, 124, 125, 126, 127, 128, 129, 130, 131, 132, 133, 134, 135, 136, 137, 138, 139, 140, 141, 142, 143, 144, 145, 146, 147, 148, 149, 150, 151, 152, 153, 154, 155, 156, 157, 158, 159, 160, 161, 162, 163, 164, 165, 166, 167, 168, 169, 170, 171, 172, 173, 174, 175, 176, 177, 178, 179, 180, 181, 182, 183, 184, 185, 186, 187, 188, 189, 190, 191, 192, 193, 194, 195, 196, 197, 198, 199, 200, 201, 202, 203, 204, 205, 206, 207, 208, 209, 210, 211, 212, 213, 214, 215, 216, 217, 218, 219, 220, 221, 222, 223, 224, 225, 226, 227, 228, 229, 230, 231, 232, 233, 234, 235, 236, 237, 238, 239, 240, 241, 242, 243, 244, 245, 246, 247, 248, 249, 250, 251, 252, 253, 254, 255, 256, 257, 258, 259, 260, 261, 263, 264, 265, 266, 267, 268, 269, 270, 271, 272, 273, 274, 275, 276, 277, 278, 279, 280, 281, 282, 283, 284, 285, 286, 287, 288, 289, 290, 291, 292, 293, 294, 295, 296, 297, 298, 299, 300, 301, 307, 308, 309, 310, 311, 312, 313, 314, 315, 316, 317, 318, 319, 320, 321, 322, 323, 324, 325, 326, 327, 328, 329, 330, 331, 332, 333, 334, 335, 336, 337, 338, 339, 340, 341, 342, 343, 344, 345, 346, 347, 1002, 1003, 1004, 1005, 1006, 1007, 1008, 1009, 1010, 1011, 1012, 1013, 1014, 1015, 1016, 1017, 1018, 1019, 1020, 1021, 1022, 1023, 1024, 1025, 1026, 1027, 1028, 1029, 1030, 1031, 1032, 1033, 1034, 1035, 1036, 1037, 1038, 1039, 1040, 1041, 1042, 1043, 1044, 1045, 1046, 1047, 1048, 1049, 1050, 1051, 1052, 1053, 1054, 1055, 1056, 1057, 1058, 1059, 1060, 1061, 1062, 1063, 1064, 1065, 1066, 1067, 1068, 1069, 1070, 1071, 1072, 1073, 1074, 1075, 1076, 1077, 1078, 1079, 1080, 1081, 1082, 1083, 1084, 1085, 1086, 1087, 1088, 1089, 1090, 1091, 1092, 1093, 1094, 1095, 1096, 1097, 1098, 1099, 1100, 1101, 1102, 1103, 1104, 1105, 1106, 1107, 1108, 1109, 1110, 1111, 1112, 1113, 1114, 1115, 1116, 1117, 1118, 1119, 1120, 1121, 1122, 1123, 1124, 1125, 1126, 1127, 1128, 1129, 1130, 1131, 1132, 1133, 1134, 1135, 1136, 1137, 1138, 1139, 1140, 1141, 1142, 1143, 1144, 1145, 1146, 1147, 1148, 1149, 1150, 1151, 1152, 1153, 1154, 1155, 1156, 1157, 1158, 1159, 1160, 1161]\n"
     ]
    }
   ],
   "source": [
    "#Basic Molecule attributes: number of residues (nor), residue ids: resids, atom indices: atmidx, and residue info: residue\n",
    "print mypdb[1].nor, mypdb[1].resids"
   ]
  },
  {
   "cell_type": "code",
   "execution_count": 5,
   "metadata": {
    "collapsed": false
   },
   "outputs": [
    {
     "name": "stdout",
     "output_type": "stream",
     "text": [
      "1 [1300]\n"
     ]
    }
   ],
   "source": [
    "print mypdb[3].nor, mypdb[3].resids"
   ]
  },
  {
   "cell_type": "code",
   "execution_count": 6,
   "metadata": {
    "collapsed": false
   },
   "outputs": [
    {
     "name": "stdout",
     "output_type": "stream",
     "text": [
      "{'name': 'JDC', 'chain': 'A', 'atoms': {6933: {'cord': [3.212, -20.41, 59.668], 'B': 48.87, 'name': 'C1', 'O': 1.0}, 6934: {'cord': [2.925, -21.788, 59.558], 'B': 62.55, 'name': 'N2', 'O': 1.0}, 6935: {'cord': [2.2, -22.081, 58.366], 'B': 59.43, 'name': 'C3', 'O': 1.0}, 6936: {'cord': [0.834, -21.417, 58.395], 'B': 43.96, 'name': 'C4', 'O': 1.0}, 6937: {'cord': [0.941, -19.983, 58.845], 'B': 53.74, 'name': 'C4A', 'O': 1.0}, 6938: {'cord': [-0.162, -19.056, 58.639], 'B': 58.61, 'name': 'C5', 'O': 1.0}, 6939: {'cord': [-0.05, -17.705, 59.061], 'B': 64.53, 'name': 'C6', 'O': 1.0}, 6940: {'cord': [1.111, -17.258, 59.67], 'B': 65.23, 'name': 'C7', 'O': 1.0}, 6941: {'cord': [1.231, -15.978, 60.074], 'B': 69.41, 'name': 'O7', 'O': 1.0}, 6942: {'cord': [2.166, -18.147, 59.863], 'B': 64.82, 'name': 'C8', 'O': 1.0}, 6943: {'cord': [2.05, -19.54, 59.431], 'B': 48.05, 'name': 'C8A', 'O': 1.0}, 6944: {'cord': [2.111, -23.598, 58.19], 'B': 61.98, 'name': 'C1A', 'O': 1.0}, 6945: {'cord': [1.727, -24.318, 59.12], 'B': 64.62, 'name': 'O1', 'O': 1.0}, 6946: {'cord': [2.503, -24.178, 56.921], 'B': 56.3, 'name': 'N2A', 'O': 1.0}, 6947: {'cord': [2.445, -25.585, 56.711], 'B': 56.73, 'name': 'C2A', 'O': 1.0}, 6948: {'cord': [1.614, -25.743, 55.429], 'B': 70.31, 'name': 'C3A', 'O': 1.0}, 6949: {'cord': [0.193, -25.053, 55.545], 'B': 54.27, 'name': 'C3D', 'O': 1.0}, 6950: {'cord': [1.576, -27.107, 54.864], 'B': 68.81, 'name': 'C3B', 'O': 1.0}, 6951: {'cord': [3.811, -26.223, 56.565], 'B': 47.06, 'name': 'C4D', 'O': 1.0}, 6952: {'cord': [4.678, -26.293, 57.835], 'B': 55.76, 'name': 'N11', 'O': 1.0}, 6953: {'cord': [4.043, -27.036, 58.903], 'B': 56.86, 'name': 'C21', 'O': 1.0}, 6954: {'cord': [4.679, -26.846, 60.229], 'B': 62.8, 'name': 'C31', 'O': 1.0}, 6955: {'cord': [4.312, -25.401, 60.739], 'B': 78.38, 'name': 'C34', 'O': 1.0}, 6956: {'cord': [6.129, -27.032, 60.202], 'B': 69.4, 'name': 'C41', 'O': 1.0}, 6957: {'cord': [6.752, -26.272, 59.152], 'B': 63.71, 'name': 'C51', 'O': 1.0}, 6958: {'cord': [6.115, -26.461, 57.818], 'B': 49.91, 'name': 'C61', 'O': 1.0}, 6959: {'cord': [6.423, -28.478, 59.844], 'B': 48.63, 'name': 'C4E', 'O': 1.0}, 6960: {'cord': [6.721, -26.803, 61.593], 'B': 72.78, 'name': 'C1C', 'O': 1.0}, 6961: {'cord': [6.111, -27.382, 62.709], 'B': 79.76, 'name': 'C2C', 'O': 1.0}, 6962: {'cord': [6.658, -27.175, 63.992], 'B': 84.06, 'name': 'C3C', 'O': 1.0}, 6963: {'cord': [6.021, -27.774, 65.151], 'B': 90.73, 'name': 'O3C', 'O': 1.0}, 6964: {'cord': [7.839, -26.372, 64.148], 'B': 71.44, 'name': 'C4C', 'O': 1.0}, 6965: {'cord': [8.441, -25.801, 63.038], 'B': 74.71, 'name': 'C5C', 'O': 1.0}, 6966: {'cord': [7.899, -26.005, 61.754], 'B': 71.41, 'name': 'C6C', 'O': 1.0}}}\n"
     ]
    }
   ],
   "source": [
    "#Get all information about a residue\n",
    "print mypdb[3].residue[1300]"
   ]
  },
  {
   "cell_type": "code",
   "execution_count": 8,
   "metadata": {
    "collapsed": false
   },
   "outputs": [
    {
     "name": "stdout",
     "output_type": "stream",
     "text": [
      "SER\n"
     ]
    }
   ],
   "source": [
    "print mypdb[1].residue[55]['name']"
   ]
  },
  {
   "cell_type": "code",
   "execution_count": 9,
   "metadata": {
    "collapsed": false
   },
   "outputs": [
    {
     "name": "stdout",
     "output_type": "stream",
     "text": [
      "[[-11.855 -43.861  67.808]\n",
      " [-11.937 -45.085  67.015]\n",
      " [-10.552 -45.525  66.543]\n",
      " [ -9.697 -44.684  66.272]\n",
      " [-12.847 -44.873  65.804]\n",
      " [-12.873 -46.029  64.983]]\n"
     ]
    }
   ],
   "source": [
    "#Get coordinates of all atoms for residue 55 in protein\n",
    "print mypdb[1].GetCord(resid=55)"
   ]
  },
  {
   "cell_type": "code",
   "execution_count": 10,
   "metadata": {
    "collapsed": false
   },
   "outputs": [
    {
     "name": "stdout",
     "output_type": "stream",
     "text": [
      "[1, 2, 3, 4, 5, 6]\n"
     ]
    }
   ],
   "source": [
    "#List all atoms indices for residue 55\n",
    "print mypdb[1].residue[55]['atoms'].keys()"
   ]
  },
  {
   "cell_type": "code",
   "execution_count": 11,
   "metadata": {
    "collapsed": false
   },
   "outputs": [
    {
     "name": "stdout",
     "output_type": "stream",
     "text": [
      "[ -9.697 -44.684  66.272]\n"
     ]
    }
   ],
   "source": [
    "#Get cordinate for 4th atom in residue 55\n",
    "print mypdb[1].GetCordbyIdx(atmidx=4)"
   ]
  },
  {
   "cell_type": "code",
   "execution_count": 12,
   "metadata": {
    "collapsed": false
   },
   "outputs": [
    {
     "name": "stdout",
     "output_type": "stream",
     "text": [
      "2.39383583397\n"
     ]
    }
   ],
   "source": [
    "#Get the distance between atoms 2 and 4\n",
    "print mypdb[1].GetDist(2,4)"
   ]
  },
  {
   "cell_type": "code",
   "execution_count": 13,
   "metadata": {
    "collapsed": false
   },
   "outputs": [
    {
     "name": "stdout",
     "output_type": "stream",
     "text": [
      "120.095847681\n"
     ]
    }
   ],
   "source": [
    "#Get the angle between atoms 2, 3, and 4 in degrees\n",
    "print mypdb[1].GetAngle(2,3,4)"
   ]
  },
  {
   "cell_type": "code",
   "execution_count": 14,
   "metadata": {
    "collapsed": false
   },
   "outputs": [
    {
     "name": "stdout",
     "output_type": "stream",
     "text": [
      "-38.9012780383\n"
     ]
    }
   ],
   "source": [
    "#Get the dihedral angle between atoms 2, 3, 4, and 5 in degrees\n",
    "print mypdb[1].GetDihed(2,3,4,5)"
   ]
  },
  {
   "cell_type": "code",
   "execution_count": 17,
   "metadata": {
    "collapsed": false
   },
   "outputs": [
    {
     "name": "stdout",
     "output_type": "stream",
     "text": [
      "[1, 2, 3, 4, 5, 6]\n",
      "[5, 6]\n"
     ]
    }
   ],
   "source": [
    "#Get a subset of a molecule according to a given criteria...say all sidechain atoms for a protein\n",
    "obj_sc= mypdb[1].GetSubset('sidechain')\n",
    "\n",
    "print mypdb[1].residue[55]['atoms'].keys()\n",
    "print obj_sc.residue[55]['atoms'].keys()"
   ]
  },
  {
   "cell_type": "code",
   "execution_count": 20,
   "metadata": {
    "collapsed": false
   },
   "outputs": [
    {
     "name": "stdout",
     "output_type": "stream",
     "text": [
      "[ -7.20733511 -18.21769149  31.84028664]\n",
      "[ -7.19294943 -18.23048858  31.84133868]\n",
      "[ -7.20733511 -18.21769149  31.84028664]\n"
     ]
    }
   ],
   "source": [
    "#Get geometric center of all sidechain atoms\n",
    "print obj_sc.GetCenter(cen_type='geom')\n",
    "\n",
    "#Get center of mass of all sidechain atoms\n",
    "print obj_sc.GetCenter(cen_type='mass')\n",
    "\n",
    "#Get center of all sidechain atoms using custom weights\n",
    "import numpy as np\n",
    "no_of_atoms = len(obj_sc.atmidx)\n",
    "print obj_sc.GetCenter(cen_type='custom', custom_weight=np.ones(no_of_atoms))"
   ]
  },
  {
   "cell_type": "code",
   "execution_count": 21,
   "metadata": {
    "collapsed": false
   },
   "outputs": [
    {
     "ename": "SystemExit",
     "evalue": "*** PROTEIN SPECIFIC CRITERIA (backbone) SPECIFIED for molecule type Ligand***\n No Subset returned.",
     "output_type": "error",
     "traceback": [
      "An exception has occurred, use %tb to see the full traceback.\n",
      "\u001b[1;31mSystemExit\u001b[0m\u001b[1;31m:\u001b[0m *** PROTEIN SPECIFIC CRITERIA (backbone) SPECIFIED for molecule type Ligand***\n No Subset returned.\n"
     ]
    },
    {
     "name": "stderr",
     "output_type": "stream",
     "text": [
      "To exit: use 'exit', 'quit', or Ctrl-D.\n"
     ]
    }
   ],
   "source": [
    "#Let's try to get a subset of backbone atoms in Ligand object\n",
    "lig_sub= mypdb[3].GetSubset('backbone')"
   ]
  },
  {
   "cell_type": "code",
   "execution_count": 23,
   "metadata": {
    "collapsed": false
   },
   "outputs": [
    {
     "name": "stdout",
     "output_type": "stream",
     "text": [
      "{6934: {'cord': [2.925, -21.788, 59.558], 'B': 62.55, 'name': 'N2', 'O': 1.0}, 6941: {'cord': [1.231, -15.978, 60.074], 'B': 69.41, 'name': 'O7', 'O': 1.0}, 6945: {'cord': [1.727, -24.318, 59.12], 'B': 64.62, 'name': 'O1', 'O': 1.0}, 6946: {'cord': [2.503, -24.178, 56.921], 'B': 56.3, 'name': 'N2A', 'O': 1.0}, 6952: {'cord': [4.678, -26.293, 57.835], 'B': 55.76, 'name': 'N11', 'O': 1.0}, 6963: {'cord': [6.021, -27.774, 65.151], 'B': 90.73, 'name': 'O3C', 'O': 1.0}}\n"
     ]
    }
   ],
   "source": [
    "#Get a subset of polar atoms in Ligand object\n",
    "lig_sub= mypdb[3].GetSubset('polar')\n",
    "print lig_sub.residue[1300]['atoms']"
   ]
  },
  {
   "cell_type": "code",
   "execution_count": 30,
   "metadata": {
    "collapsed": false
   },
   "outputs": [
    {
     "name": "stdout",
     "output_type": "stream",
     "text": [
      "[ 14.0067  15.9994  15.9994  14.0067  14.0067  15.9994]\n"
     ]
    }
   ],
   "source": [
    "#Get mass of all polar atoms in ligand 3\n",
    "print lig_sub.GetMass()"
   ]
  },
  {
   "cell_type": "code",
   "execution_count": 31,
   "metadata": {
    "collapsed": false
   },
   "outputs": [
    {
     "name": "stdout",
     "output_type": "stream",
     "text": [
      "(array([  1.231, -27.774,  56.921]), array([  6.021, -15.978,  65.151]))\n"
     ]
    }
   ],
   "source": [
    "#Get min and max values of atom coordinates in the x, y, and z directions\n",
    "print lig_sub.GetRange()"
   ]
  },
  {
   "cell_type": "code",
   "execution_count": 32,
   "metadata": {
    "collapsed": false
   },
   "outputs": [
    {
     "name": "stdout",
     "output_type": "stream",
     "text": [
      "[[  0.           6.07387784   2.83336337   3.58384612   5.1319356\n",
      "    8.75780001]\n",
      " [  6.07387784   0.           8.40902682   8.87690222  11.10379012\n",
      "   13.7064089 ]\n",
      " [  2.83336337   8.40902682   0.           2.33610295   3.77627475\n",
      "    8.17039369]\n",
      " [  3.58384612   8.87690222   2.33610295   0.           3.16847692\n",
      "    9.64574725]\n",
      " [  5.1319356   11.10379012   3.77627475   3.16847692   0.           7.58425118]\n",
      " [  8.75780001  13.7064089    8.17039369   9.64574725   7.58425118   0.        ]]\n"
     ]
    }
   ],
   "source": [
    "#Get distance matrix between all atoms of an object\n",
    "from Bython.StrucUtils import OBDistMat\n",
    "\n",
    "print OBDistMat(lig_sub)"
   ]
  },
  {
   "cell_type": "code",
   "execution_count": null,
   "metadata": {
    "collapsed": true
   },
   "outputs": [],
   "source": []
  }
 ],
 "metadata": {
  "kernelspec": {
   "display_name": "Python 2",
   "language": "python",
   "name": "python2"
  },
  "language_info": {
   "codemirror_mode": {
    "name": "ipython",
    "version": 2
   },
   "file_extension": ".py",
   "mimetype": "text/x-python",
   "name": "python",
   "nbconvert_exporter": "python",
   "pygments_lexer": "ipython2",
   "version": "2.7.11"
  }
 },
 "nbformat": 4,
 "nbformat_minor": 0
}
