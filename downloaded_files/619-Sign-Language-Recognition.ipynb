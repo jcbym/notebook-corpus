{
 "cells": [
  {
   "cell_type": "markdown",
   "metadata": {},
   "source": [
    "# WorkFlow"
   ]
  },
  {
   "cell_type": "markdown",
   "metadata": {},
   "source": [
    "## Classes"
   ]
  },
  {
   "cell_type": "markdown",
   "metadata": {},
   "source": [
    "## Load the data"
   ]
  },
  {
   "cell_type": "markdown",
   "metadata": {},
   "source": [
    "## Test Modelling"
   ]
  },
  {
   "cell_type": "markdown",
   "metadata": {},
   "source": [
    "## Modelling"
   ]
  },
  {
   "cell_type": "markdown",
   "metadata": {},
   "source": [
    "**<hr>**"
   ]
  },
  {
   "cell_type": "markdown",
   "metadata": {},
   "source": [
    "## Classes"
   ]
  },
  {
   "cell_type": "code",
   "execution_count": 1,
   "metadata": {},
   "outputs": [],
   "source": [
    "import os\n",
    "import cv2\n",
    "import torch\n",
    "import numpy as np"
   ]
  },
  {
   "cell_type": "code",
   "execution_count": 2,
   "metadata": {},
   "outputs": [],
   "source": [
    "def load_data(img_size=112):\n",
    "    data = []\n",
    "    index = -1\n",
    "    labels = {}\n",
    "    for directory in os.listdir('./data/'):\n",
    "        index += 1\n",
    "        labels[f'./data/{directory}/'] = [index,-1]\n",
    "    print(len(labels))\n",
    "    for label in labels:\n",
    "        for file in os.listdir(label):\n",
    "            filepath = label + file\n",
    "            img = cv2.imread(filepath,cv2.IMREAD_GRAYSCALE)\n",
    "            img = cv2.resize(img,(img_size,img_size))\n",
    "            img = img / 255.0\n",
    "            data.append([\n",
    "                np.array(img),\n",
    "                labels[label][0]\n",
    "            ])\n",
    "            labels[label][1] += 1\n",
    "    for _ in range(12):\n",
    "        np.random.shuffle(data)\n",
    "    print(len(data))\n",
    "    np.save('./data.npy',data)\n",
    "    return data"
   ]
  },
  {
   "cell_type": "code",
   "execution_count": 3,
   "metadata": {},
   "outputs": [],
   "source": [
    "import torch"
   ]
  },
  {
   "cell_type": "code",
   "execution_count": 4,
   "metadata": {},
   "outputs": [],
   "source": [
    "def other_loading_data_proccess(data):\n",
    "    X = []\n",
    "    y = []\n",
    "    print('going through the data..')\n",
    "    for d in data:\n",
    "        X.append(d[0])\n",
    "        y.append(d[1])\n",
    "    print('splitting the data')\n",
    "    VAL_SPLIT = 0.25\n",
    "    VAL_SPLIT = len(X)*VAL_SPLIT\n",
    "    VAL_SPLIT = int(VAL_SPLIT)\n",
    "    X_train = X[:-VAL_SPLIT]\n",
    "    y_train = y[:-VAL_SPLIT]\n",
    "    X_test = X[-VAL_SPLIT:]\n",
    "    y_test = y[-VAL_SPLIT:]\n",
    "    print('turning data to tensors')\n",
    "    X_train = torch.from_numpy(np.array(X_train))\n",
    "    y_train = torch.from_numpy(np.array(y_train))\n",
    "    X_test = torch.from_numpy(np.array(X_test))\n",
    "    y_test = torch.from_numpy(np.array(y_test))\n",
    "    return [X_train,X_test,y_train,y_test]"
   ]
  },
  {
   "cell_type": "markdown",
   "metadata": {},
   "source": [
    "**<hr>**"
   ]
  },
  {
   "cell_type": "markdown",
   "metadata": {},
   "source": [
    "## Load the data"
   ]
  },
  {
   "cell_type": "code",
   "execution_count": 5,
   "metadata": {},
   "outputs": [
    {
     "name": "stdout",
     "output_type": "stream",
     "text": [
      "36\n",
      "2515\n"
     ]
    },
    {
     "name": "stderr",
     "output_type": "stream",
     "text": [
      "/home/indika/anaconda3/lib/python3.7/site-packages/numpy/core/_asarray.py:136: VisibleDeprecationWarning: Creating an ndarray from ragged nested sequences (which is a list-or-tuple of lists-or-tuples-or ndarrays with different lengths or shapes) is deprecated. If you meant to do this, you must specify 'dtype=object' when creating the ndarray\n",
      "  return array(a, dtype, copy=False, order=order, subok=True)\n"
     ]
    },
    {
     "name": "stdout",
     "output_type": "stream",
     "text": [
      "going through the data..\n",
      "splitting the data\n",
      "turning data to tensors\n"
     ]
    }
   ],
   "source": [
    "REBUILD_DATA = True\n",
    "if REBUILD_DATA:\n",
    "    data = load_data()\n",
    "    np.random.shuffle(data)\n",
    "    X_train,X_test,y_train,y_test = other_loading_data_proccess(data)"
   ]
  },
  {
   "cell_type": "markdown",
   "metadata": {},
   "source": [
    "## Test Modelling"
   ]
  },
  {
   "cell_type": "code",
   "execution_count": 6,
   "metadata": {},
   "outputs": [],
   "source": [
    "import torch\n",
    "import torch.nn as nn"
   ]
  },
  {
   "cell_type": "code",
   "execution_count": 7,
   "metadata": {},
   "outputs": [],
   "source": [
    "import torch.nn.functional as F"
   ]
  },
  {
   "cell_type": "code",
   "execution_count": 8,
   "metadata": {},
   "outputs": [],
   "source": [
    "# class Test_Model(nn.Module):\n",
    "#     def __init__(self):\n",
    "#         super().__init__()\n",
    "#         self.conv1 = nn.Conv2d(1, 6, 5)\n",
    "#         self.pool = nn.MaxPool2d(2, 2)\n",
    "#         self.conv2 = nn.Conv2d(6, 16, 5)\n",
    "#         self.fc1 = nn.Linear(16 * 25 * 25, 120)\n",
    "#         self.fc2 = nn.Linear(120, 84)\n",
    "#         self.fc3 = nn.Linear(84, 36)\n",
    "\n",
    "#     def forward(self, x):\n",
    "#         x = self.pool(F.relu(self.conv1(x)))\n",
    "#         x = self.pool(F.relu(self.conv2(x)))\n",
    "#         x = x.view(-1, 16 * 25 * 25)\n",
    "#         x = F.relu(self.fc1(x))\n",
    "#         x = F.relu(self.fc2(x))\n",
    "#         x = self.fc3(x)\n",
    "#         return x"
   ]
  },
  {
   "cell_type": "code",
   "execution_count": 9,
   "metadata": {},
   "outputs": [],
   "source": [
    "class Test_Model(nn.Module):\n",
    "    def __init__(self,output:int=36):\n",
    "        super().__init__()\n",
    "        self.conv1 = nn.Conv2d(1,4,5)\n",
    "        self.conv2 = nn.Conv2d(4,8,5)\n",
    "        self.conv3 = nn.Conv2d(8,16,5)\n",
    "        self.conv4 = nn.Conv2d(16,32,5)\n",
    "        self.conv5 = nn.Conv2d(32,64,5)\n",
    "        self.relu = nn.ReLU()\n",
    "        self.max_pool2d = F.max_pool2d\n",
    "        self.fc1 = nn.Linear(64*1*1,4)\n",
    "        self.fc2 = nn.Linear(4,8)\n",
    "        self.fc3 = nn.Linear(8,16)\n",
    "        self.fc4 = nn.Linear(16,32)\n",
    "        self.fc5 = nn.Linear(32,64)\n",
    "        self.fc6 = nn.Linear(64,output)\n",
    "    \n",
    "    def forward(self,X):\n",
    "        preds = self.conv1(X)\n",
    "        preds = self.relu(preds)\n",
    "        preds = self.max_pool2d(preds,(2,2))\n",
    "        preds = self.conv2(preds)\n",
    "        preds = self.relu(preds)\n",
    "        preds = self.max_pool2d(preds,(2,2))\n",
    "        preds = self.conv3(preds)\n",
    "        preds = self.relu(preds)\n",
    "        preds = self.max_pool2d(preds,(2,2))\n",
    "        preds = self.conv4(preds)\n",
    "        preds = self.relu(preds)\n",
    "        preds = self.max_pool2d(preds,(2,2))\n",
    "        preds = self.conv5(preds)\n",
    "        preds = self.relu(preds)\n",
    "        preds = self.max_pool2d(preds,(2,2))\n",
    "        print(preds.shape)\n",
    "        preds = preds.view(-1,384*1*1)\n",
    "        preds = self.fc1(preds)\n",
    "        preds = self.relu(preds)\n",
    "        preds = self.fc2(preds)\n",
    "        preds = self.relu(preds)\n",
    "        preds = self.fc3(preds)\n",
    "        preds = self.relu(preds)\n",
    "        preds = self.fc4(preds)\n",
    "        preds = self.relu(preds)\n",
    "        preds = self.fc5(preds)\n",
    "        preds = self.relu(preds)\n",
    "        preds = self.fc6(preds)\n",
    "#         preds = self.relu(preds)\n",
    "#         return F.softmax(preds,dim=1)\n",
    "        return preds"
   ]
  },
  {
   "cell_type": "code",
   "execution_count": 10,
   "metadata": {},
   "outputs": [],
   "source": [
    "device = torch.device('cuda')"
   ]
  },
  {
   "cell_type": "code",
   "execution_count": 11,
   "metadata": {},
   "outputs": [],
   "source": [
    "model = Test_Model().to(device)"
   ]
  },
  {
   "cell_type": "code",
   "execution_count": 12,
   "metadata": {},
   "outputs": [],
   "source": [
    "# preds = model(X_test.reshape(-1,1,112,112).float())"
   ]
  },
  {
   "cell_type": "code",
   "execution_count": 13,
   "metadata": {},
   "outputs": [],
   "source": [
    "# preds[0]"
   ]
  },
  {
   "cell_type": "code",
   "execution_count": 14,
   "metadata": {},
   "outputs": [],
   "source": [
    "optimizer = torch.optim.SGD(model.parameters(),lr=0.1)\n",
    "criterion = nn.CrossEntropyLoss()"
   ]
  },
  {
   "cell_type": "code",
   "execution_count": 15,
   "metadata": {},
   "outputs": [],
   "source": [
    "BATCH_SIZE = 32"
   ]
  },
  {
   "cell_type": "code",
   "execution_count": 16,
   "metadata": {},
   "outputs": [],
   "source": [
    "EPOCHS = 5"
   ]
  },
  {
   "cell_type": "code",
   "execution_count": 17,
   "metadata": {},
   "outputs": [],
   "source": [
    "loss_logs = []"
   ]
  },
  {
   "cell_type": "code",
   "execution_count": 18,
   "metadata": {},
   "outputs": [],
   "source": [
    "from tqdm import tqdm"
   ]
  },
  {
   "cell_type": "code",
   "execution_count": 19,
   "metadata": {},
   "outputs": [],
   "source": [
    "PROJECT_NAME = \"Sign-Language-Recognition\""
   ]
  },
  {
   "cell_type": "code",
   "execution_count": 20,
   "metadata": {},
   "outputs": [],
   "source": [
    "def test(net,X,y):\n",
    "    correct = 0\n",
    "    total = 0\n",
    "    net.eval()\n",
    "    with torch.no_grad():\n",
    "        for i in range(len(X)):\n",
    "            real_class = torch.argmax(y[i]).to(device)\n",
    "            net_out = net(X[i].view(-1,1,112,112).to(device).float())\n",
    "            net_out = net_out[0]\n",
    "            predictied_class = torch.argmax(net_out)\n",
    "            if predictied_class == real_class:\n",
    "                correct += 1\n",
    "            total += 1\n",
    "    return round(correct/total,3)"
   ]
  },
  {
   "cell_type": "code",
   "execution_count": 21,
   "metadata": {},
   "outputs": [],
   "source": [
    "import wandb"
   ]
  },
  {
   "cell_type": "code",
   "execution_count": 22,
   "metadata": {},
   "outputs": [
    {
     "data": {
      "text/plain": [
       "36"
      ]
     },
     "execution_count": 22,
     "metadata": {},
     "output_type": "execute_result"
    }
   ],
   "source": [
    "len(os.listdir('./data/'))"
   ]
  },
  {
   "cell_type": "code",
   "execution_count": 23,
   "metadata": {},
   "outputs": [],
   "source": [
    "import random"
   ]
  },
  {
   "cell_type": "code",
   "execution_count": 24,
   "metadata": {},
   "outputs": [
    {
     "name": "stdout",
     "output_type": "stream",
     "text": [
      "10\n"
     ]
    },
    {
     "name": "stderr",
     "output_type": "stream",
     "text": [
      "\u001b[34m\u001b[1mwandb\u001b[0m: Currently logged in as: \u001b[33mranuga-d\u001b[0m (use `wandb login --relogin` to force relogin)\n"
     ]
    },
    {
     "data": {
      "text/html": [
       "\n",
       "                Tracking run with wandb version 0.10.30<br/>\n",
       "                Syncing run <strong style=\"color:#cdcd00\">test</strong> to <a href=\"https://wandb.ai\" target=\"_blank\">Weights & Biases</a> <a href=\"https://docs.wandb.com/integrations/jupyter.html\" target=\"_blank\">(Documentation)</a>.<br/>\n",
       "                Project page: <a href=\"https://wandb.ai/ranuga-d/Sign-Language-Recognition\" target=\"_blank\">https://wandb.ai/ranuga-d/Sign-Language-Recognition</a><br/>\n",
       "                Run page: <a href=\"https://wandb.ai/ranuga-d/Sign-Language-Recognition/runs/xtghi30q\" target=\"_blank\">https://wandb.ai/ranuga-d/Sign-Language-Recognition/runs/xtghi30q</a><br/>\n",
       "                Run data is saved locally in <code>/home/indika/Programming/Projects/Python/Artifical-Intelligence/PyTorch/CNN/American-Sign-Language-Recognition/wandb/run-20210517_214540-xtghi30q</code><br/><br/>\n",
       "            "
      ],
      "text/plain": [
       "<IPython.core.display.HTML object>"
      ]
     },
     "metadata": {},
     "output_type": "display_data"
    },
    {
     "name": "stderr",
     "output_type": "stream",
     "text": [
      "  0%|          | 0/5 [00:00<?, ?it/s]/home/indika/anaconda3/lib/python3.7/site-packages/ipykernel_launcher.py:10: UserWarning: To copy construct from a tensor, it is recommended to use sourceTensor.clone().detach() or sourceTensor.clone().detach().requires_grad_(True), rather than torch.tensor(sourceTensor).\n",
      "  # Remove the CWD from sys.path while we load stuff.\n",
      "100%|██████████| 5/5 [11:14<00:00, 134.82s/it]\n"
     ]
    },
    {
     "data": {
      "text/html": [
       "<br/>Waiting for W&B process to finish, PID 672081<br/>Program ended successfully."
      ],
      "text/plain": [
       "<IPython.core.display.HTML object>"
      ]
     },
     "metadata": {},
     "output_type": "display_data"
    },
    {
     "data": {
      "application/vnd.jupyter.widget-view+json": {
       "model_id": "1dcd311aac904876921c623607050cb9",
       "version_major": 2,
       "version_minor": 0
      },
      "text/plain": [
       "VBox(children=(Label(value=' 0.03MB of 0.03MB uploaded (0.00MB deduped)\\r'), FloatProgress(value=1.0, max=1.0)…"
      ]
     },
     "metadata": {},
     "output_type": "display_data"
    },
    {
     "data": {
      "text/html": [
       "Find user logs for this run at: <code>/home/indika/Programming/Projects/Python/Artifical-Intelligence/PyTorch/CNN/American-Sign-Language-Recognition/wandb/run-20210517_214540-xtghi30q/logs/debug.log</code>"
      ],
      "text/plain": [
       "<IPython.core.display.HTML object>"
      ]
     },
     "metadata": {},
     "output_type": "display_data"
    },
    {
     "data": {
      "text/html": [
       "Find internal logs for this run at: <code>/home/indika/Programming/Projects/Python/Artifical-Intelligence/PyTorch/CNN/American-Sign-Language-Recognition/wandb/run-20210517_214540-xtghi30q/logs/debug-internal.log</code>"
      ],
      "text/plain": [
       "<IPython.core.display.HTML object>"
      ]
     },
     "metadata": {},
     "output_type": "display_data"
    },
    {
     "data": {
      "text/html": [
       "<h3>Run summary:</h3><br/><style>\n",
       "    table.wandb td:nth-child(1) { padding: 0 10px; text-align: right }\n",
       "    </style><table class=\"wandb\">\n",
       "<tr><td>loss</td><td>3.59177</td></tr><tr><td>accuracy</td><td>0.0</td></tr><tr><td>val_accuracy</td><td>0.0</td></tr><tr><td>pred</td><td>15</td></tr><tr><td>real</td><td>0</td></tr><tr><td>_runtime</td><td>680</td></tr><tr><td>_timestamp</td><td>1621268821</td></tr><tr><td>_step</td><td>294</td></tr></table>"
      ],
      "text/plain": [
       "<IPython.core.display.HTML object>"
      ]
     },
     "metadata": {},
     "output_type": "display_data"
    },
    {
     "data": {
      "text/html": [
       "<h3>Run history:</h3><br/><style>\n",
       "    table.wandb td:nth-child(1) { padding: 0 10px; text-align: right }\n",
       "    </style><table class=\"wandb\">\n",
       "<tr><td>loss</td><td>▄▆▃▆▂▅▄▅▁▃▄▂█▁▆▃▂▄▁▃▅▄▂▄▂▃▃▁█▅▄▃▅▇▃▄▃▇▁▅</td></tr><tr><td>accuracy</td><td>▁▁▁▁▁▁▁▁▁▁▁▁▁▁▁▁▁▁▁▁▁▁▁▁▁▁▁▁▁▁▁▁▁▁▁▁▁▁▁▁</td></tr><tr><td>val_accuracy</td><td>▁▁▁▁▁▁▁▁▁▁▁▁▁▁▁▁▁▁▁▁▁▁▁▁▁▁▁▁▁▁▁▁▁▁▁▁▁▁▁▁</td></tr><tr><td>pred</td><td>▁▇▆▅▅▅▆▅▅▇▅▅███▅▅▇▅▅▅▇▅▅▅▇▃▇▅▇▅▅▅▇▅▆█▃▅▅</td></tr><tr><td>real</td><td>▁▁▁▁▁▁▁▁▁▁▁▁▁▁▁▁▁▁▁▁▁▁▁▁▁▁▁▁▁▁▁▁▁▁▁▁▁▁▁▁</td></tr><tr><td>_runtime</td><td>▁▁▁▂▂▂▂▂▂▃▃▃▃▃▃▄▄▄▄▄▅▅▅▅▅▅▆▆▆▆▆▇▇▇▇▇▇███</td></tr><tr><td>_timestamp</td><td>▁▁▁▂▂▂▂▂▂▃▃▃▃▃▃▄▄▄▄▄▅▅▅▅▅▅▆▆▆▆▆▇▇▇▇▇▇███</td></tr><tr><td>_step</td><td>▁▁▁▁▂▂▂▂▂▃▃▃▃▃▃▄▄▄▄▄▅▅▅▅▅▅▆▆▆▆▆▇▇▇▇▇▇███</td></tr></table><br/>"
      ],
      "text/plain": [
       "<IPython.core.display.HTML object>"
      ]
     },
     "metadata": {},
     "output_type": "display_data"
    },
    {
     "data": {
      "text/html": [
       "Synced 6 W&B file(s), 0 media file(s), 2 artifact file(s) and 1 other file(s)"
      ],
      "text/plain": [
       "<IPython.core.display.HTML object>"
      ]
     },
     "metadata": {},
     "output_type": "display_data"
    },
    {
     "data": {
      "text/html": [
       "\n",
       "                    <br/>Synced <strong style=\"color:#cdcd00\">test</strong>: <a href=\"https://wandb.ai/ranuga-d/Sign-Language-Recognition/runs/xtghi30q\" target=\"_blank\">https://wandb.ai/ranuga-d/Sign-Language-Recognition/runs/xtghi30q</a><br/>\n",
       "                "
      ],
      "text/plain": [
       "<IPython.core.display.HTML object>"
      ]
     },
     "metadata": {},
     "output_type": "display_data"
    }
   ],
   "source": [
    "index = random.randint(0,29)\n",
    "print(index)\n",
    "wandb.init(project=PROJECT_NAME,name='test')\n",
    "for _ in tqdm(range(EPOCHS)):\n",
    "    for i in range(0,len(X_train),BATCH_SIZE):\n",
    "        X_batch = X_train[i:i+BATCH_SIZE].view(-1,1,112,112).to(device)\n",
    "        y_batch = y_train[i:i+BATCH_SIZE].to(device)\n",
    "        model.to(device)\n",
    "        preds = model(X_batch.float())\n",
    "        loss = criterion(preds,torch.tensor(y_batch,dtype=torch.long))\n",
    "        optimizer.zero_grad()\n",
    "        loss.backward()\n",
    "        optimizer.step()\n",
    "        wandb.log({'loss':loss.item(),'accuracy':test(model,X_train,y_train)*100,'val_accuracy':test(model,X_test,y_test)*100,'pred':torch.argmax(preds[index]),'real':torch.argmax(y_batch[index])})\n",
    "wandb.finish()"
   ]
  },
  {
   "cell_type": "code",
   "execution_count": 25,
   "metadata": {},
   "outputs": [],
   "source": [
    "import matplotlib.pyplot as plt"
   ]
  },
  {
   "cell_type": "code",
   "execution_count": 26,
   "metadata": {},
   "outputs": [],
   "source": [
    "import pandas as pd"
   ]
  },
  {
   "cell_type": "code",
   "execution_count": 27,
   "metadata": {},
   "outputs": [
    {
     "name": "stderr",
     "output_type": "stream",
     "text": [
      "/home/indika/anaconda3/lib/python3.7/site-packages/ipykernel_launcher.py:1: DeprecationWarning: The default dtype for empty Series will be 'object' instead of 'float64' in a future version. Specify a dtype explicitly to silence this warning.\n",
      "  \"\"\"Entry point for launching an IPython kernel.\n"
     ]
    }
   ],
   "source": [
    "df = pd.Series(loss_logs)"
   ]
  },
  {
   "cell_type": "code",
   "execution_count": 28,
   "metadata": {},
   "outputs": [
    {
     "data": {
      "text/plain": [
       "<AxesSubplot:>"
      ]
     },
     "execution_count": 28,
     "metadata": {},
     "output_type": "execute_result"
    },
    {
     "data": {
      "image/png": "[encoded data removed]",
      "text/plain": [
       "<Figure size 864x432 with 1 Axes>"
      ]
     },
     "metadata": {
      "needs_background": "light"
     },
     "output_type": "display_data"
    }
   ],
   "source": [
    "df.plot.line(figsize=(12,6))"
   ]
  },
  {
   "cell_type": "code",
   "execution_count": 29,
   "metadata": {},
   "outputs": [
    {
     "data": {
      "text/plain": [
       "0.0"
      ]
     },
     "execution_count": 29,
     "metadata": {},
     "output_type": "execute_result"
    }
   ],
   "source": [
    "test(model,X_test,y_test)"
   ]
  },
  {
   "cell_type": "code",
   "execution_count": 30,
   "metadata": {},
   "outputs": [
    {
     "data": {
      "text/plain": [
       "0.0"
      ]
     },
     "execution_count": 30,
     "metadata": {},
     "output_type": "execute_result"
    }
   ],
   "source": [
    "test(model,X_train,y_train)"
   ]
  },
  {
   "cell_type": "code",
   "execution_count": 31,
   "metadata": {},
   "outputs": [
    {
     "data": {
      "text/plain": [
       "tensor([[-0.0423,  0.0519,  0.0244,  ..., -0.0403, -0.0415, -0.0711],\n",
       "        [-0.0423,  0.0519,  0.0245,  ..., -0.0403, -0.0415, -0.0710],\n",
       "        [-0.0423,  0.0519,  0.0245,  ..., -0.0403, -0.0415, -0.0710],\n",
       "        ...,\n",
       "        [-0.0423,  0.0519,  0.0245,  ..., -0.0403, -0.0415, -0.0710],\n",
       "        [-0.0423,  0.0520,  0.0245,  ..., -0.0403, -0.0415, -0.0710],\n",
       "        [-0.0423,  0.0519,  0.0245,  ..., -0.0403, -0.0415, -0.0710]],\n",
       "       device='cuda:0', grad_fn=<AddmmBackward>)"
      ]
     },
     "execution_count": 31,
     "metadata": {},
     "output_type": "execute_result"
    }
   ],
   "source": [
    "preds"
   ]
  },
  {
   "cell_type": "code",
   "execution_count": 32,
   "metadata": {},
   "outputs": [
    {
     "name": "stdout",
     "output_type": "stream",
     "text": [
      "tensor(7, device='cuda:0')\n",
      "tensor(15, device='cuda:0')\n",
      "\n",
      "\n",
      "tensor(16, device='cuda:0')\n",
      "tensor(15, device='cuda:0')\n",
      "\n",
      "\n",
      "tensor(20, device='cuda:0')\n",
      "tensor(15, device='cuda:0')\n",
      "\n",
      "\n",
      "tensor(31, device='cuda:0')\n",
      "tensor(15, device='cuda:0')\n",
      "\n",
      "\n",
      "tensor(10, device='cuda:0')\n",
      "tensor(15, device='cuda:0')\n",
      "\n",
      "\n",
      "tensor(9, device='cuda:0')\n",
      "tensor(15, device='cuda:0')\n",
      "\n",
      "\n",
      "tensor(23, device='cuda:0')\n",
      "tensor(15, device='cuda:0')\n",
      "\n",
      "\n",
      "tensor(26, device='cuda:0')\n",
      "tensor(15, device='cuda:0')\n",
      "\n",
      "\n",
      "tensor(22, device='cuda:0')\n",
      "tensor(15, device='cuda:0')\n",
      "\n",
      "\n",
      "tensor(21, device='cuda:0')\n",
      "tensor(15, device='cuda:0')\n",
      "\n",
      "\n",
      "tensor(35, device='cuda:0')\n",
      "tensor(15, device='cuda:0')\n",
      "\n",
      "\n",
      "tensor(2, device='cuda:0')\n",
      "tensor(15, device='cuda:0')\n",
      "\n",
      "\n",
      "tensor(0, device='cuda:0')\n",
      "tensor(15, device='cuda:0')\n",
      "\n",
      "\n",
      "tensor(32, device='cuda:0')\n",
      "tensor(15, device='cuda:0')\n",
      "\n",
      "\n",
      "tensor(24, device='cuda:0')\n",
      "tensor(15, device='cuda:0')\n",
      "\n",
      "\n",
      "tensor(10, device='cuda:0')\n",
      "tensor(15, device='cuda:0')\n",
      "\n",
      "\n",
      "tensor(35, device='cuda:0')\n",
      "tensor(15, device='cuda:0')\n",
      "\n",
      "\n",
      "tensor(32, device='cuda:0')\n",
      "tensor(15, device='cuda:0')\n",
      "\n",
      "\n",
      "tensor(29, device='cuda:0')\n",
      "tensor(15, device='cuda:0')\n",
      "\n",
      "\n",
      "tensor(7, device='cuda:0')\n",
      "tensor(15, device='cuda:0')\n",
      "\n",
      "\n",
      "tensor(15, device='cuda:0')\n",
      "tensor(15, device='cuda:0')\n",
      "\n",
      "\n",
      "tensor(28, device='cuda:0')\n",
      "tensor(15, device='cuda:0')\n",
      "\n",
      "\n",
      "tensor(35, device='cuda:0')\n",
      "tensor(15, device='cuda:0')\n",
      "\n",
      "\n",
      "tensor(8, device='cuda:0')\n",
      "tensor(15, device='cuda:0')\n",
      "\n",
      "\n",
      "tensor(22, device='cuda:0')\n",
      "tensor(15, device='cuda:0')\n",
      "\n",
      "\n",
      "tensor(7, device='cuda:0')\n",
      "tensor(15, device='cuda:0')\n",
      "\n",
      "\n",
      "tensor(20, device='cuda:0')\n",
      "tensor(15, device='cuda:0')\n",
      "\n",
      "\n",
      "tensor(18, device='cuda:0')\n",
      "tensor(15, device='cuda:0')\n",
      "\n",
      "\n",
      "tensor(8, device='cuda:0')\n",
      "tensor(15, device='cuda:0')\n",
      "\n",
      "\n",
      "tensor(30, device='cuda:0')\n",
      "tensor(15, device='cuda:0')\n",
      "\n",
      "\n",
      "tensor(31, device='cuda:0')\n",
      "tensor(15, device='cuda:0')\n",
      "\n",
      "\n"
     ]
    }
   ],
   "source": [
    "for real,pred in zip(y_batch,preds):\n",
    "    print(real)\n",
    "    print(torch.argmax(pred))\n",
    "    print('\\n')"
   ]
  },
  {
   "cell_type": "code",
   "execution_count": null,
   "metadata": {},
   "outputs": [],
   "source": []
  }
 ],
 "metadata": {
  "kernelspec": {
   "display_name": "Python 3.7.3 64-bit ('base': conda)",
   "language": "python",
   "name": "python373jvsc74a57bd0210f9608a45c0278a93c9e0b10db32a427986ab48cfc0d20c139811eb78c4bbc"
  },
  "language_info": {
   "codemirror_mode": {
    "name": "ipython",
    "version": 3
   },
   "file_extension": ".py",
   "mimetype": "text/x-python",
   "name": "python",
   "nbconvert_exporter": "python",
   "pygments_lexer": "ipython3",
   "version": "3.7.3"
  }
 },
 "nbformat": 4,
 "nbformat_minor": 2
}
