{
 "cells": [
  {
   "cell_type": "markdown",
   "metadata": {},
   "source": [
    "## 2020년 2월 19일 수요일\n",
    "### 프로그래머스 스택 / 큐 : 탑\n",
    "### 문제 : https://programmers.co.kr/learn/courses/30/lessons/42588\n",
    "### 블로그 : https://somjang.tistory.com/entry/%ED%94%84%EB%A1%9C%EA%B7%B8%EB%9E%98%EB%A8%B8%EC%8A%A4-%EC%8A%A4%ED%83%9D%ED%81%90-%ED%83%91-Python"
   ]
  },
  {
   "cell_type": "markdown",
   "metadata": {},
   "source": [
    "### 첫번째 시도"
   ]
  },
  {
   "cell_type": "code",
   "execution_count": 21,
   "metadata": {},
   "outputs": [],
   "source": [
    "def solution(heights):\n",
    "    answer = []\n",
    "    \n",
    "    for i in range(len(heights)):\n",
    "        if i == 0:\n",
    "            answer.append(0)\n",
    "        else:\n",
    "            for j in range(i, 0, -1):\n",
    "                check_flag = False\n",
    "                if heights[i] < heights[j]:\n",
    "                    answer.append(j+1)\n",
    "                    check_flag = True\n",
    "                    break\n",
    "            if check_flag == False:\n",
    "                if heights[0] > heights[i]:\n",
    "                    answer.append(1)\n",
    "                else:\n",
    "                    answer.append(0) \n",
    "                    \n",
    "    return answer"
   ]
  },
  {
   "cell_type": "code",
   "execution_count": 22,
   "metadata": {},
   "outputs": [
    {
     "data": {
      "text/plain": [
       "[0, 0, 2, 2, 4]"
      ]
     },
     "execution_count": 22,
     "metadata": {},
     "output_type": "execute_result"
    }
   ],
   "source": [
    "solution([6,9,5,7,4])"
   ]
  },
  {
   "cell_type": "code",
   "execution_count": null,
   "metadata": {},
   "outputs": [],
   "source": []
  }
 ],
 "metadata": {
  "kernelspec": {
   "display_name": "Python 3",
   "language": "python",
   "name": "python3"
  },
  "language_info": {
   "codemirror_mode": {
    "name": "ipython",
    "version": 3
   },
   "file_extension": ".py",
   "mimetype": "text/x-python",
   "name": "python",
   "nbconvert_exporter": "python",
   "pygments_lexer": "ipython3",
   "version": "3.7.3"
  }
 },
 "nbformat": 4,
 "nbformat_minor": 2
}
