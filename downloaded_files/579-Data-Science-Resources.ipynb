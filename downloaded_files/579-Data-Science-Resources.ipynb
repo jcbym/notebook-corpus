{
  "nbformat": 4,
  "nbformat_minor": 0,
  "metadata": {
    "colab": {
      "name": "Untitled0.ipynb",
      "provenance": [],
      "include_colab_link": true
    },
    "kernelspec": {
      "name": "python3",
      "display_name": "Python 3"
    }
  },
  "cells": [
    {
      "cell_type": "markdown",
      "metadata": {
        "id": "view-in-github",
        "colab_type": "text"
      },
      "source": [
        "<a href=\"https://colab.research.google.com/github/Innarticles/Data-Science-Resources/blob/master/Single-Neuron-Network.ipynb\" target=\"_parent\"><img src=\"https://colab.research.google.com/assets/colab-badge.svg\" alt=\"Open In Colab\"/></a>"
      ]
    },
    {
      "cell_type": "code",
      "metadata": {
        "id": "_pw8SGW4imib",
        "colab_type": "code",
        "colab": {
          "base_uri": "https://localhost:8080/",
          "height": 187
        },
        "outputId": "6154b486-4c46-4037-eb38-a18ffeaf3b50"
      },
      "source": [
        "# Python program to implement a \n",
        "# single neuron neural network \n",
        "\n",
        "# import all necessery libraries \n",
        "from numpy import exp, array, random, dot, tanh \n",
        "\n",
        "# Class to create a neural \n",
        "# network with single neuron \n",
        "class NeuralNetwork(): \n",
        "\t\n",
        "\tdef __init__(self): \n",
        "\t\t\n",
        "\t\t# Using seed to make sure it'll \n",
        "\t\t# generate same weights in every run \n",
        "\t\trandom.seed(1) \n",
        "\t\t\n",
        "\t\t# 3x1 Weight matrix \n",
        "\t\tself.weight_matrix = 2 * random.random((3, 1)) - 1\n",
        "\n",
        "\t# tanh as activation fucntion \n",
        "\tdef tanh(self, x): \n",
        "\t\treturn tanh(x) \n",
        "\n",
        "\t# derivative of tanh function. \n",
        "\t# Needed to calculate the gradients. \n",
        "\tdef tanh_derivative(self, x): \n",
        "\t\treturn 1.0 - tanh(x) ** 2\n",
        "\n",
        "\t# forward propagation \n",
        "\tdef forward_propagation(self, inputs): \n",
        "\t\treturn self.tanh(dot(inputs, self.weight_matrix)) \n",
        "\t\n",
        "\t# training the neural network. \n",
        "\tdef train(self, train_inputs, train_outputs, \n",
        "\t\t\t\t\t\t\tnum_train_iterations): \n",
        "\t\t\t\t\t\t\t\t\n",
        "\t\t# Number of iterations we want to \n",
        "\t\t# perform for this set of input. \n",
        "\t\tfor iteration in range(num_train_iterations): \n",
        "\t\t\toutput = self.forward_propagation(train_inputs) \n",
        "\n",
        "\t\t\t# Calculate the error in the output. \n",
        "\t\t\terror = train_outputs - output \n",
        "\n",
        "\t\t\t# multiply the error by input and then \n",
        "\t\t\t# by gradient of tanh funtion to calculate \n",
        "\t\t\t# the adjustment needs to be made in weights \n",
        "\t\t\tadjustment = dot(train_inputs.T, error *\n",
        "\t\t\t\t\t\t\tself.tanh_derivative(output)) \n",
        "\t\t\t\t\t\t\t\n",
        "\t\t\t# Adjust the weight matrix \n",
        "\t\t\tself.weight_matrix += adjustment \n",
        "\n",
        "# Driver Code \n",
        "if __name__ == \"__main__\": \n",
        "\t\n",
        "\tneural_network = NeuralNetwork() \n",
        "\t\n",
        "\tprint ('Random weights at the start of training') \n",
        "\tprint (neural_network.weight_matrix) \n",
        "\n",
        "\ttrain_inputs = array([[0, 0, 1], [1, 1, 1], [1, 0, 1], [0, 1, 1]]) \n",
        "\ttrain_outputs = array([[0, 1, 1, 0]]).T \n",
        "\n",
        "\tneural_network.train(train_inputs, train_outputs, 10000) \n",
        "\n",
        "\tprint ('New weights after training') \n",
        "\tprint (neural_network.weight_matrix) \n",
        "\n",
        "\t# Test the neural network with a new situation. \n",
        "\tprint (\"Testing network on new examples ->\") \n",
        "\tprint (neural_network.forward_propagation(array([0, 0, 1]))) \n"
      ],
      "execution_count": 13,
      "outputs": [
        {
          "output_type": "stream",
          "text": [
            "Random weights at the start of training\n",
            "[[-0.16595599]\n",
            " [ 0.44064899]\n",
            " [-0.99977125]]\n",
            "New weights after training\n",
            "[[5.39428067]\n",
            " [0.19482422]\n",
            " [0.34317086]]\n",
            "Testing network on new examples ->\n",
            "[0.33030526]\n"
          ],
          "name": "stdout"
        }
      ]
    },
    {
      "cell_type": "code",
      "metadata": {
        "id": "g3K2ueG5jT0U",
        "colab_type": "code",
        "colab": {
          "base_uri": "https://localhost:8080/",
          "height": 68
        },
        "outputId": "8cc15716-468a-4372-9ecc-edd10d10e244"
      },
      "source": [
        "2 * random.random((3, 1)) -1"
      ],
      "execution_count": 11,
      "outputs": [
        {
          "output_type": "execute_result",
          "data": {
            "text/plain": [
              "array([[-0.80330633],\n",
              "       [-0.15778475],\n",
              "       [ 0.91577906]])"
            ]
          },
          "metadata": {
            "tags": []
          },
          "execution_count": 11
        }
      ]
    },
    {
      "cell_type": "code",
      "metadata": {
        "id": "e_61shx-j9Et",
        "colab_type": "code",
        "colab": {}
      },
      "source": [
        ""
      ],
      "execution_count": 0,
      "outputs": []
    }
  ]
}