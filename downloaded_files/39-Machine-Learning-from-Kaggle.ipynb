{
 "cells": [
  {
   "cell_type": "code",
   "execution_count": 1,
   "id": "sweet-check",
   "metadata": {
    "_cell_guid": "b1076dfc-b9ad-4769-8c92-a6c4dae69d19",
    "_uuid": "8f2839f25d086af736a60e9eeb907d3b93b6e0e5",
    "execution": {
     "iopub.execute_input": "2021-06-07T19:30:31.167594Z",
     "iopub.status.busy": "2021-06-07T19:30:31.165090Z",
     "iopub.status.idle": "2021-06-07T19:30:31.183149Z",
     "shell.execute_reply": "2021-06-07T19:30:31.182347Z",
     "shell.execute_reply.started": "2021-06-07T19:29:26.398025Z"
    },
    "papermill": {
     "duration": 0.038593,
     "end_time": "2021-06-07T19:30:31.183375",
     "exception": false,
     "start_time": "2021-06-07T19:30:31.144782",
     "status": "completed"
    },
    "tags": []
   },
   "outputs": [
    {
     "name": "stdout",
     "output_type": "stream",
     "text": [
      "/kaggle/input/fertility-rate-vs-participation-in-workforce/SLR2.csv\n"
     ]
    }
   ],
   "source": [
    "# This Python 3 environment comes with many helpful analytics libraries installed\n",
    "# It is defined by the kaggle/python Docker image: https://github.com/kaggle/docker-python\n",
    "# For example, here's several helpful packages to load\n",
    "\n",
    "import numpy as np # linear algebra\n",
    "import pandas as pd # data processing, CSV file I/O (e.g. pd.read_csv)\n",
    "\n",
    "# Input data files are available in the read-only \"../input/\" directory\n",
    "# For example, running this (by clicking run or pressing Shift+Enter) will list all files under the input directory\n",
    "\n",
    "import os\n",
    "for dirname, _, filenames in os.walk('/kaggle/input'):\n",
    "    for filename in filenames:\n",
    "        print(os.path.join(dirname, filename))\n",
    "\n",
    "# You can write up to 20GB to the current directory (/kaggle/working/) that gets preserved as output when you create a version using \"Save & Run All\" \n",
    "# You can also write temporary files to /kaggle/temp/, but they won't be saved outside of the current session"
   ]
  },
  {
   "cell_type": "code",
   "execution_count": 2,
   "id": "eleven-delta",
   "metadata": {
    "execution": {
     "iopub.execute_input": "2021-06-07T19:30:31.212219Z",
     "iopub.status.busy": "2021-06-07T19:30:31.211526Z",
     "iopub.status.idle": "2021-06-07T19:30:31.215246Z",
     "shell.execute_reply": "2021-06-07T19:30:31.214620Z",
     "shell.execute_reply.started": "2021-06-07T19:29:26.422409Z"
    },
    "papermill": {
     "duration": 0.019289,
     "end_time": "2021-06-07T19:30:31.215411",
     "exception": false,
     "start_time": "2021-06-07T19:30:31.196122",
     "status": "completed"
    },
    "tags": []
   },
   "outputs": [],
   "source": [
    "import numpy as np\n",
    "import matplotlib.pyplot as mlt\n",
    "import pandas as pd"
   ]
  },
  {
   "cell_type": "code",
   "execution_count": 3,
   "id": "psychological-advocacy",
   "metadata": {
    "execution": {
     "iopub.execute_input": "2021-06-07T19:30:31.240188Z",
     "iopub.status.busy": "2021-06-07T19:30:31.239564Z",
     "iopub.status.idle": "2021-06-07T19:30:31.258403Z",
     "shell.execute_reply": "2021-06-07T19:30:31.257735Z",
     "shell.execute_reply.started": "2021-06-07T19:29:26.431235Z"
    },
    "papermill": {
     "duration": 0.032381,
     "end_time": "2021-06-07T19:30:31.258617",
     "exception": false,
     "start_time": "2021-06-07T19:30:31.226236",
     "status": "completed"
    },
    "tags": []
   },
   "outputs": [],
   "source": [
    "dataset = pd.read_csv('../input/fertility-rate-vs-participation-in-workforce/SLR2.csv')\n",
    "X = dataset.iloc[:, :-1].values\n",
    "y = dataset.iloc[:, -1].values"
   ]
  },
  {
   "cell_type": "code",
   "execution_count": 4,
   "id": "harmful-diesel",
   "metadata": {
    "execution": {
     "iopub.execute_input": "2021-06-07T19:30:31.285096Z",
     "iopub.status.busy": "2021-06-07T19:30:31.284153Z",
     "iopub.status.idle": "2021-06-07T19:30:32.384083Z",
     "shell.execute_reply": "2021-06-07T19:30:32.384648Z",
     "shell.execute_reply.started": "2021-06-07T19:29:26.460840Z"
    },
    "papermill": {
     "duration": 1.116159,
     "end_time": "2021-06-07T19:30:32.384885",
     "exception": false,
     "start_time": "2021-06-07T19:30:31.268726",
     "status": "completed"
    },
    "tags": []
   },
   "outputs": [],
   "source": [
    "from sklearn.model_selection import train_test_split\n",
    "X_train, X_test, y_train, y_test = train_test_split(X, y, test_size = 0.2, random_state = 0)"
   ]
  },
  {
   "cell_type": "code",
   "execution_count": 5,
   "id": "sweet-hobby",
   "metadata": {
    "execution": {
     "iopub.execute_input": "2021-06-07T19:30:32.411261Z",
     "iopub.status.busy": "2021-06-07T19:30:32.410540Z",
     "iopub.status.idle": "2021-06-07T19:30:32.540175Z",
     "shell.execute_reply": "2021-06-07T19:30:32.539522Z",
     "shell.execute_reply.started": "2021-06-07T19:29:27.554759Z"
    },
    "papermill": {
     "duration": 0.145011,
     "end_time": "2021-06-07T19:30:32.540348",
     "exception": false,
     "start_time": "2021-06-07T19:30:32.395337",
     "status": "completed"
    },
    "tags": []
   },
   "outputs": [
    {
     "data": {
      "text/plain": [
       "LinearRegression()"
      ]
     },
     "execution_count": 5,
     "metadata": {},
     "output_type": "execute_result"
    }
   ],
   "source": [
    "from sklearn.linear_model import LinearRegression\n",
    "regressor = LinearRegression()\n",
    "regressor.fit(X_train, y_train)"
   ]
  },
  {
   "cell_type": "code",
   "execution_count": 6,
   "id": "fallen-shooting",
   "metadata": {
    "execution": {
     "iopub.execute_input": "2021-06-07T19:30:32.567461Z",
     "iopub.status.busy": "2021-06-07T19:30:32.566718Z",
     "iopub.status.idle": "2021-06-07T19:30:32.570090Z",
     "shell.execute_reply": "2021-06-07T19:30:32.570654Z",
     "shell.execute_reply.started": "2021-06-07T19:29:27.683931Z"
    },
    "papermill": {
     "duration": 0.01958,
     "end_time": "2021-06-07T19:30:32.570852",
     "exception": false,
     "start_time": "2021-06-07T19:30:32.551272",
     "status": "completed"
    },
    "tags": []
   },
   "outputs": [
    {
     "name": "stdout",
     "output_type": "stream",
     "text": [
      "[-7.38472061]\n",
      "54.21448312632748\n"
     ]
    }
   ],
   "source": [
    "print(regressor.coef_)\n",
    "print(regressor.intercept_)"
   ]
  },
  {
   "cell_type": "markdown",
   "id": "desirable-liver",
   "metadata": {
    "papermill": {
     "duration": 0.010248,
     "end_time": "2021-06-07T19:30:32.591953",
     "exception": false,
     "start_time": "2021-06-07T19:30:32.581705",
     "status": "completed"
    },
    "tags": []
   },
   "source": [
    "If the female has 0 children, then she has a 54.21% chance of participation in workforce.\n",
    "If the fertility rate increases by a factor of 0.25, the participation will decrease by 7.385%."
   ]
  },
  {
   "cell_type": "code",
   "execution_count": 7,
   "id": "royal-madrid",
   "metadata": {
    "execution": {
     "iopub.execute_input": "2021-06-07T19:30:32.616780Z",
     "iopub.status.busy": "2021-06-07T19:30:32.616111Z",
     "iopub.status.idle": "2021-06-07T19:30:32.620111Z",
     "shell.execute_reply": "2021-06-07T19:30:32.620769Z",
     "shell.execute_reply.started": "2021-06-07T19:29:27.690990Z"
    },
    "papermill": {
     "duration": 0.018382,
     "end_time": "2021-06-07T19:30:32.620931",
     "exception": false,
     "start_time": "2021-06-07T19:30:32.602549",
     "status": "completed"
    },
    "tags": []
   },
   "outputs": [],
   "source": [
    "y_pred = regressor.predict(X_test)"
   ]
  },
  {
   "cell_type": "code",
   "execution_count": 8,
   "id": "guided-logic",
   "metadata": {
    "execution": {
     "iopub.execute_input": "2021-06-07T19:30:32.646985Z",
     "iopub.status.busy": "2021-06-07T19:30:32.646009Z",
     "iopub.status.idle": "2021-06-07T19:30:32.654483Z",
     "shell.execute_reply": "2021-06-07T19:30:32.653818Z",
     "shell.execute_reply.started": "2021-06-07T19:29:27.706324Z"
    },
    "papermill": {
     "duration": 0.023047,
     "end_time": "2021-06-07T19:30:32.654635",
     "exception": false,
     "start_time": "2021-06-07T19:30:32.631588",
     "status": "completed"
    },
    "tags": []
   },
   "outputs": [
    {
     "data": {
      "text/plain": [
       "0.7103107653805036"
      ]
     },
     "execution_count": 8,
     "metadata": {},
     "output_type": "execute_result"
    }
   ],
   "source": [
    "from sklearn.metrics import r2_score\n",
    "r2_score(y_test, y_pred)"
   ]
  },
  {
   "cell_type": "code",
   "execution_count": 9,
   "id": "acting-strain",
   "metadata": {
    "execution": {
     "iopub.execute_input": "2021-06-07T19:30:32.683622Z",
     "iopub.status.busy": "2021-06-07T19:30:32.682872Z",
     "iopub.status.idle": "2021-06-07T19:30:32.686712Z",
     "shell.execute_reply": "2021-06-07T19:30:32.687216Z",
     "shell.execute_reply.started": "2021-06-07T19:29:27.724643Z"
    },
    "papermill": {
     "duration": 0.021543,
     "end_time": "2021-06-07T19:30:32.687405",
     "exception": false,
     "start_time": "2021-06-07T19:30:32.665862",
     "status": "completed"
    },
    "tags": []
   },
   "outputs": [
    {
     "name": "stdout",
     "output_type": "stream",
     "text": [
      "[[35.01420955 32.74      ]\n",
      " [34.34958469 32.5       ]\n",
      " [38.78041706 41.21      ]\n",
      " [36.63884808 35.1       ]\n",
      " [38.55887544 40.29      ]]\n"
     ]
    }
   ],
   "source": [
    "print(np.concatenate((y_pred.reshape(len(y_pred), 1), y_test.reshape(len(y_test), 1)),1))"
   ]
  },
  {
   "cell_type": "code",
   "execution_count": 10,
   "id": "local-contact",
   "metadata": {
    "execution": {
     "iopub.execute_input": "2021-06-07T19:30:32.731678Z",
     "iopub.status.busy": "2021-06-07T19:30:32.730986Z",
     "iopub.status.idle": "2021-06-07T19:30:32.926061Z",
     "shell.execute_reply": "2021-06-07T19:30:32.925340Z",
     "shell.execute_reply.started": "2021-06-07T19:29:27.736280Z"
    },
    "papermill": {
     "duration": 0.227183,
     "end_time": "2021-06-07T19:30:32.926225",
     "exception": false,
     "start_time": "2021-06-07T19:30:32.699042",
     "status": "completed"
    },
    "tags": []
   },
   "outputs": [
    {
     "data": {
      "image/png": "[encoded data removed]",
      "text/plain": [
       "<Figure size 432x288 with 1 Axes>"
      ]
     },
     "metadata": {
      "needs_background": "light"
     },
     "output_type": "display_data"
    }
   ],
   "source": [
    "mlt.scatter(X_train, y_train, color = 'red')\n",
    "mlt.plot(X_train, regressor.predict(X_train), color = 'blue')\n",
    "mlt.title('Participation in Workforce vs Fertility Rate')\n",
    "mlt.xlabel('Fertility rate')\n",
    "mlt.ylabel('Participation in Workforce')\n",
    "mlt.show()"
   ]
  }
 ],
 "metadata": {
  "kernelspec": {
   "display_name": "Python 3",
   "language": "python",
   "name": "python3"
  },
  "language_info": {
   "codemirror_mode": {
    "name": "ipython",
    "version": 3
   },
   "file_extension": ".py",
   "mimetype": "text/x-python",
   "name": "python",
   "nbconvert_exporter": "python",
   "pygments_lexer": "ipython3",
   "version": "3.7.10"
  },
  "papermill": {
   "default_parameters": {},
   "duration": 11.910414,
   "end_time": "2021-06-07T19:30:34.638413",
   "environment_variables": {},
   "exception": null,
   "input_path": "__notebook__.ipynb",
   "output_path": "__notebook__.ipynb",
   "parameters": {},
   "start_time": "2021-06-07T19:30:22.727999",
   "version": "2.3.3"
  }
 },
 "nbformat": 4,
 "nbformat_minor": 5
}
