{
 "cells": [
  {
   "cell_type": "markdown",
   "metadata": {
    "papermill": {
     "duration": 0.080371,
     "end_time": "2020-04-28T06:16:12.118435",
     "exception": false,
     "start_time": "2020-04-28T06:16:12.038064",
     "status": "completed"
    },
    "tags": []
   },
   "source": [
    "# Covid-19 status in Chile\n",
    "> Covid-19 overview in Chile\n",
    "\n",
    "- toc: true\n",
    "- badges: true\n",
    "- comments: true\n",
    "- author: Alonso Silva Allende\n",
    "- categories: [jupyter]\n",
    "- image: images/Chile-total-confirmed-cases.png"
   ]
  },
  {
   "cell_type": "code",
   "execution_count": 1,
   "metadata": {
    "execution": {
     "iopub.execute_input": "2020-04-28T06:16:12.275937Z",
     "iopub.status.busy": "2020-04-28T06:16:12.275169Z",
     "iopub.status.idle": "2020-04-28T06:16:12.693682Z",
     "shell.execute_reply": "2020-04-28T06:16:12.692918Z"
    },
    "papermill": {
     "duration": 0.498949,
     "end_time": "2020-04-28T06:16:12.693822",
     "exception": false,
     "start_time": "2020-04-28T06:16:12.194873",
     "status": "completed"
    },
    "tags": []
   },
   "outputs": [],
   "source": [
    "#hide\n",
    "import numpy as np\n",
    "import pandas as pd\n",
    "import altair as alt"
   ]
  },
  {
   "cell_type": "code",
   "execution_count": 2,
   "metadata": {
    "execution": {
     "iopub.execute_input": "2020-04-28T06:16:12.851656Z",
     "iopub.status.busy": "2020-04-28T06:16:12.851107Z",
     "iopub.status.idle": "2020-04-28T06:16:12.853444Z",
     "shell.execute_reply": "2020-04-28T06:16:12.852944Z"
    },
    "papermill": {
     "duration": 0.082427,
     "end_time": "2020-04-28T06:16:12.853552",
     "exception": false,
     "start_time": "2020-04-28T06:16:12.771125",
     "status": "completed"
    },
    "tags": []
   },
   "outputs": [],
   "source": [
    "#hide\n",
    "from IPython.display import display_html, HTML"
   ]
  },
  {
   "cell_type": "code",
   "execution_count": 3,
   "metadata": {
    "execution": {
     "iopub.execute_input": "2020-04-28T06:16:13.020780Z",
     "iopub.status.busy": "2020-04-28T06:16:13.019947Z",
     "iopub.status.idle": "2020-04-28T06:16:13.024698Z",
     "shell.execute_reply": "2020-04-28T06:16:13.025415Z"
    },
    "papermill": {
     "duration": 0.096345,
     "end_time": "2020-04-28T06:16:13.025577",
     "exception": false,
     "start_time": "2020-04-28T06:16:12.929232",
     "status": "completed"
    },
    "tags": []
   },
   "outputs": [
    {
     "data": {
      "text/plain": [
       "'2020-04-27'"
      ]
     },
     "execution_count": 3,
     "metadata": {},
     "output_type": "execute_result"
    }
   ],
   "source": [
    "#hide\n",
    "update_date = pd.to_datetime('today') - pd.offsets.Hour(19)\n",
    "today = update_date.strftime('%Y-%m-%d')\n",
    "today"
   ]
  },
  {
   "cell_type": "code",
   "execution_count": 4,
   "metadata": {
    "execution": {
     "iopub.execute_input": "2020-04-28T06:16:13.193227Z",
     "iopub.status.busy": "2020-04-28T06:16:13.192590Z",
     "iopub.status.idle": "2020-04-28T06:16:13.196118Z",
     "shell.execute_reply": "2020-04-28T06:16:13.195617Z"
    },
    "papermill": {
     "duration": 0.087896,
     "end_time": "2020-04-28T06:16:13.196226",
     "exception": false,
     "start_time": "2020-04-28T06:16:13.108330",
     "status": "completed"
    },
    "tags": []
   },
   "outputs": [
    {
     "data": {
      "text/plain": [
       "'2020-04-20'"
      ]
     },
     "execution_count": 4,
     "metadata": {},
     "output_type": "execute_result"
    }
   ],
   "source": [
    "#hide\n",
    "date_one_week_ago = (update_date - pd.offsets.Day(7)).strftime('%Y-%m-%d')\n",
    "date_one_week_ago"
   ]
  },
  {
   "cell_type": "code",
   "execution_count": 5,
   "metadata": {
    "execution": {
     "iopub.execute_input": "2020-04-28T06:16:13.356158Z",
     "iopub.status.busy": "2020-04-28T06:16:13.355528Z",
     "iopub.status.idle": "2020-04-28T06:16:13.357619Z",
     "shell.execute_reply": "2020-04-28T06:16:13.358063Z"
    },
    "papermill": {
     "duration": 0.082567,
     "end_time": "2020-04-28T06:16:13.358179",
     "exception": false,
     "start_time": "2020-04-28T06:16:13.275612",
     "status": "completed"
    },
    "tags": []
   },
   "outputs": [
    {
     "name": "stdout",
     "output_type": "stream",
     "text": [
      "Updated on April 27, 2020.\n"
     ]
    }
   ],
   "source": [
    "#hide_input\n",
    "print(f\"Updated on {update_date.strftime('%B %d, %Y')}.\")"
   ]
  },
  {
   "cell_type": "code",
   "execution_count": 6,
   "metadata": {
    "execution": {
     "iopub.execute_input": "2020-04-28T06:16:13.520730Z",
     "iopub.status.busy": "2020-04-28T06:16:13.520165Z",
     "iopub.status.idle": "2020-04-28T06:16:13.656959Z",
     "shell.execute_reply": "2020-04-28T06:16:13.657634Z"
    },
    "papermill": {
     "duration": 0.222105,
     "end_time": "2020-04-28T06:16:13.657805",
     "exception": false,
     "start_time": "2020-04-28T06:16:13.435700",
     "status": "completed"
    },
    "tags": []
   },
   "outputs": [],
   "source": [
    "#hide\n",
    "casos_raw = pd.read_csv(\n",
    "    \"https://raw.githubusercontent.com/MinCiencia/Datos-COVID19/master/output/producto3/CasosTotalesCumulativo.csv\",\n",
    "    index_col='Region')"
   ]
  },
  {
   "cell_type": "code",
   "execution_count": 7,
   "metadata": {
    "execution": {
     "iopub.execute_input": "2020-04-28T06:16:13.820918Z",
     "iopub.status.busy": "2020-04-28T06:16:13.819827Z",
     "iopub.status.idle": "2020-04-28T06:16:13.962561Z",
     "shell.execute_reply": "2020-04-28T06:16:13.961958Z"
    },
    "papermill": {
     "duration": 0.224663,
     "end_time": "2020-04-28T06:16:13.962696",
     "exception": false,
     "start_time": "2020-04-28T06:16:13.738033",
     "status": "completed"
    },
    "tags": []
   },
   "outputs": [],
   "source": [
    "#hide\n",
    "s = \"https://raw.githubusercontent.com/MinCiencia/Datos-COVID19/master/output/producto4/\" \\\n",
    "+ today + \"-CasosConfirmados-totalRegional.csv\"\n",
    "deaths_raw = pd.read_csv(s, index_col='Region')"
   ]
  },
  {
   "cell_type": "code",
   "execution_count": 8,
   "metadata": {
    "execution": {
     "iopub.execute_input": "2020-04-28T06:16:14.122237Z",
     "iopub.status.busy": "2020-04-28T06:16:14.120665Z",
     "iopub.status.idle": "2020-04-28T06:16:14.246695Z",
     "shell.execute_reply": "2020-04-28T06:16:14.246150Z"
    },
    "papermill": {
     "duration": 0.205737,
     "end_time": "2020-04-28T06:16:14.246818",
     "exception": false,
     "start_time": "2020-04-28T06:16:14.041081",
     "status": "completed"
    },
    "tags": []
   },
   "outputs": [],
   "source": [
    "#hide\n",
    "s = \"https://raw.githubusercontent.com/MinCiencia/Datos-COVID19/master/output/producto4/\" \\\n",
    "+ date_one_week_ago + \"-CasosConfirmados-totalRegional.csv\"\n",
    "deaths_one_week_ago = pd.read_csv(s, index_col='Region')"
   ]
  },
  {
   "cell_type": "code",
   "execution_count": 9,
   "metadata": {
    "execution": {
     "iopub.execute_input": "2020-04-28T06:16:14.437343Z",
     "iopub.status.busy": "2020-04-28T06:16:14.436710Z",
     "iopub.status.idle": "2020-04-28T06:16:14.561590Z",
     "shell.execute_reply": "2020-04-28T06:16:14.562153Z"
    },
    "papermill": {
     "duration": 0.210585,
     "end_time": "2020-04-28T06:16:14.562296",
     "exception": false,
     "start_time": "2020-04-28T06:16:14.351711",
     "status": "completed"
    },
    "tags": []
   },
   "outputs": [],
   "source": [
    "#hide\n",
    "tests_raw = pd.read_csv(\n",
    "    'https://raw.githubusercontent.com/MinCiencia/Datos-COVID19/master/output/producto7/PCR.csv',\n",
    "    index_col='Region')"
   ]
  },
  {
   "cell_type": "code",
   "execution_count": 10,
   "metadata": {
    "execution": {
     "iopub.execute_input": "2020-04-28T06:16:14.735494Z",
     "iopub.status.busy": "2020-04-28T06:16:14.734902Z",
     "iopub.status.idle": "2020-04-28T06:16:14.743045Z",
     "shell.execute_reply": "2020-04-28T06:16:14.742548Z"
    },
    "papermill": {
     "duration": 0.102447,
     "end_time": "2020-04-28T06:16:14.743153",
     "exception": false,
     "start_time": "2020-04-28T06:16:14.640706",
     "status": "completed"
    },
    "tags": []
   },
   "outputs": [],
   "source": [
    "#hide\n",
    "data_table = pd.DataFrame()\n",
    "data_table[\"Region\"] = casos_raw[today].drop(\"Total\").reset_index()[\"Region\"]\n",
    "data_table[\"Confirmed cases\"] = casos_raw[today].drop(\"Total\").reset_index()[today]\n",
    "data_table[\"Confirmed cases per 100,000 people\"] = np.round(100000*(casos_raw[today]/tests_raw['Poblacion']).drop('Total'), decimals=1).values\n",
    "data_table[\"Confirmed deaths\"] = deaths_raw[\"Fallecidos\"].drop(\"Total\").values\n",
    "data_table[\"Confirmed deaths per 100.000 people\"] = \\\n",
    "np.round(100000*deaths_raw['Fallecidos'].drop('Total')/(tests_raw['Poblacion'].values), decimals=1).values"
   ]
  },
  {
   "cell_type": "code",
   "execution_count": 11,
   "metadata": {
    "execution": {
     "iopub.execute_input": "2020-04-28T06:16:14.905581Z",
     "iopub.status.busy": "2020-04-28T06:16:14.904980Z",
     "iopub.status.idle": "2020-04-28T06:16:14.907383Z",
     "shell.execute_reply": "2020-04-28T06:16:14.906825Z"
    },
    "papermill": {
     "duration": 0.085512,
     "end_time": "2020-04-28T06:16:14.907494",
     "exception": false,
     "start_time": "2020-04-28T06:16:14.821982",
     "status": "completed"
    },
    "tags": []
   },
   "outputs": [],
   "source": [
    "#hide\n",
    "total_confirmed = casos_raw.iloc[-1,-1]\n",
    "total_deaths = deaths_raw.iloc[-1,-1]"
   ]
  },
  {
   "cell_type": "code",
   "execution_count": 12,
   "metadata": {
    "execution": {
     "iopub.execute_input": "2020-04-28T06:16:15.070525Z",
     "iopub.status.busy": "2020-04-28T06:16:15.069791Z",
     "iopub.status.idle": "2020-04-28T06:16:15.071323Z",
     "shell.execute_reply": "2020-04-28T06:16:15.071812Z"
    },
    "papermill": {
     "duration": 0.085211,
     "end_time": "2020-04-28T06:16:15.071937",
     "exception": false,
     "start_time": "2020-04-28T06:16:14.986726",
     "status": "completed"
    },
    "tags": []
   },
   "outputs": [],
   "source": [
    "#hide\n",
    "total_confirmed_one_week_ago = casos_raw.iloc[-1,-8]\n",
    "total_deaths_one_week_ago = deaths_one_week_ago.loc[\"Total\", \"Fallecidos\"]"
   ]
  },
  {
   "cell_type": "code",
   "execution_count": 13,
   "metadata": {
    "execution": {
     "iopub.execute_input": "2020-04-28T06:16:15.233188Z",
     "iopub.status.busy": "2020-04-28T06:16:15.232554Z",
     "iopub.status.idle": "2020-04-28T06:16:15.234811Z",
     "shell.execute_reply": "2020-04-28T06:16:15.234242Z"
    },
    "papermill": {
     "duration": 0.084797,
     "end_time": "2020-04-28T06:16:15.234918",
     "exception": false,
     "start_time": "2020-04-28T06:16:15.150121",
     "status": "completed"
    },
    "tags": []
   },
   "outputs": [],
   "source": [
    "#hide\n",
    "diff_cases = total_confirmed-total_confirmed_one_week_ago\n",
    "diff_deaths = total_deaths-total_deaths_one_week_ago"
   ]
  },
  {
   "cell_type": "code",
   "execution_count": 14,
   "metadata": {
    "execution": {
     "iopub.execute_input": "2020-04-28T06:16:15.396201Z",
     "iopub.status.busy": "2020-04-28T06:16:15.395619Z",
     "iopub.status.idle": "2020-04-28T06:16:15.397720Z",
     "shell.execute_reply": "2020-04-28T06:16:15.397154Z"
    },
    "papermill": {
     "duration": 0.085132,
     "end_time": "2020-04-28T06:16:15.397825",
     "exception": false,
     "start_time": "2020-04-28T06:16:15.312693",
     "status": "completed"
    },
    "tags": []
   },
   "outputs": [],
   "source": [
    "#hide\n",
    "total_confirmed = '{:,}'.format(total_confirmed) #.replace(',', '.')\n",
    "total_deaths = '{:,}'.format(total_deaths) #.replace(',', '.')"
   ]
  },
  {
   "cell_type": "code",
   "execution_count": 15,
   "metadata": {
    "execution": {
     "iopub.execute_input": "2020-04-28T06:16:15.560476Z",
     "iopub.status.busy": "2020-04-28T06:16:15.559768Z",
     "iopub.status.idle": "2020-04-28T06:16:15.562003Z",
     "shell.execute_reply": "2020-04-28T06:16:15.561439Z"
    },
    "papermill": {
     "duration": 0.086272,
     "end_time": "2020-04-28T06:16:15.562107",
     "exception": false,
     "start_time": "2020-04-28T06:16:15.475835",
     "status": "completed"
    },
    "tags": []
   },
   "outputs": [],
   "source": [
    "#hide\n",
    "diff_cases = '{:,}'.format(diff_cases) #.replace(',', '.')\n",
    "diff_deaths = '{:,}'.format(diff_deaths) #.replace(',', '.')"
   ]
  },
  {
   "cell_type": "code",
   "execution_count": 16,
   "metadata": {
    "execution": {
     "iopub.execute_input": "2020-04-28T06:16:15.722600Z",
     "iopub.status.busy": "2020-04-28T06:16:15.722003Z",
     "iopub.status.idle": "2020-04-28T06:16:15.724234Z",
     "shell.execute_reply": "2020-04-28T06:16:15.724723Z"
    },
    "papermill": {
     "duration": 0.084724,
     "end_time": "2020-04-28T06:16:15.724852",
     "exception": false,
     "start_time": "2020-04-28T06:16:15.640128",
     "status": "completed"
    },
    "scrolled": false,
    "tags": []
   },
   "outputs": [
    {
     "data": {
      "text/html": [
       "<p style=\"color:#3361ff;\"><span style=\"font-weight:bold;\">Confirmed cases:</span> 13,813 (+3,306 since 7 days ago)</p><p style=\"color:#FF3F3F;\"><span style=\"font-weight:bold;\">Confirmed deaths:</span> 198 (+59 since 7 days ago)</p>"
      ],
      "text/plain": [
       "<IPython.core.display.HTML object>"
      ]
     },
     "execution_count": 16,
     "metadata": {},
     "output_type": "execute_result"
    }
   ],
   "source": [
    "#hide_input\n",
    "HTML(f'<p style=\"color:#3361ff;\"><span style=\"font-weight:bold;\">Confirmed cases:</span> {total_confirmed} (+{diff_cases} since 7 days ago)</p><p style=\"color:#FF3F3F;\"><span style=\"font-weight:bold;\">Confirmed deaths:</span> {total_deaths} (+{diff_deaths} since 7 days ago)</p>')"
   ]
  },
  {
   "cell_type": "code",
   "execution_count": 17,
   "metadata": {
    "execution": {
     "iopub.execute_input": "2020-04-28T06:16:15.883738Z",
     "iopub.status.busy": "2020-04-28T06:16:15.882995Z",
     "iopub.status.idle": "2020-04-28T06:16:16.289741Z",
     "shell.execute_reply": "2020-04-28T06:16:16.289143Z"
    },
    "papermill": {
     "duration": 0.487758,
     "end_time": "2020-04-28T06:16:16.289854",
     "exception": false,
     "start_time": "2020-04-28T06:16:15.802096",
     "status": "completed"
    },
    "scrolled": false,
    "tags": []
   },
   "outputs": [
    {
     "data": {
      "text/html": [
       "<style  type=\"text/css\" >\n",
       "    #T_c488e162_8917_11ea_99cc_000d3a1b4030row0_col0 {\n",
       "            text-align:  right;\n",
       "        }    #T_c488e162_8917_11ea_99cc_000d3a1b4030row0_col1 {\n",
       "            text-align:  right;\n",
       "            background-color:  #fff0e8;\n",
       "            color:  #000000;\n",
       "        }    #T_c488e162_8917_11ea_99cc_000d3a1b4030row0_col2 {\n",
       "            text-align:  right;\n",
       "            background-color:  #fdd5c4;\n",
       "            color:  #000000;\n",
       "        }    #T_c488e162_8917_11ea_99cc_000d3a1b4030row0_col3 {\n",
       "            text-align:  right;\n",
       "            background-color:  #fff0e8;\n",
       "            color:  #000000;\n",
       "        }    #T_c488e162_8917_11ea_99cc_000d3a1b4030row0_col4 {\n",
       "            text-align:  right;\n",
       "            background-color:  #fdc6b0;\n",
       "            color:  #000000;\n",
       "        }    #T_c488e162_8917_11ea_99cc_000d3a1b4030row1_col0 {\n",
       "            text-align:  right;\n",
       "        }    #T_c488e162_8917_11ea_99cc_000d3a1b4030row1_col1 {\n",
       "            text-align:  right;\n",
       "            background-color:  #fff2eb;\n",
       "            color:  #000000;\n",
       "        }    #T_c488e162_8917_11ea_99cc_000d3a1b4030row1_col2 {\n",
       "            text-align:  right;\n",
       "            background-color:  #fca78b;\n",
       "            color:  #000000;\n",
       "        }    #T_c488e162_8917_11ea_99cc_000d3a1b4030row1_col3 {\n",
       "            text-align:  right;\n",
       "            background-color:  #fff4ee;\n",
       "            color:  #000000;\n",
       "        }    #T_c488e162_8917_11ea_99cc_000d3a1b4030row1_col4 {\n",
       "            text-align:  right;\n",
       "            background-color:  #ffece4;\n",
       "            color:  #000000;\n",
       "        }    #T_c488e162_8917_11ea_99cc_000d3a1b4030row2_col0 {\n",
       "            text-align:  right;\n",
       "        }    #T_c488e162_8917_11ea_99cc_000d3a1b4030row2_col1 {\n",
       "            text-align:  right;\n",
       "            background-color:  #ffece3;\n",
       "            color:  #000000;\n",
       "        }    #T_c488e162_8917_11ea_99cc_000d3a1b4030row2_col2 {\n",
       "            text-align:  right;\n",
       "            background-color:  #fcb69b;\n",
       "            color:  #000000;\n",
       "        }    #T_c488e162_8917_11ea_99cc_000d3a1b4030row2_col3 {\n",
       "            text-align:  right;\n",
       "            background-color:  #ffeee7;\n",
       "            color:  #000000;\n",
       "        }    #T_c488e162_8917_11ea_99cc_000d3a1b4030row2_col4 {\n",
       "            text-align:  right;\n",
       "            background-color:  #fee3d7;\n",
       "            color:  #000000;\n",
       "        }    #T_c488e162_8917_11ea_99cc_000d3a1b4030row3_col0 {\n",
       "            text-align:  right;\n",
       "        }    #T_c488e162_8917_11ea_99cc_000d3a1b4030row3_col1 {\n",
       "            text-align:  right;\n",
       "            background-color:  #fff5f0;\n",
       "            color:  #000000;\n",
       "        }    #T_c488e162_8917_11ea_99cc_000d3a1b4030row3_col2 {\n",
       "            text-align:  right;\n",
       "            background-color:  #fff3ed;\n",
       "            color:  #000000;\n",
       "        }    #T_c488e162_8917_11ea_99cc_000d3a1b4030row3_col3 {\n",
       "            text-align:  right;\n",
       "            background-color:  #fff5f0;\n",
       "            color:  #000000;\n",
       "        }    #T_c488e162_8917_11ea_99cc_000d3a1b4030row3_col4 {\n",
       "            text-align:  right;\n",
       "            background-color:  #fff5f0;\n",
       "            color:  #000000;\n",
       "        }    #T_c488e162_8917_11ea_99cc_000d3a1b4030row4_col0 {\n",
       "            text-align:  right;\n",
       "        }    #T_c488e162_8917_11ea_99cc_000d3a1b4030row4_col1 {\n",
       "            text-align:  right;\n",
       "            background-color:  #fff4ee;\n",
       "            color:  #000000;\n",
       "        }    #T_c488e162_8917_11ea_99cc_000d3a1b4030row4_col2 {\n",
       "            text-align:  right;\n",
       "            background-color:  #fff5f0;\n",
       "            color:  #000000;\n",
       "        }    #T_c488e162_8917_11ea_99cc_000d3a1b4030row4_col3 {\n",
       "            text-align:  right;\n",
       "            background-color:  #fff5f0;\n",
       "            color:  #000000;\n",
       "        }    #T_c488e162_8917_11ea_99cc_000d3a1b4030row4_col4 {\n",
       "            text-align:  right;\n",
       "            background-color:  #fff5f0;\n",
       "            color:  #000000;\n",
       "        }    #T_c488e162_8917_11ea_99cc_000d3a1b4030row5_col0 {\n",
       "            text-align:  right;\n",
       "        }    #T_c488e162_8917_11ea_99cc_000d3a1b4030row5_col1 {\n",
       "            text-align:  right;\n",
       "            background-color:  #ffebe2;\n",
       "            color:  #000000;\n",
       "        }    #T_c488e162_8917_11ea_99cc_000d3a1b4030row5_col2 {\n",
       "            text-align:  right;\n",
       "            background-color:  #fee5d9;\n",
       "            color:  #000000;\n",
       "        }    #T_c488e162_8917_11ea_99cc_000d3a1b4030row5_col3 {\n",
       "            text-align:  right;\n",
       "            background-color:  #fee5d9;\n",
       "            color:  #000000;\n",
       "        }    #T_c488e162_8917_11ea_99cc_000d3a1b4030row5_col4 {\n",
       "            text-align:  right;\n",
       "            background-color:  #fee7db;\n",
       "            color:  #000000;\n",
       "        }    #T_c488e162_8917_11ea_99cc_000d3a1b4030row6_col0 {\n",
       "            text-align:  right;\n",
       "        }    #T_c488e162_8917_11ea_99cc_000d3a1b4030row6_col1 {\n",
       "            text-align:  right;\n",
       "            background-color:  #67000d;\n",
       "            color:  #f1f1f1;\n",
       "        }    #T_c488e162_8917_11ea_99cc_000d3a1b4030row6_col2 {\n",
       "            text-align:  right;\n",
       "            background-color:  #fff4ef;\n",
       "            color:  #000000;\n",
       "        }    #T_c488e162_8917_11ea_99cc_000d3a1b4030row6_col3 {\n",
       "            text-align:  right;\n",
       "            background-color:  #67000d;\n",
       "            color:  #f1f1f1;\n",
       "        }    #T_c488e162_8917_11ea_99cc_000d3a1b4030row6_col4 {\n",
       "            text-align:  right;\n",
       "            background-color:  #fdc6b0;\n",
       "            color:  #000000;\n",
       "        }    #T_c488e162_8917_11ea_99cc_000d3a1b4030row7_col0 {\n",
       "            text-align:  right;\n",
       "        }    #T_c488e162_8917_11ea_99cc_000d3a1b4030row7_col1 {\n",
       "            text-align:  right;\n",
       "            background-color:  #fff4ee;\n",
       "            color:  #000000;\n",
       "        }    #T_c488e162_8917_11ea_99cc_000d3a1b4030row7_col2 {\n",
       "            text-align:  right;\n",
       "            background-color:  #fee0d2;\n",
       "            color:  #000000;\n",
       "        }    #T_c488e162_8917_11ea_99cc_000d3a1b4030row7_col3 {\n",
       "            text-align:  right;\n",
       "            background-color:  #fff4ee;\n",
       "            color:  #000000;\n",
       "        }    #T_c488e162_8917_11ea_99cc_000d3a1b4030row7_col4 {\n",
       "            text-align:  right;\n",
       "            background-color:  #fff2ec;\n",
       "            color:  #000000;\n",
       "        }    #T_c488e162_8917_11ea_99cc_000d3a1b4030row8_col0 {\n",
       "            text-align:  right;\n",
       "        }    #T_c488e162_8917_11ea_99cc_000d3a1b4030row8_col1 {\n",
       "            text-align:  right;\n",
       "            background-color:  #ffeee6;\n",
       "            color:  #000000;\n",
       "        }    #T_c488e162_8917_11ea_99cc_000d3a1b4030row8_col2 {\n",
       "            text-align:  right;\n",
       "            background-color:  #fee4d8;\n",
       "            color:  #000000;\n",
       "        }    #T_c488e162_8917_11ea_99cc_000d3a1b4030row8_col3 {\n",
       "            text-align:  right;\n",
       "            background-color:  #fee0d2;\n",
       "            color:  #000000;\n",
       "        }    #T_c488e162_8917_11ea_99cc_000d3a1b4030row8_col4 {\n",
       "            text-align:  right;\n",
       "            background-color:  #fdcbb6;\n",
       "            color:  #000000;\n",
       "        }    #T_c488e162_8917_11ea_99cc_000d3a1b4030row9_col0 {\n",
       "            text-align:  right;\n",
       "        }    #T_c488e162_8917_11ea_99cc_000d3a1b4030row9_col1 {\n",
       "            text-align:  right;\n",
       "            background-color:  #fee6da;\n",
       "            color:  #000000;\n",
       "        }    #T_c488e162_8917_11ea_99cc_000d3a1b4030row9_col2 {\n",
       "            text-align:  right;\n",
       "            background-color:  #67000d;\n",
       "            color:  #f1f1f1;\n",
       "        }    #T_c488e162_8917_11ea_99cc_000d3a1b4030row9_col3 {\n",
       "            text-align:  right;\n",
       "            background-color:  #fedaca;\n",
       "            color:  #000000;\n",
       "        }    #T_c488e162_8917_11ea_99cc_000d3a1b4030row9_col4 {\n",
       "            text-align:  right;\n",
       "            background-color:  #fb7050;\n",
       "            color:  #000000;\n",
       "        }    #T_c488e162_8917_11ea_99cc_000d3a1b4030row10_col0 {\n",
       "            text-align:  right;\n",
       "        }    #T_c488e162_8917_11ea_99cc_000d3a1b4030row10_col1 {\n",
       "            text-align:  right;\n",
       "            background-color:  #fee7db;\n",
       "            color:  #000000;\n",
       "        }    #T_c488e162_8917_11ea_99cc_000d3a1b4030row10_col2 {\n",
       "            text-align:  right;\n",
       "            background-color:  #feeae0;\n",
       "            color:  #000000;\n",
       "        }    #T_c488e162_8917_11ea_99cc_000d3a1b4030row10_col3 {\n",
       "            text-align:  right;\n",
       "            background-color:  #feeae1;\n",
       "            color:  #000000;\n",
       "        }    #T_c488e162_8917_11ea_99cc_000d3a1b4030row10_col4 {\n",
       "            text-align:  right;\n",
       "            background-color:  #fee9df;\n",
       "            color:  #000000;\n",
       "        }    #T_c488e162_8917_11ea_99cc_000d3a1b4030row11_col0 {\n",
       "            text-align:  right;\n",
       "        }    #T_c488e162_8917_11ea_99cc_000d3a1b4030row11_col1 {\n",
       "            text-align:  right;\n",
       "            background-color:  #fdd7c6;\n",
       "            color:  #000000;\n",
       "        }    #T_c488e162_8917_11ea_99cc_000d3a1b4030row11_col2 {\n",
       "            text-align:  right;\n",
       "            background-color:  #fcbda4;\n",
       "            color:  #000000;\n",
       "        }    #T_c488e162_8917_11ea_99cc_000d3a1b4030row11_col3 {\n",
       "            text-align:  right;\n",
       "            background-color:  #fc9e80;\n",
       "            color:  #000000;\n",
       "        }    #T_c488e162_8917_11ea_99cc_000d3a1b4030row11_col4 {\n",
       "            text-align:  right;\n",
       "            background-color:  #f44f39;\n",
       "            color:  #000000;\n",
       "        }    #T_c488e162_8917_11ea_99cc_000d3a1b4030row12_col0 {\n",
       "            text-align:  right;\n",
       "        }    #T_c488e162_8917_11ea_99cc_000d3a1b4030row12_col1 {\n",
       "            text-align:  right;\n",
       "            background-color:  #fff2eb;\n",
       "            color:  #000000;\n",
       "        }    #T_c488e162_8917_11ea_99cc_000d3a1b4030row12_col2 {\n",
       "            text-align:  right;\n",
       "            background-color:  #fff4ee;\n",
       "            color:  #000000;\n",
       "        }    #T_c488e162_8917_11ea_99cc_000d3a1b4030row12_col3 {\n",
       "            text-align:  right;\n",
       "            background-color:  #fff0e8;\n",
       "            color:  #000000;\n",
       "        }    #T_c488e162_8917_11ea_99cc_000d3a1b4030row12_col4 {\n",
       "            text-align:  right;\n",
       "            background-color:  #fee0d2;\n",
       "            color:  #000000;\n",
       "        }    #T_c488e162_8917_11ea_99cc_000d3a1b4030row13_col0 {\n",
       "            text-align:  right;\n",
       "        }    #T_c488e162_8917_11ea_99cc_000d3a1b4030row13_col1 {\n",
       "            text-align:  right;\n",
       "            background-color:  #ffebe2;\n",
       "            color:  #000000;\n",
       "        }    #T_c488e162_8917_11ea_99cc_000d3a1b4030row13_col2 {\n",
       "            text-align:  right;\n",
       "            background-color:  #fee5d8;\n",
       "            color:  #000000;\n",
       "        }    #T_c488e162_8917_11ea_99cc_000d3a1b4030row13_col3 {\n",
       "            text-align:  right;\n",
       "            background-color:  #fee7dc;\n",
       "            color:  #000000;\n",
       "        }    #T_c488e162_8917_11ea_99cc_000d3a1b4030row13_col4 {\n",
       "            text-align:  right;\n",
       "            background-color:  #fdd5c4;\n",
       "            color:  #000000;\n",
       "        }    #T_c488e162_8917_11ea_99cc_000d3a1b4030row14_col0 {\n",
       "            text-align:  right;\n",
       "        }    #T_c488e162_8917_11ea_99cc_000d3a1b4030row14_col1 {\n",
       "            text-align:  right;\n",
       "            background-color:  #fff5f0;\n",
       "            color:  #000000;\n",
       "        }    #T_c488e162_8917_11ea_99cc_000d3a1b4030row14_col2 {\n",
       "            text-align:  right;\n",
       "            background-color:  #ffede5;\n",
       "            color:  #000000;\n",
       "        }    #T_c488e162_8917_11ea_99cc_000d3a1b4030row14_col3 {\n",
       "            text-align:  right;\n",
       "            background-color:  #fff5f0;\n",
       "            color:  #000000;\n",
       "        }    #T_c488e162_8917_11ea_99cc_000d3a1b4030row14_col4 {\n",
       "            text-align:  right;\n",
       "            background-color:  #fff5f0;\n",
       "            color:  #000000;\n",
       "        }    #T_c488e162_8917_11ea_99cc_000d3a1b4030row15_col0 {\n",
       "            text-align:  right;\n",
       "        }    #T_c488e162_8917_11ea_99cc_000d3a1b4030row15_col1 {\n",
       "            text-align:  right;\n",
       "            background-color:  #fee7dc;\n",
       "            color:  #000000;\n",
       "        }    #T_c488e162_8917_11ea_99cc_000d3a1b4030row15_col2 {\n",
       "            text-align:  right;\n",
       "            background-color:  #fc9373;\n",
       "            color:  #000000;\n",
       "        }    #T_c488e162_8917_11ea_99cc_000d3a1b4030row15_col3 {\n",
       "            text-align:  right;\n",
       "            background-color:  #fee4d8;\n",
       "            color:  #000000;\n",
       "        }    #T_c488e162_8917_11ea_99cc_000d3a1b4030row15_col4 {\n",
       "            text-align:  right;\n",
       "            background-color:  #67000d;\n",
       "            color:  #f1f1f1;\n",
       "        }</style><table id=\"T_c488e162_8917_11ea_99cc_000d3a1b4030\" ><caption>Statistics by region: Confirmed cases and confirmed deaths</caption><thead>    <tr>        <th class=\"col_heading level0 col0\" >Region</th>        <th class=\"col_heading level0 col1\" >Confirmed cases</th>        <th class=\"col_heading level0 col2\" >Confirmed cases per 100,000 people</th>        <th class=\"col_heading level0 col3\" >Confirmed deaths</th>        <th class=\"col_heading level0 col4\" >Confirmed deaths per 100.000 people</th>    </tr></thead><tbody>\n",
       "                <tr>\n",
       "                                <td id=\"T_c488e162_8917_11ea_99cc_000d3a1b4030row0_col0\" class=\"data row0 col0\" >Arica y Parinacota</td>\n",
       "                        <td id=\"T_c488e162_8917_11ea_99cc_000d3a1b4030row0_col1\" class=\"data row0 col1\" >265</td>\n",
       "                        <td id=\"T_c488e162_8917_11ea_99cc_000d3a1b4030row0_col2\" class=\"data row0 col2\" >66.100000</td>\n",
       "                        <td id=\"T_c488e162_8917_11ea_99cc_000d3a1b4030row0_col3\" class=\"data row0 col3\" >3</td>\n",
       "                        <td id=\"T_c488e162_8917_11ea_99cc_000d3a1b4030row0_col4\" class=\"data row0 col4\" >1.200000</td>\n",
       "            </tr>\n",
       "            <tr>\n",
       "                                <td id=\"T_c488e162_8917_11ea_99cc_000d3a1b4030row1_col0\" class=\"data row1 col0\" >Tarapacá</td>\n",
       "                        <td id=\"T_c488e162_8917_11ea_99cc_000d3a1b4030row1_col1\" class=\"data row1 col1\" >164</td>\n",
       "                        <td id=\"T_c488e162_8917_11ea_99cc_000d3a1b4030row1_col2\" class=\"data row1 col2\" >121.900000</td>\n",
       "                        <td id=\"T_c488e162_8917_11ea_99cc_000d3a1b4030row1_col3\" class=\"data row1 col3\" >1</td>\n",
       "                        <td id=\"T_c488e162_8917_11ea_99cc_000d3a1b4030row1_col4\" class=\"data row1 col4\" >0.300000</td>\n",
       "            </tr>\n",
       "            <tr>\n",
       "                                <td id=\"T_c488e162_8917_11ea_99cc_000d3a1b4030row2_col0\" class=\"data row2 col0\" >Antofagasta</td>\n",
       "                        <td id=\"T_c488e162_8917_11ea_99cc_000d3a1b4030row2_col1\" class=\"data row2 col1\" >457</td>\n",
       "                        <td id=\"T_c488e162_8917_11ea_99cc_000d3a1b4030row2_col2\" class=\"data row2 col2\" >105.100000</td>\n",
       "                        <td id=\"T_c488e162_8917_11ea_99cc_000d3a1b4030row2_col3\" class=\"data row2 col3\" >4</td>\n",
       "                        <td id=\"T_c488e162_8917_11ea_99cc_000d3a1b4030row2_col4\" class=\"data row2 col4\" >0.600000</td>\n",
       "            </tr>\n",
       "            <tr>\n",
       "                                <td id=\"T_c488e162_8917_11ea_99cc_000d3a1b4030row3_col0\" class=\"data row3 col0\" >Atacama</td>\n",
       "                        <td id=\"T_c488e162_8917_11ea_99cc_000d3a1b4030row3_col1\" class=\"data row3 col1\" >35</td>\n",
       "                        <td id=\"T_c488e162_8917_11ea_99cc_000d3a1b4030row3_col2\" class=\"data row3 col2\" >11.100000</td>\n",
       "                        <td id=\"T_c488e162_8917_11ea_99cc_000d3a1b4030row3_col3\" class=\"data row3 col3\" >0</td>\n",
       "                        <td id=\"T_c488e162_8917_11ea_99cc_000d3a1b4030row3_col4\" class=\"data row3 col4\" >0.000000</td>\n",
       "            </tr>\n",
       "            <tr>\n",
       "                                <td id=\"T_c488e162_8917_11ea_99cc_000d3a1b4030row4_col0\" class=\"data row4 col0\" >Coquimbo</td>\n",
       "                        <td id=\"T_c488e162_8917_11ea_99cc_000d3a1b4030row4_col1\" class=\"data row4 col1\" >74</td>\n",
       "                        <td id=\"T_c488e162_8917_11ea_99cc_000d3a1b4030row4_col2\" class=\"data row4 col2\" >6.500000</td>\n",
       "                        <td id=\"T_c488e162_8917_11ea_99cc_000d3a1b4030row4_col3\" class=\"data row4 col3\" >0</td>\n",
       "                        <td id=\"T_c488e162_8917_11ea_99cc_000d3a1b4030row4_col4\" class=\"data row4 col4\" >0.000000</td>\n",
       "            </tr>\n",
       "            <tr>\n",
       "                                <td id=\"T_c488e162_8917_11ea_99cc_000d3a1b4030row5_col0\" class=\"data row5 col0\" >Valparaíso</td>\n",
       "                        <td id=\"T_c488e162_8917_11ea_99cc_000d3a1b4030row5_col1\" class=\"data row5 col1\" >485</td>\n",
       "                        <td id=\"T_c488e162_8917_11ea_99cc_000d3a1b4030row5_col2\" class=\"data row5 col2\" >42.400000</td>\n",
       "                        <td id=\"T_c488e162_8917_11ea_99cc_000d3a1b4030row5_col3\" class=\"data row5 col3\" >9</td>\n",
       "                        <td id=\"T_c488e162_8917_11ea_99cc_000d3a1b4030row5_col4\" class=\"data row5 col4\" >0.500000</td>\n",
       "            </tr>\n",
       "            <tr>\n",
       "                                <td id=\"T_c488e162_8917_11ea_99cc_000d3a1b4030row6_col0\" class=\"data row6 col0\" >Metropolitana</td>\n",
       "                        <td id=\"T_c488e162_8917_11ea_99cc_000d3a1b4030row6_col1\" class=\"data row6 col1\" >7858</td>\n",
       "                        <td id=\"T_c488e162_8917_11ea_99cc_000d3a1b4030row6_col2\" class=\"data row6 col2\" >8.900000</td>\n",
       "                        <td id=\"T_c488e162_8917_11ea_99cc_000d3a1b4030row6_col3\" class=\"data row6 col3\" >95</td>\n",
       "                        <td id=\"T_c488e162_8917_11ea_99cc_000d3a1b4030row6_col4\" class=\"data row6 col4\" >1.200000</td>\n",
       "            </tr>\n",
       "            <tr>\n",
       "                                <td id=\"T_c488e162_8917_11ea_99cc_000d3a1b4030row7_col0\" class=\"data row7 col0\" >O’Higgins</td>\n",
       "                        <td id=\"T_c488e162_8917_11ea_99cc_000d3a1b4030row7_col1\" class=\"data row7 col1\" >94</td>\n",
       "                        <td id=\"T_c488e162_8917_11ea_99cc_000d3a1b4030row7_col2\" class=\"data row7 col2\" >53.500000</td>\n",
       "                        <td id=\"T_c488e162_8917_11ea_99cc_000d3a1b4030row7_col3\" class=\"data row7 col3\" >1</td>\n",
       "                        <td id=\"T_c488e162_8917_11ea_99cc_000d3a1b4030row7_col4\" class=\"data row7 col4\" >0.100000</td>\n",
       "            </tr>\n",
       "            <tr>\n",
       "                                <td id=\"T_c488e162_8917_11ea_99cc_000d3a1b4030row8_col0\" class=\"data row8 col0\" >Maule</td>\n",
       "                        <td id=\"T_c488e162_8917_11ea_99cc_000d3a1b4030row8_col1\" class=\"data row8 col1\" >363</td>\n",
       "                        <td id=\"T_c488e162_8917_11ea_99cc_000d3a1b4030row8_col2\" class=\"data row8 col2\" >44.400000</td>\n",
       "                        <td id=\"T_c488e162_8917_11ea_99cc_000d3a1b4030row8_col3\" class=\"data row8 col3\" >12</td>\n",
       "                        <td id=\"T_c488e162_8917_11ea_99cc_000d3a1b4030row8_col4\" class=\"data row8 col4\" >1.100000</td>\n",
       "            </tr>\n",
       "            <tr>\n",
       "                                <td id=\"T_c488e162_8917_11ea_99cc_000d3a1b4030row9_col0\" class=\"data row9 col0\" >Ñuble</td>\n",
       "                        <td id=\"T_c488e162_8917_11ea_99cc_000d3a1b4030row9_col1\" class=\"data row9 col1\" >741</td>\n",
       "                        <td id=\"T_c488e162_8917_11ea_99cc_000d3a1b4030row9_col2\" class=\"data row9 col2\" >376.200000</td>\n",
       "                        <td id=\"T_c488e162_8917_11ea_99cc_000d3a1b4030row9_col3\" class=\"data row9 col3\" >14</td>\n",
       "                        <td id=\"T_c488e162_8917_11ea_99cc_000d3a1b4030row9_col4\" class=\"data row9 col4\" >2.700000</td>\n",
       "            </tr>\n",
       "            <tr>\n",
       "                                <td id=\"T_c488e162_8917_11ea_99cc_000d3a1b4030row10_col0\" class=\"data row10 col0\" >Biobío</td>\n",
       "                        <td id=\"T_c488e162_8917_11ea_99cc_000d3a1b4030row10_col1\" class=\"data row10 col1\" >706</td>\n",
       "                        <td id=\"T_c488e162_8917_11ea_99cc_000d3a1b4030row10_col2\" class=\"data row10 col2\" >32.100000</td>\n",
       "                        <td id=\"T_c488e162_8917_11ea_99cc_000d3a1b4030row10_col3\" class=\"data row10 col3\" >6</td>\n",
       "                        <td id=\"T_c488e162_8917_11ea_99cc_000d3a1b4030row10_col4\" class=\"data row10 col4\" >0.400000</td>\n",
       "            </tr>\n",
       "            <tr>\n",
       "                                <td id=\"T_c488e162_8917_11ea_99cc_000d3a1b4030row11_col0\" class=\"data row11 col0\" >Araucanía</td>\n",
       "                        <td id=\"T_c488e162_8917_11ea_99cc_000d3a1b4030row11_col1\" class=\"data row11 col1\" >1236</td>\n",
       "                        <td id=\"T_c488e162_8917_11ea_99cc_000d3a1b4030row11_col2\" class=\"data row11 col2\" >96.700000</td>\n",
       "                        <td id=\"T_c488e162_8917_11ea_99cc_000d3a1b4030row11_col3\" class=\"data row11 col3\" >32</td>\n",
       "                        <td id=\"T_c488e162_8917_11ea_99cc_000d3a1b4030row11_col4\" class=\"data row11 col4\" >3.200000</td>\n",
       "            </tr>\n",
       "            <tr>\n",
       "                                <td id=\"T_c488e162_8917_11ea_99cc_000d3a1b4030row12_col0\" class=\"data row12 col0\" >Los Ríos</td>\n",
       "                        <td id=\"T_c488e162_8917_11ea_99cc_000d3a1b4030row12_col1\" class=\"data row12 col1\" >180</td>\n",
       "                        <td id=\"T_c488e162_8917_11ea_99cc_000d3a1b4030row12_col2\" class=\"data row12 col2\" >9.500000</td>\n",
       "                        <td id=\"T_c488e162_8917_11ea_99cc_000d3a1b4030row12_col3\" class=\"data row12 col3\" >3</td>\n",
       "                        <td id=\"T_c488e162_8917_11ea_99cc_000d3a1b4030row12_col4\" class=\"data row12 col4\" >0.700000</td>\n",
       "            </tr>\n",
       "            <tr>\n",
       "                                <td id=\"T_c488e162_8917_11ea_99cc_000d3a1b4030row13_col0\" class=\"data row13 col0\" >Los Lagos</td>\n",
       "                        <td id=\"T_c488e162_8917_11ea_99cc_000d3a1b4030row13_col1\" class=\"data row13 col1\" >477</td>\n",
       "                        <td id=\"T_c488e162_8917_11ea_99cc_000d3a1b4030row13_col2\" class=\"data row13 col2\" >42.800000</td>\n",
       "                        <td id=\"T_c488e162_8917_11ea_99cc_000d3a1b4030row13_col3\" class=\"data row13 col3\" >8</td>\n",
       "                        <td id=\"T_c488e162_8917_11ea_99cc_000d3a1b4030row13_col4\" class=\"data row13 col4\" >0.900000</td>\n",
       "            </tr>\n",
       "            <tr>\n",
       "                                <td id=\"T_c488e162_8917_11ea_99cc_000d3a1b4030row14_col0\" class=\"data row14 col0\" >Aysén</td>\n",
       "                        <td id=\"T_c488e162_8917_11ea_99cc_000d3a1b4030row14_col1\" class=\"data row14 col1\" >7</td>\n",
       "                        <td id=\"T_c488e162_8917_11ea_99cc_000d3a1b4030row14_col2\" class=\"data row14 col2\" >24.700000</td>\n",
       "                        <td id=\"T_c488e162_8917_11ea_99cc_000d3a1b4030row14_col3\" class=\"data row14 col3\" >0</td>\n",
       "                        <td id=\"T_c488e162_8917_11ea_99cc_000d3a1b4030row14_col4\" class=\"data row14 col4\" >0.000000</td>\n",
       "            </tr>\n",
       "            <tr>\n",
       "                                <td id=\"T_c488e162_8917_11ea_99cc_000d3a1b4030row15_col0\" class=\"data row15 col0\" >Magallanes</td>\n",
       "                        <td id=\"T_c488e162_8917_11ea_99cc_000d3a1b4030row15_col1\" class=\"data row15 col1\" >671</td>\n",
       "                        <td id=\"T_c488e162_8917_11ea_99cc_000d3a1b4030row15_col2\" class=\"data row15 col2\" >144.900000</td>\n",
       "                        <td id=\"T_c488e162_8917_11ea_99cc_000d3a1b4030row15_col3\" class=\"data row15 col3\" >10</td>\n",
       "                        <td id=\"T_c488e162_8917_11ea_99cc_000d3a1b4030row15_col4\" class=\"data row15 col4\" >5.600000</td>\n",
       "            </tr>\n",
       "    </tbody></table>"
      ],
      "text/plain": [
       "<pandas.io.formats.style.Styler at 0x7f25e0d6ab00>"
      ]
     },
     "execution_count": 17,
     "metadata": {},
     "output_type": "execute_result"
    }
   ],
   "source": [
    "#hide_input\n",
    "(data_table.style.set_properties(**{'text-align': 'right'}).background_gradient(cmap='Reds').hide_index()).set_caption(\n",
    "    'Statistics by region: Confirmed cases and confirmed deaths')"
   ]
  },
  {
   "cell_type": "markdown",
   "metadata": {
    "papermill": {
     "duration": 0.077568,
     "end_time": "2020-04-28T06:16:16.444925",
     "exception": false,
     "start_time": "2020-04-28T06:16:16.367357",
     "status": "completed"
    },
    "tags": []
   },
   "source": [
    "# Evolution of total confirmed cases by region"
   ]
  },
  {
   "cell_type": "code",
   "execution_count": 18,
   "metadata": {
    "execution": {
     "iopub.execute_input": "2020-04-28T06:16:16.610961Z",
     "iopub.status.busy": "2020-04-28T06:16:16.610368Z",
     "iopub.status.idle": "2020-04-28T06:16:16.658188Z",
     "shell.execute_reply": "2020-04-28T06:16:16.657563Z"
    },
    "papermill": {
     "duration": 0.1353,
     "end_time": "2020-04-28T06:16:16.658327",
     "exception": false,
     "start_time": "2020-04-28T06:16:16.523027",
     "status": "completed"
    },
    "tags": []
   },
   "outputs": [],
   "source": [
    "#hide\n",
    "data_raw = pd.read_csv(\n",
    "    \"https://raw.githubusercontent.com/MinCiencia/Datos-COVID19/master/output/producto3/CasosTotalesCumulativo.csv\",\n",
    "    index_col='Region')"
   ]
  },
  {
   "cell_type": "code",
   "execution_count": 19,
   "metadata": {
    "execution": {
     "iopub.execute_input": "2020-04-28T06:16:16.819863Z",
     "iopub.status.busy": "2020-04-28T06:16:16.819288Z",
     "iopub.status.idle": "2020-04-28T06:16:16.821705Z",
     "shell.execute_reply": "2020-04-28T06:16:16.821205Z"
    },
    "papermill": {
     "duration": 0.084956,
     "end_time": "2020-04-28T06:16:16.821805",
     "exception": false,
     "start_time": "2020-04-28T06:16:16.736849",
     "status": "completed"
    },
    "tags": []
   },
   "outputs": [],
   "source": [
    "#hide\n",
    "data_raw = data_raw.drop(\"Total\")"
   ]
  },
  {
   "cell_type": "code",
   "execution_count": 20,
   "metadata": {
    "execution": {
     "iopub.execute_input": "2020-04-28T06:16:17.003144Z",
     "iopub.status.busy": "2020-04-28T06:16:17.002551Z",
     "iopub.status.idle": "2020-04-28T06:16:17.493412Z",
     "shell.execute_reply": "2020-04-28T06:16:17.492802Z"
    },
    "papermill": {
     "duration": 0.594701,
     "end_time": "2020-04-28T06:16:17.493528",
     "exception": false,
     "start_time": "2020-04-28T06:16:16.898827",
     "status": "completed"
    },
    "tags": []
   },
   "outputs": [],
   "source": [
    "#hide\n",
    "data = pd.DataFrame()\n",
    "i = 0\n",
    "for date in data_raw.keys():\n",
    "    for n, region in enumerate(data_raw.index):\n",
    "        data[i] = date, region, data_raw[date].loc[region], n\n",
    "        i += 1"
   ]
  },
  {
   "cell_type": "code",
   "execution_count": 21,
   "metadata": {
    "execution": {
     "iopub.execute_input": "2020-04-28T06:16:17.665080Z",
     "iopub.status.busy": "2020-04-28T06:16:17.664117Z",
     "iopub.status.idle": "2020-04-28T06:16:17.670047Z",
     "shell.execute_reply": "2020-04-28T06:16:17.670515Z"
    },
    "papermill": {
     "duration": 0.093323,
     "end_time": "2020-04-28T06:16:17.670642",
     "exception": false,
     "start_time": "2020-04-28T06:16:17.577319",
     "status": "completed"
    },
    "tags": []
   },
   "outputs": [],
   "source": [
    "#hide\n",
    "data_raw = data_raw.reset_index()\n",
    "regiones = data_raw['Region'].values\n",
    "data = data.T\n",
    "data = data.rename(columns={0: \"date\", 1: \"region\", 2: \"casos\", 3: \"codigo region\"})"
   ]
  },
  {
   "cell_type": "code",
   "execution_count": 22,
   "metadata": {
    "execution": {
     "iopub.execute_input": "2020-04-28T06:16:17.831070Z",
     "iopub.status.busy": "2020-04-28T06:16:17.830484Z",
     "iopub.status.idle": "2020-04-28T06:16:17.833588Z",
     "shell.execute_reply": "2020-04-28T06:16:17.834135Z"
    },
    "papermill": {
     "duration": 0.086984,
     "end_time": "2020-04-28T06:16:17.834262",
     "exception": false,
     "start_time": "2020-04-28T06:16:17.747278",
     "status": "completed"
    },
    "tags": []
   },
   "outputs": [],
   "source": [
    "#hide\n",
    "data[\"casos\"] = data[\"casos\"].astype(int)"
   ]
  },
  {
   "cell_type": "code",
   "execution_count": 23,
   "metadata": {
    "execution": {
     "iopub.execute_input": "2020-04-28T06:16:18.016984Z",
     "iopub.status.busy": "2020-04-28T06:16:18.001139Z",
     "iopub.status.idle": "2020-04-28T06:16:18.102222Z",
     "shell.execute_reply": "2020-04-28T06:16:18.101741Z"
    },
    "papermill": {
     "duration": 0.190498,
     "end_time": "2020-04-28T06:16:18.102344",
     "exception": false,
     "start_time": "2020-04-28T06:16:17.911846",
     "status": "completed"
    },
    "tags": []
   },
   "outputs": [
    {
     "data": {
      "text/html": [
       "\n",
       "<div id=\"altair-viz-1d662ddc15a64e9ca950fd2f55093676\"></div>\n",
       "<script type=\"text/javascript\">\n",
       "  (function(spec, embedOpt){\n",
       "    let outputDiv = document.currentScript.previousElementSibling;\n",
       "    if (outputDiv.id !== \"altair-viz-1d662ddc15a64e9ca950fd2f55093676\") {\n",
       "      outputDiv = document.getElementById(\"altair-viz-1d662ddc15a64e9ca950fd2f55093676\");\n",
       "    }\n",
       "    const paths = {\n",
       "      \"vega\": \"https://cdn.jsdelivr.net/npm//vega@5?noext\",\n",
       "      \"vega-lib\": \"https://cdn.jsdelivr.net/npm//vega-lib?noext\",\n",
       "      \"vega-lite\": \"https://cdn.jsdelivr.net/npm//vega-lite@4.8.1?noext\",\n",
       "      \"vega-embed\": \"https://cdn.jsdelivr.net/npm//vega-embed@6?noext\",\n",
       "    };\n",
       "\n",
       "    function loadScript(lib) {\n",
       "      return new Promise(function(resolve, reject) {\n",
       "        var s = document.createElement('script');\n",
       "        s.src = paths[lib];\n",
       "        s.async = true;\n",
       "        s.onload = () => resolve(paths[lib]);\n",
       "        s.onerror = () => reject(`Error loading script: ${paths[lib]}`);\n",
       "        document.getElementsByTagName(\"head\")[0].appendChild(s);\n",
       "      });\n",
       "    }\n",
       "\n",
       "    function showError(err) {\n",
       "      outputDiv.innerHTML = `<div class=\"error\" style=\"color:red;\">${err}</div>`;\n",
       "      throw err;\n",
       "    }\n",
       "\n",
       "    function displayChart(vegaEmbed) {\n",
       "      vegaEmbed(outputDiv, spec, embedOpt)\n",
       "        .catch(err => showError(`Javascript Error: ${err.message}<br>This usually means there's a typo in your chart specification. See the javascript console for the full traceback.`));\n",
       "    }\n",
       "\n",
       "    if(typeof define === \"function\" && define.amd) {\n",
       "      requirejs.config({paths});\n",
       "      require([\"vega-embed\"], displayChart, err => showError(`Error loading script: ${err.message}`));\n",
       "    } else if (typeof vegaEmbed === \"function\") {\n",
       "      displayChart(vegaEmbed);\n",
       "    } else {\n",
       "      loadScript(\"vega\")\n",
       "        .then(() => loadScript(\"vega-lite\"))\n",
       "        .then(() => loadScript(\"vega-embed\"))\n",
       "        .catch(showError)\n",
       "        .then(() => displayChart(vegaEmbed));\n",
       "    }\n",
       "  })({\"config\": {\"view\": {\"continuousWidth\": 400, \"continuousHeight\": 300}}, \"hconcat\": [{\"mark\": \"bar\", \"encoding\": {\"color\": {\"condition\": {\"type\": \"nominal\", \"field\": \"region\", \"legend\": null, \"scale\": {\"scheme\": \"tableau20\"}, \"selection\": {\"or\": [\" \", \"selector001\"]}}, \"value\": \"lightgray\"}, \"order\": {\"type\": \"quantitative\", \"field\": \"codigo region\", \"sort\": \"descending\"}, \"tooltip\": [{\"type\": \"nominal\", \"field\": \"date\"}, {\"type\": \"nominal\", \"field\": \"region\"}, {\"type\": \"quantitative\", \"field\": \"casos\"}], \"x\": {\"type\": \"ordinal\", \"axis\": {\"title\": \"Date\"}, \"field\": \"date\"}, \"y\": {\"type\": \"quantitative\", \"axis\": {\"title\": \"Confirmed cases\"}, \"field\": \"casos\"}}, \"height\": 400, \"selection\": {\" \": {\"type\": \"single\", \"fields\": [\"region\"], \"bind\": {\"input\": \"select\", \"options\": [\"Arica y Parinacota\", \"Tarapac\\u00e1\", \"Antofagasta\", \"Atacama\", \"Coquimbo\", \"Valpara\\u00edso\", \"Metropolitana\", \"O\\u2019Higgins\", \"Maule\", \"\\u00d1uble\", \"Biob\\u00edo\", \"Araucan\\u00eda\", \"Los R\\u00edos\", \"Los Lagos\", \"Ays\\u00e9n\", \"Magallanes\"]}}, \"selector001\": {\"type\": \"multi\", \"fields\": [\"region\"], \"on\": \"mouseover\"}}, \"title\": \"COVID-19 in Chile: Total confirmed cases by regi\\u00f3n\", \"transform\": [{\"filter\": {\"selection\": \" \"}}], \"width\": 600}, {\"mark\": \"point\", \"encoding\": {\"color\": {\"condition\": {\"type\": \"nominal\", \"field\": \"region\", \"legend\": null, \"scale\": {\"scheme\": \"tableau20\"}, \"selection\": {\"or\": [\" \", \"selector001\"]}}, \"value\": \"lightgray\"}, \"y\": {\"type\": \"nominal\", \"axis\": {\"orient\": \"right\"}, \"field\": \"region\", \"sort\": [\"Arica y Parinacota\", \"Tarapac\\u00e1\", \"Antofagasta\", \"Atacama\", \"Coquimbo\", \"Valpara\\u00edso\", \"Metropolitana\", \"O\\u2019Higgins\", \"Maule\", \"\\u00d1uble\", \"Biob\\u00edo\", \"Araucan\\u00eda\", \"Los R\\u00edos\", \"Los Lagos\", \"Ays\\u00e9n\", \"Magallanes\"]}}, \"selection\": {\" \": {\"type\": \"single\", \"fields\": [\"region\"], \"bind\": {\"input\": \"select\", \"options\": [\"Arica y Parinacota\", \"Tarapac\\u00e1\", \"Antofagasta\", \"Atacama\", \"Coquimbo\", \"Valpara\\u00edso\", \"Metropolitana\", \"O\\u2019Higgins\", \"Maule\", \"\\u00d1uble\", \"Biob\\u00edo\", \"Araucan\\u00eda\", \"Los R\\u00edos\", \"Los Lagos\", \"Ays\\u00e9n\", \"Magallanes\"]}}, \"selector001\": {\"type\": \"multi\", \"fields\": [\"region\"], \"on\": \"mouseover\"}}}], \"data\": {\"name\": \"data-a72a3d8fef04e4e10e54baed0ee285c3\"}, \"$schema\": \"https://vega.github.io/schema/vega-lite/v4.8.1.json\", \"datasets\": {\"data-a72a3d8fef04e4e10e54baed0ee285c3\": [{\"date\": \"2020-03-03\", \"region\": \"Arica y Parinacota\", \"casos\": 0, \"codigo region\": 0}, {\"date\": \"2020-03-03\", \"region\": \"Tarapac\\u00e1\", \"casos\": 0, \"codigo region\": 1}, {\"date\": \"2020-03-03\", \"region\": \"Antofagasta\", \"casos\": 0, \"codigo region\": 2}, {\"date\": \"2020-03-03\", \"region\": \"Atacama\", \"casos\": 0, \"codigo region\": 3}, {\"date\": \"2020-03-03\", \"region\": \"Coquimbo\", \"casos\": 0, \"codigo region\": 4}, {\"date\": \"2020-03-03\", \"region\": \"Valpara\\u00edso\", \"casos\": 0, \"codigo region\": 5}, {\"date\": \"2020-03-03\", \"region\": \"Metropolitana\", \"casos\": 0, \"codigo region\": 6}, {\"date\": \"2020-03-03\", \"region\": \"O\\u2019Higgins\", \"casos\": 0, \"codigo region\": 7}, {\"date\": \"2020-03-03\", \"region\": \"Maule\", \"casos\": 1, \"codigo region\": 8}, {\"date\": \"2020-03-03\", \"region\": \"\\u00d1uble\", \"casos\": 0, \"codigo region\": 9}, {\"date\": \"2020-03-03\", \"region\": \"Biob\\u00edo\", \"casos\": 0, \"codigo region\": 10}, {\"date\": \"2020-03-03\", \"region\": \"Araucan\\u00eda\", \"casos\": 0, \"codigo region\": 11}, {\"date\": \"2020-03-03\", \"region\": \"Los R\\u00edos\", \"casos\": 0, \"codigo region\": 12}, {\"date\": \"2020-03-03\", \"region\": \"Los Lagos\", \"casos\": 0, \"codigo region\": 13}, {\"date\": \"2020-03-03\", \"region\": \"Ays\\u00e9n\", \"casos\": 0, \"codigo region\": 14}, {\"date\": \"2020-03-03\", \"region\": \"Magallanes\", \"casos\": 0, \"codigo region\": 15}, {\"date\": \"2020-03-04\", \"region\": \"Arica y Parinacota\", \"casos\": 0, \"codigo region\": 0}, {\"date\": \"2020-03-04\", \"region\": \"Tarapac\\u00e1\", \"casos\": 0, \"codigo region\": 1}, {\"date\": \"2020-03-04\", \"region\": \"Antofagasta\", \"casos\": 0, \"codigo region\": 2}, {\"date\": \"2020-03-04\", \"region\": \"Atacama\", \"casos\": 0, \"codigo region\": 3}, {\"date\": \"2020-03-04\", \"region\": \"Coquimbo\", \"casos\": 0, \"codigo region\": 4}, {\"date\": \"2020-03-04\", \"region\": \"Valpara\\u00edso\", \"casos\": 0, \"codigo region\": 5}, {\"date\": \"2020-03-04\", \"region\": \"Metropolitana\", \"casos\": 1, \"codigo region\": 6}, {\"date\": \"2020-03-04\", \"region\": \"O\\u2019Higgins\", \"casos\": 0, \"codigo region\": 7}, {\"date\": \"2020-03-04\", \"region\": \"Maule\", \"casos\": 2, \"codigo region\": 8}, {\"date\": \"2020-03-04\", \"region\": \"\\u00d1uble\", \"casos\": 0, \"codigo region\": 9}, {\"date\": \"2020-03-04\", \"region\": \"Biob\\u00edo\", \"casos\": 0, \"codigo region\": 10}, {\"date\": \"2020-03-04\", \"region\": \"Araucan\\u00eda\", \"casos\": 0, \"codigo region\": 11}, {\"date\": \"2020-03-04\", \"region\": \"Los R\\u00edos\", \"casos\": 0, \"codigo region\": 12}, {\"date\": \"2020-03-04\", \"region\": \"Los Lagos\", \"casos\": 0, \"codigo region\": 13}, {\"date\": \"2020-03-04\", \"region\": \"Ays\\u00e9n\", \"casos\": 0, \"codigo region\": 14}, {\"date\": \"2020-03-04\", \"region\": \"Magallanes\", \"casos\": 0, \"codigo region\": 15}, {\"date\": \"2020-03-05\", \"region\": \"Arica y Parinacota\", \"casos\": 0, \"codigo region\": 0}, {\"date\": \"2020-03-05\", \"region\": \"Tarapac\\u00e1\", \"casos\": 0, \"codigo region\": 1}, {\"date\": \"2020-03-05\", \"region\": \"Antofagasta\", \"casos\": 0, \"codigo region\": 2}, {\"date\": \"2020-03-05\", \"region\": \"Atacama\", \"casos\": 0, \"codigo region\": 3}, {\"date\": \"2020-03-05\", \"region\": \"Coquimbo\", \"casos\": 0, \"codigo region\": 4}, {\"date\": \"2020-03-05\", \"region\": \"Valpara\\u00edso\", \"casos\": 0, \"codigo region\": 5}, {\"date\": \"2020-03-05\", \"region\": \"Metropolitana\", \"casos\": 2, \"codigo region\": 6}, {\"date\": \"2020-03-05\", \"region\": \"O\\u2019Higgins\", \"casos\": 0, \"codigo region\": 7}, {\"date\": \"2020-03-05\", \"region\": \"Maule\", \"casos\": 2, \"codigo region\": 8}, {\"date\": \"2020-03-05\", \"region\": \"\\u00d1uble\", \"casos\": 0, \"codigo region\": 9}, {\"date\": \"2020-03-05\", \"region\": \"Biob\\u00edo\", \"casos\": 0, \"codigo region\": 10}, {\"date\": \"2020-03-05\", \"region\": \"Araucan\\u00eda\", \"casos\": 0, \"codigo region\": 11}, {\"date\": \"2020-03-05\", \"region\": \"Los R\\u00edos\", \"casos\": 0, \"codigo region\": 12}, {\"date\": \"2020-03-05\", \"region\": \"Los Lagos\", \"casos\": 0, \"codigo region\": 13}, {\"date\": \"2020-03-05\", \"region\": \"Ays\\u00e9n\", \"casos\": 0, \"codigo region\": 14}, {\"date\": \"2020-03-05\", \"region\": \"Magallanes\", \"casos\": 0, \"codigo region\": 15}, {\"date\": \"2020-03-06\", \"region\": \"Arica y Parinacota\", \"casos\": 0, \"codigo region\": 0}, {\"date\": \"2020-03-06\", \"region\": \"Tarapac\\u00e1\", \"casos\": 0, \"codigo region\": 1}, {\"date\": \"2020-03-06\", \"region\": \"Antofagasta\", \"casos\": 0, \"codigo region\": 2}, {\"date\": \"2020-03-06\", \"region\": \"Atacama\", \"casos\": 0, \"codigo region\": 3}, {\"date\": \"2020-03-06\", \"region\": \"Coquimbo\", \"casos\": 0, \"codigo region\": 4}, {\"date\": \"2020-03-06\", \"region\": \"Valpara\\u00edso\", \"casos\": 0, \"codigo region\": 5}, {\"date\": \"2020-03-06\", \"region\": \"Metropolitana\", \"casos\": 3, \"codigo region\": 6}, {\"date\": \"2020-03-06\", \"region\": \"O\\u2019Higgins\", \"casos\": 0, \"codigo region\": 7}, {\"date\": \"2020-03-06\", \"region\": \"Maule\", \"casos\": 2, \"codigo region\": 8}, {\"date\": \"2020-03-06\", \"region\": \"\\u00d1uble\", \"casos\": 0, \"codigo region\": 9}, {\"date\": \"2020-03-06\", \"region\": \"Biob\\u00edo\", \"casos\": 0, \"codigo region\": 10}, {\"date\": \"2020-03-06\", \"region\": \"Araucan\\u00eda\", \"casos\": 0, \"codigo region\": 11}, {\"date\": \"2020-03-06\", \"region\": \"Los R\\u00edos\", \"casos\": 0, \"codigo region\": 12}, {\"date\": \"2020-03-06\", \"region\": \"Los Lagos\", \"casos\": 0, \"codigo region\": 13}, {\"date\": \"2020-03-06\", \"region\": \"Ays\\u00e9n\", \"casos\": 0, \"codigo region\": 14}, {\"date\": \"2020-03-06\", \"region\": \"Magallanes\", \"casos\": 0, \"codigo region\": 15}, {\"date\": \"2020-03-07\", \"region\": \"Arica y Parinacota\", \"casos\": 0, \"codigo region\": 0}, {\"date\": \"2020-03-07\", \"region\": \"Tarapac\\u00e1\", \"casos\": 0, \"codigo region\": 1}, {\"date\": \"2020-03-07\", \"region\": \"Antofagasta\", \"casos\": 0, \"codigo region\": 2}, {\"date\": \"2020-03-07\", \"region\": \"Atacama\", \"casos\": 0, \"codigo region\": 3}, {\"date\": \"2020-03-07\", \"region\": \"Coquimbo\", \"casos\": 0, \"codigo region\": 4}, {\"date\": \"2020-03-07\", \"region\": \"Valpara\\u00edso\", \"casos\": 0, \"codigo region\": 5}, {\"date\": \"2020-03-07\", \"region\": \"Metropolitana\", \"casos\": 4, \"codigo region\": 6}, {\"date\": \"2020-03-07\", \"region\": \"O\\u2019Higgins\", \"casos\": 0, \"codigo region\": 7}, {\"date\": \"2020-03-07\", \"region\": \"Maule\", \"casos\": 2, \"codigo region\": 8}, {\"date\": \"2020-03-07\", \"region\": \"\\u00d1uble\", \"casos\": 0, \"codigo region\": 9}, {\"date\": \"2020-03-07\", \"region\": \"Biob\\u00edo\", \"casos\": 0, \"codigo region\": 10}, {\"date\": \"2020-03-07\", \"region\": \"Araucan\\u00eda\", \"casos\": 0, \"codigo region\": 11}, {\"date\": \"2020-03-07\", \"region\": \"Los R\\u00edos\", \"casos\": 0, \"codigo region\": 12}, {\"date\": \"2020-03-07\", \"region\": \"Los Lagos\", \"casos\": 1, \"codigo region\": 13}, {\"date\": \"2020-03-07\", \"region\": \"Ays\\u00e9n\", \"casos\": 0, \"codigo region\": 14}, {\"date\": \"2020-03-07\", \"region\": \"Magallanes\", \"casos\": 0, \"codigo region\": 15}, {\"date\": \"2020-03-08\", \"region\": \"Arica y Parinacota\", \"casos\": 0, \"codigo region\": 0}, {\"date\": \"2020-03-08\", \"region\": \"Tarapac\\u00e1\", \"casos\": 0, \"codigo region\": 1}, {\"date\": \"2020-03-08\", \"region\": \"Antofagasta\", \"casos\": 0, \"codigo region\": 2}, {\"date\": \"2020-03-08\", \"region\": \"Atacama\", \"casos\": 0, \"codigo region\": 3}, {\"date\": \"2020-03-08\", \"region\": \"Coquimbo\", \"casos\": 0, \"codigo region\": 4}, {\"date\": \"2020-03-08\", \"region\": \"Valpara\\u00edso\", \"casos\": 0, \"codigo region\": 5}, {\"date\": \"2020-03-08\", \"region\": \"Metropolitana\", \"casos\": 6, \"codigo region\": 6}, {\"date\": \"2020-03-08\", \"region\": \"O\\u2019Higgins\", \"casos\": 0, \"codigo region\": 7}, {\"date\": \"2020-03-08\", \"region\": \"Maule\", \"casos\": 3, \"codigo region\": 8}, {\"date\": \"2020-03-08\", \"region\": \"\\u00d1uble\", \"casos\": 0, \"codigo region\": 9}, {\"date\": \"2020-03-08\", \"region\": \"Biob\\u00edo\", \"casos\": 0, \"codigo region\": 10}, {\"date\": \"2020-03-08\", \"region\": \"Araucan\\u00eda\", \"casos\": 0, \"codigo region\": 11}, {\"date\": \"2020-03-08\", \"region\": \"Los R\\u00edos\", \"casos\": 0, \"codigo region\": 12}, {\"date\": \"2020-03-08\", \"region\": \"Los Lagos\", \"casos\": 1, \"codigo region\": 13}, {\"date\": \"2020-03-08\", \"region\": \"Ays\\u00e9n\", \"casos\": 0, \"codigo region\": 14}, {\"date\": \"2020-03-08\", \"region\": \"Magallanes\", \"casos\": 0, \"codigo region\": 15}, {\"date\": \"2020-03-09\", \"region\": \"Arica y Parinacota\", \"casos\": 0, \"codigo region\": 0}, {\"date\": \"2020-03-09\", \"region\": \"Tarapac\\u00e1\", \"casos\": 0, \"codigo region\": 1}, {\"date\": \"2020-03-09\", \"region\": \"Antofagasta\", \"casos\": 0, \"codigo region\": 2}, {\"date\": \"2020-03-09\", \"region\": \"Atacama\", \"casos\": 0, \"codigo region\": 3}, {\"date\": \"2020-03-09\", \"region\": \"Coquimbo\", \"casos\": 0, \"codigo region\": 4}, {\"date\": \"2020-03-09\", \"region\": \"Valpara\\u00edso\", \"casos\": 0, \"codigo region\": 5}, {\"date\": \"2020-03-09\", \"region\": \"Metropolitana\", \"casos\": 9, \"codigo region\": 6}, {\"date\": \"2020-03-09\", \"region\": \"O\\u2019Higgins\", \"casos\": 0, \"codigo region\": 7}, {\"date\": \"2020-03-09\", \"region\": \"Maule\", \"casos\": 4, \"codigo region\": 8}, {\"date\": \"2020-03-09\", \"region\": \"\\u00d1uble\", \"casos\": 0, \"codigo region\": 9}, {\"date\": \"2020-03-09\", \"region\": \"Biob\\u00edo\", \"casos\": 1, \"codigo region\": 10}, {\"date\": \"2020-03-09\", \"region\": \"Araucan\\u00eda\", \"casos\": 0, \"codigo region\": 11}, {\"date\": \"2020-03-09\", \"region\": \"Los R\\u00edos\", \"casos\": 0, \"codigo region\": 12}, {\"date\": \"2020-03-09\", \"region\": \"Los Lagos\", \"casos\": 1, \"codigo region\": 13}, {\"date\": \"2020-03-09\", \"region\": \"Ays\\u00e9n\", \"casos\": 0, \"codigo region\": 14}, {\"date\": \"2020-03-09\", \"region\": \"Magallanes\", \"casos\": 0, \"codigo region\": 15}, {\"date\": \"2020-03-10\", \"region\": \"Arica y Parinacota\", \"casos\": 0, \"codigo region\": 0}, {\"date\": \"2020-03-10\", \"region\": \"Tarapac\\u00e1\", \"casos\": 0, \"codigo region\": 1}, {\"date\": \"2020-03-10\", \"region\": \"Antofagasta\", \"casos\": 0, \"codigo region\": 2}, {\"date\": \"2020-03-10\", \"region\": \"Atacama\", \"casos\": 0, \"codigo region\": 3}, {\"date\": \"2020-03-10\", \"region\": \"Coquimbo\", \"casos\": 0, \"codigo region\": 4}, {\"date\": \"2020-03-10\", \"region\": \"Valpara\\u00edso\", \"casos\": 0, \"codigo region\": 5}, {\"date\": \"2020-03-10\", \"region\": \"Metropolitana\", \"casos\": 10, \"codigo region\": 6}, {\"date\": \"2020-03-10\", \"region\": \"O\\u2019Higgins\", \"casos\": 0, \"codigo region\": 7}, {\"date\": \"2020-03-10\", \"region\": \"Maule\", \"casos\": 5, \"codigo region\": 8}, {\"date\": \"2020-03-10\", \"region\": \"\\u00d1uble\", \"casos\": 0, \"codigo region\": 9}, {\"date\": \"2020-03-10\", \"region\": \"Biob\\u00edo\", \"casos\": 1, \"codigo region\": 10}, {\"date\": \"2020-03-10\", \"region\": \"Araucan\\u00eda\", \"casos\": 0, \"codigo region\": 11}, {\"date\": \"2020-03-10\", \"region\": \"Los R\\u00edos\", \"casos\": 0, \"codigo region\": 12}, {\"date\": \"2020-03-10\", \"region\": \"Los Lagos\", \"casos\": 1, \"codigo region\": 13}, {\"date\": \"2020-03-10\", \"region\": \"Ays\\u00e9n\", \"casos\": 0, \"codigo region\": 14}, {\"date\": \"2020-03-10\", \"region\": \"Magallanes\", \"casos\": 0, \"codigo region\": 15}, {\"date\": \"2020-03-11\", \"region\": \"Arica y Parinacota\", \"casos\": 0, \"codigo region\": 0}, {\"date\": \"2020-03-11\", \"region\": \"Tarapac\\u00e1\", \"casos\": 0, \"codigo region\": 1}, {\"date\": \"2020-03-11\", \"region\": \"Antofagasta\", \"casos\": 0, \"codigo region\": 2}, {\"date\": \"2020-03-11\", \"region\": \"Atacama\", \"casos\": 0, \"codigo region\": 3}, {\"date\": \"2020-03-11\", \"region\": \"Coquimbo\", \"casos\": 0, \"codigo region\": 4}, {\"date\": \"2020-03-11\", \"region\": \"Valpara\\u00edso\", \"casos\": 0, \"codigo region\": 5}, {\"date\": \"2020-03-11\", \"region\": \"Metropolitana\", \"casos\": 14, \"codigo region\": 6}, {\"date\": \"2020-03-11\", \"region\": \"O\\u2019Higgins\", \"casos\": 0, \"codigo region\": 7}, {\"date\": \"2020-03-11\", \"region\": \"Maule\", \"casos\": 7, \"codigo region\": 8}, {\"date\": \"2020-03-11\", \"region\": \"\\u00d1uble\", \"casos\": 0, \"codigo region\": 9}, {\"date\": \"2020-03-11\", \"region\": \"Biob\\u00edo\", \"casos\": 1, \"codigo region\": 10}, {\"date\": \"2020-03-11\", \"region\": \"Araucan\\u00eda\", \"casos\": 0, \"codigo region\": 11}, {\"date\": \"2020-03-11\", \"region\": \"Los R\\u00edos\", \"casos\": 0, \"codigo region\": 12}, {\"date\": \"2020-03-11\", \"region\": \"Los Lagos\", \"casos\": 1, \"codigo region\": 13}, {\"date\": \"2020-03-11\", \"region\": \"Ays\\u00e9n\", \"casos\": 0, \"codigo region\": 14}, {\"date\": \"2020-03-11\", \"region\": \"Magallanes\", \"casos\": 0, \"codigo region\": 15}, {\"date\": \"2020-03-12\", \"region\": \"Arica y Parinacota\", \"casos\": 0, \"codigo region\": 0}, {\"date\": \"2020-03-12\", \"region\": \"Tarapac\\u00e1\", \"casos\": 0, \"codigo region\": 1}, {\"date\": \"2020-03-12\", \"region\": \"Antofagasta\", \"casos\": 0, \"codigo region\": 2}, {\"date\": \"2020-03-12\", \"region\": \"Atacama\", \"casos\": 0, \"codigo region\": 3}, {\"date\": \"2020-03-12\", \"region\": \"Coquimbo\", \"casos\": 0, \"codigo region\": 4}, {\"date\": \"2020-03-12\", \"region\": \"Valpara\\u00edso\", \"casos\": 0, \"codigo region\": 5}, {\"date\": \"2020-03-12\", \"region\": \"Metropolitana\", \"casos\": 23, \"codigo region\": 6}, {\"date\": \"2020-03-12\", \"region\": \"O\\u2019Higgins\", \"casos\": 0, \"codigo region\": 7}, {\"date\": \"2020-03-12\", \"region\": \"Maule\", \"casos\": 7, \"codigo region\": 8}, {\"date\": \"2020-03-12\", \"region\": \"\\u00d1uble\", \"casos\": 1, \"codigo region\": 9}, {\"date\": \"2020-03-12\", \"region\": \"Biob\\u00edo\", \"casos\": 1, \"codigo region\": 10}, {\"date\": \"2020-03-12\", \"region\": \"Araucan\\u00eda\", \"casos\": 0, \"codigo region\": 11}, {\"date\": \"2020-03-12\", \"region\": \"Los R\\u00edos\", \"casos\": 0, \"codigo region\": 12}, {\"date\": \"2020-03-12\", \"region\": \"Los Lagos\", \"casos\": 1, \"codigo region\": 13}, {\"date\": \"2020-03-12\", \"region\": \"Ays\\u00e9n\", \"casos\": 0, \"codigo region\": 14}, {\"date\": \"2020-03-12\", \"region\": \"Magallanes\", \"casos\": 0, \"codigo region\": 15}, {\"date\": \"2020-03-13\", \"region\": \"Arica y Parinacota\", \"casos\": 0, \"codigo region\": 0}, {\"date\": \"2020-03-13\", \"region\": \"Tarapac\\u00e1\", \"casos\": 0, \"codigo region\": 1}, {\"date\": \"2020-03-13\", \"region\": \"Antofagasta\", \"casos\": 0, \"codigo region\": 2}, {\"date\": \"2020-03-13\", \"region\": \"Atacama\", \"casos\": 0, \"codigo region\": 3}, {\"date\": \"2020-03-13\", \"region\": \"Coquimbo\", \"casos\": 0, \"codigo region\": 4}, {\"date\": \"2020-03-13\", \"region\": \"Valpara\\u00edso\", \"casos\": 0, \"codigo region\": 5}, {\"date\": \"2020-03-13\", \"region\": \"Metropolitana\", \"casos\": 29, \"codigo region\": 6}, {\"date\": \"2020-03-13\", \"region\": \"O\\u2019Higgins\", \"casos\": 0, \"codigo region\": 7}, {\"date\": \"2020-03-13\", \"region\": \"Maule\", \"casos\": 8, \"codigo region\": 8}, {\"date\": \"2020-03-13\", \"region\": \"\\u00d1uble\", \"casos\": 2, \"codigo region\": 9}, {\"date\": \"2020-03-13\", \"region\": \"Biob\\u00edo\", \"casos\": 3, \"codigo region\": 10}, {\"date\": \"2020-03-13\", \"region\": \"Araucan\\u00eda\", \"casos\": 0, \"codigo region\": 11}, {\"date\": \"2020-03-13\", \"region\": \"Los R\\u00edos\", \"casos\": 0, \"codigo region\": 12}, {\"date\": \"2020-03-13\", \"region\": \"Los Lagos\", \"casos\": 1, \"codigo region\": 13}, {\"date\": \"2020-03-13\", \"region\": \"Ays\\u00e9n\", \"casos\": 0, \"codigo region\": 14}, {\"date\": \"2020-03-13\", \"region\": \"Magallanes\", \"casos\": 0, \"codigo region\": 15}, {\"date\": \"2020-03-14\", \"region\": \"Arica y Parinacota\", \"casos\": 0, \"codigo region\": 0}, {\"date\": \"2020-03-14\", \"region\": \"Tarapac\\u00e1\", \"casos\": 0, \"codigo region\": 1}, {\"date\": \"2020-03-14\", \"region\": \"Antofagasta\", \"casos\": 2, \"codigo region\": 2}, {\"date\": \"2020-03-14\", \"region\": \"Atacama\", \"casos\": 1, \"codigo region\": 3}, {\"date\": \"2020-03-14\", \"region\": \"Coquimbo\", \"casos\": 0, \"codigo region\": 4}, {\"date\": \"2020-03-14\", \"region\": \"Valpara\\u00edso\", \"casos\": 0, \"codigo region\": 5}, {\"date\": \"2020-03-14\", \"region\": \"Metropolitana\", \"casos\": 40, \"codigo region\": 6}, {\"date\": \"2020-03-14\", \"region\": \"O\\u2019Higgins\", \"casos\": 0, \"codigo region\": 7}, {\"date\": \"2020-03-14\", \"region\": \"Maule\", \"casos\": 9, \"codigo region\": 8}, {\"date\": \"2020-03-14\", \"region\": \"\\u00d1uble\", \"casos\": 4, \"codigo region\": 9}, {\"date\": \"2020-03-14\", \"region\": \"Biob\\u00edo\", \"casos\": 3, \"codigo region\": 10}, {\"date\": \"2020-03-14\", \"region\": \"Araucan\\u00eda\", \"casos\": 0, \"codigo region\": 11}, {\"date\": \"2020-03-14\", \"region\": \"Los R\\u00edos\", \"casos\": 0, \"codigo region\": 12}, {\"date\": \"2020-03-14\", \"region\": \"Los Lagos\", \"casos\": 1, \"codigo region\": 13}, {\"date\": \"2020-03-14\", \"region\": \"Ays\\u00e9n\", \"casos\": 1, \"codigo region\": 14}, {\"date\": \"2020-03-14\", \"region\": \"Magallanes\", \"casos\": 0, \"codigo region\": 15}, {\"date\": \"2020-03-15\", \"region\": \"Arica y Parinacota\", \"casos\": 0, \"codigo region\": 0}, {\"date\": \"2020-03-15\", \"region\": \"Tarapac\\u00e1\", \"casos\": 0, \"codigo region\": 1}, {\"date\": \"2020-03-15\", \"region\": \"Antofagasta\", \"casos\": 2, \"codigo region\": 2}, {\"date\": \"2020-03-15\", \"region\": \"Atacama\", \"casos\": 1, \"codigo region\": 3}, {\"date\": \"2020-03-15\", \"region\": \"Coquimbo\", \"casos\": 0, \"codigo region\": 4}, {\"date\": \"2020-03-15\", \"region\": \"Valpara\\u00edso\", \"casos\": 0, \"codigo region\": 5}, {\"date\": \"2020-03-15\", \"region\": \"Metropolitana\", \"casos\": 54, \"codigo region\": 6}, {\"date\": \"2020-03-15\", \"region\": \"O\\u2019Higgins\", \"casos\": 0, \"codigo region\": 7}, {\"date\": \"2020-03-15\", \"region\": \"Maule\", \"casos\": 9, \"codigo region\": 8}, {\"date\": \"2020-03-15\", \"region\": \"\\u00d1uble\", \"casos\": 4, \"codigo region\": 9}, {\"date\": \"2020-03-15\", \"region\": \"Biob\\u00edo\", \"casos\": 3, \"codigo region\": 10}, {\"date\": \"2020-03-15\", \"region\": \"Araucan\\u00eda\", \"casos\": 0, \"codigo region\": 11}, {\"date\": \"2020-03-15\", \"region\": \"Los R\\u00edos\", \"casos\": 0, \"codigo region\": 12}, {\"date\": \"2020-03-15\", \"region\": \"Los Lagos\", \"casos\": 1, \"codigo region\": 13}, {\"date\": \"2020-03-15\", \"region\": \"Ays\\u00e9n\", \"casos\": 1, \"codigo region\": 14}, {\"date\": \"2020-03-15\", \"region\": \"Magallanes\", \"casos\": 0, \"codigo region\": 15}, {\"date\": \"2020-03-16\", \"region\": \"Arica y Parinacota\", \"casos\": 0, \"codigo region\": 0}, {\"date\": \"2020-03-16\", \"region\": \"Tarapac\\u00e1\", \"casos\": 0, \"codigo region\": 1}, {\"date\": \"2020-03-16\", \"region\": \"Antofagasta\", \"casos\": 2, \"codigo region\": 2}, {\"date\": \"2020-03-16\", \"region\": \"Atacama\", \"casos\": 1, \"codigo region\": 3}, {\"date\": \"2020-03-16\", \"region\": \"Coquimbo\", \"casos\": 0, \"codigo region\": 4}, {\"date\": \"2020-03-16\", \"region\": \"Valpara\\u00edso\", \"casos\": 1, \"codigo region\": 5}, {\"date\": \"2020-03-16\", \"region\": \"Metropolitana\", \"casos\": 123, \"codigo region\": 6}, {\"date\": \"2020-03-16\", \"region\": \"O\\u2019Higgins\", \"casos\": 0, \"codigo region\": 7}, {\"date\": \"2020-03-16\", \"region\": \"Maule\", \"casos\": 9, \"codigo region\": 8}, {\"date\": \"2020-03-16\", \"region\": \"\\u00d1uble\", \"casos\": 12, \"codigo region\": 9}, {\"date\": \"2020-03-16\", \"region\": \"Biob\\u00edo\", \"casos\": 4, \"codigo region\": 10}, {\"date\": \"2020-03-16\", \"region\": \"Araucan\\u00eda\", \"casos\": 1, \"codigo region\": 11}, {\"date\": \"2020-03-16\", \"region\": \"Los R\\u00edos\", \"casos\": 1, \"codigo region\": 12}, {\"date\": \"2020-03-16\", \"region\": \"Los Lagos\", \"casos\": 1, \"codigo region\": 13}, {\"date\": \"2020-03-16\", \"region\": \"Ays\\u00e9n\", \"casos\": 1, \"codigo region\": 14}, {\"date\": \"2020-03-16\", \"region\": \"Magallanes\", \"casos\": 0, \"codigo region\": 15}, {\"date\": \"2020-03-17\", \"region\": \"Arica y Parinacota\", \"casos\": 0, \"codigo region\": 0}, {\"date\": \"2020-03-17\", \"region\": \"Tarapac\\u00e1\", \"casos\": 0, \"codigo region\": 1}, {\"date\": \"2020-03-17\", \"region\": \"Antofagasta\", \"casos\": 2, \"codigo region\": 2}, {\"date\": \"2020-03-17\", \"region\": \"Atacama\", \"casos\": 1, \"codigo region\": 3}, {\"date\": \"2020-03-17\", \"region\": \"Coquimbo\", \"casos\": 0, \"codigo region\": 4}, {\"date\": \"2020-03-17\", \"region\": \"Valpara\\u00edso\", \"casos\": 1, \"codigo region\": 5}, {\"date\": \"2020-03-17\", \"region\": \"Metropolitana\", \"casos\": 152, \"codigo region\": 6}, {\"date\": \"2020-03-17\", \"region\": \"O\\u2019Higgins\", \"casos\": 0, \"codigo region\": 7}, {\"date\": \"2020-03-17\", \"region\": \"Maule\", \"casos\": 9, \"codigo region\": 8}, {\"date\": \"2020-03-17\", \"region\": \"\\u00d1uble\", \"casos\": 26, \"codigo region\": 9}, {\"date\": \"2020-03-17\", \"region\": \"Biob\\u00edo\", \"casos\": 4, \"codigo region\": 10}, {\"date\": \"2020-03-17\", \"region\": \"Araucan\\u00eda\", \"casos\": 1, \"codigo region\": 11}, {\"date\": \"2020-03-17\", \"region\": \"Los R\\u00edos\", \"casos\": 1, \"codigo region\": 12}, {\"date\": \"2020-03-17\", \"region\": \"Los Lagos\", \"casos\": 1, \"codigo region\": 13}, {\"date\": \"2020-03-17\", \"region\": \"Ays\\u00e9n\", \"casos\": 1, \"codigo region\": 14}, {\"date\": \"2020-03-17\", \"region\": \"Magallanes\", \"casos\": 2, \"codigo region\": 15}, {\"date\": \"2020-03-18\", \"region\": \"Arica y Parinacota\", \"casos\": 0, \"codigo region\": 0}, {\"date\": \"2020-03-18\", \"region\": \"Tarapac\\u00e1\", \"casos\": 0, \"codigo region\": 1}, {\"date\": \"2020-03-18\", \"region\": \"Antofagasta\", \"casos\": 2, \"codigo region\": 2}, {\"date\": \"2020-03-18\", \"region\": \"Atacama\", \"casos\": 1, \"codigo region\": 3}, {\"date\": \"2020-03-18\", \"region\": \"Coquimbo\", \"casos\": 0, \"codigo region\": 4}, {\"date\": \"2020-03-18\", \"region\": \"Valpara\\u00edso\", \"casos\": 1, \"codigo region\": 5}, {\"date\": \"2020-03-18\", \"region\": \"Metropolitana\", \"casos\": 174, \"codigo region\": 6}, {\"date\": \"2020-03-18\", \"region\": \"O\\u2019Higgins\", \"casos\": 0, \"codigo region\": 7}, {\"date\": \"2020-03-18\", \"region\": \"Maule\", \"casos\": 11, \"codigo region\": 8}, {\"date\": \"2020-03-18\", \"region\": \"\\u00d1uble\", \"casos\": 26, \"codigo region\": 9}, {\"date\": \"2020-03-18\", \"region\": \"Biob\\u00edo\", \"casos\": 7, \"codigo region\": 10}, {\"date\": \"2020-03-18\", \"region\": \"Araucan\\u00eda\", \"casos\": 4, \"codigo region\": 11}, {\"date\": \"2020-03-18\", \"region\": \"Los R\\u00edos\", \"casos\": 1, \"codigo region\": 12}, {\"date\": \"2020-03-18\", \"region\": \"Los Lagos\", \"casos\": 8, \"codigo region\": 13}, {\"date\": \"2020-03-18\", \"region\": \"Ays\\u00e9n\", \"casos\": 1, \"codigo region\": 14}, {\"date\": \"2020-03-18\", \"region\": \"Magallanes\", \"casos\": 2, \"codigo region\": 15}, {\"date\": \"2020-03-19\", \"region\": \"Arica y Parinacota\", \"casos\": 1, \"codigo region\": 0}, {\"date\": \"2020-03-19\", \"region\": \"Tarapac\\u00e1\", \"casos\": 0, \"codigo region\": 1}, {\"date\": \"2020-03-19\", \"region\": \"Antofagasta\", \"casos\": 2, \"codigo region\": 2}, {\"date\": \"2020-03-19\", \"region\": \"Atacama\", \"casos\": 1, \"codigo region\": 3}, {\"date\": \"2020-03-19\", \"region\": \"Coquimbo\", \"casos\": 2, \"codigo region\": 4}, {\"date\": \"2020-03-19\", \"region\": \"Valpara\\u00edso\", \"casos\": 4, \"codigo region\": 5}, {\"date\": \"2020-03-19\", \"region\": \"Metropolitana\", \"casos\": 247, \"codigo region\": 6}, {\"date\": \"2020-03-19\", \"region\": \"O\\u2019Higgins\", \"casos\": 2, \"codigo region\": 7}, {\"date\": \"2020-03-19\", \"region\": \"Maule\", \"casos\": 14, \"codigo region\": 8}, {\"date\": \"2020-03-19\", \"region\": \"\\u00d1uble\", \"casos\": 28, \"codigo region\": 9}, {\"date\": \"2020-03-19\", \"region\": \"Biob\\u00edo\", \"casos\": 14, \"codigo region\": 10}, {\"date\": \"2020-03-19\", \"region\": \"Araucan\\u00eda\", \"casos\": 7, \"codigo region\": 11}, {\"date\": \"2020-03-19\", \"region\": \"Los R\\u00edos\", \"casos\": 1, \"codigo region\": 12}, {\"date\": \"2020-03-19\", \"region\": \"Los Lagos\", \"casos\": 16, \"codigo region\": 13}, {\"date\": \"2020-03-19\", \"region\": \"Ays\\u00e9n\", \"casos\": 1, \"codigo region\": 14}, {\"date\": \"2020-03-19\", \"region\": \"Magallanes\", \"casos\": 2, \"codigo region\": 15}, {\"date\": \"2020-03-20\", \"region\": \"Arica y Parinacota\", \"casos\": 1, \"codigo region\": 0}, {\"date\": \"2020-03-20\", \"region\": \"Tarapac\\u00e1\", \"casos\": 0, \"codigo region\": 1}, {\"date\": \"2020-03-20\", \"region\": \"Antofagasta\", \"casos\": 6, \"codigo region\": 2}, {\"date\": \"2020-03-20\", \"region\": \"Atacama\", \"casos\": 1, \"codigo region\": 3}, {\"date\": \"2020-03-20\", \"region\": \"Coquimbo\", \"casos\": 3, \"codigo region\": 4}, {\"date\": \"2020-03-20\", \"region\": \"Valpara\\u00edso\", \"casos\": 5, \"codigo region\": 5}, {\"date\": \"2020-03-20\", \"region\": \"Metropolitana\", \"casos\": 304, \"codigo region\": 6}, {\"date\": \"2020-03-20\", \"region\": \"O\\u2019Higgins\", \"casos\": 6, \"codigo region\": 7}, {\"date\": \"2020-03-20\", \"region\": \"Maule\", \"casos\": 14, \"codigo region\": 8}, {\"date\": \"2020-03-20\", \"region\": \"\\u00d1uble\", \"casos\": 44, \"codigo region\": 9}, {\"date\": \"2020-03-20\", \"region\": \"Biob\\u00edo\", \"casos\": 19, \"codigo region\": 10}, {\"date\": \"2020-03-20\", \"region\": \"Araucan\\u00eda\", \"casos\": 9, \"codigo region\": 11}, {\"date\": \"2020-03-20\", \"region\": \"Los R\\u00edos\", \"casos\": 1, \"codigo region\": 12}, {\"date\": \"2020-03-20\", \"region\": \"Los Lagos\", \"casos\": 18, \"codigo region\": 13}, {\"date\": \"2020-03-20\", \"region\": \"Ays\\u00e9n\", \"casos\": 1, \"codigo region\": 14}, {\"date\": \"2020-03-20\", \"region\": \"Magallanes\", \"casos\": 2, \"codigo region\": 15}, {\"date\": \"2020-03-21\", \"region\": \"Arica y Parinacota\", \"casos\": 1, \"codigo region\": 0}, {\"date\": \"2020-03-21\", \"region\": \"Tarapac\\u00e1\", \"casos\": 0, \"codigo region\": 1}, {\"date\": \"2020-03-21\", \"region\": \"Antofagasta\", \"casos\": 10, \"codigo region\": 2}, {\"date\": \"2020-03-21\", \"region\": \"Atacama\", \"casos\": 1, \"codigo region\": 3}, {\"date\": \"2020-03-21\", \"region\": \"Coquimbo\", \"casos\": 3, \"codigo region\": 4}, {\"date\": \"2020-03-21\", \"region\": \"Valpara\\u00edso\", \"casos\": 13, \"codigo region\": 5}, {\"date\": \"2020-03-21\", \"region\": \"Metropolitana\", \"casos\": 359, \"codigo region\": 6}, {\"date\": \"2020-03-21\", \"region\": \"O\\u2019Higgins\", \"casos\": 7, \"codigo region\": 7}, {\"date\": \"2020-03-21\", \"region\": \"Maule\", \"casos\": 15, \"codigo region\": 8}, {\"date\": \"2020-03-21\", \"region\": \"\\u00d1uble\", \"casos\": 58, \"codigo region\": 9}, {\"date\": \"2020-03-21\", \"region\": \"Biob\\u00edo\", \"casos\": 30, \"codigo region\": 10}, {\"date\": \"2020-03-21\", \"region\": \"Araucan\\u00eda\", \"casos\": 15, \"codigo region\": 11}, {\"date\": \"2020-03-21\", \"region\": \"Los R\\u00edos\", \"casos\": 1, \"codigo region\": 12}, {\"date\": \"2020-03-21\", \"region\": \"Los Lagos\", \"casos\": 20, \"codigo region\": 13}, {\"date\": \"2020-03-21\", \"region\": \"Ays\\u00e9n\", \"casos\": 1, \"codigo region\": 14}, {\"date\": \"2020-03-21\", \"region\": \"Magallanes\", \"casos\": 3, \"codigo region\": 15}, {\"date\": \"2020-03-22\", \"region\": \"Arica y Parinacota\", \"casos\": 2, \"codigo region\": 0}, {\"date\": \"2020-03-22\", \"region\": \"Tarapac\\u00e1\", \"casos\": 0, \"codigo region\": 1}, {\"date\": \"2020-03-22\", \"region\": \"Antofagasta\", \"casos\": 11, \"codigo region\": 2}, {\"date\": \"2020-03-22\", \"region\": \"Atacama\", \"casos\": 1, \"codigo region\": 3}, {\"date\": \"2020-03-22\", \"region\": \"Coquimbo\", \"casos\": 5, \"codigo region\": 4}, {\"date\": \"2020-03-22\", \"region\": \"Valpara\\u00edso\", \"casos\": 16, \"codigo region\": 5}, {\"date\": \"2020-03-22\", \"region\": \"Metropolitana\", \"casos\": 409, \"codigo region\": 6}, {\"date\": \"2020-03-22\", \"region\": \"O\\u2019Higgins\", \"casos\": 8, \"codigo region\": 7}, {\"date\": \"2020-03-22\", \"region\": \"Maule\", \"casos\": 25, \"codigo region\": 8}, {\"date\": \"2020-03-22\", \"region\": \"\\u00d1uble\", \"casos\": 64, \"codigo region\": 9}, {\"date\": \"2020-03-22\", \"region\": \"Biob\\u00edo\", \"casos\": 35, \"codigo region\": 10}, {\"date\": \"2020-03-22\", \"region\": \"Araucan\\u00eda\", \"casos\": 27, \"codigo region\": 11}, {\"date\": \"2020-03-22\", \"region\": \"Los R\\u00edos\", \"casos\": 1, \"codigo region\": 12}, {\"date\": \"2020-03-22\", \"region\": \"Los Lagos\", \"casos\": 23, \"codigo region\": 13}, {\"date\": \"2020-03-22\", \"region\": \"Ays\\u00e9n\", \"casos\": 1, \"codigo region\": 14}, {\"date\": \"2020-03-22\", \"region\": \"Magallanes\", \"casos\": 4, \"codigo region\": 15}, {\"date\": \"2020-03-23\", \"region\": \"Arica y Parinacota\", \"casos\": 2, \"codigo region\": 0}, {\"date\": \"2020-03-23\", \"region\": \"Tarapac\\u00e1\", \"casos\": 1, \"codigo region\": 1}, {\"date\": \"2020-03-23\", \"region\": \"Antofagasta\", \"casos\": 11, \"codigo region\": 2}, {\"date\": \"2020-03-23\", \"region\": \"Atacama\", \"casos\": 1, \"codigo region\": 3}, {\"date\": \"2020-03-23\", \"region\": \"Coquimbo\", \"casos\": 6, \"codigo region\": 4}, {\"date\": \"2020-03-23\", \"region\": \"Valpara\\u00edso\", \"casos\": 19, \"codigo region\": 5}, {\"date\": \"2020-03-23\", \"region\": \"Metropolitana\", \"casos\": 459, \"codigo region\": 6}, {\"date\": \"2020-03-23\", \"region\": \"O\\u2019Higgins\", \"casos\": 8, \"codigo region\": 7}, {\"date\": \"2020-03-23\", \"region\": \"Maule\", \"casos\": 28, \"codigo region\": 8}, {\"date\": \"2020-03-23\", \"region\": \"\\u00d1uble\", \"casos\": 81, \"codigo region\": 9}, {\"date\": \"2020-03-23\", \"region\": \"Biob\\u00edo\", \"casos\": 46, \"codigo region\": 10}, {\"date\": \"2020-03-23\", \"region\": \"Araucan\\u00eda\", \"casos\": 40, \"codigo region\": 11}, {\"date\": \"2020-03-23\", \"region\": \"Los R\\u00edos\", \"casos\": 4, \"codigo region\": 12}, {\"date\": \"2020-03-23\", \"region\": \"Los Lagos\", \"casos\": 33, \"codigo region\": 13}, {\"date\": \"2020-03-23\", \"region\": \"Ays\\u00e9n\", \"casos\": 1, \"codigo region\": 14}, {\"date\": \"2020-03-23\", \"region\": \"Magallanes\", \"casos\": 6, \"codigo region\": 15}, {\"date\": \"2020-03-24\", \"region\": \"Arica y Parinacota\", \"casos\": 2, \"codigo region\": 0}, {\"date\": \"2020-03-24\", \"region\": \"Tarapac\\u00e1\", \"casos\": 4, \"codigo region\": 1}, {\"date\": \"2020-03-24\", \"region\": \"Antofagasta\", \"casos\": 13, \"codigo region\": 2}, {\"date\": \"2020-03-24\", \"region\": \"Atacama\", \"casos\": 1, \"codigo region\": 3}, {\"date\": \"2020-03-24\", \"region\": \"Coquimbo\", \"casos\": 11, \"codigo region\": 4}, {\"date\": \"2020-03-24\", \"region\": \"Valpara\\u00edso\", \"casos\": 25, \"codigo region\": 5}, {\"date\": \"2020-03-24\", \"region\": \"Metropolitana\", \"casos\": 540, \"codigo region\": 6}, {\"date\": \"2020-03-24\", \"region\": \"O\\u2019Higgins\", \"casos\": 9, \"codigo region\": 7}, {\"date\": \"2020-03-24\", \"region\": \"Maule\", \"casos\": 29, \"codigo region\": 8}, {\"date\": \"2020-03-24\", \"region\": \"\\u00d1uble\", \"casos\": 105, \"codigo region\": 9}, {\"date\": \"2020-03-24\", \"region\": \"Biob\\u00edo\", \"casos\": 73, \"codigo region\": 10}, {\"date\": \"2020-03-24\", \"region\": \"Araucan\\u00eda\", \"casos\": 59, \"codigo region\": 11}, {\"date\": \"2020-03-24\", \"region\": \"Los R\\u00edos\", \"casos\": 6, \"codigo region\": 12}, {\"date\": \"2020-03-24\", \"region\": \"Los Lagos\", \"casos\": 36, \"codigo region\": 13}, {\"date\": \"2020-03-24\", \"region\": \"Ays\\u00e9n\", \"casos\": 1, \"codigo region\": 14}, {\"date\": \"2020-03-24\", \"region\": \"Magallanes\", \"casos\": 8, \"codigo region\": 15}, {\"date\": \"2020-03-25\", \"region\": \"Arica y Parinacota\", \"casos\": 2, \"codigo region\": 0}, {\"date\": \"2020-03-25\", \"region\": \"Tarapac\\u00e1\", \"casos\": 4, \"codigo region\": 1}, {\"date\": \"2020-03-25\", \"region\": \"Antofagasta\", \"casos\": 19, \"codigo region\": 2}, {\"date\": \"2020-03-25\", \"region\": \"Atacama\", \"casos\": 1, \"codigo region\": 3}, {\"date\": \"2020-03-25\", \"region\": \"Coquimbo\", \"casos\": 12, \"codigo region\": 4}, {\"date\": \"2020-03-25\", \"region\": \"Valpara\\u00edso\", \"casos\": 32, \"codigo region\": 5}, {\"date\": \"2020-03-25\", \"region\": \"Metropolitana\", \"casos\": 682, \"codigo region\": 6}, {\"date\": \"2020-03-25\", \"region\": \"O\\u2019Higgins\", \"casos\": 11, \"codigo region\": 7}, {\"date\": \"2020-03-25\", \"region\": \"Maule\", \"casos\": 30, \"codigo region\": 8}, {\"date\": \"2020-03-25\", \"region\": \"\\u00d1uble\", \"casos\": 111, \"codigo region\": 9}, {\"date\": \"2020-03-25\", \"region\": \"Biob\\u00edo\", \"casos\": 95, \"codigo region\": 10}, {\"date\": \"2020-03-25\", \"region\": \"Araucan\\u00eda\", \"casos\": 74, \"codigo region\": 11}, {\"date\": \"2020-03-25\", \"region\": \"Los R\\u00edos\", \"casos\": 11, \"codigo region\": 12}, {\"date\": \"2020-03-25\", \"region\": \"Los Lagos\", \"casos\": 44, \"codigo region\": 13}, {\"date\": \"2020-03-25\", \"region\": \"Ays\\u00e9n\", \"casos\": 1, \"codigo region\": 14}, {\"date\": \"2020-03-25\", \"region\": \"Magallanes\", \"casos\": 13, \"codigo region\": 15}, {\"date\": \"2020-03-26\", \"region\": \"Arica y Parinacota\", \"casos\": 3, \"codigo region\": 0}, {\"date\": \"2020-03-26\", \"region\": \"Tarapac\\u00e1\", \"casos\": 5, \"codigo region\": 1}, {\"date\": \"2020-03-26\", \"region\": \"Antofagasta\", \"casos\": 20, \"codigo region\": 2}, {\"date\": \"2020-03-26\", \"region\": \"Atacama\", \"casos\": 1, \"codigo region\": 3}, {\"date\": \"2020-03-26\", \"region\": \"Coquimbo\", \"casos\": 13, \"codigo region\": 4}, {\"date\": \"2020-03-26\", \"region\": \"Valpara\\u00edso\", \"casos\": 44, \"codigo region\": 5}, {\"date\": \"2020-03-26\", \"region\": \"Metropolitana\", \"casos\": 746, \"codigo region\": 6}, {\"date\": \"2020-03-26\", \"region\": \"O\\u2019Higgins\", \"casos\": 14, \"codigo region\": 7}, {\"date\": \"2020-03-26\", \"region\": \"Maule\", \"casos\": 31, \"codigo region\": 8}, {\"date\": \"2020-03-26\", \"region\": \"\\u00d1uble\", \"casos\": 114, \"codigo region\": 9}, {\"date\": \"2020-03-26\", \"region\": \"Biob\\u00edo\", \"casos\": 109, \"codigo region\": 10}, {\"date\": \"2020-03-26\", \"region\": \"Araucan\\u00eda\", \"casos\": 111, \"codigo region\": 11}, {\"date\": \"2020-03-26\", \"region\": \"Los R\\u00edos\", \"casos\": 14, \"codigo region\": 12}, {\"date\": \"2020-03-26\", \"region\": \"Los Lagos\", \"casos\": 60, \"codigo region\": 13}, {\"date\": \"2020-03-26\", \"region\": \"Ays\\u00e9n\", \"casos\": 2, \"codigo region\": 14}, {\"date\": \"2020-03-26\", \"region\": \"Magallanes\", \"casos\": 19, \"codigo region\": 15}, {\"date\": \"2020-03-27\", \"region\": \"Arica y Parinacota\", \"casos\": 3, \"codigo region\": 0}, {\"date\": \"2020-03-27\", \"region\": \"Tarapac\\u00e1\", \"casos\": 5, \"codigo region\": 1}, {\"date\": \"2020-03-27\", \"region\": \"Antofagasta\", \"casos\": 21, \"codigo region\": 2}, {\"date\": \"2020-03-27\", \"region\": \"Atacama\", \"casos\": 1, \"codigo region\": 3}, {\"date\": \"2020-03-27\", \"region\": \"Coquimbo\", \"casos\": 14, \"codigo region\": 4}, {\"date\": \"2020-03-27\", \"region\": \"Valpara\\u00edso\", \"casos\": 49, \"codigo region\": 5}, {\"date\": \"2020-03-27\", \"region\": \"Metropolitana\", \"casos\": 938, \"codigo region\": 6}, {\"date\": \"2020-03-27\", \"region\": \"O\\u2019Higgins\", \"casos\": 16, \"codigo region\": 7}, {\"date\": \"2020-03-27\", \"region\": \"Maule\", \"casos\": 32, \"codigo region\": 8}, {\"date\": \"2020-03-27\", \"region\": \"\\u00d1uble\", \"casos\": 144, \"codigo region\": 9}, {\"date\": \"2020-03-27\", \"region\": \"Biob\\u00edo\", \"casos\": 135, \"codigo region\": 10}, {\"date\": \"2020-03-27\", \"region\": \"Araucan\\u00eda\", \"casos\": 143, \"codigo region\": 11}, {\"date\": \"2020-03-27\", \"region\": \"Los R\\u00edos\", \"casos\": 22, \"codigo region\": 12}, {\"date\": \"2020-03-27\", \"region\": \"Los Lagos\", \"casos\": 63, \"codigo region\": 13}, {\"date\": \"2020-03-27\", \"region\": \"Ays\\u00e9n\", \"casos\": 2, \"codigo region\": 14}, {\"date\": \"2020-03-27\", \"region\": \"Magallanes\", \"casos\": 22, \"codigo region\": 15}, {\"date\": \"2020-03-28\", \"region\": \"Arica y Parinacota\", \"casos\": 3, \"codigo region\": 0}, {\"date\": \"2020-03-28\", \"region\": \"Tarapac\\u00e1\", \"casos\": 5, \"codigo region\": 1}, {\"date\": \"2020-03-28\", \"region\": \"Antofagasta\", \"casos\": 25, \"codigo region\": 2}, {\"date\": \"2020-03-28\", \"region\": \"Atacama\", \"casos\": 1, \"codigo region\": 3}, {\"date\": \"2020-03-28\", \"region\": \"Coquimbo\", \"casos\": 15, \"codigo region\": 4}, {\"date\": \"2020-03-28\", \"region\": \"Valpara\\u00edso\", \"casos\": 71, \"codigo region\": 5}, {\"date\": \"2020-03-28\", \"region\": \"Metropolitana\", \"casos\": 1084, \"codigo region\": 6}, {\"date\": \"2020-03-28\", \"region\": \"O\\u2019Higgins\", \"casos\": 20, \"codigo region\": 7}, {\"date\": \"2020-03-28\", \"region\": \"Maule\", \"casos\": 37, \"codigo region\": 8}, {\"date\": \"2020-03-28\", \"region\": \"\\u00d1uble\", \"casos\": 172, \"codigo region\": 9}, {\"date\": \"2020-03-28\", \"region\": \"Biob\\u00edo\", \"casos\": 151, \"codigo region\": 10}, {\"date\": \"2020-03-28\", \"region\": \"Araucan\\u00eda\", \"casos\": 177, \"codigo region\": 11}, {\"date\": \"2020-03-28\", \"region\": \"Los R\\u00edos\", \"casos\": 27, \"codigo region\": 12}, {\"date\": \"2020-03-28\", \"region\": \"Los Lagos\", \"casos\": 93, \"codigo region\": 13}, {\"date\": \"2020-03-28\", \"region\": \"Ays\\u00e9n\", \"casos\": 2, \"codigo region\": 14}, {\"date\": \"2020-03-28\", \"region\": \"Magallanes\", \"casos\": 26, \"codigo region\": 15}, {\"date\": \"2020-03-29\", \"region\": \"Arica y Parinacota\", \"casos\": 4, \"codigo region\": 0}, {\"date\": \"2020-03-29\", \"region\": \"Tarapac\\u00e1\", \"casos\": 6, \"codigo region\": 1}, {\"date\": \"2020-03-29\", \"region\": \"Antofagasta\", \"casos\": 27, \"codigo region\": 2}, {\"date\": \"2020-03-29\", \"region\": \"Atacama\", \"casos\": 2, \"codigo region\": 3}, {\"date\": \"2020-03-29\", \"region\": \"Coquimbo\", \"casos\": 18, \"codigo region\": 4}, {\"date\": \"2020-03-29\", \"region\": \"Valpara\\u00edso\", \"casos\": 80, \"codigo region\": 5}, {\"date\": \"2020-03-29\", \"region\": \"Metropolitana\", \"casos\": 1167, \"codigo region\": 6}, {\"date\": \"2020-03-29\", \"region\": \"O\\u2019Higgins\", \"casos\": 21, \"codigo region\": 7}, {\"date\": \"2020-03-29\", \"region\": \"Maule\", \"casos\": 42, \"codigo region\": 8}, {\"date\": \"2020-03-29\", \"region\": \"\\u00d1uble\", \"casos\": 197, \"codigo region\": 9}, {\"date\": \"2020-03-29\", \"region\": \"Biob\\u00edo\", \"casos\": 185, \"codigo region\": 10}, {\"date\": \"2020-03-29\", \"region\": \"Araucan\\u00eda\", \"casos\": 205, \"codigo region\": 11}, {\"date\": \"2020-03-29\", \"region\": \"Los R\\u00edos\", \"casos\": 40, \"codigo region\": 12}, {\"date\": \"2020-03-29\", \"region\": \"Los Lagos\", \"casos\": 104, \"codigo region\": 13}, {\"date\": \"2020-03-29\", \"region\": \"Ays\\u00e9n\", \"casos\": 2, \"codigo region\": 14}, {\"date\": \"2020-03-29\", \"region\": \"Magallanes\", \"casos\": 39, \"codigo region\": 15}, {\"date\": \"2020-03-30\", \"region\": \"Arica y Parinacota\", \"casos\": 6, \"codigo region\": 0}, {\"date\": \"2020-03-30\", \"region\": \"Tarapac\\u00e1\", \"casos\": 8, \"codigo region\": 1}, {\"date\": \"2020-03-30\", \"region\": \"Antofagasta\", \"casos\": 35, \"codigo region\": 2}, {\"date\": \"2020-03-30\", \"region\": \"Atacama\", \"casos\": 2, \"codigo region\": 3}, {\"date\": \"2020-03-30\", \"region\": \"Coquimbo\", \"casos\": 27, \"codigo region\": 4}, {\"date\": \"2020-03-30\", \"region\": \"Valpara\\u00edso\", \"casos\": 108, \"codigo region\": 5}, {\"date\": \"2020-03-30\", \"region\": \"Metropolitana\", \"casos\": 1295, \"codigo region\": 6}, {\"date\": \"2020-03-30\", \"region\": \"O\\u2019Higgins\", \"casos\": 21, \"codigo region\": 7}, {\"date\": \"2020-03-30\", \"region\": \"Maule\", \"casos\": 54, \"codigo region\": 8}, {\"date\": \"2020-03-30\", \"region\": \"\\u00d1uble\", \"casos\": 229, \"codigo region\": 9}, {\"date\": \"2020-03-30\", \"region\": \"Biob\\u00edo\", \"casos\": 201, \"codigo region\": 10}, {\"date\": \"2020-03-30\", \"region\": \"Araucan\\u00eda\", \"casos\": 247, \"codigo region\": 11}, {\"date\": \"2020-03-30\", \"region\": \"Los R\\u00edos\", \"casos\": 47, \"codigo region\": 12}, {\"date\": \"2020-03-30\", \"region\": \"Los Lagos\", \"casos\": 128, \"codigo region\": 13}, {\"date\": \"2020-03-30\", \"region\": \"Ays\\u00e9n\", \"casos\": 2, \"codigo region\": 14}, {\"date\": \"2020-03-30\", \"region\": \"Magallanes\", \"casos\": 39, \"codigo region\": 15}, {\"date\": \"2020-03-31\", \"region\": \"Arica y Parinacota\", \"casos\": 6, \"codigo region\": 0}, {\"date\": \"2020-03-31\", \"region\": \"Tarapac\\u00e1\", \"casos\": 10, \"codigo region\": 1}, {\"date\": \"2020-03-31\", \"region\": \"Antofagasta\", \"casos\": 35, \"codigo region\": 2}, {\"date\": \"2020-03-31\", \"region\": \"Atacama\", \"casos\": 2, \"codigo region\": 3}, {\"date\": \"2020-03-31\", \"region\": \"Coquimbo\", \"casos\": 28, \"codigo region\": 4}, {\"date\": \"2020-03-31\", \"region\": \"Valpara\\u00edso\", \"casos\": 115, \"codigo region\": 5}, {\"date\": \"2020-03-31\", \"region\": \"Metropolitana\", \"casos\": 1420, \"codigo region\": 6}, {\"date\": \"2020-03-31\", \"region\": \"O\\u2019Higgins\", \"casos\": 23, \"codigo region\": 7}, {\"date\": \"2020-03-31\", \"region\": \"Maule\", \"casos\": 62, \"codigo region\": 8}, {\"date\": \"2020-03-31\", \"region\": \"\\u00d1uble\", \"casos\": 245, \"codigo region\": 9}, {\"date\": \"2020-03-31\", \"region\": \"Biob\\u00edo\", \"casos\": 216, \"codigo region\": 10}, {\"date\": \"2020-03-31\", \"region\": \"Araucan\\u00eda\", \"casos\": 302, \"codigo region\": 11}, {\"date\": \"2020-03-31\", \"region\": \"Los R\\u00edos\", \"casos\": 58, \"codigo region\": 12}, {\"date\": \"2020-03-31\", \"region\": \"Los Lagos\", \"casos\": 151, \"codigo region\": 13}, {\"date\": \"2020-03-31\", \"region\": \"Ays\\u00e9n\", \"casos\": 2, \"codigo region\": 14}, {\"date\": \"2020-03-31\", \"region\": \"Magallanes\", \"casos\": 63, \"codigo region\": 15}, {\"date\": \"2020-04-01\", \"region\": \"Arica y Parinacota\", \"casos\": 6, \"codigo region\": 0}, {\"date\": \"2020-04-01\", \"region\": \"Tarapac\\u00e1\", \"casos\": 10, \"codigo region\": 1}, {\"date\": \"2020-04-01\", \"region\": \"Antofagasta\", \"casos\": 39, \"codigo region\": 2}, {\"date\": \"2020-04-01\", \"region\": \"Atacama\", \"casos\": 3, \"codigo region\": 3}, {\"date\": \"2020-04-01\", \"region\": \"Coquimbo\", \"casos\": 30, \"codigo region\": 4}, {\"date\": \"2020-04-01\", \"region\": \"Valpara\\u00edso\", \"casos\": 136, \"codigo region\": 5}, {\"date\": \"2020-04-01\", \"region\": \"Metropolitana\", \"casos\": 1521, \"codigo region\": 6}, {\"date\": \"2020-04-01\", \"region\": \"O\\u2019Higgins\", \"casos\": 26, \"codigo region\": 7}, {\"date\": \"2020-04-01\", \"region\": \"Maule\", \"casos\": 71, \"codigo region\": 8}, {\"date\": \"2020-04-01\", \"region\": \"\\u00d1uble\", \"casos\": 259, \"codigo region\": 9}, {\"date\": \"2020-04-01\", \"region\": \"Biob\\u00edo\", \"casos\": 240, \"codigo region\": 10}, {\"date\": \"2020-04-01\", \"region\": \"Araucan\\u00eda\", \"casos\": 343, \"codigo region\": 11}, {\"date\": \"2020-04-01\", \"region\": \"Los R\\u00edos\", \"casos\": 64, \"codigo region\": 12}, {\"date\": \"2020-04-01\", \"region\": \"Los Lagos\", \"casos\": 181, \"codigo region\": 13}, {\"date\": \"2020-04-01\", \"region\": \"Ays\\u00e9n\", \"casos\": 3, \"codigo region\": 14}, {\"date\": \"2020-04-01\", \"region\": \"Magallanes\", \"casos\": 99, \"codigo region\": 15}, {\"date\": \"2020-04-02\", \"region\": \"Arica y Parinacota\", \"casos\": 7, \"codigo region\": 0}, {\"date\": \"2020-04-02\", \"region\": \"Tarapac\\u00e1\", \"casos\": 12, \"codigo region\": 1}, {\"date\": \"2020-04-02\", \"region\": \"Antofagasta\", \"casos\": 47, \"codigo region\": 2}, {\"date\": \"2020-04-02\", \"region\": \"Atacama\", \"casos\": 3, \"codigo region\": 3}, {\"date\": \"2020-04-02\", \"region\": \"Coquimbo\", \"casos\": 34, \"codigo region\": 4}, {\"date\": \"2020-04-02\", \"region\": \"Valpara\\u00edso\", \"casos\": 156, \"codigo region\": 5}, {\"date\": \"2020-04-02\", \"region\": \"Metropolitana\", \"casos\": 1636, \"codigo region\": 6}, {\"date\": \"2020-04-02\", \"region\": \"O\\u2019Higgins\", \"casos\": 32, \"codigo region\": 7}, {\"date\": \"2020-04-02\", \"region\": \"Maule\", \"casos\": 82, \"codigo region\": 8}, {\"date\": \"2020-04-02\", \"region\": \"\\u00d1uble\", \"casos\": 341, \"codigo region\": 9}, {\"date\": \"2020-04-02\", \"region\": \"Biob\\u00edo\", \"casos\": 275, \"codigo region\": 10}, {\"date\": \"2020-04-02\", \"region\": \"Araucan\\u00eda\", \"casos\": 389, \"codigo region\": 11}, {\"date\": \"2020-04-02\", \"region\": \"Los R\\u00edos\", \"casos\": 68, \"codigo region\": 12}, {\"date\": \"2020-04-02\", \"region\": \"Los Lagos\", \"casos\": 203, \"codigo region\": 13}, {\"date\": \"2020-04-02\", \"region\": \"Ays\\u00e9n\", \"casos\": 5, \"codigo region\": 14}, {\"date\": \"2020-04-02\", \"region\": \"Magallanes\", \"casos\": 114, \"codigo region\": 15}, {\"date\": \"2020-04-03\", \"region\": \"Arica y Parinacota\", \"casos\": 12, \"codigo region\": 0}, {\"date\": \"2020-04-03\", \"region\": \"Tarapac\\u00e1\", \"casos\": 13, \"codigo region\": 1}, {\"date\": \"2020-04-03\", \"region\": \"Antofagasta\", \"casos\": 54, \"codigo region\": 2}, {\"date\": \"2020-04-03\", \"region\": \"Atacama\", \"casos\": 5, \"codigo region\": 3}, {\"date\": \"2020-04-03\", \"region\": \"Coquimbo\", \"casos\": 35, \"codigo region\": 4}, {\"date\": \"2020-04-03\", \"region\": \"Valpara\\u00edso\", \"casos\": 176, \"codigo region\": 5}, {\"date\": \"2020-04-03\", \"region\": \"Metropolitana\", \"casos\": 1742, \"codigo region\": 6}, {\"date\": \"2020-04-03\", \"region\": \"O\\u2019Higgins\", \"casos\": 33, \"codigo region\": 7}, {\"date\": \"2020-04-03\", \"region\": \"Maule\", \"casos\": 89, \"codigo region\": 8}, {\"date\": \"2020-04-03\", \"region\": \"\\u00d1uble\", \"casos\": 370, \"codigo region\": 9}, {\"date\": \"2020-04-03\", \"region\": \"Biob\\u00edo\", \"casos\": 302, \"codigo region\": 10}, {\"date\": \"2020-04-03\", \"region\": \"Araucan\\u00eda\", \"casos\": 432, \"codigo region\": 11}, {\"date\": \"2020-04-03\", \"region\": \"Los R\\u00edos\", \"casos\": 78, \"codigo region\": 12}, {\"date\": \"2020-04-03\", \"region\": \"Los Lagos\", \"casos\": 234, \"codigo region\": 13}, {\"date\": \"2020-04-03\", \"region\": \"Ays\\u00e9n\", \"casos\": 6, \"codigo region\": 14}, {\"date\": \"2020-04-03\", \"region\": \"Magallanes\", \"casos\": 156, \"codigo region\": 15}, {\"date\": \"2020-04-04\", \"region\": \"Arica y Parinacota\", \"casos\": 12, \"codigo region\": 0}, {\"date\": \"2020-04-04\", \"region\": \"Tarapac\\u00e1\", \"casos\": 17, \"codigo region\": 1}, {\"date\": \"2020-04-04\", \"region\": \"Antofagasta\", \"casos\": 55, \"codigo region\": 2}, {\"date\": \"2020-04-04\", \"region\": \"Atacama\", \"casos\": 5, \"codigo region\": 3}, {\"date\": \"2020-04-04\", \"region\": \"Coquimbo\", \"casos\": 44, \"codigo region\": 4}, {\"date\": \"2020-04-04\", \"region\": \"Valpara\\u00edso\", \"casos\": 185, \"codigo region\": 5}, {\"date\": \"2020-04-04\", \"region\": \"Metropolitana\", \"casos\": 1957, \"codigo region\": 6}, {\"date\": \"2020-04-04\", \"region\": \"O\\u2019Higgins\", \"casos\": 38, \"codigo region\": 7}, {\"date\": \"2020-04-04\", \"region\": \"Maule\", \"casos\": 97, \"codigo region\": 8}, {\"date\": \"2020-04-04\", \"region\": \"\\u00d1uble\", \"casos\": 401, \"codigo region\": 9}, {\"date\": \"2020-04-04\", \"region\": \"Biob\\u00edo\", \"casos\": 347, \"codigo region\": 10}, {\"date\": \"2020-04-04\", \"region\": \"Araucan\\u00eda\", \"casos\": 477, \"codigo region\": 11}, {\"date\": \"2020-04-04\", \"region\": \"Los R\\u00edos\", \"casos\": 89, \"codigo region\": 12}, {\"date\": \"2020-04-04\", \"region\": \"Los Lagos\", \"casos\": 259, \"codigo region\": 13}, {\"date\": \"2020-04-04\", \"region\": \"Ays\\u00e9n\", \"casos\": 6, \"codigo region\": 14}, {\"date\": \"2020-04-04\", \"region\": \"Magallanes\", \"casos\": 172, \"codigo region\": 15}, {\"date\": \"2020-04-05\", \"region\": \"Arica y Parinacota\", \"casos\": 28, \"codigo region\": 0}, {\"date\": \"2020-04-05\", \"region\": \"Tarapac\\u00e1\", \"casos\": 20, \"codigo region\": 1}, {\"date\": \"2020-04-05\", \"region\": \"Antofagasta\", \"casos\": 60, \"codigo region\": 2}, {\"date\": \"2020-04-05\", \"region\": \"Atacama\", \"casos\": 5, \"codigo region\": 3}, {\"date\": \"2020-04-05\", \"region\": \"Coquimbo\", \"casos\": 50, \"codigo region\": 4}, {\"date\": \"2020-04-05\", \"region\": \"Valpara\\u00edso\", \"casos\": 191, \"codigo region\": 5}, {\"date\": \"2020-04-05\", \"region\": \"Metropolitana\", \"casos\": 2102, \"codigo region\": 6}, {\"date\": \"2020-04-05\", \"region\": \"O\\u2019Higgins\", \"casos\": 41, \"codigo region\": 7}, {\"date\": \"2020-04-05\", \"region\": \"Maule\", \"casos\": 103, \"codigo region\": 8}, {\"date\": \"2020-04-05\", \"region\": \"\\u00d1uble\", \"casos\": 425, \"codigo region\": 9}, {\"date\": \"2020-04-05\", \"region\": \"Biob\\u00edo\", \"casos\": 365, \"codigo region\": 10}, {\"date\": \"2020-04-05\", \"region\": \"Araucan\\u00eda\", \"casos\": 509, \"codigo region\": 11}, {\"date\": \"2020-04-05\", \"region\": \"Los R\\u00edos\", \"casos\": 99, \"codigo region\": 12}, {\"date\": \"2020-04-05\", \"region\": \"Los Lagos\", \"casos\": 276, \"codigo region\": 13}, {\"date\": \"2020-04-05\", \"region\": \"Ays\\u00e9n\", \"casos\": 7, \"codigo region\": 14}, {\"date\": \"2020-04-05\", \"region\": \"Magallanes\", \"casos\": 190, \"codigo region\": 15}, {\"date\": \"2020-04-06\", \"region\": \"Arica y Parinacota\", \"casos\": 41, \"codigo region\": 0}, {\"date\": \"2020-04-06\", \"region\": \"Tarapac\\u00e1\", \"casos\": 21, \"codigo region\": 1}, {\"date\": \"2020-04-06\", \"region\": \"Antofagasta\", \"casos\": 68, \"codigo region\": 2}, {\"date\": \"2020-04-06\", \"region\": \"Atacama\", \"casos\": 5, \"codigo region\": 3}, {\"date\": \"2020-04-06\", \"region\": \"Coquimbo\", \"casos\": 51, \"codigo region\": 4}, {\"date\": \"2020-04-06\", \"region\": \"Valpara\\u00edso\", \"casos\": 198, \"codigo region\": 5}, {\"date\": \"2020-04-06\", \"region\": \"Metropolitana\", \"casos\": 2244, \"codigo region\": 6}, {\"date\": \"2020-04-06\", \"region\": \"O\\u2019Higgins\", \"casos\": 42, \"codigo region\": 7}, {\"date\": \"2020-04-06\", \"region\": \"Maule\", \"casos\": 108, \"codigo region\": 8}, {\"date\": \"2020-04-06\", \"region\": \"\\u00d1uble\", \"casos\": 474, \"codigo region\": 9}, {\"date\": \"2020-04-06\", \"region\": \"Biob\\u00edo\", \"casos\": 383, \"codigo region\": 10}, {\"date\": \"2020-04-06\", \"region\": \"Araucan\\u00eda\", \"casos\": 562, \"codigo region\": 11}, {\"date\": \"2020-04-06\", \"region\": \"Los R\\u00edos\", \"casos\": 104, \"codigo region\": 12}, {\"date\": \"2020-04-06\", \"region\": \"Los Lagos\", \"casos\": 286, \"codigo region\": 13}, {\"date\": \"2020-04-06\", \"region\": \"Ays\\u00e9n\", \"casos\": 7, \"codigo region\": 14}, {\"date\": \"2020-04-06\", \"region\": \"Magallanes\", \"casos\": 221, \"codigo region\": 15}, {\"date\": \"2020-04-07\", \"region\": \"Arica y Parinacota\", \"casos\": 53, \"codigo region\": 0}, {\"date\": \"2020-04-07\", \"region\": \"Tarapac\\u00e1\", \"casos\": 23, \"codigo region\": 1}, {\"date\": \"2020-04-07\", \"region\": \"Antofagasta\", \"casos\": 69, \"codigo region\": 2}, {\"date\": \"2020-04-07\", \"region\": \"Atacama\", \"casos\": 6, \"codigo region\": 3}, {\"date\": \"2020-04-07\", \"region\": \"Coquimbo\", \"casos\": 52, \"codigo region\": 4}, {\"date\": \"2020-04-07\", \"region\": \"Valpara\\u00edso\", \"casos\": 214, \"codigo region\": 5}, {\"date\": \"2020-04-07\", \"region\": \"Metropolitana\", \"casos\": 2350, \"codigo region\": 6}, {\"date\": \"2020-04-07\", \"region\": \"O\\u2019Higgins\", \"casos\": 42, \"codigo region\": 7}, {\"date\": \"2020-04-07\", \"region\": \"Maule\", \"casos\": 108, \"codigo region\": 8}, {\"date\": \"2020-04-07\", \"region\": \"\\u00d1uble\", \"casos\": 522, \"codigo region\": 9}, {\"date\": \"2020-04-07\", \"region\": \"Biob\\u00edo\", \"casos\": 410, \"codigo region\": 10}, {\"date\": \"2020-04-07\", \"region\": \"Araucan\\u00eda\", \"casos\": 612, \"codigo region\": 11}, {\"date\": \"2020-04-07\", \"region\": \"Los R\\u00edos\", \"casos\": 109, \"codigo region\": 12}, {\"date\": \"2020-04-07\", \"region\": \"Los Lagos\", \"casos\": 299, \"codigo region\": 13}, {\"date\": \"2020-04-07\", \"region\": \"Ays\\u00e9n\", \"casos\": 7, \"codigo region\": 14}, {\"date\": \"2020-04-07\", \"region\": \"Magallanes\", \"casos\": 240, \"codigo region\": 15}, {\"date\": \"2020-04-08\", \"region\": \"Arica y Parinacota\", \"casos\": 63, \"codigo region\": 0}, {\"date\": \"2020-04-08\", \"region\": \"Tarapac\\u00e1\", \"casos\": 26, \"codigo region\": 1}, {\"date\": \"2020-04-08\", \"region\": \"Antofagasta\", \"casos\": 77, \"codigo region\": 2}, {\"date\": \"2020-04-08\", \"region\": \"Atacama\", \"casos\": 8, \"codigo region\": 3}, {\"date\": \"2020-04-08\", \"region\": \"Coquimbo\", \"casos\": 56, \"codigo region\": 4}, {\"date\": \"2020-04-08\", \"region\": \"Valpara\\u00edso\", \"casos\": 225, \"codigo region\": 5}, {\"date\": \"2020-04-08\", \"region\": \"Metropolitana\", \"casos\": 2548, \"codigo region\": 6}, {\"date\": \"2020-04-08\", \"region\": \"O\\u2019Higgins\", \"casos\": 43, \"codigo region\": 7}, {\"date\": \"2020-04-08\", \"region\": \"Maule\", \"casos\": 119, \"codigo region\": 8}, {\"date\": \"2020-04-08\", \"region\": \"\\u00d1uble\", \"casos\": 561, \"codigo region\": 9}, {\"date\": \"2020-04-08\", \"region\": \"Biob\\u00edo\", \"casos\": 439, \"codigo region\": 10}, {\"date\": \"2020-04-08\", \"region\": \"Araucan\\u00eda\", \"casos\": 669, \"codigo region\": 11}, {\"date\": \"2020-04-08\", \"region\": \"Los R\\u00edos\", \"casos\": 114, \"codigo region\": 12}, {\"date\": \"2020-04-08\", \"region\": \"Los Lagos\", \"casos\": 325, \"codigo region\": 13}, {\"date\": \"2020-04-08\", \"region\": \"Ays\\u00e9n\", \"casos\": 7, \"codigo region\": 14}, {\"date\": \"2020-04-08\", \"region\": \"Magallanes\", \"casos\": 266, \"codigo region\": 15}, {\"date\": \"2020-04-09\", \"region\": \"Arica y Parinacota\", \"casos\": 75, \"codigo region\": 0}, {\"date\": \"2020-04-09\", \"region\": \"Tarapac\\u00e1\", \"casos\": 29, \"codigo region\": 1}, {\"date\": \"2020-04-09\", \"region\": \"Antofagasta\", \"casos\": 92, \"codigo region\": 2}, {\"date\": \"2020-04-09\", \"region\": \"Atacama\", \"casos\": 10, \"codigo region\": 3}, {\"date\": \"2020-04-09\", \"region\": \"Coquimbo\", \"casos\": 61, \"codigo region\": 4}, {\"date\": \"2020-04-09\", \"region\": \"Valpara\\u00edso\", \"casos\": 230, \"codigo region\": 5}, {\"date\": \"2020-04-09\", \"region\": \"Metropolitana\", \"casos\": 2832, \"codigo region\": 6}, {\"date\": \"2020-04-09\", \"region\": \"O\\u2019Higgins\", \"casos\": 44, \"codigo region\": 7}, {\"date\": \"2020-04-09\", \"region\": \"Maule\", \"casos\": 128, \"codigo region\": 8}, {\"date\": \"2020-04-09\", \"region\": \"\\u00d1uble\", \"casos\": 571, \"codigo region\": 9}, {\"date\": \"2020-04-09\", \"region\": \"Biob\\u00edo\", \"casos\": 460, \"codigo region\": 10}, {\"date\": \"2020-04-09\", \"region\": \"Araucan\\u00eda\", \"casos\": 689, \"codigo region\": 11}, {\"date\": \"2020-04-09\", \"region\": \"Los R\\u00edos\", \"casos\": 118, \"codigo region\": 12}, {\"date\": \"2020-04-09\", \"region\": \"Los Lagos\", \"casos\": 340, \"codigo region\": 13}, {\"date\": \"2020-04-09\", \"region\": \"Ays\\u00e9n\", \"casos\": 7, \"codigo region\": 14}, {\"date\": \"2020-04-09\", \"region\": \"Magallanes\", \"casos\": 286, \"codigo region\": 15}, {\"date\": \"2020-04-10\", \"region\": \"Arica y Parinacota\", \"casos\": 87, \"codigo region\": 0}, {\"date\": \"2020-04-10\", \"region\": \"Tarapac\\u00e1\", \"casos\": 35, \"codigo region\": 1}, {\"date\": \"2020-04-10\", \"region\": \"Antofagasta\", \"casos\": 110, \"codigo region\": 2}, {\"date\": \"2020-04-10\", \"region\": \"Atacama\", \"casos\": 13, \"codigo region\": 3}, {\"date\": \"2020-04-10\", \"region\": \"Coquimbo\", \"casos\": 61, \"codigo region\": 4}, {\"date\": \"2020-04-10\", \"region\": \"Valpara\\u00edso\", \"casos\": 241, \"codigo region\": 5}, {\"date\": \"2020-04-10\", \"region\": \"Metropolitana\", \"casos\": 3193, \"codigo region\": 6}, {\"date\": \"2020-04-10\", \"region\": \"O\\u2019Higgins\", \"casos\": 44, \"codigo region\": 7}, {\"date\": \"2020-04-10\", \"region\": \"Maule\", \"casos\": 131, \"codigo region\": 8}, {\"date\": \"2020-04-10\", \"region\": \"\\u00d1uble\", \"casos\": 589, \"codigo region\": 9}, {\"date\": \"2020-04-10\", \"region\": \"Biob\\u00edo\", \"casos\": 474, \"codigo region\": 10}, {\"date\": \"2020-04-10\", \"region\": \"Araucan\\u00eda\", \"casos\": 712, \"codigo region\": 11}, {\"date\": \"2020-04-10\", \"region\": \"Los R\\u00edos\", \"casos\": 124, \"codigo region\": 12}, {\"date\": \"2020-04-10\", \"region\": \"Los Lagos\", \"casos\": 349, \"codigo region\": 13}, {\"date\": \"2020-04-10\", \"region\": \"Ays\\u00e9n\", \"casos\": 7, \"codigo region\": 14}, {\"date\": \"2020-04-10\", \"region\": \"Magallanes\", \"casos\": 331, \"codigo region\": 15}, {\"date\": \"2020-04-11\", \"region\": \"Arica y Parinacota\", \"casos\": 107, \"codigo region\": 0}, {\"date\": \"2020-04-11\", \"region\": \"Tarapac\\u00e1\", \"casos\": 38, \"codigo region\": 1}, {\"date\": \"2020-04-11\", \"region\": \"Antofagasta\", \"casos\": 117, \"codigo region\": 2}, {\"date\": \"2020-04-11\", \"region\": \"Atacama\", \"casos\": 13, \"codigo region\": 3}, {\"date\": \"2020-04-11\", \"region\": \"Coquimbo\", \"casos\": 64, \"codigo region\": 4}, {\"date\": \"2020-04-11\", \"region\": \"Valpara\\u00edso\", \"casos\": 248, \"codigo region\": 5}, {\"date\": \"2020-04-11\", \"region\": \"Metropolitana\", \"casos\": 3448, \"codigo region\": 6}, {\"date\": \"2020-04-11\", \"region\": \"O\\u2019Higgins\", \"casos\": 45, \"codigo region\": 7}, {\"date\": \"2020-04-11\", \"region\": \"Maule\", \"casos\": 134, \"codigo region\": 8}, {\"date\": \"2020-04-11\", \"region\": \"\\u00d1uble\", \"casos\": 606, \"codigo region\": 9}, {\"date\": \"2020-04-11\", \"region\": \"Biob\\u00edo\", \"casos\": 490, \"codigo region\": 10}, {\"date\": \"2020-04-11\", \"region\": \"Araucan\\u00eda\", \"casos\": 739, \"codigo region\": 11}, {\"date\": \"2020-04-11\", \"region\": \"Los R\\u00edos\", \"casos\": 130, \"codigo region\": 12}, {\"date\": \"2020-04-11\", \"region\": \"Los Lagos\", \"casos\": 364, \"codigo region\": 13}, {\"date\": \"2020-04-11\", \"region\": \"Ays\\u00e9n\", \"casos\": 7, \"codigo region\": 14}, {\"date\": \"2020-04-11\", \"region\": \"Magallanes\", \"casos\": 377, \"codigo region\": 15}, {\"date\": \"2020-04-12\", \"region\": \"Arica y Parinacota\", \"casos\": 115, \"codigo region\": 0}, {\"date\": \"2020-04-12\", \"region\": \"Tarapac\\u00e1\", \"casos\": 46, \"codigo region\": 1}, {\"date\": \"2020-04-12\", \"region\": \"Antofagasta\", \"casos\": 138, \"codigo region\": 2}, {\"date\": \"2020-04-12\", \"region\": \"Atacama\", \"casos\": 13, \"codigo region\": 3}, {\"date\": \"2020-04-12\", \"region\": \"Coquimbo\", \"casos\": 66, \"codigo region\": 4}, {\"date\": \"2020-04-12\", \"region\": \"Valpara\\u00edso\", \"casos\": 254, \"codigo region\": 5}, {\"date\": \"2020-04-12\", \"region\": \"Metropolitana\", \"casos\": 3599, \"codigo region\": 6}, {\"date\": \"2020-04-12\", \"region\": \"O\\u2019Higgins\", \"casos\": 46, \"codigo region\": 7}, {\"date\": \"2020-04-12\", \"region\": \"Maule\", \"casos\": 138, \"codigo region\": 8}, {\"date\": \"2020-04-12\", \"region\": \"\\u00d1uble\", \"casos\": 613, \"codigo region\": 9}, {\"date\": \"2020-04-12\", \"region\": \"Biob\\u00edo\", \"casos\": 500, \"codigo region\": 10}, {\"date\": \"2020-04-12\", \"region\": \"Araucan\\u00eda\", \"casos\": 775, \"codigo region\": 11}, {\"date\": \"2020-04-12\", \"region\": \"Los R\\u00edos\", \"casos\": 135, \"codigo region\": 12}, {\"date\": \"2020-04-12\", \"region\": \"Los Lagos\", \"casos\": 372, \"codigo region\": 13}, {\"date\": \"2020-04-12\", \"region\": \"Ays\\u00e9n\", \"casos\": 7, \"codigo region\": 14}, {\"date\": \"2020-04-12\", \"region\": \"Magallanes\", \"casos\": 396, \"codigo region\": 15}, {\"date\": \"2020-04-13\", \"region\": \"Arica y Parinacota\", \"casos\": 115, \"codigo region\": 0}, {\"date\": \"2020-04-13\", \"region\": \"Tarapac\\u00e1\", \"casos\": 52, \"codigo region\": 1}, {\"date\": \"2020-04-13\", \"region\": \"Antofagasta\", \"casos\": 149, \"codigo region\": 2}, {\"date\": \"2020-04-13\", \"region\": \"Atacama\", \"casos\": 13, \"codigo region\": 3}, {\"date\": \"2020-04-13\", \"region\": \"Coquimbo\", \"casos\": 66, \"codigo region\": 4}, {\"date\": \"2020-04-13\", \"region\": \"Valpara\\u00edso\", \"casos\": 273, \"codigo region\": 5}, {\"date\": \"2020-04-13\", \"region\": \"Metropolitana\", \"casos\": 3803, \"codigo region\": 6}, {\"date\": \"2020-04-13\", \"region\": \"O\\u2019Higgins\", \"casos\": 48, \"codigo region\": 7}, {\"date\": \"2020-04-13\", \"region\": \"Maule\", \"casos\": 141, \"codigo region\": 8}, {\"date\": \"2020-04-13\", \"region\": \"\\u00d1uble\", \"casos\": 618, \"codigo region\": 9}, {\"date\": \"2020-04-13\", \"region\": \"Biob\\u00edo\", \"casos\": 512, \"codigo region\": 10}, {\"date\": \"2020-04-13\", \"region\": \"Araucan\\u00eda\", \"casos\": 795, \"codigo region\": 11}, {\"date\": \"2020-04-13\", \"region\": \"Los R\\u00edos\", \"casos\": 138, \"codigo region\": 12}, {\"date\": \"2020-04-13\", \"region\": \"Los Lagos\", \"casos\": 380, \"codigo region\": 13}, {\"date\": \"2020-04-13\", \"region\": \"Ays\\u00e9n\", \"casos\": 7, \"codigo region\": 14}, {\"date\": \"2020-04-13\", \"region\": \"Magallanes\", \"casos\": 415, \"codigo region\": 15}, {\"date\": \"2020-04-14\", \"region\": \"Arica y Parinacota\", \"casos\": 120, \"codigo region\": 0}, {\"date\": \"2020-04-14\", \"region\": \"Tarapac\\u00e1\", \"casos\": 62, \"codigo region\": 1}, {\"date\": \"2020-04-14\", \"region\": \"Antofagasta\", \"casos\": 155, \"codigo region\": 2}, {\"date\": \"2020-04-14\", \"region\": \"Atacama\", \"casos\": 13, \"codigo region\": 3}, {\"date\": \"2020-04-14\", \"region\": \"Coquimbo\", \"casos\": 66, \"codigo region\": 4}, {\"date\": \"2020-04-14\", \"region\": \"Valpara\\u00edso\", \"casos\": 285, \"codigo region\": 5}, {\"date\": \"2020-04-14\", \"region\": \"Metropolitana\", \"casos\": 4086, \"codigo region\": 6}, {\"date\": \"2020-04-14\", \"region\": \"O\\u2019Higgins\", \"casos\": 53, \"codigo region\": 7}, {\"date\": \"2020-04-14\", \"region\": \"Maule\", \"casos\": 142, \"codigo region\": 8}, {\"date\": \"2020-04-14\", \"region\": \"\\u00d1uble\", \"casos\": 622, \"codigo region\": 9}, {\"date\": \"2020-04-14\", \"region\": \"Biob\\u00edo\", \"casos\": 528, \"codigo region\": 10}, {\"date\": \"2020-04-14\", \"region\": \"Araucan\\u00eda\", \"casos\": 816, \"codigo region\": 11}, {\"date\": \"2020-04-14\", \"region\": \"Los R\\u00edos\", \"casos\": 148, \"codigo region\": 12}, {\"date\": \"2020-04-14\", \"region\": \"Los Lagos\", \"casos\": 385, \"codigo region\": 13}, {\"date\": \"2020-04-14\", \"region\": \"Ays\\u00e9n\", \"casos\": 7, \"codigo region\": 14}, {\"date\": \"2020-04-14\", \"region\": \"Magallanes\", \"casos\": 429, \"codigo region\": 15}, {\"date\": \"2020-04-15\", \"region\": \"Arica y Parinacota\", \"casos\": 124, \"codigo region\": 0}, {\"date\": \"2020-04-15\", \"region\": \"Tarapac\\u00e1\", \"casos\": 62, \"codigo region\": 1}, {\"date\": \"2020-04-15\", \"region\": \"Antofagasta\", \"casos\": 176, \"codigo region\": 2}, {\"date\": \"2020-04-15\", \"region\": \"Atacama\", \"casos\": 13, \"codigo region\": 3}, {\"date\": \"2020-04-15\", \"region\": \"Coquimbo\", \"casos\": 66, \"codigo region\": 4}, {\"date\": \"2020-04-15\", \"region\": \"Valpara\\u00edso\", \"casos\": 299, \"codigo region\": 5}, {\"date\": \"2020-04-15\", \"region\": \"Metropolitana\", \"casos\": 4334, \"codigo region\": 6}, {\"date\": \"2020-04-15\", \"region\": \"O\\u2019Higgins\", \"casos\": 54, \"codigo region\": 7}, {\"date\": \"2020-04-15\", \"region\": \"Maule\", \"casos\": 152, \"codigo region\": 8}, {\"date\": \"2020-04-15\", \"region\": \"\\u00d1uble\", \"casos\": 634, \"codigo region\": 9}, {\"date\": \"2020-04-15\", \"region\": \"Biob\\u00edo\", \"casos\": 542, \"codigo region\": 10}, {\"date\": \"2020-04-15\", \"region\": \"Araucan\\u00eda\", \"casos\": 826, \"codigo region\": 11}, {\"date\": \"2020-04-15\", \"region\": \"Los R\\u00edos\", \"casos\": 150, \"codigo region\": 12}, {\"date\": \"2020-04-15\", \"region\": \"Los Lagos\", \"casos\": 390, \"codigo region\": 13}, {\"date\": \"2020-04-15\", \"region\": \"Ays\\u00e9n\", \"casos\": 7, \"codigo region\": 14}, {\"date\": \"2020-04-15\", \"region\": \"Magallanes\", \"casos\": 444, \"codigo region\": 15}, {\"date\": \"2020-04-16\", \"region\": \"Arica y Parinacota\", \"casos\": 129, \"codigo region\": 0}, {\"date\": \"2020-04-16\", \"region\": \"Tarapac\\u00e1\", \"casos\": 66, \"codigo region\": 1}, {\"date\": \"2020-04-16\", \"region\": \"Antofagasta\", \"casos\": 192, \"codigo region\": 2}, {\"date\": \"2020-04-16\", \"region\": \"Atacama\", \"casos\": 13, \"codigo region\": 3}, {\"date\": \"2020-04-16\", \"region\": \"Coquimbo\", \"casos\": 68, \"codigo region\": 4}, {\"date\": \"2020-04-16\", \"region\": \"Valpara\\u00edso\", \"casos\": 330, \"codigo region\": 5}, {\"date\": \"2020-04-16\", \"region\": \"Metropolitana\", \"casos\": 4682, \"codigo region\": 6}, {\"date\": \"2020-04-16\", \"region\": \"O\\u2019Higgins\", \"casos\": 54, \"codigo region\": 7}, {\"date\": \"2020-04-16\", \"region\": \"Maule\", \"casos\": 167, \"codigo region\": 8}, {\"date\": \"2020-04-16\", \"region\": \"\\u00d1uble\", \"casos\": 639, \"codigo region\": 9}, {\"date\": \"2020-04-16\", \"region\": \"Biob\\u00edo\", \"casos\": 559, \"codigo region\": 10}, {\"date\": \"2020-04-16\", \"region\": \"Araucan\\u00eda\", \"casos\": 882, \"codigo region\": 11}, {\"date\": \"2020-04-16\", \"region\": \"Los R\\u00edos\", \"casos\": 153, \"codigo region\": 12}, {\"date\": \"2020-04-16\", \"region\": \"Los Lagos\", \"casos\": 399, \"codigo region\": 13}, {\"date\": \"2020-04-16\", \"region\": \"Ays\\u00e9n\", \"casos\": 7, \"codigo region\": 14}, {\"date\": \"2020-04-16\", \"region\": \"Magallanes\", \"casos\": 467, \"codigo region\": 15}, {\"date\": \"2020-04-17\", \"region\": \"Arica y Parinacota\", \"casos\": 134, \"codigo region\": 0}, {\"date\": \"2020-04-17\", \"region\": \"Tarapac\\u00e1\", \"casos\": 73, \"codigo region\": 1}, {\"date\": \"2020-04-17\", \"region\": \"Antofagasta\", \"casos\": 211, \"codigo region\": 2}, {\"date\": \"2020-04-17\", \"region\": \"Atacama\", \"casos\": 13, \"codigo region\": 3}, {\"date\": \"2020-04-17\", \"region\": \"Coquimbo\", \"casos\": 68, \"codigo region\": 4}, {\"date\": \"2020-04-17\", \"region\": \"Valpara\\u00edso\", \"casos\": 345, \"codigo region\": 5}, {\"date\": \"2020-04-17\", \"region\": \"Metropolitana\", \"casos\": 4915, \"codigo region\": 6}, {\"date\": \"2020-04-17\", \"region\": \"O\\u2019Higgins\", \"casos\": 55, \"codigo region\": 7}, {\"date\": \"2020-04-17\", \"region\": \"Maule\", \"casos\": 223, \"codigo region\": 8}, {\"date\": \"2020-04-17\", \"region\": \"\\u00d1uble\", \"casos\": 656, \"codigo region\": 9}, {\"date\": \"2020-04-17\", \"region\": \"Biob\\u00edo\", \"casos\": 578, \"codigo region\": 10}, {\"date\": \"2020-04-17\", \"region\": \"Araucan\\u00eda\", \"casos\": 907, \"codigo region\": 11}, {\"date\": \"2020-04-17\", \"region\": \"Los R\\u00edos\", \"casos\": 154, \"codigo region\": 12}, {\"date\": \"2020-04-17\", \"region\": \"Los Lagos\", \"casos\": 412, \"codigo region\": 13}, {\"date\": \"2020-04-17\", \"region\": \"Ays\\u00e9n\", \"casos\": 7, \"codigo region\": 14}, {\"date\": \"2020-04-17\", \"region\": \"Magallanes\", \"casos\": 501, \"codigo region\": 15}, {\"date\": \"2020-04-18\", \"region\": \"Arica y Parinacota\", \"casos\": 142, \"codigo region\": 0}, {\"date\": \"2020-04-18\", \"region\": \"Tarapac\\u00e1\", \"casos\": 81, \"codigo region\": 1}, {\"date\": \"2020-04-18\", \"region\": \"Antofagasta\", \"casos\": 226, \"codigo region\": 2}, {\"date\": \"2020-04-18\", \"region\": \"Atacama\", \"casos\": 13, \"codigo region\": 3}, {\"date\": \"2020-04-18\", \"region\": \"Coquimbo\", \"casos\": 68, \"codigo region\": 4}, {\"date\": \"2020-04-18\", \"region\": \"Valpara\\u00edso\", \"casos\": 359, \"codigo region\": 5}, {\"date\": \"2020-04-18\", \"region\": \"Metropolitana\", \"casos\": 5192, \"codigo region\": 6}, {\"date\": \"2020-04-18\", \"region\": \"O\\u2019Higgins\", \"casos\": 55, \"codigo region\": 7}, {\"date\": \"2020-04-18\", \"region\": \"Maule\", \"casos\": 276, \"codigo region\": 8}, {\"date\": \"2020-04-18\", \"region\": \"\\u00d1uble\", \"casos\": 667, \"codigo region\": 9}, {\"date\": \"2020-04-18\", \"region\": \"Biob\\u00edo\", \"casos\": 606, \"codigo region\": 10}, {\"date\": \"2020-04-18\", \"region\": \"Araucan\\u00eda\", \"casos\": 944, \"codigo region\": 11}, {\"date\": \"2020-04-18\", \"region\": \"Los R\\u00edos\", \"casos\": 156, \"codigo region\": 12}, {\"date\": \"2020-04-18\", \"region\": \"Los Lagos\", \"casos\": 416, \"codigo region\": 13}, {\"date\": \"2020-04-18\", \"region\": \"Ays\\u00e9n\", \"casos\": 7, \"codigo region\": 14}, {\"date\": \"2020-04-18\", \"region\": \"Magallanes\", \"casos\": 522, \"codigo region\": 15}, {\"date\": \"2020-04-19\", \"region\": \"Arica y Parinacota\", \"casos\": 145, \"codigo region\": 0}, {\"date\": \"2020-04-19\", \"region\": \"Tarapac\\u00e1\", \"casos\": 90, \"codigo region\": 1}, {\"date\": \"2020-04-19\", \"region\": \"Antofagasta\", \"casos\": 249, \"codigo region\": 2}, {\"date\": \"2020-04-19\", \"region\": \"Atacama\", \"casos\": 13, \"codigo region\": 3}, {\"date\": \"2020-04-19\", \"region\": \"Coquimbo\", \"casos\": 68, \"codigo region\": 4}, {\"date\": \"2020-04-19\", \"region\": \"Valpara\\u00edso\", \"casos\": 381, \"codigo region\": 5}, {\"date\": \"2020-04-19\", \"region\": \"Metropolitana\", \"casos\": 5381, \"codigo region\": 6}, {\"date\": \"2020-04-19\", \"region\": \"O\\u2019Higgins\", \"casos\": 55, \"codigo region\": 7}, {\"date\": \"2020-04-19\", \"region\": \"Maule\", \"casos\": 302, \"codigo region\": 8}, {\"date\": \"2020-04-19\", \"region\": \"\\u00d1uble\", \"casos\": 678, \"codigo region\": 9}, {\"date\": \"2020-04-19\", \"region\": \"Biob\\u00edo\", \"casos\": 616, \"codigo region\": 10}, {\"date\": \"2020-04-19\", \"region\": \"Araucan\\u00eda\", \"casos\": 972, \"codigo region\": 11}, {\"date\": \"2020-04-19\", \"region\": \"Los R\\u00edos\", \"casos\": 157, \"codigo region\": 12}, {\"date\": \"2020-04-19\", \"region\": \"Los Lagos\", \"casos\": 421, \"codigo region\": 13}, {\"date\": \"2020-04-19\", \"region\": \"Ays\\u00e9n\", \"casos\": 7, \"codigo region\": 14}, {\"date\": \"2020-04-19\", \"region\": \"Magallanes\", \"casos\": 553, \"codigo region\": 15}, {\"date\": \"2020-04-20\", \"region\": \"Arica y Parinacota\", \"casos\": 161, \"codigo region\": 0}, {\"date\": \"2020-04-20\", \"region\": \"Tarapac\\u00e1\", \"casos\": 93, \"codigo region\": 1}, {\"date\": \"2020-04-20\", \"region\": \"Antofagasta\", \"casos\": 263, \"codigo region\": 2}, {\"date\": \"2020-04-20\", \"region\": \"Atacama\", \"casos\": 13, \"codigo region\": 3}, {\"date\": \"2020-04-20\", \"region\": \"Coquimbo\", \"casos\": 69, \"codigo region\": 4}, {\"date\": \"2020-04-20\", \"region\": \"Valpara\\u00edso\", \"casos\": 388, \"codigo region\": 5}, {\"date\": \"2020-04-20\", \"region\": \"Metropolitana\", \"casos\": 5643, \"codigo region\": 6}, {\"date\": \"2020-04-20\", \"region\": \"O\\u2019Higgins\", \"casos\": 56, \"codigo region\": 7}, {\"date\": \"2020-04-20\", \"region\": \"Maule\", \"casos\": 304, \"codigo region\": 8}, {\"date\": \"2020-04-20\", \"region\": \"\\u00d1uble\", \"casos\": 687, \"codigo region\": 9}, {\"date\": \"2020-04-20\", \"region\": \"Biob\\u00edo\", \"casos\": 626, \"codigo region\": 10}, {\"date\": \"2020-04-20\", \"region\": \"Araucan\\u00eda\", \"casos\": 1045, \"codigo region\": 11}, {\"date\": \"2020-04-20\", \"region\": \"Los R\\u00edos\", \"casos\": 162, \"codigo region\": 12}, {\"date\": \"2020-04-20\", \"region\": \"Los Lagos\", \"casos\": 424, \"codigo region\": 13}, {\"date\": \"2020-04-20\", \"region\": \"Ays\\u00e9n\", \"casos\": 7, \"codigo region\": 14}, {\"date\": \"2020-04-20\", \"region\": \"Magallanes\", \"casos\": 566, \"codigo region\": 15}, {\"date\": \"2020-04-21\", \"region\": \"Arica y Parinacota\", \"casos\": 170, \"codigo region\": 0}, {\"date\": \"2020-04-21\", \"region\": \"Tarapac\\u00e1\", \"casos\": 104, \"codigo region\": 1}, {\"date\": \"2020-04-21\", \"region\": \"Antofagasta\", \"casos\": 291, \"codigo region\": 2}, {\"date\": \"2020-04-21\", \"region\": \"Atacama\", \"casos\": 13, \"codigo region\": 3}, {\"date\": \"2020-04-21\", \"region\": \"Coquimbo\", \"casos\": 69, \"codigo region\": 4}, {\"date\": \"2020-04-21\", \"region\": \"Valpara\\u00edso\", \"casos\": 403, \"codigo region\": 5}, {\"date\": \"2020-04-21\", \"region\": \"Metropolitana\", \"casos\": 5788, \"codigo region\": 6}, {\"date\": \"2020-04-21\", \"region\": \"O\\u2019Higgins\", \"casos\": 57, \"codigo region\": 7}, {\"date\": \"2020-04-21\", \"region\": \"Maule\", \"casos\": 316, \"codigo region\": 8}, {\"date\": \"2020-04-21\", \"region\": \"\\u00d1uble\", \"casos\": 694, \"codigo region\": 9}, {\"date\": \"2020-04-21\", \"region\": \"Biob\\u00edo\", \"casos\": 636, \"codigo region\": 10}, {\"date\": \"2020-04-21\", \"region\": \"Araucan\\u00eda\", \"casos\": 1092, \"codigo region\": 11}, {\"date\": \"2020-04-21\", \"region\": \"Los R\\u00edos\", \"casos\": 167, \"codigo region\": 12}, {\"date\": \"2020-04-21\", \"region\": \"Los Lagos\", \"casos\": 432, \"codigo region\": 13}, {\"date\": \"2020-04-21\", \"region\": \"Ays\\u00e9n\", \"casos\": 7, \"codigo region\": 14}, {\"date\": \"2020-04-21\", \"region\": \"Magallanes\", \"casos\": 593, \"codigo region\": 15}, {\"date\": \"2020-04-22\", \"region\": \"Arica y Parinacota\", \"casos\": 180, \"codigo region\": 0}, {\"date\": \"2020-04-22\", \"region\": \"Tarapac\\u00e1\", \"casos\": 114, \"codigo region\": 1}, {\"date\": \"2020-04-22\", \"region\": \"Antofagasta\", \"casos\": 326, \"codigo region\": 2}, {\"date\": \"2020-04-22\", \"region\": \"Atacama\", \"casos\": 13, \"codigo region\": 3}, {\"date\": \"2020-04-22\", \"region\": \"Coquimbo\", \"casos\": 70, \"codigo region\": 4}, {\"date\": \"2020-04-22\", \"region\": \"Valpara\\u00edso\", \"casos\": 421, \"codigo region\": 5}, {\"date\": \"2020-04-22\", \"region\": \"Metropolitana\", \"casos\": 6083, \"codigo region\": 6}, {\"date\": \"2020-04-22\", \"region\": \"O\\u2019Higgins\", \"casos\": 59, \"codigo region\": 7}, {\"date\": \"2020-04-22\", \"region\": \"Maule\", \"casos\": 328, \"codigo region\": 8}, {\"date\": \"2020-04-22\", \"region\": \"\\u00d1uble\", \"casos\": 703, \"codigo region\": 9}, {\"date\": \"2020-04-22\", \"region\": \"Biob\\u00edo\", \"casos\": 658, \"codigo region\": 10}, {\"date\": \"2020-04-22\", \"region\": \"Araucan\\u00eda\", \"casos\": 1113, \"codigo region\": 11}, {\"date\": \"2020-04-22\", \"region\": \"Los R\\u00edos\", \"casos\": 171, \"codigo region\": 12}, {\"date\": \"2020-04-22\", \"region\": \"Los Lagos\", \"casos\": 445, \"codigo region\": 13}, {\"date\": \"2020-04-22\", \"region\": \"Ays\\u00e9n\", \"casos\": 7, \"codigo region\": 14}, {\"date\": \"2020-04-22\", \"region\": \"Magallanes\", \"casos\": 605, \"codigo region\": 15}, {\"date\": \"2020-04-23\", \"region\": \"Arica y Parinacota\", \"casos\": 210, \"codigo region\": 0}, {\"date\": \"2020-04-23\", \"region\": \"Tarapac\\u00e1\", \"casos\": 128, \"codigo region\": 1}, {\"date\": \"2020-04-23\", \"region\": \"Antofagasta\", \"casos\": 340, \"codigo region\": 2}, {\"date\": \"2020-04-23\", \"region\": \"Atacama\", \"casos\": 18, \"codigo region\": 3}, {\"date\": \"2020-04-23\", \"region\": \"Coquimbo\", \"casos\": 70, \"codigo region\": 4}, {\"date\": \"2020-04-23\", \"region\": \"Valpara\\u00edso\", \"casos\": 429, \"codigo region\": 5}, {\"date\": \"2020-04-23\", \"region\": \"Metropolitana\", \"casos\": 6434, \"codigo region\": 6}, {\"date\": \"2020-04-23\", \"region\": \"O\\u2019Higgins\", \"casos\": 76, \"codigo region\": 7}, {\"date\": \"2020-04-23\", \"region\": \"Maule\", \"casos\": 333, \"codigo region\": 8}, {\"date\": \"2020-04-23\", \"region\": \"\\u00d1uble\", \"casos\": 708, \"codigo region\": 9}, {\"date\": \"2020-04-23\", \"region\": \"Biob\\u00edo\", \"casos\": 675, \"codigo region\": 10}, {\"date\": \"2020-04-23\", \"region\": \"Araucan\\u00eda\", \"casos\": 1142, \"codigo region\": 11}, {\"date\": \"2020-04-23\", \"region\": \"Los R\\u00edos\", \"casos\": 173, \"codigo region\": 12}, {\"date\": \"2020-04-23\", \"region\": \"Los Lagos\", \"casos\": 454, \"codigo region\": 13}, {\"date\": \"2020-04-23\", \"region\": \"Ays\\u00e9n\", \"casos\": 7, \"codigo region\": 14}, {\"date\": \"2020-04-23\", \"region\": \"Magallanes\", \"casos\": 615, \"codigo region\": 15}, {\"date\": \"2020-04-24\", \"region\": \"Arica y Parinacota\", \"casos\": 239, \"codigo region\": 0}, {\"date\": \"2020-04-24\", \"region\": \"Tarapac\\u00e1\", \"casos\": 134, \"codigo region\": 1}, {\"date\": \"2020-04-24\", \"region\": \"Antofagasta\", \"casos\": 366, \"codigo region\": 2}, {\"date\": \"2020-04-24\", \"region\": \"Atacama\", \"casos\": 21, \"codigo region\": 3}, {\"date\": \"2020-04-24\", \"region\": \"Coquimbo\", \"casos\": 72, \"codigo region\": 4}, {\"date\": \"2020-04-24\", \"region\": \"Valpara\\u00edso\", \"casos\": 436, \"codigo region\": 5}, {\"date\": \"2020-04-24\", \"region\": \"Metropolitana\", \"casos\": 6761, \"codigo region\": 6}, {\"date\": \"2020-04-24\", \"region\": \"O\\u2019Higgins\", \"casos\": 81, \"codigo region\": 7}, {\"date\": \"2020-04-24\", \"region\": \"Maule\", \"casos\": 349, \"codigo region\": 8}, {\"date\": \"2020-04-24\", \"region\": \"\\u00d1uble\", \"casos\": 715, \"codigo region\": 9}, {\"date\": \"2020-04-24\", \"region\": \"Biob\\u00edo\", \"casos\": 683, \"codigo region\": 10}, {\"date\": \"2020-04-24\", \"region\": \"Araucan\\u00eda\", \"casos\": 1184, \"codigo region\": 11}, {\"date\": \"2020-04-24\", \"region\": \"Los R\\u00edos\", \"casos\": 174, \"codigo region\": 12}, {\"date\": \"2020-04-24\", \"region\": \"Los Lagos\", \"casos\": 460, \"codigo region\": 13}, {\"date\": \"2020-04-24\", \"region\": \"Ays\\u00e9n\", \"casos\": 7, \"codigo region\": 14}, {\"date\": \"2020-04-24\", \"region\": \"Magallanes\", \"casos\": 624, \"codigo region\": 15}, {\"date\": \"2020-04-25\", \"region\": \"Arica y Parinacota\", \"casos\": 245, \"codigo region\": 0}, {\"date\": \"2020-04-25\", \"region\": \"Tarapac\\u00e1\", \"casos\": 143, \"codigo region\": 1}, {\"date\": \"2020-04-25\", \"region\": \"Antofagasta\", \"casos\": 391, \"codigo region\": 2}, {\"date\": \"2020-04-25\", \"region\": \"Atacama\", \"casos\": 24, \"codigo region\": 3}, {\"date\": \"2020-04-25\", \"region\": \"Coquimbo\", \"casos\": 73, \"codigo region\": 4}, {\"date\": \"2020-04-25\", \"region\": \"Valpara\\u00edso\", \"casos\": 454, \"codigo region\": 5}, {\"date\": \"2020-04-25\", \"region\": \"Metropolitana\", \"casos\": 7165, \"codigo region\": 6}, {\"date\": \"2020-04-25\", \"region\": \"O\\u2019Higgins\", \"casos\": 85, \"codigo region\": 7}, {\"date\": \"2020-04-25\", \"region\": \"Maule\", \"casos\": 350, \"codigo region\": 8}, {\"date\": \"2020-04-25\", \"region\": \"\\u00d1uble\", \"casos\": 725, \"codigo region\": 9}, {\"date\": \"2020-04-25\", \"region\": \"Biob\\u00edo\", \"casos\": 696, \"codigo region\": 10}, {\"date\": \"2020-04-25\", \"region\": \"Araucan\\u00eda\", \"casos\": 1203, \"codigo region\": 11}, {\"date\": \"2020-04-25\", \"region\": \"Los R\\u00edos\", \"casos\": 177, \"codigo region\": 12}, {\"date\": \"2020-04-25\", \"region\": \"Los Lagos\", \"casos\": 465, \"codigo region\": 13}, {\"date\": \"2020-04-25\", \"region\": \"Ays\\u00e9n\", \"casos\": 7, \"codigo region\": 14}, {\"date\": \"2020-04-25\", \"region\": \"Magallanes\", \"casos\": 655, \"codigo region\": 15}, {\"date\": \"2020-04-26\", \"region\": \"Arica y Parinacota\", \"casos\": 252, \"codigo region\": 0}, {\"date\": \"2020-04-26\", \"region\": \"Tarapac\\u00e1\", \"casos\": 156, \"codigo region\": 1}, {\"date\": \"2020-04-26\", \"region\": \"Antofagasta\", \"casos\": 443, \"codigo region\": 2}, {\"date\": \"2020-04-26\", \"region\": \"Atacama\", \"casos\": 29, \"codigo region\": 3}, {\"date\": \"2020-04-26\", \"region\": \"Coquimbo\", \"casos\": 73, \"codigo region\": 4}, {\"date\": \"2020-04-26\", \"region\": \"Valpara\\u00edso\", \"casos\": 460, \"codigo region\": 5}, {\"date\": \"2020-04-26\", \"region\": \"Metropolitana\", \"casos\": 7496, \"codigo region\": 6}, {\"date\": \"2020-04-26\", \"region\": \"O\\u2019Higgins\", \"casos\": 92, \"codigo region\": 7}, {\"date\": \"2020-04-26\", \"region\": \"Maule\", \"casos\": 354, \"codigo region\": 8}, {\"date\": \"2020-04-26\", \"region\": \"\\u00d1uble\", \"casos\": 731, \"codigo region\": 9}, {\"date\": \"2020-04-26\", \"region\": \"Biob\\u00edo\", \"casos\": 703, \"codigo region\": 10}, {\"date\": \"2020-04-26\", \"region\": \"Araucan\\u00eda\", \"casos\": 1216, \"codigo region\": 11}, {\"date\": \"2020-04-26\", \"region\": \"Los R\\u00edos\", \"casos\": 178, \"codigo region\": 12}, {\"date\": \"2020-04-26\", \"region\": \"Los Lagos\", \"casos\": 473, \"codigo region\": 13}, {\"date\": \"2020-04-26\", \"region\": \"Ays\\u00e9n\", \"casos\": 7, \"codigo region\": 14}, {\"date\": \"2020-04-26\", \"region\": \"Magallanes\", \"casos\": 668, \"codigo region\": 15}, {\"date\": \"2020-04-27\", \"region\": \"Arica y Parinacota\", \"casos\": 265, \"codigo region\": 0}, {\"date\": \"2020-04-27\", \"region\": \"Tarapac\\u00e1\", \"casos\": 164, \"codigo region\": 1}, {\"date\": \"2020-04-27\", \"region\": \"Antofagasta\", \"casos\": 457, \"codigo region\": 2}, {\"date\": \"2020-04-27\", \"region\": \"Atacama\", \"casos\": 35, \"codigo region\": 3}, {\"date\": \"2020-04-27\", \"region\": \"Coquimbo\", \"casos\": 74, \"codigo region\": 4}, {\"date\": \"2020-04-27\", \"region\": \"Valpara\\u00edso\", \"casos\": 485, \"codigo region\": 5}, {\"date\": \"2020-04-27\", \"region\": \"Metropolitana\", \"casos\": 7858, \"codigo region\": 6}, {\"date\": \"2020-04-27\", \"region\": \"O\\u2019Higgins\", \"casos\": 94, \"codigo region\": 7}, {\"date\": \"2020-04-27\", \"region\": \"Maule\", \"casos\": 363, \"codigo region\": 8}, {\"date\": \"2020-04-27\", \"region\": \"\\u00d1uble\", \"casos\": 741, \"codigo region\": 9}, {\"date\": \"2020-04-27\", \"region\": \"Biob\\u00edo\", \"casos\": 706, \"codigo region\": 10}, {\"date\": \"2020-04-27\", \"region\": \"Araucan\\u00eda\", \"casos\": 1236, \"codigo region\": 11}, {\"date\": \"2020-04-27\", \"region\": \"Los R\\u00edos\", \"casos\": 180, \"codigo region\": 12}, {\"date\": \"2020-04-27\", \"region\": \"Los Lagos\", \"casos\": 477, \"codigo region\": 13}, {\"date\": \"2020-04-27\", \"region\": \"Ays\\u00e9n\", \"casos\": 7, \"codigo region\": 14}, {\"date\": \"2020-04-27\", \"region\": \"Magallanes\", \"casos\": 671, \"codigo region\": 15}]}}, {\"mode\": \"vega-lite\"});\n",
       "</script>"
      ],
      "text/plain": [
       "alt.HConcatChart(...)"
      ]
     },
     "execution_count": 23,
     "metadata": {},
     "output_type": "execute_result"
    }
   ],
   "source": [
    "#hide_input\n",
    "input_dropdown = alt.binding_select(options=data['region'].unique())\n",
    "selection1 = alt.selection_single(fields=['region'], bind=input_dropdown, name=' ')\n",
    "selection2 = alt.selection_multi(fields=['region'], on='mouseover')\n",
    "color = alt.condition(selection1 | selection2,\n",
    "                    alt.Color('region:N', scale=alt.Scale(scheme='tableau20'), legend=None),\n",
    "                    alt.value('lightgray'))\n",
    "\n",
    "chart = alt.Chart(data).mark_bar().encode(\n",
    "    x=alt.X('date:O', axis=alt.Axis(title='Date')),\n",
    "    y=alt.Y('casos', axis=alt.Axis(title='Confirmed cases')),\n",
    "    color=color,\n",
    "    tooltip=['date', 'region', 'casos'],\n",
    "    order=alt.Order(\n",
    "    # Sort the segments of the bars by this field\n",
    "    'codigo region',\n",
    "    sort='descending'\n",
    "    )\n",
    ").properties(\n",
    "    title='COVID-19 in Chile: Total confirmed cases by región'\n",
    ").add_selection(\n",
    "    selection1, selection2\n",
    ").transform_filter(\n",
    "    selection1\n",
    ")\n",
    "\n",
    "legend = alt.Chart(data).mark_point().encode(\n",
    "    y=alt.Y('region:N', axis=alt.Axis(orient='right'), sort=regiones),\n",
    "    color=color\n",
    ").add_selection(\n",
    "    selection1, selection2\n",
    ")\n",
    "\n",
    "chart.properties(width=600, height=400) | legend"
   ]
  },
  {
   "cell_type": "markdown",
   "metadata": {
    "papermill": {
     "duration": 0.081805,
     "end_time": "2020-04-28T06:16:18.264930",
     "exception": false,
     "start_time": "2020-04-28T06:16:18.183125",
     "status": "completed"
    },
    "tags": []
   },
   "source": [
    "# Evolution of total confirmed deaths by region"
   ]
  },
  {
   "cell_type": "code",
   "execution_count": 24,
   "metadata": {
    "execution": {
     "iopub.execute_input": "2020-04-28T06:16:18.434503Z",
     "iopub.status.busy": "2020-04-28T06:16:18.433463Z",
     "iopub.status.idle": "2020-04-28T06:16:18.533286Z",
     "shell.execute_reply": "2020-04-28T06:16:18.532563Z"
    },
    "papermill": {
     "duration": 0.187898,
     "end_time": "2020-04-28T06:16:18.533470",
     "exception": false,
     "start_time": "2020-04-28T06:16:18.345572",
     "status": "completed"
    },
    "tags": []
   },
   "outputs": [],
   "source": [
    "#hide\n",
    "data = pd.DataFrame()\n",
    "data_raw = pd.read_csv(\n",
    "    \"https://raw.githubusercontent.com/MinCiencia/Datos-COVID19/master/output/producto4/2020-03-24-CasosConfirmados-totalRegional.csv\",\n",
    "    index_col='Region')\n",
    "data['2020-03-24'] = data_raw['Fallecidos']"
   ]
  },
  {
   "cell_type": "code",
   "execution_count": 25,
   "metadata": {
    "execution": {
     "iopub.execute_input": "2020-04-28T06:16:18.708009Z",
     "iopub.status.busy": "2020-04-28T06:16:18.707390Z",
     "iopub.status.idle": "2020-04-28T06:16:18.709581Z",
     "shell.execute_reply": "2020-04-28T06:16:18.709085Z"
    },
    "papermill": {
     "duration": 0.090274,
     "end_time": "2020-04-28T06:16:18.709693",
     "exception": false,
     "start_time": "2020-04-28T06:16:18.619419",
     "status": "completed"
    },
    "tags": []
   },
   "outputs": [],
   "source": [
    "#hide\n",
    "first_death_date = '2020-03-24'\n",
    "total_days = (pd.to_datetime(today)-pd.to_datetime(first_death_date)).days"
   ]
  },
  {
   "cell_type": "code",
   "execution_count": 26,
   "metadata": {
    "execution": {
     "iopub.execute_input": "2020-04-28T06:16:18.876414Z",
     "iopub.status.busy": "2020-04-28T06:16:18.875771Z",
     "iopub.status.idle": "2020-04-28T06:16:22.412084Z",
     "shell.execute_reply": "2020-04-28T06:16:22.412644Z"
    },
    "papermill": {
     "duration": 3.622869,
     "end_time": "2020-04-28T06:16:22.412802",
     "exception": false,
     "start_time": "2020-04-28T06:16:18.789933",
     "status": "completed"
    },
    "tags": []
   },
   "outputs": [],
   "source": [
    "#hide\n",
    "for i in np.arange(total_days+1):\n",
    "  date = (pd.to_datetime(first_death_date)+pd.DateOffset(i)).strftime('%Y-%m-%d')\n",
    "  s = \"https://raw.githubusercontent.com/MinCiencia/Datos-COVID19/master/output/producto4/\" + date + \"-CasosConfirmados-totalRegional.csv\"\n",
    "  data_by_date = pd.read_csv(s)\n",
    "  if 'Fallecidos' in data_by_date.columns:\n",
    "    data[date] = data_by_date[\"Fallecidos\"].values\n",
    "  elif 'Casos fallecidos' in data_by_date.columns:\n",
    "    data[date] = data_by_date[\"Casos fallecidos\"].values\n",
    "  else:\n",
    "    data[date] = data_by_date[\" Casos fallecidos\"].values"
   ]
  },
  {
   "cell_type": "code",
   "execution_count": 27,
   "metadata": {
    "execution": {
     "iopub.execute_input": "2020-04-28T06:16:22.582342Z",
     "iopub.status.busy": "2020-04-28T06:16:22.580914Z",
     "iopub.status.idle": "2020-04-28T06:16:22.585818Z",
     "shell.execute_reply": "2020-04-28T06:16:22.586284Z"
    },
    "papermill": {
     "duration": 0.091479,
     "end_time": "2020-04-28T06:16:22.586409",
     "exception": false,
     "start_time": "2020-04-28T06:16:22.494930",
     "status": "completed"
    },
    "tags": []
   },
   "outputs": [],
   "source": [
    "#hide\n",
    "data = data.drop(\"Total\")"
   ]
  },
  {
   "cell_type": "code",
   "execution_count": 28,
   "metadata": {
    "execution": {
     "iopub.execute_input": "2020-04-28T06:16:22.761801Z",
     "iopub.status.busy": "2020-04-28T06:16:22.761108Z",
     "iopub.status.idle": "2020-04-28T06:16:23.075974Z",
     "shell.execute_reply": "2020-04-28T06:16:23.075458Z"
    },
    "papermill": {
     "duration": 0.406285,
     "end_time": "2020-04-28T06:16:23.076095",
     "exception": false,
     "start_time": "2020-04-28T06:16:22.669810",
     "status": "completed"
    },
    "tags": []
   },
   "outputs": [],
   "source": [
    "#hide\n",
    "new_data = pd.DataFrame()\n",
    "i = 0\n",
    "for date in data.keys():\n",
    "    for n, region in enumerate(data.index):\n",
    "        new_data[i] = date, region, data[date].loc[region], n\n",
    "        i += 1"
   ]
  },
  {
   "cell_type": "code",
   "execution_count": 29,
   "metadata": {
    "execution": {
     "iopub.execute_input": "2020-04-28T06:16:23.248194Z",
     "iopub.status.busy": "2020-04-28T06:16:23.247581Z",
     "iopub.status.idle": "2020-04-28T06:16:23.249822Z",
     "shell.execute_reply": "2020-04-28T06:16:23.249327Z"
    },
    "papermill": {
     "duration": 0.091646,
     "end_time": "2020-04-28T06:16:23.250020",
     "exception": false,
     "start_time": "2020-04-28T06:16:23.158374",
     "status": "completed"
    },
    "tags": []
   },
   "outputs": [],
   "source": [
    "#hide\n",
    "data = data.reset_index()\n",
    "regiones = data['Region'].values\n",
    "new_data = new_data.T\n",
    "new_data = new_data.rename(columns={0: \"date\", 1: \"region\", 2: \"fallecidos\", 3: \"codigo region\"})"
   ]
  },
  {
   "cell_type": "code",
   "execution_count": 30,
   "metadata": {
    "execution": {
     "iopub.execute_input": "2020-04-28T06:16:23.418296Z",
     "iopub.status.busy": "2020-04-28T06:16:23.416970Z",
     "iopub.status.idle": "2020-04-28T06:16:23.418941Z",
     "shell.execute_reply": "2020-04-28T06:16:23.419401Z"
    },
    "papermill": {
     "duration": 0.088009,
     "end_time": "2020-04-28T06:16:23.419527",
     "exception": false,
     "start_time": "2020-04-28T06:16:23.331518",
     "status": "completed"
    },
    "tags": []
   },
   "outputs": [],
   "source": [
    "#hide\n",
    "new_data[\"fallecidos\"] = new_data[\"fallecidos\"].astype(int)"
   ]
  },
  {
   "cell_type": "code",
   "execution_count": 31,
   "metadata": {
    "execution": {
     "iopub.execute_input": "2020-04-28T06:16:23.589789Z",
     "iopub.status.busy": "2020-04-28T06:16:23.589181Z",
     "iopub.status.idle": "2020-04-28T06:16:23.669808Z",
     "shell.execute_reply": "2020-04-28T06:16:23.670275Z"
    },
    "papermill": {
     "duration": 0.170078,
     "end_time": "2020-04-28T06:16:23.670411",
     "exception": false,
     "start_time": "2020-04-28T06:16:23.500333",
     "status": "completed"
    },
    "tags": []
   },
   "outputs": [
    {
     "data": {
      "text/html": [
       "\n",
       "<div id=\"altair-viz-93bf84a8b3ad462a8a1c7a55d39c603b\"></div>\n",
       "<script type=\"text/javascript\">\n",
       "  (function(spec, embedOpt){\n",
       "    let outputDiv = document.currentScript.previousElementSibling;\n",
       "    if (outputDiv.id !== \"altair-viz-93bf84a8b3ad462a8a1c7a55d39c603b\") {\n",
       "      outputDiv = document.getElementById(\"altair-viz-93bf84a8b3ad462a8a1c7a55d39c603b\");\n",
       "    }\n",
       "    const paths = {\n",
       "      \"vega\": \"https://cdn.jsdelivr.net/npm//vega@5?noext\",\n",
       "      \"vega-lib\": \"https://cdn.jsdelivr.net/npm//vega-lib?noext\",\n",
       "      \"vega-lite\": \"https://cdn.jsdelivr.net/npm//vega-lite@4.8.1?noext\",\n",
       "      \"vega-embed\": \"https://cdn.jsdelivr.net/npm//vega-embed@6?noext\",\n",
       "    };\n",
       "\n",
       "    function loadScript(lib) {\n",
       "      return new Promise(function(resolve, reject) {\n",
       "        var s = document.createElement('script');\n",
       "        s.src = paths[lib];\n",
       "        s.async = true;\n",
       "        s.onload = () => resolve(paths[lib]);\n",
       "        s.onerror = () => reject(`Error loading script: ${paths[lib]}`);\n",
       "        document.getElementsByTagName(\"head\")[0].appendChild(s);\n",
       "      });\n",
       "    }\n",
       "\n",
       "    function showError(err) {\n",
       "      outputDiv.innerHTML = `<div class=\"error\" style=\"color:red;\">${err}</div>`;\n",
       "      throw err;\n",
       "    }\n",
       "\n",
       "    function displayChart(vegaEmbed) {\n",
       "      vegaEmbed(outputDiv, spec, embedOpt)\n",
       "        .catch(err => showError(`Javascript Error: ${err.message}<br>This usually means there's a typo in your chart specification. See the javascript console for the full traceback.`));\n",
       "    }\n",
       "\n",
       "    if(typeof define === \"function\" && define.amd) {\n",
       "      requirejs.config({paths});\n",
       "      require([\"vega-embed\"], displayChart, err => showError(`Error loading script: ${err.message}`));\n",
       "    } else if (typeof vegaEmbed === \"function\") {\n",
       "      displayChart(vegaEmbed);\n",
       "    } else {\n",
       "      loadScript(\"vega\")\n",
       "        .then(() => loadScript(\"vega-lite\"))\n",
       "        .then(() => loadScript(\"vega-embed\"))\n",
       "        .catch(showError)\n",
       "        .then(() => displayChart(vegaEmbed));\n",
       "    }\n",
       "  })({\"config\": {\"view\": {\"continuousWidth\": 400, \"continuousHeight\": 300}}, \"hconcat\": [{\"mark\": \"bar\", \"encoding\": {\"color\": {\"condition\": {\"type\": \"nominal\", \"field\": \"region\", \"legend\": null, \"scale\": {\"scheme\": \"tableau20\"}, \"selection\": {\"or\": [\" \", \"selector002\"]}}, \"value\": \"lightgray\"}, \"order\": {\"type\": \"quantitative\", \"field\": \"codigo region\", \"sort\": \"descending\"}, \"tooltip\": [{\"type\": \"nominal\", \"field\": \"date\"}, {\"type\": \"nominal\", \"field\": \"region\"}, {\"type\": \"quantitative\", \"field\": \"fallecidos\"}], \"x\": {\"type\": \"ordinal\", \"axis\": {\"title\": \"Date\"}, \"field\": \"date\"}, \"y\": {\"type\": \"quantitative\", \"axis\": {\"title\": \"Confirmed deaths\"}, \"field\": \"fallecidos\"}}, \"height\": 400, \"selection\": {\" \": {\"type\": \"single\", \"fields\": [\"region\"], \"bind\": {\"input\": \"select\", \"options\": [\"Arica y Parinacota\", \"Tarapac\\u00e1\", \"Antofagasta\", \"Atacama\", \"Coquimbo\", \"Valpara\\u00edso\", \"Metropolitana\", \"O\\u2019Higgins\", \"Maule\", \"\\u00d1uble\", \"Biob\\u00edo\", \"Araucan\\u00eda\", \"Los R\\u00edos\", \"Los Lagos\", \"Ays\\u00e9n\", \"Magallanes\"]}}, \"selector002\": {\"type\": \"multi\", \"fields\": [\"region\"], \"on\": \"mouseover\"}}, \"title\": \"COVID-19 in Chile: Total confirmed deaths by region\", \"transform\": [{\"filter\": {\"selection\": \" \"}}], \"width\": 600}, {\"mark\": \"point\", \"encoding\": {\"color\": {\"condition\": {\"type\": \"nominal\", \"field\": \"region\", \"legend\": null, \"scale\": {\"scheme\": \"tableau20\"}, \"selection\": {\"or\": [\" \", \"selector002\"]}}, \"value\": \"lightgray\"}, \"y\": {\"type\": \"nominal\", \"axis\": {\"orient\": \"right\"}, \"field\": \"region\", \"sort\": [\"Arica y Parinacota\", \"Tarapac\\u00e1\", \"Antofagasta\", \"Atacama\", \"Coquimbo\", \"Valpara\\u00edso\", \"Metropolitana\", \"O\\u2019Higgins\", \"Maule\", \"\\u00d1uble\", \"Biob\\u00edo\", \"Araucan\\u00eda\", \"Los R\\u00edos\", \"Los Lagos\", \"Ays\\u00e9n\", \"Magallanes\"]}}, \"selection\": {\" \": {\"type\": \"single\", \"fields\": [\"region\"], \"bind\": {\"input\": \"select\", \"options\": [\"Arica y Parinacota\", \"Tarapac\\u00e1\", \"Antofagasta\", \"Atacama\", \"Coquimbo\", \"Valpara\\u00edso\", \"Metropolitana\", \"O\\u2019Higgins\", \"Maule\", \"\\u00d1uble\", \"Biob\\u00edo\", \"Araucan\\u00eda\", \"Los R\\u00edos\", \"Los Lagos\", \"Ays\\u00e9n\", \"Magallanes\"]}}, \"selector002\": {\"type\": \"multi\", \"fields\": [\"region\"], \"on\": \"mouseover\"}}}], \"data\": {\"name\": \"data-82e630d691888498cfe2166e6e77d3ff\"}, \"$schema\": \"https://vega.github.io/schema/vega-lite/v4.8.1.json\", \"datasets\": {\"data-82e630d691888498cfe2166e6e77d3ff\": [{\"date\": \"2020-03-24\", \"region\": \"Arica y Parinacota\", \"fallecidos\": 0, \"codigo region\": 0}, {\"date\": \"2020-03-24\", \"region\": \"Tarapac\\u00e1\", \"fallecidos\": 0, \"codigo region\": 1}, {\"date\": \"2020-03-24\", \"region\": \"Antofagasta\", \"fallecidos\": 0, \"codigo region\": 2}, {\"date\": \"2020-03-24\", \"region\": \"Atacama\", \"fallecidos\": 0, \"codigo region\": 3}, {\"date\": \"2020-03-24\", \"region\": \"Coquimbo\", \"fallecidos\": 0, \"codigo region\": 4}, {\"date\": \"2020-03-24\", \"region\": \"Valpara\\u00edso\", \"fallecidos\": 0, \"codigo region\": 5}, {\"date\": \"2020-03-24\", \"region\": \"Metropolitana\", \"fallecidos\": 2, \"codigo region\": 6}, {\"date\": \"2020-03-24\", \"region\": \"O\\u2019Higgins\", \"fallecidos\": 0, \"codigo region\": 7}, {\"date\": \"2020-03-24\", \"region\": \"Maule\", \"fallecidos\": 0, \"codigo region\": 8}, {\"date\": \"2020-03-24\", \"region\": \"\\u00d1uble\", \"fallecidos\": 0, \"codigo region\": 9}, {\"date\": \"2020-03-24\", \"region\": \"Biob\\u00edo\", \"fallecidos\": 0, \"codigo region\": 10}, {\"date\": \"2020-03-24\", \"region\": \"Araucan\\u00eda\", \"fallecidos\": 0, \"codigo region\": 11}, {\"date\": \"2020-03-24\", \"region\": \"Los R\\u00edos\", \"fallecidos\": 0, \"codigo region\": 12}, {\"date\": \"2020-03-24\", \"region\": \"Los Lagos\", \"fallecidos\": 0, \"codigo region\": 13}, {\"date\": \"2020-03-24\", \"region\": \"Ays\\u00e9n\", \"fallecidos\": 0, \"codigo region\": 14}, {\"date\": \"2020-03-24\", \"region\": \"Magallanes\", \"fallecidos\": 0, \"codigo region\": 15}, {\"date\": \"2020-03-25\", \"region\": \"Arica y Parinacota\", \"fallecidos\": 0, \"codigo region\": 0}, {\"date\": \"2020-03-25\", \"region\": \"Tarapac\\u00e1\", \"fallecidos\": 0, \"codigo region\": 1}, {\"date\": \"2020-03-25\", \"region\": \"Antofagasta\", \"fallecidos\": 0, \"codigo region\": 2}, {\"date\": \"2020-03-25\", \"region\": \"Atacama\", \"fallecidos\": 0, \"codigo region\": 3}, {\"date\": \"2020-03-25\", \"region\": \"Coquimbo\", \"fallecidos\": 0, \"codigo region\": 4}, {\"date\": \"2020-03-25\", \"region\": \"Valpara\\u00edso\", \"fallecidos\": 0, \"codigo region\": 5}, {\"date\": \"2020-03-25\", \"region\": \"Metropolitana\", \"fallecidos\": 2, \"codigo region\": 6}, {\"date\": \"2020-03-25\", \"region\": \"O\\u2019Higgins\", \"fallecidos\": 0, \"codigo region\": 7}, {\"date\": \"2020-03-25\", \"region\": \"Maule\", \"fallecidos\": 0, \"codigo region\": 8}, {\"date\": \"2020-03-25\", \"region\": \"\\u00d1uble\", \"fallecidos\": 0, \"codigo region\": 9}, {\"date\": \"2020-03-25\", \"region\": \"Biob\\u00edo\", \"fallecidos\": 1, \"codigo region\": 10}, {\"date\": \"2020-03-25\", \"region\": \"Araucan\\u00eda\", \"fallecidos\": 0, \"codigo region\": 11}, {\"date\": \"2020-03-25\", \"region\": \"Los R\\u00edos\", \"fallecidos\": 0, \"codigo region\": 12}, {\"date\": \"2020-03-25\", \"region\": \"Los Lagos\", \"fallecidos\": 0, \"codigo region\": 13}, {\"date\": \"2020-03-25\", \"region\": \"Ays\\u00e9n\", \"fallecidos\": 0, \"codigo region\": 14}, {\"date\": \"2020-03-25\", \"region\": \"Magallanes\", \"fallecidos\": 0, \"codigo region\": 15}, {\"date\": \"2020-03-26\", \"region\": \"Arica y Parinacota\", \"fallecidos\": 0, \"codigo region\": 0}, {\"date\": \"2020-03-26\", \"region\": \"Tarapac\\u00e1\", \"fallecidos\": 0, \"codigo region\": 1}, {\"date\": \"2020-03-26\", \"region\": \"Antofagasta\", \"fallecidos\": 0, \"codigo region\": 2}, {\"date\": \"2020-03-26\", \"region\": \"Atacama\", \"fallecidos\": 0, \"codigo region\": 3}, {\"date\": \"2020-03-26\", \"region\": \"Coquimbo\", \"fallecidos\": 0, \"codigo region\": 4}, {\"date\": \"2020-03-26\", \"region\": \"Valpara\\u00edso\", \"fallecidos\": 0, \"codigo region\": 5}, {\"date\": \"2020-03-26\", \"region\": \"Metropolitana\", \"fallecidos\": 3, \"codigo region\": 6}, {\"date\": \"2020-03-26\", \"region\": \"O\\u2019Higgins\", \"fallecidos\": 0, \"codigo region\": 7}, {\"date\": \"2020-03-26\", \"region\": \"Maule\", \"fallecidos\": 0, \"codigo region\": 8}, {\"date\": \"2020-03-26\", \"region\": \"\\u00d1uble\", \"fallecidos\": 0, \"codigo region\": 9}, {\"date\": \"2020-03-26\", \"region\": \"Biob\\u00edo\", \"fallecidos\": 1, \"codigo region\": 10}, {\"date\": \"2020-03-26\", \"region\": \"Araucan\\u00eda\", \"fallecidos\": 0, \"codigo region\": 11}, {\"date\": \"2020-03-26\", \"region\": \"Los R\\u00edos\", \"fallecidos\": 0, \"codigo region\": 12}, {\"date\": \"2020-03-26\", \"region\": \"Los Lagos\", \"fallecidos\": 0, \"codigo region\": 13}, {\"date\": \"2020-03-26\", \"region\": \"Ays\\u00e9n\", \"fallecidos\": 0, \"codigo region\": 14}, {\"date\": \"2020-03-26\", \"region\": \"Magallanes\", \"fallecidos\": 0, \"codigo region\": 15}, {\"date\": \"2020-03-27\", \"region\": \"Arica y Parinacota\", \"fallecidos\": 0, \"codigo region\": 0}, {\"date\": \"2020-03-27\", \"region\": \"Tarapac\\u00e1\", \"fallecidos\": 0, \"codigo region\": 1}, {\"date\": \"2020-03-27\", \"region\": \"Antofagasta\", \"fallecidos\": 0, \"codigo region\": 2}, {\"date\": \"2020-03-27\", \"region\": \"Atacama\", \"fallecidos\": 0, \"codigo region\": 3}, {\"date\": \"2020-03-27\", \"region\": \"Coquimbo\", \"fallecidos\": 0, \"codigo region\": 4}, {\"date\": \"2020-03-27\", \"region\": \"Valpara\\u00edso\", \"fallecidos\": 0, \"codigo region\": 5}, {\"date\": \"2020-03-27\", \"region\": \"Metropolitana\", \"fallecidos\": 3, \"codigo region\": 6}, {\"date\": \"2020-03-27\", \"region\": \"O\\u2019Higgins\", \"fallecidos\": 0, \"codigo region\": 7}, {\"date\": \"2020-03-27\", \"region\": \"Maule\", \"fallecidos\": 0, \"codigo region\": 8}, {\"date\": \"2020-03-27\", \"region\": \"\\u00d1uble\", \"fallecidos\": 0, \"codigo region\": 9}, {\"date\": \"2020-03-27\", \"region\": \"Biob\\u00edo\", \"fallecidos\": 2, \"codigo region\": 10}, {\"date\": \"2020-03-27\", \"region\": \"Araucan\\u00eda\", \"fallecidos\": 0, \"codigo region\": 11}, {\"date\": \"2020-03-27\", \"region\": \"Los R\\u00edos\", \"fallecidos\": 0, \"codigo region\": 12}, {\"date\": \"2020-03-27\", \"region\": \"Los Lagos\", \"fallecidos\": 0, \"codigo region\": 13}, {\"date\": \"2020-03-27\", \"region\": \"Ays\\u00e9n\", \"fallecidos\": 0, \"codigo region\": 14}, {\"date\": \"2020-03-27\", \"region\": \"Magallanes\", \"fallecidos\": 0, \"codigo region\": 15}, {\"date\": \"2020-03-28\", \"region\": \"Arica y Parinacota\", \"fallecidos\": 0, \"codigo region\": 0}, {\"date\": \"2020-03-28\", \"region\": \"Tarapac\\u00e1\", \"fallecidos\": 0, \"codigo region\": 1}, {\"date\": \"2020-03-28\", \"region\": \"Antofagasta\", \"fallecidos\": 0, \"codigo region\": 2}, {\"date\": \"2020-03-28\", \"region\": \"Atacama\", \"fallecidos\": 0, \"codigo region\": 3}, {\"date\": \"2020-03-28\", \"region\": \"Coquimbo\", \"fallecidos\": 0, \"codigo region\": 4}, {\"date\": \"2020-03-28\", \"region\": \"Valpara\\u00edso\", \"fallecidos\": 0, \"codigo region\": 5}, {\"date\": \"2020-03-28\", \"region\": \"Metropolitana\", \"fallecidos\": 3, \"codigo region\": 6}, {\"date\": \"2020-03-28\", \"region\": \"O\\u2019Higgins\", \"fallecidos\": 0, \"codigo region\": 7}, {\"date\": \"2020-03-28\", \"region\": \"Maule\", \"fallecidos\": 0, \"codigo region\": 8}, {\"date\": \"2020-03-28\", \"region\": \"\\u00d1uble\", \"fallecidos\": 0, \"codigo region\": 9}, {\"date\": \"2020-03-28\", \"region\": \"Biob\\u00edo\", \"fallecidos\": 2, \"codigo region\": 10}, {\"date\": \"2020-03-28\", \"region\": \"Araucan\\u00eda\", \"fallecidos\": 1, \"codigo region\": 11}, {\"date\": \"2020-03-28\", \"region\": \"Los R\\u00edos\", \"fallecidos\": 0, \"codigo region\": 12}, {\"date\": \"2020-03-28\", \"region\": \"Los Lagos\", \"fallecidos\": 0, \"codigo region\": 13}, {\"date\": \"2020-03-28\", \"region\": \"Ays\\u00e9n\", \"fallecidos\": 0, \"codigo region\": 14}, {\"date\": \"2020-03-28\", \"region\": \"Magallanes\", \"fallecidos\": 0, \"codigo region\": 15}, {\"date\": \"2020-03-29\", \"region\": \"Arica y Parinacota\", \"fallecidos\": 0, \"codigo region\": 0}, {\"date\": \"2020-03-29\", \"region\": \"Tarapac\\u00e1\", \"fallecidos\": 0, \"codigo region\": 1}, {\"date\": \"2020-03-29\", \"region\": \"Antofagasta\", \"fallecidos\": 0, \"codigo region\": 2}, {\"date\": \"2020-03-29\", \"region\": \"Atacama\", \"fallecidos\": 0, \"codigo region\": 3}, {\"date\": \"2020-03-29\", \"region\": \"Coquimbo\", \"fallecidos\": 0, \"codigo region\": 4}, {\"date\": \"2020-03-29\", \"region\": \"Valpara\\u00edso\", \"fallecidos\": 0, \"codigo region\": 5}, {\"date\": \"2020-03-29\", \"region\": \"Metropolitana\", \"fallecidos\": 3, \"codigo region\": 6}, {\"date\": \"2020-03-29\", \"region\": \"O\\u2019Higgins\", \"fallecidos\": 0, \"codigo region\": 7}, {\"date\": \"2020-03-29\", \"region\": \"Maule\", \"fallecidos\": 0, \"codigo region\": 8}, {\"date\": \"2020-03-29\", \"region\": \"\\u00d1uble\", \"fallecidos\": 0, \"codigo region\": 9}, {\"date\": \"2020-03-29\", \"region\": \"Biob\\u00edo\", \"fallecidos\": 2, \"codigo region\": 10}, {\"date\": \"2020-03-29\", \"region\": \"Araucan\\u00eda\", \"fallecidos\": 2, \"codigo region\": 11}, {\"date\": \"2020-03-29\", \"region\": \"Los R\\u00edos\", \"fallecidos\": 0, \"codigo region\": 12}, {\"date\": \"2020-03-29\", \"region\": \"Los Lagos\", \"fallecidos\": 0, \"codigo region\": 13}, {\"date\": \"2020-03-29\", \"region\": \"Ays\\u00e9n\", \"fallecidos\": 0, \"codigo region\": 14}, {\"date\": \"2020-03-29\", \"region\": \"Magallanes\", \"fallecidos\": 0, \"codigo region\": 15}, {\"date\": \"2020-03-30\", \"region\": \"Arica y Parinacota\", \"fallecidos\": 0, \"codigo region\": 0}, {\"date\": \"2020-03-30\", \"region\": \"Tarapac\\u00e1\", \"fallecidos\": 0, \"codigo region\": 1}, {\"date\": \"2020-03-30\", \"region\": \"Antofagasta\", \"fallecidos\": 0, \"codigo region\": 2}, {\"date\": \"2020-03-30\", \"region\": \"Atacama\", \"fallecidos\": 0, \"codigo region\": 3}, {\"date\": \"2020-03-30\", \"region\": \"Coquimbo\", \"fallecidos\": 0, \"codigo region\": 4}, {\"date\": \"2020-03-30\", \"region\": \"Valpara\\u00edso\", \"fallecidos\": 0, \"codigo region\": 5}, {\"date\": \"2020-03-30\", \"region\": \"Metropolitana\", \"fallecidos\": 3, \"codigo region\": 6}, {\"date\": \"2020-03-30\", \"region\": \"O\\u2019Higgins\", \"fallecidos\": 0, \"codigo region\": 7}, {\"date\": \"2020-03-30\", \"region\": \"Maule\", \"fallecidos\": 1, \"codigo region\": 8}, {\"date\": \"2020-03-30\", \"region\": \"\\u00d1uble\", \"fallecidos\": 0, \"codigo region\": 9}, {\"date\": \"2020-03-30\", \"region\": \"Biob\\u00edo\", \"fallecidos\": 2, \"codigo region\": 10}, {\"date\": \"2020-03-30\", \"region\": \"Araucan\\u00eda\", \"fallecidos\": 2, \"codigo region\": 11}, {\"date\": \"2020-03-30\", \"region\": \"Los R\\u00edos\", \"fallecidos\": 0, \"codigo region\": 12}, {\"date\": \"2020-03-30\", \"region\": \"Los Lagos\", \"fallecidos\": 0, \"codigo region\": 13}, {\"date\": \"2020-03-30\", \"region\": \"Ays\\u00e9n\", \"fallecidos\": 0, \"codigo region\": 14}, {\"date\": \"2020-03-30\", \"region\": \"Magallanes\", \"fallecidos\": 0, \"codigo region\": 15}, {\"date\": \"2020-03-31\", \"region\": \"Arica y Parinacota\", \"fallecidos\": 0, \"codigo region\": 0}, {\"date\": \"2020-03-31\", \"region\": \"Tarapac\\u00e1\", \"fallecidos\": 0, \"codigo region\": 1}, {\"date\": \"2020-03-31\", \"region\": \"Antofagasta\", \"fallecidos\": 0, \"codigo region\": 2}, {\"date\": \"2020-03-31\", \"region\": \"Atacama\", \"fallecidos\": 0, \"codigo region\": 3}, {\"date\": \"2020-03-31\", \"region\": \"Coquimbo\", \"fallecidos\": 0, \"codigo region\": 4}, {\"date\": \"2020-03-31\", \"region\": \"Valpara\\u00edso\", \"fallecidos\": 1, \"codigo region\": 5}, {\"date\": \"2020-03-31\", \"region\": \"Metropolitana\", \"fallecidos\": 4, \"codigo region\": 6}, {\"date\": \"2020-03-31\", \"region\": \"O\\u2019Higgins\", \"fallecidos\": 0, \"codigo region\": 7}, {\"date\": \"2020-03-31\", \"region\": \"Maule\", \"fallecidos\": 1, \"codigo region\": 8}, {\"date\": \"2020-03-31\", \"region\": \"\\u00d1uble\", \"fallecidos\": 0, \"codigo region\": 9}, {\"date\": \"2020-03-31\", \"region\": \"Biob\\u00edo\", \"fallecidos\": 2, \"codigo region\": 10}, {\"date\": \"2020-03-31\", \"region\": \"Araucan\\u00eda\", \"fallecidos\": 4, \"codigo region\": 11}, {\"date\": \"2020-03-31\", \"region\": \"Los R\\u00edos\", \"fallecidos\": 0, \"codigo region\": 12}, {\"date\": \"2020-03-31\", \"region\": \"Los Lagos\", \"fallecidos\": 0, \"codigo region\": 13}, {\"date\": \"2020-03-31\", \"region\": \"Ays\\u00e9n\", \"fallecidos\": 0, \"codigo region\": 14}, {\"date\": \"2020-03-31\", \"region\": \"Magallanes\", \"fallecidos\": 0, \"codigo region\": 15}, {\"date\": \"2020-04-01\", \"region\": \"Arica y Parinacota\", \"fallecidos\": 0, \"codigo region\": 0}, {\"date\": \"2020-04-01\", \"region\": \"Tarapac\\u00e1\", \"fallecidos\": 0, \"codigo region\": 1}, {\"date\": \"2020-04-01\", \"region\": \"Antofagasta\", \"fallecidos\": 0, \"codigo region\": 2}, {\"date\": \"2020-04-01\", \"region\": \"Atacama\", \"fallecidos\": 0, \"codigo region\": 3}, {\"date\": \"2020-04-01\", \"region\": \"Coquimbo\", \"fallecidos\": 0, \"codigo region\": 4}, {\"date\": \"2020-04-01\", \"region\": \"Valpara\\u00edso\", \"fallecidos\": 1, \"codigo region\": 5}, {\"date\": \"2020-04-01\", \"region\": \"Metropolitana\", \"fallecidos\": 5, \"codigo region\": 6}, {\"date\": \"2020-04-01\", \"region\": \"O\\u2019Higgins\", \"fallecidos\": 0, \"codigo region\": 7}, {\"date\": \"2020-04-01\", \"region\": \"Maule\", \"fallecidos\": 1, \"codigo region\": 8}, {\"date\": \"2020-04-01\", \"region\": \"\\u00d1uble\", \"fallecidos\": 0, \"codigo region\": 9}, {\"date\": \"2020-04-01\", \"region\": \"Biob\\u00edo\", \"fallecidos\": 2, \"codigo region\": 10}, {\"date\": \"2020-04-01\", \"region\": \"Araucan\\u00eda\", \"fallecidos\": 6, \"codigo region\": 11}, {\"date\": \"2020-04-01\", \"region\": \"Los R\\u00edos\", \"fallecidos\": 1, \"codigo region\": 12}, {\"date\": \"2020-04-01\", \"region\": \"Los Lagos\", \"fallecidos\": 0, \"codigo region\": 13}, {\"date\": \"2020-04-01\", \"region\": \"Ays\\u00e9n\", \"fallecidos\": 0, \"codigo region\": 14}, {\"date\": \"2020-04-01\", \"region\": \"Magallanes\", \"fallecidos\": 0, \"codigo region\": 15}, {\"date\": \"2020-04-02\", \"region\": \"Arica y Parinacota\", \"fallecidos\": 0, \"codigo region\": 0}, {\"date\": \"2020-04-02\", \"region\": \"Tarapac\\u00e1\", \"fallecidos\": 0, \"codigo region\": 1}, {\"date\": \"2020-04-02\", \"region\": \"Antofagasta\", \"fallecidos\": 0, \"codigo region\": 2}, {\"date\": \"2020-04-02\", \"region\": \"Atacama\", \"fallecidos\": 0, \"codigo region\": 3}, {\"date\": \"2020-04-02\", \"region\": \"Coquimbo\", \"fallecidos\": 0, \"codigo region\": 4}, {\"date\": \"2020-04-02\", \"region\": \"Valpara\\u00edso\", \"fallecidos\": 1, \"codigo region\": 5}, {\"date\": \"2020-04-02\", \"region\": \"Metropolitana\", \"fallecidos\": 6, \"codigo region\": 6}, {\"date\": \"2020-04-02\", \"region\": \"O\\u2019Higgins\", \"fallecidos\": 0, \"codigo region\": 7}, {\"date\": \"2020-04-02\", \"region\": \"Maule\", \"fallecidos\": 1, \"codigo region\": 8}, {\"date\": \"2020-04-02\", \"region\": \"\\u00d1uble\", \"fallecidos\": 0, \"codigo region\": 9}, {\"date\": \"2020-04-02\", \"region\": \"Biob\\u00edo\", \"fallecidos\": 2, \"codigo region\": 10}, {\"date\": \"2020-04-02\", \"region\": \"Araucan\\u00eda\", \"fallecidos\": 7, \"codigo region\": 11}, {\"date\": \"2020-04-02\", \"region\": \"Los R\\u00edos\", \"fallecidos\": 1, \"codigo region\": 12}, {\"date\": \"2020-04-02\", \"region\": \"Los Lagos\", \"fallecidos\": 0, \"codigo region\": 13}, {\"date\": \"2020-04-02\", \"region\": \"Ays\\u00e9n\", \"fallecidos\": 0, \"codigo region\": 14}, {\"date\": \"2020-04-02\", \"region\": \"Magallanes\", \"fallecidos\": 0, \"codigo region\": 15}, {\"date\": \"2020-04-03\", \"region\": \"Arica y Parinacota\", \"fallecidos\": 0, \"codigo region\": 0}, {\"date\": \"2020-04-03\", \"region\": \"Tarapac\\u00e1\", \"fallecidos\": 0, \"codigo region\": 1}, {\"date\": \"2020-04-03\", \"region\": \"Antofagasta\", \"fallecidos\": 0, \"codigo region\": 2}, {\"date\": \"2020-04-03\", \"region\": \"Atacama\", \"fallecidos\": 0, \"codigo region\": 3}, {\"date\": \"2020-04-03\", \"region\": \"Coquimbo\", \"fallecidos\": 0, \"codigo region\": 4}, {\"date\": \"2020-04-03\", \"region\": \"Valpara\\u00edso\", \"fallecidos\": 1, \"codigo region\": 5}, {\"date\": \"2020-04-03\", \"region\": \"Metropolitana\", \"fallecidos\": 8, \"codigo region\": 6}, {\"date\": \"2020-04-03\", \"region\": \"O\\u2019Higgins\", \"fallecidos\": 0, \"codigo region\": 7}, {\"date\": \"2020-04-03\", \"region\": \"Maule\", \"fallecidos\": 1, \"codigo region\": 8}, {\"date\": \"2020-04-03\", \"region\": \"\\u00d1uble\", \"fallecidos\": 1, \"codigo region\": 9}, {\"date\": \"2020-04-03\", \"region\": \"Biob\\u00edo\", \"fallecidos\": 2, \"codigo region\": 10}, {\"date\": \"2020-04-03\", \"region\": \"Araucan\\u00eda\", \"fallecidos\": 7, \"codigo region\": 11}, {\"date\": \"2020-04-03\", \"region\": \"Los R\\u00edos\", \"fallecidos\": 1, \"codigo region\": 12}, {\"date\": \"2020-04-03\", \"region\": \"Los Lagos\", \"fallecidos\": 0, \"codigo region\": 13}, {\"date\": \"2020-04-03\", \"region\": \"Ays\\u00e9n\", \"fallecidos\": 0, \"codigo region\": 14}, {\"date\": \"2020-04-03\", \"region\": \"Magallanes\", \"fallecidos\": 1, \"codigo region\": 15}, {\"date\": \"2020-04-04\", \"region\": \"Arica y Parinacota\", \"fallecidos\": 0, \"codigo region\": 0}, {\"date\": \"2020-04-04\", \"region\": \"Tarapac\\u00e1\", \"fallecidos\": 0, \"codigo region\": 1}, {\"date\": \"2020-04-04\", \"region\": \"Antofagasta\", \"fallecidos\": 0, \"codigo region\": 2}, {\"date\": \"2020-04-04\", \"region\": \"Atacama\", \"fallecidos\": 0, \"codigo region\": 3}, {\"date\": \"2020-04-04\", \"region\": \"Coquimbo\", \"fallecidos\": 0, \"codigo region\": 4}, {\"date\": \"2020-04-04\", \"region\": \"Valpara\\u00edso\", \"fallecidos\": 1, \"codigo region\": 5}, {\"date\": \"2020-04-04\", \"region\": \"Metropolitana\", \"fallecidos\": 9, \"codigo region\": 6}, {\"date\": \"2020-04-04\", \"region\": \"O\\u2019Higgins\", \"fallecidos\": 0, \"codigo region\": 7}, {\"date\": \"2020-04-04\", \"region\": \"Maule\", \"fallecidos\": 1, \"codigo region\": 8}, {\"date\": \"2020-04-04\", \"region\": \"\\u00d1uble\", \"fallecidos\": 2, \"codigo region\": 9}, {\"date\": \"2020-04-04\", \"region\": \"Biob\\u00edo\", \"fallecidos\": 2, \"codigo region\": 10}, {\"date\": \"2020-04-04\", \"region\": \"Araucan\\u00eda\", \"fallecidos\": 9, \"codigo region\": 11}, {\"date\": \"2020-04-04\", \"region\": \"Los R\\u00edos\", \"fallecidos\": 1, \"codigo region\": 12}, {\"date\": \"2020-04-04\", \"region\": \"Los Lagos\", \"fallecidos\": 0, \"codigo region\": 13}, {\"date\": \"2020-04-04\", \"region\": \"Ays\\u00e9n\", \"fallecidos\": 0, \"codigo region\": 14}, {\"date\": \"2020-04-04\", \"region\": \"Magallanes\", \"fallecidos\": 2, \"codigo region\": 15}, {\"date\": \"2020-04-05\", \"region\": \"Arica y Parinacota\", \"fallecidos\": 0, \"codigo region\": 0}, {\"date\": \"2020-04-05\", \"region\": \"Tarapac\\u00e1\", \"fallecidos\": 0, \"codigo region\": 1}, {\"date\": \"2020-04-05\", \"region\": \"Antofagasta\", \"fallecidos\": 0, \"codigo region\": 2}, {\"date\": \"2020-04-05\", \"region\": \"Atacama\", \"fallecidos\": 0, \"codigo region\": 3}, {\"date\": \"2020-04-05\", \"region\": \"Coquimbo\", \"fallecidos\": 0, \"codigo region\": 4}, {\"date\": \"2020-04-05\", \"region\": \"Valpara\\u00edso\", \"fallecidos\": 1, \"codigo region\": 5}, {\"date\": \"2020-04-05\", \"region\": \"Metropolitana\", \"fallecidos\": 10, \"codigo region\": 6}, {\"date\": \"2020-04-05\", \"region\": \"O\\u2019Higgins\", \"fallecidos\": 0, \"codigo region\": 7}, {\"date\": \"2020-04-05\", \"region\": \"Maule\", \"fallecidos\": 1, \"codigo region\": 8}, {\"date\": \"2020-04-05\", \"region\": \"\\u00d1uble\", \"fallecidos\": 3, \"codigo region\": 9}, {\"date\": \"2020-04-05\", \"region\": \"Biob\\u00edo\", \"fallecidos\": 2, \"codigo region\": 10}, {\"date\": \"2020-04-05\", \"region\": \"Araucan\\u00eda\", \"fallecidos\": 13, \"codigo region\": 11}, {\"date\": \"2020-04-05\", \"region\": \"Los R\\u00edos\", \"fallecidos\": 1, \"codigo region\": 12}, {\"date\": \"2020-04-05\", \"region\": \"Los Lagos\", \"fallecidos\": 1, \"codigo region\": 13}, {\"date\": \"2020-04-05\", \"region\": \"Ays\\u00e9n\", \"fallecidos\": 0, \"codigo region\": 14}, {\"date\": \"2020-04-05\", \"region\": \"Magallanes\", \"fallecidos\": 2, \"codigo region\": 15}, {\"date\": \"2020-04-06\", \"region\": \"Arica y Parinacota\", \"fallecidos\": 0, \"codigo region\": 0}, {\"date\": \"2020-04-06\", \"region\": \"Tarapac\\u00e1\", \"fallecidos\": 0, \"codigo region\": 1}, {\"date\": \"2020-04-06\", \"region\": \"Antofagasta\", \"fallecidos\": 0, \"codigo region\": 2}, {\"date\": \"2020-04-06\", \"region\": \"Atacama\", \"fallecidos\": 0, \"codigo region\": 3}, {\"date\": \"2020-04-06\", \"region\": \"Coquimbo\", \"fallecidos\": 0, \"codigo region\": 4}, {\"date\": \"2020-04-06\", \"region\": \"Valpara\\u00edso\", \"fallecidos\": 1, \"codigo region\": 5}, {\"date\": \"2020-04-06\", \"region\": \"Metropolitana\", \"fallecidos\": 10, \"codigo region\": 6}, {\"date\": \"2020-04-06\", \"region\": \"O\\u2019Higgins\", \"fallecidos\": 0, \"codigo region\": 7}, {\"date\": \"2020-04-06\", \"region\": \"Maule\", \"fallecidos\": 1, \"codigo region\": 8}, {\"date\": \"2020-04-06\", \"region\": \"\\u00d1uble\", \"fallecidos\": 4, \"codigo region\": 9}, {\"date\": \"2020-04-06\", \"region\": \"Biob\\u00edo\", \"fallecidos\": 2, \"codigo region\": 10}, {\"date\": \"2020-04-06\", \"region\": \"Araucan\\u00eda\", \"fallecidos\": 14, \"codigo region\": 11}, {\"date\": \"2020-04-06\", \"region\": \"Los R\\u00edos\", \"fallecidos\": 1, \"codigo region\": 12}, {\"date\": \"2020-04-06\", \"region\": \"Los Lagos\", \"fallecidos\": 2, \"codigo region\": 13}, {\"date\": \"2020-04-06\", \"region\": \"Ays\\u00e9n\", \"fallecidos\": 0, \"codigo region\": 14}, {\"date\": \"2020-04-06\", \"region\": \"Magallanes\", \"fallecidos\": 2, \"codigo region\": 15}, {\"date\": \"2020-04-07\", \"region\": \"Arica y Parinacota\", \"fallecidos\": 0, \"codigo region\": 0}, {\"date\": \"2020-04-07\", \"region\": \"Tarapac\\u00e1\", \"fallecidos\": 0, \"codigo region\": 1}, {\"date\": \"2020-04-07\", \"region\": \"Antofagasta\", \"fallecidos\": 1, \"codigo region\": 2}, {\"date\": \"2020-04-07\", \"region\": \"Atacama\", \"fallecidos\": 0, \"codigo region\": 3}, {\"date\": \"2020-04-07\", \"region\": \"Coquimbo\", \"fallecidos\": 0, \"codigo region\": 4}, {\"date\": \"2020-04-07\", \"region\": \"Valpara\\u00edso\", \"fallecidos\": 1, \"codigo region\": 5}, {\"date\": \"2020-04-07\", \"region\": \"Metropolitana\", \"fallecidos\": 12, \"codigo region\": 6}, {\"date\": \"2020-04-07\", \"region\": \"O\\u2019Higgins\", \"fallecidos\": 0, \"codigo region\": 7}, {\"date\": \"2020-04-07\", \"region\": \"Maule\", \"fallecidos\": 2, \"codigo region\": 8}, {\"date\": \"2020-04-07\", \"region\": \"\\u00d1uble\", \"fallecidos\": 5, \"codigo region\": 9}, {\"date\": \"2020-04-07\", \"region\": \"Biob\\u00edo\", \"fallecidos\": 2, \"codigo region\": 10}, {\"date\": \"2020-04-07\", \"region\": \"Araucan\\u00eda\", \"fallecidos\": 14, \"codigo region\": 11}, {\"date\": \"2020-04-07\", \"region\": \"Los R\\u00edos\", \"fallecidos\": 2, \"codigo region\": 12}, {\"date\": \"2020-04-07\", \"region\": \"Los Lagos\", \"fallecidos\": 2, \"codigo region\": 13}, {\"date\": \"2020-04-07\", \"region\": \"Ays\\u00e9n\", \"fallecidos\": 0, \"codigo region\": 14}, {\"date\": \"2020-04-07\", \"region\": \"Magallanes\", \"fallecidos\": 2, \"codigo region\": 15}, {\"date\": \"2020-04-08\", \"region\": \"Arica y Parinacota\", \"fallecidos\": 0, \"codigo region\": 0}, {\"date\": \"2020-04-08\", \"region\": \"Tarapac\\u00e1\", \"fallecidos\": 0, \"codigo region\": 1}, {\"date\": \"2020-04-08\", \"region\": \"Antofagasta\", \"fallecidos\": 1, \"codigo region\": 2}, {\"date\": \"2020-04-08\", \"region\": \"Atacama\", \"fallecidos\": 0, \"codigo region\": 3}, {\"date\": \"2020-04-08\", \"region\": \"Coquimbo\", \"fallecidos\": 0, \"codigo region\": 4}, {\"date\": \"2020-04-08\", \"region\": \"Valpara\\u00edso\", \"fallecidos\": 2, \"codigo region\": 5}, {\"date\": \"2020-04-08\", \"region\": \"Metropolitana\", \"fallecidos\": 14, \"codigo region\": 6}, {\"date\": \"2020-04-08\", \"region\": \"O\\u2019Higgins\", \"fallecidos\": 0, \"codigo region\": 7}, {\"date\": \"2020-04-08\", \"region\": \"Maule\", \"fallecidos\": 2, \"codigo region\": 8}, {\"date\": \"2020-04-08\", \"region\": \"\\u00d1uble\", \"fallecidos\": 5, \"codigo region\": 9}, {\"date\": \"2020-04-08\", \"region\": \"Biob\\u00edo\", \"fallecidos\": 2, \"codigo region\": 10}, {\"date\": \"2020-04-08\", \"region\": \"Araucan\\u00eda\", \"fallecidos\": 15, \"codigo region\": 11}, {\"date\": \"2020-04-08\", \"region\": \"Los R\\u00edos\", \"fallecidos\": 2, \"codigo region\": 12}, {\"date\": \"2020-04-08\", \"region\": \"Los Lagos\", \"fallecidos\": 2, \"codigo region\": 13}, {\"date\": \"2020-04-08\", \"region\": \"Ays\\u00e9n\", \"fallecidos\": 0, \"codigo region\": 14}, {\"date\": \"2020-04-08\", \"region\": \"Magallanes\", \"fallecidos\": 3, \"codigo region\": 15}, {\"date\": \"2020-04-09\", \"region\": \"Arica y Parinacota\", \"fallecidos\": 0, \"codigo region\": 0}, {\"date\": \"2020-04-09\", \"region\": \"Tarapac\\u00e1\", \"fallecidos\": 0, \"codigo region\": 1}, {\"date\": \"2020-04-09\", \"region\": \"Antofagasta\", \"fallecidos\": 1, \"codigo region\": 2}, {\"date\": \"2020-04-09\", \"region\": \"Atacama\", \"fallecidos\": 0, \"codigo region\": 3}, {\"date\": \"2020-04-09\", \"region\": \"Coquimbo\", \"fallecidos\": 0, \"codigo region\": 4}, {\"date\": \"2020-04-09\", \"region\": \"Valpara\\u00edso\", \"fallecidos\": 2, \"codigo region\": 5}, {\"date\": \"2020-04-09\", \"region\": \"Metropolitana\", \"fallecidos\": 21, \"codigo region\": 6}, {\"date\": \"2020-04-09\", \"region\": \"O\\u2019Higgins\", \"fallecidos\": 0, \"codigo region\": 7}, {\"date\": \"2020-04-09\", \"region\": \"Maule\", \"fallecidos\": 2, \"codigo region\": 8}, {\"date\": \"2020-04-09\", \"region\": \"\\u00d1uble\", \"fallecidos\": 6, \"codigo region\": 9}, {\"date\": \"2020-04-09\", \"region\": \"Biob\\u00edo\", \"fallecidos\": 2, \"codigo region\": 10}, {\"date\": \"2020-04-09\", \"region\": \"Araucan\\u00eda\", \"fallecidos\": 16, \"codigo region\": 11}, {\"date\": \"2020-04-09\", \"region\": \"Los R\\u00edos\", \"fallecidos\": 2, \"codigo region\": 12}, {\"date\": \"2020-04-09\", \"region\": \"Los Lagos\", \"fallecidos\": 2, \"codigo region\": 13}, {\"date\": \"2020-04-09\", \"region\": \"Ays\\u00e9n\", \"fallecidos\": 0, \"codigo region\": 14}, {\"date\": \"2020-04-09\", \"region\": \"Magallanes\", \"fallecidos\": 3, \"codigo region\": 15}, {\"date\": \"2020-04-10\", \"region\": \"Arica y Parinacota\", \"fallecidos\": 0, \"codigo region\": 0}, {\"date\": \"2020-04-10\", \"region\": \"Tarapac\\u00e1\", \"fallecidos\": 0, \"codigo region\": 1}, {\"date\": \"2020-04-10\", \"region\": \"Antofagasta\", \"fallecidos\": 1, \"codigo region\": 2}, {\"date\": \"2020-04-10\", \"region\": \"Atacama\", \"fallecidos\": 0, \"codigo region\": 3}, {\"date\": \"2020-04-10\", \"region\": \"Coquimbo\", \"fallecidos\": 0, \"codigo region\": 4}, {\"date\": \"2020-04-10\", \"region\": \"Valpara\\u00edso\", \"fallecidos\": 2, \"codigo region\": 5}, {\"date\": \"2020-04-10\", \"region\": \"Metropolitana\", \"fallecidos\": 29, \"codigo region\": 6}, {\"date\": \"2020-04-10\", \"region\": \"O\\u2019Higgins\", \"fallecidos\": 0, \"codigo region\": 7}, {\"date\": \"2020-04-10\", \"region\": \"Maule\", \"fallecidos\": 2, \"codigo region\": 8}, {\"date\": \"2020-04-10\", \"region\": \"\\u00d1uble\", \"fallecidos\": 6, \"codigo region\": 9}, {\"date\": \"2020-04-10\", \"region\": \"Biob\\u00edo\", \"fallecidos\": 2, \"codigo region\": 10}, {\"date\": \"2020-04-10\", \"region\": \"Araucan\\u00eda\", \"fallecidos\": 16, \"codigo region\": 11}, {\"date\": \"2020-04-10\", \"region\": \"Los R\\u00edos\", \"fallecidos\": 2, \"codigo region\": 12}, {\"date\": \"2020-04-10\", \"region\": \"Los Lagos\", \"fallecidos\": 2, \"codigo region\": 13}, {\"date\": \"2020-04-10\", \"region\": \"Ays\\u00e9n\", \"fallecidos\": 0, \"codigo region\": 14}, {\"date\": \"2020-04-10\", \"region\": \"Magallanes\", \"fallecidos\": 3, \"codigo region\": 15}, {\"date\": \"2020-04-11\", \"region\": \"Arica y Parinacota\", \"fallecidos\": 0, \"codigo region\": 0}, {\"date\": \"2020-04-11\", \"region\": \"Tarapac\\u00e1\", \"fallecidos\": 0, \"codigo region\": 1}, {\"date\": \"2020-04-11\", \"region\": \"Antofagasta\", \"fallecidos\": 1, \"codigo region\": 2}, {\"date\": \"2020-04-11\", \"region\": \"Atacama\", \"fallecidos\": 0, \"codigo region\": 3}, {\"date\": \"2020-04-11\", \"region\": \"Coquimbo\", \"fallecidos\": 0, \"codigo region\": 4}, {\"date\": \"2020-04-11\", \"region\": \"Valpara\\u00edso\", \"fallecidos\": 2, \"codigo region\": 5}, {\"date\": \"2020-04-11\", \"region\": \"Metropolitana\", \"fallecidos\": 32, \"codigo region\": 6}, {\"date\": \"2020-04-11\", \"region\": \"O\\u2019Higgins\", \"fallecidos\": 0, \"codigo region\": 7}, {\"date\": \"2020-04-11\", \"region\": \"Maule\", \"fallecidos\": 3, \"codigo region\": 8}, {\"date\": \"2020-04-11\", \"region\": \"\\u00d1uble\", \"fallecidos\": 6, \"codigo region\": 9}, {\"date\": \"2020-04-11\", \"region\": \"Biob\\u00edo\", \"fallecidos\": 2, \"codigo region\": 10}, {\"date\": \"2020-04-11\", \"region\": \"Araucan\\u00eda\", \"fallecidos\": 17, \"codigo region\": 11}, {\"date\": \"2020-04-11\", \"region\": \"Los R\\u00edos\", \"fallecidos\": 2, \"codigo region\": 12}, {\"date\": \"2020-04-11\", \"region\": \"Los Lagos\", \"fallecidos\": 5, \"codigo region\": 13}, {\"date\": \"2020-04-11\", \"region\": \"Ays\\u00e9n\", \"fallecidos\": 0, \"codigo region\": 14}, {\"date\": \"2020-04-11\", \"region\": \"Magallanes\", \"fallecidos\": 3, \"codigo region\": 15}, {\"date\": \"2020-04-12\", \"region\": \"Arica y Parinacota\", \"fallecidos\": 1, \"codigo region\": 0}, {\"date\": \"2020-04-12\", \"region\": \"Tarapac\\u00e1\", \"fallecidos\": 0, \"codigo region\": 1}, {\"date\": \"2020-04-12\", \"region\": \"Antofagasta\", \"fallecidos\": 1, \"codigo region\": 2}, {\"date\": \"2020-04-12\", \"region\": \"Atacama\", \"fallecidos\": 0, \"codigo region\": 3}, {\"date\": \"2020-04-12\", \"region\": \"Coquimbo\", \"fallecidos\": 0, \"codigo region\": 4}, {\"date\": \"2020-04-12\", \"region\": \"Valpara\\u00edso\", \"fallecidos\": 2, \"codigo region\": 5}, {\"date\": \"2020-04-12\", \"region\": \"Metropolitana\", \"fallecidos\": 35, \"codigo region\": 6}, {\"date\": \"2020-04-12\", \"region\": \"O\\u2019Higgins\", \"fallecidos\": 0, \"codigo region\": 7}, {\"date\": \"2020-04-12\", \"region\": \"Maule\", \"fallecidos\": 3, \"codigo region\": 8}, {\"date\": \"2020-04-12\", \"region\": \"\\u00d1uble\", \"fallecidos\": 7, \"codigo region\": 9}, {\"date\": \"2020-04-12\", \"region\": \"Biob\\u00edo\", \"fallecidos\": 2, \"codigo region\": 10}, {\"date\": \"2020-04-12\", \"region\": \"Araucan\\u00eda\", \"fallecidos\": 17, \"codigo region\": 11}, {\"date\": \"2020-04-12\", \"region\": \"Los R\\u00edos\", \"fallecidos\": 3, \"codigo region\": 12}, {\"date\": \"2020-04-12\", \"region\": \"Los Lagos\", \"fallecidos\": 5, \"codigo region\": 13}, {\"date\": \"2020-04-12\", \"region\": \"Ays\\u00e9n\", \"fallecidos\": 0, \"codigo region\": 14}, {\"date\": \"2020-04-12\", \"region\": \"Magallanes\", \"fallecidos\": 4, \"codigo region\": 15}, {\"date\": \"2020-04-13\", \"region\": \"Arica y Parinacota\", \"fallecidos\": 1, \"codigo region\": 0}, {\"date\": \"2020-04-13\", \"region\": \"Tarapac\\u00e1\", \"fallecidos\": 0, \"codigo region\": 1}, {\"date\": \"2020-04-13\", \"region\": \"Antofagasta\", \"fallecidos\": 1, \"codigo region\": 2}, {\"date\": \"2020-04-13\", \"region\": \"Atacama\", \"fallecidos\": 0, \"codigo region\": 3}, {\"date\": \"2020-04-13\", \"region\": \"Coquimbo\", \"fallecidos\": 0, \"codigo region\": 4}, {\"date\": \"2020-04-13\", \"region\": \"Valpara\\u00edso\", \"fallecidos\": 2, \"codigo region\": 5}, {\"date\": \"2020-04-13\", \"region\": \"Metropolitana\", \"fallecidos\": 36, \"codigo region\": 6}, {\"date\": \"2020-04-13\", \"region\": \"O\\u2019Higgins\", \"fallecidos\": 0, \"codigo region\": 7}, {\"date\": \"2020-04-13\", \"region\": \"Maule\", \"fallecidos\": 3, \"codigo region\": 8}, {\"date\": \"2020-04-13\", \"region\": \"\\u00d1uble\", \"fallecidos\": 7, \"codigo region\": 9}, {\"date\": \"2020-04-13\", \"region\": \"Biob\\u00edo\", \"fallecidos\": 2, \"codigo region\": 10}, {\"date\": \"2020-04-13\", \"region\": \"Araucan\\u00eda\", \"fallecidos\": 17, \"codigo region\": 11}, {\"date\": \"2020-04-13\", \"region\": \"Los R\\u00edos\", \"fallecidos\": 3, \"codigo region\": 12}, {\"date\": \"2020-04-13\", \"region\": \"Los Lagos\", \"fallecidos\": 5, \"codigo region\": 13}, {\"date\": \"2020-04-13\", \"region\": \"Ays\\u00e9n\", \"fallecidos\": 0, \"codigo region\": 14}, {\"date\": \"2020-04-13\", \"region\": \"Magallanes\", \"fallecidos\": 5, \"codigo region\": 15}, {\"date\": \"2020-04-14\", \"region\": \"Arica y Parinacota\", \"fallecidos\": 1, \"codigo region\": 0}, {\"date\": \"2020-04-14\", \"region\": \"Tarapac\\u00e1\", \"fallecidos\": 0, \"codigo region\": 1}, {\"date\": \"2020-04-14\", \"region\": \"Antofagasta\", \"fallecidos\": 1, \"codigo region\": 2}, {\"date\": \"2020-04-14\", \"region\": \"Atacama\", \"fallecidos\": 0, \"codigo region\": 3}, {\"date\": \"2020-04-14\", \"region\": \"Coquimbo\", \"fallecidos\": 0, \"codigo region\": 4}, {\"date\": \"2020-04-14\", \"region\": \"Valpara\\u00edso\", \"fallecidos\": 2, \"codigo region\": 5}, {\"date\": \"2020-04-14\", \"region\": \"Metropolitana\", \"fallecidos\": 40, \"codigo region\": 6}, {\"date\": \"2020-04-14\", \"region\": \"O\\u2019Higgins\", \"fallecidos\": 0, \"codigo region\": 7}, {\"date\": \"2020-04-14\", \"region\": \"Maule\", \"fallecidos\": 4, \"codigo region\": 8}, {\"date\": \"2020-04-14\", \"region\": \"\\u00d1uble\", \"fallecidos\": 8, \"codigo region\": 9}, {\"date\": \"2020-04-14\", \"region\": \"Biob\\u00edo\", \"fallecidos\": 2, \"codigo region\": 10}, {\"date\": \"2020-04-14\", \"region\": \"Araucan\\u00eda\", \"fallecidos\": 20, \"codigo region\": 11}, {\"date\": \"2020-04-14\", \"region\": \"Los R\\u00edos\", \"fallecidos\": 3, \"codigo region\": 12}, {\"date\": \"2020-04-14\", \"region\": \"Los Lagos\", \"fallecidos\": 5, \"codigo region\": 13}, {\"date\": \"2020-04-14\", \"region\": \"Ays\\u00e9n\", \"fallecidos\": 0, \"codigo region\": 14}, {\"date\": \"2020-04-14\", \"region\": \"Magallanes\", \"fallecidos\": 6, \"codigo region\": 15}, {\"date\": \"2020-04-15\", \"region\": \"Arica y Parinacota\", \"fallecidos\": 1, \"codigo region\": 0}, {\"date\": \"2020-04-15\", \"region\": \"Tarapac\\u00e1\", \"fallecidos\": 0, \"codigo region\": 1}, {\"date\": \"2020-04-15\", \"region\": \"Antofagasta\", \"fallecidos\": 1, \"codigo region\": 2}, {\"date\": \"2020-04-15\", \"region\": \"Atacama\", \"fallecidos\": 0, \"codigo region\": 3}, {\"date\": \"2020-04-15\", \"region\": \"Coquimbo\", \"fallecidos\": 0, \"codigo region\": 4}, {\"date\": \"2020-04-15\", \"region\": \"Valpara\\u00edso\", \"fallecidos\": 2, \"codigo region\": 5}, {\"date\": \"2020-04-15\", \"region\": \"Metropolitana\", \"fallecidos\": 41, \"codigo region\": 6}, {\"date\": \"2020-04-15\", \"region\": \"O\\u2019Higgins\", \"fallecidos\": 0, \"codigo region\": 7}, {\"date\": \"2020-04-15\", \"region\": \"Maule\", \"fallecidos\": 4, \"codigo region\": 8}, {\"date\": \"2020-04-15\", \"region\": \"\\u00d1uble\", \"fallecidos\": 8, \"codigo region\": 9}, {\"date\": \"2020-04-15\", \"region\": \"Biob\\u00edo\", \"fallecidos\": 2, \"codigo region\": 10}, {\"date\": \"2020-04-15\", \"region\": \"Araucan\\u00eda\", \"fallecidos\": 21, \"codigo region\": 11}, {\"date\": \"2020-04-15\", \"region\": \"Los R\\u00edos\", \"fallecidos\": 3, \"codigo region\": 12}, {\"date\": \"2020-04-15\", \"region\": \"Los Lagos\", \"fallecidos\": 5, \"codigo region\": 13}, {\"date\": \"2020-04-15\", \"region\": \"Ays\\u00e9n\", \"fallecidos\": 0, \"codigo region\": 14}, {\"date\": \"2020-04-15\", \"region\": \"Magallanes\", \"fallecidos\": 6, \"codigo region\": 15}, {\"date\": \"2020-04-16\", \"region\": \"Arica y Parinacota\", \"fallecidos\": 1, \"codigo region\": 0}, {\"date\": \"2020-04-16\", \"region\": \"Tarapac\\u00e1\", \"fallecidos\": 0, \"codigo region\": 1}, {\"date\": \"2020-04-16\", \"region\": \"Antofagasta\", \"fallecidos\": 1, \"codigo region\": 2}, {\"date\": \"2020-04-16\", \"region\": \"Atacama\", \"fallecidos\": 0, \"codigo region\": 3}, {\"date\": \"2020-04-16\", \"region\": \"Coquimbo\", \"fallecidos\": 0, \"codigo region\": 4}, {\"date\": \"2020-04-16\", \"region\": \"Valpara\\u00edso\", \"fallecidos\": 4, \"codigo region\": 5}, {\"date\": \"2020-04-16\", \"region\": \"Metropolitana\", \"fallecidos\": 48, \"codigo region\": 6}, {\"date\": \"2020-04-16\", \"region\": \"O\\u2019Higgins\", \"fallecidos\": 0, \"codigo region\": 7}, {\"date\": \"2020-04-16\", \"region\": \"Maule\", \"fallecidos\": 4, \"codigo region\": 8}, {\"date\": \"2020-04-16\", \"region\": \"\\u00d1uble\", \"fallecidos\": 10, \"codigo region\": 9}, {\"date\": \"2020-04-16\", \"region\": \"Biob\\u00edo\", \"fallecidos\": 2, \"codigo region\": 10}, {\"date\": \"2020-04-16\", \"region\": \"Araucan\\u00eda\", \"fallecidos\": 21, \"codigo region\": 11}, {\"date\": \"2020-04-16\", \"region\": \"Los R\\u00edos\", \"fallecidos\": 3, \"codigo region\": 12}, {\"date\": \"2020-04-16\", \"region\": \"Los Lagos\", \"fallecidos\": 5, \"codigo region\": 13}, {\"date\": \"2020-04-16\", \"region\": \"Ays\\u00e9n\", \"fallecidos\": 0, \"codigo region\": 14}, {\"date\": \"2020-04-16\", \"region\": \"Magallanes\", \"fallecidos\": 6, \"codigo region\": 15}, {\"date\": \"2020-04-17\", \"region\": \"Arica y Parinacota\", \"fallecidos\": 2, \"codigo region\": 0}, {\"date\": \"2020-04-17\", \"region\": \"Tarapac\\u00e1\", \"fallecidos\": 0, \"codigo region\": 1}, {\"date\": \"2020-04-17\", \"region\": \"Antofagasta\", \"fallecidos\": 1, \"codigo region\": 2}, {\"date\": \"2020-04-17\", \"region\": \"Atacama\", \"fallecidos\": 0, \"codigo region\": 3}, {\"date\": \"2020-04-17\", \"region\": \"Coquimbo\", \"fallecidos\": 0, \"codigo region\": 4}, {\"date\": \"2020-04-17\", \"region\": \"Valpara\\u00edso\", \"fallecidos\": 4, \"codigo region\": 5}, {\"date\": \"2020-04-17\", \"region\": \"Metropolitana\", \"fallecidos\": 51, \"codigo region\": 6}, {\"date\": \"2020-04-17\", \"region\": \"O\\u2019Higgins\", \"fallecidos\": 0, \"codigo region\": 7}, {\"date\": \"2020-04-17\", \"region\": \"Maule\", \"fallecidos\": 7, \"codigo region\": 8}, {\"date\": \"2020-04-17\", \"region\": \"\\u00d1uble\", \"fallecidos\": 11, \"codigo region\": 9}, {\"date\": \"2020-04-17\", \"region\": \"Biob\\u00edo\", \"fallecidos\": 3, \"codigo region\": 10}, {\"date\": \"2020-04-17\", \"region\": \"Araucan\\u00eda\", \"fallecidos\": 22, \"codigo region\": 11}, {\"date\": \"2020-04-17\", \"region\": \"Los R\\u00edos\", \"fallecidos\": 3, \"codigo region\": 12}, {\"date\": \"2020-04-17\", \"region\": \"Los Lagos\", \"fallecidos\": 6, \"codigo region\": 13}, {\"date\": \"2020-04-17\", \"region\": \"Ays\\u00e9n\", \"fallecidos\": 0, \"codigo region\": 14}, {\"date\": \"2020-04-17\", \"region\": \"Magallanes\", \"fallecidos\": 6, \"codigo region\": 15}, {\"date\": \"2020-04-18\", \"region\": \"Arica y Parinacota\", \"fallecidos\": 2, \"codigo region\": 0}, {\"date\": \"2020-04-18\", \"region\": \"Tarapac\\u00e1\", \"fallecidos\": 0, \"codigo region\": 1}, {\"date\": \"2020-04-18\", \"region\": \"Antofagasta\", \"fallecidos\": 1, \"codigo region\": 2}, {\"date\": \"2020-04-18\", \"region\": \"Atacama\", \"fallecidos\": 0, \"codigo region\": 3}, {\"date\": \"2020-04-18\", \"region\": \"Coquimbo\", \"fallecidos\": 0, \"codigo region\": 4}, {\"date\": \"2020-04-18\", \"region\": \"Valpara\\u00edso\", \"fallecidos\": 4, \"codigo region\": 5}, {\"date\": \"2020-04-18\", \"region\": \"Metropolitana\", \"fallecidos\": 58, \"codigo region\": 6}, {\"date\": \"2020-04-18\", \"region\": \"O\\u2019Higgins\", \"fallecidos\": 0, \"codigo region\": 7}, {\"date\": \"2020-04-18\", \"region\": \"Maule\", \"fallecidos\": 8, \"codigo region\": 8}, {\"date\": \"2020-04-18\", \"region\": \"\\u00d1uble\", \"fallecidos\": 12, \"codigo region\": 9}, {\"date\": \"2020-04-18\", \"region\": \"Biob\\u00edo\", \"fallecidos\": 3, \"codigo region\": 10}, {\"date\": \"2020-04-18\", \"region\": \"Araucan\\u00eda\", \"fallecidos\": 23, \"codigo region\": 11}, {\"date\": \"2020-04-18\", \"region\": \"Los R\\u00edos\", \"fallecidos\": 3, \"codigo region\": 12}, {\"date\": \"2020-04-18\", \"region\": \"Los Lagos\", \"fallecidos\": 6, \"codigo region\": 13}, {\"date\": \"2020-04-18\", \"region\": \"Ays\\u00e9n\", \"fallecidos\": 0, \"codigo region\": 14}, {\"date\": \"2020-04-18\", \"region\": \"Magallanes\", \"fallecidos\": 6, \"codigo region\": 15}, {\"date\": \"2020-04-19\", \"region\": \"Arica y Parinacota\", \"fallecidos\": 2, \"codigo region\": 0}, {\"date\": \"2020-04-19\", \"region\": \"Tarapac\\u00e1\", \"fallecidos\": 0, \"codigo region\": 1}, {\"date\": \"2020-04-19\", \"region\": \"Antofagasta\", \"fallecidos\": 1, \"codigo region\": 2}, {\"date\": \"2020-04-19\", \"region\": \"Atacama\", \"fallecidos\": 0, \"codigo region\": 3}, {\"date\": \"2020-04-19\", \"region\": \"Coquimbo\", \"fallecidos\": 0, \"codigo region\": 4}, {\"date\": \"2020-04-19\", \"region\": \"Valpara\\u00edso\", \"fallecidos\": 5, \"codigo region\": 5}, {\"date\": \"2020-04-19\", \"region\": \"Metropolitana\", \"fallecidos\": 63, \"codigo region\": 6}, {\"date\": \"2020-04-19\", \"region\": \"O\\u2019Higgins\", \"fallecidos\": 0, \"codigo region\": 7}, {\"date\": \"2020-04-19\", \"region\": \"Maule\", \"fallecidos\": 8, \"codigo region\": 8}, {\"date\": \"2020-04-19\", \"region\": \"\\u00d1uble\", \"fallecidos\": 13, \"codigo region\": 9}, {\"date\": \"2020-04-19\", \"region\": \"Biob\\u00edo\", \"fallecidos\": 3, \"codigo region\": 10}, {\"date\": \"2020-04-19\", \"region\": \"Araucan\\u00eda\", \"fallecidos\": 23, \"codigo region\": 11}, {\"date\": \"2020-04-19\", \"region\": \"Los R\\u00edos\", \"fallecidos\": 3, \"codigo region\": 12}, {\"date\": \"2020-04-19\", \"region\": \"Los Lagos\", \"fallecidos\": 6, \"codigo region\": 13}, {\"date\": \"2020-04-19\", \"region\": \"Ays\\u00e9n\", \"fallecidos\": 0, \"codigo region\": 14}, {\"date\": \"2020-04-19\", \"region\": \"Magallanes\", \"fallecidos\": 6, \"codigo region\": 15}, {\"date\": \"2020-04-20\", \"region\": \"Arica y Parinacota\", \"fallecidos\": 2, \"codigo region\": 0}, {\"date\": \"2020-04-20\", \"region\": \"Tarapac\\u00e1\", \"fallecidos\": 0, \"codigo region\": 1}, {\"date\": \"2020-04-20\", \"region\": \"Antofagasta\", \"fallecidos\": 1, \"codigo region\": 2}, {\"date\": \"2020-04-20\", \"region\": \"Atacama\", \"fallecidos\": 0, \"codigo region\": 3}, {\"date\": \"2020-04-20\", \"region\": \"Coquimbo\", \"fallecidos\": 0, \"codigo region\": 4}, {\"date\": \"2020-04-20\", \"region\": \"Valpara\\u00edso\", \"fallecidos\": 5, \"codigo region\": 5}, {\"date\": \"2020-04-20\", \"region\": \"Metropolitana\", \"fallecidos\": 67, \"codigo region\": 6}, {\"date\": \"2020-04-20\", \"region\": \"O\\u2019Higgins\", \"fallecidos\": 0, \"codigo region\": 7}, {\"date\": \"2020-04-20\", \"region\": \"Maule\", \"fallecidos\": 10, \"codigo region\": 8}, {\"date\": \"2020-04-20\", \"region\": \"\\u00d1uble\", \"fallecidos\": 13, \"codigo region\": 9}, {\"date\": \"2020-04-20\", \"region\": \"Biob\\u00edo\", \"fallecidos\": 3, \"codigo region\": 10}, {\"date\": \"2020-04-20\", \"region\": \"Araucan\\u00eda\", \"fallecidos\": 23, \"codigo region\": 11}, {\"date\": \"2020-04-20\", \"region\": \"Los R\\u00edos\", \"fallecidos\": 3, \"codigo region\": 12}, {\"date\": \"2020-04-20\", \"region\": \"Los Lagos\", \"fallecidos\": 6, \"codigo region\": 13}, {\"date\": \"2020-04-20\", \"region\": \"Ays\\u00e9n\", \"fallecidos\": 0, \"codigo region\": 14}, {\"date\": \"2020-04-20\", \"region\": \"Magallanes\", \"fallecidos\": 6, \"codigo region\": 15}, {\"date\": \"2020-04-21\", \"region\": \"Arica y Parinacota\", \"fallecidos\": 2, \"codigo region\": 0}, {\"date\": \"2020-04-21\", \"region\": \"Tarapac\\u00e1\", \"fallecidos\": 0, \"codigo region\": 1}, {\"date\": \"2020-04-21\", \"region\": \"Antofagasta\", \"fallecidos\": 1, \"codigo region\": 2}, {\"date\": \"2020-04-21\", \"region\": \"Atacama\", \"fallecidos\": 0, \"codigo region\": 3}, {\"date\": \"2020-04-21\", \"region\": \"Coquimbo\", \"fallecidos\": 0, \"codigo region\": 4}, {\"date\": \"2020-04-21\", \"region\": \"Valpara\\u00edso\", \"fallecidos\": 6, \"codigo region\": 5}, {\"date\": \"2020-04-21\", \"region\": \"Metropolitana\", \"fallecidos\": 69, \"codigo region\": 6}, {\"date\": \"2020-04-21\", \"region\": \"O\\u2019Higgins\", \"fallecidos\": 1, \"codigo region\": 7}, {\"date\": \"2020-04-21\", \"region\": \"Maule\", \"fallecidos\": 10, \"codigo region\": 8}, {\"date\": \"2020-04-21\", \"region\": \"\\u00d1uble\", \"fallecidos\": 13, \"codigo region\": 9}, {\"date\": \"2020-04-21\", \"region\": \"Biob\\u00edo\", \"fallecidos\": 4, \"codigo region\": 10}, {\"date\": \"2020-04-21\", \"region\": \"Araucan\\u00eda\", \"fallecidos\": 25, \"codigo region\": 11}, {\"date\": \"2020-04-21\", \"region\": \"Los R\\u00edos\", \"fallecidos\": 3, \"codigo region\": 12}, {\"date\": \"2020-04-21\", \"region\": \"Los Lagos\", \"fallecidos\": 6, \"codigo region\": 13}, {\"date\": \"2020-04-21\", \"region\": \"Ays\\u00e9n\", \"fallecidos\": 0, \"codigo region\": 14}, {\"date\": \"2020-04-21\", \"region\": \"Magallanes\", \"fallecidos\": 7, \"codigo region\": 15}, {\"date\": \"2020-04-22\", \"region\": \"Arica y Parinacota\", \"fallecidos\": 2, \"codigo region\": 0}, {\"date\": \"2020-04-22\", \"region\": \"Tarapac\\u00e1\", \"fallecidos\": 0, \"codigo region\": 1}, {\"date\": \"2020-04-22\", \"region\": \"Antofagasta\", \"fallecidos\": 2, \"codigo region\": 2}, {\"date\": \"2020-04-22\", \"region\": \"Atacama\", \"fallecidos\": 0, \"codigo region\": 3}, {\"date\": \"2020-04-22\", \"region\": \"Coquimbo\", \"fallecidos\": 0, \"codigo region\": 4}, {\"date\": \"2020-04-22\", \"region\": \"Valpara\\u00edso\", \"fallecidos\": 7, \"codigo region\": 5}, {\"date\": \"2020-04-22\", \"region\": \"Metropolitana\", \"fallecidos\": 78, \"codigo region\": 6}, {\"date\": \"2020-04-22\", \"region\": \"O\\u2019Higgins\", \"fallecidos\": 1, \"codigo region\": 7}, {\"date\": \"2020-04-22\", \"region\": \"Maule\", \"fallecidos\": 10, \"codigo region\": 8}, {\"date\": \"2020-04-22\", \"region\": \"\\u00d1uble\", \"fallecidos\": 13, \"codigo region\": 9}, {\"date\": \"2020-04-22\", \"region\": \"Biob\\u00edo\", \"fallecidos\": 5, \"codigo region\": 10}, {\"date\": \"2020-04-22\", \"region\": \"Araucan\\u00eda\", \"fallecidos\": 26, \"codigo region\": 11}, {\"date\": \"2020-04-22\", \"region\": \"Los R\\u00edos\", \"fallecidos\": 3, \"codigo region\": 12}, {\"date\": \"2020-04-22\", \"region\": \"Los Lagos\", \"fallecidos\": 6, \"codigo region\": 13}, {\"date\": \"2020-04-22\", \"region\": \"Ays\\u00e9n\", \"fallecidos\": 0, \"codigo region\": 14}, {\"date\": \"2020-04-22\", \"region\": \"Magallanes\", \"fallecidos\": 7, \"codigo region\": 15}, {\"date\": \"2020-04-23\", \"region\": \"Arica y Parinacota\", \"fallecidos\": 2, \"codigo region\": 0}, {\"date\": \"2020-04-23\", \"region\": \"Tarapac\\u00e1\", \"fallecidos\": 0, \"codigo region\": 1}, {\"date\": \"2020-04-23\", \"region\": \"Antofagasta\", \"fallecidos\": 2, \"codigo region\": 2}, {\"date\": \"2020-04-23\", \"region\": \"Atacama\", \"fallecidos\": 0, \"codigo region\": 3}, {\"date\": \"2020-04-23\", \"region\": \"Coquimbo\", \"fallecidos\": 0, \"codigo region\": 4}, {\"date\": \"2020-04-23\", \"region\": \"Valpara\\u00edso\", \"fallecidos\": 7, \"codigo region\": 5}, {\"date\": \"2020-04-23\", \"region\": \"Metropolitana\", \"fallecidos\": 85, \"codigo region\": 6}, {\"date\": \"2020-04-23\", \"region\": \"O\\u2019Higgins\", \"fallecidos\": 1, \"codigo region\": 7}, {\"date\": \"2020-04-23\", \"region\": \"Maule\", \"fallecidos\": 10, \"codigo region\": 8}, {\"date\": \"2020-04-23\", \"region\": \"\\u00d1uble\", \"fallecidos\": 13, \"codigo region\": 9}, {\"date\": \"2020-04-23\", \"region\": \"Biob\\u00edo\", \"fallecidos\": 5, \"codigo region\": 10}, {\"date\": \"2020-04-23\", \"region\": \"Araucan\\u00eda\", \"fallecidos\": 26, \"codigo region\": 11}, {\"date\": \"2020-04-23\", \"region\": \"Los R\\u00edos\", \"fallecidos\": 3, \"codigo region\": 12}, {\"date\": \"2020-04-23\", \"region\": \"Los Lagos\", \"fallecidos\": 7, \"codigo region\": 13}, {\"date\": \"2020-04-23\", \"region\": \"Ays\\u00e9n\", \"fallecidos\": 0, \"codigo region\": 14}, {\"date\": \"2020-04-23\", \"region\": \"Magallanes\", \"fallecidos\": 7, \"codigo region\": 15}, {\"date\": \"2020-04-24\", \"region\": \"Arica y Parinacota\", \"fallecidos\": 3, \"codigo region\": 0}, {\"date\": \"2020-04-24\", \"region\": \"Tarapac\\u00e1\", \"fallecidos\": 0, \"codigo region\": 1}, {\"date\": \"2020-04-24\", \"region\": \"Antofagasta\", \"fallecidos\": 2, \"codigo region\": 2}, {\"date\": \"2020-04-24\", \"region\": \"Atacama\", \"fallecidos\": 0, \"codigo region\": 3}, {\"date\": \"2020-04-24\", \"region\": \"Coquimbo\", \"fallecidos\": 0, \"codigo region\": 4}, {\"date\": \"2020-04-24\", \"region\": \"Valpara\\u00edso\", \"fallecidos\": 8, \"codigo region\": 5}, {\"date\": \"2020-04-24\", \"region\": \"Metropolitana\", \"fallecidos\": 86, \"codigo region\": 6}, {\"date\": \"2020-04-24\", \"region\": \"O\\u2019Higgins\", \"fallecidos\": 1, \"codigo region\": 7}, {\"date\": \"2020-04-24\", \"region\": \"Maule\", \"fallecidos\": 10, \"codigo region\": 8}, {\"date\": \"2020-04-24\", \"region\": \"\\u00d1uble\", \"fallecidos\": 14, \"codigo region\": 9}, {\"date\": \"2020-04-24\", \"region\": \"Biob\\u00edo\", \"fallecidos\": 5, \"codigo region\": 10}, {\"date\": \"2020-04-24\", \"region\": \"Araucan\\u00eda\", \"fallecidos\": 26, \"codigo region\": 11}, {\"date\": \"2020-04-24\", \"region\": \"Los R\\u00edos\", \"fallecidos\": 3, \"codigo region\": 12}, {\"date\": \"2020-04-24\", \"region\": \"Los Lagos\", \"fallecidos\": 8, \"codigo region\": 13}, {\"date\": \"2020-04-24\", \"region\": \"Ays\\u00e9n\", \"fallecidos\": 0, \"codigo region\": 14}, {\"date\": \"2020-04-24\", \"region\": \"Magallanes\", \"fallecidos\": 8, \"codigo region\": 15}, {\"date\": \"2020-04-25\", \"region\": \"Arica y Parinacota\", \"fallecidos\": 3, \"codigo region\": 0}, {\"date\": \"2020-04-25\", \"region\": \"Tarapac\\u00e1\", \"fallecidos\": 1, \"codigo region\": 1}, {\"date\": \"2020-04-25\", \"region\": \"Antofagasta\", \"fallecidos\": 3, \"codigo region\": 2}, {\"date\": \"2020-04-25\", \"region\": \"Atacama\", \"fallecidos\": 0, \"codigo region\": 3}, {\"date\": \"2020-04-25\", \"region\": \"Coquimbo\", \"fallecidos\": 0, \"codigo region\": 4}, {\"date\": \"2020-04-25\", \"region\": \"Valpara\\u00edso\", \"fallecidos\": 9, \"codigo region\": 5}, {\"date\": \"2020-04-25\", \"region\": \"Metropolitana\", \"fallecidos\": 89, \"codigo region\": 6}, {\"date\": \"2020-04-25\", \"region\": \"O\\u2019Higgins\", \"fallecidos\": 1, \"codigo region\": 7}, {\"date\": \"2020-04-25\", \"region\": \"Maule\", \"fallecidos\": 10, \"codigo region\": 8}, {\"date\": \"2020-04-25\", \"region\": \"\\u00d1uble\", \"fallecidos\": 14, \"codigo region\": 9}, {\"date\": \"2020-04-25\", \"region\": \"Biob\\u00edo\", \"fallecidos\": 5, \"codigo region\": 10}, {\"date\": \"2020-04-25\", \"region\": \"Araucan\\u00eda\", \"fallecidos\": 27, \"codigo region\": 11}, {\"date\": \"2020-04-25\", \"region\": \"Los R\\u00edos\", \"fallecidos\": 3, \"codigo region\": 12}, {\"date\": \"2020-04-25\", \"region\": \"Los Lagos\", \"fallecidos\": 8, \"codigo region\": 13}, {\"date\": \"2020-04-25\", \"region\": \"Ays\\u00e9n\", \"fallecidos\": 0, \"codigo region\": 14}, {\"date\": \"2020-04-25\", \"region\": \"Magallanes\", \"fallecidos\": 8, \"codigo region\": 15}, {\"date\": \"2020-04-26\", \"region\": \"Arica y Parinacota\", \"fallecidos\": 3, \"codigo region\": 0}, {\"date\": \"2020-04-26\", \"region\": \"Tarapac\\u00e1\", \"fallecidos\": 1, \"codigo region\": 1}, {\"date\": \"2020-04-26\", \"region\": \"Antofagasta\", \"fallecidos\": 4, \"codigo region\": 2}, {\"date\": \"2020-04-26\", \"region\": \"Atacama\", \"fallecidos\": 0, \"codigo region\": 3}, {\"date\": \"2020-04-26\", \"region\": \"Coquimbo\", \"fallecidos\": 0, \"codigo region\": 4}, {\"date\": \"2020-04-26\", \"region\": \"Valpara\\u00edso\", \"fallecidos\": 9, \"codigo region\": 5}, {\"date\": \"2020-04-26\", \"region\": \"Metropolitana\", \"fallecidos\": 91, \"codigo region\": 6}, {\"date\": \"2020-04-26\", \"region\": \"O\\u2019Higgins\", \"fallecidos\": 1, \"codigo region\": 7}, {\"date\": \"2020-04-26\", \"region\": \"Maule\", \"fallecidos\": 11, \"codigo region\": 8}, {\"date\": \"2020-04-26\", \"region\": \"\\u00d1uble\", \"fallecidos\": 14, \"codigo region\": 9}, {\"date\": \"2020-04-26\", \"region\": \"Biob\\u00edo\", \"fallecidos\": 6, \"codigo region\": 10}, {\"date\": \"2020-04-26\", \"region\": \"Araucan\\u00eda\", \"fallecidos\": 29, \"codigo region\": 11}, {\"date\": \"2020-04-26\", \"region\": \"Los R\\u00edos\", \"fallecidos\": 3, \"codigo region\": 12}, {\"date\": \"2020-04-26\", \"region\": \"Los Lagos\", \"fallecidos\": 8, \"codigo region\": 13}, {\"date\": \"2020-04-26\", \"region\": \"Ays\\u00e9n\", \"fallecidos\": 0, \"codigo region\": 14}, {\"date\": \"2020-04-26\", \"region\": \"Magallanes\", \"fallecidos\": 9, \"codigo region\": 15}, {\"date\": \"2020-04-27\", \"region\": \"Arica y Parinacota\", \"fallecidos\": 3, \"codigo region\": 0}, {\"date\": \"2020-04-27\", \"region\": \"Tarapac\\u00e1\", \"fallecidos\": 1, \"codigo region\": 1}, {\"date\": \"2020-04-27\", \"region\": \"Antofagasta\", \"fallecidos\": 4, \"codigo region\": 2}, {\"date\": \"2020-04-27\", \"region\": \"Atacama\", \"fallecidos\": 0, \"codigo region\": 3}, {\"date\": \"2020-04-27\", \"region\": \"Coquimbo\", \"fallecidos\": 0, \"codigo region\": 4}, {\"date\": \"2020-04-27\", \"region\": \"Valpara\\u00edso\", \"fallecidos\": 9, \"codigo region\": 5}, {\"date\": \"2020-04-27\", \"region\": \"Metropolitana\", \"fallecidos\": 95, \"codigo region\": 6}, {\"date\": \"2020-04-27\", \"region\": \"O\\u2019Higgins\", \"fallecidos\": 1, \"codigo region\": 7}, {\"date\": \"2020-04-27\", \"region\": \"Maule\", \"fallecidos\": 12, \"codigo region\": 8}, {\"date\": \"2020-04-27\", \"region\": \"\\u00d1uble\", \"fallecidos\": 14, \"codigo region\": 9}, {\"date\": \"2020-04-27\", \"region\": \"Biob\\u00edo\", \"fallecidos\": 6, \"codigo region\": 10}, {\"date\": \"2020-04-27\", \"region\": \"Araucan\\u00eda\", \"fallecidos\": 32, \"codigo region\": 11}, {\"date\": \"2020-04-27\", \"region\": \"Los R\\u00edos\", \"fallecidos\": 3, \"codigo region\": 12}, {\"date\": \"2020-04-27\", \"region\": \"Los Lagos\", \"fallecidos\": 8, \"codigo region\": 13}, {\"date\": \"2020-04-27\", \"region\": \"Ays\\u00e9n\", \"fallecidos\": 0, \"codigo region\": 14}, {\"date\": \"2020-04-27\", \"region\": \"Magallanes\", \"fallecidos\": 10, \"codigo region\": 15}]}}, {\"mode\": \"vega-lite\"});\n",
       "</script>"
      ],
      "text/plain": [
       "alt.HConcatChart(...)"
      ]
     },
     "execution_count": 31,
     "metadata": {},
     "output_type": "execute_result"
    }
   ],
   "source": [
    "#hide_input\n",
    "\n",
    "input_dropdown = alt.binding_select(options=new_data['region'].unique())\n",
    "selection1 = alt.selection_single(fields=['region'], bind=input_dropdown, name=' ')\n",
    "selection2 = alt.selection_multi(fields=['region'], on='mouseover')\n",
    "\n",
    "color = alt.condition(selection1 | selection2,\n",
    "                    alt.Color('region:N', scale=alt.Scale(scheme='tableau20'), legend=None),\n",
    "                    alt.value('lightgray'))\n",
    "\n",
    "bars = alt.Chart(new_data).mark_bar().encode(\n",
    "    x=alt.X('date:O', axis=alt.Axis(title='Date')),\n",
    "    y=alt.Y('fallecidos', axis=alt.Axis(title='Confirmed deaths')),\n",
    "    color=color,\n",
    "    tooltip=['date', 'region', 'fallecidos'],\n",
    "    order=alt.Order(\n",
    "    # Sort the segments of the bars by this field\n",
    "    'codigo region',\n",
    "    sort='descending'\n",
    "    )\n",
    "    ).properties(\n",
    "    title='COVID-19 in Chile: Total confirmed deaths by region'\n",
    ").add_selection(\n",
    "    selection1, selection2\n",
    ").transform_filter(\n",
    "    selection1\n",
    ")\n",
    "\n",
    "legend = alt.Chart(new_data).mark_point().encode(\n",
    "    y=alt.Y('region:N', axis=alt.Axis(orient='right'), sort=regiones),\n",
    "    color=color\n",
    ").add_selection(\n",
    "    selection1, selection2\n",
    ")\n",
    "\n",
    "bars.properties(width=600, height=400) | legend"
   ]
  },
  {
   "cell_type": "code",
   "execution_count": 32,
   "metadata": {
    "execution": {
     "iopub.execute_input": "2020-04-28T06:16:23.836769Z",
     "iopub.status.busy": "2020-04-28T06:16:23.835516Z",
     "iopub.status.idle": "2020-04-28T06:16:23.837390Z",
     "shell.execute_reply": "2020-04-28T06:16:23.837892Z"
    },
    "papermill": {
     "duration": 0.087208,
     "end_time": "2020-04-28T06:16:23.838019",
     "exception": false,
     "start_time": "2020-04-28T06:16:23.750811",
     "status": "completed"
    },
    "tags": []
   },
   "outputs": [],
   "source": [
    "#hide\n",
    "# Window size cases\n",
    "WS_cases = 7"
   ]
  },
  {
   "cell_type": "code",
   "execution_count": 33,
   "metadata": {
    "execution": {
     "iopub.execute_input": "2020-04-28T06:16:24.025244Z",
     "iopub.status.busy": "2020-04-28T06:16:24.024597Z",
     "iopub.status.idle": "2020-04-28T06:16:24.026249Z",
     "shell.execute_reply": "2020-04-28T06:16:24.026779Z"
    },
    "papermill": {
     "duration": 0.104756,
     "end_time": "2020-04-28T06:16:24.026911",
     "exception": false,
     "start_time": "2020-04-28T06:16:23.922155",
     "status": "completed"
    },
    "scrolled": true,
    "tags": []
   },
   "outputs": [],
   "source": [
    "#hide\n",
    "def my_cases_plot(region):\n",
    "    aux1 = casos_raw.loc[region]\n",
    "    aux2 = [t - s for s, t in zip(aux1, aux1.loc['2020-03-04':])]\n",
    "    # Create the dataframe\n",
    "    new_cases = pd.DataFrame()\n",
    "    new_cases[\"Date\"] = casos_raw.loc[region].reset_index()[\"index\"].iloc[1:].values\n",
    "    new_cases[\"Confirmed cases\"] = aux2\n",
    "    new_cases[\"Rolling\"] = new_cases[\"Confirmed cases\"].rolling(window=WS_cases).mean()\n",
    "    new_cases[\"Daily confirmed cases\"] = len(new_cases) * [\"Daily confirmed cases\"]\n",
    "    new_cases[\"7-day rolling average\"] = len(new_cases) * [\"7-day rolling average\"]\n",
    "    # Make the plot\n",
    "    bars = alt.Chart(new_cases).mark_bar(opacity=0.7).encode(\n",
    "        x = alt.X('Date:N', axis=alt.Axis(title='Date')),\n",
    "        y = alt.Y('Confirmed cases:Q', axis=alt.Axis(title='Daily confirmed cases')),\n",
    "        tooltip = ['Date', 'Confirmed cases'],\n",
    "        opacity=alt.Opacity('Daily confirmed cases', legend=alt.Legend(title=\"\"))\n",
    "    )\n",
    "\n",
    "    line = alt.Chart(new_cases).mark_line(point={\n",
    "        \"filled\": True,\n",
    "        \"fill\": \"#1f77b4\"\n",
    "    }, color=\"#1f77b4\").encode(\n",
    "        x=alt.X('Date:N', axis=alt.Axis(title='Date')),\n",
    "        y = alt.Y('Rolling:Q'),\n",
    "        shape=alt.Shape('7-day rolling average', legend=alt.Legend(title=\"\"))\n",
    "    )\n",
    "    return bars, line"
   ]
  },
  {
   "cell_type": "markdown",
   "metadata": {
    "papermill": {
     "duration": 0.081879,
     "end_time": "2020-04-28T06:16:24.188994",
     "exception": false,
     "start_time": "2020-04-28T06:16:24.107115",
     "status": "completed"
    },
    "tags": []
   },
   "source": [
    "Data source: [Science Ministry](https://github.com/MinCiencia/Datos-COVID19)."
   ]
  },
  {
   "cell_type": "markdown",
   "metadata": {
    "papermill": {
     "duration": 0.080329,
     "end_time": "2020-04-28T06:16:24.350061",
     "exception": false,
     "start_time": "2020-04-28T06:16:24.269732",
     "status": "completed"
    },
    "tags": []
   },
   "source": [
    "# Daily confirmed cases"
   ]
  },
  {
   "cell_type": "markdown",
   "metadata": {
    "papermill": {
     "duration": 0.080419,
     "end_time": "2020-04-28T06:16:24.511449",
     "exception": false,
     "start_time": "2020-04-28T06:16:24.431030",
     "status": "completed"
    },
    "tags": []
   },
   "source": [
    "## Chile"
   ]
  },
  {
   "cell_type": "code",
   "execution_count": 34,
   "metadata": {
    "execution": {
     "iopub.execute_input": "2020-04-28T06:16:24.679352Z",
     "iopub.status.busy": "2020-04-28T06:16:24.678775Z",
     "iopub.status.idle": "2020-04-28T06:16:24.680958Z",
     "shell.execute_reply": "2020-04-28T06:16:24.680430Z"
    },
    "papermill": {
     "duration": 0.08863,
     "end_time": "2020-04-28T06:16:24.681069",
     "exception": false,
     "start_time": "2020-04-28T06:16:24.592439",
     "status": "completed"
    },
    "scrolled": true,
    "tags": []
   },
   "outputs": [],
   "source": [
    "#hide\n",
    "region = \"Total\""
   ]
  },
  {
   "cell_type": "code",
   "execution_count": 35,
   "metadata": {
    "execution": {
     "iopub.execute_input": "2020-04-28T06:16:24.851670Z",
     "iopub.status.busy": "2020-04-28T06:16:24.850934Z",
     "iopub.status.idle": "2020-04-28T06:16:24.886417Z",
     "shell.execute_reply": "2020-04-28T06:16:24.886968Z"
    },
    "papermill": {
     "duration": 0.125763,
     "end_time": "2020-04-28T06:16:24.887122",
     "exception": false,
     "start_time": "2020-04-28T06:16:24.761359",
     "status": "completed"
    },
    "tags": []
   },
   "outputs": [
    {
     "data": {
      "text/html": [
       "\n",
       "<div id=\"altair-viz-0d33d9fb2879402faaff30f628ceff14\"></div>\n",
       "<script type=\"text/javascript\">\n",
       "  (function(spec, embedOpt){\n",
       "    let outputDiv = document.currentScript.previousElementSibling;\n",
       "    if (outputDiv.id !== \"altair-viz-0d33d9fb2879402faaff30f628ceff14\") {\n",
       "      outputDiv = document.getElementById(\"altair-viz-0d33d9fb2879402faaff30f628ceff14\");\n",
       "    }\n",
       "    const paths = {\n",
       "      \"vega\": \"https://cdn.jsdelivr.net/npm//vega@5?noext\",\n",
       "      \"vega-lib\": \"https://cdn.jsdelivr.net/npm//vega-lib?noext\",\n",
       "      \"vega-lite\": \"https://cdn.jsdelivr.net/npm//vega-lite@4.8.1?noext\",\n",
       "      \"vega-embed\": \"https://cdn.jsdelivr.net/npm//vega-embed@6?noext\",\n",
       "    };\n",
       "\n",
       "    function loadScript(lib) {\n",
       "      return new Promise(function(resolve, reject) {\n",
       "        var s = document.createElement('script');\n",
       "        s.src = paths[lib];\n",
       "        s.async = true;\n",
       "        s.onload = () => resolve(paths[lib]);\n",
       "        s.onerror = () => reject(`Error loading script: ${paths[lib]}`);\n",
       "        document.getElementsByTagName(\"head\")[0].appendChild(s);\n",
       "      });\n",
       "    }\n",
       "\n",
       "    function showError(err) {\n",
       "      outputDiv.innerHTML = `<div class=\"error\" style=\"color:red;\">${err}</div>`;\n",
       "      throw err;\n",
       "    }\n",
       "\n",
       "    function displayChart(vegaEmbed) {\n",
       "      vegaEmbed(outputDiv, spec, embedOpt)\n",
       "        .catch(err => showError(`Javascript Error: ${err.message}<br>This usually means there's a typo in your chart specification. See the javascript console for the full traceback.`));\n",
       "    }\n",
       "\n",
       "    if(typeof define === \"function\" && define.amd) {\n",
       "      requirejs.config({paths});\n",
       "      require([\"vega-embed\"], displayChart, err => showError(`Error loading script: ${err.message}`));\n",
       "    } else if (typeof vegaEmbed === \"function\") {\n",
       "      displayChart(vegaEmbed);\n",
       "    } else {\n",
       "      loadScript(\"vega\")\n",
       "        .then(() => loadScript(\"vega-lite\"))\n",
       "        .then(() => loadScript(\"vega-embed\"))\n",
       "        .catch(showError)\n",
       "        .then(() => displayChart(vegaEmbed));\n",
       "    }\n",
       "  })({\"config\": {\"view\": {\"continuousWidth\": 400, \"continuousHeight\": 300}}, \"layer\": [{\"mark\": {\"type\": \"bar\", \"opacity\": 0.7}, \"encoding\": {\"opacity\": {\"type\": \"nominal\", \"field\": \"Daily confirmed cases\", \"legend\": {\"title\": \"\"}}, \"tooltip\": [{\"type\": \"nominal\", \"field\": \"Date\"}, {\"type\": \"quantitative\", \"field\": \"Confirmed cases\"}], \"x\": {\"type\": \"nominal\", \"axis\": {\"title\": \"Date\"}, \"field\": \"Date\"}, \"y\": {\"type\": \"quantitative\", \"axis\": {\"title\": \"Daily confirmed cases\"}, \"field\": \"Confirmed cases\"}}}, {\"mark\": {\"type\": \"line\", \"color\": \"#1f77b4\", \"point\": {\"filled\": true, \"fill\": \"#1f77b4\"}}, \"encoding\": {\"shape\": {\"type\": \"nominal\", \"field\": \"7-day rolling average\", \"legend\": {\"title\": \"\"}}, \"x\": {\"type\": \"nominal\", \"axis\": {\"title\": \"Date\"}, \"field\": \"Date\"}, \"y\": {\"type\": \"quantitative\", \"field\": \"Rolling\"}}}], \"data\": {\"name\": \"data-4716127add04d0183af11c648ac6b91e\"}, \"title\": \"Covid-19 in Chile: Daily confirmed cases in Chile\", \"width\": 600, \"$schema\": \"https://vega.github.io/schema/vega-lite/v4.8.1.json\", \"datasets\": {\"data-4716127add04d0183af11c648ac6b91e\": [{\"Date\": \"2020-03-04\", \"Confirmed cases\": 2, \"Rolling\": null, \"Daily confirmed cases\": \"Daily confirmed cases\", \"7-day rolling average\": \"7-day rolling average\"}, {\"Date\": \"2020-03-05\", \"Confirmed cases\": 1, \"Rolling\": null, \"Daily confirmed cases\": \"Daily confirmed cases\", \"7-day rolling average\": \"7-day rolling average\"}, {\"Date\": \"2020-03-06\", \"Confirmed cases\": 1, \"Rolling\": null, \"Daily confirmed cases\": \"Daily confirmed cases\", \"7-day rolling average\": \"7-day rolling average\"}, {\"Date\": \"2020-03-07\", \"Confirmed cases\": 2, \"Rolling\": null, \"Daily confirmed cases\": \"Daily confirmed cases\", \"7-day rolling average\": \"7-day rolling average\"}, {\"Date\": \"2020-03-08\", \"Confirmed cases\": 3, \"Rolling\": null, \"Daily confirmed cases\": \"Daily confirmed cases\", \"7-day rolling average\": \"7-day rolling average\"}, {\"Date\": \"2020-03-09\", \"Confirmed cases\": 5, \"Rolling\": null, \"Daily confirmed cases\": \"Daily confirmed cases\", \"7-day rolling average\": \"7-day rolling average\"}, {\"Date\": \"2020-03-10\", \"Confirmed cases\": 2, \"Rolling\": 2.2857142857142856, \"Daily confirmed cases\": \"Daily confirmed cases\", \"7-day rolling average\": \"7-day rolling average\"}, {\"Date\": \"2020-03-11\", \"Confirmed cases\": 6, \"Rolling\": 2.857142857142857, \"Daily confirmed cases\": \"Daily confirmed cases\", \"7-day rolling average\": \"7-day rolling average\"}, {\"Date\": \"2020-03-12\", \"Confirmed cases\": 10, \"Rolling\": 4.142857142857143, \"Daily confirmed cases\": \"Daily confirmed cases\", \"7-day rolling average\": \"7-day rolling average\"}, {\"Date\": \"2020-03-13\", \"Confirmed cases\": 10, \"Rolling\": 5.428571428571429, \"Daily confirmed cases\": \"Daily confirmed cases\", \"7-day rolling average\": \"7-day rolling average\"}, {\"Date\": \"2020-03-14\", \"Confirmed cases\": 18, \"Rolling\": 7.714285714285714, \"Daily confirmed cases\": \"Daily confirmed cases\", \"7-day rolling average\": \"7-day rolling average\"}, {\"Date\": \"2020-03-15\", \"Confirmed cases\": 14, \"Rolling\": 9.285714285714286, \"Daily confirmed cases\": \"Daily confirmed cases\", \"7-day rolling average\": \"7-day rolling average\"}, {\"Date\": \"2020-03-16\", \"Confirmed cases\": 81, \"Rolling\": 20.142857142857142, \"Daily confirmed cases\": \"Daily confirmed cases\", \"7-day rolling average\": \"7-day rolling average\"}, {\"Date\": \"2020-03-17\", \"Confirmed cases\": 45, \"Rolling\": 26.285714285714285, \"Daily confirmed cases\": \"Daily confirmed cases\", \"7-day rolling average\": \"7-day rolling average\"}, {\"Date\": \"2020-03-18\", \"Confirmed cases\": 37, \"Rolling\": 30.714285714285715, \"Daily confirmed cases\": \"Daily confirmed cases\", \"7-day rolling average\": \"7-day rolling average\"}, {\"Date\": \"2020-03-19\", \"Confirmed cases\": 104, \"Rolling\": 44.142857142857146, \"Daily confirmed cases\": \"Daily confirmed cases\", \"7-day rolling average\": \"7-day rolling average\"}, {\"Date\": \"2020-03-20\", \"Confirmed cases\": 92, \"Rolling\": 55.857142857142854, \"Daily confirmed cases\": \"Daily confirmed cases\", \"7-day rolling average\": \"7-day rolling average\"}, {\"Date\": \"2020-03-21\", \"Confirmed cases\": 103, \"Rolling\": 68.0, \"Daily confirmed cases\": \"Daily confirmed cases\", \"7-day rolling average\": \"7-day rolling average\"}, {\"Date\": \"2020-03-22\", \"Confirmed cases\": 95, \"Rolling\": 79.57142857142857, \"Daily confirmed cases\": \"Daily confirmed cases\", \"7-day rolling average\": \"7-day rolling average\"}, {\"Date\": \"2020-03-23\", \"Confirmed cases\": 114, \"Rolling\": 84.28571428571429, \"Daily confirmed cases\": \"Daily confirmed cases\", \"7-day rolling average\": \"7-day rolling average\"}, {\"Date\": \"2020-03-24\", \"Confirmed cases\": 176, \"Rolling\": 103.0, \"Daily confirmed cases\": \"Daily confirmed cases\", \"7-day rolling average\": \"7-day rolling average\"}, {\"Date\": \"2020-03-25\", \"Confirmed cases\": 220, \"Rolling\": 129.14285714285714, \"Daily confirmed cases\": \"Daily confirmed cases\", \"7-day rolling average\": \"7-day rolling average\"}, {\"Date\": \"2020-03-26\", \"Confirmed cases\": 164, \"Rolling\": 137.71428571428572, \"Daily confirmed cases\": \"Daily confirmed cases\", \"7-day rolling average\": \"7-day rolling average\"}, {\"Date\": \"2020-03-27\", \"Confirmed cases\": 304, \"Rolling\": 168.0, \"Daily confirmed cases\": \"Daily confirmed cases\", \"7-day rolling average\": \"7-day rolling average\"}, {\"Date\": \"2020-03-28\", \"Confirmed cases\": 299, \"Rolling\": 196.0, \"Daily confirmed cases\": \"Daily confirmed cases\", \"7-day rolling average\": \"7-day rolling average\"}, {\"Date\": \"2020-03-29\", \"Confirmed cases\": 230, \"Rolling\": 215.28571428571428, \"Daily confirmed cases\": \"Daily confirmed cases\", \"7-day rolling average\": \"7-day rolling average\"}, {\"Date\": \"2020-03-30\", \"Confirmed cases\": 310, \"Rolling\": 243.28571428571428, \"Daily confirmed cases\": \"Daily confirmed cases\", \"7-day rolling average\": \"7-day rolling average\"}, {\"Date\": \"2020-03-31\", \"Confirmed cases\": 289, \"Rolling\": 259.42857142857144, \"Daily confirmed cases\": \"Daily confirmed cases\", \"7-day rolling average\": \"7-day rolling average\"}, {\"Date\": \"2020-04-01\", \"Confirmed cases\": 293, \"Rolling\": 269.85714285714283, \"Daily confirmed cases\": \"Daily confirmed cases\", \"7-day rolling average\": \"7-day rolling average\"}, {\"Date\": \"2020-04-02\", \"Confirmed cases\": 373, \"Rolling\": 299.7142857142857, \"Daily confirmed cases\": \"Daily confirmed cases\", \"7-day rolling average\": \"7-day rolling average\"}, {\"Date\": \"2020-04-03\", \"Confirmed cases\": 333, \"Rolling\": 303.85714285714283, \"Daily confirmed cases\": \"Daily confirmed cases\", \"7-day rolling average\": \"7-day rolling average\"}, {\"Date\": \"2020-04-04\", \"Confirmed cases\": 424, \"Rolling\": 321.7142857142857, \"Daily confirmed cases\": \"Daily confirmed cases\", \"7-day rolling average\": \"7-day rolling average\"}, {\"Date\": \"2020-04-05\", \"Confirmed cases\": 310, \"Rolling\": 333.14285714285717, \"Daily confirmed cases\": \"Daily confirmed cases\", \"7-day rolling average\": \"7-day rolling average\"}, {\"Date\": \"2020-04-06\", \"Confirmed cases\": 344, \"Rolling\": 338.0, \"Daily confirmed cases\": \"Daily confirmed cases\", \"7-day rolling average\": \"7-day rolling average\"}, {\"Date\": \"2020-04-07\", \"Confirmed cases\": 301, \"Rolling\": 339.7142857142857, \"Daily confirmed cases\": \"Daily confirmed cases\", \"7-day rolling average\": \"7-day rolling average\"}, {\"Date\": \"2020-04-08\", \"Confirmed cases\": 430, \"Rolling\": 359.2857142857143, \"Daily confirmed cases\": \"Daily confirmed cases\", \"7-day rolling average\": \"7-day rolling average\"}, {\"Date\": \"2020-04-09\", \"Confirmed cases\": 426, \"Rolling\": 366.85714285714283, \"Daily confirmed cases\": \"Daily confirmed cases\", \"7-day rolling average\": \"7-day rolling average\"}, {\"Date\": \"2020-04-10\", \"Confirmed cases\": 529, \"Rolling\": 394.85714285714283, \"Daily confirmed cases\": \"Daily confirmed cases\", \"7-day rolling average\": \"7-day rolling average\"}, {\"Date\": \"2020-04-11\", \"Confirmed cases\": 426, \"Rolling\": 395.14285714285717, \"Daily confirmed cases\": \"Daily confirmed cases\", \"7-day rolling average\": \"7-day rolling average\"}, {\"Date\": \"2020-04-12\", \"Confirmed cases\": 286, \"Rolling\": 391.7142857142857, \"Daily confirmed cases\": \"Daily confirmed cases\", \"7-day rolling average\": \"7-day rolling average\"}, {\"Date\": \"2020-04-13\", \"Confirmed cases\": 312, \"Rolling\": 387.14285714285717, \"Daily confirmed cases\": \"Daily confirmed cases\", \"7-day rolling average\": \"7-day rolling average\"}, {\"Date\": \"2020-04-14\", \"Confirmed cases\": 392, \"Rolling\": 400.14285714285717, \"Daily confirmed cases\": \"Daily confirmed cases\", \"7-day rolling average\": \"7-day rolling average\"}, {\"Date\": \"2020-04-15\", \"Confirmed cases\": 356, \"Rolling\": 389.57142857142856, \"Daily confirmed cases\": \"Daily confirmed cases\", \"7-day rolling average\": \"7-day rolling average\"}, {\"Date\": \"2020-04-16\", \"Confirmed cases\": 534, \"Rolling\": 405.0, \"Daily confirmed cases\": \"Daily confirmed cases\", \"7-day rolling average\": \"7-day rolling average\"}, {\"Date\": \"2020-04-17\", \"Confirmed cases\": 445, \"Rolling\": 393.0, \"Daily confirmed cases\": \"Daily confirmed cases\", \"7-day rolling average\": \"7-day rolling average\"}, {\"Date\": \"2020-04-18\", \"Confirmed cases\": 478, \"Rolling\": 400.42857142857144, \"Daily confirmed cases\": \"Daily confirmed cases\", \"7-day rolling average\": \"7-day rolling average\"}, {\"Date\": \"2020-04-19\", \"Confirmed cases\": 358, \"Rolling\": 410.7142857142857, \"Daily confirmed cases\": \"Daily confirmed cases\", \"7-day rolling average\": \"7-day rolling average\"}, {\"Date\": \"2020-04-20\", \"Confirmed cases\": 419, \"Rolling\": 426.0, \"Daily confirmed cases\": \"Daily confirmed cases\", \"7-day rolling average\": \"7-day rolling average\"}, {\"Date\": \"2020-04-21\", \"Confirmed cases\": 325, \"Rolling\": 416.42857142857144, \"Daily confirmed cases\": \"Daily confirmed cases\", \"7-day rolling average\": \"7-day rolling average\"}, {\"Date\": \"2020-04-22\", \"Confirmed cases\": 464, \"Rolling\": 431.85714285714283, \"Daily confirmed cases\": \"Daily confirmed cases\", \"7-day rolling average\": \"7-day rolling average\"}, {\"Date\": \"2020-04-23\", \"Confirmed cases\": 516, \"Rolling\": 429.2857142857143, \"Daily confirmed cases\": \"Daily confirmed cases\", \"7-day rolling average\": \"7-day rolling average\"}, {\"Date\": \"2020-04-24\", \"Confirmed cases\": 494, \"Rolling\": 436.2857142857143, \"Daily confirmed cases\": \"Daily confirmed cases\", \"7-day rolling average\": \"7-day rolling average\"}, {\"Date\": \"2020-04-25\", \"Confirmed cases\": 552, \"Rolling\": 446.85714285714283, \"Daily confirmed cases\": \"Daily confirmed cases\", \"7-day rolling average\": \"7-day rolling average\"}, {\"Date\": \"2020-04-26\", \"Confirmed cases\": 473, \"Rolling\": 463.2857142857143, \"Daily confirmed cases\": \"Daily confirmed cases\", \"7-day rolling average\": \"7-day rolling average\"}, {\"Date\": \"2020-04-27\", \"Confirmed cases\": 482, \"Rolling\": 472.2857142857143, \"Daily confirmed cases\": \"Daily confirmed cases\", \"7-day rolling average\": \"7-day rolling average\"}]}}, {\"mode\": \"vega-lite\"});\n",
       "</script>"
      ],
      "text/plain": [
       "alt.LayerChart(...)"
      ]
     },
     "execution_count": 35,
     "metadata": {},
     "output_type": "execute_result"
    }
   ],
   "source": [
    "#hide_input\n",
    "bars, line = my_cases_plot(region)\n",
    "(bars + line).properties(\n",
    "    title=f'Covid-19 in Chile: Daily confirmed cases in Chile',\n",
    "    width=600\n",
    ")"
   ]
  },
  {
   "cell_type": "markdown",
   "metadata": {
    "papermill": {
     "duration": 0.085905,
     "end_time": "2020-04-28T06:16:25.060237",
     "exception": false,
     "start_time": "2020-04-28T06:16:24.974332",
     "status": "completed"
    },
    "tags": []
   },
   "source": [
    "## Arica y Parinacota"
   ]
  },
  {
   "cell_type": "code",
   "execution_count": 36,
   "metadata": {
    "execution": {
     "iopub.execute_input": "2020-04-28T06:16:25.236290Z",
     "iopub.status.busy": "2020-04-28T06:16:25.235691Z",
     "iopub.status.idle": "2020-04-28T06:16:25.238076Z",
     "shell.execute_reply": "2020-04-28T06:16:25.237582Z"
    },
    "papermill": {
     "duration": 0.090651,
     "end_time": "2020-04-28T06:16:25.238182",
     "exception": false,
     "start_time": "2020-04-28T06:16:25.147531",
     "status": "completed"
    },
    "tags": []
   },
   "outputs": [],
   "source": [
    "#hide\n",
    "region = \"Arica y Parinacota\""
   ]
  },
  {
   "cell_type": "code",
   "execution_count": 37,
   "metadata": {
    "execution": {
     "iopub.execute_input": "2020-04-28T06:16:25.426696Z",
     "iopub.status.busy": "2020-04-28T06:16:25.421590Z",
     "iopub.status.idle": "2020-04-28T06:16:25.448906Z",
     "shell.execute_reply": "2020-04-28T06:16:25.449418Z"
    },
    "papermill": {
     "duration": 0.128133,
     "end_time": "2020-04-28T06:16:25.449547",
     "exception": false,
     "start_time": "2020-04-28T06:16:25.321414",
     "status": "completed"
    },
    "tags": []
   },
   "outputs": [
    {
     "data": {
      "text/html": [
       "\n",
       "<div id=\"altair-viz-8ab520c4f7c14253bdabbe49314304ab\"></div>\n",
       "<script type=\"text/javascript\">\n",
       "  (function(spec, embedOpt){\n",
       "    let outputDiv = document.currentScript.previousElementSibling;\n",
       "    if (outputDiv.id !== \"altair-viz-8ab520c4f7c14253bdabbe49314304ab\") {\n",
       "      outputDiv = document.getElementById(\"altair-viz-8ab520c4f7c14253bdabbe49314304ab\");\n",
       "    }\n",
       "    const paths = {\n",
       "      \"vega\": \"https://cdn.jsdelivr.net/npm//vega@5?noext\",\n",
       "      \"vega-lib\": \"https://cdn.jsdelivr.net/npm//vega-lib?noext\",\n",
       "      \"vega-lite\": \"https://cdn.jsdelivr.net/npm//vega-lite@4.8.1?noext\",\n",
       "      \"vega-embed\": \"https://cdn.jsdelivr.net/npm//vega-embed@6?noext\",\n",
       "    };\n",
       "\n",
       "    function loadScript(lib) {\n",
       "      return new Promise(function(resolve, reject) {\n",
       "        var s = document.createElement('script');\n",
       "        s.src = paths[lib];\n",
       "        s.async = true;\n",
       "        s.onload = () => resolve(paths[lib]);\n",
       "        s.onerror = () => reject(`Error loading script: ${paths[lib]}`);\n",
       "        document.getElementsByTagName(\"head\")[0].appendChild(s);\n",
       "      });\n",
       "    }\n",
       "\n",
       "    function showError(err) {\n",
       "      outputDiv.innerHTML = `<div class=\"error\" style=\"color:red;\">${err}</div>`;\n",
       "      throw err;\n",
       "    }\n",
       "\n",
       "    function displayChart(vegaEmbed) {\n",
       "      vegaEmbed(outputDiv, spec, embedOpt)\n",
       "        .catch(err => showError(`Javascript Error: ${err.message}<br>This usually means there's a typo in your chart specification. See the javascript console for the full traceback.`));\n",
       "    }\n",
       "\n",
       "    if(typeof define === \"function\" && define.amd) {\n",
       "      requirejs.config({paths});\n",
       "      require([\"vega-embed\"], displayChart, err => showError(`Error loading script: ${err.message}`));\n",
       "    } else if (typeof vegaEmbed === \"function\") {\n",
       "      displayChart(vegaEmbed);\n",
       "    } else {\n",
       "      loadScript(\"vega\")\n",
       "        .then(() => loadScript(\"vega-lite\"))\n",
       "        .then(() => loadScript(\"vega-embed\"))\n",
       "        .catch(showError)\n",
       "        .then(() => displayChart(vegaEmbed));\n",
       "    }\n",
       "  })({\"config\": {\"view\": {\"continuousWidth\": 400, \"continuousHeight\": 300}}, \"layer\": [{\"mark\": {\"type\": \"bar\", \"opacity\": 0.7}, \"encoding\": {\"opacity\": {\"type\": \"nominal\", \"field\": \"Daily confirmed cases\", \"legend\": {\"title\": \"\"}}, \"tooltip\": [{\"type\": \"nominal\", \"field\": \"Date\"}, {\"type\": \"quantitative\", \"field\": \"Confirmed cases\"}], \"x\": {\"type\": \"nominal\", \"axis\": {\"title\": \"Date\"}, \"field\": \"Date\"}, \"y\": {\"type\": \"quantitative\", \"axis\": {\"title\": \"Daily confirmed cases\"}, \"field\": \"Confirmed cases\"}}}, {\"mark\": {\"type\": \"line\", \"color\": \"#1f77b4\", \"point\": {\"filled\": true, \"fill\": \"#1f77b4\"}}, \"encoding\": {\"shape\": {\"type\": \"nominal\", \"field\": \"7-day rolling average\", \"legend\": {\"title\": \"\"}}, \"x\": {\"type\": \"nominal\", \"axis\": {\"title\": \"Date\"}, \"field\": \"Date\"}, \"y\": {\"type\": \"quantitative\", \"field\": \"Rolling\"}}}], \"data\": {\"name\": \"data-3d7a4f018e451f6d35db163a0ec009fb\"}, \"title\": \"Covid-19 in Chile: Daily confirmed cases in Arica y Parinacota\", \"width\": 600, \"$schema\": \"https://vega.github.io/schema/vega-lite/v4.8.1.json\", \"datasets\": {\"data-3d7a4f018e451f6d35db163a0ec009fb\": [{\"Date\": \"2020-03-04\", \"Confirmed cases\": 0, \"Rolling\": null, \"Daily confirmed cases\": \"Daily confirmed cases\", \"7-day rolling average\": \"7-day rolling average\"}, {\"Date\": \"2020-03-05\", \"Confirmed cases\": 0, \"Rolling\": null, \"Daily confirmed cases\": \"Daily confirmed cases\", \"7-day rolling average\": \"7-day rolling average\"}, {\"Date\": \"2020-03-06\", \"Confirmed cases\": 0, \"Rolling\": null, \"Daily confirmed cases\": \"Daily confirmed cases\", \"7-day rolling average\": \"7-day rolling average\"}, {\"Date\": \"2020-03-07\", \"Confirmed cases\": 0, \"Rolling\": null, \"Daily confirmed cases\": \"Daily confirmed cases\", \"7-day rolling average\": \"7-day rolling average\"}, {\"Date\": \"2020-03-08\", \"Confirmed cases\": 0, \"Rolling\": null, \"Daily confirmed cases\": \"Daily confirmed cases\", \"7-day rolling average\": \"7-day rolling average\"}, {\"Date\": \"2020-03-09\", \"Confirmed cases\": 0, \"Rolling\": null, \"Daily confirmed cases\": \"Daily confirmed cases\", \"7-day rolling average\": \"7-day rolling average\"}, {\"Date\": \"2020-03-10\", \"Confirmed cases\": 0, \"Rolling\": 0.0, \"Daily confirmed cases\": \"Daily confirmed cases\", \"7-day rolling average\": \"7-day rolling average\"}, {\"Date\": \"2020-03-11\", \"Confirmed cases\": 0, \"Rolling\": 0.0, \"Daily confirmed cases\": \"Daily confirmed cases\", \"7-day rolling average\": \"7-day rolling average\"}, {\"Date\": \"2020-03-12\", \"Confirmed cases\": 0, \"Rolling\": 0.0, \"Daily confirmed cases\": \"Daily confirmed cases\", \"7-day rolling average\": \"7-day rolling average\"}, {\"Date\": \"2020-03-13\", \"Confirmed cases\": 0, \"Rolling\": 0.0, \"Daily confirmed cases\": \"Daily confirmed cases\", \"7-day rolling average\": \"7-day rolling average\"}, {\"Date\": \"2020-03-14\", \"Confirmed cases\": 0, \"Rolling\": 0.0, \"Daily confirmed cases\": \"Daily confirmed cases\", \"7-day rolling average\": \"7-day rolling average\"}, {\"Date\": \"2020-03-15\", \"Confirmed cases\": 0, \"Rolling\": 0.0, \"Daily confirmed cases\": \"Daily confirmed cases\", \"7-day rolling average\": \"7-day rolling average\"}, {\"Date\": \"2020-03-16\", \"Confirmed cases\": 0, \"Rolling\": 0.0, \"Daily confirmed cases\": \"Daily confirmed cases\", \"7-day rolling average\": \"7-day rolling average\"}, {\"Date\": \"2020-03-17\", \"Confirmed cases\": 0, \"Rolling\": 0.0, \"Daily confirmed cases\": \"Daily confirmed cases\", \"7-day rolling average\": \"7-day rolling average\"}, {\"Date\": \"2020-03-18\", \"Confirmed cases\": 0, \"Rolling\": 0.0, \"Daily confirmed cases\": \"Daily confirmed cases\", \"7-day rolling average\": \"7-day rolling average\"}, {\"Date\": \"2020-03-19\", \"Confirmed cases\": 1, \"Rolling\": 0.14285714285714285, \"Daily confirmed cases\": \"Daily confirmed cases\", \"7-day rolling average\": \"7-day rolling average\"}, {\"Date\": \"2020-03-20\", \"Confirmed cases\": 0, \"Rolling\": 0.14285714285714285, \"Daily confirmed cases\": \"Daily confirmed cases\", \"7-day rolling average\": \"7-day rolling average\"}, {\"Date\": \"2020-03-21\", \"Confirmed cases\": 0, \"Rolling\": 0.14285714285714285, \"Daily confirmed cases\": \"Daily confirmed cases\", \"7-day rolling average\": \"7-day rolling average\"}, {\"Date\": \"2020-03-22\", \"Confirmed cases\": 1, \"Rolling\": 0.2857142857142857, \"Daily confirmed cases\": \"Daily confirmed cases\", \"7-day rolling average\": \"7-day rolling average\"}, {\"Date\": \"2020-03-23\", \"Confirmed cases\": 0, \"Rolling\": 0.2857142857142857, \"Daily confirmed cases\": \"Daily confirmed cases\", \"7-day rolling average\": \"7-day rolling average\"}, {\"Date\": \"2020-03-24\", \"Confirmed cases\": 0, \"Rolling\": 0.2857142857142857, \"Daily confirmed cases\": \"Daily confirmed cases\", \"7-day rolling average\": \"7-day rolling average\"}, {\"Date\": \"2020-03-25\", \"Confirmed cases\": 0, \"Rolling\": 0.2857142857142857, \"Daily confirmed cases\": \"Daily confirmed cases\", \"7-day rolling average\": \"7-day rolling average\"}, {\"Date\": \"2020-03-26\", \"Confirmed cases\": 1, \"Rolling\": 0.2857142857142857, \"Daily confirmed cases\": \"Daily confirmed cases\", \"7-day rolling average\": \"7-day rolling average\"}, {\"Date\": \"2020-03-27\", \"Confirmed cases\": 0, \"Rolling\": 0.2857142857142857, \"Daily confirmed cases\": \"Daily confirmed cases\", \"7-day rolling average\": \"7-day rolling average\"}, {\"Date\": \"2020-03-28\", \"Confirmed cases\": 0, \"Rolling\": 0.2857142857142857, \"Daily confirmed cases\": \"Daily confirmed cases\", \"7-day rolling average\": \"7-day rolling average\"}, {\"Date\": \"2020-03-29\", \"Confirmed cases\": 1, \"Rolling\": 0.2857142857142857, \"Daily confirmed cases\": \"Daily confirmed cases\", \"7-day rolling average\": \"7-day rolling average\"}, {\"Date\": \"2020-03-30\", \"Confirmed cases\": 2, \"Rolling\": 0.5714285714285714, \"Daily confirmed cases\": \"Daily confirmed cases\", \"7-day rolling average\": \"7-day rolling average\"}, {\"Date\": \"2020-03-31\", \"Confirmed cases\": 0, \"Rolling\": 0.5714285714285714, \"Daily confirmed cases\": \"Daily confirmed cases\", \"7-day rolling average\": \"7-day rolling average\"}, {\"Date\": \"2020-04-01\", \"Confirmed cases\": 0, \"Rolling\": 0.5714285714285714, \"Daily confirmed cases\": \"Daily confirmed cases\", \"7-day rolling average\": \"7-day rolling average\"}, {\"Date\": \"2020-04-02\", \"Confirmed cases\": 1, \"Rolling\": 0.5714285714285714, \"Daily confirmed cases\": \"Daily confirmed cases\", \"7-day rolling average\": \"7-day rolling average\"}, {\"Date\": \"2020-04-03\", \"Confirmed cases\": 5, \"Rolling\": 1.2857142857142858, \"Daily confirmed cases\": \"Daily confirmed cases\", \"7-day rolling average\": \"7-day rolling average\"}, {\"Date\": \"2020-04-04\", \"Confirmed cases\": 0, \"Rolling\": 1.2857142857142858, \"Daily confirmed cases\": \"Daily confirmed cases\", \"7-day rolling average\": \"7-day rolling average\"}, {\"Date\": \"2020-04-05\", \"Confirmed cases\": 16, \"Rolling\": 3.4285714285714284, \"Daily confirmed cases\": \"Daily confirmed cases\", \"7-day rolling average\": \"7-day rolling average\"}, {\"Date\": \"2020-04-06\", \"Confirmed cases\": 13, \"Rolling\": 5.0, \"Daily confirmed cases\": \"Daily confirmed cases\", \"7-day rolling average\": \"7-day rolling average\"}, {\"Date\": \"2020-04-07\", \"Confirmed cases\": 12, \"Rolling\": 6.714285714285714, \"Daily confirmed cases\": \"Daily confirmed cases\", \"7-day rolling average\": \"7-day rolling average\"}, {\"Date\": \"2020-04-08\", \"Confirmed cases\": 10, \"Rolling\": 8.142857142857142, \"Daily confirmed cases\": \"Daily confirmed cases\", \"7-day rolling average\": \"7-day rolling average\"}, {\"Date\": \"2020-04-09\", \"Confirmed cases\": 12, \"Rolling\": 9.714285714285714, \"Daily confirmed cases\": \"Daily confirmed cases\", \"7-day rolling average\": \"7-day rolling average\"}, {\"Date\": \"2020-04-10\", \"Confirmed cases\": 12, \"Rolling\": 10.714285714285714, \"Daily confirmed cases\": \"Daily confirmed cases\", \"7-day rolling average\": \"7-day rolling average\"}, {\"Date\": \"2020-04-11\", \"Confirmed cases\": 20, \"Rolling\": 13.571428571428571, \"Daily confirmed cases\": \"Daily confirmed cases\", \"7-day rolling average\": \"7-day rolling average\"}, {\"Date\": \"2020-04-12\", \"Confirmed cases\": 8, \"Rolling\": 12.428571428571429, \"Daily confirmed cases\": \"Daily confirmed cases\", \"7-day rolling average\": \"7-day rolling average\"}, {\"Date\": \"2020-04-13\", \"Confirmed cases\": 0, \"Rolling\": 10.571428571428571, \"Daily confirmed cases\": \"Daily confirmed cases\", \"7-day rolling average\": \"7-day rolling average\"}, {\"Date\": \"2020-04-14\", \"Confirmed cases\": 5, \"Rolling\": 9.571428571428571, \"Daily confirmed cases\": \"Daily confirmed cases\", \"7-day rolling average\": \"7-day rolling average\"}, {\"Date\": \"2020-04-15\", \"Confirmed cases\": 4, \"Rolling\": 8.714285714285714, \"Daily confirmed cases\": \"Daily confirmed cases\", \"7-day rolling average\": \"7-day rolling average\"}, {\"Date\": \"2020-04-16\", \"Confirmed cases\": 5, \"Rolling\": 7.714285714285714, \"Daily confirmed cases\": \"Daily confirmed cases\", \"7-day rolling average\": \"7-day rolling average\"}, {\"Date\": \"2020-04-17\", \"Confirmed cases\": 5, \"Rolling\": 6.714285714285714, \"Daily confirmed cases\": \"Daily confirmed cases\", \"7-day rolling average\": \"7-day rolling average\"}, {\"Date\": \"2020-04-18\", \"Confirmed cases\": 8, \"Rolling\": 5.0, \"Daily confirmed cases\": \"Daily confirmed cases\", \"7-day rolling average\": \"7-day rolling average\"}, {\"Date\": \"2020-04-19\", \"Confirmed cases\": 3, \"Rolling\": 4.285714285714286, \"Daily confirmed cases\": \"Daily confirmed cases\", \"7-day rolling average\": \"7-day rolling average\"}, {\"Date\": \"2020-04-20\", \"Confirmed cases\": 16, \"Rolling\": 6.571428571428571, \"Daily confirmed cases\": \"Daily confirmed cases\", \"7-day rolling average\": \"7-day rolling average\"}, {\"Date\": \"2020-04-21\", \"Confirmed cases\": 9, \"Rolling\": 7.142857142857143, \"Daily confirmed cases\": \"Daily confirmed cases\", \"7-day rolling average\": \"7-day rolling average\"}, {\"Date\": \"2020-04-22\", \"Confirmed cases\": 10, \"Rolling\": 8.0, \"Daily confirmed cases\": \"Daily confirmed cases\", \"7-day rolling average\": \"7-day rolling average\"}, {\"Date\": \"2020-04-23\", \"Confirmed cases\": 30, \"Rolling\": 11.571428571428571, \"Daily confirmed cases\": \"Daily confirmed cases\", \"7-day rolling average\": \"7-day rolling average\"}, {\"Date\": \"2020-04-24\", \"Confirmed cases\": 29, \"Rolling\": 15.0, \"Daily confirmed cases\": \"Daily confirmed cases\", \"7-day rolling average\": \"7-day rolling average\"}, {\"Date\": \"2020-04-25\", \"Confirmed cases\": 6, \"Rolling\": 14.714285714285714, \"Daily confirmed cases\": \"Daily confirmed cases\", \"7-day rolling average\": \"7-day rolling average\"}, {\"Date\": \"2020-04-26\", \"Confirmed cases\": 7, \"Rolling\": 15.285714285714286, \"Daily confirmed cases\": \"Daily confirmed cases\", \"7-day rolling average\": \"7-day rolling average\"}, {\"Date\": \"2020-04-27\", \"Confirmed cases\": 13, \"Rolling\": 14.857142857142858, \"Daily confirmed cases\": \"Daily confirmed cases\", \"7-day rolling average\": \"7-day rolling average\"}]}}, {\"mode\": \"vega-lite\"});\n",
       "</script>"
      ],
      "text/plain": [
       "alt.LayerChart(...)"
      ]
     },
     "execution_count": 37,
     "metadata": {},
     "output_type": "execute_result"
    }
   ],
   "source": [
    "#hide_input\n",
    "bars, line = my_cases_plot(region)\n",
    "(bars + line).properties(\n",
    "    title=f'Covid-19 in Chile: Daily confirmed cases in {region}',\n",
    "    width=600\n",
    ")"
   ]
  },
  {
   "cell_type": "markdown",
   "metadata": {
    "papermill": {
     "duration": 0.085764,
     "end_time": "2020-04-28T06:16:25.621078",
     "exception": false,
     "start_time": "2020-04-28T06:16:25.535314",
     "status": "completed"
    },
    "tags": []
   },
   "source": [
    "## Tarapacá"
   ]
  },
  {
   "cell_type": "code",
   "execution_count": 38,
   "metadata": {
    "execution": {
     "iopub.execute_input": "2020-04-28T06:16:25.808829Z",
     "iopub.status.busy": "2020-04-28T06:16:25.808250Z",
     "iopub.status.idle": "2020-04-28T06:16:25.811169Z",
     "shell.execute_reply": "2020-04-28T06:16:25.811931Z"
    },
    "papermill": {
     "duration": 0.094574,
     "end_time": "2020-04-28T06:16:25.812062",
     "exception": false,
     "start_time": "2020-04-28T06:16:25.717488",
     "status": "completed"
    },
    "tags": []
   },
   "outputs": [],
   "source": [
    "#hide\n",
    "region = \"Tarapacá\""
   ]
  },
  {
   "cell_type": "code",
   "execution_count": 39,
   "metadata": {
    "execution": {
     "iopub.execute_input": "2020-04-28T06:16:25.988897Z",
     "iopub.status.busy": "2020-04-28T06:16:25.988245Z",
     "iopub.status.idle": "2020-04-28T06:16:26.022550Z",
     "shell.execute_reply": "2020-04-28T06:16:26.023097Z"
    },
    "papermill": {
     "duration": 0.128985,
     "end_time": "2020-04-28T06:16:26.023245",
     "exception": false,
     "start_time": "2020-04-28T06:16:25.894260",
     "status": "completed"
    },
    "tags": []
   },
   "outputs": [
    {
     "data": {
      "text/html": [
       "\n",
       "<div id=\"altair-viz-f1d59fcf45f8436aab2e6cc8dc552208\"></div>\n",
       "<script type=\"text/javascript\">\n",
       "  (function(spec, embedOpt){\n",
       "    let outputDiv = document.currentScript.previousElementSibling;\n",
       "    if (outputDiv.id !== \"altair-viz-f1d59fcf45f8436aab2e6cc8dc552208\") {\n",
       "      outputDiv = document.getElementById(\"altair-viz-f1d59fcf45f8436aab2e6cc8dc552208\");\n",
       "    }\n",
       "    const paths = {\n",
       "      \"vega\": \"https://cdn.jsdelivr.net/npm//vega@5?noext\",\n",
       "      \"vega-lib\": \"https://cdn.jsdelivr.net/npm//vega-lib?noext\",\n",
       "      \"vega-lite\": \"https://cdn.jsdelivr.net/npm//vega-lite@4.8.1?noext\",\n",
       "      \"vega-embed\": \"https://cdn.jsdelivr.net/npm//vega-embed@6?noext\",\n",
       "    };\n",
       "\n",
       "    function loadScript(lib) {\n",
       "      return new Promise(function(resolve, reject) {\n",
       "        var s = document.createElement('script');\n",
       "        s.src = paths[lib];\n",
       "        s.async = true;\n",
       "        s.onload = () => resolve(paths[lib]);\n",
       "        s.onerror = () => reject(`Error loading script: ${paths[lib]}`);\n",
       "        document.getElementsByTagName(\"head\")[0].appendChild(s);\n",
       "      });\n",
       "    }\n",
       "\n",
       "    function showError(err) {\n",
       "      outputDiv.innerHTML = `<div class=\"error\" style=\"color:red;\">${err}</div>`;\n",
       "      throw err;\n",
       "    }\n",
       "\n",
       "    function displayChart(vegaEmbed) {\n",
       "      vegaEmbed(outputDiv, spec, embedOpt)\n",
       "        .catch(err => showError(`Javascript Error: ${err.message}<br>This usually means there's a typo in your chart specification. See the javascript console for the full traceback.`));\n",
       "    }\n",
       "\n",
       "    if(typeof define === \"function\" && define.amd) {\n",
       "      requirejs.config({paths});\n",
       "      require([\"vega-embed\"], displayChart, err => showError(`Error loading script: ${err.message}`));\n",
       "    } else if (typeof vegaEmbed === \"function\") {\n",
       "      displayChart(vegaEmbed);\n",
       "    } else {\n",
       "      loadScript(\"vega\")\n",
       "        .then(() => loadScript(\"vega-lite\"))\n",
       "        .then(() => loadScript(\"vega-embed\"))\n",
       "        .catch(showError)\n",
       "        .then(() => displayChart(vegaEmbed));\n",
       "    }\n",
       "  })({\"config\": {\"view\": {\"continuousWidth\": 400, \"continuousHeight\": 300}}, \"layer\": [{\"mark\": {\"type\": \"bar\", \"opacity\": 0.7}, \"encoding\": {\"opacity\": {\"type\": \"nominal\", \"field\": \"Daily confirmed cases\", \"legend\": {\"title\": \"\"}}, \"tooltip\": [{\"type\": \"nominal\", \"field\": \"Date\"}, {\"type\": \"quantitative\", \"field\": \"Confirmed cases\"}], \"x\": {\"type\": \"nominal\", \"axis\": {\"title\": \"Date\"}, \"field\": \"Date\"}, \"y\": {\"type\": \"quantitative\", \"axis\": {\"title\": \"Daily confirmed cases\"}, \"field\": \"Confirmed cases\"}}}, {\"mark\": {\"type\": \"line\", \"color\": \"#1f77b4\", \"point\": {\"filled\": true, \"fill\": \"#1f77b4\"}}, \"encoding\": {\"shape\": {\"type\": \"nominal\", \"field\": \"7-day rolling average\", \"legend\": {\"title\": \"\"}}, \"x\": {\"type\": \"nominal\", \"axis\": {\"title\": \"Date\"}, \"field\": \"Date\"}, \"y\": {\"type\": \"quantitative\", \"field\": \"Rolling\"}}}], \"data\": {\"name\": \"data-753eb22afa6fb6a7e2f7db3b9531e44f\"}, \"title\": \"Covid-19 in Chile: Daily confirmed cases in Tarapac\\u00e1\", \"width\": 600, \"$schema\": \"https://vega.github.io/schema/vega-lite/v4.8.1.json\", \"datasets\": {\"data-753eb22afa6fb6a7e2f7db3b9531e44f\": [{\"Date\": \"2020-03-04\", \"Confirmed cases\": 0, \"Rolling\": null, \"Daily confirmed cases\": \"Daily confirmed cases\", \"7-day rolling average\": \"7-day rolling average\"}, {\"Date\": \"2020-03-05\", \"Confirmed cases\": 0, \"Rolling\": null, \"Daily confirmed cases\": \"Daily confirmed cases\", \"7-day rolling average\": \"7-day rolling average\"}, {\"Date\": \"2020-03-06\", \"Confirmed cases\": 0, \"Rolling\": null, \"Daily confirmed cases\": \"Daily confirmed cases\", \"7-day rolling average\": \"7-day rolling average\"}, {\"Date\": \"2020-03-07\", \"Confirmed cases\": 0, \"Rolling\": null, \"Daily confirmed cases\": \"Daily confirmed cases\", \"7-day rolling average\": \"7-day rolling average\"}, {\"Date\": \"2020-03-08\", \"Confirmed cases\": 0, \"Rolling\": null, \"Daily confirmed cases\": \"Daily confirmed cases\", \"7-day rolling average\": \"7-day rolling average\"}, {\"Date\": \"2020-03-09\", \"Confirmed cases\": 0, \"Rolling\": null, \"Daily confirmed cases\": \"Daily confirmed cases\", \"7-day rolling average\": \"7-day rolling average\"}, {\"Date\": \"2020-03-10\", \"Confirmed cases\": 0, \"Rolling\": 0.0, \"Daily confirmed cases\": \"Daily confirmed cases\", \"7-day rolling average\": \"7-day rolling average\"}, {\"Date\": \"2020-03-11\", \"Confirmed cases\": 0, \"Rolling\": 0.0, \"Daily confirmed cases\": \"Daily confirmed cases\", \"7-day rolling average\": \"7-day rolling average\"}, {\"Date\": \"2020-03-12\", \"Confirmed cases\": 0, \"Rolling\": 0.0, \"Daily confirmed cases\": \"Daily confirmed cases\", \"7-day rolling average\": \"7-day rolling average\"}, {\"Date\": \"2020-03-13\", \"Confirmed cases\": 0, \"Rolling\": 0.0, \"Daily confirmed cases\": \"Daily confirmed cases\", \"7-day rolling average\": \"7-day rolling average\"}, {\"Date\": \"2020-03-14\", \"Confirmed cases\": 0, \"Rolling\": 0.0, \"Daily confirmed cases\": \"Daily confirmed cases\", \"7-day rolling average\": \"7-day rolling average\"}, {\"Date\": \"2020-03-15\", \"Confirmed cases\": 0, \"Rolling\": 0.0, \"Daily confirmed cases\": \"Daily confirmed cases\", \"7-day rolling average\": \"7-day rolling average\"}, {\"Date\": \"2020-03-16\", \"Confirmed cases\": 0, \"Rolling\": 0.0, \"Daily confirmed cases\": \"Daily confirmed cases\", \"7-day rolling average\": \"7-day rolling average\"}, {\"Date\": \"2020-03-17\", \"Confirmed cases\": 0, \"Rolling\": 0.0, \"Daily confirmed cases\": \"Daily confirmed cases\", \"7-day rolling average\": \"7-day rolling average\"}, {\"Date\": \"2020-03-18\", \"Confirmed cases\": 0, \"Rolling\": 0.0, \"Daily confirmed cases\": \"Daily confirmed cases\", \"7-day rolling average\": \"7-day rolling average\"}, {\"Date\": \"2020-03-19\", \"Confirmed cases\": 0, \"Rolling\": 0.0, \"Daily confirmed cases\": \"Daily confirmed cases\", \"7-day rolling average\": \"7-day rolling average\"}, {\"Date\": \"2020-03-20\", \"Confirmed cases\": 0, \"Rolling\": 0.0, \"Daily confirmed cases\": \"Daily confirmed cases\", \"7-day rolling average\": \"7-day rolling average\"}, {\"Date\": \"2020-03-21\", \"Confirmed cases\": 0, \"Rolling\": 0.0, \"Daily confirmed cases\": \"Daily confirmed cases\", \"7-day rolling average\": \"7-day rolling average\"}, {\"Date\": \"2020-03-22\", \"Confirmed cases\": 0, \"Rolling\": 0.0, \"Daily confirmed cases\": \"Daily confirmed cases\", \"7-day rolling average\": \"7-day rolling average\"}, {\"Date\": \"2020-03-23\", \"Confirmed cases\": 1, \"Rolling\": 0.14285714285714285, \"Daily confirmed cases\": \"Daily confirmed cases\", \"7-day rolling average\": \"7-day rolling average\"}, {\"Date\": \"2020-03-24\", \"Confirmed cases\": 3, \"Rolling\": 0.5714285714285714, \"Daily confirmed cases\": \"Daily confirmed cases\", \"7-day rolling average\": \"7-day rolling average\"}, {\"Date\": \"2020-03-25\", \"Confirmed cases\": 0, \"Rolling\": 0.5714285714285714, \"Daily confirmed cases\": \"Daily confirmed cases\", \"7-day rolling average\": \"7-day rolling average\"}, {\"Date\": \"2020-03-26\", \"Confirmed cases\": 1, \"Rolling\": 0.7142857142857143, \"Daily confirmed cases\": \"Daily confirmed cases\", \"7-day rolling average\": \"7-day rolling average\"}, {\"Date\": \"2020-03-27\", \"Confirmed cases\": 0, \"Rolling\": 0.7142857142857143, \"Daily confirmed cases\": \"Daily confirmed cases\", \"7-day rolling average\": \"7-day rolling average\"}, {\"Date\": \"2020-03-28\", \"Confirmed cases\": 0, \"Rolling\": 0.7142857142857143, \"Daily confirmed cases\": \"Daily confirmed cases\", \"7-day rolling average\": \"7-day rolling average\"}, {\"Date\": \"2020-03-29\", \"Confirmed cases\": 1, \"Rolling\": 0.8571428571428571, \"Daily confirmed cases\": \"Daily confirmed cases\", \"7-day rolling average\": \"7-day rolling average\"}, {\"Date\": \"2020-03-30\", \"Confirmed cases\": 2, \"Rolling\": 1.0, \"Daily confirmed cases\": \"Daily confirmed cases\", \"7-day rolling average\": \"7-day rolling average\"}, {\"Date\": \"2020-03-31\", \"Confirmed cases\": 2, \"Rolling\": 0.8571428571428571, \"Daily confirmed cases\": \"Daily confirmed cases\", \"7-day rolling average\": \"7-day rolling average\"}, {\"Date\": \"2020-04-01\", \"Confirmed cases\": 0, \"Rolling\": 0.8571428571428571, \"Daily confirmed cases\": \"Daily confirmed cases\", \"7-day rolling average\": \"7-day rolling average\"}, {\"Date\": \"2020-04-02\", \"Confirmed cases\": 2, \"Rolling\": 1.0, \"Daily confirmed cases\": \"Daily confirmed cases\", \"7-day rolling average\": \"7-day rolling average\"}, {\"Date\": \"2020-04-03\", \"Confirmed cases\": 1, \"Rolling\": 1.1428571428571428, \"Daily confirmed cases\": \"Daily confirmed cases\", \"7-day rolling average\": \"7-day rolling average\"}, {\"Date\": \"2020-04-04\", \"Confirmed cases\": 4, \"Rolling\": 1.7142857142857142, \"Daily confirmed cases\": \"Daily confirmed cases\", \"7-day rolling average\": \"7-day rolling average\"}, {\"Date\": \"2020-04-05\", \"Confirmed cases\": 3, \"Rolling\": 2.0, \"Daily confirmed cases\": \"Daily confirmed cases\", \"7-day rolling average\": \"7-day rolling average\"}, {\"Date\": \"2020-04-06\", \"Confirmed cases\": 1, \"Rolling\": 1.8571428571428572, \"Daily confirmed cases\": \"Daily confirmed cases\", \"7-day rolling average\": \"7-day rolling average\"}, {\"Date\": \"2020-04-07\", \"Confirmed cases\": 2, \"Rolling\": 1.8571428571428572, \"Daily confirmed cases\": \"Daily confirmed cases\", \"7-day rolling average\": \"7-day rolling average\"}, {\"Date\": \"2020-04-08\", \"Confirmed cases\": 3, \"Rolling\": 2.2857142857142856, \"Daily confirmed cases\": \"Daily confirmed cases\", \"7-day rolling average\": \"7-day rolling average\"}, {\"Date\": \"2020-04-09\", \"Confirmed cases\": 3, \"Rolling\": 2.4285714285714284, \"Daily confirmed cases\": \"Daily confirmed cases\", \"7-day rolling average\": \"7-day rolling average\"}, {\"Date\": \"2020-04-10\", \"Confirmed cases\": 6, \"Rolling\": 3.142857142857143, \"Daily confirmed cases\": \"Daily confirmed cases\", \"7-day rolling average\": \"7-day rolling average\"}, {\"Date\": \"2020-04-11\", \"Confirmed cases\": 3, \"Rolling\": 3.0, \"Daily confirmed cases\": \"Daily confirmed cases\", \"7-day rolling average\": \"7-day rolling average\"}, {\"Date\": \"2020-04-12\", \"Confirmed cases\": 8, \"Rolling\": 3.7142857142857144, \"Daily confirmed cases\": \"Daily confirmed cases\", \"7-day rolling average\": \"7-day rolling average\"}, {\"Date\": \"2020-04-13\", \"Confirmed cases\": 6, \"Rolling\": 4.428571428571429, \"Daily confirmed cases\": \"Daily confirmed cases\", \"7-day rolling average\": \"7-day rolling average\"}, {\"Date\": \"2020-04-14\", \"Confirmed cases\": 10, \"Rolling\": 5.571428571428571, \"Daily confirmed cases\": \"Daily confirmed cases\", \"7-day rolling average\": \"7-day rolling average\"}, {\"Date\": \"2020-04-15\", \"Confirmed cases\": 0, \"Rolling\": 5.142857142857143, \"Daily confirmed cases\": \"Daily confirmed cases\", \"7-day rolling average\": \"7-day rolling average\"}, {\"Date\": \"2020-04-16\", \"Confirmed cases\": 4, \"Rolling\": 5.285714285714286, \"Daily confirmed cases\": \"Daily confirmed cases\", \"7-day rolling average\": \"7-day rolling average\"}, {\"Date\": \"2020-04-17\", \"Confirmed cases\": 7, \"Rolling\": 5.428571428571429, \"Daily confirmed cases\": \"Daily confirmed cases\", \"7-day rolling average\": \"7-day rolling average\"}, {\"Date\": \"2020-04-18\", \"Confirmed cases\": 8, \"Rolling\": 6.142857142857143, \"Daily confirmed cases\": \"Daily confirmed cases\", \"7-day rolling average\": \"7-day rolling average\"}, {\"Date\": \"2020-04-19\", \"Confirmed cases\": 9, \"Rolling\": 6.285714285714286, \"Daily confirmed cases\": \"Daily confirmed cases\", \"7-day rolling average\": \"7-day rolling average\"}, {\"Date\": \"2020-04-20\", \"Confirmed cases\": 3, \"Rolling\": 5.857142857142857, \"Daily confirmed cases\": \"Daily confirmed cases\", \"7-day rolling average\": \"7-day rolling average\"}, {\"Date\": \"2020-04-21\", \"Confirmed cases\": 11, \"Rolling\": 6.0, \"Daily confirmed cases\": \"Daily confirmed cases\", \"7-day rolling average\": \"7-day rolling average\"}, {\"Date\": \"2020-04-22\", \"Confirmed cases\": 10, \"Rolling\": 7.428571428571429, \"Daily confirmed cases\": \"Daily confirmed cases\", \"7-day rolling average\": \"7-day rolling average\"}, {\"Date\": \"2020-04-23\", \"Confirmed cases\": 14, \"Rolling\": 8.857142857142858, \"Daily confirmed cases\": \"Daily confirmed cases\", \"7-day rolling average\": \"7-day rolling average\"}, {\"Date\": \"2020-04-24\", \"Confirmed cases\": 6, \"Rolling\": 8.714285714285714, \"Daily confirmed cases\": \"Daily confirmed cases\", \"7-day rolling average\": \"7-day rolling average\"}, {\"Date\": \"2020-04-25\", \"Confirmed cases\": 9, \"Rolling\": 8.857142857142858, \"Daily confirmed cases\": \"Daily confirmed cases\", \"7-day rolling average\": \"7-day rolling average\"}, {\"Date\": \"2020-04-26\", \"Confirmed cases\": 13, \"Rolling\": 9.428571428571429, \"Daily confirmed cases\": \"Daily confirmed cases\", \"7-day rolling average\": \"7-day rolling average\"}, {\"Date\": \"2020-04-27\", \"Confirmed cases\": 8, \"Rolling\": 10.142857142857142, \"Daily confirmed cases\": \"Daily confirmed cases\", \"7-day rolling average\": \"7-day rolling average\"}]}}, {\"mode\": \"vega-lite\"});\n",
       "</script>"
      ],
      "text/plain": [
       "alt.LayerChart(...)"
      ]
     },
     "execution_count": 39,
     "metadata": {},
     "output_type": "execute_result"
    }
   ],
   "source": [
    "#hide_input\n",
    "bars, line = my_cases_plot(region)\n",
    "(bars + line).properties(\n",
    "    title=f'Covid-19 in Chile: Daily confirmed cases in {region}',\n",
    "    width=600\n",
    ")"
   ]
  },
  {
   "cell_type": "markdown",
   "metadata": {
    "papermill": {
     "duration": 0.085787,
     "end_time": "2020-04-28T06:16:26.195809",
     "exception": false,
     "start_time": "2020-04-28T06:16:26.110022",
     "status": "completed"
    },
    "tags": []
   },
   "source": [
    "## Antofagasta"
   ]
  },
  {
   "cell_type": "code",
   "execution_count": 40,
   "metadata": {
    "execution": {
     "iopub.execute_input": "2020-04-28T06:16:26.371006Z",
     "iopub.status.busy": "2020-04-28T06:16:26.370308Z",
     "iopub.status.idle": "2020-04-28T06:16:26.371843Z",
     "shell.execute_reply": "2020-04-28T06:16:26.372330Z"
    },
    "papermill": {
     "duration": 0.090946,
     "end_time": "2020-04-28T06:16:26.372457",
     "exception": false,
     "start_time": "2020-04-28T06:16:26.281511",
     "status": "completed"
    },
    "tags": []
   },
   "outputs": [],
   "source": [
    "#hide\n",
    "region = \"Antofagasta\""
   ]
  },
  {
   "cell_type": "code",
   "execution_count": 41,
   "metadata": {
    "execution": {
     "iopub.execute_input": "2020-04-28T06:16:26.554748Z",
     "iopub.status.busy": "2020-04-28T06:16:26.554154Z",
     "iopub.status.idle": "2020-04-28T06:16:26.593113Z",
     "shell.execute_reply": "2020-04-28T06:16:26.593598Z"
    },
    "papermill": {
     "duration": 0.135337,
     "end_time": "2020-04-28T06:16:26.593729",
     "exception": false,
     "start_time": "2020-04-28T06:16:26.458392",
     "status": "completed"
    },
    "tags": []
   },
   "outputs": [
    {
     "data": {
      "text/html": [
       "\n",
       "<div id=\"altair-viz-46111d9302034a0d939e66fe16aab1b6\"></div>\n",
       "<script type=\"text/javascript\">\n",
       "  (function(spec, embedOpt){\n",
       "    let outputDiv = document.currentScript.previousElementSibling;\n",
       "    if (outputDiv.id !== \"altair-viz-46111d9302034a0d939e66fe16aab1b6\") {\n",
       "      outputDiv = document.getElementById(\"altair-viz-46111d9302034a0d939e66fe16aab1b6\");\n",
       "    }\n",
       "    const paths = {\n",
       "      \"vega\": \"https://cdn.jsdelivr.net/npm//vega@5?noext\",\n",
       "      \"vega-lib\": \"https://cdn.jsdelivr.net/npm//vega-lib?noext\",\n",
       "      \"vega-lite\": \"https://cdn.jsdelivr.net/npm//vega-lite@4.8.1?noext\",\n",
       "      \"vega-embed\": \"https://cdn.jsdelivr.net/npm//vega-embed@6?noext\",\n",
       "    };\n",
       "\n",
       "    function loadScript(lib) {\n",
       "      return new Promise(function(resolve, reject) {\n",
       "        var s = document.createElement('script');\n",
       "        s.src = paths[lib];\n",
       "        s.async = true;\n",
       "        s.onload = () => resolve(paths[lib]);\n",
       "        s.onerror = () => reject(`Error loading script: ${paths[lib]}`);\n",
       "        document.getElementsByTagName(\"head\")[0].appendChild(s);\n",
       "      });\n",
       "    }\n",
       "\n",
       "    function showError(err) {\n",
       "      outputDiv.innerHTML = `<div class=\"error\" style=\"color:red;\">${err}</div>`;\n",
       "      throw err;\n",
       "    }\n",
       "\n",
       "    function displayChart(vegaEmbed) {\n",
       "      vegaEmbed(outputDiv, spec, embedOpt)\n",
       "        .catch(err => showError(`Javascript Error: ${err.message}<br>This usually means there's a typo in your chart specification. See the javascript console for the full traceback.`));\n",
       "    }\n",
       "\n",
       "    if(typeof define === \"function\" && define.amd) {\n",
       "      requirejs.config({paths});\n",
       "      require([\"vega-embed\"], displayChart, err => showError(`Error loading script: ${err.message}`));\n",
       "    } else if (typeof vegaEmbed === \"function\") {\n",
       "      displayChart(vegaEmbed);\n",
       "    } else {\n",
       "      loadScript(\"vega\")\n",
       "        .then(() => loadScript(\"vega-lite\"))\n",
       "        .then(() => loadScript(\"vega-embed\"))\n",
       "        .catch(showError)\n",
       "        .then(() => displayChart(vegaEmbed));\n",
       "    }\n",
       "  })({\"config\": {\"view\": {\"continuousWidth\": 400, \"continuousHeight\": 300}}, \"layer\": [{\"mark\": {\"type\": \"bar\", \"opacity\": 0.7}, \"encoding\": {\"opacity\": {\"type\": \"nominal\", \"field\": \"Daily confirmed cases\", \"legend\": {\"title\": \"\"}}, \"tooltip\": [{\"type\": \"nominal\", \"field\": \"Date\"}, {\"type\": \"quantitative\", \"field\": \"Confirmed cases\"}], \"x\": {\"type\": \"nominal\", \"axis\": {\"title\": \"Date\"}, \"field\": \"Date\"}, \"y\": {\"type\": \"quantitative\", \"axis\": {\"title\": \"Daily confirmed cases\"}, \"field\": \"Confirmed cases\"}}}, {\"mark\": {\"type\": \"line\", \"color\": \"#1f77b4\", \"point\": {\"filled\": true, \"fill\": \"#1f77b4\"}}, \"encoding\": {\"shape\": {\"type\": \"nominal\", \"field\": \"7-day rolling average\", \"legend\": {\"title\": \"\"}}, \"x\": {\"type\": \"nominal\", \"axis\": {\"title\": \"Date\"}, \"field\": \"Date\"}, \"y\": {\"type\": \"quantitative\", \"field\": \"Rolling\"}}}], \"data\": {\"name\": \"data-c520396cd8fa2b9f71d810ccefd6490d\"}, \"title\": \"Covid-19 in Chile: Daily confirmed cases in Antofagasta\", \"width\": 600, \"$schema\": \"https://vega.github.io/schema/vega-lite/v4.8.1.json\", \"datasets\": {\"data-c520396cd8fa2b9f71d810ccefd6490d\": [{\"Date\": \"2020-03-04\", \"Confirmed cases\": 0, \"Rolling\": null, \"Daily confirmed cases\": \"Daily confirmed cases\", \"7-day rolling average\": \"7-day rolling average\"}, {\"Date\": \"2020-03-05\", \"Confirmed cases\": 0, \"Rolling\": null, \"Daily confirmed cases\": \"Daily confirmed cases\", \"7-day rolling average\": \"7-day rolling average\"}, {\"Date\": \"2020-03-06\", \"Confirmed cases\": 0, \"Rolling\": null, \"Daily confirmed cases\": \"Daily confirmed cases\", \"7-day rolling average\": \"7-day rolling average\"}, {\"Date\": \"2020-03-07\", \"Confirmed cases\": 0, \"Rolling\": null, \"Daily confirmed cases\": \"Daily confirmed cases\", \"7-day rolling average\": \"7-day rolling average\"}, {\"Date\": \"2020-03-08\", \"Confirmed cases\": 0, \"Rolling\": null, \"Daily confirmed cases\": \"Daily confirmed cases\", \"7-day rolling average\": \"7-day rolling average\"}, {\"Date\": \"2020-03-09\", \"Confirmed cases\": 0, \"Rolling\": null, \"Daily confirmed cases\": \"Daily confirmed cases\", \"7-day rolling average\": \"7-day rolling average\"}, {\"Date\": \"2020-03-10\", \"Confirmed cases\": 0, \"Rolling\": 0.0, \"Daily confirmed cases\": \"Daily confirmed cases\", \"7-day rolling average\": \"7-day rolling average\"}, {\"Date\": \"2020-03-11\", \"Confirmed cases\": 0, \"Rolling\": 0.0, \"Daily confirmed cases\": \"Daily confirmed cases\", \"7-day rolling average\": \"7-day rolling average\"}, {\"Date\": \"2020-03-12\", \"Confirmed cases\": 0, \"Rolling\": 0.0, \"Daily confirmed cases\": \"Daily confirmed cases\", \"7-day rolling average\": \"7-day rolling average\"}, {\"Date\": \"2020-03-13\", \"Confirmed cases\": 0, \"Rolling\": 0.0, \"Daily confirmed cases\": \"Daily confirmed cases\", \"7-day rolling average\": \"7-day rolling average\"}, {\"Date\": \"2020-03-14\", \"Confirmed cases\": 2, \"Rolling\": 0.2857142857142857, \"Daily confirmed cases\": \"Daily confirmed cases\", \"7-day rolling average\": \"7-day rolling average\"}, {\"Date\": \"2020-03-15\", \"Confirmed cases\": 0, \"Rolling\": 0.2857142857142857, \"Daily confirmed cases\": \"Daily confirmed cases\", \"7-day rolling average\": \"7-day rolling average\"}, {\"Date\": \"2020-03-16\", \"Confirmed cases\": 0, \"Rolling\": 0.2857142857142857, \"Daily confirmed cases\": \"Daily confirmed cases\", \"7-day rolling average\": \"7-day rolling average\"}, {\"Date\": \"2020-03-17\", \"Confirmed cases\": 0, \"Rolling\": 0.2857142857142857, \"Daily confirmed cases\": \"Daily confirmed cases\", \"7-day rolling average\": \"7-day rolling average\"}, {\"Date\": \"2020-03-18\", \"Confirmed cases\": 0, \"Rolling\": 0.2857142857142857, \"Daily confirmed cases\": \"Daily confirmed cases\", \"7-day rolling average\": \"7-day rolling average\"}, {\"Date\": \"2020-03-19\", \"Confirmed cases\": 0, \"Rolling\": 0.2857142857142857, \"Daily confirmed cases\": \"Daily confirmed cases\", \"7-day rolling average\": \"7-day rolling average\"}, {\"Date\": \"2020-03-20\", \"Confirmed cases\": 4, \"Rolling\": 0.8571428571428571, \"Daily confirmed cases\": \"Daily confirmed cases\", \"7-day rolling average\": \"7-day rolling average\"}, {\"Date\": \"2020-03-21\", \"Confirmed cases\": 4, \"Rolling\": 1.1428571428571428, \"Daily confirmed cases\": \"Daily confirmed cases\", \"7-day rolling average\": \"7-day rolling average\"}, {\"Date\": \"2020-03-22\", \"Confirmed cases\": 1, \"Rolling\": 1.2857142857142858, \"Daily confirmed cases\": \"Daily confirmed cases\", \"7-day rolling average\": \"7-day rolling average\"}, {\"Date\": \"2020-03-23\", \"Confirmed cases\": 0, \"Rolling\": 1.2857142857142858, \"Daily confirmed cases\": \"Daily confirmed cases\", \"7-day rolling average\": \"7-day rolling average\"}, {\"Date\": \"2020-03-24\", \"Confirmed cases\": 2, \"Rolling\": 1.5714285714285714, \"Daily confirmed cases\": \"Daily confirmed cases\", \"7-day rolling average\": \"7-day rolling average\"}, {\"Date\": \"2020-03-25\", \"Confirmed cases\": 6, \"Rolling\": 2.4285714285714284, \"Daily confirmed cases\": \"Daily confirmed cases\", \"7-day rolling average\": \"7-day rolling average\"}, {\"Date\": \"2020-03-26\", \"Confirmed cases\": 1, \"Rolling\": 2.5714285714285716, \"Daily confirmed cases\": \"Daily confirmed cases\", \"7-day rolling average\": \"7-day rolling average\"}, {\"Date\": \"2020-03-27\", \"Confirmed cases\": 1, \"Rolling\": 2.142857142857143, \"Daily confirmed cases\": \"Daily confirmed cases\", \"7-day rolling average\": \"7-day rolling average\"}, {\"Date\": \"2020-03-28\", \"Confirmed cases\": 4, \"Rolling\": 2.142857142857143, \"Daily confirmed cases\": \"Daily confirmed cases\", \"7-day rolling average\": \"7-day rolling average\"}, {\"Date\": \"2020-03-29\", \"Confirmed cases\": 2, \"Rolling\": 2.2857142857142856, \"Daily confirmed cases\": \"Daily confirmed cases\", \"7-day rolling average\": \"7-day rolling average\"}, {\"Date\": \"2020-03-30\", \"Confirmed cases\": 8, \"Rolling\": 3.4285714285714284, \"Daily confirmed cases\": \"Daily confirmed cases\", \"7-day rolling average\": \"7-day rolling average\"}, {\"Date\": \"2020-03-31\", \"Confirmed cases\": 0, \"Rolling\": 3.142857142857143, \"Daily confirmed cases\": \"Daily confirmed cases\", \"7-day rolling average\": \"7-day rolling average\"}, {\"Date\": \"2020-04-01\", \"Confirmed cases\": 4, \"Rolling\": 2.857142857142857, \"Daily confirmed cases\": \"Daily confirmed cases\", \"7-day rolling average\": \"7-day rolling average\"}, {\"Date\": \"2020-04-02\", \"Confirmed cases\": 8, \"Rolling\": 3.857142857142857, \"Daily confirmed cases\": \"Daily confirmed cases\", \"7-day rolling average\": \"7-day rolling average\"}, {\"Date\": \"2020-04-03\", \"Confirmed cases\": 7, \"Rolling\": 4.714285714285714, \"Daily confirmed cases\": \"Daily confirmed cases\", \"7-day rolling average\": \"7-day rolling average\"}, {\"Date\": \"2020-04-04\", \"Confirmed cases\": 1, \"Rolling\": 4.285714285714286, \"Daily confirmed cases\": \"Daily confirmed cases\", \"7-day rolling average\": \"7-day rolling average\"}, {\"Date\": \"2020-04-05\", \"Confirmed cases\": 5, \"Rolling\": 4.714285714285714, \"Daily confirmed cases\": \"Daily confirmed cases\", \"7-day rolling average\": \"7-day rolling average\"}, {\"Date\": \"2020-04-06\", \"Confirmed cases\": 8, \"Rolling\": 4.714285714285714, \"Daily confirmed cases\": \"Daily confirmed cases\", \"7-day rolling average\": \"7-day rolling average\"}, {\"Date\": \"2020-04-07\", \"Confirmed cases\": 1, \"Rolling\": 4.857142857142857, \"Daily confirmed cases\": \"Daily confirmed cases\", \"7-day rolling average\": \"7-day rolling average\"}, {\"Date\": \"2020-04-08\", \"Confirmed cases\": 8, \"Rolling\": 5.428571428571429, \"Daily confirmed cases\": \"Daily confirmed cases\", \"7-day rolling average\": \"7-day rolling average\"}, {\"Date\": \"2020-04-09\", \"Confirmed cases\": 15, \"Rolling\": 6.428571428571429, \"Daily confirmed cases\": \"Daily confirmed cases\", \"7-day rolling average\": \"7-day rolling average\"}, {\"Date\": \"2020-04-10\", \"Confirmed cases\": 18, \"Rolling\": 8.0, \"Daily confirmed cases\": \"Daily confirmed cases\", \"7-day rolling average\": \"7-day rolling average\"}, {\"Date\": \"2020-04-11\", \"Confirmed cases\": 7, \"Rolling\": 8.857142857142858, \"Daily confirmed cases\": \"Daily confirmed cases\", \"7-day rolling average\": \"7-day rolling average\"}, {\"Date\": \"2020-04-12\", \"Confirmed cases\": 21, \"Rolling\": 11.142857142857142, \"Daily confirmed cases\": \"Daily confirmed cases\", \"7-day rolling average\": \"7-day rolling average\"}, {\"Date\": \"2020-04-13\", \"Confirmed cases\": 11, \"Rolling\": 11.571428571428571, \"Daily confirmed cases\": \"Daily confirmed cases\", \"7-day rolling average\": \"7-day rolling average\"}, {\"Date\": \"2020-04-14\", \"Confirmed cases\": 6, \"Rolling\": 12.285714285714286, \"Daily confirmed cases\": \"Daily confirmed cases\", \"7-day rolling average\": \"7-day rolling average\"}, {\"Date\": \"2020-04-15\", \"Confirmed cases\": 21, \"Rolling\": 14.142857142857142, \"Daily confirmed cases\": \"Daily confirmed cases\", \"7-day rolling average\": \"7-day rolling average\"}, {\"Date\": \"2020-04-16\", \"Confirmed cases\": 16, \"Rolling\": 14.285714285714286, \"Daily confirmed cases\": \"Daily confirmed cases\", \"7-day rolling average\": \"7-day rolling average\"}, {\"Date\": \"2020-04-17\", \"Confirmed cases\": 19, \"Rolling\": 14.428571428571429, \"Daily confirmed cases\": \"Daily confirmed cases\", \"7-day rolling average\": \"7-day rolling average\"}, {\"Date\": \"2020-04-18\", \"Confirmed cases\": 15, \"Rolling\": 15.571428571428571, \"Daily confirmed cases\": \"Daily confirmed cases\", \"7-day rolling average\": \"7-day rolling average\"}, {\"Date\": \"2020-04-19\", \"Confirmed cases\": 23, \"Rolling\": 15.857142857142858, \"Daily confirmed cases\": \"Daily confirmed cases\", \"7-day rolling average\": \"7-day rolling average\"}, {\"Date\": \"2020-04-20\", \"Confirmed cases\": 14, \"Rolling\": 16.285714285714285, \"Daily confirmed cases\": \"Daily confirmed cases\", \"7-day rolling average\": \"7-day rolling average\"}, {\"Date\": \"2020-04-21\", \"Confirmed cases\": 28, \"Rolling\": 19.428571428571427, \"Daily confirmed cases\": \"Daily confirmed cases\", \"7-day rolling average\": \"7-day rolling average\"}, {\"Date\": \"2020-04-22\", \"Confirmed cases\": 35, \"Rolling\": 21.428571428571427, \"Daily confirmed cases\": \"Daily confirmed cases\", \"7-day rolling average\": \"7-day rolling average\"}, {\"Date\": \"2020-04-23\", \"Confirmed cases\": 14, \"Rolling\": 21.142857142857142, \"Daily confirmed cases\": \"Daily confirmed cases\", \"7-day rolling average\": \"7-day rolling average\"}, {\"Date\": \"2020-04-24\", \"Confirmed cases\": 26, \"Rolling\": 22.142857142857142, \"Daily confirmed cases\": \"Daily confirmed cases\", \"7-day rolling average\": \"7-day rolling average\"}, {\"Date\": \"2020-04-25\", \"Confirmed cases\": 25, \"Rolling\": 23.571428571428573, \"Daily confirmed cases\": \"Daily confirmed cases\", \"7-day rolling average\": \"7-day rolling average\"}, {\"Date\": \"2020-04-26\", \"Confirmed cases\": 52, \"Rolling\": 27.714285714285715, \"Daily confirmed cases\": \"Daily confirmed cases\", \"7-day rolling average\": \"7-day rolling average\"}, {\"Date\": \"2020-04-27\", \"Confirmed cases\": 14, \"Rolling\": 27.714285714285715, \"Daily confirmed cases\": \"Daily confirmed cases\", \"7-day rolling average\": \"7-day rolling average\"}]}}, {\"mode\": \"vega-lite\"});\n",
       "</script>"
      ],
      "text/plain": [
       "alt.LayerChart(...)"
      ]
     },
     "execution_count": 41,
     "metadata": {},
     "output_type": "execute_result"
    }
   ],
   "source": [
    "#hide_input\n",
    "bars, line = my_cases_plot(region)\n",
    "(bars + line).properties(\n",
    "    title=f'Covid-19 in Chile: Daily confirmed cases in {region}',\n",
    "    width=600\n",
    ")"
   ]
  },
  {
   "cell_type": "markdown",
   "metadata": {
    "papermill": {
     "duration": 0.085995,
     "end_time": "2020-04-28T06:16:26.767058",
     "exception": false,
     "start_time": "2020-04-28T06:16:26.681063",
     "status": "completed"
    },
    "tags": []
   },
   "source": [
    "## Atacama"
   ]
  },
  {
   "cell_type": "code",
   "execution_count": 42,
   "metadata": {
    "execution": {
     "iopub.execute_input": "2020-04-28T06:16:26.944226Z",
     "iopub.status.busy": "2020-04-28T06:16:26.943248Z",
     "iopub.status.idle": "2020-04-28T06:16:26.944905Z",
     "shell.execute_reply": "2020-04-28T06:16:26.945374Z"
    },
    "papermill": {
     "duration": 0.092513,
     "end_time": "2020-04-28T06:16:26.945501",
     "exception": false,
     "start_time": "2020-04-28T06:16:26.852988",
     "status": "completed"
    },
    "tags": []
   },
   "outputs": [],
   "source": [
    "#hide\n",
    "region = \"Atacama\""
   ]
  },
  {
   "cell_type": "code",
   "execution_count": 43,
   "metadata": {
    "execution": {
     "iopub.execute_input": "2020-04-28T06:16:27.148729Z",
     "iopub.status.busy": "2020-04-28T06:16:27.131519Z",
     "iopub.status.idle": "2020-04-28T06:16:27.160066Z",
     "shell.execute_reply": "2020-04-28T06:16:27.160537Z"
    },
    "papermill": {
     "duration": 0.131825,
     "end_time": "2020-04-28T06:16:27.160670",
     "exception": false,
     "start_time": "2020-04-28T06:16:27.028845",
     "status": "completed"
    },
    "tags": []
   },
   "outputs": [
    {
     "data": {
      "text/html": [
       "\n",
       "<div id=\"altair-viz-574a90a3d83f43fcbbd8c995b614c7b1\"></div>\n",
       "<script type=\"text/javascript\">\n",
       "  (function(spec, embedOpt){\n",
       "    let outputDiv = document.currentScript.previousElementSibling;\n",
       "    if (outputDiv.id !== \"altair-viz-574a90a3d83f43fcbbd8c995b614c7b1\") {\n",
       "      outputDiv = document.getElementById(\"altair-viz-574a90a3d83f43fcbbd8c995b614c7b1\");\n",
       "    }\n",
       "    const paths = {\n",
       "      \"vega\": \"https://cdn.jsdelivr.net/npm//vega@5?noext\",\n",
       "      \"vega-lib\": \"https://cdn.jsdelivr.net/npm//vega-lib?noext\",\n",
       "      \"vega-lite\": \"https://cdn.jsdelivr.net/npm//vega-lite@4.8.1?noext\",\n",
       "      \"vega-embed\": \"https://cdn.jsdelivr.net/npm//vega-embed@6?noext\",\n",
       "    };\n",
       "\n",
       "    function loadScript(lib) {\n",
       "      return new Promise(function(resolve, reject) {\n",
       "        var s = document.createElement('script');\n",
       "        s.src = paths[lib];\n",
       "        s.async = true;\n",
       "        s.onload = () => resolve(paths[lib]);\n",
       "        s.onerror = () => reject(`Error loading script: ${paths[lib]}`);\n",
       "        document.getElementsByTagName(\"head\")[0].appendChild(s);\n",
       "      });\n",
       "    }\n",
       "\n",
       "    function showError(err) {\n",
       "      outputDiv.innerHTML = `<div class=\"error\" style=\"color:red;\">${err}</div>`;\n",
       "      throw err;\n",
       "    }\n",
       "\n",
       "    function displayChart(vegaEmbed) {\n",
       "      vegaEmbed(outputDiv, spec, embedOpt)\n",
       "        .catch(err => showError(`Javascript Error: ${err.message}<br>This usually means there's a typo in your chart specification. See the javascript console for the full traceback.`));\n",
       "    }\n",
       "\n",
       "    if(typeof define === \"function\" && define.amd) {\n",
       "      requirejs.config({paths});\n",
       "      require([\"vega-embed\"], displayChart, err => showError(`Error loading script: ${err.message}`));\n",
       "    } else if (typeof vegaEmbed === \"function\") {\n",
       "      displayChart(vegaEmbed);\n",
       "    } else {\n",
       "      loadScript(\"vega\")\n",
       "        .then(() => loadScript(\"vega-lite\"))\n",
       "        .then(() => loadScript(\"vega-embed\"))\n",
       "        .catch(showError)\n",
       "        .then(() => displayChart(vegaEmbed));\n",
       "    }\n",
       "  })({\"config\": {\"view\": {\"continuousWidth\": 400, \"continuousHeight\": 300}}, \"layer\": [{\"mark\": {\"type\": \"bar\", \"opacity\": 0.7}, \"encoding\": {\"opacity\": {\"type\": \"nominal\", \"field\": \"Daily confirmed cases\", \"legend\": {\"title\": \"\"}}, \"tooltip\": [{\"type\": \"nominal\", \"field\": \"Date\"}, {\"type\": \"quantitative\", \"field\": \"Confirmed cases\"}], \"x\": {\"type\": \"nominal\", \"axis\": {\"title\": \"Date\"}, \"field\": \"Date\"}, \"y\": {\"type\": \"quantitative\", \"axis\": {\"title\": \"Daily confirmed cases\"}, \"field\": \"Confirmed cases\"}}}, {\"mark\": {\"type\": \"line\", \"color\": \"#1f77b4\", \"point\": {\"filled\": true, \"fill\": \"#1f77b4\"}}, \"encoding\": {\"shape\": {\"type\": \"nominal\", \"field\": \"7-day rolling average\", \"legend\": {\"title\": \"\"}}, \"x\": {\"type\": \"nominal\", \"axis\": {\"title\": \"Date\"}, \"field\": \"Date\"}, \"y\": {\"type\": \"quantitative\", \"field\": \"Rolling\"}}}], \"data\": {\"name\": \"data-b31775226047550caa5dd389efa1f8d4\"}, \"title\": \"Covid-19 in Chile: Daily confirmed cases in Atacama\", \"width\": 600, \"$schema\": \"https://vega.github.io/schema/vega-lite/v4.8.1.json\", \"datasets\": {\"data-b31775226047550caa5dd389efa1f8d4\": [{\"Date\": \"2020-03-04\", \"Confirmed cases\": 0, \"Rolling\": null, \"Daily confirmed cases\": \"Daily confirmed cases\", \"7-day rolling average\": \"7-day rolling average\"}, {\"Date\": \"2020-03-05\", \"Confirmed cases\": 0, \"Rolling\": null, \"Daily confirmed cases\": \"Daily confirmed cases\", \"7-day rolling average\": \"7-day rolling average\"}, {\"Date\": \"2020-03-06\", \"Confirmed cases\": 0, \"Rolling\": null, \"Daily confirmed cases\": \"Daily confirmed cases\", \"7-day rolling average\": \"7-day rolling average\"}, {\"Date\": \"2020-03-07\", \"Confirmed cases\": 0, \"Rolling\": null, \"Daily confirmed cases\": \"Daily confirmed cases\", \"7-day rolling average\": \"7-day rolling average\"}, {\"Date\": \"2020-03-08\", \"Confirmed cases\": 0, \"Rolling\": null, \"Daily confirmed cases\": \"Daily confirmed cases\", \"7-day rolling average\": \"7-day rolling average\"}, {\"Date\": \"2020-03-09\", \"Confirmed cases\": 0, \"Rolling\": null, \"Daily confirmed cases\": \"Daily confirmed cases\", \"7-day rolling average\": \"7-day rolling average\"}, {\"Date\": \"2020-03-10\", \"Confirmed cases\": 0, \"Rolling\": 0.0, \"Daily confirmed cases\": \"Daily confirmed cases\", \"7-day rolling average\": \"7-day rolling average\"}, {\"Date\": \"2020-03-11\", \"Confirmed cases\": 0, \"Rolling\": 0.0, \"Daily confirmed cases\": \"Daily confirmed cases\", \"7-day rolling average\": \"7-day rolling average\"}, {\"Date\": \"2020-03-12\", \"Confirmed cases\": 0, \"Rolling\": 0.0, \"Daily confirmed cases\": \"Daily confirmed cases\", \"7-day rolling average\": \"7-day rolling average\"}, {\"Date\": \"2020-03-13\", \"Confirmed cases\": 0, \"Rolling\": 0.0, \"Daily confirmed cases\": \"Daily confirmed cases\", \"7-day rolling average\": \"7-day rolling average\"}, {\"Date\": \"2020-03-14\", \"Confirmed cases\": 1, \"Rolling\": 0.14285714285714285, \"Daily confirmed cases\": \"Daily confirmed cases\", \"7-day rolling average\": \"7-day rolling average\"}, {\"Date\": \"2020-03-15\", \"Confirmed cases\": 0, \"Rolling\": 0.14285714285714285, \"Daily confirmed cases\": \"Daily confirmed cases\", \"7-day rolling average\": \"7-day rolling average\"}, {\"Date\": \"2020-03-16\", \"Confirmed cases\": 0, \"Rolling\": 0.14285714285714285, \"Daily confirmed cases\": \"Daily confirmed cases\", \"7-day rolling average\": \"7-day rolling average\"}, {\"Date\": \"2020-03-17\", \"Confirmed cases\": 0, \"Rolling\": 0.14285714285714285, \"Daily confirmed cases\": \"Daily confirmed cases\", \"7-day rolling average\": \"7-day rolling average\"}, {\"Date\": \"2020-03-18\", \"Confirmed cases\": 0, \"Rolling\": 0.14285714285714285, \"Daily confirmed cases\": \"Daily confirmed cases\", \"7-day rolling average\": \"7-day rolling average\"}, {\"Date\": \"2020-03-19\", \"Confirmed cases\": 0, \"Rolling\": 0.14285714285714285, \"Daily confirmed cases\": \"Daily confirmed cases\", \"7-day rolling average\": \"7-day rolling average\"}, {\"Date\": \"2020-03-20\", \"Confirmed cases\": 0, \"Rolling\": 0.14285714285714285, \"Daily confirmed cases\": \"Daily confirmed cases\", \"7-day rolling average\": \"7-day rolling average\"}, {\"Date\": \"2020-03-21\", \"Confirmed cases\": 0, \"Rolling\": 0.0, \"Daily confirmed cases\": \"Daily confirmed cases\", \"7-day rolling average\": \"7-day rolling average\"}, {\"Date\": \"2020-03-22\", \"Confirmed cases\": 0, \"Rolling\": 0.0, \"Daily confirmed cases\": \"Daily confirmed cases\", \"7-day rolling average\": \"7-day rolling average\"}, {\"Date\": \"2020-03-23\", \"Confirmed cases\": 0, \"Rolling\": 0.0, \"Daily confirmed cases\": \"Daily confirmed cases\", \"7-day rolling average\": \"7-day rolling average\"}, {\"Date\": \"2020-03-24\", \"Confirmed cases\": 0, \"Rolling\": 0.0, \"Daily confirmed cases\": \"Daily confirmed cases\", \"7-day rolling average\": \"7-day rolling average\"}, {\"Date\": \"2020-03-25\", \"Confirmed cases\": 0, \"Rolling\": 0.0, \"Daily confirmed cases\": \"Daily confirmed cases\", \"7-day rolling average\": \"7-day rolling average\"}, {\"Date\": \"2020-03-26\", \"Confirmed cases\": 0, \"Rolling\": 0.0, \"Daily confirmed cases\": \"Daily confirmed cases\", \"7-day rolling average\": \"7-day rolling average\"}, {\"Date\": \"2020-03-27\", \"Confirmed cases\": 0, \"Rolling\": 0.0, \"Daily confirmed cases\": \"Daily confirmed cases\", \"7-day rolling average\": \"7-day rolling average\"}, {\"Date\": \"2020-03-28\", \"Confirmed cases\": 0, \"Rolling\": 0.0, \"Daily confirmed cases\": \"Daily confirmed cases\", \"7-day rolling average\": \"7-day rolling average\"}, {\"Date\": \"2020-03-29\", \"Confirmed cases\": 1, \"Rolling\": 0.14285714285714285, \"Daily confirmed cases\": \"Daily confirmed cases\", \"7-day rolling average\": \"7-day rolling average\"}, {\"Date\": \"2020-03-30\", \"Confirmed cases\": 0, \"Rolling\": 0.14285714285714285, \"Daily confirmed cases\": \"Daily confirmed cases\", \"7-day rolling average\": \"7-day rolling average\"}, {\"Date\": \"2020-03-31\", \"Confirmed cases\": 0, \"Rolling\": 0.14285714285714285, \"Daily confirmed cases\": \"Daily confirmed cases\", \"7-day rolling average\": \"7-day rolling average\"}, {\"Date\": \"2020-04-01\", \"Confirmed cases\": 1, \"Rolling\": 0.2857142857142857, \"Daily confirmed cases\": \"Daily confirmed cases\", \"7-day rolling average\": \"7-day rolling average\"}, {\"Date\": \"2020-04-02\", \"Confirmed cases\": 0, \"Rolling\": 0.2857142857142857, \"Daily confirmed cases\": \"Daily confirmed cases\", \"7-day rolling average\": \"7-day rolling average\"}, {\"Date\": \"2020-04-03\", \"Confirmed cases\": 2, \"Rolling\": 0.5714285714285714, \"Daily confirmed cases\": \"Daily confirmed cases\", \"7-day rolling average\": \"7-day rolling average\"}, {\"Date\": \"2020-04-04\", \"Confirmed cases\": 0, \"Rolling\": 0.5714285714285714, \"Daily confirmed cases\": \"Daily confirmed cases\", \"7-day rolling average\": \"7-day rolling average\"}, {\"Date\": \"2020-04-05\", \"Confirmed cases\": 0, \"Rolling\": 0.42857142857142855, \"Daily confirmed cases\": \"Daily confirmed cases\", \"7-day rolling average\": \"7-day rolling average\"}, {\"Date\": \"2020-04-06\", \"Confirmed cases\": 0, \"Rolling\": 0.42857142857142855, \"Daily confirmed cases\": \"Daily confirmed cases\", \"7-day rolling average\": \"7-day rolling average\"}, {\"Date\": \"2020-04-07\", \"Confirmed cases\": 1, \"Rolling\": 0.5714285714285714, \"Daily confirmed cases\": \"Daily confirmed cases\", \"7-day rolling average\": \"7-day rolling average\"}, {\"Date\": \"2020-04-08\", \"Confirmed cases\": 2, \"Rolling\": 0.7142857142857143, \"Daily confirmed cases\": \"Daily confirmed cases\", \"7-day rolling average\": \"7-day rolling average\"}, {\"Date\": \"2020-04-09\", \"Confirmed cases\": 2, \"Rolling\": 1.0, \"Daily confirmed cases\": \"Daily confirmed cases\", \"7-day rolling average\": \"7-day rolling average\"}, {\"Date\": \"2020-04-10\", \"Confirmed cases\": 3, \"Rolling\": 1.1428571428571428, \"Daily confirmed cases\": \"Daily confirmed cases\", \"7-day rolling average\": \"7-day rolling average\"}, {\"Date\": \"2020-04-11\", \"Confirmed cases\": 0, \"Rolling\": 1.1428571428571428, \"Daily confirmed cases\": \"Daily confirmed cases\", \"7-day rolling average\": \"7-day rolling average\"}, {\"Date\": \"2020-04-12\", \"Confirmed cases\": 0, \"Rolling\": 1.1428571428571428, \"Daily confirmed cases\": \"Daily confirmed cases\", \"7-day rolling average\": \"7-day rolling average\"}, {\"Date\": \"2020-04-13\", \"Confirmed cases\": 0, \"Rolling\": 1.1428571428571428, \"Daily confirmed cases\": \"Daily confirmed cases\", \"7-day rolling average\": \"7-day rolling average\"}, {\"Date\": \"2020-04-14\", \"Confirmed cases\": 0, \"Rolling\": 1.0, \"Daily confirmed cases\": \"Daily confirmed cases\", \"7-day rolling average\": \"7-day rolling average\"}, {\"Date\": \"2020-04-15\", \"Confirmed cases\": 0, \"Rolling\": 0.7142857142857143, \"Daily confirmed cases\": \"Daily confirmed cases\", \"7-day rolling average\": \"7-day rolling average\"}, {\"Date\": \"2020-04-16\", \"Confirmed cases\": 0, \"Rolling\": 0.42857142857142855, \"Daily confirmed cases\": \"Daily confirmed cases\", \"7-day rolling average\": \"7-day rolling average\"}, {\"Date\": \"2020-04-17\", \"Confirmed cases\": 0, \"Rolling\": 0.0, \"Daily confirmed cases\": \"Daily confirmed cases\", \"7-day rolling average\": \"7-day rolling average\"}, {\"Date\": \"2020-04-18\", \"Confirmed cases\": 0, \"Rolling\": 0.0, \"Daily confirmed cases\": \"Daily confirmed cases\", \"7-day rolling average\": \"7-day rolling average\"}, {\"Date\": \"2020-04-19\", \"Confirmed cases\": 0, \"Rolling\": 0.0, \"Daily confirmed cases\": \"Daily confirmed cases\", \"7-day rolling average\": \"7-day rolling average\"}, {\"Date\": \"2020-04-20\", \"Confirmed cases\": 0, \"Rolling\": 0.0, \"Daily confirmed cases\": \"Daily confirmed cases\", \"7-day rolling average\": \"7-day rolling average\"}, {\"Date\": \"2020-04-21\", \"Confirmed cases\": 0, \"Rolling\": 0.0, \"Daily confirmed cases\": \"Daily confirmed cases\", \"7-day rolling average\": \"7-day rolling average\"}, {\"Date\": \"2020-04-22\", \"Confirmed cases\": 0, \"Rolling\": 0.0, \"Daily confirmed cases\": \"Daily confirmed cases\", \"7-day rolling average\": \"7-day rolling average\"}, {\"Date\": \"2020-04-23\", \"Confirmed cases\": 5, \"Rolling\": 0.7142857142857143, \"Daily confirmed cases\": \"Daily confirmed cases\", \"7-day rolling average\": \"7-day rolling average\"}, {\"Date\": \"2020-04-24\", \"Confirmed cases\": 3, \"Rolling\": 1.1428571428571428, \"Daily confirmed cases\": \"Daily confirmed cases\", \"7-day rolling average\": \"7-day rolling average\"}, {\"Date\": \"2020-04-25\", \"Confirmed cases\": 3, \"Rolling\": 1.5714285714285714, \"Daily confirmed cases\": \"Daily confirmed cases\", \"7-day rolling average\": \"7-day rolling average\"}, {\"Date\": \"2020-04-26\", \"Confirmed cases\": 5, \"Rolling\": 2.2857142857142856, \"Daily confirmed cases\": \"Daily confirmed cases\", \"7-day rolling average\": \"7-day rolling average\"}, {\"Date\": \"2020-04-27\", \"Confirmed cases\": 6, \"Rolling\": 3.142857142857143, \"Daily confirmed cases\": \"Daily confirmed cases\", \"7-day rolling average\": \"7-day rolling average\"}]}}, {\"mode\": \"vega-lite\"});\n",
       "</script>"
      ],
      "text/plain": [
       "alt.LayerChart(...)"
      ]
     },
     "execution_count": 43,
     "metadata": {},
     "output_type": "execute_result"
    }
   ],
   "source": [
    "#hide_input\n",
    "bars, line = my_cases_plot(region)\n",
    "(bars + line).properties(\n",
    "    title=f'Covid-19 in Chile: Daily confirmed cases in {region}',\n",
    "    width=600\n",
    ")"
   ]
  },
  {
   "cell_type": "markdown",
   "metadata": {
    "papermill": {
     "duration": 0.087262,
     "end_time": "2020-04-28T06:16:27.335079",
     "exception": false,
     "start_time": "2020-04-28T06:16:27.247817",
     "status": "completed"
    },
    "tags": []
   },
   "source": [
    "## Coquimbo"
   ]
  },
  {
   "cell_type": "code",
   "execution_count": 44,
   "metadata": {
    "execution": {
     "iopub.execute_input": "2020-04-28T06:16:27.516937Z",
     "iopub.status.busy": "2020-04-28T06:16:27.516330Z",
     "iopub.status.idle": "2020-04-28T06:16:27.518873Z",
     "shell.execute_reply": "2020-04-28T06:16:27.518398Z"
    },
    "papermill": {
     "duration": 0.091273,
     "end_time": "2020-04-28T06:16:27.518984",
     "exception": false,
     "start_time": "2020-04-28T06:16:27.427711",
     "status": "completed"
    },
    "tags": []
   },
   "outputs": [],
   "source": [
    "#hide\n",
    "region = \"Coquimbo\""
   ]
  },
  {
   "cell_type": "code",
   "execution_count": 45,
   "metadata": {
    "execution": {
     "iopub.execute_input": "2020-04-28T06:16:27.713362Z",
     "iopub.status.busy": "2020-04-28T06:16:27.702905Z",
     "iopub.status.idle": "2020-04-28T06:16:27.730637Z",
     "shell.execute_reply": "2020-04-28T06:16:27.731097Z"
    },
    "papermill": {
     "duration": 0.127958,
     "end_time": "2020-04-28T06:16:27.731222",
     "exception": false,
     "start_time": "2020-04-28T06:16:27.603264",
     "status": "completed"
    },
    "tags": []
   },
   "outputs": [
    {
     "data": {
      "text/html": [
       "\n",
       "<div id=\"altair-viz-b502a00f0f6c4c09a6e93083ef16afd6\"></div>\n",
       "<script type=\"text/javascript\">\n",
       "  (function(spec, embedOpt){\n",
       "    let outputDiv = document.currentScript.previousElementSibling;\n",
       "    if (outputDiv.id !== \"altair-viz-b502a00f0f6c4c09a6e93083ef16afd6\") {\n",
       "      outputDiv = document.getElementById(\"altair-viz-b502a00f0f6c4c09a6e93083ef16afd6\");\n",
       "    }\n",
       "    const paths = {\n",
       "      \"vega\": \"https://cdn.jsdelivr.net/npm//vega@5?noext\",\n",
       "      \"vega-lib\": \"https://cdn.jsdelivr.net/npm//vega-lib?noext\",\n",
       "      \"vega-lite\": \"https://cdn.jsdelivr.net/npm//vega-lite@4.8.1?noext\",\n",
       "      \"vega-embed\": \"https://cdn.jsdelivr.net/npm//vega-embed@6?noext\",\n",
       "    };\n",
       "\n",
       "    function loadScript(lib) {\n",
       "      return new Promise(function(resolve, reject) {\n",
       "        var s = document.createElement('script');\n",
       "        s.src = paths[lib];\n",
       "        s.async = true;\n",
       "        s.onload = () => resolve(paths[lib]);\n",
       "        s.onerror = () => reject(`Error loading script: ${paths[lib]}`);\n",
       "        document.getElementsByTagName(\"head\")[0].appendChild(s);\n",
       "      });\n",
       "    }\n",
       "\n",
       "    function showError(err) {\n",
       "      outputDiv.innerHTML = `<div class=\"error\" style=\"color:red;\">${err}</div>`;\n",
       "      throw err;\n",
       "    }\n",
       "\n",
       "    function displayChart(vegaEmbed) {\n",
       "      vegaEmbed(outputDiv, spec, embedOpt)\n",
       "        .catch(err => showError(`Javascript Error: ${err.message}<br>This usually means there's a typo in your chart specification. See the javascript console for the full traceback.`));\n",
       "    }\n",
       "\n",
       "    if(typeof define === \"function\" && define.amd) {\n",
       "      requirejs.config({paths});\n",
       "      require([\"vega-embed\"], displayChart, err => showError(`Error loading script: ${err.message}`));\n",
       "    } else if (typeof vegaEmbed === \"function\") {\n",
       "      displayChart(vegaEmbed);\n",
       "    } else {\n",
       "      loadScript(\"vega\")\n",
       "        .then(() => loadScript(\"vega-lite\"))\n",
       "        .then(() => loadScript(\"vega-embed\"))\n",
       "        .catch(showError)\n",
       "        .then(() => displayChart(vegaEmbed));\n",
       "    }\n",
       "  })({\"config\": {\"view\": {\"continuousWidth\": 400, \"continuousHeight\": 300}}, \"layer\": [{\"mark\": {\"type\": \"bar\", \"opacity\": 0.7}, \"encoding\": {\"opacity\": {\"type\": \"nominal\", \"field\": \"Daily confirmed cases\", \"legend\": {\"title\": \"\"}}, \"tooltip\": [{\"type\": \"nominal\", \"field\": \"Date\"}, {\"type\": \"quantitative\", \"field\": \"Confirmed cases\"}], \"x\": {\"type\": \"nominal\", \"axis\": {\"title\": \"Date\"}, \"field\": \"Date\"}, \"y\": {\"type\": \"quantitative\", \"axis\": {\"title\": \"Daily confirmed cases\"}, \"field\": \"Confirmed cases\"}}}, {\"mark\": {\"type\": \"line\", \"color\": \"#1f77b4\", \"point\": {\"filled\": true, \"fill\": \"#1f77b4\"}}, \"encoding\": {\"shape\": {\"type\": \"nominal\", \"field\": \"7-day rolling average\", \"legend\": {\"title\": \"\"}}, \"x\": {\"type\": \"nominal\", \"axis\": {\"title\": \"Date\"}, \"field\": \"Date\"}, \"y\": {\"type\": \"quantitative\", \"field\": \"Rolling\"}}}], \"data\": {\"name\": \"data-3fee23040fb3acdcb747b852870209a4\"}, \"title\": \"Covid-19 in Chile: Daily confirmed cases in Coquimbo\", \"width\": 600, \"$schema\": \"https://vega.github.io/schema/vega-lite/v4.8.1.json\", \"datasets\": {\"data-3fee23040fb3acdcb747b852870209a4\": [{\"Date\": \"2020-03-04\", \"Confirmed cases\": 0, \"Rolling\": null, \"Daily confirmed cases\": \"Daily confirmed cases\", \"7-day rolling average\": \"7-day rolling average\"}, {\"Date\": \"2020-03-05\", \"Confirmed cases\": 0, \"Rolling\": null, \"Daily confirmed cases\": \"Daily confirmed cases\", \"7-day rolling average\": \"7-day rolling average\"}, {\"Date\": \"2020-03-06\", \"Confirmed cases\": 0, \"Rolling\": null, \"Daily confirmed cases\": \"Daily confirmed cases\", \"7-day rolling average\": \"7-day rolling average\"}, {\"Date\": \"2020-03-07\", \"Confirmed cases\": 0, \"Rolling\": null, \"Daily confirmed cases\": \"Daily confirmed cases\", \"7-day rolling average\": \"7-day rolling average\"}, {\"Date\": \"2020-03-08\", \"Confirmed cases\": 0, \"Rolling\": null, \"Daily confirmed cases\": \"Daily confirmed cases\", \"7-day rolling average\": \"7-day rolling average\"}, {\"Date\": \"2020-03-09\", \"Confirmed cases\": 0, \"Rolling\": null, \"Daily confirmed cases\": \"Daily confirmed cases\", \"7-day rolling average\": \"7-day rolling average\"}, {\"Date\": \"2020-03-10\", \"Confirmed cases\": 0, \"Rolling\": 0.0, \"Daily confirmed cases\": \"Daily confirmed cases\", \"7-day rolling average\": \"7-day rolling average\"}, {\"Date\": \"2020-03-11\", \"Confirmed cases\": 0, \"Rolling\": 0.0, \"Daily confirmed cases\": \"Daily confirmed cases\", \"7-day rolling average\": \"7-day rolling average\"}, {\"Date\": \"2020-03-12\", \"Confirmed cases\": 0, \"Rolling\": 0.0, \"Daily confirmed cases\": \"Daily confirmed cases\", \"7-day rolling average\": \"7-day rolling average\"}, {\"Date\": \"2020-03-13\", \"Confirmed cases\": 0, \"Rolling\": 0.0, \"Daily confirmed cases\": \"Daily confirmed cases\", \"7-day rolling average\": \"7-day rolling average\"}, {\"Date\": \"2020-03-14\", \"Confirmed cases\": 0, \"Rolling\": 0.0, \"Daily confirmed cases\": \"Daily confirmed cases\", \"7-day rolling average\": \"7-day rolling average\"}, {\"Date\": \"2020-03-15\", \"Confirmed cases\": 0, \"Rolling\": 0.0, \"Daily confirmed cases\": \"Daily confirmed cases\", \"7-day rolling average\": \"7-day rolling average\"}, {\"Date\": \"2020-03-16\", \"Confirmed cases\": 0, \"Rolling\": 0.0, \"Daily confirmed cases\": \"Daily confirmed cases\", \"7-day rolling average\": \"7-day rolling average\"}, {\"Date\": \"2020-03-17\", \"Confirmed cases\": 0, \"Rolling\": 0.0, \"Daily confirmed cases\": \"Daily confirmed cases\", \"7-day rolling average\": \"7-day rolling average\"}, {\"Date\": \"2020-03-18\", \"Confirmed cases\": 0, \"Rolling\": 0.0, \"Daily confirmed cases\": \"Daily confirmed cases\", \"7-day rolling average\": \"7-day rolling average\"}, {\"Date\": \"2020-03-19\", \"Confirmed cases\": 2, \"Rolling\": 0.2857142857142857, \"Daily confirmed cases\": \"Daily confirmed cases\", \"7-day rolling average\": \"7-day rolling average\"}, {\"Date\": \"2020-03-20\", \"Confirmed cases\": 1, \"Rolling\": 0.42857142857142855, \"Daily confirmed cases\": \"Daily confirmed cases\", \"7-day rolling average\": \"7-day rolling average\"}, {\"Date\": \"2020-03-21\", \"Confirmed cases\": 0, \"Rolling\": 0.42857142857142855, \"Daily confirmed cases\": \"Daily confirmed cases\", \"7-day rolling average\": \"7-day rolling average\"}, {\"Date\": \"2020-03-22\", \"Confirmed cases\": 2, \"Rolling\": 0.7142857142857143, \"Daily confirmed cases\": \"Daily confirmed cases\", \"7-day rolling average\": \"7-day rolling average\"}, {\"Date\": \"2020-03-23\", \"Confirmed cases\": 1, \"Rolling\": 0.8571428571428571, \"Daily confirmed cases\": \"Daily confirmed cases\", \"7-day rolling average\": \"7-day rolling average\"}, {\"Date\": \"2020-03-24\", \"Confirmed cases\": 5, \"Rolling\": 1.5714285714285714, \"Daily confirmed cases\": \"Daily confirmed cases\", \"7-day rolling average\": \"7-day rolling average\"}, {\"Date\": \"2020-03-25\", \"Confirmed cases\": 1, \"Rolling\": 1.7142857142857142, \"Daily confirmed cases\": \"Daily confirmed cases\", \"7-day rolling average\": \"7-day rolling average\"}, {\"Date\": \"2020-03-26\", \"Confirmed cases\": 1, \"Rolling\": 1.5714285714285714, \"Daily confirmed cases\": \"Daily confirmed cases\", \"7-day rolling average\": \"7-day rolling average\"}, {\"Date\": \"2020-03-27\", \"Confirmed cases\": 1, \"Rolling\": 1.5714285714285714, \"Daily confirmed cases\": \"Daily confirmed cases\", \"7-day rolling average\": \"7-day rolling average\"}, {\"Date\": \"2020-03-28\", \"Confirmed cases\": 1, \"Rolling\": 1.7142857142857142, \"Daily confirmed cases\": \"Daily confirmed cases\", \"7-day rolling average\": \"7-day rolling average\"}, {\"Date\": \"2020-03-29\", \"Confirmed cases\": 3, \"Rolling\": 1.8571428571428572, \"Daily confirmed cases\": \"Daily confirmed cases\", \"7-day rolling average\": \"7-day rolling average\"}, {\"Date\": \"2020-03-30\", \"Confirmed cases\": 9, \"Rolling\": 3.0, \"Daily confirmed cases\": \"Daily confirmed cases\", \"7-day rolling average\": \"7-day rolling average\"}, {\"Date\": \"2020-03-31\", \"Confirmed cases\": 1, \"Rolling\": 2.4285714285714284, \"Daily confirmed cases\": \"Daily confirmed cases\", \"7-day rolling average\": \"7-day rolling average\"}, {\"Date\": \"2020-04-01\", \"Confirmed cases\": 2, \"Rolling\": 2.5714285714285716, \"Daily confirmed cases\": \"Daily confirmed cases\", \"7-day rolling average\": \"7-day rolling average\"}, {\"Date\": \"2020-04-02\", \"Confirmed cases\": 4, \"Rolling\": 3.0, \"Daily confirmed cases\": \"Daily confirmed cases\", \"7-day rolling average\": \"7-day rolling average\"}, {\"Date\": \"2020-04-03\", \"Confirmed cases\": 1, \"Rolling\": 3.0, \"Daily confirmed cases\": \"Daily confirmed cases\", \"7-day rolling average\": \"7-day rolling average\"}, {\"Date\": \"2020-04-04\", \"Confirmed cases\": 9, \"Rolling\": 4.142857142857143, \"Daily confirmed cases\": \"Daily confirmed cases\", \"7-day rolling average\": \"7-day rolling average\"}, {\"Date\": \"2020-04-05\", \"Confirmed cases\": 6, \"Rolling\": 4.571428571428571, \"Daily confirmed cases\": \"Daily confirmed cases\", \"7-day rolling average\": \"7-day rolling average\"}, {\"Date\": \"2020-04-06\", \"Confirmed cases\": 1, \"Rolling\": 3.4285714285714284, \"Daily confirmed cases\": \"Daily confirmed cases\", \"7-day rolling average\": \"7-day rolling average\"}, {\"Date\": \"2020-04-07\", \"Confirmed cases\": 1, \"Rolling\": 3.4285714285714284, \"Daily confirmed cases\": \"Daily confirmed cases\", \"7-day rolling average\": \"7-day rolling average\"}, {\"Date\": \"2020-04-08\", \"Confirmed cases\": 4, \"Rolling\": 3.7142857142857144, \"Daily confirmed cases\": \"Daily confirmed cases\", \"7-day rolling average\": \"7-day rolling average\"}, {\"Date\": \"2020-04-09\", \"Confirmed cases\": 5, \"Rolling\": 3.857142857142857, \"Daily confirmed cases\": \"Daily confirmed cases\", \"7-day rolling average\": \"7-day rolling average\"}, {\"Date\": \"2020-04-10\", \"Confirmed cases\": 0, \"Rolling\": 3.7142857142857144, \"Daily confirmed cases\": \"Daily confirmed cases\", \"7-day rolling average\": \"7-day rolling average\"}, {\"Date\": \"2020-04-11\", \"Confirmed cases\": 3, \"Rolling\": 2.857142857142857, \"Daily confirmed cases\": \"Daily confirmed cases\", \"7-day rolling average\": \"7-day rolling average\"}, {\"Date\": \"2020-04-12\", \"Confirmed cases\": 2, \"Rolling\": 2.2857142857142856, \"Daily confirmed cases\": \"Daily confirmed cases\", \"7-day rolling average\": \"7-day rolling average\"}, {\"Date\": \"2020-04-13\", \"Confirmed cases\": 0, \"Rolling\": 2.142857142857143, \"Daily confirmed cases\": \"Daily confirmed cases\", \"7-day rolling average\": \"7-day rolling average\"}, {\"Date\": \"2020-04-14\", \"Confirmed cases\": 0, \"Rolling\": 2.0, \"Daily confirmed cases\": \"Daily confirmed cases\", \"7-day rolling average\": \"7-day rolling average\"}, {\"Date\": \"2020-04-15\", \"Confirmed cases\": 0, \"Rolling\": 1.4285714285714286, \"Daily confirmed cases\": \"Daily confirmed cases\", \"7-day rolling average\": \"7-day rolling average\"}, {\"Date\": \"2020-04-16\", \"Confirmed cases\": 2, \"Rolling\": 1.0, \"Daily confirmed cases\": \"Daily confirmed cases\", \"7-day rolling average\": \"7-day rolling average\"}, {\"Date\": \"2020-04-17\", \"Confirmed cases\": 0, \"Rolling\": 1.0, \"Daily confirmed cases\": \"Daily confirmed cases\", \"7-day rolling average\": \"7-day rolling average\"}, {\"Date\": \"2020-04-18\", \"Confirmed cases\": 0, \"Rolling\": 0.5714285714285714, \"Daily confirmed cases\": \"Daily confirmed cases\", \"7-day rolling average\": \"7-day rolling average\"}, {\"Date\": \"2020-04-19\", \"Confirmed cases\": 0, \"Rolling\": 0.2857142857142857, \"Daily confirmed cases\": \"Daily confirmed cases\", \"7-day rolling average\": \"7-day rolling average\"}, {\"Date\": \"2020-04-20\", \"Confirmed cases\": 1, \"Rolling\": 0.42857142857142855, \"Daily confirmed cases\": \"Daily confirmed cases\", \"7-day rolling average\": \"7-day rolling average\"}, {\"Date\": \"2020-04-21\", \"Confirmed cases\": 0, \"Rolling\": 0.42857142857142855, \"Daily confirmed cases\": \"Daily confirmed cases\", \"7-day rolling average\": \"7-day rolling average\"}, {\"Date\": \"2020-04-22\", \"Confirmed cases\": 1, \"Rolling\": 0.5714285714285714, \"Daily confirmed cases\": \"Daily confirmed cases\", \"7-day rolling average\": \"7-day rolling average\"}, {\"Date\": \"2020-04-23\", \"Confirmed cases\": 0, \"Rolling\": 0.2857142857142857, \"Daily confirmed cases\": \"Daily confirmed cases\", \"7-day rolling average\": \"7-day rolling average\"}, {\"Date\": \"2020-04-24\", \"Confirmed cases\": 2, \"Rolling\": 0.5714285714285714, \"Daily confirmed cases\": \"Daily confirmed cases\", \"7-day rolling average\": \"7-day rolling average\"}, {\"Date\": \"2020-04-25\", \"Confirmed cases\": 1, \"Rolling\": 0.7142857142857143, \"Daily confirmed cases\": \"Daily confirmed cases\", \"7-day rolling average\": \"7-day rolling average\"}, {\"Date\": \"2020-04-26\", \"Confirmed cases\": 0, \"Rolling\": 0.7142857142857143, \"Daily confirmed cases\": \"Daily confirmed cases\", \"7-day rolling average\": \"7-day rolling average\"}, {\"Date\": \"2020-04-27\", \"Confirmed cases\": 1, \"Rolling\": 0.7142857142857143, \"Daily confirmed cases\": \"Daily confirmed cases\", \"7-day rolling average\": \"7-day rolling average\"}]}}, {\"mode\": \"vega-lite\"});\n",
       "</script>"
      ],
      "text/plain": [
       "alt.LayerChart(...)"
      ]
     },
     "execution_count": 45,
     "metadata": {},
     "output_type": "execute_result"
    }
   ],
   "source": [
    "#hide_input\n",
    "bars, line = my_cases_plot(region)\n",
    "(bars + line).properties(\n",
    "    title=f'Covid-19 in Chile: Daily confirmed cases in {region}',\n",
    "    width=600\n",
    ")"
   ]
  },
  {
   "cell_type": "markdown",
   "metadata": {
    "papermill": {
     "duration": 0.086519,
     "end_time": "2020-04-28T06:16:27.905221",
     "exception": false,
     "start_time": "2020-04-28T06:16:27.818702",
     "status": "completed"
    },
    "tags": []
   },
   "source": [
    "## Valparaíso"
   ]
  },
  {
   "cell_type": "code",
   "execution_count": 46,
   "metadata": {
    "execution": {
     "iopub.execute_input": "2020-04-28T06:16:28.081721Z",
     "iopub.status.busy": "2020-04-28T06:16:28.081108Z",
     "iopub.status.idle": "2020-04-28T06:16:28.083197Z",
     "shell.execute_reply": "2020-04-28T06:16:28.082637Z"
    },
    "papermill": {
     "duration": 0.092743,
     "end_time": "2020-04-28T06:16:28.083303",
     "exception": false,
     "start_time": "2020-04-28T06:16:27.990560",
     "status": "completed"
    },
    "tags": []
   },
   "outputs": [],
   "source": [
    "#hide\n",
    "region = \"Valparaíso\""
   ]
  },
  {
   "cell_type": "code",
   "execution_count": 47,
   "metadata": {
    "execution": {
     "iopub.execute_input": "2020-04-28T06:16:28.279106Z",
     "iopub.status.busy": "2020-04-28T06:16:28.274017Z",
     "iopub.status.idle": "2020-04-28T06:16:28.302486Z",
     "shell.execute_reply": "2020-04-28T06:16:28.303031Z"
    },
    "papermill": {
     "duration": 0.13399,
     "end_time": "2020-04-28T06:16:28.303175",
     "exception": false,
     "start_time": "2020-04-28T06:16:28.169185",
     "status": "completed"
    },
    "tags": []
   },
   "outputs": [
    {
     "data": {
      "text/html": [
       "\n",
       "<div id=\"altair-viz-8ed14a4e2221424ba3f617df9c599c4f\"></div>\n",
       "<script type=\"text/javascript\">\n",
       "  (function(spec, embedOpt){\n",
       "    let outputDiv = document.currentScript.previousElementSibling;\n",
       "    if (outputDiv.id !== \"altair-viz-8ed14a4e2221424ba3f617df9c599c4f\") {\n",
       "      outputDiv = document.getElementById(\"altair-viz-8ed14a4e2221424ba3f617df9c599c4f\");\n",
       "    }\n",
       "    const paths = {\n",
       "      \"vega\": \"https://cdn.jsdelivr.net/npm//vega@5?noext\",\n",
       "      \"vega-lib\": \"https://cdn.jsdelivr.net/npm//vega-lib?noext\",\n",
       "      \"vega-lite\": \"https://cdn.jsdelivr.net/npm//vega-lite@4.8.1?noext\",\n",
       "      \"vega-embed\": \"https://cdn.jsdelivr.net/npm//vega-embed@6?noext\",\n",
       "    };\n",
       "\n",
       "    function loadScript(lib) {\n",
       "      return new Promise(function(resolve, reject) {\n",
       "        var s = document.createElement('script');\n",
       "        s.src = paths[lib];\n",
       "        s.async = true;\n",
       "        s.onload = () => resolve(paths[lib]);\n",
       "        s.onerror = () => reject(`Error loading script: ${paths[lib]}`);\n",
       "        document.getElementsByTagName(\"head\")[0].appendChild(s);\n",
       "      });\n",
       "    }\n",
       "\n",
       "    function showError(err) {\n",
       "      outputDiv.innerHTML = `<div class=\"error\" style=\"color:red;\">${err}</div>`;\n",
       "      throw err;\n",
       "    }\n",
       "\n",
       "    function displayChart(vegaEmbed) {\n",
       "      vegaEmbed(outputDiv, spec, embedOpt)\n",
       "        .catch(err => showError(`Javascript Error: ${err.message}<br>This usually means there's a typo in your chart specification. See the javascript console for the full traceback.`));\n",
       "    }\n",
       "\n",
       "    if(typeof define === \"function\" && define.amd) {\n",
       "      requirejs.config({paths});\n",
       "      require([\"vega-embed\"], displayChart, err => showError(`Error loading script: ${err.message}`));\n",
       "    } else if (typeof vegaEmbed === \"function\") {\n",
       "      displayChart(vegaEmbed);\n",
       "    } else {\n",
       "      loadScript(\"vega\")\n",
       "        .then(() => loadScript(\"vega-lite\"))\n",
       "        .then(() => loadScript(\"vega-embed\"))\n",
       "        .catch(showError)\n",
       "        .then(() => displayChart(vegaEmbed));\n",
       "    }\n",
       "  })({\"config\": {\"view\": {\"continuousWidth\": 400, \"continuousHeight\": 300}}, \"layer\": [{\"mark\": {\"type\": \"bar\", \"opacity\": 0.7}, \"encoding\": {\"opacity\": {\"type\": \"nominal\", \"field\": \"Daily confirmed cases\", \"legend\": {\"title\": \"\"}}, \"tooltip\": [{\"type\": \"nominal\", \"field\": \"Date\"}, {\"type\": \"quantitative\", \"field\": \"Confirmed cases\"}], \"x\": {\"type\": \"nominal\", \"axis\": {\"title\": \"Date\"}, \"field\": \"Date\"}, \"y\": {\"type\": \"quantitative\", \"axis\": {\"title\": \"Daily confirmed cases\"}, \"field\": \"Confirmed cases\"}}}, {\"mark\": {\"type\": \"line\", \"color\": \"#1f77b4\", \"point\": {\"filled\": true, \"fill\": \"#1f77b4\"}}, \"encoding\": {\"shape\": {\"type\": \"nominal\", \"field\": \"7-day rolling average\", \"legend\": {\"title\": \"\"}}, \"x\": {\"type\": \"nominal\", \"axis\": {\"title\": \"Date\"}, \"field\": \"Date\"}, \"y\": {\"type\": \"quantitative\", \"field\": \"Rolling\"}}}], \"data\": {\"name\": \"data-4e3d02b40f100c0ea2811b30fc76637f\"}, \"title\": \"Covid-19 in Chile: Daily confirmed cases in Valpara\\u00edso\", \"width\": 600, \"$schema\": \"https://vega.github.io/schema/vega-lite/v4.8.1.json\", \"datasets\": {\"data-4e3d02b40f100c0ea2811b30fc76637f\": [{\"Date\": \"2020-03-04\", \"Confirmed cases\": 0, \"Rolling\": null, \"Daily confirmed cases\": \"Daily confirmed cases\", \"7-day rolling average\": \"7-day rolling average\"}, {\"Date\": \"2020-03-05\", \"Confirmed cases\": 0, \"Rolling\": null, \"Daily confirmed cases\": \"Daily confirmed cases\", \"7-day rolling average\": \"7-day rolling average\"}, {\"Date\": \"2020-03-06\", \"Confirmed cases\": 0, \"Rolling\": null, \"Daily confirmed cases\": \"Daily confirmed cases\", \"7-day rolling average\": \"7-day rolling average\"}, {\"Date\": \"2020-03-07\", \"Confirmed cases\": 0, \"Rolling\": null, \"Daily confirmed cases\": \"Daily confirmed cases\", \"7-day rolling average\": \"7-day rolling average\"}, {\"Date\": \"2020-03-08\", \"Confirmed cases\": 0, \"Rolling\": null, \"Daily confirmed cases\": \"Daily confirmed cases\", \"7-day rolling average\": \"7-day rolling average\"}, {\"Date\": \"2020-03-09\", \"Confirmed cases\": 0, \"Rolling\": null, \"Daily confirmed cases\": \"Daily confirmed cases\", \"7-day rolling average\": \"7-day rolling average\"}, {\"Date\": \"2020-03-10\", \"Confirmed cases\": 0, \"Rolling\": 0.0, \"Daily confirmed cases\": \"Daily confirmed cases\", \"7-day rolling average\": \"7-day rolling average\"}, {\"Date\": \"2020-03-11\", \"Confirmed cases\": 0, \"Rolling\": 0.0, \"Daily confirmed cases\": \"Daily confirmed cases\", \"7-day rolling average\": \"7-day rolling average\"}, {\"Date\": \"2020-03-12\", \"Confirmed cases\": 0, \"Rolling\": 0.0, \"Daily confirmed cases\": \"Daily confirmed cases\", \"7-day rolling average\": \"7-day rolling average\"}, {\"Date\": \"2020-03-13\", \"Confirmed cases\": 0, \"Rolling\": 0.0, \"Daily confirmed cases\": \"Daily confirmed cases\", \"7-day rolling average\": \"7-day rolling average\"}, {\"Date\": \"2020-03-14\", \"Confirmed cases\": 0, \"Rolling\": 0.0, \"Daily confirmed cases\": \"Daily confirmed cases\", \"7-day rolling average\": \"7-day rolling average\"}, {\"Date\": \"2020-03-15\", \"Confirmed cases\": 0, \"Rolling\": 0.0, \"Daily confirmed cases\": \"Daily confirmed cases\", \"7-day rolling average\": \"7-day rolling average\"}, {\"Date\": \"2020-03-16\", \"Confirmed cases\": 1, \"Rolling\": 0.14285714285714285, \"Daily confirmed cases\": \"Daily confirmed cases\", \"7-day rolling average\": \"7-day rolling average\"}, {\"Date\": \"2020-03-17\", \"Confirmed cases\": 0, \"Rolling\": 0.14285714285714285, \"Daily confirmed cases\": \"Daily confirmed cases\", \"7-day rolling average\": \"7-day rolling average\"}, {\"Date\": \"2020-03-18\", \"Confirmed cases\": 0, \"Rolling\": 0.14285714285714285, \"Daily confirmed cases\": \"Daily confirmed cases\", \"7-day rolling average\": \"7-day rolling average\"}, {\"Date\": \"2020-03-19\", \"Confirmed cases\": 3, \"Rolling\": 0.5714285714285714, \"Daily confirmed cases\": \"Daily confirmed cases\", \"7-day rolling average\": \"7-day rolling average\"}, {\"Date\": \"2020-03-20\", \"Confirmed cases\": 1, \"Rolling\": 0.7142857142857143, \"Daily confirmed cases\": \"Daily confirmed cases\", \"7-day rolling average\": \"7-day rolling average\"}, {\"Date\": \"2020-03-21\", \"Confirmed cases\": 8, \"Rolling\": 1.8571428571428572, \"Daily confirmed cases\": \"Daily confirmed cases\", \"7-day rolling average\": \"7-day rolling average\"}, {\"Date\": \"2020-03-22\", \"Confirmed cases\": 3, \"Rolling\": 2.2857142857142856, \"Daily confirmed cases\": \"Daily confirmed cases\", \"7-day rolling average\": \"7-day rolling average\"}, {\"Date\": \"2020-03-23\", \"Confirmed cases\": 3, \"Rolling\": 2.5714285714285716, \"Daily confirmed cases\": \"Daily confirmed cases\", \"7-day rolling average\": \"7-day rolling average\"}, {\"Date\": \"2020-03-24\", \"Confirmed cases\": 6, \"Rolling\": 3.4285714285714284, \"Daily confirmed cases\": \"Daily confirmed cases\", \"7-day rolling average\": \"7-day rolling average\"}, {\"Date\": \"2020-03-25\", \"Confirmed cases\": 7, \"Rolling\": 4.428571428571429, \"Daily confirmed cases\": \"Daily confirmed cases\", \"7-day rolling average\": \"7-day rolling average\"}, {\"Date\": \"2020-03-26\", \"Confirmed cases\": 12, \"Rolling\": 5.714285714285714, \"Daily confirmed cases\": \"Daily confirmed cases\", \"7-day rolling average\": \"7-day rolling average\"}, {\"Date\": \"2020-03-27\", \"Confirmed cases\": 5, \"Rolling\": 6.285714285714286, \"Daily confirmed cases\": \"Daily confirmed cases\", \"7-day rolling average\": \"7-day rolling average\"}, {\"Date\": \"2020-03-28\", \"Confirmed cases\": 22, \"Rolling\": 8.285714285714286, \"Daily confirmed cases\": \"Daily confirmed cases\", \"7-day rolling average\": \"7-day rolling average\"}, {\"Date\": \"2020-03-29\", \"Confirmed cases\": 9, \"Rolling\": 9.142857142857142, \"Daily confirmed cases\": \"Daily confirmed cases\", \"7-day rolling average\": \"7-day rolling average\"}, {\"Date\": \"2020-03-30\", \"Confirmed cases\": 28, \"Rolling\": 12.714285714285714, \"Daily confirmed cases\": \"Daily confirmed cases\", \"7-day rolling average\": \"7-day rolling average\"}, {\"Date\": \"2020-03-31\", \"Confirmed cases\": 7, \"Rolling\": 12.857142857142858, \"Daily confirmed cases\": \"Daily confirmed cases\", \"7-day rolling average\": \"7-day rolling average\"}, {\"Date\": \"2020-04-01\", \"Confirmed cases\": 21, \"Rolling\": 14.857142857142858, \"Daily confirmed cases\": \"Daily confirmed cases\", \"7-day rolling average\": \"7-day rolling average\"}, {\"Date\": \"2020-04-02\", \"Confirmed cases\": 20, \"Rolling\": 16.0, \"Daily confirmed cases\": \"Daily confirmed cases\", \"7-day rolling average\": \"7-day rolling average\"}, {\"Date\": \"2020-04-03\", \"Confirmed cases\": 20, \"Rolling\": 18.142857142857142, \"Daily confirmed cases\": \"Daily confirmed cases\", \"7-day rolling average\": \"7-day rolling average\"}, {\"Date\": \"2020-04-04\", \"Confirmed cases\": 9, \"Rolling\": 16.285714285714285, \"Daily confirmed cases\": \"Daily confirmed cases\", \"7-day rolling average\": \"7-day rolling average\"}, {\"Date\": \"2020-04-05\", \"Confirmed cases\": 6, \"Rolling\": 15.857142857142858, \"Daily confirmed cases\": \"Daily confirmed cases\", \"7-day rolling average\": \"7-day rolling average\"}, {\"Date\": \"2020-04-06\", \"Confirmed cases\": 7, \"Rolling\": 12.857142857142858, \"Daily confirmed cases\": \"Daily confirmed cases\", \"7-day rolling average\": \"7-day rolling average\"}, {\"Date\": \"2020-04-07\", \"Confirmed cases\": 16, \"Rolling\": 14.142857142857142, \"Daily confirmed cases\": \"Daily confirmed cases\", \"7-day rolling average\": \"7-day rolling average\"}, {\"Date\": \"2020-04-08\", \"Confirmed cases\": 11, \"Rolling\": 12.714285714285714, \"Daily confirmed cases\": \"Daily confirmed cases\", \"7-day rolling average\": \"7-day rolling average\"}, {\"Date\": \"2020-04-09\", \"Confirmed cases\": 5, \"Rolling\": 10.571428571428571, \"Daily confirmed cases\": \"Daily confirmed cases\", \"7-day rolling average\": \"7-day rolling average\"}, {\"Date\": \"2020-04-10\", \"Confirmed cases\": 11, \"Rolling\": 9.285714285714286, \"Daily confirmed cases\": \"Daily confirmed cases\", \"7-day rolling average\": \"7-day rolling average\"}, {\"Date\": \"2020-04-11\", \"Confirmed cases\": 7, \"Rolling\": 9.0, \"Daily confirmed cases\": \"Daily confirmed cases\", \"7-day rolling average\": \"7-day rolling average\"}, {\"Date\": \"2020-04-12\", \"Confirmed cases\": 6, \"Rolling\": 9.0, \"Daily confirmed cases\": \"Daily confirmed cases\", \"7-day rolling average\": \"7-day rolling average\"}, {\"Date\": \"2020-04-13\", \"Confirmed cases\": 19, \"Rolling\": 10.714285714285714, \"Daily confirmed cases\": \"Daily confirmed cases\", \"7-day rolling average\": \"7-day rolling average\"}, {\"Date\": \"2020-04-14\", \"Confirmed cases\": 12, \"Rolling\": 10.142857142857142, \"Daily confirmed cases\": \"Daily confirmed cases\", \"7-day rolling average\": \"7-day rolling average\"}, {\"Date\": \"2020-04-15\", \"Confirmed cases\": 14, \"Rolling\": 10.571428571428571, \"Daily confirmed cases\": \"Daily confirmed cases\", \"7-day rolling average\": \"7-day rolling average\"}, {\"Date\": \"2020-04-16\", \"Confirmed cases\": 31, \"Rolling\": 14.285714285714286, \"Daily confirmed cases\": \"Daily confirmed cases\", \"7-day rolling average\": \"7-day rolling average\"}, {\"Date\": \"2020-04-17\", \"Confirmed cases\": 15, \"Rolling\": 14.857142857142858, \"Daily confirmed cases\": \"Daily confirmed cases\", \"7-day rolling average\": \"7-day rolling average\"}, {\"Date\": \"2020-04-18\", \"Confirmed cases\": 14, \"Rolling\": 15.857142857142858, \"Daily confirmed cases\": \"Daily confirmed cases\", \"7-day rolling average\": \"7-day rolling average\"}, {\"Date\": \"2020-04-19\", \"Confirmed cases\": 22, \"Rolling\": 18.142857142857142, \"Daily confirmed cases\": \"Daily confirmed cases\", \"7-day rolling average\": \"7-day rolling average\"}, {\"Date\": \"2020-04-20\", \"Confirmed cases\": 7, \"Rolling\": 16.428571428571427, \"Daily confirmed cases\": \"Daily confirmed cases\", \"7-day rolling average\": \"7-day rolling average\"}, {\"Date\": \"2020-04-21\", \"Confirmed cases\": 15, \"Rolling\": 16.857142857142858, \"Daily confirmed cases\": \"Daily confirmed cases\", \"7-day rolling average\": \"7-day rolling average\"}, {\"Date\": \"2020-04-22\", \"Confirmed cases\": 18, \"Rolling\": 17.428571428571427, \"Daily confirmed cases\": \"Daily confirmed cases\", \"7-day rolling average\": \"7-day rolling average\"}, {\"Date\": \"2020-04-23\", \"Confirmed cases\": 8, \"Rolling\": 14.142857142857142, \"Daily confirmed cases\": \"Daily confirmed cases\", \"7-day rolling average\": \"7-day rolling average\"}, {\"Date\": \"2020-04-24\", \"Confirmed cases\": 7, \"Rolling\": 13.0, \"Daily confirmed cases\": \"Daily confirmed cases\", \"7-day rolling average\": \"7-day rolling average\"}, {\"Date\": \"2020-04-25\", \"Confirmed cases\": 18, \"Rolling\": 13.571428571428571, \"Daily confirmed cases\": \"Daily confirmed cases\", \"7-day rolling average\": \"7-day rolling average\"}, {\"Date\": \"2020-04-26\", \"Confirmed cases\": 6, \"Rolling\": 11.285714285714286, \"Daily confirmed cases\": \"Daily confirmed cases\", \"7-day rolling average\": \"7-day rolling average\"}, {\"Date\": \"2020-04-27\", \"Confirmed cases\": 25, \"Rolling\": 13.857142857142858, \"Daily confirmed cases\": \"Daily confirmed cases\", \"7-day rolling average\": \"7-day rolling average\"}]}}, {\"mode\": \"vega-lite\"});\n",
       "</script>"
      ],
      "text/plain": [
       "alt.LayerChart(...)"
      ]
     },
     "execution_count": 47,
     "metadata": {},
     "output_type": "execute_result"
    }
   ],
   "source": [
    "#hide_input\n",
    "bars, line = my_cases_plot(region)\n",
    "(bars + line).properties(\n",
    "    title=f'Covid-19 in Chile: Daily confirmed cases in {region}',\n",
    "    width=600\n",
    ")"
   ]
  },
  {
   "cell_type": "markdown",
   "metadata": {
    "papermill": {
     "duration": 0.084982,
     "end_time": "2020-04-28T06:16:28.473274",
     "exception": false,
     "start_time": "2020-04-28T06:16:28.388292",
     "status": "completed"
    },
    "tags": []
   },
   "source": [
    "## Metropolitana"
   ]
  },
  {
   "cell_type": "code",
   "execution_count": 48,
   "metadata": {
    "execution": {
     "iopub.execute_input": "2020-04-28T06:16:28.649260Z",
     "iopub.status.busy": "2020-04-28T06:16:28.648640Z",
     "iopub.status.idle": "2020-04-28T06:16:28.650580Z",
     "shell.execute_reply": "2020-04-28T06:16:28.651039Z"
    },
    "papermill": {
     "duration": 0.092641,
     "end_time": "2020-04-28T06:16:28.651163",
     "exception": false,
     "start_time": "2020-04-28T06:16:28.558522",
     "status": "completed"
    },
    "tags": []
   },
   "outputs": [],
   "source": [
    "#hide\n",
    "region = \"Metropolitana\""
   ]
  },
  {
   "cell_type": "code",
   "execution_count": 49,
   "metadata": {
    "execution": {
     "iopub.execute_input": "2020-04-28T06:16:28.847925Z",
     "iopub.status.busy": "2020-04-28T06:16:28.847330Z",
     "iopub.status.idle": "2020-04-28T06:16:28.872015Z",
     "shell.execute_reply": "2020-04-28T06:16:28.872560Z"
    },
    "papermill": {
     "duration": 0.135916,
     "end_time": "2020-04-28T06:16:28.872706",
     "exception": false,
     "start_time": "2020-04-28T06:16:28.736790",
     "status": "completed"
    },
    "tags": []
   },
   "outputs": [
    {
     "data": {
      "text/html": [
       "\n",
       "<div id=\"altair-viz-0c1c9de139584313b6cc8f9cd1e1eaf5\"></div>\n",
       "<script type=\"text/javascript\">\n",
       "  (function(spec, embedOpt){\n",
       "    let outputDiv = document.currentScript.previousElementSibling;\n",
       "    if (outputDiv.id !== \"altair-viz-0c1c9de139584313b6cc8f9cd1e1eaf5\") {\n",
       "      outputDiv = document.getElementById(\"altair-viz-0c1c9de139584313b6cc8f9cd1e1eaf5\");\n",
       "    }\n",
       "    const paths = {\n",
       "      \"vega\": \"https://cdn.jsdelivr.net/npm//vega@5?noext\",\n",
       "      \"vega-lib\": \"https://cdn.jsdelivr.net/npm//vega-lib?noext\",\n",
       "      \"vega-lite\": \"https://cdn.jsdelivr.net/npm//vega-lite@4.8.1?noext\",\n",
       "      \"vega-embed\": \"https://cdn.jsdelivr.net/npm//vega-embed@6?noext\",\n",
       "    };\n",
       "\n",
       "    function loadScript(lib) {\n",
       "      return new Promise(function(resolve, reject) {\n",
       "        var s = document.createElement('script');\n",
       "        s.src = paths[lib];\n",
       "        s.async = true;\n",
       "        s.onload = () => resolve(paths[lib]);\n",
       "        s.onerror = () => reject(`Error loading script: ${paths[lib]}`);\n",
       "        document.getElementsByTagName(\"head\")[0].appendChild(s);\n",
       "      });\n",
       "    }\n",
       "\n",
       "    function showError(err) {\n",
       "      outputDiv.innerHTML = `<div class=\"error\" style=\"color:red;\">${err}</div>`;\n",
       "      throw err;\n",
       "    }\n",
       "\n",
       "    function displayChart(vegaEmbed) {\n",
       "      vegaEmbed(outputDiv, spec, embedOpt)\n",
       "        .catch(err => showError(`Javascript Error: ${err.message}<br>This usually means there's a typo in your chart specification. See the javascript console for the full traceback.`));\n",
       "    }\n",
       "\n",
       "    if(typeof define === \"function\" && define.amd) {\n",
       "      requirejs.config({paths});\n",
       "      require([\"vega-embed\"], displayChart, err => showError(`Error loading script: ${err.message}`));\n",
       "    } else if (typeof vegaEmbed === \"function\") {\n",
       "      displayChart(vegaEmbed);\n",
       "    } else {\n",
       "      loadScript(\"vega\")\n",
       "        .then(() => loadScript(\"vega-lite\"))\n",
       "        .then(() => loadScript(\"vega-embed\"))\n",
       "        .catch(showError)\n",
       "        .then(() => displayChart(vegaEmbed));\n",
       "    }\n",
       "  })({\"config\": {\"view\": {\"continuousWidth\": 400, \"continuousHeight\": 300}}, \"layer\": [{\"mark\": {\"type\": \"bar\", \"opacity\": 0.7}, \"encoding\": {\"opacity\": {\"type\": \"nominal\", \"field\": \"Daily confirmed cases\", \"legend\": {\"title\": \"\"}}, \"tooltip\": [{\"type\": \"nominal\", \"field\": \"Date\"}, {\"type\": \"quantitative\", \"field\": \"Confirmed cases\"}], \"x\": {\"type\": \"nominal\", \"axis\": {\"title\": \"Date\"}, \"field\": \"Date\"}, \"y\": {\"type\": \"quantitative\", \"axis\": {\"title\": \"Daily confirmed cases\"}, \"field\": \"Confirmed cases\"}}}, {\"mark\": {\"type\": \"line\", \"color\": \"#1f77b4\", \"point\": {\"filled\": true, \"fill\": \"#1f77b4\"}}, \"encoding\": {\"shape\": {\"type\": \"nominal\", \"field\": \"7-day rolling average\", \"legend\": {\"title\": \"\"}}, \"x\": {\"type\": \"nominal\", \"axis\": {\"title\": \"Date\"}, \"field\": \"Date\"}, \"y\": {\"type\": \"quantitative\", \"field\": \"Rolling\"}}}], \"data\": {\"name\": \"data-8ca8b9dc12423d2c05a19cf8adc099df\"}, \"title\": \"Covid-19 in Chile: Daily confirmed cases in Metropolitana\", \"width\": 600, \"$schema\": \"https://vega.github.io/schema/vega-lite/v4.8.1.json\", \"datasets\": {\"data-8ca8b9dc12423d2c05a19cf8adc099df\": [{\"Date\": \"2020-03-04\", \"Confirmed cases\": 1, \"Rolling\": null, \"Daily confirmed cases\": \"Daily confirmed cases\", \"7-day rolling average\": \"7-day rolling average\"}, {\"Date\": \"2020-03-05\", \"Confirmed cases\": 1, \"Rolling\": null, \"Daily confirmed cases\": \"Daily confirmed cases\", \"7-day rolling average\": \"7-day rolling average\"}, {\"Date\": \"2020-03-06\", \"Confirmed cases\": 1, \"Rolling\": null, \"Daily confirmed cases\": \"Daily confirmed cases\", \"7-day rolling average\": \"7-day rolling average\"}, {\"Date\": \"2020-03-07\", \"Confirmed cases\": 1, \"Rolling\": null, \"Daily confirmed cases\": \"Daily confirmed cases\", \"7-day rolling average\": \"7-day rolling average\"}, {\"Date\": \"2020-03-08\", \"Confirmed cases\": 2, \"Rolling\": null, \"Daily confirmed cases\": \"Daily confirmed cases\", \"7-day rolling average\": \"7-day rolling average\"}, {\"Date\": \"2020-03-09\", \"Confirmed cases\": 3, \"Rolling\": null, \"Daily confirmed cases\": \"Daily confirmed cases\", \"7-day rolling average\": \"7-day rolling average\"}, {\"Date\": \"2020-03-10\", \"Confirmed cases\": 1, \"Rolling\": 1.4285714285714286, \"Daily confirmed cases\": \"Daily confirmed cases\", \"7-day rolling average\": \"7-day rolling average\"}, {\"Date\": \"2020-03-11\", \"Confirmed cases\": 4, \"Rolling\": 1.8571428571428572, \"Daily confirmed cases\": \"Daily confirmed cases\", \"7-day rolling average\": \"7-day rolling average\"}, {\"Date\": \"2020-03-12\", \"Confirmed cases\": 9, \"Rolling\": 3.0, \"Daily confirmed cases\": \"Daily confirmed cases\", \"7-day rolling average\": \"7-day rolling average\"}, {\"Date\": \"2020-03-13\", \"Confirmed cases\": 6, \"Rolling\": 3.7142857142857144, \"Daily confirmed cases\": \"Daily confirmed cases\", \"7-day rolling average\": \"7-day rolling average\"}, {\"Date\": \"2020-03-14\", \"Confirmed cases\": 11, \"Rolling\": 5.142857142857143, \"Daily confirmed cases\": \"Daily confirmed cases\", \"7-day rolling average\": \"7-day rolling average\"}, {\"Date\": \"2020-03-15\", \"Confirmed cases\": 14, \"Rolling\": 6.857142857142857, \"Daily confirmed cases\": \"Daily confirmed cases\", \"7-day rolling average\": \"7-day rolling average\"}, {\"Date\": \"2020-03-16\", \"Confirmed cases\": 69, \"Rolling\": 16.285714285714285, \"Daily confirmed cases\": \"Daily confirmed cases\", \"7-day rolling average\": \"7-day rolling average\"}, {\"Date\": \"2020-03-17\", \"Confirmed cases\": 29, \"Rolling\": 20.285714285714285, \"Daily confirmed cases\": \"Daily confirmed cases\", \"7-day rolling average\": \"7-day rolling average\"}, {\"Date\": \"2020-03-18\", \"Confirmed cases\": 22, \"Rolling\": 22.857142857142858, \"Daily confirmed cases\": \"Daily confirmed cases\", \"7-day rolling average\": \"7-day rolling average\"}, {\"Date\": \"2020-03-19\", \"Confirmed cases\": 73, \"Rolling\": 32.0, \"Daily confirmed cases\": \"Daily confirmed cases\", \"7-day rolling average\": \"7-day rolling average\"}, {\"Date\": \"2020-03-20\", \"Confirmed cases\": 57, \"Rolling\": 39.285714285714285, \"Daily confirmed cases\": \"Daily confirmed cases\", \"7-day rolling average\": \"7-day rolling average\"}, {\"Date\": \"2020-03-21\", \"Confirmed cases\": 55, \"Rolling\": 45.57142857142857, \"Daily confirmed cases\": \"Daily confirmed cases\", \"7-day rolling average\": \"7-day rolling average\"}, {\"Date\": \"2020-03-22\", \"Confirmed cases\": 50, \"Rolling\": 50.714285714285715, \"Daily confirmed cases\": \"Daily confirmed cases\", \"7-day rolling average\": \"7-day rolling average\"}, {\"Date\": \"2020-03-23\", \"Confirmed cases\": 50, \"Rolling\": 48.0, \"Daily confirmed cases\": \"Daily confirmed cases\", \"7-day rolling average\": \"7-day rolling average\"}, {\"Date\": \"2020-03-24\", \"Confirmed cases\": 81, \"Rolling\": 55.42857142857143, \"Daily confirmed cases\": \"Daily confirmed cases\", \"7-day rolling average\": \"7-day rolling average\"}, {\"Date\": \"2020-03-25\", \"Confirmed cases\": 142, \"Rolling\": 72.57142857142857, \"Daily confirmed cases\": \"Daily confirmed cases\", \"7-day rolling average\": \"7-day rolling average\"}, {\"Date\": \"2020-03-26\", \"Confirmed cases\": 64, \"Rolling\": 71.28571428571429, \"Daily confirmed cases\": \"Daily confirmed cases\", \"7-day rolling average\": \"7-day rolling average\"}, {\"Date\": \"2020-03-27\", \"Confirmed cases\": 192, \"Rolling\": 90.57142857142857, \"Daily confirmed cases\": \"Daily confirmed cases\", \"7-day rolling average\": \"7-day rolling average\"}, {\"Date\": \"2020-03-28\", \"Confirmed cases\": 146, \"Rolling\": 103.57142857142857, \"Daily confirmed cases\": \"Daily confirmed cases\", \"7-day rolling average\": \"7-day rolling average\"}, {\"Date\": \"2020-03-29\", \"Confirmed cases\": 83, \"Rolling\": 108.28571428571429, \"Daily confirmed cases\": \"Daily confirmed cases\", \"7-day rolling average\": \"7-day rolling average\"}, {\"Date\": \"2020-03-30\", \"Confirmed cases\": 128, \"Rolling\": 119.42857142857143, \"Daily confirmed cases\": \"Daily confirmed cases\", \"7-day rolling average\": \"7-day rolling average\"}, {\"Date\": \"2020-03-31\", \"Confirmed cases\": 125, \"Rolling\": 125.71428571428571, \"Daily confirmed cases\": \"Daily confirmed cases\", \"7-day rolling average\": \"7-day rolling average\"}, {\"Date\": \"2020-04-01\", \"Confirmed cases\": 101, \"Rolling\": 119.85714285714286, \"Daily confirmed cases\": \"Daily confirmed cases\", \"7-day rolling average\": \"7-day rolling average\"}, {\"Date\": \"2020-04-02\", \"Confirmed cases\": 115, \"Rolling\": 127.14285714285714, \"Daily confirmed cases\": \"Daily confirmed cases\", \"7-day rolling average\": \"7-day rolling average\"}, {\"Date\": \"2020-04-03\", \"Confirmed cases\": 106, \"Rolling\": 114.85714285714286, \"Daily confirmed cases\": \"Daily confirmed cases\", \"7-day rolling average\": \"7-day rolling average\"}, {\"Date\": \"2020-04-04\", \"Confirmed cases\": 215, \"Rolling\": 124.71428571428571, \"Daily confirmed cases\": \"Daily confirmed cases\", \"7-day rolling average\": \"7-day rolling average\"}, {\"Date\": \"2020-04-05\", \"Confirmed cases\": 145, \"Rolling\": 133.57142857142858, \"Daily confirmed cases\": \"Daily confirmed cases\", \"7-day rolling average\": \"7-day rolling average\"}, {\"Date\": \"2020-04-06\", \"Confirmed cases\": 142, \"Rolling\": 135.57142857142858, \"Daily confirmed cases\": \"Daily confirmed cases\", \"7-day rolling average\": \"7-day rolling average\"}, {\"Date\": \"2020-04-07\", \"Confirmed cases\": 106, \"Rolling\": 132.85714285714286, \"Daily confirmed cases\": \"Daily confirmed cases\", \"7-day rolling average\": \"7-day rolling average\"}, {\"Date\": \"2020-04-08\", \"Confirmed cases\": 198, \"Rolling\": 146.71428571428572, \"Daily confirmed cases\": \"Daily confirmed cases\", \"7-day rolling average\": \"7-day rolling average\"}, {\"Date\": \"2020-04-09\", \"Confirmed cases\": 284, \"Rolling\": 170.85714285714286, \"Daily confirmed cases\": \"Daily confirmed cases\", \"7-day rolling average\": \"7-day rolling average\"}, {\"Date\": \"2020-04-10\", \"Confirmed cases\": 361, \"Rolling\": 207.28571428571428, \"Daily confirmed cases\": \"Daily confirmed cases\", \"7-day rolling average\": \"7-day rolling average\"}, {\"Date\": \"2020-04-11\", \"Confirmed cases\": 255, \"Rolling\": 213.0, \"Daily confirmed cases\": \"Daily confirmed cases\", \"7-day rolling average\": \"7-day rolling average\"}, {\"Date\": \"2020-04-12\", \"Confirmed cases\": 151, \"Rolling\": 213.85714285714286, \"Daily confirmed cases\": \"Daily confirmed cases\", \"7-day rolling average\": \"7-day rolling average\"}, {\"Date\": \"2020-04-13\", \"Confirmed cases\": 204, \"Rolling\": 222.71428571428572, \"Daily confirmed cases\": \"Daily confirmed cases\", \"7-day rolling average\": \"7-day rolling average\"}, {\"Date\": \"2020-04-14\", \"Confirmed cases\": 283, \"Rolling\": 248.0, \"Daily confirmed cases\": \"Daily confirmed cases\", \"7-day rolling average\": \"7-day rolling average\"}, {\"Date\": \"2020-04-15\", \"Confirmed cases\": 248, \"Rolling\": 255.14285714285714, \"Daily confirmed cases\": \"Daily confirmed cases\", \"7-day rolling average\": \"7-day rolling average\"}, {\"Date\": \"2020-04-16\", \"Confirmed cases\": 348, \"Rolling\": 264.2857142857143, \"Daily confirmed cases\": \"Daily confirmed cases\", \"7-day rolling average\": \"7-day rolling average\"}, {\"Date\": \"2020-04-17\", \"Confirmed cases\": 233, \"Rolling\": 246.0, \"Daily confirmed cases\": \"Daily confirmed cases\", \"7-day rolling average\": \"7-day rolling average\"}, {\"Date\": \"2020-04-18\", \"Confirmed cases\": 277, \"Rolling\": 249.14285714285714, \"Daily confirmed cases\": \"Daily confirmed cases\", \"7-day rolling average\": \"7-day rolling average\"}, {\"Date\": \"2020-04-19\", \"Confirmed cases\": 189, \"Rolling\": 254.57142857142858, \"Daily confirmed cases\": \"Daily confirmed cases\", \"7-day rolling average\": \"7-day rolling average\"}, {\"Date\": \"2020-04-20\", \"Confirmed cases\": 262, \"Rolling\": 262.85714285714283, \"Daily confirmed cases\": \"Daily confirmed cases\", \"7-day rolling average\": \"7-day rolling average\"}, {\"Date\": \"2020-04-21\", \"Confirmed cases\": 145, \"Rolling\": 243.14285714285714, \"Daily confirmed cases\": \"Daily confirmed cases\", \"7-day rolling average\": \"7-day rolling average\"}, {\"Date\": \"2020-04-22\", \"Confirmed cases\": 295, \"Rolling\": 249.85714285714286, \"Daily confirmed cases\": \"Daily confirmed cases\", \"7-day rolling average\": \"7-day rolling average\"}, {\"Date\": \"2020-04-23\", \"Confirmed cases\": 351, \"Rolling\": 250.28571428571428, \"Daily confirmed cases\": \"Daily confirmed cases\", \"7-day rolling average\": \"7-day rolling average\"}, {\"Date\": \"2020-04-24\", \"Confirmed cases\": 327, \"Rolling\": 263.7142857142857, \"Daily confirmed cases\": \"Daily confirmed cases\", \"7-day rolling average\": \"7-day rolling average\"}, {\"Date\": \"2020-04-25\", \"Confirmed cases\": 404, \"Rolling\": 281.85714285714283, \"Daily confirmed cases\": \"Daily confirmed cases\", \"7-day rolling average\": \"7-day rolling average\"}, {\"Date\": \"2020-04-26\", \"Confirmed cases\": 331, \"Rolling\": 302.14285714285717, \"Daily confirmed cases\": \"Daily confirmed cases\", \"7-day rolling average\": \"7-day rolling average\"}, {\"Date\": \"2020-04-27\", \"Confirmed cases\": 362, \"Rolling\": 316.42857142857144, \"Daily confirmed cases\": \"Daily confirmed cases\", \"7-day rolling average\": \"7-day rolling average\"}]}}, {\"mode\": \"vega-lite\"});\n",
       "</script>"
      ],
      "text/plain": [
       "alt.LayerChart(...)"
      ]
     },
     "execution_count": 49,
     "metadata": {},
     "output_type": "execute_result"
    }
   ],
   "source": [
    "#hide_input\n",
    "bars, line = my_cases_plot(region)\n",
    "(bars + line).properties(\n",
    "    title=f'Covid-19 in Chile: Daily confirmed cases in {region}',\n",
    "    width=600\n",
    ")"
   ]
  },
  {
   "cell_type": "markdown",
   "metadata": {
    "papermill": {
     "duration": 0.085582,
     "end_time": "2020-04-28T06:16:29.044522",
     "exception": false,
     "start_time": "2020-04-28T06:16:28.958940",
     "status": "completed"
    },
    "tags": []
   },
   "source": [
    "## O'Higgins"
   ]
  },
  {
   "cell_type": "code",
   "execution_count": 50,
   "metadata": {
    "execution": {
     "iopub.execute_input": "2020-04-28T06:16:29.222250Z",
     "iopub.status.busy": "2020-04-28T06:16:29.221652Z",
     "iopub.status.idle": "2020-04-28T06:16:29.223928Z",
     "shell.execute_reply": "2020-04-28T06:16:29.223207Z"
    },
    "papermill": {
     "duration": 0.09322,
     "end_time": "2020-04-28T06:16:29.224058",
     "exception": false,
     "start_time": "2020-04-28T06:16:29.130838",
     "status": "completed"
    },
    "scrolled": true,
    "tags": []
   },
   "outputs": [],
   "source": [
    "#hide\n",
    "region = \"O’Higgins\""
   ]
  },
  {
   "cell_type": "code",
   "execution_count": 51,
   "metadata": {
    "execution": {
     "iopub.execute_input": "2020-04-28T06:16:29.409385Z",
     "iopub.status.busy": "2020-04-28T06:16:29.408670Z",
     "iopub.status.idle": "2020-04-28T06:16:29.444717Z",
     "shell.execute_reply": "2020-04-28T06:16:29.445239Z"
    },
    "papermill": {
     "duration": 0.133666,
     "end_time": "2020-04-28T06:16:29.445376",
     "exception": false,
     "start_time": "2020-04-28T06:16:29.311710",
     "status": "completed"
    },
    "tags": []
   },
   "outputs": [
    {
     "data": {
      "text/html": [
       "\n",
       "<div id=\"altair-viz-5816737c8bfb4a1aa8dc214d5f912200\"></div>\n",
       "<script type=\"text/javascript\">\n",
       "  (function(spec, embedOpt){\n",
       "    let outputDiv = document.currentScript.previousElementSibling;\n",
       "    if (outputDiv.id !== \"altair-viz-5816737c8bfb4a1aa8dc214d5f912200\") {\n",
       "      outputDiv = document.getElementById(\"altair-viz-5816737c8bfb4a1aa8dc214d5f912200\");\n",
       "    }\n",
       "    const paths = {\n",
       "      \"vega\": \"https://cdn.jsdelivr.net/npm//vega@5?noext\",\n",
       "      \"vega-lib\": \"https://cdn.jsdelivr.net/npm//vega-lib?noext\",\n",
       "      \"vega-lite\": \"https://cdn.jsdelivr.net/npm//vega-lite@4.8.1?noext\",\n",
       "      \"vega-embed\": \"https://cdn.jsdelivr.net/npm//vega-embed@6?noext\",\n",
       "    };\n",
       "\n",
       "    function loadScript(lib) {\n",
       "      return new Promise(function(resolve, reject) {\n",
       "        var s = document.createElement('script');\n",
       "        s.src = paths[lib];\n",
       "        s.async = true;\n",
       "        s.onload = () => resolve(paths[lib]);\n",
       "        s.onerror = () => reject(`Error loading script: ${paths[lib]}`);\n",
       "        document.getElementsByTagName(\"head\")[0].appendChild(s);\n",
       "      });\n",
       "    }\n",
       "\n",
       "    function showError(err) {\n",
       "      outputDiv.innerHTML = `<div class=\"error\" style=\"color:red;\">${err}</div>`;\n",
       "      throw err;\n",
       "    }\n",
       "\n",
       "    function displayChart(vegaEmbed) {\n",
       "      vegaEmbed(outputDiv, spec, embedOpt)\n",
       "        .catch(err => showError(`Javascript Error: ${err.message}<br>This usually means there's a typo in your chart specification. See the javascript console for the full traceback.`));\n",
       "    }\n",
       "\n",
       "    if(typeof define === \"function\" && define.amd) {\n",
       "      requirejs.config({paths});\n",
       "      require([\"vega-embed\"], displayChart, err => showError(`Error loading script: ${err.message}`));\n",
       "    } else if (typeof vegaEmbed === \"function\") {\n",
       "      displayChart(vegaEmbed);\n",
       "    } else {\n",
       "      loadScript(\"vega\")\n",
       "        .then(() => loadScript(\"vega-lite\"))\n",
       "        .then(() => loadScript(\"vega-embed\"))\n",
       "        .catch(showError)\n",
       "        .then(() => displayChart(vegaEmbed));\n",
       "    }\n",
       "  })({\"config\": {\"view\": {\"continuousWidth\": 400, \"continuousHeight\": 300}}, \"layer\": [{\"mark\": {\"type\": \"bar\", \"opacity\": 0.7}, \"encoding\": {\"opacity\": {\"type\": \"nominal\", \"field\": \"Daily confirmed cases\", \"legend\": {\"title\": \"\"}}, \"tooltip\": [{\"type\": \"nominal\", \"field\": \"Date\"}, {\"type\": \"quantitative\", \"field\": \"Confirmed cases\"}], \"x\": {\"type\": \"nominal\", \"axis\": {\"title\": \"Date\"}, \"field\": \"Date\"}, \"y\": {\"type\": \"quantitative\", \"axis\": {\"title\": \"Daily confirmed cases\"}, \"field\": \"Confirmed cases\"}}}, {\"mark\": {\"type\": \"line\", \"color\": \"#1f77b4\", \"point\": {\"filled\": true, \"fill\": \"#1f77b4\"}}, \"encoding\": {\"shape\": {\"type\": \"nominal\", \"field\": \"7-day rolling average\", \"legend\": {\"title\": \"\"}}, \"x\": {\"type\": \"nominal\", \"axis\": {\"title\": \"Date\"}, \"field\": \"Date\"}, \"y\": {\"type\": \"quantitative\", \"field\": \"Rolling\"}}}], \"data\": {\"name\": \"data-9b1b95283daddc557fbb1f7d9f493881\"}, \"title\": \"Covid-19 in Chile: Daily confirmed cases in O\\u2019Higgins\", \"width\": 600, \"$schema\": \"https://vega.github.io/schema/vega-lite/v4.8.1.json\", \"datasets\": {\"data-9b1b95283daddc557fbb1f7d9f493881\": [{\"Date\": \"2020-03-04\", \"Confirmed cases\": 0, \"Rolling\": null, \"Daily confirmed cases\": \"Daily confirmed cases\", \"7-day rolling average\": \"7-day rolling average\"}, {\"Date\": \"2020-03-05\", \"Confirmed cases\": 0, \"Rolling\": null, \"Daily confirmed cases\": \"Daily confirmed cases\", \"7-day rolling average\": \"7-day rolling average\"}, {\"Date\": \"2020-03-06\", \"Confirmed cases\": 0, \"Rolling\": null, \"Daily confirmed cases\": \"Daily confirmed cases\", \"7-day rolling average\": \"7-day rolling average\"}, {\"Date\": \"2020-03-07\", \"Confirmed cases\": 0, \"Rolling\": null, \"Daily confirmed cases\": \"Daily confirmed cases\", \"7-day rolling average\": \"7-day rolling average\"}, {\"Date\": \"2020-03-08\", \"Confirmed cases\": 0, \"Rolling\": null, \"Daily confirmed cases\": \"Daily confirmed cases\", \"7-day rolling average\": \"7-day rolling average\"}, {\"Date\": \"2020-03-09\", \"Confirmed cases\": 0, \"Rolling\": null, \"Daily confirmed cases\": \"Daily confirmed cases\", \"7-day rolling average\": \"7-day rolling average\"}, {\"Date\": \"2020-03-10\", \"Confirmed cases\": 0, \"Rolling\": 0.0, \"Daily confirmed cases\": \"Daily confirmed cases\", \"7-day rolling average\": \"7-day rolling average\"}, {\"Date\": \"2020-03-11\", \"Confirmed cases\": 0, \"Rolling\": 0.0, \"Daily confirmed cases\": \"Daily confirmed cases\", \"7-day rolling average\": \"7-day rolling average\"}, {\"Date\": \"2020-03-12\", \"Confirmed cases\": 0, \"Rolling\": 0.0, \"Daily confirmed cases\": \"Daily confirmed cases\", \"7-day rolling average\": \"7-day rolling average\"}, {\"Date\": \"2020-03-13\", \"Confirmed cases\": 0, \"Rolling\": 0.0, \"Daily confirmed cases\": \"Daily confirmed cases\", \"7-day rolling average\": \"7-day rolling average\"}, {\"Date\": \"2020-03-14\", \"Confirmed cases\": 0, \"Rolling\": 0.0, \"Daily confirmed cases\": \"Daily confirmed cases\", \"7-day rolling average\": \"7-day rolling average\"}, {\"Date\": \"2020-03-15\", \"Confirmed cases\": 0, \"Rolling\": 0.0, \"Daily confirmed cases\": \"Daily confirmed cases\", \"7-day rolling average\": \"7-day rolling average\"}, {\"Date\": \"2020-03-16\", \"Confirmed cases\": 0, \"Rolling\": 0.0, \"Daily confirmed cases\": \"Daily confirmed cases\", \"7-day rolling average\": \"7-day rolling average\"}, {\"Date\": \"2020-03-17\", \"Confirmed cases\": 0, \"Rolling\": 0.0, \"Daily confirmed cases\": \"Daily confirmed cases\", \"7-day rolling average\": \"7-day rolling average\"}, {\"Date\": \"2020-03-18\", \"Confirmed cases\": 0, \"Rolling\": 0.0, \"Daily confirmed cases\": \"Daily confirmed cases\", \"7-day rolling average\": \"7-day rolling average\"}, {\"Date\": \"2020-03-19\", \"Confirmed cases\": 2, \"Rolling\": 0.2857142857142857, \"Daily confirmed cases\": \"Daily confirmed cases\", \"7-day rolling average\": \"7-day rolling average\"}, {\"Date\": \"2020-03-20\", \"Confirmed cases\": 4, \"Rolling\": 0.8571428571428571, \"Daily confirmed cases\": \"Daily confirmed cases\", \"7-day rolling average\": \"7-day rolling average\"}, {\"Date\": \"2020-03-21\", \"Confirmed cases\": 1, \"Rolling\": 1.0, \"Daily confirmed cases\": \"Daily confirmed cases\", \"7-day rolling average\": \"7-day rolling average\"}, {\"Date\": \"2020-03-22\", \"Confirmed cases\": 1, \"Rolling\": 1.1428571428571428, \"Daily confirmed cases\": \"Daily confirmed cases\", \"7-day rolling average\": \"7-day rolling average\"}, {\"Date\": \"2020-03-23\", \"Confirmed cases\": 0, \"Rolling\": 1.1428571428571428, \"Daily confirmed cases\": \"Daily confirmed cases\", \"7-day rolling average\": \"7-day rolling average\"}, {\"Date\": \"2020-03-24\", \"Confirmed cases\": 1, \"Rolling\": 1.2857142857142858, \"Daily confirmed cases\": \"Daily confirmed cases\", \"7-day rolling average\": \"7-day rolling average\"}, {\"Date\": \"2020-03-25\", \"Confirmed cases\": 2, \"Rolling\": 1.5714285714285714, \"Daily confirmed cases\": \"Daily confirmed cases\", \"7-day rolling average\": \"7-day rolling average\"}, {\"Date\": \"2020-03-26\", \"Confirmed cases\": 3, \"Rolling\": 1.7142857142857142, \"Daily confirmed cases\": \"Daily confirmed cases\", \"7-day rolling average\": \"7-day rolling average\"}, {\"Date\": \"2020-03-27\", \"Confirmed cases\": 2, \"Rolling\": 1.4285714285714286, \"Daily confirmed cases\": \"Daily confirmed cases\", \"7-day rolling average\": \"7-day rolling average\"}, {\"Date\": \"2020-03-28\", \"Confirmed cases\": 4, \"Rolling\": 1.8571428571428572, \"Daily confirmed cases\": \"Daily confirmed cases\", \"7-day rolling average\": \"7-day rolling average\"}, {\"Date\": \"2020-03-29\", \"Confirmed cases\": 1, \"Rolling\": 1.8571428571428572, \"Daily confirmed cases\": \"Daily confirmed cases\", \"7-day rolling average\": \"7-day rolling average\"}, {\"Date\": \"2020-03-30\", \"Confirmed cases\": 0, \"Rolling\": 1.8571428571428572, \"Daily confirmed cases\": \"Daily confirmed cases\", \"7-day rolling average\": \"7-day rolling average\"}, {\"Date\": \"2020-03-31\", \"Confirmed cases\": 2, \"Rolling\": 2.0, \"Daily confirmed cases\": \"Daily confirmed cases\", \"7-day rolling average\": \"7-day rolling average\"}, {\"Date\": \"2020-04-01\", \"Confirmed cases\": 3, \"Rolling\": 2.142857142857143, \"Daily confirmed cases\": \"Daily confirmed cases\", \"7-day rolling average\": \"7-day rolling average\"}, {\"Date\": \"2020-04-02\", \"Confirmed cases\": 6, \"Rolling\": 2.5714285714285716, \"Daily confirmed cases\": \"Daily confirmed cases\", \"7-day rolling average\": \"7-day rolling average\"}, {\"Date\": \"2020-04-03\", \"Confirmed cases\": 1, \"Rolling\": 2.4285714285714284, \"Daily confirmed cases\": \"Daily confirmed cases\", \"7-day rolling average\": \"7-day rolling average\"}, {\"Date\": \"2020-04-04\", \"Confirmed cases\": 5, \"Rolling\": 2.5714285714285716, \"Daily confirmed cases\": \"Daily confirmed cases\", \"7-day rolling average\": \"7-day rolling average\"}, {\"Date\": \"2020-04-05\", \"Confirmed cases\": 3, \"Rolling\": 2.857142857142857, \"Daily confirmed cases\": \"Daily confirmed cases\", \"7-day rolling average\": \"7-day rolling average\"}, {\"Date\": \"2020-04-06\", \"Confirmed cases\": 1, \"Rolling\": 3.0, \"Daily confirmed cases\": \"Daily confirmed cases\", \"7-day rolling average\": \"7-day rolling average\"}, {\"Date\": \"2020-04-07\", \"Confirmed cases\": 0, \"Rolling\": 2.7142857142857144, \"Daily confirmed cases\": \"Daily confirmed cases\", \"7-day rolling average\": \"7-day rolling average\"}, {\"Date\": \"2020-04-08\", \"Confirmed cases\": 1, \"Rolling\": 2.4285714285714284, \"Daily confirmed cases\": \"Daily confirmed cases\", \"7-day rolling average\": \"7-day rolling average\"}, {\"Date\": \"2020-04-09\", \"Confirmed cases\": 1, \"Rolling\": 1.7142857142857142, \"Daily confirmed cases\": \"Daily confirmed cases\", \"7-day rolling average\": \"7-day rolling average\"}, {\"Date\": \"2020-04-10\", \"Confirmed cases\": 0, \"Rolling\": 1.5714285714285714, \"Daily confirmed cases\": \"Daily confirmed cases\", \"7-day rolling average\": \"7-day rolling average\"}, {\"Date\": \"2020-04-11\", \"Confirmed cases\": 1, \"Rolling\": 1.0, \"Daily confirmed cases\": \"Daily confirmed cases\", \"7-day rolling average\": \"7-day rolling average\"}, {\"Date\": \"2020-04-12\", \"Confirmed cases\": 1, \"Rolling\": 0.7142857142857143, \"Daily confirmed cases\": \"Daily confirmed cases\", \"7-day rolling average\": \"7-day rolling average\"}, {\"Date\": \"2020-04-13\", \"Confirmed cases\": 2, \"Rolling\": 0.8571428571428571, \"Daily confirmed cases\": \"Daily confirmed cases\", \"7-day rolling average\": \"7-day rolling average\"}, {\"Date\": \"2020-04-14\", \"Confirmed cases\": 5, \"Rolling\": 1.5714285714285714, \"Daily confirmed cases\": \"Daily confirmed cases\", \"7-day rolling average\": \"7-day rolling average\"}, {\"Date\": \"2020-04-15\", \"Confirmed cases\": 1, \"Rolling\": 1.5714285714285714, \"Daily confirmed cases\": \"Daily confirmed cases\", \"7-day rolling average\": \"7-day rolling average\"}, {\"Date\": \"2020-04-16\", \"Confirmed cases\": 0, \"Rolling\": 1.4285714285714286, \"Daily confirmed cases\": \"Daily confirmed cases\", \"7-day rolling average\": \"7-day rolling average\"}, {\"Date\": \"2020-04-17\", \"Confirmed cases\": 1, \"Rolling\": 1.5714285714285714, \"Daily confirmed cases\": \"Daily confirmed cases\", \"7-day rolling average\": \"7-day rolling average\"}, {\"Date\": \"2020-04-18\", \"Confirmed cases\": 0, \"Rolling\": 1.4285714285714286, \"Daily confirmed cases\": \"Daily confirmed cases\", \"7-day rolling average\": \"7-day rolling average\"}, {\"Date\": \"2020-04-19\", \"Confirmed cases\": 0, \"Rolling\": 1.2857142857142858, \"Daily confirmed cases\": \"Daily confirmed cases\", \"7-day rolling average\": \"7-day rolling average\"}, {\"Date\": \"2020-04-20\", \"Confirmed cases\": 1, \"Rolling\": 1.1428571428571428, \"Daily confirmed cases\": \"Daily confirmed cases\", \"7-day rolling average\": \"7-day rolling average\"}, {\"Date\": \"2020-04-21\", \"Confirmed cases\": 1, \"Rolling\": 0.5714285714285714, \"Daily confirmed cases\": \"Daily confirmed cases\", \"7-day rolling average\": \"7-day rolling average\"}, {\"Date\": \"2020-04-22\", \"Confirmed cases\": 2, \"Rolling\": 0.7142857142857143, \"Daily confirmed cases\": \"Daily confirmed cases\", \"7-day rolling average\": \"7-day rolling average\"}, {\"Date\": \"2020-04-23\", \"Confirmed cases\": 17, \"Rolling\": 3.142857142857143, \"Daily confirmed cases\": \"Daily confirmed cases\", \"7-day rolling average\": \"7-day rolling average\"}, {\"Date\": \"2020-04-24\", \"Confirmed cases\": 5, \"Rolling\": 3.7142857142857144, \"Daily confirmed cases\": \"Daily confirmed cases\", \"7-day rolling average\": \"7-day rolling average\"}, {\"Date\": \"2020-04-25\", \"Confirmed cases\": 4, \"Rolling\": 4.285714285714286, \"Daily confirmed cases\": \"Daily confirmed cases\", \"7-day rolling average\": \"7-day rolling average\"}, {\"Date\": \"2020-04-26\", \"Confirmed cases\": 7, \"Rolling\": 5.285714285714286, \"Daily confirmed cases\": \"Daily confirmed cases\", \"7-day rolling average\": \"7-day rolling average\"}, {\"Date\": \"2020-04-27\", \"Confirmed cases\": 2, \"Rolling\": 5.428571428571429, \"Daily confirmed cases\": \"Daily confirmed cases\", \"7-day rolling average\": \"7-day rolling average\"}]}}, {\"mode\": \"vega-lite\"});\n",
       "</script>"
      ],
      "text/plain": [
       "alt.LayerChart(...)"
      ]
     },
     "execution_count": 51,
     "metadata": {},
     "output_type": "execute_result"
    }
   ],
   "source": [
    "#hide_input\n",
    "bars, line = my_cases_plot(region)\n",
    "(bars + line).properties(\n",
    "    title=f'Covid-19 in Chile: Daily confirmed cases in {region}',\n",
    "    width=600\n",
    ")"
   ]
  },
  {
   "cell_type": "markdown",
   "metadata": {
    "papermill": {
     "duration": 0.088396,
     "end_time": "2020-04-28T06:16:29.621509",
     "exception": false,
     "start_time": "2020-04-28T06:16:29.533113",
     "status": "completed"
    },
    "tags": []
   },
   "source": [
    "## Maule"
   ]
  },
  {
   "cell_type": "code",
   "execution_count": 52,
   "metadata": {
    "execution": {
     "iopub.execute_input": "2020-04-28T06:16:29.805814Z",
     "iopub.status.busy": "2020-04-28T06:16:29.805188Z",
     "iopub.status.idle": "2020-04-28T06:16:29.807465Z",
     "shell.execute_reply": "2020-04-28T06:16:29.806974Z"
    },
    "papermill": {
     "duration": 0.096633,
     "end_time": "2020-04-28T06:16:29.807573",
     "exception": false,
     "start_time": "2020-04-28T06:16:29.710940",
     "status": "completed"
    },
    "scrolled": true,
    "tags": []
   },
   "outputs": [],
   "source": [
    "#hide\n",
    "region = \"Maule\""
   ]
  },
  {
   "cell_type": "code",
   "execution_count": 53,
   "metadata": {
    "execution": {
     "iopub.execute_input": "2020-04-28T06:16:30.034704Z",
     "iopub.status.busy": "2020-04-28T06:16:30.013223Z",
     "iopub.status.idle": "2020-04-28T06:16:30.037235Z",
     "shell.execute_reply": "2020-04-28T06:16:30.037772Z"
    },
    "papermill": {
     "duration": 0.136391,
     "end_time": "2020-04-28T06:16:30.037907",
     "exception": false,
     "start_time": "2020-04-28T06:16:29.901516",
     "status": "completed"
    },
    "tags": []
   },
   "outputs": [
    {
     "data": {
      "text/html": [
       "\n",
       "<div id=\"altair-viz-8f69e9c02d044668864b85e978d30617\"></div>\n",
       "<script type=\"text/javascript\">\n",
       "  (function(spec, embedOpt){\n",
       "    let outputDiv = document.currentScript.previousElementSibling;\n",
       "    if (outputDiv.id !== \"altair-viz-8f69e9c02d044668864b85e978d30617\") {\n",
       "      outputDiv = document.getElementById(\"altair-viz-8f69e9c02d044668864b85e978d30617\");\n",
       "    }\n",
       "    const paths = {\n",
       "      \"vega\": \"https://cdn.jsdelivr.net/npm//vega@5?noext\",\n",
       "      \"vega-lib\": \"https://cdn.jsdelivr.net/npm//vega-lib?noext\",\n",
       "      \"vega-lite\": \"https://cdn.jsdelivr.net/npm//vega-lite@4.8.1?noext\",\n",
       "      \"vega-embed\": \"https://cdn.jsdelivr.net/npm//vega-embed@6?noext\",\n",
       "    };\n",
       "\n",
       "    function loadScript(lib) {\n",
       "      return new Promise(function(resolve, reject) {\n",
       "        var s = document.createElement('script');\n",
       "        s.src = paths[lib];\n",
       "        s.async = true;\n",
       "        s.onload = () => resolve(paths[lib]);\n",
       "        s.onerror = () => reject(`Error loading script: ${paths[lib]}`);\n",
       "        document.getElementsByTagName(\"head\")[0].appendChild(s);\n",
       "      });\n",
       "    }\n",
       "\n",
       "    function showError(err) {\n",
       "      outputDiv.innerHTML = `<div class=\"error\" style=\"color:red;\">${err}</div>`;\n",
       "      throw err;\n",
       "    }\n",
       "\n",
       "    function displayChart(vegaEmbed) {\n",
       "      vegaEmbed(outputDiv, spec, embedOpt)\n",
       "        .catch(err => showError(`Javascript Error: ${err.message}<br>This usually means there's a typo in your chart specification. See the javascript console for the full traceback.`));\n",
       "    }\n",
       "\n",
       "    if(typeof define === \"function\" && define.amd) {\n",
       "      requirejs.config({paths});\n",
       "      require([\"vega-embed\"], displayChart, err => showError(`Error loading script: ${err.message}`));\n",
       "    } else if (typeof vegaEmbed === \"function\") {\n",
       "      displayChart(vegaEmbed);\n",
       "    } else {\n",
       "      loadScript(\"vega\")\n",
       "        .then(() => loadScript(\"vega-lite\"))\n",
       "        .then(() => loadScript(\"vega-embed\"))\n",
       "        .catch(showError)\n",
       "        .then(() => displayChart(vegaEmbed));\n",
       "    }\n",
       "  })({\"config\": {\"view\": {\"continuousWidth\": 400, \"continuousHeight\": 300}}, \"layer\": [{\"mark\": {\"type\": \"bar\", \"opacity\": 0.7}, \"encoding\": {\"opacity\": {\"type\": \"nominal\", \"field\": \"Daily confirmed cases\", \"legend\": {\"title\": \"\"}}, \"tooltip\": [{\"type\": \"nominal\", \"field\": \"Date\"}, {\"type\": \"quantitative\", \"field\": \"Confirmed cases\"}], \"x\": {\"type\": \"nominal\", \"axis\": {\"title\": \"Date\"}, \"field\": \"Date\"}, \"y\": {\"type\": \"quantitative\", \"axis\": {\"title\": \"Daily confirmed cases\"}, \"field\": \"Confirmed cases\"}}}, {\"mark\": {\"type\": \"line\", \"color\": \"#1f77b4\", \"point\": {\"filled\": true, \"fill\": \"#1f77b4\"}}, \"encoding\": {\"shape\": {\"type\": \"nominal\", \"field\": \"7-day rolling average\", \"legend\": {\"title\": \"\"}}, \"x\": {\"type\": \"nominal\", \"axis\": {\"title\": \"Date\"}, \"field\": \"Date\"}, \"y\": {\"type\": \"quantitative\", \"field\": \"Rolling\"}}}], \"data\": {\"name\": \"data-239db4a1f5912de560f75d86c5dd2fc7\"}, \"title\": \"Covid-19 in Chile: Daily confirmed cases in Maule\", \"width\": 600, \"$schema\": \"https://vega.github.io/schema/vega-lite/v4.8.1.json\", \"datasets\": {\"data-239db4a1f5912de560f75d86c5dd2fc7\": [{\"Date\": \"2020-03-04\", \"Confirmed cases\": 1, \"Rolling\": null, \"Daily confirmed cases\": \"Daily confirmed cases\", \"7-day rolling average\": \"7-day rolling average\"}, {\"Date\": \"2020-03-05\", \"Confirmed cases\": 0, \"Rolling\": null, \"Daily confirmed cases\": \"Daily confirmed cases\", \"7-day rolling average\": \"7-day rolling average\"}, {\"Date\": \"2020-03-06\", \"Confirmed cases\": 0, \"Rolling\": null, \"Daily confirmed cases\": \"Daily confirmed cases\", \"7-day rolling average\": \"7-day rolling average\"}, {\"Date\": \"2020-03-07\", \"Confirmed cases\": 0, \"Rolling\": null, \"Daily confirmed cases\": \"Daily confirmed cases\", \"7-day rolling average\": \"7-day rolling average\"}, {\"Date\": \"2020-03-08\", \"Confirmed cases\": 1, \"Rolling\": null, \"Daily confirmed cases\": \"Daily confirmed cases\", \"7-day rolling average\": \"7-day rolling average\"}, {\"Date\": \"2020-03-09\", \"Confirmed cases\": 1, \"Rolling\": null, \"Daily confirmed cases\": \"Daily confirmed cases\", \"7-day rolling average\": \"7-day rolling average\"}, {\"Date\": \"2020-03-10\", \"Confirmed cases\": 1, \"Rolling\": 0.5714285714285714, \"Daily confirmed cases\": \"Daily confirmed cases\", \"7-day rolling average\": \"7-day rolling average\"}, {\"Date\": \"2020-03-11\", \"Confirmed cases\": 2, \"Rolling\": 0.7142857142857143, \"Daily confirmed cases\": \"Daily confirmed cases\", \"7-day rolling average\": \"7-day rolling average\"}, {\"Date\": \"2020-03-12\", \"Confirmed cases\": 0, \"Rolling\": 0.7142857142857143, \"Daily confirmed cases\": \"Daily confirmed cases\", \"7-day rolling average\": \"7-day rolling average\"}, {\"Date\": \"2020-03-13\", \"Confirmed cases\": 1, \"Rolling\": 0.8571428571428571, \"Daily confirmed cases\": \"Daily confirmed cases\", \"7-day rolling average\": \"7-day rolling average\"}, {\"Date\": \"2020-03-14\", \"Confirmed cases\": 1, \"Rolling\": 1.0, \"Daily confirmed cases\": \"Daily confirmed cases\", \"7-day rolling average\": \"7-day rolling average\"}, {\"Date\": \"2020-03-15\", \"Confirmed cases\": 0, \"Rolling\": 0.8571428571428571, \"Daily confirmed cases\": \"Daily confirmed cases\", \"7-day rolling average\": \"7-day rolling average\"}, {\"Date\": \"2020-03-16\", \"Confirmed cases\": 0, \"Rolling\": 0.7142857142857143, \"Daily confirmed cases\": \"Daily confirmed cases\", \"7-day rolling average\": \"7-day rolling average\"}, {\"Date\": \"2020-03-17\", \"Confirmed cases\": 0, \"Rolling\": 0.5714285714285714, \"Daily confirmed cases\": \"Daily confirmed cases\", \"7-day rolling average\": \"7-day rolling average\"}, {\"Date\": \"2020-03-18\", \"Confirmed cases\": 2, \"Rolling\": 0.5714285714285714, \"Daily confirmed cases\": \"Daily confirmed cases\", \"7-day rolling average\": \"7-day rolling average\"}, {\"Date\": \"2020-03-19\", \"Confirmed cases\": 3, \"Rolling\": 1.0, \"Daily confirmed cases\": \"Daily confirmed cases\", \"7-day rolling average\": \"7-day rolling average\"}, {\"Date\": \"2020-03-20\", \"Confirmed cases\": 0, \"Rolling\": 0.8571428571428571, \"Daily confirmed cases\": \"Daily confirmed cases\", \"7-day rolling average\": \"7-day rolling average\"}, {\"Date\": \"2020-03-21\", \"Confirmed cases\": 1, \"Rolling\": 0.8571428571428571, \"Daily confirmed cases\": \"Daily confirmed cases\", \"7-day rolling average\": \"7-day rolling average\"}, {\"Date\": \"2020-03-22\", \"Confirmed cases\": 10, \"Rolling\": 2.2857142857142856, \"Daily confirmed cases\": \"Daily confirmed cases\", \"7-day rolling average\": \"7-day rolling average\"}, {\"Date\": \"2020-03-23\", \"Confirmed cases\": 3, \"Rolling\": 2.7142857142857144, \"Daily confirmed cases\": \"Daily confirmed cases\", \"7-day rolling average\": \"7-day rolling average\"}, {\"Date\": \"2020-03-24\", \"Confirmed cases\": 1, \"Rolling\": 2.857142857142857, \"Daily confirmed cases\": \"Daily confirmed cases\", \"7-day rolling average\": \"7-day rolling average\"}, {\"Date\": \"2020-03-25\", \"Confirmed cases\": 1, \"Rolling\": 2.7142857142857144, \"Daily confirmed cases\": \"Daily confirmed cases\", \"7-day rolling average\": \"7-day rolling average\"}, {\"Date\": \"2020-03-26\", \"Confirmed cases\": 1, \"Rolling\": 2.4285714285714284, \"Daily confirmed cases\": \"Daily confirmed cases\", \"7-day rolling average\": \"7-day rolling average\"}, {\"Date\": \"2020-03-27\", \"Confirmed cases\": 1, \"Rolling\": 2.5714285714285716, \"Daily confirmed cases\": \"Daily confirmed cases\", \"7-day rolling average\": \"7-day rolling average\"}, {\"Date\": \"2020-03-28\", \"Confirmed cases\": 5, \"Rolling\": 3.142857142857143, \"Daily confirmed cases\": \"Daily confirmed cases\", \"7-day rolling average\": \"7-day rolling average\"}, {\"Date\": \"2020-03-29\", \"Confirmed cases\": 5, \"Rolling\": 2.4285714285714284, \"Daily confirmed cases\": \"Daily confirmed cases\", \"7-day rolling average\": \"7-day rolling average\"}, {\"Date\": \"2020-03-30\", \"Confirmed cases\": 12, \"Rolling\": 3.7142857142857144, \"Daily confirmed cases\": \"Daily confirmed cases\", \"7-day rolling average\": \"7-day rolling average\"}, {\"Date\": \"2020-03-31\", \"Confirmed cases\": 8, \"Rolling\": 4.714285714285714, \"Daily confirmed cases\": \"Daily confirmed cases\", \"7-day rolling average\": \"7-day rolling average\"}, {\"Date\": \"2020-04-01\", \"Confirmed cases\": 9, \"Rolling\": 5.857142857142857, \"Daily confirmed cases\": \"Daily confirmed cases\", \"7-day rolling average\": \"7-day rolling average\"}, {\"Date\": \"2020-04-02\", \"Confirmed cases\": 11, \"Rolling\": 7.285714285714286, \"Daily confirmed cases\": \"Daily confirmed cases\", \"7-day rolling average\": \"7-day rolling average\"}, {\"Date\": \"2020-04-03\", \"Confirmed cases\": 7, \"Rolling\": 8.142857142857142, \"Daily confirmed cases\": \"Daily confirmed cases\", \"7-day rolling average\": \"7-day rolling average\"}, {\"Date\": \"2020-04-04\", \"Confirmed cases\": 8, \"Rolling\": 8.571428571428571, \"Daily confirmed cases\": \"Daily confirmed cases\", \"7-day rolling average\": \"7-day rolling average\"}, {\"Date\": \"2020-04-05\", \"Confirmed cases\": 6, \"Rolling\": 8.714285714285714, \"Daily confirmed cases\": \"Daily confirmed cases\", \"7-day rolling average\": \"7-day rolling average\"}, {\"Date\": \"2020-04-06\", \"Confirmed cases\": 5, \"Rolling\": 7.714285714285714, \"Daily confirmed cases\": \"Daily confirmed cases\", \"7-day rolling average\": \"7-day rolling average\"}, {\"Date\": \"2020-04-07\", \"Confirmed cases\": 0, \"Rolling\": 6.571428571428571, \"Daily confirmed cases\": \"Daily confirmed cases\", \"7-day rolling average\": \"7-day rolling average\"}, {\"Date\": \"2020-04-08\", \"Confirmed cases\": 11, \"Rolling\": 6.857142857142857, \"Daily confirmed cases\": \"Daily confirmed cases\", \"7-day rolling average\": \"7-day rolling average\"}, {\"Date\": \"2020-04-09\", \"Confirmed cases\": 9, \"Rolling\": 6.571428571428571, \"Daily confirmed cases\": \"Daily confirmed cases\", \"7-day rolling average\": \"7-day rolling average\"}, {\"Date\": \"2020-04-10\", \"Confirmed cases\": 3, \"Rolling\": 6.0, \"Daily confirmed cases\": \"Daily confirmed cases\", \"7-day rolling average\": \"7-day rolling average\"}, {\"Date\": \"2020-04-11\", \"Confirmed cases\": 3, \"Rolling\": 5.285714285714286, \"Daily confirmed cases\": \"Daily confirmed cases\", \"7-day rolling average\": \"7-day rolling average\"}, {\"Date\": \"2020-04-12\", \"Confirmed cases\": 4, \"Rolling\": 5.0, \"Daily confirmed cases\": \"Daily confirmed cases\", \"7-day rolling average\": \"7-day rolling average\"}, {\"Date\": \"2020-04-13\", \"Confirmed cases\": 3, \"Rolling\": 4.714285714285714, \"Daily confirmed cases\": \"Daily confirmed cases\", \"7-day rolling average\": \"7-day rolling average\"}, {\"Date\": \"2020-04-14\", \"Confirmed cases\": 1, \"Rolling\": 4.857142857142857, \"Daily confirmed cases\": \"Daily confirmed cases\", \"7-day rolling average\": \"7-day rolling average\"}, {\"Date\": \"2020-04-15\", \"Confirmed cases\": 10, \"Rolling\": 4.714285714285714, \"Daily confirmed cases\": \"Daily confirmed cases\", \"7-day rolling average\": \"7-day rolling average\"}, {\"Date\": \"2020-04-16\", \"Confirmed cases\": 15, \"Rolling\": 5.571428571428571, \"Daily confirmed cases\": \"Daily confirmed cases\", \"7-day rolling average\": \"7-day rolling average\"}, {\"Date\": \"2020-04-17\", \"Confirmed cases\": 56, \"Rolling\": 13.142857142857142, \"Daily confirmed cases\": \"Daily confirmed cases\", \"7-day rolling average\": \"7-day rolling average\"}, {\"Date\": \"2020-04-18\", \"Confirmed cases\": 53, \"Rolling\": 20.285714285714285, \"Daily confirmed cases\": \"Daily confirmed cases\", \"7-day rolling average\": \"7-day rolling average\"}, {\"Date\": \"2020-04-19\", \"Confirmed cases\": 26, \"Rolling\": 23.428571428571427, \"Daily confirmed cases\": \"Daily confirmed cases\", \"7-day rolling average\": \"7-day rolling average\"}, {\"Date\": \"2020-04-20\", \"Confirmed cases\": 2, \"Rolling\": 23.285714285714285, \"Daily confirmed cases\": \"Daily confirmed cases\", \"7-day rolling average\": \"7-day rolling average\"}, {\"Date\": \"2020-04-21\", \"Confirmed cases\": 12, \"Rolling\": 24.857142857142858, \"Daily confirmed cases\": \"Daily confirmed cases\", \"7-day rolling average\": \"7-day rolling average\"}, {\"Date\": \"2020-04-22\", \"Confirmed cases\": 12, \"Rolling\": 25.142857142857142, \"Daily confirmed cases\": \"Daily confirmed cases\", \"7-day rolling average\": \"7-day rolling average\"}, {\"Date\": \"2020-04-23\", \"Confirmed cases\": 5, \"Rolling\": 23.714285714285715, \"Daily confirmed cases\": \"Daily confirmed cases\", \"7-day rolling average\": \"7-day rolling average\"}, {\"Date\": \"2020-04-24\", \"Confirmed cases\": 16, \"Rolling\": 18.0, \"Daily confirmed cases\": \"Daily confirmed cases\", \"7-day rolling average\": \"7-day rolling average\"}, {\"Date\": \"2020-04-25\", \"Confirmed cases\": 1, \"Rolling\": 10.571428571428571, \"Daily confirmed cases\": \"Daily confirmed cases\", \"7-day rolling average\": \"7-day rolling average\"}, {\"Date\": \"2020-04-26\", \"Confirmed cases\": 4, \"Rolling\": 7.428571428571429, \"Daily confirmed cases\": \"Daily confirmed cases\", \"7-day rolling average\": \"7-day rolling average\"}, {\"Date\": \"2020-04-27\", \"Confirmed cases\": 9, \"Rolling\": 8.428571428571429, \"Daily confirmed cases\": \"Daily confirmed cases\", \"7-day rolling average\": \"7-day rolling average\"}]}}, {\"mode\": \"vega-lite\"});\n",
       "</script>"
      ],
      "text/plain": [
       "alt.LayerChart(...)"
      ]
     },
     "execution_count": 53,
     "metadata": {},
     "output_type": "execute_result"
    }
   ],
   "source": [
    "#hide_input\n",
    "bars, line = my_cases_plot(region)\n",
    "(bars + line).properties(\n",
    "    title=f'Covid-19 in Chile: Daily confirmed cases in {region}',\n",
    "    width=600\n",
    ")"
   ]
  },
  {
   "cell_type": "markdown",
   "metadata": {
    "papermill": {
     "duration": 0.089344,
     "end_time": "2020-04-28T06:16:30.218666",
     "exception": false,
     "start_time": "2020-04-28T06:16:30.129322",
     "status": "completed"
    },
    "tags": []
   },
   "source": [
    "## Ñuble"
   ]
  },
  {
   "cell_type": "code",
   "execution_count": 54,
   "metadata": {
    "execution": {
     "iopub.execute_input": "2020-04-28T06:16:30.403152Z",
     "iopub.status.busy": "2020-04-28T06:16:30.402574Z",
     "iopub.status.idle": "2020-04-28T06:16:30.404391Z",
     "shell.execute_reply": "2020-04-28T06:16:30.404824Z"
    },
    "papermill": {
     "duration": 0.095382,
     "end_time": "2020-04-28T06:16:30.404991",
     "exception": false,
     "start_time": "2020-04-28T06:16:30.309609",
     "status": "completed"
    },
    "scrolled": true,
    "tags": []
   },
   "outputs": [],
   "source": [
    "#hide\n",
    "region = \"Ñuble\""
   ]
  },
  {
   "cell_type": "code",
   "execution_count": 55,
   "metadata": {
    "execution": {
     "iopub.execute_input": "2020-04-28T06:16:30.592227Z",
     "iopub.status.busy": "2020-04-28T06:16:30.591666Z",
     "iopub.status.idle": "2020-04-28T06:16:30.627760Z",
     "shell.execute_reply": "2020-04-28T06:16:30.628234Z"
    },
    "papermill": {
     "duration": 0.134355,
     "end_time": "2020-04-28T06:16:30.628366",
     "exception": false,
     "start_time": "2020-04-28T06:16:30.494011",
     "status": "completed"
    },
    "tags": []
   },
   "outputs": [
    {
     "data": {
      "text/html": [
       "\n",
       "<div id=\"altair-viz-70f3a06e0d724d46be794c9eb0f4a509\"></div>\n",
       "<script type=\"text/javascript\">\n",
       "  (function(spec, embedOpt){\n",
       "    let outputDiv = document.currentScript.previousElementSibling;\n",
       "    if (outputDiv.id !== \"altair-viz-70f3a06e0d724d46be794c9eb0f4a509\") {\n",
       "      outputDiv = document.getElementById(\"altair-viz-70f3a06e0d724d46be794c9eb0f4a509\");\n",
       "    }\n",
       "    const paths = {\n",
       "      \"vega\": \"https://cdn.jsdelivr.net/npm//vega@5?noext\",\n",
       "      \"vega-lib\": \"https://cdn.jsdelivr.net/npm//vega-lib?noext\",\n",
       "      \"vega-lite\": \"https://cdn.jsdelivr.net/npm//vega-lite@4.8.1?noext\",\n",
       "      \"vega-embed\": \"https://cdn.jsdelivr.net/npm//vega-embed@6?noext\",\n",
       "    };\n",
       "\n",
       "    function loadScript(lib) {\n",
       "      return new Promise(function(resolve, reject) {\n",
       "        var s = document.createElement('script');\n",
       "        s.src = paths[lib];\n",
       "        s.async = true;\n",
       "        s.onload = () => resolve(paths[lib]);\n",
       "        s.onerror = () => reject(`Error loading script: ${paths[lib]}`);\n",
       "        document.getElementsByTagName(\"head\")[0].appendChild(s);\n",
       "      });\n",
       "    }\n",
       "\n",
       "    function showError(err) {\n",
       "      outputDiv.innerHTML = `<div class=\"error\" style=\"color:red;\">${err}</div>`;\n",
       "      throw err;\n",
       "    }\n",
       "\n",
       "    function displayChart(vegaEmbed) {\n",
       "      vegaEmbed(outputDiv, spec, embedOpt)\n",
       "        .catch(err => showError(`Javascript Error: ${err.message}<br>This usually means there's a typo in your chart specification. See the javascript console for the full traceback.`));\n",
       "    }\n",
       "\n",
       "    if(typeof define === \"function\" && define.amd) {\n",
       "      requirejs.config({paths});\n",
       "      require([\"vega-embed\"], displayChart, err => showError(`Error loading script: ${err.message}`));\n",
       "    } else if (typeof vegaEmbed === \"function\") {\n",
       "      displayChart(vegaEmbed);\n",
       "    } else {\n",
       "      loadScript(\"vega\")\n",
       "        .then(() => loadScript(\"vega-lite\"))\n",
       "        .then(() => loadScript(\"vega-embed\"))\n",
       "        .catch(showError)\n",
       "        .then(() => displayChart(vegaEmbed));\n",
       "    }\n",
       "  })({\"config\": {\"view\": {\"continuousWidth\": 400, \"continuousHeight\": 300}}, \"layer\": [{\"mark\": {\"type\": \"bar\", \"opacity\": 0.7}, \"encoding\": {\"opacity\": {\"type\": \"nominal\", \"field\": \"Daily confirmed cases\", \"legend\": {\"title\": \"\"}}, \"tooltip\": [{\"type\": \"nominal\", \"field\": \"Date\"}, {\"type\": \"quantitative\", \"field\": \"Confirmed cases\"}], \"x\": {\"type\": \"nominal\", \"axis\": {\"title\": \"Date\"}, \"field\": \"Date\"}, \"y\": {\"type\": \"quantitative\", \"axis\": {\"title\": \"Daily confirmed cases\"}, \"field\": \"Confirmed cases\"}}}, {\"mark\": {\"type\": \"line\", \"color\": \"#1f77b4\", \"point\": {\"filled\": true, \"fill\": \"#1f77b4\"}}, \"encoding\": {\"shape\": {\"type\": \"nominal\", \"field\": \"7-day rolling average\", \"legend\": {\"title\": \"\"}}, \"x\": {\"type\": \"nominal\", \"axis\": {\"title\": \"Date\"}, \"field\": \"Date\"}, \"y\": {\"type\": \"quantitative\", \"field\": \"Rolling\"}}}], \"data\": {\"name\": \"data-67e13f62224b049cc5343d28c5b2a876\"}, \"title\": \"Covid-19 in Chile: Daily confirmed cases in \\u00d1uble\", \"width\": 600, \"$schema\": \"https://vega.github.io/schema/vega-lite/v4.8.1.json\", \"datasets\": {\"data-67e13f62224b049cc5343d28c5b2a876\": [{\"Date\": \"2020-03-04\", \"Confirmed cases\": 0, \"Rolling\": null, \"Daily confirmed cases\": \"Daily confirmed cases\", \"7-day rolling average\": \"7-day rolling average\"}, {\"Date\": \"2020-03-05\", \"Confirmed cases\": 0, \"Rolling\": null, \"Daily confirmed cases\": \"Daily confirmed cases\", \"7-day rolling average\": \"7-day rolling average\"}, {\"Date\": \"2020-03-06\", \"Confirmed cases\": 0, \"Rolling\": null, \"Daily confirmed cases\": \"Daily confirmed cases\", \"7-day rolling average\": \"7-day rolling average\"}, {\"Date\": \"2020-03-07\", \"Confirmed cases\": 0, \"Rolling\": null, \"Daily confirmed cases\": \"Daily confirmed cases\", \"7-day rolling average\": \"7-day rolling average\"}, {\"Date\": \"2020-03-08\", \"Confirmed cases\": 0, \"Rolling\": null, \"Daily confirmed cases\": \"Daily confirmed cases\", \"7-day rolling average\": \"7-day rolling average\"}, {\"Date\": \"2020-03-09\", \"Confirmed cases\": 0, \"Rolling\": null, \"Daily confirmed cases\": \"Daily confirmed cases\", \"7-day rolling average\": \"7-day rolling average\"}, {\"Date\": \"2020-03-10\", \"Confirmed cases\": 0, \"Rolling\": 0.0, \"Daily confirmed cases\": \"Daily confirmed cases\", \"7-day rolling average\": \"7-day rolling average\"}, {\"Date\": \"2020-03-11\", \"Confirmed cases\": 0, \"Rolling\": 0.0, \"Daily confirmed cases\": \"Daily confirmed cases\", \"7-day rolling average\": \"7-day rolling average\"}, {\"Date\": \"2020-03-12\", \"Confirmed cases\": 1, \"Rolling\": 0.14285714285714285, \"Daily confirmed cases\": \"Daily confirmed cases\", \"7-day rolling average\": \"7-day rolling average\"}, {\"Date\": \"2020-03-13\", \"Confirmed cases\": 1, \"Rolling\": 0.2857142857142857, \"Daily confirmed cases\": \"Daily confirmed cases\", \"7-day rolling average\": \"7-day rolling average\"}, {\"Date\": \"2020-03-14\", \"Confirmed cases\": 2, \"Rolling\": 0.5714285714285714, \"Daily confirmed cases\": \"Daily confirmed cases\", \"7-day rolling average\": \"7-day rolling average\"}, {\"Date\": \"2020-03-15\", \"Confirmed cases\": 0, \"Rolling\": 0.5714285714285714, \"Daily confirmed cases\": \"Daily confirmed cases\", \"7-day rolling average\": \"7-day rolling average\"}, {\"Date\": \"2020-03-16\", \"Confirmed cases\": 8, \"Rolling\": 1.7142857142857142, \"Daily confirmed cases\": \"Daily confirmed cases\", \"7-day rolling average\": \"7-day rolling average\"}, {\"Date\": \"2020-03-17\", \"Confirmed cases\": 14, \"Rolling\": 3.7142857142857144, \"Daily confirmed cases\": \"Daily confirmed cases\", \"7-day rolling average\": \"7-day rolling average\"}, {\"Date\": \"2020-03-18\", \"Confirmed cases\": 0, \"Rolling\": 3.7142857142857144, \"Daily confirmed cases\": \"Daily confirmed cases\", \"7-day rolling average\": \"7-day rolling average\"}, {\"Date\": \"2020-03-19\", \"Confirmed cases\": 2, \"Rolling\": 3.857142857142857, \"Daily confirmed cases\": \"Daily confirmed cases\", \"7-day rolling average\": \"7-day rolling average\"}, {\"Date\": \"2020-03-20\", \"Confirmed cases\": 16, \"Rolling\": 6.0, \"Daily confirmed cases\": \"Daily confirmed cases\", \"7-day rolling average\": \"7-day rolling average\"}, {\"Date\": \"2020-03-21\", \"Confirmed cases\": 14, \"Rolling\": 7.714285714285714, \"Daily confirmed cases\": \"Daily confirmed cases\", \"7-day rolling average\": \"7-day rolling average\"}, {\"Date\": \"2020-03-22\", \"Confirmed cases\": 6, \"Rolling\": 8.571428571428571, \"Daily confirmed cases\": \"Daily confirmed cases\", \"7-day rolling average\": \"7-day rolling average\"}, {\"Date\": \"2020-03-23\", \"Confirmed cases\": 17, \"Rolling\": 9.857142857142858, \"Daily confirmed cases\": \"Daily confirmed cases\", \"7-day rolling average\": \"7-day rolling average\"}, {\"Date\": \"2020-03-24\", \"Confirmed cases\": 24, \"Rolling\": 11.285714285714286, \"Daily confirmed cases\": \"Daily confirmed cases\", \"7-day rolling average\": \"7-day rolling average\"}, {\"Date\": \"2020-03-25\", \"Confirmed cases\": 6, \"Rolling\": 12.142857142857142, \"Daily confirmed cases\": \"Daily confirmed cases\", \"7-day rolling average\": \"7-day rolling average\"}, {\"Date\": \"2020-03-26\", \"Confirmed cases\": 3, \"Rolling\": 12.285714285714286, \"Daily confirmed cases\": \"Daily confirmed cases\", \"7-day rolling average\": \"7-day rolling average\"}, {\"Date\": \"2020-03-27\", \"Confirmed cases\": 30, \"Rolling\": 14.285714285714286, \"Daily confirmed cases\": \"Daily confirmed cases\", \"7-day rolling average\": \"7-day rolling average\"}, {\"Date\": \"2020-03-28\", \"Confirmed cases\": 28, \"Rolling\": 16.285714285714285, \"Daily confirmed cases\": \"Daily confirmed cases\", \"7-day rolling average\": \"7-day rolling average\"}, {\"Date\": \"2020-03-29\", \"Confirmed cases\": 25, \"Rolling\": 19.0, \"Daily confirmed cases\": \"Daily confirmed cases\", \"7-day rolling average\": \"7-day rolling average\"}, {\"Date\": \"2020-03-30\", \"Confirmed cases\": 32, \"Rolling\": 21.142857142857142, \"Daily confirmed cases\": \"Daily confirmed cases\", \"7-day rolling average\": \"7-day rolling average\"}, {\"Date\": \"2020-03-31\", \"Confirmed cases\": 16, \"Rolling\": 20.0, \"Daily confirmed cases\": \"Daily confirmed cases\", \"7-day rolling average\": \"7-day rolling average\"}, {\"Date\": \"2020-04-01\", \"Confirmed cases\": 14, \"Rolling\": 21.142857142857142, \"Daily confirmed cases\": \"Daily confirmed cases\", \"7-day rolling average\": \"7-day rolling average\"}, {\"Date\": \"2020-04-02\", \"Confirmed cases\": 82, \"Rolling\": 32.42857142857143, \"Daily confirmed cases\": \"Daily confirmed cases\", \"7-day rolling average\": \"7-day rolling average\"}, {\"Date\": \"2020-04-03\", \"Confirmed cases\": 29, \"Rolling\": 32.285714285714285, \"Daily confirmed cases\": \"Daily confirmed cases\", \"7-day rolling average\": \"7-day rolling average\"}, {\"Date\": \"2020-04-04\", \"Confirmed cases\": 31, \"Rolling\": 32.714285714285715, \"Daily confirmed cases\": \"Daily confirmed cases\", \"7-day rolling average\": \"7-day rolling average\"}, {\"Date\": \"2020-04-05\", \"Confirmed cases\": 24, \"Rolling\": 32.57142857142857, \"Daily confirmed cases\": \"Daily confirmed cases\", \"7-day rolling average\": \"7-day rolling average\"}, {\"Date\": \"2020-04-06\", \"Confirmed cases\": 49, \"Rolling\": 35.0, \"Daily confirmed cases\": \"Daily confirmed cases\", \"7-day rolling average\": \"7-day rolling average\"}, {\"Date\": \"2020-04-07\", \"Confirmed cases\": 48, \"Rolling\": 39.57142857142857, \"Daily confirmed cases\": \"Daily confirmed cases\", \"7-day rolling average\": \"7-day rolling average\"}, {\"Date\": \"2020-04-08\", \"Confirmed cases\": 39, \"Rolling\": 43.142857142857146, \"Daily confirmed cases\": \"Daily confirmed cases\", \"7-day rolling average\": \"7-day rolling average\"}, {\"Date\": \"2020-04-09\", \"Confirmed cases\": 10, \"Rolling\": 32.857142857142854, \"Daily confirmed cases\": \"Daily confirmed cases\", \"7-day rolling average\": \"7-day rolling average\"}, {\"Date\": \"2020-04-10\", \"Confirmed cases\": 18, \"Rolling\": 31.285714285714285, \"Daily confirmed cases\": \"Daily confirmed cases\", \"7-day rolling average\": \"7-day rolling average\"}, {\"Date\": \"2020-04-11\", \"Confirmed cases\": 17, \"Rolling\": 29.285714285714285, \"Daily confirmed cases\": \"Daily confirmed cases\", \"7-day rolling average\": \"7-day rolling average\"}, {\"Date\": \"2020-04-12\", \"Confirmed cases\": 7, \"Rolling\": 26.857142857142858, \"Daily confirmed cases\": \"Daily confirmed cases\", \"7-day rolling average\": \"7-day rolling average\"}, {\"Date\": \"2020-04-13\", \"Confirmed cases\": 5, \"Rolling\": 20.571428571428573, \"Daily confirmed cases\": \"Daily confirmed cases\", \"7-day rolling average\": \"7-day rolling average\"}, {\"Date\": \"2020-04-14\", \"Confirmed cases\": 4, \"Rolling\": 14.285714285714286, \"Daily confirmed cases\": \"Daily confirmed cases\", \"7-day rolling average\": \"7-day rolling average\"}, {\"Date\": \"2020-04-15\", \"Confirmed cases\": 12, \"Rolling\": 10.428571428571429, \"Daily confirmed cases\": \"Daily confirmed cases\", \"7-day rolling average\": \"7-day rolling average\"}, {\"Date\": \"2020-04-16\", \"Confirmed cases\": 5, \"Rolling\": 9.714285714285714, \"Daily confirmed cases\": \"Daily confirmed cases\", \"7-day rolling average\": \"7-day rolling average\"}, {\"Date\": \"2020-04-17\", \"Confirmed cases\": 17, \"Rolling\": 9.571428571428571, \"Daily confirmed cases\": \"Daily confirmed cases\", \"7-day rolling average\": \"7-day rolling average\"}, {\"Date\": \"2020-04-18\", \"Confirmed cases\": 11, \"Rolling\": 8.714285714285714, \"Daily confirmed cases\": \"Daily confirmed cases\", \"7-day rolling average\": \"7-day rolling average\"}, {\"Date\": \"2020-04-19\", \"Confirmed cases\": 11, \"Rolling\": 9.285714285714286, \"Daily confirmed cases\": \"Daily confirmed cases\", \"7-day rolling average\": \"7-day rolling average\"}, {\"Date\": \"2020-04-20\", \"Confirmed cases\": 9, \"Rolling\": 9.857142857142858, \"Daily confirmed cases\": \"Daily confirmed cases\", \"7-day rolling average\": \"7-day rolling average\"}, {\"Date\": \"2020-04-21\", \"Confirmed cases\": 7, \"Rolling\": 10.285714285714286, \"Daily confirmed cases\": \"Daily confirmed cases\", \"7-day rolling average\": \"7-day rolling average\"}, {\"Date\": \"2020-04-22\", \"Confirmed cases\": 9, \"Rolling\": 9.857142857142858, \"Daily confirmed cases\": \"Daily confirmed cases\", \"7-day rolling average\": \"7-day rolling average\"}, {\"Date\": \"2020-04-23\", \"Confirmed cases\": 5, \"Rolling\": 9.857142857142858, \"Daily confirmed cases\": \"Daily confirmed cases\", \"7-day rolling average\": \"7-day rolling average\"}, {\"Date\": \"2020-04-24\", \"Confirmed cases\": 7, \"Rolling\": 8.428571428571429, \"Daily confirmed cases\": \"Daily confirmed cases\", \"7-day rolling average\": \"7-day rolling average\"}, {\"Date\": \"2020-04-25\", \"Confirmed cases\": 10, \"Rolling\": 8.285714285714286, \"Daily confirmed cases\": \"Daily confirmed cases\", \"7-day rolling average\": \"7-day rolling average\"}, {\"Date\": \"2020-04-26\", \"Confirmed cases\": 6, \"Rolling\": 7.571428571428571, \"Daily confirmed cases\": \"Daily confirmed cases\", \"7-day rolling average\": \"7-day rolling average\"}, {\"Date\": \"2020-04-27\", \"Confirmed cases\": 10, \"Rolling\": 7.714285714285714, \"Daily confirmed cases\": \"Daily confirmed cases\", \"7-day rolling average\": \"7-day rolling average\"}]}}, {\"mode\": \"vega-lite\"});\n",
       "</script>"
      ],
      "text/plain": [
       "alt.LayerChart(...)"
      ]
     },
     "execution_count": 55,
     "metadata": {},
     "output_type": "execute_result"
    }
   ],
   "source": [
    "#hide_input\n",
    "bars, line = my_cases_plot(region)\n",
    "(bars + line).properties(\n",
    "    title=f'Covid-19 in Chile: Daily confirmed cases in {region}',\n",
    "    width=600\n",
    ")"
   ]
  },
  {
   "cell_type": "markdown",
   "metadata": {
    "papermill": {
     "duration": 0.089697,
     "end_time": "2020-04-28T06:16:30.807198",
     "exception": false,
     "start_time": "2020-04-28T06:16:30.717501",
     "status": "completed"
    },
    "tags": []
   },
   "source": [
    "## Biobío"
   ]
  },
  {
   "cell_type": "code",
   "execution_count": 56,
   "metadata": {
    "execution": {
     "iopub.execute_input": "2020-04-28T06:16:30.990196Z",
     "iopub.status.busy": "2020-04-28T06:16:30.989595Z",
     "iopub.status.idle": "2020-04-28T06:16:30.991406Z",
     "shell.execute_reply": "2020-04-28T06:16:30.991893Z"
    },
    "papermill": {
     "duration": 0.095612,
     "end_time": "2020-04-28T06:16:30.992018",
     "exception": false,
     "start_time": "2020-04-28T06:16:30.896406",
     "status": "completed"
    },
    "scrolled": true,
    "tags": []
   },
   "outputs": [],
   "source": [
    "#hide\n",
    "region = \"Biobío\""
   ]
  },
  {
   "cell_type": "code",
   "execution_count": 57,
   "metadata": {
    "execution": {
     "iopub.execute_input": "2020-04-28T06:16:31.202097Z",
     "iopub.status.busy": "2020-04-28T06:16:31.197021Z",
     "iopub.status.idle": "2020-04-28T06:16:31.220144Z",
     "shell.execute_reply": "2020-04-28T06:16:31.220608Z"
    },
    "papermill": {
     "duration": 0.138935,
     "end_time": "2020-04-28T06:16:31.220737",
     "exception": false,
     "start_time": "2020-04-28T06:16:31.081802",
     "status": "completed"
    },
    "tags": []
   },
   "outputs": [
    {
     "data": {
      "text/html": [
       "\n",
       "<div id=\"altair-viz-d475005fe42b4250952609c54eaade30\"></div>\n",
       "<script type=\"text/javascript\">\n",
       "  (function(spec, embedOpt){\n",
       "    let outputDiv = document.currentScript.previousElementSibling;\n",
       "    if (outputDiv.id !== \"altair-viz-d475005fe42b4250952609c54eaade30\") {\n",
       "      outputDiv = document.getElementById(\"altair-viz-d475005fe42b4250952609c54eaade30\");\n",
       "    }\n",
       "    const paths = {\n",
       "      \"vega\": \"https://cdn.jsdelivr.net/npm//vega@5?noext\",\n",
       "      \"vega-lib\": \"https://cdn.jsdelivr.net/npm//vega-lib?noext\",\n",
       "      \"vega-lite\": \"https://cdn.jsdelivr.net/npm//vega-lite@4.8.1?noext\",\n",
       "      \"vega-embed\": \"https://cdn.jsdelivr.net/npm//vega-embed@6?noext\",\n",
       "    };\n",
       "\n",
       "    function loadScript(lib) {\n",
       "      return new Promise(function(resolve, reject) {\n",
       "        var s = document.createElement('script');\n",
       "        s.src = paths[lib];\n",
       "        s.async = true;\n",
       "        s.onload = () => resolve(paths[lib]);\n",
       "        s.onerror = () => reject(`Error loading script: ${paths[lib]}`);\n",
       "        document.getElementsByTagName(\"head\")[0].appendChild(s);\n",
       "      });\n",
       "    }\n",
       "\n",
       "    function showError(err) {\n",
       "      outputDiv.innerHTML = `<div class=\"error\" style=\"color:red;\">${err}</div>`;\n",
       "      throw err;\n",
       "    }\n",
       "\n",
       "    function displayChart(vegaEmbed) {\n",
       "      vegaEmbed(outputDiv, spec, embedOpt)\n",
       "        .catch(err => showError(`Javascript Error: ${err.message}<br>This usually means there's a typo in your chart specification. See the javascript console for the full traceback.`));\n",
       "    }\n",
       "\n",
       "    if(typeof define === \"function\" && define.amd) {\n",
       "      requirejs.config({paths});\n",
       "      require([\"vega-embed\"], displayChart, err => showError(`Error loading script: ${err.message}`));\n",
       "    } else if (typeof vegaEmbed === \"function\") {\n",
       "      displayChart(vegaEmbed);\n",
       "    } else {\n",
       "      loadScript(\"vega\")\n",
       "        .then(() => loadScript(\"vega-lite\"))\n",
       "        .then(() => loadScript(\"vega-embed\"))\n",
       "        .catch(showError)\n",
       "        .then(() => displayChart(vegaEmbed));\n",
       "    }\n",
       "  })({\"config\": {\"view\": {\"continuousWidth\": 400, \"continuousHeight\": 300}}, \"layer\": [{\"mark\": {\"type\": \"bar\", \"opacity\": 0.7}, \"encoding\": {\"opacity\": {\"type\": \"nominal\", \"field\": \"Daily confirmed cases\", \"legend\": {\"title\": \"\"}}, \"tooltip\": [{\"type\": \"nominal\", \"field\": \"Date\"}, {\"type\": \"quantitative\", \"field\": \"Confirmed cases\"}], \"x\": {\"type\": \"nominal\", \"axis\": {\"title\": \"Date\"}, \"field\": \"Date\"}, \"y\": {\"type\": \"quantitative\", \"axis\": {\"title\": \"Daily confirmed cases\"}, \"field\": \"Confirmed cases\"}}}, {\"mark\": {\"type\": \"line\", \"color\": \"#1f77b4\", \"point\": {\"filled\": true, \"fill\": \"#1f77b4\"}}, \"encoding\": {\"shape\": {\"type\": \"nominal\", \"field\": \"7-day rolling average\", \"legend\": {\"title\": \"\"}}, \"x\": {\"type\": \"nominal\", \"axis\": {\"title\": \"Date\"}, \"field\": \"Date\"}, \"y\": {\"type\": \"quantitative\", \"field\": \"Rolling\"}}}], \"data\": {\"name\": \"data-371c93da78f5b263d3d9bff3bbab0f51\"}, \"title\": \"Covid-19 in Chile: Daily confirmed cases in Biob\\u00edo\", \"width\": 600, \"$schema\": \"https://vega.github.io/schema/vega-lite/v4.8.1.json\", \"datasets\": {\"data-371c93da78f5b263d3d9bff3bbab0f51\": [{\"Date\": \"2020-03-04\", \"Confirmed cases\": 0, \"Rolling\": null, \"Daily confirmed cases\": \"Daily confirmed cases\", \"7-day rolling average\": \"7-day rolling average\"}, {\"Date\": \"2020-03-05\", \"Confirmed cases\": 0, \"Rolling\": null, \"Daily confirmed cases\": \"Daily confirmed cases\", \"7-day rolling average\": \"7-day rolling average\"}, {\"Date\": \"2020-03-06\", \"Confirmed cases\": 0, \"Rolling\": null, \"Daily confirmed cases\": \"Daily confirmed cases\", \"7-day rolling average\": \"7-day rolling average\"}, {\"Date\": \"2020-03-07\", \"Confirmed cases\": 0, \"Rolling\": null, \"Daily confirmed cases\": \"Daily confirmed cases\", \"7-day rolling average\": \"7-day rolling average\"}, {\"Date\": \"2020-03-08\", \"Confirmed cases\": 0, \"Rolling\": null, \"Daily confirmed cases\": \"Daily confirmed cases\", \"7-day rolling average\": \"7-day rolling average\"}, {\"Date\": \"2020-03-09\", \"Confirmed cases\": 1, \"Rolling\": null, \"Daily confirmed cases\": \"Daily confirmed cases\", \"7-day rolling average\": \"7-day rolling average\"}, {\"Date\": \"2020-03-10\", \"Confirmed cases\": 0, \"Rolling\": 0.14285714285714285, \"Daily confirmed cases\": \"Daily confirmed cases\", \"7-day rolling average\": \"7-day rolling average\"}, {\"Date\": \"2020-03-11\", \"Confirmed cases\": 0, \"Rolling\": 0.14285714285714285, \"Daily confirmed cases\": \"Daily confirmed cases\", \"7-day rolling average\": \"7-day rolling average\"}, {\"Date\": \"2020-03-12\", \"Confirmed cases\": 0, \"Rolling\": 0.14285714285714285, \"Daily confirmed cases\": \"Daily confirmed cases\", \"7-day rolling average\": \"7-day rolling average\"}, {\"Date\": \"2020-03-13\", \"Confirmed cases\": 2, \"Rolling\": 0.42857142857142855, \"Daily confirmed cases\": \"Daily confirmed cases\", \"7-day rolling average\": \"7-day rolling average\"}, {\"Date\": \"2020-03-14\", \"Confirmed cases\": 0, \"Rolling\": 0.42857142857142855, \"Daily confirmed cases\": \"Daily confirmed cases\", \"7-day rolling average\": \"7-day rolling average\"}, {\"Date\": \"2020-03-15\", \"Confirmed cases\": 0, \"Rolling\": 0.42857142857142855, \"Daily confirmed cases\": \"Daily confirmed cases\", \"7-day rolling average\": \"7-day rolling average\"}, {\"Date\": \"2020-03-16\", \"Confirmed cases\": 1, \"Rolling\": 0.42857142857142855, \"Daily confirmed cases\": \"Daily confirmed cases\", \"7-day rolling average\": \"7-day rolling average\"}, {\"Date\": \"2020-03-17\", \"Confirmed cases\": 0, \"Rolling\": 0.42857142857142855, \"Daily confirmed cases\": \"Daily confirmed cases\", \"7-day rolling average\": \"7-day rolling average\"}, {\"Date\": \"2020-03-18\", \"Confirmed cases\": 3, \"Rolling\": 0.8571428571428571, \"Daily confirmed cases\": \"Daily confirmed cases\", \"7-day rolling average\": \"7-day rolling average\"}, {\"Date\": \"2020-03-19\", \"Confirmed cases\": 7, \"Rolling\": 1.8571428571428572, \"Daily confirmed cases\": \"Daily confirmed cases\", \"7-day rolling average\": \"7-day rolling average\"}, {\"Date\": \"2020-03-20\", \"Confirmed cases\": 5, \"Rolling\": 2.2857142857142856, \"Daily confirmed cases\": \"Daily confirmed cases\", \"7-day rolling average\": \"7-day rolling average\"}, {\"Date\": \"2020-03-21\", \"Confirmed cases\": 11, \"Rolling\": 3.857142857142857, \"Daily confirmed cases\": \"Daily confirmed cases\", \"7-day rolling average\": \"7-day rolling average\"}, {\"Date\": \"2020-03-22\", \"Confirmed cases\": 5, \"Rolling\": 4.571428571428571, \"Daily confirmed cases\": \"Daily confirmed cases\", \"7-day rolling average\": \"7-day rolling average\"}, {\"Date\": \"2020-03-23\", \"Confirmed cases\": 11, \"Rolling\": 6.0, \"Daily confirmed cases\": \"Daily confirmed cases\", \"7-day rolling average\": \"7-day rolling average\"}, {\"Date\": \"2020-03-24\", \"Confirmed cases\": 27, \"Rolling\": 9.857142857142858, \"Daily confirmed cases\": \"Daily confirmed cases\", \"7-day rolling average\": \"7-day rolling average\"}, {\"Date\": \"2020-03-25\", \"Confirmed cases\": 22, \"Rolling\": 12.571428571428571, \"Daily confirmed cases\": \"Daily confirmed cases\", \"7-day rolling average\": \"7-day rolling average\"}, {\"Date\": \"2020-03-26\", \"Confirmed cases\": 14, \"Rolling\": 13.571428571428571, \"Daily confirmed cases\": \"Daily confirmed cases\", \"7-day rolling average\": \"7-day rolling average\"}, {\"Date\": \"2020-03-27\", \"Confirmed cases\": 26, \"Rolling\": 16.571428571428573, \"Daily confirmed cases\": \"Daily confirmed cases\", \"7-day rolling average\": \"7-day rolling average\"}, {\"Date\": \"2020-03-28\", \"Confirmed cases\": 16, \"Rolling\": 17.285714285714285, \"Daily confirmed cases\": \"Daily confirmed cases\", \"7-day rolling average\": \"7-day rolling average\"}, {\"Date\": \"2020-03-29\", \"Confirmed cases\": 34, \"Rolling\": 21.428571428571427, \"Daily confirmed cases\": \"Daily confirmed cases\", \"7-day rolling average\": \"7-day rolling average\"}, {\"Date\": \"2020-03-30\", \"Confirmed cases\": 16, \"Rolling\": 22.142857142857142, \"Daily confirmed cases\": \"Daily confirmed cases\", \"7-day rolling average\": \"7-day rolling average\"}, {\"Date\": \"2020-03-31\", \"Confirmed cases\": 15, \"Rolling\": 20.428571428571427, \"Daily confirmed cases\": \"Daily confirmed cases\", \"7-day rolling average\": \"7-day rolling average\"}, {\"Date\": \"2020-04-01\", \"Confirmed cases\": 24, \"Rolling\": 20.714285714285715, \"Daily confirmed cases\": \"Daily confirmed cases\", \"7-day rolling average\": \"7-day rolling average\"}, {\"Date\": \"2020-04-02\", \"Confirmed cases\": 35, \"Rolling\": 23.714285714285715, \"Daily confirmed cases\": \"Daily confirmed cases\", \"7-day rolling average\": \"7-day rolling average\"}, {\"Date\": \"2020-04-03\", \"Confirmed cases\": 27, \"Rolling\": 23.857142857142858, \"Daily confirmed cases\": \"Daily confirmed cases\", \"7-day rolling average\": \"7-day rolling average\"}, {\"Date\": \"2020-04-04\", \"Confirmed cases\": 45, \"Rolling\": 28.0, \"Daily confirmed cases\": \"Daily confirmed cases\", \"7-day rolling average\": \"7-day rolling average\"}, {\"Date\": \"2020-04-05\", \"Confirmed cases\": 18, \"Rolling\": 25.714285714285715, \"Daily confirmed cases\": \"Daily confirmed cases\", \"7-day rolling average\": \"7-day rolling average\"}, {\"Date\": \"2020-04-06\", \"Confirmed cases\": 18, \"Rolling\": 26.0, \"Daily confirmed cases\": \"Daily confirmed cases\", \"7-day rolling average\": \"7-day rolling average\"}, {\"Date\": \"2020-04-07\", \"Confirmed cases\": 27, \"Rolling\": 27.714285714285715, \"Daily confirmed cases\": \"Daily confirmed cases\", \"7-day rolling average\": \"7-day rolling average\"}, {\"Date\": \"2020-04-08\", \"Confirmed cases\": 29, \"Rolling\": 28.428571428571427, \"Daily confirmed cases\": \"Daily confirmed cases\", \"7-day rolling average\": \"7-day rolling average\"}, {\"Date\": \"2020-04-09\", \"Confirmed cases\": 21, \"Rolling\": 26.428571428571427, \"Daily confirmed cases\": \"Daily confirmed cases\", \"7-day rolling average\": \"7-day rolling average\"}, {\"Date\": \"2020-04-10\", \"Confirmed cases\": 14, \"Rolling\": 24.571428571428573, \"Daily confirmed cases\": \"Daily confirmed cases\", \"7-day rolling average\": \"7-day rolling average\"}, {\"Date\": \"2020-04-11\", \"Confirmed cases\": 16, \"Rolling\": 20.428571428571427, \"Daily confirmed cases\": \"Daily confirmed cases\", \"7-day rolling average\": \"7-day rolling average\"}, {\"Date\": \"2020-04-12\", \"Confirmed cases\": 10, \"Rolling\": 19.285714285714285, \"Daily confirmed cases\": \"Daily confirmed cases\", \"7-day rolling average\": \"7-day rolling average\"}, {\"Date\": \"2020-04-13\", \"Confirmed cases\": 12, \"Rolling\": 18.428571428571427, \"Daily confirmed cases\": \"Daily confirmed cases\", \"7-day rolling average\": \"7-day rolling average\"}, {\"Date\": \"2020-04-14\", \"Confirmed cases\": 16, \"Rolling\": 16.857142857142858, \"Daily confirmed cases\": \"Daily confirmed cases\", \"7-day rolling average\": \"7-day rolling average\"}, {\"Date\": \"2020-04-15\", \"Confirmed cases\": 14, \"Rolling\": 14.714285714285714, \"Daily confirmed cases\": \"Daily confirmed cases\", \"7-day rolling average\": \"7-day rolling average\"}, {\"Date\": \"2020-04-16\", \"Confirmed cases\": 17, \"Rolling\": 14.142857142857142, \"Daily confirmed cases\": \"Daily confirmed cases\", \"7-day rolling average\": \"7-day rolling average\"}, {\"Date\": \"2020-04-17\", \"Confirmed cases\": 19, \"Rolling\": 14.857142857142858, \"Daily confirmed cases\": \"Daily confirmed cases\", \"7-day rolling average\": \"7-day rolling average\"}, {\"Date\": \"2020-04-18\", \"Confirmed cases\": 28, \"Rolling\": 16.571428571428573, \"Daily confirmed cases\": \"Daily confirmed cases\", \"7-day rolling average\": \"7-day rolling average\"}, {\"Date\": \"2020-04-19\", \"Confirmed cases\": 10, \"Rolling\": 16.571428571428573, \"Daily confirmed cases\": \"Daily confirmed cases\", \"7-day rolling average\": \"7-day rolling average\"}, {\"Date\": \"2020-04-20\", \"Confirmed cases\": 10, \"Rolling\": 16.285714285714285, \"Daily confirmed cases\": \"Daily confirmed cases\", \"7-day rolling average\": \"7-day rolling average\"}, {\"Date\": \"2020-04-21\", \"Confirmed cases\": 10, \"Rolling\": 15.428571428571429, \"Daily confirmed cases\": \"Daily confirmed cases\", \"7-day rolling average\": \"7-day rolling average\"}, {\"Date\": \"2020-04-22\", \"Confirmed cases\": 22, \"Rolling\": 16.571428571428573, \"Daily confirmed cases\": \"Daily confirmed cases\", \"7-day rolling average\": \"7-day rolling average\"}, {\"Date\": \"2020-04-23\", \"Confirmed cases\": 17, \"Rolling\": 16.571428571428573, \"Daily confirmed cases\": \"Daily confirmed cases\", \"7-day rolling average\": \"7-day rolling average\"}, {\"Date\": \"2020-04-24\", \"Confirmed cases\": 8, \"Rolling\": 15.0, \"Daily confirmed cases\": \"Daily confirmed cases\", \"7-day rolling average\": \"7-day rolling average\"}, {\"Date\": \"2020-04-25\", \"Confirmed cases\": 13, \"Rolling\": 12.857142857142858, \"Daily confirmed cases\": \"Daily confirmed cases\", \"7-day rolling average\": \"7-day rolling average\"}, {\"Date\": \"2020-04-26\", \"Confirmed cases\": 7, \"Rolling\": 12.428571428571429, \"Daily confirmed cases\": \"Daily confirmed cases\", \"7-day rolling average\": \"7-day rolling average\"}, {\"Date\": \"2020-04-27\", \"Confirmed cases\": 3, \"Rolling\": 11.428571428571429, \"Daily confirmed cases\": \"Daily confirmed cases\", \"7-day rolling average\": \"7-day rolling average\"}]}}, {\"mode\": \"vega-lite\"});\n",
       "</script>"
      ],
      "text/plain": [
       "alt.LayerChart(...)"
      ]
     },
     "execution_count": 57,
     "metadata": {},
     "output_type": "execute_result"
    }
   ],
   "source": [
    "#hide_input\n",
    "bars, line = my_cases_plot(region)\n",
    "(bars + line).properties(\n",
    "    title=f'Covid-19 in Chile: Daily confirmed cases in {region}',\n",
    "    width=600\n",
    ")"
   ]
  },
  {
   "cell_type": "markdown",
   "metadata": {
    "papermill": {
     "duration": 0.090705,
     "end_time": "2020-04-28T06:16:31.402752",
     "exception": false,
     "start_time": "2020-04-28T06:16:31.312047",
     "status": "completed"
    },
    "tags": []
   },
   "source": [
    "## Araucanía"
   ]
  },
  {
   "cell_type": "code",
   "execution_count": 58,
   "metadata": {
    "execution": {
     "iopub.execute_input": "2020-04-28T06:16:31.586195Z",
     "iopub.status.busy": "2020-04-28T06:16:31.585611Z",
     "iopub.status.idle": "2020-04-28T06:16:31.587953Z",
     "shell.execute_reply": "2020-04-28T06:16:31.587461Z"
    },
    "papermill": {
     "duration": 0.09557,
     "end_time": "2020-04-28T06:16:31.588060",
     "exception": false,
     "start_time": "2020-04-28T06:16:31.492490",
     "status": "completed"
    },
    "scrolled": false,
    "tags": []
   },
   "outputs": [],
   "source": [
    "#hide\n",
    "region = \"Araucanía\""
   ]
  },
  {
   "cell_type": "code",
   "execution_count": 59,
   "metadata": {
    "execution": {
     "iopub.execute_input": "2020-04-28T06:16:31.785125Z",
     "iopub.status.busy": "2020-04-28T06:16:31.784500Z",
     "iopub.status.idle": "2020-04-28T06:16:31.818716Z",
     "shell.execute_reply": "2020-04-28T06:16:31.819220Z"
    },
    "papermill": {
     "duration": 0.138303,
     "end_time": "2020-04-28T06:16:31.819366",
     "exception": false,
     "start_time": "2020-04-28T06:16:31.681063",
     "status": "completed"
    },
    "tags": []
   },
   "outputs": [
    {
     "data": {
      "text/html": [
       "\n",
       "<div id=\"altair-viz-4fcb977051f64110813a93c509eb844c\"></div>\n",
       "<script type=\"text/javascript\">\n",
       "  (function(spec, embedOpt){\n",
       "    let outputDiv = document.currentScript.previousElementSibling;\n",
       "    if (outputDiv.id !== \"altair-viz-4fcb977051f64110813a93c509eb844c\") {\n",
       "      outputDiv = document.getElementById(\"altair-viz-4fcb977051f64110813a93c509eb844c\");\n",
       "    }\n",
       "    const paths = {\n",
       "      \"vega\": \"https://cdn.jsdelivr.net/npm//vega@5?noext\",\n",
       "      \"vega-lib\": \"https://cdn.jsdelivr.net/npm//vega-lib?noext\",\n",
       "      \"vega-lite\": \"https://cdn.jsdelivr.net/npm//vega-lite@4.8.1?noext\",\n",
       "      \"vega-embed\": \"https://cdn.jsdelivr.net/npm//vega-embed@6?noext\",\n",
       "    };\n",
       "\n",
       "    function loadScript(lib) {\n",
       "      return new Promise(function(resolve, reject) {\n",
       "        var s = document.createElement('script');\n",
       "        s.src = paths[lib];\n",
       "        s.async = true;\n",
       "        s.onload = () => resolve(paths[lib]);\n",
       "        s.onerror = () => reject(`Error loading script: ${paths[lib]}`);\n",
       "        document.getElementsByTagName(\"head\")[0].appendChild(s);\n",
       "      });\n",
       "    }\n",
       "\n",
       "    function showError(err) {\n",
       "      outputDiv.innerHTML = `<div class=\"error\" style=\"color:red;\">${err}</div>`;\n",
       "      throw err;\n",
       "    }\n",
       "\n",
       "    function displayChart(vegaEmbed) {\n",
       "      vegaEmbed(outputDiv, spec, embedOpt)\n",
       "        .catch(err => showError(`Javascript Error: ${err.message}<br>This usually means there's a typo in your chart specification. See the javascript console for the full traceback.`));\n",
       "    }\n",
       "\n",
       "    if(typeof define === \"function\" && define.amd) {\n",
       "      requirejs.config({paths});\n",
       "      require([\"vega-embed\"], displayChart, err => showError(`Error loading script: ${err.message}`));\n",
       "    } else if (typeof vegaEmbed === \"function\") {\n",
       "      displayChart(vegaEmbed);\n",
       "    } else {\n",
       "      loadScript(\"vega\")\n",
       "        .then(() => loadScript(\"vega-lite\"))\n",
       "        .then(() => loadScript(\"vega-embed\"))\n",
       "        .catch(showError)\n",
       "        .then(() => displayChart(vegaEmbed));\n",
       "    }\n",
       "  })({\"config\": {\"view\": {\"continuousWidth\": 400, \"continuousHeight\": 300}}, \"layer\": [{\"mark\": {\"type\": \"bar\", \"opacity\": 0.7}, \"encoding\": {\"opacity\": {\"type\": \"nominal\", \"field\": \"Daily confirmed cases\", \"legend\": {\"title\": \"\"}}, \"tooltip\": [{\"type\": \"nominal\", \"field\": \"Date\"}, {\"type\": \"quantitative\", \"field\": \"Confirmed cases\"}], \"x\": {\"type\": \"nominal\", \"axis\": {\"title\": \"Date\"}, \"field\": \"Date\"}, \"y\": {\"type\": \"quantitative\", \"axis\": {\"title\": \"Daily confirmed cases\"}, \"field\": \"Confirmed cases\"}}}, {\"mark\": {\"type\": \"line\", \"color\": \"#1f77b4\", \"point\": {\"filled\": true, \"fill\": \"#1f77b4\"}}, \"encoding\": {\"shape\": {\"type\": \"nominal\", \"field\": \"7-day rolling average\", \"legend\": {\"title\": \"\"}}, \"x\": {\"type\": \"nominal\", \"axis\": {\"title\": \"Date\"}, \"field\": \"Date\"}, \"y\": {\"type\": \"quantitative\", \"field\": \"Rolling\"}}}], \"data\": {\"name\": \"data-1e7edd433464d745e36e9a777755154a\"}, \"title\": \"Covid-19 in Chile: Daily confirmed cases in Araucan\\u00eda\", \"width\": 600, \"$schema\": \"https://vega.github.io/schema/vega-lite/v4.8.1.json\", \"datasets\": {\"data-1e7edd433464d745e36e9a777755154a\": [{\"Date\": \"2020-03-04\", \"Confirmed cases\": 0, \"Rolling\": null, \"Daily confirmed cases\": \"Daily confirmed cases\", \"7-day rolling average\": \"7-day rolling average\"}, {\"Date\": \"2020-03-05\", \"Confirmed cases\": 0, \"Rolling\": null, \"Daily confirmed cases\": \"Daily confirmed cases\", \"7-day rolling average\": \"7-day rolling average\"}, {\"Date\": \"2020-03-06\", \"Confirmed cases\": 0, \"Rolling\": null, \"Daily confirmed cases\": \"Daily confirmed cases\", \"7-day rolling average\": \"7-day rolling average\"}, {\"Date\": \"2020-03-07\", \"Confirmed cases\": 0, \"Rolling\": null, \"Daily confirmed cases\": \"Daily confirmed cases\", \"7-day rolling average\": \"7-day rolling average\"}, {\"Date\": \"2020-03-08\", \"Confirmed cases\": 0, \"Rolling\": null, \"Daily confirmed cases\": \"Daily confirmed cases\", \"7-day rolling average\": \"7-day rolling average\"}, {\"Date\": \"2020-03-09\", \"Confirmed cases\": 0, \"Rolling\": null, \"Daily confirmed cases\": \"Daily confirmed cases\", \"7-day rolling average\": \"7-day rolling average\"}, {\"Date\": \"2020-03-10\", \"Confirmed cases\": 0, \"Rolling\": 0.0, \"Daily confirmed cases\": \"Daily confirmed cases\", \"7-day rolling average\": \"7-day rolling average\"}, {\"Date\": \"2020-03-11\", \"Confirmed cases\": 0, \"Rolling\": 0.0, \"Daily confirmed cases\": \"Daily confirmed cases\", \"7-day rolling average\": \"7-day rolling average\"}, {\"Date\": \"2020-03-12\", \"Confirmed cases\": 0, \"Rolling\": 0.0, \"Daily confirmed cases\": \"Daily confirmed cases\", \"7-day rolling average\": \"7-day rolling average\"}, {\"Date\": \"2020-03-13\", \"Confirmed cases\": 0, \"Rolling\": 0.0, \"Daily confirmed cases\": \"Daily confirmed cases\", \"7-day rolling average\": \"7-day rolling average\"}, {\"Date\": \"2020-03-14\", \"Confirmed cases\": 0, \"Rolling\": 0.0, \"Daily confirmed cases\": \"Daily confirmed cases\", \"7-day rolling average\": \"7-day rolling average\"}, {\"Date\": \"2020-03-15\", \"Confirmed cases\": 0, \"Rolling\": 0.0, \"Daily confirmed cases\": \"Daily confirmed cases\", \"7-day rolling average\": \"7-day rolling average\"}, {\"Date\": \"2020-03-16\", \"Confirmed cases\": 1, \"Rolling\": 0.14285714285714285, \"Daily confirmed cases\": \"Daily confirmed cases\", \"7-day rolling average\": \"7-day rolling average\"}, {\"Date\": \"2020-03-17\", \"Confirmed cases\": 0, \"Rolling\": 0.14285714285714285, \"Daily confirmed cases\": \"Daily confirmed cases\", \"7-day rolling average\": \"7-day rolling average\"}, {\"Date\": \"2020-03-18\", \"Confirmed cases\": 3, \"Rolling\": 0.5714285714285714, \"Daily confirmed cases\": \"Daily confirmed cases\", \"7-day rolling average\": \"7-day rolling average\"}, {\"Date\": \"2020-03-19\", \"Confirmed cases\": 3, \"Rolling\": 1.0, \"Daily confirmed cases\": \"Daily confirmed cases\", \"7-day rolling average\": \"7-day rolling average\"}, {\"Date\": \"2020-03-20\", \"Confirmed cases\": 2, \"Rolling\": 1.2857142857142858, \"Daily confirmed cases\": \"Daily confirmed cases\", \"7-day rolling average\": \"7-day rolling average\"}, {\"Date\": \"2020-03-21\", \"Confirmed cases\": 6, \"Rolling\": 2.142857142857143, \"Daily confirmed cases\": \"Daily confirmed cases\", \"7-day rolling average\": \"7-day rolling average\"}, {\"Date\": \"2020-03-22\", \"Confirmed cases\": 12, \"Rolling\": 3.857142857142857, \"Daily confirmed cases\": \"Daily confirmed cases\", \"7-day rolling average\": \"7-day rolling average\"}, {\"Date\": \"2020-03-23\", \"Confirmed cases\": 13, \"Rolling\": 5.571428571428571, \"Daily confirmed cases\": \"Daily confirmed cases\", \"7-day rolling average\": \"7-day rolling average\"}, {\"Date\": \"2020-03-24\", \"Confirmed cases\": 19, \"Rolling\": 8.285714285714286, \"Daily confirmed cases\": \"Daily confirmed cases\", \"7-day rolling average\": \"7-day rolling average\"}, {\"Date\": \"2020-03-25\", \"Confirmed cases\": 15, \"Rolling\": 10.0, \"Daily confirmed cases\": \"Daily confirmed cases\", \"7-day rolling average\": \"7-day rolling average\"}, {\"Date\": \"2020-03-26\", \"Confirmed cases\": 37, \"Rolling\": 14.857142857142858, \"Daily confirmed cases\": \"Daily confirmed cases\", \"7-day rolling average\": \"7-day rolling average\"}, {\"Date\": \"2020-03-27\", \"Confirmed cases\": 32, \"Rolling\": 19.142857142857142, \"Daily confirmed cases\": \"Daily confirmed cases\", \"7-day rolling average\": \"7-day rolling average\"}, {\"Date\": \"2020-03-28\", \"Confirmed cases\": 34, \"Rolling\": 23.142857142857142, \"Daily confirmed cases\": \"Daily confirmed cases\", \"7-day rolling average\": \"7-day rolling average\"}, {\"Date\": \"2020-03-29\", \"Confirmed cases\": 28, \"Rolling\": 25.428571428571427, \"Daily confirmed cases\": \"Daily confirmed cases\", \"7-day rolling average\": \"7-day rolling average\"}, {\"Date\": \"2020-03-30\", \"Confirmed cases\": 42, \"Rolling\": 29.571428571428573, \"Daily confirmed cases\": \"Daily confirmed cases\", \"7-day rolling average\": \"7-day rolling average\"}, {\"Date\": \"2020-03-31\", \"Confirmed cases\": 55, \"Rolling\": 34.714285714285715, \"Daily confirmed cases\": \"Daily confirmed cases\", \"7-day rolling average\": \"7-day rolling average\"}, {\"Date\": \"2020-04-01\", \"Confirmed cases\": 41, \"Rolling\": 38.42857142857143, \"Daily confirmed cases\": \"Daily confirmed cases\", \"7-day rolling average\": \"7-day rolling average\"}, {\"Date\": \"2020-04-02\", \"Confirmed cases\": 46, \"Rolling\": 39.714285714285715, \"Daily confirmed cases\": \"Daily confirmed cases\", \"7-day rolling average\": \"7-day rolling average\"}, {\"Date\": \"2020-04-03\", \"Confirmed cases\": 43, \"Rolling\": 41.285714285714285, \"Daily confirmed cases\": \"Daily confirmed cases\", \"7-day rolling average\": \"7-day rolling average\"}, {\"Date\": \"2020-04-04\", \"Confirmed cases\": 45, \"Rolling\": 42.857142857142854, \"Daily confirmed cases\": \"Daily confirmed cases\", \"7-day rolling average\": \"7-day rolling average\"}, {\"Date\": \"2020-04-05\", \"Confirmed cases\": 32, \"Rolling\": 43.42857142857143, \"Daily confirmed cases\": \"Daily confirmed cases\", \"7-day rolling average\": \"7-day rolling average\"}, {\"Date\": \"2020-04-06\", \"Confirmed cases\": 53, \"Rolling\": 45.0, \"Daily confirmed cases\": \"Daily confirmed cases\", \"7-day rolling average\": \"7-day rolling average\"}, {\"Date\": \"2020-04-07\", \"Confirmed cases\": 50, \"Rolling\": 44.285714285714285, \"Daily confirmed cases\": \"Daily confirmed cases\", \"7-day rolling average\": \"7-day rolling average\"}, {\"Date\": \"2020-04-08\", \"Confirmed cases\": 57, \"Rolling\": 46.57142857142857, \"Daily confirmed cases\": \"Daily confirmed cases\", \"7-day rolling average\": \"7-day rolling average\"}, {\"Date\": \"2020-04-09\", \"Confirmed cases\": 20, \"Rolling\": 42.857142857142854, \"Daily confirmed cases\": \"Daily confirmed cases\", \"7-day rolling average\": \"7-day rolling average\"}, {\"Date\": \"2020-04-10\", \"Confirmed cases\": 23, \"Rolling\": 40.0, \"Daily confirmed cases\": \"Daily confirmed cases\", \"7-day rolling average\": \"7-day rolling average\"}, {\"Date\": \"2020-04-11\", \"Confirmed cases\": 27, \"Rolling\": 37.42857142857143, \"Daily confirmed cases\": \"Daily confirmed cases\", \"7-day rolling average\": \"7-day rolling average\"}, {\"Date\": \"2020-04-12\", \"Confirmed cases\": 36, \"Rolling\": 38.0, \"Daily confirmed cases\": \"Daily confirmed cases\", \"7-day rolling average\": \"7-day rolling average\"}, {\"Date\": \"2020-04-13\", \"Confirmed cases\": 20, \"Rolling\": 33.285714285714285, \"Daily confirmed cases\": \"Daily confirmed cases\", \"7-day rolling average\": \"7-day rolling average\"}, {\"Date\": \"2020-04-14\", \"Confirmed cases\": 21, \"Rolling\": 29.142857142857142, \"Daily confirmed cases\": \"Daily confirmed cases\", \"7-day rolling average\": \"7-day rolling average\"}, {\"Date\": \"2020-04-15\", \"Confirmed cases\": 10, \"Rolling\": 22.428571428571427, \"Daily confirmed cases\": \"Daily confirmed cases\", \"7-day rolling average\": \"7-day rolling average\"}, {\"Date\": \"2020-04-16\", \"Confirmed cases\": 56, \"Rolling\": 27.571428571428573, \"Daily confirmed cases\": \"Daily confirmed cases\", \"7-day rolling average\": \"7-day rolling average\"}, {\"Date\": \"2020-04-17\", \"Confirmed cases\": 25, \"Rolling\": 27.857142857142858, \"Daily confirmed cases\": \"Daily confirmed cases\", \"7-day rolling average\": \"7-day rolling average\"}, {\"Date\": \"2020-04-18\", \"Confirmed cases\": 37, \"Rolling\": 29.285714285714285, \"Daily confirmed cases\": \"Daily confirmed cases\", \"7-day rolling average\": \"7-day rolling average\"}, {\"Date\": \"2020-04-19\", \"Confirmed cases\": 28, \"Rolling\": 28.142857142857142, \"Daily confirmed cases\": \"Daily confirmed cases\", \"7-day rolling average\": \"7-day rolling average\"}, {\"Date\": \"2020-04-20\", \"Confirmed cases\": 73, \"Rolling\": 35.714285714285715, \"Daily confirmed cases\": \"Daily confirmed cases\", \"7-day rolling average\": \"7-day rolling average\"}, {\"Date\": \"2020-04-21\", \"Confirmed cases\": 47, \"Rolling\": 39.42857142857143, \"Daily confirmed cases\": \"Daily confirmed cases\", \"7-day rolling average\": \"7-day rolling average\"}, {\"Date\": \"2020-04-22\", \"Confirmed cases\": 21, \"Rolling\": 41.0, \"Daily confirmed cases\": \"Daily confirmed cases\", \"7-day rolling average\": \"7-day rolling average\"}, {\"Date\": \"2020-04-23\", \"Confirmed cases\": 29, \"Rolling\": 37.142857142857146, \"Daily confirmed cases\": \"Daily confirmed cases\", \"7-day rolling average\": \"7-day rolling average\"}, {\"Date\": \"2020-04-24\", \"Confirmed cases\": 42, \"Rolling\": 39.57142857142857, \"Daily confirmed cases\": \"Daily confirmed cases\", \"7-day rolling average\": \"7-day rolling average\"}, {\"Date\": \"2020-04-25\", \"Confirmed cases\": 19, \"Rolling\": 37.0, \"Daily confirmed cases\": \"Daily confirmed cases\", \"7-day rolling average\": \"7-day rolling average\"}, {\"Date\": \"2020-04-26\", \"Confirmed cases\": 13, \"Rolling\": 34.857142857142854, \"Daily confirmed cases\": \"Daily confirmed cases\", \"7-day rolling average\": \"7-day rolling average\"}, {\"Date\": \"2020-04-27\", \"Confirmed cases\": 20, \"Rolling\": 27.285714285714285, \"Daily confirmed cases\": \"Daily confirmed cases\", \"7-day rolling average\": \"7-day rolling average\"}]}}, {\"mode\": \"vega-lite\"});\n",
       "</script>"
      ],
      "text/plain": [
       "alt.LayerChart(...)"
      ]
     },
     "execution_count": 59,
     "metadata": {},
     "output_type": "execute_result"
    }
   ],
   "source": [
    "#hide_input\n",
    "bars, line = my_cases_plot(region)\n",
    "(bars + line).properties(\n",
    "    title=f'Covid-19 in Chile: Daily confirmed cases in {region}',\n",
    "    width=600\n",
    ")"
   ]
  },
  {
   "cell_type": "markdown",
   "metadata": {
    "papermill": {
     "duration": 0.088522,
     "end_time": "2020-04-28T06:16:31.996284",
     "exception": false,
     "start_time": "2020-04-28T06:16:31.907762",
     "status": "completed"
    },
    "tags": []
   },
   "source": [
    "## Los Ríos"
   ]
  },
  {
   "cell_type": "code",
   "execution_count": 60,
   "metadata": {
    "execution": {
     "iopub.execute_input": "2020-04-28T06:16:32.177597Z",
     "iopub.status.busy": "2020-04-28T06:16:32.177014Z",
     "iopub.status.idle": "2020-04-28T06:16:32.179052Z",
     "shell.execute_reply": "2020-04-28T06:16:32.178560Z"
    },
    "papermill": {
     "duration": 0.094508,
     "end_time": "2020-04-28T06:16:32.179155",
     "exception": false,
     "start_time": "2020-04-28T06:16:32.084647",
     "status": "completed"
    },
    "scrolled": true,
    "tags": []
   },
   "outputs": [],
   "source": [
    "#hide\n",
    "region = \"Los Ríos\""
   ]
  },
  {
   "cell_type": "code",
   "execution_count": 61,
   "metadata": {
    "execution": {
     "iopub.execute_input": "2020-04-28T06:16:32.374311Z",
     "iopub.status.busy": "2020-04-28T06:16:32.369171Z",
     "iopub.status.idle": "2020-04-28T06:16:32.406372Z",
     "shell.execute_reply": "2020-04-28T06:16:32.405871Z"
    },
    "papermill": {
     "duration": 0.138599,
     "end_time": "2020-04-28T06:16:32.406480",
     "exception": false,
     "start_time": "2020-04-28T06:16:32.267881",
     "status": "completed"
    },
    "tags": []
   },
   "outputs": [
    {
     "data": {
      "text/html": [
       "\n",
       "<div id=\"altair-viz-a356043fd0ca4c5eb6ca6295742961d2\"></div>\n",
       "<script type=\"text/javascript\">\n",
       "  (function(spec, embedOpt){\n",
       "    let outputDiv = document.currentScript.previousElementSibling;\n",
       "    if (outputDiv.id !== \"altair-viz-a356043fd0ca4c5eb6ca6295742961d2\") {\n",
       "      outputDiv = document.getElementById(\"altair-viz-a356043fd0ca4c5eb6ca6295742961d2\");\n",
       "    }\n",
       "    const paths = {\n",
       "      \"vega\": \"https://cdn.jsdelivr.net/npm//vega@5?noext\",\n",
       "      \"vega-lib\": \"https://cdn.jsdelivr.net/npm//vega-lib?noext\",\n",
       "      \"vega-lite\": \"https://cdn.jsdelivr.net/npm//vega-lite@4.8.1?noext\",\n",
       "      \"vega-embed\": \"https://cdn.jsdelivr.net/npm//vega-embed@6?noext\",\n",
       "    };\n",
       "\n",
       "    function loadScript(lib) {\n",
       "      return new Promise(function(resolve, reject) {\n",
       "        var s = document.createElement('script');\n",
       "        s.src = paths[lib];\n",
       "        s.async = true;\n",
       "        s.onload = () => resolve(paths[lib]);\n",
       "        s.onerror = () => reject(`Error loading script: ${paths[lib]}`);\n",
       "        document.getElementsByTagName(\"head\")[0].appendChild(s);\n",
       "      });\n",
       "    }\n",
       "\n",
       "    function showError(err) {\n",
       "      outputDiv.innerHTML = `<div class=\"error\" style=\"color:red;\">${err}</div>`;\n",
       "      throw err;\n",
       "    }\n",
       "\n",
       "    function displayChart(vegaEmbed) {\n",
       "      vegaEmbed(outputDiv, spec, embedOpt)\n",
       "        .catch(err => showError(`Javascript Error: ${err.message}<br>This usually means there's a typo in your chart specification. See the javascript console for the full traceback.`));\n",
       "    }\n",
       "\n",
       "    if(typeof define === \"function\" && define.amd) {\n",
       "      requirejs.config({paths});\n",
       "      require([\"vega-embed\"], displayChart, err => showError(`Error loading script: ${err.message}`));\n",
       "    } else if (typeof vegaEmbed === \"function\") {\n",
       "      displayChart(vegaEmbed);\n",
       "    } else {\n",
       "      loadScript(\"vega\")\n",
       "        .then(() => loadScript(\"vega-lite\"))\n",
       "        .then(() => loadScript(\"vega-embed\"))\n",
       "        .catch(showError)\n",
       "        .then(() => displayChart(vegaEmbed));\n",
       "    }\n",
       "  })({\"config\": {\"view\": {\"continuousWidth\": 400, \"continuousHeight\": 300}}, \"layer\": [{\"mark\": {\"type\": \"bar\", \"opacity\": 0.7}, \"encoding\": {\"opacity\": {\"type\": \"nominal\", \"field\": \"Daily confirmed cases\", \"legend\": {\"title\": \"\"}}, \"tooltip\": [{\"type\": \"nominal\", \"field\": \"Date\"}, {\"type\": \"quantitative\", \"field\": \"Confirmed cases\"}], \"x\": {\"type\": \"nominal\", \"axis\": {\"title\": \"Date\"}, \"field\": \"Date\"}, \"y\": {\"type\": \"quantitative\", \"axis\": {\"title\": \"Daily confirmed cases\"}, \"field\": \"Confirmed cases\"}}}, {\"mark\": {\"type\": \"line\", \"color\": \"#1f77b4\", \"point\": {\"filled\": true, \"fill\": \"#1f77b4\"}}, \"encoding\": {\"shape\": {\"type\": \"nominal\", \"field\": \"7-day rolling average\", \"legend\": {\"title\": \"\"}}, \"x\": {\"type\": \"nominal\", \"axis\": {\"title\": \"Date\"}, \"field\": \"Date\"}, \"y\": {\"type\": \"quantitative\", \"field\": \"Rolling\"}}}], \"data\": {\"name\": \"data-31df51ea5e32a0ef0af072b54c29f646\"}, \"title\": \"Covid-19 in Chile: Daily confirmed cases in Los R\\u00edos\", \"width\": 600, \"$schema\": \"https://vega.github.io/schema/vega-lite/v4.8.1.json\", \"datasets\": {\"data-31df51ea5e32a0ef0af072b54c29f646\": [{\"Date\": \"2020-03-04\", \"Confirmed cases\": 0, \"Rolling\": null, \"Daily confirmed cases\": \"Daily confirmed cases\", \"7-day rolling average\": \"7-day rolling average\"}, {\"Date\": \"2020-03-05\", \"Confirmed cases\": 0, \"Rolling\": null, \"Daily confirmed cases\": \"Daily confirmed cases\", \"7-day rolling average\": \"7-day rolling average\"}, {\"Date\": \"2020-03-06\", \"Confirmed cases\": 0, \"Rolling\": null, \"Daily confirmed cases\": \"Daily confirmed cases\", \"7-day rolling average\": \"7-day rolling average\"}, {\"Date\": \"2020-03-07\", \"Confirmed cases\": 0, \"Rolling\": null, \"Daily confirmed cases\": \"Daily confirmed cases\", \"7-day rolling average\": \"7-day rolling average\"}, {\"Date\": \"2020-03-08\", \"Confirmed cases\": 0, \"Rolling\": null, \"Daily confirmed cases\": \"Daily confirmed cases\", \"7-day rolling average\": \"7-day rolling average\"}, {\"Date\": \"2020-03-09\", \"Confirmed cases\": 0, \"Rolling\": null, \"Daily confirmed cases\": \"Daily confirmed cases\", \"7-day rolling average\": \"7-day rolling average\"}, {\"Date\": \"2020-03-10\", \"Confirmed cases\": 0, \"Rolling\": 0.0, \"Daily confirmed cases\": \"Daily confirmed cases\", \"7-day rolling average\": \"7-day rolling average\"}, {\"Date\": \"2020-03-11\", \"Confirmed cases\": 0, \"Rolling\": 0.0, \"Daily confirmed cases\": \"Daily confirmed cases\", \"7-day rolling average\": \"7-day rolling average\"}, {\"Date\": \"2020-03-12\", \"Confirmed cases\": 0, \"Rolling\": 0.0, \"Daily confirmed cases\": \"Daily confirmed cases\", \"7-day rolling average\": \"7-day rolling average\"}, {\"Date\": \"2020-03-13\", \"Confirmed cases\": 0, \"Rolling\": 0.0, \"Daily confirmed cases\": \"Daily confirmed cases\", \"7-day rolling average\": \"7-day rolling average\"}, {\"Date\": \"2020-03-14\", \"Confirmed cases\": 0, \"Rolling\": 0.0, \"Daily confirmed cases\": \"Daily confirmed cases\", \"7-day rolling average\": \"7-day rolling average\"}, {\"Date\": \"2020-03-15\", \"Confirmed cases\": 0, \"Rolling\": 0.0, \"Daily confirmed cases\": \"Daily confirmed cases\", \"7-day rolling average\": \"7-day rolling average\"}, {\"Date\": \"2020-03-16\", \"Confirmed cases\": 1, \"Rolling\": 0.14285714285714285, \"Daily confirmed cases\": \"Daily confirmed cases\", \"7-day rolling average\": \"7-day rolling average\"}, {\"Date\": \"2020-03-17\", \"Confirmed cases\": 0, \"Rolling\": 0.14285714285714285, \"Daily confirmed cases\": \"Daily confirmed cases\", \"7-day rolling average\": \"7-day rolling average\"}, {\"Date\": \"2020-03-18\", \"Confirmed cases\": 0, \"Rolling\": 0.14285714285714285, \"Daily confirmed cases\": \"Daily confirmed cases\", \"7-day rolling average\": \"7-day rolling average\"}, {\"Date\": \"2020-03-19\", \"Confirmed cases\": 0, \"Rolling\": 0.14285714285714285, \"Daily confirmed cases\": \"Daily confirmed cases\", \"7-day rolling average\": \"7-day rolling average\"}, {\"Date\": \"2020-03-20\", \"Confirmed cases\": 0, \"Rolling\": 0.14285714285714285, \"Daily confirmed cases\": \"Daily confirmed cases\", \"7-day rolling average\": \"7-day rolling average\"}, {\"Date\": \"2020-03-21\", \"Confirmed cases\": 0, \"Rolling\": 0.14285714285714285, \"Daily confirmed cases\": \"Daily confirmed cases\", \"7-day rolling average\": \"7-day rolling average\"}, {\"Date\": \"2020-03-22\", \"Confirmed cases\": 0, \"Rolling\": 0.14285714285714285, \"Daily confirmed cases\": \"Daily confirmed cases\", \"7-day rolling average\": \"7-day rolling average\"}, {\"Date\": \"2020-03-23\", \"Confirmed cases\": 3, \"Rolling\": 0.42857142857142855, \"Daily confirmed cases\": \"Daily confirmed cases\", \"7-day rolling average\": \"7-day rolling average\"}, {\"Date\": \"2020-03-24\", \"Confirmed cases\": 2, \"Rolling\": 0.7142857142857143, \"Daily confirmed cases\": \"Daily confirmed cases\", \"7-day rolling average\": \"7-day rolling average\"}, {\"Date\": \"2020-03-25\", \"Confirmed cases\": 5, \"Rolling\": 1.4285714285714286, \"Daily confirmed cases\": \"Daily confirmed cases\", \"7-day rolling average\": \"7-day rolling average\"}, {\"Date\": \"2020-03-26\", \"Confirmed cases\": 3, \"Rolling\": 1.8571428571428572, \"Daily confirmed cases\": \"Daily confirmed cases\", \"7-day rolling average\": \"7-day rolling average\"}, {\"Date\": \"2020-03-27\", \"Confirmed cases\": 8, \"Rolling\": 3.0, \"Daily confirmed cases\": \"Daily confirmed cases\", \"7-day rolling average\": \"7-day rolling average\"}, {\"Date\": \"2020-03-28\", \"Confirmed cases\": 5, \"Rolling\": 3.7142857142857144, \"Daily confirmed cases\": \"Daily confirmed cases\", \"7-day rolling average\": \"7-day rolling average\"}, {\"Date\": \"2020-03-29\", \"Confirmed cases\": 13, \"Rolling\": 5.571428571428571, \"Daily confirmed cases\": \"Daily confirmed cases\", \"7-day rolling average\": \"7-day rolling average\"}, {\"Date\": \"2020-03-30\", \"Confirmed cases\": 7, \"Rolling\": 6.142857142857143, \"Daily confirmed cases\": \"Daily confirmed cases\", \"7-day rolling average\": \"7-day rolling average\"}, {\"Date\": \"2020-03-31\", \"Confirmed cases\": 11, \"Rolling\": 7.428571428571429, \"Daily confirmed cases\": \"Daily confirmed cases\", \"7-day rolling average\": \"7-day rolling average\"}, {\"Date\": \"2020-04-01\", \"Confirmed cases\": 6, \"Rolling\": 7.571428571428571, \"Daily confirmed cases\": \"Daily confirmed cases\", \"7-day rolling average\": \"7-day rolling average\"}, {\"Date\": \"2020-04-02\", \"Confirmed cases\": 4, \"Rolling\": 7.714285714285714, \"Daily confirmed cases\": \"Daily confirmed cases\", \"7-day rolling average\": \"7-day rolling average\"}, {\"Date\": \"2020-04-03\", \"Confirmed cases\": 10, \"Rolling\": 8.0, \"Daily confirmed cases\": \"Daily confirmed cases\", \"7-day rolling average\": \"7-day rolling average\"}, {\"Date\": \"2020-04-04\", \"Confirmed cases\": 11, \"Rolling\": 8.857142857142858, \"Daily confirmed cases\": \"Daily confirmed cases\", \"7-day rolling average\": \"7-day rolling average\"}, {\"Date\": \"2020-04-05\", \"Confirmed cases\": 10, \"Rolling\": 8.428571428571429, \"Daily confirmed cases\": \"Daily confirmed cases\", \"7-day rolling average\": \"7-day rolling average\"}, {\"Date\": \"2020-04-06\", \"Confirmed cases\": 5, \"Rolling\": 8.142857142857142, \"Daily confirmed cases\": \"Daily confirmed cases\", \"7-day rolling average\": \"7-day rolling average\"}, {\"Date\": \"2020-04-07\", \"Confirmed cases\": 5, \"Rolling\": 7.285714285714286, \"Daily confirmed cases\": \"Daily confirmed cases\", \"7-day rolling average\": \"7-day rolling average\"}, {\"Date\": \"2020-04-08\", \"Confirmed cases\": 5, \"Rolling\": 7.142857142857143, \"Daily confirmed cases\": \"Daily confirmed cases\", \"7-day rolling average\": \"7-day rolling average\"}, {\"Date\": \"2020-04-09\", \"Confirmed cases\": 4, \"Rolling\": 7.142857142857143, \"Daily confirmed cases\": \"Daily confirmed cases\", \"7-day rolling average\": \"7-day rolling average\"}, {\"Date\": \"2020-04-10\", \"Confirmed cases\": 6, \"Rolling\": 6.571428571428571, \"Daily confirmed cases\": \"Daily confirmed cases\", \"7-day rolling average\": \"7-day rolling average\"}, {\"Date\": \"2020-04-11\", \"Confirmed cases\": 6, \"Rolling\": 5.857142857142857, \"Daily confirmed cases\": \"Daily confirmed cases\", \"7-day rolling average\": \"7-day rolling average\"}, {\"Date\": \"2020-04-12\", \"Confirmed cases\": 5, \"Rolling\": 5.142857142857143, \"Daily confirmed cases\": \"Daily confirmed cases\", \"7-day rolling average\": \"7-day rolling average\"}, {\"Date\": \"2020-04-13\", \"Confirmed cases\": 3, \"Rolling\": 4.857142857142857, \"Daily confirmed cases\": \"Daily confirmed cases\", \"7-day rolling average\": \"7-day rolling average\"}, {\"Date\": \"2020-04-14\", \"Confirmed cases\": 10, \"Rolling\": 5.571428571428571, \"Daily confirmed cases\": \"Daily confirmed cases\", \"7-day rolling average\": \"7-day rolling average\"}, {\"Date\": \"2020-04-15\", \"Confirmed cases\": 2, \"Rolling\": 5.142857142857143, \"Daily confirmed cases\": \"Daily confirmed cases\", \"7-day rolling average\": \"7-day rolling average\"}, {\"Date\": \"2020-04-16\", \"Confirmed cases\": 3, \"Rolling\": 5.0, \"Daily confirmed cases\": \"Daily confirmed cases\", \"7-day rolling average\": \"7-day rolling average\"}, {\"Date\": \"2020-04-17\", \"Confirmed cases\": 1, \"Rolling\": 4.285714285714286, \"Daily confirmed cases\": \"Daily confirmed cases\", \"7-day rolling average\": \"7-day rolling average\"}, {\"Date\": \"2020-04-18\", \"Confirmed cases\": 2, \"Rolling\": 3.7142857142857144, \"Daily confirmed cases\": \"Daily confirmed cases\", \"7-day rolling average\": \"7-day rolling average\"}, {\"Date\": \"2020-04-19\", \"Confirmed cases\": 1, \"Rolling\": 3.142857142857143, \"Daily confirmed cases\": \"Daily confirmed cases\", \"7-day rolling average\": \"7-day rolling average\"}, {\"Date\": \"2020-04-20\", \"Confirmed cases\": 5, \"Rolling\": 3.4285714285714284, \"Daily confirmed cases\": \"Daily confirmed cases\", \"7-day rolling average\": \"7-day rolling average\"}, {\"Date\": \"2020-04-21\", \"Confirmed cases\": 5, \"Rolling\": 2.7142857142857144, \"Daily confirmed cases\": \"Daily confirmed cases\", \"7-day rolling average\": \"7-day rolling average\"}, {\"Date\": \"2020-04-22\", \"Confirmed cases\": 4, \"Rolling\": 3.0, \"Daily confirmed cases\": \"Daily confirmed cases\", \"7-day rolling average\": \"7-day rolling average\"}, {\"Date\": \"2020-04-23\", \"Confirmed cases\": 2, \"Rolling\": 2.857142857142857, \"Daily confirmed cases\": \"Daily confirmed cases\", \"7-day rolling average\": \"7-day rolling average\"}, {\"Date\": \"2020-04-24\", \"Confirmed cases\": 1, \"Rolling\": 2.857142857142857, \"Daily confirmed cases\": \"Daily confirmed cases\", \"7-day rolling average\": \"7-day rolling average\"}, {\"Date\": \"2020-04-25\", \"Confirmed cases\": 3, \"Rolling\": 3.0, \"Daily confirmed cases\": \"Daily confirmed cases\", \"7-day rolling average\": \"7-day rolling average\"}, {\"Date\": \"2020-04-26\", \"Confirmed cases\": 1, \"Rolling\": 3.0, \"Daily confirmed cases\": \"Daily confirmed cases\", \"7-day rolling average\": \"7-day rolling average\"}, {\"Date\": \"2020-04-27\", \"Confirmed cases\": 2, \"Rolling\": 2.5714285714285716, \"Daily confirmed cases\": \"Daily confirmed cases\", \"7-day rolling average\": \"7-day rolling average\"}]}}, {\"mode\": \"vega-lite\"});\n",
       "</script>"
      ],
      "text/plain": [
       "alt.LayerChart(...)"
      ]
     },
     "execution_count": 61,
     "metadata": {},
     "output_type": "execute_result"
    }
   ],
   "source": [
    "#hide_input\n",
    "bars, line = my_cases_plot(region)\n",
    "(bars + line).properties(\n",
    "    title=f'Covid-19 in Chile: Daily confirmed cases in {region}',\n",
    "    width=600\n",
    ")"
   ]
  },
  {
   "cell_type": "markdown",
   "metadata": {
    "papermill": {
     "duration": 0.088439,
     "end_time": "2020-04-28T06:16:32.584168",
     "exception": false,
     "start_time": "2020-04-28T06:16:32.495729",
     "status": "completed"
    },
    "tags": []
   },
   "source": [
    "## Los Lagos"
   ]
  },
  {
   "cell_type": "code",
   "execution_count": 62,
   "metadata": {
    "execution": {
     "iopub.execute_input": "2020-04-28T06:16:32.765896Z",
     "iopub.status.busy": "2020-04-28T06:16:32.765279Z",
     "iopub.status.idle": "2020-04-28T06:16:32.766916Z",
     "shell.execute_reply": "2020-04-28T06:16:32.767404Z"
    },
    "papermill": {
     "duration": 0.095271,
     "end_time": "2020-04-28T06:16:32.767528",
     "exception": false,
     "start_time": "2020-04-28T06:16:32.672257",
     "status": "completed"
    },
    "scrolled": false,
    "tags": []
   },
   "outputs": [],
   "source": [
    "#hide\n",
    "region = \"Los Lagos\""
   ]
  },
  {
   "cell_type": "code",
   "execution_count": 63,
   "metadata": {
    "execution": {
     "iopub.execute_input": "2020-04-28T06:16:32.961698Z",
     "iopub.status.busy": "2020-04-28T06:16:32.960953Z",
     "iopub.status.idle": "2020-04-28T06:16:32.995828Z",
     "shell.execute_reply": "2020-04-28T06:16:32.996378Z"
    },
    "papermill": {
     "duration": 0.136221,
     "end_time": "2020-04-28T06:16:32.996524",
     "exception": false,
     "start_time": "2020-04-28T06:16:32.860303",
     "status": "completed"
    },
    "tags": []
   },
   "outputs": [
    {
     "data": {
      "text/html": [
       "\n",
       "<div id=\"altair-viz-7c5d967cc01943ce88316d0c6dbc41a1\"></div>\n",
       "<script type=\"text/javascript\">\n",
       "  (function(spec, embedOpt){\n",
       "    let outputDiv = document.currentScript.previousElementSibling;\n",
       "    if (outputDiv.id !== \"altair-viz-7c5d967cc01943ce88316d0c6dbc41a1\") {\n",
       "      outputDiv = document.getElementById(\"altair-viz-7c5d967cc01943ce88316d0c6dbc41a1\");\n",
       "    }\n",
       "    const paths = {\n",
       "      \"vega\": \"https://cdn.jsdelivr.net/npm//vega@5?noext\",\n",
       "      \"vega-lib\": \"https://cdn.jsdelivr.net/npm//vega-lib?noext\",\n",
       "      \"vega-lite\": \"https://cdn.jsdelivr.net/npm//vega-lite@4.8.1?noext\",\n",
       "      \"vega-embed\": \"https://cdn.jsdelivr.net/npm//vega-embed@6?noext\",\n",
       "    };\n",
       "\n",
       "    function loadScript(lib) {\n",
       "      return new Promise(function(resolve, reject) {\n",
       "        var s = document.createElement('script');\n",
       "        s.src = paths[lib];\n",
       "        s.async = true;\n",
       "        s.onload = () => resolve(paths[lib]);\n",
       "        s.onerror = () => reject(`Error loading script: ${paths[lib]}`);\n",
       "        document.getElementsByTagName(\"head\")[0].appendChild(s);\n",
       "      });\n",
       "    }\n",
       "\n",
       "    function showError(err) {\n",
       "      outputDiv.innerHTML = `<div class=\"error\" style=\"color:red;\">${err}</div>`;\n",
       "      throw err;\n",
       "    }\n",
       "\n",
       "    function displayChart(vegaEmbed) {\n",
       "      vegaEmbed(outputDiv, spec, embedOpt)\n",
       "        .catch(err => showError(`Javascript Error: ${err.message}<br>This usually means there's a typo in your chart specification. See the javascript console for the full traceback.`));\n",
       "    }\n",
       "\n",
       "    if(typeof define === \"function\" && define.amd) {\n",
       "      requirejs.config({paths});\n",
       "      require([\"vega-embed\"], displayChart, err => showError(`Error loading script: ${err.message}`));\n",
       "    } else if (typeof vegaEmbed === \"function\") {\n",
       "      displayChart(vegaEmbed);\n",
       "    } else {\n",
       "      loadScript(\"vega\")\n",
       "        .then(() => loadScript(\"vega-lite\"))\n",
       "        .then(() => loadScript(\"vega-embed\"))\n",
       "        .catch(showError)\n",
       "        .then(() => displayChart(vegaEmbed));\n",
       "    }\n",
       "  })({\"config\": {\"view\": {\"continuousWidth\": 400, \"continuousHeight\": 300}}, \"layer\": [{\"mark\": {\"type\": \"bar\", \"opacity\": 0.7}, \"encoding\": {\"opacity\": {\"type\": \"nominal\", \"field\": \"Daily confirmed cases\", \"legend\": {\"title\": \"\"}}, \"tooltip\": [{\"type\": \"nominal\", \"field\": \"Date\"}, {\"type\": \"quantitative\", \"field\": \"Confirmed cases\"}], \"x\": {\"type\": \"nominal\", \"axis\": {\"title\": \"Date\"}, \"field\": \"Date\"}, \"y\": {\"type\": \"quantitative\", \"axis\": {\"title\": \"Daily confirmed cases\"}, \"field\": \"Confirmed cases\"}}}, {\"mark\": {\"type\": \"line\", \"color\": \"#1f77b4\", \"point\": {\"filled\": true, \"fill\": \"#1f77b4\"}}, \"encoding\": {\"shape\": {\"type\": \"nominal\", \"field\": \"7-day rolling average\", \"legend\": {\"title\": \"\"}}, \"x\": {\"type\": \"nominal\", \"axis\": {\"title\": \"Date\"}, \"field\": \"Date\"}, \"y\": {\"type\": \"quantitative\", \"field\": \"Rolling\"}}}], \"data\": {\"name\": \"data-dd10a82c412810123831d40be09b4085\"}, \"title\": \"Covid-19 in Chile: Daily confirmed cases in Los Lagos\", \"width\": 600, \"$schema\": \"https://vega.github.io/schema/vega-lite/v4.8.1.json\", \"datasets\": {\"data-dd10a82c412810123831d40be09b4085\": [{\"Date\": \"2020-03-04\", \"Confirmed cases\": 0, \"Rolling\": null, \"Daily confirmed cases\": \"Daily confirmed cases\", \"7-day rolling average\": \"7-day rolling average\"}, {\"Date\": \"2020-03-05\", \"Confirmed cases\": 0, \"Rolling\": null, \"Daily confirmed cases\": \"Daily confirmed cases\", \"7-day rolling average\": \"7-day rolling average\"}, {\"Date\": \"2020-03-06\", \"Confirmed cases\": 0, \"Rolling\": null, \"Daily confirmed cases\": \"Daily confirmed cases\", \"7-day rolling average\": \"7-day rolling average\"}, {\"Date\": \"2020-03-07\", \"Confirmed cases\": 1, \"Rolling\": null, \"Daily confirmed cases\": \"Daily confirmed cases\", \"7-day rolling average\": \"7-day rolling average\"}, {\"Date\": \"2020-03-08\", \"Confirmed cases\": 0, \"Rolling\": null, \"Daily confirmed cases\": \"Daily confirmed cases\", \"7-day rolling average\": \"7-day rolling average\"}, {\"Date\": \"2020-03-09\", \"Confirmed cases\": 0, \"Rolling\": null, \"Daily confirmed cases\": \"Daily confirmed cases\", \"7-day rolling average\": \"7-day rolling average\"}, {\"Date\": \"2020-03-10\", \"Confirmed cases\": 0, \"Rolling\": 0.14285714285714285, \"Daily confirmed cases\": \"Daily confirmed cases\", \"7-day rolling average\": \"7-day rolling average\"}, {\"Date\": \"2020-03-11\", \"Confirmed cases\": 0, \"Rolling\": 0.14285714285714285, \"Daily confirmed cases\": \"Daily confirmed cases\", \"7-day rolling average\": \"7-day rolling average\"}, {\"Date\": \"2020-03-12\", \"Confirmed cases\": 0, \"Rolling\": 0.14285714285714285, \"Daily confirmed cases\": \"Daily confirmed cases\", \"7-day rolling average\": \"7-day rolling average\"}, {\"Date\": \"2020-03-13\", \"Confirmed cases\": 0, \"Rolling\": 0.14285714285714285, \"Daily confirmed cases\": \"Daily confirmed cases\", \"7-day rolling average\": \"7-day rolling average\"}, {\"Date\": \"2020-03-14\", \"Confirmed cases\": 0, \"Rolling\": 0.0, \"Daily confirmed cases\": \"Daily confirmed cases\", \"7-day rolling average\": \"7-day rolling average\"}, {\"Date\": \"2020-03-15\", \"Confirmed cases\": 0, \"Rolling\": 0.0, \"Daily confirmed cases\": \"Daily confirmed cases\", \"7-day rolling average\": \"7-day rolling average\"}, {\"Date\": \"2020-03-16\", \"Confirmed cases\": 0, \"Rolling\": 0.0, \"Daily confirmed cases\": \"Daily confirmed cases\", \"7-day rolling average\": \"7-day rolling average\"}, {\"Date\": \"2020-03-17\", \"Confirmed cases\": 0, \"Rolling\": 0.0, \"Daily confirmed cases\": \"Daily confirmed cases\", \"7-day rolling average\": \"7-day rolling average\"}, {\"Date\": \"2020-03-18\", \"Confirmed cases\": 7, \"Rolling\": 1.0, \"Daily confirmed cases\": \"Daily confirmed cases\", \"7-day rolling average\": \"7-day rolling average\"}, {\"Date\": \"2020-03-19\", \"Confirmed cases\": 8, \"Rolling\": 2.142857142857143, \"Daily confirmed cases\": \"Daily confirmed cases\", \"7-day rolling average\": \"7-day rolling average\"}, {\"Date\": \"2020-03-20\", \"Confirmed cases\": 2, \"Rolling\": 2.4285714285714284, \"Daily confirmed cases\": \"Daily confirmed cases\", \"7-day rolling average\": \"7-day rolling average\"}, {\"Date\": \"2020-03-21\", \"Confirmed cases\": 2, \"Rolling\": 2.7142857142857144, \"Daily confirmed cases\": \"Daily confirmed cases\", \"7-day rolling average\": \"7-day rolling average\"}, {\"Date\": \"2020-03-22\", \"Confirmed cases\": 3, \"Rolling\": 3.142857142857143, \"Daily confirmed cases\": \"Daily confirmed cases\", \"7-day rolling average\": \"7-day rolling average\"}, {\"Date\": \"2020-03-23\", \"Confirmed cases\": 10, \"Rolling\": 4.571428571428571, \"Daily confirmed cases\": \"Daily confirmed cases\", \"7-day rolling average\": \"7-day rolling average\"}, {\"Date\": \"2020-03-24\", \"Confirmed cases\": 3, \"Rolling\": 5.0, \"Daily confirmed cases\": \"Daily confirmed cases\", \"7-day rolling average\": \"7-day rolling average\"}, {\"Date\": \"2020-03-25\", \"Confirmed cases\": 8, \"Rolling\": 5.142857142857143, \"Daily confirmed cases\": \"Daily confirmed cases\", \"7-day rolling average\": \"7-day rolling average\"}, {\"Date\": \"2020-03-26\", \"Confirmed cases\": 16, \"Rolling\": 6.285714285714286, \"Daily confirmed cases\": \"Daily confirmed cases\", \"7-day rolling average\": \"7-day rolling average\"}, {\"Date\": \"2020-03-27\", \"Confirmed cases\": 3, \"Rolling\": 6.428571428571429, \"Daily confirmed cases\": \"Daily confirmed cases\", \"7-day rolling average\": \"7-day rolling average\"}, {\"Date\": \"2020-03-28\", \"Confirmed cases\": 30, \"Rolling\": 10.428571428571429, \"Daily confirmed cases\": \"Daily confirmed cases\", \"7-day rolling average\": \"7-day rolling average\"}, {\"Date\": \"2020-03-29\", \"Confirmed cases\": 11, \"Rolling\": 11.571428571428571, \"Daily confirmed cases\": \"Daily confirmed cases\", \"7-day rolling average\": \"7-day rolling average\"}, {\"Date\": \"2020-03-30\", \"Confirmed cases\": 24, \"Rolling\": 13.571428571428571, \"Daily confirmed cases\": \"Daily confirmed cases\", \"7-day rolling average\": \"7-day rolling average\"}, {\"Date\": \"2020-03-31\", \"Confirmed cases\": 23, \"Rolling\": 16.428571428571427, \"Daily confirmed cases\": \"Daily confirmed cases\", \"7-day rolling average\": \"7-day rolling average\"}, {\"Date\": \"2020-04-01\", \"Confirmed cases\": 30, \"Rolling\": 19.571428571428573, \"Daily confirmed cases\": \"Daily confirmed cases\", \"7-day rolling average\": \"7-day rolling average\"}, {\"Date\": \"2020-04-02\", \"Confirmed cases\": 22, \"Rolling\": 20.428571428571427, \"Daily confirmed cases\": \"Daily confirmed cases\", \"7-day rolling average\": \"7-day rolling average\"}, {\"Date\": \"2020-04-03\", \"Confirmed cases\": 31, \"Rolling\": 24.428571428571427, \"Daily confirmed cases\": \"Daily confirmed cases\", \"7-day rolling average\": \"7-day rolling average\"}, {\"Date\": \"2020-04-04\", \"Confirmed cases\": 25, \"Rolling\": 23.714285714285715, \"Daily confirmed cases\": \"Daily confirmed cases\", \"7-day rolling average\": \"7-day rolling average\"}, {\"Date\": \"2020-04-05\", \"Confirmed cases\": 17, \"Rolling\": 24.571428571428573, \"Daily confirmed cases\": \"Daily confirmed cases\", \"7-day rolling average\": \"7-day rolling average\"}, {\"Date\": \"2020-04-06\", \"Confirmed cases\": 10, \"Rolling\": 22.571428571428573, \"Daily confirmed cases\": \"Daily confirmed cases\", \"7-day rolling average\": \"7-day rolling average\"}, {\"Date\": \"2020-04-07\", \"Confirmed cases\": 13, \"Rolling\": 21.142857142857142, \"Daily confirmed cases\": \"Daily confirmed cases\", \"7-day rolling average\": \"7-day rolling average\"}, {\"Date\": \"2020-04-08\", \"Confirmed cases\": 26, \"Rolling\": 20.571428571428573, \"Daily confirmed cases\": \"Daily confirmed cases\", \"7-day rolling average\": \"7-day rolling average\"}, {\"Date\": \"2020-04-09\", \"Confirmed cases\": 15, \"Rolling\": 19.571428571428573, \"Daily confirmed cases\": \"Daily confirmed cases\", \"7-day rolling average\": \"7-day rolling average\"}, {\"Date\": \"2020-04-10\", \"Confirmed cases\": 9, \"Rolling\": 16.428571428571427, \"Daily confirmed cases\": \"Daily confirmed cases\", \"7-day rolling average\": \"7-day rolling average\"}, {\"Date\": \"2020-04-11\", \"Confirmed cases\": 15, \"Rolling\": 15.0, \"Daily confirmed cases\": \"Daily confirmed cases\", \"7-day rolling average\": \"7-day rolling average\"}, {\"Date\": \"2020-04-12\", \"Confirmed cases\": 8, \"Rolling\": 13.714285714285714, \"Daily confirmed cases\": \"Daily confirmed cases\", \"7-day rolling average\": \"7-day rolling average\"}, {\"Date\": \"2020-04-13\", \"Confirmed cases\": 8, \"Rolling\": 13.428571428571429, \"Daily confirmed cases\": \"Daily confirmed cases\", \"7-day rolling average\": \"7-day rolling average\"}, {\"Date\": \"2020-04-14\", \"Confirmed cases\": 5, \"Rolling\": 12.285714285714286, \"Daily confirmed cases\": \"Daily confirmed cases\", \"7-day rolling average\": \"7-day rolling average\"}, {\"Date\": \"2020-04-15\", \"Confirmed cases\": 5, \"Rolling\": 9.285714285714286, \"Daily confirmed cases\": \"Daily confirmed cases\", \"7-day rolling average\": \"7-day rolling average\"}, {\"Date\": \"2020-04-16\", \"Confirmed cases\": 9, \"Rolling\": 8.428571428571429, \"Daily confirmed cases\": \"Daily confirmed cases\", \"7-day rolling average\": \"7-day rolling average\"}, {\"Date\": \"2020-04-17\", \"Confirmed cases\": 13, \"Rolling\": 9.0, \"Daily confirmed cases\": \"Daily confirmed cases\", \"7-day rolling average\": \"7-day rolling average\"}, {\"Date\": \"2020-04-18\", \"Confirmed cases\": 4, \"Rolling\": 7.428571428571429, \"Daily confirmed cases\": \"Daily confirmed cases\", \"7-day rolling average\": \"7-day rolling average\"}, {\"Date\": \"2020-04-19\", \"Confirmed cases\": 5, \"Rolling\": 7.0, \"Daily confirmed cases\": \"Daily confirmed cases\", \"7-day rolling average\": \"7-day rolling average\"}, {\"Date\": \"2020-04-20\", \"Confirmed cases\": 3, \"Rolling\": 6.285714285714286, \"Daily confirmed cases\": \"Daily confirmed cases\", \"7-day rolling average\": \"7-day rolling average\"}, {\"Date\": \"2020-04-21\", \"Confirmed cases\": 8, \"Rolling\": 6.714285714285714, \"Daily confirmed cases\": \"Daily confirmed cases\", \"7-day rolling average\": \"7-day rolling average\"}, {\"Date\": \"2020-04-22\", \"Confirmed cases\": 13, \"Rolling\": 7.857142857142857, \"Daily confirmed cases\": \"Daily confirmed cases\", \"7-day rolling average\": \"7-day rolling average\"}, {\"Date\": \"2020-04-23\", \"Confirmed cases\": 9, \"Rolling\": 7.857142857142857, \"Daily confirmed cases\": \"Daily confirmed cases\", \"7-day rolling average\": \"7-day rolling average\"}, {\"Date\": \"2020-04-24\", \"Confirmed cases\": 6, \"Rolling\": 6.857142857142857, \"Daily confirmed cases\": \"Daily confirmed cases\", \"7-day rolling average\": \"7-day rolling average\"}, {\"Date\": \"2020-04-25\", \"Confirmed cases\": 5, \"Rolling\": 7.0, \"Daily confirmed cases\": \"Daily confirmed cases\", \"7-day rolling average\": \"7-day rolling average\"}, {\"Date\": \"2020-04-26\", \"Confirmed cases\": 8, \"Rolling\": 7.428571428571429, \"Daily confirmed cases\": \"Daily confirmed cases\", \"7-day rolling average\": \"7-day rolling average\"}, {\"Date\": \"2020-04-27\", \"Confirmed cases\": 4, \"Rolling\": 7.571428571428571, \"Daily confirmed cases\": \"Daily confirmed cases\", \"7-day rolling average\": \"7-day rolling average\"}]}}, {\"mode\": \"vega-lite\"});\n",
       "</script>"
      ],
      "text/plain": [
       "alt.LayerChart(...)"
      ]
     },
     "execution_count": 63,
     "metadata": {},
     "output_type": "execute_result"
    }
   ],
   "source": [
    "#hide_input\n",
    "bars, line = my_cases_plot(region)\n",
    "(bars + line).properties(\n",
    "    title=f'Covid-19 in Chile: Daily confirmed cases in {region}',\n",
    "    width=600\n",
    ")"
   ]
  },
  {
   "cell_type": "markdown",
   "metadata": {
    "papermill": {
     "duration": 0.091947,
     "end_time": "2020-04-28T06:16:33.184589",
     "exception": false,
     "start_time": "2020-04-28T06:16:33.092642",
     "status": "completed"
    },
    "tags": []
   },
   "source": [
    "## Aysén"
   ]
  },
  {
   "cell_type": "code",
   "execution_count": 64,
   "metadata": {
    "execution": {
     "iopub.execute_input": "2020-04-28T06:16:33.372916Z",
     "iopub.status.busy": "2020-04-28T06:16:33.372300Z",
     "iopub.status.idle": "2020-04-28T06:16:33.375025Z",
     "shell.execute_reply": "2020-04-28T06:16:33.374374Z"
    },
    "papermill": {
     "duration": 0.099556,
     "end_time": "2020-04-28T06:16:33.375136",
     "exception": false,
     "start_time": "2020-04-28T06:16:33.275580",
     "status": "completed"
    },
    "scrolled": true,
    "tags": []
   },
   "outputs": [],
   "source": [
    "#hide\n",
    "region = \"Aysén\""
   ]
  },
  {
   "cell_type": "code",
   "execution_count": 65,
   "metadata": {
    "execution": {
     "iopub.execute_input": "2020-04-28T06:16:33.580060Z",
     "iopub.status.busy": "2020-04-28T06:16:33.574949Z",
     "iopub.status.idle": "2020-04-28T06:16:33.613809Z",
     "shell.execute_reply": "2020-04-28T06:16:33.614452Z"
    },
    "papermill": {
     "duration": 0.147646,
     "end_time": "2020-04-28T06:16:33.614626",
     "exception": false,
     "start_time": "2020-04-28T06:16:33.466980",
     "status": "completed"
    },
    "tags": []
   },
   "outputs": [
    {
     "data": {
      "text/html": [
       "\n",
       "<div id=\"altair-viz-2587995a3e944b2c9b279a9e14206f47\"></div>\n",
       "<script type=\"text/javascript\">\n",
       "  (function(spec, embedOpt){\n",
       "    let outputDiv = document.currentScript.previousElementSibling;\n",
       "    if (outputDiv.id !== \"altair-viz-2587995a3e944b2c9b279a9e14206f47\") {\n",
       "      outputDiv = document.getElementById(\"altair-viz-2587995a3e944b2c9b279a9e14206f47\");\n",
       "    }\n",
       "    const paths = {\n",
       "      \"vega\": \"https://cdn.jsdelivr.net/npm//vega@5?noext\",\n",
       "      \"vega-lib\": \"https://cdn.jsdelivr.net/npm//vega-lib?noext\",\n",
       "      \"vega-lite\": \"https://cdn.jsdelivr.net/npm//vega-lite@4.8.1?noext\",\n",
       "      \"vega-embed\": \"https://cdn.jsdelivr.net/npm//vega-embed@6?noext\",\n",
       "    };\n",
       "\n",
       "    function loadScript(lib) {\n",
       "      return new Promise(function(resolve, reject) {\n",
       "        var s = document.createElement('script');\n",
       "        s.src = paths[lib];\n",
       "        s.async = true;\n",
       "        s.onload = () => resolve(paths[lib]);\n",
       "        s.onerror = () => reject(`Error loading script: ${paths[lib]}`);\n",
       "        document.getElementsByTagName(\"head\")[0].appendChild(s);\n",
       "      });\n",
       "    }\n",
       "\n",
       "    function showError(err) {\n",
       "      outputDiv.innerHTML = `<div class=\"error\" style=\"color:red;\">${err}</div>`;\n",
       "      throw err;\n",
       "    }\n",
       "\n",
       "    function displayChart(vegaEmbed) {\n",
       "      vegaEmbed(outputDiv, spec, embedOpt)\n",
       "        .catch(err => showError(`Javascript Error: ${err.message}<br>This usually means there's a typo in your chart specification. See the javascript console for the full traceback.`));\n",
       "    }\n",
       "\n",
       "    if(typeof define === \"function\" && define.amd) {\n",
       "      requirejs.config({paths});\n",
       "      require([\"vega-embed\"], displayChart, err => showError(`Error loading script: ${err.message}`));\n",
       "    } else if (typeof vegaEmbed === \"function\") {\n",
       "      displayChart(vegaEmbed);\n",
       "    } else {\n",
       "      loadScript(\"vega\")\n",
       "        .then(() => loadScript(\"vega-lite\"))\n",
       "        .then(() => loadScript(\"vega-embed\"))\n",
       "        .catch(showError)\n",
       "        .then(() => displayChart(vegaEmbed));\n",
       "    }\n",
       "  })({\"config\": {\"view\": {\"continuousWidth\": 400, \"continuousHeight\": 300}}, \"layer\": [{\"mark\": {\"type\": \"bar\", \"opacity\": 0.7}, \"encoding\": {\"opacity\": {\"type\": \"nominal\", \"field\": \"Daily confirmed cases\", \"legend\": {\"title\": \"\"}}, \"tooltip\": [{\"type\": \"nominal\", \"field\": \"Date\"}, {\"type\": \"quantitative\", \"field\": \"Confirmed cases\"}], \"x\": {\"type\": \"nominal\", \"axis\": {\"title\": \"Date\"}, \"field\": \"Date\"}, \"y\": {\"type\": \"quantitative\", \"axis\": {\"title\": \"Daily confirmed cases\"}, \"field\": \"Confirmed cases\"}}}, {\"mark\": {\"type\": \"line\", \"color\": \"#1f77b4\", \"point\": {\"filled\": true, \"fill\": \"#1f77b4\"}}, \"encoding\": {\"shape\": {\"type\": \"nominal\", \"field\": \"7-day rolling average\", \"legend\": {\"title\": \"\"}}, \"x\": {\"type\": \"nominal\", \"axis\": {\"title\": \"Date\"}, \"field\": \"Date\"}, \"y\": {\"type\": \"quantitative\", \"field\": \"Rolling\"}}}], \"data\": {\"name\": \"data-e310c94ac6a2910411dd724f0719e695\"}, \"title\": \"Covid-19 in Chile: Daily confirmed cases in Ays\\u00e9n\", \"width\": 600, \"$schema\": \"https://vega.github.io/schema/vega-lite/v4.8.1.json\", \"datasets\": {\"data-e310c94ac6a2910411dd724f0719e695\": [{\"Date\": \"2020-03-04\", \"Confirmed cases\": 0, \"Rolling\": null, \"Daily confirmed cases\": \"Daily confirmed cases\", \"7-day rolling average\": \"7-day rolling average\"}, {\"Date\": \"2020-03-05\", \"Confirmed cases\": 0, \"Rolling\": null, \"Daily confirmed cases\": \"Daily confirmed cases\", \"7-day rolling average\": \"7-day rolling average\"}, {\"Date\": \"2020-03-06\", \"Confirmed cases\": 0, \"Rolling\": null, \"Daily confirmed cases\": \"Daily confirmed cases\", \"7-day rolling average\": \"7-day rolling average\"}, {\"Date\": \"2020-03-07\", \"Confirmed cases\": 0, \"Rolling\": null, \"Daily confirmed cases\": \"Daily confirmed cases\", \"7-day rolling average\": \"7-day rolling average\"}, {\"Date\": \"2020-03-08\", \"Confirmed cases\": 0, \"Rolling\": null, \"Daily confirmed cases\": \"Daily confirmed cases\", \"7-day rolling average\": \"7-day rolling average\"}, {\"Date\": \"2020-03-09\", \"Confirmed cases\": 0, \"Rolling\": null, \"Daily confirmed cases\": \"Daily confirmed cases\", \"7-day rolling average\": \"7-day rolling average\"}, {\"Date\": \"2020-03-10\", \"Confirmed cases\": 0, \"Rolling\": 0.0, \"Daily confirmed cases\": \"Daily confirmed cases\", \"7-day rolling average\": \"7-day rolling average\"}, {\"Date\": \"2020-03-11\", \"Confirmed cases\": 0, \"Rolling\": 0.0, \"Daily confirmed cases\": \"Daily confirmed cases\", \"7-day rolling average\": \"7-day rolling average\"}, {\"Date\": \"2020-03-12\", \"Confirmed cases\": 0, \"Rolling\": 0.0, \"Daily confirmed cases\": \"Daily confirmed cases\", \"7-day rolling average\": \"7-day rolling average\"}, {\"Date\": \"2020-03-13\", \"Confirmed cases\": 0, \"Rolling\": 0.0, \"Daily confirmed cases\": \"Daily confirmed cases\", \"7-day rolling average\": \"7-day rolling average\"}, {\"Date\": \"2020-03-14\", \"Confirmed cases\": 1, \"Rolling\": 0.14285714285714285, \"Daily confirmed cases\": \"Daily confirmed cases\", \"7-day rolling average\": \"7-day rolling average\"}, {\"Date\": \"2020-03-15\", \"Confirmed cases\": 0, \"Rolling\": 0.14285714285714285, \"Daily confirmed cases\": \"Daily confirmed cases\", \"7-day rolling average\": \"7-day rolling average\"}, {\"Date\": \"2020-03-16\", \"Confirmed cases\": 0, \"Rolling\": 0.14285714285714285, \"Daily confirmed cases\": \"Daily confirmed cases\", \"7-day rolling average\": \"7-day rolling average\"}, {\"Date\": \"2020-03-17\", \"Confirmed cases\": 0, \"Rolling\": 0.14285714285714285, \"Daily confirmed cases\": \"Daily confirmed cases\", \"7-day rolling average\": \"7-day rolling average\"}, {\"Date\": \"2020-03-18\", \"Confirmed cases\": 0, \"Rolling\": 0.14285714285714285, \"Daily confirmed cases\": \"Daily confirmed cases\", \"7-day rolling average\": \"7-day rolling average\"}, {\"Date\": \"2020-03-19\", \"Confirmed cases\": 0, \"Rolling\": 0.14285714285714285, \"Daily confirmed cases\": \"Daily confirmed cases\", \"7-day rolling average\": \"7-day rolling average\"}, {\"Date\": \"2020-03-20\", \"Confirmed cases\": 0, \"Rolling\": 0.14285714285714285, \"Daily confirmed cases\": \"Daily confirmed cases\", \"7-day rolling average\": \"7-day rolling average\"}, {\"Date\": \"2020-03-21\", \"Confirmed cases\": 0, \"Rolling\": 0.0, \"Daily confirmed cases\": \"Daily confirmed cases\", \"7-day rolling average\": \"7-day rolling average\"}, {\"Date\": \"2020-03-22\", \"Confirmed cases\": 0, \"Rolling\": 0.0, \"Daily confirmed cases\": \"Daily confirmed cases\", \"7-day rolling average\": \"7-day rolling average\"}, {\"Date\": \"2020-03-23\", \"Confirmed cases\": 0, \"Rolling\": 0.0, \"Daily confirmed cases\": \"Daily confirmed cases\", \"7-day rolling average\": \"7-day rolling average\"}, {\"Date\": \"2020-03-24\", \"Confirmed cases\": 0, \"Rolling\": 0.0, \"Daily confirmed cases\": \"Daily confirmed cases\", \"7-day rolling average\": \"7-day rolling average\"}, {\"Date\": \"2020-03-25\", \"Confirmed cases\": 0, \"Rolling\": 0.0, \"Daily confirmed cases\": \"Daily confirmed cases\", \"7-day rolling average\": \"7-day rolling average\"}, {\"Date\": \"2020-03-26\", \"Confirmed cases\": 1, \"Rolling\": 0.14285714285714285, \"Daily confirmed cases\": \"Daily confirmed cases\", \"7-day rolling average\": \"7-day rolling average\"}, {\"Date\": \"2020-03-27\", \"Confirmed cases\": 0, \"Rolling\": 0.14285714285714285, \"Daily confirmed cases\": \"Daily confirmed cases\", \"7-day rolling average\": \"7-day rolling average\"}, {\"Date\": \"2020-03-28\", \"Confirmed cases\": 0, \"Rolling\": 0.14285714285714285, \"Daily confirmed cases\": \"Daily confirmed cases\", \"7-day rolling average\": \"7-day rolling average\"}, {\"Date\": \"2020-03-29\", \"Confirmed cases\": 0, \"Rolling\": 0.14285714285714285, \"Daily confirmed cases\": \"Daily confirmed cases\", \"7-day rolling average\": \"7-day rolling average\"}, {\"Date\": \"2020-03-30\", \"Confirmed cases\": 0, \"Rolling\": 0.14285714285714285, \"Daily confirmed cases\": \"Daily confirmed cases\", \"7-day rolling average\": \"7-day rolling average\"}, {\"Date\": \"2020-03-31\", \"Confirmed cases\": 0, \"Rolling\": 0.14285714285714285, \"Daily confirmed cases\": \"Daily confirmed cases\", \"7-day rolling average\": \"7-day rolling average\"}, {\"Date\": \"2020-04-01\", \"Confirmed cases\": 1, \"Rolling\": 0.2857142857142857, \"Daily confirmed cases\": \"Daily confirmed cases\", \"7-day rolling average\": \"7-day rolling average\"}, {\"Date\": \"2020-04-02\", \"Confirmed cases\": 2, \"Rolling\": 0.42857142857142855, \"Daily confirmed cases\": \"Daily confirmed cases\", \"7-day rolling average\": \"7-day rolling average\"}, {\"Date\": \"2020-04-03\", \"Confirmed cases\": 1, \"Rolling\": 0.5714285714285714, \"Daily confirmed cases\": \"Daily confirmed cases\", \"7-day rolling average\": \"7-day rolling average\"}, {\"Date\": \"2020-04-04\", \"Confirmed cases\": 0, \"Rolling\": 0.5714285714285714, \"Daily confirmed cases\": \"Daily confirmed cases\", \"7-day rolling average\": \"7-day rolling average\"}, {\"Date\": \"2020-04-05\", \"Confirmed cases\": 1, \"Rolling\": 0.7142857142857143, \"Daily confirmed cases\": \"Daily confirmed cases\", \"7-day rolling average\": \"7-day rolling average\"}, {\"Date\": \"2020-04-06\", \"Confirmed cases\": 0, \"Rolling\": 0.7142857142857143, \"Daily confirmed cases\": \"Daily confirmed cases\", \"7-day rolling average\": \"7-day rolling average\"}, {\"Date\": \"2020-04-07\", \"Confirmed cases\": 0, \"Rolling\": 0.7142857142857143, \"Daily confirmed cases\": \"Daily confirmed cases\", \"7-day rolling average\": \"7-day rolling average\"}, {\"Date\": \"2020-04-08\", \"Confirmed cases\": 0, \"Rolling\": 0.5714285714285714, \"Daily confirmed cases\": \"Daily confirmed cases\", \"7-day rolling average\": \"7-day rolling average\"}, {\"Date\": \"2020-04-09\", \"Confirmed cases\": 0, \"Rolling\": 0.2857142857142857, \"Daily confirmed cases\": \"Daily confirmed cases\", \"7-day rolling average\": \"7-day rolling average\"}, {\"Date\": \"2020-04-10\", \"Confirmed cases\": 0, \"Rolling\": 0.14285714285714285, \"Daily confirmed cases\": \"Daily confirmed cases\", \"7-day rolling average\": \"7-day rolling average\"}, {\"Date\": \"2020-04-11\", \"Confirmed cases\": 0, \"Rolling\": 0.14285714285714285, \"Daily confirmed cases\": \"Daily confirmed cases\", \"7-day rolling average\": \"7-day rolling average\"}, {\"Date\": \"2020-04-12\", \"Confirmed cases\": 0, \"Rolling\": 0.0, \"Daily confirmed cases\": \"Daily confirmed cases\", \"7-day rolling average\": \"7-day rolling average\"}, {\"Date\": \"2020-04-13\", \"Confirmed cases\": 0, \"Rolling\": 0.0, \"Daily confirmed cases\": \"Daily confirmed cases\", \"7-day rolling average\": \"7-day rolling average\"}, {\"Date\": \"2020-04-14\", \"Confirmed cases\": 0, \"Rolling\": 0.0, \"Daily confirmed cases\": \"Daily confirmed cases\", \"7-day rolling average\": \"7-day rolling average\"}, {\"Date\": \"2020-04-15\", \"Confirmed cases\": 0, \"Rolling\": 0.0, \"Daily confirmed cases\": \"Daily confirmed cases\", \"7-day rolling average\": \"7-day rolling average\"}, {\"Date\": \"2020-04-16\", \"Confirmed cases\": 0, \"Rolling\": 0.0, \"Daily confirmed cases\": \"Daily confirmed cases\", \"7-day rolling average\": \"7-day rolling average\"}, {\"Date\": \"2020-04-17\", \"Confirmed cases\": 0, \"Rolling\": 0.0, \"Daily confirmed cases\": \"Daily confirmed cases\", \"7-day rolling average\": \"7-day rolling average\"}, {\"Date\": \"2020-04-18\", \"Confirmed cases\": 0, \"Rolling\": 0.0, \"Daily confirmed cases\": \"Daily confirmed cases\", \"7-day rolling average\": \"7-day rolling average\"}, {\"Date\": \"2020-04-19\", \"Confirmed cases\": 0, \"Rolling\": 0.0, \"Daily confirmed cases\": \"Daily confirmed cases\", \"7-day rolling average\": \"7-day rolling average\"}, {\"Date\": \"2020-04-20\", \"Confirmed cases\": 0, \"Rolling\": 0.0, \"Daily confirmed cases\": \"Daily confirmed cases\", \"7-day rolling average\": \"7-day rolling average\"}, {\"Date\": \"2020-04-21\", \"Confirmed cases\": 0, \"Rolling\": 0.0, \"Daily confirmed cases\": \"Daily confirmed cases\", \"7-day rolling average\": \"7-day rolling average\"}, {\"Date\": \"2020-04-22\", \"Confirmed cases\": 0, \"Rolling\": 0.0, \"Daily confirmed cases\": \"Daily confirmed cases\", \"7-day rolling average\": \"7-day rolling average\"}, {\"Date\": \"2020-04-23\", \"Confirmed cases\": 0, \"Rolling\": 0.0, \"Daily confirmed cases\": \"Daily confirmed cases\", \"7-day rolling average\": \"7-day rolling average\"}, {\"Date\": \"2020-04-24\", \"Confirmed cases\": 0, \"Rolling\": 0.0, \"Daily confirmed cases\": \"Daily confirmed cases\", \"7-day rolling average\": \"7-day rolling average\"}, {\"Date\": \"2020-04-25\", \"Confirmed cases\": 0, \"Rolling\": 0.0, \"Daily confirmed cases\": \"Daily confirmed cases\", \"7-day rolling average\": \"7-day rolling average\"}, {\"Date\": \"2020-04-26\", \"Confirmed cases\": 0, \"Rolling\": 0.0, \"Daily confirmed cases\": \"Daily confirmed cases\", \"7-day rolling average\": \"7-day rolling average\"}, {\"Date\": \"2020-04-27\", \"Confirmed cases\": 0, \"Rolling\": 0.0, \"Daily confirmed cases\": \"Daily confirmed cases\", \"7-day rolling average\": \"7-day rolling average\"}]}}, {\"mode\": \"vega-lite\"});\n",
       "</script>"
      ],
      "text/plain": [
       "alt.LayerChart(...)"
      ]
     },
     "execution_count": 65,
     "metadata": {},
     "output_type": "execute_result"
    }
   ],
   "source": [
    "#hide_input\n",
    "bars, line = my_cases_plot(region)\n",
    "(bars + line).properties(\n",
    "    title=f'Covid-19 in Chile: Daily confirmed cases in {region}',\n",
    "    width=600\n",
    ")"
   ]
  },
  {
   "cell_type": "markdown",
   "metadata": {
    "papermill": {
     "duration": 0.091553,
     "end_time": "2020-04-28T06:16:33.798112",
     "exception": false,
     "start_time": "2020-04-28T06:16:33.706559",
     "status": "completed"
    },
    "tags": []
   },
   "source": [
    "## Magallanes"
   ]
  },
  {
   "cell_type": "code",
   "execution_count": 66,
   "metadata": {
    "execution": {
     "iopub.execute_input": "2020-04-28T06:16:33.987132Z",
     "iopub.status.busy": "2020-04-28T06:16:33.986398Z",
     "iopub.status.idle": "2020-04-28T06:16:33.988322Z",
     "shell.execute_reply": "2020-04-28T06:16:33.989018Z"
    },
    "papermill": {
     "duration": 0.098457,
     "end_time": "2020-04-28T06:16:33.989172",
     "exception": false,
     "start_time": "2020-04-28T06:16:33.890715",
     "status": "completed"
    },
    "scrolled": true,
    "tags": []
   },
   "outputs": [],
   "source": [
    "#hide\n",
    "region = \"Magallanes\""
   ]
  },
  {
   "cell_type": "code",
   "execution_count": 67,
   "metadata": {
    "execution": {
     "iopub.execute_input": "2020-04-28T06:16:34.198446Z",
     "iopub.status.busy": "2020-04-28T06:16:34.197719Z",
     "iopub.status.idle": "2020-04-28T06:16:34.225502Z",
     "shell.execute_reply": "2020-04-28T06:16:34.226080Z"
    },
    "papermill": {
     "duration": 0.140593,
     "end_time": "2020-04-28T06:16:34.226217",
     "exception": false,
     "start_time": "2020-04-28T06:16:34.085624",
     "status": "completed"
    },
    "tags": []
   },
   "outputs": [
    {
     "data": {
      "text/html": [
       "\n",
       "<div id=\"altair-viz-a2bf8ccf0cc64e9eb416d4828f700747\"></div>\n",
       "<script type=\"text/javascript\">\n",
       "  (function(spec, embedOpt){\n",
       "    let outputDiv = document.currentScript.previousElementSibling;\n",
       "    if (outputDiv.id !== \"altair-viz-a2bf8ccf0cc64e9eb416d4828f700747\") {\n",
       "      outputDiv = document.getElementById(\"altair-viz-a2bf8ccf0cc64e9eb416d4828f700747\");\n",
       "    }\n",
       "    const paths = {\n",
       "      \"vega\": \"https://cdn.jsdelivr.net/npm//vega@5?noext\",\n",
       "      \"vega-lib\": \"https://cdn.jsdelivr.net/npm//vega-lib?noext\",\n",
       "      \"vega-lite\": \"https://cdn.jsdelivr.net/npm//vega-lite@4.8.1?noext\",\n",
       "      \"vega-embed\": \"https://cdn.jsdelivr.net/npm//vega-embed@6?noext\",\n",
       "    };\n",
       "\n",
       "    function loadScript(lib) {\n",
       "      return new Promise(function(resolve, reject) {\n",
       "        var s = document.createElement('script');\n",
       "        s.src = paths[lib];\n",
       "        s.async = true;\n",
       "        s.onload = () => resolve(paths[lib]);\n",
       "        s.onerror = () => reject(`Error loading script: ${paths[lib]}`);\n",
       "        document.getElementsByTagName(\"head\")[0].appendChild(s);\n",
       "      });\n",
       "    }\n",
       "\n",
       "    function showError(err) {\n",
       "      outputDiv.innerHTML = `<div class=\"error\" style=\"color:red;\">${err}</div>`;\n",
       "      throw err;\n",
       "    }\n",
       "\n",
       "    function displayChart(vegaEmbed) {\n",
       "      vegaEmbed(outputDiv, spec, embedOpt)\n",
       "        .catch(err => showError(`Javascript Error: ${err.message}<br>This usually means there's a typo in your chart specification. See the javascript console for the full traceback.`));\n",
       "    }\n",
       "\n",
       "    if(typeof define === \"function\" && define.amd) {\n",
       "      requirejs.config({paths});\n",
       "      require([\"vega-embed\"], displayChart, err => showError(`Error loading script: ${err.message}`));\n",
       "    } else if (typeof vegaEmbed === \"function\") {\n",
       "      displayChart(vegaEmbed);\n",
       "    } else {\n",
       "      loadScript(\"vega\")\n",
       "        .then(() => loadScript(\"vega-lite\"))\n",
       "        .then(() => loadScript(\"vega-embed\"))\n",
       "        .catch(showError)\n",
       "        .then(() => displayChart(vegaEmbed));\n",
       "    }\n",
       "  })({\"config\": {\"view\": {\"continuousWidth\": 400, \"continuousHeight\": 300}}, \"layer\": [{\"mark\": {\"type\": \"bar\", \"opacity\": 0.7}, \"encoding\": {\"opacity\": {\"type\": \"nominal\", \"field\": \"Daily confirmed cases\", \"legend\": {\"title\": \"\"}}, \"tooltip\": [{\"type\": \"nominal\", \"field\": \"Date\"}, {\"type\": \"quantitative\", \"field\": \"Confirmed cases\"}], \"x\": {\"type\": \"nominal\", \"axis\": {\"title\": \"Date\"}, \"field\": \"Date\"}, \"y\": {\"type\": \"quantitative\", \"axis\": {\"title\": \"Daily confirmed cases\"}, \"field\": \"Confirmed cases\"}}}, {\"mark\": {\"type\": \"line\", \"color\": \"#1f77b4\", \"point\": {\"filled\": true, \"fill\": \"#1f77b4\"}}, \"encoding\": {\"shape\": {\"type\": \"nominal\", \"field\": \"7-day rolling average\", \"legend\": {\"title\": \"\"}}, \"x\": {\"type\": \"nominal\", \"axis\": {\"title\": \"Date\"}, \"field\": \"Date\"}, \"y\": {\"type\": \"quantitative\", \"field\": \"Rolling\"}}}], \"data\": {\"name\": \"data-6075ef4893aff98ee5d6d572c1312be8\"}, \"title\": \"Covid-19 in Chile: Daily confirmed cases in Magallanes\", \"width\": 600, \"$schema\": \"https://vega.github.io/schema/vega-lite/v4.8.1.json\", \"datasets\": {\"data-6075ef4893aff98ee5d6d572c1312be8\": [{\"Date\": \"2020-03-04\", \"Confirmed cases\": 0, \"Rolling\": null, \"Daily confirmed cases\": \"Daily confirmed cases\", \"7-day rolling average\": \"7-day rolling average\"}, {\"Date\": \"2020-03-05\", \"Confirmed cases\": 0, \"Rolling\": null, \"Daily confirmed cases\": \"Daily confirmed cases\", \"7-day rolling average\": \"7-day rolling average\"}, {\"Date\": \"2020-03-06\", \"Confirmed cases\": 0, \"Rolling\": null, \"Daily confirmed cases\": \"Daily confirmed cases\", \"7-day rolling average\": \"7-day rolling average\"}, {\"Date\": \"2020-03-07\", \"Confirmed cases\": 0, \"Rolling\": null, \"Daily confirmed cases\": \"Daily confirmed cases\", \"7-day rolling average\": \"7-day rolling average\"}, {\"Date\": \"2020-03-08\", \"Confirmed cases\": 0, \"Rolling\": null, \"Daily confirmed cases\": \"Daily confirmed cases\", \"7-day rolling average\": \"7-day rolling average\"}, {\"Date\": \"2020-03-09\", \"Confirmed cases\": 0, \"Rolling\": null, \"Daily confirmed cases\": \"Daily confirmed cases\", \"7-day rolling average\": \"7-day rolling average\"}, {\"Date\": \"2020-03-10\", \"Confirmed cases\": 0, \"Rolling\": 0.0, \"Daily confirmed cases\": \"Daily confirmed cases\", \"7-day rolling average\": \"7-day rolling average\"}, {\"Date\": \"2020-03-11\", \"Confirmed cases\": 0, \"Rolling\": 0.0, \"Daily confirmed cases\": \"Daily confirmed cases\", \"7-day rolling average\": \"7-day rolling average\"}, {\"Date\": \"2020-03-12\", \"Confirmed cases\": 0, \"Rolling\": 0.0, \"Daily confirmed cases\": \"Daily confirmed cases\", \"7-day rolling average\": \"7-day rolling average\"}, {\"Date\": \"2020-03-13\", \"Confirmed cases\": 0, \"Rolling\": 0.0, \"Daily confirmed cases\": \"Daily confirmed cases\", \"7-day rolling average\": \"7-day rolling average\"}, {\"Date\": \"2020-03-14\", \"Confirmed cases\": 0, \"Rolling\": 0.0, \"Daily confirmed cases\": \"Daily confirmed cases\", \"7-day rolling average\": \"7-day rolling average\"}, {\"Date\": \"2020-03-15\", \"Confirmed cases\": 0, \"Rolling\": 0.0, \"Daily confirmed cases\": \"Daily confirmed cases\", \"7-day rolling average\": \"7-day rolling average\"}, {\"Date\": \"2020-03-16\", \"Confirmed cases\": 0, \"Rolling\": 0.0, \"Daily confirmed cases\": \"Daily confirmed cases\", \"7-day rolling average\": \"7-day rolling average\"}, {\"Date\": \"2020-03-17\", \"Confirmed cases\": 2, \"Rolling\": 0.2857142857142857, \"Daily confirmed cases\": \"Daily confirmed cases\", \"7-day rolling average\": \"7-day rolling average\"}, {\"Date\": \"2020-03-18\", \"Confirmed cases\": 0, \"Rolling\": 0.2857142857142857, \"Daily confirmed cases\": \"Daily confirmed cases\", \"7-day rolling average\": \"7-day rolling average\"}, {\"Date\": \"2020-03-19\", \"Confirmed cases\": 0, \"Rolling\": 0.2857142857142857, \"Daily confirmed cases\": \"Daily confirmed cases\", \"7-day rolling average\": \"7-day rolling average\"}, {\"Date\": \"2020-03-20\", \"Confirmed cases\": 0, \"Rolling\": 0.2857142857142857, \"Daily confirmed cases\": \"Daily confirmed cases\", \"7-day rolling average\": \"7-day rolling average\"}, {\"Date\": \"2020-03-21\", \"Confirmed cases\": 1, \"Rolling\": 0.42857142857142855, \"Daily confirmed cases\": \"Daily confirmed cases\", \"7-day rolling average\": \"7-day rolling average\"}, {\"Date\": \"2020-03-22\", \"Confirmed cases\": 1, \"Rolling\": 0.5714285714285714, \"Daily confirmed cases\": \"Daily confirmed cases\", \"7-day rolling average\": \"7-day rolling average\"}, {\"Date\": \"2020-03-23\", \"Confirmed cases\": 2, \"Rolling\": 0.8571428571428571, \"Daily confirmed cases\": \"Daily confirmed cases\", \"7-day rolling average\": \"7-day rolling average\"}, {\"Date\": \"2020-03-24\", \"Confirmed cases\": 2, \"Rolling\": 0.8571428571428571, \"Daily confirmed cases\": \"Daily confirmed cases\", \"7-day rolling average\": \"7-day rolling average\"}, {\"Date\": \"2020-03-25\", \"Confirmed cases\": 5, \"Rolling\": 1.5714285714285714, \"Daily confirmed cases\": \"Daily confirmed cases\", \"7-day rolling average\": \"7-day rolling average\"}, {\"Date\": \"2020-03-26\", \"Confirmed cases\": 6, \"Rolling\": 2.4285714285714284, \"Daily confirmed cases\": \"Daily confirmed cases\", \"7-day rolling average\": \"7-day rolling average\"}, {\"Date\": \"2020-03-27\", \"Confirmed cases\": 3, \"Rolling\": 2.857142857142857, \"Daily confirmed cases\": \"Daily confirmed cases\", \"7-day rolling average\": \"7-day rolling average\"}, {\"Date\": \"2020-03-28\", \"Confirmed cases\": 4, \"Rolling\": 3.2857142857142856, \"Daily confirmed cases\": \"Daily confirmed cases\", \"7-day rolling average\": \"7-day rolling average\"}, {\"Date\": \"2020-03-29\", \"Confirmed cases\": 13, \"Rolling\": 5.0, \"Daily confirmed cases\": \"Daily confirmed cases\", \"7-day rolling average\": \"7-day rolling average\"}, {\"Date\": \"2020-03-30\", \"Confirmed cases\": 0, \"Rolling\": 4.714285714285714, \"Daily confirmed cases\": \"Daily confirmed cases\", \"7-day rolling average\": \"7-day rolling average\"}, {\"Date\": \"2020-03-31\", \"Confirmed cases\": 24, \"Rolling\": 7.857142857142857, \"Daily confirmed cases\": \"Daily confirmed cases\", \"7-day rolling average\": \"7-day rolling average\"}, {\"Date\": \"2020-04-01\", \"Confirmed cases\": 36, \"Rolling\": 12.285714285714286, \"Daily confirmed cases\": \"Daily confirmed cases\", \"7-day rolling average\": \"7-day rolling average\"}, {\"Date\": \"2020-04-02\", \"Confirmed cases\": 15, \"Rolling\": 13.571428571428571, \"Daily confirmed cases\": \"Daily confirmed cases\", \"7-day rolling average\": \"7-day rolling average\"}, {\"Date\": \"2020-04-03\", \"Confirmed cases\": 42, \"Rolling\": 19.142857142857142, \"Daily confirmed cases\": \"Daily confirmed cases\", \"7-day rolling average\": \"7-day rolling average\"}, {\"Date\": \"2020-04-04\", \"Confirmed cases\": 16, \"Rolling\": 20.857142857142858, \"Daily confirmed cases\": \"Daily confirmed cases\", \"7-day rolling average\": \"7-day rolling average\"}, {\"Date\": \"2020-04-05\", \"Confirmed cases\": 18, \"Rolling\": 21.571428571428573, \"Daily confirmed cases\": \"Daily confirmed cases\", \"7-day rolling average\": \"7-day rolling average\"}, {\"Date\": \"2020-04-06\", \"Confirmed cases\": 31, \"Rolling\": 26.0, \"Daily confirmed cases\": \"Daily confirmed cases\", \"7-day rolling average\": \"7-day rolling average\"}, {\"Date\": \"2020-04-07\", \"Confirmed cases\": 19, \"Rolling\": 25.285714285714285, \"Daily confirmed cases\": \"Daily confirmed cases\", \"7-day rolling average\": \"7-day rolling average\"}, {\"Date\": \"2020-04-08\", \"Confirmed cases\": 26, \"Rolling\": 23.857142857142858, \"Daily confirmed cases\": \"Daily confirmed cases\", \"7-day rolling average\": \"7-day rolling average\"}, {\"Date\": \"2020-04-09\", \"Confirmed cases\": 20, \"Rolling\": 24.571428571428573, \"Daily confirmed cases\": \"Daily confirmed cases\", \"7-day rolling average\": \"7-day rolling average\"}, {\"Date\": \"2020-04-10\", \"Confirmed cases\": 45, \"Rolling\": 25.0, \"Daily confirmed cases\": \"Daily confirmed cases\", \"7-day rolling average\": \"7-day rolling average\"}, {\"Date\": \"2020-04-11\", \"Confirmed cases\": 46, \"Rolling\": 29.285714285714285, \"Daily confirmed cases\": \"Daily confirmed cases\", \"7-day rolling average\": \"7-day rolling average\"}, {\"Date\": \"2020-04-12\", \"Confirmed cases\": 19, \"Rolling\": 29.428571428571427, \"Daily confirmed cases\": \"Daily confirmed cases\", \"7-day rolling average\": \"7-day rolling average\"}, {\"Date\": \"2020-04-13\", \"Confirmed cases\": 19, \"Rolling\": 27.714285714285715, \"Daily confirmed cases\": \"Daily confirmed cases\", \"7-day rolling average\": \"7-day rolling average\"}, {\"Date\": \"2020-04-14\", \"Confirmed cases\": 14, \"Rolling\": 27.0, \"Daily confirmed cases\": \"Daily confirmed cases\", \"7-day rolling average\": \"7-day rolling average\"}, {\"Date\": \"2020-04-15\", \"Confirmed cases\": 15, \"Rolling\": 25.428571428571427, \"Daily confirmed cases\": \"Daily confirmed cases\", \"7-day rolling average\": \"7-day rolling average\"}, {\"Date\": \"2020-04-16\", \"Confirmed cases\": 23, \"Rolling\": 25.857142857142858, \"Daily confirmed cases\": \"Daily confirmed cases\", \"7-day rolling average\": \"7-day rolling average\"}, {\"Date\": \"2020-04-17\", \"Confirmed cases\": 34, \"Rolling\": 24.285714285714285, \"Daily confirmed cases\": \"Daily confirmed cases\", \"7-day rolling average\": \"7-day rolling average\"}, {\"Date\": \"2020-04-18\", \"Confirmed cases\": 21, \"Rolling\": 20.714285714285715, \"Daily confirmed cases\": \"Daily confirmed cases\", \"7-day rolling average\": \"7-day rolling average\"}, {\"Date\": \"2020-04-19\", \"Confirmed cases\": 31, \"Rolling\": 22.428571428571427, \"Daily confirmed cases\": \"Daily confirmed cases\", \"7-day rolling average\": \"7-day rolling average\"}, {\"Date\": \"2020-04-20\", \"Confirmed cases\": 13, \"Rolling\": 21.571428571428573, \"Daily confirmed cases\": \"Daily confirmed cases\", \"7-day rolling average\": \"7-day rolling average\"}, {\"Date\": \"2020-04-21\", \"Confirmed cases\": 27, \"Rolling\": 23.428571428571427, \"Daily confirmed cases\": \"Daily confirmed cases\", \"7-day rolling average\": \"7-day rolling average\"}, {\"Date\": \"2020-04-22\", \"Confirmed cases\": 12, \"Rolling\": 23.0, \"Daily confirmed cases\": \"Daily confirmed cases\", \"7-day rolling average\": \"7-day rolling average\"}, {\"Date\": \"2020-04-23\", \"Confirmed cases\": 10, \"Rolling\": 21.142857142857142, \"Daily confirmed cases\": \"Daily confirmed cases\", \"7-day rolling average\": \"7-day rolling average\"}, {\"Date\": \"2020-04-24\", \"Confirmed cases\": 9, \"Rolling\": 17.571428571428573, \"Daily confirmed cases\": \"Daily confirmed cases\", \"7-day rolling average\": \"7-day rolling average\"}, {\"Date\": \"2020-04-25\", \"Confirmed cases\": 31, \"Rolling\": 19.0, \"Daily confirmed cases\": \"Daily confirmed cases\", \"7-day rolling average\": \"7-day rolling average\"}, {\"Date\": \"2020-04-26\", \"Confirmed cases\": 13, \"Rolling\": 16.428571428571427, \"Daily confirmed cases\": \"Daily confirmed cases\", \"7-day rolling average\": \"7-day rolling average\"}, {\"Date\": \"2020-04-27\", \"Confirmed cases\": 3, \"Rolling\": 15.0, \"Daily confirmed cases\": \"Daily confirmed cases\", \"7-day rolling average\": \"7-day rolling average\"}]}}, {\"mode\": \"vega-lite\"});\n",
       "</script>"
      ],
      "text/plain": [
       "alt.LayerChart(...)"
      ]
     },
     "execution_count": 67,
     "metadata": {},
     "output_type": "execute_result"
    }
   ],
   "source": [
    "#hide_input\n",
    "bars, line = my_cases_plot(region)\n",
    "(bars + line).properties(\n",
    "    title=f'Covid-19 in Chile: Daily confirmed cases in {region}',\n",
    "    width=600\n",
    ")"
   ]
  },
  {
   "cell_type": "markdown",
   "metadata": {
    "papermill": {
     "duration": 0.094218,
     "end_time": "2020-04-28T06:16:34.414780",
     "exception": false,
     "start_time": "2020-04-28T06:16:34.320562",
     "status": "completed"
    },
    "tags": []
   },
   "source": [
    "# Daily confirmed deaths"
   ]
  },
  {
   "cell_type": "code",
   "execution_count": 68,
   "metadata": {
    "execution": {
     "iopub.execute_input": "2020-04-28T06:16:34.601634Z",
     "iopub.status.busy": "2020-04-28T06:16:34.600977Z",
     "iopub.status.idle": "2020-04-28T06:16:34.624577Z",
     "shell.execute_reply": "2020-04-28T06:16:34.623346Z"
    },
    "papermill": {
     "duration": 0.119646,
     "end_time": "2020-04-28T06:16:34.624696",
     "exception": false,
     "start_time": "2020-04-28T06:16:34.505050",
     "status": "completed"
    },
    "tags": []
   },
   "outputs": [],
   "source": [
    "#hide\n",
    "data = pd.DataFrame()\n",
    "data_raw = pd.read_csv(\n",
    "    \"https://raw.githubusercontent.com/MinCiencia/Datos-COVID19/master/output/producto4/2020-03-24-CasosConfirmados-totalRegional.csv\",\n",
    "    index_col='Region')\n",
    "data['2020-03-24'] = data_raw['Fallecidos']"
   ]
  },
  {
   "cell_type": "code",
   "execution_count": 69,
   "metadata": {
    "execution": {
     "iopub.execute_input": "2020-04-28T06:16:34.811567Z",
     "iopub.status.busy": "2020-04-28T06:16:34.810856Z",
     "iopub.status.idle": "2020-04-28T06:16:34.812513Z",
     "shell.execute_reply": "2020-04-28T06:16:34.813162Z"
    },
    "papermill": {
     "duration": 0.097909,
     "end_time": "2020-04-28T06:16:34.813310",
     "exception": false,
     "start_time": "2020-04-28T06:16:34.715401",
     "status": "completed"
    },
    "tags": []
   },
   "outputs": [],
   "source": [
    "#hide\n",
    "first_death_date = '2020-03-24'\n",
    "total_days = (pd.to_datetime(today)-pd.to_datetime(first_death_date)).days"
   ]
  },
  {
   "cell_type": "code",
   "execution_count": 70,
   "metadata": {
    "execution": {
     "iopub.execute_input": "2020-04-28T06:16:35.008155Z",
     "iopub.status.busy": "2020-04-28T06:16:35.007595Z",
     "iopub.status.idle": "2020-04-28T06:16:35.497532Z",
     "shell.execute_reply": "2020-04-28T06:16:35.496938Z"
    },
    "papermill": {
     "duration": 0.590009,
     "end_time": "2020-04-28T06:16:35.497647",
     "exception": false,
     "start_time": "2020-04-28T06:16:34.907638",
     "status": "completed"
    },
    "tags": []
   },
   "outputs": [],
   "source": [
    "#hide\n",
    "for i in np.arange(total_days+1):\n",
    "  date = (pd.to_datetime(first_death_date)+pd.DateOffset(i)).strftime('%Y-%m-%d')\n",
    "  s = \"https://raw.githubusercontent.com/MinCiencia/Datos-COVID19/master/output/producto4/\" + date + \"-CasosConfirmados-totalRegional.csv\"\n",
    "  data_by_date = pd.read_csv(s)\n",
    "  if 'Fallecidos' in data_by_date.columns:\n",
    "    data[date] = data_by_date[\"Fallecidos\"].values\n",
    "  elif 'Casos fallecidos' in data_by_date.columns:\n",
    "    data[date] = data_by_date[\"Casos fallecidos\"].values\n",
    "  else:\n",
    "    data[date] = data_by_date[\" Casos fallecidos\"].values"
   ]
  },
  {
   "cell_type": "code",
   "execution_count": 71,
   "metadata": {
    "execution": {
     "iopub.execute_input": "2020-04-28T06:16:35.688059Z",
     "iopub.status.busy": "2020-04-28T06:16:35.687476Z",
     "iopub.status.idle": "2020-04-28T06:16:35.689745Z",
     "shell.execute_reply": "2020-04-28T06:16:35.689166Z"
    },
    "papermill": {
     "duration": 0.098957,
     "end_time": "2020-04-28T06:16:35.689852",
     "exception": false,
     "start_time": "2020-04-28T06:16:35.590895",
     "status": "completed"
    },
    "tags": []
   },
   "outputs": [],
   "source": [
    "#hide\n",
    "WS_deaths = 7"
   ]
  },
  {
   "cell_type": "code",
   "execution_count": 72,
   "metadata": {
    "execution": {
     "iopub.execute_input": "2020-04-28T06:16:35.887512Z",
     "iopub.status.busy": "2020-04-28T06:16:35.886792Z",
     "iopub.status.idle": "2020-04-28T06:16:35.888431Z",
     "shell.execute_reply": "2020-04-28T06:16:35.888891Z"
    },
    "papermill": {
     "duration": 0.107179,
     "end_time": "2020-04-28T06:16:35.889024",
     "exception": false,
     "start_time": "2020-04-28T06:16:35.781845",
     "status": "completed"
    },
    "tags": []
   },
   "outputs": [],
   "source": [
    "#hide\n",
    "def my_deaths_plot(region):\n",
    "    aux1 = data.loc[region]\n",
    "    aux2 = [t - s for s, t in zip(aux1, aux1.loc['2020-03-25':])]\n",
    "    new_deaths = pd.DataFrame()\n",
    "    new_deaths[\"Dates\"] = data.loc[\"Total\"].reset_index()[\"index\"].iloc[1:].values\n",
    "    new_deaths[\"New_deaths\"] = aux2\n",
    "    new_deaths[\"Rolling\"] = new_deaths[\"New_deaths\"].rolling(window=WS_deaths).mean()\n",
    "    new_deaths[\"Daily confirmed deaths\"] = len(new_deaths) * [\"Daily confirmed deaths\"]\n",
    "    new_deaths[\"7-day rolling average\"] = len(new_deaths) * [\"7-day rolling average\"]\n",
    "    bars = alt.Chart(new_deaths).mark_bar(opacity=0.7, color='firebrick').encode(\n",
    "        x = alt.X('Dates:N', axis=alt.Axis(title='Date')),\n",
    "        y = alt.Y('New_deaths:Q', axis=alt.Axis(title='Daily confirmed deaths')),\n",
    "        tooltip = ['Dates', 'New_deaths'],\n",
    "        opacity=alt.Opacity('Daily confirmed deaths', legend=alt.Legend(title=\"\"))\n",
    "    )\n",
    "\n",
    "    line = alt.Chart(new_deaths).mark_line(point={\n",
    "          \"filled\": True,\n",
    "          \"fill\": \"firebrick\"\n",
    "        }, color='firebrick').encode(\n",
    "        x=alt.X('Dates:N', axis=alt.Axis(title='Date')),\n",
    "        y = alt.Y('Rolling:Q'),\n",
    "        shape=alt.Shape('7-day rolling average', legend=alt.Legend(title=\"\"))\n",
    "    )\n",
    "    return bars, line"
   ]
  },
  {
   "cell_type": "markdown",
   "metadata": {
    "papermill": {
     "duration": 0.111033,
     "end_time": "2020-04-28T06:16:36.095856",
     "exception": false,
     "start_time": "2020-04-28T06:16:35.984823",
     "status": "completed"
    },
    "tags": []
   },
   "source": [
    "## Chile"
   ]
  },
  {
   "cell_type": "code",
   "execution_count": 73,
   "metadata": {
    "execution": {
     "iopub.execute_input": "2020-04-28T06:16:36.285789Z",
     "iopub.status.busy": "2020-04-28T06:16:36.284757Z",
     "iopub.status.idle": "2020-04-28T06:16:36.286776Z",
     "shell.execute_reply": "2020-04-28T06:16:36.287238Z"
    },
    "papermill": {
     "duration": 0.097264,
     "end_time": "2020-04-28T06:16:36.287361",
     "exception": false,
     "start_time": "2020-04-28T06:16:36.190097",
     "status": "completed"
    },
    "tags": []
   },
   "outputs": [],
   "source": [
    "#hide\n",
    "region = \"Total\""
   ]
  },
  {
   "cell_type": "code",
   "execution_count": 74,
   "metadata": {
    "execution": {
     "iopub.execute_input": "2020-04-28T06:16:36.481974Z",
     "iopub.status.busy": "2020-04-28T06:16:36.481344Z",
     "iopub.status.idle": "2020-04-28T06:16:36.522294Z",
     "shell.execute_reply": "2020-04-28T06:16:36.522761Z"
    },
    "papermill": {
     "duration": 0.140228,
     "end_time": "2020-04-28T06:16:36.522892",
     "exception": false,
     "start_time": "2020-04-28T06:16:36.382664",
     "status": "completed"
    },
    "tags": []
   },
   "outputs": [
    {
     "data": {
      "text/html": [
       "\n",
       "<div id=\"altair-viz-41d796585c034a709b07b6de79bcf92a\"></div>\n",
       "<script type=\"text/javascript\">\n",
       "  (function(spec, embedOpt){\n",
       "    let outputDiv = document.currentScript.previousElementSibling;\n",
       "    if (outputDiv.id !== \"altair-viz-41d796585c034a709b07b6de79bcf92a\") {\n",
       "      outputDiv = document.getElementById(\"altair-viz-41d796585c034a709b07b6de79bcf92a\");\n",
       "    }\n",
       "    const paths = {\n",
       "      \"vega\": \"https://cdn.jsdelivr.net/npm//vega@5?noext\",\n",
       "      \"vega-lib\": \"https://cdn.jsdelivr.net/npm//vega-lib?noext\",\n",
       "      \"vega-lite\": \"https://cdn.jsdelivr.net/npm//vega-lite@4.8.1?noext\",\n",
       "      \"vega-embed\": \"https://cdn.jsdelivr.net/npm//vega-embed@6?noext\",\n",
       "    };\n",
       "\n",
       "    function loadScript(lib) {\n",
       "      return new Promise(function(resolve, reject) {\n",
       "        var s = document.createElement('script');\n",
       "        s.src = paths[lib];\n",
       "        s.async = true;\n",
       "        s.onload = () => resolve(paths[lib]);\n",
       "        s.onerror = () => reject(`Error loading script: ${paths[lib]}`);\n",
       "        document.getElementsByTagName(\"head\")[0].appendChild(s);\n",
       "      });\n",
       "    }\n",
       "\n",
       "    function showError(err) {\n",
       "      outputDiv.innerHTML = `<div class=\"error\" style=\"color:red;\">${err}</div>`;\n",
       "      throw err;\n",
       "    }\n",
       "\n",
       "    function displayChart(vegaEmbed) {\n",
       "      vegaEmbed(outputDiv, spec, embedOpt)\n",
       "        .catch(err => showError(`Javascript Error: ${err.message}<br>This usually means there's a typo in your chart specification. See the javascript console for the full traceback.`));\n",
       "    }\n",
       "\n",
       "    if(typeof define === \"function\" && define.amd) {\n",
       "      requirejs.config({paths});\n",
       "      require([\"vega-embed\"], displayChart, err => showError(`Error loading script: ${err.message}`));\n",
       "    } else if (typeof vegaEmbed === \"function\") {\n",
       "      displayChart(vegaEmbed);\n",
       "    } else {\n",
       "      loadScript(\"vega\")\n",
       "        .then(() => loadScript(\"vega-lite\"))\n",
       "        .then(() => loadScript(\"vega-embed\"))\n",
       "        .catch(showError)\n",
       "        .then(() => displayChart(vegaEmbed));\n",
       "    }\n",
       "  })({\"config\": {\"view\": {\"continuousWidth\": 400, \"continuousHeight\": 300}}, \"layer\": [{\"mark\": {\"type\": \"bar\", \"color\": \"firebrick\", \"opacity\": 0.7}, \"encoding\": {\"opacity\": {\"type\": \"nominal\", \"field\": \"Daily confirmed deaths\", \"legend\": {\"title\": \"\"}}, \"tooltip\": [{\"type\": \"nominal\", \"field\": \"Dates\"}, {\"type\": \"quantitative\", \"field\": \"New_deaths\"}], \"x\": {\"type\": \"nominal\", \"axis\": {\"title\": \"Date\"}, \"field\": \"Dates\"}, \"y\": {\"type\": \"quantitative\", \"axis\": {\"title\": \"Daily confirmed deaths\"}, \"field\": \"New_deaths\"}}}, {\"mark\": {\"type\": \"line\", \"color\": \"firebrick\", \"point\": {\"filled\": true, \"fill\": \"firebrick\"}}, \"encoding\": {\"shape\": {\"type\": \"nominal\", \"field\": \"7-day rolling average\", \"legend\": {\"title\": \"\"}}, \"x\": {\"type\": \"nominal\", \"axis\": {\"title\": \"Date\"}, \"field\": \"Dates\"}, \"y\": {\"type\": \"quantitative\", \"field\": \"Rolling\"}}}], \"data\": {\"name\": \"data-bdb648ca3c164091f75011e0c7cf710c\"}, \"title\": \"Covid-19 in Chile: Daily confirmed deaths in Chile\", \"width\": 600, \"$schema\": \"https://vega.github.io/schema/vega-lite/v4.8.1.json\", \"datasets\": {\"data-bdb648ca3c164091f75011e0c7cf710c\": [{\"Dates\": \"2020-03-25\", \"New_deaths\": 1, \"Rolling\": null, \"Daily confirmed deaths\": \"Daily confirmed deaths\", \"7-day rolling average\": \"7-day rolling average\"}, {\"Dates\": \"2020-03-26\", \"New_deaths\": 1, \"Rolling\": null, \"Daily confirmed deaths\": \"Daily confirmed deaths\", \"7-day rolling average\": \"7-day rolling average\"}, {\"Dates\": \"2020-03-27\", \"New_deaths\": 1, \"Rolling\": null, \"Daily confirmed deaths\": \"Daily confirmed deaths\", \"7-day rolling average\": \"7-day rolling average\"}, {\"Dates\": \"2020-03-28\", \"New_deaths\": 1, \"Rolling\": null, \"Daily confirmed deaths\": \"Daily confirmed deaths\", \"7-day rolling average\": \"7-day rolling average\"}, {\"Dates\": \"2020-03-29\", \"New_deaths\": 1, \"Rolling\": null, \"Daily confirmed deaths\": \"Daily confirmed deaths\", \"7-day rolling average\": \"7-day rolling average\"}, {\"Dates\": \"2020-03-30\", \"New_deaths\": 1, \"Rolling\": null, \"Daily confirmed deaths\": \"Daily confirmed deaths\", \"7-day rolling average\": \"7-day rolling average\"}, {\"Dates\": \"2020-03-31\", \"New_deaths\": 4, \"Rolling\": 1.4285714285714286, \"Daily confirmed deaths\": \"Daily confirmed deaths\", \"7-day rolling average\": \"7-day rolling average\"}, {\"Dates\": \"2020-04-01\", \"New_deaths\": 4, \"Rolling\": 1.8571428571428572, \"Daily confirmed deaths\": \"Daily confirmed deaths\", \"7-day rolling average\": \"7-day rolling average\"}, {\"Dates\": \"2020-04-02\", \"New_deaths\": 2, \"Rolling\": 2.0, \"Daily confirmed deaths\": \"Daily confirmed deaths\", \"7-day rolling average\": \"7-day rolling average\"}, {\"Dates\": \"2020-04-03\", \"New_deaths\": 4, \"Rolling\": 2.4285714285714284, \"Daily confirmed deaths\": \"Daily confirmed deaths\", \"7-day rolling average\": \"7-day rolling average\"}, {\"Dates\": \"2020-04-04\", \"New_deaths\": 5, \"Rolling\": 3.0, \"Daily confirmed deaths\": \"Daily confirmed deaths\", \"7-day rolling average\": \"7-day rolling average\"}, {\"Dates\": \"2020-04-05\", \"New_deaths\": 7, \"Rolling\": 3.857142857142857, \"Daily confirmed deaths\": \"Daily confirmed deaths\", \"7-day rolling average\": \"7-day rolling average\"}, {\"Dates\": \"2020-04-06\", \"New_deaths\": 3, \"Rolling\": 4.142857142857143, \"Daily confirmed deaths\": \"Daily confirmed deaths\", \"7-day rolling average\": \"7-day rolling average\"}, {\"Dates\": \"2020-04-07\", \"New_deaths\": 6, \"Rolling\": 4.428571428571429, \"Daily confirmed deaths\": \"Daily confirmed deaths\", \"7-day rolling average\": \"7-day rolling average\"}, {\"Dates\": \"2020-04-08\", \"New_deaths\": 5, \"Rolling\": 4.571428571428571, \"Daily confirmed deaths\": \"Daily confirmed deaths\", \"7-day rolling average\": \"7-day rolling average\"}, {\"Dates\": \"2020-04-09\", \"New_deaths\": 9, \"Rolling\": 5.571428571428571, \"Daily confirmed deaths\": \"Daily confirmed deaths\", \"7-day rolling average\": \"7-day rolling average\"}, {\"Dates\": \"2020-04-10\", \"New_deaths\": 8, \"Rolling\": 6.142857142857143, \"Daily confirmed deaths\": \"Daily confirmed deaths\", \"7-day rolling average\": \"7-day rolling average\"}, {\"Dates\": \"2020-04-11\", \"New_deaths\": 8, \"Rolling\": 6.571428571428571, \"Daily confirmed deaths\": \"Daily confirmed deaths\", \"7-day rolling average\": \"7-day rolling average\"}, {\"Dates\": \"2020-04-12\", \"New_deaths\": 7, \"Rolling\": 6.571428571428571, \"Daily confirmed deaths\": \"Daily confirmed deaths\", \"7-day rolling average\": \"7-day rolling average\"}, {\"Dates\": \"2020-04-13\", \"New_deaths\": 2, \"Rolling\": 6.428571428571429, \"Daily confirmed deaths\": \"Daily confirmed deaths\", \"7-day rolling average\": \"7-day rolling average\"}, {\"Dates\": \"2020-04-14\", \"New_deaths\": 10, \"Rolling\": 7.0, \"Daily confirmed deaths\": \"Daily confirmed deaths\", \"7-day rolling average\": \"7-day rolling average\"}, {\"Dates\": \"2020-04-15\", \"New_deaths\": 2, \"Rolling\": 6.571428571428571, \"Daily confirmed deaths\": \"Daily confirmed deaths\", \"7-day rolling average\": \"7-day rolling average\"}, {\"Dates\": \"2020-04-16\", \"New_deaths\": 11, \"Rolling\": 6.857142857142857, \"Daily confirmed deaths\": \"Daily confirmed deaths\", \"7-day rolling average\": \"7-day rolling average\"}, {\"Dates\": \"2020-04-17\", \"New_deaths\": 11, \"Rolling\": 7.285714285714286, \"Daily confirmed deaths\": \"Daily confirmed deaths\", \"7-day rolling average\": \"7-day rolling average\"}, {\"Dates\": \"2020-04-18\", \"New_deaths\": 10, \"Rolling\": 7.571428571428571, \"Daily confirmed deaths\": \"Daily confirmed deaths\", \"7-day rolling average\": \"7-day rolling average\"}, {\"Dates\": \"2020-04-19\", \"New_deaths\": 7, \"Rolling\": 7.571428571428571, \"Daily confirmed deaths\": \"Daily confirmed deaths\", \"7-day rolling average\": \"7-day rolling average\"}, {\"Dates\": \"2020-04-20\", \"New_deaths\": 6, \"Rolling\": 8.142857142857142, \"Daily confirmed deaths\": \"Daily confirmed deaths\", \"7-day rolling average\": \"7-day rolling average\"}, {\"Dates\": \"2020-04-21\", \"New_deaths\": 8, \"Rolling\": 7.857142857142857, \"Daily confirmed deaths\": \"Daily confirmed deaths\", \"7-day rolling average\": \"7-day rolling average\"}, {\"Dates\": \"2020-04-22\", \"New_deaths\": 13, \"Rolling\": 9.428571428571429, \"Daily confirmed deaths\": \"Daily confirmed deaths\", \"7-day rolling average\": \"7-day rolling average\"}, {\"Dates\": \"2020-04-23\", \"New_deaths\": 8, \"Rolling\": 9.0, \"Daily confirmed deaths\": \"Daily confirmed deaths\", \"7-day rolling average\": \"7-day rolling average\"}, {\"Dates\": \"2020-04-24\", \"New_deaths\": 6, \"Rolling\": 8.285714285714286, \"Daily confirmed deaths\": \"Daily confirmed deaths\", \"7-day rolling average\": \"7-day rolling average\"}, {\"Dates\": \"2020-04-25\", \"New_deaths\": 7, \"Rolling\": 7.857142857142857, \"Daily confirmed deaths\": \"Daily confirmed deaths\", \"7-day rolling average\": \"7-day rolling average\"}, {\"Dates\": \"2020-04-26\", \"New_deaths\": 8, \"Rolling\": 8.0, \"Daily confirmed deaths\": \"Daily confirmed deaths\", \"7-day rolling average\": \"7-day rolling average\"}, {\"Dates\": \"2020-04-27\", \"New_deaths\": 9, \"Rolling\": 8.428571428571429, \"Daily confirmed deaths\": \"Daily confirmed deaths\", \"7-day rolling average\": \"7-day rolling average\"}]}}, {\"mode\": \"vega-lite\"});\n",
       "</script>"
      ],
      "text/plain": [
       "alt.LayerChart(...)"
      ]
     },
     "execution_count": 74,
     "metadata": {},
     "output_type": "execute_result"
    }
   ],
   "source": [
    "#hide_input\n",
    "bars, line = my_deaths_plot(region)\n",
    "(bars + line).properties(\n",
    "    title=f'Covid-19 in Chile: Daily confirmed deaths in Chile',\n",
    "    width=600\n",
    ")"
   ]
  },
  {
   "cell_type": "markdown",
   "metadata": {
    "papermill": {
     "duration": 0.090222,
     "end_time": "2020-04-28T06:16:36.706883",
     "exception": false,
     "start_time": "2020-04-28T06:16:36.616661",
     "status": "completed"
    },
    "tags": []
   },
   "source": [
    "## Arica y Parinacota"
   ]
  },
  {
   "cell_type": "code",
   "execution_count": 75,
   "metadata": {
    "execution": {
     "iopub.execute_input": "2020-04-28T06:16:36.896986Z",
     "iopub.status.busy": "2020-04-28T06:16:36.896248Z",
     "iopub.status.idle": "2020-04-28T06:16:36.898044Z",
     "shell.execute_reply": "2020-04-28T06:16:36.898540Z"
    },
    "papermill": {
     "duration": 0.100931,
     "end_time": "2020-04-28T06:16:36.898741",
     "exception": false,
     "start_time": "2020-04-28T06:16:36.797810",
     "status": "completed"
    },
    "scrolled": true,
    "tags": []
   },
   "outputs": [],
   "source": [
    "#hide\n",
    "region = \"Arica y Parinacota\""
   ]
  },
  {
   "cell_type": "code",
   "execution_count": 76,
   "metadata": {
    "execution": {
     "iopub.execute_input": "2020-04-28T06:16:37.132606Z",
     "iopub.status.busy": "2020-04-28T06:16:37.129284Z",
     "iopub.status.idle": "2020-04-28T06:16:37.135226Z",
     "shell.execute_reply": "2020-04-28T06:16:37.135794Z"
    },
    "papermill": {
     "duration": 0.143475,
     "end_time": "2020-04-28T06:16:37.135932",
     "exception": false,
     "start_time": "2020-04-28T06:16:36.992457",
     "status": "completed"
    },
    "tags": []
   },
   "outputs": [
    {
     "data": {
      "text/html": [
       "\n",
       "<div id=\"altair-viz-8106b03e00cb4be89e30c67c4ec95b57\"></div>\n",
       "<script type=\"text/javascript\">\n",
       "  (function(spec, embedOpt){\n",
       "    let outputDiv = document.currentScript.previousElementSibling;\n",
       "    if (outputDiv.id !== \"altair-viz-8106b03e00cb4be89e30c67c4ec95b57\") {\n",
       "      outputDiv = document.getElementById(\"altair-viz-8106b03e00cb4be89e30c67c4ec95b57\");\n",
       "    }\n",
       "    const paths = {\n",
       "      \"vega\": \"https://cdn.jsdelivr.net/npm//vega@5?noext\",\n",
       "      \"vega-lib\": \"https://cdn.jsdelivr.net/npm//vega-lib?noext\",\n",
       "      \"vega-lite\": \"https://cdn.jsdelivr.net/npm//vega-lite@4.8.1?noext\",\n",
       "      \"vega-embed\": \"https://cdn.jsdelivr.net/npm//vega-embed@6?noext\",\n",
       "    };\n",
       "\n",
       "    function loadScript(lib) {\n",
       "      return new Promise(function(resolve, reject) {\n",
       "        var s = document.createElement('script');\n",
       "        s.src = paths[lib];\n",
       "        s.async = true;\n",
       "        s.onload = () => resolve(paths[lib]);\n",
       "        s.onerror = () => reject(`Error loading script: ${paths[lib]}`);\n",
       "        document.getElementsByTagName(\"head\")[0].appendChild(s);\n",
       "      });\n",
       "    }\n",
       "\n",
       "    function showError(err) {\n",
       "      outputDiv.innerHTML = `<div class=\"error\" style=\"color:red;\">${err}</div>`;\n",
       "      throw err;\n",
       "    }\n",
       "\n",
       "    function displayChart(vegaEmbed) {\n",
       "      vegaEmbed(outputDiv, spec, embedOpt)\n",
       "        .catch(err => showError(`Javascript Error: ${err.message}<br>This usually means there's a typo in your chart specification. See the javascript console for the full traceback.`));\n",
       "    }\n",
       "\n",
       "    if(typeof define === \"function\" && define.amd) {\n",
       "      requirejs.config({paths});\n",
       "      require([\"vega-embed\"], displayChart, err => showError(`Error loading script: ${err.message}`));\n",
       "    } else if (typeof vegaEmbed === \"function\") {\n",
       "      displayChart(vegaEmbed);\n",
       "    } else {\n",
       "      loadScript(\"vega\")\n",
       "        .then(() => loadScript(\"vega-lite\"))\n",
       "        .then(() => loadScript(\"vega-embed\"))\n",
       "        .catch(showError)\n",
       "        .then(() => displayChart(vegaEmbed));\n",
       "    }\n",
       "  })({\"config\": {\"view\": {\"continuousWidth\": 400, \"continuousHeight\": 300}}, \"layer\": [{\"mark\": {\"type\": \"bar\", \"color\": \"firebrick\", \"opacity\": 0.7}, \"encoding\": {\"opacity\": {\"type\": \"nominal\", \"field\": \"Daily confirmed deaths\", \"legend\": {\"title\": \"\"}}, \"tooltip\": [{\"type\": \"nominal\", \"field\": \"Dates\"}, {\"type\": \"quantitative\", \"field\": \"New_deaths\"}], \"x\": {\"type\": \"nominal\", \"axis\": {\"title\": \"Date\"}, \"field\": \"Dates\"}, \"y\": {\"type\": \"quantitative\", \"axis\": {\"title\": \"Daily confirmed deaths\"}, \"field\": \"New_deaths\"}}}, {\"mark\": {\"type\": \"line\", \"color\": \"firebrick\", \"point\": {\"filled\": true, \"fill\": \"firebrick\"}}, \"encoding\": {\"shape\": {\"type\": \"nominal\", \"field\": \"7-day rolling average\", \"legend\": {\"title\": \"\"}}, \"x\": {\"type\": \"nominal\", \"axis\": {\"title\": \"Date\"}, \"field\": \"Dates\"}, \"y\": {\"type\": \"quantitative\", \"field\": \"Rolling\"}}}], \"data\": {\"name\": \"data-d0b79da236a8ad611b24c14b593cf7e6\"}, \"title\": \"Covid-19 in Chile: Daily confirmed deaths in Arica y Parinacota\", \"width\": 600, \"$schema\": \"https://vega.github.io/schema/vega-lite/v4.8.1.json\", \"datasets\": {\"data-d0b79da236a8ad611b24c14b593cf7e6\": [{\"Dates\": \"2020-03-25\", \"New_deaths\": 0, \"Rolling\": null, \"Daily confirmed deaths\": \"Daily confirmed deaths\", \"7-day rolling average\": \"7-day rolling average\"}, {\"Dates\": \"2020-03-26\", \"New_deaths\": 0, \"Rolling\": null, \"Daily confirmed deaths\": \"Daily confirmed deaths\", \"7-day rolling average\": \"7-day rolling average\"}, {\"Dates\": \"2020-03-27\", \"New_deaths\": 0, \"Rolling\": null, \"Daily confirmed deaths\": \"Daily confirmed deaths\", \"7-day rolling average\": \"7-day rolling average\"}, {\"Dates\": \"2020-03-28\", \"New_deaths\": 0, \"Rolling\": null, \"Daily confirmed deaths\": \"Daily confirmed deaths\", \"7-day rolling average\": \"7-day rolling average\"}, {\"Dates\": \"2020-03-29\", \"New_deaths\": 0, \"Rolling\": null, \"Daily confirmed deaths\": \"Daily confirmed deaths\", \"7-day rolling average\": \"7-day rolling average\"}, {\"Dates\": \"2020-03-30\", \"New_deaths\": 0, \"Rolling\": null, \"Daily confirmed deaths\": \"Daily confirmed deaths\", \"7-day rolling average\": \"7-day rolling average\"}, {\"Dates\": \"2020-03-31\", \"New_deaths\": 0, \"Rolling\": 0.0, \"Daily confirmed deaths\": \"Daily confirmed deaths\", \"7-day rolling average\": \"7-day rolling average\"}, {\"Dates\": \"2020-04-01\", \"New_deaths\": 0, \"Rolling\": 0.0, \"Daily confirmed deaths\": \"Daily confirmed deaths\", \"7-day rolling average\": \"7-day rolling average\"}, {\"Dates\": \"2020-04-02\", \"New_deaths\": 0, \"Rolling\": 0.0, \"Daily confirmed deaths\": \"Daily confirmed deaths\", \"7-day rolling average\": \"7-day rolling average\"}, {\"Dates\": \"2020-04-03\", \"New_deaths\": 0, \"Rolling\": 0.0, \"Daily confirmed deaths\": \"Daily confirmed deaths\", \"7-day rolling average\": \"7-day rolling average\"}, {\"Dates\": \"2020-04-04\", \"New_deaths\": 0, \"Rolling\": 0.0, \"Daily confirmed deaths\": \"Daily confirmed deaths\", \"7-day rolling average\": \"7-day rolling average\"}, {\"Dates\": \"2020-04-05\", \"New_deaths\": 0, \"Rolling\": 0.0, \"Daily confirmed deaths\": \"Daily confirmed deaths\", \"7-day rolling average\": \"7-day rolling average\"}, {\"Dates\": \"2020-04-06\", \"New_deaths\": 0, \"Rolling\": 0.0, \"Daily confirmed deaths\": \"Daily confirmed deaths\", \"7-day rolling average\": \"7-day rolling average\"}, {\"Dates\": \"2020-04-07\", \"New_deaths\": 0, \"Rolling\": 0.0, \"Daily confirmed deaths\": \"Daily confirmed deaths\", \"7-day rolling average\": \"7-day rolling average\"}, {\"Dates\": \"2020-04-08\", \"New_deaths\": 0, \"Rolling\": 0.0, \"Daily confirmed deaths\": \"Daily confirmed deaths\", \"7-day rolling average\": \"7-day rolling average\"}, {\"Dates\": \"2020-04-09\", \"New_deaths\": 0, \"Rolling\": 0.0, \"Daily confirmed deaths\": \"Daily confirmed deaths\", \"7-day rolling average\": \"7-day rolling average\"}, {\"Dates\": \"2020-04-10\", \"New_deaths\": 0, \"Rolling\": 0.0, \"Daily confirmed deaths\": \"Daily confirmed deaths\", \"7-day rolling average\": \"7-day rolling average\"}, {\"Dates\": \"2020-04-11\", \"New_deaths\": 0, \"Rolling\": 0.0, \"Daily confirmed deaths\": \"Daily confirmed deaths\", \"7-day rolling average\": \"7-day rolling average\"}, {\"Dates\": \"2020-04-12\", \"New_deaths\": 1, \"Rolling\": 0.14285714285714285, \"Daily confirmed deaths\": \"Daily confirmed deaths\", \"7-day rolling average\": \"7-day rolling average\"}, {\"Dates\": \"2020-04-13\", \"New_deaths\": 0, \"Rolling\": 0.14285714285714285, \"Daily confirmed deaths\": \"Daily confirmed deaths\", \"7-day rolling average\": \"7-day rolling average\"}, {\"Dates\": \"2020-04-14\", \"New_deaths\": 0, \"Rolling\": 0.14285714285714285, \"Daily confirmed deaths\": \"Daily confirmed deaths\", \"7-day rolling average\": \"7-day rolling average\"}, {\"Dates\": \"2020-04-15\", \"New_deaths\": 0, \"Rolling\": 0.14285714285714285, \"Daily confirmed deaths\": \"Daily confirmed deaths\", \"7-day rolling average\": \"7-day rolling average\"}, {\"Dates\": \"2020-04-16\", \"New_deaths\": 0, \"Rolling\": 0.14285714285714285, \"Daily confirmed deaths\": \"Daily confirmed deaths\", \"7-day rolling average\": \"7-day rolling average\"}, {\"Dates\": \"2020-04-17\", \"New_deaths\": 1, \"Rolling\": 0.2857142857142857, \"Daily confirmed deaths\": \"Daily confirmed deaths\", \"7-day rolling average\": \"7-day rolling average\"}, {\"Dates\": \"2020-04-18\", \"New_deaths\": 0, \"Rolling\": 0.2857142857142857, \"Daily confirmed deaths\": \"Daily confirmed deaths\", \"7-day rolling average\": \"7-day rolling average\"}, {\"Dates\": \"2020-04-19\", \"New_deaths\": 0, \"Rolling\": 0.14285714285714285, \"Daily confirmed deaths\": \"Daily confirmed deaths\", \"7-day rolling average\": \"7-day rolling average\"}, {\"Dates\": \"2020-04-20\", \"New_deaths\": 0, \"Rolling\": 0.14285714285714285, \"Daily confirmed deaths\": \"Daily confirmed deaths\", \"7-day rolling average\": \"7-day rolling average\"}, {\"Dates\": \"2020-04-21\", \"New_deaths\": 0, \"Rolling\": 0.14285714285714285, \"Daily confirmed deaths\": \"Daily confirmed deaths\", \"7-day rolling average\": \"7-day rolling average\"}, {\"Dates\": \"2020-04-22\", \"New_deaths\": 0, \"Rolling\": 0.14285714285714285, \"Daily confirmed deaths\": \"Daily confirmed deaths\", \"7-day rolling average\": \"7-day rolling average\"}, {\"Dates\": \"2020-04-23\", \"New_deaths\": 0, \"Rolling\": 0.14285714285714285, \"Daily confirmed deaths\": \"Daily confirmed deaths\", \"7-day rolling average\": \"7-day rolling average\"}, {\"Dates\": \"2020-04-24\", \"New_deaths\": 1, \"Rolling\": 0.14285714285714285, \"Daily confirmed deaths\": \"Daily confirmed deaths\", \"7-day rolling average\": \"7-day rolling average\"}, {\"Dates\": \"2020-04-25\", \"New_deaths\": 0, \"Rolling\": 0.14285714285714285, \"Daily confirmed deaths\": \"Daily confirmed deaths\", \"7-day rolling average\": \"7-day rolling average\"}, {\"Dates\": \"2020-04-26\", \"New_deaths\": 0, \"Rolling\": 0.14285714285714285, \"Daily confirmed deaths\": \"Daily confirmed deaths\", \"7-day rolling average\": \"7-day rolling average\"}, {\"Dates\": \"2020-04-27\", \"New_deaths\": 0, \"Rolling\": 0.14285714285714285, \"Daily confirmed deaths\": \"Daily confirmed deaths\", \"7-day rolling average\": \"7-day rolling average\"}]}}, {\"mode\": \"vega-lite\"});\n",
       "</script>"
      ],
      "text/plain": [
       "alt.LayerChart(...)"
      ]
     },
     "execution_count": 76,
     "metadata": {},
     "output_type": "execute_result"
    }
   ],
   "source": [
    "#hide_input\n",
    "bars, line = my_deaths_plot(region)\n",
    "(bars + line).properties(\n",
    "    title=f'Covid-19 in Chile: Daily confirmed deaths in {region}',\n",
    "    width=600\n",
    ")"
   ]
  },
  {
   "cell_type": "markdown",
   "metadata": {
    "papermill": {
     "duration": 0.090097,
     "end_time": "2020-04-28T06:16:37.319271",
     "exception": false,
     "start_time": "2020-04-28T06:16:37.229174",
     "status": "completed"
    },
    "tags": []
   },
   "source": [
    "## Tarapacá"
   ]
  },
  {
   "cell_type": "code",
   "execution_count": 77,
   "metadata": {
    "execution": {
     "iopub.execute_input": "2020-04-28T06:16:37.519342Z",
     "iopub.status.busy": "2020-04-28T06:16:37.518483Z",
     "iopub.status.idle": "2020-04-28T06:16:37.521146Z",
     "shell.execute_reply": "2020-04-28T06:16:37.520426Z"
    },
    "papermill": {
     "duration": 0.102031,
     "end_time": "2020-04-28T06:16:37.521258",
     "exception": false,
     "start_time": "2020-04-28T06:16:37.419227",
     "status": "completed"
    },
    "scrolled": true,
    "tags": []
   },
   "outputs": [],
   "source": [
    "#hide\n",
    "region = \"Tarapacá\""
   ]
  },
  {
   "cell_type": "code",
   "execution_count": 78,
   "metadata": {
    "execution": {
     "iopub.execute_input": "2020-04-28T06:16:37.717344Z",
     "iopub.status.busy": "2020-04-28T06:16:37.716576Z",
     "iopub.status.idle": "2020-04-28T06:16:37.753090Z",
     "shell.execute_reply": "2020-04-28T06:16:37.753594Z"
    },
    "papermill": {
     "duration": 0.137028,
     "end_time": "2020-04-28T06:16:37.753728",
     "exception": false,
     "start_time": "2020-04-28T06:16:37.616700",
     "status": "completed"
    },
    "tags": []
   },
   "outputs": [
    {
     "data": {
      "text/html": [
       "\n",
       "<div id=\"altair-viz-86c0a89db99b4d9e9c52069d78f797b9\"></div>\n",
       "<script type=\"text/javascript\">\n",
       "  (function(spec, embedOpt){\n",
       "    let outputDiv = document.currentScript.previousElementSibling;\n",
       "    if (outputDiv.id !== \"altair-viz-86c0a89db99b4d9e9c52069d78f797b9\") {\n",
       "      outputDiv = document.getElementById(\"altair-viz-86c0a89db99b4d9e9c52069d78f797b9\");\n",
       "    }\n",
       "    const paths = {\n",
       "      \"vega\": \"https://cdn.jsdelivr.net/npm//vega@5?noext\",\n",
       "      \"vega-lib\": \"https://cdn.jsdelivr.net/npm//vega-lib?noext\",\n",
       "      \"vega-lite\": \"https://cdn.jsdelivr.net/npm//vega-lite@4.8.1?noext\",\n",
       "      \"vega-embed\": \"https://cdn.jsdelivr.net/npm//vega-embed@6?noext\",\n",
       "    };\n",
       "\n",
       "    function loadScript(lib) {\n",
       "      return new Promise(function(resolve, reject) {\n",
       "        var s = document.createElement('script');\n",
       "        s.src = paths[lib];\n",
       "        s.async = true;\n",
       "        s.onload = () => resolve(paths[lib]);\n",
       "        s.onerror = () => reject(`Error loading script: ${paths[lib]}`);\n",
       "        document.getElementsByTagName(\"head\")[0].appendChild(s);\n",
       "      });\n",
       "    }\n",
       "\n",
       "    function showError(err) {\n",
       "      outputDiv.innerHTML = `<div class=\"error\" style=\"color:red;\">${err}</div>`;\n",
       "      throw err;\n",
       "    }\n",
       "\n",
       "    function displayChart(vegaEmbed) {\n",
       "      vegaEmbed(outputDiv, spec, embedOpt)\n",
       "        .catch(err => showError(`Javascript Error: ${err.message}<br>This usually means there's a typo in your chart specification. See the javascript console for the full traceback.`));\n",
       "    }\n",
       "\n",
       "    if(typeof define === \"function\" && define.amd) {\n",
       "      requirejs.config({paths});\n",
       "      require([\"vega-embed\"], displayChart, err => showError(`Error loading script: ${err.message}`));\n",
       "    } else if (typeof vegaEmbed === \"function\") {\n",
       "      displayChart(vegaEmbed);\n",
       "    } else {\n",
       "      loadScript(\"vega\")\n",
       "        .then(() => loadScript(\"vega-lite\"))\n",
       "        .then(() => loadScript(\"vega-embed\"))\n",
       "        .catch(showError)\n",
       "        .then(() => displayChart(vegaEmbed));\n",
       "    }\n",
       "  })({\"config\": {\"view\": {\"continuousWidth\": 400, \"continuousHeight\": 300}}, \"layer\": [{\"mark\": {\"type\": \"bar\", \"color\": \"firebrick\", \"opacity\": 0.7}, \"encoding\": {\"opacity\": {\"type\": \"nominal\", \"field\": \"Daily confirmed deaths\", \"legend\": {\"title\": \"\"}}, \"tooltip\": [{\"type\": \"nominal\", \"field\": \"Dates\"}, {\"type\": \"quantitative\", \"field\": \"New_deaths\"}], \"x\": {\"type\": \"nominal\", \"axis\": {\"title\": \"Date\"}, \"field\": \"Dates\"}, \"y\": {\"type\": \"quantitative\", \"axis\": {\"title\": \"Daily confirmed deaths\"}, \"field\": \"New_deaths\"}}}, {\"mark\": {\"type\": \"line\", \"color\": \"firebrick\", \"point\": {\"filled\": true, \"fill\": \"firebrick\"}}, \"encoding\": {\"shape\": {\"type\": \"nominal\", \"field\": \"7-day rolling average\", \"legend\": {\"title\": \"\"}}, \"x\": {\"type\": \"nominal\", \"axis\": {\"title\": \"Date\"}, \"field\": \"Dates\"}, \"y\": {\"type\": \"quantitative\", \"field\": \"Rolling\"}}}], \"data\": {\"name\": \"data-1908856f65bb69156b899a0c33504fb4\"}, \"title\": \"Covid-19 in Chile: Daily confirmed deaths in Tarapac\\u00e1\", \"width\": 600, \"$schema\": \"https://vega.github.io/schema/vega-lite/v4.8.1.json\", \"datasets\": {\"data-1908856f65bb69156b899a0c33504fb4\": [{\"Dates\": \"2020-03-25\", \"New_deaths\": 0, \"Rolling\": null, \"Daily confirmed deaths\": \"Daily confirmed deaths\", \"7-day rolling average\": \"7-day rolling average\"}, {\"Dates\": \"2020-03-26\", \"New_deaths\": 0, \"Rolling\": null, \"Daily confirmed deaths\": \"Daily confirmed deaths\", \"7-day rolling average\": \"7-day rolling average\"}, {\"Dates\": \"2020-03-27\", \"New_deaths\": 0, \"Rolling\": null, \"Daily confirmed deaths\": \"Daily confirmed deaths\", \"7-day rolling average\": \"7-day rolling average\"}, {\"Dates\": \"2020-03-28\", \"New_deaths\": 0, \"Rolling\": null, \"Daily confirmed deaths\": \"Daily confirmed deaths\", \"7-day rolling average\": \"7-day rolling average\"}, {\"Dates\": \"2020-03-29\", \"New_deaths\": 0, \"Rolling\": null, \"Daily confirmed deaths\": \"Daily confirmed deaths\", \"7-day rolling average\": \"7-day rolling average\"}, {\"Dates\": \"2020-03-30\", \"New_deaths\": 0, \"Rolling\": null, \"Daily confirmed deaths\": \"Daily confirmed deaths\", \"7-day rolling average\": \"7-day rolling average\"}, {\"Dates\": \"2020-03-31\", \"New_deaths\": 0, \"Rolling\": 0.0, \"Daily confirmed deaths\": \"Daily confirmed deaths\", \"7-day rolling average\": \"7-day rolling average\"}, {\"Dates\": \"2020-04-01\", \"New_deaths\": 0, \"Rolling\": 0.0, \"Daily confirmed deaths\": \"Daily confirmed deaths\", \"7-day rolling average\": \"7-day rolling average\"}, {\"Dates\": \"2020-04-02\", \"New_deaths\": 0, \"Rolling\": 0.0, \"Daily confirmed deaths\": \"Daily confirmed deaths\", \"7-day rolling average\": \"7-day rolling average\"}, {\"Dates\": \"2020-04-03\", \"New_deaths\": 0, \"Rolling\": 0.0, \"Daily confirmed deaths\": \"Daily confirmed deaths\", \"7-day rolling average\": \"7-day rolling average\"}, {\"Dates\": \"2020-04-04\", \"New_deaths\": 0, \"Rolling\": 0.0, \"Daily confirmed deaths\": \"Daily confirmed deaths\", \"7-day rolling average\": \"7-day rolling average\"}, {\"Dates\": \"2020-04-05\", \"New_deaths\": 0, \"Rolling\": 0.0, \"Daily confirmed deaths\": \"Daily confirmed deaths\", \"7-day rolling average\": \"7-day rolling average\"}, {\"Dates\": \"2020-04-06\", \"New_deaths\": 0, \"Rolling\": 0.0, \"Daily confirmed deaths\": \"Daily confirmed deaths\", \"7-day rolling average\": \"7-day rolling average\"}, {\"Dates\": \"2020-04-07\", \"New_deaths\": 0, \"Rolling\": 0.0, \"Daily confirmed deaths\": \"Daily confirmed deaths\", \"7-day rolling average\": \"7-day rolling average\"}, {\"Dates\": \"2020-04-08\", \"New_deaths\": 0, \"Rolling\": 0.0, \"Daily confirmed deaths\": \"Daily confirmed deaths\", \"7-day rolling average\": \"7-day rolling average\"}, {\"Dates\": \"2020-04-09\", \"New_deaths\": 0, \"Rolling\": 0.0, \"Daily confirmed deaths\": \"Daily confirmed deaths\", \"7-day rolling average\": \"7-day rolling average\"}, {\"Dates\": \"2020-04-10\", \"New_deaths\": 0, \"Rolling\": 0.0, \"Daily confirmed deaths\": \"Daily confirmed deaths\", \"7-day rolling average\": \"7-day rolling average\"}, {\"Dates\": \"2020-04-11\", \"New_deaths\": 0, \"Rolling\": 0.0, \"Daily confirmed deaths\": \"Daily confirmed deaths\", \"7-day rolling average\": \"7-day rolling average\"}, {\"Dates\": \"2020-04-12\", \"New_deaths\": 0, \"Rolling\": 0.0, \"Daily confirmed deaths\": \"Daily confirmed deaths\", \"7-day rolling average\": \"7-day rolling average\"}, {\"Dates\": \"2020-04-13\", \"New_deaths\": 0, \"Rolling\": 0.0, \"Daily confirmed deaths\": \"Daily confirmed deaths\", \"7-day rolling average\": \"7-day rolling average\"}, {\"Dates\": \"2020-04-14\", \"New_deaths\": 0, \"Rolling\": 0.0, \"Daily confirmed deaths\": \"Daily confirmed deaths\", \"7-day rolling average\": \"7-day rolling average\"}, {\"Dates\": \"2020-04-15\", \"New_deaths\": 0, \"Rolling\": 0.0, \"Daily confirmed deaths\": \"Daily confirmed deaths\", \"7-day rolling average\": \"7-day rolling average\"}, {\"Dates\": \"2020-04-16\", \"New_deaths\": 0, \"Rolling\": 0.0, \"Daily confirmed deaths\": \"Daily confirmed deaths\", \"7-day rolling average\": \"7-day rolling average\"}, {\"Dates\": \"2020-04-17\", \"New_deaths\": 0, \"Rolling\": 0.0, \"Daily confirmed deaths\": \"Daily confirmed deaths\", \"7-day rolling average\": \"7-day rolling average\"}, {\"Dates\": \"2020-04-18\", \"New_deaths\": 0, \"Rolling\": 0.0, \"Daily confirmed deaths\": \"Daily confirmed deaths\", \"7-day rolling average\": \"7-day rolling average\"}, {\"Dates\": \"2020-04-19\", \"New_deaths\": 0, \"Rolling\": 0.0, \"Daily confirmed deaths\": \"Daily confirmed deaths\", \"7-day rolling average\": \"7-day rolling average\"}, {\"Dates\": \"2020-04-20\", \"New_deaths\": 0, \"Rolling\": 0.0, \"Daily confirmed deaths\": \"Daily confirmed deaths\", \"7-day rolling average\": \"7-day rolling average\"}, {\"Dates\": \"2020-04-21\", \"New_deaths\": 0, \"Rolling\": 0.0, \"Daily confirmed deaths\": \"Daily confirmed deaths\", \"7-day rolling average\": \"7-day rolling average\"}, {\"Dates\": \"2020-04-22\", \"New_deaths\": 0, \"Rolling\": 0.0, \"Daily confirmed deaths\": \"Daily confirmed deaths\", \"7-day rolling average\": \"7-day rolling average\"}, {\"Dates\": \"2020-04-23\", \"New_deaths\": 0, \"Rolling\": 0.0, \"Daily confirmed deaths\": \"Daily confirmed deaths\", \"7-day rolling average\": \"7-day rolling average\"}, {\"Dates\": \"2020-04-24\", \"New_deaths\": 0, \"Rolling\": 0.0, \"Daily confirmed deaths\": \"Daily confirmed deaths\", \"7-day rolling average\": \"7-day rolling average\"}, {\"Dates\": \"2020-04-25\", \"New_deaths\": 1, \"Rolling\": 0.14285714285714285, \"Daily confirmed deaths\": \"Daily confirmed deaths\", \"7-day rolling average\": \"7-day rolling average\"}, {\"Dates\": \"2020-04-26\", \"New_deaths\": 0, \"Rolling\": 0.14285714285714285, \"Daily confirmed deaths\": \"Daily confirmed deaths\", \"7-day rolling average\": \"7-day rolling average\"}, {\"Dates\": \"2020-04-27\", \"New_deaths\": 0, \"Rolling\": 0.14285714285714285, \"Daily confirmed deaths\": \"Daily confirmed deaths\", \"7-day rolling average\": \"7-day rolling average\"}]}}, {\"mode\": \"vega-lite\"});\n",
       "</script>"
      ],
      "text/plain": [
       "alt.LayerChart(...)"
      ]
     },
     "execution_count": 78,
     "metadata": {},
     "output_type": "execute_result"
    }
   ],
   "source": [
    "#hide_input\n",
    "bars, line = my_deaths_plot(region)\n",
    "(bars + line).properties(\n",
    "    title=f'Covid-19 in Chile: Daily confirmed deaths in {region}',\n",
    "    width=600\n",
    ")"
   ]
  },
  {
   "cell_type": "markdown",
   "metadata": {
    "papermill": {
     "duration": 0.097536,
     "end_time": "2020-04-28T06:16:37.943561",
     "exception": false,
     "start_time": "2020-04-28T06:16:37.846025",
     "status": "completed"
    },
    "tags": []
   },
   "source": [
    "## Antofagasta"
   ]
  },
  {
   "cell_type": "code",
   "execution_count": 79,
   "metadata": {
    "execution": {
     "iopub.execute_input": "2020-04-28T06:16:38.146219Z",
     "iopub.status.busy": "2020-04-28T06:16:38.145523Z",
     "iopub.status.idle": "2020-04-28T06:16:38.147249Z",
     "shell.execute_reply": "2020-04-28T06:16:38.147792Z"
    },
    "papermill": {
     "duration": 0.110661,
     "end_time": "2020-04-28T06:16:38.147919",
     "exception": false,
     "start_time": "2020-04-28T06:16:38.037258",
     "status": "completed"
    },
    "scrolled": true,
    "tags": []
   },
   "outputs": [],
   "source": [
    "#hide\n",
    "region = \"Antofagasta\""
   ]
  },
  {
   "cell_type": "code",
   "execution_count": 80,
   "metadata": {
    "execution": {
     "iopub.execute_input": "2020-04-28T06:16:38.377580Z",
     "iopub.status.busy": "2020-04-28T06:16:38.374373Z",
     "iopub.status.idle": "2020-04-28T06:16:38.382207Z",
     "shell.execute_reply": "2020-04-28T06:16:38.382782Z"
    },
    "papermill": {
     "duration": 0.140503,
     "end_time": "2020-04-28T06:16:38.382929",
     "exception": false,
     "start_time": "2020-04-28T06:16:38.242426",
     "status": "completed"
    },
    "tags": []
   },
   "outputs": [
    {
     "data": {
      "text/html": [
       "\n",
       "<div id=\"altair-viz-d827ab3ca49542daaf9d1fa296f68eac\"></div>\n",
       "<script type=\"text/javascript\">\n",
       "  (function(spec, embedOpt){\n",
       "    let outputDiv = document.currentScript.previousElementSibling;\n",
       "    if (outputDiv.id !== \"altair-viz-d827ab3ca49542daaf9d1fa296f68eac\") {\n",
       "      outputDiv = document.getElementById(\"altair-viz-d827ab3ca49542daaf9d1fa296f68eac\");\n",
       "    }\n",
       "    const paths = {\n",
       "      \"vega\": \"https://cdn.jsdelivr.net/npm//vega@5?noext\",\n",
       "      \"vega-lib\": \"https://cdn.jsdelivr.net/npm//vega-lib?noext\",\n",
       "      \"vega-lite\": \"https://cdn.jsdelivr.net/npm//vega-lite@4.8.1?noext\",\n",
       "      \"vega-embed\": \"https://cdn.jsdelivr.net/npm//vega-embed@6?noext\",\n",
       "    };\n",
       "\n",
       "    function loadScript(lib) {\n",
       "      return new Promise(function(resolve, reject) {\n",
       "        var s = document.createElement('script');\n",
       "        s.src = paths[lib];\n",
       "        s.async = true;\n",
       "        s.onload = () => resolve(paths[lib]);\n",
       "        s.onerror = () => reject(`Error loading script: ${paths[lib]}`);\n",
       "        document.getElementsByTagName(\"head\")[0].appendChild(s);\n",
       "      });\n",
       "    }\n",
       "\n",
       "    function showError(err) {\n",
       "      outputDiv.innerHTML = `<div class=\"error\" style=\"color:red;\">${err}</div>`;\n",
       "      throw err;\n",
       "    }\n",
       "\n",
       "    function displayChart(vegaEmbed) {\n",
       "      vegaEmbed(outputDiv, spec, embedOpt)\n",
       "        .catch(err => showError(`Javascript Error: ${err.message}<br>This usually means there's a typo in your chart specification. See the javascript console for the full traceback.`));\n",
       "    }\n",
       "\n",
       "    if(typeof define === \"function\" && define.amd) {\n",
       "      requirejs.config({paths});\n",
       "      require([\"vega-embed\"], displayChart, err => showError(`Error loading script: ${err.message}`));\n",
       "    } else if (typeof vegaEmbed === \"function\") {\n",
       "      displayChart(vegaEmbed);\n",
       "    } else {\n",
       "      loadScript(\"vega\")\n",
       "        .then(() => loadScript(\"vega-lite\"))\n",
       "        .then(() => loadScript(\"vega-embed\"))\n",
       "        .catch(showError)\n",
       "        .then(() => displayChart(vegaEmbed));\n",
       "    }\n",
       "  })({\"config\": {\"view\": {\"continuousWidth\": 400, \"continuousHeight\": 300}}, \"layer\": [{\"mark\": {\"type\": \"bar\", \"color\": \"firebrick\", \"opacity\": 0.7}, \"encoding\": {\"opacity\": {\"type\": \"nominal\", \"field\": \"Daily confirmed deaths\", \"legend\": {\"title\": \"\"}}, \"tooltip\": [{\"type\": \"nominal\", \"field\": \"Dates\"}, {\"type\": \"quantitative\", \"field\": \"New_deaths\"}], \"x\": {\"type\": \"nominal\", \"axis\": {\"title\": \"Date\"}, \"field\": \"Dates\"}, \"y\": {\"type\": \"quantitative\", \"axis\": {\"title\": \"Daily confirmed deaths\"}, \"field\": \"New_deaths\"}}}, {\"mark\": {\"type\": \"line\", \"color\": \"firebrick\", \"point\": {\"filled\": true, \"fill\": \"firebrick\"}}, \"encoding\": {\"shape\": {\"type\": \"nominal\", \"field\": \"7-day rolling average\", \"legend\": {\"title\": \"\"}}, \"x\": {\"type\": \"nominal\", \"axis\": {\"title\": \"Date\"}, \"field\": \"Dates\"}, \"y\": {\"type\": \"quantitative\", \"field\": \"Rolling\"}}}], \"data\": {\"name\": \"data-46d2d9433e1880414af6af654effae3b\"}, \"title\": \"Covid-19 in Chile: Daily confirmed deaths in Antofagasta\", \"width\": 600, \"$schema\": \"https://vega.github.io/schema/vega-lite/v4.8.1.json\", \"datasets\": {\"data-46d2d9433e1880414af6af654effae3b\": [{\"Dates\": \"2020-03-25\", \"New_deaths\": 0, \"Rolling\": null, \"Daily confirmed deaths\": \"Daily confirmed deaths\", \"7-day rolling average\": \"7-day rolling average\"}, {\"Dates\": \"2020-03-26\", \"New_deaths\": 0, \"Rolling\": null, \"Daily confirmed deaths\": \"Daily confirmed deaths\", \"7-day rolling average\": \"7-day rolling average\"}, {\"Dates\": \"2020-03-27\", \"New_deaths\": 0, \"Rolling\": null, \"Daily confirmed deaths\": \"Daily confirmed deaths\", \"7-day rolling average\": \"7-day rolling average\"}, {\"Dates\": \"2020-03-28\", \"New_deaths\": 0, \"Rolling\": null, \"Daily confirmed deaths\": \"Daily confirmed deaths\", \"7-day rolling average\": \"7-day rolling average\"}, {\"Dates\": \"2020-03-29\", \"New_deaths\": 0, \"Rolling\": null, \"Daily confirmed deaths\": \"Daily confirmed deaths\", \"7-day rolling average\": \"7-day rolling average\"}, {\"Dates\": \"2020-03-30\", \"New_deaths\": 0, \"Rolling\": null, \"Daily confirmed deaths\": \"Daily confirmed deaths\", \"7-day rolling average\": \"7-day rolling average\"}, {\"Dates\": \"2020-03-31\", \"New_deaths\": 0, \"Rolling\": 0.0, \"Daily confirmed deaths\": \"Daily confirmed deaths\", \"7-day rolling average\": \"7-day rolling average\"}, {\"Dates\": \"2020-04-01\", \"New_deaths\": 0, \"Rolling\": 0.0, \"Daily confirmed deaths\": \"Daily confirmed deaths\", \"7-day rolling average\": \"7-day rolling average\"}, {\"Dates\": \"2020-04-02\", \"New_deaths\": 0, \"Rolling\": 0.0, \"Daily confirmed deaths\": \"Daily confirmed deaths\", \"7-day rolling average\": \"7-day rolling average\"}, {\"Dates\": \"2020-04-03\", \"New_deaths\": 0, \"Rolling\": 0.0, \"Daily confirmed deaths\": \"Daily confirmed deaths\", \"7-day rolling average\": \"7-day rolling average\"}, {\"Dates\": \"2020-04-04\", \"New_deaths\": 0, \"Rolling\": 0.0, \"Daily confirmed deaths\": \"Daily confirmed deaths\", \"7-day rolling average\": \"7-day rolling average\"}, {\"Dates\": \"2020-04-05\", \"New_deaths\": 0, \"Rolling\": 0.0, \"Daily confirmed deaths\": \"Daily confirmed deaths\", \"7-day rolling average\": \"7-day rolling average\"}, {\"Dates\": \"2020-04-06\", \"New_deaths\": 0, \"Rolling\": 0.0, \"Daily confirmed deaths\": \"Daily confirmed deaths\", \"7-day rolling average\": \"7-day rolling average\"}, {\"Dates\": \"2020-04-07\", \"New_deaths\": 1, \"Rolling\": 0.14285714285714285, \"Daily confirmed deaths\": \"Daily confirmed deaths\", \"7-day rolling average\": \"7-day rolling average\"}, {\"Dates\": \"2020-04-08\", \"New_deaths\": 0, \"Rolling\": 0.14285714285714285, \"Daily confirmed deaths\": \"Daily confirmed deaths\", \"7-day rolling average\": \"7-day rolling average\"}, {\"Dates\": \"2020-04-09\", \"New_deaths\": 0, \"Rolling\": 0.14285714285714285, \"Daily confirmed deaths\": \"Daily confirmed deaths\", \"7-day rolling average\": \"7-day rolling average\"}, {\"Dates\": \"2020-04-10\", \"New_deaths\": 0, \"Rolling\": 0.14285714285714285, \"Daily confirmed deaths\": \"Daily confirmed deaths\", \"7-day rolling average\": \"7-day rolling average\"}, {\"Dates\": \"2020-04-11\", \"New_deaths\": 0, \"Rolling\": 0.14285714285714285, \"Daily confirmed deaths\": \"Daily confirmed deaths\", \"7-day rolling average\": \"7-day rolling average\"}, {\"Dates\": \"2020-04-12\", \"New_deaths\": 0, \"Rolling\": 0.14285714285714285, \"Daily confirmed deaths\": \"Daily confirmed deaths\", \"7-day rolling average\": \"7-day rolling average\"}, {\"Dates\": \"2020-04-13\", \"New_deaths\": 0, \"Rolling\": 0.14285714285714285, \"Daily confirmed deaths\": \"Daily confirmed deaths\", \"7-day rolling average\": \"7-day rolling average\"}, {\"Dates\": \"2020-04-14\", \"New_deaths\": 0, \"Rolling\": 0.0, \"Daily confirmed deaths\": \"Daily confirmed deaths\", \"7-day rolling average\": \"7-day rolling average\"}, {\"Dates\": \"2020-04-15\", \"New_deaths\": 0, \"Rolling\": 0.0, \"Daily confirmed deaths\": \"Daily confirmed deaths\", \"7-day rolling average\": \"7-day rolling average\"}, {\"Dates\": \"2020-04-16\", \"New_deaths\": 0, \"Rolling\": 0.0, \"Daily confirmed deaths\": \"Daily confirmed deaths\", \"7-day rolling average\": \"7-day rolling average\"}, {\"Dates\": \"2020-04-17\", \"New_deaths\": 0, \"Rolling\": 0.0, \"Daily confirmed deaths\": \"Daily confirmed deaths\", \"7-day rolling average\": \"7-day rolling average\"}, {\"Dates\": \"2020-04-18\", \"New_deaths\": 0, \"Rolling\": 0.0, \"Daily confirmed deaths\": \"Daily confirmed deaths\", \"7-day rolling average\": \"7-day rolling average\"}, {\"Dates\": \"2020-04-19\", \"New_deaths\": 0, \"Rolling\": 0.0, \"Daily confirmed deaths\": \"Daily confirmed deaths\", \"7-day rolling average\": \"7-day rolling average\"}, {\"Dates\": \"2020-04-20\", \"New_deaths\": 0, \"Rolling\": 0.0, \"Daily confirmed deaths\": \"Daily confirmed deaths\", \"7-day rolling average\": \"7-day rolling average\"}, {\"Dates\": \"2020-04-21\", \"New_deaths\": 0, \"Rolling\": 0.0, \"Daily confirmed deaths\": \"Daily confirmed deaths\", \"7-day rolling average\": \"7-day rolling average\"}, {\"Dates\": \"2020-04-22\", \"New_deaths\": 1, \"Rolling\": 0.14285714285714285, \"Daily confirmed deaths\": \"Daily confirmed deaths\", \"7-day rolling average\": \"7-day rolling average\"}, {\"Dates\": \"2020-04-23\", \"New_deaths\": 0, \"Rolling\": 0.14285714285714285, \"Daily confirmed deaths\": \"Daily confirmed deaths\", \"7-day rolling average\": \"7-day rolling average\"}, {\"Dates\": \"2020-04-24\", \"New_deaths\": 0, \"Rolling\": 0.14285714285714285, \"Daily confirmed deaths\": \"Daily confirmed deaths\", \"7-day rolling average\": \"7-day rolling average\"}, {\"Dates\": \"2020-04-25\", \"New_deaths\": 1, \"Rolling\": 0.2857142857142857, \"Daily confirmed deaths\": \"Daily confirmed deaths\", \"7-day rolling average\": \"7-day rolling average\"}, {\"Dates\": \"2020-04-26\", \"New_deaths\": 1, \"Rolling\": 0.42857142857142855, \"Daily confirmed deaths\": \"Daily confirmed deaths\", \"7-day rolling average\": \"7-day rolling average\"}, {\"Dates\": \"2020-04-27\", \"New_deaths\": 0, \"Rolling\": 0.42857142857142855, \"Daily confirmed deaths\": \"Daily confirmed deaths\", \"7-day rolling average\": \"7-day rolling average\"}]}}, {\"mode\": \"vega-lite\"});\n",
       "</script>"
      ],
      "text/plain": [
       "alt.LayerChart(...)"
      ]
     },
     "execution_count": 80,
     "metadata": {},
     "output_type": "execute_result"
    }
   ],
   "source": [
    "#hide_input\n",
    "bars, line = my_deaths_plot(region)\n",
    "(bars + line).properties(\n",
    "    title=f'Covid-19 in Chile: Daily confirmed deaths in {region}',\n",
    "    width=600\n",
    ")"
   ]
  },
  {
   "cell_type": "markdown",
   "metadata": {
    "papermill": {
     "duration": 0.093967,
     "end_time": "2020-04-28T06:16:38.571288",
     "exception": false,
     "start_time": "2020-04-28T06:16:38.477321",
     "status": "completed"
    },
    "tags": []
   },
   "source": [
    "## Atacama"
   ]
  },
  {
   "cell_type": "code",
   "execution_count": 81,
   "metadata": {
    "execution": {
     "iopub.execute_input": "2020-04-28T06:16:38.763129Z",
     "iopub.status.busy": "2020-04-28T06:16:38.762548Z",
     "iopub.status.idle": "2020-04-28T06:16:38.764981Z",
     "shell.execute_reply": "2020-04-28T06:16:38.764435Z"
    },
    "papermill": {
     "duration": 0.099726,
     "end_time": "2020-04-28T06:16:38.765092",
     "exception": false,
     "start_time": "2020-04-28T06:16:38.665366",
     "status": "completed"
    },
    "scrolled": true,
    "tags": []
   },
   "outputs": [],
   "source": [
    "#hide\n",
    "region = \"Atacama\""
   ]
  },
  {
   "cell_type": "code",
   "execution_count": 82,
   "metadata": {
    "execution": {
     "iopub.execute_input": "2020-04-28T06:16:38.983291Z",
     "iopub.status.busy": "2020-04-28T06:16:38.982483Z",
     "iopub.status.idle": "2020-04-28T06:16:39.004896Z",
     "shell.execute_reply": "2020-04-28T06:16:39.004361Z"
    },
    "papermill": {
     "duration": 0.145072,
     "end_time": "2020-04-28T06:16:39.005008",
     "exception": false,
     "start_time": "2020-04-28T06:16:38.859936",
     "status": "completed"
    },
    "tags": []
   },
   "outputs": [
    {
     "data": {
      "text/html": [
       "\n",
       "<div id=\"altair-viz-131796ff118b4f6ebb962ad5fb2f8075\"></div>\n",
       "<script type=\"text/javascript\">\n",
       "  (function(spec, embedOpt){\n",
       "    let outputDiv = document.currentScript.previousElementSibling;\n",
       "    if (outputDiv.id !== \"altair-viz-131796ff118b4f6ebb962ad5fb2f8075\") {\n",
       "      outputDiv = document.getElementById(\"altair-viz-131796ff118b4f6ebb962ad5fb2f8075\");\n",
       "    }\n",
       "    const paths = {\n",
       "      \"vega\": \"https://cdn.jsdelivr.net/npm//vega@5?noext\",\n",
       "      \"vega-lib\": \"https://cdn.jsdelivr.net/npm//vega-lib?noext\",\n",
       "      \"vega-lite\": \"https://cdn.jsdelivr.net/npm//vega-lite@4.8.1?noext\",\n",
       "      \"vega-embed\": \"https://cdn.jsdelivr.net/npm//vega-embed@6?noext\",\n",
       "    };\n",
       "\n",
       "    function loadScript(lib) {\n",
       "      return new Promise(function(resolve, reject) {\n",
       "        var s = document.createElement('script');\n",
       "        s.src = paths[lib];\n",
       "        s.async = true;\n",
       "        s.onload = () => resolve(paths[lib]);\n",
       "        s.onerror = () => reject(`Error loading script: ${paths[lib]}`);\n",
       "        document.getElementsByTagName(\"head\")[0].appendChild(s);\n",
       "      });\n",
       "    }\n",
       "\n",
       "    function showError(err) {\n",
       "      outputDiv.innerHTML = `<div class=\"error\" style=\"color:red;\">${err}</div>`;\n",
       "      throw err;\n",
       "    }\n",
       "\n",
       "    function displayChart(vegaEmbed) {\n",
       "      vegaEmbed(outputDiv, spec, embedOpt)\n",
       "        .catch(err => showError(`Javascript Error: ${err.message}<br>This usually means there's a typo in your chart specification. See the javascript console for the full traceback.`));\n",
       "    }\n",
       "\n",
       "    if(typeof define === \"function\" && define.amd) {\n",
       "      requirejs.config({paths});\n",
       "      require([\"vega-embed\"], displayChart, err => showError(`Error loading script: ${err.message}`));\n",
       "    } else if (typeof vegaEmbed === \"function\") {\n",
       "      displayChart(vegaEmbed);\n",
       "    } else {\n",
       "      loadScript(\"vega\")\n",
       "        .then(() => loadScript(\"vega-lite\"))\n",
       "        .then(() => loadScript(\"vega-embed\"))\n",
       "        .catch(showError)\n",
       "        .then(() => displayChart(vegaEmbed));\n",
       "    }\n",
       "  })({\"config\": {\"view\": {\"continuousWidth\": 400, \"continuousHeight\": 300}}, \"layer\": [{\"mark\": {\"type\": \"bar\", \"color\": \"firebrick\", \"opacity\": 0.7}, \"encoding\": {\"opacity\": {\"type\": \"nominal\", \"field\": \"Daily confirmed deaths\", \"legend\": {\"title\": \"\"}}, \"tooltip\": [{\"type\": \"nominal\", \"field\": \"Dates\"}, {\"type\": \"quantitative\", \"field\": \"New_deaths\"}], \"x\": {\"type\": \"nominal\", \"axis\": {\"title\": \"Date\"}, \"field\": \"Dates\"}, \"y\": {\"type\": \"quantitative\", \"axis\": {\"title\": \"Daily confirmed deaths\"}, \"field\": \"New_deaths\"}}}, {\"mark\": {\"type\": \"line\", \"color\": \"firebrick\", \"point\": {\"filled\": true, \"fill\": \"firebrick\"}}, \"encoding\": {\"shape\": {\"type\": \"nominal\", \"field\": \"7-day rolling average\", \"legend\": {\"title\": \"\"}}, \"x\": {\"type\": \"nominal\", \"axis\": {\"title\": \"Date\"}, \"field\": \"Dates\"}, \"y\": {\"type\": \"quantitative\", \"field\": \"Rolling\"}}}], \"data\": {\"name\": \"data-89564600f842dbd2546063583189a8b0\"}, \"title\": \"Covid-19 in Chile: Daily confirmed deaths in Atacama\", \"width\": 600, \"$schema\": \"https://vega.github.io/schema/vega-lite/v4.8.1.json\", \"datasets\": {\"data-89564600f842dbd2546063583189a8b0\": [{\"Dates\": \"2020-03-25\", \"New_deaths\": 0, \"Rolling\": null, \"Daily confirmed deaths\": \"Daily confirmed deaths\", \"7-day rolling average\": \"7-day rolling average\"}, {\"Dates\": \"2020-03-26\", \"New_deaths\": 0, \"Rolling\": null, \"Daily confirmed deaths\": \"Daily confirmed deaths\", \"7-day rolling average\": \"7-day rolling average\"}, {\"Dates\": \"2020-03-27\", \"New_deaths\": 0, \"Rolling\": null, \"Daily confirmed deaths\": \"Daily confirmed deaths\", \"7-day rolling average\": \"7-day rolling average\"}, {\"Dates\": \"2020-03-28\", \"New_deaths\": 0, \"Rolling\": null, \"Daily confirmed deaths\": \"Daily confirmed deaths\", \"7-day rolling average\": \"7-day rolling average\"}, {\"Dates\": \"2020-03-29\", \"New_deaths\": 0, \"Rolling\": null, \"Daily confirmed deaths\": \"Daily confirmed deaths\", \"7-day rolling average\": \"7-day rolling average\"}, {\"Dates\": \"2020-03-30\", \"New_deaths\": 0, \"Rolling\": null, \"Daily confirmed deaths\": \"Daily confirmed deaths\", \"7-day rolling average\": \"7-day rolling average\"}, {\"Dates\": \"2020-03-31\", \"New_deaths\": 0, \"Rolling\": 0.0, \"Daily confirmed deaths\": \"Daily confirmed deaths\", \"7-day rolling average\": \"7-day rolling average\"}, {\"Dates\": \"2020-04-01\", \"New_deaths\": 0, \"Rolling\": 0.0, \"Daily confirmed deaths\": \"Daily confirmed deaths\", \"7-day rolling average\": \"7-day rolling average\"}, {\"Dates\": \"2020-04-02\", \"New_deaths\": 0, \"Rolling\": 0.0, \"Daily confirmed deaths\": \"Daily confirmed deaths\", \"7-day rolling average\": \"7-day rolling average\"}, {\"Dates\": \"2020-04-03\", \"New_deaths\": 0, \"Rolling\": 0.0, \"Daily confirmed deaths\": \"Daily confirmed deaths\", \"7-day rolling average\": \"7-day rolling average\"}, {\"Dates\": \"2020-04-04\", \"New_deaths\": 0, \"Rolling\": 0.0, \"Daily confirmed deaths\": \"Daily confirmed deaths\", \"7-day rolling average\": \"7-day rolling average\"}, {\"Dates\": \"2020-04-05\", \"New_deaths\": 0, \"Rolling\": 0.0, \"Daily confirmed deaths\": \"Daily confirmed deaths\", \"7-day rolling average\": \"7-day rolling average\"}, {\"Dates\": \"2020-04-06\", \"New_deaths\": 0, \"Rolling\": 0.0, \"Daily confirmed deaths\": \"Daily confirmed deaths\", \"7-day rolling average\": \"7-day rolling average\"}, {\"Dates\": \"2020-04-07\", \"New_deaths\": 0, \"Rolling\": 0.0, \"Daily confirmed deaths\": \"Daily confirmed deaths\", \"7-day rolling average\": \"7-day rolling average\"}, {\"Dates\": \"2020-04-08\", \"New_deaths\": 0, \"Rolling\": 0.0, \"Daily confirmed deaths\": \"Daily confirmed deaths\", \"7-day rolling average\": \"7-day rolling average\"}, {\"Dates\": \"2020-04-09\", \"New_deaths\": 0, \"Rolling\": 0.0, \"Daily confirmed deaths\": \"Daily confirmed deaths\", \"7-day rolling average\": \"7-day rolling average\"}, {\"Dates\": \"2020-04-10\", \"New_deaths\": 0, \"Rolling\": 0.0, \"Daily confirmed deaths\": \"Daily confirmed deaths\", \"7-day rolling average\": \"7-day rolling average\"}, {\"Dates\": \"2020-04-11\", \"New_deaths\": 0, \"Rolling\": 0.0, \"Daily confirmed deaths\": \"Daily confirmed deaths\", \"7-day rolling average\": \"7-day rolling average\"}, {\"Dates\": \"2020-04-12\", \"New_deaths\": 0, \"Rolling\": 0.0, \"Daily confirmed deaths\": \"Daily confirmed deaths\", \"7-day rolling average\": \"7-day rolling average\"}, {\"Dates\": \"2020-04-13\", \"New_deaths\": 0, \"Rolling\": 0.0, \"Daily confirmed deaths\": \"Daily confirmed deaths\", \"7-day rolling average\": \"7-day rolling average\"}, {\"Dates\": \"2020-04-14\", \"New_deaths\": 0, \"Rolling\": 0.0, \"Daily confirmed deaths\": \"Daily confirmed deaths\", \"7-day rolling average\": \"7-day rolling average\"}, {\"Dates\": \"2020-04-15\", \"New_deaths\": 0, \"Rolling\": 0.0, \"Daily confirmed deaths\": \"Daily confirmed deaths\", \"7-day rolling average\": \"7-day rolling average\"}, {\"Dates\": \"2020-04-16\", \"New_deaths\": 0, \"Rolling\": 0.0, \"Daily confirmed deaths\": \"Daily confirmed deaths\", \"7-day rolling average\": \"7-day rolling average\"}, {\"Dates\": \"2020-04-17\", \"New_deaths\": 0, \"Rolling\": 0.0, \"Daily confirmed deaths\": \"Daily confirmed deaths\", \"7-day rolling average\": \"7-day rolling average\"}, {\"Dates\": \"2020-04-18\", \"New_deaths\": 0, \"Rolling\": 0.0, \"Daily confirmed deaths\": \"Daily confirmed deaths\", \"7-day rolling average\": \"7-day rolling average\"}, {\"Dates\": \"2020-04-19\", \"New_deaths\": 0, \"Rolling\": 0.0, \"Daily confirmed deaths\": \"Daily confirmed deaths\", \"7-day rolling average\": \"7-day rolling average\"}, {\"Dates\": \"2020-04-20\", \"New_deaths\": 0, \"Rolling\": 0.0, \"Daily confirmed deaths\": \"Daily confirmed deaths\", \"7-day rolling average\": \"7-day rolling average\"}, {\"Dates\": \"2020-04-21\", \"New_deaths\": 0, \"Rolling\": 0.0, \"Daily confirmed deaths\": \"Daily confirmed deaths\", \"7-day rolling average\": \"7-day rolling average\"}, {\"Dates\": \"2020-04-22\", \"New_deaths\": 0, \"Rolling\": 0.0, \"Daily confirmed deaths\": \"Daily confirmed deaths\", \"7-day rolling average\": \"7-day rolling average\"}, {\"Dates\": \"2020-04-23\", \"New_deaths\": 0, \"Rolling\": 0.0, \"Daily confirmed deaths\": \"Daily confirmed deaths\", \"7-day rolling average\": \"7-day rolling average\"}, {\"Dates\": \"2020-04-24\", \"New_deaths\": 0, \"Rolling\": 0.0, \"Daily confirmed deaths\": \"Daily confirmed deaths\", \"7-day rolling average\": \"7-day rolling average\"}, {\"Dates\": \"2020-04-25\", \"New_deaths\": 0, \"Rolling\": 0.0, \"Daily confirmed deaths\": \"Daily confirmed deaths\", \"7-day rolling average\": \"7-day rolling average\"}, {\"Dates\": \"2020-04-26\", \"New_deaths\": 0, \"Rolling\": 0.0, \"Daily confirmed deaths\": \"Daily confirmed deaths\", \"7-day rolling average\": \"7-day rolling average\"}, {\"Dates\": \"2020-04-27\", \"New_deaths\": 0, \"Rolling\": 0.0, \"Daily confirmed deaths\": \"Daily confirmed deaths\", \"7-day rolling average\": \"7-day rolling average\"}]}}, {\"mode\": \"vega-lite\"});\n",
       "</script>"
      ],
      "text/plain": [
       "alt.LayerChart(...)"
      ]
     },
     "execution_count": 82,
     "metadata": {},
     "output_type": "execute_result"
    }
   ],
   "source": [
    "#hide_input\n",
    "bars, line = my_deaths_plot(region)\n",
    "(bars + line).properties(\n",
    "    title=f'Covid-19 in Chile: Daily confirmed deaths in {region}',\n",
    "    width=600\n",
    ")"
   ]
  },
  {
   "cell_type": "markdown",
   "metadata": {
    "papermill": {
     "duration": 0.098298,
     "end_time": "2020-04-28T06:16:39.198796",
     "exception": false,
     "start_time": "2020-04-28T06:16:39.100498",
     "status": "completed"
    },
    "tags": []
   },
   "source": [
    "## Coquimbo"
   ]
  },
  {
   "cell_type": "code",
   "execution_count": 83,
   "metadata": {
    "execution": {
     "iopub.execute_input": "2020-04-28T06:16:39.397194Z",
     "iopub.status.busy": "2020-04-28T06:16:39.396484Z",
     "iopub.status.idle": "2020-04-28T06:16:39.397905Z",
     "shell.execute_reply": "2020-04-28T06:16:39.398491Z"
    },
    "papermill": {
     "duration": 0.101593,
     "end_time": "2020-04-28T06:16:39.398627",
     "exception": false,
     "start_time": "2020-04-28T06:16:39.297034",
     "status": "completed"
    },
    "scrolled": true,
    "tags": []
   },
   "outputs": [],
   "source": [
    "#hide\n",
    "region = \"Coquimbo\""
   ]
  },
  {
   "cell_type": "code",
   "execution_count": 84,
   "metadata": {
    "execution": {
     "iopub.execute_input": "2020-04-28T06:16:39.618362Z",
     "iopub.status.busy": "2020-04-28T06:16:39.601655Z",
     "iopub.status.idle": "2020-04-28T06:16:39.629070Z",
     "shell.execute_reply": "2020-04-28T06:16:39.629536Z"
    },
    "papermill": {
     "duration": 0.137348,
     "end_time": "2020-04-28T06:16:39.629690",
     "exception": false,
     "start_time": "2020-04-28T06:16:39.492342",
     "status": "completed"
    },
    "tags": []
   },
   "outputs": [
    {
     "data": {
      "text/html": [
       "\n",
       "<div id=\"altair-viz-98459f9aeb1b4091ac9336ec4e54409c\"></div>\n",
       "<script type=\"text/javascript\">\n",
       "  (function(spec, embedOpt){\n",
       "    let outputDiv = document.currentScript.previousElementSibling;\n",
       "    if (outputDiv.id !== \"altair-viz-98459f9aeb1b4091ac9336ec4e54409c\") {\n",
       "      outputDiv = document.getElementById(\"altair-viz-98459f9aeb1b4091ac9336ec4e54409c\");\n",
       "    }\n",
       "    const paths = {\n",
       "      \"vega\": \"https://cdn.jsdelivr.net/npm//vega@5?noext\",\n",
       "      \"vega-lib\": \"https://cdn.jsdelivr.net/npm//vega-lib?noext\",\n",
       "      \"vega-lite\": \"https://cdn.jsdelivr.net/npm//vega-lite@4.8.1?noext\",\n",
       "      \"vega-embed\": \"https://cdn.jsdelivr.net/npm//vega-embed@6?noext\",\n",
       "    };\n",
       "\n",
       "    function loadScript(lib) {\n",
       "      return new Promise(function(resolve, reject) {\n",
       "        var s = document.createElement('script');\n",
       "        s.src = paths[lib];\n",
       "        s.async = true;\n",
       "        s.onload = () => resolve(paths[lib]);\n",
       "        s.onerror = () => reject(`Error loading script: ${paths[lib]}`);\n",
       "        document.getElementsByTagName(\"head\")[0].appendChild(s);\n",
       "      });\n",
       "    }\n",
       "\n",
       "    function showError(err) {\n",
       "      outputDiv.innerHTML = `<div class=\"error\" style=\"color:red;\">${err}</div>`;\n",
       "      throw err;\n",
       "    }\n",
       "\n",
       "    function displayChart(vegaEmbed) {\n",
       "      vegaEmbed(outputDiv, spec, embedOpt)\n",
       "        .catch(err => showError(`Javascript Error: ${err.message}<br>This usually means there's a typo in your chart specification. See the javascript console for the full traceback.`));\n",
       "    }\n",
       "\n",
       "    if(typeof define === \"function\" && define.amd) {\n",
       "      requirejs.config({paths});\n",
       "      require([\"vega-embed\"], displayChart, err => showError(`Error loading script: ${err.message}`));\n",
       "    } else if (typeof vegaEmbed === \"function\") {\n",
       "      displayChart(vegaEmbed);\n",
       "    } else {\n",
       "      loadScript(\"vega\")\n",
       "        .then(() => loadScript(\"vega-lite\"))\n",
       "        .then(() => loadScript(\"vega-embed\"))\n",
       "        .catch(showError)\n",
       "        .then(() => displayChart(vegaEmbed));\n",
       "    }\n",
       "  })({\"config\": {\"view\": {\"continuousWidth\": 400, \"continuousHeight\": 300}}, \"layer\": [{\"mark\": {\"type\": \"bar\", \"color\": \"firebrick\", \"opacity\": 0.7}, \"encoding\": {\"opacity\": {\"type\": \"nominal\", \"field\": \"Daily confirmed deaths\", \"legend\": {\"title\": \"\"}}, \"tooltip\": [{\"type\": \"nominal\", \"field\": \"Dates\"}, {\"type\": \"quantitative\", \"field\": \"New_deaths\"}], \"x\": {\"type\": \"nominal\", \"axis\": {\"title\": \"Date\"}, \"field\": \"Dates\"}, \"y\": {\"type\": \"quantitative\", \"axis\": {\"title\": \"Daily confirmed deaths\"}, \"field\": \"New_deaths\"}}}, {\"mark\": {\"type\": \"line\", \"color\": \"firebrick\", \"point\": {\"filled\": true, \"fill\": \"firebrick\"}}, \"encoding\": {\"shape\": {\"type\": \"nominal\", \"field\": \"7-day rolling average\", \"legend\": {\"title\": \"\"}}, \"x\": {\"type\": \"nominal\", \"axis\": {\"title\": \"Date\"}, \"field\": \"Dates\"}, \"y\": {\"type\": \"quantitative\", \"field\": \"Rolling\"}}}], \"data\": {\"name\": \"data-89564600f842dbd2546063583189a8b0\"}, \"title\": \"Covid-19 in Chile: Daily confirmed deaths in Coquimbo\", \"width\": 600, \"$schema\": \"https://vega.github.io/schema/vega-lite/v4.8.1.json\", \"datasets\": {\"data-89564600f842dbd2546063583189a8b0\": [{\"Dates\": \"2020-03-25\", \"New_deaths\": 0, \"Rolling\": null, \"Daily confirmed deaths\": \"Daily confirmed deaths\", \"7-day rolling average\": \"7-day rolling average\"}, {\"Dates\": \"2020-03-26\", \"New_deaths\": 0, \"Rolling\": null, \"Daily confirmed deaths\": \"Daily confirmed deaths\", \"7-day rolling average\": \"7-day rolling average\"}, {\"Dates\": \"2020-03-27\", \"New_deaths\": 0, \"Rolling\": null, \"Daily confirmed deaths\": \"Daily confirmed deaths\", \"7-day rolling average\": \"7-day rolling average\"}, {\"Dates\": \"2020-03-28\", \"New_deaths\": 0, \"Rolling\": null, \"Daily confirmed deaths\": \"Daily confirmed deaths\", \"7-day rolling average\": \"7-day rolling average\"}, {\"Dates\": \"2020-03-29\", \"New_deaths\": 0, \"Rolling\": null, \"Daily confirmed deaths\": \"Daily confirmed deaths\", \"7-day rolling average\": \"7-day rolling average\"}, {\"Dates\": \"2020-03-30\", \"New_deaths\": 0, \"Rolling\": null, \"Daily confirmed deaths\": \"Daily confirmed deaths\", \"7-day rolling average\": \"7-day rolling average\"}, {\"Dates\": \"2020-03-31\", \"New_deaths\": 0, \"Rolling\": 0.0, \"Daily confirmed deaths\": \"Daily confirmed deaths\", \"7-day rolling average\": \"7-day rolling average\"}, {\"Dates\": \"2020-04-01\", \"New_deaths\": 0, \"Rolling\": 0.0, \"Daily confirmed deaths\": \"Daily confirmed deaths\", \"7-day rolling average\": \"7-day rolling average\"}, {\"Dates\": \"2020-04-02\", \"New_deaths\": 0, \"Rolling\": 0.0, \"Daily confirmed deaths\": \"Daily confirmed deaths\", \"7-day rolling average\": \"7-day rolling average\"}, {\"Dates\": \"2020-04-03\", \"New_deaths\": 0, \"Rolling\": 0.0, \"Daily confirmed deaths\": \"Daily confirmed deaths\", \"7-day rolling average\": \"7-day rolling average\"}, {\"Dates\": \"2020-04-04\", \"New_deaths\": 0, \"Rolling\": 0.0, \"Daily confirmed deaths\": \"Daily confirmed deaths\", \"7-day rolling average\": \"7-day rolling average\"}, {\"Dates\": \"2020-04-05\", \"New_deaths\": 0, \"Rolling\": 0.0, \"Daily confirmed deaths\": \"Daily confirmed deaths\", \"7-day rolling average\": \"7-day rolling average\"}, {\"Dates\": \"2020-04-06\", \"New_deaths\": 0, \"Rolling\": 0.0, \"Daily confirmed deaths\": \"Daily confirmed deaths\", \"7-day rolling average\": \"7-day rolling average\"}, {\"Dates\": \"2020-04-07\", \"New_deaths\": 0, \"Rolling\": 0.0, \"Daily confirmed deaths\": \"Daily confirmed deaths\", \"7-day rolling average\": \"7-day rolling average\"}, {\"Dates\": \"2020-04-08\", \"New_deaths\": 0, \"Rolling\": 0.0, \"Daily confirmed deaths\": \"Daily confirmed deaths\", \"7-day rolling average\": \"7-day rolling average\"}, {\"Dates\": \"2020-04-09\", \"New_deaths\": 0, \"Rolling\": 0.0, \"Daily confirmed deaths\": \"Daily confirmed deaths\", \"7-day rolling average\": \"7-day rolling average\"}, {\"Dates\": \"2020-04-10\", \"New_deaths\": 0, \"Rolling\": 0.0, \"Daily confirmed deaths\": \"Daily confirmed deaths\", \"7-day rolling average\": \"7-day rolling average\"}, {\"Dates\": \"2020-04-11\", \"New_deaths\": 0, \"Rolling\": 0.0, \"Daily confirmed deaths\": \"Daily confirmed deaths\", \"7-day rolling average\": \"7-day rolling average\"}, {\"Dates\": \"2020-04-12\", \"New_deaths\": 0, \"Rolling\": 0.0, \"Daily confirmed deaths\": \"Daily confirmed deaths\", \"7-day rolling average\": \"7-day rolling average\"}, {\"Dates\": \"2020-04-13\", \"New_deaths\": 0, \"Rolling\": 0.0, \"Daily confirmed deaths\": \"Daily confirmed deaths\", \"7-day rolling average\": \"7-day rolling average\"}, {\"Dates\": \"2020-04-14\", \"New_deaths\": 0, \"Rolling\": 0.0, \"Daily confirmed deaths\": \"Daily confirmed deaths\", \"7-day rolling average\": \"7-day rolling average\"}, {\"Dates\": \"2020-04-15\", \"New_deaths\": 0, \"Rolling\": 0.0, \"Daily confirmed deaths\": \"Daily confirmed deaths\", \"7-day rolling average\": \"7-day rolling average\"}, {\"Dates\": \"2020-04-16\", \"New_deaths\": 0, \"Rolling\": 0.0, \"Daily confirmed deaths\": \"Daily confirmed deaths\", \"7-day rolling average\": \"7-day rolling average\"}, {\"Dates\": \"2020-04-17\", \"New_deaths\": 0, \"Rolling\": 0.0, \"Daily confirmed deaths\": \"Daily confirmed deaths\", \"7-day rolling average\": \"7-day rolling average\"}, {\"Dates\": \"2020-04-18\", \"New_deaths\": 0, \"Rolling\": 0.0, \"Daily confirmed deaths\": \"Daily confirmed deaths\", \"7-day rolling average\": \"7-day rolling average\"}, {\"Dates\": \"2020-04-19\", \"New_deaths\": 0, \"Rolling\": 0.0, \"Daily confirmed deaths\": \"Daily confirmed deaths\", \"7-day rolling average\": \"7-day rolling average\"}, {\"Dates\": \"2020-04-20\", \"New_deaths\": 0, \"Rolling\": 0.0, \"Daily confirmed deaths\": \"Daily confirmed deaths\", \"7-day rolling average\": \"7-day rolling average\"}, {\"Dates\": \"2020-04-21\", \"New_deaths\": 0, \"Rolling\": 0.0, \"Daily confirmed deaths\": \"Daily confirmed deaths\", \"7-day rolling average\": \"7-day rolling average\"}, {\"Dates\": \"2020-04-22\", \"New_deaths\": 0, \"Rolling\": 0.0, \"Daily confirmed deaths\": \"Daily confirmed deaths\", \"7-day rolling average\": \"7-day rolling average\"}, {\"Dates\": \"2020-04-23\", \"New_deaths\": 0, \"Rolling\": 0.0, \"Daily confirmed deaths\": \"Daily confirmed deaths\", \"7-day rolling average\": \"7-day rolling average\"}, {\"Dates\": \"2020-04-24\", \"New_deaths\": 0, \"Rolling\": 0.0, \"Daily confirmed deaths\": \"Daily confirmed deaths\", \"7-day rolling average\": \"7-day rolling average\"}, {\"Dates\": \"2020-04-25\", \"New_deaths\": 0, \"Rolling\": 0.0, \"Daily confirmed deaths\": \"Daily confirmed deaths\", \"7-day rolling average\": \"7-day rolling average\"}, {\"Dates\": \"2020-04-26\", \"New_deaths\": 0, \"Rolling\": 0.0, \"Daily confirmed deaths\": \"Daily confirmed deaths\", \"7-day rolling average\": \"7-day rolling average\"}, {\"Dates\": \"2020-04-27\", \"New_deaths\": 0, \"Rolling\": 0.0, \"Daily confirmed deaths\": \"Daily confirmed deaths\", \"7-day rolling average\": \"7-day rolling average\"}]}}, {\"mode\": \"vega-lite\"});\n",
       "</script>"
      ],
      "text/plain": [
       "alt.LayerChart(...)"
      ]
     },
     "execution_count": 84,
     "metadata": {},
     "output_type": "execute_result"
    }
   ],
   "source": [
    "#hide_input\n",
    "bars, line = my_deaths_plot(region)\n",
    "(bars + line).properties(\n",
    "    title=f'Covid-19 in Chile: Daily confirmed deaths in {region}',\n",
    "    width=600\n",
    ")"
   ]
  },
  {
   "cell_type": "markdown",
   "metadata": {
    "papermill": {
     "duration": 0.09275,
     "end_time": "2020-04-28T06:16:39.822110",
     "exception": false,
     "start_time": "2020-04-28T06:16:39.729360",
     "status": "completed"
    },
    "tags": []
   },
   "source": [
    "## Valparaíso"
   ]
  },
  {
   "cell_type": "code",
   "execution_count": 85,
   "metadata": {
    "execution": {
     "iopub.execute_input": "2020-04-28T06:16:40.025285Z",
     "iopub.status.busy": "2020-04-28T06:16:40.024649Z",
     "iopub.status.idle": "2020-04-28T06:16:40.026630Z",
     "shell.execute_reply": "2020-04-28T06:16:40.027181Z"
    },
    "papermill": {
     "duration": 0.10971,
     "end_time": "2020-04-28T06:16:40.027388",
     "exception": false,
     "start_time": "2020-04-28T06:16:39.917678",
     "status": "completed"
    },
    "scrolled": false,
    "tags": []
   },
   "outputs": [],
   "source": [
    "#hide\n",
    "region = \"Valparaíso\""
   ]
  },
  {
   "cell_type": "code",
   "execution_count": 86,
   "metadata": {
    "execution": {
     "iopub.execute_input": "2020-04-28T06:16:40.254316Z",
     "iopub.status.busy": "2020-04-28T06:16:40.253597Z",
     "iopub.status.idle": "2020-04-28T06:16:40.271885Z",
     "shell.execute_reply": "2020-04-28T06:16:40.272350Z"
    },
    "papermill": {
     "duration": 0.145418,
     "end_time": "2020-04-28T06:16:40.272487",
     "exception": false,
     "start_time": "2020-04-28T06:16:40.127069",
     "status": "completed"
    },
    "tags": []
   },
   "outputs": [
    {
     "data": {
      "text/html": [
       "\n",
       "<div id=\"altair-viz-3a0c3360e09240ff98a3171078ce65a6\"></div>\n",
       "<script type=\"text/javascript\">\n",
       "  (function(spec, embedOpt){\n",
       "    let outputDiv = document.currentScript.previousElementSibling;\n",
       "    if (outputDiv.id !== \"altair-viz-3a0c3360e09240ff98a3171078ce65a6\") {\n",
       "      outputDiv = document.getElementById(\"altair-viz-3a0c3360e09240ff98a3171078ce65a6\");\n",
       "    }\n",
       "    const paths = {\n",
       "      \"vega\": \"https://cdn.jsdelivr.net/npm//vega@5?noext\",\n",
       "      \"vega-lib\": \"https://cdn.jsdelivr.net/npm//vega-lib?noext\",\n",
       "      \"vega-lite\": \"https://cdn.jsdelivr.net/npm//vega-lite@4.8.1?noext\",\n",
       "      \"vega-embed\": \"https://cdn.jsdelivr.net/npm//vega-embed@6?noext\",\n",
       "    };\n",
       "\n",
       "    function loadScript(lib) {\n",
       "      return new Promise(function(resolve, reject) {\n",
       "        var s = document.createElement('script');\n",
       "        s.src = paths[lib];\n",
       "        s.async = true;\n",
       "        s.onload = () => resolve(paths[lib]);\n",
       "        s.onerror = () => reject(`Error loading script: ${paths[lib]}`);\n",
       "        document.getElementsByTagName(\"head\")[0].appendChild(s);\n",
       "      });\n",
       "    }\n",
       "\n",
       "    function showError(err) {\n",
       "      outputDiv.innerHTML = `<div class=\"error\" style=\"color:red;\">${err}</div>`;\n",
       "      throw err;\n",
       "    }\n",
       "\n",
       "    function displayChart(vegaEmbed) {\n",
       "      vegaEmbed(outputDiv, spec, embedOpt)\n",
       "        .catch(err => showError(`Javascript Error: ${err.message}<br>This usually means there's a typo in your chart specification. See the javascript console for the full traceback.`));\n",
       "    }\n",
       "\n",
       "    if(typeof define === \"function\" && define.amd) {\n",
       "      requirejs.config({paths});\n",
       "      require([\"vega-embed\"], displayChart, err => showError(`Error loading script: ${err.message}`));\n",
       "    } else if (typeof vegaEmbed === \"function\") {\n",
       "      displayChart(vegaEmbed);\n",
       "    } else {\n",
       "      loadScript(\"vega\")\n",
       "        .then(() => loadScript(\"vega-lite\"))\n",
       "        .then(() => loadScript(\"vega-embed\"))\n",
       "        .catch(showError)\n",
       "        .then(() => displayChart(vegaEmbed));\n",
       "    }\n",
       "  })({\"config\": {\"view\": {\"continuousWidth\": 400, \"continuousHeight\": 300}}, \"layer\": [{\"mark\": {\"type\": \"bar\", \"color\": \"firebrick\", \"opacity\": 0.7}, \"encoding\": {\"opacity\": {\"type\": \"nominal\", \"field\": \"Daily confirmed deaths\", \"legend\": {\"title\": \"\"}}, \"tooltip\": [{\"type\": \"nominal\", \"field\": \"Dates\"}, {\"type\": \"quantitative\", \"field\": \"New_deaths\"}], \"x\": {\"type\": \"nominal\", \"axis\": {\"title\": \"Date\"}, \"field\": \"Dates\"}, \"y\": {\"type\": \"quantitative\", \"axis\": {\"title\": \"Daily confirmed deaths\"}, \"field\": \"New_deaths\"}}}, {\"mark\": {\"type\": \"line\", \"color\": \"firebrick\", \"point\": {\"filled\": true, \"fill\": \"firebrick\"}}, \"encoding\": {\"shape\": {\"type\": \"nominal\", \"field\": \"7-day rolling average\", \"legend\": {\"title\": \"\"}}, \"x\": {\"type\": \"nominal\", \"axis\": {\"title\": \"Date\"}, \"field\": \"Dates\"}, \"y\": {\"type\": \"quantitative\", \"field\": \"Rolling\"}}}], \"data\": {\"name\": \"data-3ccbbd59cd3afed9b55bd90806fed201\"}, \"title\": \"Covid-19 in Chile: Daily confirmed deaths in Valpara\\u00edso\", \"width\": 600, \"$schema\": \"https://vega.github.io/schema/vega-lite/v4.8.1.json\", \"datasets\": {\"data-3ccbbd59cd3afed9b55bd90806fed201\": [{\"Dates\": \"2020-03-25\", \"New_deaths\": 0, \"Rolling\": null, \"Daily confirmed deaths\": \"Daily confirmed deaths\", \"7-day rolling average\": \"7-day rolling average\"}, {\"Dates\": \"2020-03-26\", \"New_deaths\": 0, \"Rolling\": null, \"Daily confirmed deaths\": \"Daily confirmed deaths\", \"7-day rolling average\": \"7-day rolling average\"}, {\"Dates\": \"2020-03-27\", \"New_deaths\": 0, \"Rolling\": null, \"Daily confirmed deaths\": \"Daily confirmed deaths\", \"7-day rolling average\": \"7-day rolling average\"}, {\"Dates\": \"2020-03-28\", \"New_deaths\": 0, \"Rolling\": null, \"Daily confirmed deaths\": \"Daily confirmed deaths\", \"7-day rolling average\": \"7-day rolling average\"}, {\"Dates\": \"2020-03-29\", \"New_deaths\": 0, \"Rolling\": null, \"Daily confirmed deaths\": \"Daily confirmed deaths\", \"7-day rolling average\": \"7-day rolling average\"}, {\"Dates\": \"2020-03-30\", \"New_deaths\": 0, \"Rolling\": null, \"Daily confirmed deaths\": \"Daily confirmed deaths\", \"7-day rolling average\": \"7-day rolling average\"}, {\"Dates\": \"2020-03-31\", \"New_deaths\": 1, \"Rolling\": 0.14285714285714285, \"Daily confirmed deaths\": \"Daily confirmed deaths\", \"7-day rolling average\": \"7-day rolling average\"}, {\"Dates\": \"2020-04-01\", \"New_deaths\": 0, \"Rolling\": 0.14285714285714285, \"Daily confirmed deaths\": \"Daily confirmed deaths\", \"7-day rolling average\": \"7-day rolling average\"}, {\"Dates\": \"2020-04-02\", \"New_deaths\": 0, \"Rolling\": 0.14285714285714285, \"Daily confirmed deaths\": \"Daily confirmed deaths\", \"7-day rolling average\": \"7-day rolling average\"}, {\"Dates\": \"2020-04-03\", \"New_deaths\": 0, \"Rolling\": 0.14285714285714285, \"Daily confirmed deaths\": \"Daily confirmed deaths\", \"7-day rolling average\": \"7-day rolling average\"}, {\"Dates\": \"2020-04-04\", \"New_deaths\": 0, \"Rolling\": 0.14285714285714285, \"Daily confirmed deaths\": \"Daily confirmed deaths\", \"7-day rolling average\": \"7-day rolling average\"}, {\"Dates\": \"2020-04-05\", \"New_deaths\": 0, \"Rolling\": 0.14285714285714285, \"Daily confirmed deaths\": \"Daily confirmed deaths\", \"7-day rolling average\": \"7-day rolling average\"}, {\"Dates\": \"2020-04-06\", \"New_deaths\": 0, \"Rolling\": 0.14285714285714285, \"Daily confirmed deaths\": \"Daily confirmed deaths\", \"7-day rolling average\": \"7-day rolling average\"}, {\"Dates\": \"2020-04-07\", \"New_deaths\": 0, \"Rolling\": 0.0, \"Daily confirmed deaths\": \"Daily confirmed deaths\", \"7-day rolling average\": \"7-day rolling average\"}, {\"Dates\": \"2020-04-08\", \"New_deaths\": 1, \"Rolling\": 0.14285714285714285, \"Daily confirmed deaths\": \"Daily confirmed deaths\", \"7-day rolling average\": \"7-day rolling average\"}, {\"Dates\": \"2020-04-09\", \"New_deaths\": 0, \"Rolling\": 0.14285714285714285, \"Daily confirmed deaths\": \"Daily confirmed deaths\", \"7-day rolling average\": \"7-day rolling average\"}, {\"Dates\": \"2020-04-10\", \"New_deaths\": 0, \"Rolling\": 0.14285714285714285, \"Daily confirmed deaths\": \"Daily confirmed deaths\", \"7-day rolling average\": \"7-day rolling average\"}, {\"Dates\": \"2020-04-11\", \"New_deaths\": 0, \"Rolling\": 0.14285714285714285, \"Daily confirmed deaths\": \"Daily confirmed deaths\", \"7-day rolling average\": \"7-day rolling average\"}, {\"Dates\": \"2020-04-12\", \"New_deaths\": 0, \"Rolling\": 0.14285714285714285, \"Daily confirmed deaths\": \"Daily confirmed deaths\", \"7-day rolling average\": \"7-day rolling average\"}, {\"Dates\": \"2020-04-13\", \"New_deaths\": 0, \"Rolling\": 0.14285714285714285, \"Daily confirmed deaths\": \"Daily confirmed deaths\", \"7-day rolling average\": \"7-day rolling average\"}, {\"Dates\": \"2020-04-14\", \"New_deaths\": 0, \"Rolling\": 0.14285714285714285, \"Daily confirmed deaths\": \"Daily confirmed deaths\", \"7-day rolling average\": \"7-day rolling average\"}, {\"Dates\": \"2020-04-15\", \"New_deaths\": 0, \"Rolling\": 0.0, \"Daily confirmed deaths\": \"Daily confirmed deaths\", \"7-day rolling average\": \"7-day rolling average\"}, {\"Dates\": \"2020-04-16\", \"New_deaths\": 2, \"Rolling\": 0.2857142857142857, \"Daily confirmed deaths\": \"Daily confirmed deaths\", \"7-day rolling average\": \"7-day rolling average\"}, {\"Dates\": \"2020-04-17\", \"New_deaths\": 0, \"Rolling\": 0.2857142857142857, \"Daily confirmed deaths\": \"Daily confirmed deaths\", \"7-day rolling average\": \"7-day rolling average\"}, {\"Dates\": \"2020-04-18\", \"New_deaths\": 0, \"Rolling\": 0.2857142857142857, \"Daily confirmed deaths\": \"Daily confirmed deaths\", \"7-day rolling average\": \"7-day rolling average\"}, {\"Dates\": \"2020-04-19\", \"New_deaths\": 1, \"Rolling\": 0.42857142857142855, \"Daily confirmed deaths\": \"Daily confirmed deaths\", \"7-day rolling average\": \"7-day rolling average\"}, {\"Dates\": \"2020-04-20\", \"New_deaths\": 0, \"Rolling\": 0.42857142857142855, \"Daily confirmed deaths\": \"Daily confirmed deaths\", \"7-day rolling average\": \"7-day rolling average\"}, {\"Dates\": \"2020-04-21\", \"New_deaths\": 1, \"Rolling\": 0.5714285714285714, \"Daily confirmed deaths\": \"Daily confirmed deaths\", \"7-day rolling average\": \"7-day rolling average\"}, {\"Dates\": \"2020-04-22\", \"New_deaths\": 1, \"Rolling\": 0.7142857142857143, \"Daily confirmed deaths\": \"Daily confirmed deaths\", \"7-day rolling average\": \"7-day rolling average\"}, {\"Dates\": \"2020-04-23\", \"New_deaths\": 0, \"Rolling\": 0.42857142857142855, \"Daily confirmed deaths\": \"Daily confirmed deaths\", \"7-day rolling average\": \"7-day rolling average\"}, {\"Dates\": \"2020-04-24\", \"New_deaths\": 1, \"Rolling\": 0.5714285714285714, \"Daily confirmed deaths\": \"Daily confirmed deaths\", \"7-day rolling average\": \"7-day rolling average\"}, {\"Dates\": \"2020-04-25\", \"New_deaths\": 1, \"Rolling\": 0.7142857142857143, \"Daily confirmed deaths\": \"Daily confirmed deaths\", \"7-day rolling average\": \"7-day rolling average\"}, {\"Dates\": \"2020-04-26\", \"New_deaths\": 0, \"Rolling\": 0.5714285714285714, \"Daily confirmed deaths\": \"Daily confirmed deaths\", \"7-day rolling average\": \"7-day rolling average\"}, {\"Dates\": \"2020-04-27\", \"New_deaths\": 0, \"Rolling\": 0.5714285714285714, \"Daily confirmed deaths\": \"Daily confirmed deaths\", \"7-day rolling average\": \"7-day rolling average\"}]}}, {\"mode\": \"vega-lite\"});\n",
       "</script>"
      ],
      "text/plain": [
       "alt.LayerChart(...)"
      ]
     },
     "execution_count": 86,
     "metadata": {},
     "output_type": "execute_result"
    }
   ],
   "source": [
    "#hide_input\n",
    "bars, line = my_deaths_plot(region)\n",
    "(bars + line).properties(\n",
    "    title=f'Covid-19 in Chile: Daily confirmed deaths in {region}',\n",
    "    width=600\n",
    ")"
   ]
  },
  {
   "cell_type": "markdown",
   "metadata": {
    "papermill": {
     "duration": 0.096853,
     "end_time": "2020-04-28T06:16:40.471512",
     "exception": false,
     "start_time": "2020-04-28T06:16:40.374659",
     "status": "completed"
    },
    "tags": []
   },
   "source": [
    "## Metropolitana"
   ]
  },
  {
   "cell_type": "code",
   "execution_count": 87,
   "metadata": {
    "execution": {
     "iopub.execute_input": "2020-04-28T06:16:40.666539Z",
     "iopub.status.busy": "2020-04-28T06:16:40.665946Z",
     "iopub.status.idle": "2020-04-28T06:16:40.667863Z",
     "shell.execute_reply": "2020-04-28T06:16:40.668328Z"
    },
    "papermill": {
     "duration": 0.101422,
     "end_time": "2020-04-28T06:16:40.668454",
     "exception": false,
     "start_time": "2020-04-28T06:16:40.567032",
     "status": "completed"
    },
    "scrolled": true,
    "tags": []
   },
   "outputs": [],
   "source": [
    "#hide\n",
    "region = \"Metropolitana\""
   ]
  },
  {
   "cell_type": "code",
   "execution_count": 88,
   "metadata": {
    "execution": {
     "iopub.execute_input": "2020-04-28T06:16:40.880947Z",
     "iopub.status.busy": "2020-04-28T06:16:40.866254Z",
     "iopub.status.idle": "2020-04-28T06:16:40.905158Z",
     "shell.execute_reply": "2020-04-28T06:16:40.905841Z"
    },
    "papermill": {
     "duration": 0.143073,
     "end_time": "2020-04-28T06:16:40.905983",
     "exception": false,
     "start_time": "2020-04-28T06:16:40.762910",
     "status": "completed"
    },
    "tags": []
   },
   "outputs": [
    {
     "data": {
      "text/html": [
       "\n",
       "<div id=\"altair-viz-bf4bbf43c75640e989dac69c16ba27b9\"></div>\n",
       "<script type=\"text/javascript\">\n",
       "  (function(spec, embedOpt){\n",
       "    let outputDiv = document.currentScript.previousElementSibling;\n",
       "    if (outputDiv.id !== \"altair-viz-bf4bbf43c75640e989dac69c16ba27b9\") {\n",
       "      outputDiv = document.getElementById(\"altair-viz-bf4bbf43c75640e989dac69c16ba27b9\");\n",
       "    }\n",
       "    const paths = {\n",
       "      \"vega\": \"https://cdn.jsdelivr.net/npm//vega@5?noext\",\n",
       "      \"vega-lib\": \"https://cdn.jsdelivr.net/npm//vega-lib?noext\",\n",
       "      \"vega-lite\": \"https://cdn.jsdelivr.net/npm//vega-lite@4.8.1?noext\",\n",
       "      \"vega-embed\": \"https://cdn.jsdelivr.net/npm//vega-embed@6?noext\",\n",
       "    };\n",
       "\n",
       "    function loadScript(lib) {\n",
       "      return new Promise(function(resolve, reject) {\n",
       "        var s = document.createElement('script');\n",
       "        s.src = paths[lib];\n",
       "        s.async = true;\n",
       "        s.onload = () => resolve(paths[lib]);\n",
       "        s.onerror = () => reject(`Error loading script: ${paths[lib]}`);\n",
       "        document.getElementsByTagName(\"head\")[0].appendChild(s);\n",
       "      });\n",
       "    }\n",
       "\n",
       "    function showError(err) {\n",
       "      outputDiv.innerHTML = `<div class=\"error\" style=\"color:red;\">${err}</div>`;\n",
       "      throw err;\n",
       "    }\n",
       "\n",
       "    function displayChart(vegaEmbed) {\n",
       "      vegaEmbed(outputDiv, spec, embedOpt)\n",
       "        .catch(err => showError(`Javascript Error: ${err.message}<br>This usually means there's a typo in your chart specification. See the javascript console for the full traceback.`));\n",
       "    }\n",
       "\n",
       "    if(typeof define === \"function\" && define.amd) {\n",
       "      requirejs.config({paths});\n",
       "      require([\"vega-embed\"], displayChart, err => showError(`Error loading script: ${err.message}`));\n",
       "    } else if (typeof vegaEmbed === \"function\") {\n",
       "      displayChart(vegaEmbed);\n",
       "    } else {\n",
       "      loadScript(\"vega\")\n",
       "        .then(() => loadScript(\"vega-lite\"))\n",
       "        .then(() => loadScript(\"vega-embed\"))\n",
       "        .catch(showError)\n",
       "        .then(() => displayChart(vegaEmbed));\n",
       "    }\n",
       "  })({\"config\": {\"view\": {\"continuousWidth\": 400, \"continuousHeight\": 300}}, \"layer\": [{\"mark\": {\"type\": \"bar\", \"color\": \"firebrick\", \"opacity\": 0.7}, \"encoding\": {\"opacity\": {\"type\": \"nominal\", \"field\": \"Daily confirmed deaths\", \"legend\": {\"title\": \"\"}}, \"tooltip\": [{\"type\": \"nominal\", \"field\": \"Dates\"}, {\"type\": \"quantitative\", \"field\": \"New_deaths\"}], \"x\": {\"type\": \"nominal\", \"axis\": {\"title\": \"Date\"}, \"field\": \"Dates\"}, \"y\": {\"type\": \"quantitative\", \"axis\": {\"title\": \"Daily confirmed deaths\"}, \"field\": \"New_deaths\"}}}, {\"mark\": {\"type\": \"line\", \"color\": \"firebrick\", \"point\": {\"filled\": true, \"fill\": \"firebrick\"}}, \"encoding\": {\"shape\": {\"type\": \"nominal\", \"field\": \"7-day rolling average\", \"legend\": {\"title\": \"\"}}, \"x\": {\"type\": \"nominal\", \"axis\": {\"title\": \"Date\"}, \"field\": \"Dates\"}, \"y\": {\"type\": \"quantitative\", \"field\": \"Rolling\"}}}], \"data\": {\"name\": \"data-696474af79d73e1becf80420a186967e\"}, \"title\": \"Covid-19 in Chile: Daily confirmed deaths in Metropolitana\", \"width\": 600, \"$schema\": \"https://vega.github.io/schema/vega-lite/v4.8.1.json\", \"datasets\": {\"data-696474af79d73e1becf80420a186967e\": [{\"Dates\": \"2020-03-25\", \"New_deaths\": 0, \"Rolling\": null, \"Daily confirmed deaths\": \"Daily confirmed deaths\", \"7-day rolling average\": \"7-day rolling average\"}, {\"Dates\": \"2020-03-26\", \"New_deaths\": 1, \"Rolling\": null, \"Daily confirmed deaths\": \"Daily confirmed deaths\", \"7-day rolling average\": \"7-day rolling average\"}, {\"Dates\": \"2020-03-27\", \"New_deaths\": 0, \"Rolling\": null, \"Daily confirmed deaths\": \"Daily confirmed deaths\", \"7-day rolling average\": \"7-day rolling average\"}, {\"Dates\": \"2020-03-28\", \"New_deaths\": 0, \"Rolling\": null, \"Daily confirmed deaths\": \"Daily confirmed deaths\", \"7-day rolling average\": \"7-day rolling average\"}, {\"Dates\": \"2020-03-29\", \"New_deaths\": 0, \"Rolling\": null, \"Daily confirmed deaths\": \"Daily confirmed deaths\", \"7-day rolling average\": \"7-day rolling average\"}, {\"Dates\": \"2020-03-30\", \"New_deaths\": 0, \"Rolling\": null, \"Daily confirmed deaths\": \"Daily confirmed deaths\", \"7-day rolling average\": \"7-day rolling average\"}, {\"Dates\": \"2020-03-31\", \"New_deaths\": 1, \"Rolling\": 0.2857142857142857, \"Daily confirmed deaths\": \"Daily confirmed deaths\", \"7-day rolling average\": \"7-day rolling average\"}, {\"Dates\": \"2020-04-01\", \"New_deaths\": 1, \"Rolling\": 0.42857142857142855, \"Daily confirmed deaths\": \"Daily confirmed deaths\", \"7-day rolling average\": \"7-day rolling average\"}, {\"Dates\": \"2020-04-02\", \"New_deaths\": 1, \"Rolling\": 0.42857142857142855, \"Daily confirmed deaths\": \"Daily confirmed deaths\", \"7-day rolling average\": \"7-day rolling average\"}, {\"Dates\": \"2020-04-03\", \"New_deaths\": 2, \"Rolling\": 0.7142857142857143, \"Daily confirmed deaths\": \"Daily confirmed deaths\", \"7-day rolling average\": \"7-day rolling average\"}, {\"Dates\": \"2020-04-04\", \"New_deaths\": 1, \"Rolling\": 0.8571428571428571, \"Daily confirmed deaths\": \"Daily confirmed deaths\", \"7-day rolling average\": \"7-day rolling average\"}, {\"Dates\": \"2020-04-05\", \"New_deaths\": 1, \"Rolling\": 1.0, \"Daily confirmed deaths\": \"Daily confirmed deaths\", \"7-day rolling average\": \"7-day rolling average\"}, {\"Dates\": \"2020-04-06\", \"New_deaths\": 0, \"Rolling\": 1.0, \"Daily confirmed deaths\": \"Daily confirmed deaths\", \"7-day rolling average\": \"7-day rolling average\"}, {\"Dates\": \"2020-04-07\", \"New_deaths\": 2, \"Rolling\": 1.1428571428571428, \"Daily confirmed deaths\": \"Daily confirmed deaths\", \"7-day rolling average\": \"7-day rolling average\"}, {\"Dates\": \"2020-04-08\", \"New_deaths\": 2, \"Rolling\": 1.2857142857142858, \"Daily confirmed deaths\": \"Daily confirmed deaths\", \"7-day rolling average\": \"7-day rolling average\"}, {\"Dates\": \"2020-04-09\", \"New_deaths\": 7, \"Rolling\": 2.142857142857143, \"Daily confirmed deaths\": \"Daily confirmed deaths\", \"7-day rolling average\": \"7-day rolling average\"}, {\"Dates\": \"2020-04-10\", \"New_deaths\": 8, \"Rolling\": 3.0, \"Daily confirmed deaths\": \"Daily confirmed deaths\", \"7-day rolling average\": \"7-day rolling average\"}, {\"Dates\": \"2020-04-11\", \"New_deaths\": 3, \"Rolling\": 3.2857142857142856, \"Daily confirmed deaths\": \"Daily confirmed deaths\", \"7-day rolling average\": \"7-day rolling average\"}, {\"Dates\": \"2020-04-12\", \"New_deaths\": 3, \"Rolling\": 3.5714285714285716, \"Daily confirmed deaths\": \"Daily confirmed deaths\", \"7-day rolling average\": \"7-day rolling average\"}, {\"Dates\": \"2020-04-13\", \"New_deaths\": 1, \"Rolling\": 3.7142857142857144, \"Daily confirmed deaths\": \"Daily confirmed deaths\", \"7-day rolling average\": \"7-day rolling average\"}, {\"Dates\": \"2020-04-14\", \"New_deaths\": 4, \"Rolling\": 4.0, \"Daily confirmed deaths\": \"Daily confirmed deaths\", \"7-day rolling average\": \"7-day rolling average\"}, {\"Dates\": \"2020-04-15\", \"New_deaths\": 1, \"Rolling\": 3.857142857142857, \"Daily confirmed deaths\": \"Daily confirmed deaths\", \"7-day rolling average\": \"7-day rolling average\"}, {\"Dates\": \"2020-04-16\", \"New_deaths\": 7, \"Rolling\": 3.857142857142857, \"Daily confirmed deaths\": \"Daily confirmed deaths\", \"7-day rolling average\": \"7-day rolling average\"}, {\"Dates\": \"2020-04-17\", \"New_deaths\": 3, \"Rolling\": 3.142857142857143, \"Daily confirmed deaths\": \"Daily confirmed deaths\", \"7-day rolling average\": \"7-day rolling average\"}, {\"Dates\": \"2020-04-18\", \"New_deaths\": 7, \"Rolling\": 3.7142857142857144, \"Daily confirmed deaths\": \"Daily confirmed deaths\", \"7-day rolling average\": \"7-day rolling average\"}, {\"Dates\": \"2020-04-19\", \"New_deaths\": 5, \"Rolling\": 4.0, \"Daily confirmed deaths\": \"Daily confirmed deaths\", \"7-day rolling average\": \"7-day rolling average\"}, {\"Dates\": \"2020-04-20\", \"New_deaths\": 4, \"Rolling\": 4.428571428571429, \"Daily confirmed deaths\": \"Daily confirmed deaths\", \"7-day rolling average\": \"7-day rolling average\"}, {\"Dates\": \"2020-04-21\", \"New_deaths\": 2, \"Rolling\": 4.142857142857143, \"Daily confirmed deaths\": \"Daily confirmed deaths\", \"7-day rolling average\": \"7-day rolling average\"}, {\"Dates\": \"2020-04-22\", \"New_deaths\": 9, \"Rolling\": 5.285714285714286, \"Daily confirmed deaths\": \"Daily confirmed deaths\", \"7-day rolling average\": \"7-day rolling average\"}, {\"Dates\": \"2020-04-23\", \"New_deaths\": 7, \"Rolling\": 5.285714285714286, \"Daily confirmed deaths\": \"Daily confirmed deaths\", \"7-day rolling average\": \"7-day rolling average\"}, {\"Dates\": \"2020-04-24\", \"New_deaths\": 1, \"Rolling\": 5.0, \"Daily confirmed deaths\": \"Daily confirmed deaths\", \"7-day rolling average\": \"7-day rolling average\"}, {\"Dates\": \"2020-04-25\", \"New_deaths\": 3, \"Rolling\": 4.428571428571429, \"Daily confirmed deaths\": \"Daily confirmed deaths\", \"7-day rolling average\": \"7-day rolling average\"}, {\"Dates\": \"2020-04-26\", \"New_deaths\": 2, \"Rolling\": 4.0, \"Daily confirmed deaths\": \"Daily confirmed deaths\", \"7-day rolling average\": \"7-day rolling average\"}, {\"Dates\": \"2020-04-27\", \"New_deaths\": 4, \"Rolling\": 4.0, \"Daily confirmed deaths\": \"Daily confirmed deaths\", \"7-day rolling average\": \"7-day rolling average\"}]}}, {\"mode\": \"vega-lite\"});\n",
       "</script>"
      ],
      "text/plain": [
       "alt.LayerChart(...)"
      ]
     },
     "execution_count": 88,
     "metadata": {},
     "output_type": "execute_result"
    }
   ],
   "source": [
    "#hide_input\n",
    "bars, line = my_deaths_plot(region)\n",
    "(bars + line).properties(\n",
    "    title=f'Covid-19 in Chile: Daily confirmed deaths in {region}',\n",
    "    width=600\n",
    ")"
   ]
  },
  {
   "cell_type": "markdown",
   "metadata": {
    "papermill": {
     "duration": 0.097018,
     "end_time": "2020-04-28T06:16:41.104151",
     "exception": false,
     "start_time": "2020-04-28T06:16:41.007133",
     "status": "completed"
    },
    "tags": []
   },
   "source": [
    "## O’Higgins"
   ]
  },
  {
   "cell_type": "code",
   "execution_count": 89,
   "metadata": {
    "execution": {
     "iopub.execute_input": "2020-04-28T06:16:41.304312Z",
     "iopub.status.busy": "2020-04-28T06:16:41.303718Z",
     "iopub.status.idle": "2020-04-28T06:16:41.305896Z",
     "shell.execute_reply": "2020-04-28T06:16:41.305408Z"
    },
    "papermill": {
     "duration": 0.104972,
     "end_time": "2020-04-28T06:16:41.306003",
     "exception": false,
     "start_time": "2020-04-28T06:16:41.201031",
     "status": "completed"
    },
    "scrolled": true,
    "tags": []
   },
   "outputs": [],
   "source": [
    "#hide\n",
    "region = \"O’Higgins\""
   ]
  },
  {
   "cell_type": "code",
   "execution_count": 90,
   "metadata": {
    "execution": {
     "iopub.execute_input": "2020-04-28T06:16:41.514228Z",
     "iopub.status.busy": "2020-04-28T06:16:41.513647Z",
     "iopub.status.idle": "2020-04-28T06:16:41.549695Z",
     "shell.execute_reply": "2020-04-28T06:16:41.550464Z"
    },
    "papermill": {
     "duration": 0.145913,
     "end_time": "2020-04-28T06:16:41.550613",
     "exception": false,
     "start_time": "2020-04-28T06:16:41.404700",
     "status": "completed"
    },
    "tags": []
   },
   "outputs": [
    {
     "data": {
      "text/html": [
       "\n",
       "<div id=\"altair-viz-9f2b58096c824919a42ed730bcdcb7ab\"></div>\n",
       "<script type=\"text/javascript\">\n",
       "  (function(spec, embedOpt){\n",
       "    let outputDiv = document.currentScript.previousElementSibling;\n",
       "    if (outputDiv.id !== \"altair-viz-9f2b58096c824919a42ed730bcdcb7ab\") {\n",
       "      outputDiv = document.getElementById(\"altair-viz-9f2b58096c824919a42ed730bcdcb7ab\");\n",
       "    }\n",
       "    const paths = {\n",
       "      \"vega\": \"https://cdn.jsdelivr.net/npm//vega@5?noext\",\n",
       "      \"vega-lib\": \"https://cdn.jsdelivr.net/npm//vega-lib?noext\",\n",
       "      \"vega-lite\": \"https://cdn.jsdelivr.net/npm//vega-lite@4.8.1?noext\",\n",
       "      \"vega-embed\": \"https://cdn.jsdelivr.net/npm//vega-embed@6?noext\",\n",
       "    };\n",
       "\n",
       "    function loadScript(lib) {\n",
       "      return new Promise(function(resolve, reject) {\n",
       "        var s = document.createElement('script');\n",
       "        s.src = paths[lib];\n",
       "        s.async = true;\n",
       "        s.onload = () => resolve(paths[lib]);\n",
       "        s.onerror = () => reject(`Error loading script: ${paths[lib]}`);\n",
       "        document.getElementsByTagName(\"head\")[0].appendChild(s);\n",
       "      });\n",
       "    }\n",
       "\n",
       "    function showError(err) {\n",
       "      outputDiv.innerHTML = `<div class=\"error\" style=\"color:red;\">${err}</div>`;\n",
       "      throw err;\n",
       "    }\n",
       "\n",
       "    function displayChart(vegaEmbed) {\n",
       "      vegaEmbed(outputDiv, spec, embedOpt)\n",
       "        .catch(err => showError(`Javascript Error: ${err.message}<br>This usually means there's a typo in your chart specification. See the javascript console for the full traceback.`));\n",
       "    }\n",
       "\n",
       "    if(typeof define === \"function\" && define.amd) {\n",
       "      requirejs.config({paths});\n",
       "      require([\"vega-embed\"], displayChart, err => showError(`Error loading script: ${err.message}`));\n",
       "    } else if (typeof vegaEmbed === \"function\") {\n",
       "      displayChart(vegaEmbed);\n",
       "    } else {\n",
       "      loadScript(\"vega\")\n",
       "        .then(() => loadScript(\"vega-lite\"))\n",
       "        .then(() => loadScript(\"vega-embed\"))\n",
       "        .catch(showError)\n",
       "        .then(() => displayChart(vegaEmbed));\n",
       "    }\n",
       "  })({\"config\": {\"view\": {\"continuousWidth\": 400, \"continuousHeight\": 300}}, \"layer\": [{\"mark\": {\"type\": \"bar\", \"color\": \"firebrick\", \"opacity\": 0.7}, \"encoding\": {\"opacity\": {\"type\": \"nominal\", \"field\": \"Daily confirmed deaths\", \"legend\": {\"title\": \"\"}}, \"tooltip\": [{\"type\": \"nominal\", \"field\": \"Dates\"}, {\"type\": \"quantitative\", \"field\": \"New_deaths\"}], \"x\": {\"type\": \"nominal\", \"axis\": {\"title\": \"Date\"}, \"field\": \"Dates\"}, \"y\": {\"type\": \"quantitative\", \"axis\": {\"title\": \"Daily confirmed deaths\"}, \"field\": \"New_deaths\"}}}, {\"mark\": {\"type\": \"line\", \"color\": \"firebrick\", \"point\": {\"filled\": true, \"fill\": \"firebrick\"}}, \"encoding\": {\"shape\": {\"type\": \"nominal\", \"field\": \"7-day rolling average\", \"legend\": {\"title\": \"\"}}, \"x\": {\"type\": \"nominal\", \"axis\": {\"title\": \"Date\"}, \"field\": \"Dates\"}, \"y\": {\"type\": \"quantitative\", \"field\": \"Rolling\"}}}], \"data\": {\"name\": \"data-6c267b58afeeeb44d8603901eb471792\"}, \"title\": \"Covid-19 in Chile: Daily confirmed deaths in O\\u2019Higgins\", \"width\": 600, \"$schema\": \"https://vega.github.io/schema/vega-lite/v4.8.1.json\", \"datasets\": {\"data-6c267b58afeeeb44d8603901eb471792\": [{\"Dates\": \"2020-03-25\", \"New_deaths\": 0, \"Rolling\": null, \"Daily confirmed deaths\": \"Daily confirmed deaths\", \"7-day rolling average\": \"7-day rolling average\"}, {\"Dates\": \"2020-03-26\", \"New_deaths\": 0, \"Rolling\": null, \"Daily confirmed deaths\": \"Daily confirmed deaths\", \"7-day rolling average\": \"7-day rolling average\"}, {\"Dates\": \"2020-03-27\", \"New_deaths\": 0, \"Rolling\": null, \"Daily confirmed deaths\": \"Daily confirmed deaths\", \"7-day rolling average\": \"7-day rolling average\"}, {\"Dates\": \"2020-03-28\", \"New_deaths\": 0, \"Rolling\": null, \"Daily confirmed deaths\": \"Daily confirmed deaths\", \"7-day rolling average\": \"7-day rolling average\"}, {\"Dates\": \"2020-03-29\", \"New_deaths\": 0, \"Rolling\": null, \"Daily confirmed deaths\": \"Daily confirmed deaths\", \"7-day rolling average\": \"7-day rolling average\"}, {\"Dates\": \"2020-03-30\", \"New_deaths\": 0, \"Rolling\": null, \"Daily confirmed deaths\": \"Daily confirmed deaths\", \"7-day rolling average\": \"7-day rolling average\"}, {\"Dates\": \"2020-03-31\", \"New_deaths\": 0, \"Rolling\": 0.0, \"Daily confirmed deaths\": \"Daily confirmed deaths\", \"7-day rolling average\": \"7-day rolling average\"}, {\"Dates\": \"2020-04-01\", \"New_deaths\": 0, \"Rolling\": 0.0, \"Daily confirmed deaths\": \"Daily confirmed deaths\", \"7-day rolling average\": \"7-day rolling average\"}, {\"Dates\": \"2020-04-02\", \"New_deaths\": 0, \"Rolling\": 0.0, \"Daily confirmed deaths\": \"Daily confirmed deaths\", \"7-day rolling average\": \"7-day rolling average\"}, {\"Dates\": \"2020-04-03\", \"New_deaths\": 0, \"Rolling\": 0.0, \"Daily confirmed deaths\": \"Daily confirmed deaths\", \"7-day rolling average\": \"7-day rolling average\"}, {\"Dates\": \"2020-04-04\", \"New_deaths\": 0, \"Rolling\": 0.0, \"Daily confirmed deaths\": \"Daily confirmed deaths\", \"7-day rolling average\": \"7-day rolling average\"}, {\"Dates\": \"2020-04-05\", \"New_deaths\": 0, \"Rolling\": 0.0, \"Daily confirmed deaths\": \"Daily confirmed deaths\", \"7-day rolling average\": \"7-day rolling average\"}, {\"Dates\": \"2020-04-06\", \"New_deaths\": 0, \"Rolling\": 0.0, \"Daily confirmed deaths\": \"Daily confirmed deaths\", \"7-day rolling average\": \"7-day rolling average\"}, {\"Dates\": \"2020-04-07\", \"New_deaths\": 0, \"Rolling\": 0.0, \"Daily confirmed deaths\": \"Daily confirmed deaths\", \"7-day rolling average\": \"7-day rolling average\"}, {\"Dates\": \"2020-04-08\", \"New_deaths\": 0, \"Rolling\": 0.0, \"Daily confirmed deaths\": \"Daily confirmed deaths\", \"7-day rolling average\": \"7-day rolling average\"}, {\"Dates\": \"2020-04-09\", \"New_deaths\": 0, \"Rolling\": 0.0, \"Daily confirmed deaths\": \"Daily confirmed deaths\", \"7-day rolling average\": \"7-day rolling average\"}, {\"Dates\": \"2020-04-10\", \"New_deaths\": 0, \"Rolling\": 0.0, \"Daily confirmed deaths\": \"Daily confirmed deaths\", \"7-day rolling average\": \"7-day rolling average\"}, {\"Dates\": \"2020-04-11\", \"New_deaths\": 0, \"Rolling\": 0.0, \"Daily confirmed deaths\": \"Daily confirmed deaths\", \"7-day rolling average\": \"7-day rolling average\"}, {\"Dates\": \"2020-04-12\", \"New_deaths\": 0, \"Rolling\": 0.0, \"Daily confirmed deaths\": \"Daily confirmed deaths\", \"7-day rolling average\": \"7-day rolling average\"}, {\"Dates\": \"2020-04-13\", \"New_deaths\": 0, \"Rolling\": 0.0, \"Daily confirmed deaths\": \"Daily confirmed deaths\", \"7-day rolling average\": \"7-day rolling average\"}, {\"Dates\": \"2020-04-14\", \"New_deaths\": 0, \"Rolling\": 0.0, \"Daily confirmed deaths\": \"Daily confirmed deaths\", \"7-day rolling average\": \"7-day rolling average\"}, {\"Dates\": \"2020-04-15\", \"New_deaths\": 0, \"Rolling\": 0.0, \"Daily confirmed deaths\": \"Daily confirmed deaths\", \"7-day rolling average\": \"7-day rolling average\"}, {\"Dates\": \"2020-04-16\", \"New_deaths\": 0, \"Rolling\": 0.0, \"Daily confirmed deaths\": \"Daily confirmed deaths\", \"7-day rolling average\": \"7-day rolling average\"}, {\"Dates\": \"2020-04-17\", \"New_deaths\": 0, \"Rolling\": 0.0, \"Daily confirmed deaths\": \"Daily confirmed deaths\", \"7-day rolling average\": \"7-day rolling average\"}, {\"Dates\": \"2020-04-18\", \"New_deaths\": 0, \"Rolling\": 0.0, \"Daily confirmed deaths\": \"Daily confirmed deaths\", \"7-day rolling average\": \"7-day rolling average\"}, {\"Dates\": \"2020-04-19\", \"New_deaths\": 0, \"Rolling\": 0.0, \"Daily confirmed deaths\": \"Daily confirmed deaths\", \"7-day rolling average\": \"7-day rolling average\"}, {\"Dates\": \"2020-04-20\", \"New_deaths\": 0, \"Rolling\": 0.0, \"Daily confirmed deaths\": \"Daily confirmed deaths\", \"7-day rolling average\": \"7-day rolling average\"}, {\"Dates\": \"2020-04-21\", \"New_deaths\": 1, \"Rolling\": 0.14285714285714285, \"Daily confirmed deaths\": \"Daily confirmed deaths\", \"7-day rolling average\": \"7-day rolling average\"}, {\"Dates\": \"2020-04-22\", \"New_deaths\": 0, \"Rolling\": 0.14285714285714285, \"Daily confirmed deaths\": \"Daily confirmed deaths\", \"7-day rolling average\": \"7-day rolling average\"}, {\"Dates\": \"2020-04-23\", \"New_deaths\": 0, \"Rolling\": 0.14285714285714285, \"Daily confirmed deaths\": \"Daily confirmed deaths\", \"7-day rolling average\": \"7-day rolling average\"}, {\"Dates\": \"2020-04-24\", \"New_deaths\": 0, \"Rolling\": 0.14285714285714285, \"Daily confirmed deaths\": \"Daily confirmed deaths\", \"7-day rolling average\": \"7-day rolling average\"}, {\"Dates\": \"2020-04-25\", \"New_deaths\": 0, \"Rolling\": 0.14285714285714285, \"Daily confirmed deaths\": \"Daily confirmed deaths\", \"7-day rolling average\": \"7-day rolling average\"}, {\"Dates\": \"2020-04-26\", \"New_deaths\": 0, \"Rolling\": 0.14285714285714285, \"Daily confirmed deaths\": \"Daily confirmed deaths\", \"7-day rolling average\": \"7-day rolling average\"}, {\"Dates\": \"2020-04-27\", \"New_deaths\": 0, \"Rolling\": 0.14285714285714285, \"Daily confirmed deaths\": \"Daily confirmed deaths\", \"7-day rolling average\": \"7-day rolling average\"}]}}, {\"mode\": \"vega-lite\"});\n",
       "</script>"
      ],
      "text/plain": [
       "alt.LayerChart(...)"
      ]
     },
     "execution_count": 90,
     "metadata": {},
     "output_type": "execute_result"
    }
   ],
   "source": [
    "#hide_input\n",
    "bars, line = my_deaths_plot(region)\n",
    "(bars + line).properties(\n",
    "    title=f'Covid-19 in Chile: Daily confirmed deaths in {region}',\n",
    "    width=600\n",
    ")"
   ]
  },
  {
   "cell_type": "markdown",
   "metadata": {
    "papermill": {
     "duration": 0.095896,
     "end_time": "2020-04-28T06:16:41.742466",
     "exception": false,
     "start_time": "2020-04-28T06:16:41.646570",
     "status": "completed"
    },
    "tags": []
   },
   "source": [
    "## Maule"
   ]
  },
  {
   "cell_type": "code",
   "execution_count": 91,
   "metadata": {
    "execution": {
     "iopub.execute_input": "2020-04-28T06:16:41.940393Z",
     "iopub.status.busy": "2020-04-28T06:16:41.939787Z",
     "iopub.status.idle": "2020-04-28T06:16:41.942754Z",
     "shell.execute_reply": "2020-04-28T06:16:41.942011Z"
    },
    "papermill": {
     "duration": 0.105644,
     "end_time": "2020-04-28T06:16:41.942871",
     "exception": false,
     "start_time": "2020-04-28T06:16:41.837227",
     "status": "completed"
    },
    "scrolled": true,
    "tags": []
   },
   "outputs": [],
   "source": [
    "#hide\n",
    "region = \"Maule\""
   ]
  },
  {
   "cell_type": "code",
   "execution_count": 92,
   "metadata": {
    "execution": {
     "iopub.execute_input": "2020-04-28T06:16:42.153337Z",
     "iopub.status.busy": "2020-04-28T06:16:42.152652Z",
     "iopub.status.idle": "2020-04-28T06:16:42.181021Z",
     "shell.execute_reply": "2020-04-28T06:16:42.181577Z"
    },
    "papermill": {
     "duration": 0.14119,
     "end_time": "2020-04-28T06:16:42.181723",
     "exception": false,
     "start_time": "2020-04-28T06:16:42.040533",
     "status": "completed"
    },
    "tags": []
   },
   "outputs": [
    {
     "data": {
      "text/html": [
       "\n",
       "<div id=\"altair-viz-80741055a0074fd9bd47d8fe8805a982\"></div>\n",
       "<script type=\"text/javascript\">\n",
       "  (function(spec, embedOpt){\n",
       "    let outputDiv = document.currentScript.previousElementSibling;\n",
       "    if (outputDiv.id !== \"altair-viz-80741055a0074fd9bd47d8fe8805a982\") {\n",
       "      outputDiv = document.getElementById(\"altair-viz-80741055a0074fd9bd47d8fe8805a982\");\n",
       "    }\n",
       "    const paths = {\n",
       "      \"vega\": \"https://cdn.jsdelivr.net/npm//vega@5?noext\",\n",
       "      \"vega-lib\": \"https://cdn.jsdelivr.net/npm//vega-lib?noext\",\n",
       "      \"vega-lite\": \"https://cdn.jsdelivr.net/npm//vega-lite@4.8.1?noext\",\n",
       "      \"vega-embed\": \"https://cdn.jsdelivr.net/npm//vega-embed@6?noext\",\n",
       "    };\n",
       "\n",
       "    function loadScript(lib) {\n",
       "      return new Promise(function(resolve, reject) {\n",
       "        var s = document.createElement('script');\n",
       "        s.src = paths[lib];\n",
       "        s.async = true;\n",
       "        s.onload = () => resolve(paths[lib]);\n",
       "        s.onerror = () => reject(`Error loading script: ${paths[lib]}`);\n",
       "        document.getElementsByTagName(\"head\")[0].appendChild(s);\n",
       "      });\n",
       "    }\n",
       "\n",
       "    function showError(err) {\n",
       "      outputDiv.innerHTML = `<div class=\"error\" style=\"color:red;\">${err}</div>`;\n",
       "      throw err;\n",
       "    }\n",
       "\n",
       "    function displayChart(vegaEmbed) {\n",
       "      vegaEmbed(outputDiv, spec, embedOpt)\n",
       "        .catch(err => showError(`Javascript Error: ${err.message}<br>This usually means there's a typo in your chart specification. See the javascript console for the full traceback.`));\n",
       "    }\n",
       "\n",
       "    if(typeof define === \"function\" && define.amd) {\n",
       "      requirejs.config({paths});\n",
       "      require([\"vega-embed\"], displayChart, err => showError(`Error loading script: ${err.message}`));\n",
       "    } else if (typeof vegaEmbed === \"function\") {\n",
       "      displayChart(vegaEmbed);\n",
       "    } else {\n",
       "      loadScript(\"vega\")\n",
       "        .then(() => loadScript(\"vega-lite\"))\n",
       "        .then(() => loadScript(\"vega-embed\"))\n",
       "        .catch(showError)\n",
       "        .then(() => displayChart(vegaEmbed));\n",
       "    }\n",
       "  })({\"config\": {\"view\": {\"continuousWidth\": 400, \"continuousHeight\": 300}}, \"layer\": [{\"mark\": {\"type\": \"bar\", \"color\": \"firebrick\", \"opacity\": 0.7}, \"encoding\": {\"opacity\": {\"type\": \"nominal\", \"field\": \"Daily confirmed deaths\", \"legend\": {\"title\": \"\"}}, \"tooltip\": [{\"type\": \"nominal\", \"field\": \"Dates\"}, {\"type\": \"quantitative\", \"field\": \"New_deaths\"}], \"x\": {\"type\": \"nominal\", \"axis\": {\"title\": \"Date\"}, \"field\": \"Dates\"}, \"y\": {\"type\": \"quantitative\", \"axis\": {\"title\": \"Daily confirmed deaths\"}, \"field\": \"New_deaths\"}}}, {\"mark\": {\"type\": \"line\", \"color\": \"firebrick\", \"point\": {\"filled\": true, \"fill\": \"firebrick\"}}, \"encoding\": {\"shape\": {\"type\": \"nominal\", \"field\": \"7-day rolling average\", \"legend\": {\"title\": \"\"}}, \"x\": {\"type\": \"nominal\", \"axis\": {\"title\": \"Date\"}, \"field\": \"Dates\"}, \"y\": {\"type\": \"quantitative\", \"field\": \"Rolling\"}}}], \"data\": {\"name\": \"data-ce1ca1021d5d469a8889f55e681ee7a1\"}, \"title\": \"Covid-19 in Chile: Daily confirmed deaths in Maule\", \"width\": 600, \"$schema\": \"https://vega.github.io/schema/vega-lite/v4.8.1.json\", \"datasets\": {\"data-ce1ca1021d5d469a8889f55e681ee7a1\": [{\"Dates\": \"2020-03-25\", \"New_deaths\": 0, \"Rolling\": null, \"Daily confirmed deaths\": \"Daily confirmed deaths\", \"7-day rolling average\": \"7-day rolling average\"}, {\"Dates\": \"2020-03-26\", \"New_deaths\": 0, \"Rolling\": null, \"Daily confirmed deaths\": \"Daily confirmed deaths\", \"7-day rolling average\": \"7-day rolling average\"}, {\"Dates\": \"2020-03-27\", \"New_deaths\": 0, \"Rolling\": null, \"Daily confirmed deaths\": \"Daily confirmed deaths\", \"7-day rolling average\": \"7-day rolling average\"}, {\"Dates\": \"2020-03-28\", \"New_deaths\": 0, \"Rolling\": null, \"Daily confirmed deaths\": \"Daily confirmed deaths\", \"7-day rolling average\": \"7-day rolling average\"}, {\"Dates\": \"2020-03-29\", \"New_deaths\": 0, \"Rolling\": null, \"Daily confirmed deaths\": \"Daily confirmed deaths\", \"7-day rolling average\": \"7-day rolling average\"}, {\"Dates\": \"2020-03-30\", \"New_deaths\": 1, \"Rolling\": null, \"Daily confirmed deaths\": \"Daily confirmed deaths\", \"7-day rolling average\": \"7-day rolling average\"}, {\"Dates\": \"2020-03-31\", \"New_deaths\": 0, \"Rolling\": 0.14285714285714285, \"Daily confirmed deaths\": \"Daily confirmed deaths\", \"7-day rolling average\": \"7-day rolling average\"}, {\"Dates\": \"2020-04-01\", \"New_deaths\": 0, \"Rolling\": 0.14285714285714285, \"Daily confirmed deaths\": \"Daily confirmed deaths\", \"7-day rolling average\": \"7-day rolling average\"}, {\"Dates\": \"2020-04-02\", \"New_deaths\": 0, \"Rolling\": 0.14285714285714285, \"Daily confirmed deaths\": \"Daily confirmed deaths\", \"7-day rolling average\": \"7-day rolling average\"}, {\"Dates\": \"2020-04-03\", \"New_deaths\": 0, \"Rolling\": 0.14285714285714285, \"Daily confirmed deaths\": \"Daily confirmed deaths\", \"7-day rolling average\": \"7-day rolling average\"}, {\"Dates\": \"2020-04-04\", \"New_deaths\": 0, \"Rolling\": 0.14285714285714285, \"Daily confirmed deaths\": \"Daily confirmed deaths\", \"7-day rolling average\": \"7-day rolling average\"}, {\"Dates\": \"2020-04-05\", \"New_deaths\": 0, \"Rolling\": 0.14285714285714285, \"Daily confirmed deaths\": \"Daily confirmed deaths\", \"7-day rolling average\": \"7-day rolling average\"}, {\"Dates\": \"2020-04-06\", \"New_deaths\": 0, \"Rolling\": 0.0, \"Daily confirmed deaths\": \"Daily confirmed deaths\", \"7-day rolling average\": \"7-day rolling average\"}, {\"Dates\": \"2020-04-07\", \"New_deaths\": 1, \"Rolling\": 0.14285714285714285, \"Daily confirmed deaths\": \"Daily confirmed deaths\", \"7-day rolling average\": \"7-day rolling average\"}, {\"Dates\": \"2020-04-08\", \"New_deaths\": 0, \"Rolling\": 0.14285714285714285, \"Daily confirmed deaths\": \"Daily confirmed deaths\", \"7-day rolling average\": \"7-day rolling average\"}, {\"Dates\": \"2020-04-09\", \"New_deaths\": 0, \"Rolling\": 0.14285714285714285, \"Daily confirmed deaths\": \"Daily confirmed deaths\", \"7-day rolling average\": \"7-day rolling average\"}, {\"Dates\": \"2020-04-10\", \"New_deaths\": 0, \"Rolling\": 0.14285714285714285, \"Daily confirmed deaths\": \"Daily confirmed deaths\", \"7-day rolling average\": \"7-day rolling average\"}, {\"Dates\": \"2020-04-11\", \"New_deaths\": 1, \"Rolling\": 0.2857142857142857, \"Daily confirmed deaths\": \"Daily confirmed deaths\", \"7-day rolling average\": \"7-day rolling average\"}, {\"Dates\": \"2020-04-12\", \"New_deaths\": 0, \"Rolling\": 0.2857142857142857, \"Daily confirmed deaths\": \"Daily confirmed deaths\", \"7-day rolling average\": \"7-day rolling average\"}, {\"Dates\": \"2020-04-13\", \"New_deaths\": 0, \"Rolling\": 0.2857142857142857, \"Daily confirmed deaths\": \"Daily confirmed deaths\", \"7-day rolling average\": \"7-day rolling average\"}, {\"Dates\": \"2020-04-14\", \"New_deaths\": 1, \"Rolling\": 0.2857142857142857, \"Daily confirmed deaths\": \"Daily confirmed deaths\", \"7-day rolling average\": \"7-day rolling average\"}, {\"Dates\": \"2020-04-15\", \"New_deaths\": 0, \"Rolling\": 0.2857142857142857, \"Daily confirmed deaths\": \"Daily confirmed deaths\", \"7-day rolling average\": \"7-day rolling average\"}, {\"Dates\": \"2020-04-16\", \"New_deaths\": 0, \"Rolling\": 0.2857142857142857, \"Daily confirmed deaths\": \"Daily confirmed deaths\", \"7-day rolling average\": \"7-day rolling average\"}, {\"Dates\": \"2020-04-17\", \"New_deaths\": 3, \"Rolling\": 0.7142857142857143, \"Daily confirmed deaths\": \"Daily confirmed deaths\", \"7-day rolling average\": \"7-day rolling average\"}, {\"Dates\": \"2020-04-18\", \"New_deaths\": 1, \"Rolling\": 0.7142857142857143, \"Daily confirmed deaths\": \"Daily confirmed deaths\", \"7-day rolling average\": \"7-day rolling average\"}, {\"Dates\": \"2020-04-19\", \"New_deaths\": 0, \"Rolling\": 0.7142857142857143, \"Daily confirmed deaths\": \"Daily confirmed deaths\", \"7-day rolling average\": \"7-day rolling average\"}, {\"Dates\": \"2020-04-20\", \"New_deaths\": 2, \"Rolling\": 1.0, \"Daily confirmed deaths\": \"Daily confirmed deaths\", \"7-day rolling average\": \"7-day rolling average\"}, {\"Dates\": \"2020-04-21\", \"New_deaths\": 0, \"Rolling\": 0.8571428571428571, \"Daily confirmed deaths\": \"Daily confirmed deaths\", \"7-day rolling average\": \"7-day rolling average\"}, {\"Dates\": \"2020-04-22\", \"New_deaths\": 0, \"Rolling\": 0.8571428571428571, \"Daily confirmed deaths\": \"Daily confirmed deaths\", \"7-day rolling average\": \"7-day rolling average\"}, {\"Dates\": \"2020-04-23\", \"New_deaths\": 0, \"Rolling\": 0.8571428571428571, \"Daily confirmed deaths\": \"Daily confirmed deaths\", \"7-day rolling average\": \"7-day rolling average\"}, {\"Dates\": \"2020-04-24\", \"New_deaths\": 0, \"Rolling\": 0.42857142857142855, \"Daily confirmed deaths\": \"Daily confirmed deaths\", \"7-day rolling average\": \"7-day rolling average\"}, {\"Dates\": \"2020-04-25\", \"New_deaths\": 0, \"Rolling\": 0.2857142857142857, \"Daily confirmed deaths\": \"Daily confirmed deaths\", \"7-day rolling average\": \"7-day rolling average\"}, {\"Dates\": \"2020-04-26\", \"New_deaths\": 1, \"Rolling\": 0.42857142857142855, \"Daily confirmed deaths\": \"Daily confirmed deaths\", \"7-day rolling average\": \"7-day rolling average\"}, {\"Dates\": \"2020-04-27\", \"New_deaths\": 1, \"Rolling\": 0.2857142857142857, \"Daily confirmed deaths\": \"Daily confirmed deaths\", \"7-day rolling average\": \"7-day rolling average\"}]}}, {\"mode\": \"vega-lite\"});\n",
       "</script>"
      ],
      "text/plain": [
       "alt.LayerChart(...)"
      ]
     },
     "execution_count": 92,
     "metadata": {},
     "output_type": "execute_result"
    }
   ],
   "source": [
    "#hide_input\n",
    "bars, line = my_deaths_plot(region)\n",
    "(bars + line).properties(\n",
    "    title=f'Covid-19 in Chile: Daily confirmed deaths in {region}',\n",
    "    width=600\n",
    ")"
   ]
  },
  {
   "cell_type": "markdown",
   "metadata": {
    "papermill": {
     "duration": 0.102252,
     "end_time": "2020-04-28T06:16:42.387852",
     "exception": false,
     "start_time": "2020-04-28T06:16:42.285600",
     "status": "completed"
    },
    "tags": []
   },
   "source": [
    "## Ñuble"
   ]
  },
  {
   "cell_type": "code",
   "execution_count": 93,
   "metadata": {
    "execution": {
     "iopub.execute_input": "2020-04-28T06:16:42.589307Z",
     "iopub.status.busy": "2020-04-28T06:16:42.588657Z",
     "iopub.status.idle": "2020-04-28T06:16:42.590998Z",
     "shell.execute_reply": "2020-04-28T06:16:42.590491Z"
    },
    "papermill": {
     "duration": 0.105315,
     "end_time": "2020-04-28T06:16:42.591108",
     "exception": false,
     "start_time": "2020-04-28T06:16:42.485793",
     "status": "completed"
    },
    "scrolled": true,
    "tags": []
   },
   "outputs": [],
   "source": [
    "#hide\n",
    "region = \"Ñuble\""
   ]
  },
  {
   "cell_type": "code",
   "execution_count": 94,
   "metadata": {
    "execution": {
     "iopub.execute_input": "2020-04-28T06:16:42.817997Z",
     "iopub.status.busy": "2020-04-28T06:16:42.801241Z",
     "iopub.status.idle": "2020-04-28T06:16:42.828347Z",
     "shell.execute_reply": "2020-04-28T06:16:42.828807Z"
    },
    "papermill": {
     "duration": 0.140764,
     "end_time": "2020-04-28T06:16:42.828968",
     "exception": false,
     "start_time": "2020-04-28T06:16:42.688204",
     "status": "completed"
    },
    "tags": []
   },
   "outputs": [
    {
     "data": {
      "text/html": [
       "\n",
       "<div id=\"altair-viz-1ef18c6b9a8244ceb1ed4994f8a118b6\"></div>\n",
       "<script type=\"text/javascript\">\n",
       "  (function(spec, embedOpt){\n",
       "    let outputDiv = document.currentScript.previousElementSibling;\n",
       "    if (outputDiv.id !== \"altair-viz-1ef18c6b9a8244ceb1ed4994f8a118b6\") {\n",
       "      outputDiv = document.getElementById(\"altair-viz-1ef18c6b9a8244ceb1ed4994f8a118b6\");\n",
       "    }\n",
       "    const paths = {\n",
       "      \"vega\": \"https://cdn.jsdelivr.net/npm//vega@5?noext\",\n",
       "      \"vega-lib\": \"https://cdn.jsdelivr.net/npm//vega-lib?noext\",\n",
       "      \"vega-lite\": \"https://cdn.jsdelivr.net/npm//vega-lite@4.8.1?noext\",\n",
       "      \"vega-embed\": \"https://cdn.jsdelivr.net/npm//vega-embed@6?noext\",\n",
       "    };\n",
       "\n",
       "    function loadScript(lib) {\n",
       "      return new Promise(function(resolve, reject) {\n",
       "        var s = document.createElement('script');\n",
       "        s.src = paths[lib];\n",
       "        s.async = true;\n",
       "        s.onload = () => resolve(paths[lib]);\n",
       "        s.onerror = () => reject(`Error loading script: ${paths[lib]}`);\n",
       "        document.getElementsByTagName(\"head\")[0].appendChild(s);\n",
       "      });\n",
       "    }\n",
       "\n",
       "    function showError(err) {\n",
       "      outputDiv.innerHTML = `<div class=\"error\" style=\"color:red;\">${err}</div>`;\n",
       "      throw err;\n",
       "    }\n",
       "\n",
       "    function displayChart(vegaEmbed) {\n",
       "      vegaEmbed(outputDiv, spec, embedOpt)\n",
       "        .catch(err => showError(`Javascript Error: ${err.message}<br>This usually means there's a typo in your chart specification. See the javascript console for the full traceback.`));\n",
       "    }\n",
       "\n",
       "    if(typeof define === \"function\" && define.amd) {\n",
       "      requirejs.config({paths});\n",
       "      require([\"vega-embed\"], displayChart, err => showError(`Error loading script: ${err.message}`));\n",
       "    } else if (typeof vegaEmbed === \"function\") {\n",
       "      displayChart(vegaEmbed);\n",
       "    } else {\n",
       "      loadScript(\"vega\")\n",
       "        .then(() => loadScript(\"vega-lite\"))\n",
       "        .then(() => loadScript(\"vega-embed\"))\n",
       "        .catch(showError)\n",
       "        .then(() => displayChart(vegaEmbed));\n",
       "    }\n",
       "  })({\"config\": {\"view\": {\"continuousWidth\": 400, \"continuousHeight\": 300}}, \"layer\": [{\"mark\": {\"type\": \"bar\", \"color\": \"firebrick\", \"opacity\": 0.7}, \"encoding\": {\"opacity\": {\"type\": \"nominal\", \"field\": \"Daily confirmed deaths\", \"legend\": {\"title\": \"\"}}, \"tooltip\": [{\"type\": \"nominal\", \"field\": \"Dates\"}, {\"type\": \"quantitative\", \"field\": \"New_deaths\"}], \"x\": {\"type\": \"nominal\", \"axis\": {\"title\": \"Date\"}, \"field\": \"Dates\"}, \"y\": {\"type\": \"quantitative\", \"axis\": {\"title\": \"Daily confirmed deaths\"}, \"field\": \"New_deaths\"}}}, {\"mark\": {\"type\": \"line\", \"color\": \"firebrick\", \"point\": {\"filled\": true, \"fill\": \"firebrick\"}}, \"encoding\": {\"shape\": {\"type\": \"nominal\", \"field\": \"7-day rolling average\", \"legend\": {\"title\": \"\"}}, \"x\": {\"type\": \"nominal\", \"axis\": {\"title\": \"Date\"}, \"field\": \"Dates\"}, \"y\": {\"type\": \"quantitative\", \"field\": \"Rolling\"}}}], \"data\": {\"name\": \"data-3e2574b954cb00482eed62a10ec86b9b\"}, \"title\": \"Covid-19 in Chile: Daily confirmed deaths in \\u00d1uble\", \"width\": 600, \"$schema\": \"https://vega.github.io/schema/vega-lite/v4.8.1.json\", \"datasets\": {\"data-3e2574b954cb00482eed62a10ec86b9b\": [{\"Dates\": \"2020-03-25\", \"New_deaths\": 0, \"Rolling\": null, \"Daily confirmed deaths\": \"Daily confirmed deaths\", \"7-day rolling average\": \"7-day rolling average\"}, {\"Dates\": \"2020-03-26\", \"New_deaths\": 0, \"Rolling\": null, \"Daily confirmed deaths\": \"Daily confirmed deaths\", \"7-day rolling average\": \"7-day rolling average\"}, {\"Dates\": \"2020-03-27\", \"New_deaths\": 0, \"Rolling\": null, \"Daily confirmed deaths\": \"Daily confirmed deaths\", \"7-day rolling average\": \"7-day rolling average\"}, {\"Dates\": \"2020-03-28\", \"New_deaths\": 0, \"Rolling\": null, \"Daily confirmed deaths\": \"Daily confirmed deaths\", \"7-day rolling average\": \"7-day rolling average\"}, {\"Dates\": \"2020-03-29\", \"New_deaths\": 0, \"Rolling\": null, \"Daily confirmed deaths\": \"Daily confirmed deaths\", \"7-day rolling average\": \"7-day rolling average\"}, {\"Dates\": \"2020-03-30\", \"New_deaths\": 0, \"Rolling\": null, \"Daily confirmed deaths\": \"Daily confirmed deaths\", \"7-day rolling average\": \"7-day rolling average\"}, {\"Dates\": \"2020-03-31\", \"New_deaths\": 0, \"Rolling\": 0.0, \"Daily confirmed deaths\": \"Daily confirmed deaths\", \"7-day rolling average\": \"7-day rolling average\"}, {\"Dates\": \"2020-04-01\", \"New_deaths\": 0, \"Rolling\": 0.0, \"Daily confirmed deaths\": \"Daily confirmed deaths\", \"7-day rolling average\": \"7-day rolling average\"}, {\"Dates\": \"2020-04-02\", \"New_deaths\": 0, \"Rolling\": 0.0, \"Daily confirmed deaths\": \"Daily confirmed deaths\", \"7-day rolling average\": \"7-day rolling average\"}, {\"Dates\": \"2020-04-03\", \"New_deaths\": 1, \"Rolling\": 0.14285714285714285, \"Daily confirmed deaths\": \"Daily confirmed deaths\", \"7-day rolling average\": \"7-day rolling average\"}, {\"Dates\": \"2020-04-04\", \"New_deaths\": 1, \"Rolling\": 0.2857142857142857, \"Daily confirmed deaths\": \"Daily confirmed deaths\", \"7-day rolling average\": \"7-day rolling average\"}, {\"Dates\": \"2020-04-05\", \"New_deaths\": 1, \"Rolling\": 0.42857142857142855, \"Daily confirmed deaths\": \"Daily confirmed deaths\", \"7-day rolling average\": \"7-day rolling average\"}, {\"Dates\": \"2020-04-06\", \"New_deaths\": 1, \"Rolling\": 0.5714285714285714, \"Daily confirmed deaths\": \"Daily confirmed deaths\", \"7-day rolling average\": \"7-day rolling average\"}, {\"Dates\": \"2020-04-07\", \"New_deaths\": 1, \"Rolling\": 0.7142857142857143, \"Daily confirmed deaths\": \"Daily confirmed deaths\", \"7-day rolling average\": \"7-day rolling average\"}, {\"Dates\": \"2020-04-08\", \"New_deaths\": 0, \"Rolling\": 0.7142857142857143, \"Daily confirmed deaths\": \"Daily confirmed deaths\", \"7-day rolling average\": \"7-day rolling average\"}, {\"Dates\": \"2020-04-09\", \"New_deaths\": 1, \"Rolling\": 0.8571428571428571, \"Daily confirmed deaths\": \"Daily confirmed deaths\", \"7-day rolling average\": \"7-day rolling average\"}, {\"Dates\": \"2020-04-10\", \"New_deaths\": 0, \"Rolling\": 0.7142857142857143, \"Daily confirmed deaths\": \"Daily confirmed deaths\", \"7-day rolling average\": \"7-day rolling average\"}, {\"Dates\": \"2020-04-11\", \"New_deaths\": 0, \"Rolling\": 0.5714285714285714, \"Daily confirmed deaths\": \"Daily confirmed deaths\", \"7-day rolling average\": \"7-day rolling average\"}, {\"Dates\": \"2020-04-12\", \"New_deaths\": 1, \"Rolling\": 0.5714285714285714, \"Daily confirmed deaths\": \"Daily confirmed deaths\", \"7-day rolling average\": \"7-day rolling average\"}, {\"Dates\": \"2020-04-13\", \"New_deaths\": 0, \"Rolling\": 0.42857142857142855, \"Daily confirmed deaths\": \"Daily confirmed deaths\", \"7-day rolling average\": \"7-day rolling average\"}, {\"Dates\": \"2020-04-14\", \"New_deaths\": 1, \"Rolling\": 0.42857142857142855, \"Daily confirmed deaths\": \"Daily confirmed deaths\", \"7-day rolling average\": \"7-day rolling average\"}, {\"Dates\": \"2020-04-15\", \"New_deaths\": 0, \"Rolling\": 0.42857142857142855, \"Daily confirmed deaths\": \"Daily confirmed deaths\", \"7-day rolling average\": \"7-day rolling average\"}, {\"Dates\": \"2020-04-16\", \"New_deaths\": 2, \"Rolling\": 0.5714285714285714, \"Daily confirmed deaths\": \"Daily confirmed deaths\", \"7-day rolling average\": \"7-day rolling average\"}, {\"Dates\": \"2020-04-17\", \"New_deaths\": 1, \"Rolling\": 0.7142857142857143, \"Daily confirmed deaths\": \"Daily confirmed deaths\", \"7-day rolling average\": \"7-day rolling average\"}, {\"Dates\": \"2020-04-18\", \"New_deaths\": 1, \"Rolling\": 0.8571428571428571, \"Daily confirmed deaths\": \"Daily confirmed deaths\", \"7-day rolling average\": \"7-day rolling average\"}, {\"Dates\": \"2020-04-19\", \"New_deaths\": 1, \"Rolling\": 0.8571428571428571, \"Daily confirmed deaths\": \"Daily confirmed deaths\", \"7-day rolling average\": \"7-day rolling average\"}, {\"Dates\": \"2020-04-20\", \"New_deaths\": 0, \"Rolling\": 0.8571428571428571, \"Daily confirmed deaths\": \"Daily confirmed deaths\", \"7-day rolling average\": \"7-day rolling average\"}, {\"Dates\": \"2020-04-21\", \"New_deaths\": 0, \"Rolling\": 0.7142857142857143, \"Daily confirmed deaths\": \"Daily confirmed deaths\", \"7-day rolling average\": \"7-day rolling average\"}, {\"Dates\": \"2020-04-22\", \"New_deaths\": 0, \"Rolling\": 0.7142857142857143, \"Daily confirmed deaths\": \"Daily confirmed deaths\", \"7-day rolling average\": \"7-day rolling average\"}, {\"Dates\": \"2020-04-23\", \"New_deaths\": 0, \"Rolling\": 0.42857142857142855, \"Daily confirmed deaths\": \"Daily confirmed deaths\", \"7-day rolling average\": \"7-day rolling average\"}, {\"Dates\": \"2020-04-24\", \"New_deaths\": 1, \"Rolling\": 0.42857142857142855, \"Daily confirmed deaths\": \"Daily confirmed deaths\", \"7-day rolling average\": \"7-day rolling average\"}, {\"Dates\": \"2020-04-25\", \"New_deaths\": 0, \"Rolling\": 0.2857142857142857, \"Daily confirmed deaths\": \"Daily confirmed deaths\", \"7-day rolling average\": \"7-day rolling average\"}, {\"Dates\": \"2020-04-26\", \"New_deaths\": 0, \"Rolling\": 0.14285714285714285, \"Daily confirmed deaths\": \"Daily confirmed deaths\", \"7-day rolling average\": \"7-day rolling average\"}, {\"Dates\": \"2020-04-27\", \"New_deaths\": 0, \"Rolling\": 0.14285714285714285, \"Daily confirmed deaths\": \"Daily confirmed deaths\", \"7-day rolling average\": \"7-day rolling average\"}]}}, {\"mode\": \"vega-lite\"});\n",
       "</script>"
      ],
      "text/plain": [
       "alt.LayerChart(...)"
      ]
     },
     "execution_count": 94,
     "metadata": {},
     "output_type": "execute_result"
    }
   ],
   "source": [
    "#hide_input\n",
    "bars, line = my_deaths_plot(region)\n",
    "(bars + line).properties(\n",
    "    title=f'Covid-19 in Chile: Daily confirmed deaths in {region}',\n",
    "    width=600\n",
    ")"
   ]
  },
  {
   "cell_type": "markdown",
   "metadata": {
    "papermill": {
     "duration": 0.100191,
     "end_time": "2020-04-28T06:16:43.054684",
     "exception": false,
     "start_time": "2020-04-28T06:16:42.954493",
     "status": "completed"
    },
    "tags": []
   },
   "source": [
    "## Biobío"
   ]
  },
  {
   "cell_type": "code",
   "execution_count": 95,
   "metadata": {
    "execution": {
     "iopub.execute_input": "2020-04-28T06:16:43.253698Z",
     "iopub.status.busy": "2020-04-28T06:16:43.252803Z",
     "iopub.status.idle": "2020-04-28T06:16:43.254762Z",
     "shell.execute_reply": "2020-04-28T06:16:43.255254Z"
    },
    "papermill": {
     "duration": 0.10411,
     "end_time": "2020-04-28T06:16:43.255379",
     "exception": false,
     "start_time": "2020-04-28T06:16:43.151269",
     "status": "completed"
    },
    "scrolled": true,
    "tags": []
   },
   "outputs": [],
   "source": [
    "#hide\n",
    "region = \"Biobío\""
   ]
  },
  {
   "cell_type": "code",
   "execution_count": 96,
   "metadata": {
    "execution": {
     "iopub.execute_input": "2020-04-28T06:16:43.488808Z",
     "iopub.status.busy": "2020-04-28T06:16:43.472343Z",
     "iopub.status.idle": "2020-04-28T06:16:43.494343Z",
     "shell.execute_reply": "2020-04-28T06:16:43.494809Z"
    },
    "papermill": {
     "duration": 0.142334,
     "end_time": "2020-04-28T06:16:43.494938",
     "exception": false,
     "start_time": "2020-04-28T06:16:43.352604",
     "status": "completed"
    },
    "tags": []
   },
   "outputs": [
    {
     "data": {
      "text/html": [
       "\n",
       "<div id=\"altair-viz-23054979146142b690d93f9ea21fa370\"></div>\n",
       "<script type=\"text/javascript\">\n",
       "  (function(spec, embedOpt){\n",
       "    let outputDiv = document.currentScript.previousElementSibling;\n",
       "    if (outputDiv.id !== \"altair-viz-23054979146142b690d93f9ea21fa370\") {\n",
       "      outputDiv = document.getElementById(\"altair-viz-23054979146142b690d93f9ea21fa370\");\n",
       "    }\n",
       "    const paths = {\n",
       "      \"vega\": \"https://cdn.jsdelivr.net/npm//vega@5?noext\",\n",
       "      \"vega-lib\": \"https://cdn.jsdelivr.net/npm//vega-lib?noext\",\n",
       "      \"vega-lite\": \"https://cdn.jsdelivr.net/npm//vega-lite@4.8.1?noext\",\n",
       "      \"vega-embed\": \"https://cdn.jsdelivr.net/npm//vega-embed@6?noext\",\n",
       "    };\n",
       "\n",
       "    function loadScript(lib) {\n",
       "      return new Promise(function(resolve, reject) {\n",
       "        var s = document.createElement('script');\n",
       "        s.src = paths[lib];\n",
       "        s.async = true;\n",
       "        s.onload = () => resolve(paths[lib]);\n",
       "        s.onerror = () => reject(`Error loading script: ${paths[lib]}`);\n",
       "        document.getElementsByTagName(\"head\")[0].appendChild(s);\n",
       "      });\n",
       "    }\n",
       "\n",
       "    function showError(err) {\n",
       "      outputDiv.innerHTML = `<div class=\"error\" style=\"color:red;\">${err}</div>`;\n",
       "      throw err;\n",
       "    }\n",
       "\n",
       "    function displayChart(vegaEmbed) {\n",
       "      vegaEmbed(outputDiv, spec, embedOpt)\n",
       "        .catch(err => showError(`Javascript Error: ${err.message}<br>This usually means there's a typo in your chart specification. See the javascript console for the full traceback.`));\n",
       "    }\n",
       "\n",
       "    if(typeof define === \"function\" && define.amd) {\n",
       "      requirejs.config({paths});\n",
       "      require([\"vega-embed\"], displayChart, err => showError(`Error loading script: ${err.message}`));\n",
       "    } else if (typeof vegaEmbed === \"function\") {\n",
       "      displayChart(vegaEmbed);\n",
       "    } else {\n",
       "      loadScript(\"vega\")\n",
       "        .then(() => loadScript(\"vega-lite\"))\n",
       "        .then(() => loadScript(\"vega-embed\"))\n",
       "        .catch(showError)\n",
       "        .then(() => displayChart(vegaEmbed));\n",
       "    }\n",
       "  })({\"config\": {\"view\": {\"continuousWidth\": 400, \"continuousHeight\": 300}}, \"layer\": [{\"mark\": {\"type\": \"bar\", \"color\": \"firebrick\", \"opacity\": 0.7}, \"encoding\": {\"opacity\": {\"type\": \"nominal\", \"field\": \"Daily confirmed deaths\", \"legend\": {\"title\": \"\"}}, \"tooltip\": [{\"type\": \"nominal\", \"field\": \"Dates\"}, {\"type\": \"quantitative\", \"field\": \"New_deaths\"}], \"x\": {\"type\": \"nominal\", \"axis\": {\"title\": \"Date\"}, \"field\": \"Dates\"}, \"y\": {\"type\": \"quantitative\", \"axis\": {\"title\": \"Daily confirmed deaths\"}, \"field\": \"New_deaths\"}}}, {\"mark\": {\"type\": \"line\", \"color\": \"firebrick\", \"point\": {\"filled\": true, \"fill\": \"firebrick\"}}, \"encoding\": {\"shape\": {\"type\": \"nominal\", \"field\": \"7-day rolling average\", \"legend\": {\"title\": \"\"}}, \"x\": {\"type\": \"nominal\", \"axis\": {\"title\": \"Date\"}, \"field\": \"Dates\"}, \"y\": {\"type\": \"quantitative\", \"field\": \"Rolling\"}}}], \"data\": {\"name\": \"data-f999e4c73fbe635ec3b4b392b1c593d3\"}, \"title\": \"Covid-19 in Chile: Daily confirmed deaths in Biob\\u00edo\", \"width\": 600, \"$schema\": \"https://vega.github.io/schema/vega-lite/v4.8.1.json\", \"datasets\": {\"data-f999e4c73fbe635ec3b4b392b1c593d3\": [{\"Dates\": \"2020-03-25\", \"New_deaths\": 1, \"Rolling\": null, \"Daily confirmed deaths\": \"Daily confirmed deaths\", \"7-day rolling average\": \"7-day rolling average\"}, {\"Dates\": \"2020-03-26\", \"New_deaths\": 0, \"Rolling\": null, \"Daily confirmed deaths\": \"Daily confirmed deaths\", \"7-day rolling average\": \"7-day rolling average\"}, {\"Dates\": \"2020-03-27\", \"New_deaths\": 1, \"Rolling\": null, \"Daily confirmed deaths\": \"Daily confirmed deaths\", \"7-day rolling average\": \"7-day rolling average\"}, {\"Dates\": \"2020-03-28\", \"New_deaths\": 0, \"Rolling\": null, \"Daily confirmed deaths\": \"Daily confirmed deaths\", \"7-day rolling average\": \"7-day rolling average\"}, {\"Dates\": \"2020-03-29\", \"New_deaths\": 0, \"Rolling\": null, \"Daily confirmed deaths\": \"Daily confirmed deaths\", \"7-day rolling average\": \"7-day rolling average\"}, {\"Dates\": \"2020-03-30\", \"New_deaths\": 0, \"Rolling\": null, \"Daily confirmed deaths\": \"Daily confirmed deaths\", \"7-day rolling average\": \"7-day rolling average\"}, {\"Dates\": \"2020-03-31\", \"New_deaths\": 0, \"Rolling\": 0.2857142857142857, \"Daily confirmed deaths\": \"Daily confirmed deaths\", \"7-day rolling average\": \"7-day rolling average\"}, {\"Dates\": \"2020-04-01\", \"New_deaths\": 0, \"Rolling\": 0.14285714285714285, \"Daily confirmed deaths\": \"Daily confirmed deaths\", \"7-day rolling average\": \"7-day rolling average\"}, {\"Dates\": \"2020-04-02\", \"New_deaths\": 0, \"Rolling\": 0.14285714285714285, \"Daily confirmed deaths\": \"Daily confirmed deaths\", \"7-day rolling average\": \"7-day rolling average\"}, {\"Dates\": \"2020-04-03\", \"New_deaths\": 0, \"Rolling\": 0.0, \"Daily confirmed deaths\": \"Daily confirmed deaths\", \"7-day rolling average\": \"7-day rolling average\"}, {\"Dates\": \"2020-04-04\", \"New_deaths\": 0, \"Rolling\": 0.0, \"Daily confirmed deaths\": \"Daily confirmed deaths\", \"7-day rolling average\": \"7-day rolling average\"}, {\"Dates\": \"2020-04-05\", \"New_deaths\": 0, \"Rolling\": 0.0, \"Daily confirmed deaths\": \"Daily confirmed deaths\", \"7-day rolling average\": \"7-day rolling average\"}, {\"Dates\": \"2020-04-06\", \"New_deaths\": 0, \"Rolling\": 0.0, \"Daily confirmed deaths\": \"Daily confirmed deaths\", \"7-day rolling average\": \"7-day rolling average\"}, {\"Dates\": \"2020-04-07\", \"New_deaths\": 0, \"Rolling\": 0.0, \"Daily confirmed deaths\": \"Daily confirmed deaths\", \"7-day rolling average\": \"7-day rolling average\"}, {\"Dates\": \"2020-04-08\", \"New_deaths\": 0, \"Rolling\": 0.0, \"Daily confirmed deaths\": \"Daily confirmed deaths\", \"7-day rolling average\": \"7-day rolling average\"}, {\"Dates\": \"2020-04-09\", \"New_deaths\": 0, \"Rolling\": 0.0, \"Daily confirmed deaths\": \"Daily confirmed deaths\", \"7-day rolling average\": \"7-day rolling average\"}, {\"Dates\": \"2020-04-10\", \"New_deaths\": 0, \"Rolling\": 0.0, \"Daily confirmed deaths\": \"Daily confirmed deaths\", \"7-day rolling average\": \"7-day rolling average\"}, {\"Dates\": \"2020-04-11\", \"New_deaths\": 0, \"Rolling\": 0.0, \"Daily confirmed deaths\": \"Daily confirmed deaths\", \"7-day rolling average\": \"7-day rolling average\"}, {\"Dates\": \"2020-04-12\", \"New_deaths\": 0, \"Rolling\": 0.0, \"Daily confirmed deaths\": \"Daily confirmed deaths\", \"7-day rolling average\": \"7-day rolling average\"}, {\"Dates\": \"2020-04-13\", \"New_deaths\": 0, \"Rolling\": 0.0, \"Daily confirmed deaths\": \"Daily confirmed deaths\", \"7-day rolling average\": \"7-day rolling average\"}, {\"Dates\": \"2020-04-14\", \"New_deaths\": 0, \"Rolling\": 0.0, \"Daily confirmed deaths\": \"Daily confirmed deaths\", \"7-day rolling average\": \"7-day rolling average\"}, {\"Dates\": \"2020-04-15\", \"New_deaths\": 0, \"Rolling\": 0.0, \"Daily confirmed deaths\": \"Daily confirmed deaths\", \"7-day rolling average\": \"7-day rolling average\"}, {\"Dates\": \"2020-04-16\", \"New_deaths\": 0, \"Rolling\": 0.0, \"Daily confirmed deaths\": \"Daily confirmed deaths\", \"7-day rolling average\": \"7-day rolling average\"}, {\"Dates\": \"2020-04-17\", \"New_deaths\": 1, \"Rolling\": 0.14285714285714285, \"Daily confirmed deaths\": \"Daily confirmed deaths\", \"7-day rolling average\": \"7-day rolling average\"}, {\"Dates\": \"2020-04-18\", \"New_deaths\": 0, \"Rolling\": 0.14285714285714285, \"Daily confirmed deaths\": \"Daily confirmed deaths\", \"7-day rolling average\": \"7-day rolling average\"}, {\"Dates\": \"2020-04-19\", \"New_deaths\": 0, \"Rolling\": 0.14285714285714285, \"Daily confirmed deaths\": \"Daily confirmed deaths\", \"7-day rolling average\": \"7-day rolling average\"}, {\"Dates\": \"2020-04-20\", \"New_deaths\": 0, \"Rolling\": 0.14285714285714285, \"Daily confirmed deaths\": \"Daily confirmed deaths\", \"7-day rolling average\": \"7-day rolling average\"}, {\"Dates\": \"2020-04-21\", \"New_deaths\": 1, \"Rolling\": 0.2857142857142857, \"Daily confirmed deaths\": \"Daily confirmed deaths\", \"7-day rolling average\": \"7-day rolling average\"}, {\"Dates\": \"2020-04-22\", \"New_deaths\": 1, \"Rolling\": 0.42857142857142855, \"Daily confirmed deaths\": \"Daily confirmed deaths\", \"7-day rolling average\": \"7-day rolling average\"}, {\"Dates\": \"2020-04-23\", \"New_deaths\": 0, \"Rolling\": 0.42857142857142855, \"Daily confirmed deaths\": \"Daily confirmed deaths\", \"7-day rolling average\": \"7-day rolling average\"}, {\"Dates\": \"2020-04-24\", \"New_deaths\": 0, \"Rolling\": 0.2857142857142857, \"Daily confirmed deaths\": \"Daily confirmed deaths\", \"7-day rolling average\": \"7-day rolling average\"}, {\"Dates\": \"2020-04-25\", \"New_deaths\": 0, \"Rolling\": 0.2857142857142857, \"Daily confirmed deaths\": \"Daily confirmed deaths\", \"7-day rolling average\": \"7-day rolling average\"}, {\"Dates\": \"2020-04-26\", \"New_deaths\": 1, \"Rolling\": 0.42857142857142855, \"Daily confirmed deaths\": \"Daily confirmed deaths\", \"7-day rolling average\": \"7-day rolling average\"}, {\"Dates\": \"2020-04-27\", \"New_deaths\": 0, \"Rolling\": 0.42857142857142855, \"Daily confirmed deaths\": \"Daily confirmed deaths\", \"7-day rolling average\": \"7-day rolling average\"}]}}, {\"mode\": \"vega-lite\"});\n",
       "</script>"
      ],
      "text/plain": [
       "alt.LayerChart(...)"
      ]
     },
     "execution_count": 96,
     "metadata": {},
     "output_type": "execute_result"
    }
   ],
   "source": [
    "#hide_input\n",
    "bars, line = my_deaths_plot(region)\n",
    "(bars + line).properties(\n",
    "    title=f'Covid-19 in Chile: Daily confirmed deaths in {region}',\n",
    "    width=600\n",
    ")"
   ]
  },
  {
   "cell_type": "markdown",
   "metadata": {
    "papermill": {
     "duration": 0.102108,
     "end_time": "2020-04-28T06:16:43.697816",
     "exception": false,
     "start_time": "2020-04-28T06:16:43.595708",
     "status": "completed"
    },
    "tags": []
   },
   "source": [
    "## Araucanía"
   ]
  },
  {
   "cell_type": "code",
   "execution_count": 97,
   "metadata": {
    "execution": {
     "iopub.execute_input": "2020-04-28T06:16:43.898624Z",
     "iopub.status.busy": "2020-04-28T06:16:43.898033Z",
     "iopub.status.idle": "2020-04-28T06:16:43.900430Z",
     "shell.execute_reply": "2020-04-28T06:16:43.899932Z"
    },
    "papermill": {
     "duration": 0.105011,
     "end_time": "2020-04-28T06:16:43.900536",
     "exception": false,
     "start_time": "2020-04-28T06:16:43.795525",
     "status": "completed"
    },
    "scrolled": true,
    "tags": []
   },
   "outputs": [],
   "source": [
    "#hide\n",
    "region = \"Araucanía\""
   ]
  },
  {
   "cell_type": "code",
   "execution_count": 98,
   "metadata": {
    "execution": {
     "iopub.execute_input": "2020-04-28T06:16:44.125617Z",
     "iopub.status.busy": "2020-04-28T06:16:44.125014Z",
     "iopub.status.idle": "2020-04-28T06:16:44.147404Z",
     "shell.execute_reply": "2020-04-28T06:16:44.147869Z"
    },
    "papermill": {
     "duration": 0.145912,
     "end_time": "2020-04-28T06:16:44.147998",
     "exception": false,
     "start_time": "2020-04-28T06:16:44.002086",
     "status": "completed"
    },
    "tags": []
   },
   "outputs": [
    {
     "data": {
      "text/html": [
       "\n",
       "<div id=\"altair-viz-432763a7565a4d7591c1fa641aa1c6aa\"></div>\n",
       "<script type=\"text/javascript\">\n",
       "  (function(spec, embedOpt){\n",
       "    let outputDiv = document.currentScript.previousElementSibling;\n",
       "    if (outputDiv.id !== \"altair-viz-432763a7565a4d7591c1fa641aa1c6aa\") {\n",
       "      outputDiv = document.getElementById(\"altair-viz-432763a7565a4d7591c1fa641aa1c6aa\");\n",
       "    }\n",
       "    const paths = {\n",
       "      \"vega\": \"https://cdn.jsdelivr.net/npm//vega@5?noext\",\n",
       "      \"vega-lib\": \"https://cdn.jsdelivr.net/npm//vega-lib?noext\",\n",
       "      \"vega-lite\": \"https://cdn.jsdelivr.net/npm//vega-lite@4.8.1?noext\",\n",
       "      \"vega-embed\": \"https://cdn.jsdelivr.net/npm//vega-embed@6?noext\",\n",
       "    };\n",
       "\n",
       "    function loadScript(lib) {\n",
       "      return new Promise(function(resolve, reject) {\n",
       "        var s = document.createElement('script');\n",
       "        s.src = paths[lib];\n",
       "        s.async = true;\n",
       "        s.onload = () => resolve(paths[lib]);\n",
       "        s.onerror = () => reject(`Error loading script: ${paths[lib]}`);\n",
       "        document.getElementsByTagName(\"head\")[0].appendChild(s);\n",
       "      });\n",
       "    }\n",
       "\n",
       "    function showError(err) {\n",
       "      outputDiv.innerHTML = `<div class=\"error\" style=\"color:red;\">${err}</div>`;\n",
       "      throw err;\n",
       "    }\n",
       "\n",
       "    function displayChart(vegaEmbed) {\n",
       "      vegaEmbed(outputDiv, spec, embedOpt)\n",
       "        .catch(err => showError(`Javascript Error: ${err.message}<br>This usually means there's a typo in your chart specification. See the javascript console for the full traceback.`));\n",
       "    }\n",
       "\n",
       "    if(typeof define === \"function\" && define.amd) {\n",
       "      requirejs.config({paths});\n",
       "      require([\"vega-embed\"], displayChart, err => showError(`Error loading script: ${err.message}`));\n",
       "    } else if (typeof vegaEmbed === \"function\") {\n",
       "      displayChart(vegaEmbed);\n",
       "    } else {\n",
       "      loadScript(\"vega\")\n",
       "        .then(() => loadScript(\"vega-lite\"))\n",
       "        .then(() => loadScript(\"vega-embed\"))\n",
       "        .catch(showError)\n",
       "        .then(() => displayChart(vegaEmbed));\n",
       "    }\n",
       "  })({\"config\": {\"view\": {\"continuousWidth\": 400, \"continuousHeight\": 300}}, \"layer\": [{\"mark\": {\"type\": \"bar\", \"color\": \"firebrick\", \"opacity\": 0.7}, \"encoding\": {\"opacity\": {\"type\": \"nominal\", \"field\": \"Daily confirmed deaths\", \"legend\": {\"title\": \"\"}}, \"tooltip\": [{\"type\": \"nominal\", \"field\": \"Dates\"}, {\"type\": \"quantitative\", \"field\": \"New_deaths\"}], \"x\": {\"type\": \"nominal\", \"axis\": {\"title\": \"Date\"}, \"field\": \"Dates\"}, \"y\": {\"type\": \"quantitative\", \"axis\": {\"title\": \"Daily confirmed deaths\"}, \"field\": \"New_deaths\"}}}, {\"mark\": {\"type\": \"line\", \"color\": \"firebrick\", \"point\": {\"filled\": true, \"fill\": \"firebrick\"}}, \"encoding\": {\"shape\": {\"type\": \"nominal\", \"field\": \"7-day rolling average\", \"legend\": {\"title\": \"\"}}, \"x\": {\"type\": \"nominal\", \"axis\": {\"title\": \"Date\"}, \"field\": \"Dates\"}, \"y\": {\"type\": \"quantitative\", \"field\": \"Rolling\"}}}], \"data\": {\"name\": \"data-b609f7a66eab95dadb97892b0782b2f1\"}, \"title\": \"Covid-19 in Chile: Daily confirmed deaths in Araucan\\u00eda\", \"width\": 600, \"$schema\": \"https://vega.github.io/schema/vega-lite/v4.8.1.json\", \"datasets\": {\"data-b609f7a66eab95dadb97892b0782b2f1\": [{\"Dates\": \"2020-03-25\", \"New_deaths\": 0, \"Rolling\": null, \"Daily confirmed deaths\": \"Daily confirmed deaths\", \"7-day rolling average\": \"7-day rolling average\"}, {\"Dates\": \"2020-03-26\", \"New_deaths\": 0, \"Rolling\": null, \"Daily confirmed deaths\": \"Daily confirmed deaths\", \"7-day rolling average\": \"7-day rolling average\"}, {\"Dates\": \"2020-03-27\", \"New_deaths\": 0, \"Rolling\": null, \"Daily confirmed deaths\": \"Daily confirmed deaths\", \"7-day rolling average\": \"7-day rolling average\"}, {\"Dates\": \"2020-03-28\", \"New_deaths\": 1, \"Rolling\": null, \"Daily confirmed deaths\": \"Daily confirmed deaths\", \"7-day rolling average\": \"7-day rolling average\"}, {\"Dates\": \"2020-03-29\", \"New_deaths\": 1, \"Rolling\": null, \"Daily confirmed deaths\": \"Daily confirmed deaths\", \"7-day rolling average\": \"7-day rolling average\"}, {\"Dates\": \"2020-03-30\", \"New_deaths\": 0, \"Rolling\": null, \"Daily confirmed deaths\": \"Daily confirmed deaths\", \"7-day rolling average\": \"7-day rolling average\"}, {\"Dates\": \"2020-03-31\", \"New_deaths\": 2, \"Rolling\": 0.5714285714285714, \"Daily confirmed deaths\": \"Daily confirmed deaths\", \"7-day rolling average\": \"7-day rolling average\"}, {\"Dates\": \"2020-04-01\", \"New_deaths\": 2, \"Rolling\": 0.8571428571428571, \"Daily confirmed deaths\": \"Daily confirmed deaths\", \"7-day rolling average\": \"7-day rolling average\"}, {\"Dates\": \"2020-04-02\", \"New_deaths\": 1, \"Rolling\": 1.0, \"Daily confirmed deaths\": \"Daily confirmed deaths\", \"7-day rolling average\": \"7-day rolling average\"}, {\"Dates\": \"2020-04-03\", \"New_deaths\": 0, \"Rolling\": 1.0, \"Daily confirmed deaths\": \"Daily confirmed deaths\", \"7-day rolling average\": \"7-day rolling average\"}, {\"Dates\": \"2020-04-04\", \"New_deaths\": 2, \"Rolling\": 1.1428571428571428, \"Daily confirmed deaths\": \"Daily confirmed deaths\", \"7-day rolling average\": \"7-day rolling average\"}, {\"Dates\": \"2020-04-05\", \"New_deaths\": 4, \"Rolling\": 1.5714285714285714, \"Daily confirmed deaths\": \"Daily confirmed deaths\", \"7-day rolling average\": \"7-day rolling average\"}, {\"Dates\": \"2020-04-06\", \"New_deaths\": 1, \"Rolling\": 1.7142857142857142, \"Daily confirmed deaths\": \"Daily confirmed deaths\", \"7-day rolling average\": \"7-day rolling average\"}, {\"Dates\": \"2020-04-07\", \"New_deaths\": 0, \"Rolling\": 1.4285714285714286, \"Daily confirmed deaths\": \"Daily confirmed deaths\", \"7-day rolling average\": \"7-day rolling average\"}, {\"Dates\": \"2020-04-08\", \"New_deaths\": 1, \"Rolling\": 1.2857142857142858, \"Daily confirmed deaths\": \"Daily confirmed deaths\", \"7-day rolling average\": \"7-day rolling average\"}, {\"Dates\": \"2020-04-09\", \"New_deaths\": 1, \"Rolling\": 1.2857142857142858, \"Daily confirmed deaths\": \"Daily confirmed deaths\", \"7-day rolling average\": \"7-day rolling average\"}, {\"Dates\": \"2020-04-10\", \"New_deaths\": 0, \"Rolling\": 1.2857142857142858, \"Daily confirmed deaths\": \"Daily confirmed deaths\", \"7-day rolling average\": \"7-day rolling average\"}, {\"Dates\": \"2020-04-11\", \"New_deaths\": 1, \"Rolling\": 1.1428571428571428, \"Daily confirmed deaths\": \"Daily confirmed deaths\", \"7-day rolling average\": \"7-day rolling average\"}, {\"Dates\": \"2020-04-12\", \"New_deaths\": 0, \"Rolling\": 0.5714285714285714, \"Daily confirmed deaths\": \"Daily confirmed deaths\", \"7-day rolling average\": \"7-day rolling average\"}, {\"Dates\": \"2020-04-13\", \"New_deaths\": 0, \"Rolling\": 0.42857142857142855, \"Daily confirmed deaths\": \"Daily confirmed deaths\", \"7-day rolling average\": \"7-day rolling average\"}, {\"Dates\": \"2020-04-14\", \"New_deaths\": 3, \"Rolling\": 0.8571428571428571, \"Daily confirmed deaths\": \"Daily confirmed deaths\", \"7-day rolling average\": \"7-day rolling average\"}, {\"Dates\": \"2020-04-15\", \"New_deaths\": 1, \"Rolling\": 0.8571428571428571, \"Daily confirmed deaths\": \"Daily confirmed deaths\", \"7-day rolling average\": \"7-day rolling average\"}, {\"Dates\": \"2020-04-16\", \"New_deaths\": 0, \"Rolling\": 0.7142857142857143, \"Daily confirmed deaths\": \"Daily confirmed deaths\", \"7-day rolling average\": \"7-day rolling average\"}, {\"Dates\": \"2020-04-17\", \"New_deaths\": 1, \"Rolling\": 0.8571428571428571, \"Daily confirmed deaths\": \"Daily confirmed deaths\", \"7-day rolling average\": \"7-day rolling average\"}, {\"Dates\": \"2020-04-18\", \"New_deaths\": 1, \"Rolling\": 0.8571428571428571, \"Daily confirmed deaths\": \"Daily confirmed deaths\", \"7-day rolling average\": \"7-day rolling average\"}, {\"Dates\": \"2020-04-19\", \"New_deaths\": 0, \"Rolling\": 0.8571428571428571, \"Daily confirmed deaths\": \"Daily confirmed deaths\", \"7-day rolling average\": \"7-day rolling average\"}, {\"Dates\": \"2020-04-20\", \"New_deaths\": 0, \"Rolling\": 0.8571428571428571, \"Daily confirmed deaths\": \"Daily confirmed deaths\", \"7-day rolling average\": \"7-day rolling average\"}, {\"Dates\": \"2020-04-21\", \"New_deaths\": 2, \"Rolling\": 0.7142857142857143, \"Daily confirmed deaths\": \"Daily confirmed deaths\", \"7-day rolling average\": \"7-day rolling average\"}, {\"Dates\": \"2020-04-22\", \"New_deaths\": 1, \"Rolling\": 0.7142857142857143, \"Daily confirmed deaths\": \"Daily confirmed deaths\", \"7-day rolling average\": \"7-day rolling average\"}, {\"Dates\": \"2020-04-23\", \"New_deaths\": 0, \"Rolling\": 0.7142857142857143, \"Daily confirmed deaths\": \"Daily confirmed deaths\", \"7-day rolling average\": \"7-day rolling average\"}, {\"Dates\": \"2020-04-24\", \"New_deaths\": 0, \"Rolling\": 0.5714285714285714, \"Daily confirmed deaths\": \"Daily confirmed deaths\", \"7-day rolling average\": \"7-day rolling average\"}, {\"Dates\": \"2020-04-25\", \"New_deaths\": 1, \"Rolling\": 0.5714285714285714, \"Daily confirmed deaths\": \"Daily confirmed deaths\", \"7-day rolling average\": \"7-day rolling average\"}, {\"Dates\": \"2020-04-26\", \"New_deaths\": 2, \"Rolling\": 0.8571428571428571, \"Daily confirmed deaths\": \"Daily confirmed deaths\", \"7-day rolling average\": \"7-day rolling average\"}, {\"Dates\": \"2020-04-27\", \"New_deaths\": 3, \"Rolling\": 1.2857142857142858, \"Daily confirmed deaths\": \"Daily confirmed deaths\", \"7-day rolling average\": \"7-day rolling average\"}]}}, {\"mode\": \"vega-lite\"});\n",
       "</script>"
      ],
      "text/plain": [
       "alt.LayerChart(...)"
      ]
     },
     "execution_count": 98,
     "metadata": {},
     "output_type": "execute_result"
    }
   ],
   "source": [
    "#hide_input\n",
    "bars, line = my_deaths_plot(region)\n",
    "(bars + line).properties(\n",
    "    title=f'Covid-19 in Chile: Daily confirmed deaths in {region}',\n",
    "    width=600\n",
    ")"
   ]
  },
  {
   "cell_type": "markdown",
   "metadata": {
    "papermill": {
     "duration": 0.10022,
     "end_time": "2020-04-28T06:16:44.351393",
     "exception": false,
     "start_time": "2020-04-28T06:16:44.251173",
     "status": "completed"
    },
    "tags": []
   },
   "source": [
    "## Los Ríos"
   ]
  },
  {
   "cell_type": "code",
   "execution_count": 99,
   "metadata": {
    "execution": {
     "iopub.execute_input": "2020-04-28T06:16:44.565502Z",
     "iopub.status.busy": "2020-04-28T06:16:44.564841Z",
     "iopub.status.idle": "2020-04-28T06:16:44.566875Z",
     "shell.execute_reply": "2020-04-28T06:16:44.567482Z"
    },
    "papermill": {
     "duration": 0.1102,
     "end_time": "2020-04-28T06:16:44.567616",
     "exception": false,
     "start_time": "2020-04-28T06:16:44.457416",
     "status": "completed"
    },
    "scrolled": true,
    "tags": []
   },
   "outputs": [],
   "source": [
    "#hide\n",
    "region = \"Los Ríos\""
   ]
  },
  {
   "cell_type": "code",
   "execution_count": 100,
   "metadata": {
    "execution": {
     "iopub.execute_input": "2020-04-28T06:16:44.791730Z",
     "iopub.status.busy": "2020-04-28T06:16:44.791131Z",
     "iopub.status.idle": "2020-04-28T06:16:44.819220Z",
     "shell.execute_reply": "2020-04-28T06:16:44.819683Z"
    },
    "papermill": {
     "duration": 0.15128,
     "end_time": "2020-04-28T06:16:44.819813",
     "exception": false,
     "start_time": "2020-04-28T06:16:44.668533",
     "status": "completed"
    },
    "tags": []
   },
   "outputs": [
    {
     "data": {
      "text/html": [
       "\n",
       "<div id=\"altair-viz-118c2047b7504328a72c977248278025\"></div>\n",
       "<script type=\"text/javascript\">\n",
       "  (function(spec, embedOpt){\n",
       "    let outputDiv = document.currentScript.previousElementSibling;\n",
       "    if (outputDiv.id !== \"altair-viz-118c2047b7504328a72c977248278025\") {\n",
       "      outputDiv = document.getElementById(\"altair-viz-118c2047b7504328a72c977248278025\");\n",
       "    }\n",
       "    const paths = {\n",
       "      \"vega\": \"https://cdn.jsdelivr.net/npm//vega@5?noext\",\n",
       "      \"vega-lib\": \"https://cdn.jsdelivr.net/npm//vega-lib?noext\",\n",
       "      \"vega-lite\": \"https://cdn.jsdelivr.net/npm//vega-lite@4.8.1?noext\",\n",
       "      \"vega-embed\": \"https://cdn.jsdelivr.net/npm//vega-embed@6?noext\",\n",
       "    };\n",
       "\n",
       "    function loadScript(lib) {\n",
       "      return new Promise(function(resolve, reject) {\n",
       "        var s = document.createElement('script');\n",
       "        s.src = paths[lib];\n",
       "        s.async = true;\n",
       "        s.onload = () => resolve(paths[lib]);\n",
       "        s.onerror = () => reject(`Error loading script: ${paths[lib]}`);\n",
       "        document.getElementsByTagName(\"head\")[0].appendChild(s);\n",
       "      });\n",
       "    }\n",
       "\n",
       "    function showError(err) {\n",
       "      outputDiv.innerHTML = `<div class=\"error\" style=\"color:red;\">${err}</div>`;\n",
       "      throw err;\n",
       "    }\n",
       "\n",
       "    function displayChart(vegaEmbed) {\n",
       "      vegaEmbed(outputDiv, spec, embedOpt)\n",
       "        .catch(err => showError(`Javascript Error: ${err.message}<br>This usually means there's a typo in your chart specification. See the javascript console for the full traceback.`));\n",
       "    }\n",
       "\n",
       "    if(typeof define === \"function\" && define.amd) {\n",
       "      requirejs.config({paths});\n",
       "      require([\"vega-embed\"], displayChart, err => showError(`Error loading script: ${err.message}`));\n",
       "    } else if (typeof vegaEmbed === \"function\") {\n",
       "      displayChart(vegaEmbed);\n",
       "    } else {\n",
       "      loadScript(\"vega\")\n",
       "        .then(() => loadScript(\"vega-lite\"))\n",
       "        .then(() => loadScript(\"vega-embed\"))\n",
       "        .catch(showError)\n",
       "        .then(() => displayChart(vegaEmbed));\n",
       "    }\n",
       "  })({\"config\": {\"view\": {\"continuousWidth\": 400, \"continuousHeight\": 300}}, \"layer\": [{\"mark\": {\"type\": \"bar\", \"color\": \"firebrick\", \"opacity\": 0.7}, \"encoding\": {\"opacity\": {\"type\": \"nominal\", \"field\": \"Daily confirmed deaths\", \"legend\": {\"title\": \"\"}}, \"tooltip\": [{\"type\": \"nominal\", \"field\": \"Dates\"}, {\"type\": \"quantitative\", \"field\": \"New_deaths\"}], \"x\": {\"type\": \"nominal\", \"axis\": {\"title\": \"Date\"}, \"field\": \"Dates\"}, \"y\": {\"type\": \"quantitative\", \"axis\": {\"title\": \"Daily confirmed deaths\"}, \"field\": \"New_deaths\"}}}, {\"mark\": {\"type\": \"line\", \"color\": \"firebrick\", \"point\": {\"filled\": true, \"fill\": \"firebrick\"}}, \"encoding\": {\"shape\": {\"type\": \"nominal\", \"field\": \"7-day rolling average\", \"legend\": {\"title\": \"\"}}, \"x\": {\"type\": \"nominal\", \"axis\": {\"title\": \"Date\"}, \"field\": \"Dates\"}, \"y\": {\"type\": \"quantitative\", \"field\": \"Rolling\"}}}], \"data\": {\"name\": \"data-01dd2f55ce3b07c6c7d406aab1134e20\"}, \"title\": \"Covid-19 in Chile: Daily confirmed deaths in Los R\\u00edos\", \"width\": 600, \"$schema\": \"https://vega.github.io/schema/vega-lite/v4.8.1.json\", \"datasets\": {\"data-01dd2f55ce3b07c6c7d406aab1134e20\": [{\"Dates\": \"2020-03-25\", \"New_deaths\": 0, \"Rolling\": null, \"Daily confirmed deaths\": \"Daily confirmed deaths\", \"7-day rolling average\": \"7-day rolling average\"}, {\"Dates\": \"2020-03-26\", \"New_deaths\": 0, \"Rolling\": null, \"Daily confirmed deaths\": \"Daily confirmed deaths\", \"7-day rolling average\": \"7-day rolling average\"}, {\"Dates\": \"2020-03-27\", \"New_deaths\": 0, \"Rolling\": null, \"Daily confirmed deaths\": \"Daily confirmed deaths\", \"7-day rolling average\": \"7-day rolling average\"}, {\"Dates\": \"2020-03-28\", \"New_deaths\": 0, \"Rolling\": null, \"Daily confirmed deaths\": \"Daily confirmed deaths\", \"7-day rolling average\": \"7-day rolling average\"}, {\"Dates\": \"2020-03-29\", \"New_deaths\": 0, \"Rolling\": null, \"Daily confirmed deaths\": \"Daily confirmed deaths\", \"7-day rolling average\": \"7-day rolling average\"}, {\"Dates\": \"2020-03-30\", \"New_deaths\": 0, \"Rolling\": null, \"Daily confirmed deaths\": \"Daily confirmed deaths\", \"7-day rolling average\": \"7-day rolling average\"}, {\"Dates\": \"2020-03-31\", \"New_deaths\": 0, \"Rolling\": 0.0, \"Daily confirmed deaths\": \"Daily confirmed deaths\", \"7-day rolling average\": \"7-day rolling average\"}, {\"Dates\": \"2020-04-01\", \"New_deaths\": 1, \"Rolling\": 0.14285714285714285, \"Daily confirmed deaths\": \"Daily confirmed deaths\", \"7-day rolling average\": \"7-day rolling average\"}, {\"Dates\": \"2020-04-02\", \"New_deaths\": 0, \"Rolling\": 0.14285714285714285, \"Daily confirmed deaths\": \"Daily confirmed deaths\", \"7-day rolling average\": \"7-day rolling average\"}, {\"Dates\": \"2020-04-03\", \"New_deaths\": 0, \"Rolling\": 0.14285714285714285, \"Daily confirmed deaths\": \"Daily confirmed deaths\", \"7-day rolling average\": \"7-day rolling average\"}, {\"Dates\": \"2020-04-04\", \"New_deaths\": 0, \"Rolling\": 0.14285714285714285, \"Daily confirmed deaths\": \"Daily confirmed deaths\", \"7-day rolling average\": \"7-day rolling average\"}, {\"Dates\": \"2020-04-05\", \"New_deaths\": 0, \"Rolling\": 0.14285714285714285, \"Daily confirmed deaths\": \"Daily confirmed deaths\", \"7-day rolling average\": \"7-day rolling average\"}, {\"Dates\": \"2020-04-06\", \"New_deaths\": 0, \"Rolling\": 0.14285714285714285, \"Daily confirmed deaths\": \"Daily confirmed deaths\", \"7-day rolling average\": \"7-day rolling average\"}, {\"Dates\": \"2020-04-07\", \"New_deaths\": 1, \"Rolling\": 0.2857142857142857, \"Daily confirmed deaths\": \"Daily confirmed deaths\", \"7-day rolling average\": \"7-day rolling average\"}, {\"Dates\": \"2020-04-08\", \"New_deaths\": 0, \"Rolling\": 0.14285714285714285, \"Daily confirmed deaths\": \"Daily confirmed deaths\", \"7-day rolling average\": \"7-day rolling average\"}, {\"Dates\": \"2020-04-09\", \"New_deaths\": 0, \"Rolling\": 0.14285714285714285, \"Daily confirmed deaths\": \"Daily confirmed deaths\", \"7-day rolling average\": \"7-day rolling average\"}, {\"Dates\": \"2020-04-10\", \"New_deaths\": 0, \"Rolling\": 0.14285714285714285, \"Daily confirmed deaths\": \"Daily confirmed deaths\", \"7-day rolling average\": \"7-day rolling average\"}, {\"Dates\": \"2020-04-11\", \"New_deaths\": 0, \"Rolling\": 0.14285714285714285, \"Daily confirmed deaths\": \"Daily confirmed deaths\", \"7-day rolling average\": \"7-day rolling average\"}, {\"Dates\": \"2020-04-12\", \"New_deaths\": 1, \"Rolling\": 0.2857142857142857, \"Daily confirmed deaths\": \"Daily confirmed deaths\", \"7-day rolling average\": \"7-day rolling average\"}, {\"Dates\": \"2020-04-13\", \"New_deaths\": 0, \"Rolling\": 0.2857142857142857, \"Daily confirmed deaths\": \"Daily confirmed deaths\", \"7-day rolling average\": \"7-day rolling average\"}, {\"Dates\": \"2020-04-14\", \"New_deaths\": 0, \"Rolling\": 0.14285714285714285, \"Daily confirmed deaths\": \"Daily confirmed deaths\", \"7-day rolling average\": \"7-day rolling average\"}, {\"Dates\": \"2020-04-15\", \"New_deaths\": 0, \"Rolling\": 0.14285714285714285, \"Daily confirmed deaths\": \"Daily confirmed deaths\", \"7-day rolling average\": \"7-day rolling average\"}, {\"Dates\": \"2020-04-16\", \"New_deaths\": 0, \"Rolling\": 0.14285714285714285, \"Daily confirmed deaths\": \"Daily confirmed deaths\", \"7-day rolling average\": \"7-day rolling average\"}, {\"Dates\": \"2020-04-17\", \"New_deaths\": 0, \"Rolling\": 0.14285714285714285, \"Daily confirmed deaths\": \"Daily confirmed deaths\", \"7-day rolling average\": \"7-day rolling average\"}, {\"Dates\": \"2020-04-18\", \"New_deaths\": 0, \"Rolling\": 0.14285714285714285, \"Daily confirmed deaths\": \"Daily confirmed deaths\", \"7-day rolling average\": \"7-day rolling average\"}, {\"Dates\": \"2020-04-19\", \"New_deaths\": 0, \"Rolling\": 0.0, \"Daily confirmed deaths\": \"Daily confirmed deaths\", \"7-day rolling average\": \"7-day rolling average\"}, {\"Dates\": \"2020-04-20\", \"New_deaths\": 0, \"Rolling\": 0.0, \"Daily confirmed deaths\": \"Daily confirmed deaths\", \"7-day rolling average\": \"7-day rolling average\"}, {\"Dates\": \"2020-04-21\", \"New_deaths\": 0, \"Rolling\": 0.0, \"Daily confirmed deaths\": \"Daily confirmed deaths\", \"7-day rolling average\": \"7-day rolling average\"}, {\"Dates\": \"2020-04-22\", \"New_deaths\": 0, \"Rolling\": 0.0, \"Daily confirmed deaths\": \"Daily confirmed deaths\", \"7-day rolling average\": \"7-day rolling average\"}, {\"Dates\": \"2020-04-23\", \"New_deaths\": 0, \"Rolling\": 0.0, \"Daily confirmed deaths\": \"Daily confirmed deaths\", \"7-day rolling average\": \"7-day rolling average\"}, {\"Dates\": \"2020-04-24\", \"New_deaths\": 0, \"Rolling\": 0.0, \"Daily confirmed deaths\": \"Daily confirmed deaths\", \"7-day rolling average\": \"7-day rolling average\"}, {\"Dates\": \"2020-04-25\", \"New_deaths\": 0, \"Rolling\": 0.0, \"Daily confirmed deaths\": \"Daily confirmed deaths\", \"7-day rolling average\": \"7-day rolling average\"}, {\"Dates\": \"2020-04-26\", \"New_deaths\": 0, \"Rolling\": 0.0, \"Daily confirmed deaths\": \"Daily confirmed deaths\", \"7-day rolling average\": \"7-day rolling average\"}, {\"Dates\": \"2020-04-27\", \"New_deaths\": 0, \"Rolling\": 0.0, \"Daily confirmed deaths\": \"Daily confirmed deaths\", \"7-day rolling average\": \"7-day rolling average\"}]}}, {\"mode\": \"vega-lite\"});\n",
       "</script>"
      ],
      "text/plain": [
       "alt.LayerChart(...)"
      ]
     },
     "execution_count": 100,
     "metadata": {},
     "output_type": "execute_result"
    }
   ],
   "source": [
    "#hide_input\n",
    "bars, line = my_deaths_plot(region)\n",
    "(bars + line).properties(\n",
    "    title=f'Covid-19 in Chile: Daily confirmed deaths in {region}',\n",
    "    width=600\n",
    ")"
   ]
  },
  {
   "cell_type": "markdown",
   "metadata": {
    "papermill": {
     "duration": 0.102976,
     "end_time": "2020-04-28T06:16:45.040905",
     "exception": false,
     "start_time": "2020-04-28T06:16:44.937929",
     "status": "completed"
    },
    "tags": []
   },
   "source": [
    "## Los Lagos"
   ]
  },
  {
   "cell_type": "code",
   "execution_count": 101,
   "metadata": {
    "execution": {
     "iopub.execute_input": "2020-04-28T06:16:45.250991Z",
     "iopub.status.busy": "2020-04-28T06:16:45.250406Z",
     "iopub.status.idle": "2020-04-28T06:16:45.252788Z",
     "shell.execute_reply": "2020-04-28T06:16:45.252294Z"
    },
    "papermill": {
     "duration": 0.105296,
     "end_time": "2020-04-28T06:16:45.252928",
     "exception": false,
     "start_time": "2020-04-28T06:16:45.147632",
     "status": "completed"
    },
    "scrolled": true,
    "tags": []
   },
   "outputs": [],
   "source": [
    "#hide\n",
    "region = \"Los Lagos\""
   ]
  },
  {
   "cell_type": "code",
   "execution_count": 102,
   "metadata": {
    "execution": {
     "iopub.execute_input": "2020-04-28T06:16:45.472709Z",
     "iopub.status.busy": "2020-04-28T06:16:45.467520Z",
     "iopub.status.idle": "2020-04-28T06:16:45.495634Z",
     "shell.execute_reply": "2020-04-28T06:16:45.496216Z"
    },
    "papermill": {
     "duration": 0.144761,
     "end_time": "2020-04-28T06:16:45.496351",
     "exception": false,
     "start_time": "2020-04-28T06:16:45.351590",
     "status": "completed"
    },
    "tags": []
   },
   "outputs": [
    {
     "data": {
      "text/html": [
       "\n",
       "<div id=\"altair-viz-85061c206775444291718c767a14041b\"></div>\n",
       "<script type=\"text/javascript\">\n",
       "  (function(spec, embedOpt){\n",
       "    let outputDiv = document.currentScript.previousElementSibling;\n",
       "    if (outputDiv.id !== \"altair-viz-85061c206775444291718c767a14041b\") {\n",
       "      outputDiv = document.getElementById(\"altair-viz-85061c206775444291718c767a14041b\");\n",
       "    }\n",
       "    const paths = {\n",
       "      \"vega\": \"https://cdn.jsdelivr.net/npm//vega@5?noext\",\n",
       "      \"vega-lib\": \"https://cdn.jsdelivr.net/npm//vega-lib?noext\",\n",
       "      \"vega-lite\": \"https://cdn.jsdelivr.net/npm//vega-lite@4.8.1?noext\",\n",
       "      \"vega-embed\": \"https://cdn.jsdelivr.net/npm//vega-embed@6?noext\",\n",
       "    };\n",
       "\n",
       "    function loadScript(lib) {\n",
       "      return new Promise(function(resolve, reject) {\n",
       "        var s = document.createElement('script');\n",
       "        s.src = paths[lib];\n",
       "        s.async = true;\n",
       "        s.onload = () => resolve(paths[lib]);\n",
       "        s.onerror = () => reject(`Error loading script: ${paths[lib]}`);\n",
       "        document.getElementsByTagName(\"head\")[0].appendChild(s);\n",
       "      });\n",
       "    }\n",
       "\n",
       "    function showError(err) {\n",
       "      outputDiv.innerHTML = `<div class=\"error\" style=\"color:red;\">${err}</div>`;\n",
       "      throw err;\n",
       "    }\n",
       "\n",
       "    function displayChart(vegaEmbed) {\n",
       "      vegaEmbed(outputDiv, spec, embedOpt)\n",
       "        .catch(err => showError(`Javascript Error: ${err.message}<br>This usually means there's a typo in your chart specification. See the javascript console for the full traceback.`));\n",
       "    }\n",
       "\n",
       "    if(typeof define === \"function\" && define.amd) {\n",
       "      requirejs.config({paths});\n",
       "      require([\"vega-embed\"], displayChart, err => showError(`Error loading script: ${err.message}`));\n",
       "    } else if (typeof vegaEmbed === \"function\") {\n",
       "      displayChart(vegaEmbed);\n",
       "    } else {\n",
       "      loadScript(\"vega\")\n",
       "        .then(() => loadScript(\"vega-lite\"))\n",
       "        .then(() => loadScript(\"vega-embed\"))\n",
       "        .catch(showError)\n",
       "        .then(() => displayChart(vegaEmbed));\n",
       "    }\n",
       "  })({\"config\": {\"view\": {\"continuousWidth\": 400, \"continuousHeight\": 300}}, \"layer\": [{\"mark\": {\"type\": \"bar\", \"color\": \"firebrick\", \"opacity\": 0.7}, \"encoding\": {\"opacity\": {\"type\": \"nominal\", \"field\": \"Daily confirmed deaths\", \"legend\": {\"title\": \"\"}}, \"tooltip\": [{\"type\": \"nominal\", \"field\": \"Dates\"}, {\"type\": \"quantitative\", \"field\": \"New_deaths\"}], \"x\": {\"type\": \"nominal\", \"axis\": {\"title\": \"Date\"}, \"field\": \"Dates\"}, \"y\": {\"type\": \"quantitative\", \"axis\": {\"title\": \"Daily confirmed deaths\"}, \"field\": \"New_deaths\"}}}, {\"mark\": {\"type\": \"line\", \"color\": \"firebrick\", \"point\": {\"filled\": true, \"fill\": \"firebrick\"}}, \"encoding\": {\"shape\": {\"type\": \"nominal\", \"field\": \"7-day rolling average\", \"legend\": {\"title\": \"\"}}, \"x\": {\"type\": \"nominal\", \"axis\": {\"title\": \"Date\"}, \"field\": \"Dates\"}, \"y\": {\"type\": \"quantitative\", \"field\": \"Rolling\"}}}], \"data\": {\"name\": \"data-42b842d04bd934023282645b7e367213\"}, \"title\": \"Covid-19 in Chile: Daily confirmed deaths in Los Lagos\", \"width\": 600, \"$schema\": \"https://vega.github.io/schema/vega-lite/v4.8.1.json\", \"datasets\": {\"data-42b842d04bd934023282645b7e367213\": [{\"Dates\": \"2020-03-25\", \"New_deaths\": 0, \"Rolling\": null, \"Daily confirmed deaths\": \"Daily confirmed deaths\", \"7-day rolling average\": \"7-day rolling average\"}, {\"Dates\": \"2020-03-26\", \"New_deaths\": 0, \"Rolling\": null, \"Daily confirmed deaths\": \"Daily confirmed deaths\", \"7-day rolling average\": \"7-day rolling average\"}, {\"Dates\": \"2020-03-27\", \"New_deaths\": 0, \"Rolling\": null, \"Daily confirmed deaths\": \"Daily confirmed deaths\", \"7-day rolling average\": \"7-day rolling average\"}, {\"Dates\": \"2020-03-28\", \"New_deaths\": 0, \"Rolling\": null, \"Daily confirmed deaths\": \"Daily confirmed deaths\", \"7-day rolling average\": \"7-day rolling average\"}, {\"Dates\": \"2020-03-29\", \"New_deaths\": 0, \"Rolling\": null, \"Daily confirmed deaths\": \"Daily confirmed deaths\", \"7-day rolling average\": \"7-day rolling average\"}, {\"Dates\": \"2020-03-30\", \"New_deaths\": 0, \"Rolling\": null, \"Daily confirmed deaths\": \"Daily confirmed deaths\", \"7-day rolling average\": \"7-day rolling average\"}, {\"Dates\": \"2020-03-31\", \"New_deaths\": 0, \"Rolling\": 0.0, \"Daily confirmed deaths\": \"Daily confirmed deaths\", \"7-day rolling average\": \"7-day rolling average\"}, {\"Dates\": \"2020-04-01\", \"New_deaths\": 0, \"Rolling\": 0.0, \"Daily confirmed deaths\": \"Daily confirmed deaths\", \"7-day rolling average\": \"7-day rolling average\"}, {\"Dates\": \"2020-04-02\", \"New_deaths\": 0, \"Rolling\": 0.0, \"Daily confirmed deaths\": \"Daily confirmed deaths\", \"7-day rolling average\": \"7-day rolling average\"}, {\"Dates\": \"2020-04-03\", \"New_deaths\": 0, \"Rolling\": 0.0, \"Daily confirmed deaths\": \"Daily confirmed deaths\", \"7-day rolling average\": \"7-day rolling average\"}, {\"Dates\": \"2020-04-04\", \"New_deaths\": 0, \"Rolling\": 0.0, \"Daily confirmed deaths\": \"Daily confirmed deaths\", \"7-day rolling average\": \"7-day rolling average\"}, {\"Dates\": \"2020-04-05\", \"New_deaths\": 1, \"Rolling\": 0.14285714285714285, \"Daily confirmed deaths\": \"Daily confirmed deaths\", \"7-day rolling average\": \"7-day rolling average\"}, {\"Dates\": \"2020-04-06\", \"New_deaths\": 1, \"Rolling\": 0.2857142857142857, \"Daily confirmed deaths\": \"Daily confirmed deaths\", \"7-day rolling average\": \"7-day rolling average\"}, {\"Dates\": \"2020-04-07\", \"New_deaths\": 0, \"Rolling\": 0.2857142857142857, \"Daily confirmed deaths\": \"Daily confirmed deaths\", \"7-day rolling average\": \"7-day rolling average\"}, {\"Dates\": \"2020-04-08\", \"New_deaths\": 0, \"Rolling\": 0.2857142857142857, \"Daily confirmed deaths\": \"Daily confirmed deaths\", \"7-day rolling average\": \"7-day rolling average\"}, {\"Dates\": \"2020-04-09\", \"New_deaths\": 0, \"Rolling\": 0.2857142857142857, \"Daily confirmed deaths\": \"Daily confirmed deaths\", \"7-day rolling average\": \"7-day rolling average\"}, {\"Dates\": \"2020-04-10\", \"New_deaths\": 0, \"Rolling\": 0.2857142857142857, \"Daily confirmed deaths\": \"Daily confirmed deaths\", \"7-day rolling average\": \"7-day rolling average\"}, {\"Dates\": \"2020-04-11\", \"New_deaths\": 3, \"Rolling\": 0.7142857142857143, \"Daily confirmed deaths\": \"Daily confirmed deaths\", \"7-day rolling average\": \"7-day rolling average\"}, {\"Dates\": \"2020-04-12\", \"New_deaths\": 0, \"Rolling\": 0.5714285714285714, \"Daily confirmed deaths\": \"Daily confirmed deaths\", \"7-day rolling average\": \"7-day rolling average\"}, {\"Dates\": \"2020-04-13\", \"New_deaths\": 0, \"Rolling\": 0.42857142857142855, \"Daily confirmed deaths\": \"Daily confirmed deaths\", \"7-day rolling average\": \"7-day rolling average\"}, {\"Dates\": \"2020-04-14\", \"New_deaths\": 0, \"Rolling\": 0.42857142857142855, \"Daily confirmed deaths\": \"Daily confirmed deaths\", \"7-day rolling average\": \"7-day rolling average\"}, {\"Dates\": \"2020-04-15\", \"New_deaths\": 0, \"Rolling\": 0.42857142857142855, \"Daily confirmed deaths\": \"Daily confirmed deaths\", \"7-day rolling average\": \"7-day rolling average\"}, {\"Dates\": \"2020-04-16\", \"New_deaths\": 0, \"Rolling\": 0.42857142857142855, \"Daily confirmed deaths\": \"Daily confirmed deaths\", \"7-day rolling average\": \"7-day rolling average\"}, {\"Dates\": \"2020-04-17\", \"New_deaths\": 1, \"Rolling\": 0.5714285714285714, \"Daily confirmed deaths\": \"Daily confirmed deaths\", \"7-day rolling average\": \"7-day rolling average\"}, {\"Dates\": \"2020-04-18\", \"New_deaths\": 0, \"Rolling\": 0.14285714285714285, \"Daily confirmed deaths\": \"Daily confirmed deaths\", \"7-day rolling average\": \"7-day rolling average\"}, {\"Dates\": \"2020-04-19\", \"New_deaths\": 0, \"Rolling\": 0.14285714285714285, \"Daily confirmed deaths\": \"Daily confirmed deaths\", \"7-day rolling average\": \"7-day rolling average\"}, {\"Dates\": \"2020-04-20\", \"New_deaths\": 0, \"Rolling\": 0.14285714285714285, \"Daily confirmed deaths\": \"Daily confirmed deaths\", \"7-day rolling average\": \"7-day rolling average\"}, {\"Dates\": \"2020-04-21\", \"New_deaths\": 0, \"Rolling\": 0.14285714285714285, \"Daily confirmed deaths\": \"Daily confirmed deaths\", \"7-day rolling average\": \"7-day rolling average\"}, {\"Dates\": \"2020-04-22\", \"New_deaths\": 0, \"Rolling\": 0.14285714285714285, \"Daily confirmed deaths\": \"Daily confirmed deaths\", \"7-day rolling average\": \"7-day rolling average\"}, {\"Dates\": \"2020-04-23\", \"New_deaths\": 1, \"Rolling\": 0.2857142857142857, \"Daily confirmed deaths\": \"Daily confirmed deaths\", \"7-day rolling average\": \"7-day rolling average\"}, {\"Dates\": \"2020-04-24\", \"New_deaths\": 1, \"Rolling\": 0.2857142857142857, \"Daily confirmed deaths\": \"Daily confirmed deaths\", \"7-day rolling average\": \"7-day rolling average\"}, {\"Dates\": \"2020-04-25\", \"New_deaths\": 0, \"Rolling\": 0.2857142857142857, \"Daily confirmed deaths\": \"Daily confirmed deaths\", \"7-day rolling average\": \"7-day rolling average\"}, {\"Dates\": \"2020-04-26\", \"New_deaths\": 0, \"Rolling\": 0.2857142857142857, \"Daily confirmed deaths\": \"Daily confirmed deaths\", \"7-day rolling average\": \"7-day rolling average\"}, {\"Dates\": \"2020-04-27\", \"New_deaths\": 0, \"Rolling\": 0.2857142857142857, \"Daily confirmed deaths\": \"Daily confirmed deaths\", \"7-day rolling average\": \"7-day rolling average\"}]}}, {\"mode\": \"vega-lite\"});\n",
       "</script>"
      ],
      "text/plain": [
       "alt.LayerChart(...)"
      ]
     },
     "execution_count": 102,
     "metadata": {},
     "output_type": "execute_result"
    }
   ],
   "source": [
    "#hide_input\n",
    "bars, line = my_deaths_plot(region)\n",
    "(bars + line).properties(\n",
    "    title=f'Covid-19 in Chile: Daily confirmed deaths in {region}',\n",
    "    width=600\n",
    ")"
   ]
  },
  {
   "cell_type": "markdown",
   "metadata": {
    "papermill": {
     "duration": 0.09784,
     "end_time": "2020-04-28T06:16:45.694534",
     "exception": false,
     "start_time": "2020-04-28T06:16:45.596694",
     "status": "completed"
    },
    "tags": []
   },
   "source": [
    "## Aysén"
   ]
  },
  {
   "cell_type": "code",
   "execution_count": 103,
   "metadata": {
    "execution": {
     "iopub.execute_input": "2020-04-28T06:16:45.896563Z",
     "iopub.status.busy": "2020-04-28T06:16:45.895963Z",
     "iopub.status.idle": "2020-04-28T06:16:45.898245Z",
     "shell.execute_reply": "2020-04-28T06:16:45.897736Z"
    },
    "papermill": {
     "duration": 0.105366,
     "end_time": "2020-04-28T06:16:45.898354",
     "exception": false,
     "start_time": "2020-04-28T06:16:45.792988",
     "status": "completed"
    },
    "scrolled": true,
    "tags": []
   },
   "outputs": [],
   "source": [
    "#hide\n",
    "region = \"Aysén\""
   ]
  },
  {
   "cell_type": "code",
   "execution_count": 104,
   "metadata": {
    "execution": {
     "iopub.execute_input": "2020-04-28T06:16:46.118751Z",
     "iopub.status.busy": "2020-04-28T06:16:46.118111Z",
     "iopub.status.idle": "2020-04-28T06:16:46.155534Z",
     "shell.execute_reply": "2020-04-28T06:16:46.156171Z"
    },
    "papermill": {
     "duration": 0.158534,
     "end_time": "2020-04-28T06:16:46.156339",
     "exception": false,
     "start_time": "2020-04-28T06:16:45.997805",
     "status": "completed"
    },
    "tags": []
   },
   "outputs": [
    {
     "data": {
      "text/html": [
       "\n",
       "<div id=\"altair-viz-af04f83f0c5548c8bd35dfb34dfed4b9\"></div>\n",
       "<script type=\"text/javascript\">\n",
       "  (function(spec, embedOpt){\n",
       "    let outputDiv = document.currentScript.previousElementSibling;\n",
       "    if (outputDiv.id !== \"altair-viz-af04f83f0c5548c8bd35dfb34dfed4b9\") {\n",
       "      outputDiv = document.getElementById(\"altair-viz-af04f83f0c5548c8bd35dfb34dfed4b9\");\n",
       "    }\n",
       "    const paths = {\n",
       "      \"vega\": \"https://cdn.jsdelivr.net/npm//vega@5?noext\",\n",
       "      \"vega-lib\": \"https://cdn.jsdelivr.net/npm//vega-lib?noext\",\n",
       "      \"vega-lite\": \"https://cdn.jsdelivr.net/npm//vega-lite@4.8.1?noext\",\n",
       "      \"vega-embed\": \"https://cdn.jsdelivr.net/npm//vega-embed@6?noext\",\n",
       "    };\n",
       "\n",
       "    function loadScript(lib) {\n",
       "      return new Promise(function(resolve, reject) {\n",
       "        var s = document.createElement('script');\n",
       "        s.src = paths[lib];\n",
       "        s.async = true;\n",
       "        s.onload = () => resolve(paths[lib]);\n",
       "        s.onerror = () => reject(`Error loading script: ${paths[lib]}`);\n",
       "        document.getElementsByTagName(\"head\")[0].appendChild(s);\n",
       "      });\n",
       "    }\n",
       "\n",
       "    function showError(err) {\n",
       "      outputDiv.innerHTML = `<div class=\"error\" style=\"color:red;\">${err}</div>`;\n",
       "      throw err;\n",
       "    }\n",
       "\n",
       "    function displayChart(vegaEmbed) {\n",
       "      vegaEmbed(outputDiv, spec, embedOpt)\n",
       "        .catch(err => showError(`Javascript Error: ${err.message}<br>This usually means there's a typo in your chart specification. See the javascript console for the full traceback.`));\n",
       "    }\n",
       "\n",
       "    if(typeof define === \"function\" && define.amd) {\n",
       "      requirejs.config({paths});\n",
       "      require([\"vega-embed\"], displayChart, err => showError(`Error loading script: ${err.message}`));\n",
       "    } else if (typeof vegaEmbed === \"function\") {\n",
       "      displayChart(vegaEmbed);\n",
       "    } else {\n",
       "      loadScript(\"vega\")\n",
       "        .then(() => loadScript(\"vega-lite\"))\n",
       "        .then(() => loadScript(\"vega-embed\"))\n",
       "        .catch(showError)\n",
       "        .then(() => displayChart(vegaEmbed));\n",
       "    }\n",
       "  })({\"config\": {\"view\": {\"continuousWidth\": 400, \"continuousHeight\": 300}}, \"layer\": [{\"mark\": {\"type\": \"bar\", \"color\": \"firebrick\", \"opacity\": 0.7}, \"encoding\": {\"opacity\": {\"type\": \"nominal\", \"field\": \"Daily confirmed deaths\", \"legend\": {\"title\": \"\"}}, \"tooltip\": [{\"type\": \"nominal\", \"field\": \"Dates\"}, {\"type\": \"quantitative\", \"field\": \"New_deaths\"}], \"x\": {\"type\": \"nominal\", \"axis\": {\"title\": \"Date\"}, \"field\": \"Dates\"}, \"y\": {\"type\": \"quantitative\", \"axis\": {\"title\": \"Daily confirmed deaths\"}, \"field\": \"New_deaths\"}}}, {\"mark\": {\"type\": \"line\", \"color\": \"firebrick\", \"point\": {\"filled\": true, \"fill\": \"firebrick\"}}, \"encoding\": {\"shape\": {\"type\": \"nominal\", \"field\": \"7-day rolling average\", \"legend\": {\"title\": \"\"}}, \"x\": {\"type\": \"nominal\", \"axis\": {\"title\": \"Date\"}, \"field\": \"Dates\"}, \"y\": {\"type\": \"quantitative\", \"field\": \"Rolling\"}}}], \"data\": {\"name\": \"data-89564600f842dbd2546063583189a8b0\"}, \"title\": \"Covid-19 in Chile: Daily confirmed deaths in Ays\\u00e9n\", \"width\": 600, \"$schema\": \"https://vega.github.io/schema/vega-lite/v4.8.1.json\", \"datasets\": {\"data-89564600f842dbd2546063583189a8b0\": [{\"Dates\": \"2020-03-25\", \"New_deaths\": 0, \"Rolling\": null, \"Daily confirmed deaths\": \"Daily confirmed deaths\", \"7-day rolling average\": \"7-day rolling average\"}, {\"Dates\": \"2020-03-26\", \"New_deaths\": 0, \"Rolling\": null, \"Daily confirmed deaths\": \"Daily confirmed deaths\", \"7-day rolling average\": \"7-day rolling average\"}, {\"Dates\": \"2020-03-27\", \"New_deaths\": 0, \"Rolling\": null, \"Daily confirmed deaths\": \"Daily confirmed deaths\", \"7-day rolling average\": \"7-day rolling average\"}, {\"Dates\": \"2020-03-28\", \"New_deaths\": 0, \"Rolling\": null, \"Daily confirmed deaths\": \"Daily confirmed deaths\", \"7-day rolling average\": \"7-day rolling average\"}, {\"Dates\": \"2020-03-29\", \"New_deaths\": 0, \"Rolling\": null, \"Daily confirmed deaths\": \"Daily confirmed deaths\", \"7-day rolling average\": \"7-day rolling average\"}, {\"Dates\": \"2020-03-30\", \"New_deaths\": 0, \"Rolling\": null, \"Daily confirmed deaths\": \"Daily confirmed deaths\", \"7-day rolling average\": \"7-day rolling average\"}, {\"Dates\": \"2020-03-31\", \"New_deaths\": 0, \"Rolling\": 0.0, \"Daily confirmed deaths\": \"Daily confirmed deaths\", \"7-day rolling average\": \"7-day rolling average\"}, {\"Dates\": \"2020-04-01\", \"New_deaths\": 0, \"Rolling\": 0.0, \"Daily confirmed deaths\": \"Daily confirmed deaths\", \"7-day rolling average\": \"7-day rolling average\"}, {\"Dates\": \"2020-04-02\", \"New_deaths\": 0, \"Rolling\": 0.0, \"Daily confirmed deaths\": \"Daily confirmed deaths\", \"7-day rolling average\": \"7-day rolling average\"}, {\"Dates\": \"2020-04-03\", \"New_deaths\": 0, \"Rolling\": 0.0, \"Daily confirmed deaths\": \"Daily confirmed deaths\", \"7-day rolling average\": \"7-day rolling average\"}, {\"Dates\": \"2020-04-04\", \"New_deaths\": 0, \"Rolling\": 0.0, \"Daily confirmed deaths\": \"Daily confirmed deaths\", \"7-day rolling average\": \"7-day rolling average\"}, {\"Dates\": \"2020-04-05\", \"New_deaths\": 0, \"Rolling\": 0.0, \"Daily confirmed deaths\": \"Daily confirmed deaths\", \"7-day rolling average\": \"7-day rolling average\"}, {\"Dates\": \"2020-04-06\", \"New_deaths\": 0, \"Rolling\": 0.0, \"Daily confirmed deaths\": \"Daily confirmed deaths\", \"7-day rolling average\": \"7-day rolling average\"}, {\"Dates\": \"2020-04-07\", \"New_deaths\": 0, \"Rolling\": 0.0, \"Daily confirmed deaths\": \"Daily confirmed deaths\", \"7-day rolling average\": \"7-day rolling average\"}, {\"Dates\": \"2020-04-08\", \"New_deaths\": 0, \"Rolling\": 0.0, \"Daily confirmed deaths\": \"Daily confirmed deaths\", \"7-day rolling average\": \"7-day rolling average\"}, {\"Dates\": \"2020-04-09\", \"New_deaths\": 0, \"Rolling\": 0.0, \"Daily confirmed deaths\": \"Daily confirmed deaths\", \"7-day rolling average\": \"7-day rolling average\"}, {\"Dates\": \"2020-04-10\", \"New_deaths\": 0, \"Rolling\": 0.0, \"Daily confirmed deaths\": \"Daily confirmed deaths\", \"7-day rolling average\": \"7-day rolling average\"}, {\"Dates\": \"2020-04-11\", \"New_deaths\": 0, \"Rolling\": 0.0, \"Daily confirmed deaths\": \"Daily confirmed deaths\", \"7-day rolling average\": \"7-day rolling average\"}, {\"Dates\": \"2020-04-12\", \"New_deaths\": 0, \"Rolling\": 0.0, \"Daily confirmed deaths\": \"Daily confirmed deaths\", \"7-day rolling average\": \"7-day rolling average\"}, {\"Dates\": \"2020-04-13\", \"New_deaths\": 0, \"Rolling\": 0.0, \"Daily confirmed deaths\": \"Daily confirmed deaths\", \"7-day rolling average\": \"7-day rolling average\"}, {\"Dates\": \"2020-04-14\", \"New_deaths\": 0, \"Rolling\": 0.0, \"Daily confirmed deaths\": \"Daily confirmed deaths\", \"7-day rolling average\": \"7-day rolling average\"}, {\"Dates\": \"2020-04-15\", \"New_deaths\": 0, \"Rolling\": 0.0, \"Daily confirmed deaths\": \"Daily confirmed deaths\", \"7-day rolling average\": \"7-day rolling average\"}, {\"Dates\": \"2020-04-16\", \"New_deaths\": 0, \"Rolling\": 0.0, \"Daily confirmed deaths\": \"Daily confirmed deaths\", \"7-day rolling average\": \"7-day rolling average\"}, {\"Dates\": \"2020-04-17\", \"New_deaths\": 0, \"Rolling\": 0.0, \"Daily confirmed deaths\": \"Daily confirmed deaths\", \"7-day rolling average\": \"7-day rolling average\"}, {\"Dates\": \"2020-04-18\", \"New_deaths\": 0, \"Rolling\": 0.0, \"Daily confirmed deaths\": \"Daily confirmed deaths\", \"7-day rolling average\": \"7-day rolling average\"}, {\"Dates\": \"2020-04-19\", \"New_deaths\": 0, \"Rolling\": 0.0, \"Daily confirmed deaths\": \"Daily confirmed deaths\", \"7-day rolling average\": \"7-day rolling average\"}, {\"Dates\": \"2020-04-20\", \"New_deaths\": 0, \"Rolling\": 0.0, \"Daily confirmed deaths\": \"Daily confirmed deaths\", \"7-day rolling average\": \"7-day rolling average\"}, {\"Dates\": \"2020-04-21\", \"New_deaths\": 0, \"Rolling\": 0.0, \"Daily confirmed deaths\": \"Daily confirmed deaths\", \"7-day rolling average\": \"7-day rolling average\"}, {\"Dates\": \"2020-04-22\", \"New_deaths\": 0, \"Rolling\": 0.0, \"Daily confirmed deaths\": \"Daily confirmed deaths\", \"7-day rolling average\": \"7-day rolling average\"}, {\"Dates\": \"2020-04-23\", \"New_deaths\": 0, \"Rolling\": 0.0, \"Daily confirmed deaths\": \"Daily confirmed deaths\", \"7-day rolling average\": \"7-day rolling average\"}, {\"Dates\": \"2020-04-24\", \"New_deaths\": 0, \"Rolling\": 0.0, \"Daily confirmed deaths\": \"Daily confirmed deaths\", \"7-day rolling average\": \"7-day rolling average\"}, {\"Dates\": \"2020-04-25\", \"New_deaths\": 0, \"Rolling\": 0.0, \"Daily confirmed deaths\": \"Daily confirmed deaths\", \"7-day rolling average\": \"7-day rolling average\"}, {\"Dates\": \"2020-04-26\", \"New_deaths\": 0, \"Rolling\": 0.0, \"Daily confirmed deaths\": \"Daily confirmed deaths\", \"7-day rolling average\": \"7-day rolling average\"}, {\"Dates\": \"2020-04-27\", \"New_deaths\": 0, \"Rolling\": 0.0, \"Daily confirmed deaths\": \"Daily confirmed deaths\", \"7-day rolling average\": \"7-day rolling average\"}]}}, {\"mode\": \"vega-lite\"});\n",
       "</script>"
      ],
      "text/plain": [
       "alt.LayerChart(...)"
      ]
     },
     "execution_count": 104,
     "metadata": {},
     "output_type": "execute_result"
    }
   ],
   "source": [
    "#hide_input\n",
    "bars, line = my_deaths_plot(region)\n",
    "(bars + line).properties(\n",
    "    title=f'Covid-19 in Chile: Daily confirmed deaths in {region}',\n",
    "    width=600\n",
    ")"
   ]
  },
  {
   "cell_type": "markdown",
   "metadata": {
    "papermill": {
     "duration": 0.102924,
     "end_time": "2020-04-28T06:16:46.363422",
     "exception": false,
     "start_time": "2020-04-28T06:16:46.260498",
     "status": "completed"
    },
    "tags": []
   },
   "source": [
    "## Magallanes"
   ]
  },
  {
   "cell_type": "code",
   "execution_count": 105,
   "metadata": {
    "execution": {
     "iopub.execute_input": "2020-04-28T06:16:46.577709Z",
     "iopub.status.busy": "2020-04-28T06:16:46.576962Z",
     "iopub.status.idle": "2020-04-28T06:16:46.578361Z",
     "shell.execute_reply": "2020-04-28T06:16:46.578892Z"
    },
    "papermill": {
     "duration": 0.109495,
     "end_time": "2020-04-28T06:16:46.579014",
     "exception": false,
     "start_time": "2020-04-28T06:16:46.469519",
     "status": "completed"
    },
    "scrolled": true,
    "tags": []
   },
   "outputs": [],
   "source": [
    "#hide\n",
    "region = \"Magallanes\""
   ]
  },
  {
   "cell_type": "code",
   "execution_count": 106,
   "metadata": {
    "execution": {
     "iopub.execute_input": "2020-04-28T06:16:46.794731Z",
     "iopub.status.busy": "2020-04-28T06:16:46.794132Z",
     "iopub.status.idle": "2020-04-28T06:16:46.829898Z",
     "shell.execute_reply": "2020-04-28T06:16:46.830445Z"
    },
    "papermill": {
     "duration": 0.146808,
     "end_time": "2020-04-28T06:16:46.830591",
     "exception": false,
     "start_time": "2020-04-28T06:16:46.683783",
     "status": "completed"
    },
    "tags": []
   },
   "outputs": [
    {
     "data": {
      "text/html": [
       "\n",
       "<div id=\"altair-viz-4c8bd675c60c4bf5936254d8f1ec5618\"></div>\n",
       "<script type=\"text/javascript\">\n",
       "  (function(spec, embedOpt){\n",
       "    let outputDiv = document.currentScript.previousElementSibling;\n",
       "    if (outputDiv.id !== \"altair-viz-4c8bd675c60c4bf5936254d8f1ec5618\") {\n",
       "      outputDiv = document.getElementById(\"altair-viz-4c8bd675c60c4bf5936254d8f1ec5618\");\n",
       "    }\n",
       "    const paths = {\n",
       "      \"vega\": \"https://cdn.jsdelivr.net/npm//vega@5?noext\",\n",
       "      \"vega-lib\": \"https://cdn.jsdelivr.net/npm//vega-lib?noext\",\n",
       "      \"vega-lite\": \"https://cdn.jsdelivr.net/npm//vega-lite@4.8.1?noext\",\n",
       "      \"vega-embed\": \"https://cdn.jsdelivr.net/npm//vega-embed@6?noext\",\n",
       "    };\n",
       "\n",
       "    function loadScript(lib) {\n",
       "      return new Promise(function(resolve, reject) {\n",
       "        var s = document.createElement('script');\n",
       "        s.src = paths[lib];\n",
       "        s.async = true;\n",
       "        s.onload = () => resolve(paths[lib]);\n",
       "        s.onerror = () => reject(`Error loading script: ${paths[lib]}`);\n",
       "        document.getElementsByTagName(\"head\")[0].appendChild(s);\n",
       "      });\n",
       "    }\n",
       "\n",
       "    function showError(err) {\n",
       "      outputDiv.innerHTML = `<div class=\"error\" style=\"color:red;\">${err}</div>`;\n",
       "      throw err;\n",
       "    }\n",
       "\n",
       "    function displayChart(vegaEmbed) {\n",
       "      vegaEmbed(outputDiv, spec, embedOpt)\n",
       "        .catch(err => showError(`Javascript Error: ${err.message}<br>This usually means there's a typo in your chart specification. See the javascript console for the full traceback.`));\n",
       "    }\n",
       "\n",
       "    if(typeof define === \"function\" && define.amd) {\n",
       "      requirejs.config({paths});\n",
       "      require([\"vega-embed\"], displayChart, err => showError(`Error loading script: ${err.message}`));\n",
       "    } else if (typeof vegaEmbed === \"function\") {\n",
       "      displayChart(vegaEmbed);\n",
       "    } else {\n",
       "      loadScript(\"vega\")\n",
       "        .then(() => loadScript(\"vega-lite\"))\n",
       "        .then(() => loadScript(\"vega-embed\"))\n",
       "        .catch(showError)\n",
       "        .then(() => displayChart(vegaEmbed));\n",
       "    }\n",
       "  })({\"config\": {\"view\": {\"continuousWidth\": 400, \"continuousHeight\": 300}}, \"layer\": [{\"mark\": {\"type\": \"bar\", \"color\": \"firebrick\", \"opacity\": 0.7}, \"encoding\": {\"opacity\": {\"type\": \"nominal\", \"field\": \"Daily confirmed deaths\", \"legend\": {\"title\": \"\"}}, \"tooltip\": [{\"type\": \"nominal\", \"field\": \"Dates\"}, {\"type\": \"quantitative\", \"field\": \"New_deaths\"}], \"x\": {\"type\": \"nominal\", \"axis\": {\"title\": \"Date\"}, \"field\": \"Dates\"}, \"y\": {\"type\": \"quantitative\", \"axis\": {\"title\": \"Daily confirmed deaths\"}, \"field\": \"New_deaths\"}}}, {\"mark\": {\"type\": \"line\", \"color\": \"firebrick\", \"point\": {\"filled\": true, \"fill\": \"firebrick\"}}, \"encoding\": {\"shape\": {\"type\": \"nominal\", \"field\": \"7-day rolling average\", \"legend\": {\"title\": \"\"}}, \"x\": {\"type\": \"nominal\", \"axis\": {\"title\": \"Date\"}, \"field\": \"Dates\"}, \"y\": {\"type\": \"quantitative\", \"field\": \"Rolling\"}}}], \"data\": {\"name\": \"data-0c296c8d856dc607149b8d86355ad611\"}, \"title\": \"Covid-19 in Chile: Daily confirmed deaths in Magallanes\", \"width\": 600, \"$schema\": \"https://vega.github.io/schema/vega-lite/v4.8.1.json\", \"datasets\": {\"data-0c296c8d856dc607149b8d86355ad611\": [{\"Dates\": \"2020-03-25\", \"New_deaths\": 0, \"Rolling\": null, \"Daily confirmed deaths\": \"Daily confirmed deaths\", \"7-day rolling average\": \"7-day rolling average\"}, {\"Dates\": \"2020-03-26\", \"New_deaths\": 0, \"Rolling\": null, \"Daily confirmed deaths\": \"Daily confirmed deaths\", \"7-day rolling average\": \"7-day rolling average\"}, {\"Dates\": \"2020-03-27\", \"New_deaths\": 0, \"Rolling\": null, \"Daily confirmed deaths\": \"Daily confirmed deaths\", \"7-day rolling average\": \"7-day rolling average\"}, {\"Dates\": \"2020-03-28\", \"New_deaths\": 0, \"Rolling\": null, \"Daily confirmed deaths\": \"Daily confirmed deaths\", \"7-day rolling average\": \"7-day rolling average\"}, {\"Dates\": \"2020-03-29\", \"New_deaths\": 0, \"Rolling\": null, \"Daily confirmed deaths\": \"Daily confirmed deaths\", \"7-day rolling average\": \"7-day rolling average\"}, {\"Dates\": \"2020-03-30\", \"New_deaths\": 0, \"Rolling\": null, \"Daily confirmed deaths\": \"Daily confirmed deaths\", \"7-day rolling average\": \"7-day rolling average\"}, {\"Dates\": \"2020-03-31\", \"New_deaths\": 0, \"Rolling\": 0.0, \"Daily confirmed deaths\": \"Daily confirmed deaths\", \"7-day rolling average\": \"7-day rolling average\"}, {\"Dates\": \"2020-04-01\", \"New_deaths\": 0, \"Rolling\": 0.0, \"Daily confirmed deaths\": \"Daily confirmed deaths\", \"7-day rolling average\": \"7-day rolling average\"}, {\"Dates\": \"2020-04-02\", \"New_deaths\": 0, \"Rolling\": 0.0, \"Daily confirmed deaths\": \"Daily confirmed deaths\", \"7-day rolling average\": \"7-day rolling average\"}, {\"Dates\": \"2020-04-03\", \"New_deaths\": 1, \"Rolling\": 0.14285714285714285, \"Daily confirmed deaths\": \"Daily confirmed deaths\", \"7-day rolling average\": \"7-day rolling average\"}, {\"Dates\": \"2020-04-04\", \"New_deaths\": 1, \"Rolling\": 0.2857142857142857, \"Daily confirmed deaths\": \"Daily confirmed deaths\", \"7-day rolling average\": \"7-day rolling average\"}, {\"Dates\": \"2020-04-05\", \"New_deaths\": 0, \"Rolling\": 0.2857142857142857, \"Daily confirmed deaths\": \"Daily confirmed deaths\", \"7-day rolling average\": \"7-day rolling average\"}, {\"Dates\": \"2020-04-06\", \"New_deaths\": 0, \"Rolling\": 0.2857142857142857, \"Daily confirmed deaths\": \"Daily confirmed deaths\", \"7-day rolling average\": \"7-day rolling average\"}, {\"Dates\": \"2020-04-07\", \"New_deaths\": 0, \"Rolling\": 0.2857142857142857, \"Daily confirmed deaths\": \"Daily confirmed deaths\", \"7-day rolling average\": \"7-day rolling average\"}, {\"Dates\": \"2020-04-08\", \"New_deaths\": 1, \"Rolling\": 0.42857142857142855, \"Daily confirmed deaths\": \"Daily confirmed deaths\", \"7-day rolling average\": \"7-day rolling average\"}, {\"Dates\": \"2020-04-09\", \"New_deaths\": 0, \"Rolling\": 0.42857142857142855, \"Daily confirmed deaths\": \"Daily confirmed deaths\", \"7-day rolling average\": \"7-day rolling average\"}, {\"Dates\": \"2020-04-10\", \"New_deaths\": 0, \"Rolling\": 0.2857142857142857, \"Daily confirmed deaths\": \"Daily confirmed deaths\", \"7-day rolling average\": \"7-day rolling average\"}, {\"Dates\": \"2020-04-11\", \"New_deaths\": 0, \"Rolling\": 0.14285714285714285, \"Daily confirmed deaths\": \"Daily confirmed deaths\", \"7-day rolling average\": \"7-day rolling average\"}, {\"Dates\": \"2020-04-12\", \"New_deaths\": 1, \"Rolling\": 0.2857142857142857, \"Daily confirmed deaths\": \"Daily confirmed deaths\", \"7-day rolling average\": \"7-day rolling average\"}, {\"Dates\": \"2020-04-13\", \"New_deaths\": 1, \"Rolling\": 0.42857142857142855, \"Daily confirmed deaths\": \"Daily confirmed deaths\", \"7-day rolling average\": \"7-day rolling average\"}, {\"Dates\": \"2020-04-14\", \"New_deaths\": 1, \"Rolling\": 0.5714285714285714, \"Daily confirmed deaths\": \"Daily confirmed deaths\", \"7-day rolling average\": \"7-day rolling average\"}, {\"Dates\": \"2020-04-15\", \"New_deaths\": 0, \"Rolling\": 0.42857142857142855, \"Daily confirmed deaths\": \"Daily confirmed deaths\", \"7-day rolling average\": \"7-day rolling average\"}, {\"Dates\": \"2020-04-16\", \"New_deaths\": 0, \"Rolling\": 0.42857142857142855, \"Daily confirmed deaths\": \"Daily confirmed deaths\", \"7-day rolling average\": \"7-day rolling average\"}, {\"Dates\": \"2020-04-17\", \"New_deaths\": 0, \"Rolling\": 0.42857142857142855, \"Daily confirmed deaths\": \"Daily confirmed deaths\", \"7-day rolling average\": \"7-day rolling average\"}, {\"Dates\": \"2020-04-18\", \"New_deaths\": 0, \"Rolling\": 0.42857142857142855, \"Daily confirmed deaths\": \"Daily confirmed deaths\", \"7-day rolling average\": \"7-day rolling average\"}, {\"Dates\": \"2020-04-19\", \"New_deaths\": 0, \"Rolling\": 0.2857142857142857, \"Daily confirmed deaths\": \"Daily confirmed deaths\", \"7-day rolling average\": \"7-day rolling average\"}, {\"Dates\": \"2020-04-20\", \"New_deaths\": 0, \"Rolling\": 0.14285714285714285, \"Daily confirmed deaths\": \"Daily confirmed deaths\", \"7-day rolling average\": \"7-day rolling average\"}, {\"Dates\": \"2020-04-21\", \"New_deaths\": 1, \"Rolling\": 0.14285714285714285, \"Daily confirmed deaths\": \"Daily confirmed deaths\", \"7-day rolling average\": \"7-day rolling average\"}, {\"Dates\": \"2020-04-22\", \"New_deaths\": 0, \"Rolling\": 0.14285714285714285, \"Daily confirmed deaths\": \"Daily confirmed deaths\", \"7-day rolling average\": \"7-day rolling average\"}, {\"Dates\": \"2020-04-23\", \"New_deaths\": 0, \"Rolling\": 0.14285714285714285, \"Daily confirmed deaths\": \"Daily confirmed deaths\", \"7-day rolling average\": \"7-day rolling average\"}, {\"Dates\": \"2020-04-24\", \"New_deaths\": 1, \"Rolling\": 0.2857142857142857, \"Daily confirmed deaths\": \"Daily confirmed deaths\", \"7-day rolling average\": \"7-day rolling average\"}, {\"Dates\": \"2020-04-25\", \"New_deaths\": 0, \"Rolling\": 0.2857142857142857, \"Daily confirmed deaths\": \"Daily confirmed deaths\", \"7-day rolling average\": \"7-day rolling average\"}, {\"Dates\": \"2020-04-26\", \"New_deaths\": 1, \"Rolling\": 0.42857142857142855, \"Daily confirmed deaths\": \"Daily confirmed deaths\", \"7-day rolling average\": \"7-day rolling average\"}, {\"Dates\": \"2020-04-27\", \"New_deaths\": 1, \"Rolling\": 0.5714285714285714, \"Daily confirmed deaths\": \"Daily confirmed deaths\", \"7-day rolling average\": \"7-day rolling average\"}]}}, {\"mode\": \"vega-lite\"});\n",
       "</script>"
      ],
      "text/plain": [
       "alt.LayerChart(...)"
      ]
     },
     "execution_count": 106,
     "metadata": {},
     "output_type": "execute_result"
    }
   ],
   "source": [
    "#hide_input\n",
    "bars, line = my_deaths_plot(region)\n",
    "(bars + line).properties(\n",
    "    title=f'Covid-19 in Chile: Daily confirmed deaths in {region}',\n",
    "    width=600\n",
    ")"
   ]
  },
  {
   "cell_type": "code",
   "execution_count": null,
   "metadata": {
    "papermill": {
     "duration": 0.101526,
     "end_time": "2020-04-28T06:16:47.032143",
     "exception": false,
     "start_time": "2020-04-28T06:16:46.930617",
     "status": "completed"
    },
    "tags": []
   },
   "outputs": [],
   "source": []
  }
 ],
 "metadata": {
  "kernelspec": {
   "display_name": "Python 3",
   "language": "python",
   "name": "python3"
  },
  "language_info": {
   "codemirror_mode": {
    "name": "ipython",
    "version": 3
   },
   "file_extension": ".py",
   "mimetype": "text/x-python",
   "name": "python",
   "nbconvert_exporter": "python",
   "pygments_lexer": "ipython3",
   "version": "3.6.10"
  },
  "papermill": {
   "duration": 36.185786,
   "end_time": "2020-04-28T06:16:47.241043",
   "environment_variables": {},
   "exception": null,
   "input_path": "2020-04-27-Covid-19-Overview-Chile.ipynb",
   "output_path": "2020-04-27-Covid-19-Overview-Chile.ipynb",
   "parameters": {},
   "start_time": "2020-04-28T06:16:11.055257",
   "version": "2.1.1"
  }
 },
 "nbformat": 4,
 "nbformat_minor": 2
}