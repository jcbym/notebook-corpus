{
 "cells": [
  {
   "cell_type": "code",
   "execution_count": 1,
   "metadata": {},
   "outputs": [],
   "source": [
    "from scipy import special\n",
    "import numpy as np\n",
    "import matplotlib.pyplot as plt\n",
    "from numba import jit, vectorize, float64, int64\n",
    "import seaborn as sns\n",
    "import pandas as pd\n",
    "import math "
   ]
  },
  {
   "cell_type": "code",
   "execution_count": 267,
   "metadata": {
    "collapsed": true
   },
   "outputs": [],
   "source": [
    "def p_dk_h1k(data, alpha):\n",
    "    '''\n",
    "    To calculate the probability under hypothesis 1\n",
    "    \n",
    "    Input：\n",
    "    data is an array\n",
    "    alpha is the learning hyperparamter mentioned in the essay\n",
    "    '''\n",
    "    \n",
    "    N=data.shape[0]\n",
    "    k=data.shape[1]\n",
    "    if(k==1):\n",
    "        alpha=[0.9,0.1,0.5]\n",
    "    prod = [special.loggamma(np.sum(data[i, :])+1)-np.sum(special.loggamma(data[i, :]+1)) for i in range(N)]\n",
    "    multiplier1 = np.sum(prod)\n",
    "    \n",
    "    prod2 = [special.loggamma(alpha[j]+np.sum(data[:, j]))-special.loggamma(alpha[j]) for j in range(k)]\n",
    "    multiplier2 = np.sum(prod2)\n",
    "    \n",
    "    logprob = multiplier1 + multiplier2 + special.loggamma(np.sum(alpha))-special.loggamma(np.sum(data) + np.sum(alpha))\n",
    "    prob = np.real(np.exp(logprob))\n",
    "    \n",
    "    return prob"
   ]
  },
  {
   "cell_type": "code",
   "execution_count": 268,
   "metadata": {
    "collapsed": true
   },
   "outputs": [],
   "source": [
    "class mynode():\n",
    "    '''\n",
    "    Class of node\n",
    "    \n",
    "    A node have:\n",
    "      self.l: a left child\n",
    "      self.r: a right child\n",
    "      self.data: the data\n",
    "      self.cluster: which cluster it belongs to\n",
    "      self.n: number of nodes of the subtree of the node\n",
    "      self.d: d value\n",
    "      self.pi: pi value\n",
    "      self.index: index of the node\n",
    "      self.parent: index of the parent\n",
    "    '''\n",
    "    def __init__(self, left, right, data, cluster, alpha, index = None, parent = None):\n",
    "        self.l = left\n",
    "        self.r = right\n",
    "        self.data = data\n",
    "        self.cluster = cluster\n",
    "            \n",
    "        if(left == None):\n",
    "            self.n = 1\n",
    "            self.d = alpha\n",
    "        else:\n",
    "            self.n = left.n + right.n\n",
    "            self.d = alpha*special.gamma(self.n) + left.d*right.d\n",
    "                \n",
    "        self.pi = alpha*special.gamma(self.n)/self.d\n",
    "        self.index = index\n",
    "        self.parent = parent"
   ]
  },
  {
   "cell_type": "code",
   "execution_count": 269,
   "metadata": {
    "collapsed": true
   },
   "outputs": [],
   "source": [
    "def pik(mynode, alpha):\n",
    "    '''\n",
    "     To calculate the pi_k value of the node\n",
    "    \n",
    "    Input：\n",
    "      node\n",
    "      alpha\n",
    "    '''\n",
    "    \n",
    "    if mynode.l == None:\n",
    "        dk = alpha\n",
    "    else:\n",
    "        dk = alpha*special.gamma(mynode.n) + mynode.l.d*mynode.r.d\n",
    "    \n",
    "    mynode.d = dk\n",
    "    pi_k = alpha*special.gamma(mynode.n)/dk\n",
    "    mynode.pi = pi_k\n",
    "    \n",
    "    return pi_k"
   ]
  },
  {
   "cell_type": "code",
   "execution_count": 270,
   "metadata": {
    "collapsed": true
   },
   "outputs": [],
   "source": [
    "def p_dk_tk(mynode, alpha=0.5):\n",
    "    '''\n",
    "    To calculate the P(D_k|T_k) value of the node\n",
    "    \n",
    "    Input：\n",
    "      node\n",
    "      alpha\n",
    "    '''\n",
    "    p = p_dk_h1k(mynode.data, np.repeat(alpha, mynode.data.shape[1]))\n",
    "    pi = pik(mynode, alpha)\n",
    "    if mynode.l == None:\n",
    "        return  pi * p\n",
    "    else:\n",
    "        return  pi * p + (1-pi) * p_dk_tk(mynode.l, alpha) * p_dk_tk(mynode.r, alpha)"
   ]
  },
  {
   "cell_type": "code",
   "execution_count": 271,
   "metadata": {
    "collapsed": true
   },
   "outputs": [],
   "source": [
    "@jit \n",
    "def find_max_rk(mynode_list, alpha, dim):\n",
    "    '''\n",
    "    To find the pair i and j with the largest r_k value\n",
    "    \n",
    "    Input:\n",
    "      nodelist\n",
    "      alpha\n",
    "      dimension of the data\n",
    "      \n",
    "    Return:\n",
    "      the index of the pair: i_max, j_max\n",
    "      the maximum r_k: rk_max\n",
    "    '''\n",
    "    \n",
    "    rk_max = -10000\n",
    "    i_max = 0\n",
    "    j_max = 1\n",
    "    \n",
    "    # find the pair i and j with the highest probability of the merged hypothesis\n",
    "    for i in range(len(mynode_list)):\n",
    "        for j in range(i+1, len(mynode_list)):\n",
    "            \n",
    "            # concatenate the data of i and j\n",
    "            newdata = np.concatenate((mynode_list[i].data, mynode_list[j].data), axis = 0)\n",
    "                \n",
    "            # creat a new mynode with i and j as its children\n",
    "            mynode_new = mynode(mynode_list[i], mynode_list[j], newdata,\n",
    "                                min(mynode_list[i].cluster,mynode_list[j].cluster), alpha)\n",
    "            \n",
    "            # calculate the r_k value\n",
    "            rk = pik(mynode_new, alpha) * p_dk_h1k(mynode_new.data, np.repeat(alpha, dim)) / p_dk_tk(mynode_new, alpha)\n",
    "            \n",
    "            # record the largest r_k\n",
    "            if (rk>rk_max):\n",
    "                rk_max = rk\n",
    "                i_max = i\n",
    "                j_max = j\n",
    "                \n",
    "    return i_max, j_max, rk_max"
   ]
  },
  {
   "cell_type": "code",
   "execution_count": 272,
   "metadata": {
    "collapsed": true
   },
   "outputs": [],
   "source": [
    "def set_cluster(root,clusternum):\n",
    "    '''\n",
    "    Set the cluster number of all nodes in the subtree to clusternum\n",
    "    '''\n",
    "    queue = []\n",
    "\n",
    "    queue.append(root)\n",
    "    while queue:\n",
    "        newNode = queue.pop(0)\n",
    "        newNode.cluster = clusternum\n",
    "        \n",
    "        if newNode.l != None:\n",
    "            queue.append(newNode.l)\n",
    "        if newNode.r != None:\n",
    "            queue.append(newNode.r)\n",
    "\n",
    "    return"
   ]
  },
  {
   "cell_type": "code",
   "execution_count": 273,
   "metadata": {
    "collapsed": true
   },
   "outputs": [],
   "source": [
    "def bhc(data, alpha = 0.5, r_thres = 0.91):\n",
    "    '''\n",
    "    Bayesian Hierarchical Clustering\n",
    "    \n",
    "    Input：\n",
    "      data \n",
    "      alpha\n",
    "      threshold of r_k\n",
    "    \n",
    "    The tree can be cut at points where r_k<r_thres\n",
    "    \n",
    "    The function will return tree[0], assignments\n",
    "      tree[0]: The root of the tree\n",
    "      assignments: The cluster numbers of each merge\n",
    "    '''\n",
    "    \n",
    "    tree = []\n",
    "        \n",
    "    num = data.shape[0]\n",
    "    # initialize\n",
    "    for i in range(num):\n",
    "        tree.append(mynode(None, None, np.array([data[i,:]]), i, alpha, i, None))\n",
    "        \n",
    "    # number of clusters\n",
    "    c = data.shape[0]\n",
    "    \n",
    "    # list for recording the cluster number\n",
    "    assignment = [i for i in range(num)]\n",
    "    assignments = [list(assignment)]\n",
    "    \n",
    "    while (c>1):        \n",
    "        \n",
    "        # determine which pair to merge (pair i,j with the largest r_k)\n",
    "        tree_i_max, tree_j_max, tree_rk_max = find_max_rk(tree, alpha, data.shape[1])\n",
    "        \n",
    "        # the smaller cluster number\n",
    "        tree_clusternum = min(tree[tree_i_max].cluster,tree[tree_j_max].cluster)\n",
    "        # the larger cluster number\n",
    "        max_clusternum = max(tree[tree_i_max].cluster,tree[tree_j_max].cluster)\n",
    "        \n",
    "        # set cluster numbers to the smaller one\n",
    "        set_cluster(tree[tree_i_max],tree_clusternum)\n",
    "        set_cluster(tree[tree_j_max],tree_clusternum)\n",
    "        \n",
    "        # creat a newnode with i,j as children\n",
    "        tree_mynode_new_max = mynode(tree[tree_i_max], tree[tree_j_max], np.concatenate((tree[tree_i_max].data, tree[tree_j_max].data), axis = 0), \n",
    "                                tree_clusternum, alpha, index = num+data.shape[0]-c)\n",
    "        \n",
    "        # set the parent of i,j\n",
    "        tree[tree_i_max].parent = tree_mynode_new_max.index\n",
    "        tree[tree_j_max].parent = tree_mynode_new_max.index\n",
    "        \n",
    "        # construct the tree from leaves to the roots\n",
    "        tree =  tree[:tree_i_max] + tree[(tree_i_max+1):tree_j_max] + tree[(tree_j_max+1):]\n",
    "        tree = [tree_mynode_new_max] + tree\n",
    "        \n",
    "        c = c - 1\n",
    "        \n",
    "        # set the cluster number, record the cluster numbers of each merge\n",
    "        for i, k in enumerate(assignment):\n",
    "            if k == max_clusternum:\n",
    "                assignment[i] = tree_clusternum\n",
    "        assignments.append(list(assignment))\n",
    "            \n",
    "    return tree[0], assignments"
   ]
  },
  {
   "cell_type": "code",
   "execution_count": 274,
   "metadata": {
    "collapsed": true
   },
   "outputs": [],
   "source": [
    "def draw_dendrogram(root):\n",
    "    '''\n",
    "    Manually draw a dendrogram of the tree from root\n",
    "    '''\n",
    "    \n",
    "    from anytree import Node, RenderTree\n",
    "    \n",
    "    # a queue to go through all the nodes in the subtree\n",
    "    queue = []\n",
    "\n",
    "    queue.append(root)\n",
    "    while queue:\n",
    "        newNode = queue.pop(0)\n",
    "        \n",
    "        # name the node as \"D\" + index\n",
    "        ind = \"D\"+str(newNode.index)\n",
    "        par = \"D\"+str(newNode.parent)\n",
    "        if(newNode.parent == None):\n",
    "            exec(ind + \" = Node(\\\"\" + ind + \"\\\")\")\n",
    "        else:\n",
    "            exec(ind + \" = Node(\\\"\" + ind + \"\\\", parent=\" + par + \")\")\n",
    "                        \n",
    "        if newNode.l != None:\n",
    "            queue.append(newNode.l)\n",
    "        if newNode.r != None:\n",
    "            queue.append(newNode.r)\n",
    "    \n",
    "    # draw the dendrogram\n",
    "    exec(\"print(RenderTree(\" + \"D\"+str(root.index) + \"))\")\n",
    "    \n",
    "    return"
   ]
  },
  {
   "cell_type": "markdown",
   "metadata": {},
   "source": [
    "- Simulated Data"
   ]
  },
  {
   "cell_type": "code",
   "execution_count": 259,
   "metadata": {},
   "outputs": [
    {
     "data": {
      "text/plain": [
       "array([[0.97268664],\n",
       "       [0.02731336],\n",
       "       [0.95895592],\n",
       "       [0.04104408],\n",
       "       [0.00192731],\n",
       "       [0.99807269],\n",
       "       [0.0060929 ],\n",
       "       [0.9939071 ],\n",
       "       [0.47460347],\n",
       "       [0.52539653],\n",
       "       [0.49030029],\n",
       "       [0.50969971]])"
      ]
     },
     "execution_count": 259,
     "metadata": {},
     "output_type": "execute_result"
    }
   ],
   "source": [
    "d1 = np.random.dirichlet((20, 1), 2)\n",
    "d2 = np.random.dirichlet((1, 100), 2)\n",
    "d3 = np.random.dirichlet((100, 100), 2)\n",
    "sdata = np.concatenate((d1,d2,d3),axis=0).reshape(-1,1)\n",
    "sdata"
   ]
  },
  {
   "cell_type": "code",
   "execution_count": 261,
   "metadata": {
    "collapsed": true
   },
   "outputs": [],
   "source": [
    "r2,r3 = bhc(sdata, alpha = 500, r_thres = 0.5)"
   ]
  },
  {
   "cell_type": "code",
   "execution_count": 262,
   "metadata": {},
   "outputs": [
    {
     "data": {
      "text/plain": [
       "[[0, 1, 2, 3, 4, 5, 6, 7, 8, 9, 10, 11],\n",
       " [0, 1, 2, 3, 4, 5, 6, 5, 8, 9, 10, 11],\n",
       " [0, 1, 0, 3, 4, 5, 6, 5, 8, 9, 10, 11],\n",
       " [0, 1, 0, 3, 4, 5, 6, 5, 8, 9, 10, 9],\n",
       " [0, 1, 0, 3, 4, 5, 6, 5, 8, 9, 8, 9],\n",
       " [0, 1, 0, 1, 4, 5, 6, 5, 8, 9, 8, 9],\n",
       " [0, 1, 0, 1, 4, 5, 4, 5, 8, 9, 8, 9],\n",
       " [0, 1, 0, 1, 4, 0, 4, 0, 8, 9, 8, 9],\n",
       " [0, 1, 0, 1, 4, 0, 4, 0, 8, 8, 8, 8],\n",
       " [0, 1, 0, 1, 1, 0, 1, 0, 8, 8, 8, 8],\n",
       " [0, 1, 0, 1, 1, 0, 1, 0, 0, 0, 0, 0],\n",
       " [0, 0, 0, 0, 0, 0, 0, 0, 0, 0, 0, 0]]"
      ]
     },
     "execution_count": 262,
     "metadata": {},
     "output_type": "execute_result"
    }
   ],
   "source": [
    "r3"
   ]
  },
  {
   "cell_type": "code",
   "execution_count": 263,
   "metadata": {},
   "outputs": [
    {
     "name": "stderr",
     "output_type": "stream",
     "text": [
      "/opt/conda/lib/python3.6/site-packages/matplotlib/figure.py:2267: UserWarning: This figure includes Axes that are not compatible with tight_layout, so results might be incorrect.\n",
      "  warnings.warn(\"This figure includes Axes that are not compatible \"\n"
     ]
    },
    {
     "data": {
      "image/png": "[encoded data removed]",
      "text/plain": [
       "<Figure size 432x288 with 1 Axes>"
      ]
     },
     "metadata": {},
     "output_type": "display_data"
    }
   ],
   "source": [
    "z = np.array(r3[-3], dtype=float)\n",
    "plt.figure(tight_layout=True, facecolor='white')\n",
    "plt.scatter(sdata[:, 0], 1- sdata[:, 0], c=z, cmap='Set1', s=225)\n",
    "plt.show()"
   ]
  },
  {
   "cell_type": "markdown",
   "metadata": {},
   "source": [
    "- Real Data In Paper"
   ]
  },
  {
   "cell_type": "code",
   "execution_count": 264,
   "metadata": {
    "collapsed": true
   },
   "outputs": [],
   "source": [
    "import csv\n",
    "import numpy as np\n",
    "import pandas as pd\n",
    "\n",
    "filename = './toyexample.csv'\n",
    "import pandas as pd\n",
    "import numpy as np\n",
    "df=pd.read_csv(filename,header=None)"
   ]
  },
  {
   "cell_type": "code",
   "execution_count": 265,
   "metadata": {
    "collapsed": true
   },
   "outputs": [],
   "source": [
    "df_new = np.array(df)\n",
    "df_new_copy = np.array(df)\n",
    "sum_df = np.sum(df_new, axis=1)\n",
    "df_new2 =np.array([])\n",
    "for i in range(df_new.shape[0]):\n",
    "    df_new2 = np.append(df_new2,np.array(df_new[i,:]/sum_df[i]))\n",
    "df_new2 = df_new2.reshape(120,64)\n",
    "df_new2 = np.concatenate((df_new2[0:5,:], df_new2[40:45,:], df_new2[80:85,:]))"
   ]
  },
  {
   "cell_type": "code",
   "execution_count": 275,
   "metadata": {
    "collapsed": true
   },
   "outputs": [],
   "source": [
    "r2,r3= bhc(df_new2, alpha = 500, r_thres = 0.5)"
   ]
  },
  {
   "cell_type": "code",
   "execution_count": 276,
   "metadata": {},
   "outputs": [
    {
     "data": {
      "text/plain": [
       "[[0, 1, 2, 3, 4, 5, 6, 7, 8, 9, 10, 11, 12, 13, 14],\n",
       " [0, 1, 2, 3, 4, 5, 6, 7, 8, 9, 10, 11, 12, 12, 14],\n",
       " [0, 1, 2, 3, 4, 5, 6, 7, 8, 9, 10, 10, 12, 12, 14],\n",
       " [0, 1, 2, 3, 3, 5, 6, 7, 8, 9, 10, 10, 12, 12, 14],\n",
       " [0, 1, 1, 3, 3, 5, 6, 7, 8, 9, 10, 10, 12, 12, 14],\n",
       " [0, 1, 1, 3, 3, 0, 6, 7, 8, 9, 10, 10, 12, 12, 14],\n",
       " [0, 1, 1, 3, 3, 0, 6, 6, 8, 9, 10, 10, 12, 12, 14],\n",
       " [0, 1, 1, 3, 3, 0, 6, 6, 8, 8, 10, 10, 12, 12, 14],\n",
       " [0, 1, 1, 3, 3, 0, 6, 6, 8, 8, 10, 10, 12, 12, 12],\n",
       " [0, 1, 1, 1, 1, 0, 6, 6, 8, 8, 10, 10, 12, 12, 12],\n",
       " [0, 1, 1, 1, 1, 0, 6, 6, 8, 8, 6, 6, 12, 12, 12],\n",
       " [0, 1, 1, 1, 1, 0, 6, 6, 0, 0, 6, 6, 12, 12, 12],\n",
       " [0, 1, 1, 1, 1, 0, 6, 6, 0, 0, 6, 6, 6, 6, 6],\n",
       " [0, 0, 0, 0, 0, 0, 6, 6, 0, 0, 6, 6, 6, 6, 6],\n",
       " [0, 0, 0, 0, 0, 0, 0, 0, 0, 0, 0, 0, 0, 0, 0]]"
      ]
     },
     "execution_count": 276,
     "metadata": {},
     "output_type": "execute_result"
    }
   ],
   "source": [
    "r3"
   ]
  },
  {
   "cell_type": "code",
   "execution_count": 277,
   "metadata": {},
   "outputs": [
    {
     "name": "stdout",
     "output_type": "stream",
     "text": [
      "Node('/D28')\n",
      "├── Node('/D28/D27')\n",
      "│   ├── Node('/D28/D27/D25')\n",
      "│   │   ├── Node('/D28/D27/D25/D21')\n",
      "│   │   │   ├── Node('/D28/D27/D25/D21/D8')\n",
      "│   │   │   └── Node('/D28/D27/D25/D21/D9')\n",
      "│   │   └── Node('/D28/D27/D25/D19')\n",
      "│   │       ├── Node('/D28/D27/D25/D19/D0')\n",
      "│   │       └── Node('/D28/D27/D25/D19/D5')\n",
      "│   └── Node('/D28/D27/D23')\n",
      "│       ├── Node('/D28/D27/D23/D18')\n",
      "│       │   ├── Node('/D28/D27/D23/D18/D1')\n",
      "│       │   └── Node('/D28/D27/D23/D18/D2')\n",
      "│       └── Node('/D28/D27/D23/D17')\n",
      "│           ├── Node('/D28/D27/D23/D17/D3')\n",
      "│           └── Node('/D28/D27/D23/D17/D4')\n",
      "└── Node('/D28/D26')\n",
      "    ├── Node('/D28/D26/D24')\n",
      "    │   ├── Node('/D28/D26/D24/D20')\n",
      "    │   │   ├── Node('/D28/D26/D24/D20/D6')\n",
      "    │   │   └── Node('/D28/D26/D24/D20/D7')\n",
      "    │   └── Node('/D28/D26/D24/D16')\n",
      "    │       ├── Node('/D28/D26/D24/D16/D10')\n",
      "    │       └── Node('/D28/D26/D24/D16/D11')\n",
      "    └── Node('/D28/D26/D22')\n",
      "        ├── Node('/D28/D26/D22/D15')\n",
      "        │   ├── Node('/D28/D26/D22/D15/D12')\n",
      "        │   └── Node('/D28/D26/D22/D15/D13')\n",
      "        └── Node('/D28/D26/D22/D14')\n"
     ]
    }
   ],
   "source": [
    "draw_dendrogram(r2)"
   ]
  },
  {
   "cell_type": "markdown",
   "metadata": {},
   "source": [
    "- Real Data Not From the Paper"
   ]
  },
  {
   "cell_type": "code",
   "execution_count": 278,
   "metadata": {
    "collapsed": true
   },
   "outputs": [],
   "source": [
    "url = \"https://archive.ics.uci.edu/ml/machine-learning-databases/iris/iris.data\"\n",
    "names = ['sepal-length', 'sepal-width', 'petal-length', 'petal-width', 'class']\n",
    "dataset = pd.read_csv(url, names=names)\n",
    "dataset=dataset.drop(['class'], axis=1)\n",
    "ar_iris = np.array(dataset,dtype=None)[:, 0:3]\n",
    "df_new = np.array(ar_iris)\n",
    "df_new_copy = np.array(ar_iris)\n",
    "sum_df = np.sum(df_new, axis=1)\n",
    "df_new2 =np.array([])\n",
    "for i in range(df_new.shape[0]):\n",
    "    df_new2 = np.append(df_new2,np.array(df_new[i,:]/sum_df[i]))\n",
    "df_new2 = df_new2.reshape(-1,3)\n",
    "df_new2 = np.concatenate((df_new2[0:10,:], df_new2[50:60,:], df_new2[100:110,:]))"
   ]
  },
  {
   "cell_type": "code",
   "execution_count": 279,
   "metadata": {
    "collapsed": true
   },
   "outputs": [],
   "source": [
    "r2,r3 = bhc(df_new2, alpha = 100, r_thres = 0.5)"
   ]
  },
  {
   "cell_type": "code",
   "execution_count": 280,
   "metadata": {},
   "outputs": [
    {
     "name": "stdout",
     "output_type": "stream",
     "text": [
      "Node('/D58')\n",
      "├── Node('/D58/D57')\n",
      "│   ├── Node('/D58/D57/D55')\n",
      "│   │   ├── Node('/D58/D57/D55/D51')\n",
      "│   │   │   ├── Node('/D58/D57/D55/D51/D43')\n",
      "│   │   │   │   ├── Node('/D58/D57/D55/D51/D43/D26')\n",
      "│   │   │   │   └── Node('/D58/D57/D55/D51/D43/D29')\n",
      "│   │   │   └── Node('/D58/D57/D55/D51/D42')\n",
      "│   │   │       ├── Node('/D58/D57/D55/D51/D42/D11')\n",
      "│   │   │       └── Node('/D58/D57/D55/D51/D42/D19')\n",
      "│   │   └── Node('/D58/D57/D55/D50')\n",
      "│   │       ├── Node('/D58/D57/D55/D50/D41')\n",
      "│   │       │   ├── Node('/D58/D57/D55/D50/D41/D15')\n",
      "│   │       │   └── Node('/D58/D57/D55/D50/D41/D21')\n",
      "│   │       └── Node('/D58/D57/D55/D50/D40')\n",
      "│   │           ├── Node('/D58/D57/D55/D50/D40/D23')\n",
      "│   │           └── Node('/D58/D57/D55/D50/D40/D24')\n",
      "│   └── Node('/D58/D57/D54')\n",
      "│       ├── Node('/D58/D57/D54/D48')\n",
      "│       │   ├── Node('/D58/D57/D54/D48/D38')\n",
      "│       │   │   ├── Node('/D58/D57/D54/D48/D38/D10')\n",
      "│       │   │   └── Node('/D58/D57/D54/D48/D38/D18')\n",
      "│       │   └── Node('/D58/D57/D54/D48/D37')\n",
      "│       │       ├── Node('/D58/D57/D54/D48/D37/D13')\n",
      "│       │       └── Node('/D58/D57/D54/D48/D37/D14')\n",
      "│       └── Node('/D58/D57/D54/D47')\n",
      "│           ├── Node('/D58/D57/D54/D47/D36')\n",
      "│           │   ├── Node('/D58/D57/D54/D47/D36/D22')\n",
      "│           │   └── Node('/D58/D57/D54/D47/D36/D27')\n",
      "│           └── Node('/D58/D57/D54/D47/D35')\n",
      "│               ├── Node('/D58/D57/D54/D47/D35/D25')\n",
      "│               └── Node('/D58/D57/D54/D47/D35/D28')\n",
      "└── Node('/D58/D56')\n",
      "    ├── Node('/D58/D56/D53')\n",
      "    │   ├── Node('/D58/D56/D53/D49')\n",
      "    │   │   ├── Node('/D58/D56/D53/D49/D39')\n",
      "    │   │   │   ├── Node('/D58/D56/D53/D49/D39/D12')\n",
      "    │   │   │   └── Node('/D58/D56/D53/D49/D39/D17')\n",
      "    │   │   └── Node('/D58/D56/D53/D49/D34')\n",
      "    │   │       ├── Node('/D58/D56/D53/D49/D34/D3')\n",
      "    │   │       └── Node('/D58/D56/D53/D49/D34/D5')\n",
      "    │   └── Node('/D58/D56/D53/D46')\n",
      "    │       ├── Node('/D58/D56/D53/D46/D33')\n",
      "    │       │   ├── Node('/D58/D56/D53/D46/D33/D6')\n",
      "    │       │   └── Node('/D58/D56/D53/D46/D33/D8')\n",
      "    │       └── Node('/D58/D56/D53/D46/D32')\n",
      "    │           ├── Node('/D58/D56/D53/D46/D32/D7')\n",
      "    │           └── Node('/D58/D56/D53/D46/D32/D9')\n",
      "    └── Node('/D58/D56/D52')\n",
      "        ├── Node('/D58/D56/D52/D45')\n",
      "        │   ├── Node('/D58/D56/D52/D45/D31')\n",
      "        │   │   ├── Node('/D58/D56/D52/D45/D31/D2')\n",
      "        │   │   └── Node('/D58/D56/D52/D45/D31/D4')\n",
      "        │   └── Node('/D58/D56/D52/D45/D30')\n",
      "        │       ├── Node('/D58/D56/D52/D45/D30/D0')\n",
      "        │       └── Node('/D58/D56/D52/D45/D30/D1')\n",
      "        └── Node('/D58/D56/D52/D44')\n",
      "            ├── Node('/D58/D56/D52/D44/D16')\n",
      "            └── Node('/D58/D56/D52/D44/D20')\n"
     ]
    }
   ],
   "source": [
    "draw_dendrogram(r2)"
   ]
  },
  {
   "cell_type": "markdown",
   "metadata": {},
   "source": [
    "- Traditional Clustering Method"
   ]
  },
  {
   "cell_type": "code",
   "execution_count": 2,
   "metadata": {},
   "outputs": [],
   "source": [
    "from scipy import special\n",
    "import numpy as np\n",
    "import matplotlib.pyplot as plt\n",
    "from numba import jit, vectorize, float64, int64\n",
    "import seaborn as sns\n",
    "import pandas as pd\n",
    "import math \n",
    "from scipy.spatial.distance import pdist, squareform\n",
    "from scipy.cluster.hierarchy import linkage, dendrogram"
   ]
  },
  {
   "cell_type": "code",
   "execution_count": 3,
   "metadata": {},
   "outputs": [],
   "source": [
    "d1 = np.random.randint(0,2, size=(7,2))\n",
    "d2 = np.random.randint(9,11, size=(7,2))\n",
    "d3 = np.random.randint(18,20, size=(7,2))\n",
    "sdata = np.concatenate((d1,d2,d3),axis=0)"
   ]
  },
  {
   "cell_type": "code",
   "execution_count": 4,
   "metadata": {},
   "outputs": [
    {
     "data": {
      "image/png": "[encoded data removed]",
      "text/plain": [
       "<Figure size 432x288 with 1 Axes>"
      ]
     },
     "metadata": {},
     "output_type": "display_data"
    }
   ],
   "source": [
    "data = sdata\n",
    "data_dist = pdist(data) # computing the distance\n",
    "data_link = linkage(data_dist,method='single') # computing the linkage\n",
    "dendrogram(data_link,labels=data.dtype.names)\n",
    "plt.xlabel('Samples')\n",
    "plt.ylabel('Distance')\n",
    "plt.suptitle('Traditional Hierarchical Clustering With Single Linkage', fontweight='bold', fontsize=14);"
   ]
  },
  {
   "cell_type": "code",
   "execution_count": 5,
   "metadata": {},
   "outputs": [
    {
     "data": {
      "image/png": "[encoded data removed]",
      "text/plain": [
       "<Figure size 432x288 with 1 Axes>"
      ]
     },
     "metadata": {},
     "output_type": "display_data"
    }
   ],
   "source": [
    "data = sdata\n",
    "data_dist = pdist(data) # computing the distance\n",
    "data_link = linkage(data_dist,method='complete') # computing the linkage\n",
    "dendrogram(data_link,labels=data.dtype.names)\n",
    "plt.xlabel('Samples')\n",
    "plt.ylabel('Distance')\n",
    "plt.suptitle('Traditional Hierarchical Clustering With Complete Linkage', fontweight='bold', fontsize=14);"
   ]
  },
  {
   "cell_type": "code",
   "execution_count": 6,
   "metadata": {},
   "outputs": [
    {
     "data": {
      "image/png": "[encoded data removed]",
      "text/plain": [
       "<Figure size 432x288 with 1 Axes>"
      ]
     },
     "metadata": {},
     "output_type": "display_data"
    }
   ],
   "source": [
    "data = sdata\n",
    "data_dist = pdist(data) # computing the distance\n",
    "data_link = linkage(data_dist,method='average') # computing the linkage\n",
    "dendrogram(data_link,labels=data.dtype.names)\n",
    "plt.xlabel('Samples')\n",
    "plt.ylabel('Distance')\n",
    "plt.suptitle('Traditional Hierarchical Clustering With Average Linkage', fontweight='bold', fontsize=14);"
   ]
  },
  {
   "cell_type": "code",
   "execution_count": null,
   "metadata": {
    "collapsed": true
   },
   "outputs": [],
   "source": []
  },
  {
   "cell_type": "code",
   "execution_count": 59,
   "metadata": {},
   "outputs": [
    {
     "name": "stdout",
     "output_type": "stream",
     "text": [
      "207 ms ± 2.43 ms per loop (mean ± std. dev. of 7 runs, 1 loop each)\n"
     ]
    }
   ],
   "source": [
    "# Naive Code\n",
    "%timeit bhc(sdata, alpha = 500, r_thres = 0.5)"
   ]
  }
 ],
 "metadata": {
  "kernelspec": {
   "display_name": "Python 3",
   "language": "python",
   "name": "python3"
  },
  "language_info": {
   "codemirror_mode": {
    "name": "ipython",
    "version": 3
   },
   "file_extension": ".py",
   "mimetype": "text/x-python",
   "name": "python",
   "nbconvert_exporter": "python",
   "pygments_lexer": "ipython3",
   "version": "3.6.5"
  }
 },
 "nbformat": 4,
 "nbformat_minor": 2
}
