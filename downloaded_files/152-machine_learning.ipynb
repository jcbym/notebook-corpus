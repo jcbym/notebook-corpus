{
 "cells": [
  {
   "cell_type": "markdown",
   "metadata": {
    "collapsed": true,
    "pycharm": {
     "name": "#%% md\n"
    }
   },
   "source": []
  },
  {
   "cell_type": "code",
   "execution_count": 39,
   "outputs": [],
   "source": [
    "# load modules\n",
    "import pandas as pd\n",
    "import numpy as np\n",
    "import matplotlib.pyplot as plt\n",
    "import seaborn as sns\n",
    "from sklearn.decomposition import PCA\n",
    "from sklearn.model_selection import train_test_split\n",
    "from sklearn.pipeline import Pipeline\n",
    "from sklearn.preprocessing import LabelEncoder, StandardScaler\n",
    "\n",
    "%matplotlib inline\n",
    "sns.set()"
   ],
   "metadata": {
    "collapsed": false,
    "pycharm": {
     "name": "#%%\n"
    }
   }
  },
  {
   "cell_type": "code",
   "execution_count": 2,
   "outputs": [
    {
     "data": {
      "text/plain": "             Name Type 1  Type 2 Legendary\ncount         800    800     414       800\nunique        800     18      18         2\ntop     Trevenant  Water  Flying     False\nfreq            1    112      97       735",
      "text/html": "<div>\n<style scoped>\n    .dataframe tbody tr th:only-of-type {\n        vertical-align: middle;\n    }\n\n    .dataframe tbody tr th {\n        vertical-align: top;\n    }\n\n    .dataframe thead th {\n        text-align: right;\n    }\n</style>\n<table border=\"1\" class=\"dataframe\">\n  <thead>\n    <tr style=\"text-align: right;\">\n      <th></th>\n      <th>Name</th>\n      <th>Type 1</th>\n      <th>Type 2</th>\n      <th>Legendary</th>\n    </tr>\n  </thead>\n  <tbody>\n    <tr>\n      <th>count</th>\n      <td>800</td>\n      <td>800</td>\n      <td>414</td>\n      <td>800</td>\n    </tr>\n    <tr>\n      <th>unique</th>\n      <td>800</td>\n      <td>18</td>\n      <td>18</td>\n      <td>2</td>\n    </tr>\n    <tr>\n      <th>top</th>\n      <td>Trevenant</td>\n      <td>Water</td>\n      <td>Flying</td>\n      <td>False</td>\n    </tr>\n    <tr>\n      <th>freq</th>\n      <td>1</td>\n      <td>112</td>\n      <td>97</td>\n      <td>735</td>\n    </tr>\n  </tbody>\n</table>\n</div>"
     },
     "execution_count": 2,
     "metadata": {},
     "output_type": "execute_result"
    }
   ],
   "source": [
    "pokemon = pd.read_csv('datasets/pokemon.csv')\n",
    "pokemon.describe(exclude='number')"
   ],
   "metadata": {
    "collapsed": false,
    "pycharm": {
     "name": "#%%\n"
    }
   }
  },
  {
   "cell_type": "code",
   "execution_count": 3,
   "outputs": [
    {
     "data": {
      "text/plain": "                #      Total          HP      Attack     Defense     Sp. Atk  \\\ncount  800.000000  800.00000  800.000000  800.000000  800.000000  800.000000   \nmean   362.813750  435.10250   69.258750   79.001250   73.842500   72.820000   \nstd    208.343798  119.96304   25.534669   32.457366   31.183501   32.722294   \nmin      1.000000  180.00000    1.000000    5.000000    5.000000   10.000000   \n25%    184.750000  330.00000   50.000000   55.000000   50.000000   49.750000   \n50%    364.500000  450.00000   65.000000   75.000000   70.000000   65.000000   \n75%    539.250000  515.00000   80.000000  100.000000   90.000000   95.000000   \nmax    721.000000  780.00000  255.000000  190.000000  230.000000  194.000000   \n\n          Sp. Def       Speed  Generation  \ncount  800.000000  800.000000   800.00000  \nmean    71.902500   68.277500     3.32375  \nstd     27.828916   29.060474     1.66129  \nmin     20.000000    5.000000     1.00000  \n25%     50.000000   45.000000     2.00000  \n50%     70.000000   65.000000     3.00000  \n75%     90.000000   90.000000     5.00000  \nmax    230.000000  180.000000     6.00000  ",
      "text/html": "<div>\n<style scoped>\n    .dataframe tbody tr th:only-of-type {\n        vertical-align: middle;\n    }\n\n    .dataframe tbody tr th {\n        vertical-align: top;\n    }\n\n    .dataframe thead th {\n        text-align: right;\n    }\n</style>\n<table border=\"1\" class=\"dataframe\">\n  <thead>\n    <tr style=\"text-align: right;\">\n      <th></th>\n      <th>#</th>\n      <th>Total</th>\n      <th>HP</th>\n      <th>Attack</th>\n      <th>Defense</th>\n      <th>Sp. Atk</th>\n      <th>Sp. Def</th>\n      <th>Speed</th>\n      <th>Generation</th>\n    </tr>\n  </thead>\n  <tbody>\n    <tr>\n      <th>count</th>\n      <td>800.000000</td>\n      <td>800.00000</td>\n      <td>800.000000</td>\n      <td>800.000000</td>\n      <td>800.000000</td>\n      <td>800.000000</td>\n      <td>800.000000</td>\n      <td>800.000000</td>\n      <td>800.00000</td>\n    </tr>\n    <tr>\n      <th>mean</th>\n      <td>362.813750</td>\n      <td>435.10250</td>\n      <td>69.258750</td>\n      <td>79.001250</td>\n      <td>73.842500</td>\n      <td>72.820000</td>\n      <td>71.902500</td>\n      <td>68.277500</td>\n      <td>3.32375</td>\n    </tr>\n    <tr>\n      <th>std</th>\n      <td>208.343798</td>\n      <td>119.96304</td>\n      <td>25.534669</td>\n      <td>32.457366</td>\n      <td>31.183501</td>\n      <td>32.722294</td>\n      <td>27.828916</td>\n      <td>29.060474</td>\n      <td>1.66129</td>\n    </tr>\n    <tr>\n      <th>min</th>\n      <td>1.000000</td>\n      <td>180.00000</td>\n      <td>1.000000</td>\n      <td>5.000000</td>\n      <td>5.000000</td>\n      <td>10.000000</td>\n      <td>20.000000</td>\n      <td>5.000000</td>\n      <td>1.00000</td>\n    </tr>\n    <tr>\n      <th>25%</th>\n      <td>184.750000</td>\n      <td>330.00000</td>\n      <td>50.000000</td>\n      <td>55.000000</td>\n      <td>50.000000</td>\n      <td>49.750000</td>\n      <td>50.000000</td>\n      <td>45.000000</td>\n      <td>2.00000</td>\n    </tr>\n    <tr>\n      <th>50%</th>\n      <td>364.500000</td>\n      <td>450.00000</td>\n      <td>65.000000</td>\n      <td>75.000000</td>\n      <td>70.000000</td>\n      <td>65.000000</td>\n      <td>70.000000</td>\n      <td>65.000000</td>\n      <td>3.00000</td>\n    </tr>\n    <tr>\n      <th>75%</th>\n      <td>539.250000</td>\n      <td>515.00000</td>\n      <td>80.000000</td>\n      <td>100.000000</td>\n      <td>90.000000</td>\n      <td>95.000000</td>\n      <td>90.000000</td>\n      <td>90.000000</td>\n      <td>5.00000</td>\n    </tr>\n    <tr>\n      <th>max</th>\n      <td>721.000000</td>\n      <td>780.00000</td>\n      <td>255.000000</td>\n      <td>190.000000</td>\n      <td>230.000000</td>\n      <td>194.000000</td>\n      <td>230.000000</td>\n      <td>180.000000</td>\n      <td>6.00000</td>\n    </tr>\n  </tbody>\n</table>\n</div>"
     },
     "execution_count": 3,
     "metadata": {},
     "output_type": "execute_result"
    }
   ],
   "source": [
    "pokemon.describe()\n"
   ],
   "metadata": {
    "collapsed": false,
    "pycharm": {
     "name": "#%%\n"
    }
   }
  },
  {
   "cell_type": "code",
   "execution_count": 4,
   "outputs": [
    {
     "data": {
      "text/plain": "   #       Name Type 1  Type 2  Total  HP  Attack  Defense  Sp. Atk  Sp. Def  \\\n0  1  Bulbasaur  Grass  Poison    318  45      49       49       65       65   \n1  2    Ivysaur  Grass  Poison    405  60      62       63       80       80   \n\n   Speed  Generation  Legendary  \n0     45           1      False  \n1     60           1      False  ",
      "text/html": "<div>\n<style scoped>\n    .dataframe tbody tr th:only-of-type {\n        vertical-align: middle;\n    }\n\n    .dataframe tbody tr th {\n        vertical-align: top;\n    }\n\n    .dataframe thead th {\n        text-align: right;\n    }\n</style>\n<table border=\"1\" class=\"dataframe\">\n  <thead>\n    <tr style=\"text-align: right;\">\n      <th></th>\n      <th>#</th>\n      <th>Name</th>\n      <th>Type 1</th>\n      <th>Type 2</th>\n      <th>Total</th>\n      <th>HP</th>\n      <th>Attack</th>\n      <th>Defense</th>\n      <th>Sp. Atk</th>\n      <th>Sp. Def</th>\n      <th>Speed</th>\n      <th>Generation</th>\n      <th>Legendary</th>\n    </tr>\n  </thead>\n  <tbody>\n    <tr>\n      <th>0</th>\n      <td>1</td>\n      <td>Bulbasaur</td>\n      <td>Grass</td>\n      <td>Poison</td>\n      <td>318</td>\n      <td>45</td>\n      <td>49</td>\n      <td>49</td>\n      <td>65</td>\n      <td>65</td>\n      <td>45</td>\n      <td>1</td>\n      <td>False</td>\n    </tr>\n    <tr>\n      <th>1</th>\n      <td>2</td>\n      <td>Ivysaur</td>\n      <td>Grass</td>\n      <td>Poison</td>\n      <td>405</td>\n      <td>60</td>\n      <td>62</td>\n      <td>63</td>\n      <td>80</td>\n      <td>80</td>\n      <td>60</td>\n      <td>1</td>\n      <td>False</td>\n    </tr>\n  </tbody>\n</table>\n</div>"
     },
     "execution_count": 4,
     "metadata": {},
     "output_type": "execute_result"
    }
   ],
   "source": [
    "from sklearn.linear_model import Lasso\n",
    "pokemon.head(2)"
   ],
   "metadata": {
    "collapsed": false,
    "pycharm": {
     "name": "#%%\n"
    }
   }
  },
  {
   "cell_type": "code",
   "execution_count": 5,
   "outputs": [
    {
     "name": "stdout",
     "output_type": "stream",
     "text": [
      "<class 'pandas.core.frame.DataFrame'>\n",
      "RangeIndex: 800 entries, 0 to 799\n",
      "Data columns (total 13 columns):\n",
      " #   Column      Non-Null Count  Dtype \n",
      "---  ------      --------------  ----- \n",
      " 0   #           800 non-null    int64 \n",
      " 1   Name        800 non-null    object\n",
      " 2   Type 1      800 non-null    object\n",
      " 3   Type 2      414 non-null    object\n",
      " 4   Total       800 non-null    int64 \n",
      " 5   HP          800 non-null    int64 \n",
      " 6   Attack      800 non-null    int64 \n",
      " 7   Defense     800 non-null    int64 \n",
      " 8   Sp. Atk     800 non-null    int64 \n",
      " 9   Sp. Def     800 non-null    int64 \n",
      " 10  Speed       800 non-null    int64 \n",
      " 11  Generation  800 non-null    int64 \n",
      " 12  Legendary   800 non-null    bool  \n",
      "dtypes: bool(1), int64(9), object(3)\n",
      "memory usage: 75.9+ KB\n"
     ]
    }
   ],
   "source": [
    "pokemon.info()"
   ],
   "metadata": {
    "collapsed": false,
    "pycharm": {
     "name": "#%%\n"
    }
   }
  },
  {
   "cell_type": "code",
   "execution_count": 6,
   "outputs": [],
   "source": [
    "pokemon.drop(['Type 2', 'Name'], axis=1, inplace=True)"
   ],
   "metadata": {
    "collapsed": false,
    "pycharm": {
     "name": "#%%\n"
    }
   }
  },
  {
   "cell_type": "code",
   "execution_count": 7,
   "outputs": [],
   "source": [
    "pokemon['Legendary'] = pokemon['Legendary'].astype(int)"
   ],
   "metadata": {
    "collapsed": false,
    "pycharm": {
     "name": "#%%\n"
    }
   }
  },
  {
   "cell_type": "code",
   "execution_count": 8,
   "outputs": [
    {
     "name": "stdout",
     "output_type": "stream",
     "text": [
      "<class 'pandas.core.frame.DataFrame'>\n",
      "RangeIndex: 800 entries, 0 to 799\n",
      "Data columns (total 11 columns):\n",
      " #   Column      Non-Null Count  Dtype \n",
      "---  ------      --------------  ----- \n",
      " 0   #           800 non-null    int64 \n",
      " 1   Type 1      800 non-null    object\n",
      " 2   Total       800 non-null    int64 \n",
      " 3   HP          800 non-null    int64 \n",
      " 4   Attack      800 non-null    int64 \n",
      " 5   Defense     800 non-null    int64 \n",
      " 6   Sp. Atk     800 non-null    int64 \n",
      " 7   Sp. Def     800 non-null    int64 \n",
      " 8   Speed       800 non-null    int64 \n",
      " 9   Generation  800 non-null    int64 \n",
      " 10  Legendary   800 non-null    int32 \n",
      "dtypes: int32(1), int64(9), object(1)\n",
      "memory usage: 65.8+ KB\n"
     ]
    }
   ],
   "source": [
    "pokemon.info()"
   ],
   "metadata": {
    "collapsed": false,
    "pycharm": {
     "name": "#%%\n"
    }
   }
  },
  {
   "cell_type": "code",
   "execution_count": 9,
   "outputs": [
    {
     "data": {
      "text/plain": "Water       112\nNormal       98\nGrass        70\nBug          69\nPsychic      57\nFire         52\nElectric     44\nRock         44\nGround       32\nDragon       32\nGhost        32\nDark         31\nPoison       28\nFighting     27\nSteel        27\nIce          24\nFairy        17\nFlying        4\nName: Type 1, dtype: int64"
     },
     "execution_count": 9,
     "metadata": {},
     "output_type": "execute_result"
    }
   ],
   "source": [
    "pokemon['Type 1'].value_counts()"
   ],
   "metadata": {
    "collapsed": false,
    "pycharm": {
     "name": "#%%\n"
    }
   }
  },
  {
   "cell_type": "code",
   "execution_count": 10,
   "outputs": [],
   "source": [
    "le = LabelEncoder()\n",
    "\n",
    "pokemon.iloc[:, 0] = le.fit_transform(pokemon.iloc[:, 0])"
   ],
   "metadata": {
    "collapsed": false,
    "pycharm": {
     "name": "#%%\n"
    }
   }
  },
  {
   "cell_type": "code",
   "execution_count": 11,
   "outputs": [],
   "source": [
    "pokemon.iloc[:, 1] = le.fit_transform(pokemon.iloc[:, 1])"
   ],
   "metadata": {
    "collapsed": false,
    "pycharm": {
     "name": "#%%\n"
    }
   }
  },
  {
   "cell_type": "code",
   "execution_count": 12,
   "outputs": [
    {
     "data": {
      "text/plain": "       #  Type 1  Total  HP  Attack  Defense  Sp. Atk  Sp. Def  Speed  \\\n0      0       9    318  45      49       49       65       65     45   \n1      1       9    405  60      62       63       80       80     60   \n2      2       9    525  80      82       83      100      100     80   \n3      2       9    625  80     100      123      122      120     80   \n4      3       6    309  39      52       43       60       50     65   \n..   ...     ...    ...  ..     ...      ...      ...      ...    ...   \n795  718      15    600  50     100      150      100      150     50   \n796  718      15    700  50     160      110      160      110    110   \n797  719      14    600  80     110       60      150      130     70   \n798  719      14    680  80     160       60      170      130     80   \n799  720       6    600  80     110      120      130       90     70   \n\n     Generation  Legendary  \n0             1          0  \n1             1          0  \n2             1          0  \n3             1          0  \n4             1          0  \n..          ...        ...  \n795           6          1  \n796           6          1  \n797           6          1  \n798           6          1  \n799           6          1  \n\n[800 rows x 11 columns]",
      "text/html": "<div>\n<style scoped>\n    .dataframe tbody tr th:only-of-type {\n        vertical-align: middle;\n    }\n\n    .dataframe tbody tr th {\n        vertical-align: top;\n    }\n\n    .dataframe thead th {\n        text-align: right;\n    }\n</style>\n<table border=\"1\" class=\"dataframe\">\n  <thead>\n    <tr style=\"text-align: right;\">\n      <th></th>\n      <th>#</th>\n      <th>Type 1</th>\n      <th>Total</th>\n      <th>HP</th>\n      <th>Attack</th>\n      <th>Defense</th>\n      <th>Sp. Atk</th>\n      <th>Sp. Def</th>\n      <th>Speed</th>\n      <th>Generation</th>\n      <th>Legendary</th>\n    </tr>\n  </thead>\n  <tbody>\n    <tr>\n      <th>0</th>\n      <td>0</td>\n      <td>9</td>\n      <td>318</td>\n      <td>45</td>\n      <td>49</td>\n      <td>49</td>\n      <td>65</td>\n      <td>65</td>\n      <td>45</td>\n      <td>1</td>\n      <td>0</td>\n    </tr>\n    <tr>\n      <th>1</th>\n      <td>1</td>\n      <td>9</td>\n      <td>405</td>\n      <td>60</td>\n      <td>62</td>\n      <td>63</td>\n      <td>80</td>\n      <td>80</td>\n      <td>60</td>\n      <td>1</td>\n      <td>0</td>\n    </tr>\n    <tr>\n      <th>2</th>\n      <td>2</td>\n      <td>9</td>\n      <td>525</td>\n      <td>80</td>\n      <td>82</td>\n      <td>83</td>\n      <td>100</td>\n      <td>100</td>\n      <td>80</td>\n      <td>1</td>\n      <td>0</td>\n    </tr>\n    <tr>\n      <th>3</th>\n      <td>2</td>\n      <td>9</td>\n      <td>625</td>\n      <td>80</td>\n      <td>100</td>\n      <td>123</td>\n      <td>122</td>\n      <td>120</td>\n      <td>80</td>\n      <td>1</td>\n      <td>0</td>\n    </tr>\n    <tr>\n      <th>4</th>\n      <td>3</td>\n      <td>6</td>\n      <td>309</td>\n      <td>39</td>\n      <td>52</td>\n      <td>43</td>\n      <td>60</td>\n      <td>50</td>\n      <td>65</td>\n      <td>1</td>\n      <td>0</td>\n    </tr>\n    <tr>\n      <th>...</th>\n      <td>...</td>\n      <td>...</td>\n      <td>...</td>\n      <td>...</td>\n      <td>...</td>\n      <td>...</td>\n      <td>...</td>\n      <td>...</td>\n      <td>...</td>\n      <td>...</td>\n      <td>...</td>\n    </tr>\n    <tr>\n      <th>795</th>\n      <td>718</td>\n      <td>15</td>\n      <td>600</td>\n      <td>50</td>\n      <td>100</td>\n      <td>150</td>\n      <td>100</td>\n      <td>150</td>\n      <td>50</td>\n      <td>6</td>\n      <td>1</td>\n    </tr>\n    <tr>\n      <th>796</th>\n      <td>718</td>\n      <td>15</td>\n      <td>700</td>\n      <td>50</td>\n      <td>160</td>\n      <td>110</td>\n      <td>160</td>\n      <td>110</td>\n      <td>110</td>\n      <td>6</td>\n      <td>1</td>\n    </tr>\n    <tr>\n      <th>797</th>\n      <td>719</td>\n      <td>14</td>\n      <td>600</td>\n      <td>80</td>\n      <td>110</td>\n      <td>60</td>\n      <td>150</td>\n      <td>130</td>\n      <td>70</td>\n      <td>6</td>\n      <td>1</td>\n    </tr>\n    <tr>\n      <th>798</th>\n      <td>719</td>\n      <td>14</td>\n      <td>680</td>\n      <td>80</td>\n      <td>160</td>\n      <td>60</td>\n      <td>170</td>\n      <td>130</td>\n      <td>80</td>\n      <td>6</td>\n      <td>1</td>\n    </tr>\n    <tr>\n      <th>799</th>\n      <td>720</td>\n      <td>6</td>\n      <td>600</td>\n      <td>80</td>\n      <td>110</td>\n      <td>120</td>\n      <td>130</td>\n      <td>90</td>\n      <td>70</td>\n      <td>6</td>\n      <td>1</td>\n    </tr>\n  </tbody>\n</table>\n<p>800 rows × 11 columns</p>\n</div>"
     },
     "execution_count": 12,
     "metadata": {},
     "output_type": "execute_result"
    }
   ],
   "source": [
    "pokemon"
   ],
   "metadata": {
    "collapsed": false,
    "pycharm": {
     "name": "#%%\n"
    }
   }
  },
  {
   "cell_type": "code",
   "execution_count": 13,
   "outputs": [],
   "source": [
    "X, y = pokemon.drop('Speed', axis=1), pokemon['Speed']"
   ],
   "metadata": {
    "collapsed": false,
    "pycharm": {
     "name": "#%%\n"
    }
   }
  },
  {
   "cell_type": "code",
   "execution_count": 14,
   "outputs": [
    {
     "name": "stdout",
     "output_type": "stream",
     "text": [
      "The model can predict 78.7% of the variance in the test set.\n",
      "The model has ignored 3 out of 10 features.\n"
     ]
    },
    {
     "data": {
      "text/plain": "array([ True,  True, False, False, False, False, False, False,  True,\n       False])"
     },
     "execution_count": 14,
     "metadata": {},
     "output_type": "execute_result"
    }
   ],
   "source": [
    "X_train, X_test, y_train, y_test = train_test_split(X, y, shuffle=True, train_size=.3)\n",
    "scaler = StandardScaler()\n",
    "X_train_st = scaler.fit_transform(X_train)\n",
    "X_test_st = scaler.fit_transform(X_test)\n",
    "\n",
    "lasso = Lasso().fit(X_train_st, y_train)\n",
    "# Calculate the coefficient of determination (R squared) on X_test_std\n",
    "r_squared = lasso.score(X_test_st, y_test)\n",
    "print(\"The model can predict {0:.1%} of the variance in the test set.\".format(r_squared))\n",
    "\n",
    "# Create a list that has True values when coefficients equal 0\n",
    "zero_coef = lasso.coef_ == 0\n",
    "\n",
    "# Calculate how many features have a zero coefficient\n",
    "n_ignored = sum(zero_coef)\n",
    "print(\"The model has ignored {} out of {} features.\".format(n_ignored, len(lasso.coef_)))\n",
    "\n",
    "zero_coef"
   ],
   "metadata": {
    "collapsed": false,
    "pycharm": {
     "name": "#%%\n"
    }
   }
  },
  {
   "cell_type": "code",
   "execution_count": 29,
   "outputs": [
    {
     "name": "stdout",
     "output_type": "stream",
     "text": [
      "0.01618277345597809\n",
      "[False False  True  True  True  True  True  True False  True]\n",
      "7\n"
     ]
    },
    {
     "data": {
      "text/plain": "     Total   HP  Attack  Defense  Sp. Atk  Sp. Def  Legendary\n244    465   65      40       70       80      140          0\n412    600   80     135      130       95       90          0\n630    474   80      95       82       60       82          0\n549    600   70      90       90      135       90          1\n614    315   70      90       45       15       45          0\n..     ...  ...     ...      ...      ...      ...        ...\n544    680  150     100      120      100      120          1\n730    382   62      73       55       56       52          0\n253    465   73      95       62       85       65          0\n568    281   41      50       37       50       37          0\n673    540   76     147       90       60       70          0\n\n[240 rows x 7 columns]",
      "text/html": "<div>\n<style scoped>\n    .dataframe tbody tr th:only-of-type {\n        vertical-align: middle;\n    }\n\n    .dataframe tbody tr th {\n        vertical-align: top;\n    }\n\n    .dataframe thead th {\n        text-align: right;\n    }\n</style>\n<table border=\"1\" class=\"dataframe\">\n  <thead>\n    <tr style=\"text-align: right;\">\n      <th></th>\n      <th>Total</th>\n      <th>HP</th>\n      <th>Attack</th>\n      <th>Defense</th>\n      <th>Sp. Atk</th>\n      <th>Sp. Def</th>\n      <th>Legendary</th>\n    </tr>\n  </thead>\n  <tbody>\n    <tr>\n      <th>244</th>\n      <td>465</td>\n      <td>65</td>\n      <td>40</td>\n      <td>70</td>\n      <td>80</td>\n      <td>140</td>\n      <td>0</td>\n    </tr>\n    <tr>\n      <th>412</th>\n      <td>600</td>\n      <td>80</td>\n      <td>135</td>\n      <td>130</td>\n      <td>95</td>\n      <td>90</td>\n      <td>0</td>\n    </tr>\n    <tr>\n      <th>630</th>\n      <td>474</td>\n      <td>80</td>\n      <td>95</td>\n      <td>82</td>\n      <td>60</td>\n      <td>82</td>\n      <td>0</td>\n    </tr>\n    <tr>\n      <th>549</th>\n      <td>600</td>\n      <td>70</td>\n      <td>90</td>\n      <td>90</td>\n      <td>135</td>\n      <td>90</td>\n      <td>1</td>\n    </tr>\n    <tr>\n      <th>614</th>\n      <td>315</td>\n      <td>70</td>\n      <td>90</td>\n      <td>45</td>\n      <td>15</td>\n      <td>45</td>\n      <td>0</td>\n    </tr>\n    <tr>\n      <th>...</th>\n      <td>...</td>\n      <td>...</td>\n      <td>...</td>\n      <td>...</td>\n      <td>...</td>\n      <td>...</td>\n      <td>...</td>\n    </tr>\n    <tr>\n      <th>544</th>\n      <td>680</td>\n      <td>150</td>\n      <td>100</td>\n      <td>120</td>\n      <td>100</td>\n      <td>120</td>\n      <td>1</td>\n    </tr>\n    <tr>\n      <th>730</th>\n      <td>382</td>\n      <td>62</td>\n      <td>73</td>\n      <td>55</td>\n      <td>56</td>\n      <td>52</td>\n      <td>0</td>\n    </tr>\n    <tr>\n      <th>253</th>\n      <td>465</td>\n      <td>73</td>\n      <td>95</td>\n      <td>62</td>\n      <td>85</td>\n      <td>65</td>\n      <td>0</td>\n    </tr>\n    <tr>\n      <th>568</th>\n      <td>281</td>\n      <td>41</td>\n      <td>50</td>\n      <td>37</td>\n      <td>50</td>\n      <td>37</td>\n      <td>0</td>\n    </tr>\n    <tr>\n      <th>673</th>\n      <td>540</td>\n      <td>76</td>\n      <td>147</td>\n      <td>90</td>\n      <td>60</td>\n      <td>70</td>\n      <td>0</td>\n    </tr>\n  </tbody>\n</table>\n<p>240 rows × 7 columns</p>\n</div>"
     },
     "execution_count": 29,
     "metadata": {},
     "output_type": "execute_result"
    }
   ],
   "source": [
    "from sklearn.linear_model import LassoCV\n",
    "\n",
    "lcv = LassoCV().fit(X_train_st, y_train)\n",
    "print(lcv.alpha_)\n",
    "mask = lcv.coef_ != 0\n",
    "print(mask)\n",
    "print(sum(mask))\n",
    "X_train.iloc[:, mask]"
   ],
   "metadata": {
    "collapsed": false,
    "pycharm": {
     "name": "#%%\n"
    }
   }
  },
  {
   "cell_type": "code",
   "execution_count": 30,
   "outputs": [
    {
     "data": {
      "text/plain": "0.8757594518869205"
     },
     "execution_count": 30,
     "metadata": {},
     "output_type": "execute_result"
    }
   ],
   "source": [
    "lcv.score(X_test_st, y_test)\n"
   ],
   "metadata": {
    "collapsed": false,
    "pycharm": {
     "name": "#%%\n"
    }
   }
  },
  {
   "cell_type": "code",
   "execution_count": 31,
   "outputs": [
    {
     "name": "stdout",
     "output_type": "stream",
     "text": [
      "0.8757595461729792\n",
      "0.9999519840532702\n"
     ]
    }
   ],
   "source": [
    "lcv = LassoCV().fit(X_train_st[:, mask], y_train)\n",
    "print(lcv.score(X_test_st[:, mask], y_test))\n",
    "print(lcv.score(X_train_st[:, mask], y_train))"
   ],
   "metadata": {
    "collapsed": false,
    "pycharm": {
     "name": "#%%\n"
    }
   }
  },
  {
   "cell_type": "code",
   "execution_count": 36,
   "outputs": [
    {
     "name": "stdout",
     "output_type": "stream",
     "text": [
      "LassoCV test results: 0.8757594518869205\n",
      "7 features out of 10 selected\n",
      "7\n",
      "Fitting estimator with 10 features.\n",
      "Fitting estimator with 9 features.\n",
      "Fitting estimator with 8 features.\n",
      "7 features out of 10 selected\n",
      "Fitting estimator with 10 features.\n",
      "Fitting estimator with 9 features.\n",
      "Fitting estimator with 8 features.\n",
      "7 features out of 10 selected\n",
      "[2 0 3 3 3 3 3 3 0 1]\n"
     ]
    },
    {
     "data": {
      "text/plain": "       #  Total  HP  Attack  Defense  Sp. Atk  Sp. Def\n0      0    318  45      49       49       65       65\n1      1    405  60      62       63       80       80\n2      2    525  80      82       83      100      100\n3      2    625  80     100      123      122      120\n4      3    309  39      52       43       60       50\n..   ...    ...  ..     ...      ...      ...      ...\n795  718    600  50     100      150      100      150\n796  718    700  50     160      110      160      110\n797  719    600  80     110       60      150      130\n798  719    680  80     160       60      170      130\n799  720    600  80     110      120      130       90\n\n[800 rows x 7 columns]",
      "text/html": "<div>\n<style scoped>\n    .dataframe tbody tr th:only-of-type {\n        vertical-align: middle;\n    }\n\n    .dataframe tbody tr th {\n        vertical-align: top;\n    }\n\n    .dataframe thead th {\n        text-align: right;\n    }\n</style>\n<table border=\"1\" class=\"dataframe\">\n  <thead>\n    <tr style=\"text-align: right;\">\n      <th></th>\n      <th>#</th>\n      <th>Total</th>\n      <th>HP</th>\n      <th>Attack</th>\n      <th>Defense</th>\n      <th>Sp. Atk</th>\n      <th>Sp. Def</th>\n    </tr>\n  </thead>\n  <tbody>\n    <tr>\n      <th>0</th>\n      <td>0</td>\n      <td>318</td>\n      <td>45</td>\n      <td>49</td>\n      <td>49</td>\n      <td>65</td>\n      <td>65</td>\n    </tr>\n    <tr>\n      <th>1</th>\n      <td>1</td>\n      <td>405</td>\n      <td>60</td>\n      <td>62</td>\n      <td>63</td>\n      <td>80</td>\n      <td>80</td>\n    </tr>\n    <tr>\n      <th>2</th>\n      <td>2</td>\n      <td>525</td>\n      <td>80</td>\n      <td>82</td>\n      <td>83</td>\n      <td>100</td>\n      <td>100</td>\n    </tr>\n    <tr>\n      <th>3</th>\n      <td>2</td>\n      <td>625</td>\n      <td>80</td>\n      <td>100</td>\n      <td>123</td>\n      <td>122</td>\n      <td>120</td>\n    </tr>\n    <tr>\n      <th>4</th>\n      <td>3</td>\n      <td>309</td>\n      <td>39</td>\n      <td>52</td>\n      <td>43</td>\n      <td>60</td>\n      <td>50</td>\n    </tr>\n    <tr>\n      <th>...</th>\n      <td>...</td>\n      <td>...</td>\n      <td>...</td>\n      <td>...</td>\n      <td>...</td>\n      <td>...</td>\n      <td>...</td>\n    </tr>\n    <tr>\n      <th>795</th>\n      <td>718</td>\n      <td>600</td>\n      <td>50</td>\n      <td>100</td>\n      <td>150</td>\n      <td>100</td>\n      <td>150</td>\n    </tr>\n    <tr>\n      <th>796</th>\n      <td>718</td>\n      <td>700</td>\n      <td>50</td>\n      <td>160</td>\n      <td>110</td>\n      <td>160</td>\n      <td>110</td>\n    </tr>\n    <tr>\n      <th>797</th>\n      <td>719</td>\n      <td>600</td>\n      <td>80</td>\n      <td>110</td>\n      <td>60</td>\n      <td>150</td>\n      <td>130</td>\n    </tr>\n    <tr>\n      <th>798</th>\n      <td>719</td>\n      <td>680</td>\n      <td>80</td>\n      <td>160</td>\n      <td>60</td>\n      <td>170</td>\n      <td>130</td>\n    </tr>\n    <tr>\n      <th>799</th>\n      <td>720</td>\n      <td>600</td>\n      <td>80</td>\n      <td>110</td>\n      <td>120</td>\n      <td>130</td>\n      <td>90</td>\n    </tr>\n  </tbody>\n</table>\n<p>800 rows × 7 columns</p>\n</div>"
     },
     "execution_count": 36,
     "metadata": {},
     "output_type": "execute_result"
    }
   ],
   "source": [
    "from sklearn.feature_selection import RFE\n",
    "from sklearn.ensemble import GradientBoostingClassifier, RandomForestClassifier\n",
    "# several models & voting\n",
    "\n",
    "lasso = LassoCV().fit(X_train_st, y_train)\n",
    "print(f'LassoCV test results: {lasso.score(X_test_st, y_test)}')\n",
    "lcv_mask = lasso.coef_ != 0\n",
    "print('{} features out of {} selected'.format(sum(lcv_mask), len(lcv_mask)))\n",
    "print(sum(lcv_mask))\n",
    "\n",
    "# randomforest & rfe\n",
    "rfe = RFE(estimator=RandomForestClassifier(), n_features_to_select=7, verbose=1).fit(X_train_st, y_train)\n",
    "rfe_mask = rfe.support_\n",
    "print('{} features out of {} selected'.format(sum(rfe_mask), len(rfe_mask)))\n",
    "\n",
    "# gradientboosting\n",
    "gr_boost = RFE(estimator=GradientBoostingClassifier(), n_features_to_select=7, verbose=1).fit(X_train_st, y_train)\n",
    "gr_boost_mask = gr_boost.support_\n",
    "print('{} features out of {} selected'.format(sum(gr_boost_mask), len(gr_boost_mask)))\n",
    "\n",
    "votes = np.sum([lcv_mask, rfe_mask, gr_boost_mask], axis=0)\n",
    "print(votes)\n",
    "\n",
    "top_votes = votes > 1\n",
    "X.iloc[:, top_votes]\n",
    "\n",
    "\n"
   ],
   "metadata": {
    "collapsed": false,
    "pycharm": {
     "name": "#%%\n"
    }
   }
  },
  {
   "cell_type": "code",
   "execution_count": 38,
   "outputs": [
    {
     "name": "stdout",
     "output_type": "stream",
     "text": [
      "The model can explain 7.9% of the variance in the test set using 7 features.\n"
     ]
    }
   ],
   "source": [
    "# Apply the dimensionality reduction on X\n",
    "X_reduced = X.iloc[:, top_votes]\n",
    "\n",
    "# Plug the reduced dataset into a linear regression pipeline\n",
    "X_train, X_test, y_train, y_test = train_test_split(X_reduced, y, test_size=0.3, random_state=0)\n",
    "gr_boost = RFE(estimator=GradientBoostingClassifier()).fit(scaler.fit_transform(X_train), y_train)\n",
    "r_squared = gr_boost.score(scaler.transform(X_test), y_test)\n",
    "print('The model can explain {0:.1%} of the variance in the test set using {1:} features.'.format(r_squared, len(gr_boost.support_)))"
   ],
   "metadata": {
    "collapsed": false,
    "pycharm": {
     "name": "#%%\n"
    }
   }
  },
  {
   "cell_type": "code",
   "execution_count": 40,
   "outputs": [
    {
     "data": {
      "text/plain": "<Figure size 432x288 with 1 Axes>",
      "image/png": "[encoded data removed]"
     },
     "metadata": {},
     "output_type": "display_data"
    }
   ],
   "source": [
    "pipe = Pipeline([('scaler', StandardScaler()),\n",
    "                 ('reducer', PCA(n_components=2))])\n",
    "\n",
    "# Fit the pipeline to poke_df and transform the data\n",
    "pc = pipe.fit_transform(pokemon)\n",
    "\n",
    "# Add the 2 components to poke_cat_df\n",
    "pokemon['PC 1'] = pc[:, 0]\n",
    "pokemon['PC 2'] = pc[:, 1]\n",
    "\n",
    "# Use the Legendary feature to color the PC 1 vs PC 2 scatterplot\n",
    "sns.scatterplot(data=pokemon,\n",
    "                x='PC 1', y='PC 2', hue='Legendary')\n",
    "plt.show()\n"
   ],
   "metadata": {
    "collapsed": false,
    "pycharm": {
     "name": "#%%\n"
    }
   }
  },
  {
   "cell_type": "code",
   "execution_count": 41,
   "outputs": [
    {
     "name": "stdout",
     "output_type": "stream",
     "text": [
      "[0.50099586 0.14121997 0.11554577]\n",
      "8.8% test set accuracy\n"
     ]
    }
   ],
   "source": [
    "# Build the pipeline\n",
    "pipe = Pipeline([\n",
    "        ('scaler', StandardScaler()),\n",
    "        ('reducer', PCA(n_components=3)),\n",
    "        ('classifier', RandomForestClassifier(random_state=0))])\n",
    "\n",
    "# Fit the pipeline to the training data\n",
    "pipe.fit(X_train, y_train)\n",
    "\n",
    "# Score the accuracy on the test set\n",
    "accuracy = pipe.score(X_test, y_test)\n",
    "\n",
    "# Prints the explained variance ratio and accuracy\n",
    "print(pipe.steps[1][1].explained_variance_ratio_)\n",
    "print('{0:.1%} test set accuracy'.format(accuracy))"
   ],
   "metadata": {
    "collapsed": false,
    "pycharm": {
     "name": "#%%\n"
    }
   }
  },
  {
   "cell_type": "code",
   "execution_count": null,
   "outputs": [],
   "source": [],
   "metadata": {
    "collapsed": false,
    "pycharm": {
     "name": "#%%\n"
    }
   }
  }
 ],
 "metadata": {
  "kernelspec": {
   "display_name": "Python 3",
   "language": "python",
   "name": "python3"
  },
  "language_info": {
   "codemirror_mode": {
    "name": "ipython",
    "version": 2
   },
   "file_extension": ".py",
   "mimetype": "text/x-python",
   "name": "python",
   "nbconvert_exporter": "python",
   "pygments_lexer": "ipython2",
   "version": "2.7.6"
  }
 },
 "nbformat": 4,
 "nbformat_minor": 0
}