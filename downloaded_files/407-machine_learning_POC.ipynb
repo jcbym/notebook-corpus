{
 "cells": [
  {
   "cell_type": "markdown",
   "metadata": {},
   "source": [
    "# LSA  #\n",
    "\n",
    "s"
   ]
  },
  {
   "cell_type": "code",
   "execution_count": 1,
   "metadata": {
    "hideCode": false,
    "hidePrompt": false
   },
   "outputs": [],
   "source": [
    "import numpy as np\n",
    "import pandas as pd\n",
    "import math\n",
    "from sklearn.datasets import fetch_20newsgroups"
   ]
  },
  {
   "cell_type": "code",
   "execution_count": 5,
   "metadata": {},
   "outputs": [],
   "source": [
    "raw_data = fetch_20newsgroups(shuffle=True, remove=('headers', 'footers', 'quotes'), random_state=1379)"
   ]
  },
  {
   "cell_type": "code",
   "execution_count": 14,
   "metadata": {},
   "outputs": [
    {
     "data": {
      "text/plain": [
       "['alt.atheism',\n",
       " 'comp.graphics',\n",
       " 'comp.os.ms-windows.misc',\n",
       " 'comp.sys.ibm.pc.hardware',\n",
       " 'comp.sys.mac.hardware',\n",
       " 'comp.windows.x',\n",
       " 'misc.forsale',\n",
       " 'rec.autos',\n",
       " 'rec.motorcycles',\n",
       " 'rec.sport.baseball',\n",
       " 'rec.sport.hockey',\n",
       " 'sci.crypt',\n",
       " 'sci.electronics',\n",
       " 'sci.med',\n",
       " 'sci.space',\n",
       " 'soc.religion.christian',\n",
       " 'talk.politics.guns',\n",
       " 'talk.politics.mideast',\n",
       " 'talk.politics.misc',\n",
       " 'talk.religion.misc']"
      ]
     },
     "execution_count": 14,
     "metadata": {},
     "output_type": "execute_result"
    }
   ],
   "source": [
    "#Get target names from this dataset:\n",
    "raw_data.target_names"
   ]
  },
  {
   "cell_type": "code",
   "execution_count": 28,
   "metadata": {},
   "outputs": [
    {
     "data": {
      "text/plain": [
       "0    wrote response dlecoint garnet acns fsu darius...\n",
       "1    soner yamen responded article kr nic umass bur...\n",
       "2    didnot master wisdom clling deserve confuse ha...\n",
       "3    driver bernoulli cartridge dataframe xp hard d...\n",
       "4    explore interesting paragraph point point sent...\n",
       "dtype: object"
      ]
     },
     "execution_count": 28,
     "metadata": {},
     "output_type": "execute_result"
    }
   ],
   "source": [
    "#Here we normalize the text and make it lower case.\n",
    "from cucco import Cucco\n",
    "from cucco.config import Config\n",
    "norm_esp = Cucco(Config(language='en'))\n",
    "normalized_text = pd.Series(raw_data.data).str.replace(\"[^a-zA-Z#]\", \" \")\\\n",
    "    .apply(lambda row: norm_esp.normalize(row.lower()))\n",
    "normalized_text.head(5)"
   ]
  },
  {
   "cell_type": "code",
   "execution_count": 21,
   "metadata": {},
   "outputs": [
    {
     "data": {
      "text/plain": [
       "105817"
      ]
     },
     "execution_count": 21,
     "metadata": {},
     "output_type": "execute_result"
    }
   ],
   "source": [
    "#How many unique words are there?\n",
    "len(set(word for word in \" \".join(row for row in normalized_text).split()))"
   ]
  },
  {
   "cell_type": "code",
   "execution_count": 29,
   "metadata": {},
   "outputs": [
    {
     "data": {
      "text/plain": [
       "(11314, 72767)"
      ]
     },
     "execution_count": 29,
     "metadata": {},
     "output_type": "execute_result"
    }
   ],
   "source": [
    "#Create tf-idf vectors\n",
    "from sklearn.feature_extraction.text import CountVectorizer\n",
    "vectorizer = CountVectorizer()\n",
    "X = vectorizer.fit_transform(normalized_text)\n",
    "X.shape"
   ]
  },
  {
   "cell_type": "code",
   "execution_count": 53,
   "metadata": {},
   "outputs": [
    {
     "data": {
      "text/plain": [
       "8"
      ]
     },
     "execution_count": 53,
     "metadata": {},
     "output_type": "execute_result"
    }
   ],
   "source": [
    "from sklearn.decomposition import TruncatedSVD\n",
    "svd_model = TruncatedSVD(n_components=8, algorithm='randomized', n_iter=100, random_state=1379)\n",
    "svd_model.fit(X)\n",
    "len(svd_model.components_)"
   ]
  },
  {
   "cell_type": "code",
   "execution_count": 54,
   "metadata": {},
   "outputs": [
    {
     "data": {
      "text/html": [
       "<div>\n",
       "<style scoped>\n",
       "    .dataframe tbody tr th:only-of-type {\n",
       "        vertical-align: middle;\n",
       "    }\n",
       "\n",
       "    .dataframe tbody tr th {\n",
       "        vertical-align: top;\n",
       "    }\n",
       "\n",
       "    .dataframe thead th {\n",
       "        text-align: right;\n",
       "    }\n",
       "</style>\n",
       "<table border=\"1\" class=\"dataframe\">\n",
       "  <thead>\n",
       "    <tr style=\"text-align: right;\">\n",
       "      <th></th>\n",
       "      <th>Topic0</th>\n",
       "      <th>Topic1</th>\n",
       "      <th>Topic2</th>\n",
       "      <th>Topic3</th>\n",
       "      <th>Topic4</th>\n",
       "      <th>Topic5</th>\n",
       "      <th>Topic6</th>\n",
       "      <th>Topic7</th>\n",
       "      <th>text</th>\n",
       "    </tr>\n",
       "  </thead>\n",
       "  <tbody>\n",
       "    <tr>\n",
       "      <th>7</th>\n",
       "      <td>1.065897e-06</td>\n",
       "      <td>0.057340</td>\n",
       "      <td>0.415979</td>\n",
       "      <td>-0.194606</td>\n",
       "      <td>-0.397748</td>\n",
       "      <td>-0.042633</td>\n",
       "      <td>0.569785</td>\n",
       "      <td>-0.224266</td>\n",
       "      <td>attorney general determined past hopes king be...</td>\n",
       "    </tr>\n",
       "    <tr>\n",
       "      <th>4</th>\n",
       "      <td>2.013044e-03</td>\n",
       "      <td>0.200812</td>\n",
       "      <td>0.932175</td>\n",
       "      <td>-0.337722</td>\n",
       "      <td>-0.742314</td>\n",
       "      <td>-0.038048</td>\n",
       "      <td>0.023652</td>\n",
       "      <td>-0.426710</td>\n",
       "      <td>explore interesting paragraph point point sent...</td>\n",
       "    </tr>\n",
       "    <tr>\n",
       "      <th>7</th>\n",
       "      <td>2.263821e-04</td>\n",
       "      <td>0.067773</td>\n",
       "      <td>0.478969</td>\n",
       "      <td>-0.219882</td>\n",
       "      <td>-0.557016</td>\n",
       "      <td>-0.049563</td>\n",
       "      <td>0.485923</td>\n",
       "      <td>-0.286313</td>\n",
       "      <td>attorney general determined past hopes king be...</td>\n",
       "    </tr>\n",
       "    <tr>\n",
       "      <th>15</th>\n",
       "      <td>1.774488e-04</td>\n",
       "      <td>0.129708</td>\n",
       "      <td>0.946880</td>\n",
       "      <td>-0.423604</td>\n",
       "      <td>-0.731114</td>\n",
       "      <td>-0.073980</td>\n",
       "      <td>1.001722</td>\n",
       "      <td>-0.788620</td>\n",
       "      <td>severe problem news headers ftp cs purdue pub ...</td>\n",
       "    </tr>\n",
       "    <tr>\n",
       "      <th>13</th>\n",
       "      <td>1.797756e-07</td>\n",
       "      <td>0.004846</td>\n",
       "      <td>0.041772</td>\n",
       "      <td>-0.019584</td>\n",
       "      <td>-0.009806</td>\n",
       "      <td>-0.002825</td>\n",
       "      <td>0.014784</td>\n",
       "      <td>-0.025032</td>\n",
       "      <td>homeland nagarno karabagh armenians homeland t...</td>\n",
       "    </tr>\n",
       "    <tr>\n",
       "      <th>3</th>\n",
       "      <td>1.499249e-03</td>\n",
       "      <td>0.076623</td>\n",
       "      <td>0.384018</td>\n",
       "      <td>-0.177681</td>\n",
       "      <td>-0.425281</td>\n",
       "      <td>-0.002296</td>\n",
       "      <td>-0.191350</td>\n",
       "      <td>-0.220382</td>\n",
       "      <td>driver bernoulli cartridge dataframe xp hard d...</td>\n",
       "    </tr>\n",
       "    <tr>\n",
       "      <th>16</th>\n",
       "      <td>7.545856e-07</td>\n",
       "      <td>0.050342</td>\n",
       "      <td>0.400279</td>\n",
       "      <td>-0.182096</td>\n",
       "      <td>-0.272544</td>\n",
       "      <td>-0.032660</td>\n",
       "      <td>0.437838</td>\n",
       "      <td>0.120417</td>\n",
       "      <td>results mathematica test posted newsgroup test...</td>\n",
       "    </tr>\n",
       "    <tr>\n",
       "      <th>5</th>\n",
       "      <td>2.482944e-05</td>\n",
       "      <td>0.040499</td>\n",
       "      <td>0.310425</td>\n",
       "      <td>-0.142802</td>\n",
       "      <td>-0.157059</td>\n",
       "      <td>-0.044304</td>\n",
       "      <td>-0.183454</td>\n",
       "      <td>-0.190054</td>\n",
       "      <td>alright ignore delved bit deeper xkeyevent fou...</td>\n",
       "    </tr>\n",
       "  </tbody>\n",
       "</table>\n",
       "</div>"
      ],
      "text/plain": [
       "          Topic0    Topic1    Topic2    Topic3    Topic4    Topic5    Topic6  \\\n",
       "7   1.065897e-06  0.057340  0.415979 -0.194606 -0.397748 -0.042633  0.569785   \n",
       "4   2.013044e-03  0.200812  0.932175 -0.337722 -0.742314 -0.038048  0.023652   \n",
       "7   2.263821e-04  0.067773  0.478969 -0.219882 -0.557016 -0.049563  0.485923   \n",
       "15  1.774488e-04  0.129708  0.946880 -0.423604 -0.731114 -0.073980  1.001722   \n",
       "13  1.797756e-07  0.004846  0.041772 -0.019584 -0.009806 -0.002825  0.014784   \n",
       "3   1.499249e-03  0.076623  0.384018 -0.177681 -0.425281 -0.002296 -0.191350   \n",
       "16  7.545856e-07  0.050342  0.400279 -0.182096 -0.272544 -0.032660  0.437838   \n",
       "5   2.482944e-05  0.040499  0.310425 -0.142802 -0.157059 -0.044304 -0.183454   \n",
       "\n",
       "      Topic7                                               text  \n",
       "7  -0.224266  attorney general determined past hopes king be...  \n",
       "4  -0.426710  explore interesting paragraph point point sent...  \n",
       "7  -0.286313  attorney general determined past hopes king be...  \n",
       "15 -0.788620  severe problem news headers ftp cs purdue pub ...  \n",
       "13 -0.025032  homeland nagarno karabagh armenians homeland t...  \n",
       "3  -0.220382  driver bernoulli cartridge dataframe xp hard d...  \n",
       "16  0.120417  results mathematica test posted newsgroup test...  \n",
       "5  -0.190054  alright ignore delved bit deeper xkeyevent fou...  "
      ]
     },
     "execution_count": 54,
     "metadata": {},
     "output_type": "execute_result"
    }
   ],
   "source": [
    "transformed = pd.DataFrame(index=raw_data.target, columns=['Topic'+str(i) for i in range(len(svd_model.components_))],\n",
    "                           data=svd_model.transform(X))\n",
    "transformed['text'] = normalized_text\n",
    "transformed.sample(n=8, random_state=192)"
   ]
  },
  {
   "cell_type": "code",
   "execution_count": 82,
   "metadata": {},
   "outputs": [],
   "source": [
    "#We need to normalize the data:\n",
    "from sklearn.preprocessing import normalize\n",
    "normalized = normalize(transformed.values[:,:-1])"
   ]
  },
  {
   "cell_type": "markdown",
   "metadata": {},
   "source": [
    "Usually in this form the coefficients are hard to interpret. But we can use K-means clustering in this low dimensional space to find groups of products that are close together."
   ]
  },
  {
   "cell_type": "code",
   "execution_count": 97,
   "metadata": {},
   "outputs": [],
   "source": [
    "from sklearn.cluster import KMeans\n",
    "\n",
    "clustering = KMeans(n_clusters=20, random_state=1389)\n",
    "clustering.fit(normalized)\n",
    "summary = pd.DataFrame({'group': raw_data.target, 'prediction': clustering.labels_})"
   ]
  },
  {
   "cell_type": "code",
   "execution_count": 93,
   "metadata": {},
   "outputs": [
    {
     "name": "stderr",
     "output_type": "stream",
     "text": [
      "======================================================================\n",
      "ERROR: test_impurity (__main__.TestImpurity)\n",
      "----------------------------------------------------------------------\n",
      "Traceback (most recent call last):\n",
      "  File \"<ipython-input-93-068fced383c6>\", line 6, in test_impurity\n",
      "    self.assertEqual(impurity(test_array), 0.6)\n",
      "  File \"<ipython-input-92-d3b73ae07e66>\", line 2, in impurity\n",
      "    return values.value_counts.max()/ values.count()\n",
      "AttributeError: 'function' object has no attribute 'max'\n",
      "\n",
      "----------------------------------------------------------------------\n",
      "Ran 1 test in 0.001s\n",
      "\n",
      "FAILED (errors=1)\n"
     ]
    },
    {
     "data": {
      "text/plain": [
       "<unittest.main.TestProgram at 0x1f3bafe72e8>"
      ]
     },
     "execution_count": 93,
     "metadata": {},
     "output_type": "execute_result"
    }
   ],
   "source": [
    "import unittest\n",
    "class TestImpurity(unittest.TestCase):\n",
    "\n",
    "    def test_impurity(self):\n",
    "        test_array = pd.Series([1,2,3,5,5])\n",
    "        self.assertEqual(impurity(test_array), 0.6)\n",
    "unittest.main(argv=[''], verbosity=0, exit=False)"
   ]
  },
  {
   "cell_type": "code",
   "execution_count": 96,
   "metadata": {},
   "outputs": [
    {
     "name": "stderr",
     "output_type": "stream",
     "text": [
      "----------------------------------------------------------------------\n",
      "Ran 1 test in 0.002s\n",
      "\n",
      "OK\n"
     ]
    },
    {
     "data": {
      "text/plain": [
       "<unittest.main.TestProgram at 0x1f3bb275e80>"
      ]
     },
     "execution_count": 96,
     "metadata": {},
     "output_type": "execute_result"
    }
   ],
   "source": [
    "def impurity(values: pd.Series):\n",
    "    return 1-values.value_counts().max()/ values.count()\n",
    "unittest.main(argv=[''], verbosity=0, exit=False)    "
   ]
  },
  {
   "cell_type": "code",
   "execution_count": 101,
   "metadata": {},
   "outputs": [
    {
     "name": "stdout",
     "output_type": "stream",
     "text": [
      "alt.atheism: 0.725\n",
      "comp.graphics: 0.7842465753424658\n",
      "comp.os.ms-windows.misc: 0.8020304568527918\n",
      "comp.sys.ibm.pc.hardware: 0.7508474576271187\n",
      "comp.sys.mac.hardware: 0.78719723183391\n",
      "comp.windows.x: 0.6913996627318718\n",
      "misc.forsale: 0.7982905982905983\n",
      "rec.autos: 0.7828282828282829\n",
      "rec.motorcycles: 0.8260869565217391\n",
      "rec.sport.baseball: 0.7437185929648241\n",
      "rec.sport.hockey: 0.6516666666666666\n",
      "sci.crypt: 0.8084033613445378\n",
      "sci.electronics: 0.868020304568528\n",
      "sci.med: 0.7962962962962963\n",
      "sci.space: 0.8195615514333896\n",
      "soc.religion.christian: 0.5141903171953255\n",
      "talk.politics.guns: 0.7893772893772893\n",
      "talk.politics.mideast: 0.7287234042553192\n",
      "talk.politics.misc: 0.7204301075268817\n",
      "talk.religion.misc: 0.6896551724137931\n"
     ]
    }
   ],
   "source": [
    "#Now we calculate impurity for all newsgroups\n",
    "for group in range(20):\n",
    "    print(f'{raw_data.target_names[group]}: {impurity(summary[summary.group == group].prediction)}')"
   ]
  },
  {
   "cell_type": "markdown",
   "metadata": {},
   "source": [
    "The impurity measure of 19/20 == 0.95 implies completely random data. However we see that our clustering did not improve impurity measure significantly."
   ]
  }
 ],
 "metadata": {
  "celltoolbar": "Hide code",
  "hide_code_all_hidden": false,
  "kernelspec": {
   "display_name": "Python 3",
   "language": "python",
   "name": "python3"
  },
  "language_info": {
   "codemirror_mode": {
    "name": "ipython",
    "version": 3
   },
   "file_extension": ".py",
   "mimetype": "text/x-python",
   "name": "python",
   "nbconvert_exporter": "python",
   "pygments_lexer": "ipython3",
   "version": "3.6.4"
  }
 },
 "nbformat": 4,
 "nbformat_minor": 2
}
