{
 "cells": [
  {
   "cell_type": "code",
   "execution_count": null,
   "metadata": {},
   "outputs": [],
   "source": [
    "import sys\n",
    "import glob\n",
    "import re\n",
    "import fnmatch\n",
    "import math\n",
    "import os\n",
    "from os import listdir\n",
    "from os.path import join, isfile, basename\n",
    "import itertools\n",
    "\n",
    "import numpy as np\n",
    "from numpy import float32, int32, uint8, dtype, genfromtxt\n",
    "\n",
    "import matplotlib\n",
    "%matplotlib inline\n",
    "import matplotlib.pyplot as plt\n",
    "\n",
    "import scipy\n",
    "import pandas as pd\n",
    "import colorsys\n",
    "\n",
    "import template_common as tc"
   ]
  },
  {
   "cell_type": "code",
   "execution_count": null,
   "metadata": {},
   "outputs": [],
   "source": [
    "from IPython.core.display import display, HTML\n",
    "display(HTML(\"<style>.container { width:90% !important; }</style>\"))"
   ]
  },
  {
   "cell_type": "code",
   "execution_count": null,
   "metadata": {},
   "outputs": [],
   "source": [
    "base_dir='/nrs/saalfeld/john/projects/flyChemStainAtlas/all_evals/distanceStatsWarpNorm'\n",
    "\n",
    "dest_dir = '/groups/saalfeld/home/bogovicj/pubDrafts/grpDrosTemplate/grpDrosTemplate/tables'\n",
    "fig_dir = '/groups/saalfeld/home/bogovicj/pubDrafts/grpDrosTemplate/grpDrosTemplate/figs'\n",
    "\n",
    "\n",
    "alg_list = ['antsRegDog', 'antsRegOwl', 'antsRegYang', 'cmtkCOG', 'cmtkCow', 'cmtkHideo']\n",
    "# template_list = [ 'JFRC2013_lo', 'JFRCtemplate2010', 'TeforBrain_f', 'F-antsFlip_lo', 'F-cmtkFlip_lof', 'FCWB']\n",
    "template_list = [ 'JFRC2013_lo', 'JFRCtemplate2010', 'TeforBrain_f', 'F-antsFlip_lo', 'FCWB']\n",
    "\n",
    "pd.options.display.float_format = '{:,.2f}'.format"
   ]
  },
  {
   "cell_type": "code",
   "execution_count": null,
   "metadata": {},
   "outputs": [],
   "source": [
    "# Load everything\n",
    "# os.listdir( base_dir )\n",
    "\n",
    "df = None\n",
    "# for tmp in template_list:\n",
    "for f in glob.glob( ''.join([base_dir,'/*.csv']) ):\n",
    "#     f = glob.glob( ''.join([base_dir,'/',tmp,'.csv']) )\n",
    "    print( f )\n",
    "    this_df = pd.read_csv( f, header=[0,1], index_col=0 )\n",
    "    if df is None:\n",
    "        df = this_df\n",
    "    else:\n",
    "        df = df.append( this_df )\n",
    "\n",
    "tc.clean_cols( df )\n",
    "df['std'] = df.apply( lambda x: math.sqrt(x['var']), axis=1)\n",
    "df['gam_std'] = df.apply( lambda x: math.sqrt(x['gam_var']), axis=1)\n",
    "df['ray_std'] = df.apply( lambda x: math.sqrt(x['ray_var']), axis=1)\n",
    "df.reset_index( drop=True )"
   ]
  },
  {
   "cell_type": "code",
   "execution_count": null,
   "metadata": {},
   "outputs": [],
   "source": [
    "tmask = df.apply( lambda x: (x['TEMPLATE'] in template_list ), axis=1)\n",
    "df = df.loc[tmask]\n",
    "\n",
    "df_ed = df.loc[ (df.ALG != 'ALL')]\n",
    "df_ed['TEMPLATE'] = df_ed.apply(lambda x: tc.template_name(x['TEMPLATE']), axis=1)\n",
    "df_ed['ALG'] = df_ed.apply(lambda x: tc.alg_name(x['ALG']), axis=1)\n",
    "# df_ed['TA'] = df_ed.apply(lambda x: ''.join([x['TEMPLATE'],':',x['ALG']]), axis=1)"
   ]
  },
  {
   "cell_type": "code",
   "execution_count": null,
   "metadata": {},
   "outputs": [],
   "source": [
    "# df_ed[[['mean','median','std']]]\n",
    "# df_ed['ALG'].unique()\n",
    "\n",
    "df_ed.head()"
   ]
  },
  {
   "cell_type": "code",
   "execution_count": null,
   "metadata": {},
   "outputs": [],
   "source": [
    "\n",
    "# print( df_writeme.index)\n",
    "# mi = pd.MultiIndex.from_product([df_l.TEMPLATE.unique(), df_l.ALG.unique()], names=['Template','Algorithm'])\n",
    "# mi\n",
    "\n",
    "# df_writeme.set_index( mi )\n",
    "# df_writeme.set_index( ['TEMPLATE','ALG'])\n",
    "\n",
    "# print( df_writeme.set_index( ['Template','Algorithm']).to_latex( multirow='True'))\n",
    "# print( df_writeme.to_latex())"
   ]
  },
  {
   "cell_type": "code",
   "execution_count": null,
   "metadata": {
    "scrolled": true
   },
   "outputs": [],
   "source": [
    "template_order = ['JFRC2010','JFRC2013','JRC2018','FCWB','Tefor']\n",
    "alg_order = ['ANTs A','ANTs B','ANTs C','CMTK A','CMTK B','CMTK C']\n",
    "\n",
    "for label in tc.labels:\n",
    "    print( label )\n",
    "    df_l = df_ed[ df_ed.LABEL == label ]\n",
    "    # df_writeme = df_l[['TEMPLATE','ALG','mean','std','p10','median','p90','count']].sort_values(by=['TEMPLATE','ALG'])\n",
    "    df_writeme = df_l[['TEMPLATE','ALG','mean','std','p10','median','p90','count']]\n",
    "    df_writeme.columns = ['Template','Algorithm','Mean','Std dev','10th perc','median','90th perc','N']\n",
    "    df_writeme = df_writeme.set_index( ['Template','Algorithm'])\n",
    "\n",
    "    # df_writeme\n",
    "\n",
    "    # df_writeme.reindex(labels=template_order, axis='index')\n",
    "    # df_writeme.loc[['JFRC2010','JFRC2013','JRC2018''FCWB','Tefor']]\n",
    "    #     print(df_writeme)\n",
    "\n",
    "#     print( '\\caption{{ {} }}'.format( tc.get_label_string( label ).replace('_','\\_')) )\n",
    "    \n",
    "    f = '/nrs/saalfeld/john/projects/flyChemStainAtlas/all_evals/distanceStatsWarpNorm/tables/label_{}.tex'.format(label)\n",
    "    with open( f, 'w') as tex_file:\n",
    "        print( '\\\\begin{table}', file=tex_file )\n",
    "        print( df_writeme.to_latex( multirow='True'), file=tex_file)\n",
    "        print( '\\caption{{ {} }}'.format( tc.get_label_string( label ).replace('_','\\_')), file=tex_file )\n",
    "        print( '\\caption{{ {} }}'.format( tc.get_label_string( label ).replace('_','\\_')) )\n",
    "        print( '\\end{table}', file=tex_file )\n",
    "\n",
    "# print( ' ' )\n",
    "# break"
   ]
  }
 ],
 "metadata": {
  "kernelspec": {
   "display_name": "Python [conda env:py36]",
   "language": "python",
   "name": "conda-env-py36-py"
  },
  "language_info": {
   "codemirror_mode": {
    "name": "ipython",
    "version": 3
   },
   "file_extension": ".py",
   "mimetype": "text/x-python",
   "name": "python",
   "nbconvert_exporter": "python",
   "pygments_lexer": "ipython3",
   "version": "3.6.3"
  }
 },
 "nbformat": 4,
 "nbformat_minor": 2
}
