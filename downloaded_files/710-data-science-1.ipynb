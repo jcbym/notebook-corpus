{
  "nbformat": 4,
  "nbformat_minor": 0,
  "metadata": {
    "kernelspec": {
      "display_name": "Python 3",
      "language": "python",
      "name": "python3"
    },
    "language_info": {
      "codemirror_mode": {
        "name": "ipython",
        "version": 3
      },
      "file_extension": ".py",
      "mimetype": "text/x-python",
      "name": "python",
      "nbconvert_exporter": "python",
      "pygments_lexer": "ipython3",
      "version": "3.8.5"
    },
    "colab": {
      "name": "Copy of fp_rap_notebook.ipynb",
      "provenance": []
    }
  },
  "cells": [
    {
      "cell_type": "code",
      "metadata": {
        "scrolled": true,
        "id": "zEFdaZsS8sfq",
        "colab": {
          "base_uri": "https://localhost:8080/",
          "height": 377
        },
        "outputId": "324a06f2-7646-46d4-fce6-2b0f356e0c1d"
      },
      "source": [
        "import pandas as pd\n",
        "\n",
        "url = pd.read_csv('https://raw.githubusercontent.com/fp-rap-build/data-science/main/data/raw_original.csv')\n",
        "\n",
        "url.head()"
      ],
      "execution_count": null,
      "outputs": [
        {
          "output_type": "execute_result",
          "data": {
            "text/html": [
              "<div>\n",
              "<style scoped>\n",
              "    .dataframe tbody tr th:only-of-type {\n",
              "        vertical-align: middle;\n",
              "    }\n",
              "\n",
              "    .dataframe tbody tr th {\n",
              "        vertical-align: top;\n",
              "    }\n",
              "\n",
              "    .dataframe thead th {\n",
              "        text-align: right;\n",
              "    }\n",
              "</style>\n",
              "<table border=\"1\" class=\"dataframe\">\n",
              "  <thead>\n",
              "    <tr style=\"text-align: right;\">\n",
              "      <th></th>\n",
              "      <th>name</th>\n",
              "      <th>geoid</th>\n",
              "      <th>state_name</th>\n",
              "      <th>county_name</th>\n",
              "      <th>city_name</th>\n",
              "      <th>median_household_income</th>\n",
              "      <th>median_household_income_moe</th>\n",
              "      <th>average_household_income</th>\n",
              "      <th>average_household_income_moe</th>\n",
              "      <th>per_capita_income</th>\n",
              "      <th>per_capita_income_moe</th>\n",
              "      <th>percent_of_households_with_incomes_200000_or_more</th>\n",
              "      <th>percent_of_households_with_incomes_200000_or_more.1</th>\n",
              "      <th>householder_under_25_years</th>\n",
              "      <th>householder_under_25_years_moe</th>\n",
              "      <th>householder_25_to_44_years</th>\n",
              "      <th>householder_25_to_44_years_moe</th>\n",
              "      <th>householder_45_to_64_years</th>\n",
              "      <th>householder_45_to_64_years_moe</th>\n",
              "      <th>householder_65_years_and_over</th>\n",
              "      <th>householder_65_years_and_over_moe</th>\n",
              "      <th>hhi_total</th>\n",
              "      <th>hhi_lt_25k</th>\n",
              "      <th>hhi_25k_to_49k</th>\n",
              "      <th>hhi_50k_to_749k</th>\n",
              "      <th>hhi_75k_to_999k</th>\n",
              "      <th>hhi_100k_to_1490k</th>\n",
              "      <th>hhi_150k_to_1999k</th>\n",
              "      <th>hhi_200k_or_more</th>\n",
              "    </tr>\n",
              "  </thead>\n",
              "  <tbody>\n",
              "    <tr>\n",
              "      <th>0</th>\n",
              "      <td>83824</td>\n",
              "      <td>86000US83824</td>\n",
              "      <td>Idaho; Washington</td>\n",
              "      <td>Benewah; Whitman</td>\n",
              "      <td>De Smet</td>\n",
              "      <td>41250</td>\n",
              "      <td>8252</td>\n",
              "      <td>51611</td>\n",
              "      <td>14340</td>\n",
              "      <td>17212</td>\n",
              "      <td>5787</td>\n",
              "      <td>0.000</td>\n",
              "      <td>0.276</td>\n",
              "      <td>-1</td>\n",
              "      <td>-1</td>\n",
              "      <td>-1</td>\n",
              "      <td>-1</td>\n",
              "      <td>45833</td>\n",
              "      <td>8549</td>\n",
              "      <td>-1</td>\n",
              "      <td>-1</td>\n",
              "      <td>98</td>\n",
              "      <td>27</td>\n",
              "      <td>37</td>\n",
              "      <td>13</td>\n",
              "      <td>6</td>\n",
              "      <td>10</td>\n",
              "      <td>5</td>\n",
              "      <td>0</td>\n",
              "    </tr>\n",
              "    <tr>\n",
              "      <th>1</th>\n",
              "      <td>83851</td>\n",
              "      <td>86000US83851</td>\n",
              "      <td>Idaho; Washington</td>\n",
              "      <td>Benewah; Whitman</td>\n",
              "      <td>Plummer</td>\n",
              "      <td>43750</td>\n",
              "      <td>4122</td>\n",
              "      <td>51087</td>\n",
              "      <td>5300</td>\n",
              "      <td>18923</td>\n",
              "      <td>2114</td>\n",
              "      <td>0.003</td>\n",
              "      <td>0.007</td>\n",
              "      <td>36875</td>\n",
              "      <td>11049</td>\n",
              "      <td>37500</td>\n",
              "      <td>17156</td>\n",
              "      <td>46477</td>\n",
              "      <td>4092</td>\n",
              "      <td>42813</td>\n",
              "      <td>9850</td>\n",
              "      <td>657</td>\n",
              "      <td>158</td>\n",
              "      <td>236</td>\n",
              "      <td>149</td>\n",
              "      <td>59</td>\n",
              "      <td>45</td>\n",
              "      <td>8</td>\n",
              "      <td>2</td>\n",
              "    </tr>\n",
              "    <tr>\n",
              "      <th>2</th>\n",
              "      <td>83870</td>\n",
              "      <td>86000US83870</td>\n",
              "      <td>Idaho; Washington</td>\n",
              "      <td>Benewah; Whitman</td>\n",
              "      <td>Tensed</td>\n",
              "      <td>32917</td>\n",
              "      <td>14186</td>\n",
              "      <td>47039</td>\n",
              "      <td>10148</td>\n",
              "      <td>19527</td>\n",
              "      <td>5164</td>\n",
              "      <td>0.000</td>\n",
              "      <td>0.257</td>\n",
              "      <td>-1</td>\n",
              "      <td>-1</td>\n",
              "      <td>23750</td>\n",
              "      <td>1004</td>\n",
              "      <td>45250</td>\n",
              "      <td>9361</td>\n",
              "      <td>21875</td>\n",
              "      <td>18892</td>\n",
              "      <td>107</td>\n",
              "      <td>45</td>\n",
              "      <td>23</td>\n",
              "      <td>19</td>\n",
              "      <td>5</td>\n",
              "      <td>15</td>\n",
              "      <td>0</td>\n",
              "      <td>0</td>\n",
              "    </tr>\n",
              "    <tr>\n",
              "      <th>3</th>\n",
              "      <td>97031</td>\n",
              "      <td>86000US97031</td>\n",
              "      <td>Oregon; Washington</td>\n",
              "      <td>Hood River; Skamania</td>\n",
              "      <td>Hood River; Odell</td>\n",
              "      <td>66970</td>\n",
              "      <td>5457</td>\n",
              "      <td>92612</td>\n",
              "      <td>9649</td>\n",
              "      <td>36942</td>\n",
              "      <td>3846</td>\n",
              "      <td>0.083</td>\n",
              "      <td>0.025</td>\n",
              "      <td>29537</td>\n",
              "      <td>19722</td>\n",
              "      <td>76731</td>\n",
              "      <td>9174</td>\n",
              "      <td>74087</td>\n",
              "      <td>13647</td>\n",
              "      <td>52784</td>\n",
              "      <td>14369</td>\n",
              "      <td>7237</td>\n",
              "      <td>822</td>\n",
              "      <td>1771</td>\n",
              "      <td>1371</td>\n",
              "      <td>945</td>\n",
              "      <td>1280</td>\n",
              "      <td>449</td>\n",
              "      <td>599</td>\n",
              "    </tr>\n",
              "    <tr>\n",
              "      <th>4</th>\n",
              "      <td>98001</td>\n",
              "      <td>86000US98001</td>\n",
              "      <td>Washington</td>\n",
              "      <td>King</td>\n",
              "      <td>Algona; Auburn; Federal Way; Lakeland North; L...</td>\n",
              "      <td>90287</td>\n",
              "      <td>7079</td>\n",
              "      <td>102055</td>\n",
              "      <td>4442</td>\n",
              "      <td>34806</td>\n",
              "      <td>1738</td>\n",
              "      <td>0.073</td>\n",
              "      <td>0.018</td>\n",
              "      <td>-1</td>\n",
              "      <td>-1</td>\n",
              "      <td>96378</td>\n",
              "      <td>6035</td>\n",
              "      <td>103146</td>\n",
              "      <td>8055</td>\n",
              "      <td>66179</td>\n",
              "      <td>2853</td>\n",
              "      <td>11247</td>\n",
              "      <td>979</td>\n",
              "      <td>1387</td>\n",
              "      <td>2171</td>\n",
              "      <td>1700</td>\n",
              "      <td>2970</td>\n",
              "      <td>1214</td>\n",
              "      <td>826</td>\n",
              "    </tr>\n",
              "  </tbody>\n",
              "</table>\n",
              "</div>"
            ],
            "text/plain": [
              "    name         geoid  ... hhi_150k_to_1999k hhi_200k_or_more\n",
              "0  83824  86000US83824  ...                 5                0\n",
              "1  83851  86000US83851  ...                 8                2\n",
              "2  83870  86000US83870  ...                 0                0\n",
              "3  97031  86000US97031  ...               449              599\n",
              "4  98001  86000US98001  ...              1214              826\n",
              "\n",
              "[5 rows x 29 columns]"
            ]
          },
          "metadata": {
            "tags": []
          },
          "execution_count": 22
        }
      ]
    },
    {
      "cell_type": "code",
      "metadata": {
        "scrolled": true,
        "id": "aiRR1wGQ8sft"
      },
      "source": [
        "data = url[['name', 'city_name', 'average_household_income']].copy()"
      ],
      "execution_count": null,
      "outputs": []
    },
    {
      "cell_type": "code",
      "metadata": {
        "id": "43HHHftS8sfu"
      },
      "source": [
        "data = data.rename(columns={'name':'zipcode',})\n",
        "data = data.rename(columns={'average_household_income':'average_annual_household_income',})"
      ],
      "execution_count": null,
      "outputs": []
    },
    {
      "cell_type": "code",
      "metadata": {
        "id": "IY0h6u0l8sfu"
      },
      "source": [
        "data['average_monthly_household_income'] = data['average_annual_household_income'].div(12).round(2)"
      ],
      "execution_count": null,
      "outputs": []
    },
    {
      "cell_type": "code",
      "metadata": {
        "id": "yXV50Wqa8sfu"
      },
      "source": [
        "small = data[['zipcode', 'city_name', 'average_monthly_household_income']].copy()"
      ],
      "execution_count": null,
      "outputs": []
    },
    {
      "cell_type": "code",
      "metadata": {
        "id": "nBk1NI_B8sfv",
        "colab": {
          "base_uri": "https://localhost:8080/",
          "height": 204
        },
        "outputId": "9fa5cc66-4974-46e6-8bf3-621e93bf3ee1"
      },
      "source": [
        "small.sort_values(by=['average_monthly_household_income'],ascending=False).head(5)"
      ],
      "execution_count": null,
      "outputs": [
        {
          "output_type": "execute_result",
          "data": {
            "text/html": [
              "<div>\n",
              "<style scoped>\n",
              "    .dataframe tbody tr th:only-of-type {\n",
              "        vertical-align: middle;\n",
              "    }\n",
              "\n",
              "    .dataframe tbody tr th {\n",
              "        vertical-align: top;\n",
              "    }\n",
              "\n",
              "    .dataframe thead th {\n",
              "        text-align: right;\n",
              "    }\n",
              "</style>\n",
              "<table border=\"1\" class=\"dataframe\">\n",
              "  <thead>\n",
              "    <tr style=\"text-align: right;\">\n",
              "      <th></th>\n",
              "      <th>zipcode</th>\n",
              "      <th>city_name</th>\n",
              "      <th>average_monthly_household_income</th>\n",
              "    </tr>\n",
              "  </thead>\n",
              "  <tbody>\n",
              "    <tr>\n",
              "      <th>34</th>\n",
              "      <td>98039</td>\n",
              "      <td>Bellevue; Hunts Point; Kirkland; Medina</td>\n",
              "      <td>26932.50</td>\n",
              "    </tr>\n",
              "    <tr>\n",
              "      <th>35</th>\n",
              "      <td>98040</td>\n",
              "      <td>Mercer Island</td>\n",
              "      <td>18718.25</td>\n",
              "    </tr>\n",
              "    <tr>\n",
              "      <th>53</th>\n",
              "      <td>98074</td>\n",
              "      <td>Sammamish</td>\n",
              "      <td>18487.83</td>\n",
              "    </tr>\n",
              "    <tr>\n",
              "      <th>55</th>\n",
              "      <td>98077</td>\n",
              "      <td>Cottage Lake; Maltby; Union Hill-Novelty Hill</td>\n",
              "      <td>18485.25</td>\n",
              "    </tr>\n",
              "    <tr>\n",
              "      <th>87</th>\n",
              "      <td>98164</td>\n",
              "      <td>Seattle</td>\n",
              "      <td>18302.25</td>\n",
              "    </tr>\n",
              "  </tbody>\n",
              "</table>\n",
              "</div>"
            ],
            "text/plain": [
              "    zipcode  ... average_monthly_household_income\n",
              "34    98039  ...                         26932.50\n",
              "35    98040  ...                         18718.25\n",
              "53    98074  ...                         18487.83\n",
              "55    98077  ...                         18485.25\n",
              "87    98164  ...                         18302.25\n",
              "\n",
              "[5 rows x 3 columns]"
            ]
          },
          "metadata": {
            "tags": []
          },
          "execution_count": 27
        }
      ]
    },
    {
      "cell_type": "code",
      "metadata": {
        "id": "0H-bf_dFECl9"
      },
      "source": [
        "small.sort_values(by=['average_monthly_household_income'],ascending=False).to_csv(r'small_clean.csv', index = False)"
      ],
      "execution_count": null,
      "outputs": []
    },
    {
      "cell_type": "code",
      "metadata": {
        "colab": {
          "base_uri": "https://localhost:8080/",
          "height": 204
        },
        "id": "p6ut1waIGHfJ",
        "outputId": "1836b84a-0761-4a04-bfd1-7991a43ac0aa"
      },
      "source": [
        "df = pd.read_csv('https://raw.githubusercontent.com/fp-rap-build/data-science/main/data/cleaned_data.csv')\n",
        "df.head()"
      ],
      "execution_count": null,
      "outputs": [
        {
          "output_type": "execute_result",
          "data": {
            "text/html": [
              "<div>\n",
              "<style scoped>\n",
              "    .dataframe tbody tr th:only-of-type {\n",
              "        vertical-align: middle;\n",
              "    }\n",
              "\n",
              "    .dataframe tbody tr th {\n",
              "        vertical-align: top;\n",
              "    }\n",
              "\n",
              "    .dataframe thead th {\n",
              "        text-align: right;\n",
              "    }\n",
              "</style>\n",
              "<table border=\"1\" class=\"dataframe\">\n",
              "  <thead>\n",
              "    <tr style=\"text-align: right;\">\n",
              "      <th></th>\n",
              "      <th>zipcode</th>\n",
              "      <th>city_name</th>\n",
              "      <th>average_monthly_household_income</th>\n",
              "    </tr>\n",
              "  </thead>\n",
              "  <tbody>\n",
              "    <tr>\n",
              "      <th>0</th>\n",
              "      <td>98039</td>\n",
              "      <td>Bellevue; Hunts Point; Kirkland; Medina</td>\n",
              "      <td>26933</td>\n",
              "    </tr>\n",
              "    <tr>\n",
              "      <th>1</th>\n",
              "      <td>98040</td>\n",
              "      <td>Mercer Island</td>\n",
              "      <td>18718</td>\n",
              "    </tr>\n",
              "    <tr>\n",
              "      <th>2</th>\n",
              "      <td>98074</td>\n",
              "      <td>Sammamish</td>\n",
              "      <td>18488</td>\n",
              "    </tr>\n",
              "    <tr>\n",
              "      <th>3</th>\n",
              "      <td>98077</td>\n",
              "      <td>Cottage Lake; Maltby; Union Hill-Novelty Hill</td>\n",
              "      <td>18485</td>\n",
              "    </tr>\n",
              "    <tr>\n",
              "      <th>4</th>\n",
              "      <td>98164</td>\n",
              "      <td>Seattle</td>\n",
              "      <td>18302</td>\n",
              "    </tr>\n",
              "  </tbody>\n",
              "</table>\n",
              "</div>"
            ],
            "text/plain": [
              "   zipcode  ... average_monthly_household_income\n",
              "0    98039  ...                            26933\n",
              "1    98040  ...                            18718\n",
              "2    98074  ...                            18488\n",
              "3    98077  ...                            18485\n",
              "4    98164  ...                            18302\n",
              "\n",
              "[5 rows x 3 columns]"
            ]
          },
          "metadata": {
            "tags": []
          },
          "execution_count": 32
        }
      ]
    },
    {
      "cell_type": "code",
      "metadata": {
        "id": "FRXaU1OLMFYd"
      },
      "source": [
        "df = df.rename(columns={'monthly_mean_income':'average_monthly_household_income',})"
      ],
      "execution_count": null,
      "outputs": []
    },
    {
      "cell_type": "code",
      "metadata": {
        "colab": {
          "base_uri": "https://localhost:8080/",
          "height": 297
        },
        "id": "qD9ACILQXIAr",
        "outputId": "6a888399-f71f-44b7-e967-5f45ced671c2"
      },
      "source": [
        "df.describe()"
      ],
      "execution_count": null,
      "outputs": [
        {
          "output_type": "execute_result",
          "data": {
            "text/html": [
              "<div>\n",
              "<style scoped>\n",
              "    .dataframe tbody tr th:only-of-type {\n",
              "        vertical-align: middle;\n",
              "    }\n",
              "\n",
              "    .dataframe tbody tr th {\n",
              "        vertical-align: top;\n",
              "    }\n",
              "\n",
              "    .dataframe thead th {\n",
              "        text-align: right;\n",
              "    }\n",
              "</style>\n",
              "<table border=\"1\" class=\"dataframe\">\n",
              "  <thead>\n",
              "    <tr style=\"text-align: right;\">\n",
              "      <th></th>\n",
              "      <th>zipcode</th>\n",
              "      <th>average_monthly_household_income</th>\n",
              "    </tr>\n",
              "  </thead>\n",
              "  <tbody>\n",
              "    <tr>\n",
              "      <th>count</th>\n",
              "      <td>571.000000</td>\n",
              "      <td>571.000000</td>\n",
              "    </tr>\n",
              "    <tr>\n",
              "      <th>mean</th>\n",
              "      <td>98620.488616</td>\n",
              "      <td>6989.611208</td>\n",
              "    </tr>\n",
              "    <tr>\n",
              "      <th>std</th>\n",
              "      <td>408.528005</td>\n",
              "      <td>2769.527576</td>\n",
              "    </tr>\n",
              "    <tr>\n",
              "      <th>min</th>\n",
              "      <td>97031.000000</td>\n",
              "      <td>1404.000000</td>\n",
              "    </tr>\n",
              "    <tr>\n",
              "      <th>25%</th>\n",
              "      <td>98280.500000</td>\n",
              "      <td>5217.500000</td>\n",
              "    </tr>\n",
              "    <tr>\n",
              "      <th>50%</th>\n",
              "      <td>98581.000000</td>\n",
              "      <td>6422.000000</td>\n",
              "    </tr>\n",
              "    <tr>\n",
              "      <th>75%</th>\n",
              "      <td>99002.000000</td>\n",
              "      <td>7932.000000</td>\n",
              "    </tr>\n",
              "    <tr>\n",
              "      <th>max</th>\n",
              "      <td>99403.000000</td>\n",
              "      <td>26933.000000</td>\n",
              "    </tr>\n",
              "  </tbody>\n",
              "</table>\n",
              "</div>"
            ],
            "text/plain": [
              "            zipcode  average_monthly_household_income\n",
              "count    571.000000                        571.000000\n",
              "mean   98620.488616                       6989.611208\n",
              "std      408.528005                       2769.527576\n",
              "min    97031.000000                       1404.000000\n",
              "25%    98280.500000                       5217.500000\n",
              "50%    98581.000000                       6422.000000\n",
              "75%    99002.000000                       7932.000000\n",
              "max    99403.000000                      26933.000000"
            ]
          },
          "metadata": {
            "tags": []
          },
          "execution_count": 37
        }
      ]
    },
    {
      "cell_type": "code",
      "metadata": {
        "colab": {
          "base_uri": "https://localhost:8080/",
          "height": 235
        },
        "id": "2WWAmAxfQGV1",
        "outputId": "bdfabfba-5dfd-4d46-82e9-486aebf207e4"
      },
      "source": [
        "df[(df['city_name'] == 'Spokane')]"
      ],
      "execution_count": null,
      "outputs": [
        {
          "output_type": "execute_result",
          "data": {
            "text/html": [
              "<div>\n",
              "<style scoped>\n",
              "    .dataframe tbody tr th:only-of-type {\n",
              "        vertical-align: middle;\n",
              "    }\n",
              "\n",
              "    .dataframe tbody tr th {\n",
              "        vertical-align: top;\n",
              "    }\n",
              "\n",
              "    .dataframe thead th {\n",
              "        text-align: right;\n",
              "    }\n",
              "</style>\n",
              "<table border=\"1\" class=\"dataframe\">\n",
              "  <thead>\n",
              "    <tr style=\"text-align: right;\">\n",
              "      <th></th>\n",
              "      <th>zipcode</th>\n",
              "      <th>city_name</th>\n",
              "      <th>average_monthly_household_income</th>\n",
              "    </tr>\n",
              "  </thead>\n",
              "  <tbody>\n",
              "    <tr>\n",
              "      <th>86</th>\n",
              "      <td>99203</td>\n",
              "      <td>Spokane</td>\n",
              "      <td>9150</td>\n",
              "    </tr>\n",
              "    <tr>\n",
              "      <th>128</th>\n",
              "      <td>99223</td>\n",
              "      <td>Spokane</td>\n",
              "      <td>8160</td>\n",
              "    </tr>\n",
              "    <tr>\n",
              "      <th>188</th>\n",
              "      <td>99026</td>\n",
              "      <td>Spokane</td>\n",
              "      <td>7391</td>\n",
              "    </tr>\n",
              "    <tr>\n",
              "      <th>511</th>\n",
              "      <td>99204</td>\n",
              "      <td>Spokane</td>\n",
              "      <td>4332</td>\n",
              "    </tr>\n",
              "    <tr>\n",
              "      <th>528</th>\n",
              "      <td>99207</td>\n",
              "      <td>Spokane</td>\n",
              "      <td>4182</td>\n",
              "    </tr>\n",
              "    <tr>\n",
              "      <th>531</th>\n",
              "      <td>99201</td>\n",
              "      <td>Spokane</td>\n",
              "      <td>4119</td>\n",
              "    </tr>\n",
              "  </tbody>\n",
              "</table>\n",
              "</div>"
            ],
            "text/plain": [
              "     zipcode city_name  average_monthly_household_income\n",
              "86     99203   Spokane                              9150\n",
              "128    99223   Spokane                              8160\n",
              "188    99026   Spokane                              7391\n",
              "511    99204   Spokane                              4332\n",
              "528    99207   Spokane                              4182\n",
              "531    99201   Spokane                              4119"
            ]
          },
          "metadata": {
            "tags": []
          },
          "execution_count": 36
        }
      ]
    }
  ]
}
