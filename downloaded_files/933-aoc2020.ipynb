{
 "cells": [
  {
   "cell_type": "code",
   "execution_count": 180,
   "metadata": {},
   "outputs": [],
   "source": [
    "# Get the challenge:\n",
    "from aocd import get_data\n",
    "d = (get_data(day=10)).split('\\n')"
   ]
  },
  {
   "cell_type": "code",
   "execution_count": 181,
   "metadata": {},
   "outputs": [],
   "source": [
    "ds = [int(i) for i in d] \n",
    "ds.sort()"
   ]
  },
  {
   "cell_type": "code",
   "execution_count": 182,
   "metadata": {},
   "outputs": [
    {
     "name": "stdout",
     "output_type": "stream",
     "text": [
      "v1 = 74 v2 = 0 v3 = 34\n"
     ]
    }
   ],
   "source": [
    "v = 0\n",
    "v1 = 0\n",
    "v2 = 0\n",
    "v3 = 0\n",
    "\n",
    "for l in ds:\n",
    "    if l == v+1:\n",
    "        v = l\n",
    "        v1 = v1+1\n",
    "    elif l == v+2:\n",
    "        v = l\n",
    "        v2 = v2+1\n",
    "    elif l == v+3:\n",
    "        v = l\n",
    "        v3 = v3+1\n",
    "\n",
    "v3 = v3+1 # For the final adapter\n",
    "\n",
    "print('v1 = ' + str(v1) + ' v2 = ' + str(v2) + ' v3 = ' + str(v3))\n"
   ]
  },
  {
   "cell_type": "code",
   "execution_count": 183,
   "metadata": {},
   "outputs": [
    {
     "name": "stdout",
     "output_type": "stream",
     "text": [
      "Answert to part 1: 2516\n"
     ]
    }
   ],
   "source": [
    "print('Answert to part 1: ' + str(v1*v3))"
   ]
  },
  {
   "cell_type": "code",
   "execution_count": 184,
   "metadata": {},
   "outputs": [],
   "source": [
    "# Test data if needed\n",
    "#ds = [16,10,15,5,1,11,7,19,6,12,4]\n",
    "#ds = [28,33,18,42,31,14,46,20,48,47,24,23,49,45,19,38,39,11,1,32,25,35,8,17,7,9,4,2,34,10,3]\n",
    "#ds.sort()"
   ]
  },
  {
   "cell_type": "code",
   "execution_count": 185,
   "metadata": {},
   "outputs": [
    {
     "name": "stdout",
     "output_type": "stream",
     "text": [
      "l3 = 6, l4 = 7, l5 = 10\n",
      "Answer to part 2: 296196766695424\n"
     ]
    }
   ],
   "source": [
    "import more_itertools\n",
    "\n",
    "l3 = 0\n",
    "l4 = 0\n",
    "l5 = 0\n",
    "\n",
    "ds.append(max(ds)+3) # Add the 3 for completeness\n",
    "ds.insert(0,0)       # Add the zero because it matters\n",
    "\n",
    "\n",
    "for g in more_itertools.consecutive_groups(ds): # This is kinda cheating, but my kind of solution.\n",
    "    l = len(list(g))\n",
    "    if l == 3: l3 = l3 + 1\n",
    "    if l == 4: l4 = l4 + 1\n",
    "    if l == 5: l5 = l5 + 1 # Only goes up to 5 consecutive numbers\n",
    "\n",
    "print('l3 = '+str(l3)+', l4 = '+str(l4)+', l5 = '+str(l5))\n",
    "\n",
    "ans = (2**l3) * (4**l4) * (7**l5)\n",
    "print('Answer to part 2: ' + str(ans))"
   ]
  }
 ],
 "metadata": {
  "kernelspec": {
   "display_name": "Python 3",
   "language": "python",
   "name": "python3"
  },
  "language_info": {
   "codemirror_mode": {
    "name": "ipython",
    "version": 3
   },
   "file_extension": ".py",
   "mimetype": "text/x-python",
   "name": "python",
   "nbconvert_exporter": "python",
   "pygments_lexer": "ipython3",
   "version": "3.8.0"
  }
 },
 "nbformat": 4,
 "nbformat_minor": 4
}
