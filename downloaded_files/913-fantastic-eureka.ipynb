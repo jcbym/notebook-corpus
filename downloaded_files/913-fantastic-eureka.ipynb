{
 "cells": [
  {
   "cell_type": "code",
   "execution_count": 6,
   "metadata": {
    "collapsed": false
   },
   "outputs": [
    {
     "name": "stdout",
     "output_type": "stream",
     "text": [
      "['Comment' 'Like']\n"
     ]
    }
   ],
   "source": [
    "import pandas as pd\n",
    "\n",
    "import os\n",
    "\n",
    "input_file = \"input/input.xlsx\"\n",
    "\n",
    "df = pd.read_excel(input_file)\n",
    "print(df.TypeAction.unique())"
   ]
  },
  {
   "cell_type": "code",
   "execution_count": 7,
   "metadata": {
    "collapsed": false
   },
   "outputs": [
    {
     "name": "stdout",
     "output_type": "stream",
     "text": [
      "                                     Action_id TypeAction      Page_name  \\\n",
      "0    Comment/1364017066952510_1364097753611108    Comment  Resident Evil   \n",
      "1  Comment/10154797365350629_10154797373500629    Comment   Bandai Namco   \n",
      "2    Comment/1365217000165850_1365754593445424    Comment  Resident Evil   \n",
      "3    Comment/1364017066952510_1364061950281355    Comment  Resident Evil   \n",
      "4    Comment/1365217000165850_1225502404193085    Comment  Resident Evil   \n",
      "\n",
      "                                        Feed_message  \\\n",
      "0  [UK ONLY] To celebrate the release of Resident...   \n",
      "1  We continue our Tales Of look back with Tales ...   \n",
      "2  Are you afraid of the dark? Because you should...   \n",
      "3  [UK ONLY] To celebrate the release of Resident...   \n",
      "4  Are you afraid of the dark? Because you should...   \n",
      "\n",
      "                  User_name  \\\n",
      "0             Ronald Briand   \n",
      "1               Jon Imboden   \n",
      "2  Claudia Alejandra Olguín   \n",
      "3            David Lawrence   \n",
      "4         Leandro Guilherme   \n",
      "\n",
      "                             CommentsForItem_message Sentiment  \\\n",
      "0                                  Muy buena :)  (Y)     0.988   \n",
      "1  I may be in the minority here, but I LOVE the ...     0.954   \n",
      "2  mira Roberto Zeballos,  para probar en tu PEQU...    0.9527   \n",
      "3                                   Sarah Amadeus :O    0.9402   \n",
      "4  Aeee Paulo Lucas vou te dar de presente no seu...    0.9382   \n",
      "\n",
      "  Action_created_time_qvdate  \n",
      "0                 2017-01-05  \n",
      "1                 2016-12-27  \n",
      "2                 2017-01-07  \n",
      "3                 2017-01-05  \n",
      "4                 2017-01-08  \n",
      "              Action_id TypeAction     Page_name  \\\n",
      "7765    Like/6938264959       Like        CAPCOM   \n",
      "7766   Like/12040282146       Like             -   \n",
      "7767   Like/49054165628       Like  Bandai Namco   \n",
      "7768  Like/154718398250       Like             -   \n",
      "7769  Like/285330833071       Like             -   \n",
      "\n",
      "                                           Feed_message User_name  \\\n",
      "7765  The team at Capcom Vancouver want to wish ever...         -   \n",
      "7766  Before it comes out, i playing all the horror ...         -   \n",
      "7767  Surfs up! Boruto is bringing tsunami reinforce...         -   \n",
      "7768  21 días para experimentar el miedo y el terror...         -   \n",
      "7769  Before it comes out, i playing all the horror ...         -   \n",
      "\n",
      "     CommentsForItem_message Sentiment Action_created_time_qvdate  \n",
      "7765                       -         -                 2017-01-04  \n",
      "7766                       -         -                 2017-01-05  \n",
      "7767                       -         -                 2017-01-04  \n",
      "7768                       -         -                 2017-01-04  \n",
      "7769                       -         -                 2017-01-05  \n"
     ]
    }
   ],
   "source": [
    "comments = df.loc[df['TypeAction'] == 'Comment']\n",
    "likes = df.loc[df['TypeAction'] == 'Like']\n",
    "\n",
    "print(comments.head())\n",
    "print(likes.head())"
   ]
  }
 ],
 "metadata": {
  "kernelspec": {
   "display_name": "Python 3",
   "language": "python",
   "name": "python3"
  },
  "language_info": {
   "codemirror_mode": {
    "name": "ipython",
    "version": 3
   },
   "file_extension": ".py",
   "mimetype": "text/x-python",
   "name": "python",
   "nbconvert_exporter": "python",
   "pygments_lexer": "ipython3",
   "version": "3.5.2"
  }
 },
 "nbformat": 4,
 "nbformat_minor": 2
}
