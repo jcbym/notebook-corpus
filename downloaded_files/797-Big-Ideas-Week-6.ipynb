{
 "cells": [
  {
   "cell_type": "code",
   "execution_count": 3,
   "metadata": {},
   "outputs": [
    {
     "name": "stdin",
     "output_type": "stream",
     "text": [
      "What's your name? AJ\n",
      "What's your age? 89\n"
     ]
    },
    {
     "name": "stdout",
     "output_type": "stream",
     "text": [
      "Hi AJ.\n",
      "Go home. You are too old for our liking.\n"
     ]
    }
   ],
   "source": [
    "try:\n",
    "    name = input(\"What's your name?\")\n",
    "    age = int(input(\"What's your age?\"))\n",
    "    \n",
    "    print(\"Hi \" + name + \".\")\n",
    "    \n",
    "    if age < 21:\n",
    "        print(\"You are too young to get in the club!\")\n",
    "    elif 20 < age < 65:\n",
    "        print(\"You are allowed to enter the club.\")\n",
    "    else:\n",
    "        print(\"Go home. You are too old for our liking.\")\n",
    "except:\n",
    "    print(\"Enter a legitiment answer.\")"
   ]
  },
  {
   "cell_type": "code",
   "execution_count": null,
   "metadata": {},
   "outputs": [],
   "source": []
  }
 ],
 "metadata": {
  "kernelspec": {
   "display_name": "Python 3",
   "language": "python",
   "name": "python3"
  },
  "language_info": {
   "codemirror_mode": {
    "name": "ipython",
    "version": 3
   },
   "file_extension": ".py",
   "mimetype": "text/x-python",
   "name": "python",
   "nbconvert_exporter": "python",
   "pygments_lexer": "ipython3",
   "version": "3.7.8"
  }
 },
 "nbformat": 4,
 "nbformat_minor": 4
}
