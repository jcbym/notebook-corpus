{
 "cells": [
  {
   "cell_type": "markdown",
   "metadata": {},
   "source": [
    "# Quantum Key distribution with and without Eavesdropper"
   ]
  },
  {
   "cell_type": "markdown",
   "metadata": {},
   "source": [
    "<a id=\"intro\"></a>\n",
    "# 1. Introduction\n",
    "\n",
    "**What is key distribution?** Secure communication relies on the ability of the sender (Alice) to encrypt the message in a way that the receiver (Bob) can decrypt it but not an eavesdropper. This security is often accomplished with the use of a **key**, which is a piece of information known only to the sender and receiver and enables them to decrypt and encrypt the message. If a key can be securely distributed between the sender and receiver, the encrypted message can be securely sent over a public channel, since without the key, the probability of successfully decrypting the message is tiny.\n",
    "\n",
    "Practically, **a key is just a bitstring** - a sequence of 1s and 0s, that is uniquely known only to Alice and Bob, the two communicating parties.\n",
    "\n",
    "Therefore, the problem of secure communication boils down to secure key distribution. QKD is unique because security against eavesdropping is guaranteed by the laws of quantum mechanics, as opposed to the computational complexity of certain functions, which is what is used in classical key distribution. "
   ]
  },
  {
   "cell_type": "markdown",
   "metadata": {},
   "source": [
    "<a id=\"layout\"></a>\n",
    "## 1.1 Quantum Key Distribution Activity layout\n",
    "\n",
    "In this lab, and in your homework, we are going to implement the BB84 protocol. Remember from lecture the following steps of the protocol:\n",
    "\n",
    "1. `SELECT ENCODING`: Alice randomly selects a basis ( × or + ) to encode each bit.\n",
    "2. `SELECT MEASUREMENT`: Bob randomly selects a basis ( × or + ) to measure each bit.\n",
    "3. `ENCODE`: Alice creates the quantum states, encoded in the selected bases.\n",
    "4. `EAVESDROPPER`: Both the cases are shown in the code below, with and without eavesdropper.\n",
    "5. `SEND`: Alice sends Bob the encoded states, via the quantum channel. \n",
    "6. `MEASURE`: Bob measures all the quantum states in his pre-selected measurement bases.\n",
    "7. `ANNOUNCE BASIS`: Alice announces which basis she used to encode each bit, via the classical channel.\n",
    "8. `FIND SYMMETRIC KEY`: Alice and Bob discard bits in their key that used a different encoding and decoding basis."
   ]
  },
  {
   "cell_type": "markdown",
   "metadata": {},
   "source": [
    "Alice needs to randomly select a bit key which needs to be send to Bob. \n",
    "Alice along with Eve and Bob need to randomly select a basis in which to encode each bit of the bit key.\n",
    "\n",
    "This function takes in the number of bases that Alice needs to randomly pick and returns a list of each chosen encoding represented by either a 0 or a 1"
   ]
  },
  {
   "cell_type": "code",
   "execution_count": 1,
   "metadata": {},
   "outputs": [],
   "source": [
    "def select_encoding_and_bases(length):\n",
    "    bitstring = \"\"\n",
    "    bases = \"\" \n",
    "    for i in range(length):\n",
    "        # We use the function getrandbits to get either a 0 or 1 randomly,\n",
    "        # The \"1\" in the function argument is the number of bits to be generated\n",
    "        bitstring += (str(getrandbits(1)))\n",
    "        # 0 means encode in the (0,1) basis and 1 means encode in the (+,-) basis\n",
    "        bases += (str(getrandbits(1)))\n",
    "    \n",
    "    # return the string of bits and the list of bases they should be encoded in\n",
    "    return bitstring, bases"
   ]
  },
  {
   "cell_type": "markdown",
   "metadata": {},
   "source": [
    "Below function takes in the number of bases that Bob and Eve needs to randomly pick and returns a list of each chosen measurement basis represented by either a 0 or a 1"
   ]
  },
  {
   "cell_type": "code",
   "execution_count": 2,
   "metadata": {},
   "outputs": [],
   "source": [
    "def measure(bases, encoded_qubits, backend):\n",
    "    bitstring = ''\n",
    "    for i in range(len(encoded_qubits)):\n",
    "        qc = encoded_qubits[i]\n",
    "        \n",
    "        if bases[i] == \"0\":\n",
    "            # 0 means we want to measure in Z basis\n",
    "            qc.measure(0,0)\n",
    "\n",
    "        elif bases[i] == \"1\":\n",
    "            # 1 means we want to measure in X basis\n",
    "            qc.h(0)\n",
    "            qc.measure(0,0)\n",
    "        \n",
    "        # Now that the measurements have been added to the circuit, let's run them.\n",
    "        job = q.execute(qc, backend=backend, shots = 1) # increase shots if running on hardware\n",
    "        results = job.result()\n",
    "        counts = results.get_counts()\n",
    "        measured_bit = max(counts, key=counts.get)\n",
    "\n",
    "        # Append measured bit to Bob's measured bitstring\n",
    "        bitstring += measured_bit \n",
    "        \n",
    "    return bitstring"
   ]
  },
  {
   "cell_type": "markdown",
   "metadata": {},
   "source": [
    "Alice and Eve now use their random list of numbers to generate a bunch of quantum states:\n",
    "    \n",
    "The table below summarizes the qubit states Alice sends along with Eve after eavesdropping, based on the bit of Alice's `alice_bitstring` the corresponding bit of `selected_bases`:\n",
    "\n",
    "| Bit in Alice's/Eve's `alice_bitstring/eve_bitstring` | Corresponding bit in `alice_bases/eve_bases` | Encoding basis | Qubit state sent |\n",
    "|:----------------:|:--------------------------:|:--------------------------:|:---------------:|\n",
    "| 0 | 0 | $$|0\\rangle,|1\\rangle$$ |$$|0\\rangle$$ |\n",
    "| 0 | 1 | $$|+\\rangle,|-\\rangle$$ |$$|+\\rangle$$ |\n",
    "| 1 | 0 | $$|0\\rangle,|1\\rangle$$ |$$|1\\rangle$$ |\n",
    "| 1 | 1 | $$|+\\rangle,|-\\rangle$$ |$$|-\\rangle$$ |"
   ]
  },
  {
   "cell_type": "code",
   "execution_count": 3,
   "metadata": {},
   "outputs": [],
   "source": [
    "def encode(bitstring, bases):\n",
    "    encoded_qubits = []\n",
    "    for i in range(len(bitstring)):\n",
    "        # create a brand new quantum circuit called qc. Remember that the qubit will be in state |0> by default\n",
    "        qc = q.QuantumCircuit(1,1)\n",
    "\n",
    "        if bases[i] == \"0\":\n",
    "            # 0 Means we are encoding in the z basis\n",
    "            if bitstring[i] == \"0\":\n",
    "                # We want to encode a |0> state, as states are intialized\n",
    "                # in |0> by default we don't need to add anything here\n",
    "                pass\n",
    "            \n",
    "            elif bitstring[i] == \"1\":\n",
    "                # We want to encode a |1> state\n",
    "                # We apply an X gate to generate |1>\n",
    "                qc.x(0)\n",
    "                \n",
    "        elif bases[i] == \"1\":\n",
    "            # 1 Means we are encoding in the x basis\n",
    "            if bitstring[i] == \"0\":\n",
    "                # We apply an H gate to generate |+>\n",
    "                qc.h(0)\n",
    "            elif bitstring[i] == \"1\":\n",
    "                # We apply an X and an H gate to generate |->\n",
    "                qc.x(0)\n",
    "                qc.h(0)\n",
    "            \n",
    "        # add this quantum circuit to the list of encoded_qubits\n",
    "        encoded_qubits.append(qc)\n",
    "        \n",
    "    return encoded_qubits"
   ]
  },
  {
   "cell_type": "markdown",
   "metadata": {},
   "source": [
    "Now that Alice has announced what basis she used to encrypt her key, Bob can check against his list and see the places where they matched. The positions where they used the same basis are the places where they will also share the same key value!"
   ]
  },
  {
   "cell_type": "code",
   "execution_count": 4,
   "metadata": {},
   "outputs": [],
   "source": [
    "def bob_compare_bases(alices_bases, bobs_bases):\n",
    "    indices = []\n",
    "    \n",
    "    for i in range(len(alices_bases)):\n",
    "        if alices_bases[i] == bobs_bases[i]:\n",
    "            indices.append(i)\n",
    "    return indices"
   ]
  },
  {
   "cell_type": "markdown",
   "metadata": {},
   "source": [
    "#### Bob and Alice know all the positions where they used the same basis to encode and decode a qubit so now if they discard every bit that was encoded using a basis that didn't agree, they will have a shared key!"
   ]
  },
  {
   "cell_type": "code",
   "execution_count": 5,
   "metadata": {},
   "outputs": [],
   "source": [
    "def construct_key_from_indices(bitstring, indices):\n",
    "    key = ''\n",
    "    for idx in indices:\n",
    "        # For the indices where bases match, the bitstring bit is added to the key\n",
    "        key = key + bitstring[idx] \n",
    "    return key"
   ]
  },
  {
   "cell_type": "markdown",
   "metadata": {},
   "source": [
    "## QKD Algorithm with no evedropping "
   ]
  },
  {
   "cell_type": "markdown",
   "metadata": {},
   "source": [
    "Importing required files"
   ]
  },
  {
   "cell_type": "code",
   "execution_count": 6,
   "metadata": {},
   "outputs": [],
   "source": [
    "from random import getrandbits\n",
    "import qiskit as q"
   ]
  },
  {
   "cell_type": "markdown",
   "metadata": {},
   "source": [
    "Selecting a backend for executing the algorithm"
   ]
  },
  {
   "cell_type": "code",
   "execution_count": 7,
   "metadata": {},
   "outputs": [],
   "source": [
    "sim_backend = q.Aer.get_backend('qasm_simulator')"
   ]
  },
  {
   "cell_type": "markdown",
   "metadata": {},
   "source": [
    "Defining the ket length constant, Quantum and Classical channel. This is to simulate the classical and quantum communication in the actual experiment.  "
   ]
  },
  {
   "cell_type": "code",
   "execution_count": 8,
   "metadata": {},
   "outputs": [],
   "source": [
    "KEY_LENGTH = 500\n",
    "QUANTUM_CHANNEL = []\n",
    "CLASSICAL_CHANNEL = []"
   ]
  },
  {
   "cell_type": "markdown",
   "metadata": {},
   "source": [
    "We can see what alice and bob bit string and bases look like by printing the first 10 elements, this \n",
    "should look like a string and a list of random '1's or '0's "
   ]
  },
  {
   "cell_type": "code",
   "execution_count": 9,
   "metadata": {},
   "outputs": [
    {
     "name": "stdout",
     "output_type": "stream",
     "text": [
      "Alice randomly generated bitstring:  0000010100\n",
      "Alice randomly generated bases:  0110100110\n",
      "Bob randomly generated bases:  0010110101\n"
     ]
    }
   ],
   "source": [
    "alice_bitstring, alice_bases = select_encoding_and_bases(KEY_LENGTH)\n",
    "_ , bob_bases = select_encoding_and_bases(KEY_LENGTH)\n",
    "\n",
    " \n",
    "# Preview the first 10 elements of each:\n",
    "print(\"Alice randomly generated bitstring: \", alice_bitstring[:10])\n",
    "print(\"Alice randomly generated bases: \", alice_bases[:10])\n",
    "\n",
    "print(\"Bob randomly generated bases: \", bob_bases[:10])"
   ]
  },
  {
   "cell_type": "markdown",
   "metadata": {},
   "source": [
    "Create Alice's encoded_qubits and send via quantum channel"
   ]
  },
  {
   "cell_type": "code",
   "execution_count": 10,
   "metadata": {},
   "outputs": [],
   "source": [
    "encoded_qubits = encode(alice_bitstring, alice_bases)\n",
    "QUANTUM_CHANNEL = encoded_qubits"
   ]
  },
  {
   "cell_type": "markdown",
   "metadata": {},
   "source": [
    "Measurment of qubits on quantum channel by Bob "
   ]
  },
  {
   "cell_type": "code",
   "execution_count": 11,
   "metadata": {},
   "outputs": [
    {
     "name": "stdout",
     "output_type": "stream",
     "text": [
      "Bit string at bob's end generated\n"
     ]
    }
   ],
   "source": [
    "bob_bitstring = measure(bob_bases, QUANTUM_CHANNEL, sim_backend)\n",
    "print(\"Bit string at bob's end generated\")"
   ]
  },
  {
   "cell_type": "markdown",
   "metadata": {},
   "source": [
    "Alice sending it bases to Bob via Classical Channel"
   ]
  },
  {
   "cell_type": "code",
   "execution_count": 12,
   "metadata": {},
   "outputs": [],
   "source": [
    "CLASSICAL_CHANNEL = alice_bases"
   ]
  },
  {
   "cell_type": "code",
   "execution_count": 13,
   "metadata": {},
   "outputs": [],
   "source": [
    "agreeing_bases = bob_compare_bases(CLASSICAL_CHANNEL, bob_bases)"
   ]
  },
  {
   "cell_type": "code",
   "execution_count": 14,
   "metadata": {},
   "outputs": [],
   "source": [
    "CLASSICAL_CHANNEL = agreeing_bases"
   ]
  },
  {
   "cell_type": "code",
   "execution_count": 15,
   "metadata": {},
   "outputs": [
    {
     "name": "stdout",
     "output_type": "stream",
     "text": [
      "alice_key:  0000010100\n",
      "bob_key:    0000010100\n",
      "Alice's key is equal to Bob's key:  True\n",
      "Thus, this Quantum channel is safe for data transfer\n"
     ]
    }
   ],
   "source": [
    "alice_key = construct_key_from_indices(alice_bitstring, CLASSICAL_CHANNEL)\n",
    "bob_key = construct_key_from_indices(bob_bitstring, agreeing_bases)\n",
    "\n",
    "# Preview the first 10 elements of each Key:\n",
    "print(\"alice_key: \", alice_key[:10])\n",
    "print(\"bob_key:   \", bob_key[:10])\n",
    "print(\"Alice's key is equal to Bob's key: \", alice_key == bob_key)\n",
    "if(not(alice_key == bob_key)):\n",
    "    print(\"Thus, this Quantum channel is not safe for data transfer\")\n",
    "elif(alice_key == bob_key):\n",
    "    print(\"Thus, this Quantum channel is safe for data transfer\")"
   ]
  },
  {
   "cell_type": "markdown",
   "metadata": {},
   "source": [
    "## QKD Algorithm with evedropping by Eve"
   ]
  },
  {
   "cell_type": "markdown",
   "metadata": {},
   "source": [
    "Defining the ket length constant, Quantum and Classical channel. This is to simulate the classical and quantum communication in the actual experiment."
   ]
  },
  {
   "cell_type": "code",
   "execution_count": 16,
   "metadata": {},
   "outputs": [],
   "source": [
    "KEY_LENGTH = 500\n",
    "QUANTUM_CHANNEL = []\n",
    "CLASSICAL_CHANNEL = []"
   ]
  },
  {
   "cell_type": "markdown",
   "metadata": {},
   "source": [
    "We can see what alice and bob bit string and bases look like by printing the first 10 elements, this should look like a string and a list of random '1's or '0's"
   ]
  },
  {
   "cell_type": "code",
   "execution_count": 17,
   "metadata": {},
   "outputs": [
    {
     "name": "stdout",
     "output_type": "stream",
     "text": [
      "Alice randomly generated bitstring:  1110111001\n",
      "Alice randomly generated bases:  0010101001\n",
      "Eve randomly generated bases:  0111111010\n",
      "Bob randomly generated bases:  1011001110\n"
     ]
    }
   ],
   "source": [
    "alice_bitstring, alice_bases = select_encoding_and_bases(KEY_LENGTH)\n",
    "_ , bob_bases = select_encoding_and_bases(KEY_LENGTH)\n",
    "_ , eve_bases = select_encoding_and_bases(KEY_LENGTH)\n",
    "\n",
    "# Preview the first 10 elements of each:\n",
    "print(\"Alice randomly generated bitstring: \", alice_bitstring[:10])\n",
    "print(\"Alice randomly generated bases: \", alice_bases[:10])\n",
    "\n",
    "print(\"Eve randomly generated bases: \", bob_bases[:10])\n",
    "\n",
    "print(\"Bob randomly generated bases: \", eve_bases[:10])"
   ]
  },
  {
   "cell_type": "markdown",
   "metadata": {},
   "source": [
    "Create Alice's encoded_qubits and send via quantum channel"
   ]
  },
  {
   "cell_type": "code",
   "execution_count": 18,
   "metadata": {},
   "outputs": [],
   "source": [
    "encoded_qubits = encode(alice_bitstring, alice_bases)\n",
    "QUANTUM_CHANNEL = encoded_qubits"
   ]
  },
  {
   "cell_type": "markdown",
   "metadata": {},
   "source": [
    "Measurment of qubits on quantum channel by Even. Then again encoding the qubits on quantum channel by the randomly selected bases."
   ]
  },
  {
   "cell_type": "code",
   "execution_count": 19,
   "metadata": {},
   "outputs": [
    {
     "name": "stdout",
     "output_type": "stream",
     "text": [
      "Quantum information is measure and encoded by Eve\n"
     ]
    }
   ],
   "source": [
    "eve_bitstring = measure(eve_bases, QUANTUM_CHANNEL, sim_backend)\n",
    "encoded_qubits = encode(eve_bitstring, eve_bases)\n",
    "QUANTUM_CHANNEL = encoded_qubits\n",
    "print(\"Quantum information is measure and encoded by Eve\")"
   ]
  },
  {
   "cell_type": "markdown",
   "metadata": {},
   "source": [
    "Measurment of qubits on quantum channel by Bob"
   ]
  },
  {
   "cell_type": "code",
   "execution_count": 20,
   "metadata": {},
   "outputs": [
    {
     "name": "stdout",
     "output_type": "stream",
     "text": [
      "Bit string at bob's end generated\n"
     ]
    }
   ],
   "source": [
    "bob_bitstring = measure(bob_bases, QUANTUM_CHANNEL, sim_backend)\n",
    "print(\"Bit string at bob's end generated\")"
   ]
  },
  {
   "cell_type": "markdown",
   "metadata": {},
   "source": [
    "Alice sending its bases to Bob via Classical Channel"
   ]
  },
  {
   "cell_type": "code",
   "execution_count": 21,
   "metadata": {},
   "outputs": [],
   "source": [
    "CLASSICAL_CHANNEL = alice_bases"
   ]
  },
  {
   "cell_type": "code",
   "execution_count": 22,
   "metadata": {},
   "outputs": [],
   "source": [
    "agreeing_bases = bob_compare_bases(CLASSICAL_CHANNEL, bob_bases)"
   ]
  },
  {
   "cell_type": "code",
   "execution_count": 23,
   "metadata": {},
   "outputs": [],
   "source": [
    "CLASSICAL_CHANNEL = agreeing_bases"
   ]
  },
  {
   "cell_type": "code",
   "execution_count": 24,
   "metadata": {},
   "outputs": [
    {
     "name": "stdout",
     "output_type": "stream",
     "text": [
      "alice_key:  1111000010\n",
      "bob_key:  1101110010\n",
      "Alice's key is equal to Bob's key:  False\n",
      "Thus, this Quantum channel is not safe for data transfer\n"
     ]
    }
   ],
   "source": [
    "alice_key = construct_key_from_indices(alice_bitstring, CLASSICAL_CHANNEL)\n",
    "bob_key = construct_key_from_indices(bob_bitstring, agreeing_bases)\n",
    "\n",
    "# Preview the first 10 elements of each Key:\n",
    "print(\"alice_key: \", alice_key[:10])\n",
    "print(\"bob_key: \", bob_key[:10])\n",
    "print(\"Alice's key is equal to Bob's key: \", alice_key == bob_key)\n",
    "if(not(alice_key == bob_key)):\n",
    "    print(\"Thus, this Quantum channel is not safe for data transfer\")\n",
    "elif(alice_key == bob_key):\n",
    "    print(\"Thus, this Quantum channel is safe for data transfer\")"
   ]
  },
  {
   "cell_type": "markdown",
   "metadata": {},
   "source": [
    "It can be seen that the when there is evesdroping by a middle person, the channel becomes unsecured. This can be verified by checking the alice and bob keys as shown above.   "
   ]
  }
 ],
 "metadata": {
  "kernelspec": {
   "display_name": "Python 3",
   "language": "python",
   "name": "python3"
  },
  "language_info": {
   "codemirror_mode": {
    "name": "ipython",
    "version": 3
   },
   "file_extension": ".py",
   "mimetype": "text/x-python",
   "name": "python",
   "nbconvert_exporter": "python",
   "pygments_lexer": "ipython3",
   "version": "3.8.2"
  }
 },
 "nbformat": 4,
 "nbformat_minor": 4
}
