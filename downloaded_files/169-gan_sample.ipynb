{
  "nbformat": 4,
  "nbformat_minor": 0,
  "metadata": {
    "colab": {
      "name": "section7_2-generate_images.ipynb",
      "provenance": [],
      "collapsed_sections": [],
      "machine_shape": "hm"
    },
    "kernelspec": {
      "name": "python3",
      "display_name": "Python 3"
    },
    "accelerator": "GPU"
  },
  "cells": [
    {
      "cell_type": "code",
      "metadata": {
        "id": "AMyxEmrECc8G"
      },
      "source": [
        "# 学習した重みから画像を生成するサンプルコード"
      ],
      "execution_count": null,
      "outputs": []
    },
    {
      "cell_type": "code",
      "metadata": {
        "id": "u2ee3z-a-tjW",
        "colab": {
          "base_uri": "https://localhost:8080/"
        },
        "outputId": "f22bce12-1cdc-435f-e6f1-da01bd084756"
      },
      "source": [
        "# GPU情報の確認\n",
        "!nvidia-smi"
      ],
      "execution_count": 1,
      "outputs": [
        {
          "output_type": "stream",
          "text": [
            "Sun Feb  7 12:28:21 2021       \n",
            "+-----------------------------------------------------------------------------+\n",
            "| NVIDIA-SMI 460.39       Driver Version: 418.67       CUDA Version: 10.1     |\n",
            "|-------------------------------+----------------------+----------------------+\n",
            "| GPU  Name        Persistence-M| Bus-Id        Disp.A | Volatile Uncorr. ECC |\n",
            "| Fan  Temp  Perf  Pwr:Usage/Cap|         Memory-Usage | GPU-Util  Compute M. |\n",
            "|                               |                      |               MIG M. |\n",
            "|===============================+======================+======================|\n",
            "|   0  Tesla V100-SXM2...  Off  | 00000000:00:04.0 Off |                    0 |\n",
            "| N/A   33C    P0    24W / 300W |      0MiB / 16130MiB |      0%      Default |\n",
            "|                               |                      |                 ERR! |\n",
            "+-------------------------------+----------------------+----------------------+\n",
            "                                                                               \n",
            "+-----------------------------------------------------------------------------+\n",
            "| Processes:                                                                  |\n",
            "|  GPU   GI   CI        PID   Type   Process name                  GPU Memory |\n",
            "|        ID   ID                                                   Usage      |\n",
            "|=============================================================================|\n",
            "|  No running processes found                                                 |\n",
            "+-----------------------------------------------------------------------------+\n"
          ],
          "name": "stdout"
        }
      ]
    },
    {
      "cell_type": "code",
      "metadata": {
        "id": "dQtS-pSDe9zu"
      },
      "source": [
        "# google driveからcolaboにファイルをコピーするメソッド\n",
        "import requests\n",
        "\n",
        "def download_file_from_google_drive(id, destination):\n",
        "    print('---- download_file_from_google_drive start ----')\n",
        "    URL = \"https://docs.google.com/uc?export=download\"\n",
        "\n",
        "    try:\n",
        "        session = requests.Session()\n",
        "\n",
        "        response = session.get(URL, params = { 'id' : id }, stream = True)\n",
        "        print('response.status_code: {}'.format(response.status_code))\n",
        "        print('response.headers: {}'.format(response.headers))\n",
        "\n",
        "        token = get_confirm_token(response)\n",
        "        print('token'.format(token))\n",
        "\n",
        "        if token:\n",
        "            print(token)\n",
        "            params = { 'id' : id, 'confirm' : token }\n",
        "            response = session.get(URL, params = params, stream = True)\n",
        "\n",
        "        save_response_content(response, destination)\n",
        "    except Exception as e:\n",
        "        print(e)\n",
        "\n",
        "\n",
        "def get_confirm_token(response):\n",
        "    for key, value in response.cookies.items():\n",
        "        print('key: {}'.format(key))\n",
        "        print('value: {}'.format(value))\n",
        "       \n",
        "        if key.startswith('download_warning'):\n",
        "            return value\n",
        "            \n",
        "        if key == 'NID':\n",
        "            print('NID')\n",
        "            token = value.split('=')\n",
        "            print(token)\n",
        "            return token[1]\n",
        "\n",
        "    return None\n",
        "\n",
        "def save_response_content(response, destination):\n",
        "    CHUNK_SIZE = 32768\n",
        "\n",
        "    with open(destination, \"wb\") as f:\n",
        "        for chunk in response.iter_content(CHUNK_SIZE):\n",
        "            if chunk: # filter out keep-alive new chunks\n",
        "                f.write(chunk)"
      ],
      "execution_count": 2,
      "outputs": []
    },
    {
      "cell_type": "code",
      "metadata": {
        "id": "JoMwHp9sAOcX"
      },
      "source": [
        "# 実行環境のrootディレクトリの確認\n",
        "%cd /content\n",
        "!ls -lah"
      ],
      "execution_count": null,
      "outputs": []
    },
    {
      "cell_type": "code",
      "metadata": {
        "id": "FnA433nhfNXa"
      },
      "source": [
        "# ソースコードのダウンロード\n",
        "%cd /content/\n",
        "!rm -fr gan_sample\n",
        "!git clone https://github.com/ayukat1016/gan_sample.git"
      ],
      "execution_count": null,
      "outputs": []
    },
    {
      "cell_type": "code",
      "metadata": {
        "id": "0Lnmq3Rrgi9t"
      },
      "source": [
        "# 学習済みモデルを配置するディレクトリを作成します。\n",
        "%cd /content/\n",
        "!mkdir ./model"
      ],
      "execution_count": null,
      "outputs": []
    },
    {
      "cell_type": "code",
      "metadata": {
        "id": "XnbSQC8XgjW1"
      },
      "source": [
        "# 学習済みモデルを下記からダウンロード\n",
        "# https://drive.google.com/file/d/1FDFlJhLhwVI52ZyJHBuHalSnbJ8EcCs8/view?usp=sharing\n",
        "\n",
        "file_id = '1FDFlJhLhwVI52ZyJHBuHalSnbJ8EcCs8'\n",
        "destination = './model/20210122_070159.pkl'\n",
        "download_file_from_google_drive(file_id, destination)"
      ],
      "execution_count": null,
      "outputs": []
    },
    {
      "cell_type": "code",
      "metadata": {
        "id": "17GZl7VR9ZqH"
      },
      "source": [
        "# Google driveのマウントを行います。\n",
        "from google.colab import drive\n",
        "drive.mount('/content/gdrive')"
      ],
      "execution_count": null,
      "outputs": []
    },
    {
      "cell_type": "code",
      "metadata": {
        "id": "SVqwpuW09Zs0"
      },
      "source": [
        "# マウントしたGoogle Drive情報の確認\n",
        "!ls gdrive -lah"
      ],
      "execution_count": null,
      "outputs": []
    },
    {
      "cell_type": "code",
      "metadata": {
        "id": "57oCD8X59Nv-"
      },
      "source": [
        "# 画像の生成を行います\n",
        "# --batch_size: 学習を行った際のバッチサイズを指定します\n",
        "# --resolution: 学習を行った際の画像の解像度を指定します\n",
        "# --model_path: 学習済みモデルを配置したディレクトリを指定します。\n",
        "# --output_path: 生成した画像を格納するディレクトリを指定します。\n",
        "# --seeds: 標準正規分布を作成する際の乱数のシードを指定します。\n",
        "# seedsに指定した個数分、画像が生成され、--output_pathで指定したディレクトリ格納されます。\n",
        "# --truncation-psi: 0 〜 1の間を指定します。0に近いと標準的な画像が生成され、1.0に近い値を指定すると、標準から外れた画像が生成されます。\n",
        "# 0に近いと品質は良いですがつまらない画像が、1.0に近いと変わった画像が生成されますが、品質は悪くなります。\n",
        "# --latent_dim: 中間潜在変数の次元数を指定します。学習時と同じ値を設定します。\n",
        "\n",
        "%cd /content/gan_sample/chapter7/stylegan2_pytorch\n",
        "\n",
        "!python generate_images.py \\\n",
        "--batch_size=4 \\\n",
        "--resolution=512 \\\n",
        "--model_path=../../../model/ \\\n",
        "--output_path=/content/gdrive/MyDrive/'Colab Notebooks'/gan_sample/chapter7/results \\\n",
        "--seeds=1,13,113,221,1059,3567,6691,10336,19440,65531 \\\n",
        "--truncation-psi=0.3 \\\n",
        "--latent_dim=512"
      ],
      "execution_count": null,
      "outputs": []
    },
    {
      "cell_type": "code",
      "metadata": {
        "id": "hQclPT8iYWiQ"
      },
      "source": [
        ""
      ],
      "execution_count": null,
      "outputs": []
    },
    {
      "cell_type": "code",
      "metadata": {
        "id": "j2_XmvUJYf4y"
      },
      "source": [
        ""
      ],
      "execution_count": null,
      "outputs": []
    }
  ]
}