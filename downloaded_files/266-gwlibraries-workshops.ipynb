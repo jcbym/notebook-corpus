{
  "nbformat": 4,
  "nbformat_minor": 0,
  "metadata": {
    "colab": {
      "name": "Python Workshop Part 2.ipynb",
      "version": "0.3.2",
      "provenance": []
    },
    "kernelspec": {
      "display_name": "Python 3",
      "language": "python",
      "name": "python3"
    }
  },
  "cells": [
    {
      "metadata": {
        "id": "kj7BstLdzwUi",
        "colab_type": "text"
      },
      "cell_type": "markdown",
      "source": [
        "# Data with Pandas\n",
        "\n",
        "Since Pandas is a third-party Python library (not part of the standard Python libraries), we need to **import** it.\n",
        "\n",
        "\n",
        "### <font color='red'>***You must run this next cell in order for any of the pandas steps to work!***</font>"
      ]
    },
    {
      "metadata": {
        "id": "9G0elm2IzwUo",
        "colab_type": "code",
        "colab": {}
      },
      "cell_type": "code",
      "source": [
        "import pandas as pd"
      ],
      "execution_count": 0,
      "outputs": []
    },
    {
      "metadata": {
        "id": "W4eiqUQUzwU1",
        "colab_type": "text"
      },
      "cell_type": "markdown",
      "source": [
        "### The data we're using today\n",
        "\n",
        "For this lesson, we will be using the Portal Teaching data (https://figshare.com/articles/Portal_Project_Teaching_Database/1314459), a subset of the data from Ernst et al Long-term monitoring and experimental manipulation of a Chihuahuan Desert ecosystem near Portal, Arizona, USA (http://onlinelibrary.wiley.com/doi/10.1890/15-2115.1/abstract)"
      ]
    },
    {
      "metadata": {
        "id": "Xd6sXr_7zwU3",
        "colab_type": "text"
      },
      "cell_type": "markdown",
      "source": [
        "This section will use the **surveys.csv** file that you downloaded along with this notebook (in the **python-intro-workshop** folder), so it should be ready to go.\n",
        "\n",
        "(If needed, it can also be downloaded from here:  https://ndownloader.figshare.com/files/2292172)"
      ]
    },
    {
      "metadata": {
        "id": "YiP2m9nGzwU7",
        "colab_type": "text"
      },
      "cell_type": "markdown",
      "source": [
        "Each row records the species and weight of each animal caught in plots in the study area.\n",
        "\n",
        "The columns represent:\n",
        "\n",
        "| Column \t| Description |\n",
        "| --- | --- |\n",
        "| record_id |\tUnique id for the observation|\n",
        "| month |\tmonth of observation |\n",
        "|day \t|day of observation|\n",
        "|year |\tyear of observation|\n",
        "|plot_id \t|ID of a particular plot|\n",
        "|species_id |\t2-letter code|\n",
        "|sex |\tsex of animal (\"M\", \"F\")|\n",
        "|hindfoot_length |\tlength of the hindfoot in mm|\n",
        "|weight |\tweight of the animal in grams|"
      ]
    },
    {
      "metadata": {
        "id": "rfB9kebuzwU9",
        "colab_type": "text"
      },
      "cell_type": "markdown",
      "source": [
        "Each time we call a function that's in a library, we use the syntax *LibraryName.FunctionName*. Adding the library name with a `.` before the function name tells Python where to find the function. In the example above, we have imported Pandas as `pd`. This means we don't have to type out `pandas` each time we call a Pandas function."
      ]
    },
    {
      "metadata": {
        "id": "MXXLQelPzwU_",
        "colab_type": "text"
      },
      "cell_type": "markdown",
      "source": [
        "Let's use panda's built-in function that reads in a CSV file:"
      ]
    },
    {
      "metadata": {
        "id": "V1jdZQQszwVD",
        "colab_type": "code",
        "colab": {}
      },
      "cell_type": "code",
      "source": [
        "# To download the file from the internet:\n",
        "pd.read_csv(\"https://raw.githubusercontent.com/gwu-libraries/gwlibraries-workshops/master/python-programming/surveys.csv\")\n",
        "\n",
        "# Or if you're able to download the file locally:\n",
        "# pd.read_csv(\"surveys.csv\")\n",
        "\n",
        "# If you're inside Google Colaboratory, you can borrow code from\n",
        "# https://colab.research.google.com/notebooks/io.ipynb?authuser=1 to load files from your computer\n",
        "# (Just paste in the code under \"Uploading files from your local file system\")"
      ],
      "execution_count": 0,
      "outputs": []
    },
    {
      "metadata": {
        "id": "GUdzgOJ3zwVK",
        "colab_type": "text"
      },
      "cell_type": "markdown",
      "source": [
        "That read our CSV file, but we'd like to store it as an **object**.  So we'll create a variable for it, called `surveys_df`.  This is just like how we used a variable above to store an integer, or a string, or a list, or a dictionary.  We're just storing a Pandas DataFrame object instead.\n",
        "\n",
        "Make sure to run the cell below:"
      ]
    },
    {
      "metadata": {
        "id": "yfJiuHc2zwVO",
        "colab_type": "code",
        "colab": {}
      },
      "cell_type": "code",
      "source": [
        "# To download the file from the internet:\n",
        "surveys_df = pd.read_csv(\"https://raw.githubusercontent.com/gwu-libraries/gwlibraries-workshops/master/python-programming/surveys.csv\")\n",
        "\n",
        "# Or if you're able to download the file locally:\n",
        "#surveys_df = pd.read_csv(\"surveys.csv\")"
      ],
      "execution_count": 0,
      "outputs": []
    },
    {
      "metadata": {
        "id": "mFRGYUXwzwVa",
        "colab_type": "text"
      },
      "cell_type": "markdown",
      "source": [
        "Try evaluating `surveys_df`:"
      ]
    },
    {
      "metadata": {
        "id": "hFnmctoezwVc",
        "colab_type": "code",
        "colab": {}
      },
      "cell_type": "code",
      "source": [
        "surveys_df "
      ],
      "execution_count": 0,
      "outputs": []
    },
    {
      "metadata": {
        "id": "d6yTR9_xzwVn",
        "colab_type": "text"
      },
      "cell_type": "markdown",
      "source": [
        "How would you now check what **class** (type) of object `surveys_df` is?"
      ]
    },
    {
      "metadata": {
        "id": "aLTetS-fzwVr",
        "colab_type": "code",
        "colab": {}
      },
      "cell_type": "code",
      "source": [
        ""
      ],
      "execution_count": 0,
      "outputs": []
    },
    {
      "metadata": {
        "id": "i-E2AfE5zwVx",
        "colab_type": "text"
      },
      "cell_type": "markdown",
      "source": [
        "`surveys_df` is a Pandas **DataFrame**.   A DataFrame is a 2-dimensional structure that can store data in rows and columns - similar to a spreadsheet or a table, but with some other nice features.  (Yes, it's very similar to a `data.frame` in R.)"
      ]
    },
    {
      "metadata": {
        "id": "npQrHQF9zwV3",
        "colab_type": "text"
      },
      "cell_type": "markdown",
      "source": [
        "Just like the Pandas *library* has functions, *objects* can have **functions** (which may take arguments) and **attributes** (which don't).\n",
        "\n",
        "A Pandas DataFrame object has an attribute called `dtypes` which lists out the type of each column:"
      ]
    },
    {
      "metadata": {
        "id": "O7YXJIa0zwV5",
        "colab_type": "code",
        "colab": {}
      },
      "cell_type": "code",
      "source": [
        "surveys_df.dtypes"
      ],
      "execution_count": 0,
      "outputs": []
    },
    {
      "metadata": {
        "id": "Z-JIDpMPzwWG",
        "colab_type": "text"
      },
      "cell_type": "markdown",
      "source": [
        "Try these to see what they do:\n",
        "\n",
        "    surveys_df.columns\n",
        "    surveys_df.head()\n",
        "Also, what does `surveys_df.head(15)` do, versus `surveys_df.head(4)`?\n",
        "\n",
        "    surveys_df.tail()\n",
        "    surveys_df.shape\n",
        "    \n",
        "Take note of the output of the shape method. What format does it return the shape of the DataFrame in?\n"
      ]
    },
    {
      "metadata": {
        "id": "_WnKLZZvzwWM",
        "colab_type": "code",
        "colab": {}
      },
      "cell_type": "code",
      "source": [
        ""
      ],
      "execution_count": 0,
      "outputs": []
    },
    {
      "metadata": {
        "id": "VQH3gjPezwWT",
        "colab_type": "text"
      },
      "cell_type": "markdown",
      "source": [
        "What if we want to isolate just one column?  There are (at least) two ways we can do this:\n",
        "\n",
        "- We can use bracket notation, like this:\n",
        "\n",
        "    `mydataframe['myvariable']`\n",
        "\n",
        "- We can treat the variable like an attribute, like this:\n",
        "\n",
        "    `mydataframe.myvariable`\n",
        "\n",
        "\n",
        "Try it for `surveys_df` and the `species_id` variable:"
      ]
    },
    {
      "metadata": {
        "id": "kfK1tkl_zwWW",
        "colab_type": "code",
        "colab": {}
      },
      "cell_type": "code",
      "source": [
        ""
      ],
      "execution_count": 0,
      "outputs": []
    },
    {
      "metadata": {
        "id": "sKBvXKA2zwWe",
        "colab_type": "text"
      },
      "cell_type": "markdown",
      "source": [
        "or"
      ]
    },
    {
      "metadata": {
        "id": "n3z2o3U2zwWg",
        "colab_type": "code",
        "colab": {}
      },
      "cell_type": "code",
      "source": [
        ""
      ],
      "execution_count": 0,
      "outputs": []
    },
    {
      "metadata": {
        "id": "GdT847tOzwWq",
        "colab_type": "text"
      },
      "cell_type": "markdown",
      "source": [
        "Let's see what type `surveys_df['species_id']` is, using the `type()` function that we used this morning.  Try it."
      ]
    },
    {
      "metadata": {
        "id": "3GYjPQM8zwWt",
        "colab_type": "code",
        "colab": {}
      },
      "cell_type": "code",
      "source": [
        ""
      ],
      "execution_count": 0,
      "outputs": []
    },
    {
      "metadata": {
        "id": "hBz40eDizwW0",
        "colab_type": "text"
      },
      "cell_type": "markdown",
      "source": [
        "You can think of a Pandas **Series** as a series of observations of one variable.  It behaves like a Python list."
      ]
    },
    {
      "metadata": {
        "id": "52_nMSn2zwW1",
        "colab_type": "text"
      },
      "cell_type": "markdown",
      "source": [
        "We can also slice and dice -- similar to how we selected parts of list objects above.  What does the next line do?"
      ]
    },
    {
      "metadata": {
        "scrolled": true,
        "id": "7uPUAKyazwW2",
        "colab_type": "code",
        "colab": {}
      },
      "cell_type": "code",
      "source": [
        "surveys_df[3:10]"
      ],
      "execution_count": 0,
      "outputs": []
    },
    {
      "metadata": {
        "id": "0Jw9AmFnzwXC",
        "colab_type": "text"
      },
      "cell_type": "markdown",
      "source": [
        "Another way to select is with `.loc`, which selects based on *labels* (as opposed to `.iloc` which selects using *numerical indices*).  Try this:"
      ]
    },
    {
      "metadata": {
        "id": "BzBJbqjfzwXF",
        "colab_type": "code",
        "colab": {}
      },
      "cell_type": "code",
      "source": [
        "surveys_df.loc[[3, 10, 12], ['day', 'year', 'species_id']]"
      ],
      "execution_count": 0,
      "outputs": []
    },
    {
      "metadata": {
        "id": "oCUzC5WczwXM",
        "colab_type": "text"
      },
      "cell_type": "markdown",
      "source": [
        "We can also use `.query` to select only rows matching certain conditions.  Note that the query expression is in single quotes."
      ]
    },
    {
      "metadata": {
        "id": "QCd1TkcQzwXQ",
        "colab_type": "code",
        "colab": {}
      },
      "cell_type": "code",
      "source": [
        "surveys_df.query('hindfoot_length < 10')"
      ],
      "execution_count": 0,
      "outputs": []
    },
    {
      "metadata": {
        "id": "xmukwujJzwXV",
        "colab_type": "text"
      },
      "cell_type": "markdown",
      "source": [
        "There are other ways to do this.  Try this expression:"
      ]
    },
    {
      "metadata": {
        "id": "26tykkKnzwXa",
        "colab_type": "code",
        "colab": {}
      },
      "cell_type": "code",
      "source": [
        "surveys_df['hindfoot_length'] < 10"
      ],
      "execution_count": 0,
      "outputs": []
    },
    {
      "metadata": {
        "id": "E57kPghXzwX4",
        "colab_type": "text"
      },
      "cell_type": "markdown",
      "source": [
        "How can you use this to get back a data frame with only the rows in `surveys_df` where `hindfoot_length < 10`?"
      ]
    },
    {
      "metadata": {
        "id": "Su7nRMw0zwX8",
        "colab_type": "code",
        "colab": {}
      },
      "cell_type": "code",
      "source": [
        ""
      ],
      "execution_count": 0,
      "outputs": []
    },
    {
      "metadata": {
        "id": "nJTAgWHMzwYF",
        "colab_type": "text"
      },
      "cell_type": "markdown",
      "source": [
        "**Challenge**:  How might you query to get back only rows with `hindfoot_length < 10` **and** `weight > 10` in ONE expression?  (There is more than one way to accomplish this!)"
      ]
    },
    {
      "metadata": {
        "id": "6Q7aYxjozwYI",
        "colab_type": "text"
      },
      "cell_type": "markdown",
      "source": [
        "Pandas has a handy `unique()` function (well, it has many handy functions!) to get all the unique elements in the column:"
      ]
    },
    {
      "metadata": {
        "id": "cfRCopBWzwYL",
        "colab_type": "code",
        "colab": {}
      },
      "cell_type": "code",
      "source": [
        "unique_species = pd.unique(surveys_df['species_id'])"
      ],
      "execution_count": 0,
      "outputs": []
    },
    {
      "metadata": {
        "id": "Brt8BF1xzwYQ",
        "colab_type": "text"
      },
      "cell_type": "markdown",
      "source": [
        "Try evaluting the **`.size`** attribute on the above result to see how many unique species there are in the data set."
      ]
    },
    {
      "metadata": {
        "id": "qaqmOyY1zwYU",
        "colab_type": "code",
        "colab": {}
      },
      "cell_type": "code",
      "source": [
        ""
      ],
      "execution_count": 0,
      "outputs": []
    },
    {
      "metadata": {
        "id": "z0XtY9ogzwYk",
        "colab_type": "text"
      },
      "cell_type": "markdown",
      "source": [
        "We see from above that we can also isolate just the data in one column.  Let's try isolating the `weight` column, and calling the **`describe()`** function to get some statistics on it."
      ]
    },
    {
      "metadata": {
        "id": "4AAtcd38zwYs",
        "colab_type": "code",
        "colab": {}
      },
      "cell_type": "code",
      "source": [
        ""
      ],
      "execution_count": 0,
      "outputs": []
    },
    {
      "metadata": {
        "id": "HTRl5zTzzwYw",
        "colab_type": "text"
      },
      "cell_type": "markdown",
      "source": [
        "Using `corr()`, We can also get a quick pairwise correlation between every pair of numerical variables:"
      ]
    },
    {
      "metadata": {
        "id": "RpO4DiNPzwY0",
        "colab_type": "code",
        "colab": {}
      },
      "cell_type": "code",
      "source": [
        ""
      ],
      "execution_count": 0,
      "outputs": []
    },
    {
      "metadata": {
        "id": "t8NJ3268zwY_",
        "colab_type": "text"
      },
      "cell_type": "markdown",
      "source": [
        "Pandas can also sort and group data based on the values in a column:"
      ]
    },
    {
      "metadata": {
        "id": "gM9BdjxHzwZE",
        "colab_type": "code",
        "colab": {}
      },
      "cell_type": "code",
      "source": [
        "grouped_by_species = surveys_df.groupby('species_id')"
      ],
      "execution_count": 0,
      "outputs": []
    },
    {
      "metadata": {
        "id": "KoDUtl7JDAEw",
        "colab_type": "text"
      },
      "cell_type": "markdown",
      "source": [
        "Another handy operator is `~` (tilde), which gives us the \"opposite\" of a result.  Let's say we want to get all of the `AB` species observations, but only where the `hindfoot_length` variable has a value: "
      ]
    },
    {
      "metadata": {
        "id": "5VpJHaPZ3j7M",
        "colab_type": "code",
        "colab": {}
      },
      "cell_type": "code",
      "source": [
        "surveys_df.loc[(surveys_df.species_id == 'AB') & ~surveys_df.hindfoot_length.isnull()]"
      ],
      "execution_count": 0,
      "outputs": []
    },
    {
      "metadata": {
        "id": "2RDbakQKzwZI",
        "colab_type": "text"
      },
      "cell_type": "markdown",
      "source": [
        "Try running **`describe()`** on `grouped_by_species`:"
      ]
    },
    {
      "metadata": {
        "id": "wFTR_f8DDdZ3",
        "colab_type": "code",
        "colab": {}
      },
      "cell_type": "code",
      "source": [
        ""
      ],
      "execution_count": 0,
      "outputs": []
    },
    {
      "metadata": {
        "id": "bsRnnigmzwZY",
        "colab_type": "text"
      },
      "cell_type": "markdown",
      "source": [
        "Now we're going to create some series with:\n",
        "\n",
        "* The number of animals observed per species\n",
        "* The mean weight of all animals observed in each species"
      ]
    },
    {
      "metadata": {
        "id": "VdguX2twzwZc",
        "colab_type": "code",
        "colab": {}
      },
      "cell_type": "code",
      "source": [
        "# a series with the number of samples by species\n",
        "species_counts = grouped_by_species.size()\n",
        "# a series with the mean weight by species\n",
        "species_mean_weights = grouped_by_species['weight'].mean()"
      ],
      "execution_count": 0,
      "outputs": []
    },
    {
      "metadata": {
        "id": "ECPIasskzwZg",
        "colab_type": "text"
      },
      "cell_type": "markdown",
      "source": [
        "(For future reference:  `.agg()` or `.aggregate()` can be a useful way to work with \"groupby\" objects)\n",
        "\n",
        "\n",
        "Let's look at each - notice that each is a Series:"
      ]
    },
    {
      "metadata": {
        "id": "v9TacWLhzwZh",
        "colab_type": "code",
        "colab": {}
      },
      "cell_type": "code",
      "source": [
        ""
      ],
      "execution_count": 0,
      "outputs": []
    },
    {
      "metadata": {
        "id": "eAd_gG-gzwZk",
        "colab_type": "code",
        "colab": {}
      },
      "cell_type": "code",
      "source": [
        ""
      ],
      "execution_count": 0,
      "outputs": []
    },
    {
      "metadata": {
        "id": "9RzFSc7ezwZn",
        "colab_type": "text"
      },
      "cell_type": "markdown",
      "source": [
        "Let's try creating some quick bar charts.  First we need to make sure figures appear inline in the notebook:"
      ]
    },
    {
      "metadata": {
        "id": "jpInBlB6zwZp",
        "colab_type": "code",
        "colab": {}
      },
      "cell_type": "code",
      "source": [
        "import matplotlib.pyplot as plt\n",
        "\n",
        "%matplotlib inline"
      ],
      "execution_count": 0,
      "outputs": []
    },
    {
      "metadata": {
        "id": "OODo3imQzwZt",
        "colab_type": "text"
      },
      "cell_type": "markdown",
      "source": [
        "And now we'll create some quick charts:"
      ]
    },
    {
      "metadata": {
        "scrolled": true,
        "id": "HQeIDa-HzwZv",
        "colab_type": "code",
        "colab": {}
      },
      "cell_type": "code",
      "source": [
        "plt.scatter(x = surveys_df.weight, y=surveys_df.hindfoot_length)\n",
        "\n",
        "plt.show()"
      ],
      "execution_count": 0,
      "outputs": []
    },
    {
      "metadata": {
        "id": "mzkcTOxlzwZ2",
        "colab_type": "code",
        "colab": {}
      },
      "cell_type": "code",
      "source": [
        "plt.hist(surveys_df.hindfoot_length[surveys_df.hindfoot_length.notnull()])\n",
        "plt.title('Distribution of hindfoot length values')\n",
        "plt.show()"
      ],
      "execution_count": 0,
      "outputs": []
    },
    {
      "metadata": {
        "id": "DdVDbrmVzwZ7",
        "colab_type": "text"
      },
      "cell_type": "markdown",
      "source": [
        "We can also call `.plot()` on a Series:"
      ]
    },
    {
      "metadata": {
        "id": "nzCRy1omzwZ8",
        "colab_type": "code",
        "colab": {}
      },
      "cell_type": "code",
      "source": [
        "species_counts.plot(kind='bar')"
      ],
      "execution_count": 0,
      "outputs": []
    },
    {
      "metadata": {
        "id": "U51qqn_1zwaS",
        "colab_type": "code",
        "colab": {}
      },
      "cell_type": "code",
      "source": [
        "species_mean_weights.plot(kind='bar')"
      ],
      "execution_count": 0,
      "outputs": []
    },
    {
      "metadata": {
        "id": "yJbruXq5zwaY",
        "colab_type": "text"
      },
      "cell_type": "markdown",
      "source": [
        "And now for a scatter plot, where we specify which variables are the x and y:"
      ]
    },
    {
      "metadata": {
        "id": "quXqJ_d_zwaY",
        "colab_type": "code",
        "colab": {}
      },
      "cell_type": "code",
      "source": [
        "surveys_df.plot(kind='scatter', y='hindfoot_length', x='weight')"
      ],
      "execution_count": 0,
      "outputs": []
    },
    {
      "metadata": {
        "id": "OIfC96T9zwak",
        "colab_type": "text"
      },
      "cell_type": "markdown",
      "source": [
        "See if you can look up another plot type and get it to work!"
      ]
    },
    {
      "metadata": {
        "id": "PHPXc2aIzwak",
        "colab_type": "code",
        "colab": {}
      },
      "cell_type": "code",
      "source": [
        "surveys_df"
      ],
      "execution_count": 0,
      "outputs": []
    },
    {
      "metadata": {
        "id": "q1_0wpDqzwas",
        "colab_type": "text"
      },
      "cell_type": "markdown",
      "source": [
        "## Nicer plotting, with `ggplot`\n",
        "\n",
        "Let's try a different plotting library, called `ggplot` (from the `plotnine` package), that thinks about plotting data in a different way, in terms of \"adding\" *data* plus *aesthetics* (colors, shapes, etc.) plus *layers* (which add to or modify the plot)\n",
        "\n",
        "First we need to import the ggplot library, from the `plotline` package:"
      ]
    },
    {
      "metadata": {
        "id": "C5t9lURnzwau",
        "colab_type": "code",
        "colab": {}
      },
      "cell_type": "code",
      "source": [
        "# This step seemes to be needed to run in Google Colaboratory -- it might not be needed in Anaconda\n",
        "# Install the plotnine Python library\n",
        "!pip install plotnine==0.4.0"
      ],
      "execution_count": 0,
      "outputs": []
    },
    {
      "metadata": {
        "id": "mVbPI73Vzwav",
        "colab_type": "code",
        "colab": {}
      },
      "cell_type": "code",
      "source": [
        "from plotnine import *"
      ],
      "execution_count": 0,
      "outputs": []
    },
    {
      "metadata": {
        "id": "uV-YHg42zwaz",
        "colab_type": "text"
      },
      "cell_type": "markdown",
      "source": [
        "The first thing we'll do is create a ggplot object and give it:\n",
        "- Our data frame (`surveys_df`)\n",
        "- Aesthetics information, such as which variables in our data frame will be used as the independent (x) and dependent (y) variables"
      ]
    },
    {
      "metadata": {
        "id": "pfbYSX5kzwa0",
        "colab_type": "code",
        "colab": {}
      },
      "cell_type": "code",
      "source": [
        "ggplot(surveys_df) + aes(x = 'weight', y = 'hindfoot_length')"
      ],
      "execution_count": 0,
      "outputs": []
    },
    {
      "metadata": {
        "id": "JjXQtbTzzwa4",
        "colab_type": "text"
      },
      "cell_type": "markdown",
      "source": [
        "Hmmm, we get a canvas but it's mysteriously empty!   We need to add a ***layer***, using `+`.  We'll add a layer with points:"
      ]
    },
    {
      "metadata": {
        "id": "GWYv4Z_Rzwa6",
        "colab_type": "code",
        "colab": {}
      },
      "cell_type": "code",
      "source": [
        "ggplot(surveys_df) + aes(x = 'weight', y = 'hindfoot_length') + geom_point()"
      ],
      "execution_count": 0,
      "outputs": []
    },
    {
      "metadata": {
        "id": "UmLMlsLizwa8",
        "colab_type": "text"
      },
      "cell_type": "markdown",
      "source": [
        "Not bad!  Let's see if we can perhaps color-code the points based on the species_id."
      ]
    },
    {
      "metadata": {
        "id": "IGGiS21Kzwa9",
        "colab_type": "code",
        "colab": {}
      },
      "cell_type": "code",
      "source": [
        "ggplot(surveys_df) + aes(x = 'weight', y = 'hindfoot_length', color='species_id') + geom_point()"
      ],
      "execution_count": 0,
      "outputs": []
    },
    {
      "metadata": {
        "id": "FaWUSZXHzwbB",
        "colab_type": "text"
      },
      "cell_type": "markdown",
      "source": [
        "This is great, but, perhaps with so many species_id values, it becomes hard to distinguish between the colors to have a meaningful color layer.   Let's create a subset using just the top 10 species.\n",
        "\n",
        "Remember earlier we created `species_counts`?  We'll use it and do a bit of sorting to get just the top ten species as as a list:"
      ]
    },
    {
      "metadata": {
        "id": "7VOWaT2MzwbC",
        "colab_type": "code",
        "colab": {}
      },
      "cell_type": "code",
      "source": [
        "species_counts.sort_values(ascending=False)"
      ],
      "execution_count": 0,
      "outputs": []
    },
    {
      "metadata": {
        "id": "n1rig23qzwbE",
        "colab_type": "text"
      },
      "cell_type": "markdown",
      "source": [
        "How would you get just the first 10 values?"
      ]
    },
    {
      "metadata": {
        "id": "V9n7v622zwbM",
        "colab_type": "code",
        "colab": {}
      },
      "cell_type": "code",
      "source": [
        ""
      ],
      "execution_count": 0,
      "outputs": []
    },
    {
      "metadata": {
        "id": "BNfbi1CozwbO",
        "colab_type": "text"
      },
      "cell_type": "markdown",
      "source": [
        "But we simply want the species ids, not any of the other stuff.  Similar to a Python dictionary, we can use `.keys()` to get that:"
      ]
    },
    {
      "metadata": {
        "id": "Xs0g-1i9zwbQ",
        "colab_type": "code",
        "colab": {}
      },
      "cell_type": "code",
      "source": [
        "species_counts.sort_values(ascending=False)[:10].keys()"
      ],
      "execution_count": 0,
      "outputs": []
    },
    {
      "metadata": {
        "id": "R3Nl0gQuzwbT",
        "colab_type": "text"
      },
      "cell_type": "markdown",
      "source": [
        "And let's use a variable to store our index of top species so we can reuse it:"
      ]
    },
    {
      "metadata": {
        "id": "1F1BZuOTzwbT",
        "colab_type": "code",
        "colab": {}
      },
      "cell_type": "code",
      "source": [
        "top_species = species_counts.sort_values(ascending=False)[:10].keys()"
      ],
      "execution_count": 0,
      "outputs": []
    },
    {
      "metadata": {
        "id": "BiIGs2_XzwbZ",
        "colab_type": "text"
      },
      "cell_type": "markdown",
      "source": [
        "Now that we have a simple list of the top 10 species IDs, we can use `.isin()` to create a subset data frame containing just the rows with those species_id values:"
      ]
    },
    {
      "metadata": {
        "id": "zc0shSx9zwba",
        "colab_type": "text"
      },
      "cell_type": "markdown",
      "source": [
        "Now that our new data frame has a smaller variety of species, let's try it again with species_id as the key for the color:"
      ]
    },
    {
      "metadata": {
        "id": "FR55YAREzwbc",
        "colab_type": "code",
        "colab": {}
      },
      "cell_type": "code",
      "source": [
        "subset_df = surveys_df[surveys_df.species_id.isin(top_species)]"
      ],
      "execution_count": 0,
      "outputs": []
    },
    {
      "metadata": {
        "id": "H5YT4Z4Rzwbg",
        "colab_type": "code",
        "colab": {}
      },
      "cell_type": "code",
      "source": [
        "surveys_plot = ggplot(subset_df) + aes(x = 'weight', y = 'hindfoot_length', color='species_id') + geom_point()"
      ],
      "execution_count": 0,
      "outputs": []
    },
    {
      "metadata": {
        "id": "oDffX2Qhzwbo",
        "colab_type": "text"
      },
      "cell_type": "markdown",
      "source": [
        "And now to render the plot:"
      ]
    },
    {
      "metadata": {
        "id": "LdoG5vUMzwbp",
        "colab_type": "code",
        "colab": {}
      },
      "cell_type": "code",
      "source": [
        "surveys_plot"
      ],
      "execution_count": 0,
      "outputs": []
    },
    {
      "metadata": {
        "id": "tMxxrXRSzwbs",
        "colab_type": "text"
      },
      "cell_type": "markdown",
      "source": [
        ""
      ]
    },
    {
      "metadata": {
        "id": "Tnfk_soxzwbu",
        "colab_type": "text"
      },
      "cell_type": "markdown",
      "source": [
        "Here are some other layers we can try adding.  See what they do:"
      ]
    },
    {
      "metadata": {
        "id": "9X2HAT5Wzwbu",
        "colab_type": "code",
        "colab": {}
      },
      "cell_type": "code",
      "source": [
        "surveys_plot + stat_smooth() + theme_xkcd()"
      ],
      "execution_count": 0,
      "outputs": []
    },
    {
      "metadata": {
        "id": "0vtlO-HRzwbv",
        "colab_type": "code",
        "colab": {}
      },
      "cell_type": "code",
      "source": [
        "surveys_plot + facet_wrap('~species_id')"
      ],
      "execution_count": 0,
      "outputs": []
    },
    {
      "metadata": {
        "id": "Md3_kaoPzwb6",
        "colab_type": "code",
        "colab": {}
      },
      "cell_type": "code",
      "source": [
        ""
      ],
      "execution_count": 0,
      "outputs": []
    }
  ]
}