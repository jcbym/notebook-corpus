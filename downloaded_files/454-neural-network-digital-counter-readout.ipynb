{
 "cells": [
  {
   "cell_type": "markdown",
   "metadata": {},
   "source": [
    "# CNN Training\n",
    "\n",
    "Target of this code is to train a CNN network to classify images of a digital readout to the digits 0 to 9. Additionally a category \"NaN\" is introduced, to mark images that are not amibiguous.\n",
    "\n",
    "### Preparing the training\n",
    "* First all libraries are loaded\n",
    "    * It is assumed, that they are installed during the Python setup\n",
    "* matplotlib is set to print the output inline in the jupyter notebook"
   ]
  },
  {
   "cell_type": "code",
   "execution_count": 1,
   "metadata": {
    "scrolled": true
   },
   "outputs": [],
   "source": [
    "########### Basic Parameters for Running: ################################\n",
    "    \n",
    "Version = \"7.2.1\"                      # Used for tflite Filename\n",
    "Training_Percentage = 0.2              # 0.0 = Use all Images for Training\n",
    "Epoch_Anz = 100\n",
    "\n",
    "##########################################################################\n",
    "\n",
    "\n",
    "import tensorflow as tf\n",
    "import matplotlib.pyplot as plt\n",
    "import glob\n",
    "import numpy as np\n",
    "from sklearn.utils import shuffle\n",
    "from tensorflow.python import keras\n",
    "from tensorflow.python.keras import Sequential\n",
    "from tensorflow.python.keras.layers import Dense, InputLayer, Conv2D, MaxPool2D, Flatten, BatchNormalization\n",
    "from tensorflow.keras.preprocessing.image import ImageDataGenerator\n",
    "from sklearn.model_selection import train_test_split\n",
    "from tensorflow.keras.callbacks import History \n",
    "from tensorflow.keras.utils import to_categorical\n",
    "from PIL import Image \n",
    "\n",
    "loss_ges = np.array([])\n",
    "val_loss_ges = np.array([])\n",
    "\n",
    "%matplotlib inline\n",
    "np.set_printoptions(precision=4)\n",
    "np.set_printoptions(suppress=True)"
   ]
  },
  {
   "cell_type": "markdown",
   "metadata": {},
   "source": [
    "### Load training data\n",
    "* The data is expected in the \"Input_dir\"\n",
    "* Inside subdirectories are expected from -1, 0, 1, ... 9 in which the pictures are sorted according to their values (=category)\n",
    "* Picture size must be 20x32 with 3 color channels (RGB)\n",
    "* The filename can be arbitrary\n",
    "\n",
    "* The images are stored in the x_data[]\n",
    "* The expected category for each image in the corresponding y_data[]\n",
    "\n",
    "* The last step is a shuffle (from sklearn.utils) and split the data into training and validation data"
   ]
  },
  {
   "cell_type": "code",
   "execution_count": 2,
   "metadata": {},
   "outputs": [
    {
     "name": "stdout",
     "output_type": "stream",
     "text": [
      "(799, 32, 20, 3)\n",
      "(799, 11)\n"
     ]
    }
   ],
   "source": [
    "Input_dir='ziffer_sortiert_resize'\n",
    "\n",
    "files = glob.glob(Input_dir + '/*.*')\n",
    "x_data = []\n",
    "y_data = []\n",
    "\n",
    "subdir = [\"0\", \"1\", \"2\", \"3\", \"4\", \"5\", \"6\", \"7\", \"8\", \"9\", \"NaN\"]\n",
    "\n",
    "for aktsubdir in subdir:\n",
    "    files = glob.glob(Input_dir + '/' + aktsubdir + '/*.jpg')\n",
    "    if aktsubdir == \"NaN\":\n",
    "        category = 10                # NaN does not work --> convert to 10\n",
    "    else:\n",
    "        category = aktsubdir\n",
    "    for aktfile in files:\n",
    "        test_image = Image.open(aktfile)\n",
    "        test_image = np.array(test_image, dtype=\"float32\")\n",
    "        x_data.append(test_image)\n",
    "        y_data.append(np.array([category]))\n",
    "\n",
    "x_data = np.array(x_data)\n",
    "y_data = np.array(y_data)\n",
    "y_data = to_categorical(y_data, 11)\n",
    "print(x_data.shape)\n",
    "print(y_data.shape)\n",
    "\n",
    "x_data, y_data = shuffle(x_data, y_data)\n",
    "\n",
    "if (Training_Percentage > 0):\n",
    "    X_train, X_test, y_train, y_test = train_test_split(x_data, y_data, test_size=Training_Percentage)\n",
    "else:\n",
    "    X_train = x_data\n",
    "    y_train = y_data"
   ]
  },
  {
   "cell_type": "markdown",
   "metadata": {},
   "source": [
    "### Define the model\n",
    "\n",
    "The layout of the network ist a typcial CNN network with alternating **Conv2D** and **MaxPool2D** layers. Finished after **flattening** with additional **Dense** layer.\n",
    "\n",
    "#### Important\n",
    "* Shape of the input layer: (32, 20, 3)\n",
    "* Number of output layers: 11\n",
    "* As loss function \"categorical_crossentropy\" is choosen, as it is a categories task"
   ]
  },
  {
   "cell_type": "code",
   "execution_count": 3,
   "metadata": {
    "scrolled": true
   },
   "outputs": [
    {
     "name": "stdout",
     "output_type": "stream",
     "text": [
      "Model: \"sequential\"\n",
      "_________________________________________________________________\n",
      "Layer (type)                 Output Shape              Param #   \n",
      "=================================================================\n",
      "batch_normalization (BatchNo (None, 32, 20, 3)         12        \n",
      "_________________________________________________________________\n",
      "conv2d (Conv2D)              (None, 32, 20, 32)        896       \n",
      "_________________________________________________________________\n",
      "max_pooling2d (MaxPooling2D) (None, 16, 10, 32)        0         \n",
      "_________________________________________________________________\n",
      "conv2d_1 (Conv2D)            (None, 16, 10, 64)        18496     \n",
      "_________________________________________________________________\n",
      "max_pooling2d_1 (MaxPooling2 (None, 8, 5, 64)          0         \n",
      "_________________________________________________________________\n",
      "conv2d_2 (Conv2D)            (None, 8, 5, 64)          36928     \n",
      "_________________________________________________________________\n",
      "max_pooling2d_2 (MaxPooling2 (None, 4, 2, 64)          0         \n",
      "_________________________________________________________________\n",
      "flatten (Flatten)            (None, 512)               0         \n",
      "_________________________________________________________________\n",
      "dense (Dense)                (None, 512)               262656    \n",
      "_________________________________________________________________\n",
      "dense_1 (Dense)              (None, 11)                5643      \n",
      "=================================================================\n",
      "Total params: 324,631\n",
      "Trainable params: 324,625\n",
      "Non-trainable params: 6\n",
      "_________________________________________________________________\n"
     ]
    }
   ],
   "source": [
    "model = Sequential()\n",
    "model.add(BatchNormalization(input_shape=(32,20,3)))\n",
    "model.add(Conv2D(32, (3, 3), padding='same', activation=\"relu\"))\n",
    "model.add(MaxPool2D(pool_size=(2,2)))\n",
    "model.add(Conv2D(64, (3, 3), padding='same'))\n",
    "model.add(MaxPool2D(pool_size=(2,2)))\n",
    "model.add(Conv2D(64, (3, 3), padding='same'))\n",
    "model.add(MaxPool2D(pool_size=(2,2)))\n",
    "model.add(Flatten())\n",
    "model.add(Dense(512,activation=\"relu\"))\n",
    "model.add(Dense(11, activation = \"softmax\"))\n",
    "model.summary()\n",
    "\n",
    "model.compile(loss=keras.losses.categorical_crossentropy, optimizer=tf.keras.optimizers.Adadelta(learning_rate=1.0, rho=0.95), metrics = [\"accuracy\"])"
   ]
  },
  {
   "cell_type": "markdown",
   "metadata": {},
   "source": [
    "# Training\n",
    "The input pictures are randomly scattered for brightness, pixel shift variations and rotation angle. This is implemented with a ImageDataGenerator.\n"
   ]
  },
  {
   "cell_type": "code",
   "execution_count": 4,
   "metadata": {
    "scrolled": true
   },
   "outputs": [
    {
     "name": "stdout",
     "output_type": "stream",
     "text": [
      "WARNING:tensorflow:From <ipython-input-4-06555f3d8025>:16: Model.fit_generator (from tensorflow.python.keras.engine.training) is deprecated and will be removed in a future version.\n",
      "Instructions for updating:\n",
      "Please use Model.fit, which supports generators.\n",
      "Epoch 1/100\n",
      "200/200 [==============================] - 2s 12ms/step - loss: 1.8915 - accuracy: 0.4718 - val_loss: 1.3613 - val_accuracy: 0.5437\n",
      "Epoch 2/100\n",
      "200/200 [==============================] - 2s 12ms/step - loss: 1.2662 - accuracy: 0.6083 - val_loss: 0.9338 - val_accuracy: 0.7125\n",
      "Epoch 3/100\n",
      "200/200 [==============================] - 2s 12ms/step - loss: 0.9279 - accuracy: 0.7034 - val_loss: 0.5989 - val_accuracy: 0.7750\n",
      "Epoch 4/100\n",
      "200/200 [==============================] - 2s 12ms/step - loss: 0.7175 - accuracy: 0.7785 - val_loss: 0.4521 - val_accuracy: 0.8625\n",
      "Epoch 5/100\n",
      "200/200 [==============================] - 2s 12ms/step - loss: 0.5552 - accuracy: 0.8123 - val_loss: 0.3830 - val_accuracy: 0.8813\n",
      "Epoch 6/100\n",
      "200/200 [==============================] - 2s 12ms/step - loss: 0.4935 - accuracy: 0.8461 - val_loss: 0.5573 - val_accuracy: 0.8438\n",
      "Epoch 7/100\n",
      "200/200 [==============================] - 2s 12ms/step - loss: 0.4607 - accuracy: 0.8673 - val_loss: 0.3570 - val_accuracy: 0.8750\n",
      "Epoch 8/100\n",
      "200/200 [==============================] - 2s 12ms/step - loss: 0.3959 - accuracy: 0.8874 - val_loss: 0.3597 - val_accuracy: 0.8750\n",
      "Epoch 9/100\n",
      "200/200 [==============================] - 2s 12ms/step - loss: 0.3429 - accuracy: 0.9049 - val_loss: 0.2330 - val_accuracy: 0.9250\n",
      "Epoch 10/100\n",
      "200/200 [==============================] - 2s 12ms/step - loss: 0.3715 - accuracy: 0.8736 - val_loss: 0.1875 - val_accuracy: 0.9250\n",
      "Epoch 11/100\n",
      "200/200 [==============================] - 2s 12ms/step - loss: 0.3045 - accuracy: 0.9036 - val_loss: 0.2964 - val_accuracy: 0.9062\n",
      "Epoch 12/100\n",
      "200/200 [==============================] - 2s 12ms/step - loss: 0.2835 - accuracy: 0.9174 - val_loss: 0.2689 - val_accuracy: 0.9250\n",
      "Epoch 13/100\n",
      "200/200 [==============================] - 2s 12ms/step - loss: 0.2552 - accuracy: 0.9287 - val_loss: 0.2284 - val_accuracy: 0.9000\n",
      "Epoch 14/100\n",
      "200/200 [==============================] - 2s 12ms/step - loss: 0.2505 - accuracy: 0.9186 - val_loss: 0.1571 - val_accuracy: 0.9375\n",
      "Epoch 15/100\n",
      "200/200 [==============================] - 2s 12ms/step - loss: 0.2582 - accuracy: 0.9299 - val_loss: 0.1619 - val_accuracy: 0.9312\n",
      "Epoch 16/100\n",
      "200/200 [==============================] - 2s 12ms/step - loss: 0.2088 - accuracy: 0.9324 - val_loss: 0.1312 - val_accuracy: 0.9563\n",
      "Epoch 17/100\n",
      "200/200 [==============================] - 2s 12ms/step - loss: 0.2174 - accuracy: 0.9437 - val_loss: 0.2850 - val_accuracy: 0.9125\n",
      "Epoch 18/100\n",
      "200/200 [==============================] - 2s 11ms/step - loss: 0.2368 - accuracy: 0.9262 - val_loss: 0.1895 - val_accuracy: 0.9312\n",
      "Epoch 19/100\n",
      "200/200 [==============================] - 2s 11ms/step - loss: 0.1994 - accuracy: 0.9449 - val_loss: 0.1868 - val_accuracy: 0.9187\n",
      "Epoch 20/100\n",
      "200/200 [==============================] - 2s 12ms/step - loss: 0.2096 - accuracy: 0.9299 - val_loss: 0.1729 - val_accuracy: 0.9375\n",
      "Epoch 21/100\n",
      "200/200 [==============================] - 2s 11ms/step - loss: 0.1665 - accuracy: 0.9537 - val_loss: 0.1363 - val_accuracy: 0.9500\n",
      "Epoch 22/100\n",
      "200/200 [==============================] - 2s 11ms/step - loss: 0.1695 - accuracy: 0.9499 - val_loss: 0.1195 - val_accuracy: 0.9438\n",
      "Epoch 23/100\n",
      "200/200 [==============================] - 2s 11ms/step - loss: 0.1935 - accuracy: 0.9462 - val_loss: 0.0894 - val_accuracy: 0.9688\n",
      "Epoch 24/100\n",
      "200/200 [==============================] - 2s 11ms/step - loss: 0.1659 - accuracy: 0.9412 - val_loss: 0.1894 - val_accuracy: 0.9375\n",
      "Epoch 25/100\n",
      "200/200 [==============================] - 2s 12ms/step - loss: 0.1260 - accuracy: 0.9549 - val_loss: 0.1152 - val_accuracy: 0.9750\n",
      "Epoch 26/100\n",
      "200/200 [==============================] - 2s 11ms/step - loss: 0.1470 - accuracy: 0.9587 - val_loss: 0.2423 - val_accuracy: 0.9312\n",
      "Epoch 27/100\n",
      "200/200 [==============================] - 2s 11ms/step - loss: 0.1796 - accuracy: 0.9437 - val_loss: 0.1099 - val_accuracy: 0.9563\n",
      "Epoch 28/100\n",
      "200/200 [==============================] - 2s 12ms/step - loss: 0.1568 - accuracy: 0.9574 - val_loss: 0.0794 - val_accuracy: 0.9625\n",
      "Epoch 29/100\n",
      "200/200 [==============================] - 2s 11ms/step - loss: 0.1503 - accuracy: 0.9549 - val_loss: 0.0968 - val_accuracy: 0.9812\n",
      "Epoch 30/100\n",
      "200/200 [==============================] - 2s 11ms/step - loss: 0.1527 - accuracy: 0.9562 - val_loss: 0.1390 - val_accuracy: 0.9625\n",
      "Epoch 31/100\n",
      "200/200 [==============================] - 2s 11ms/step - loss: 0.1284 - accuracy: 0.9562 - val_loss: 0.0729 - val_accuracy: 0.9750\n",
      "Epoch 32/100\n",
      "200/200 [==============================] - 2s 12ms/step - loss: 0.2022 - accuracy: 0.9524 - val_loss: 0.1004 - val_accuracy: 0.9688\n",
      "Epoch 33/100\n",
      "200/200 [==============================] - 2s 12ms/step - loss: 0.1771 - accuracy: 0.9499 - val_loss: 0.1324 - val_accuracy: 0.9500\n",
      "Epoch 34/100\n",
      "200/200 [==============================] - 2s 11ms/step - loss: 0.1446 - accuracy: 0.9612 - val_loss: 0.0927 - val_accuracy: 0.9812\n",
      "Epoch 35/100\n",
      "200/200 [==============================] - 2s 11ms/step - loss: 0.1645 - accuracy: 0.9399 - val_loss: 0.1018 - val_accuracy: 0.9688\n",
      "Epoch 36/100\n",
      "200/200 [==============================] - 2s 11ms/step - loss: 0.1028 - accuracy: 0.9762 - val_loss: 0.1348 - val_accuracy: 0.9625\n",
      "Epoch 37/100\n",
      "200/200 [==============================] - 2s 11ms/step - loss: 0.1092 - accuracy: 0.9725 - val_loss: 0.0967 - val_accuracy: 0.9812\n",
      "Epoch 38/100\n",
      "200/200 [==============================] - 2s 12ms/step - loss: 0.1272 - accuracy: 0.9587 - val_loss: 0.0668 - val_accuracy: 0.9750\n",
      "Epoch 39/100\n",
      "200/200 [==============================] - 2s 11ms/step - loss: 0.0657 - accuracy: 0.9800 - val_loss: 0.1063 - val_accuracy: 0.9563\n",
      "Epoch 40/100\n",
      "200/200 [==============================] - 2s 11ms/step - loss: 0.1274 - accuracy: 0.9650 - val_loss: 0.0891 - val_accuracy: 0.9875\n",
      "Epoch 41/100\n",
      "200/200 [==============================] - 2s 12ms/step - loss: 0.0918 - accuracy: 0.9687 - val_loss: 0.0351 - val_accuracy: 0.9875\n",
      "Epoch 42/100\n",
      "200/200 [==============================] - 2s 11ms/step - loss: 0.0780 - accuracy: 0.9712 - val_loss: 0.1148 - val_accuracy: 0.9875\n",
      "Epoch 43/100\n",
      "200/200 [==============================] - 2s 11ms/step - loss: 0.1514 - accuracy: 0.9687 - val_loss: 0.0664 - val_accuracy: 0.9812\n",
      "Epoch 44/100\n",
      "200/200 [==============================] - 2s 11ms/step - loss: 0.1333 - accuracy: 0.9612 - val_loss: 0.1000 - val_accuracy: 0.9625\n",
      "Epoch 45/100\n",
      "200/200 [==============================] - 2s 11ms/step - loss: 0.1345 - accuracy: 0.9637 - val_loss: 0.0148 - val_accuracy: 0.9875\n",
      "Epoch 46/100\n",
      "200/200 [==============================] - 2s 11ms/step - loss: 0.1024 - accuracy: 0.9675 - val_loss: 0.0873 - val_accuracy: 0.9688\n",
      "Epoch 47/100\n",
      "200/200 [==============================] - 2s 12ms/step - loss: 0.0783 - accuracy: 0.9750 - val_loss: 0.0484 - val_accuracy: 0.9688\n",
      "Epoch 48/100\n",
      "200/200 [==============================] - 2s 11ms/step - loss: 0.0943 - accuracy: 0.9762 - val_loss: 0.0151 - val_accuracy: 1.0000\n",
      "Epoch 49/100\n",
      "200/200 [==============================] - 2s 11ms/step - loss: 0.0715 - accuracy: 0.9775 - val_loss: 0.0487 - val_accuracy: 0.9812\n",
      "Epoch 50/100\n",
      "200/200 [==============================] - 2s 11ms/step - loss: 0.0976 - accuracy: 0.9750 - val_loss: 0.1574 - val_accuracy: 0.9688\n",
      "Epoch 51/100\n",
      "200/200 [==============================] - 2s 11ms/step - loss: 0.0935 - accuracy: 0.9725 - val_loss: 0.0485 - val_accuracy: 0.9875\n",
      "Epoch 52/100\n",
      "200/200 [==============================] - 2s 11ms/step - loss: 0.0790 - accuracy: 0.9775 - val_loss: 0.0503 - val_accuracy: 0.9750\n",
      "Epoch 53/100\n",
      "200/200 [==============================] - 2s 12ms/step - loss: 0.0630 - accuracy: 0.9800 - val_loss: 0.0341 - val_accuracy: 0.9750\n",
      "Epoch 54/100\n",
      "200/200 [==============================] - 2s 12ms/step - loss: 0.0893 - accuracy: 0.9662 - val_loss: 0.0366 - val_accuracy: 0.9750\n",
      "Epoch 55/100\n",
      "200/200 [==============================] - 2s 12ms/step - loss: 0.0779 - accuracy: 0.9762 - val_loss: 0.0992 - val_accuracy: 0.9688\n"
     ]
    },
    {
     "name": "stdout",
     "output_type": "stream",
     "text": [
      "Epoch 56/100\n",
      "200/200 [==============================] - 2s 12ms/step - loss: 0.0992 - accuracy: 0.9812 - val_loss: 0.0997 - val_accuracy: 0.9812\n",
      "Epoch 57/100\n",
      "200/200 [==============================] - 2s 12ms/step - loss: 0.0993 - accuracy: 0.9787 - val_loss: 0.1721 - val_accuracy: 0.9625\n",
      "Epoch 58/100\n",
      "200/200 [==============================] - 2s 12ms/step - loss: 0.0884 - accuracy: 0.9712 - val_loss: 0.0363 - val_accuracy: 0.9875\n",
      "Epoch 59/100\n",
      "200/200 [==============================] - 2s 12ms/step - loss: 0.0610 - accuracy: 0.9850 - val_loss: 0.0686 - val_accuracy: 0.9812\n",
      "Epoch 60/100\n",
      "200/200 [==============================] - 2s 12ms/step - loss: 0.0758 - accuracy: 0.9850 - val_loss: 0.1160 - val_accuracy: 0.9625\n",
      "Epoch 61/100\n",
      "200/200 [==============================] - 2s 11ms/step - loss: 0.0884 - accuracy: 0.9725 - val_loss: 0.1032 - val_accuracy: 0.9750\n",
      "Epoch 62/100\n",
      "200/200 [==============================] - 2s 11ms/step - loss: 0.0556 - accuracy: 0.9850 - val_loss: 0.0217 - val_accuracy: 0.9875\n",
      "Epoch 63/100\n",
      "200/200 [==============================] - 2s 11ms/step - loss: 0.0843 - accuracy: 0.9787 - val_loss: 0.0110 - val_accuracy: 1.0000\n",
      "Epoch 64/100\n",
      "200/200 [==============================] - 2s 11ms/step - loss: 0.0735 - accuracy: 0.9787 - val_loss: 0.0372 - val_accuracy: 0.9875\n",
      "Epoch 65/100\n",
      "200/200 [==============================] - 2s 11ms/step - loss: 0.0669 - accuracy: 0.9862 - val_loss: 0.0355 - val_accuracy: 0.9875\n",
      "Epoch 66/100\n",
      "200/200 [==============================] - 2s 12ms/step - loss: 0.0912 - accuracy: 0.9750 - val_loss: 0.1253 - val_accuracy: 0.9812\n",
      "Epoch 67/100\n",
      "200/200 [==============================] - 2s 12ms/step - loss: 0.0970 - accuracy: 0.9825 - val_loss: 0.0205 - val_accuracy: 0.9937\n",
      "Epoch 68/100\n",
      "200/200 [==============================] - 2s 11ms/step - loss: 0.0494 - accuracy: 0.9837 - val_loss: 0.0224 - val_accuracy: 0.9937\n",
      "Epoch 69/100\n",
      "200/200 [==============================] - 2s 11ms/step - loss: 0.0648 - accuracy: 0.9775 - val_loss: 0.0049 - val_accuracy: 1.0000\n",
      "Epoch 70/100\n",
      "200/200 [==============================] - 2s 11ms/step - loss: 0.0442 - accuracy: 0.9862 - val_loss: 0.0269 - val_accuracy: 0.9875\n",
      "Epoch 71/100\n",
      "200/200 [==============================] - 2s 12ms/step - loss: 0.0964 - accuracy: 0.9787 - val_loss: 0.0366 - val_accuracy: 0.9937\n",
      "Epoch 72/100\n",
      "200/200 [==============================] - 2s 11ms/step - loss: 0.0505 - accuracy: 0.9825 - val_loss: 0.0473 - val_accuracy: 0.9937\n",
      "Epoch 73/100\n",
      "200/200 [==============================] - 2s 11ms/step - loss: 0.0538 - accuracy: 0.9812 - val_loss: 0.0510 - val_accuracy: 0.9812\n",
      "Epoch 74/100\n",
      "200/200 [==============================] - 2s 11ms/step - loss: 0.0694 - accuracy: 0.9812 - val_loss: 0.0765 - val_accuracy: 0.9750\n",
      "Epoch 75/100\n",
      "200/200 [==============================] - 2s 11ms/step - loss: 0.0662 - accuracy: 0.9812 - val_loss: 0.0287 - val_accuracy: 0.9875\n",
      "Epoch 76/100\n",
      "200/200 [==============================] - 2s 12ms/step - loss: 0.0946 - accuracy: 0.9762 - val_loss: 0.0367 - val_accuracy: 0.9937\n",
      "Epoch 77/100\n",
      "200/200 [==============================] - 2s 12ms/step - loss: 0.0286 - accuracy: 0.9887 - val_loss: 0.0261 - val_accuracy: 0.9937\n",
      "Epoch 78/100\n",
      "200/200 [==============================] - 2s 11ms/step - loss: 0.1068 - accuracy: 0.9750 - val_loss: 0.1149 - val_accuracy: 0.9625\n",
      "Epoch 79/100\n",
      "200/200 [==============================] - 2s 12ms/step - loss: 0.0727 - accuracy: 0.9850 - val_loss: 0.0187 - val_accuracy: 0.9875\n",
      "Epoch 80/100\n",
      "200/200 [==============================] - 2s 11ms/step - loss: 0.0726 - accuracy: 0.9787 - val_loss: 0.0455 - val_accuracy: 0.9812\n",
      "Epoch 81/100\n",
      "200/200 [==============================] - 2s 12ms/step - loss: 0.0596 - accuracy: 0.9850 - val_loss: 0.1370 - val_accuracy: 0.9625\n",
      "Epoch 82/100\n",
      "200/200 [==============================] - 2s 11ms/step - loss: 0.0583 - accuracy: 0.9837 - val_loss: 0.0197 - val_accuracy: 0.9937\n",
      "Epoch 83/100\n",
      "200/200 [==============================] - 2s 11ms/step - loss: 0.0969 - accuracy: 0.9637 - val_loss: 0.0211 - val_accuracy: 0.9875\n",
      "Epoch 84/100\n",
      "200/200 [==============================] - 2s 12ms/step - loss: 0.0569 - accuracy: 0.9862 - val_loss: 0.0790 - val_accuracy: 0.9875\n",
      "Epoch 85/100\n",
      "200/200 [==============================] - 2s 12ms/step - loss: 0.0518 - accuracy: 0.9862 - val_loss: 0.0870 - val_accuracy: 0.9937\n",
      "Epoch 86/100\n",
      "200/200 [==============================] - 2s 12ms/step - loss: 0.0701 - accuracy: 0.9825 - val_loss: 0.0125 - val_accuracy: 0.9937\n",
      "Epoch 87/100\n",
      "200/200 [==============================] - 2s 12ms/step - loss: 0.0332 - accuracy: 0.9937 - val_loss: 0.0228 - val_accuracy: 0.9875\n",
      "Epoch 88/100\n",
      "200/200 [==============================] - 2s 12ms/step - loss: 0.0562 - accuracy: 0.9825 - val_loss: 0.0087 - val_accuracy: 1.0000\n",
      "Epoch 89/100\n",
      "200/200 [==============================] - 2s 12ms/step - loss: 0.0631 - accuracy: 0.9812 - val_loss: 0.0408 - val_accuracy: 0.9812\n",
      "Epoch 90/100\n",
      "200/200 [==============================] - 2s 12ms/step - loss: 0.0577 - accuracy: 0.9800 - val_loss: 0.0877 - val_accuracy: 0.9812\n",
      "Epoch 91/100\n",
      "200/200 [==============================] - 2s 11ms/step - loss: 0.0703 - accuracy: 0.9800 - val_loss: 0.0237 - val_accuracy: 0.9875\n",
      "Epoch 92/100\n",
      "200/200 [==============================] - 2s 12ms/step - loss: 0.0497 - accuracy: 0.9887 - val_loss: 0.0310 - val_accuracy: 0.9937\n",
      "Epoch 93/100\n",
      "200/200 [==============================] - 2s 11ms/step - loss: 0.1025 - accuracy: 0.9812 - val_loss: 0.0237 - val_accuracy: 0.9937\n",
      "Epoch 94/100\n",
      "200/200 [==============================] - 2s 12ms/step - loss: 0.0988 - accuracy: 0.9787 - val_loss: 0.1702 - val_accuracy: 0.9812\n",
      "Epoch 95/100\n",
      "200/200 [==============================] - 2s 12ms/step - loss: 0.0509 - accuracy: 0.9875 - val_loss: 0.0056 - val_accuracy: 1.0000\n",
      "Epoch 96/100\n",
      "200/200 [==============================] - 2s 12ms/step - loss: 0.0690 - accuracy: 0.9825 - val_loss: 0.0114 - val_accuracy: 0.9937\n",
      "Epoch 97/100\n",
      "200/200 [==============================] - 2s 12ms/step - loss: 0.0523 - accuracy: 0.9837 - val_loss: 0.0021 - val_accuracy: 1.0000\n",
      "Epoch 98/100\n",
      "200/200 [==============================] - 2s 12ms/step - loss: 0.0752 - accuracy: 0.9787 - val_loss: 0.0376 - val_accuracy: 0.9812\n",
      "Epoch 99/100\n",
      "200/200 [==============================] - 2s 12ms/step - loss: 0.0475 - accuracy: 0.9787 - val_loss: 0.1142 - val_accuracy: 0.9812\n",
      "Epoch 100/100\n",
      "200/200 [==============================] - 2s 11ms/step - loss: 0.0397 - accuracy: 0.9875 - val_loss: 0.1018 - val_accuracy: 0.9750\n"
     ]
    }
   ],
   "source": [
    "Batch_Size = 4\n",
    "Shift_Range = 1\n",
    "Brightness_Range = 0.3\n",
    "Rotation_Angle = 10\n",
    "ZoomRange = 0.4\n",
    "\n",
    "datagen = ImageDataGenerator(width_shift_range=[-Shift_Range,Shift_Range], \n",
    "                             height_shift_range=[-Shift_Range,Shift_Range],\n",
    "                             brightness_range=[1-Brightness_Range,1+Brightness_Range],\n",
    "                             zoom_range=[1-ZoomRange, 1+ZoomRange],\n",
    "                             rotation_range=Rotation_Angle)\n",
    "\n",
    "if (Training_Percentage > 0):\n",
    "    train_iterator = datagen.flow(x_data, y_data, batch_size=Batch_Size)\n",
    "    validation_iterator = datagen.flow(X_test, y_test, batch_size=Batch_Size)\n",
    "    history = model.fit_generator(train_iterator, validation_data = validation_iterator, epochs = Epoch_Anz)\n",
    "else:\n",
    "    train_iterator = datagen.flow(x_data, y_data, batch_size=Batch_Size)\n",
    "    history = model.fit_generator(train_iterator, epochs = Epoch_Anz)\n",
    "\n"
   ]
  },
  {
   "cell_type": "markdown",
   "metadata": {},
   "source": [
    "### Learing result\n",
    " \n",
    "* Visualization of the training and validation results"
   ]
  },
  {
   "cell_type": "markdown",
   "metadata": {},
   "source": [
    "### Check the model by hand\n",
    "\n",
    "* The following code uses the trained model to check the deviation for each picture.\n",
    "* x-axis walks through each pixel, y-axis shows the result"
   ]
  },
  {
   "cell_type": "code",
   "execution_count": 5,
   "metadata": {},
   "outputs": [
    {
     "data": {
      "image/png": "[encoded data removed]",
      "text/plain": [
       "<Figure size 432x288 with 1 Axes>"
      ]
     },
     "metadata": {
      "needs_background": "light"
     },
     "output_type": "display_data"
    }
   ],
   "source": [
    "loss_ges = np.append(loss_ges, history.history['loss'])\n",
    "plt.semilogy(history.history['loss'])\n",
    "\n",
    "if (Training_Percentage > 0):\n",
    "    val_loss_ges = np.append(val_loss_ges, history.history['val_loss'])\n",
    "    plt.semilogy(history.history['val_loss'])\n",
    "\n",
    "plt.title('model loss')\n",
    "plt.ylabel('loss')\n",
    "plt.xlabel('epoch')\n",
    "plt.legend(['train','eval'], loc='upper left')\n",
    "plt.show()"
   ]
  },
  {
   "cell_type": "code",
   "execution_count": 6,
   "metadata": {},
   "outputs": [
    {
     "name": "stdout",
     "output_type": "stream",
     "text": [
      "WARNING:tensorflow:From <ipython-input-6-0e3a65b90cd2>:15: Sequential.predict_classes (from tensorflow.python.keras.engine.sequential) is deprecated and will be removed after 2021-01-01.\n",
      "Instructions for updating:\n",
      "Please use instead:* `np.argmax(model.predict(x), axis=-1)`,   if your model does multi-class classification   (e.g. if it uses a `softmax` last-layer activation).* `(model.predict(x) > 0.5).astype(\"int32\")`,   if your model does binary classification   (e.g. if it uses a `sigmoid` last-layer activation).\n"
     ]
    },
    {
     "data": {
      "image/png": "[encoded data removed]",
      "text/plain": [
       "<Figure size 432x288 with 1 Axes>"
      ]
     },
     "metadata": {
      "needs_background": "light"
     },
     "output_type": "display_data"
    }
   ],
   "source": [
    "Input_dir='ziffer_sortiert_resize'\n",
    "subdir = [\"NaN\", \"0\", \"1\", \"2\", \"3\", \"4\", \"5\", \"6\", \"7\", \"8\", \"9\"]\n",
    "res = []\n",
    "\n",
    "for aktsubdir in subdir:\n",
    "    files = glob.glob(Input_dir + '/' + aktsubdir + '/*.jpg')\n",
    "    if aktsubdir == \"NaN\":\n",
    "        zw1 = -1\n",
    "    else:\n",
    "        zw1 = int(aktsubdir)\n",
    "    for aktfile in files:      \n",
    "        test_image = Image.open(aktfile)\n",
    "        test_image = np.array(test_image, dtype=\"float32\")\n",
    "        img = np.reshape(test_image,[1,32,20,3])\n",
    "        classes = model.predict_classes(img)\n",
    "        classes = classes[0]\n",
    "        if classes == 10: \n",
    "            classes = -1\n",
    "        zw2 = classes\n",
    "        zw3 = zw2 - zw1\n",
    "        res.append(np.array([zw1, zw2, zw3]))\n",
    "\n",
    "res = np.asarray(res)\n",
    "\n",
    "plt.plot(res[:,0])\n",
    "plt.plot(res[:,1])\n",
    "plt.title('Result')\n",
    "plt.ylabel('Digital Value')\n",
    "plt.xlabel('#Picture')\n",
    "plt.legend(['real','model'], loc='upper left')\n",
    "plt.show()"
   ]
  },
  {
   "cell_type": "markdown",
   "metadata": {},
   "source": [
    "# Save the model\n",
    "\n",
    "* Save the model to the file with the \"h5\" file format"
   ]
  },
  {
   "cell_type": "code",
   "execution_count": 7,
   "metadata": {},
   "outputs": [
    {
     "name": "stdout",
     "output_type": "stream",
     "text": [
      "WARNING:tensorflow:From /usr/local/lib/python3.8/dist-packages/tensorflow/python/training/tracking/tracking.py:111: Model.state_updates (from tensorflow.python.keras.engine.training) is deprecated and will be removed in a future version.\n",
      "Instructions for updating:\n",
      "This property should not be used in TensorFlow 2.0, as updates are applied automatically.\n",
      "WARNING:tensorflow:From /usr/local/lib/python3.8/dist-packages/tensorflow/python/training/tracking/tracking.py:111: Layer.updates (from tensorflow.python.keras.engine.base_layer) is deprecated and will be removed in a future version.\n",
      "Instructions for updating:\n",
      "This property should not be used in TensorFlow 2.0, as updates are applied automatically.\n",
      "INFO:tensorflow:Assets written to: /tmp/tmpj7hbb0vz/assets\n"
     ]
    },
    {
     "data": {
      "text/plain": [
       "1302924"
      ]
     },
     "execution_count": 7,
     "metadata": {},
     "output_type": "execute_result"
    }
   ],
   "source": [
    "FileName = \"Train_CNN_Digital-Readout_Version_\" + Version\n",
    "# model.save(FileName + \".h5\")\n",
    "\n",
    "converter = tf.lite.TFLiteConverter.from_keras_model(model)\n",
    "tflite_model = converter.convert()\n",
    "open(FileName + \".tflite\", \"wb\").write(tflite_model)"
   ]
  },
  {
   "cell_type": "markdown",
   "metadata": {},
   "source": [
    "### Check each image for expected and deviation\n",
    "* setting the switch \"only_deviation = true\" will only print the images for which the classification and the CNN-result deviates\n",
    "\n",
    "The output contains the following information:\n",
    "\n",
    "| Filename      | Expected Category           | Predicted Category        |\n",
    "|------------- |:-----------------------------:|--------------|\n",
    "| ziffer_sortiert_resize_NaN/5\\Ziffer_4_0034.jpg | 4  | -1 |\n"
   ]
  },
  {
   "cell_type": "code",
   "execution_count": 8,
   "metadata": {
    "scrolled": true
   },
   "outputs": [],
   "source": [
    "Input_dir='ziffer_sortiert_resize'\n",
    "only_deviation = True\n",
    "\n",
    "subdir = [\"0\", \"1\", \"2\", \"3\", \"4\", \"5\", \"6\", \"7\", \"8\", \"9\", \"NaN\"]\n",
    "\n",
    "for aktsubdir in subdir:\n",
    "    files = glob.glob(Input_dir + '/' + aktsubdir + '/*.jpg')\n",
    "    expected_class = aktsubdir\n",
    "    for aktfile in files:\n",
    "        test_image = Image.open(aktfile)\n",
    "        test_image = np.array(test_image, dtype=\"float32\")\n",
    "        img = np.reshape(test_image,[1,32,20,3])\n",
    "        classes = model.predict_classes(img)\n",
    "        classes = classes[0]\n",
    "        if classes == 10: \n",
    "            classes = \"NaN\"\n",
    "        if only_deviation == True:\n",
    "            if str(classes) != str(expected_class):\n",
    "                print(aktfile + \" \" + aktsubdir +  \" \" + str(classes))\n",
    "        else:\n",
    "            print(aktfile + \" \" + aktsubdir +  \" \" + str(classes))\n"
   ]
  },
  {
   "cell_type": "markdown",
   "metadata": {},
   "source": [
    "Checking the images shows, that this are border line images, which can be interpreted as a good digit or a faulty one."
   ]
  },
  {
   "cell_type": "code",
   "execution_count": null,
   "metadata": {},
   "outputs": [],
   "source": []
  },
  {
   "cell_type": "code",
   "execution_count": null,
   "metadata": {},
   "outputs": [],
   "source": []
  }
 ],
 "metadata": {
  "kernelspec": {
   "display_name": "Python 3",
   "language": "python",
   "name": "python3"
  },
  "language_info": {
   "codemirror_mode": {
    "name": "ipython",
    "version": 3
   },
   "file_extension": ".py",
   "mimetype": "text/x-python",
   "name": "python",
   "nbconvert_exporter": "python",
   "pygments_lexer": "ipython3",
   "version": "3.8.2"
  }
 },
 "nbformat": 4,
 "nbformat_minor": 2
}
