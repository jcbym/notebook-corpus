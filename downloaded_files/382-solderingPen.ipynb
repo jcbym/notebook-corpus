{
 "cells": [
  {
   "cell_type": "markdown",
   "metadata": {},
   "source": [
    "# Bootloader design - hardware"
   ]
  },
  {
   "cell_type": "markdown",
   "metadata": {},
   "source": [
    "# Bootloader design - software"
   ]
  },
  {
   "cell_type": "markdown",
   "metadata": {},
   "source": [
    "## Program flow\n",
    "![Activity diagram](img/soldering_pen_bootloader_activity_diagram.png)"
   ]
  },
  {
   "cell_type": "markdown",
   "metadata": {},
   "source": [
    "## Bootloader detection\n",
    "* sensor_pullup_cmd pin is set low\n",
    "* delay\n",
    "* if sensor_sig voltage > 0.9*Vcc - enter bootloader"
   ]
  },
  {
   "cell_type": "markdown",
   "metadata": {},
   "source": [
    "## Supported commands\n",
    "Command codes are selected to be hard to be mistaken if software UART reading is started in the middle of bit.\n",
    "* Erase (**0x81**)\n",
    " * Application flash, not bootloader\n",
    "* Write data (**0x82**)\n",
    " * In 128B chunks\n",
    " * CRC32\n",
    "*  Get information (**0x84**)\n",
    " * 1024B block with CRC\n",
    " * Bootloader  version\n",
    " * Application version (info block in application flash)\n",
    " * Chip ID\n",
    " * Other bytes reserved (logs?)\n",
    "* Run application (**0x88**)"
   ]
  },
  {
   "cell_type": "markdown",
   "metadata": {},
   "source": [
    "# Bootloader tests"
   ]
  },
  {
   "cell_type": "markdown",
   "metadata": {},
   "source": [
    "## Communication tests"
   ]
  },
  {
   "cell_type": "markdown",
   "metadata": {},
   "source": [
    "### Transmission from device via high side driver\n",
    "Test is done using circuit below:\n",
    "![](img/bootloader_transmission_high_side_scm.png \"Transmission test via high side driver test - schematic\")\n",
    "First test with no serial and parallel resistors. Falling edge is slow and transistor turn off threshold voltage is too high.\n",
    "* CH1: HEATER\n",
    "* CH2: OUT\n",
    "![](img/bootloader_transmission_high_side_only_transistor.png \"Transmission test via high side driver - Rser=0, Rpar=open\")\n",
    "Second test with Serial 220k and parallel 2k2 resistors.\n",
    "* CH1: HEATER\n",
    "* CH2: OUT\n",
    "* CH3: IN\n",
    "![](img/bootloader_transmission_high_side_2k2_220k.png \"Transmission test via high side driver - Rser=220k, Rpar=2k2\")\n",
    "Rise and fall time are ~100us and ~150us. But according to datasheet, they can be as high as 500us.\n",
    "![](img/bootloader_transmission_BTS_timings.png \"BTS5012SDA timings\")"
   ]
  },
  {
   "cell_type": "markdown",
   "metadata": {
    "collapsed": true
   },
   "source": [
    "### Reception from USB-UART\n",
    "Test is done using circuit below:"
   ]
  }
 ],
 "metadata": {
  "hide_input": false,
  "kernelspec": {
   "display_name": "Python 3",
   "language": "python",
   "name": "python3"
  },
  "language_info": {
   "codemirror_mode": {
    "name": "ipython",
    "version": 3
   },
   "file_extension": ".py",
   "mimetype": "text/x-python",
   "name": "python",
   "nbconvert_exporter": "python",
   "pygments_lexer": "ipython3",
   "version": "3.5.1"
  },
  "toc": {
   "toc_cell": false,
   "toc_number_sections": true,
   "toc_threshold": 6,
   "toc_window_display": false
  }
 },
 "nbformat": 4,
 "nbformat_minor": 0
}
