{
 "cells": [
  {
   "cell_type": "code",
   "execution_count": null,
   "id": "85f10bbe",
   "metadata": {},
   "outputs": [],
   "source": [
    "%load_ext autoreload\n",
    "%autoreload 2"
   ]
  },
  {
   "cell_type": "code",
   "execution_count": null,
   "id": "097e0406",
   "metadata": {
    "pycharm": {
     "name": "#%%\n"
    }
   },
   "outputs": [],
   "source": [
    "from collections import namedtuple\n",
    "import pandas as pd\n",
    "import wandb\n",
    "\n",
    "from src.data.utils import add_padding"
   ]
  },
  {
   "cell_type": "code",
   "execution_count": null,
   "id": "7a94e4a3",
   "metadata": {},
   "outputs": [],
   "source": [
    "given_surname = \"surname\"\n",
    "Config = namedtuple(\"Config\", \"pref_path in_path out_path cutoff threshold\")\n",
    "config = Config(\n",
    "    pref_path=f\"s3://familysearch-names/processed/tree-preferred-{given_surname}-aggr.csv.gz\",\n",
    "    in_path=f\"s3://familysearch-names/processed/tree-hr-{given_surname}-train-unfiltered.csv.gz\",\n",
    "    out_path=f\"s3://familysearch-names/processed/tree-hr-{given_surname}-train-demo.csv.gz\",\n",
    "    cutoff=10000,\n",
    "    threshold=0.022,\n",
    ")"
   ]
  },
  {
   "cell_type": "code",
   "execution_count": null,
   "id": "8ff72ce6",
   "metadata": {
    "pycharm": {
     "name": "#%%\n"
    }
   },
   "outputs": [],
   "source": [
    "wandb.init(\n",
    "    project=\"nama\",\n",
    "    entity=\"nama\",\n",
    "    name=\"46_demo_dataset\",\n",
    "    group=given_surname,\n",
    "    notes=\"\",\n",
    "    config=config._asdict()\n",
    ")"
   ]
  },
  {
   "cell_type": "code",
   "execution_count": null,
   "id": "114f5c5f",
   "metadata": {
    "pycharm": {
     "name": "#%%\n"
    }
   },
   "outputs": [],
   "source": [
    "# read dataset\n",
    "df = pd.read_csv(config.in_path)"
   ]
  },
  {
   "cell_type": "code",
   "execution_count": null,
   "id": "70345429",
   "metadata": {
    "pycharm": {
     "name": "#%%\n"
    }
   },
   "outputs": [],
   "source": [
    "# read the preferred names\n",
    "pref_df = pd.read_csv(config.pref_path)\n",
    "print(len(pref_df))"
   ]
  },
  {
   "cell_type": "code",
   "execution_count": null,
   "id": "407aa7c9",
   "metadata": {
    "pycharm": {
     "name": "#%%\n"
    }
   },
   "outputs": [],
   "source": [
    "if given_surname == \"surname\":\n",
    "    pref_df = pref_df[~pref_df[\"name\"].str.contains(\"son$\", na=True)].reset_index()\n",
    "    print(len(pref_df))"
   ]
  },
  {
   "cell_type": "code",
   "execution_count": null,
   "id": "e0ed8a37",
   "metadata": {
    "pycharm": {
     "name": "#%%\n"
    }
   },
   "outputs": [],
   "source": [
    "demo_names = set(pref_df.loc[:config.cutoff, \"name\"].map(add_padding))\n",
    "print(len(demo_names))\n",
    "print(next(iter(demo_names)))"
   ]
  },
  {
   "cell_type": "code",
   "execution_count": null,
   "id": "2e2595df",
   "metadata": {
    "pycharm": {
     "name": "#%%\n"
    }
   },
   "outputs": [],
   "source": [
    "demo_df = df[df[\"name1\"].isin(demo_names) & df[\"name2\"].isin(demo_names)]\n",
    "print(len(demo_df))\n",
    "demo_df"
   ]
  },
  {
   "cell_type": "code",
   "execution_count": null,
   "id": "f102469e",
   "metadata": {
    "pycharm": {
     "name": "#%%\n"
    }
   },
   "outputs": [],
   "source": [
    "# above threshold\n",
    "demo_df = demo_df[demo_df[\"weighted_count\"] >= config.threshold]"
   ]
  },
  {
   "cell_type": "code",
   "execution_count": null,
   "id": "9ec56d91",
   "metadata": {
    "pycharm": {
     "name": "#%%\n"
    }
   },
   "outputs": [],
   "source": [
    "print(len(demo_df))\n",
    "print(len(demo_df[\"name1\"].unique()))\n",
    "print(len(demo_df[\"name2\"].unique()))"
   ]
  },
  {
   "cell_type": "code",
   "execution_count": null,
   "id": "9fa0c692",
   "metadata": {
    "pycharm": {
     "name": "#%%\n"
    }
   },
   "outputs": [],
   "source": [
    "probe_name = \"<richard>\"\n",
    "print(demo_df[(demo_df[\"name1\"] == probe_name) | (demo_df[\"name2\"] == probe_name)])"
   ]
  },
  {
   "cell_type": "code",
   "execution_count": null,
   "id": "e9fb3ac9",
   "metadata": {
    "pycharm": {
     "name": "#%%\n"
    }
   },
   "outputs": [],
   "source": [
    "demo_df.to_csv(config.out_path, index=False)"
   ]
  },
  {
   "cell_type": "code",
   "execution_count": null,
   "id": "0e21faa6",
   "metadata": {
    "pycharm": {
     "name": "#%%\n"
    }
   },
   "outputs": [],
   "source": [
    "wandb.finish()"
   ]
  },
  {
   "cell_type": "code",
   "execution_count": null,
   "id": "7d67e2e9",
   "metadata": {
    "pycharm": {
     "name": "#%%\n"
    }
   },
   "outputs": [],
   "source": []
  }
 ],
 "metadata": {
  "jupytext": {
   "text_representation": {
    "extension": ".py",
    "format_name": "percent",
    "format_version": "1.3",
    "jupytext_version": "1.13.0"
   }
  },
  "kernelspec": {
   "display_name": "nama",
   "language": "python",
   "name": "nama"
  },
  "language_info": {
   "codemirror_mode": {
    "name": "ipython",
    "version": 3
   },
   "file_extension": ".py",
   "mimetype": "text/x-python",
   "name": "python",
   "nbconvert_exporter": "python",
   "pygments_lexer": "ipython3",
   "version": "3.8.12"
  }
 },
 "nbformat": 4,
 "nbformat_minor": 5
}
