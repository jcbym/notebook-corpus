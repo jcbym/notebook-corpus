{
 "cells": [
  {
   "cell_type": "markdown",
   "metadata": {},
   "source": [
    "# Stochasticity in Biological Systems\n",
    "Resources:\n",
    "\n",
    "1. [week7_stochastic_systems.ipynb](https://pages.hmc.edu/pandey/reading/week7_stochastic_systems.ipynb): This notebook introduces probability distributions, stochastic processes, and their use to model biological randomness.\n",
    "\n",
    "1. Python tutorials online: You are free to use any tutorials from the Internet on Numpy, Scipy, or any other Python package that you may use to solve the homework problems.\n",
    "\n",
    "1. Submit your homework to GradeScope by downloading the jupyter notebook as a PDF. Go to Files -> Download as -> PDF. If that does not work, you can go to File -> Print Preview -> Ctrl + P (to print) -> Save as PDF.\n",
    "\n",
    "Due date: 8th March on GradeScope."
   ]
  },
  {
   "cell_type": "markdown",
   "metadata": {},
   "source": [
    "# Problem 1: Stochastic TX-TL\n",
    "(BFS Problem 4.1) Consider a standard model of transcription and translation with probabilistic creation and degradation of discrete mRNA and protein molecules. The propensity functions for each reaction are as follows:\n",
    " * Probability of transcribing 1 mRNA molecule: 0.2dt\n",
    " * Probability of degrading 1 mRNA molecule: 0.5dt and is proportional to the number of mRNA molecules.\n",
    " * Probability of translating 1 protein: 5dt and is proportional to the number of mRNA molecules.\n",
    " * Probability of degrading 1 protein molecule: 0.5dt and is proportional to the number of protein molecules.\n",
    "\n",
    "In each case, dt will be the time step chosen for your simulation, which we take as dt = 0.005 sec.\n",
    "\n",
    "(a) Simulate the stochastic system above until time T = 100. Plot the resulting number of mRNA and protein over time.\n",
    "\n",
    "(b) Now assume that the proteins are degraded much more slowly than mRNA and the propensity function of protein degradation is now 0.05dt. To maintain similar protein levels, the translation probability is now 0.5dt (and still\n",
    "proportional to the number of mRNA molecules). Simulate this system as above. What difference do you see in protein level? Comment on the effect of protein degradation rates on noise."
   ]
  },
  {
   "cell_type": "markdown",
   "metadata": {},
   "source": [
    "# Problem 2: Negative Autoregulation Reduces Noise\n",
    "\n",
    "It has been shown that negative autoregulation reduces stochastic cell-cell variability (\"noise\") in gene expression. Read [the paper](https://www.nature.com/articles/35014651) published by Becskei and Serrano in Nature, 2000. In this problem, we use the concepts from that paper and our stochastic simulation tools to demonstrate this using simple models.\n",
    "\n",
    "(BFS Problem 4.2) Compare a simple model of negative autoregulation to one without autoregulation: \n",
    "\n",
    "$\\frac{dX}{dt} = k_0 − dX$\n",
    "\n",
    "\n",
    "and \n",
    "\n",
    "$\\frac{dX}{dt} = k \\frac{K}{K + X} − dX$\n",
    "\n",
    "\n",
    "(a) Assume that the basal transcription rates $k$ and $k_0$ vary between cells, following a Gaussian distribution with $\\frac{\\sigma}{\\mu} = 0.1$. Simulate time courses of both models for 100 different “cells” using the following parameters: $k = 2$, $k_0 = 1$, $d = 1$, $K = 1$. Plot the nonregulated and autoregulated systems in two separate plots. Comment on the variation you see in the time courses.\n",
    "\n",
    "(b) Calculate the deterministic steady state for both models above. How does variation in the basal transcription rate $k$ or $k_0$ enter into the steady state? Relate it to what you see in part (a)."
   ]
  },
  {
   "cell_type": "markdown",
   "metadata": {},
   "source": [
    "# Feedback:\n",
    "\n",
    "Please submit the feedback form on Gradescope (if you haven't yet) and write here the number of hours you needed to finish this problem set."
   ]
  }
 ],
 "metadata": {
  "kernelspec": {
   "display_name": "Python 3",
   "language": "python",
   "name": "python3"
  },
  "language_info": {
   "codemirror_mode": {
    "name": "ipython",
    "version": 3
   },
   "file_extension": ".py",
   "mimetype": "text/x-python",
   "name": "python",
   "nbconvert_exporter": "python",
   "pygments_lexer": "ipython3",
   "version": "3.7.3"
  }
 },
 "nbformat": 4,
 "nbformat_minor": 2
}
