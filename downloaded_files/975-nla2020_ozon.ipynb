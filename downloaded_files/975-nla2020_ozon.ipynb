{
 "cells": [
  {
   "cell_type": "code",
   "execution_count": 1,
   "metadata": {
    "slideshow": {
     "slide_type": "skip"
    }
   },
   "outputs": [
    {
     "data": {
      "text/plain": [
       "{'theme': 'sky',\n",
       " 'transition': 'zoom',\n",
       " 'start_slideshow_at': 'selected',\n",
       " 'scroll': True}"
      ]
     },
     "execution_count": 1,
     "metadata": {},
     "output_type": "execute_result"
    }
   ],
   "source": [
    "from traitlets.config.manager import BaseJSONConfigManager\n",
    "#path = \"/home/damian/miniconda3/envs/rise_latest/etc/jupyter/nbconfig\"\n",
    "cm = BaseJSONConfigManager()\n",
    "cm.update('livereveal', {\n",
    "              'theme': 'sky',\n",
    "              'transition': 'zoom',\n",
    "              'start_slideshow_at': 'selected',\n",
    "              'scroll': True\n",
    "})"
   ]
  },
  {
   "cell_type": "markdown",
   "metadata": {
    "slideshow": {
     "slide_type": "slide"
    }
   },
   "source": [
    "# Вычислительная линейная алгебра, OZON Masters,  осень 2020"
   ]
  },
  {
   "cell_type": "markdown",
   "metadata": {
    "slideshow": {
     "slide_type": "slide"
    }
   },
   "source": [
    "## Доступ к материалам лекций\n",
    "\n",
    "Слайды доступны на [GitHub](https://github.com/amkatrutsa/nla2020_ozon)\n",
    "\n",
    "Также их можно посмотреть через [Nbviewer](http://nbviewer.jupyter.org/github/amkatrutsa/nla2020_ozon/tree/master/)"
   ]
  },
  {
   "cell_type": "markdown",
   "metadata": {
    "slideshow": {
     "slide_type": "slide"
    }
   },
   "source": [
    "## Кто будет вести курс\n",
    "\n",
    "Лектор: Иван Валерьевич Оселедец\n",
    "\n",
    "Семинарист: Александр Катруца"
   ]
  },
  {
   "cell_type": "markdown",
   "metadata": {
    "slideshow": {
     "slide_type": "slide"
    }
   },
   "source": [
    "## Домашние задания\n",
    "\n",
    "1. Два домашних задания\n",
    "    - первое про задачи и методы для плотных матриц небольшой размерности.\n",
    "    - второе про задачи и методы для разреженных и структурированных матриц большой и очень большой размерности.\n",
    "\n",
    "2. В домашних заданиях будут как задачи на программирование, так и теоретические задачи на доказательства."
   ]
  },
  {
   "cell_type": "markdown",
   "metadata": {
    "slideshow": {
     "slide_type": "slide"
    }
   },
   "source": [
    "## Правила выполнения домашних заданий\n",
    "\n",
    "1. Строгие дедлайны. Если вы не успели отправить решение, то получаете 0 баллов за задание.\n",
    "2. Дедлайны объявляются вместе с выкладыванием домашнего задания.\n",
    "3. Если в решениях будет обнаружен плагиат (copy-paste решения), баллы будут делиться на количество копий."
   ]
  },
  {
   "cell_type": "markdown",
   "metadata": {
    "slideshow": {
     "slide_type": "slide"
    }
   },
   "source": [
    "## Финальный тест\n",
    "\n",
    "- В конце курса – финальный тест, где будут простые задачи на вычисление и теоретические задачи на доказательста. \n",
    "- Никакими материалами при написании пользоваться нельзя"
   ]
  },
  {
   "cell_type": "markdown",
   "metadata": {
    "slideshow": {
     "slide_type": "slide"
    }
   },
   "source": [
    "## Оценки\n",
    "\n",
    "- 10-балльная система\n",
    "- Оценка ставится как $\\lceil score \\; / \\; 10 \\rceil$, где $score$ – это процент успешно выполненных активностей за курс\n",
    "- Например, если ваши баллы составляют 57\\% от максимума, то ваша оценка равна $\\lceil 57 / 10\\rceil = 6$"
   ]
  },
  {
   "cell_type": "markdown",
   "metadata": {
    "slideshow": {
     "slide_type": "slide"
    }
   },
   "source": [
    "## Описание курса\n",
    "\n",
    "- Вычислительная линейная алгебра является основным инструментов для эффективного решения прикладных задач в различных областях науки\n",
    "- Матричные разложения являются ключевым подходом к решению многих задач\n",
    "- Для задач малой и большой размерности необходимы различные методы решения"
   ]
  },
  {
   "cell_type": "markdown",
   "metadata": {
    "slideshow": {
     "slide_type": "slide"
    }
   },
   "source": [
    "## Что вы будете знать и уметь после успешного прохождения курса\n",
    "\n",
    "-  Решать задачи вычислительной линейной алгебры небольшой размерности (решение линейных систем, вычисление собственный векторов/значений, решение злинейной задачи наименьших квадратов), используя **матричные разложения**\n",
    "- Применять **итерационные методы** для решения линейных систем с разреженными/структурированными матрицами\n",
    "- Определять подходящий метод для решения конкретной задачи вычислительной линейной алгебры\n",
    "- Находить необходимые пакеты для решения определённых задач"
   ]
  },
  {
   "cell_type": "markdown",
   "metadata": {
    "slideshow": {
     "slide_type": "slide"
    }
   },
   "source": [
    "## Python 3\n",
    "\n",
    "- На лекциях и семинарах будет использовать Python >= 3.6.\n",
    "- Задачи на программирование в домашних заданиях также необходимо выполнять, используя подходящую версию Python\n",
    "- Рекомендуем установить дистрибутив [Anaconda](https://docs.anaconda.com/anaconda/install/)"
   ]
  },
  {
   "cell_type": "markdown",
   "metadata": {
    "slideshow": {
     "slide_type": "slide"
    }
   },
   "source": [
    "## Приблизительный план на семестр\n",
    "\n",
    "- Арифметика чисел с плавающей точкой, матрицы, векторы, нормы\n",
    "- Матричные разложения 1: SVD и приложения\n",
    "- Матричные разложения 2: линейные системы и LU разложение, разложение по собственным векторам\n",
    "- Матричные разложения 3: QR разложение и разложение по Шуру\n",
    "- Разреженные и структурированные матрицы \n",
    "- Итерационные методы\n",
    "- Матричные функции\n",
    "- Тензорные разложения\n",
    "- Финальный тест и защита проектов"
   ]
  },
  {
   "cell_type": "markdown",
   "metadata": {
    "slideshow": {
     "slide_type": "slide"
    }
   },
   "source": [
    "## Литература и другие источники информации по курсу \n",
    "\n",
    "- Лекции доступны онлайн\n",
    "- Основные матричные разложения и их свойства представлены в [постере](../decompositions.pdf)\n",
    "\n",
    "\n",
    "**Базовый материал по линейной алгебре**\n",
    "- [Краткий обзор](http://cs229.stanford.edu/section/cs229-linalg.pdf) базовых понятий линейной алгебры\n",
    "- Книга \"Introduction to Linear Algebra\" by Gilbert Strang \n",
    "- [Видео](https://www.youtube.com/watch?v=ZK3O402wf1c&list=PL49CF3715CB9EF31D) лекций Gilbert'a Strang'a на YouTube\n",
    "\n",
    "\n",
    "**Основная литература по вычислительной линейной алгебре:**\n",
    "- Gene H. Golub, Charles. F. Van Loan, \"Matrix computations\" (4th edition)\n",
    "- Lloyd N. Trefethen and David Bau III, \"Numerical Linear Algebra\"\n",
    "- Eugene. E. Tyrtyshnikov, \"Brief introduction to numerical analysis\"\n",
    "- James W. Demmel, \"Numerical Linear Algebra\"\n",
    "\n",
    "Различные приложения линейной алгебры можно найти в книге \"[Introduction to\n",
    "Applied Linear Algebra](http://vmls-book.stanford.edu/vmls.pdf)\" by S. Boyd and L. Vandenberghe"
   ]
  },
  {
   "cell_type": "markdown",
   "metadata": {
    "slideshow": {
     "slide_type": "slide"
    }
   },
   "source": [
    "## Переходим к первой лекции...."
   ]
  },
  {
   "cell_type": "code",
   "execution_count": 2,
   "metadata": {
    "ExecuteTime": {
     "end_time": "2017-10-29T07:07:42.079650Z",
     "start_time": "2017-10-29T07:07:42.051649Z"
    },
    "slideshow": {
     "slide_type": "skip"
    }
   },
   "outputs": [
    {
     "data": {
      "text/html": [
       "<link href='http://fonts.googleapis.com/css?family=Fenix' rel='stylesheet' type='text/css'>\n",
       "<link href='http://fonts.googleapis.com/css?family=Alegreya+Sans:100,300,400,500,700,800,900,100italic,300italic,400italic,500italic,700italic,800italic,900italic' rel='stylesheet' type='text/css'>\n",
       "<link href='http://fonts.googleapis.com/css?family=Source+Code+Pro:300,400' rel='stylesheet' type='text/css'>\n",
       "<style>\n",
       "    @font-face {\n",
       "        font-family: \"Computer Modern\";\n",
       "        src: url('http://mirrors.ctan.org/fonts/cm-unicode/fonts/otf/cmunss.otf');\n",
       "    }\n",
       "    div.cell{\n",
       "        /*width:80%;*/\n",
       "        /*margin-left:auto !important;\n",
       "        margin-right:auto;*/\n",
       "    }\n",
       "    h1 {\n",
       "        font-family: 'Alegreya Sans', sans-serif;\n",
       "    }\n",
       "    h2 {\n",
       "        font-family: 'Fenix', serif;\n",
       "    }\n",
       "    h3{\n",
       "\t\tfont-family: 'Fenix', serif;\n",
       "        margin-top:12px;\n",
       "        margin-bottom: 3px;\n",
       "       }\n",
       "\th4{\n",
       "\t\tfont-family: 'Fenix', serif;\n",
       "       }\n",
       "    h5 {\n",
       "        font-family: 'Alegreya Sans', sans-serif;\n",
       "    }\t   \n",
       "    div.text_cell_render{\n",
       "        font-family: 'Alegreya Sans',Computer Modern, \"Helvetica Neue\", Arial, Helvetica, Geneva, sans-serif;\n",
       "        line-height: 1.2;\n",
       "        font-size: 120%;\n",
       "        /*width:70%;*/\n",
       "        /*margin-left:auto;*/\n",
       "        margin-right:auto;\n",
       "    }\n",
       "    .CodeMirror{\n",
       "            font-family: \"Source Code Pro\";\n",
       "\t\t\tfont-size: 90%;\n",
       "    }\n",
       "/*    .prompt{\n",
       "        display: None;\n",
       "    }*/\n",
       "    .text_cell_render h1 {\n",
       "        font-weight: 200;\n",
       "        font-size: 50pt;\n",
       "\t\tline-height: 110%;\n",
       "        color:#CD2305;\n",
       "        margin-bottom: 0.5em;\n",
       "        margin-top: 0.5em;\n",
       "        display: block;\n",
       "    }\t\n",
       "    .text_cell_render h5 {\n",
       "        font-weight: 300;\n",
       "        font-size: 16pt;\n",
       "        color: #CD2305;\n",
       "        font-style: italic;\n",
       "        margin-bottom: .5em;\n",
       "        margin-top: 0.5em;\n",
       "        display: block;\n",
       "    }\n",
       "    \n",
       "    li {\n",
       "        line-height: 110%;\n",
       "    }\n",
       "    .warning{\n",
       "        color: rgb( 240, 20, 20 )\n",
       "        }  \n",
       "\n",
       "</style>\n",
       "\n",
       "<script>\n",
       "    MathJax.Hub.Config({\n",
       "                        TeX: {\n",
       "                           extensions: [\"AMSmath.js\"]\n",
       "                           },\n",
       "                tex2jax: {\n",
       "                    inlineMath: [ ['$','$'], [\"\\\\(\",\"\\\\)\"] ],\n",
       "                    displayMath: [ ['$$','$$'], [\"\\\\[\",\"\\\\]\"] ]\n",
       "                },\n",
       "                displayAlign: 'center', // Change this to 'center' to center equations.\n",
       "                \"HTML-CSS\": {\n",
       "                    styles: {'.MathJax_Display': {\"margin\": 4}}\n",
       "                }\n",
       "        });\n",
       "</script>\n"
      ],
      "text/plain": [
       "<IPython.core.display.HTML object>"
      ]
     },
     "execution_count": 2,
     "metadata": {},
     "output_type": "execute_result"
    }
   ],
   "source": [
    "from IPython.core.display import HTML\n",
    "def css_styling():\n",
    "    styles = open(\"./styles/custom.css\", \"r\").read()\n",
    "    return HTML(styles)\n",
    "css_styling()"
   ]
  }
 ],
 "metadata": {
  "anaconda-cloud": {},
  "celltoolbar": "Slideshow",
  "kernelspec": {
   "display_name": "Python 3",
   "language": "python",
   "name": "python3"
  },
  "language_info": {
   "codemirror_mode": {
    "name": "ipython",
    "version": 3
   },
   "file_extension": ".py",
   "mimetype": "text/x-python",
   "name": "python",
   "nbconvert_exporter": "python",
   "pygments_lexer": "ipython3",
   "version": "3.7.7"
  },
  "latex_envs": {
   "LaTeX_envs_menu_present": true,
   "bibliofile": "biblio.bib",
   "cite_by": "apalike",
   "current_citInitial": 1,
   "eqLabelWithNumbers": true,
   "eqNumInitial": 1,
   "labels_anchors": false,
   "latex_user_defs": false,
   "report_style_numbering": false,
   "user_envs_cfg": false
  },
  "nav_menu": {},
  "toc": {
   "navigate_menu": true,
   "number_sections": false,
   "sideBar": true,
   "threshold": 6,
   "toc_cell": false,
   "toc_section_display": "block",
   "toc_window_display": false
  }
 },
 "nbformat": 4,
 "nbformat_minor": 1
}
