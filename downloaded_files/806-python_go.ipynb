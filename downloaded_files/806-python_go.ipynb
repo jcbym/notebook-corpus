{
 "cells": [
  {
   "cell_type": "markdown",
   "metadata": {},
   "source": [
    "# Removing Intervals \n",
    "\n",
    "Given a collection of intervals, find the minimum number of intervals you need to remove to make the rest of the intervals non-overlapping. Intervals can \"touch\", such as $[0, 1]$ and $[1, 2],$ but they won't be considered overlapping.\n",
    "\n",
    "For example, given the intervals $(7, 9), (2, 4), (5, 8)$, return 1 as the last interval can be removed and the first two won't overlap. The intervals are not necessarily sorted in any order.\n",
    "\n",
    "\n",
    "## Useful reminder for .sort() or sorted()\n",
    "> both list.sort() and sorted() added a key parameter to specify a function to be called on each list element prior to making comparisons. The value of the key parameter should be a function that takes a single argument and returns a key to use for sorting purposes. This technique is fast because the key function is called exactly once for each input record.\n",
    "\n",
    "## Greedy Solution\n",
    "Once the collection is sorted, then you know you have to actually remove all the overlaps. This would not work if the collection was not sorted! \n",
    "\n",
    "The key is that when you sort based on the second value (the ending values), you KNOW that the next (start, end) pair is such that if the start value of that pair is less than the current_end then you know there's an overlap. Because the \"end\" value here we know is greater than the current_end (because we sorted them based on that!).  "
   ]
  },
  {
   "cell_type": "code",
   "execution_count": 9,
   "metadata": {},
   "outputs": [],
   "source": [
    "test_intervals = [[7,9],[2,4],[5,8],[10,15]]\n",
    "\n",
    "from math import inf"
   ]
  },
  {
   "cell_type": "code",
   "execution_count": 21,
   "metadata": {},
   "outputs": [],
   "source": [
    "def find_overlap(collection):\n",
    "    \n",
    "    current_end = -inf\n",
    "    overlapping = 0 \n",
    "    \n",
    "    # first we need to sort this based on the 2nd value \n",
    "    collection.sort(key = lambda i: i[1])\n",
    "    \n",
    "    # you can for loop through two indices with a for loop... \n",
    "    for start, end in collection: \n",
    "        if start >= current_end: \n",
    "            current_end = end\n",
    "        else: \n",
    "            overlapping += 1\n",
    "    \n",
    "    return overlapping"
   ]
  },
  {
   "cell_type": "code",
   "execution_count": 22,
   "metadata": {
    "scrolled": true
   },
   "outputs": [
    {
     "name": "stdout",
     "output_type": "stream",
     "text": [
      "2 4\n",
      "5 8\n",
      "7 9\n",
      "10 15\n"
     ]
    }
   ],
   "source": [
    "for start, end in test_intervals: \n",
    "    print(start, end) "
   ]
  },
  {
   "cell_type": "code",
   "execution_count": 23,
   "metadata": {},
   "outputs": [
    {
     "name": "stdout",
     "output_type": "stream",
     "text": [
      "[[2, 4], [5, 8], [7, 9], [10, 15]]\n"
     ]
    }
   ],
   "source": [
    "test_intervals.sort(key = lambda i: i[1]) # lambda arguments: expression\n",
    "print(test_intervals)"
   ]
  },
  {
   "cell_type": "code",
   "execution_count": 24,
   "metadata": {},
   "outputs": [
    {
     "data": {
      "text/plain": [
       "1"
      ]
     },
     "execution_count": 24,
     "metadata": {},
     "output_type": "execute_result"
    }
   ],
   "source": [
    "find_overlap(test_intervals) "
   ]
  },
  {
   "cell_type": "code",
   "execution_count": 20,
   "metadata": {},
   "outputs": [
    {
     "name": "stdout",
     "output_type": "stream",
     "text": [
      "[2, 4]\n",
      "[5, 8]\n",
      "[7, 9]\n",
      "[10, 15]\n"
     ]
    }
   ],
   "source": [
    "# good to play around with this..\n",
    "for start, end in test_intervals: \n",
    "    print([start, end])"
   ]
  },
  {
   "cell_type": "markdown",
   "metadata": {},
   "source": [
    "## Practice... \n",
    "\n",
    "Two key ideas to remember.\n",
    "- lambda arguments: expression\n",
    "- key = lambda i: i[1] \n",
    "- .sort(key = lambda i: i[1]) \n",
    "- and then what you need to remember is that you can go through a for loop with ... for start, end in collection if collection is a list of pairs. **Remember that you can put two indices into the for index1, index2 in list format!**"
   ]
  },
  {
   "cell_type": "code",
   "execution_count": 25,
   "metadata": {},
   "outputs": [],
   "source": [
    "def overlapper(collection): \n",
    "    \n",
    "    current_end = -inf\n",
    "    overlap_found = 0\n",
    "    \n",
    "    # sort the collection based on the right most value \n",
    "    collection.sort(key = lambda i: i[1]) \n",
    "    \n",
    "    for start, end in collection: \n",
    "        if start > current_end: \n",
    "            current_end = end \n",
    "        else: \n",
    "            overlap_found += 1\n",
    "        \n",
    "    return overlap_found\n",
    "    "
   ]
  },
  {
   "cell_type": "code",
   "execution_count": 26,
   "metadata": {},
   "outputs": [
    {
     "data": {
      "text/plain": [
       "1"
      ]
     },
     "execution_count": 26,
     "metadata": {},
     "output_type": "execute_result"
    }
   ],
   "source": [
    "overlapper(test_intervals)"
   ]
  },
  {
   "cell_type": "code",
   "execution_count": null,
   "metadata": {},
   "outputs": [],
   "source": []
  }
 ],
 "metadata": {
  "kernelspec": {
   "display_name": "Python 3",
   "language": "python",
   "name": "python3"
  },
  "language_info": {
   "codemirror_mode": {
    "name": "ipython",
    "version": 3
   },
   "file_extension": ".py",
   "mimetype": "text/x-python",
   "name": "python",
   "nbconvert_exporter": "python",
   "pygments_lexer": "ipython3",
   "version": "3.6.2"
  }
 },
 "nbformat": 4,
 "nbformat_minor": 2
}
