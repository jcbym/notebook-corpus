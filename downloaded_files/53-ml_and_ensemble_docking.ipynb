{
 "cells": [
  {
   "cell_type": "markdown",
   "id": "fb03591f-7882-4db5-b76c-11b2923d6abe",
   "metadata": {},
   "source": [
    "# Model crystalographic structures using Modeller\n",
    "\n",
    "- This notebook aimed to model missing loops inside the PDB structures of the target protein."
   ]
  },
  {
   "cell_type": "code",
   "execution_count": 1,
   "id": "7b614380",
   "metadata": {},
   "outputs": [],
   "source": [
    "from pathlib import Path\n",
    "from glob import glob\n",
    "from prody import parsePDB\n",
    "import sys\n",
    "sys.path.append('../..')\n",
    "from helper_modules.run_modeller import *\n",
    "from helper_modules.get_pdb_ids_from_uniport import *"
   ]
  },
  {
   "cell_type": "markdown",
   "id": "1daf0df1-cbe9-47fd-b67c-f0c72f0e0700",
   "metadata": {},
   "source": [
    "### Inputs\n",
    "- Define some basic properties of the target protein."
   ]
  },
  {
   "cell_type": "code",
   "execution_count": 2,
   "id": "a05fe047",
   "metadata": {},
   "outputs": [],
   "source": [
    "prot_name  = 'cdk2'\n",
    "uniprot_id = 'P24941'"
   ]
  },
  {
   "cell_type": "code",
   "execution_count": 3,
   "id": "c1a509ed",
   "metadata": {},
   "outputs": [
    {
     "name": "stdout",
     "output_type": "stream",
     "text": [
      "MENFQKVEKIGEGTYGVVYKARNKLTGEVVALKKIRLDTETEGVPSTAIREISLLKELNHPNIVKLLDVIHTENKLYLVFEFLHQDLKKFMDASALTGIPLPLIKSYLFQLLQGLAFCHSHRVLHRDLKPQNLLINTEGAIKLADFGLARAFGVPVRTYTHEVVTLWYRAPEILLGCKYYSTAVDIWSLGCIFAEMVTRRALFPGDSEIDQLFRIFRTLGTPDEVVWPGVTSMPDYKPSFPKWARQDFSKVVPPLDEDGRSLLSQMLHYDPNKRISAKAALAHPFFQDVTKPVPHLRL\n",
      "\n",
      "There are 298 residues.\n"
     ]
    }
   ],
   "source": [
    "seq_prot = get_seq_from_uniprot(uniprot_id)\n",
    "print(seq_prot)\n",
    "print(f'\\nThere are {len(seq_prot)} residues.')"
   ]
  },
  {
   "cell_type": "markdown",
   "id": "b01c972d-fdb7-440b-b85b-2649800e42f6",
   "metadata": {},
   "source": [
    "## Start the Modelling process\n",
    "### Define the input and output directories"
   ]
  },
  {
   "cell_type": "code",
   "execution_count": 4,
   "id": "16d0bc5a",
   "metadata": {},
   "outputs": [],
   "source": [
    "OUT_MAIN   = './pdb_structures'\n",
    "\n",
    "# Get the list of input files\n",
    "INPUT_DIR = f'{OUT_MAIN}/pdb_chains'\n",
    "input_files = sorted(glob(f'{INPUT_DIR}/*pdb'))\n",
    "\n",
    "# Define the output directory\n",
    "OUTPUT_DIR = f'{OUT_MAIN}/pdb_modeled'\n",
    "Path(OUTPUT_DIR).mkdir(parents = True, exist_ok = True)"
   ]
  },
  {
   "cell_type": "code",
   "execution_count": null,
   "id": "4f08b9c4",
   "metadata": {},
   "outputs": [
    {
     "name": "stdout",
     "output_type": "stream",
     "text": [
      "['MET' 'MET' 'MET' ... 'LEU' 'LEU' 'LEU']\n",
      "./pdb_structures/pdb_chains/1aq1_A.pdb\n",
      "MENFQKVEKIGEGTYGVVYKARNKLTGEVVALKKIVPSTAIREISLLKELNHPNIVKLLDVIHTENKLYLVFEFLHQDLKKFMDASALTGIPLPLIKSYLFQLLQGLAFCHSHRVLHRDLKPQNLLINTEGAIKLADFGLEVVTLWYRAPEILLGCKYYSTAVDIWSLGCIFAEMVTRRALFPGDSEIDQLFRIFRTLGTPDEVVWPGVTSMPDYKPSFPKWARQDFSKVVPPLDEDGRSLLSQMLHYDPNKRISAKAALAHPFFQDVTKPVPHLRL\n",
      "\n",
      "                         MODELLER 10.1, 2021/03/12, r12156\n",
      "\n",
      "     PROTEIN STRUCTURE MODELLING BY SATISFACTION OF SPATIAL RESTRAINTS\n",
      "\n",
      "\n",
      "                     Copyright(c) 1989-2021 Andrej Sali\n",
      "                            All Rights Reserved\n",
      "\n",
      "                             Written by A. Sali\n",
      "                               with help from\n",
      "              B. Webb, M.S. Madhusudhan, M-Y. Shen, G.Q. Dong,\n",
      "          M.A. Marti-Renom, N. Eswar, F. Alber, M. Topf, B. Oliva,\n",
      "             A. Fiser, R. Sanchez, B. Yerkovich, A. Badretdinov,\n",
      "                     F. Melo, J.P. Overington, E. Feyfant\n",
      "                 University of California, San Francisco, USA\n",
      "                    Rockefeller University, New York, USA\n",
      "                      Harvard University, Cambridge, USA\n",
      "                   Imperial Cancer Research Fund, London, UK\n",
      "              Birkbeck College, University of London, London, UK\n",
      "\n",
      "\n",
      "Kind, OS, HostName, Kernel, Processor: 4, Darwin MacBook-Pro-de-Joel.local 19.6.0 x86_64\n",
      "Date and time of compilation         : 2021/03/11 16:15:42\n",
      "MODELLER executable type             : mac10v4-intel64\n",
      "Job starting time (YY/MM/DD HH:MM:SS): 2021/04/27 11:37:20\n",
      "\n",
      "\n",
      "check_ali___> Checking the sequence-structure alignment. \n",
      "\n",
      "Implied intrachain target CA(i)-CA(i+1) distances longer than  8.0 angstroms:\n",
      "\n",
      "ALN_POS  TMPL  RID1  RID2  NAM1  NAM2     DIST\n",
      "----------------------------------------------\n",
      "END OF TABLE\n",
      "read_to_681_> topology.submodel read from topology file:        3\n",
      "mdtrsr__446W> A potential that relies on one protein is used, yet you have at\n",
      "              least one known structure available. MDT, not library, potential is used.\n",
      "0 atoms in HETATM/BLK residues constrained\n",
      "to protein atoms within 2.30 angstroms\n",
      "and protein CA atoms within 10.00 angstroms\n",
      "0 atoms in residues without defined topology\n",
      "constrained to be rigid bodies\n",
      "condens_443_> Restraints marked for deletion were removed.\n",
      "              Total number of restraints before, now:    30048    27859\n",
      "226 (of 2398 total) atoms selected for optimization\n"
     ]
    }
   ],
   "source": [
    "# Model all molecules\n",
    "for pdb_file in input_files:\n",
    "    # Load the pdb file\n",
    "    pdb_chain = parsePDB(pdb_file)\n",
    "    \n",
    "    # Run modeller\n",
    "    run_modeller(\n",
    "                 pdb_file = pdb_file, \n",
    "                 seq_prot = seq_prot, \n",
    "                 output_dir = OUTPUT_DIR, \n",
    "                 keep_original_resnum = True,\n",
    "                 num_res_window = 2, \n",
    "                 max_var_iterations = 500, \n",
    "                 repeat_optimization = 2,\n",
    "                 chid = 'A',\n",
    "                 verbose = False\n",
    "                )"
   ]
  },
  {
   "cell_type": "markdown",
   "id": "e4071ff3-56db-4319-9896-4454df674db3",
   "metadata": {},
   "source": [
    "Finished!"
   ]
  }
 ],
 "metadata": {
  "kernelspec": {
   "display_name": "Python 3",
   "language": "python",
   "name": "python3"
  },
  "language_info": {
   "codemirror_mode": {
    "name": "ipython",
    "version": 3
   },
   "file_extension": ".py",
   "mimetype": "text/x-python",
   "name": "python",
   "nbconvert_exporter": "python",
   "pygments_lexer": "ipython3",
   "version": "3.7.9"
  },
  "toc": {
   "base_numbering": 1,
   "nav_menu": {},
   "number_sections": true,
   "sideBar": true,
   "skip_h1_title": false,
   "title_cell": "Table of Contents",
   "title_sidebar": "Contents",
   "toc_cell": false,
   "toc_position": {},
   "toc_section_display": true,
   "toc_window_display": true
  }
 },
 "nbformat": 4,
 "nbformat_minor": 5
}
