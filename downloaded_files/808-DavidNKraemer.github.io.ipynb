{
 "cells": [
  {
   "cell_type": "code",
   "execution_count": 1,
   "metadata": {},
   "outputs": [],
   "source": [
    "import numpy as np\n",
    "import matplotlib.pyplot as plt\n",
    "import seaborn as sns"
   ]
  },
  {
   "cell_type": "code",
   "execution_count": 2,
   "metadata": {},
   "outputs": [],
   "source": [
    "%matplotlib inline"
   ]
  },
  {
   "cell_type": "code",
   "execution_count": 3,
   "metadata": {},
   "outputs": [],
   "source": [
    "def f(x):\n",
    "    # standard Normal density function\n",
    "    return np.exp(-x*x) / np.sqrt(2 * np.pi)\n",
    "vf = np.vectorize(f)"
   ]
  },
  {
   "cell_type": "code",
   "execution_count": 4,
   "metadata": {},
   "outputs": [
    {
     "name": "stdout",
     "output_type": "stream",
     "text": [
      "75\n"
     ]
    },
    {
     "data": {
      "image/png": "[encoded data removed]",
      "text/plain": [
       "<matplotlib.figure.Figure at 0x7ff687596a58>"
      ]
     },
     "metadata": {},
     "output_type": "display_data"
    }
   ],
   "source": [
    "x = np.linspace(-3,3,301)\n",
    "y = vf(x)\n",
    "a = 1.5\n",
    "off = np.where(x==-a)[0][0]\n",
    "print(off)\n",
    "z = np.zeros(301)\n",
    "\n",
    "fig, ax = plt.subplots(1,1)\n",
    "ax.spines['left'].set_position('center')\n",
    "\n",
    "# Eliminate upper and right axes\n",
    "ax.spines['right'].set_color('none')\n",
    "ax.spines['top'].set_color('none')\n",
    "\n",
    "# Show ticks in the left and lower axes only\n",
    "ax.xaxis.set_ticks_position('bottom')\n",
    "ax.yaxis.set_ticks_position('left')\n",
    "ax.tick_params(axis='x',labelbottom='off')\n",
    "ax.tick_params(axis='y',labelleft='off')\n",
    "\n",
    "ax.plot(x,y, 'k');\n",
    "ax.axvline(a,linestyle='--',color='#999999')\n",
    "ax.axvline(-a,linestyle='--',color='#999999')\n",
    "ax.fill_between(x[:off],y[:off],z[:off],color='#ddddff')\n",
    "ax.fill_between(x[off:-off],y[off:-off],z[off:-off],color='#ffffdd')\n",
    "ax.fill_between(x[-off:],y[-off:],z[-off:],color='#ddddff');"
   ]
  }
 ],
 "metadata": {
  "kernelspec": {
   "display_name": "Python 3",
   "language": "python",
   "name": "python3"
  },
  "language_info": {
   "codemirror_mode": {
    "name": "ipython",
    "version": 3
   },
   "file_extension": ".py",
   "mimetype": "text/x-python",
   "name": "python",
   "nbconvert_exporter": "python",
   "pygments_lexer": "ipython3",
   "version": "3.6.3"
  }
 },
 "nbformat": 4,
 "nbformat_minor": 2
}
