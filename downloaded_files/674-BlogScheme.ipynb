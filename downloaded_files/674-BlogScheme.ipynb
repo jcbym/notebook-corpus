{
 "cells": [
  {
   "cell_type": "markdown",
   "metadata": {},
   "source": [
    "## Scientific Python Cheatsheet\n",
    "\n",
    "[IPGP](https://github.com/IPGP) / [Scientific Python Cheatsheet](https://ipgp.github.io/scientific_python_cheat_sheet/)\n",
    "\n",
    "### NumPy\n"
   ]
  },
  {
   "cell_type": "markdown",
   "metadata": {
    "collapsed": false
   },
   "source": [
    "```py\n",
    "# array initialization\n",
    "np.array([2, 3, 4])             # direct initialization\n",
    "np.empty(20, dtype=np.float32)  # single precision array with 20 entries\n",
    "np.zeros(200)                   # initialize 200 zeros\n",
    "np.ones((3,3), dtype=np.int32)  # 3 x 3 integer matrix with ones\n",
    "np.eye(200)                     # ones on the diagonal\n",
    "np.zeros_like(a)                # returns array with zeros and the shape of a\n",
    "np.linspace(0., 10., 100)       # 100 points from 0 to 10\n",
    "np.arange(0, 100, 2)            # points from 0 to <100 with step width 2\n",
    "np.logspace(-5, 2, 100)         # 100 log-spaced points between 1e-5 and 1e2\n",
    "np.copy(a)                      # copy array to new memory\n",
    "```"
   ]
  },
  {
   "cell_type": "markdown",
   "metadata": {},
   "source": [
    "```py\n",
    "# array properties and operations\n",
    "a.shape                # a tuple with the lengths of each axis\n",
    "len(a)                 # length of axis 0\n",
    "a.ndim                 # number of dimensions (axes)\n",
    "a.sort(axis=1)         # sort array along axis\n",
    "a.flatten()            # collapse array to one dimension\n",
    "a.conj()               # return complex conjugate\n",
    "a.astype(np.int16)     # cast to integer\n",
    "np.argmax(a, axis=2)   # return index of maximum along a given axis\n",
    "np.cumsum(a)           # return cumulative sum\n",
    "np.any(a)              # True if any element is True\n",
    "np.all(a)              # True if all elements are True\n",
    "np.argsort(a, axis=1)  # return sorted index array along axis\n",
    "```"
   ]
  }
 ],
 "metadata": {
  "kernelspec": {
   "display_name": "Python 3",
   "language": "python",
   "name": "python3"
  },
  "language_info": {
   "codemirror_mode": {
    "name": "ipython",
    "version": 3
   },
   "file_extension": ".py",
   "mimetype": "text/x-python",
   "name": "python",
   "nbconvert_exporter": "python",
   "pygments_lexer": "ipython3",
   "version": "3.5.1"
  }
 },
 "nbformat": 4,
 "nbformat_minor": 0
}
