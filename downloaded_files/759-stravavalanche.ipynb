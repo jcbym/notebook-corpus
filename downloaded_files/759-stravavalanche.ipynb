{
 "cells": [
  {
   "cell_type": "code",
   "execution_count": 1,
   "metadata": {},
   "outputs": [
    {
     "name": "stderr",
     "output_type": "stream",
     "text": [
      "/Users/renegnew/.pyenv/versions/3.6.9/lib/python3.6/site-packages/pandas/compat/__init__.py:117: UserWarning: Could not import the lzma module. Your installed Python is incomplete. Attempting to use lzma compression will result in a RuntimeError.\n",
      "  warnings.warn(msg)\n"
     ]
    }
   ],
   "source": [
    "import requests\n",
    "import pandas as pd\n",
    "import numpy as np\n",
    "import sys\n",
    "import os\n",
    "import time\n",
    "from stravaio import strava_oauth2\n",
    "from stravaio import StravaIO"
   ]
  },
  {
   "cell_type": "markdown",
   "metadata": {},
   "source": [
    "# Authenticate with the Strava API\n",
    "You must set up your local environment with the following variables:\n",
    "\n",
    "`STRAVA_ACCESS_TOKEN`\n",
    "\n",
    "`STRAVA_CLIENT_ID`\n",
    "\n",
    "`STRAVA_CLIENT_SECRET`\n",
    "\n",
    "These can be found at https://www.strava.com/settings/api\n",
    "\n",
    "(If these environment variables are set, `strava_oauth2` requires no arguments. Alternatively, you may pass the ID and client secret as `strava_oauth2(client_id=[your id], client_secret=[your secret]`.)"
   ]
  },
  {
   "cell_type": "code",
   "execution_count": 3,
   "metadata": {},
   "outputs": [
    {
     "name": "stderr",
     "output_type": "stream",
     "text": [
      "2020-04-24 14:33:26.925 | INFO     | stravaio:strava_oauth2:343 - serving at port 8000\n",
      "2020-04-24 14:33:31.284 | DEBUG    | stravaio:run_server_and_wait_for_token:397 - code: fdd59c33a080dbf093a7d9ff74e9c716f2235c28\n",
      "2020-04-24 14:33:32.249 | DEBUG    | stravaio:run_server_and_wait_for_token:406 - Authorized athlete: b5927fa50ddaf632154142231a4d551fba64e99a\n"
     ]
    }
   ],
   "source": [
    "# Authenticate with Strava; opens a new tab for interactive authentication.\n",
    "client = strava_oauth2()"
   ]
  },
  {
   "cell_type": "code",
   "execution_count": null,
   "metadata": {},
   "outputs": [],
   "source": []
  },
  {
   "cell_type": "code",
   "execution_count": 19,
   "metadata": {},
   "outputs": [],
   "source": [
    "# If the token is stored as an environment varible it is not neccessary\n",
    "# to pass it as an input parameters\n",
    "client = StravaIO(access_token=token)"
   ]
  },
  {
   "cell_type": "markdown",
   "metadata": {},
   "source": [
    "The instantiated `StravaIO` object contains a great deal of metadata about your user. Run `client` in the cell below to take a gander."
   ]
  },
  {
   "cell_type": "code",
   "execution_count": 4,
   "metadata": {},
   "outputs": [
    {
     "data": {
      "text/plain": [
       "{'token_type': 'Bearer',\n",
       " 'expires_at': 1587781821,\n",
       " 'expires_in': 21406,\n",
       " 'refresh_token': '59d0fd0cc0d3b3b452a427e7c8f726c645e204f7',\n",
       " 'access_token': 'b5927fa50ddaf632154142231a4d551fba64e99a',\n",
       " 'athlete': {'id': 55872118,\n",
       "  'username': None,\n",
       "  'resource_state': 2,\n",
       "  'firstname': 'Ren ',\n",
       "  'lastname': 'Egnew',\n",
       "  'city': None,\n",
       "  'state': 'Idaho',\n",
       "  'country': 'United States',\n",
       "  'sex': 'F',\n",
       "  'premium': False,\n",
       "  'summit': False,\n",
       "  'created_at': '2020-04-24T15:26:28Z',\n",
       "  'updated_at': '2020-04-24T15:27:44Z',\n",
       "  'badge_type_id': 0,\n",
       "  'profile_medium': 'avatar/athlete/medium.png',\n",
       "  'profile': 'avatar/athlete/large.png',\n",
       "  'friend': None,\n",
       "  'follower': None}}"
      ]
     },
     "execution_count": 4,
     "metadata": {},
     "output_type": "execute_result"
    }
   ],
   "source": [
    "client"
   ]
  },
  {
   "cell_type": "code",
   "execution_count": null,
   "metadata": {},
   "outputs": [],
   "source": []
  }
 ],
 "metadata": {
  "kernelspec": {
   "display_name": "Python 3",
   "language": "python",
   "name": "python3"
  },
  "language_info": {
   "codemirror_mode": {
    "name": "ipython",
    "version": 3
   },
   "file_extension": ".py",
   "mimetype": "text/x-python",
   "name": "python",
   "nbconvert_exporter": "python",
   "pygments_lexer": "ipython3",
   "version": "3.6.9"
  }
 },
 "nbformat": 4,
 "nbformat_minor": 4
}
