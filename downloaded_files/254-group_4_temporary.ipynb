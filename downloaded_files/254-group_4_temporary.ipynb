import warnings
warnings.filterwarnings("ignore")


import numpy as np
import pandas as pd
from joblib import dump, load
from sklearn.metrics import mean_squared_error
from sklearn.ensemble import RandomForestRegressor
from sklearn.model_selection import train_test_split
import matplotlib.pyplot as plt
plt.style.use('ggplot')
plt.rcParams.update({'font.size': 16, 'axes.labelweight': 'bold', 'figure.figsize': (8,6)})
## add any other additional packages that you need. You are free to use any packages for vizualization.


## Depending on the permissions that you provided to your bucket you might need to provide your aws credentials
## to read from the bucket, if so provide with your credentials and pass as storage_options=aws_credentials
#aws_credentials = {"key": "","secret": "","token":""}
#df = pd.read_csv("../data/ml_data_SYD.csv",index_col=0,parse_dates=True)

df = pd.read_csv("s3://mds-s3-group4/output/ml_data_SYD.csv", index_col=0, parse_dates=True)
df.head()


X = df.dropna().drop(columns=['Observed'])
y = df.dropna()['Observed']


X_train, X_test, y_train, y_test = train_test_split(X, y, test_size=0.2, random_state=123)
print(X_train.shape)
print(y_train.shape)
print(X_test.shape)
print(y_test.shape)


plt.plot(y_train.sort_index())
plt.xlabel("Date")
plt.ylabel("Rainfall (mm/day)")
plt.title("Observed Daily Rainfall (Train)")
plt.show;


plt.hist(y_train,bins=50,density=True)
plt.xlabel("Rainfall (mm/day)")
plt.ylabel("Probability")
plt.title("Observed Daily Rainfall (Train)")
plt.show;


pd.DataFrame(y_train).groupby(y_train.index.month).agg({'Observed':['min','max','mean','median','std']})


regr = RandomForestRegressor(random_state=123)
regr.fit(X_train, y_train)


print(f"Train RMSE: {mean_squared_error(y_train, regr.predict(X_train), squared=False):.2f}")
print(f" Test RMSE: {mean_squared_error(y_test, regr.predict(X_test), squared=False):.2f}")


y_pred = pd.DataFrame(regr.predict(X_train), index=X_train.index)


plt.scatter(y_train, y_pred)
plt.xlabel("Observed")
plt.ylabel("Predicted")
plt.title("Observed vs. Predicted Daily Rainfall")
plt.show;


from collections import defaultdict

model_mse = defaultdict(dict)

for i in X_train.columns:
    model_mse[i]['Train'] = mean_squared_error(y_train, X_train[i], squared=False)
    model_mse[i]['Test'] = mean_squared_error(y_test, X_test[i], squared=False)
    model_mse[i]['Total'] = mean_squared_error(y, X[i], squared=False)

model_mse['RFR_not_tuned']['Train'] = mean_squared_error(y_train, regr.predict(X_train), squared=False)
model_mse['RFR_not_tuned']['Test'] = mean_squared_error(y_test, regr.predict(X_test), squared=False)
model_mse['RFR_not_tuned']['Total'] = mean_squared_error(y, regr.predict(X), squared=False)

pd.DataFrame.from_dict(model_mse, orient='index')


model = RandomForestRegressor(n_estimators=100, max_depth=5, bootstrap=False, random_state=123)
model.fit(X_train, y_train)


print(f"Train RMSE: {mean_squared_error(y_train, model.predict(X_train), squared=False):.2f}")
print(f" Test RMSE: {mean_squared_error(y_test, model.predict(X_test), squared=False):.2f}")


model_mse['RFR_tuned']['Train'] = mean_squared_error(y_train, model.predict(X_train), squared=False)
model_mse['RFR_tuned']['Test'] = mean_squared_error(y_test, model.predict(X_test), squared=False)
model_mse['RFR_tuned']['Total'] = mean_squared_error(y, model.predict(X), squared=False)

pd.DataFrame.from_dict(model_mse, orient='index')


# ready to deploy
dump(model, "model.joblib")
