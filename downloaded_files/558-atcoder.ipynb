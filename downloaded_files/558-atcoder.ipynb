{
 "cells": [
  {
   "cell_type": "code",
   "execution_count": 1,
   "metadata": {},
   "outputs": [
    {
     "data": {
      "text/plain": [
       "65"
      ]
     },
     "execution_count": 1,
     "metadata": {},
     "output_type": "execute_result"
    }
   ],
   "source": [
    "ord('A')"
   ]
  },
  {
   "cell_type": "code",
   "execution_count": 4,
   "metadata": {},
   "outputs": [
    {
     "data": {
      "text/plain": [
       "90"
      ]
     },
     "execution_count": 4,
     "metadata": {},
     "output_type": "execute_result"
    }
   ],
   "source": [
    "ord('Z')"
   ]
  },
  {
   "cell_type": "code",
   "execution_count": 16,
   "metadata": {},
   "outputs": [
    {
     "name": "stdin",
     "output_type": "stream",
     "text": [
      " 13\n",
      " ABCDEFGHIJKLMNOPQRSTUVWXYZ\n"
     ]
    },
    {
     "name": "stdout",
     "output_type": "stream",
     "text": [
      "NOPQRSTUVWXYZABCDEFGHIJKLM\n"
     ]
    }
   ],
   "source": [
    "# 入力を受け取る\n",
    "N=int(input())\n",
    "S=input()\n",
    "\n",
    "# 文字cをN文字ずらすことを考える（Aを基準とした26進数を考える）\n",
    "\n",
    "# Aの文字コードを取得する\n",
    "code_A = ord('A')\n",
    "\n",
    "results = ''\n",
    "\n",
    "for c in S:\n",
    "    # 文字cをn文字シフトした文字コードを求める\n",
    "    # 文字cをn文字シフトした文字コードから(Aで規格化するために)Aの文字コードを減算して26で割った余りを考える\n",
    "    after_n = (ord(c)+N-code_A)%26\n",
    "    \n",
    "    # 結果を文字リストに追加していく\n",
    "    results += chr(code_A+after_n)\n",
    "\n",
    "# 出力する\n",
    "print(results)"
   ]
  },
  {
   "cell_type": "code",
   "execution_count": null,
   "metadata": {},
   "outputs": [],
   "source": []
  }
 ],
 "metadata": {
  "kernelspec": {
   "display_name": "Python 3",
   "language": "python",
   "name": "python3"
  },
  "language_info": {
   "codemirror_mode": {
    "name": "ipython",
    "version": 3
   },
   "file_extension": ".py",
   "mimetype": "text/x-python",
   "name": "python",
   "nbconvert_exporter": "python",
   "pygments_lexer": "ipython3",
   "version": "3.7.0"
  }
 },
 "nbformat": 4,
 "nbformat_minor": 4
}
