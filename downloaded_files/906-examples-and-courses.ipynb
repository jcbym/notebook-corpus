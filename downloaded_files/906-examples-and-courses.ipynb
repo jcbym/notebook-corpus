{
 "cells": [
  {
   "cell_type": "markdown",
   "metadata": {},
   "source": [
    "# Importing Weather Data into Hive\n",
    "\n",
    "Before the whole DataFrame tutorial, we should import weather data into Hive. This way, we'll have some nice data to play with.\n",
    "\n",
    "Since Jupyter Notebooks do not support Hive cells, the instructions are provided here. You can follow these steps inside Hue or on the Hive command line interface.\n",
    "\n",
    "## Creating Training Database\n",
    "\n",
    "If you don't already have a training database, create one\n",
    "\n",
    "    create database training;\n",
    "    \n",
    "## Import Weather Data\n",
    "\n",
    "First we will create an external Hive table, which will receive relevant partitions\n",
    "\n",
    "    create external table training.weather_raw (\n",
    "        data string\n",
    "    )\n",
    "    partitioned by(year string) \n",
    "    stored as textfile;\n",
    "    \n",
    "Now add partitions\n",
    "\n",
    "    alter table training.weather_raw\n",
    "    add partition(year='2014')\n",
    "    location '/user/cloudera/data/weather/2014';\n",
    "    \n",
    "Check that we get some results:\n",
    "\n",
    "    select * from training.weather_raw limit 10\n",
    "    \n",
    "## Create VIEW\n",
    "\n",
    "The data in the raw Hive table is in an ugly format. In order to work with a table in a more accessible format, we create a VIEW which will extract relevant information.\n",
    "\n",
    "    CREATE VIEW training.weather AS\n",
    "    SELECT \n",
    "        year,\n",
    "        SUBSTR(`data`,5,6) AS `usaf`,\n",
    "        SUBSTR(`data`,11,5) AS `wban`, \n",
    "        SUBSTR(`data`,16,8) AS `date`, \n",
    "        SUBSTR(`data`,24,4) AS `time`,\n",
    "        SUBSTR(`data`,42,5) AS report_type,\n",
    "        SUBSTR(`data`,61,3) AS wind_direction, \n",
    "        SUBSTR(`data`,64,1) AS wind_direction_qual, \n",
    "        SUBSTR(`data`,65,1) AS wind_observation, \n",
    "        CAST(SUBSTR(`data`,66,4) AS FLOAT)/10 AS wind_speed,\n",
    "        SUBSTR(`data`,70,1) AS wind_speed_qual,\n",
    "        CAST(SUBSTR(`data`,88,5) AS FLOAT)/10 AS air_temperature, \n",
    "        SUBSTR(`data`,93,1) AS air_temperature_qual \n",
    "    FROM training.weather_raw;\n",
    "    \n",
    "We should also check that the ouput looks nice:\n",
    "\n",
    "    select * from training.weather limit 10\n",
    "    \n",
    "\n",
    "# Import Station Data\n",
    "\n",
    "We also need to import the weather station data. Fortunately this is easier, since the format is already CSV. \n",
    "\n",
    "## Put Data into Directory\n",
    "\n",
    "We will not directly create the table, since we only have a single file. We'll need to put this into a new directory\n",
    "\n",
    "    hdfs dfs -mkdir /user/cloudera/data/weather/isd\n",
    "    hdfs dfs -cp /user/cloudera/data/weather/isd-history.csv /user/cloudera/data/weather/isd\n",
    "\n",
    "## Create VIEW\n",
    "\n",
    "Now we can create the table\n",
    "\n",
    "    CREATE EXTERNAL TABLE training.stations(\n",
    "        usaf STRING,\n",
    "        wban STRING,\n",
    "        name STRING,\n",
    "        country STRING,\n",
    "        state STRING,\n",
    "        icao STRING,\n",
    "        latitude FLOAT,\n",
    "        longitude FLOAT,\n",
    "        elevation FLOAT,\n",
    "        date_begin STRING,\n",
    "        date_end STRING) \n",
    "    ROW FORMAT SERDE 'org.apache.hadoop.hive.serde2.OpenCSVSerde'\n",
    "    WITH SERDEPROPERTIES (\n",
    "       \"separatorChar\" = \",\",\n",
    "       \"quoteChar\"     = \"\\\"\",\n",
    "       \"escapeChar\"    = \"\\\\\"\n",
    "    )\n",
    "    STORED AS TEXTFILE\n",
    "    LOCATION '/user/cloudera/data/weather/isd'\n",
    "    \n",
    "Of course we'll again check contents\n",
    "\n",
    "    select * from training.stations limit 10"
   ]
  },
  {
   "cell_type": "code",
   "execution_count": 1,
   "metadata": {},
   "outputs": [
    {
     "name": "stdout",
     "output_type": "stream",
     "text": [
      "[Row(year=u'2014', usaf=u'010060', wban=u'99999', date=u'20140101', time=u'0100', report_type=u'FM-12', wind_direction=u'240', wind_direction_qual=u'1', wind_observation=u'N', wind_speed=3.0, wind_speed_qual=u'1', air_temperature=-13.6, air_temperature_qual=u'1'), Row(year=u'2014', usaf=u'010060', wban=u'99999', date=u'20140101', time=u'0200', report_type=u'FM-12', wind_direction=u'140', wind_direction_qual=u'1', wind_observation=u'N', wind_speed=2.0, wind_speed_qual=u'1', air_temperature=-14.2, air_temperature_qual=u'1'), Row(year=u'2014', usaf=u'010060', wban=u'99999', date=u'20140101', time=u'0400', report_type=u'FM-12', wind_direction=u'210', wind_direction_qual=u'1', wind_observation=u'N', wind_speed=4.0, wind_speed_qual=u'1', air_temperature=-10.7, air_temperature_qual=u'1'), Row(year=u'2014', usaf=u'010060', wban=u'99999', date=u'20140101', time=u'0500', report_type=u'FM-12', wind_direction=u'170', wind_direction_qual=u'1', wind_observation=u'N', wind_speed=3.0, wind_speed_qual=u'1', air_temperature=-11.2, air_temperature_qual=u'1'), Row(year=u'2014', usaf=u'010060', wban=u'99999', date=u'20140101', time=u'0600', report_type=u'FM-12', wind_direction=u'180', wind_direction_qual=u'1', wind_observation=u'N', wind_speed=5.0, wind_speed_qual=u'1', air_temperature=-10.0, air_temperature_qual=u'1'), Row(year=u'2014', usaf=u'010060', wban=u'99999', date=u'20140101', time=u'0700', report_type=u'FM-12', wind_direction=u'180', wind_direction_qual=u'1', wind_observation=u'N', wind_speed=6.0, wind_speed_qual=u'1', air_temperature=-10.4, air_temperature_qual=u'1'), Row(year=u'2014', usaf=u'010060', wban=u'99999', date=u'20140101', time=u'0800', report_type=u'FM-12', wind_direction=u'200', wind_direction_qual=u'1', wind_observation=u'N', wind_speed=6.0, wind_speed_qual=u'1', air_temperature=-7.9, air_temperature_qual=u'1'), Row(year=u'2014', usaf=u'010060', wban=u'99999', date=u'20140101', time=u'0900', report_type=u'FM-12', wind_direction=u'200', wind_direction_qual=u'1', wind_observation=u'N', wind_speed=6.0, wind_speed_qual=u'1', air_temperature=-7.3, air_temperature_qual=u'1'), Row(year=u'2014', usaf=u'010060', wban=u'99999', date=u'20140101', time=u'1000', report_type=u'FM-12', wind_direction=u'240', wind_direction_qual=u'1', wind_observation=u'N', wind_speed=7.0, wind_speed_qual=u'1', air_temperature=-4.8, air_temperature_qual=u'1'), Row(year=u'2014', usaf=u'010060', wban=u'99999', date=u'20140101', time=u'1100', report_type=u'FM-12', wind_direction=u'180', wind_direction_qual=u'1', wind_observation=u'N', wind_speed=5.0, wind_speed_qual=u'1', air_temperature=-6.5, air_temperature_qual=u'1')]\n"
     ]
    }
   ],
   "source": [
    "print sqlContext.table(\"training.weather\").take(10)"
   ]
  },
  {
   "cell_type": "code",
   "execution_count": null,
   "metadata": {},
   "outputs": [],
   "source": [
    ""
   ]
  }
 ],
 "metadata": {
  "kernelspec": {
   "display_name": "Python 2",
   "language": "python",
   "name": "python2"
  },
  "language_info": {
   "codemirror_mode": {
    "name": "ipython",
    "version": 2.0
   },
   "file_extension": ".py",
   "mimetype": "text/x-python",
   "name": "python",
   "nbconvert_exporter": "python",
   "pygments_lexer": "ipython2",
   "version": "2.7.11"
  }
 },
 "nbformat": 4,
 "nbformat_minor": 0
}