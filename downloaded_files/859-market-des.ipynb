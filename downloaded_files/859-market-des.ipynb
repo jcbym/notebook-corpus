{
 "cells": [
  {
   "cell_type": "code",
   "execution_count": null,
   "id": "bc213f78",
   "metadata": {},
   "outputs": [],
   "source": [
    "import subprocess\n",
    "import configparser\n",
    "from tqdm import tqdm\n",
    "import matplotlib.pyplot as plt\n",
    "import numpy as np\n",
    "import os\n",
    "from analysis_utils import *\n",
    "\n",
    "if not os.path.isdir('./graphs'):\n",
    "    os.makedirs('./graphs')\n",
    "\n",
    "import math\n",
    "\n",
    "%load_ext autoreload\n",
    "%autoreload 2"
   ]
  },
  {
   "cell_type": "markdown",
   "id": "2ab2d4e4",
   "metadata": {},
   "source": [
    "# Fundamentalists with 1 bottom-feeder"
   ]
  },
  {
   "cell_type": "code",
   "execution_count": null,
   "id": "5cbf681b",
   "metadata": {},
   "outputs": [],
   "source": [
    "iterations = 100"
   ]
  },
  {
   "cell_type": "code",
   "execution_count": null,
   "id": "3e3dc3e4",
   "metadata": {},
   "outputs": [],
   "source": [
    "for i in range(1, 4):\n",
    "    print(i)\n",
    "    config = configparser.ConfigParser()\n",
    "    config['fundamental'] = {'source': 'fundamentalist',\n",
    "                             'n':i,\n",
    "                             'cash': 350,\n",
    "                             'params':'{\\'r\\':1.5}'}\n",
    "    prey = [k for k in range(0,i)]\n",
    "    config['bottomfeeder'] = {'source': 'bottomfeeder_v2',\n",
    "                              'n':1,\n",
    "                              'cash': 350,\n",
    "                              'params':{'prey': prey, 'ordersno': 4}}\n",
    "    config['noisy'] = {'source': 'noise',\n",
    "                       'n':4-i-1,\n",
    "                       'cash': 350,\n",
    "                       'params': '{\\'var\\': 1, \\'horizon\\': 50}'}\n",
    "    with open('configs/temp_config.ini', 'w') as configfile:\n",
    "        config.write(configfile)\n",
    "    for j in tqdm(range(0, iterations)):\n",
    "        subprocess.run(['./market-des', '-r figgie -s 10000', '--index '+str(j),\n",
    "               '--output '+'bvsf.'+str(i), '--config '+\"temp_config\"],stdout=subprocess.DEVNULL)\n"
   ]
  },
  {
   "cell_type": "code",
   "execution_count": null,
   "id": "8c4db03d",
   "metadata": {},
   "outputs": [],
   "source": [
    "for i in range(1, 4):\n",
    "    filename = 'bvsf'+'.'+str(i)\n",
    "    print(i)\n",
    "    plot_rewards(filename, iterations, filename)"
   ]
  },
  {
   "cell_type": "markdown",
   "id": "b975fc5d",
   "metadata": {},
   "source": [
    "# Fundamentalists vs Noise Traders"
   ]
  },
  {
   "cell_type": "code",
   "execution_count": null,
   "id": "c1567983",
   "metadata": {},
   "outputs": [],
   "source": [
    "configs = ['4n','1f3n','2f2n','3f1n','4f']\n",
    "iterations = 100"
   ]
  },
  {
   "cell_type": "code",
   "execution_count": null,
   "id": "8dffc0ad",
   "metadata": {},
   "outputs": [],
   "source": [
    "for config in configs:\n",
    "    print(config)\n",
    "    for i in tqdm(range(0, iterations)):\n",
    "        subprocess.run(['./market-des', '-r figgie -s 10000', '--index '+str(i),\n",
    "                       '--output '+config, '--config '+config],stdout=subprocess.DEVNULL)"
   ]
  },
  {
   "cell_type": "code",
   "execution_count": null,
   "id": "82e622f8",
   "metadata": {
    "scrolled": false
   },
   "outputs": [],
   "source": [
    "for config in configs:\n",
    "    print(config)\n",
    "    plot_rewards(config, iterations, config)"
   ]
  },
  {
   "cell_type": "code",
   "execution_count": null,
   "id": "78e0e6ee",
   "metadata": {},
   "outputs": [],
   "source": [
    "filename='1f3n.1'\n",
    "plot_cashes(filename)\n",
    "data = load_data(filename)\n",
    "agents = data['agents']\n",
    "print([agent.rate_c for agent in agents])"
   ]
  },
  {
   "cell_type": "code",
   "execution_count": null,
   "id": "15f2de3a",
   "metadata": {},
   "outputs": [],
   "source": [
    "plot_expectations('1f3n.1')"
   ]
  },
  {
   "cell_type": "code",
   "execution_count": null,
   "id": "c5c10cb6",
   "metadata": {},
   "outputs": [],
   "source": [
    "plot_orders('1f3n.1',1,0)"
   ]
  },
  {
   "cell_type": "code",
   "execution_count": null,
   "id": "358a1704",
   "metadata": {
    "scrolled": true
   },
   "outputs": [],
   "source": [
    "plot_prices('1f3n.1')"
   ]
  },
  {
   "cell_type": "markdown",
   "id": "aac9058e",
   "metadata": {},
   "source": [
    "# Degrees of (bad) bottom-feeding"
   ]
  },
  {
   "cell_type": "code",
   "execution_count": null,
   "id": "c3cafd35",
   "metadata": {},
   "outputs": [],
   "source": [
    "iterations=100\n",
    "config = 'bottomfeeders'\n",
    "for i in tqdm(range(0, iterations)):\n",
    "    subprocess.run(['./market-des', '-r figgie -s 10000', '--index '+str(i),\n",
    "                   '--output '+config, '--config '+config],stdout=subprocess.DEVNULL)"
   ]
  },
  {
   "cell_type": "code",
   "execution_count": null,
   "id": "eb611b45",
   "metadata": {},
   "outputs": [],
   "source": [
    "plot_rewards('bottomfeeders',iterations,\"bottomfeeders\")"
   ]
  },
  {
   "cell_type": "markdown",
   "id": "f713e070",
   "metadata": {},
   "source": [
    "# Degrees of (good) bottom-feeding"
   ]
  },
  {
   "cell_type": "code",
   "execution_count": null,
   "id": "7e8427d3",
   "metadata": {},
   "outputs": [],
   "source": [
    "iterations=100\n",
    "config = 'bottomfeeders_v2'\n",
    "for i in tqdm(range(0, iterations)):\n",
    "    subprocess.run(['./market-des', '-r figgie -s 10000', '--index '+str(i),\n",
    "                   '--output '+config, '--config '+config],stdout=subprocess.DEVNULL)"
   ]
  },
  {
   "cell_type": "code",
   "execution_count": null,
   "id": "1bf77dec",
   "metadata": {},
   "outputs": [],
   "source": [
    "plot_rewards('bottomfeeders_v2',iterations,\"bottomfeeders_v2\")"
   ]
  },
  {
   "cell_type": "code",
   "execution_count": null,
   "id": "94c1cce7",
   "metadata": {},
   "outputs": [],
   "source": [
    "data = load_data('bottomfeeders_v2.2')\n",
    "cashes = data['agents'][0].cashes\n",
    "plt.scatter(cashes[:,0],cashes[:,1])\n",
    "plt.show()"
   ]
  },
  {
   "cell_type": "code",
   "execution_count": null,
   "id": "b723f2ab",
   "metadata": {
    "scrolled": false
   },
   "outputs": [],
   "source": [
    "plot_expectations('bottomfeeders_v2.1')"
   ]
  },
  {
   "cell_type": "code",
   "execution_count": null,
   "id": "6415d932",
   "metadata": {},
   "outputs": [],
   "source": [
    "data = load_data('bottomfeeders_v2.1')\n",
    "orders = data['agents'][1].orders\n",
    "orders = [order for order in orders if order.assetno == 3]\n",
    "order_prices = [order.price for order in orders]\n",
    "colors = [\"red\" if order.buy else \"green\" for order in orders]\n",
    "plt.scatter(range(0,len(orders)),order_prices,color = colors)\n",
    "plt.show()"
   ]
  },
  {
   "cell_type": "code",
   "execution_count": null,
   "id": "309f4917",
   "metadata": {},
   "outputs": [],
   "source": [
    "plot_expectations('3f1n.0')"
   ]
  },
  {
   "cell_type": "code",
   "execution_count": null,
   "id": "3f5eca04",
   "metadata": {},
   "outputs": [],
   "source": [
    "# multiple first-degrees looking at fundamentalist"
   ]
  },
  {
   "cell_type": "code",
   "execution_count": null,
   "id": "039e6d09",
   "metadata": {},
   "outputs": [],
   "source": [
    "iterations=100\n",
    "for i in tqdm(range(0, iterations)):\n",
    "    subprocess.run(['./market-des', '-r figgie -s 10000', '--index '+str(i),\n",
    "                   '--output '+'speeds', '--config '+'speeds'],stdout=subprocess.DEVNULL)"
   ]
  },
  {
   "cell_type": "code",
   "execution_count": null,
   "id": "71f4af63",
   "metadata": {},
   "outputs": [],
   "source": [
    "plot_rewards('speeds',iterations,'speeds')\n",
    "# try to do it with 1 agent at latency 1 and 3 at latency 0"
   ]
  },
  {
   "cell_type": "code",
   "execution_count": null,
   "id": "c873fb47",
   "metadata": {},
   "outputs": [],
   "source": [
    "plot_expectations('speeds.0')"
   ]
  },
  {
   "cell_type": "code",
   "execution_count": null,
   "id": "0bd1bd26",
   "metadata": {},
   "outputs": [],
   "source": [
    "from statsmodels.tsa.stattools import acf"
   ]
  },
  {
   "cell_type": "code",
   "execution_count": null,
   "id": "de003609",
   "metadata": {
    "scrolled": true
   },
   "outputs": [],
   "source": [
    "nlags = 40\n",
    "acfs = np.zeros(nlags+1)\n",
    "iterations=20\n",
    "for i in range(0, iterations):\n",
    "    data = load_data('speeds.'+str(i))\n",
    "    price_series = data['assets'][1].price_series[:,1]\n",
    "    return_series = price_series[1:]/price_series[:-1]\n",
    "    if len(return_series) == 0:\n",
    "        continue\n",
    "    acfs += acf(return_series, fft=True, nlags=nlags)/iterations\n",
    "    #plt.plot(acf(return_series,fft=True,nlags=40),color='black',alpha=0.1)\n",
    "plt.plot(acfs)\n",
    "plt.show()"
   ]
  }
 ],
 "metadata": {
  "kernelspec": {
   "display_name": "Python 3 (ipykernel)",
   "language": "python",
   "name": "python3"
  },
  "language_info": {
   "codemirror_mode": {
    "name": "ipython",
    "version": 3
   },
   "file_extension": ".py",
   "mimetype": "text/x-python",
   "name": "python",
   "nbconvert_exporter": "python",
   "pygments_lexer": "ipython3",
   "version": "3.8.10"
  }
 },
 "nbformat": 4,
 "nbformat_minor": 5
}
