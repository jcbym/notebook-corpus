{
  "nbformat": 4,
  "nbformat_minor": 5,
  "metadata": {
    "kernelspec": {
      "display_name": "Python 3",
      "language": "python",
      "name": "python3"
    },
    "language_info": {
      "codemirror_mode": {
        "name": "ipython",
        "version": 3
      },
      "file_extension": ".py",
      "mimetype": "text/x-python",
      "name": "python",
      "nbconvert_exporter": "python",
      "pygments_lexer": "ipython3",
      "version": "3.7.7"
    },
    "colab": {
      "name": "bumbleview.ipynb",
      "provenance": [],
      "include_colab_link": true
    },
    "widgets": {
      "application/vnd.jupyter.widget-state+json": {
        "0d3f3ddf9d8a4fa8832ec56e3be19653": {
          "model_module": "@jupyter-widgets/controls",
          "model_name": "FileUploadModel",
          "state": {
            "_view_name": "FileUploadView",
            "_counter": 0,
            "style": "IPY_MODEL_d0a5cd68aa3a4b6694480cd632534dab",
            "_dom_classes": [],
            "description": "Upload",
            "multiple": false,
            "_model_name": "FileUploadModel",
            "data": [],
            "button_style": "",
            "_view_module": "@jupyter-widgets/controls",
            "_model_module_version": "1.5.0",
            "accept": ".csv",
            "_view_count": null,
            "disabled": false,
            "_view_module_version": "1.5.0",
            "error": "",
            "description_tooltip": null,
            "metadata": [],
            "_model_module": "@jupyter-widgets/controls",
            "layout": "IPY_MODEL_1e7bceea685c44628c3454016b24240c",
            "icon": "upload"
          }
        },
        "d0a5cd68aa3a4b6694480cd632534dab": {
          "model_module": "@jupyter-widgets/controls",
          "model_name": "ButtonStyleModel",
          "state": {
            "_view_name": "StyleView",
            "_model_name": "ButtonStyleModel",
            "_view_module": "@jupyter-widgets/base",
            "_model_module_version": "1.5.0",
            "_view_count": null,
            "button_color": null,
            "font_weight": "",
            "_view_module_version": "1.2.0",
            "_model_module": "@jupyter-widgets/controls"
          }
        },
        "1e7bceea685c44628c3454016b24240c": {
          "model_module": "@jupyter-widgets/base",
          "model_name": "LayoutModel",
          "state": {
            "_view_name": "LayoutView",
            "grid_template_rows": null,
            "right": null,
            "justify_content": null,
            "_view_module": "@jupyter-widgets/base",
            "overflow": null,
            "_model_module_version": "1.2.0",
            "_view_count": null,
            "flex_flow": null,
            "width": null,
            "min_width": null,
            "border": null,
            "align_items": null,
            "bottom": null,
            "_model_module": "@jupyter-widgets/base",
            "top": null,
            "grid_column": null,
            "overflow_y": null,
            "overflow_x": null,
            "grid_auto_flow": null,
            "grid_area": null,
            "grid_template_columns": null,
            "flex": null,
            "_model_name": "LayoutModel",
            "justify_items": null,
            "grid_row": null,
            "max_height": null,
            "align_content": null,
            "visibility": null,
            "align_self": null,
            "height": null,
            "min_height": null,
            "padding": null,
            "grid_auto_rows": null,
            "grid_gap": null,
            "max_width": null,
            "order": null,
            "_view_module_version": "1.2.0",
            "grid_template_areas": null,
            "object_position": null,
            "object_fit": null,
            "grid_auto_columns": null,
            "margin": null,
            "display": null,
            "left": null
          }
        },
        "0285444ceac14dca883a043f24aadc85": {
          "model_module": "@jupyter-widgets/controls",
          "model_name": "FileUploadModel",
          "state": {
            "_view_name": "FileUploadView",
            "_counter": 0,
            "style": "IPY_MODEL_8592f9b035ed44009a282fbfbc2aaa23",
            "_dom_classes": [],
            "description": "Upload",
            "multiple": false,
            "_model_name": "FileUploadModel",
            "data": [],
            "button_style": "",
            "_view_module": "@jupyter-widgets/controls",
            "_model_module_version": "1.5.0",
            "accept": ".csv",
            "_view_count": null,
            "disabled": false,
            "_view_module_version": "1.5.0",
            "error": "",
            "description_tooltip": null,
            "metadata": [],
            "_model_module": "@jupyter-widgets/controls",
            "layout": "IPY_MODEL_0ee7b3c381254830a70061894ee2d94d",
            "icon": "upload"
          }
        },
        "8592f9b035ed44009a282fbfbc2aaa23": {
          "model_module": "@jupyter-widgets/controls",
          "model_name": "ButtonStyleModel",
          "state": {
            "_view_name": "StyleView",
            "_model_name": "ButtonStyleModel",
            "_view_module": "@jupyter-widgets/base",
            "_model_module_version": "1.5.0",
            "_view_count": null,
            "button_color": null,
            "font_weight": "",
            "_view_module_version": "1.2.0",
            "_model_module": "@jupyter-widgets/controls"
          }
        },
        "0ee7b3c381254830a70061894ee2d94d": {
          "model_module": "@jupyter-widgets/base",
          "model_name": "LayoutModel",
          "state": {
            "_view_name": "LayoutView",
            "grid_template_rows": null,
            "right": null,
            "justify_content": null,
            "_view_module": "@jupyter-widgets/base",
            "overflow": null,
            "_model_module_version": "1.2.0",
            "_view_count": null,
            "flex_flow": null,
            "width": null,
            "min_width": null,
            "border": null,
            "align_items": null,
            "bottom": null,
            "_model_module": "@jupyter-widgets/base",
            "top": null,
            "grid_column": null,
            "overflow_y": null,
            "overflow_x": null,
            "grid_auto_flow": null,
            "grid_area": null,
            "grid_template_columns": null,
            "flex": null,
            "_model_name": "LayoutModel",
            "justify_items": null,
            "grid_row": null,
            "max_height": null,
            "align_content": null,
            "visibility": null,
            "align_self": null,
            "height": null,
            "min_height": null,
            "padding": null,
            "grid_auto_rows": null,
            "grid_gap": null,
            "max_width": null,
            "order": null,
            "_view_module_version": "1.2.0",
            "grid_template_areas": null,
            "object_position": null,
            "object_fit": null,
            "grid_auto_columns": null,
            "margin": null,
            "display": null,
            "left": null
          }
        },
        "40f6315056cf492da9e998b0d6899e73": {
          "model_module": "@jupyter-widgets/controls",
          "model_name": "DropdownModel",
          "state": {
            "_options_labels": [
              "Rhododendron",
              "Silene_acaulis",
              "Gentiana",
              "Primula",
              "None"
            ],
            "_view_name": "DropdownView",
            "style": "IPY_MODEL_9915e875a87c411ca6e4f102206e6008",
            "_dom_classes": [],
            "description": "Genus:",
            "_model_name": "DropdownModel",
            "index": 3,
            "_view_module": "@jupyter-widgets/controls",
            "_model_module_version": "1.5.0",
            "_view_count": null,
            "disabled": false,
            "_view_module_version": "1.5.0",
            "description_tooltip": null,
            "_model_module": "@jupyter-widgets/controls",
            "layout": "IPY_MODEL_161aa84b29d2453398b5e86a42aba656"
          }
        },
        "9915e875a87c411ca6e4f102206e6008": {
          "model_module": "@jupyter-widgets/controls",
          "model_name": "DescriptionStyleModel",
          "state": {
            "_view_name": "StyleView",
            "_model_name": "DescriptionStyleModel",
            "description_width": "",
            "_view_module": "@jupyter-widgets/base",
            "_model_module_version": "1.5.0",
            "_view_count": null,
            "_view_module_version": "1.2.0",
            "_model_module": "@jupyter-widgets/controls"
          }
        },
        "161aa84b29d2453398b5e86a42aba656": {
          "model_module": "@jupyter-widgets/base",
          "model_name": "LayoutModel",
          "state": {
            "_view_name": "LayoutView",
            "grid_template_rows": null,
            "right": null,
            "justify_content": null,
            "_view_module": "@jupyter-widgets/base",
            "overflow": null,
            "_model_module_version": "1.2.0",
            "_view_count": null,
            "flex_flow": null,
            "width": null,
            "min_width": null,
            "border": null,
            "align_items": null,
            "bottom": null,
            "_model_module": "@jupyter-widgets/base",
            "top": null,
            "grid_column": null,
            "overflow_y": null,
            "overflow_x": null,
            "grid_auto_flow": null,
            "grid_area": null,
            "grid_template_columns": null,
            "flex": null,
            "_model_name": "LayoutModel",
            "justify_items": null,
            "grid_row": null,
            "max_height": null,
            "align_content": null,
            "visibility": null,
            "align_self": null,
            "height": null,
            "min_height": null,
            "padding": null,
            "grid_auto_rows": null,
            "grid_gap": null,
            "max_width": null,
            "order": null,
            "_view_module_version": "1.2.0",
            "grid_template_areas": null,
            "object_position": null,
            "object_fit": null,
            "grid_auto_columns": null,
            "margin": null,
            "display": null,
            "left": null
          }
        },
        "4e973c331f154ebe852b048b62174e81": {
          "model_module": "@jupyter-widgets/controls",
          "model_name": "DropdownModel",
          "state": {
            "_options_labels": [
              "apical",
              "basal",
              "None"
            ],
            "_view_name": "DropdownView",
            "style": "IPY_MODEL_282d5d9486f7472b8e5b20985b6efdf1",
            "_dom_classes": [],
            "description": "Area:",
            "_model_name": "DropdownModel",
            "index": 1,
            "_view_module": "@jupyter-widgets/controls",
            "_model_module_version": "1.5.0",
            "_view_count": null,
            "disabled": false,
            "_view_module_version": "1.5.0",
            "description_tooltip": null,
            "_model_module": "@jupyter-widgets/controls",
            "layout": "IPY_MODEL_7bde21509e5e482ba66df84fb5cefbba"
          }
        },
        "282d5d9486f7472b8e5b20985b6efdf1": {
          "model_module": "@jupyter-widgets/controls",
          "model_name": "DescriptionStyleModel",
          "state": {
            "_view_name": "StyleView",
            "_model_name": "DescriptionStyleModel",
            "description_width": "",
            "_view_module": "@jupyter-widgets/base",
            "_model_module_version": "1.5.0",
            "_view_count": null,
            "_view_module_version": "1.2.0",
            "_model_module": "@jupyter-widgets/controls"
          }
        },
        "7bde21509e5e482ba66df84fb5cefbba": {
          "model_module": "@jupyter-widgets/base",
          "model_name": "LayoutModel",
          "state": {
            "_view_name": "LayoutView",
            "grid_template_rows": null,
            "right": null,
            "justify_content": null,
            "_view_module": "@jupyter-widgets/base",
            "overflow": null,
            "_model_module_version": "1.2.0",
            "_view_count": null,
            "flex_flow": null,
            "width": null,
            "min_width": null,
            "border": null,
            "align_items": null,
            "bottom": null,
            "_model_module": "@jupyter-widgets/base",
            "top": null,
            "grid_column": null,
            "overflow_y": null,
            "overflow_x": null,
            "grid_auto_flow": null,
            "grid_area": null,
            "grid_template_columns": null,
            "flex": null,
            "_model_name": "LayoutModel",
            "justify_items": null,
            "grid_row": null,
            "max_height": null,
            "align_content": null,
            "visibility": null,
            "align_self": null,
            "height": null,
            "min_height": null,
            "padding": null,
            "grid_auto_rows": null,
            "grid_gap": null,
            "max_width": null,
            "order": null,
            "_view_module_version": "1.2.0",
            "grid_template_areas": null,
            "object_position": null,
            "object_fit": null,
            "grid_auto_columns": null,
            "margin": null,
            "display": null,
            "left": null
          }
        },
        "f22bb08ee77c475f8e8878859e93b796": {
          "model_module": "@jupyter-widgets/controls",
          "model_name": "CheckboxModel",
          "state": {
            "_view_name": "CheckboxView",
            "style": "IPY_MODEL_01db77fae2b94c5fbcc3c41d8d2d2595",
            "_dom_classes": [],
            "description": "Load Apis mellifera data",
            "_model_name": "CheckboxModel",
            "_view_module": "@jupyter-widgets/controls",
            "_model_module_version": "1.5.0",
            "value": false,
            "_view_count": null,
            "disabled": false,
            "_view_module_version": "1.5.0",
            "indent": true,
            "description_tooltip": null,
            "_model_module": "@jupyter-widgets/controls",
            "layout": "IPY_MODEL_9c33b54e698e4523abf4d15415c60703"
          }
        },
        "01db77fae2b94c5fbcc3c41d8d2d2595": {
          "model_module": "@jupyter-widgets/controls",
          "model_name": "DescriptionStyleModel",
          "state": {
            "_view_name": "StyleView",
            "_model_name": "DescriptionStyleModel",
            "description_width": "",
            "_view_module": "@jupyter-widgets/base",
            "_model_module_version": "1.5.0",
            "_view_count": null,
            "_view_module_version": "1.2.0",
            "_model_module": "@jupyter-widgets/controls"
          }
        },
        "9c33b54e698e4523abf4d15415c60703": {
          "model_module": "@jupyter-widgets/base",
          "model_name": "LayoutModel",
          "state": {
            "_view_name": "LayoutView",
            "grid_template_rows": null,
            "right": null,
            "justify_content": null,
            "_view_module": "@jupyter-widgets/base",
            "overflow": null,
            "_model_module_version": "1.2.0",
            "_view_count": null,
            "flex_flow": null,
            "width": null,
            "min_width": null,
            "border": null,
            "align_items": null,
            "bottom": null,
            "_model_module": "@jupyter-widgets/base",
            "top": null,
            "grid_column": null,
            "overflow_y": null,
            "overflow_x": null,
            "grid_auto_flow": null,
            "grid_area": null,
            "grid_template_columns": null,
            "flex": null,
            "_model_name": "LayoutModel",
            "justify_items": null,
            "grid_row": null,
            "max_height": null,
            "align_content": null,
            "visibility": null,
            "align_self": null,
            "height": null,
            "min_height": null,
            "padding": null,
            "grid_auto_rows": null,
            "grid_gap": null,
            "max_width": null,
            "order": null,
            "_view_module_version": "1.2.0",
            "grid_template_areas": null,
            "object_position": null,
            "object_fit": null,
            "grid_auto_columns": null,
            "margin": null,
            "display": null,
            "left": null
          }
        },
        "ccf642e4e7cf41f8a5a65a609076c7d4": {
          "model_module": "@jupyter-widgets/controls",
          "model_name": "CheckboxModel",
          "state": {
            "_view_name": "CheckboxView",
            "style": "IPY_MODEL_0ddda5d34fc24debbd3bfccf719cd0db",
            "_dom_classes": [],
            "description": "Load Lucilia data",
            "_model_name": "CheckboxModel",
            "_view_module": "@jupyter-widgets/controls",
            "_model_module_version": "1.5.0",
            "value": false,
            "_view_count": null,
            "disabled": false,
            "_view_module_version": "1.5.0",
            "indent": true,
            "description_tooltip": null,
            "_model_module": "@jupyter-widgets/controls",
            "layout": "IPY_MODEL_fc8e047be088482baa52e11957d5211f"
          }
        },
        "0ddda5d34fc24debbd3bfccf719cd0db": {
          "model_module": "@jupyter-widgets/controls",
          "model_name": "DescriptionStyleModel",
          "state": {
            "_view_name": "StyleView",
            "_model_name": "DescriptionStyleModel",
            "description_width": "",
            "_view_module": "@jupyter-widgets/base",
            "_model_module_version": "1.5.0",
            "_view_count": null,
            "_view_module_version": "1.2.0",
            "_model_module": "@jupyter-widgets/controls"
          }
        },
        "fc8e047be088482baa52e11957d5211f": {
          "model_module": "@jupyter-widgets/base",
          "model_name": "LayoutModel",
          "state": {
            "_view_name": "LayoutView",
            "grid_template_rows": null,
            "right": null,
            "justify_content": null,
            "_view_module": "@jupyter-widgets/base",
            "overflow": null,
            "_model_module_version": "1.2.0",
            "_view_count": null,
            "flex_flow": null,
            "width": null,
            "min_width": null,
            "border": null,
            "align_items": null,
            "bottom": null,
            "_model_module": "@jupyter-widgets/base",
            "top": null,
            "grid_column": null,
            "overflow_y": null,
            "overflow_x": null,
            "grid_auto_flow": null,
            "grid_area": null,
            "grid_template_columns": null,
            "flex": null,
            "_model_name": "LayoutModel",
            "justify_items": null,
            "grid_row": null,
            "max_height": null,
            "align_content": null,
            "visibility": null,
            "align_self": null,
            "height": null,
            "min_height": null,
            "padding": null,
            "grid_auto_rows": null,
            "grid_gap": null,
            "max_width": null,
            "order": null,
            "_view_module_version": "1.2.0",
            "grid_template_areas": null,
            "object_position": null,
            "object_fit": null,
            "grid_auto_columns": null,
            "margin": null,
            "display": null,
            "left": null
          }
        },
        "9b808ef114af417e95e3f1c722ea5aab": {
          "model_module": "@jupyter-widgets/controls",
          "model_name": "FileUploadModel",
          "state": {
            "_view_name": "FileUploadView",
            "_counter": 0,
            "style": "IPY_MODEL_40f28a7d1e7940a1b6360deefde53ee9",
            "_dom_classes": [],
            "description": "Upload",
            "multiple": false,
            "_model_name": "FileUploadModel",
            "data": [],
            "button_style": "",
            "_view_module": "@jupyter-widgets/controls",
            "_model_module_version": "1.5.0",
            "accept": ".csv",
            "_view_count": null,
            "disabled": false,
            "_view_module_version": "1.5.0",
            "error": "",
            "description_tooltip": null,
            "metadata": [],
            "_model_module": "@jupyter-widgets/controls",
            "layout": "IPY_MODEL_39a6f4f5aaae4d15a541927a7fb32f8d",
            "icon": "upload"
          }
        },
        "40f28a7d1e7940a1b6360deefde53ee9": {
          "model_module": "@jupyter-widgets/controls",
          "model_name": "ButtonStyleModel",
          "state": {
            "_view_name": "StyleView",
            "_model_name": "ButtonStyleModel",
            "_view_module": "@jupyter-widgets/base",
            "_model_module_version": "1.5.0",
            "_view_count": null,
            "button_color": null,
            "font_weight": "",
            "_view_module_version": "1.2.0",
            "_model_module": "@jupyter-widgets/controls"
          }
        },
        "39a6f4f5aaae4d15a541927a7fb32f8d": {
          "model_module": "@jupyter-widgets/base",
          "model_name": "LayoutModel",
          "state": {
            "_view_name": "LayoutView",
            "grid_template_rows": null,
            "right": null,
            "justify_content": null,
            "_view_module": "@jupyter-widgets/base",
            "overflow": null,
            "_model_module_version": "1.2.0",
            "_view_count": null,
            "flex_flow": null,
            "width": null,
            "min_width": null,
            "border": null,
            "align_items": null,
            "bottom": null,
            "_model_module": "@jupyter-widgets/base",
            "top": null,
            "grid_column": null,
            "overflow_y": null,
            "overflow_x": null,
            "grid_auto_flow": null,
            "grid_area": null,
            "grid_template_columns": null,
            "flex": null,
            "_model_name": "LayoutModel",
            "justify_items": null,
            "grid_row": null,
            "max_height": null,
            "align_content": null,
            "visibility": null,
            "align_self": null,
            "height": null,
            "min_height": null,
            "padding": null,
            "grid_auto_rows": null,
            "grid_gap": null,
            "max_width": null,
            "order": null,
            "_view_module_version": "1.2.0",
            "grid_template_areas": null,
            "object_position": null,
            "object_fit": null,
            "grid_auto_columns": null,
            "margin": null,
            "display": null,
            "left": null
          }
        }
      }
    }
  },
  "cells": [
    {
      "cell_type": "markdown",
      "metadata": {
        "id": "view-in-github",
        "colab_type": "text"
      },
      "source": [
        "<a href=\"https://colab.research.google.com/github/biothomme/Retinol/blob/master/interactive_bumbleview.ipynb\" target=\"_parent\"><img src=\"https://colab.research.google.com/assets/colab-badge.svg\" alt=\"Open In Colab\"/></a>"
      ]
    },
    {
      "cell_type": "markdown",
      "metadata": {
        "id": "engaged-creation"
      },
      "source": [
        "# be humble view bumble"
      ],
      "id": "engaged-creation"
    },
    {
      "cell_type": "markdown",
      "metadata": {
        "id": "toxic-central"
      },
      "source": [
        "How do insects see the world? A recent review shows the magnitude of variation of visual perception across the phylum of insects (van der Kooi et al. 2021). Nonetheless, many of which have a set of 3 different wavelength receptors, covering a range of wavelengths from ~300 to ~700 nm (or in words, from UV to red). As there is no direct physical way of measuring this perception, a framework combining physiological exminations, wavelength measurements and mathematical transformations was set up during the 20th century (Wyszecki & Spines 1982, Chittka & Waser 1997). Thus, it is possible to compare different flowers by how they are perceived by an insect. This notebook implements the concept described by Chittka & Kevan (2005) (and basically shares its nomenclature) and enables the comparison of multiple species of flowers on how they are sensed by a trichromatic insect eye."
      ],
      "id": "toxic-central"
    },
    {
      "cell_type": "markdown",
      "metadata": {
        "id": "central-compilation"
      },
      "source": [
        "## Import the backbone"
      ],
      "id": "central-compilation"
    },
    {
      "cell_type": "markdown",
      "metadata": {
        "id": "filled-complex"
      },
      "source": [
        "At first the correspondent module needs to be loaded:"
      ],
      "id": "filled-complex"
    },
    {
      "cell_type": "code",
      "metadata": {
        "id": "kNEspbP314gW"
      },
      "source": [
        "!pip install --upgrade bumbleview"
      ],
      "id": "kNEspbP314gW",
      "execution_count": null,
      "outputs": []
    },
    {
      "cell_type": "code",
      "metadata": {
        "id": "veterinary-weekend",
        "colab": {
          "base_uri": "https://localhost:8080/"
        },
        "outputId": "de94d99d-408f-4a78-f712-b6d2d3a80003"
      },
      "source": [
        "from bumbleview.bumblecore import *\n",
        "%matplotlib inline "
      ],
      "id": "veterinary-weekend",
      "execution_count": 2,
      "outputs": [
        {
          "output_type": "stream",
          "text": [
            "Welcome to the bumbleview package. Here you can convert emission spectra to its reaction in an insect eye.\n"
          ],
          "name": "stdout"
        }
      ]
    },
    {
      "cell_type": "markdown",
      "metadata": {
        "id": "worthy-checkout"
      },
      "source": [
        "The notebook depends on physical wavelength data measured from leaf samples (or anything else ;-) ). There are some prerequisites that should be fulfilled, for a proper analysis:\n",
        "- Measurements of at least every 5 nm steps from 300 to 700 nm (it is no problem if finer steps and over a larger range; the data will be cut subset later). \n",
        "- Each measure needs to be mapped to its wavelength, otherwise it is not possible to transfer it to insect vision.\n",
        "\n",
        "Therefore a `csv`-file (can be seperated by \"`,`\", \"`;`\" or tabs \"`\\t`\") should be constructed with the following structure: \n",
        "- No header row\n",
        "- First column stores the wavelengths of the measurements (the decimal seperator is the dot \"`.`\")\n",
        "- Column \"`2`\" to \"`n+1`\" store the measurements of wavelength reflections for all \"`n`\" samples\n",
        "\n",
        "Here is an example (`<...>` reflects additional rows/columns); remark that the first column represents the wavelength in nm:\n",
        "\n",
        "`300.0,0.383,6.963,0.421,<...>,0.281`  \n",
        "`300.37,0.376,7.038,0.458,<...>,0.344`  \n",
        "`300.74,0.412,7.053,0.455,<...>,0.363`  \n",
        "`301.1,0.369,7.005,0.466,<...>,0.371`  \n",
        "`<...>,<...>,<...>,<...>,<...>,<...>`  \n",
        "`699.82,23.876,18.449,18.429,<...>,15.538`  \n",
        "`700.15,24.095,18.341,18.518,<...>,15.67`\n",
        "\n",
        "Now you can upload your wavelength emission data. Just run the next codeblock and select the file you want to upload (emission values do not need to be standardized to the interval `[0,1]`)."
      ],
      "id": "worthy-checkout"
    },
    {
      "cell_type": "code",
      "metadata": {
        "scrolled": true,
        "id": "broke-industry",
        "colab": {
          "base_uri": "https://localhost:8080/",
          "height": 49,
          "referenced_widgets": [
            "0d3f3ddf9d8a4fa8832ec56e3be19653",
            "d0a5cd68aa3a4b6694480cd632534dab",
            "1e7bceea685c44628c3454016b24240c"
          ]
        },
        "outputId": "fc255943-7d69-4193-af68-1554ceb5dcc7"
      },
      "source": [
        "wl_uploader = input_flowers()"
      ],
      "id": "broke-industry",
      "execution_count": 3,
      "outputs": [
        {
          "output_type": "display_data",
          "data": {
            "application/vnd.jupyter.widget-view+json": {
              "model_id": "0d3f3ddf9d8a4fa8832ec56e3be19653",
              "version_minor": 0,
              "version_major": 2
            },
            "text/plain": [
              "FileUpload(value={}, accept='.csv', description='Upload')"
            ]
          },
          "metadata": {
            "tags": []
          }
        }
      ]
    },
    {
      "cell_type": "markdown",
      "metadata": {
        "id": "uniform-jacob"
      },
      "source": [
        "For a complete analysis meta data of the samples is required. Therefore, this script uses another `csv`-file that specifies genus, species, leaf area and additional information (e.g. unique ID) of each sample. In principal, these \"fields\" can determine any kind of categorical assignment, but are thought to be used as defined by there name. So, to standardize the input, the `csv`-file for meta information should have the following structure:\n",
        "- 4 columns, whereas the encoding is in the following order: genus, species epithet, leaf area, additional information.\n",
        "- Each `n`-th row corresponds to the same sample as the `n+1`-th column of the previously uploaded reflection data `csv`-file. \n",
        "- No header should be used\n",
        "\n",
        "Here is again an example:\n",
        "\n",
        "`Gentiana,acaulis,stigma,1`  \n",
        "`Gentiana,acaulis,stigma,2`  \n",
        "`Primula,lutea,apical,1`  \n",
        "`Primula,lutea,basal,1`  \n",
        "`<...>,<...>,<...>,<...>`  \n",
        "`Primula,hirsuta,apical,10`  \n",
        "`Primula,hirsuta,basal,10`\n",
        "\n",
        "\n",
        "The next codeblock contains the uploading bar for the `csv`-file for meta data. Run the block and select the file."
      ],
      "id": "uniform-jacob"
    },
    {
      "cell_type": "code",
      "metadata": {
        "id": "cultural-remove",
        "colab": {
          "base_uri": "https://localhost:8080/",
          "height": 49,
          "referenced_widgets": [
            "0285444ceac14dca883a043f24aadc85",
            "8592f9b035ed44009a282fbfbc2aaa23",
            "0ee7b3c381254830a70061894ee2d94d"
          ]
        },
        "outputId": "b79874e2-619b-42a1-969b-7b05bcd1d397"
      },
      "source": [
        "meta_uploader = input_flowers()"
      ],
      "id": "cultural-remove",
      "execution_count": 4,
      "outputs": [
        {
          "output_type": "display_data",
          "data": {
            "application/vnd.jupyter.widget-view+json": {
              "model_id": "0285444ceac14dca883a043f24aadc85",
              "version_minor": 0,
              "version_major": 2
            },
            "text/plain": [
              "FileUpload(value={}, accept='.csv', description='Upload')"
            ]
          },
          "metadata": {
            "tags": []
          }
        }
      ]
    },
    {
      "cell_type": "markdown",
      "metadata": {
        "id": "gentle-hunger"
      },
      "source": [
        "After selecting both files containing wavelength reflection data and meta information, please run the next codeblock to finally import your data. If one or the other file is missing, data will not be loaded, but an example dataset on alpine flowers used."
      ],
      "id": "gentle-hunger"
    },
    {
      "cell_type": "code",
      "metadata": {
        "id": "literary-saint"
      },
      "source": [
        "wl_df = parse_flowers(wl_uploader, colab=True)\n",
        "meta_df = parse_flowers(meta_uploader, data=False, colab=True)\n",
        "\n",
        "flowers = new_floral_spectra(wl_df, meta_df, colab=True)"
      ],
      "id": "literary-saint",
      "execution_count": null,
      "outputs": []
    },
    {
      "cell_type": "markdown",
      "metadata": {
        "id": "average-marketplace"
      },
      "source": [
        "As a first processing step a so called min-max normalization is performed on the wavelength spectrum of each sample. Thus, the whole data lies within the real interval `[0,1]`."
      ],
      "id": "average-marketplace"
    },
    {
      "cell_type": "markdown",
      "metadata": {
        "id": "promising-bikini"
      },
      "source": [
        "## Select genus and leaf area"
      ],
      "id": "promising-bikini"
    },
    {
      "cell_type": "markdown",
      "metadata": {
        "id": "immune-ivory"
      },
      "source": [
        "A genus can be chosen to focus analysis on:"
      ],
      "id": "immune-ivory"
    },
    {
      "cell_type": "code",
      "metadata": {
        "id": "ranking-chambers",
        "colab": {
          "base_uri": "https://localhost:8080/",
          "height": 49,
          "referenced_widgets": [
            "40f6315056cf492da9e998b0d6899e73",
            "9915e875a87c411ca6e4f102206e6008",
            "161aa84b29d2453398b5e86a42aba656"
          ]
        },
        "outputId": "ac66c315-9529-4631-8a6a-5768b224b955"
      },
      "source": [
        "genus_choice = flowers.select_key()"
      ],
      "id": "ranking-chambers",
      "execution_count": 6,
      "outputs": [
        {
          "output_type": "display_data",
          "data": {
            "application/vnd.jupyter.widget-view+json": {
              "model_id": "40f6315056cf492da9e998b0d6899e73",
              "version_minor": 0,
              "version_major": 2
            },
            "text/plain": [
              "Dropdown(description='Genus:', options=(('Rhododendron', 0), ('Silene_acaulis', 1), ('Gentiana', 2), ('Primula…"
            ]
          },
          "metadata": {
            "tags": []
          }
        }
      ]
    },
    {
      "cell_type": "markdown",
      "metadata": {
        "id": "sixth-estate"
      },
      "source": [
        "A leaf area can be chosen to focus analysis on:"
      ],
      "id": "sixth-estate"
    },
    {
      "cell_type": "code",
      "metadata": {
        "scrolled": true,
        "id": "enormous-tonight",
        "colab": {
          "base_uri": "https://localhost:8080/",
          "height": 49,
          "referenced_widgets": [
            "4e973c331f154ebe852b048b62174e81",
            "282d5d9486f7472b8e5b20985b6efdf1",
            "7bde21509e5e482ba66df84fb5cefbba"
          ]
        },
        "outputId": "7b243939-f8ab-4891-c1f3-b2011b8ad373"
      },
      "source": [
        "area_choice = flowers.select_key(key=\"area\", genus_choice=genus_choice)"
      ],
      "id": "enormous-tonight",
      "execution_count": 7,
      "outputs": [
        {
          "output_type": "display_data",
          "data": {
            "application/vnd.jupyter.widget-view+json": {
              "model_id": "4e973c331f154ebe852b048b62174e81",
              "version_minor": 0,
              "version_major": 2
            },
            "text/plain": [
              "Dropdown(description='Area:', options=(('apical', 0), ('basal', 1), (None, 2)), value=0)"
            ]
          },
          "metadata": {
            "tags": []
          }
        }
      ]
    },
    {
      "cell_type": "markdown",
      "metadata": {
        "id": "yellow-thirty"
      },
      "source": [
        "The following codeblock saves the choices for genus and leaf area."
      ],
      "id": "yellow-thirty"
    },
    {
      "cell_type": "code",
      "metadata": {
        "id": "conventional-copyright"
      },
      "source": [
        "genus = get_dropdown_value(genus_choice)\n",
        "area = get_dropdown_value(area_choice)"
      ],
      "id": "conventional-copyright",
      "execution_count": 8,
      "outputs": []
    },
    {
      "cell_type": "markdown",
      "metadata": {
        "id": "noticed-median"
      },
      "source": [
        "# Plotting"
      ],
      "id": "noticed-median"
    },
    {
      "cell_type": "markdown",
      "metadata": {
        "id": "confirmed-martin"
      },
      "source": [
        "## Preliminary note"
      ],
      "id": "confirmed-martin"
    },
    {
      "cell_type": "markdown",
      "metadata": {
        "id": "partial-somerset"
      },
      "source": [
        "In the follwing paragraphs, several different types of different plots analyzing the wavelength spectra can be produced. As there is a temporary folder in the background all plots made, can be downloaded in the end of this notebook. Therefore, each section has two codeblocks:\n",
        "- The first one produces the graph for the selected genus/leaf area and shows the figure. \n",
        "- The second codeblock produces all possible combinations of genera and leaf areas (even all areas per genus in one plot as well as all the complete datset graph).\n",
        "\n",
        "After running the blocks, the corresponding graphs are stored in the temporary directory. All figures are saved as `pdf` files, which render labels and text as real text blocks, so it is easy to change its formatting in graphic manipulation programs (e.g. Inkscape)"
      ],
      "id": "partial-somerset"
    },
    {
      "cell_type": "markdown",
      "metadata": {
        "id": "bridal-train"
      },
      "source": [
        "## Part 1 - Plotting the physical spectra"
      ],
      "id": "bridal-train"
    },
    {
      "cell_type": "markdown",
      "metadata": {
        "id": "intense-louisiana"
      },
      "source": [
        "### Wavelength spectra"
      ],
      "id": "intense-louisiana"
    },
    {
      "cell_type": "markdown",
      "metadata": {
        "id": "royal-territory"
      },
      "source": [
        "As a first analysis the simple pysical spectrum can be plotted for the wavelength. For each sample the normalized diffuse reflexion is mapped on the wavelength. Grouping is performed for different species. Furthermore, an additional bold line represents the arithmetic mean of reflexion within a specific group.\n",
        " \n",
        " Another feature of the figure is an ANOVA that is run at each wavelength between all species. As the reflexion measures of aspecific wavelength are not independent from the others, a Bonferroni correction on the p-values is chosen to account for that issue. Finally, wavelengths, where a significant difference (`corrected p-value < 0.05`) between the species was observed, a bar in the corresponding color (for human vision; colors outside our visual range are grey) is layed behind the curves.\n"
      ],
      "id": "royal-territory"
    },
    {
      "cell_type": "markdown",
      "metadata": {
        "id": "bulgarian-symphony"
      },
      "source": [
        "#### A. Show plot for selected genus/leaf area"
      ],
      "id": "bulgarian-symphony"
    },
    {
      "cell_type": "code",
      "metadata": {
        "id": "reverse-naples",
        "colab": {
          "base_uri": "https://localhost:8080/",
          "height": 442
        },
        "outputId": "1de95b88-4033-43d0-e44b-607c6a69f2db"
      },
      "source": [
        "fig = flowers.plot_wl_spectra(genus, area, show_fig=True)\n",
        "fig.show()"
      ],
      "id": "reverse-naples",
      "execution_count": 9,
      "outputs": [
        {
          "output_type": "stream",
          "text": [
            "/usr/local/lib/python3.7/dist-packages/statsmodels/tools/_testing.py:19: FutureWarning: pandas.util.testing is deprecated. Use the functions in the public API at pandas.testing instead.\n",
            "  import pandas.util.testing as tm\n"
          ],
          "name": "stderr"
        },
        {
          "output_type": "display_data",
          "data": {
            "image/png": "[encoded data removed]",
            "text/plain": [
              "<Figure size 576x432 with 1 Axes>"
            ]
          },
          "metadata": {
            "tags": [],
            "needs_background": "light"
          }
        }
      ]
    },
    {
      "cell_type": "markdown",
      "metadata": {
        "id": "animated-abortion"
      },
      "source": [
        "#### B. Produce all plots and save it"
      ],
      "id": "animated-abortion"
    },
    {
      "cell_type": "code",
      "metadata": {
        "id": "thermal-briefs"
      },
      "source": [
        "flowers.plot_all_inclusive(plot_type=\"wl_spectra\")"
      ],
      "id": "thermal-briefs",
      "execution_count": null,
      "outputs": []
    },
    {
      "cell_type": "markdown",
      "metadata": {
        "id": "worse-playback"
      },
      "source": [
        "### Principal component anaysis on physical spectra"
      ],
      "id": "worse-playback"
    },
    {
      "cell_type": "markdown",
      "metadata": {
        "id": "fantastic-width"
      },
      "source": [
        "This section can be used to get an overview of the dataset. The plot displays the first two component axes of the principal component analysis covering the whole range of the wavelength interval."
      ],
      "id": "fantastic-width"
    },
    {
      "cell_type": "markdown",
      "metadata": {
        "id": "blind-affiliation"
      },
      "source": [
        "#### A. Show plot for selected genus/leaf area"
      ],
      "id": "blind-affiliation"
    },
    {
      "cell_type": "code",
      "metadata": {
        "id": "devoted-sewing",
        "colab": {
          "base_uri": "https://localhost:8080/",
          "height": 357
        },
        "outputId": "206141a5-4193-4b8b-aa86-f17a08bbaf04"
      },
      "source": [
        "fig = flowers.plot_pca(genus=genus, area=area, show_fig=True)\n",
        "fig.show()"
      ],
      "id": "devoted-sewing",
      "execution_count": 11,
      "outputs": [
        {
          "output_type": "display_data",
          "data": {
            "image/png": "[encoded data removed]",
            "text/plain": [
              "<Figure size 576x432 with 1 Axes>"
            ]
          },
          "metadata": {
            "tags": [],
            "needs_background": "light"
          }
        }
      ]
    },
    {
      "cell_type": "markdown",
      "metadata": {
        "id": "beneficial-communication"
      },
      "source": [
        "#### B. Produce all plots and save it"
      ],
      "id": "beneficial-communication"
    },
    {
      "cell_type": "code",
      "metadata": {
        "id": "lovely-shaft"
      },
      "source": [
        "flowers.plot_all_inclusive(plot_type=\"pca_physical\")"
      ],
      "id": "lovely-shaft",
      "execution_count": 24,
      "outputs": []
    },
    {
      "cell_type": "markdown",
      "metadata": {
        "id": "cooperative-concentration"
      },
      "source": [
        "## Part 2 - Plotting insect vision"
      ],
      "id": "cooperative-concentration"
    },
    {
      "cell_type": "markdown",
      "metadata": {
        "id": "sublime-setup"
      },
      "source": [
        "To model, how a physical spectrum is perceived by the visual receptors of insects, this approach uses different sources of wavelength dependent data. We define\n",
        "- $ \\lambda $ as the wavelength in nm within the interval `[300,700]` \n",
        "- $ I_B(\\lambda) $ as standard spectral reflectance function of the stimulus. In the concurrent case a standard is used by biological reasoning: as green is a dominant color in plant communities, we use spectral measurements of green leaves as a discrete estimate of this function for a given set of wavelengths. The original green leaf spectra of Chittka et al are applied.\n",
        "- $ S(\\lambda) $ as the spectral sensitivity function of a specific receptor. Thus, this function is also dependent on the insect (can be chosen for the corresponding section).\n",
        "- $ D(\\lambda) $ is the function of the illuminant (needs to be quantum based). In this notebook it is modelled by the D65 standard function (from Wyszecki & Spines 1982).\n",
        "\n",
        "Using these functions the receptor specific sensitivity factor $ R $ can be set as  $R = \\frac{1}{\\int\\limits_{300}^{700} I_B(\\lambda) S(\\lambda) D(\\lambda) d \\lambda}$. That factor enables to estimate how different a flower spectrum is perceived, in comparison to the green leaf spectrum."
      ],
      "id": "sublime-setup"
    },
    {
      "cell_type": "markdown",
      "metadata": {
        "id": "published-sunset"
      },
      "source": [
        "Let $ I_B(\\lambda) $ be the specific spectral reflectance function, which is estimated by the flower reflectance spectrum function. The relative amount of quantum catch absorbed by a specific receptor $ P $ can be modelled as $P = R \\int\\limits_{300}^{700} I_B(\\lambda) S(\\lambda) D(\\lambda) d \\lambda$. The property P can be imagined as the unprocessed input on the photoreceptor. To account for the neuronal photo-transduction process the excitation  $ E $ of the neurons as response to photons can be set as  $ E = \\frac{P}{P+1} $. Using that non-linear transformation all excitation values cover the interval `[0,1)`. The quatum catches of the receptors $ P $ and excitation values $ E $ are used in the following paragraphs to produce graphs that help understanding flower colors in insect vision better."
      ],
      "id": "published-sunset"
    },
    {
      "cell_type": "markdown",
      "metadata": {
        "id": "damaged-whale"
      },
      "source": [
        "## Select insect vision model"
      ],
      "id": "damaged-whale"
    },
    {
      "cell_type": "markdown",
      "metadata": {
        "id": "tough-archive"
      },
      "source": [
        "This notebook uses as standard the receptor model for <i>Bombus</i> of Briscoe & Chittka (2001), which was adjusted from Peitsch, et al. (1992). Also it is possible to run the plots on the model of <i>Apis mellifera</i> from the same publication.\n",
        "Therefore, please select the following tick:"
      ],
      "id": "tough-archive"
    },
    {
      "cell_type": "code",
      "metadata": {
        "id": "exterior-differential",
        "colab": {
          "base_uri": "https://localhost:8080/",
          "height": 49,
          "referenced_widgets": [
            "f22bb08ee77c475f8e8878859e93b796",
            "01db77fae2b94c5fbcc3c41d8d2d2595",
            "9c33b54e698e4523abf4d15415c60703"
          ]
        },
        "outputId": "b40b9610-5220-4fe8-8083-7421542bf348"
      },
      "source": [
        "apis_tick = apis_checkbox()"
      ],
      "id": "exterior-differential",
      "execution_count": 12,
      "outputs": [
        {
          "output_type": "display_data",
          "data": {
            "application/vnd.jupyter.widget-view+json": {
              "model_id": "f22bb08ee77c475f8e8878859e93b796",
              "version_minor": 0,
              "version_major": 2
            },
            "text/plain": [
              "Checkbox(value=False, description='Load Apis mellifera data')"
            ]
          },
          "metadata": {
            "tags": []
          }
        }
      ]
    },
    {
      "cell_type": "markdown",
      "metadata": {
        "id": "304ixee10iQQ"
      },
      "source": [
        "Another possibility is to load a tetrachromatic ERG dataset for <i>Lucilia</i> by Troje 1993. It applies for flies and uses 4 of the five photoreceptor types of a fly, namely R7p, R7y, R8p and R8y. Then, please select this tick:"
      ],
      "id": "304ixee10iQQ"
    },
    {
      "cell_type": "code",
      "metadata": {
        "colab": {
          "base_uri": "https://localhost:8080/",
          "height": 49,
          "referenced_widgets": [
            "ccf642e4e7cf41f8a5a65a609076c7d4",
            "0ddda5d34fc24debbd3bfccf719cd0db",
            "fc8e047be088482baa52e11957d5211f"
          ]
        },
        "id": "tzCEBWBn0YUi",
        "outputId": "0783d6fe-66b0-4089-b8d7-894f5a24d93b"
      },
      "source": [
        "fly_tick = apis_checkbox(lucilia=True)"
      ],
      "id": "tzCEBWBn0YUi",
      "execution_count": 13,
      "outputs": [
        {
          "output_type": "display_data",
          "data": {
            "application/vnd.jupyter.widget-view+json": {
              "model_id": "ccf642e4e7cf41f8a5a65a609076c7d4",
              "version_minor": 0,
              "version_major": 2
            },
            "text/plain": [
              "Checkbox(value=False, description='Load Lucilia data')"
            ]
          },
          "metadata": {
            "tags": []
          }
        }
      ]
    },
    {
      "cell_type": "markdown",
      "metadata": {
        "id": "worst-legislature"
      },
      "source": [
        "Otherwise, it is possible to upload a private model for the receptor sensitivities of a trichromatic insect (e.g. as a result of retinographic measurements/ERGs). It should be a `csv` file in the follwing format:\n",
        "- 4 columns correspond to (1) wavelength, (2) sensitivity of receptor A, (3) sensitivity of receptor B and (4) sensitivity of receptor C.\n",
        "- The first row is a header and stores the names of the receptors as this is important for the later analysis. The name of the wavelength column can be unspecific as it is not used.\n",
        "- The measurements should cover the interval of `[300,700]` nm in steps of at least `20`nm.\n",
        "- Columns can be seperated by \"`,`\", \"`;`\" or tabs \"`\\t`\".\n",
        "- The sensitivity values should be within the interval `[0,1)`.\n",
        "\n",
        "\n",
        "Here an example:  \n",
        "`wl,uv,blue,green`  \n",
        "`300,0.520498812198638000,0.293935596942901000,0.213320106267929000`  \n",
        "`305,0.700174689292907000,0.286367371678352000,0.222233530133963000`  \n",
        "`310,0.879850566387176000,0.278799146413802000,0.231146953999996000`  \n",
        "`315,0.905661135911941000,0.278349559754133000,0.237155925482511000`  \n",
        "`<...>,<...>,<...>,<...>`  \n",
        "`700,0.012369079515337900,0.008392450399696820,0.022633979097008600`\n",
        "\n",
        "If the range is shorter, it is no big trouble for the computations, but should be kept in mind for the interpretation of the results.\n",
        "\n",
        "**Note:** If you want, you could also use tetrachromatic ERGs. It can be used for analysis just like for the example dataset on <i>Lucilia</i>. Therefore, use 5 columns, in an analoguous manner to the order `wl,R7p,R8p,R7y,R8y`.  \n",
        "\n",
        "\n",
        "Run the following codeblock to upload private ERG data (it will not be stored for any other use.):"
      ],
      "id": "worst-legislature"
    },
    {
      "cell_type": "code",
      "metadata": {
        "id": "honest-duncan",
        "colab": {
          "base_uri": "https://localhost:8080/",
          "height": 49,
          "referenced_widgets": [
            "9b808ef114af417e95e3f1c722ea5aab",
            "40f28a7d1e7940a1b6360deefde53ee9",
            "39a6f4f5aaae4d15a541927a7fb32f8d"
          ]
        },
        "outputId": "c8196e36-ebba-4f70-896b-433fe66da016"
      },
      "source": [
        "erg_uploader = input_flowers()"
      ],
      "id": "honest-duncan",
      "execution_count": 14,
      "outputs": [
        {
          "output_type": "display_data",
          "data": {
            "application/vnd.jupyter.widget-view+json": {
              "model_id": "9b808ef114af417e95e3f1c722ea5aab",
              "version_minor": 0,
              "version_major": 2
            },
            "text/plain": [
              "FileUpload(value={}, accept='.csv', description='Upload')"
            ]
          },
          "metadata": {
            "tags": []
          }
        }
      ]
    },
    {
      "cell_type": "markdown",
      "metadata": {
        "id": "dated-airfare"
      },
      "source": [
        "Run the next codeblock to save your choice and upload data if given."
      ],
      "id": "dated-airfare"
    },
    {
      "cell_type": "code",
      "metadata": {
        "id": "rapid-malawi"
      },
      "source": [
        "apis_choice = apis_tick.value\n",
        "fly_choice = fly_tick.value\n",
        "\n",
        "flowers.set_different_erg(erg_uploader, apis=apis_choice, lucilia=fly_choice)"
      ],
      "id": "rapid-malawi",
      "execution_count": 31,
      "outputs": []
    },
    {
      "cell_type": "markdown",
      "metadata": {
        "id": "hidden-aurora"
      },
      "source": [
        "### Triangle - The insect receptor's perspective\n",
        "**Note: works only for tetrachromatic ERG datasets**"
      ],
      "id": "hidden-aurora"
    },
    {
      "cell_type": "markdown",
      "metadata": {
        "id": "pursuant-recording"
      },
      "source": [
        "A very intuitive plot on the observer's side is the triangle plot. It uses a triangle to map the relative quantum catches of all 3 receptors. Let $A$, $B$ and $C$ be the receptors. Then the relative quantum catch $ P_{A_{rel}} $ can be computed with  $ P_{A_{rel}} = \\frac{P_{A}}{P_{A} + P_{B} + P_{C}} $. This accounts in an analogous manner also for $ P_{B_{rel}} $ and $ P_{C_{rel}} $.\n",
        "\n",
        "After that, all 3 values for each sample can be transformed to points within the color triangle. Let $ v_{tri} \\in \\mathbb{R}^2 $ be a point within the triangle representing a measurement on all 3 receptors. Then, its coordinates can be computed as in:\n",
        "\n",
        "$$v_{tri} := \\left(\\begin{smallmatrix}x\\\\ y \\end{smallmatrix}\\right) := \\left(\\begin{smallmatrix} \\sqrt{\\frac{3}{4}} (- P_{A_{rel}} + P_{C_{rel}})\n",
        "    \\\\ P_{B_{rel}}-\\frac{P_{A_{rel}} + P_{C_{rel}})}{2} \\end{smallmatrix}\\right)$$\n",
        "\n",
        "Using that formula, it is possible to compute the position of each sample within the insects visual space. The receptor wavelength ranges are typically overlapping. That is the reason, why it is physiologically impossible that one receptor shares the total amount of quantum catch, whereas the others have none (e.g. $ P_{A_{rel}} = 1 $ and $ P_{B_{rel}} = 0 $ and $ P_{C_{rel}} = 0 $). Thus some points within the triangle are not possible to reach. That is, why the so called spectrum locus is depicted in the plot (grey area). It does not set the border of unreachable points on the spectrum, but defines a line of monochromatic measurements, that offers kind of an impression, where observed wavelength signals could end up (Attention: it may happen, that your samples end up outside the spectrum locus. That is no need to worry, as natural spectra are often not monochromatic and the computation uses the integral over all wavelengths. Therefore, some samples could end up outside of the spectrum locus). To infer the spectrum locus: Let $ w_l $ be a vector of theoretical reflexion measurements, where only the value for a singular wavelength $ l \\in [300,700] $ is larger than 0 (i.e. monochromatic spectrum). For this synthetic measurement, receptor specific quantum catch values $ P $ and further on a position on the triangle can be computed. This can be repeated for steps of 20-50 nm across the interval of `[300,700]`, although it is usually not done for wavelengths above $550$ nm, as the positions on the triangle do not change too much. This set of monochromatic spectra defines the so called spectrum locus on the triangle. So physiologically any measured spectrum must lie within the borders of this spectrum locus. The spectrum locus is visualized within the plot as a grey shape. For orientation, wavelength steps of 50 nm are depicted by a small text annotation telling the wavelength of the monochromatic spectrum at a given position.\n",
        "\n",
        "A last short note: The center point within the triangle means, the spectrum was indistinguishable from the green leaf standard."
      ],
      "id": "pursuant-recording"
    },
    {
      "cell_type": "markdown",
      "metadata": {
        "id": "original-greenhouse"
      },
      "source": [
        "#### A. Show plot for selected genus/leaf area"
      ],
      "id": "original-greenhouse"
    },
    {
      "cell_type": "code",
      "metadata": {
        "id": "graphic-metadata",
        "colab": {
          "base_uri": "https://localhost:8080/",
          "height": 540
        },
        "outputId": "2566fa00-6aab-49e8-a331-8d58619250de"
      },
      "source": [
        "fig = flowers.plot_triangle(genus=genus, area=area, show_fig=True)\n",
        "if fig is not None:\n",
        "  fig.show()"
      ],
      "id": "graphic-metadata",
      "execution_count": 32,
      "outputs": [
        {
          "output_type": "display_data",
          "data": {
            "image/png": "[encoded data removed]",
            "text/plain": [
              "<Figure size 864x648 with 1 Axes>"
            ]
          },
          "metadata": {
            "tags": [],
            "needs_background": "dark"
          }
        }
      ]
    },
    {
      "cell_type": "markdown",
      "metadata": {
        "id": "universal-spank"
      },
      "source": [
        "#### B. Produce all plots and save it"
      ],
      "id": "universal-spank"
    },
    {
      "cell_type": "code",
      "metadata": {
        "id": "known-sterling"
      },
      "source": [
        "flowers.plot_all_inclusive(plot_type=\"triangle\")"
      ],
      "id": "known-sterling",
      "execution_count": null,
      "outputs": []
    },
    {
      "cell_type": "markdown",
      "metadata": {
        "id": "comfortable-little"
      },
      "source": [
        "### Hexagon - The insect brain's perspective\n",
        "**Note: works only for trichromatic ERG datasets**"
      ],
      "id": "comfortable-little"
    },
    {
      "cell_type": "markdown",
      "metadata": {
        "id": "amino-filling"
      },
      "source": [
        "As the perception of spectral signals is different from how it is received by the receptor, and furthermore integration of all receptors with each other, different color opponent analysis strategies were developed. One of that is the color hexagon.\n",
        "\n",
        "Similar to the triangle, it maps the receptor's excitation values to a point on a hexagon. Let $ v_{hex} $ be a point on the hexagon, representing the exctitations of a sample. Then (again, $A$, $B$ and $C$ are the three receptors),\n",
        "\n",
        "$$v_{hex} := \\left(\\begin{smallmatrix}x\\\\ y \\end{smallmatrix}\\right) := \\left(\\begin{smallmatrix} \\sqrt{\\frac{3}{4}} (- E_{A} + E_{C})\n",
        "    \\\\ E_{B}-\\frac{E_{A} + E_{C})}{2} \\end{smallmatrix}\\right) .$$\n",
        "\n",
        "With this transformation, each spectrum can be plotted on the color hexagon. The advantage of the hexagon is the presence of 6 color categorizing areas, as a result of the color opponent installation. A point in one of these deltoid shaped areas around each corner of the hexagon, these reflect a strong perception of the samples spectrum on the receptor(s), depicted on the corner.\n",
        "\n",
        "As for the triangle, also the color hexagon has some physiological limitations. Again those can be inferred by a spectrum locus. Similarly, vectors $w_l$ of monochromatic spectra are used. Receptor specific quantum catch values $ P $ are inferred as for the color triangle. Then corrected relative quantum catch values $ P_{A_{correl}} $, $ P_{B_{correl}} $ and $ P_{C_{correl}} $ are computed for each of the monochromatic vectors, as given in example for $ P_{A_{correl}} $:\n",
        "$$ P_{A_{correl}} = \\frac{3 P_{A}}{P_{A} + P_{B} + P_{C} }$$\n",
        "\n",
        "The correcting factor `3` in the numerator should be highlighted. to account for the fact, that the overall intensity is a sum of three receptors in the denominator, but not in the numerator. \n",
        "\n",
        "After that, these factors $ P_{A_{correl}} $, $ P_{B_{correl}} $ and $ P_{C_{correl}} $ are used to generate excitation values using the non-linear transformation as described in the section of the color triangle. Finally, thesse receptor specific excitation values can be used to get the corresponding points on the hexagon, depicting the spectrum locus."
      ],
      "id": "amino-filling"
    },
    {
      "cell_type": "markdown",
      "metadata": {
        "id": "wrapped-brazilian"
      },
      "source": [
        "#### A. Show plot for selected genus/leaf area"
      ],
      "id": "wrapped-brazilian"
    },
    {
      "cell_type": "code",
      "metadata": {
        "id": "committed-certification",
        "colab": {
          "base_uri": "https://localhost:8080/",
          "height": 552
        },
        "outputId": "5e1656cf-3d5e-4089-f103-3240ba6ef8be"
      },
      "source": [
        "fig = flowers.plot_hexagon(genus=genus, area=area, show_fig=True)\n",
        "if fig is not None:\n",
        "  fig.show()"
      ],
      "id": "committed-certification",
      "execution_count": 33,
      "outputs": [
        {
          "output_type": "display_data",
          "data": {
            "image/png": "[encoded data removed]",
            "text/plain": [
              "<Figure size 864x648 with 1 Axes>"
            ]
          },
          "metadata": {
            "tags": [],
            "needs_background": "dark"
          }
        }
      ]
    },
    {
      "cell_type": "markdown",
      "metadata": {
        "id": "rotary-affect"
      },
      "source": [
        "#### B. Produce all plots and save it"
      ],
      "id": "rotary-affect"
    },
    {
      "cell_type": "code",
      "metadata": {
        "id": "natural-mason"
      },
      "source": [
        "flowers.plot_all_inclusive(plot_type=\"hexagon\")"
      ],
      "id": "natural-mason",
      "execution_count": null,
      "outputs": []
    },
    {
      "cell_type": "markdown",
      "metadata": {
        "id": "dXxBxBEU1WFW"
      },
      "source": [
        "### Tetrachromatic model - The insect brain's perspective\n",
        "**Note: works only for tetrachromatic ERG datasets**"
      ],
      "id": "dXxBxBEU1WFW"
    },
    {
      "cell_type": "markdown",
      "metadata": {
        "id": "DwmethZ_1vhL"
      },
      "source": [
        "This approach is very similar to the hexagon plot, but for tetrachromatic and not trichromatic insects. Let $A$, $B$, $C$, $D$ be the 4 different receptor types. We assume $A$|$B$ to be a pair of antagonistic receptors, as well as $C$|$D$ (following Troje 1993, with his pairs R7p|R8p and R7y|R8y). Then we map the excitation values over all 4 receptors for each sample to a two-dimensional plane. Let the position $v_{tetra}$ of a sample be defined as \n",
        "$$v_{tetra} := \\left(\\begin{smallmatrix}x\\\\ y \\end{smallmatrix}\\right) := \\left(\\begin{smallmatrix} E_{A} - E_{B}\n",
        "    \\\\ E_{C}-E_{D} \\end{smallmatrix}\\right) .$$\n",
        "\n",
        "Thus, we can visualize the theoretical antagonistic perception of samples and the spectum locus."
      ],
      "id": "DwmethZ_1vhL"
    },
    {
      "cell_type": "markdown",
      "metadata": {
        "id": "4NsA8gRS10u8"
      },
      "source": [
        "#### A. Show plot for selected genus/leaf area"
      ],
      "id": "4NsA8gRS10u8"
    },
    {
      "cell_type": "code",
      "metadata": {
        "colab": {
          "base_uri": "https://localhost:8080/",
          "height": 598
        },
        "id": "daZ24NkY1ZYZ",
        "outputId": "8c6951e8-4212-4203-c6bb-a7df533a9599"
      },
      "source": [
        "fig = flowers.plot_tetrachromate(genus=genus, area=area, show_fig=True)\n",
        "if fig is not None:\n",
        "  fig.show()"
      ],
      "id": "daZ24NkY1ZYZ",
      "execution_count": 21,
      "outputs": [
        {
          "output_type": "stream",
          "text": [
            "posx and posy should be finite values\n",
            "posx and posy should be finite values\n",
            "posx and posy should be finite values\n",
            "posx and posy should be finite values\n"
          ],
          "name": "stderr"
        },
        {
          "output_type": "display_data",
          "data": {
            "image/png": "[encoded data removed]",
            "text/plain": [
              "<Figure size 864x648 with 1 Axes>"
            ]
          },
          "metadata": {
            "tags": [],
            "needs_background": "dark"
          }
        }
      ]
    },
    {
      "cell_type": "markdown",
      "metadata": {
        "id": "aNAlUqZk197y"
      },
      "source": [
        "#### B. Produce all plots and save it"
      ],
      "id": "aNAlUqZk197y"
    },
    {
      "cell_type": "code",
      "metadata": {
        "id": "RqvtkEkx1-xW"
      },
      "source": [
        "flowers.plot_all_inclusive(plot_type=\"tetra\")"
      ],
      "id": "RqvtkEkx1-xW",
      "execution_count": null,
      "outputs": []
    },
    {
      "cell_type": "markdown",
      "metadata": {
        "id": "defensive-temperature"
      },
      "source": [
        "### Principal component anaysis on visual perception of spectra in insect's brain"
      ],
      "id": "defensive-temperature"
    },
    {
      "cell_type": "markdown",
      "metadata": {
        "id": "irish-ribbon"
      },
      "source": [
        "This plot runs again a PCA, but this time uses the receptor specific exctitation values $ E $. Thus, it illustrates the variance over all three receptor types."
      ],
      "id": "irish-ribbon"
    },
    {
      "cell_type": "markdown",
      "metadata": {
        "id": "common-trader"
      },
      "source": [
        "#### A. Show plot for selected genus/leaf area"
      ],
      "id": "common-trader"
    },
    {
      "cell_type": "code",
      "metadata": {
        "id": "cathedral-romantic",
        "colab": {
          "base_uri": "https://localhost:8080/",
          "height": 357
        },
        "outputId": "c2e37eb9-541d-4980-c1ed-1b8c3fd3b1e7"
      },
      "source": [
        "fig = flowers.plot_pca(genus=genus, area=area, show_fig=True, data_type=\"insect_vision\")\n",
        "fig.show()"
      ],
      "id": "cathedral-romantic",
      "execution_count": 23,
      "outputs": [
        {
          "output_type": "display_data",
          "data": {
            "image/png": "[encoded data removed]",
            "text/plain": [
              "<Figure size 576x432 with 1 Axes>"
            ]
          },
          "metadata": {
            "tags": [],
            "needs_background": "light"
          }
        }
      ]
    },
    {
      "cell_type": "markdown",
      "metadata": {
        "id": "static-baptist"
      },
      "source": [
        "#### B. Produce all plots and save it"
      ],
      "id": "static-baptist"
    },
    {
      "cell_type": "code",
      "metadata": {
        "id": "settled-glucose"
      },
      "source": [
        "flowers.plot_all_inclusive(plot_type=\"pca_insect_vision\")"
      ],
      "id": "settled-glucose",
      "execution_count": null,
      "outputs": []
    },
    {
      "cell_type": "markdown",
      "metadata": {
        "id": "several-glory"
      },
      "source": [
        "### Pairwise color distances"
      ],
      "id": "several-glory"
    },
    {
      "cell_type": "markdown",
      "metadata": {
        "id": "exposed-situation"
      },
      "source": [
        "Using the positions of all samples on the color hexagon, pairwise color distances can be obtained. This is done by a simple Euclidean metric of the cartesian coordinates of two points. Let $v_{1}$, $v_{2} \\in \\mathbb{R}^2$ be the positions of two samples on the color hexagon defined as $v_{1} := \\left(\\begin{smallmatrix}x_1\\\\ y_1 \\end{smallmatrix}\\right)$ and $v_{2} := \\left(\\begin{smallmatrix}x_2\\\\ y_2 \\end{smallmatrix}\\right)$. Then $$ D_{v_1,v_2} = \\sqrt{(x_1-x_2)^2+(y_1-y_2)^2} $$ is the so called color distance between both samples. These will be visualized in two different plots.\n",
        "\n",
        "By saving the plots, also the distance matrix between all samples is saved."
      ],
      "id": "exposed-situation"
    },
    {
      "cell_type": "markdown",
      "metadata": {
        "id": "handed-mouse"
      },
      "source": [
        "#### Dendrogram"
      ],
      "id": "handed-mouse"
    },
    {
      "cell_type": "markdown",
      "metadata": {
        "id": "appointed-retention"
      },
      "source": [
        "The dendrogram uses the Ward's D clustering algorithm and illustrates the color distances on a binary tree."
      ],
      "id": "appointed-retention"
    },
    {
      "cell_type": "markdown",
      "metadata": {
        "id": "fiscal-smith"
      },
      "source": [
        "#### A. Show plot for selected genus/leaf area"
      ],
      "id": "fiscal-smith"
    },
    {
      "cell_type": "code",
      "metadata": {
        "id": "italian-script",
        "colab": {
          "base_uri": "https://localhost:8080/",
          "height": 520
        },
        "outputId": "880c5a23-e383-4934-c92d-61332e561f6f"
      },
      "source": [
        "fig = flowers.plot_distances(genus=genus, area=area, show_fig=True, plot_type=\"dendrogram\")\n",
        "fig.show()"
      ],
      "id": "italian-script",
      "execution_count": 25,
      "outputs": [
        {
          "output_type": "stream",
          "text": [
            "/usr/local/lib/python3.7/dist-packages/matplotlib/colors.py:263: VisibleDeprecationWarning: Creating an ndarray from ragged nested sequences (which is a list-or-tuple of lists-or-tuples-or ndarrays with different lengths or shapes) is deprecated. If you meant to do this, you must specify 'dtype=object' when creating the ndarray\n",
            "  c = np.array(c)\n"
          ],
          "name": "stderr"
        },
        {
          "output_type": "display_data",
          "data": {
            "image/png": "[encoded data removed]",
            "text/plain": [
              "<Figure size 576x432 with 1 Axes>"
            ]
          },
          "metadata": {
            "tags": []
          }
        }
      ]
    },
    {
      "cell_type": "markdown",
      "metadata": {
        "id": "concerned-sampling"
      },
      "source": [
        "#### B. Produce all plots and save it"
      ],
      "id": "concerned-sampling"
    },
    {
      "cell_type": "code",
      "metadata": {
        "id": "cathedral-attack"
      },
      "source": [
        "flowers.plot_all_inclusive(plot_type=\"dendrogram\")"
      ],
      "id": "cathedral-attack",
      "execution_count": null,
      "outputs": []
    },
    {
      "cell_type": "markdown",
      "metadata": {
        "id": "frequent-cardiff"
      },
      "source": [
        "#### Heatmap"
      ],
      "id": "frequent-cardiff"
    },
    {
      "cell_type": "markdown",
      "metadata": {
        "id": "color-sitting"
      },
      "source": [
        "The heatmap is kind of a colorful depiction of the distance matrix, highlighting pairwise color distances. "
      ],
      "id": "color-sitting"
    },
    {
      "cell_type": "markdown",
      "metadata": {
        "id": "printable-preference"
      },
      "source": [
        "#### A. Show plot for selected genus/leaf area"
      ],
      "id": "printable-preference"
    },
    {
      "cell_type": "code",
      "metadata": {
        "id": "loving-egyptian",
        "colab": {
          "base_uri": "https://localhost:8080/",
          "height": 424
        },
        "outputId": "99839aa4-2568-49b7-dab4-31ecb64d93e8"
      },
      "source": [
        "fig = flowers.plot_distances(genus=genus, area=area, show_fig=True, plot_type=\"heatmap\")\n",
        "fig.show()"
      ],
      "id": "loving-egyptian",
      "execution_count": 27,
      "outputs": [
        {
          "output_type": "display_data",
          "data": {
            "image/png": "[encoded data removed]",
            "text/plain": [
              "<Figure size 576x432 with 2 Axes>"
            ]
          },
          "metadata": {
            "tags": [],
            "needs_background": "light"
          }
        }
      ]
    },
    {
      "cell_type": "markdown",
      "metadata": {
        "id": "strong-yellow"
      },
      "source": [
        "#### B. Produce all plots and save it"
      ],
      "id": "strong-yellow"
    },
    {
      "cell_type": "code",
      "metadata": {
        "id": "therapeutic-packaging"
      },
      "source": [
        "flowers.plot_all_inclusive(plot_type=\"heatmap\")"
      ],
      "id": "therapeutic-packaging",
      "execution_count": 29,
      "outputs": []
    },
    {
      "cell_type": "markdown",
      "metadata": {
        "id": "committed-landing"
      },
      "source": [
        "## Download all plots"
      ],
      "id": "committed-landing"
    },
    {
      "cell_type": "markdown",
      "metadata": {
        "id": "handed-deadline"
      },
      "source": [
        "So after producing several plots for physical and physiological spectrum analysis, the directory storing all can be downloaded here:"
      ],
      "id": "handed-deadline"
    },
    {
      "cell_type": "code",
      "metadata": {
        "id": "muslim-carry"
      },
      "source": [
        "flowers.download_data()"
      ],
      "id": "muslim-carry",
      "execution_count": null,
      "outputs": []
    },
    {
      "cell_type": "markdown",
      "metadata": {
        "id": "indie-sport"
      },
      "source": [
        "## Clean up temporary directory"
      ],
      "id": "indie-sport"
    },
    {
      "cell_type": "markdown",
      "metadata": {
        "id": "necessary-string"
      },
      "source": [
        "Please run the following codeblock to remove the temporary directory (warning: download the directory first, as this will delete all plots stored.)"
      ],
      "id": "necessary-string"
    },
    {
      "cell_type": "code",
      "metadata": {
        "id": "determined-overhead"
      },
      "source": [
        "flowers.close_temporary_dir()"
      ],
      "id": "determined-overhead",
      "execution_count": null,
      "outputs": []
    },
    {
      "cell_type": "markdown",
      "metadata": {
        "id": "efficient-recommendation"
      },
      "source": [
        "# Some additional information"
      ],
      "id": "efficient-recommendation"
    },
    {
      "cell_type": "markdown",
      "metadata": {
        "id": "flexible-karaoke"
      },
      "source": [
        "The Floral Reflectance Database (FReD; http://www.reflectance.co.uk/) stores reflectance data of several taxa. It is a great source for getting insights in the wide spectrum of floral spectra. As science is about cooperation and open data enables much more comparative studies, consider to submit you reflectance data there.\n",
        "\n",
        "If you are looking for data of ERGs on specific taxa, a good summary can be found in the review by van der Kooi et al 2021. Its supplementary material involves a list of information on vision physiology of more than 300 insect taxa, including references.\n",
        "\n",
        "This notebook was constructed by the support of Thomas Rupp (Salzburg, Austria), thanks for the help with the analysis. Thanks! And huge thanks to Chittka & Kevan for developing such a chilled, useful & straight forward method.\n",
        "\n",
        "Also, this notebook uses a code by Dan Bruton to convert wavelengths to RGB colors: http://www.physics.sfasu.edu/astro/color/spectra.html\n",
        "Thanks for that great invention."
      ],
      "id": "flexible-karaoke"
    },
    {
      "cell_type": "markdown",
      "metadata": {
        "id": "administrative-simpson"
      },
      "source": [
        "# References"
      ],
      "id": "administrative-simpson"
    },
    {
      "cell_type": "markdown",
      "metadata": {
        "id": "three-nurse"
      },
      "source": [
        "- Briscoe, A.D. and Chittka, L., 2001. The evolution of color vision in insects. Annual review of entomology, 46(1), pp.471-510.\n",
        "- Chittka, L. and Kevan P., 2005. Flower colour as advertisement In Dafni A., Kevan P. & Husband B.C., (Eds.), Practical pollination biology (pp. 157–196). Enviroquest Ltd: Cambridge, Canada.\n",
        "- Chittka, L. and Waser, N.M., 1997. Why red flowers are not invisible to bees. Israel Journal of Plant Sciences, 45(2-3), pp.169-183.\n",
        "- Peitsch, D., Fietz, A., Hertel, H., de Souza, J., Ventura, D.F. and Menzel, R., 1992. The spectral input systems of hymenopteran insects and their receptor-based colour vision. Journal of Comparative Physiology A, 170(1), pp.23-40.\n",
        "- Troje, N., 1993. Spectral categories in the learning behaviour of blowflies. Zeitschrift für Naturforschung C, 48(1-2), pp.96-104.\n",
        "- van der Kooi, C.J., Stavenga, D.G., Arikawa, K., Belušič, G. and Kelber, A., 2021. Evolution of insect color vision: From spectral sensitivity to visual ecology. Annual Review of Entomology, 66.\n",
        "- Wyszecki, G. and Stiles, W.S., 1982. Color Science: Concepts and Methods, Quantitative Data and Formulae. Wiley.\n"
      ],
      "id": "three-nurse"
    }
  ]
}