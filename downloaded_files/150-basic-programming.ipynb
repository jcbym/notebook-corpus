{
 "cells": [
  {
   "cell_type": "markdown",
   "metadata": {},
   "source": [
    "# Priority Queue"
   ]
  },
  {
   "cell_type": "code",
   "execution_count": 1,
   "metadata": {},
   "outputs": [],
   "source": [
    "# Binary heap implementation\n",
    "# Using complete binary tree\n",
    "\n",
    "class MinPriorityQueue():\n",
    "    def __init__(self):\n",
    "        self.key_idx = {}\n",
    "        self.key = []\n",
    "        self.val = []\n",
    "        self.size = 0\n",
    "    \n",
    "    def parent(self, i):\n",
    "        return (i - 1) // 2\n",
    "    \n",
    "    def left_child(self, i):\n",
    "        return 2*i + 1\n",
    "    \n",
    "    def right_child(self, i):\n",
    "        return 2*i + 2\n",
    "    \n",
    "    def sift_down(self, idx):\n",
    "        if idx == -1: idx = len(self.val) - 1\n",
    "            \n",
    "        i = idx\n",
    "        def recur(i):\n",
    "            if i >= self.size: return\n",
    "            \n",
    "            il = self.left_child(i)\n",
    "            ir = self.right_child(i)\n",
    "            \n",
    "            if (ir >= self.size) and (il < self.size):\n",
    "                im = il\n",
    "            elif (il >= self.size) and (ir < self.size):\n",
    "                im = ir\n",
    "            elif (il >= self.size) and (ir >= self.size):\n",
    "                return\n",
    "            else:\n",
    "                im = ir if self.val[il] >= self.val[ir] else il\n",
    "                        \n",
    "            if self.val[i] > self.val[im]:\n",
    "                self.val[i], self.val[im] = self.val[im], self.val[i]\n",
    "                self.key[i], self.key[im] = self.key[im], self.key[i]\n",
    "                self.key_idx[self.key[i]] = i\n",
    "                self.key_idx[self.key[im]] = im\n",
    "                recur(im)\n",
    "            \n",
    "            else: return\n",
    "        recur(i)\n",
    "        return self.val\n",
    "    \n",
    "    def sift_up(self, idx):\n",
    "        if idx == -1: idx = len(self.val) - 1\n",
    "        \n",
    "        i = idx\n",
    "        def recur(i):\n",
    "            if i <= 0: return\n",
    "            \n",
    "            ip = self.parent(i)\n",
    "            \n",
    "            if self.val[ip] <= self.val[i]: return\n",
    "            else:\n",
    "                self.val[i], self.val[ip] = self.val[ip], self.val[i]\n",
    "                self.key[i], self.key[ip] = self.key[ip], self.key[i]\n",
    "                self.key_idx[self.key[i]] = i\n",
    "                self.key_idx[self.key[ip]] = ip\n",
    "                recur(ip)\n",
    "        recur(i)\n",
    "        return self.val\n",
    "    \n",
    "    def pop(self):\n",
    "        if self.val is None: return \"Empty Heap\"\n",
    "        if self.size == 1:\n",
    "            self.size = 0\n",
    "            return self.key.pop(), self.val.pop()\n",
    "        \n",
    "        self.size = self.size - 1\n",
    "        self.val[0], self.val[-1] = self.val[-1], self.val[0]\n",
    "        self.key[0], self.key[-1] = self.key[-1], self.key[0]\n",
    "        val = self.val.pop()\n",
    "        key = self.key.pop()\n",
    "        \n",
    "        del self.key_idx[key]\n",
    "        self.key_idx[self.key[0]] = 0\n",
    "        \n",
    "        self.sift_down(0)\n",
    "        \n",
    "        return key, val\n",
    "    \n",
    "    def push(self, key, data):\n",
    "        self.size = self.size + 1\n",
    "        self.val.append(data)\n",
    "        self.key.append(key)\n",
    "        self.key_idx[key] = self.size - 1\n",
    "        \n",
    "        self.sift_up(-1)\n",
    "        return self.val\n",
    "    \n",
    "    def change_val(self, key, val):\n",
    "        idx = self.key_idx[key]\n",
    "        self.val[idx] = val\n",
    "        self.sift_down(idx)\n",
    "        self.sift_up(idx)\n",
    "        \n",
    "    def get_val(self, key):\n",
    "        return self.val[self.key_idx[key]]"
   ]
  },
  {
   "cell_type": "code",
   "execution_count": 2,
   "metadata": {},
   "outputs": [
    {
     "name": "stdout",
     "output_type": "stream",
     "text": [
      "1 A\n",
      "2 C\n",
      "3 B\n",
      "4 G\n",
      "5 D\n",
      "6 F\n",
      "8 E\n"
     ]
    }
   ],
   "source": [
    "queue = MinPriorityQueue()\n",
    "\n",
    "queue.push('A', 1)\n",
    "queue.push('B', 3)\n",
    "queue.push('C', 2)\n",
    "queue.push('D', 5)\n",
    "queue.push('E', 8)\n",
    "queue.push('F', 6)\n",
    "queue.push('G', 10)\n",
    "queue.change_val('G', 4)\n",
    "\n",
    "for x in range(queue.size):\n",
    "    key, val = queue.pop()\n",
    "    print(val, key)"
   ]
  },
  {
   "cell_type": "markdown",
   "metadata": {},
   "source": [
    "# Djikstra"
   ]
  },
  {
   "cell_type": "code",
   "execution_count": 3,
   "metadata": {},
   "outputs": [],
   "source": [
    "class AdjNode():\n",
    "    def __init__(self, key, cost):\n",
    "        self.key = key\n",
    "        self.cost = cost\n",
    "        \n",
    "class Djikstra():\n",
    "    def __init__(self, graph):\n",
    "        self.graph = graph\n",
    "        \n",
    "    def optimal_path(self, start, end):\n",
    "        init_val = 1_000_000_000_000_000_000\n",
    "        \n",
    "        queue = MinPriorityQueue()\n",
    "        for node in self.graph:\n",
    "            if node == start: queue.push(node, 0)\n",
    "            else: queue.push(node, init_val)\n",
    "        \n",
    "        path = {start: {'val': 0, 'path': [start]}}\n",
    "        for _ in range(queue.size):\n",
    "            key, val = queue.pop()\n",
    "            for node in self.graph[key]:\n",
    "                if node is None: continue\n",
    "                if node.key not in queue.key: continue\n",
    "                val_node_cur = queue.get_val(node.key)\n",
    "                new_candidate_cost = path[key]['val'] + node.cost\n",
    "                if val_node_cur > new_candidate_cost:\n",
    "                    path[node.key] = {'val': new_candidate_cost, 'path': path[key]['path']+[node.key]}\n",
    "                    queue.change_val(node.key, new_candidate_cost)\n",
    "            if val == init_val:\n",
    "                return f\"No path from {start} to {end}\"\n",
    "            if end == key:\n",
    "                return path[end]\n",
    "        return f\"No path from {start} to {end}\""
   ]
  },
  {
   "cell_type": "code",
   "execution_count": 4,
   "metadata": {},
   "outputs": [],
   "source": [
    "graph1 = {'S': [AdjNode('A', 5), AdjNode('B', 10)],\n",
    "          'A': [AdjNode('B', 3), AdjNode('C', 7), AdjNode('D', 1)],\n",
    "          'B': [None],\n",
    "          'C': [None],\n",
    "          'D': [None]}"
   ]
  },
  {
   "cell_type": "code",
   "execution_count": 5,
   "metadata": {},
   "outputs": [
    {
     "data": {
      "text/plain": [
       "{'val': 6, 'path': ['S', 'A', 'D']}"
      ]
     },
     "execution_count": 5,
     "metadata": {},
     "output_type": "execute_result"
    }
   ],
   "source": [
    "Djikstra(graph1).optimal_path('S', 'D')"
   ]
  },
  {
   "cell_type": "code",
   "execution_count": null,
   "metadata": {},
   "outputs": [],
   "source": []
  }
 ],
 "metadata": {
  "kernelspec": {
   "display_name": "Python 3",
   "language": "python",
   "name": "python3"
  },
  "language_info": {
   "codemirror_mode": {
    "name": "ipython",
    "version": 3
   },
   "file_extension": ".py",
   "mimetype": "text/x-python",
   "name": "python",
   "nbconvert_exporter": "python",
   "pygments_lexer": "ipython3",
   "version": "3.7.9"
  }
 },
 "nbformat": 4,
 "nbformat_minor": 4
}
