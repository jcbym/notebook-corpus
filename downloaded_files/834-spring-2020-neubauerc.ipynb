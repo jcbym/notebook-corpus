{
 "cells": [
  {
   "cell_type": "markdown",
   "metadata": {},
   "source": [
    "## Now You Code In Class: Where Can I Get Something to Eat?\n",
    "\n",
    "Let's write an application which uses the Zomato api https://developers.zomato.com/api to provide access to local area restaurants.\n",
    "\n",
    "The basic gist of the application will be:\n",
    "\n",
    "1. ask for a location\n",
    "2. ask for the type of cuisine you are interested in\n",
    "3. output restaurant suggestions \n",
    "4. when one is selected display the address and phone number.\n",
    "\n",
    "\n",
    "You should try to implement the following functions below. I suggest taking a **bottom-up problem solving approach**, first writing the function, testing it, and then finally using them in the main program. Remember good functions should do one thing well and have data inputs and data outputs through the return statement. They should be immutable, meaning the function does not change data but instead it returns the data back to the caller.\n",
    "\n",
    "Once you implement the functions, implement your main program. Then implement any error handling.\n"
   ]
  },
  {
   "cell_type": "markdown",
   "metadata": {},
   "source": [
    "## Step 1: Problem Analysis\n",
    "\n",
    "Inputs:\n",
    "\n",
    "Outputs:\n",
    "\n",
    "Algorithm (Steps in Program):\n"
   ]
  },
  {
   "cell_type": "code",
   "execution_count": 1,
   "metadata": {},
   "outputs": [],
   "source": [
    "import requests \n",
    "\n",
    "zomato_key = 'EnterYourKeyHere'\n",
    "\n",
    "def get_city_id(zomato_key, city_state):\n",
    "    '''\n",
    "        returns the first city_id in the search results, None when there are no results.\n",
    "        return city_id \n",
    "    '''\n",
    "    # todo: implement here\n",
    "    \n",
    "\n",
    "def search_area(zomato_key, city_id, keywords):\n",
    "    '''\n",
    "        returns a list of restaurants in the city_id matching keywords\n",
    "        return list of restaurants \n",
    "    '''\n",
    "    # todo: implement here\n",
    "\n",
    "def restaurant_details(zomato_key, rest_id):\n",
    "    '''\n",
    "        returns a details of a restaurant given the rest_id \n",
    "        return on success: {'status' : 'ok', 'message' : 'ok', 'details' : details }\n",
    "        return on failure: {'status' : 'error', 'message' : 'Reason for failure.', 'details' : None }\n",
    "    '''\n",
    "    # todo: implement here\n",
    "\n",
    "    \n",
    "    \n",
    "# MAIN\n"
   ]
  },
  {
   "cell_type": "code",
   "execution_count": 15,
   "metadata": {},
   "outputs": [],
   "source": []
  },
  {
   "cell_type": "code",
   "execution_count": null,
   "metadata": {},
   "outputs": [],
   "source": []
  }
 ],
 "metadata": {
  "kernelspec": {
   "display_name": "Python 3",
   "language": "python",
   "name": "python3"
  },
  "language_info": {
   "codemirror_mode": {
    "name": "ipython",
    "version": 3
   },
   "file_extension": ".py",
   "mimetype": "text/x-python",
   "name": "python",
   "nbconvert_exporter": "python",
   "pygments_lexer": "ipython3",
   "version": "3.6.6"
  },
  "toc": {
   "base_numbering": 1,
   "nav_menu": {},
   "number_sections": false,
   "sideBar": false,
   "skip_h1_title": false,
   "title_cell": "Table of Contents",
   "title_sidebar": "Contents",
   "toc_cell": false,
   "toc_position": {},
   "toc_section_display": false,
   "toc_window_display": false
  }
 },
 "nbformat": 4,
 "nbformat_minor": 2
}
