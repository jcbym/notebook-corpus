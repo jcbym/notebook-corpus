{
  "cells": [
    {
      "cell_type": "code",
      "execution_count": null,
      "metadata": {
        "collapsed": false
      },
      "outputs": [],
      "source": [
        "%matplotlib inline"
      ]
    },
    {
      "cell_type": "markdown",
      "metadata": {},
      "source": [
        "\n# Find Photodiode Events\nIn this example, we use ``pd-parser`` to find photodiode events and\nalign them to behavior. Then, we save the data to BIDS format.\n"
      ]
    },
    {
      "cell_type": "code",
      "execution_count": null,
      "metadata": {
        "collapsed": false
      },
      "outputs": [],
      "source": [
        "# Authors: Alex Rockhill <aprockhill@mailbox.org>\n#\n# License: BSD (3-clause)"
      ]
    },
    {
      "cell_type": "markdown",
      "metadata": {},
      "source": [
        "Simulate data and use it to make a raw object\n\nWe'll make an `mne.io.Raw object` so that we can save out some random\ndata with a photodiode event channel in it in `fif` format (a commonly used\nelectrophysiology data format).\n\n"
      ]
    },
    {
      "cell_type": "code",
      "execution_count": null,
      "metadata": {
        "collapsed": false
      },
      "outputs": [],
      "source": [
        "import os.path as op\nimport numpy as np\n\nimport mne\nfrom mne.utils import _TempDir\n\nimport pd_parser\nfrom pd_parser.parse_pd import _read_raw, _to_tsv\n\nout_dir = _TempDir()\nprint(f'After running this example, you can find the data here: {out_dir}')\n\n# simulate photodiode data\nn_events = 300\nprop_corrupted = 0.01\nraw, beh, events, corrupted_indices = \\\n    pd_parser.simulate_pd_data(n_events=n_events,\n                               prop_corrupted=prop_corrupted)\n\n# make fake electrophysiology data\ninfo = mne.create_info(['ch1', 'ch2', 'ch3'], raw.info['sfreq'],\n                       ['seeg'] * 3)\nraw2 = mne.io.RawArray(np.random.random((3, raw.times.size)) * 1e-6, info)\nraw2.info['lowpass'] = raw.info['lowpass']  # these must match to combine\nraw.add_channels([raw2])\n# bids needs these data fields\nraw.info['dig'] = None\nraw.info['line_freq'] = 60\n\nfname = op.join(out_dir, 'sub-1_task-mytask_raw.fif')\nraw.save(fname)\n\n# roundtrip so that raw is properly loaded from disk and has a filename\nraw = _read_raw(fname)"
      ]
    },
    {
      "cell_type": "markdown",
      "metadata": {},
      "source": [
        "Make behavior data\n\nWe'll make a dictionary with lists for the events that are time-stamped when\nthe photodiode was turned on and other events relative to those events.\nWe'll add some noise to the time-stamps so that we can see how behavior\nmight look in an experimental setting.\nLet's make a task where there is a fixation stimulus, then a go cue,\nand a then response as an example.\n\n"
      ]
    },
    {
      "cell_type": "code",
      "execution_count": null,
      "metadata": {
        "collapsed": false
      },
      "outputs": [],
      "source": [
        "np.random.seed(12)\n# add some noise to make it harder to align, use just over\n# the exclusion of 0.03 to make some events excluded\noffsets = np.random.random(n_events) * 0.035 - 0.0125\n# in this example, the fixation would always be 700 ms\n# after which point a cue would appear which is the \"go time\"\ngo_time = np.repeat(0.7, n_events)\n# let's make the response time between 0.5 and 1.5 seconds uniform random\nresponse_time = list(go_time + np.random.random(n_events) + 1.5)\nfor i in [10, 129, 232, 288]:\n    response_time[i] = 'n/a'  # make some no responses\n\n\n# put in dictionary to be converted to tsv file\nbeh['fix_onset_time'] = beh['time'] + offsets\nbeh['go_time'] = go_time\nbeh['response_time'] = response_time\nbehf = op.join(out_dir, 'sub-1_task-mytask_beh.tsv')\n# save behavior file out\n_to_tsv(behf, beh)"
      ]
    },
    {
      "cell_type": "markdown",
      "metadata": {},
      "source": [
        "Use the interactive graphical user interface (GUI) to find parameters\n\nOn the documentation webpage, this is example is not interactive,\nbut if you download it as a jupyter notebook and run it or copy the code\ninto a console running python (ipython recommended), you can see how to\ninteract with the photodiode data to pick reasonable parameters by\nfollowing the instructions.\n\n"
      ]
    },
    {
      "cell_type": "code",
      "execution_count": null,
      "metadata": {
        "collapsed": false
      },
      "outputs": [],
      "source": [
        "pd_parser.find_pd_params(raw, pd_ch_names=['pd'])"
      ]
    },
    {
      "cell_type": "markdown",
      "metadata": {},
      "source": [
        "Find the photodiode events relative to the behavioral timing of interest\n\nThis function will use the default parameters or the parameters you\nfound from :func:`pd_parser.find_pd_parameters` to find and align the\nphotodiode events, excluding events that were off because the computer\nhung up on computation, for instance. That data is saved in the same folder\nas the raw file (in this case, a temperary directory generated by\n:func:`_TempDir`). The data can be used directly, or it can be accessed via\n:func:`pd_parser.pd_parser_save_to_bids` to store it in the brain imagine\ndata structure (BIDS) standardized format before using it.\n\n"
      ]
    },
    {
      "cell_type": "code",
      "execution_count": null,
      "metadata": {
        "collapsed": false
      },
      "outputs": [],
      "source": [
        "pd_parser.parse_pd(raw, beh=beh, pd_ch_names=['pd'], max_len=1.5)"
      ]
    },
    {
      "cell_type": "markdown",
      "metadata": {},
      "source": [
        "Add events relative to the photodiode events\n\nThe photodiode is usually sychronized to one event (e.g. the fixation\nso that if the deflections caused by the photodiode are large enough\nto influence other channels through amplifier interactions it doesn't\ncause issues with the analysis) so often the events of interest are\nrelative to the photodiode event. In the task a timer can be started at the\nphotodiode event and checked each time a subsequent event occurs.\nThese events should then be recorded in tsv file, which can be passed to\n``pd-parser`` in order to add the events.\nNote: if more than one photodiode event is used, the parser can be\nused for each event separately using the keyword `add_event=True`.\n\n"
      ]
    },
    {
      "cell_type": "code",
      "execution_count": null,
      "metadata": {
        "collapsed": false
      },
      "outputs": [],
      "source": [
        "pd_parser.add_relative_events(\n    raw, beh,\n    relative_event_keys=['go_time', 'response_time'],\n    relative_event_names=['Go Cue', 'Response'])"
      ]
    },
    {
      "cell_type": "markdown",
      "metadata": {},
      "source": [
        "Save data to BIDS format\n\nThis saves our data to BIDS format so that it's ready to be analyzed in a\nreproducible way; BIDS requires all the files the BIDS community has deemed\nnecessary for analysis, so you should have everything you need to continue\non with an analysis at this point. See https://bids.neuroimaging.io/ and\nhttps://mne.tools/mne-bids/ for more information about BIDS.\n\n"
      ]
    },
    {
      "cell_type": "code",
      "execution_count": null,
      "metadata": {
        "collapsed": false
      },
      "outputs": [],
      "source": [
        "pd_parser.save_to_bids(op.join(out_dir, 'bids_dir'), fname,\n                       sub='1', task='mytask')"
      ]
    }
  ],
  "metadata": {
    "kernelspec": {
      "display_name": "Python 3",
      "language": "python",
      "name": "python3"
    },
    "language_info": {
      "codemirror_mode": {
        "name": "ipython",
        "version": 3
      },
      "file_extension": ".py",
      "mimetype": "text/x-python",
      "name": "python",
      "nbconvert_exporter": "python",
      "pygments_lexer": "ipython3",
      "version": "3.9.1"
    }
  },
  "nbformat": 4,
  "nbformat_minor": 0
}