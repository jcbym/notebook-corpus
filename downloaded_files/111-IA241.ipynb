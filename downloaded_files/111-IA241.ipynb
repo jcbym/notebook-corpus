{
 "cells": [
  {
   "cell_type": "code",
   "execution_count": 1,
   "id": "827ad136",
   "metadata": {},
   "outputs": [
    {
     "name": "stdout",
     "output_type": "stream",
     "text": [
      "Hello, World!\n"
     ]
    }
   ],
   "source": [
    "print(\"Hello, World!\")\n"
   ]
  },
  {
   "cell_type": "code",
   "execution_count": 2,
   "id": "d58405c0",
   "metadata": {},
   "outputs": [
    {
     "name": "stdout",
     "output_type": "stream",
     "text": [
      "This is my Jupyter Notebook\n"
     ]
    }
   ],
   "source": [
    "print(\"This is my Jupyter Notebook\")"
   ]
  },
  {
   "cell_type": "markdown",
   "id": "9bab23bf",
   "metadata": {},
   "source": [
    "#Lab10"
   ]
  },
  {
   "cell_type": "markdown",
   "id": "007972a7",
   "metadata": {},
   "source": [
    "#Lab10"
   ]
  },
  {
   "cell_type": "markdown",
   "id": "08310602",
   "metadata": {},
   "source": [
    "1. Item 1\n",
    "2. Item 2\n",
    "3. Item 3"
   ]
  },
  {
   "cell_type": "markdown",
   "id": "190a2c9a",
   "metadata": {},
   "source": [
    "# Lab10\n"
   ]
  },
  {
   "cell_type": "markdown",
   "id": "db1f7a33",
   "metadata": {},
   "source": [
    "[Johnny Cash, and Waylon Brown, \"The Highway Man\"](https://youtu.be/uLfYD_Kfqrs)\n"
   ]
  },
  {
   "cell_type": "markdown",
   "id": "544f6767",
   "metadata": {},
   "source": [
    "![Corgi!](https://nationaltoday.com/wp-content/uploads/2021/06/International-Corgi-Day-1.jpg)"
   ]
  },
  {
   "cell_type": "code",
   "execution_count": null,
   "id": "bab21644",
   "metadata": {},
   "outputs": [],
   "source": []
  }
 ],
 "metadata": {
  "kernelspec": {
   "display_name": "conda_python3",
   "language": "python",
   "name": "conda_python3"
  },
  "language_info": {
   "codemirror_mode": {
    "name": "ipython",
    "version": 3
   },
   "file_extension": ".py",
   "mimetype": "text/x-python",
   "name": "python",
   "nbconvert_exporter": "python",
   "pygments_lexer": "ipython3",
   "version": "3.6.13"
  }
 },
 "nbformat": 4,
 "nbformat_minor": 5
}
