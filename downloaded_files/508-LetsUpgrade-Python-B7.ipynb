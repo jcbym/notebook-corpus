{
 "cells": [
  {
   "cell_type": "code",
   "execution_count": null,
   "metadata": {},
   "outputs": [],
   "source": [
    "#Assignment"
   ]
  },
  {
   "cell_type": "code",
   "execution_count": 8,
   "metadata": {
    "colab": {
     "base_uri": "https://localhost:8080/",
     "height": 34
    },
    "colab_type": "code",
    "id": "J3ZqQ5g4pmE-",
    "outputId": "2e724254-6d7e-42aa-afb5-d946d79ff939"
   },
   "outputs": [
    {
     "name": "stdout",
     "output_type": "stream",
     "text": [
      "The first armstrong number is 1741725\n"
     ]
    }
   ],
   "source": [
    "for i in range(1042000, 702648265):\n",
    "  num = i\n",
    "  result = 0\n",
    "  n = len(str(i))\n",
    "  while i != 0 :\n",
    "    digit = i%10\n",
    "    result = result + digit ** n\n",
    "    i = i//10\n",
    "  if num == result :\n",
    "    print(\"The first armstrong number is\", num)\n",
    "    break"
   ]
  }
 ],
 "metadata": {
  "colab": {
   "name": "Assignment_day4.ipynb",
   "provenance": []
  },
  "kernelspec": {
   "display_name": "Python 3",
   "language": "python",
   "name": "python3"
  },
  "language_info": {
   "codemirror_mode": {
    "name": "ipython",
    "version": 3
   },
   "file_extension": ".py",
   "mimetype": "text/x-python",
   "name": "python",
   "nbconvert_exporter": "python",
   "pygments_lexer": "ipython3",
   "version": "3.8.3"
  }
 },
 "nbformat": 4,
 "nbformat_minor": 1
}
