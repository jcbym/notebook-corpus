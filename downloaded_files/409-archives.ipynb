{
 "cells": [
  {
   "cell_type": "code",
   "execution_count": null,
   "metadata": {},
   "outputs": [],
   "source": [
    "for i in range(int(input())):\n",
    "    n = int(input())\n",
    "    result = 0\n",
    "\n",
    "    for i in range(999, 99, -1):\n",
    "        for j in range(999, i-1, -1):\n",
    "            p = i*j\n",
    "\n",
    "            if p>n:\n",
    "                continue\n",
    "\n",
    "            if p <= result:\n",
    "                break\n",
    "\n",
    "            if p<n and str(p)==str(p)[::-1]:\n",
    "                result = p\n",
    "\n",
    "    print (result)"
   ]
  },
  {
   "cell_type": "code",
   "execution_count": null,
   "metadata": {},
   "outputs": [],
   "source": []
  }
 ],
 "metadata": {
  "kernelspec": {
   "display_name": "Python 3",
   "language": "python",
   "name": "python3"
  },
  "language_info": {
   "codemirror_mode": {
    "name": "ipython",
    "version": 3
   },
   "file_extension": ".py",
   "mimetype": "text/x-python",
   "name": "python",
   "nbconvert_exporter": "python",
   "pygments_lexer": "ipython3",
   "version": "3.7.6"
  }
 },
 "nbformat": 4,
 "nbformat_minor": 4
}
