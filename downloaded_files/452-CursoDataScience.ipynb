{
 "cells": [
  {
   "cell_type": "markdown",
   "metadata": {},
   "source": [
    "# Introdução a Machine Learning\n",
    "\n",
    "![image.png](http://www.santodigital.com.br/wp-content/uploads/2017/09/5-exemplos-de-uso-do-machine-learning-em-empresas.jpg)\n",
    "\n",
    "#### Objetivos\n",
    "\n",
    "+ Entender conceitos fundamentais de machine learning\n",
    "+ Diferenciar aplicação de algoritmos de classificação, predição, recomendação e regressão. \n",
    "+ Entender conceitos de aprendizado supervisionado, não supervisionado e aprendizado com reforço\n",
    "+ Aplicar decision tree com dataset do spotify\n",
    "\n",
    "\n",
    "\n",
    "\n",
    "*** Machine Learning *** O aprendizado de máquina (machine learning) é um ramo da inteligência artificial (AI) que é estudado desde a década de 60, nos ultimos anos tecnicas de machine learning ganharam muita força devido a avanços em data mining e big data. \n",
    "\n",
    "A ideia principal de algorítmos de machine learning é ensinar a máquina a partir de exemplos, ou seja sem programa-la explicitamente construindo *** algorítmos genéricos *** baseados nos dados disponíveis. Por exemplo um algorítmo que foi criado para detectar alfabetos maiúsculos e minúsculos também pode ser usado para classificar e-mails com spam e sem spam.\n",
    "\n",
    "O cientista da computação [Tom M. Mitchell](https://en.wikipedia.org/wiki/Tom_M._Mitchell) citou o seguinte texto:\n",
    "\n",
    "*“A computer program is said to learn from experience E with some class of tasks T and performance measure P if its performance at tasks in T, as measured by P, improves with experience E.” *\n",
    "\n",
    "“Um programa de computador que é encarregado de uma classe de  tarefas T tem sua performance medida por P, se o programa adquire experiência E na tarefa T seu desempenho P aumenta em função de E.\" (tradução livre)\n",
    "\n",
    "Considerando um jogo de xadrez \n",
    "\n",
    "* E = Experiencia do algorítmo em jogos de xadrez\n",
    "* T = Tarefa de jogar xadrez\n",
    "* P = Probabilidade de vencer o proximo jogo\n",
    "\n",
    "![image.png](https://slideplayer.com.br/slide/358312/2/images/35/Curva+de+aprendizagem.jpg)\n",
    "\n"
   ]
  },
  {
   "cell_type": "markdown",
   "metadata": {},
   "source": [
    "## Porquê estudar machine learning\n",
    "\n",
    "Existem problemas que consistem em encontrar padrões em dados são possíveis apenas para cérebros humanos, porém quanto maior a quantidade de dados disponíveis maior o tempo disprendido para que a tarefa seja realizada, neste ponto que a machine learning entra em ação. O objetivo do machine learning é tornar possível que a máquina aprenda por sí mesma de forma semelhante a humana, tal estratégia deu tão certo que o machine learning está presente em tantos segmentos de tecnologia que nem percebemos."
   ]
  },
  {
   "cell_type": "markdown",
   "metadata": {},
   "source": [
    "## Tipos de Machine Learning\n",
    "\n",
    "+ *** Aprendizado Supervisionado ***\n",
    "+ *** Aprensizado não supervisionado ***\n",
    "+ *** Aprendizado por reforço ***\n",
    "\n",
    "![image.png](https://cdn-images-1.medium.com/max/1398/0*_cgWPP25djXBauNZ.png)\n"
   ]
  },
  {
   "cell_type": "markdown",
   "metadata": {},
   "source": [
    "### Aprendizado Supervisionado\n",
    "\n",
    "Na prática o aprendizado supervisionado é o tipo mais utilizado em aplicações de machine learning.\n",
    "No aprendizado supervisionado o algorítmo tenta aprender a partir de exemplos alimentados previamente ao sistema, onde o são buscados padrões que identificam um comportamento e presume-se que tais padrões se repetem no futuro.\n",
    "\n",
    "Matematicamente falando temos uma entrada X e uma saída Y, onde pode usar um algorítmo que encontra uma função que é capaz de mapear a saída em função da entrada, pode-se expressar como:\n",
    "\n",
    "$$ Y = f(X) $$"
   ]
  },
  {
   "cell_type": "markdown",
   "metadata": {},
   "source": [
    "Exemplo:\n",
    "\n",
    "![image.png](https://cdn-images-1.medium.com/max/800/1*GE2joNHaJKIKIiwxT5jE4Q.png)\n",
    "\n"
   ]
  },
  {
   "cell_type": "markdown",
   "metadata": {},
   "source": [
    "### Lista de algorítmos mais encontrados\n",
    "\n",
    "+ Nearest Neighbor\n",
    "+ Naive Bayes\n",
    "+ Decision Trees\n",
    "+ Linear Regression\n",
    "+ Support Vector Machines (SVM)\n",
    "+ Neural Networks\n",
    "\n",
    "\n",
    "Existem dois tipos de algorítmos de machine learning que utilizam a filosofia de aprendizagem supervisionada, chamados ***classificação*** e ***regressão***.\n",
    "\n",
    "#### Algorítmos de classificação:\n",
    "Um algorítmo de classificação é usado quando possuímos uma variável de entrada e a saída está relacionada a qual grupo tal entrada pertence, exemplo: Classificação por cores, ou gênero musical.\n",
    "\n",
    "![image.png](https://cdn-images-1.medium.com/max/1600/1*PM4dqcAe6N7kWRpXKwgWag.png)\n",
    "\n",
    "#### Algorítmos de regressão:\n",
    "Um problema de regressão é quando a variável de saída é um valor real, como \"peso\" ou \"altura\".\n",
    "\n",
    "![image.png](https://3qeqpr26caki16dnhd19sv6by6v-wpengine.netdna-ssl.com/wp-content/uploads/2013/11/ensemble.png)"
   ]
  },
  {
   "cell_type": "markdown",
   "metadata": {},
   "source": [
    "## Aprendisado Não supervisionado\n",
    "\n",
    "![img.png](https://www.tecnologiae.com.br/wp-content/uploads/2017/04/aprendizagem-maquina-e1493300647272.png)\n",
    "\n",
    "Na aprendizagem não supervisionada os algorítmos não possuem variáveis de saída correspondente a seus dados de entrada, portanto diferente do aprendizado supervisionado não existem respostas corretas e a máquina que tem a função de encontra-las. \n",
    "\n",
    "Essa família de algorítmos é usada principalmente na detecção de padrões e modelagem descritiva. Esses algorítmos usam tecnicas nos dados de entrada para criar regras, detectar padrões e agrupar os pontos de dados que ajudam a obter insights significativos que descrevem melhor os dados para o usuário. \n",
    "\n",
    "\n",
    "#### Algorítmos mais comuns:\n",
    "+ k-means clustering, Association Rules\n",
    "\n",
    "![image.png](https://ds055uzetaobb.cloudfront.net/image_optimizer/ff1732816ba08239c0d3b200c3a9708070885705.jpg)"
   ]
  },
  {
   "cell_type": "markdown",
   "metadata": {},
   "source": [
    "## Aprendizado por reforço\n",
    "\n",
    "Algorítmos baseados em aprendisado por reforço são aplicados em casos onde é necessário interagir com o ambiente de modo dinâmico e realizar um objetivo específico (como dirigir um carro). O programa recebe feedback em termos de recompensas e punições enquanto navega pelo espaço do problema.\n",
    "\n",
    "Com esse algorítmo a maquina é treinada para tomar decisões específicas com treino contínuo a partir de tentativa e erro. \n",
    "\n",
    "\"A aprendizagem por reforço é um paradigma computacional de aprendizagem em que um agente aprendiz procura maximizar uma medida de desempenho baseada nos reforços (recompensas ou punições) que recebe ao interagir com um ambiente desconhecido (Ribeiro, C. H. C. (1999)). Mais especificamente, o agente atua em um ambiente formado por um conjunto de possíveis estados, e pode escolher ações dentro de um conjunto de ações possíveis. Ele recebe um valor de reforço cada vez que executa uma ação, indicando o valor imediato da transição de estado resultante. Ao longo do tempo, isto produz uma seqüência de pares estado-ação e respectivos valores de reforço. A tarefa do agente é aprender uma política de controle (seqüência de ações) que maximize a soma esperada destes reforços, descontando (usualmente de modo exponencial) as recompensas ou punições proporcionalmente ao seu atraso temporal. \" [fonte](http://www.scielo.br/scielo.php?script=sci_arttext&pid=S0103-17592004000300008)\n",
    "\n",
    "\n",
    "![img.png](https://cdn-images-1.medium.com/max/800/1*koj-1K7EmiERGx9l_Okjnw.png)\n",
    "\n"
   ]
  },
  {
   "cell_type": "markdown",
   "metadata": {},
   "source": [
    "## Bibliotecas Python\n",
    "\n",
    "\n",
    "\n",
    "![img.png](http://www.marekrei.com/blog/wp-content/uploads/2016/01/CYh2GMnWkAELDTL.jpg)\n",
    "\n",
    "A maioria dos algorítmos já estão implementados e as bibliotecas abaixo tornam possível seu uso em diferentes níveis de abstração\n",
    "\n",
    "+ [scikit-learn (machine learning algorithms)](http://scikit-learn.org/) \n",
    "+ [TensorFlow (deep learning with neural networks)](https://github.com/tensorflow/tensorflow)\n",
    "+ [theano (deep learning with neural networks)]()\n",
    "+ [keras (high-level neural networks API)](https://keras.io/)"
   ]
  },
  {
   "cell_type": "markdown",
   "metadata": {},
   "source": [
    "# Resumo\n",
    "\n",
    "A figura abaixo resume a utilização dos algorítmos\n",
    "\n",
    "![image.png](https://cdn-images-1.medium.com/max/800/1*ZCeOEBhvEVLmwCh7vr2RVA.png)\n"
   ]
  },
  {
   "cell_type": "markdown",
   "metadata": {},
   "source": []
  },
  {
   "cell_type": "markdown",
   "metadata": {},
   "source": [
    "\n",
    "\n",
    "*** REFERÊNCIAS ***  \n",
    "\n",
    "https://towardsdatascience.com/decision-trees-in-machine-learning-641b9c4e8052\n",
    "\n",
    "https://towardsdatascience.com/introduction-to-machine-learning-db7c668822c4\n",
    "\n",
    "https://towardsdatascience.com/machine-learning/home\n",
    "\n",
    "https://www.kaggle.com/geomack/spotifyclassification\n",
    "\n",
    "https://towardsdatascience.com/decision-trees-in-machine-learning-641b9c4e8052\n",
    "\n"
   ]
  },
  {
   "cell_type": "code",
   "execution_count": null,
   "metadata": {},
   "outputs": [],
   "source": []
  }
 ],
 "metadata": {
  "kernelspec": {
   "display_name": "Python 3",
   "language": "python",
   "name": "python3"
  },
  "language_info": {
   "codemirror_mode": {
    "name": "ipython",
    "version": 3
   },
   "file_extension": ".py",
   "mimetype": "text/x-python",
   "name": "python",
   "nbconvert_exporter": "python",
   "pygments_lexer": "ipython3",
   "version": "3.6.5"
  }
 },
 "nbformat": 4,
 "nbformat_minor": 2
}
