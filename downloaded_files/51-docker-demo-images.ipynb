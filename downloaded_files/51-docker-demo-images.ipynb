{
 "cells": [
  {
   "cell_type": "markdown",
   "metadata": {},
   "source": [
    "<div class=\"clearfix\" style=\"padding: 10px; padding-left: 0px;\">\n",
    "<img src=\"https://raw.githubusercontent.com/jupyter/nature-demo/master/images/jupyter-logo.png\" width=\"150px\" style=\"display: inline-block; margin-top: 10px; margin-right: 10px; margin-top: 15px;\"></img>\n",
    "<div style=\"display: inline-block; font-size:35px; vertical-align: middle\">+</div>\n",
    "<img src=\"https://www.ruby-lang.org/images/header-ruby-logo@2x.png\" width=\"50px\" style=\"display: inline-block; margin-left: 10px\"></img>\n",
    "<div style=\"display: inline-block; font-size:35px; vertical-align: middle; margin-left: 5px; margin-top: 5px;\">IRuby</div>\n",
    "</div>\n",
    "\n",
    "## Welcome to the Temporary Notebook (tmpnb) service for IRuby!\n",
    "\n",
    "This Notebook Server was **launched just for you**. It's a temporary way for you to try out a recent development version of the IRuby/Jupyter notebook.\n",
    "\n",
    "<div class=\"alert alert-warning\" role=\"alert\" style=\"margin: 10px\">\n",
    "<p>**WARNING**</p>\n",
    "\n",
    "<p>Don't rely on this server for anything you want to last - your server will be *deleted after 10 minutes of inactivity*.</p>\n",
    "</div>\n",
    "\n",
    "To run the code below:\n",
    "\n",
    "1. Click on the cell to select it.\n",
    "2. Press `SHIFT+ENTER` on your keyboard or press the play button (<button class='fa fa-step-forward icon-play btn btn-xs btn-default'></button>) in the toolbar above.\n",
    "\n",
    "---"
   ]
  },
  {
   "cell_type": "markdown",
   "metadata": {},
   "source": [
    "## What is Ruby?\n",
    "\n",
    "[Ruby](https://www.ruby-lang.org) is a dynamic, open source programming language with a focus on simplicity and productivity. It has an elegant syntax that is natural to read and easy to write.\n",
    "\n",
    "\n",
    "The following examples and tutorials are excerpts taken from the [Ruby in twenty minutes](https://www.ruby-lang.org/en/documentation/quickstart/)."
   ]
  },
  {
   "cell_type": "markdown",
   "metadata": {},
   "source": [
    "### Hello World\n",
    "\n",
    "Try running the code below :-"
   ]
  },
  {
   "cell_type": "code",
   "execution_count": 1,
   "metadata": {
    "collapsed": false
   },
   "outputs": [
    {
     "data": {
      "text/plain": [
       "\"Hello World\""
      ]
     },
     "execution_count": 1,
     "metadata": {},
     "output_type": "execute_result"
    }
   ],
   "source": [
    "\"Hello World\""
   ]
  },
  {
   "cell_type": "markdown",
   "metadata": {},
   "source": [
    "### Ruby Obeyed You!\n",
    "\n",
    "What just happened? Did we just write the world’s shortest “Hello World” program? Not exactly. If we want to print out “Hello World” we need a bit more:"
   ]
  },
  {
   "cell_type": "code",
   "execution_count": 2,
   "metadata": {
    "collapsed": false
   },
   "outputs": [
    {
     "name": "stdout",
     "output_type": "stream",
     "text": [
      "Hello World\n"
     ]
    }
   ],
   "source": [
    "puts \"Hello World\""
   ]
  },
  {
   "cell_type": "markdown",
   "metadata": {},
   "source": [
    "`puts` is the basic command to print something out in Ruby. `puts` always returns nil, which is Ruby’s absolutely-positively-nothing value."
   ]
  },
  {
   "cell_type": "markdown",
   "metadata": {},
   "source": [
    "### Your Free Calculator is Here\n",
    "\n",
    "Already, we have enough to use Ruby as a basic calculator:"
   ]
  },
  {
   "cell_type": "code",
   "execution_count": 3,
   "metadata": {
    "collapsed": false
   },
   "outputs": [
    {
     "data": {
      "text/plain": [
       "5"
      ]
     },
     "execution_count": 3,
     "metadata": {},
     "output_type": "execute_result"
    }
   ],
   "source": [
    "3+2"
   ]
  },
  {
   "cell_type": "markdown",
   "metadata": {},
   "source": [
    "Next, let’s try three squared:"
   ]
  },
  {
   "cell_type": "code",
   "execution_count": 4,
   "metadata": {
    "collapsed": false
   },
   "outputs": [
    {
     "data": {
      "text/plain": [
       "9"
      ]
     },
     "execution_count": 4,
     "metadata": {},
     "output_type": "execute_result"
    }
   ],
   "source": [
    "3**2"
   ]
  },
  {
   "cell_type": "markdown",
   "metadata": {},
   "source": [
    "In Ruby `**` is the way you say “to the power of”. But what if you want to go the other way and find the square root of something?"
   ]
  },
  {
   "cell_type": "code",
   "execution_count": 5,
   "metadata": {
    "collapsed": false
   },
   "outputs": [
    {
     "data": {
      "text/plain": [
       "3.0"
      ]
     },
     "execution_count": 5,
     "metadata": {},
     "output_type": "execute_result"
    }
   ],
   "source": [
    "Math.sqrt(9)"
   ]
  },
  {
   "cell_type": "markdown",
   "metadata": {},
   "source": [
    "Ok, wait, what was that last one? If you guessed, “it was figuring out the square root of nine,” you’re right. But let’s take a closer look at things. First of all, what’s `Math`?"
   ]
  },
  {
   "cell_type": "markdown",
   "metadata": {},
   "source": [
    "### Modules Group Code by Topic\n",
    "\n",
    "`Math` is a built-in module for mathematics. Modules serve two roles in Ruby. This shows one role: grouping similar methods together under a familiar name. `Math` also contains methods like `sin()` and `tan()`.\n",
    "\n",
    "Next is a dot. What does the dot do? The dot is how you identify the receiver of a message. What’s the message? In this case it’s `sqrt(9)`, which means call the method `sqrt`, shorthand for “square root” with the parameter of `9`.\n",
    "\n",
    "The result of this method call is the value `3.0`. You might notice it’s not just `3`. That’s because most of the time the square root of a number won’t be an integer, so the method always returns a floating-point number.\n",
    "\n",
    "What if we want to remember the result of some of this math? Assign the result to a variable."
   ]
  },
  {
   "cell_type": "code",
   "execution_count": 6,
   "metadata": {
    "collapsed": false
   },
   "outputs": [
    {
     "data": {
      "text/plain": [
       "9"
      ]
     },
     "execution_count": 6,
     "metadata": {},
     "output_type": "execute_result"
    }
   ],
   "source": [
    "a = 3 ** 2"
   ]
  },
  {
   "cell_type": "code",
   "execution_count": 7,
   "metadata": {
    "collapsed": false
   },
   "outputs": [
    {
     "data": {
      "text/plain": [
       "16"
      ]
     },
     "execution_count": 7,
     "metadata": {},
     "output_type": "execute_result"
    }
   ],
   "source": [
    "b = 4 ** 2"
   ]
  },
  {
   "cell_type": "code",
   "execution_count": 8,
   "metadata": {
    "collapsed": false
   },
   "outputs": [
    {
     "data": {
      "text/plain": [
       "5.0"
      ]
     },
     "execution_count": 8,
     "metadata": {},
     "output_type": "execute_result"
    }
   ],
   "source": [
    "Math.sqrt(a+b)"
   ]
  },
  {
   "cell_type": "markdown",
   "metadata": {},
   "source": [
    "As great as this is for a calculator, we’re getting away from the traditional `Hello World` message that beginning tutorials are supposed to focus on... so let’s go back to that.\n",
    "\n",
    "What if we want to say “Hello” a lot without getting our fingers all tired? We need to define a method!"
   ]
  },
  {
   "cell_type": "code",
   "execution_count": 9,
   "metadata": {
    "collapsed": false
   },
   "outputs": [
    {
     "data": {
      "text/plain": [
       ":hi"
      ]
     },
     "execution_count": 9,
     "metadata": {},
     "output_type": "execute_result"
    }
   ],
   "source": [
    "def hi\n",
    "  puts \"Hello World!\"\n",
    "end"
   ]
  },
  {
   "cell_type": "markdown",
   "metadata": {},
   "source": [
    "The code `def hi` starts the definition of the method. It tells Ruby that we’re defining a method, that its name is `hi`. The next line is the body of the method, the same line we saw earlier: `puts \"Hello World\"`. Finally, the last line `end` tells Ruby we’re done defining the method. Ruby’s response `=> :hi` tells us that it knows we’re done defining the method. This response could be `=> nil` for Ruby 2.0 and earlier versions. But, it’s not important here, so let’s go on."
   ]
  },
  {
   "cell_type": "code",
   "execution_count": 10,
   "metadata": {
    "collapsed": false
   },
   "outputs": [
    {
     "name": "stdout",
     "output_type": "stream",
     "text": [
      "Hello World!\n"
     ]
    }
   ],
   "source": [
    "hi"
   ]
  },
  {
   "cell_type": "code",
   "execution_count": 11,
   "metadata": {
    "collapsed": false
   },
   "outputs": [
    {
     "name": "stdout",
     "output_type": "stream",
     "text": [
      "Hello World!\n"
     ]
    }
   ],
   "source": [
    "hi()"
   ]
  },
  {
   "cell_type": "markdown",
   "metadata": {},
   "source": [
    "Well, that was easy. Calling a method in Ruby is as easy as just mentioning its name to Ruby. If the method doesn’t take parameters that’s all you need. You can add empty parentheses if you’d like, but they’re not needed.\n",
    "\n",
    "What if we want to say hello to one person, and not the whole world? Just redefine `hi` to take a name as a parameter."
   ]
  },
  {
   "cell_type": "code",
   "execution_count": 12,
   "metadata": {
    "collapsed": false
   },
   "outputs": [
    {
     "data": {
      "text/plain": [
       ":hi"
      ]
     },
     "execution_count": 12,
     "metadata": {},
     "output_type": "execute_result"
    }
   ],
   "source": [
    "def hi(name)\n",
    "  puts \"Hello #{name}!\"\n",
    "end"
   ]
  },
  {
   "cell_type": "code",
   "execution_count": 13,
   "metadata": {
    "collapsed": false
   },
   "outputs": [
    {
     "name": "stdout",
     "output_type": "stream",
     "text": [
      "Hello Matz!\n"
     ]
    }
   ],
   "source": [
    "hi(\"Matz\")"
   ]
  },
  {
   "cell_type": "markdown",
   "metadata": {},
   "source": [
    "So it works… but let’s take a second to see what’s going on here."
   ]
  },
  {
   "cell_type": "markdown",
   "metadata": {},
   "source": [
    "### Holding Spots in a String\n",
    "\n",
    "What’s the `#{name}` bit? That’s Ruby’s way of inserting something into a string. The bit between the braces is turned into a string (if it isn’t one already) and then substituted into the outer string at that point. You can also use this to make sure that someone’s name is properly capitalized:"
   ]
  },
  {
   "cell_type": "code",
   "execution_count": 14,
   "metadata": {
    "collapsed": false
   },
   "outputs": [
    {
     "data": {
      "text/plain": [
       ":hi"
      ]
     },
     "execution_count": 14,
     "metadata": {},
     "output_type": "execute_result"
    }
   ],
   "source": [
    "def hi(name = \"World\")\n",
    "  puts \"Hello #{name.capitalize}!\"\n",
    "end"
   ]
  },
  {
   "cell_type": "code",
   "execution_count": 15,
   "metadata": {
    "collapsed": false
   },
   "outputs": [
    {
     "name": "stdout",
     "output_type": "stream",
     "text": [
      "Hello Chris!\n"
     ]
    }
   ],
   "source": [
    "hi \"chris\""
   ]
  },
  {
   "cell_type": "code",
   "execution_count": 16,
   "metadata": {
    "collapsed": false
   },
   "outputs": [
    {
     "name": "stdout",
     "output_type": "stream",
     "text": [
      "Hello World!\n"
     ]
    }
   ],
   "source": [
    "hi"
   ]
  },
  {
   "cell_type": "markdown",
   "metadata": {},
   "source": [
    "A couple of other tricks to spot here. One is that we’re calling the method without parentheses again. If it’s obvious what you’re doing, the parentheses are optional. The other trick is the default parameter `World`. What this is saying is “If the name isn’t supplied, use the default name of `\"World\"`”."
   ]
  },
  {
   "cell_type": "markdown",
   "metadata": {},
   "source": [
    "### Evolving Into a Greeter\n",
    "\n",
    "What if we want a real greeter around, one that remembers your name and welcomes you and treats you always with respect. You might want to use an object for that. Let’s create a “Greeter” class."
   ]
  },
  {
   "cell_type": "code",
   "execution_count": 17,
   "metadata": {
    "collapsed": false
   },
   "outputs": [
    {
     "data": {
      "text/plain": [
       ":say_bye"
      ]
     },
     "execution_count": 17,
     "metadata": {},
     "output_type": "execute_result"
    }
   ],
   "source": [
    "class Greeter\n",
    "  def initialize(name = \"World\")\n",
    "    @name = name\n",
    "  end\n",
    "  \n",
    "  def say_hi\n",
    "    puts \"Hi #{@name}!\"\n",
    "  end\n",
    "  \n",
    "  def say_bye\n",
    "    puts \"Bye #{@name}, come back soon.\"\n",
    "  end\n",
    "end"
   ]
  },
  {
   "cell_type": "markdown",
   "metadata": {},
   "source": [
    "The new keyword here is `class`. This defines a new class called Greeter and a bunch of methods for that class. Also notice `@name`. This is an instance variable, and is available to all the methods of the class. As you can see it’s used by `say_hi` and `say_bye`.\n",
    "\n",
    "So how do we get this Greeter class set in motion? Create an object.\n",
    "\n",
    "Now let’s create a greeter object and use it:"
   ]
  },
  {
   "cell_type": "code",
   "execution_count": 18,
   "metadata": {
    "collapsed": false
   },
   "outputs": [
    {
     "data": {
      "text/plain": [
       "#<Greeter:0x007fd816717780 @name=\"Pat\">"
      ]
     },
     "execution_count": 18,
     "metadata": {},
     "output_type": "execute_result"
    }
   ],
   "source": [
    "greeter = Greeter.new(\"Pat\")"
   ]
  },
  {
   "cell_type": "code",
   "execution_count": 19,
   "metadata": {
    "collapsed": false
   },
   "outputs": [
    {
     "name": "stdout",
     "output_type": "stream",
     "text": [
      "Hi Pat!\n"
     ]
    }
   ],
   "source": [
    "greeter.say_hi"
   ]
  },
  {
   "cell_type": "code",
   "execution_count": 20,
   "metadata": {
    "collapsed": false
   },
   "outputs": [
    {
     "name": "stdout",
     "output_type": "stream",
     "text": [
      "Bye Pat, come back soon.\n"
     ]
    }
   ],
   "source": [
    "greeter.say_bye"
   ]
  },
  {
   "cell_type": "markdown",
   "metadata": {},
   "source": [
    "Once the `greeter` object is created, it remembers that the name is Pat. Hmm, what if we want to get at the name directly?"
   ]
  },
  {
   "cell_type": "code",
   "execution_count": 21,
   "metadata": {
    "collapsed": false
   },
   "outputs": [
    {
     "ename": "SyntaxError",
     "evalue": "<main>: syntax error, unexpected tIVAR, expecting '('\ngreeter.@name\n             ^",
     "output_type": "error",
     "traceback": [
      "\u001b[31mSyntaxError\u001b[0m: <main>: syntax error, unexpected tIVAR, expecting '('\ngreeter.@name\n             ^",
      "\u001b[37m/Users/jimmy/.rbenv/versions/2.2.3/lib/ruby/gems/2.2.0/gems/iruby-0.3/lib/iruby/backend.rb:44:in `eval'\u001b[0m",
      "\u001b[37m/Users/jimmy/.rbenv/versions/2.2.3/lib/ruby/gems/2.2.0/gems/iruby-0.3/lib/iruby/backend.rb:44:in `eval'\u001b[0m",
      "\u001b[37m/Users/jimmy/.rbenv/versions/2.2.3/lib/ruby/gems/2.2.0/gems/iruby-0.3/lib/iruby/backend.rb:12:in `eval'\u001b[0m",
      "\u001b[37m/Users/jimmy/.rbenv/versions/2.2.3/lib/ruby/gems/2.2.0/gems/iruby-0.3/lib/iruby/kernel.rb:87:in `execute_request'\u001b[0m",
      "\u001b[37m/Users/jimmy/.rbenv/versions/2.2.3/lib/ruby/gems/2.2.0/gems/iruby-0.3/lib/iruby/kernel.rb:47:in `dispatch'\u001b[0m",
      "\u001b[37m/Users/jimmy/.rbenv/versions/2.2.3/lib/ruby/gems/2.2.0/gems/iruby-0.3/lib/iruby/kernel.rb:37:in `run'\u001b[0m",
      "\u001b[37m/Users/jimmy/.rbenv/versions/2.2.3/lib/ruby/gems/2.2.0/gems/iruby-0.3/lib/iruby/command.rb:70:in `run_kernel'\u001b[0m",
      "\u001b[37m/Users/jimmy/.rbenv/versions/2.2.3/lib/ruby/gems/2.2.0/gems/iruby-0.3/lib/iruby/command.rb:34:in `run'\u001b[0m",
      "\u001b[37m/Users/jimmy/.rbenv/versions/2.2.3/lib/ruby/gems/2.2.0/gems/iruby-0.3/bin/iruby:5:in `<top (required)>'\u001b[0m",
      "\u001b[37m/Users/jimmy/.rbenv/versions/2.2.3/bin/iruby:23:in `load'\u001b[0m",
      "\u001b[37m/Users/jimmy/.rbenv/versions/2.2.3/bin/iruby:23:in `<main>'\u001b[0m"
     ]
    }
   ],
   "source": [
    "greeter.@name"
   ]
  },
  {
   "cell_type": "markdown",
   "metadata": {},
   "source": [
    "Nope, can’t do it."
   ]
  },
  {
   "cell_type": "markdown",
   "metadata": {},
   "source": [
    "### Under the Object’s Skin\n",
    "\n",
    "Instance variables are hidden away inside the object. They’re not terribly hidden, you see them whenever you inspect the object, and there are other ways of accessing them, but Ruby uses the good object-oriented approach of keeping data sort-of hidden away.\n",
    "\n",
    "So what methods do exist for Greeter objects?"
   ]
  },
  {
   "cell_type": "code",
   "execution_count": 22,
   "metadata": {
    "collapsed": false
   },
   "outputs": [
    {
     "data": {
      "text/plain": [
       "[:say_hi, :say_bye, :pry, :__binding__, :pretty_print, :pretty_print_cycle, :pretty_print_instance_variables, :pretty_print_inspect, :nil?, :===, :=~, :!~, :eql?, :hash, :<=>, :class, :singleton_class, :clone, :dup, :itself, :taint, :tainted?, :untaint, :untrust, :untrusted?, :trust, :freeze, :frozen?, :to_s, :inspect, :methods, :singleton_methods, :protected_methods, :private_methods, :public_methods, :instance_variables, :instance_variable_get, :instance_variable_set, :instance_variable_defined?, :remove_instance_variable, :instance_of?, :kind_of?, :is_a?, :tap, :send, :public_send, :respond_to?, :extend, :display, :method, :public_method, :singleton_method, :define_singleton_method, :object_id, :to_enum, :enum_for, :pretty_inspect, :==, :equal?, :!, :!=, :instance_eval, :instance_exec, :__send__, :__id__]"
      ]
     },
     "execution_count": 22,
     "metadata": {},
     "output_type": "execute_result"
    }
   ],
   "source": [
    "Greeter.instance_methods"
   ]
  },
  {
   "cell_type": "markdown",
   "metadata": {},
   "source": [
    "Whoa. That’s a lot of methods. We only defined two methods. What’s going on here? Well this is **all** of the methods for Greeter objects, a complete list, including ones defined by ancestor classes. If we want to just list methods defined for Greeter we can tell it to not include ancestors by passing it the parameter `false`, meaning we don’t want methods defined by ancestors."
   ]
  },
  {
   "cell_type": "code",
   "execution_count": 23,
   "metadata": {
    "collapsed": false
   },
   "outputs": [
    {
     "data": {
      "text/plain": [
       "[:say_hi, :say_bye]"
      ]
     },
     "execution_count": 23,
     "metadata": {},
     "output_type": "execute_result"
    }
   ],
   "source": [
    "Greeter.instance_methods(false)"
   ]
  },
  {
   "cell_type": "markdown",
   "metadata": {},
   "source": [
    "Ah, that’s more like it. So let’s see which methods our greeter object responds to:"
   ]
  },
  {
   "cell_type": "code",
   "execution_count": 24,
   "metadata": {
    "collapsed": false
   },
   "outputs": [
    {
     "data": {
      "text/plain": [
       "false"
      ]
     },
     "execution_count": 24,
     "metadata": {},
     "output_type": "execute_result"
    }
   ],
   "source": [
    "greeter.respond_to?(\"name\")"
   ]
  },
  {
   "cell_type": "code",
   "execution_count": 25,
   "metadata": {
    "collapsed": false
   },
   "outputs": [
    {
     "data": {
      "text/plain": [
       "true"
      ]
     },
     "execution_count": 25,
     "metadata": {},
     "output_type": "execute_result"
    }
   ],
   "source": [
    "greeter.respond_to?(\"say_hi\")"
   ]
  },
  {
   "cell_type": "code",
   "execution_count": 26,
   "metadata": {
    "collapsed": false
   },
   "outputs": [
    {
     "data": {
      "text/plain": [
       "true"
      ]
     },
     "execution_count": 26,
     "metadata": {},
     "output_type": "execute_result"
    }
   ],
   "source": [
    "greeter.respond_to?(\"to_s\")"
   ]
  },
  {
   "cell_type": "markdown",
   "metadata": {},
   "source": [
    "So, it knows `say_hi`, and `to_s` (meaning convert something to a string, a method that’s defined by default for every object), but it doesn’t know `name`."
   ]
  },
  {
   "cell_type": "markdown",
   "metadata": {},
   "source": [
    "### Altering Classes—It’s Never Too Late\n",
    "\n",
    "But what if you want to be able to view or change the name? Ruby provides an easy way of providing access to an object’s variables."
   ]
  },
  {
   "cell_type": "code",
   "execution_count": 27,
   "metadata": {
    "collapsed": true
   },
   "outputs": [],
   "source": [
    "class Greeter\n",
    "  attr_accessor :name\n",
    "end"
   ]
  },
  {
   "cell_type": "markdown",
   "metadata": {},
   "source": [
    "In Ruby, you can open a class up again and modify it. The changes will be present in any new objects you create and even available in existing objects of that class. So, let’s create a new object and play with its `@name` property."
   ]
  },
  {
   "cell_type": "code",
   "execution_count": 28,
   "metadata": {
    "collapsed": false
   },
   "outputs": [
    {
     "data": {
      "text/plain": [
       "#<Greeter:0x007fd816568628 @name=\"Andy\">"
      ]
     },
     "execution_count": 28,
     "metadata": {},
     "output_type": "execute_result"
    }
   ],
   "source": [
    "greeter = Greeter.new(\"Andy\")"
   ]
  },
  {
   "cell_type": "code",
   "execution_count": 29,
   "metadata": {
    "collapsed": false
   },
   "outputs": [
    {
     "data": {
      "text/plain": [
       "true"
      ]
     },
     "execution_count": 29,
     "metadata": {},
     "output_type": "execute_result"
    }
   ],
   "source": [
    "greeter.respond_to?(\"name\")"
   ]
  },
  {
   "cell_type": "code",
   "execution_count": 30,
   "metadata": {
    "collapsed": false
   },
   "outputs": [
    {
     "data": {
      "text/plain": [
       "true"
      ]
     },
     "execution_count": 30,
     "metadata": {},
     "output_type": "execute_result"
    }
   ],
   "source": [
    "greeter.respond_to?(\"name=\")"
   ]
  },
  {
   "cell_type": "code",
   "execution_count": 31,
   "metadata": {
    "collapsed": false
   },
   "outputs": [
    {
     "name": "stdout",
     "output_type": "stream",
     "text": [
      "Hi Andy!\n"
     ]
    }
   ],
   "source": [
    "greeter.say_hi"
   ]
  },
  {
   "cell_type": "code",
   "execution_count": 32,
   "metadata": {
    "collapsed": false
   },
   "outputs": [
    {
     "data": {
      "text/plain": [
       "\"Betty\""
      ]
     },
     "execution_count": 32,
     "metadata": {},
     "output_type": "execute_result"
    }
   ],
   "source": [
    "greeter.name=\"Betty\""
   ]
  },
  {
   "cell_type": "code",
   "execution_count": 33,
   "metadata": {
    "collapsed": false
   },
   "outputs": [
    {
     "data": {
      "text/plain": [
       "#<Greeter:0x007fd816568628 @name=\"Betty\">"
      ]
     },
     "execution_count": 33,
     "metadata": {},
     "output_type": "execute_result"
    }
   ],
   "source": [
    "greeter"
   ]
  },
  {
   "cell_type": "code",
   "execution_count": 34,
   "metadata": {
    "collapsed": false
   },
   "outputs": [
    {
     "data": {
      "text/plain": [
       "\"Betty\""
      ]
     },
     "execution_count": 34,
     "metadata": {},
     "output_type": "execute_result"
    }
   ],
   "source": [
    "greeter.name"
   ]
  },
  {
   "cell_type": "code",
   "execution_count": 35,
   "metadata": {
    "collapsed": false
   },
   "outputs": [
    {
     "name": "stdout",
     "output_type": "stream",
     "text": [
      "Hi Betty!\n"
     ]
    }
   ],
   "source": [
    "greeter.say_hi"
   ]
  },
  {
   "cell_type": "markdown",
   "metadata": {},
   "source": [
    "Using `attr_accessor` defined two new methods for us, `name` to get the value, and `name=` to set it."
   ]
  },
  {
   "cell_type": "markdown",
   "metadata": {},
   "source": [
    "### Greeting Anything and Everything, MegaGreeter Neglects None!\n",
    "\n",
    "This greeter isn’t all that interesting though, it can only deal with one person at a time. What if we had some kind of MegaGreeter that could either greet the world, one person, or a whole list of people?"
   ]
  },
  {
   "cell_type": "code",
   "execution_count": 36,
   "metadata": {
    "collapsed": false
   },
   "outputs": [
    {
     "data": {
      "text/plain": [
       ":say_bye"
      ]
     },
     "execution_count": 36,
     "metadata": {},
     "output_type": "execute_result"
    }
   ],
   "source": [
    "class MegaGreeter\n",
    "  attr_accessor :names\n",
    "\n",
    "  # Create the object\n",
    "  def initialize(names = \"World\")\n",
    "    @names = names\n",
    "  end\n",
    "\n",
    "  # Say hi to everybody\n",
    "  def say_hi\n",
    "    if @names.nil?\n",
    "      puts \"...\"\n",
    "    elsif @names.respond_to?(\"each\")\n",
    "      # @names is a list of some kind, iterate!\n",
    "      @names.each do |name|\n",
    "        puts \"Hello #{name}!\"\n",
    "      end\n",
    "    else\n",
    "      puts \"Hello #{@names}!\"\n",
    "    end\n",
    "  end\n",
    "\n",
    "  # Say bye to everybody\n",
    "  def say_bye\n",
    "    if @names.nil?\n",
    "      puts \"...\"\n",
    "    elsif @names.respond_to?(\"join\")\n",
    "      # Join the list elements with commas\n",
    "      puts \"Goodbye #{@names.join(\", \")}.  Come back soon!\"\n",
    "    else\n",
    "      puts \"Goodbye #{@names}.  Come back soon!\"\n",
    "    end\n",
    "  end\n",
    "end"
   ]
  },
  {
   "cell_type": "code",
   "execution_count": 37,
   "metadata": {
    "collapsed": false
   },
   "outputs": [
    {
     "name": "stdout",
     "output_type": "stream",
     "text": [
      "Hello World!\n",
      "Goodbye World.  Come back soon!\n"
     ]
    }
   ],
   "source": [
    "mg = MegaGreeter.new\n",
    "mg.say_hi\n",
    "mg.say_bye"
   ]
  },
  {
   "cell_type": "code",
   "execution_count": 38,
   "metadata": {
    "collapsed": false
   },
   "outputs": [
    {
     "name": "stdout",
     "output_type": "stream",
     "text": [
      "Hello Zeke!\n",
      "Goodbye Zeke.  Come back soon!\n"
     ]
    }
   ],
   "source": [
    "  # Change name to be \"Zeke\"\n",
    "  mg.names = \"Zeke\"\n",
    "  mg.say_hi\n",
    "  mg.say_bye"
   ]
  },
  {
   "cell_type": "code",
   "execution_count": 39,
   "metadata": {
    "collapsed": false
   },
   "outputs": [
    {
     "name": "stdout",
     "output_type": "stream",
     "text": [
      "Hello Albert!\n",
      "Hello Brenda!\n",
      "Hello Charles!\n",
      "Hello Dave!\n",
      "Hello Engelbert!\n",
      "Goodbye Albert, Brenda, Charles, Dave, Engelbert.  Come back soon!\n"
     ]
    }
   ],
   "source": [
    "# Change the name to an array of names\n",
    "mg.names = [\"Albert\", \"Brenda\", \"Charles\", \"Dave\", \"Engelbert\"]\n",
    "mg.say_hi\n",
    "mg.say_bye"
   ]
  },
  {
   "cell_type": "code",
   "execution_count": 40,
   "metadata": {
    "collapsed": false
   },
   "outputs": [
    {
     "name": "stdout",
     "output_type": "stream",
     "text": [
      "...\n",
      "...\n"
     ]
    }
   ],
   "source": [
    "# Change to nil\n",
    "mg.names = nil\n",
    "mg.say_hi\n",
    "mg.say_bye"
   ]
  },
  {
   "cell_type": "markdown",
   "metadata": {},
   "source": [
    "There are a lot of new things thrown into this final example that we can take a deeper look at.\n",
    "\n",
    "So, looking deeper at our new program, notice the initial lines, which begin with a hash mark (#). In Ruby, anything on a line after a hash mark is a comment and is ignored by the interpreter. The first line of the file is a special case, and under a Unix-like operating system tells the shell how to run the file. The rest of the comments are there just for clarity.\n",
    "\n",
    "Our `say_hi` method has become a bit trickier:"
   ]
  },
  {
   "cell_type": "code",
   "execution_count": 41,
   "metadata": {
    "collapsed": false
   },
   "outputs": [
    {
     "data": {
      "text/plain": [
       ":say_hi"
      ]
     },
     "execution_count": 41,
     "metadata": {},
     "output_type": "execute_result"
    }
   ],
   "source": [
    "# Say hi to everybody\n",
    "def say_hi\n",
    "  if @names.nil?\n",
    "    puts \"...\"\n",
    "  elsif @names.respond_to?(\"each\")\n",
    "    # @names is a list of some kind, iterate!\n",
    "    @names.each do |name|\n",
    "      puts \"Hello #{name}!\"\n",
    "    end\n",
    "  else\n",
    "    puts \"Hello #{@names}!\"\n",
    "  end\n",
    "end"
   ]
  },
  {
   "cell_type": "markdown",
   "metadata": {},
   "source": [
    "It now looks at the `@names` instance variable to make decisions. If it’s nil, it just prints out three dots. No point greeting nobody, right?"
   ]
  },
  {
   "cell_type": "markdown",
   "metadata": {},
   "source": [
    "### Cycling and Looping—a.k.a. Iteration\n",
    "\n",
    "If the @names object responds to each, it is something that you can iterate over, so iterate over it and greet each person in turn. Finally, if @names is anything else, just let it get turned into a string automatically and do the default greeting.\n",
    "\n",
    "Let’s look at that iterator in more depth:"
   ]
  },
  {
   "cell_type": "code",
   "execution_count": 42,
   "metadata": {
    "collapsed": false
   },
   "outputs": [
    {
     "name": "stdout",
     "output_type": "stream",
     "text": [
      "Hello Albert!\n",
      "Hello Brenda!\n",
      "Hello Charles!\n",
      "Hello Dave!\n",
      "Hello Engelbert!\n"
     ]
    },
    {
     "data": {
      "text/plain": [
       "[\"Albert\", \"Brenda\", \"Charles\", \"Dave\", \"Engelbert\"]"
      ]
     },
     "execution_count": 42,
     "metadata": {},
     "output_type": "execute_result"
    }
   ],
   "source": [
    "@names = [\"Albert\", \"Brenda\", \"Charles\", \"Dave\", \"Engelbert\"]\n",
    "@names.each do |name|\n",
    "  puts \"Hello #{name}!\"\n",
    "end"
   ]
  },
  {
   "cell_type": "markdown",
   "metadata": {},
   "source": [
    "`each` is a method that accepts a block of code then runs that block of code for every element in a list, and the bit between `do` and `end` is just such a block. A block is like an anonymous function or `lambda`. The variable between pipe characters is the parameter for this block.\n",
    "\n",
    "What happens here is that for every entry in a list, `name` is bound to that list element, and then the expression `puts \"Hello #{name}!\"` is run with that name.\n",
    "\n",
    "Most other programming languages handle going over a list using the `for` loop, which in C looks something like:\n",
    "\n",
    "```\n",
    "for (i=0; i<number_of_elements; i++)\n",
    "{\n",
    "  do_something_with(element[i]);\n",
    "}\n",
    "```\n",
    "\n",
    "This works, but isn’t very elegant. You need a throw-away variable like `i`, have to figure out how long the list is, and have to explain how to walk over the list. The Ruby way is much more elegant, all the housekeeping details are hidden within the `each` method, all you need to do is to tell it what to do with each element. Internally, the `each` method will essentially call `yield \"Albert\"`, then `yield \"Brenda\"` and then `yield \"Charles\"`, and so on.\n",
    "\n",
    "### Blocks, the Highly Sparkling Glint on the Edge of Ruby\n",
    "\n",
    "The real power of blocks is when dealing with things that are more complicated than lists. Beyond handling simple housekeeping details within the method, you can also handle setup, teardown, and errors—all hidden away from the cares of the user."
   ]
  },
  {
   "cell_type": "code",
   "execution_count": 43,
   "metadata": {
    "collapsed": false
   },
   "outputs": [
    {
     "data": {
      "text/plain": [
       ":say_bye"
      ]
     },
     "execution_count": 43,
     "metadata": {},
     "output_type": "execute_result"
    }
   ],
   "source": [
    "# Say bye to everybody\n",
    "def say_bye\n",
    "  if @names.nil?\n",
    "    puts \"...\"\n",
    "  elsif @names.respond_to?(\"join\")\n",
    "    # Join the list elements with commas\n",
    "    puts \"Goodbye #{@names.join(\", \")}.  Come back soon!\"\n",
    "  else\n",
    "    puts \"Goodbye #{@names}.  Come back soon!\"\n",
    "  end\n",
    "end"
   ]
  },
  {
   "cell_type": "markdown",
   "metadata": {},
   "source": [
    "The `say_bye` method doesn’t use each, instead it checks to see if `@names` responds to the `join` method, and if so, uses it. Otherwise, it just prints out the variable as a string. \n",
    "\n",
    "This method of not caring about the actual type of a variable, just relying on what methods it supports is known as “Duck Typing”, as in “if it walks like a duck and quacks like a duck…”. \n",
    "\n",
    "The benefit of this is that it doesn’t unnecessarily restrict the types of variables that are supported. If someone comes up with a new kind of list class, as long as it implements the `join` method with the same semantics as other lists, everything will work as planned."
   ]
  },
  {
   "cell_type": "markdown",
   "metadata": {},
   "source": [
    "### Consider Yourself Introduced\n",
    "\n",
    "So that’s it for the quick tour of Ruby. There’s a lot more to explore, the different control structures that Ruby offers; the use of blocks and `yield`; modules as mixins; and more. I hope this taste of Ruby has left you wanting to learn more.\n",
    "\n",
    "If so, please head on over to our [Documentation](https://www.ruby-lang.org/en/documentation/) area, which rounds up links to manuals and tutorials, all freely available online.\n",
    "\n",
    "Or, if you’d really like to dig into a book, check the [book list](http://www.ruby-doc.org/bookstore) (off-site link) for titles available for sale online or at your local bookseller."
   ]
  }
 ],
 "metadata": {
  "kernelspec": {
   "display_name": "Ruby 2.2.3",
   "language": "ruby",
   "name": "ruby"
  },
  "language_info": {
   "file_extension": ".rb",
   "mimetype": "application/x-ruby",
   "name": "ruby",
   "version": "2.2.3"
  }
 },
 "nbformat": 4,
 "nbformat_minor": 0
}
