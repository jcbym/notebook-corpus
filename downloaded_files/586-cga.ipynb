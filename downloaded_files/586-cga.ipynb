{
 "cells": [
  {
   "cell_type": "markdown",
   "metadata": {},
   "source": [
    "Getting processed genomic/ceres datasets"
   ]
  },
  {
   "cell_type": "code",
   "execution_count": 1,
   "metadata": {},
   "outputs": [],
   "source": [
    "import pickle\n",
    "import sys"
   ]
  },
  {
   "cell_type": "code",
   "execution_count": 2,
   "metadata": {},
   "outputs": [],
   "source": [
    "dm_data = pickle.load(open('../out/20.0817 proc_data/gene_effect/dm_data.pkl','rb'))"
   ]
  },
  {
   "cell_type": "code",
   "execution_count": null,
   "metadata": {},
   "outputs": [],
   "source": [
    "# dm_data.df_crispr\n",
    "# dm_data.df_rnaseq\n",
    "# dm_data.df_cn\n",
    "# dm_data.df_mut\n",
    "# dm_data.df_lineage"
   ]
  },
  {
   "cell_type": "markdown",
   "metadata": {},
   "source": [
    "Getting primary model results (reg_rf_boruta)"
   ]
  },
  {
   "cell_type": "code",
   "execution_count": 1,
   "metadata": {},
   "outputs": [],
   "source": [
    "import pandas as pd"
   ]
  },
  {
   "cell_type": "code",
   "execution_count": 4,
   "metadata": {
    "lines_to_next_cell": 0
   },
   "outputs": [],
   "source": [
    "# model results\n",
    "df_res = pd.read_csv('../out/20.0216 feat/reg_rf_boruta/model_results.csv') \n",
    "\n",
    "# feature summary, derived from model results (each row unique for feature-target pair)\n",
    "df_feat = pd.read_csv('../out/20.0216 feat/reg_rf_boruta/anlyz_filtered/feat_summary.csv')\n",
    "\n",
    "# feature summary additional metrics, derived from model results (each row unique for feature-target pair)\n",
    "df_feat2 = pd.read_csv('../out/20.0216 feat/reg_rf_boruta/anlyz_filtered/feat_summary.csv')\n",
    "\n",
    "# aggregated results (each row unique for target)\n",
    "df_agg = pd.read_csv('../out/20.0216 feat/reg_rf_boruta/anlyz_filtered/agg_summary_filtered.csv')"
   ]
  },
  {
   "cell_type": "code",
   "execution_count": null,
   "metadata": {},
   "outputs": [],
   "source": []
  }
 ],
 "metadata": {
  "kernelspec": {
   "display_name": "Python 3",
   "language": "python",
   "name": "python3"
  },
  "language_info": {
   "codemirror_mode": {
    "name": "ipython",
    "version": 3
   },
   "file_extension": ".py",
   "mimetype": "text/x-python",
   "name": "python",
   "nbconvert_exporter": "python",
   "pygments_lexer": "ipython3",
   "version": "3.7.7"
  },
  "toc": {
   "base_numbering": 1,
   "nav_menu": {},
   "number_sections": true,
   "sideBar": true,
   "skip_h1_title": false,
   "title_cell": "Table of Contents",
   "title_sidebar": "Contents",
   "toc_cell": false,
   "toc_position": {},
   "toc_section_display": true,
   "toc_window_display": true
  }
 },
 "nbformat": 4,
 "nbformat_minor": 4
}
