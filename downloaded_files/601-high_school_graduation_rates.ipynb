{
 "cells": [
  {
   "cell_type": "code",
   "execution_count": 1,
   "id": "black-microphone",
   "metadata": {},
   "outputs": [],
   "source": [
    "import pandas as pd\n",
    "import numpy as np"
   ]
  },
  {
   "cell_type": "markdown",
   "id": "satellite-petersburg",
   "metadata": {},
   "source": [
    "Read in the merged data file. "
   ]
  },
  {
   "cell_type": "code",
   "execution_count": 2,
   "id": "finished-membrane",
   "metadata": {},
   "outputs": [
    {
     "name": "stderr",
     "output_type": "stream",
     "text": [
      "/opt/anaconda3/envs/dsi/lib/python3.7/site-packages/IPython/core/interactiveshell.py:3147: DtypeWarning: Columns (9,10,15) have mixed types.Specify dtype option on import or set low_memory=False.\n",
      "  interactivity=interactivity, compiler=compiler, result=result)\n"
     ]
    }
   ],
   "source": [
    "df = pd.read_csv('../../data/50_states.csv')"
   ]
  },
  {
   "cell_type": "markdown",
   "id": "contemporary-ribbon",
   "metadata": {},
   "source": [
    "Examine."
   ]
  },
  {
   "cell_type": "code",
   "execution_count": 3,
   "id": "alternate-mitchell",
   "metadata": {},
   "outputs": [
    {
     "data": {
      "text/html": [
       "<div>\n",
       "<style scoped>\n",
       "    .dataframe tbody tr th:only-of-type {\n",
       "        vertical-align: middle;\n",
       "    }\n",
       "\n",
       "    .dataframe tbody tr th {\n",
       "        vertical-align: top;\n",
       "    }\n",
       "\n",
       "    .dataframe thead th {\n",
       "        text-align: right;\n",
       "    }\n",
       "</style>\n",
       "<table border=\"1\" class=\"dataframe\">\n",
       "  <thead>\n",
       "    <tr style=\"text-align: right;\">\n",
       "      <th></th>\n",
       "      <th>LEAID</th>\n",
       "      <th>CENSUSID</th>\n",
       "      <th>FIPST</th>\n",
       "      <th>CONUM</th>\n",
       "      <th>CSA</th>\n",
       "      <th>CBSA</th>\n",
       "      <th>NAME</th>\n",
       "      <th>STNAME</th>\n",
       "      <th>STABBR</th>\n",
       "      <th>SCHLEV</th>\n",
       "      <th>...</th>\n",
       "      <th>FL_W61</th>\n",
       "      <th>FL_V95</th>\n",
       "      <th>FL_V02</th>\n",
       "      <th>FL_K14</th>\n",
       "      <th>FL_CE1</th>\n",
       "      <th>FL_CE2</th>\n",
       "      <th>FL_CE3</th>\n",
       "      <th>District Name</th>\n",
       "      <th>Total</th>\n",
       "      <th>Graduation Rate</th>\n",
       "    </tr>\n",
       "  </thead>\n",
       "  <tbody>\n",
       "    <tr>\n",
       "      <th>0</th>\n",
       "      <td>2700001</td>\n",
       "      <td>24506901700000</td>\n",
       "      <td>27</td>\n",
       "      <td>27137</td>\n",
       "      <td>N</td>\n",
       "      <td>20260</td>\n",
       "      <td>MOUNTAIN IRON-BUHL</td>\n",
       "      <td>Minnesota</td>\n",
       "      <td>MN</td>\n",
       "      <td>3</td>\n",
       "      <td>...</td>\n",
       "      <td>R</td>\n",
       "      <td>R</td>\n",
       "      <td>R</td>\n",
       "      <td>R</td>\n",
       "      <td>M</td>\n",
       "      <td>M</td>\n",
       "      <td>M</td>\n",
       "      <td>MOUNTAIN IRON-BUHL</td>\n",
       "      <td>31.0</td>\n",
       "      <td>0.9355</td>\n",
       "    </tr>\n",
       "    <tr>\n",
       "      <th>1</th>\n",
       "      <td>2700005</td>\n",
       "      <td>24502200900000</td>\n",
       "      <td>27</td>\n",
       "      <td>27043</td>\n",
       "      <td>N</td>\n",
       "      <td>N</td>\n",
       "      <td>UNITED SOUTH CENTRAL</td>\n",
       "      <td>Minnesota</td>\n",
       "      <td>MN</td>\n",
       "      <td>3</td>\n",
       "      <td>...</td>\n",
       "      <td>R</td>\n",
       "      <td>R</td>\n",
       "      <td>R</td>\n",
       "      <td>R</td>\n",
       "      <td>M</td>\n",
       "      <td>M</td>\n",
       "      <td>M</td>\n",
       "      <td>UNITED SOUTH CENTRAL</td>\n",
       "      <td>42.0</td>\n",
       "      <td>0.8810</td>\n",
       "    </tr>\n",
       "    <tr>\n",
       "      <th>2</th>\n",
       "      <td>2700006</td>\n",
       "      <td>24500720200000</td>\n",
       "      <td>27</td>\n",
       "      <td>27013</td>\n",
       "      <td>359</td>\n",
       "      <td>31860</td>\n",
       "      <td>MAPLE RIVER</td>\n",
       "      <td>Minnesota</td>\n",
       "      <td>MN</td>\n",
       "      <td>3</td>\n",
       "      <td>...</td>\n",
       "      <td>R</td>\n",
       "      <td>R</td>\n",
       "      <td>R</td>\n",
       "      <td>R</td>\n",
       "      <td>M</td>\n",
       "      <td>M</td>\n",
       "      <td>M</td>\n",
       "      <td>MAPLE RIVER</td>\n",
       "      <td>79.0</td>\n",
       "      <td>0.9747</td>\n",
       "    </tr>\n",
       "    <tr>\n",
       "      <th>3</th>\n",
       "      <td>2700007</td>\n",
       "      <td>24502320200000</td>\n",
       "      <td>27</td>\n",
       "      <td>27045</td>\n",
       "      <td>462</td>\n",
       "      <td>40340</td>\n",
       "      <td>KINGSLAND</td>\n",
       "      <td>Minnesota</td>\n",
       "      <td>MN</td>\n",
       "      <td>3</td>\n",
       "      <td>...</td>\n",
       "      <td>R</td>\n",
       "      <td>R</td>\n",
       "      <td>R</td>\n",
       "      <td>R</td>\n",
       "      <td>M</td>\n",
       "      <td>M</td>\n",
       "      <td>M</td>\n",
       "      <td>KINGSLAND</td>\n",
       "      <td>31.0</td>\n",
       "      <td>0.9677</td>\n",
       "    </tr>\n",
       "    <tr>\n",
       "      <th>4</th>\n",
       "      <td>2700008</td>\n",
       "      <td>24506920200000</td>\n",
       "      <td>27</td>\n",
       "      <td>27137</td>\n",
       "      <td>N</td>\n",
       "      <td>20260</td>\n",
       "      <td>ST LOUIS COUNTY</td>\n",
       "      <td>Minnesota</td>\n",
       "      <td>MN</td>\n",
       "      <td>3</td>\n",
       "      <td>...</td>\n",
       "      <td>R</td>\n",
       "      <td>R</td>\n",
       "      <td>R</td>\n",
       "      <td>R</td>\n",
       "      <td>M</td>\n",
       "      <td>M</td>\n",
       "      <td>M</td>\n",
       "      <td>ST LOUIS COUNTY</td>\n",
       "      <td>122.0</td>\n",
       "      <td>0.8607</td>\n",
       "    </tr>\n",
       "  </tbody>\n",
       "</table>\n",
       "<p>5 rows × 265 columns</p>\n",
       "</div>"
      ],
      "text/plain": [
       "     LEAID        CENSUSID  FIPST  CONUM  CSA   CBSA                  NAME  \\\n",
       "0  2700001  24506901700000     27  27137    N  20260    MOUNTAIN IRON-BUHL   \n",
       "1  2700005  24502200900000     27  27043    N      N  UNITED SOUTH CENTRAL   \n",
       "2  2700006  24500720200000     27  27013  359  31860           MAPLE RIVER   \n",
       "3  2700007  24502320200000     27  27045  462  40340             KINGSLAND   \n",
       "4  2700008  24506920200000     27  27137    N  20260       ST LOUIS COUNTY   \n",
       "\n",
       "      STNAME STABBR SCHLEV  ... FL_W61  FL_V95  FL_V02  FL_K14 FL_CE1 FL_CE2  \\\n",
       "0  Minnesota     MN      3  ...      R       R       R       R      M      M   \n",
       "1  Minnesota     MN      3  ...      R       R       R       R      M      M   \n",
       "2  Minnesota     MN      3  ...      R       R       R       R      M      M   \n",
       "3  Minnesota     MN      3  ...      R       R       R       R      M      M   \n",
       "4  Minnesota     MN      3  ...      R       R       R       R      M      M   \n",
       "\n",
       "   FL_CE3         District Name  Total  Graduation Rate  \n",
       "0       M    MOUNTAIN IRON-BUHL   31.0           0.9355  \n",
       "1       M  UNITED SOUTH CENTRAL   42.0           0.8810  \n",
       "2       M           MAPLE RIVER   79.0           0.9747  \n",
       "3       M             KINGSLAND   31.0           0.9677  \n",
       "4       M       ST LOUIS COUNTY  122.0           0.8607  \n",
       "\n",
       "[5 rows x 265 columns]"
      ]
     },
     "execution_count": 3,
     "metadata": {},
     "output_type": "execute_result"
    }
   ],
   "source": [
    "df.head()"
   ]
  },
  {
   "cell_type": "markdown",
   "id": "initial-circuit",
   "metadata": {},
   "source": [
    "Drop the columns left over from merging with the state-level data: 'District Name' as it's duplicated by 'NAME', and 'Total' because too many districts were missing the information. "
   ]
  },
  {
   "cell_type": "code",
   "execution_count": 4,
   "id": "accepting-music",
   "metadata": {},
   "outputs": [],
   "source": [
    "df = df.drop(columns=['District Name', 'Total'])"
   ]
  },
  {
   "cell_type": "markdown",
   "id": "sporting-alexander",
   "metadata": {},
   "source": [
    "Set nominal features with mixed datatypes to be strings, and set all district names to be uppercase for consistency. "
   ]
  },
  {
   "cell_type": "code",
   "execution_count": 5,
   "id": "effective-terminology",
   "metadata": {},
   "outputs": [],
   "source": [
    "df['NAME'] = df['NAME'].astype(str).str.upper()\n",
    "df['STABBR'] = df['STABBR'].astype(str)"
   ]
  },
  {
   "cell_type": "markdown",
   "id": "twenty-government",
   "metadata": {},
   "source": [
    "Set categorical feature 'AGCHRT' to be all ints for easier processing."
   ]
  },
  {
   "cell_type": "code",
   "execution_count": 6,
   "id": "played-nation",
   "metadata": {},
   "outputs": [],
   "source": [
    "df['AGCHRT'].replace('N', 0, inplace=True)"
   ]
  },
  {
   "cell_type": "markdown",
   "id": "everyday-auditor",
   "metadata": {},
   "source": [
    "Check for null values. "
   ]
  },
  {
   "cell_type": "code",
   "execution_count": 7,
   "id": "sitting-revelation",
   "metadata": {},
   "outputs": [
    {
     "data": {
      "text/plain": [
       "LEAID                0\n",
       "CENSUSID             0\n",
       "FIPST                0\n",
       "CONUM                0\n",
       "CSA                  0\n",
       "                  ... \n",
       "FL_K14               0\n",
       "FL_CE1               0\n",
       "FL_CE2               0\n",
       "FL_CE3               0\n",
       "Graduation Rate    306\n",
       "Length: 263, dtype: int64"
      ]
     },
     "execution_count": 7,
     "metadata": {},
     "output_type": "execute_result"
    }
   ],
   "source": [
    "df.isna().sum()"
   ]
  },
  {
   "cell_type": "markdown",
   "id": "agreed-renaissance",
   "metadata": {},
   "source": [
    "Drop any rows with null values, as the value they're missing (Graduation Rate) would be the target value. "
   ]
  },
  {
   "cell_type": "code",
   "execution_count": 8,
   "id": "coral-vancouver",
   "metadata": {},
   "outputs": [],
   "source": [
    "df.dropna(inplace=True)"
   ]
  },
  {
   "cell_type": "markdown",
   "id": "assumed-august",
   "metadata": {},
   "source": [
    "Check to make sure none of the rows are duplicates. "
   ]
  },
  {
   "cell_type": "code",
   "execution_count": 9,
   "id": "reduced-aviation",
   "metadata": {},
   "outputs": [
    {
     "data": {
      "text/plain": [
       "2118      True\n",
       "2116      True\n",
       "0        False\n",
       "7910     False\n",
       "7902     False\n",
       "         ...  \n",
       "3941     False\n",
       "3942     False\n",
       "3943     False\n",
       "3944     False\n",
       "11758    False\n",
       "Length: 11453, dtype: bool"
      ]
     },
     "execution_count": 9,
     "metadata": {},
     "output_type": "execute_result"
    }
   ],
   "source": [
    "df.duplicated().sort_values(ascending=False)"
   ]
  },
  {
   "cell_type": "markdown",
   "id": "caring-tonight",
   "metadata": {},
   "source": [
    "Drop the duplicate rows. "
   ]
  },
  {
   "cell_type": "code",
   "execution_count": 10,
   "id": "endangered-berkeley",
   "metadata": {},
   "outputs": [],
   "source": [
    "df.drop([2116, 2118], inplace=True)"
   ]
  },
  {
   "cell_type": "markdown",
   "id": "interstate-century",
   "metadata": {},
   "source": [
    "Drop the unneeded flag columns."
   ]
  },
  {
   "cell_type": "code",
   "execution_count": 11,
   "id": "fantastic-russian",
   "metadata": {},
   "outputs": [],
   "source": [
    "fls = [col for col in df.columns if 'FL' in col]\n",
    "df.drop(columns=fls, inplace=True)"
   ]
  },
  {
   "cell_type": "markdown",
   "id": "signal-discharge",
   "metadata": {},
   "source": [
    "Drop the rest of the columns with unneeded and non-financial data. "
   ]
  },
  {
   "cell_type": "code",
   "execution_count": 12,
   "id": "simplified-republican",
   "metadata": {},
   "outputs": [],
   "source": [
    "df.drop(columns=['FIPST', 'CENSUSID', 'CONUM', 'CSA', 'CBSA', 'STNAME', 'SCHLEV', 'YEAR', \n",
    "                 'CCDNF', 'CENFILE', 'GSLO', 'GSHI', 'MEMBERSCH', 'WEIGHT'], inplace=True)"
   ]
  },
  {
   "cell_type": "markdown",
   "id": "serious-memory",
   "metadata": {},
   "source": [
    "Find and drop the entries with bad inputs--there seem to be a number of districts in the original file where all of the financial data was entered as negative numbers. "
   ]
  },
  {
   "cell_type": "code",
   "execution_count": 13,
   "id": "tribal-dependence",
   "metadata": {},
   "outputs": [],
   "source": [
    "bad_entries = df[(df['TOTALREV'] < 0) & (df['TOTALEXP'] < 0)]"
   ]
  },
  {
   "cell_type": "code",
   "execution_count": 14,
   "id": "overhead-optimum",
   "metadata": {},
   "outputs": [
    {
     "data": {
      "text/plain": [
       "130"
      ]
     },
     "execution_count": 14,
     "metadata": {},
     "output_type": "execute_result"
    }
   ],
   "source": [
    "len(bad_entries)"
   ]
  },
  {
   "cell_type": "code",
   "execution_count": 15,
   "id": "funky-matrix",
   "metadata": {},
   "outputs": [],
   "source": [
    "df.drop(bad_entries.index, inplace=True)"
   ]
  },
  {
   "cell_type": "markdown",
   "id": "attractive-temple",
   "metadata": {},
   "source": [
    "There are still some missing values entered as negative numbers, so let's see where they are."
   ]
  },
  {
   "cell_type": "code",
   "execution_count": 16,
   "id": "ordered-arizona",
   "metadata": {},
   "outputs": [
    {
     "data": {
      "text/plain": [
       "T02    10501\n",
       "T40     2149\n",
       "T09     2149\n",
       "T15     2149\n",
       "T99     2148\n",
       "T06     1633\n",
       "V33       42\n",
       "V15        0\n",
       "V13        0\n",
       "Q11        0\n",
       "dtype: int64"
      ]
     },
     "execution_count": 16,
     "metadata": {},
     "output_type": "execute_result"
    }
   ],
   "source": [
    "df = df.replace({-2.0 : np.nan})\n",
    "df.isna().sum().sort_values(ascending=False).head(10)"
   ]
  },
  {
   "cell_type": "markdown",
   "id": "isolated-purple",
   "metadata": {},
   "source": [
    "We'll drop 'T02' as it has over 10,000 missing values, and the rest will be filled in with zeroes."
   ]
  },
  {
   "cell_type": "code",
   "execution_count": 17,
   "id": "continental-submission",
   "metadata": {},
   "outputs": [],
   "source": [
    "df.drop(columns='T02', inplace=True)"
   ]
  },
  {
   "cell_type": "code",
   "execution_count": 18,
   "id": "adaptive-symposium",
   "metadata": {},
   "outputs": [],
   "source": [
    "df.fillna(0, inplace=True)"
   ]
  },
  {
   "cell_type": "markdown",
   "id": "humanitarian-cooperative",
   "metadata": {},
   "source": [
    "As a convenience, set the district ID to be the index value. "
   ]
  },
  {
   "cell_type": "code",
   "execution_count": 19,
   "id": "foreign-denmark",
   "metadata": {},
   "outputs": [],
   "source": [
    "df.set_index('LEAID', inplace=True)"
   ]
  },
  {
   "cell_type": "markdown",
   "id": "activated-portugal",
   "metadata": {},
   "source": [
    "Save the master file. "
   ]
  },
  {
   "cell_type": "code",
   "execution_count": 20,
   "id": "confident-region",
   "metadata": {},
   "outputs": [],
   "source": [
    "df.to_csv('../../data/dataset.csv', index=True)"
   ]
  }
 ],
 "metadata": {
  "kernelspec": {
   "display_name": "Python 3",
   "language": "python",
   "name": "python3"
  },
  "language_info": {
   "codemirror_mode": {
    "name": "ipython",
    "version": 3
   },
   "file_extension": ".py",
   "mimetype": "text/x-python",
   "name": "python",
   "nbconvert_exporter": "python",
   "pygments_lexer": "ipython3",
   "version": "3.7.9"
  }
 },
 "nbformat": 4,
 "nbformat_minor": 5
}
