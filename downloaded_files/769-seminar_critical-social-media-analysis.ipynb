{
 "cells": [
  {
   "cell_type": "markdown",
   "metadata": {
    "id": "iFXsrSxJlzCW"
   },
   "source": [
    "#Introduction\n",
    "\n",
    ".....\n"
   ]
  },
  {
   "cell_type": "markdown",
   "metadata": {},
   "source": [
    "Check to see if jupyter lab uses the correct python interpreter with '!which python'.\n",
    "It should be something like '/opt/anaconda3/envs/[environment name]/bin/python' (on Mac).\n",
    "If not, try this: https://github.com/jupyter/notebook/issues/3146#issuecomment-352718675"
   ]
  },
  {
   "cell_type": "code",
   "execution_count": 1,
   "metadata": {},
   "outputs": [
    {
     "name": "stdout",
     "output_type": "stream",
     "text": [
      "/home/franko/anaconda3/envs/critical/bin/python\n"
     ]
    }
   ],
   "source": [
    "!which python"
   ]
  },
  {
   "cell_type": "markdown",
   "metadata": {},
   "source": [
    "# Install dependencies:"
   ]
  },
  {
   "cell_type": "code",
   "execution_count": 2,
   "metadata": {
    "colab": {
     "base_uri": "https://localhost:8080/"
    },
    "id": "H0q7BTlbiCWW",
    "outputId": "32ddd123-4834-4913-f942-038e830d9276"
   },
   "outputs": [
    {
     "name": "stdout",
     "output_type": "stream",
     "text": [
      "Collecting package metadata (current_repodata.json): done\n",
      "Solving environment: failed with initial frozen solve. Retrying with flexible solve.\n",
      "Solving environment: failed with repodata from current_repodata.json, will retry with next repodata source.\n",
      "Collecting package metadata (repodata.json): done\n",
      "Solving environment: done\n",
      "\n",
      "## Package Plan ##\n",
      "\n",
      "  environment location: /home/franko/anaconda3/envs/critical\n",
      "\n",
      "  added / updated specs:\n",
      "    - tensorflow=2\n",
      "\n",
      "\n",
      "The following packages will be downloaded:\n",
      "\n",
      "    package                    |            build\n",
      "    ---------------------------|-----------------\n",
      "    _tflow_select-2.3.0        |              mkl           2 KB\n",
      "    absl-py-0.11.0             |   py36h5fab9bb_0         168 KB  conda-forge\n",
      "    aiohttp-3.7.3              |   py36h1d69622_0         612 KB  conda-forge\n",
      "    astor-0.8.1                |     pyh9f0ad1d_0          25 KB  conda-forge\n",
      "    astunparse-1.6.3           |             py_0          17 KB\n",
      "    async-timeout-3.0.1        |          py_1000          11 KB  conda-forge\n",
      "    blinker-1.4                |             py_1          13 KB  conda-forge\n",
      "    c-ares-1.17.1              |       h36c2ea0_0         111 KB  conda-forge\n",
      "    cachetools-4.1.1           |             py_0          12 KB  conda-forge\n",
      "    click-7.1.2                |     pyh9f0ad1d_0          64 KB  conda-forge\n",
      "    gast-0.3.3                 |             py_0          12 KB  conda-forge\n",
      "    google-auth-1.23.0         |     pyhd8ed1ab_0          62 KB  conda-forge\n",
      "    google-auth-oauthlib-0.4.1 |             py_2          18 KB  conda-forge\n",
      "    google-pasta-0.2.0         |     pyh8c360ce_0          42 KB  conda-forge\n",
      "    grpcio-1.33.2              |   py36he0f7d3b_2         1.8 MB  conda-forge\n",
      "    h5py-2.10.0                |nompi_py36ha233d17_105         1.0 MB  conda-forge\n",
      "    hdf5-1.10.6                |nompi_h6a2412b_1112         3.1 MB  conda-forge\n",
      "    idna_ssl-1.1.0             |py36h9f0ad1d_1001           7 KB  conda-forge\n",
      "    keras-preprocessing-1.1.0  |             py_0          33 KB  conda-forge\n",
      "    krb5-1.17.2                |       h926e7f8_0         1.4 MB  conda-forge\n",
      "    libblas-3.9.0              |       3_openblas          11 KB  conda-forge\n",
      "    libcblas-3.9.0             |       3_openblas          11 KB  conda-forge\n",
      "    libcurl-7.71.1             |       hcdd3856_8         312 KB  conda-forge\n",
      "    libedit-3.1.20191231       |       he28a2e2_2         121 KB  conda-forge\n",
      "    libev-4.33                 |       h516909a_1         104 KB  conda-forge\n",
      "    libgfortran-ng-9.3.0       |      he4bcb1c_17          22 KB  conda-forge\n",
      "    libgfortran5-9.3.0         |      he4bcb1c_17         2.0 MB  conda-forge\n",
      "    liblapack-3.9.0            |       3_openblas          11 KB  conda-forge\n",
      "    libnghttp2-1.41.0          |       h8cfc5f6_2         774 KB  conda-forge\n",
      "    libopenblas-0.3.12         |pthreads_h4812303_1         8.9 MB  conda-forge\n",
      "    libprotobuf-3.13.0.1       |       h8b12597_0         2.3 MB  conda-forge\n",
      "    libssh2-1.9.0              |       hab1572f_5         225 KB  conda-forge\n",
      "    markdown-3.3.3             |     pyh9f0ad1d_0          66 KB  conda-forge\n",
      "    multidict-4.7.5            |   py36h8c4c3a4_2          69 KB  conda-forge\n",
      "    numpy-1.19.4               |   py36h8732dcd_1         5.2 MB  conda-forge\n",
      "    oauthlib-3.0.1             |             py_0          82 KB  conda-forge\n",
      "    opt_einsum-3.3.0           |             py_0          51 KB  conda-forge\n",
      "    protobuf-3.13.0.1          |   py36h201607c_1         696 KB  conda-forge\n",
      "    pyasn1-0.4.8               |             py_0          53 KB  conda-forge\n",
      "    pyasn1-modules-0.2.7       |             py_0          60 KB  conda-forge\n",
      "    pyjwt-1.7.1                |             py_0          17 KB  conda-forge\n",
      "    requests-oauthlib-1.3.0    |     pyh9f0ad1d_0          21 KB  conda-forge\n",
      "    rsa-4.6                    |     pyh9f0ad1d_0          27 KB  conda-forge\n",
      "    scipy-1.5.3                |   py36h9e8f40b_0        19.1 MB  conda-forge\n",
      "    tensorboard-2.4.0          |     pyhd8ed1ab_0         8.8 MB  conda-forge\n",
      "    tensorboard-plugin-wit-1.7.0|     pyh9f0ad1d_0         664 KB  conda-forge\n",
      "    tensorflow-2.2.0           |mkl_py36h5a57954_0           4 KB\n",
      "    tensorflow-base-2.2.0      |mkl_py36hd506778_0       129.7 MB\n",
      "    tensorflow-estimator-2.2.0 |     pyh95af2a2_0         281 KB  conda-forge\n",
      "    termcolor-1.1.0            |             py_2           6 KB  conda-forge\n",
      "    typing-extensions-3.7.4.3  |                0           8 KB  conda-forge\n",
      "    typing_extensions-3.7.4.3  |             py_0          25 KB  conda-forge\n",
      "    werkzeug-1.0.1             |     pyh9f0ad1d_0         239 KB  conda-forge\n",
      "    wrapt-1.12.1               |   py36h1d69622_2          46 KB  conda-forge\n",
      "    yarl-1.6.3                 |   py36h1d69622_0         139 KB  conda-forge\n",
      "    ------------------------------------------------------------\n",
      "                                           Total:       188.7 MB\n",
      "\n",
      "The following NEW packages will be INSTALLED:\n",
      "\n",
      "  _tflow_select      pkgs/main/linux-64::_tflow_select-2.3.0-mkl\n",
      "  absl-py            conda-forge/linux-64::absl-py-0.11.0-py36h5fab9bb_0\n",
      "  aiohttp            conda-forge/linux-64::aiohttp-3.7.3-py36h1d69622_0\n",
      "  astor              conda-forge/noarch::astor-0.8.1-pyh9f0ad1d_0\n",
      "  astunparse         pkgs/main/noarch::astunparse-1.6.3-py_0\n",
      "  async-timeout      conda-forge/noarch::async-timeout-3.0.1-py_1000\n",
      "  blinker            conda-forge/noarch::blinker-1.4-py_1\n",
      "  c-ares             conda-forge/linux-64::c-ares-1.17.1-h36c2ea0_0\n",
      "  cachetools         conda-forge/noarch::cachetools-4.1.1-py_0\n",
      "  click              conda-forge/noarch::click-7.1.2-pyh9f0ad1d_0\n",
      "  gast               conda-forge/noarch::gast-0.3.3-py_0\n",
      "  google-auth        conda-forge/noarch::google-auth-1.23.0-pyhd8ed1ab_0\n",
      "  google-auth-oauth~ conda-forge/noarch::google-auth-oauthlib-0.4.1-py_2\n",
      "  google-pasta       conda-forge/noarch::google-pasta-0.2.0-pyh8c360ce_0\n",
      "  grpcio             conda-forge/linux-64::grpcio-1.33.2-py36he0f7d3b_2\n",
      "  h5py               conda-forge/linux-64::h5py-2.10.0-nompi_py36ha233d17_105\n",
      "  hdf5               conda-forge/linux-64::hdf5-1.10.6-nompi_h6a2412b_1112\n",
      "  idna_ssl           conda-forge/linux-64::idna_ssl-1.1.0-py36h9f0ad1d_1001\n",
      "  keras-preprocessi~ conda-forge/noarch::keras-preprocessing-1.1.0-py_0\n",
      "  krb5               conda-forge/linux-64::krb5-1.17.2-h926e7f8_0\n",
      "  libblas            conda-forge/linux-64::libblas-3.9.0-3_openblas\n",
      "  libcblas           conda-forge/linux-64::libcblas-3.9.0-3_openblas\n",
      "  libcurl            conda-forge/linux-64::libcurl-7.71.1-hcdd3856_8\n",
      "  libedit            conda-forge/linux-64::libedit-3.1.20191231-he28a2e2_2\n",
      "  libev              conda-forge/linux-64::libev-4.33-h516909a_1\n",
      "  libgfortran-ng     conda-forge/linux-64::libgfortran-ng-9.3.0-he4bcb1c_17\n",
      "  libgfortran5       conda-forge/linux-64::libgfortran5-9.3.0-he4bcb1c_17\n",
      "  liblapack          conda-forge/linux-64::liblapack-3.9.0-3_openblas\n",
      "  libnghttp2         conda-forge/linux-64::libnghttp2-1.41.0-h8cfc5f6_2\n",
      "  libopenblas        conda-forge/linux-64::libopenblas-0.3.12-pthreads_h4812303_1\n",
      "  libprotobuf        conda-forge/linux-64::libprotobuf-3.13.0.1-h8b12597_0\n",
      "  libssh2            conda-forge/linux-64::libssh2-1.9.0-hab1572f_5\n",
      "  markdown           conda-forge/noarch::markdown-3.3.3-pyh9f0ad1d_0\n",
      "  multidict          conda-forge/linux-64::multidict-4.7.5-py36h8c4c3a4_2\n",
      "  numpy              conda-forge/linux-64::numpy-1.19.4-py36h8732dcd_1\n",
      "  oauthlib           conda-forge/noarch::oauthlib-3.0.1-py_0\n",
      "  opt_einsum         conda-forge/noarch::opt_einsum-3.3.0-py_0\n",
      "  protobuf           conda-forge/linux-64::protobuf-3.13.0.1-py36h201607c_1\n",
      "  pyasn1             conda-forge/noarch::pyasn1-0.4.8-py_0\n",
      "  pyasn1-modules     conda-forge/noarch::pyasn1-modules-0.2.7-py_0\n",
      "  pyjwt              conda-forge/noarch::pyjwt-1.7.1-py_0\n",
      "  requests-oauthlib  conda-forge/noarch::requests-oauthlib-1.3.0-pyh9f0ad1d_0\n",
      "  rsa                conda-forge/noarch::rsa-4.6-pyh9f0ad1d_0\n",
      "  scipy              conda-forge/linux-64::scipy-1.5.3-py36h9e8f40b_0\n",
      "  tensorboard        conda-forge/noarch::tensorboard-2.4.0-pyhd8ed1ab_0\n",
      "  tensorboard-plugi~ conda-forge/noarch::tensorboard-plugin-wit-1.7.0-pyh9f0ad1d_0\n",
      "  tensorflow         pkgs/main/linux-64::tensorflow-2.2.0-mkl_py36h5a57954_0\n",
      "  tensorflow-base    pkgs/main/linux-64::tensorflow-base-2.2.0-mkl_py36hd506778_0\n",
      "  tensorflow-estima~ conda-forge/noarch::tensorflow-estimator-2.2.0-pyh95af2a2_0\n",
      "  termcolor          conda-forge/noarch::termcolor-1.1.0-py_2\n",
      "  typing-extensions  conda-forge/noarch::typing-extensions-3.7.4.3-0\n",
      "  typing_extensions  conda-forge/noarch::typing_extensions-3.7.4.3-py_0\n",
      "  werkzeug           conda-forge/noarch::werkzeug-1.0.1-pyh9f0ad1d_0\n",
      "  wrapt              conda-forge/linux-64::wrapt-1.12.1-py36h1d69622_2\n",
      "  yarl               conda-forge/linux-64::yarl-1.6.3-py36h1d69622_0\n",
      "\n",
      "\n",
      "\n",
      "Downloading and Extracting Packages\n",
      "libev-4.33           | 104 KB    | ##################################### | 100% \n",
      "libnghttp2-1.41.0    | 774 KB    | ##################################### | 100% \n",
      "libedit-3.1.20191231 | 121 KB    | ##################################### | 100% \n",
      "krb5-1.17.2          | 1.4 MB    | ##################################### | 100% \n",
      "h5py-2.10.0          | 1.0 MB    | ##################################### | 100% \n",
      "astunparse-1.6.3     | 17 KB     | ##################################### | 100% \n",
      "aiohttp-3.7.3        | 612 KB    | ##################################### | 100% \n",
      "keras-preprocessing- | 33 KB     | ##################################### | 100% \n",
      "pyjwt-1.7.1          | 17 KB     | ##################################### | 100% \n",
      "google-auth-1.23.0   | 62 KB     | ##################################### | 100% \n",
      "libblas-3.9.0        | 11 KB     | ##################################### | 100% \n",
      "oauthlib-3.0.1       | 82 KB     | ##################################### | 100% \n",
      "grpcio-1.33.2        | 1.8 MB    | ##################################### | 100% \n",
      "tensorflow-estimator | 281 KB    | ##################################### | 100% \n",
      "tensorboard-2.4.0    | 8.8 MB    | ##################################### | 100% \n",
      "libopenblas-0.3.12   | 8.9 MB    | ##################################### | 100% \n",
      "pyasn1-modules-0.2.7 | 60 KB     | ##################################### | 100% \n",
      "typing-extensions-3. | 8 KB      | ##################################### | 100% \n",
      "google-pasta-0.2.0   | 42 KB     | ##################################### | 100% \n",
      "libgfortran5-9.3.0   | 2.0 MB    | ##################################### | 100% \n",
      "libprotobuf-3.13.0.1 | 2.3 MB    | ##################################### | 100% \n",
      "liblapack-3.9.0      | 11 KB     | ##################################### | 100% \n",
      "requests-oauthlib-1. | 21 KB     | ##################################### | 100% \n",
      "async-timeout-3.0.1  | 11 KB     | ##################################### | 100% \n",
      "yarl-1.6.3           | 139 KB    | ##################################### | 100% \n",
      "pyasn1-0.4.8         | 53 KB     | ##################################### | 100% \n",
      "libcurl-7.71.1       | 312 KB    | ##################################### | 100% \n",
      "c-ares-1.17.1        | 111 KB    | ##################################### | 100% \n",
      "tensorboard-plugin-w | 664 KB    | ##################################### | 100% \n",
      "rsa-4.6              | 27 KB     | ##################################### | 100% \n",
      "libgfortran-ng-9.3.0 | 22 KB     | ##################################### | 100% \n",
      "hdf5-1.10.6          | 3.1 MB    | ##################################### | 100% \n",
      "absl-py-0.11.0       | 168 KB    | ##################################### | 100% \n",
      "protobuf-3.13.0.1    | 696 KB    | ##################################### | 100% \n",
      "idna_ssl-1.1.0       | 7 KB      | ##################################### | 100% \n",
      "libcblas-3.9.0       | 11 KB     | ##################################### | 100% \n",
      "click-7.1.2          | 64 KB     | ##################################### | 100% \n",
      "gast-0.3.3           | 12 KB     | ##################################### | 100% \n",
      "opt_einsum-3.3.0     | 51 KB     | ##################################### | 100% \n",
      "werkzeug-1.0.1       | 239 KB    | ##################################### | 100% \n",
      "tensorflow-2.2.0     | 4 KB      | ##################################### | 100% \n",
      "wrapt-1.12.1         | 46 KB     | ##################################### | 100% \n",
      "cachetools-4.1.1     | 12 KB     | ##################################### | 100% \n",
      "termcolor-1.1.0      | 6 KB      | ##################################### | 100% \n",
      "multidict-4.7.5      | 69 KB     | ##################################### | 100% \n",
      "scipy-1.5.3          | 19.1 MB   | ##################################### | 100% \n",
      "tensorflow-base-2.2. | 129.7 MB  | ##################################### | 100% \n",
      "blinker-1.4          | 13 KB     | ##################################### | 100% \n",
      "markdown-3.3.3       | 66 KB     | ##################################### | 100% \n",
      "astor-0.8.1          | 25 KB     | ##################################### | 100% \n",
      "typing_extensions-3. | 25 KB     | ##################################### | 100% \n",
      "libssh2-1.9.0        | 225 KB    | ##################################### | 100% \n",
      "google-auth-oauthlib | 18 KB     | ##################################### | 100% \n",
      "_tflow_select-2.3.0  | 2 KB      | ##################################### | 100% \n",
      "numpy-1.19.4         | 5.2 MB    | ##################################### | 100% \n",
      "Preparing transaction: done\n",
      "Verifying transaction: done\n",
      "Executing transaction: done\n",
      "Collecting package metadata (current_repodata.json): done\n",
      "Solving environment: done\n",
      "\n",
      "## Package Plan ##\n",
      "\n",
      "  environment location: /home/franko/anaconda3/envs/critical\n",
      "\n",
      "  added / updated specs:\n",
      "    - pandas\n",
      "\n",
      "\n",
      "The following packages will be downloaded:\n",
      "\n",
      "    package                    |            build\n",
      "    ---------------------------|-----------------\n",
      "    ca-certificates-2020.10.14 |                0         128 KB  anaconda\n",
      "    certifi-2020.6.20          |           py36_0         160 KB  anaconda\n",
      "    openssl-1.1.1h             |       h7b6447c_0         3.8 MB  anaconda\n",
      "    pandas-1.1.3               |   py36he6710b0_0        10.5 MB  anaconda\n",
      "    pytz-2020.1                |             py_0         239 KB  anaconda\n",
      "    ------------------------------------------------------------\n",
      "                                           Total:        14.9 MB\n",
      "\n",
      "The following NEW packages will be INSTALLED:\n",
      "\n",
      "  pandas             anaconda/linux-64::pandas-1.1.3-py36he6710b0_0\n",
      "  pytz               anaconda/noarch::pytz-2020.1-py_0\n",
      "\n",
      "The following packages will be SUPERSEDED by a higher-priority channel:\n",
      "\n",
      "  ca-certificates    conda-forge::ca-certificates-2020.11.~ --> anaconda::ca-certificates-2020.10.14-0\n",
      "  certifi            conda-forge::certifi-2020.11.8-py36h5~ --> anaconda::certifi-2020.6.20-py36_0\n",
      "  openssl            conda-forge::openssl-1.1.1h-h516909a_0 --> anaconda::openssl-1.1.1h-h7b6447c_0\n",
      "\n",
      "\n",
      "\n",
      "Downloading and Extracting Packages\n",
      "openssl-1.1.1h       | 3.8 MB    | ##################################### | 100% \n",
      "pytz-2020.1          | 239 KB    | ##################################### | 100% \n",
      "ca-certificates-2020 | 128 KB    | ##################################### | 100% \n",
      "pandas-1.1.3         | 10.5 MB   | ##################################### | 100% \n",
      "certifi-2020.6.20    | 160 KB    | ##################################### | 100% \n",
      "Preparing transaction: done\n",
      "Verifying transaction: done\n",
      "Executing transaction: done\n",
      "Collecting package metadata (current_repodata.json): done\n",
      "Solving environment: done\n",
      "\n",
      "## Package Plan ##\n",
      "\n",
      "  environment location: /home/franko/anaconda3/envs/critical\n",
      "\n",
      "  added / updated specs:\n",
      "    - tensorflow-hub\n",
      "\n",
      "\n",
      "The following packages will be downloaded:\n",
      "\n",
      "    package                    |            build\n",
      "    ---------------------------|-----------------\n",
      "    tensorflow-hub-0.9.0       |     pyh831f99a_0          71 KB  conda-forge\n",
      "    ------------------------------------------------------------\n",
      "                                           Total:          71 KB\n",
      "\n",
      "The following NEW packages will be INSTALLED:\n",
      "\n",
      "  tensorflow-hub     conda-forge/noarch::tensorflow-hub-0.9.0-pyh831f99a_0\n",
      "\n",
      "The following packages will be UPDATED:\n",
      "\n",
      "  ca-certificates    anaconda::ca-certificates-2020.10.14-0 --> conda-forge::ca-certificates-2020.11.8-ha878542_0\n",
      "  certifi                anaconda::certifi-2020.6.20-py36_0 --> conda-forge::certifi-2020.11.8-py36h5fab9bb_0\n",
      "\n",
      "The following packages will be SUPERSEDED by a higher-priority channel:\n",
      "\n",
      "  openssl               anaconda::openssl-1.1.1h-h7b6447c_0 --> conda-forge::openssl-1.1.1h-h516909a_0\n",
      "\n",
      "\n",
      "\n",
      "Downloading and Extracting Packages\n",
      "tensorflow-hub-0.9.0 | 71 KB     | ##################################### | 100% \n",
      "Preparing transaction: done\n",
      "Verifying transaction: done\n",
      "Executing transaction: done\n",
      "Collecting package metadata (current_repodata.json): done\n",
      "Solving environment: done\n",
      "\n",
      "## Package Plan ##\n",
      "\n",
      "  environment location: /home/franko/anaconda3/envs/critical\n",
      "\n",
      "  added / updated specs:\n",
      "    - html2text\n",
      "\n",
      "\n",
      "The following packages will be downloaded:\n",
      "\n",
      "    package                    |            build\n",
      "    ---------------------------|-----------------\n",
      "    html2text-2020.1.16        |             py_0          33 KB  conda-forge\n",
      "    ------------------------------------------------------------\n",
      "                                           Total:          33 KB\n",
      "\n",
      "The following NEW packages will be INSTALLED:\n",
      "\n",
      "  html2text          conda-forge/noarch::html2text-2020.1.16-py_0\n",
      "\n",
      "\n",
      "\n",
      "Downloading and Extracting Packages\n",
      "html2text-2020.1.16  | 33 KB     | ##################################### | 100% \n",
      "Preparing transaction: done\n",
      "Verifying transaction: done\n",
      "Executing transaction: done\n",
      "Collecting package metadata (current_repodata.json): done\n",
      "Solving environment: done\n",
      "\n",
      "## Package Plan ##\n",
      "\n",
      "  environment location: /home/franko/anaconda3/envs/critical\n",
      "\n",
      "  added / updated specs:\n",
      "    - tqdm\n",
      "\n",
      "\n",
      "The following packages will be downloaded:\n",
      "\n",
      "    package                    |            build\n",
      "    ---------------------------|-----------------\n",
      "    tqdm-4.54.0                |     pyhd8ed1ab_0          54 KB  conda-forge\n",
      "    ------------------------------------------------------------\n",
      "                                           Total:          54 KB\n",
      "\n",
      "The following NEW packages will be INSTALLED:\n",
      "\n",
      "  tqdm               conda-forge/noarch::tqdm-4.54.0-pyhd8ed1ab_0\n",
      "\n",
      "\n",
      "\n",
      "Downloading and Extracting Packages\n",
      "tqdm-4.54.0          | 54 KB     | ##################################### | 100% \n",
      "Preparing transaction: done\n",
      "Verifying transaction: done\n",
      "Executing transaction: done\n",
      "Collecting package metadata (current_repodata.json): done\n",
      "Solving environment: done\n",
      "\n",
      "## Package Plan ##\n",
      "\n",
      "  environment location: /home/franko/anaconda3/envs/critical\n",
      "\n",
      "  added / updated specs:\n",
      "    - scikit-learn\n",
      "\n",
      "\n",
      "The following packages will be downloaded:\n",
      "\n",
      "    package                    |            build\n",
      "    ---------------------------|-----------------\n",
      "    joblib-0.17.0              |             py_0         205 KB  anaconda\n",
      "    scikit-learn-0.23.2        |   py36h0573a6f_0         6.9 MB  anaconda\n",
      "    threadpoolctl-2.1.0        |     pyh5ca1d4c_0          16 KB  anaconda\n",
      "    ------------------------------------------------------------\n",
      "                                           Total:         7.1 MB\n",
      "\n",
      "The following NEW packages will be INSTALLED:\n",
      "\n",
      "  joblib             anaconda/noarch::joblib-0.17.0-py_0\n",
      "  scikit-learn       anaconda/linux-64::scikit-learn-0.23.2-py36h0573a6f_0\n",
      "  threadpoolctl      anaconda/noarch::threadpoolctl-2.1.0-pyh5ca1d4c_0\n",
      "\n",
      "The following packages will be SUPERSEDED by a higher-priority channel:\n",
      "\n",
      "  ca-certificates    conda-forge::ca-certificates-2020.11.~ --> anaconda::ca-certificates-2020.10.14-0\n",
      "  certifi            conda-forge::certifi-2020.11.8-py36h5~ --> anaconda::certifi-2020.6.20-py36_0\n",
      "  openssl            conda-forge::openssl-1.1.1h-h516909a_0 --> anaconda::openssl-1.1.1h-h7b6447c_0\n",
      "\n",
      "\n",
      "\n",
      "Downloading and Extracting Packages\n",
      "scikit-learn-0.23.2  | 6.9 MB    | ##################################### | 100% \n",
      "joblib-0.17.0        | 205 KB    | ##################################### | 100% \n",
      "threadpoolctl-2.1.0  | 16 KB     | ##################################### | 100% \n",
      "Preparing transaction: done\n",
      "Verifying transaction: done\n",
      "Executing transaction: done\n",
      "Collecting package metadata (current_repodata.json): done\n",
      "Solving environment: done\n",
      "\n",
      "## Package Plan ##\n",
      "\n",
      "  environment location: /home/franko/anaconda3/envs/critical\n",
      "\n",
      "  added / updated specs:\n",
      "    - matplotlib\n",
      "\n",
      "\n",
      "The following packages will be downloaded:\n",
      "\n",
      "    package                    |            build\n",
      "    ---------------------------|-----------------\n",
      "    dbus-1.13.6                |       hfdff14a_1         585 KB  conda-forge\n",
      "    freetype-2.10.4            |       h7ca028e_0         912 KB  conda-forge\n",
      "    gettext-0.19.8.1           |    h0b5b191_1005         3.6 MB  conda-forge\n",
      "    glib-2.66.3                |       h9c3ff4c_1         502 KB  conda-forge\n",
      "    gstreamer-1.14.0           |       hb31296c_0         3.1 MB\n",
      "    jpeg-9d                    |       h36c2ea0_0         264 KB  conda-forge\n",
      "    kiwisolver-1.3.1           |   py36h51d7077_0          86 KB  conda-forge\n",
      "    lcms2-2.11                 |       hcbb858e_1         434 KB  conda-forge\n",
      "    libglib-2.66.3             |       h1f3bc88_1         3.0 MB  conda-forge\n",
      "    libiconv-1.16              |       h516909a_0         1.4 MB  conda-forge\n",
      "    libpng-1.6.37              |       h21135ba_2         306 KB  conda-forge\n",
      "    libtiff-4.1.0              |       h4f3a223_6         618 KB  conda-forge\n",
      "    libwebp-base-1.1.0         |       h36c2ea0_3         864 KB  conda-forge\n",
      "    libxml2-2.9.10             |       hb55368b_3         1.2 MB\n",
      "    lz4-c-1.9.2                |       he1b5a44_3         203 KB  conda-forge\n",
      "    matplotlib-3.3.3           |   py36h5fab9bb_0           6 KB  conda-forge\n",
      "    matplotlib-base-3.3.3      |   py36he12231b_0         6.8 MB  conda-forge\n",
      "    olefile-0.46               |     pyh9f0ad1d_1          32 KB  conda-forge\n",
      "    pillow-8.0.1               |   py36h10ecd5c_0         687 KB  conda-forge\n",
      "    pthread-stubs-0.4          |    h36c2ea0_1001           5 KB  conda-forge\n",
      "    pyqt-5.9.2                 |   py36hcca6a23_4         5.7 MB  conda-forge\n",
      "    sip-4.19.8                 |   py36hf484d3e_0         274 KB\n",
      "    zstd-1.4.5                 |       h6597ccf_2         712 KB  conda-forge\n",
      "    ------------------------------------------------------------\n",
      "                                           Total:        31.0 MB\n",
      "\n",
      "The following NEW packages will be INSTALLED:\n",
      "\n",
      "  cycler             conda-forge/noarch::cycler-0.10.0-py_2\n",
      "  dbus               conda-forge/linux-64::dbus-1.13.6-hfdff14a_1\n",
      "  expat              conda-forge/linux-64::expat-2.2.9-he1b5a44_2\n",
      "  fontconfig         conda-forge/linux-64::fontconfig-2.13.1-he4413a7_1000\n",
      "  freetype           conda-forge/linux-64::freetype-2.10.4-h7ca028e_0\n",
      "  gettext            conda-forge/linux-64::gettext-0.19.8.1-h0b5b191_1005\n",
      "  glib               conda-forge/linux-64::glib-2.66.3-h9c3ff4c_1\n",
      "  gst-plugins-base   pkgs/main/linux-64::gst-plugins-base-1.14.0-hbbd80ab_1\n",
      "  gstreamer          pkgs/main/linux-64::gstreamer-1.14.0-hb31296c_0\n",
      "  icu                conda-forge/linux-64::icu-58.2-hf484d3e_1000\n",
      "  jpeg               conda-forge/linux-64::jpeg-9d-h36c2ea0_0\n",
      "  kiwisolver         conda-forge/linux-64::kiwisolver-1.3.1-py36h51d7077_0\n",
      "  lcms2              conda-forge/linux-64::lcms2-2.11-hcbb858e_1\n",
      "  libglib            conda-forge/linux-64::libglib-2.66.3-h1f3bc88_1\n",
      "  libiconv           conda-forge/linux-64::libiconv-1.16-h516909a_0\n",
      "  libpng             conda-forge/linux-64::libpng-1.6.37-h21135ba_2\n",
      "  libtiff            conda-forge/linux-64::libtiff-4.1.0-h4f3a223_6\n",
      "  libuuid            conda-forge/linux-64::libuuid-2.32.1-h14c3975_1000\n",
      "  libwebp-base       conda-forge/linux-64::libwebp-base-1.1.0-h36c2ea0_3\n",
      "  libxcb             conda-forge/linux-64::libxcb-1.13-h14c3975_1002\n",
      "  libxml2            pkgs/main/linux-64::libxml2-2.9.10-hb55368b_3\n",
      "  lz4-c              conda-forge/linux-64::lz4-c-1.9.2-he1b5a44_3\n",
      "  matplotlib         conda-forge/linux-64::matplotlib-3.3.3-py36h5fab9bb_0\n",
      "  matplotlib-base    conda-forge/linux-64::matplotlib-base-3.3.3-py36he12231b_0\n",
      "  olefile            conda-forge/noarch::olefile-0.46-pyh9f0ad1d_1\n",
      "  pcre               conda-forge/linux-64::pcre-8.44-he1b5a44_0\n",
      "  pillow             conda-forge/linux-64::pillow-8.0.1-py36h10ecd5c_0\n",
      "  pthread-stubs      conda-forge/linux-64::pthread-stubs-0.4-h36c2ea0_1001\n",
      "  pyqt               conda-forge/linux-64::pyqt-5.9.2-py36hcca6a23_4\n",
      "  qt                 pkgs/main/linux-64::qt-5.9.7-h5867ecd_1\n",
      "  sip                pkgs/main/linux-64::sip-4.19.8-py36hf484d3e_0\n",
      "  xorg-libxau        conda-forge/linux-64::xorg-libxau-1.0.9-h14c3975_0\n",
      "  xorg-libxdmcp      conda-forge/linux-64::xorg-libxdmcp-1.1.3-h516909a_0\n",
      "  zstd               conda-forge/linux-64::zstd-1.4.5-h6597ccf_2\n",
      "\n",
      "The following packages will be UPDATED:\n",
      "\n",
      "  ca-certificates    anaconda::ca-certificates-2020.10.14-0 --> conda-forge::ca-certificates-2020.11.8-ha878542_0\n",
      "  certifi                anaconda::certifi-2020.6.20-py36_0 --> conda-forge::certifi-2020.11.8-py36h5fab9bb_0\n",
      "\n",
      "The following packages will be SUPERSEDED by a higher-priority channel:\n",
      "\n",
      "  openssl               anaconda::openssl-1.1.1h-h7b6447c_0 --> conda-forge::openssl-1.1.1h-h516909a_0\n",
      "\n",
      "\n",
      "\n",
      "Downloading and Extracting Packages\n",
      "lcms2-2.11           | 434 KB    | ##################################### | 100% \n",
      "glib-2.66.3          | 502 KB    | ##################################### | 100% \n",
      "libxml2-2.9.10       | 1.2 MB    | ##################################### | 100% \n",
      "pthread-stubs-0.4    | 5 KB      | ##################################### | 100% \n",
      "matplotlib-3.3.3     | 6 KB      | ##################################### | 100% \n",
      "pillow-8.0.1         | 687 KB    | ##################################### | 100% \n",
      "libtiff-4.1.0        | 618 KB    | ##################################### | 100% \n",
      "sip-4.19.8           | 274 KB    | ##################################### | 100% \n",
      "matplotlib-base-3.3. | 6.8 MB    | ##################################### | 100% \n",
      "libglib-2.66.3       | 3.0 MB    | ##################################### | 100% \n",
      "libiconv-1.16        | 1.4 MB    | ##################################### | 100% \n",
      "zstd-1.4.5           | 712 KB    | ##################################### | 100% \n",
      "freetype-2.10.4      | 912 KB    | ##################################### | 100% \n",
      "libwebp-base-1.1.0   | 864 KB    | ##################################### | 100% \n",
      "olefile-0.46         | 32 KB     | ##################################### | 100% \n",
      "dbus-1.13.6          | 585 KB    | ##################################### | 100% \n",
      "gstreamer-1.14.0     | 3.1 MB    | ##################################### | 100% \n",
      "pyqt-5.9.2           | 5.7 MB    | ##################################### | 100% \n",
      "lz4-c-1.9.2          | 203 KB    | ##################################### | 100% \n",
      "kiwisolver-1.3.1     | 86 KB     | ##################################### | 100% \n",
      "jpeg-9d              | 264 KB    | ##################################### | 100% \n",
      "gettext-0.19.8.1     | 3.6 MB    | ##################################### | 100% \n",
      "libpng-1.6.37        | 306 KB    | ##################################### | 100% \n",
      "Preparing transaction: done\n",
      "Verifying transaction: done\n",
      "Executing transaction: done\n",
      "Collecting package metadata (current_repodata.json): done\n",
      "Solving environment: done\n",
      "\n",
      "## Package Plan ##\n",
      "\n",
      "  environment location: /home/franko/anaconda3/envs/critical\n",
      "\n",
      "  added / updated specs:\n",
      "    - seaborn\n",
      "\n",
      "\n",
      "The following packages will be downloaded:\n",
      "\n",
      "    package                    |            build\n",
      "    ---------------------------|-----------------\n",
      "    seaborn-0.11.0             |             py_0         216 KB  anaconda\n",
      "    ------------------------------------------------------------\n",
      "                                           Total:         216 KB\n",
      "\n",
      "The following NEW packages will be INSTALLED:\n",
      "\n",
      "  seaborn            anaconda/noarch::seaborn-0.11.0-py_0\n",
      "\n",
      "The following packages will be SUPERSEDED by a higher-priority channel:\n",
      "\n",
      "  ca-certificates    conda-forge::ca-certificates-2020.11.~ --> anaconda::ca-certificates-2020.10.14-0\n",
      "  certifi            conda-forge::certifi-2020.11.8-py36h5~ --> anaconda::certifi-2020.6.20-py36_0\n",
      "  openssl            conda-forge::openssl-1.1.1h-h516909a_0 --> anaconda::openssl-1.1.1h-h7b6447c_0\n",
      "\n",
      "\n",
      "\n",
      "Downloading and Extracting Packages\n",
      "seaborn-0.11.0       | 216 KB    | ##################################### | 100% \n",
      "Preparing transaction: done\n",
      "Verifying transaction: done\n",
      "Executing transaction: done\n"
     ]
    }
   ],
   "source": [
    "install_packages = True\n",
    "if install_packages:\n",
    "    !conda install tensorflow=2 -y\n",
    "    !conda install -c anaconda pandas -y\n",
    "    !conda install -c conda-forge tensorflow-hub -y\n",
    "    !conda install -c akode html2text -y\n",
    "    !conda install -c conda-forge tqdm -y\n",
    "    !conda install -c anaconda scikit-learn -y\n",
    "    !conda install -c conda-forge matplotlib -y\n",
    "    !conda install -c anaconda seaborn -y"
   ]
  },
  {
   "cell_type": "markdown",
   "metadata": {},
   "source": [
    "# Imports"
   ]
  },
  {
   "cell_type": "code",
   "execution_count": 1,
   "metadata": {
    "id": "xD4HKjy9TC-g"
   },
   "outputs": [],
   "source": [
    "#imports\n",
    "import pandas as pd\n",
    "import numpy as np\n",
    "import os\n",
    "import time\n",
    "import tensorflow as tf\n",
    "import tensorflow_hub as hub\n",
    "import zipfile\n",
    "from html2text import HTML2Text\n",
    "from tqdm import tqdm\n",
    "import re\n",
    "from sklearn.metrics import pairwise_distances\n",
    "from sklearn.preprocessing import normalize\n",
    "import matplotlib.pyplot as plt\n",
    "import seaborn as sns"
   ]
  },
  {
   "cell_type": "markdown",
   "metadata": {},
   "source": [
    "# Set pandas print options\n",
    "This will improve readability of printed pandas dataframe.\n"
   ]
  },
  {
   "cell_type": "code",
   "execution_count": 2,
   "metadata": {
    "id": "SEH28FctS6SP"
   },
   "outputs": [],
   "source": [
    "pd.set_option('display.max_rows', None)\n",
    "pd.set_option('display.max_columns', None)\n",
    "pd.set_option('display.width', None)\n",
    "pd.set_option('display.max_colwidth', None)"
   ]
  },
  {
   "cell_type": "markdown",
   "metadata": {},
   "source": [
    "## Set global Parameters\n",
    "Set your parameters here:\n",
    "\n",
    "data_path: In this path put the data you have downloaded with YouTube Data Tools. \n",
    "output_path: Tghe files generated in this notebook will be saved here.\n",
    "\n",
    "url_dict: URLs to models on Tensorflow hub are saved here. Other models are available there.\n",
    "model_type: Define which model you would like to use. Choose one from url_dict\n",
    "\n",
    "new_embeddings: If this is true, new embeddings will be generated and saved at output_path. Otherwise, embeddings are loaded from Disc.\n",
    "\n",
    "\n"
   ]
  },
  {
   "cell_type": "code",
   "execution_count": 5,
   "metadata": {
    "id": "TL7Rvq_TD086"
   },
   "outputs": [],
   "source": [
    "data_path = './data/video_comments.tab'\n",
    "output_path = \"./output/\"\n",
    "\n",
    "new_embeddings = True\n",
    "\n",
    "url_dict = {\n",
    "            'Transformer' : \"https://tfhub.dev/google/universal-sentence-encoder-large/5\",\n",
    "            'DAN' : \"https://tfhub.dev/google/universal-sentence-encoder/4\",\n",
    "            'Transformer_Multilingual': \"https://tfhub.dev/google/universal-sentence-encoder-multilingual-large/3\"\n",
    "}\n",
    "\n",
    "model_type = 'Transformer' #@param ['DAN','Transformer','Transformer_Multilingual']"
   ]
  },
  {
   "cell_type": "markdown",
   "metadata": {},
   "source": [
    "## Create output directory\n",
    "Try to create the directory defined by output_path"
   ]
  },
  {
   "cell_type": "code",
   "execution_count": 5,
   "metadata": {
    "colab": {
     "base_uri": "https://localhost:8080/"
    },
    "id": "NuvhsxjlZFhu",
    "outputId": "436a89b3-9ae8-4f74-f236-4a3f55b64d6d"
   },
   "outputs": [
    {
     "name": "stdout",
     "output_type": "stream",
     "text": [
      "Creation of the directory ./output/ failed\n"
     ]
    }
   ],
   "source": [
    "try:\n",
    "   os.mkdir(output_path)\n",
    "except OSError:\n",
    "  print (\"Creation of the directory %s failed\" % output_path)\n",
    "else:\n",
    "  print (\"Successfully created the directory %s \" % output_path)\n"
   ]
  },
  {
   "cell_type": "markdown",
   "metadata": {
    "id": "VO9QOLP_9DxJ"
   },
   "source": [
    "# Load Data\n",
    "Load you data as a pandas dataframe"
   ]
  },
  {
   "cell_type": "code",
   "execution_count": 6,
   "metadata": {},
   "outputs": [],
   "source": [
    "if new_embeddings:\n",
    "    data = pd.read_csv(data_path,sep='\\t',header=(0))\n",
    "    data.head()"
   ]
  },
  {
   "cell_type": "code",
   "execution_count": 7,
   "metadata": {},
   "outputs": [
    {
     "data": {
      "text/html": [
       "<div>\n",
       "<style scoped>\n",
       "    .dataframe tbody tr th:only-of-type {\n",
       "        vertical-align: middle;\n",
       "    }\n",
       "\n",
       "    .dataframe tbody tr th {\n",
       "        vertical-align: top;\n",
       "    }\n",
       "\n",
       "    .dataframe thead th {\n",
       "        text-align: right;\n",
       "    }\n",
       "</style>\n",
       "<table border=\"1\" class=\"dataframe\">\n",
       "  <thead>\n",
       "    <tr style=\"text-align: right;\">\n",
       "      <th></th>\n",
       "      <th>id</th>\n",
       "      <th>replyCount</th>\n",
       "      <th>likeCount</th>\n",
       "      <th>publishedAt</th>\n",
       "      <th>authorName</th>\n",
       "      <th>text</th>\n",
       "      <th>authorChannelId</th>\n",
       "      <th>authorChannelUrl</th>\n",
       "      <th>isReply</th>\n",
       "      <th>isReplyTo</th>\n",
       "      <th>isReplyToName</th>\n",
       "    </tr>\n",
       "  </thead>\n",
       "  <tbody>\n",
       "    <tr>\n",
       "      <th>0</th>\n",
       "      <td>UgzXkhhHxJSoZV0MfzZ4AaABAg</td>\n",
       "      <td>434.0</td>\n",
       "      <td>6309</td>\n",
       "      <td>2020-09-29 09:57:31</td>\n",
       "      <td>Kurzgesagt – In a Nutshell</td>\n",
       "      <td>We created our first app ‘Universe in a Nutshell’, together with Tim Urban of Wait but Why! You can get it here:&lt;br /&gt;Appstore: &lt;a href=\"http://kgs.link/universe-app-ios\"&gt;http://kgs.link/universe-app-ios&lt;/a&gt;&lt;br /&gt;Google Playstore: &lt;a href=\"http://kgs.link/universe-app-android\"&gt;http://kgs.link/universe-app-android&lt;/a&gt;</td>\n",
       "      <td>UCsXVk37bltHxD1rDPwtNM8Q</td>\n",
       "      <td>http://www.youtube.com/channel/UCsXVk37bltHxD1rDPwtNM8Q</td>\n",
       "      <td>0</td>\n",
       "      <td>NaN</td>\n",
       "      <td>NaN</td>\n",
       "    </tr>\n",
       "    <tr>\n",
       "      <th>1</th>\n",
       "      <td>UgzXkhhHxJSoZV0MfzZ4AaABAg.9EBLZuEXYdW9FrydWe06PW</td>\n",
       "      <td>NaN</td>\n",
       "      <td>0</td>\n",
       "      <td>2020-11-10 05:06:24</td>\n",
       "      <td>Gustavo Oliveira</td>\n",
       "      <td>Kurzgesagt – In a Nutshell Missing Conventional Agriculture: in addition to poisoning the soil the water and our food, plowing the soil releases CO2 and moisture (H2O) from the soil to the atmosphere(Animal confinement also is bad).... Even if we stop emitting CO2 into the atmosphere with clean energy what was released from CO2 during all this time would still be there. The solution would be to capture CO2 for the soil, this technology has been around for a long time, the system of a forest ... ragriculture regeneration and forest gardening are revolutionary proposals. Source: Watch the Netflix documentary - KISS THE GROUND</td>\n",
       "      <td>UCPNSChmyPh0DY-gCGzOwaSA</td>\n",
       "      <td>http://www.youtube.com/channel/UCPNSChmyPh0DY-gCGzOwaSA</td>\n",
       "      <td>1</td>\n",
       "      <td>UgzXkhhHxJSoZV0MfzZ4AaABAg</td>\n",
       "      <td>Kurzgesagt – In a Nutshell</td>\n",
       "    </tr>\n",
       "    <tr>\n",
       "      <th>2</th>\n",
       "      <td>UgzXkhhHxJSoZV0MfzZ4AaABAg.9EBLZuEXYdW9FSDdj93tfS</td>\n",
       "      <td>NaN</td>\n",
       "      <td>1</td>\n",
       "      <td>2020-10-30 19:46:45</td>\n",
       "      <td>faik Idrizi</td>\n",
       "      <td>Kurzgesagt — In a Nutshell Can you to a video about why is difficult to replace patrol cars and diesel cars?</td>\n",
       "      <td>UCP0vU0onuc0AJ381ILxSEUw</td>\n",
       "      <td>http://www.youtube.com/channel/UCP0vU0onuc0AJ381ILxSEUw</td>\n",
       "      <td>1</td>\n",
       "      <td>UgzXkhhHxJSoZV0MfzZ4AaABAg</td>\n",
       "      <td>Kurzgesagt – In a Nutshell</td>\n",
       "    </tr>\n",
       "    <tr>\n",
       "      <th>3</th>\n",
       "      <td>UgzXkhhHxJSoZV0MfzZ4AaABAg.9EBLZuEXYdW9FPVz43WoHp</td>\n",
       "      <td>NaN</td>\n",
       "      <td>0</td>\n",
       "      <td>2020-10-29 18:29:14</td>\n",
       "      <td>Kin H</td>\n",
       "      <td>Read between the lines, dummy's. That means you reading this comment. Read between the lines.</td>\n",
       "      <td>UCVSFqbn8wA5kDa_Ftfxx7Vg</td>\n",
       "      <td>http://www.youtube.com/channel/UCVSFqbn8wA5kDa_Ftfxx7Vg</td>\n",
       "      <td>1</td>\n",
       "      <td>UgzXkhhHxJSoZV0MfzZ4AaABAg</td>\n",
       "      <td>Kurzgesagt – In a Nutshell</td>\n",
       "    </tr>\n",
       "    <tr>\n",
       "      <th>4</th>\n",
       "      <td>UgzXkhhHxJSoZV0MfzZ4AaABAg.9EBLZuEXYdW9EKAFKMWsDL</td>\n",
       "      <td>NaN</td>\n",
       "      <td>1</td>\n",
       "      <td>2020-10-02 20:11:45</td>\n",
       "      <td>Dee Jay</td>\n",
       "      <td>Brilliant video! Request you to make continent or country specific videos assessing and highlighting what they are doing and what they need to do to meet the need of the hour. Thank you!</td>\n",
       "      <td>UCPQiz2IJQIEqIPQXYfugvhQ</td>\n",
       "      <td>http://www.youtube.com/channel/UCPQiz2IJQIEqIPQXYfugvhQ</td>\n",
       "      <td>1</td>\n",
       "      <td>UgzXkhhHxJSoZV0MfzZ4AaABAg</td>\n",
       "      <td>Kurzgesagt – In a Nutshell</td>\n",
       "    </tr>\n",
       "  </tbody>\n",
       "</table>\n",
       "</div>"
      ],
      "text/plain": [
       "                                                  id  replyCount  likeCount  \\\n",
       "0                         UgzXkhhHxJSoZV0MfzZ4AaABAg       434.0       6309   \n",
       "1  UgzXkhhHxJSoZV0MfzZ4AaABAg.9EBLZuEXYdW9FrydWe06PW         NaN          0   \n",
       "2  UgzXkhhHxJSoZV0MfzZ4AaABAg.9EBLZuEXYdW9FSDdj93tfS         NaN          1   \n",
       "3  UgzXkhhHxJSoZV0MfzZ4AaABAg.9EBLZuEXYdW9FPVz43WoHp         NaN          0   \n",
       "4  UgzXkhhHxJSoZV0MfzZ4AaABAg.9EBLZuEXYdW9EKAFKMWsDL         NaN          1   \n",
       "\n",
       "           publishedAt                  authorName  \\\n",
       "0  2020-09-29 09:57:31  Kurzgesagt – In a Nutshell   \n",
       "1  2020-11-10 05:06:24            Gustavo Oliveira   \n",
       "2  2020-10-30 19:46:45                 faik Idrizi   \n",
       "3  2020-10-29 18:29:14                       Kin H   \n",
       "4  2020-10-02 20:11:45                     Dee Jay   \n",
       "\n",
       "                                                                                                                                                                                                                                                                                                                                                                                                                                                                                                                                                                                                                                                      text  \\\n",
       "0                                                                                                                                                                                                                                                                                                                           We created our first app ‘Universe in a Nutshell’, together with Tim Urban of Wait but Why! You can get it here:<br />Appstore: <a href=\"http://kgs.link/universe-app-ios\">http://kgs.link/universe-app-ios</a><br />Google Playstore: <a href=\"http://kgs.link/universe-app-android\">http://kgs.link/universe-app-android</a>   \n",
       "1  Kurzgesagt – In a Nutshell Missing Conventional Agriculture: in addition to poisoning the soil the water and our food, plowing the soil releases CO2 and moisture (H2O) from the soil to the atmosphere(Animal confinement also is bad).... Even if we stop emitting CO2 into the atmosphere with clean energy what was released from CO2 during all this time would still be there. The solution would be to capture CO2 for the soil, this technology has been around for a long time, the system of a forest ... ragriculture regeneration and forest gardening are revolutionary proposals. Source: Watch the Netflix documentary - KISS THE GROUND   \n",
       "2                                                                                                                                                                                                                                                                                                                                                                                                                                                                                                                                             Kurzgesagt — In a Nutshell Can you to a video about why is difficult to replace patrol cars and diesel cars?   \n",
       "3                                                                                                                                                                                                                                                                                                                                                                                                                                                                                                                                                            Read between the lines, dummy's. That means you reading this comment. Read between the lines.   \n",
       "4                                                                                                                                                                                                                                                                                                                                                                                                                                                               Brilliant video! Request you to make continent or country specific videos assessing and highlighting what they are doing and what they need to do to meet the need of the hour. Thank you!   \n",
       "\n",
       "            authorChannelId  \\\n",
       "0  UCsXVk37bltHxD1rDPwtNM8Q   \n",
       "1  UCPNSChmyPh0DY-gCGzOwaSA   \n",
       "2  UCP0vU0onuc0AJ381ILxSEUw   \n",
       "3  UCVSFqbn8wA5kDa_Ftfxx7Vg   \n",
       "4  UCPQiz2IJQIEqIPQXYfugvhQ   \n",
       "\n",
       "                                          authorChannelUrl  isReply  \\\n",
       "0  http://www.youtube.com/channel/UCsXVk37bltHxD1rDPwtNM8Q        0   \n",
       "1  http://www.youtube.com/channel/UCPNSChmyPh0DY-gCGzOwaSA        1   \n",
       "2  http://www.youtube.com/channel/UCP0vU0onuc0AJ381ILxSEUw        1   \n",
       "3  http://www.youtube.com/channel/UCVSFqbn8wA5kDa_Ftfxx7Vg        1   \n",
       "4  http://www.youtube.com/channel/UCPQiz2IJQIEqIPQXYfugvhQ        1   \n",
       "\n",
       "                    isReplyTo               isReplyToName  \n",
       "0                         NaN                         NaN  \n",
       "1  UgzXkhhHxJSoZV0MfzZ4AaABAg  Kurzgesagt – In a Nutshell  \n",
       "2  UgzXkhhHxJSoZV0MfzZ4AaABAg  Kurzgesagt – In a Nutshell  \n",
       "3  UgzXkhhHxJSoZV0MfzZ4AaABAg  Kurzgesagt – In a Nutshell  \n",
       "4  UgzXkhhHxJSoZV0MfzZ4AaABAg  Kurzgesagt – In a Nutshell  "
      ]
     },
     "execution_count": 7,
     "metadata": {},
     "output_type": "execute_result"
    }
   ],
   "source": [
    "data.head()"
   ]
  },
  {
   "cell_type": "code",
   "execution_count": 8,
   "metadata": {},
   "outputs": [],
   "source": [
    "data = data[0:10000] #need to remove entires due to my memory"
   ]
  },
  {
   "cell_type": "markdown",
   "metadata": {
    "id": "_IUWISh1M5nz"
   },
   "source": [
    "# Preprocessing\n",
    "Preprocess your data:\n",
    "- Drop empty rows\n",
    "- Drop unused columns"
   ]
  },
  {
   "cell_type": "code",
   "execution_count": 9,
   "metadata": {
    "id": "gbU3mk83MBIH"
   },
   "outputs": [],
   "source": [
    "if new_embeddings:\n",
    "    data = data.dropna(subset=['text', 'authorName']) # drop rows with no content\n",
    "    data=data.drop(['id', 'replyCount','likeCount','authorChannelUrl','authorChannelId','isReplyTo','isReplyToName'],axis=1) # drop unused columns\n",
    "    data.head()"
   ]
  },
  {
   "cell_type": "markdown",
   "metadata": {},
   "source": [
    "- remove HTML-tags, links and usernames"
   ]
  },
  {
   "cell_type": "code",
   "execution_count": 11,
   "metadata": {
    "id": "vIgxEvzcM39J"
   },
   "outputs": [
    {
     "name": "stderr",
     "output_type": "stream",
     "text": [
      "100%|██████████| 10000/10000 [00:01<00:00, 5168.11it/s]\n"
     ]
    },
    {
     "name": "stdout",
     "output_type": "stream",
     "text": [
      "Removed HTML Tags.\n",
      "Removed Links.\n",
      "Removed user names.\n"
     ]
    }
   ],
   "source": [
    "if new_embeddings:\n",
    "    # Remove HTML tags\n",
    "    tqdm.pandas()\n",
    "    h = HTML2Text()\n",
    "    h.ignore_links = True\n",
    "    data['cleaned'] = data['text'].progress_apply(lambda x: h.handle(x))\n",
    "    print( \"Removed HTML Tags.\")\n",
    "\n",
    "    # Remove links\n",
    "    http_link_pattern = r'http\\S+'\n",
    "    bitly_link_pattern = r'bit.ly/\\S+'\n",
    "    data['cleaned'] = data['cleaned'].str.replace(http_link_pattern, '')\n",
    "    data['cleaned'] = data['cleaned'].str.replace(bitly_link_pattern, '')\n",
    "    print( \"Removed Links.\")\n",
    "\n",
    "    # Remove user names\n",
    "   # keep_names = [\"earth\", \"Tide\", \"Geologist\", \"A Person\", \"Titanic\", \"adventure\", \"Sun\", \"The United States Of America\"] # user names we want to keep\n",
    "    user_names = [name for name in data['authorName'].unique() if (len(name)> 3)]\n",
    "    data['cleaned'] = data['cleaned'].str.replace('|'.join(map(re.escape, user_names)), '')\n",
    "    print( \"Removed user names.\")"
   ]
  },
  {
   "cell_type": "markdown",
   "metadata": {},
   "source": [
    "# Save or Load preprocessed data\n",
    "\n",
    "Save your data afte preprocessing, or load preprocessed data from disc."
   ]
  },
  {
   "cell_type": "code",
   "execution_count": 8,
   "metadata": {
    "colab": {
     "base_uri": "https://localhost:8080/"
    },
    "id": "W0uP3D5IXvyT",
    "outputId": "ce705b12-d180-438e-8bb7-86a5dfffbdcf"
   },
   "outputs": [
    {
     "ename": "NameError",
     "evalue": "name 'data' is not defined",
     "output_type": "error",
     "traceback": [
      "\u001b[0;31m---------------------------------------------------------------------------\u001b[0m",
      "\u001b[0;31mNameError\u001b[0m                                 Traceback (most recent call last)",
      "\u001b[0;32m<ipython-input-8-197574ecbce8>\u001b[0m in \u001b[0;36m<module>\u001b[0;34m()\u001b[0m\n\u001b[1;32m      1\u001b[0m \u001b[0;32mif\u001b[0m \u001b[0mnew_embeddings\u001b[0m\u001b[0;34m:\u001b[0m\u001b[0;34m\u001b[0m\u001b[0;34m\u001b[0m\u001b[0m\n\u001b[0;32m----> 2\u001b[0;31m   \u001b[0mdata\u001b[0m\u001b[0;34m.\u001b[0m\u001b[0mto_pickle\u001b[0m\u001b[0;34m(\u001b[0m\u001b[0moutput_path\u001b[0m\u001b[0;34m+\u001b[0m\u001b[0;34m'data_preprocessed'\u001b[0m\u001b[0;34m+\u001b[0m\u001b[0;34m'.pkl'\u001b[0m\u001b[0;34m)\u001b[0m\u001b[0;34m\u001b[0m\u001b[0;34m\u001b[0m\u001b[0m\n\u001b[0m\u001b[1;32m      3\u001b[0m \u001b[0;32melse\u001b[0m\u001b[0;34m:\u001b[0m\u001b[0;34m\u001b[0m\u001b[0;34m\u001b[0m\u001b[0m\n\u001b[1;32m      4\u001b[0m   \u001b[0mdata\u001b[0m \u001b[0;34m=\u001b[0m \u001b[0mpd\u001b[0m\u001b[0;34m.\u001b[0m\u001b[0mread_pickle\u001b[0m\u001b[0;34m(\u001b[0m\u001b[0moutput_path\u001b[0m\u001b[0;34m+\u001b[0m\u001b[0;34m'data_preprocessed'\u001b[0m\u001b[0;34m+\u001b[0m\u001b[0;34m'.pkl'\u001b[0m\u001b[0;34m)\u001b[0m\u001b[0;34m\u001b[0m\u001b[0;34m\u001b[0m\u001b[0m\n\u001b[1;32m      5\u001b[0m \u001b[0mdata\u001b[0m\u001b[0;34m.\u001b[0m\u001b[0mhead\u001b[0m\u001b[0;34m(\u001b[0m\u001b[0;34m)\u001b[0m\u001b[0;34m\u001b[0m\u001b[0;34m\u001b[0m\u001b[0m\n",
      "\u001b[0;31mNameError\u001b[0m: name 'data' is not defined"
     ]
    }
   ],
   "source": [
    "if new_embeddings:\n",
    "  data.to_pickle(output_path+'data_preprocessed'+'.pkl')\n",
    "else:\n",
    "  data = pd.read_pickle(output_path+'data_preprocessed'+'.pkl')\n",
    "data.head()"
   ]
  },
  {
   "cell_type": "code",
   "execution_count": 9,
   "metadata": {},
   "outputs": [],
   "source": [
    "data = pd.read_pickle(output_path+'data_preprocessed'+'.pkl')"
   ]
  },
  {
   "cell_type": "code",
   "execution_count": 13,
   "metadata": {},
   "outputs": [
    {
     "name": "stdout",
     "output_type": "stream",
     "text": [
      "<class 'pandas.core.frame.DataFrame'>\n",
      "Int64Index: 10000 entries, 0 to 9999\n",
      "Data columns (total 5 columns):\n",
      " #   Column       Non-Null Count  Dtype \n",
      "---  ------       --------------  ----- \n",
      " 0   publishedAt  10000 non-null  object\n",
      " 1   authorName   10000 non-null  object\n",
      " 2   text         10000 non-null  object\n",
      " 3   isReply      10000 non-null  int64 \n",
      " 4   cleaned      10000 non-null  object\n",
      "dtypes: int64(1), object(4)\n",
      "memory usage: 468.8+ KB\n"
     ]
    }
   ],
   "source": [
    "data.info()"
   ]
  },
  {
   "cell_type": "markdown",
   "metadata": {
    "id": "5YxXP5PtAFyV"
   },
   "source": [
    "# Produce Text Embeddings with Universal Sentence Encoder"
   ]
  },
  {
   "cell_type": "markdown",
   "metadata": {
    "id": "d_sStH0bXhFD"
   },
   "source": [
    "## Load Model\n",
    "Load the model from TF-hub"
   ]
  },
  {
   "cell_type": "code",
   "execution_count": 14,
   "metadata": {
    "id": "ugb89Xy7XdqR"
   },
   "outputs": [
    {
     "name": "stdout",
     "output_type": "stream",
     "text": [
      "Loading model. This will take some time...\n"
     ]
    }
   ],
   "source": [
    "hub_url = url_dict[model_type]\n",
    "if new_embeddings:\n",
    "  print(\"Loading model. This will take some time...\")\n",
    "  embed = hub.load(hub_url)"
   ]
  },
  {
   "cell_type": "markdown",
   "metadata": {},
   "source": [
    "## Embed Documents\n",
    "Produce embeddings of your documents."
   ]
  },
  {
   "cell_type": "code",
   "execution_count": 6,
   "metadata": {
    "id": "Yz3Qlca7YGEN"
   },
   "outputs": [
    {
     "ename": "NameError",
     "evalue": "name 'data' is not defined",
     "output_type": "error",
     "traceback": [
      "\u001b[0;31m---------------------------------------------------------------------------\u001b[0m",
      "\u001b[0;31mNameError\u001b[0m                                 Traceback (most recent call last)",
      "\u001b[0;32m<ipython-input-6-87cbc360f9b4>\u001b[0m in \u001b[0;36m<module>\u001b[0;34m()\u001b[0m\n\u001b[1;32m      1\u001b[0m \u001b[0;32mif\u001b[0m \u001b[0mnew_embeddings\u001b[0m\u001b[0;34m:\u001b[0m\u001b[0;34m\u001b[0m\u001b[0;34m\u001b[0m\u001b[0m\n\u001b[0;32m----> 2\u001b[0;31m     \u001b[0;32mfor\u001b[0m \u001b[0mk\u001b[0m\u001b[0;34m,\u001b[0m\u001b[0mg\u001b[0m \u001b[0;32min\u001b[0m \u001b[0mdata\u001b[0m\u001b[0;34m.\u001b[0m\u001b[0mgroupby\u001b[0m\u001b[0;34m(\u001b[0m\u001b[0mnp\u001b[0m\u001b[0;34m.\u001b[0m\u001b[0marange\u001b[0m\u001b[0;34m(\u001b[0m\u001b[0mlen\u001b[0m\u001b[0;34m(\u001b[0m\u001b[0mdata\u001b[0m\u001b[0;34m)\u001b[0m\u001b[0;34m)\u001b[0m\u001b[0;34m//\u001b[0m\u001b[0;36m50\u001b[0m\u001b[0;34m)\u001b[0m\u001b[0;34m:\u001b[0m\u001b[0;34m\u001b[0m\u001b[0;34m\u001b[0m\u001b[0m\n\u001b[0m\u001b[1;32m      3\u001b[0m         \u001b[0;32mif\u001b[0m \u001b[0mk\u001b[0m \u001b[0;34m==\u001b[0m \u001b[0;36m0\u001b[0m\u001b[0;34m:\u001b[0m\u001b[0;34m\u001b[0m\u001b[0;34m\u001b[0m\u001b[0m\n\u001b[1;32m      4\u001b[0m             \u001b[0membeddings\u001b[0m \u001b[0;34m=\u001b[0m \u001b[0membed\u001b[0m\u001b[0;34m(\u001b[0m\u001b[0mg\u001b[0m\u001b[0;34m[\u001b[0m\u001b[0;34m'cleaned'\u001b[0m\u001b[0;34m]\u001b[0m\u001b[0;34m)\u001b[0m\u001b[0;34m\u001b[0m\u001b[0;34m\u001b[0m\u001b[0m\n\u001b[1;32m      5\u001b[0m         \u001b[0;32melse\u001b[0m\u001b[0;34m:\u001b[0m\u001b[0;34m\u001b[0m\u001b[0;34m\u001b[0m\u001b[0m\n",
      "\u001b[0;31mNameError\u001b[0m: name 'data' is not defined"
     ]
    }
   ],
   "source": [
    "if new_embeddings:\n",
    "    for k,g in data.groupby(np.arange(len(data))//50):\n",
    "        if k == 0:\n",
    "            embeddings = embed(g['cleaned'])\n",
    "        else:\n",
    "            embeddings_new = embed(g['cleaned'])\n",
    "            embeddings = tf.concat(values=[embeddings,embeddings_new],axis = 0)\n",
    "            print(k , end =\" \")\n",
    "    print(\"The embeddings vector is of fixed length {}\".format(embeddings.shape[1]))\n",
    "\n",
    "    np.save(output_path+'/embeddings'+model_type+'.npy', embeddings, allow_pickle=True, fix_imports=True)\n",
    "else:\n",
    "    embeddings = np.load(output_path+'/embeddings'+model_type+'.npy', mmap_mode=None, allow_pickle=False, fix_imports=True, encoding='ASCII')\n",
    "\n",
    "embeddings.shape"
   ]
  },
  {
   "cell_type": "code",
   "execution_count": 7,
   "metadata": {},
   "outputs": [],
   "source": [
    "embeddings = np.load(output_path+'/embeddings'+model_type+'.npy', mmap_mode=None, allow_pickle=False, fix_imports=True, encoding='ASCII')"
   ]
  },
  {
   "cell_type": "markdown",
   "metadata": {
    "id": "oFTi_5lUAnJF"
   },
   "source": [
    "## Calculate Similarity Matrix with angular distance\n",
    "\n",
    "'Following Cer et al. (2018), we first compute\n",
    "the sentence embeddings u, v for an STS sentence\n",
    "pair, and then score the sentence pair similarity\n",
    "based on the angular distance between the two\n",
    "embedding vectors  d = − arccos (uv/||u|| ||v||\u0011).'"
   ]
  },
  {
   "cell_type": "code",
   "execution_count": 10,
   "metadata": {},
   "outputs": [
    {
     "name": "stdout",
     "output_type": "stream",
     "text": [
      "[[ 1.0000002   0.12140855  0.18548042 ...  0.09063593 -0.07056878\n",
      "   0.02364509]\n",
      " [ 0.12140855  0.99999964  0.10248716 ...  0.19842285  0.02644138\n",
      "  -0.05193333]\n",
      " [ 0.18548042  0.10248716  1.0000004  ...  0.16813257 -0.07957371\n",
      "   0.02490871]\n",
      " ...\n",
      " [ 0.09063593  0.19842285  0.16813257 ...  1.0000002   0.03728629\n",
      "   0.12623568]\n",
      " [-0.07056878  0.02644138 -0.07957371 ...  0.03728629  0.9999999\n",
      "   0.00243481]\n",
      " [ 0.02364509 -0.05193333  0.02490871 ...  0.12623568  0.00243481\n",
      "   1.0000005 ]]\n"
     ]
    }
   ],
   "source": [
    "from sklearn.metrics.pairwise import cosine_similarity\n",
    "def cos_sim(input_vectors):\n",
    "    similarity = cosine_similarity(input_vectors)\n",
    "    return similarity\n",
    "cosine_similarity_matrix = cos_sim(np.array(embeddings))\n",
    "print(cosine_similarity_matrix)"
   ]
  },
  {
   "cell_type": "markdown",
   "metadata": {},
   "source": [
    "# Plots Similarity \n",
    "Plot and print a heat map showing the semantic contextual similarity between comments."
   ]
  },
  {
   "cell_type": "code",
   "execution_count": 25,
   "metadata": {},
   "outputs": [
    {
     "data": {
      "image/png": "[encoded data removed]",
      "text/plain": [
       "<Figure size 432x288 with 2 Axes>"
      ]
     },
     "metadata": {},
     "output_type": "display_data"
    }
   ],
   "source": [
    "import seaborn as sns\n",
    "def plot_similarity(labels, features, rotation):\n",
    "  corr = np.inner(features, features)\n",
    "  sns.set(font_scale=1.2)\n",
    "  g = sns.heatmap(\n",
    "      corr,\n",
    "      xticklabels=labels,\n",
    "      yticklabels=labels,\n",
    "      vmin=0,\n",
    "      vmax=1,\n",
    "      cmap=\"YlOrRd\")\n",
    "  g.set_xticklabels(labels, rotation=rotation)\n",
    "  g.set_title(\"Semantic Textual Similarity\")\n",
    "\n",
    "num_samples = 5\n",
    "off_set = 5000\n",
    "\n",
    "plot_similarity(data.iloc[off_set:off_set+num_samples]['cleaned'], embeddings[off_set:off_set+num_samples], 90)"
   ]
  },
  {
   "cell_type": "markdown",
   "metadata": {},
   "source": [
    "# Show neighbours of a comment \n",
    "Define which comment to analyze"
   ]
  },
  {
   "cell_type": "code",
   "execution_count": 22,
   "metadata": {},
   "outputs": [
    {
     "name": "stdout",
     "output_type": "stream",
     "text": [
      "Now this channel also has also become a shill for the Gates Foundation.\n",
      "\n",
      "\n"
     ]
    }
   ],
   "source": [
    "comment_index = 17\n",
    "comment = data[\"cleaned\"][comment_index]\n",
    "comment_list = data[\"cleaned\"].tolist()\n",
    "print(comment)"
   ]
  },
  {
   "cell_type": "markdown",
   "metadata": {},
   "source": [
    "Print similar comments."
   ]
  },
  {
   "cell_type": "code",
   "execution_count": 23,
   "metadata": {},
   "outputs": [
    {
     "name": "stdout",
     "output_type": "stream",
     "text": [
      "Top similar comment 1: Now this channel also has also become a shill for the Gates Foundation.\n",
      "\n",
      "\n",
      "Top similar comment 2: This channel is a mouth piece for Bill Gates' satanic ideology.\n",
      "\n",
      "\n",
      "Top similar comment 3: Now this channel work with bill \"big hitman in history\" gates?? goodbye, giuda\n",
      "\"escariota\" sicario!!!\n",
      "\n",
      "\n",
      "Top similar comment 4: Man this channel is a bunch of unresearched bs\n",
      "\n",
      "\n",
      "Top similar comment 5: Oh god now trump supporters are gonna assume this channel is supported by a\n",
      "pedophile cabal\n",
      "\n",
      "\n",
      "Top similar comment 6: Wow you found out what this channel is for! good for you!\n",
      "\n",
      "\n",
      "Top similar comment 7: Sooo Bill Gates sponsors kurzgesagt now.... great.\n",
      "\n",
      "\n",
      "Top similar comment 8: lol i thought this channel was all about science\n",
      "\n",
      "\n",
      "Top similar comment 9: I fucking knew gates was all over this video\n",
      "\n",
      "\n",
      "Top similar comment 10: if this channel becomes a president or any other high rank in politics the\n",
      "world would probably be a better place\n",
      "\n",
      "\n",
      "Top similar comment 11: Go vegan. Yes I've seen your video on veganism, now try being factual. Also,\n",
      "Bill Gates is a eugenicist.\n",
      "\n",
      "\n",
      "Top similar comment 12: I love this channel  \n",
      "I have been viewing it since its first video\n",
      "\n",
      "\n",
      "Top similar comment 13: lmaooooo this video also funded by bill gates.... they won't say the problem\n",
      "is deeply related to wealth inequality & capitalism because they want that\n",
      "billionaire money 🤑 cowards\n",
      "\n",
      "\n",
      "Top similar comment 14: The best canal in youtube is kurgesagt- in a nut shell\n",
      "\n",
      "\n",
      "Top similar comment 15: Love this channel taught me a lot\n",
      "\n",
      "\n",
      "Top similar comment 16: Love this channel, can't bear to watch this one. Already given up hope.\n",
      "\n",
      "\n",
      "Top similar comment 17: My favourite thing about this channel is how many ways it finds to talk around\n",
      "the fact that the problem is capitalism.\n",
      "\n",
      "\n",
      "Top similar comment 18: What globalist shill runs this channel?\n",
      "\n",
      "\n",
      "Top similar comment 19: This channel is just as fake as Greenpeace, just create a fake information\n",
      "sensation so people don't have to search for the (real) information\n",
      "\n",
      "\n",
      "Top similar comment 20: This is by far the best channel in youtube, love the great content\n",
      "\n",
      "\n"
     ]
    }
   ],
   "source": [
    "def get_top_similar(sentence, sentence_list, similarity_matrix, topN):\n",
    "    # find the index of sentence in list\n",
    "    index = sentence_list.index(sentence)\n",
    "    # get the corresponding row in similarity matrix\n",
    "    similarity_row = np.array(similarity_matrix[index, :])\n",
    "    # get the indices of top similar\n",
    "    indices = similarity_row.argsort()[-topN:][::-1]\n",
    "    return [sentence_list[i] for i in indices]\n",
    "\n",
    "\n",
    "for i, value in enumerate(get_top_similar(comment, comment_list, cosine_similarity_matrix, 20)):\n",
    "  print(\"Top similar comment {}: {}\".format(i+1, value))"
   ]
  },
  {
   "cell_type": "code",
   "execution_count": null,
   "metadata": {},
   "outputs": [],
   "source": []
  }
 ],
 "metadata": {
  "colab": {
   "collapsed_sections": [],
   "name": "USE_Experiments_new.ipynb",
   "provenance": [],
   "toc_visible": true
  },
  "kernelspec": {
   "display_name": "Python 3",
   "language": "python",
   "name": "python3"
  },
  "language_info": {
   "codemirror_mode": {
    "name": "ipython",
    "version": 3
   },
   "file_extension": ".py",
   "mimetype": "text/x-python",
   "name": "python",
   "nbconvert_exporter": "python",
   "pygments_lexer": "ipython3",
   "version": "3.6.11"
  }
 },
 "nbformat": 4,
 "nbformat_minor": 4
}
