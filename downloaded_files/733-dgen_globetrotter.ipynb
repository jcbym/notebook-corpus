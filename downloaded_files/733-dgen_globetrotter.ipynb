{
 "cells": [
  {
   "cell_type": "markdown",
   "metadata": {},
   "source": [
    "#### GOAL:\n",
    "Use Bangalore's Customer Counts by sector to get average consumption per customer by sector\n",
    "\n",
    "#### PROBLEM:\n",
    "Multiple tariffs by sector. \n",
    "\n",
    "#### IMPLEMENTATION:\n",
    "    1. Group tariffs by sector. \n",
    "    2. Convert monthly consumption to annual. \n",
    "    3. Get annual consumption by customer by sector, and number of customers by sector. "
   ]
  },
  {
   "cell_type": "code",
   "execution_count": 1,
   "metadata": {},
   "outputs": [],
   "source": [
    "import pandas as pd\n",
    "import numpy as np\n",
    "import os\n"
   ]
  },
  {
   "cell_type": "code",
   "execution_count": 2,
   "metadata": {},
   "outputs": [
    {
     "name": "stdout",
     "output_type": "stream",
     "text": [
      "\u001b[34mFinancing of Solar Rooftop\u001b[m\u001b[m   \u001b[34mSubscriber Count\u001b[m\u001b[m\r\n",
      "\u001b[34mPolicy Overview _ Tariffs\u001b[m\u001b[m    exploring_consumption.ipynb\r\n",
      "\u001b[34mPolygon Area\u001b[m\u001b[m                 exploring_roofs.ipynb\r\n",
      "\u001b[31mProspective Feeder List.xlsx\u001b[m\u001b[m\r\n"
     ]
    }
   ],
   "source": [
    "!ls"
   ]
  },
  {
   "cell_type": "code",
   "execution_count": 3,
   "metadata": {},
   "outputs": [],
   "source": [
    "df = pd.read_excel(os.path.join('Subscriber Count', 'bescom_customers.xlsx'))"
   ]
  },
  {
   "cell_type": "code",
   "execution_count": 4,
   "metadata": {},
   "outputs": [],
   "source": [
    "df['annual_avg_kwh'] = df['monthly_kwh'] * 12\n",
    "df['annual_tariff_kwh'] = df['customers'] * df['annual_avg_kwh']\n",
    "df = df[['sector_abbr','customers','annual_avg_kwh','annual_tariff_kwh']]"
   ]
  },
  {
   "cell_type": "code",
   "execution_count": 29,
   "metadata": {},
   "outputs": [],
   "source": [
    "# --- group by sector ---\n",
    "g = df.groupby(['sector_abbr'])[['annual_tariff_kwh','customers']].sum() \n",
    "g['mu_kwh'] = g['annual_tariff_kwh'] / g['customers'] #avoid average of averages"
   ]
  },
  {
   "cell_type": "code",
   "execution_count": 30,
   "metadata": {},
   "outputs": [],
   "source": [
    "# --- calc weighted std --- \n",
    "def weighted_std(values, weights):\n",
    "    mu = np.average(values, weights=weights)\n",
    "    variance = np.average((values-mu)**2, weights=weights)\n",
    "    return math.sqrt(variance)\n",
    "\n",
    "customer_weighted_std = lambda x: weighted_std(x, weights=df.loc[x.index, 'customers'])\n",
    "w_stds = df.groupby(['sector_abbr'])['annual_avg_kwh'].agg(customer_weighted_std)\n",
    "g['sigma_kwh'] = w_stds"
   ]
  },
  {
   "cell_type": "code",
   "execution_count": 31,
   "metadata": {},
   "outputs": [
    {
     "data": {
      "text/html": [
       "<div>\n",
       "<style scoped>\n",
       "    .dataframe tbody tr th:only-of-type {\n",
       "        vertical-align: middle;\n",
       "    }\n",
       "\n",
       "    .dataframe tbody tr th {\n",
       "        vertical-align: top;\n",
       "    }\n",
       "\n",
       "    .dataframe thead th {\n",
       "        text-align: right;\n",
       "    }\n",
       "</style>\n",
       "<table border=\"1\" class=\"dataframe\">\n",
       "  <thead>\n",
       "    <tr style=\"text-align: right;\">\n",
       "      <th></th>\n",
       "      <th>annual_tariff_kwh</th>\n",
       "      <th>customers</th>\n",
       "      <th>mu_kwh</th>\n",
       "      <th>sigma_kwh</th>\n",
       "    </tr>\n",
       "    <tr>\n",
       "      <th>sector_abbr</th>\n",
       "      <th></th>\n",
       "      <th></th>\n",
       "      <th></th>\n",
       "      <th></th>\n",
       "    </tr>\n",
       "  </thead>\n",
       "  <tbody>\n",
       "    <tr>\n",
       "      <th>agg</th>\n",
       "      <td>1.025930e+08</td>\n",
       "      <td>8694</td>\n",
       "      <td>11800.442286</td>\n",
       "      <td>4046.169707</td>\n",
       "    </tr>\n",
       "    <tr>\n",
       "      <th>com</th>\n",
       "      <td>2.699144e+09</td>\n",
       "      <td>675270</td>\n",
       "      <td>3997.133013</td>\n",
       "      <td>19274.986253</td>\n",
       "    </tr>\n",
       "    <tr>\n",
       "      <th>ind</th>\n",
       "      <td>6.712859e+09</td>\n",
       "      <td>7610</td>\n",
       "      <td>882110.302991</td>\n",
       "      <td>539450.206531</td>\n",
       "    </tr>\n",
       "    <tr>\n",
       "      <th>res</th>\n",
       "      <td>5.260287e+09</td>\n",
       "      <td>4310660</td>\n",
       "      <td>1220.297397</td>\n",
       "      <td>200.907600</td>\n",
       "    </tr>\n",
       "  </tbody>\n",
       "</table>\n",
       "</div>"
      ],
      "text/plain": [
       "             annual_tariff_kwh  customers         mu_kwh      sigma_kwh\n",
       "sector_abbr                                                            \n",
       "agg               1.025930e+08       8694   11800.442286    4046.169707\n",
       "com               2.699144e+09     675270    3997.133013   19274.986253\n",
       "ind               6.712859e+09       7610  882110.302991  539450.206531\n",
       "res               5.260287e+09    4310660    1220.297397     200.907600"
      ]
     },
     "execution_count": 31,
     "metadata": {},
     "output_type": "execute_result"
    }
   ],
   "source": [
    "g"
   ]
  },
  {
   "cell_type": "code",
   "execution_count": 57,
   "metadata": {},
   "outputs": [
    {
     "data": {
      "text/plain": [
       "<matplotlib.legend.Legend at 0x1a1c6a5710>"
      ]
     },
     "execution_count": 57,
     "metadata": {},
     "output_type": "execute_result"
    },
    {
     "data": {
      "image/png": "[encoded data removed]",
      "text/plain": [
       "<Figure size 432x288 with 1 Axes>"
      ]
     },
     "metadata": {
      "needs_background": "light"
     },
     "output_type": "display_data"
    }
   ],
   "source": [
    "import matplotlib.pyplot as plt\n",
    "import numpy as np\n",
    "import scipy.stats as stats\n",
    "import math\n",
    "\n",
    "fig, ax = plt.subplots()\n",
    "\n",
    "for sector, row in g.iterrows():\n",
    "    mu = row['mu_kwh']\n",
    "    sigma = row['sigma_kwh']\n",
    "    \n",
    "    x = abs(np.linspace(mu - 3*sigma, mu + 3*sigma, 300))\n",
    "    y = stats.norm.cdf(x, mu, sigma)\n",
    "    ax.plot(x, y, label=sector)\n",
    "    \n",
    "ax.set_title('CDF of Abs Normal Distribution of Load by Sector')\n",
    "ax.set_xlabel('Load (kWh)')\n",
    "ax.set_ylabel('CDF (%)')\n",
    "ax.set_xlim(10,5e6)\n",
    "ax.set_xscale('log')\n",
    "ax.legend()"
   ]
  },
  {
   "cell_type": "code",
   "execution_count": 42,
   "metadata": {},
   "outputs": [
    {
     "data": {
      "text/plain": [
       "array([2.20591377e-05, 2.28677307e-05, 2.37025362e-05, 2.45642653e-05,\n",
       "       2.54536431e-05, 2.63714088e-05, 2.73183159e-05, 2.82951321e-05,\n",
       "       2.93026393e-05, 3.03416339e-05, 3.14129265e-05, 3.25173424e-05,\n",
       "       3.36557211e-05, 3.48289167e-05, 3.60377978e-05, 3.72832474e-05,\n",
       "       3.85661629e-05, 3.98874562e-05, 4.12480537e-05, 4.26488958e-05,\n",
       "       4.40909375e-05, 4.55751478e-05, 4.71025098e-05, 4.86740207e-05,\n",
       "       5.02906915e-05, 5.19535469e-05, 5.36636252e-05, 5.54219783e-05,\n",
       "       5.72296713e-05, 5.90877822e-05, 6.09974020e-05, 6.29596343e-05,\n",
       "       6.49755953e-05, 6.70464129e-05, 6.91732274e-05, 7.13571902e-05,\n",
       "       7.35994643e-05, 7.59012235e-05, 7.82636522e-05, 8.06879451e-05,\n",
       "       8.31753067e-05, 8.57269509e-05, 8.83441006e-05, 9.10279875e-05,\n",
       "       9.37798512e-05, 9.66009391e-05, 9.94925055e-05, 1.02455812e-04,\n",
       "       1.05492125e-04, 1.08602717e-04, 1.11788867e-04, 1.15051855e-04,\n",
       "       1.18392968e-04, 1.21813495e-04, 1.25314726e-04, 1.28897954e-04,\n",
       "       1.32564473e-04, 1.36315578e-04, 1.40152560e-04, 1.44076714e-04,\n",
       "       1.48089328e-04, 1.52191691e-04, 1.56385086e-04, 1.60670792e-04,\n",
       "       1.65050083e-04, 1.69524226e-04, 1.74094481e-04, 1.78762100e-04,\n",
       "       1.83528325e-04, 1.88394390e-04, 1.93361516e-04, 1.98430913e-04,\n",
       "       2.03603776e-04, 2.08881288e-04, 2.14264615e-04, 2.19754908e-04,\n",
       "       2.25353301e-04, 2.31060908e-04, 2.36878823e-04, 2.42808121e-04,\n",
       "       2.48849855e-04, 2.55005053e-04, 2.61274719e-04, 2.67659834e-04,\n",
       "       2.74161350e-04, 2.80780192e-04, 2.87517255e-04, 2.94373405e-04,\n",
       "       3.01349476e-04, 3.08446268e-04, 3.15664548e-04, 3.23005048e-04,\n",
       "       3.30468463e-04, 3.38055451e-04, 3.45766629e-04, 3.53602575e-04,\n",
       "       3.61563826e-04, 3.69650874e-04, 3.77864170e-04, 3.86204117e-04,\n",
       "       3.94671072e-04, 4.03265346e-04, 4.11987198e-04, 4.20836839e-04,\n",
       "       4.29814428e-04, 4.38920070e-04, 4.48153818e-04, 4.57515669e-04,\n",
       "       4.67005563e-04, 4.76623385e-04, 4.86368960e-04, 4.96242053e-04,\n",
       "       5.06242369e-04, 5.16369552e-04, 5.26623181e-04, 5.37002774e-04,\n",
       "       5.47507782e-04, 5.58137593e-04, 5.68891525e-04, 5.79768832e-04,\n",
       "       5.90768696e-04, 6.01890233e-04, 6.13132487e-04, 6.24494432e-04,\n",
       "       6.35974970e-04, 6.47572932e-04, 6.59287076e-04, 6.71116084e-04,\n",
       "       6.83058568e-04, 6.95113063e-04, 7.07278029e-04, 7.19551852e-04,\n",
       "       7.31932842e-04, 7.44419230e-04, 7.57009176e-04, 7.69700759e-04,\n",
       "       7.82491982e-04, 7.95380773e-04, 8.08364981e-04, 8.21442379e-04,\n",
       "       8.34610663e-04, 8.47867452e-04, 8.61210289e-04, 8.74636639e-04,\n",
       "       8.88143891e-04, 9.01729361e-04, 9.15390285e-04, 9.29123828e-04,\n",
       "       9.42927079e-04, 9.56797052e-04, 9.70730689e-04, 9.84724858e-04,\n",
       "       9.98776359e-04, 1.01288192e-03, 1.02703819e-03, 1.04124176e-03,\n",
       "       1.05548914e-03, 1.06977680e-03, 1.08410112e-03, 1.09845842e-03,\n",
       "       1.11284495e-03, 1.12725691e-03, 1.14169045e-03, 1.15614162e-03,\n",
       "       1.17060646e-03, 1.18508093e-03, 1.19956093e-03, 1.21404232e-03,\n",
       "       1.22852090e-03, 1.24299243e-03, 1.25745261e-03, 1.27189712e-03,\n",
       "       1.28632156e-03, 1.30072152e-03, 1.31509254e-03, 1.32943011e-03,\n",
       "       1.34372971e-03, 1.35798678e-03, 1.37219670e-03, 1.38635487e-03,\n",
       "       1.40045663e-03, 1.41449731e-03, 1.42847222e-03, 1.44237665e-03,\n",
       "       1.45620587e-03, 1.46995515e-03, 1.48361973e-03, 1.49719486e-03,\n",
       "       1.51067577e-03, 1.52405771e-03, 1.53733590e-03, 1.55050560e-03,\n",
       "       1.56356205e-03, 1.57650049e-03, 1.58931621e-03, 1.60200447e-03,\n",
       "       1.61456059e-03, 1.62697987e-03, 1.63925767e-03, 1.65138935e-03,\n",
       "       1.66337031e-03, 1.67519598e-03, 1.68686182e-03, 1.69836334e-03,\n",
       "       1.70969607e-03, 1.72085561e-03, 1.73183759e-03, 1.74263769e-03,\n",
       "       1.75325164e-03, 1.76367523e-03, 1.77390431e-03, 1.78393478e-03,\n",
       "       1.79376260e-03, 1.80338382e-03, 1.81279454e-03, 1.82199093e-03,\n",
       "       1.83096924e-03, 1.83972578e-03, 1.84825697e-03, 1.85655928e-03,\n",
       "       1.86462929e-03, 1.87246363e-03, 1.88005906e-03, 1.88741240e-03,\n",
       "       1.89452057e-03, 1.90138060e-03, 1.90798959e-03, 1.91434477e-03,\n",
       "       1.92044344e-03, 1.92628302e-03, 1.93186103e-03, 1.93717510e-03,\n",
       "       1.94222297e-03, 1.94700248e-03, 1.95151159e-03, 1.95574836e-03,\n",
       "       1.95971097e-03, 1.96339773e-03, 1.96680705e-03, 1.96993746e-03,\n",
       "       1.97278761e-03, 1.97535627e-03, 1.97764234e-03, 1.97964481e-03,\n",
       "       1.98136283e-03, 1.98279565e-03, 1.98394266e-03, 1.98480335e-03,\n",
       "       1.98537735e-03, 1.98566441e-03, 1.98566441e-03, 1.98537735e-03,\n",
       "       1.98480335e-03, 1.98394266e-03, 1.98279565e-03, 1.98136283e-03,\n",
       "       1.97964481e-03, 1.97764234e-03, 1.97535627e-03, 1.97278761e-03,\n",
       "       1.96993746e-03, 1.96680705e-03, 1.96339773e-03, 1.95971097e-03,\n",
       "       1.95574836e-03, 1.95151159e-03, 1.94700248e-03, 1.94222297e-03,\n",
       "       1.93717510e-03, 1.93186103e-03, 1.92628302e-03, 1.92044344e-03,\n",
       "       1.91434477e-03, 1.90798959e-03, 1.90138060e-03, 1.89452057e-03,\n",
       "       1.88741240e-03, 1.88005906e-03, 1.87246363e-03, 1.86462929e-03,\n",
       "       1.85655928e-03, 1.84825697e-03, 1.83972578e-03, 1.83096924e-03,\n",
       "       1.82199093e-03, 1.81279454e-03, 1.80338382e-03, 1.79376260e-03,\n",
       "       1.78393478e-03, 1.77390431e-03, 1.76367523e-03, 1.75325164e-03,\n",
       "       1.74263769e-03, 1.73183759e-03, 1.72085561e-03, 1.70969607e-03,\n",
       "       1.69836334e-03, 1.68686182e-03, 1.67519598e-03, 1.66337031e-03,\n",
       "       1.65138935e-03, 1.63925767e-03, 1.62697987e-03, 1.61456059e-03,\n",
       "       1.60200447e-03, 1.58931621e-03, 1.57650049e-03, 1.56356205e-03,\n",
       "       1.55050560e-03, 1.53733590e-03, 1.52405771e-03, 1.51067577e-03,\n",
       "       1.49719486e-03, 1.48361973e-03, 1.46995515e-03, 1.45620587e-03,\n",
       "       1.44237665e-03, 1.42847222e-03, 1.41449731e-03, 1.40045663e-03,\n",
       "       1.38635487e-03, 1.37219670e-03, 1.35798678e-03, 1.34372971e-03,\n",
       "       1.32943011e-03, 1.31509254e-03, 1.30072152e-03, 1.28632156e-03,\n",
       "       1.27189712e-03, 1.25745261e-03, 1.24299243e-03, 1.22852090e-03,\n",
       "       1.21404232e-03, 1.19956093e-03, 1.18508093e-03, 1.17060646e-03,\n",
       "       1.15614162e-03, 1.14169045e-03, 1.12725691e-03, 1.11284495e-03,\n",
       "       1.09845842e-03, 1.08410112e-03, 1.06977680e-03, 1.05548914e-03,\n",
       "       1.04124176e-03, 1.02703819e-03, 1.01288192e-03, 9.98776359e-04,\n",
       "       9.84724858e-04, 9.70730689e-04, 9.56797052e-04, 9.42927079e-04,\n",
       "       9.29123828e-04, 9.15390285e-04, 9.01729361e-04, 8.88143891e-04,\n",
       "       8.74636639e-04, 8.61210289e-04, 8.47867452e-04, 8.34610663e-04,\n",
       "       8.21442379e-04, 8.08364981e-04, 7.95380773e-04, 7.82491982e-04,\n",
       "       7.69700759e-04, 7.57009176e-04, 7.44419230e-04, 7.31932842e-04,\n",
       "       7.19551852e-04, 7.07278029e-04, 6.95113063e-04, 6.83058568e-04,\n",
       "       6.71116084e-04, 6.59287076e-04, 6.47572932e-04, 6.35974970e-04,\n",
       "       6.24494432e-04, 6.13132487e-04, 6.01890233e-04, 5.90768696e-04,\n",
       "       5.79768832e-04, 5.68891525e-04, 5.58137593e-04, 5.47507782e-04,\n",
       "       5.37002774e-04, 5.26623181e-04, 5.16369552e-04, 5.06242369e-04,\n",
       "       4.96242053e-04, 4.86368960e-04, 4.76623385e-04, 4.67005563e-04,\n",
       "       4.57515669e-04, 4.48153818e-04, 4.38920070e-04, 4.29814428e-04,\n",
       "       4.20836839e-04, 4.11987198e-04, 4.03265346e-04, 3.94671072e-04,\n",
       "       3.86204117e-04, 3.77864170e-04, 3.69650874e-04, 3.61563826e-04,\n",
       "       3.53602575e-04, 3.45766629e-04, 3.38055451e-04, 3.30468463e-04,\n",
       "       3.23005048e-04, 3.15664548e-04, 3.08446268e-04, 3.01349476e-04,\n",
       "       2.94373405e-04, 2.87517255e-04, 2.80780192e-04, 2.74161350e-04,\n",
       "       2.67659834e-04, 2.61274719e-04, 2.55005053e-04, 2.48849855e-04,\n",
       "       2.42808121e-04, 2.36878823e-04, 2.31060908e-04, 2.25353301e-04,\n",
       "       2.19754908e-04, 2.14264615e-04, 2.08881288e-04, 2.03603776e-04,\n",
       "       1.98430913e-04, 1.93361516e-04, 1.88394390e-04, 1.83528325e-04,\n",
       "       1.78762100e-04, 1.74094481e-04, 1.69524226e-04, 1.65050083e-04,\n",
       "       1.60670792e-04, 1.56385086e-04, 1.52191691e-04, 1.48089328e-04,\n",
       "       1.44076714e-04, 1.40152560e-04, 1.36315578e-04, 1.32564473e-04,\n",
       "       1.28897954e-04, 1.25314726e-04, 1.21813495e-04, 1.18392968e-04,\n",
       "       1.15051855e-04, 1.11788867e-04, 1.08602717e-04, 1.05492125e-04,\n",
       "       1.02455812e-04, 9.94925055e-05, 9.66009391e-05, 9.37798512e-05,\n",
       "       9.10279875e-05, 8.83441006e-05, 8.57269509e-05, 8.31753067e-05,\n",
       "       8.06879451e-05, 7.82636522e-05, 7.59012235e-05, 7.35994643e-05,\n",
       "       7.13571902e-05, 6.91732274e-05, 6.70464129e-05, 6.49755953e-05,\n",
       "       6.29596343e-05, 6.09974020e-05, 5.90877822e-05, 5.72296713e-05,\n",
       "       5.54219783e-05, 5.36636252e-05, 5.19535469e-05, 5.02906915e-05,\n",
       "       4.86740207e-05, 4.71025098e-05, 4.55751478e-05, 4.40909375e-05,\n",
       "       4.26488958e-05, 4.12480537e-05, 3.98874562e-05, 3.85661629e-05,\n",
       "       3.72832474e-05, 3.60377978e-05, 3.48289167e-05, 3.36557211e-05,\n",
       "       3.25173424e-05, 3.14129265e-05, 3.03416339e-05, 2.93026393e-05,\n",
       "       2.82951321e-05, 2.73183159e-05, 2.63714088e-05, 2.54536431e-05,\n",
       "       2.45642653e-05, 2.37025362e-05, 2.28677307e-05, 2.20591377e-05])"
      ]
     },
     "execution_count": 42,
     "metadata": {},
     "output_type": "execute_result"
    }
   ],
   "source": [
    "y"
   ]
  },
  {
   "cell_type": "code",
   "execution_count": null,
   "metadata": {},
   "outputs": [],
   "source": []
  }
 ],
 "metadata": {
  "kernelspec": {
   "display_name": "Python 3",
   "language": "python",
   "name": "python3"
  },
  "language_info": {
   "codemirror_mode": {
    "name": "ipython",
    "version": 3
   },
   "file_extension": ".py",
   "mimetype": "text/x-python",
   "name": "python",
   "nbconvert_exporter": "python",
   "pygments_lexer": "ipython3",
   "version": "3.7.7"
  }
 },
 "nbformat": 4,
 "nbformat_minor": 4
}
