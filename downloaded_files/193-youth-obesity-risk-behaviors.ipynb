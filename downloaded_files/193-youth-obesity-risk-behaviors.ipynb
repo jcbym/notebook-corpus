{
  "nbformat": 4,
  "nbformat_minor": 0,
  "metadata": {
    "colab": {
      "name": "youth-obesity-risk-factors.ipynb",
      "provenance": [],
      "collapsed_sections": [
        "4ZWQ3F6f4yZk",
        "tt1CwXwJ43HA",
        "QScaXNcM5O4q",
        "ivVKc9Oy5Pn0",
        "pBp060mm5QOZ",
        "HncKYJ3S9YoX",
        "t8i5b2gC_oK9",
        "JRXmBrL4_pNr",
        "VEpXyGtu_1co",
        "rc9VBgae_5HN",
        "XWCdp3RnWTn4",
        "AUyetFMwCtnn",
        "8HKQ-2WGCv_G",
        "kp0Thqn8D8x4",
        "5_JrkZTYECF2",
        "Wv_DufB1hV9Y",
        "CvdcNQbiJi7k",
        "LiwAbcBqLcUq",
        "l2ClVIQsKARx",
        "96Xf24-rKJxT",
        "5BEwK1rkdm0m",
        "jRinf4L93rIn"
      ]
    },
    "kernelspec": {
      "name": "python3",
      "display_name": "Python 3"
    }
  },
  "cells": [
    {
      "cell_type": "code",
      "metadata": {
        "id": "HZoGNxqnGWsI",
        "colab_type": "code",
        "colab": {}
      },
      "source": [
        "import math\n",
        "from scipy import stats\n",
        "import numpy as np\n",
        "import pandas as pd\n",
        "import matplotlib.pyplot as plt\n",
        "from seaborn import heatmap\n",
        "from sklearn import preprocessing\n",
        "from sklearn import impute\n",
        "from sklearn import linear_model\n",
        "from sklearn import svm\n",
        "from sklearn import ensemble\n",
        "from sklearn.model_selection import train_test_split\n",
        "from sklearn.metrics import r2_score, mean_squared_error\n",
        "import warnings\n",
        "warnings.filterwarnings('ignore')\n",
        "%matplotlib inline\n",
        "plt.rc('xtick', labelsize=16)\n",
        "plt.rc('ytick', labelsize=16)\n",
        "plt.rc('axes', titlesize=20)\n",
        "import io\n",
        "from google.colab import files"
      ],
      "execution_count": 0,
      "outputs": []
    },
    {
      "cell_type": "markdown",
      "metadata": {
        "id": "KcXo1KXAGxaP",
        "colab_type": "text"
      },
      "source": [
        "# Business Understanding"
      ]
    },
    {
      "cell_type": "markdown",
      "metadata": {
        "id": "WANy223jyscL",
        "colab_type": "text"
      },
      "source": [
        "Obesity is a condition defined by the [World Health Organization](https://www.who.int/topics/obesity/en/) as a \"major risk factor for a number of chronic diseases, including diabetes, cardiovascular diseases and cancer\" and a leading preventable cause of death in the United States and worldwide. It is also a condition that is seen increasingly in children. The [Youth Risk Behavior Surveillance System (YRBSS)](https://www.cdc.gov/healthyyouth/data/yrbs/overview.htm) was developed in 1990 by the Centers for Disease Control and Prevention (CDC) to study obesity and other health outcomes and associated risk factors among youth in the United States. The motivation for this project is to understand the rates of youth obesity over time and across locations and populations within the United States, and how they are correlated with certain nutritional, behavioral, institutional, and environmental risk factors.\n",
        "\n",
        "Two datasets from the CDC are considered in this project: [Nutrition, Physical Activity, and Obesity - Youth Risk Behavior Surveillance System](https://chronicdata.cdc.gov/Nutrition-Physical-Activity-and-Obesity/Nutrition-Physical-Activity-and-Obesity-Youth-Risk/vba9-s8jp) contains information on the prevalence of youth obesity and associated risk factors gathered from the YRBSS, and [Nutrition, Physical Activity, and Obesity - Policy and Environmental Data](https://data.cdc.gov/Nutrition-Physical-Activity-and-Obesity/Nutrition-Physical-Activity-and-Obesity-Policy-and/k8w5-7ju6) focuses on state policy and environmental factors. The objective is to identify the possible interventions that governments, the private sector, and individuals can work toward that have the greatest potential for a positive impact on health outcomes."
      ]
    },
    {
      "cell_type": "markdown",
      "metadata": {
        "id": "4ZWQ3F6f4yZk",
        "colab_type": "text"
      },
      "source": [
        "# Question 1: How do obesity rates vary over time and by population?"
      ]
    },
    {
      "cell_type": "markdown",
      "metadata": {
        "id": "tt1CwXwJ43HA",
        "colab_type": "text"
      },
      "source": [
        "### Data Understanding"
      ]
    },
    {
      "cell_type": "markdown",
      "metadata": {
        "id": "k6mIMacIaV1D",
        "colab_type": "text"
      },
      "source": [
        "Let's upload the first dataset and take a look at what it contains."
      ]
    },
    {
      "cell_type": "code",
      "metadata": {
        "id": "hfH41n8RPkax",
        "colab_type": "code",
        "outputId": "6f66b4e2-f715-40f0-a3b7-02aed1a88f2a",
        "colab": {
          "base_uri": "https://localhost:8080/",
          "height": 564
        }
      },
      "source": [
        "obesity = pd.read_csv('Youth_Risk_Behavior_Surveillance_System.csv')\n",
        "obesity.head()"
      ],
      "execution_count": 0,
      "outputs": [
        {
          "output_type": "execute_result",
          "data": {
            "text/html": [
              "<div>\n",
              "<style scoped>\n",
              "    .dataframe tbody tr th:only-of-type {\n",
              "        vertical-align: middle;\n",
              "    }\n",
              "\n",
              "    .dataframe tbody tr th {\n",
              "        vertical-align: top;\n",
              "    }\n",
              "\n",
              "    .dataframe thead th {\n",
              "        text-align: right;\n",
              "    }\n",
              "</style>\n",
              "<table border=\"1\" class=\"dataframe\">\n",
              "  <thead>\n",
              "    <tr style=\"text-align: right;\">\n",
              "      <th></th>\n",
              "      <th>YearStart</th>\n",
              "      <th>YearEnd</th>\n",
              "      <th>LocationAbbr</th>\n",
              "      <th>LocationDesc</th>\n",
              "      <th>Datasource</th>\n",
              "      <th>Class</th>\n",
              "      <th>Topic</th>\n",
              "      <th>Question</th>\n",
              "      <th>Data_Value_Unit</th>\n",
              "      <th>Data_Value_Type</th>\n",
              "      <th>Data_Value</th>\n",
              "      <th>Data_Value_Alt</th>\n",
              "      <th>Data_Value_Footnote_Symbol</th>\n",
              "      <th>Data_Value_Footnote</th>\n",
              "      <th>Low_Confidence_Limit</th>\n",
              "      <th>High_Confidence_Limit</th>\n",
              "      <th>Sample_Size</th>\n",
              "      <th>Total</th>\n",
              "      <th>Gender</th>\n",
              "      <th>Grade</th>\n",
              "      <th>Race/Ethnicity</th>\n",
              "      <th>GeoLocation</th>\n",
              "      <th>ClassID</th>\n",
              "      <th>TopicID</th>\n",
              "      <th>QuestionID</th>\n",
              "      <th>DataValueTypeID</th>\n",
              "      <th>LocationID</th>\n",
              "      <th>StratificationCategory1</th>\n",
              "      <th>Stratification1</th>\n",
              "      <th>StratificationCategoryId1</th>\n",
              "      <th>StratificationID1</th>\n",
              "    </tr>\n",
              "  </thead>\n",
              "  <tbody>\n",
              "    <tr>\n",
              "      <th>0</th>\n",
              "      <td>2013</td>\n",
              "      <td>2013</td>\n",
              "      <td>NH</td>\n",
              "      <td>New Hampshire</td>\n",
              "      <td>Youth Risk Behavior Surveillance System</td>\n",
              "      <td>Fruits and Vegetables</td>\n",
              "      <td>Fruits and Vegetables - Behavior</td>\n",
              "      <td>Percent of students in grades 9-12 who consume...</td>\n",
              "      <td>NaN</td>\n",
              "      <td>Value</td>\n",
              "      <td>NaN</td>\n",
              "      <td>NaN</td>\n",
              "      <td>~</td>\n",
              "      <td>Data not available because sample size is insu...</td>\n",
              "      <td>NaN</td>\n",
              "      <td>NaN</td>\n",
              "      <td>NaN</td>\n",
              "      <td>NaN</td>\n",
              "      <td>NaN</td>\n",
              "      <td>NaN</td>\n",
              "      <td>American Indian/Alaska Native</td>\n",
              "      <td>(43.655950113, -71.50036092)</td>\n",
              "      <td>FV</td>\n",
              "      <td>FV1</td>\n",
              "      <td>Q020</td>\n",
              "      <td>VALUE</td>\n",
              "      <td>33</td>\n",
              "      <td>Race/Ethnicity</td>\n",
              "      <td>American Indian/Alaska Native</td>\n",
              "      <td>RACE</td>\n",
              "      <td>RACENAA</td>\n",
              "    </tr>\n",
              "    <tr>\n",
              "      <th>1</th>\n",
              "      <td>2009</td>\n",
              "      <td>2009</td>\n",
              "      <td>PA</td>\n",
              "      <td>Pennsylvania</td>\n",
              "      <td>Youth Risk Behavior Surveillance System</td>\n",
              "      <td>Obesity / Weight Status</td>\n",
              "      <td>Obesity / Weight Status</td>\n",
              "      <td>Percent of students in grades 9-12 who have an...</td>\n",
              "      <td>NaN</td>\n",
              "      <td>Value</td>\n",
              "      <td>14.4</td>\n",
              "      <td>14.4</td>\n",
              "      <td>NaN</td>\n",
              "      <td>NaN</td>\n",
              "      <td>10.2</td>\n",
              "      <td>19.9</td>\n",
              "      <td>215</td>\n",
              "      <td>NaN</td>\n",
              "      <td>NaN</td>\n",
              "      <td>NaN</td>\n",
              "      <td>Non-Hispanic Black</td>\n",
              "      <td>(40.793730152, -77.860700294)</td>\n",
              "      <td>OWS</td>\n",
              "      <td>OWS1</td>\n",
              "      <td>Q039</td>\n",
              "      <td>VALUE</td>\n",
              "      <td>42</td>\n",
              "      <td>Race/Ethnicity</td>\n",
              "      <td>Non-Hispanic Black</td>\n",
              "      <td>RACE</td>\n",
              "      <td>RACEBLK</td>\n",
              "    </tr>\n",
              "    <tr>\n",
              "      <th>2</th>\n",
              "      <td>2011</td>\n",
              "      <td>2011</td>\n",
              "      <td>RI</td>\n",
              "      <td>Rhode Island</td>\n",
              "      <td>Youth Risk Behavior Surveillance System</td>\n",
              "      <td>Physical Activity</td>\n",
              "      <td>Physical Activity - Behavior</td>\n",
              "      <td>Percent of students in grades 9-12 who partici...</td>\n",
              "      <td>NaN</td>\n",
              "      <td>Value</td>\n",
              "      <td>NaN</td>\n",
              "      <td>NaN</td>\n",
              "      <td>~</td>\n",
              "      <td>Data not available because sample size is insu...</td>\n",
              "      <td>NaN</td>\n",
              "      <td>NaN</td>\n",
              "      <td>NaN</td>\n",
              "      <td>NaN</td>\n",
              "      <td>NaN</td>\n",
              "      <td>NaN</td>\n",
              "      <td>Hawaiian/Pacific Islander</td>\n",
              "      <td>(41.708280193, -71.522470314)</td>\n",
              "      <td>PA</td>\n",
              "      <td>PA1</td>\n",
              "      <td>Q049</td>\n",
              "      <td>VALUE</td>\n",
              "      <td>44</td>\n",
              "      <td>Race/Ethnicity</td>\n",
              "      <td>Hawaiian/Pacific Islander</td>\n",
              "      <td>RACE</td>\n",
              "      <td>RACEHPI</td>\n",
              "    </tr>\n",
              "    <tr>\n",
              "      <th>3</th>\n",
              "      <td>2001</td>\n",
              "      <td>2001</td>\n",
              "      <td>ME</td>\n",
              "      <td>Maine</td>\n",
              "      <td>Youth Risk Behavior Surveillance System</td>\n",
              "      <td>Fruits and Vegetables</td>\n",
              "      <td>Fruits and Vegetables - Behavior</td>\n",
              "      <td>Percent of students in grades 9-12 who consume...</td>\n",
              "      <td>NaN</td>\n",
              "      <td>Value</td>\n",
              "      <td>25.5</td>\n",
              "      <td>25.5</td>\n",
              "      <td>NaN</td>\n",
              "      <td>NaN</td>\n",
              "      <td>22.9</td>\n",
              "      <td>28.3</td>\n",
              "      <td>1,098</td>\n",
              "      <td>NaN</td>\n",
              "      <td>NaN</td>\n",
              "      <td>NaN</td>\n",
              "      <td>Non-Hispanic White</td>\n",
              "      <td>(45.254228894001, -68.985031336)</td>\n",
              "      <td>FV</td>\n",
              "      <td>FV1</td>\n",
              "      <td>Q021</td>\n",
              "      <td>VALUE</td>\n",
              "      <td>23</td>\n",
              "      <td>Race/Ethnicity</td>\n",
              "      <td>Non-Hispanic White</td>\n",
              "      <td>RACE</td>\n",
              "      <td>RACEWHT</td>\n",
              "    </tr>\n",
              "    <tr>\n",
              "      <th>4</th>\n",
              "      <td>2009</td>\n",
              "      <td>2009</td>\n",
              "      <td>GA</td>\n",
              "      <td>Georgia</td>\n",
              "      <td>Youth Risk Behavior Surveillance System</td>\n",
              "      <td>Physical Activity</td>\n",
              "      <td>Physical Activity - Behavior</td>\n",
              "      <td>Percent of students in grades 9-12 who partici...</td>\n",
              "      <td>NaN</td>\n",
              "      <td>Value</td>\n",
              "      <td>25.2</td>\n",
              "      <td>25.2</td>\n",
              "      <td>NaN</td>\n",
              "      <td>NaN</td>\n",
              "      <td>11.1</td>\n",
              "      <td>47.6</td>\n",
              "      <td>167</td>\n",
              "      <td>NaN</td>\n",
              "      <td>NaN</td>\n",
              "      <td>NaN</td>\n",
              "      <td>Hispanic</td>\n",
              "      <td>(32.839681093, -83.627580346)</td>\n",
              "      <td>PA</td>\n",
              "      <td>PA1</td>\n",
              "      <td>Q049</td>\n",
              "      <td>VALUE</td>\n",
              "      <td>13</td>\n",
              "      <td>Race/Ethnicity</td>\n",
              "      <td>Hispanic</td>\n",
              "      <td>RACE</td>\n",
              "      <td>RACEHIS</td>\n",
              "    </tr>\n",
              "  </tbody>\n",
              "</table>\n",
              "</div>"
            ],
            "text/plain": [
              "   YearStart  YearEnd  ... StratificationCategoryId1 StratificationID1\n",
              "0       2013     2013  ...                      RACE           RACENAA\n",
              "1       2009     2009  ...                      RACE           RACEBLK\n",
              "2       2011     2011  ...                      RACE           RACEHPI\n",
              "3       2001     2001  ...                      RACE           RACEWHT\n",
              "4       2009     2009  ...                      RACE           RACEHIS\n",
              "\n",
              "[5 rows x 31 columns]"
            ]
          },
          "metadata": {
            "tags": []
          },
          "execution_count": 80
        }
      ]
    },
    {
      "cell_type": "markdown",
      "metadata": {
        "id": "GctY2sAN6RRr",
        "colab_type": "text"
      },
      "source": [
        "At first glance we can see that this dataset contains information from survey questions conducted across various years, states, and population groups. It also contains many redundant columns, and some in which we simply aren't interested.\n",
        "\n",
        "The data in the **Value** and **SampleSize** columns both appear to be numeric, but let's check to make sure."
      ]
    },
    {
      "cell_type": "code",
      "metadata": {
        "id": "V-rZFhJqtcaa",
        "colab_type": "code",
        "outputId": "4c2bbada-ce5a-4821-fb0c-72357516676b",
        "colab": {
          "base_uri": "https://localhost:8080/",
          "height": 35
        }
      },
      "source": [
        "obesity.Data_Value.iloc[1]"
      ],
      "execution_count": 0,
      "outputs": [
        {
          "output_type": "execute_result",
          "data": {
            "text/plain": [
              "14.4"
            ]
          },
          "metadata": {
            "tags": []
          },
          "execution_count": 81
        }
      ]
    },
    {
      "cell_type": "code",
      "metadata": {
        "id": "ze6jzDNet1LV",
        "colab_type": "code",
        "outputId": "15e22dec-ad0a-423b-cc02-9ad39f38b65f",
        "colab": {
          "base_uri": "https://localhost:8080/",
          "height": 35
        }
      },
      "source": [
        "obesity.Sample_Size.iloc[1]"
      ],
      "execution_count": 0,
      "outputs": [
        {
          "output_type": "execute_result",
          "data": {
            "text/plain": [
              "'215'"
            ]
          },
          "metadata": {
            "tags": []
          },
          "execution_count": 82
        }
      ]
    },
    {
      "cell_type": "markdown",
      "metadata": {
        "id": "qUyDokMXt5dE",
        "colab_type": "text"
      },
      "source": [
        "We can see that the **Value** column is truly numeric, but the **SampleSize** column contains numbers formatted as strings. In order to utilize this data, we will need to fix this.\n",
        "\n",
        "The preview also makes it difficult to see what questions were asked in the surveys. Let's take a closer look."
      ]
    },
    {
      "cell_type": "code",
      "metadata": {
        "id": "zZeqGr5Bzhc2",
        "colab_type": "code",
        "outputId": "75eef71f-9bb3-498f-ead2-431a50052668",
        "colab": {
          "base_uri": "https://localhost:8080/",
          "height": 179
        }
      },
      "source": [
        "obesity.Question.unique()"
      ],
      "execution_count": 0,
      "outputs": [
        {
          "output_type": "execute_result",
          "data": {
            "text/plain": [
              "array(['Percent of students in grades 9-12 who consume fruit less than 1 time daily',\n",
              "       'Percent of students in grades 9-12 who have an overweight classification',\n",
              "       'Percent of students in grades 9-12 who participate in daily physical education',\n",
              "       'Percent of students in grades 9-12 who consume vegetables less than 1 time daily',\n",
              "       'Percent of students in grades 9-12 who have obesity',\n",
              "       'Percent of students in grades 9-12 watching 3 or more hours of television each school day',\n",
              "       'Percent of students in grades 9-12 who drank regular soda/pop at least one time per day',\n",
              "       'Percent of students in grades 9-12 who achieve 1 hour or more of moderate-and/or vigorous-intensity physical activity daily'],\n",
              "      dtype=object)"
            ]
          },
          "metadata": {
            "tags": []
          },
          "execution_count": 83
        }
      ]
    },
    {
      "cell_type": "markdown",
      "metadata": {
        "id": "6hkspYiczriq",
        "colab_type": "text"
      },
      "source": [
        "The survey responses describe our metrics of interest, the percent of students in grades 9-12 who have an overweight classification and the percent of students in grades 9-12 who have obesity. They also describe the prevalence of the associated risk factors. We will need to separate these questions into their own columns in our dataset."
      ]
    },
    {
      "cell_type": "markdown",
      "metadata": {
        "id": "QScaXNcM5O4q",
        "colab_type": "text"
      },
      "source": [
        "### Data Preparation"
      ]
    },
    {
      "cell_type": "markdown",
      "metadata": {
        "id": "hunBgCnaxFXB",
        "colab_type": "text"
      },
      "source": [
        "Our first task is to clean this dataset, making it easier to understand and work with. Many columns are identical or redundant to others, so we can drop them."
      ]
    },
    {
      "cell_type": "code",
      "metadata": {
        "id": "bFfYsEDtJaO6",
        "colab_type": "code",
        "colab": {}
      },
      "source": [
        "obesity.drop(columns=['YearEnd', 'LocationDesc', 'Datasource', 'Class',\n",
        "                      'Topic', 'Data_Value_Unit', 'Data_Value_Type',\n",
        "                      'Data_Value_Alt', 'Data_Value_Footnote_Symbol',\n",
        "                      'Data_Value_Footnote', 'Low_Confidence_Limit',\n",
        "                      'High_Confidence_Limit ', 'Total', 'Gender', 'Grade',\n",
        "                      'Race/Ethnicity', 'GeoLocation', 'ClassID', 'TopicID',\n",
        "                      'QuestionID', 'DataValueTypeID', 'LocationID',\n",
        "                      'StratificationCategory1', 'StratificationCategoryId1',\n",
        "                      'StratificationID1'], inplace=True)"
      ],
      "execution_count": 0,
      "outputs": []
    },
    {
      "cell_type": "markdown",
      "metadata": {
        "id": "tfMINzMAxcyg",
        "colab_type": "text"
      },
      "source": [
        "Let's give the remaining columns more appropriate names."
      ]
    },
    {
      "cell_type": "code",
      "metadata": {
        "id": "OEy0_Z4nKPPR",
        "colab_type": "code",
        "outputId": "46004635-a38a-4079-978a-67856ab8f586",
        "colab": {
          "base_uri": "https://localhost:8080/",
          "height": 204
        }
      },
      "source": [
        "obesity.rename(columns={'YearStart':'Year',\n",
        "                        'LocationAbbr':'Location',\n",
        "                        'Stratification1':'Group',\n",
        "                        'Data_Value':'Value',\n",
        "                        'Sample_Size':'SampleSize'}, inplace=True)\n",
        "obesity.head()"
      ],
      "execution_count": 0,
      "outputs": [
        {
          "output_type": "execute_result",
          "data": {
            "text/html": [
              "<div>\n",
              "<style scoped>\n",
              "    .dataframe tbody tr th:only-of-type {\n",
              "        vertical-align: middle;\n",
              "    }\n",
              "\n",
              "    .dataframe tbody tr th {\n",
              "        vertical-align: top;\n",
              "    }\n",
              "\n",
              "    .dataframe thead th {\n",
              "        text-align: right;\n",
              "    }\n",
              "</style>\n",
              "<table border=\"1\" class=\"dataframe\">\n",
              "  <thead>\n",
              "    <tr style=\"text-align: right;\">\n",
              "      <th></th>\n",
              "      <th>Year</th>\n",
              "      <th>Location</th>\n",
              "      <th>Question</th>\n",
              "      <th>Value</th>\n",
              "      <th>SampleSize</th>\n",
              "      <th>Group</th>\n",
              "    </tr>\n",
              "  </thead>\n",
              "  <tbody>\n",
              "    <tr>\n",
              "      <th>0</th>\n",
              "      <td>2013</td>\n",
              "      <td>NH</td>\n",
              "      <td>Percent of students in grades 9-12 who consume...</td>\n",
              "      <td>NaN</td>\n",
              "      <td>NaN</td>\n",
              "      <td>American Indian/Alaska Native</td>\n",
              "    </tr>\n",
              "    <tr>\n",
              "      <th>1</th>\n",
              "      <td>2009</td>\n",
              "      <td>PA</td>\n",
              "      <td>Percent of students in grades 9-12 who have an...</td>\n",
              "      <td>14.4</td>\n",
              "      <td>215</td>\n",
              "      <td>Non-Hispanic Black</td>\n",
              "    </tr>\n",
              "    <tr>\n",
              "      <th>2</th>\n",
              "      <td>2011</td>\n",
              "      <td>RI</td>\n",
              "      <td>Percent of students in grades 9-12 who partici...</td>\n",
              "      <td>NaN</td>\n",
              "      <td>NaN</td>\n",
              "      <td>Hawaiian/Pacific Islander</td>\n",
              "    </tr>\n",
              "    <tr>\n",
              "      <th>3</th>\n",
              "      <td>2001</td>\n",
              "      <td>ME</td>\n",
              "      <td>Percent of students in grades 9-12 who consume...</td>\n",
              "      <td>25.5</td>\n",
              "      <td>1,098</td>\n",
              "      <td>Non-Hispanic White</td>\n",
              "    </tr>\n",
              "    <tr>\n",
              "      <th>4</th>\n",
              "      <td>2009</td>\n",
              "      <td>GA</td>\n",
              "      <td>Percent of students in grades 9-12 who partici...</td>\n",
              "      <td>25.2</td>\n",
              "      <td>167</td>\n",
              "      <td>Hispanic</td>\n",
              "    </tr>\n",
              "  </tbody>\n",
              "</table>\n",
              "</div>"
            ],
            "text/plain": [
              "   Year Location  ... SampleSize                          Group\n",
              "0  2013       NH  ...        NaN  American Indian/Alaska Native\n",
              "1  2009       PA  ...        215             Non-Hispanic Black\n",
              "2  2011       RI  ...        NaN      Hawaiian/Pacific Islander\n",
              "3  2001       ME  ...      1,098             Non-Hispanic White\n",
              "4  2009       GA  ...        167                       Hispanic\n",
              "\n",
              "[5 rows x 6 columns]"
            ]
          },
          "metadata": {
            "tags": []
          },
          "execution_count": 85
        }
      ]
    },
    {
      "cell_type": "markdown",
      "metadata": {
        "id": "8Q33KM7z7vmx",
        "colab_type": "text"
      },
      "source": [
        "Now let's transform the **SampleSize** columns into truly numeric data."
      ]
    },
    {
      "cell_type": "code",
      "metadata": {
        "id": "HHd5e757uJ6z",
        "colab_type": "code",
        "outputId": "6f080532-4cc4-4623-920a-fa266bbbe3ee",
        "colab": {
          "base_uri": "https://localhost:8080/",
          "height": 35
        }
      },
      "source": [
        "obesity.SampleSize = obesity.SampleSize.apply(lambda x: pd.to_numeric(x.replace(',','')) if not pd.isnull(x) else x)\n",
        "obesity.SampleSize.iloc[1]"
      ],
      "execution_count": 0,
      "outputs": [
        {
          "output_type": "execute_result",
          "data": {
            "text/plain": [
              "215.0"
            ]
          },
          "metadata": {
            "tags": []
          },
          "execution_count": 86
        }
      ]
    },
    {
      "cell_type": "markdown",
      "metadata": {
        "id": "xvRN3LCmVbXy",
        "colab_type": "text"
      },
      "source": [
        "For right now, let's just consider the questions pertaining to health outcomes (how many students are overweight or obese), not the associated risk factors. Let's also focus on the nationwide data first, rather than by state."
      ]
    },
    {
      "cell_type": "code",
      "metadata": {
        "id": "eXK2PWVLPanE",
        "colab_type": "code",
        "outputId": "ce25f1f3-407a-4f41-d4b3-b2d9d50db93f",
        "colab": {
          "base_uri": "https://localhost:8080/",
          "height": 204
        }
      },
      "source": [
        "us_obesity = obesity[(obesity.Location == 'US') & (obesity.Question.isin([\n",
        "    'Percent of students in grades 9-12 who have obesity',\n",
        "    'Percent of students in grades 9-12 who have an overweight classification']\n",
        "    ))]\n",
        "us_obesity = us_obesity[['Year','Group','SampleSize','Question','Value']]\n",
        "us_obesity.sort_values(by=['Year','Group','Question'], inplace=True)\n",
        "us_obesity.reset_index(drop=True, inplace=True)\n",
        "us_obesity.head()"
      ],
      "execution_count": 0,
      "outputs": [
        {
          "output_type": "execute_result",
          "data": {
            "text/html": [
              "<div>\n",
              "<style scoped>\n",
              "    .dataframe tbody tr th:only-of-type {\n",
              "        vertical-align: middle;\n",
              "    }\n",
              "\n",
              "    .dataframe tbody tr th {\n",
              "        vertical-align: top;\n",
              "    }\n",
              "\n",
              "    .dataframe thead th {\n",
              "        text-align: right;\n",
              "    }\n",
              "</style>\n",
              "<table border=\"1\" class=\"dataframe\">\n",
              "  <thead>\n",
              "    <tr style=\"text-align: right;\">\n",
              "      <th></th>\n",
              "      <th>Year</th>\n",
              "      <th>Group</th>\n",
              "      <th>SampleSize</th>\n",
              "      <th>Question</th>\n",
              "      <th>Value</th>\n",
              "    </tr>\n",
              "  </thead>\n",
              "  <tbody>\n",
              "    <tr>\n",
              "      <th>0</th>\n",
              "      <td>2001</td>\n",
              "      <td>10th</td>\n",
              "      <td>3086.0</td>\n",
              "      <td>Percent of students in grades 9-12 who have an...</td>\n",
              "      <td>13.6</td>\n",
              "    </tr>\n",
              "    <tr>\n",
              "      <th>1</th>\n",
              "      <td>2001</td>\n",
              "      <td>10th</td>\n",
              "      <td>3086.0</td>\n",
              "      <td>Percent of students in grades 9-12 who have ob...</td>\n",
              "      <td>10.8</td>\n",
              "    </tr>\n",
              "    <tr>\n",
              "      <th>2</th>\n",
              "      <td>2001</td>\n",
              "      <td>11th</td>\n",
              "      <td>3256.0</td>\n",
              "      <td>Percent of students in grades 9-12 who have an...</td>\n",
              "      <td>12.5</td>\n",
              "    </tr>\n",
              "    <tr>\n",
              "      <th>3</th>\n",
              "      <td>2001</td>\n",
              "      <td>11th</td>\n",
              "      <td>3256.0</td>\n",
              "      <td>Percent of students in grades 9-12 who have ob...</td>\n",
              "      <td>10.7</td>\n",
              "    </tr>\n",
              "    <tr>\n",
              "      <th>4</th>\n",
              "      <td>2001</td>\n",
              "      <td>12th</td>\n",
              "      <td>3161.0</td>\n",
              "      <td>Percent of students in grades 9-12 who have an...</td>\n",
              "      <td>11.8</td>\n",
              "    </tr>\n",
              "  </tbody>\n",
              "</table>\n",
              "</div>"
            ],
            "text/plain": [
              "   Year Group  ...                                           Question Value\n",
              "0  2001  10th  ...  Percent of students in grades 9-12 who have an...  13.6\n",
              "1  2001  10th  ...  Percent of students in grades 9-12 who have ob...  10.8\n",
              "2  2001  11th  ...  Percent of students in grades 9-12 who have an...  12.5\n",
              "3  2001  11th  ...  Percent of students in grades 9-12 who have ob...  10.7\n",
              "4  2001  12th  ...  Percent of students in grades 9-12 who have an...  11.8\n",
              "\n",
              "[5 rows x 5 columns]"
            ]
          },
          "metadata": {
            "tags": []
          },
          "execution_count": 87
        }
      ]
    },
    {
      "cell_type": "markdown",
      "metadata": {
        "id": "hBJns0Vl8782",
        "colab_type": "text"
      },
      "source": [
        "Let's split those two questions into separate columns and rename them."
      ]
    },
    {
      "cell_type": "code",
      "metadata": {
        "id": "FbH-bKI3Tnlb",
        "colab_type": "code",
        "outputId": "a3182501-db98-4f13-c328-e09a954e5dc4",
        "colab": {
          "base_uri": "https://localhost:8080/",
          "height": 204
        }
      },
      "source": [
        "us_obesity = us_obesity.pivot_table(index=['Year', 'Group', 'SampleSize'],\n",
        "                                    columns='Question', values = 'Value')\n",
        "del us_obesity.columns.name\n",
        "us_obesity.reset_index(inplace=True)\n",
        "us_obesity.rename(columns={\n",
        "    'Percent of students in grades 9-12 who have an overweight classification':'Overweight',\n",
        "    'Percent of students in grades 9-12 who have obesity':'Obese'}, inplace=True)\n",
        "us_obesity.head()"
      ],
      "execution_count": 0,
      "outputs": [
        {
          "output_type": "execute_result",
          "data": {
            "text/html": [
              "<div>\n",
              "<style scoped>\n",
              "    .dataframe tbody tr th:only-of-type {\n",
              "        vertical-align: middle;\n",
              "    }\n",
              "\n",
              "    .dataframe tbody tr th {\n",
              "        vertical-align: top;\n",
              "    }\n",
              "\n",
              "    .dataframe thead th {\n",
              "        text-align: right;\n",
              "    }\n",
              "</style>\n",
              "<table border=\"1\" class=\"dataframe\">\n",
              "  <thead>\n",
              "    <tr style=\"text-align: right;\">\n",
              "      <th></th>\n",
              "      <th>Year</th>\n",
              "      <th>Group</th>\n",
              "      <th>SampleSize</th>\n",
              "      <th>Overweight</th>\n",
              "      <th>Obese</th>\n",
              "    </tr>\n",
              "  </thead>\n",
              "  <tbody>\n",
              "    <tr>\n",
              "      <th>0</th>\n",
              "      <td>2001</td>\n",
              "      <td>10th</td>\n",
              "      <td>3086.0</td>\n",
              "      <td>13.6</td>\n",
              "      <td>10.8</td>\n",
              "    </tr>\n",
              "    <tr>\n",
              "      <th>1</th>\n",
              "      <td>2001</td>\n",
              "      <td>11th</td>\n",
              "      <td>3256.0</td>\n",
              "      <td>12.5</td>\n",
              "      <td>10.7</td>\n",
              "    </tr>\n",
              "    <tr>\n",
              "      <th>2</th>\n",
              "      <td>2001</td>\n",
              "      <td>12th</td>\n",
              "      <td>3161.0</td>\n",
              "      <td>11.8</td>\n",
              "      <td>9.6</td>\n",
              "    </tr>\n",
              "    <tr>\n",
              "      <th>3</th>\n",
              "      <td>2001</td>\n",
              "      <td>2 or more races</td>\n",
              "      <td>359.0</td>\n",
              "      <td>14.6</td>\n",
              "      <td>9.2</td>\n",
              "    </tr>\n",
              "    <tr>\n",
              "      <th>4</th>\n",
              "      <td>2001</td>\n",
              "      <td>9th</td>\n",
              "      <td>3091.0</td>\n",
              "      <td>15.7</td>\n",
              "      <td>10.4</td>\n",
              "    </tr>\n",
              "  </tbody>\n",
              "</table>\n",
              "</div>"
            ],
            "text/plain": [
              "   Year            Group  SampleSize  Overweight  Obese\n",
              "0  2001             10th      3086.0        13.6   10.8\n",
              "1  2001             11th      3256.0        12.5   10.7\n",
              "2  2001             12th      3161.0        11.8    9.6\n",
              "3  2001  2 or more races       359.0        14.6    9.2\n",
              "4  2001              9th      3091.0        15.7   10.4"
            ]
          },
          "metadata": {
            "tags": []
          },
          "execution_count": 88
        }
      ]
    },
    {
      "cell_type": "markdown",
      "metadata": {
        "id": "4GhtUYhVFJvX",
        "colab_type": "text"
      },
      "source": [
        "One problem with the data is that the definition of \"overweight\" is not precisely what we are interested in tracking. The [survey documentation](https://www.cdc.gov/healthyyouth/data/yrbs/pdf/2017/2017_yrbs_sadc_documentation.pdf) (pages 61-62) defines **obese** as: \"students who were >= 95th percentile for body mass index, based on sex- and age-specific reference data from the 2000 CDC growth charts\", but **overweight** as: \"students who were >= 85th percentile but <95th percentile for body mass index, based on sex- and age-specific reference data from the 2000 CDC growth charts\".\n",
        "\n",
        "This latter metric is not so straightforward to interpet. For example, would an increase in the percentage of overweight students be due to students with BMI previously below 85th percentile gaining weight, or those with BMI previously above 95th percentile losing weight? It would be unclear. Better would be a metric that, like obesity, captures all students above a certain BMI threshold.\n",
        "\n",
        "Therefore, let us define the metric **overweight or obese** as the percentage of students with BMI >= 85th percentile. Since the categories of overweight and obese are mutually exclusive and directly adjacent on the BMI scale, we can add those percentages to calculate our new metric."
      ]
    },
    {
      "cell_type": "code",
      "metadata": {
        "id": "p6LrkdxtGmUr",
        "colab_type": "code",
        "outputId": "ac585f60-c821-40ac-8a5d-8d7df236f8c3",
        "colab": {
          "base_uri": "https://localhost:8080/",
          "height": 204
        }
      },
      "source": [
        "us_obesity['OverweightOrObese'] = us_obesity.Overweight+us_obesity.Obese\n",
        "us_obesity.drop(columns=\"Overweight\", inplace=True)\n",
        "us_obesity.head()"
      ],
      "execution_count": 0,
      "outputs": [
        {
          "output_type": "execute_result",
          "data": {
            "text/html": [
              "<div>\n",
              "<style scoped>\n",
              "    .dataframe tbody tr th:only-of-type {\n",
              "        vertical-align: middle;\n",
              "    }\n",
              "\n",
              "    .dataframe tbody tr th {\n",
              "        vertical-align: top;\n",
              "    }\n",
              "\n",
              "    .dataframe thead th {\n",
              "        text-align: right;\n",
              "    }\n",
              "</style>\n",
              "<table border=\"1\" class=\"dataframe\">\n",
              "  <thead>\n",
              "    <tr style=\"text-align: right;\">\n",
              "      <th></th>\n",
              "      <th>Year</th>\n",
              "      <th>Group</th>\n",
              "      <th>SampleSize</th>\n",
              "      <th>Obese</th>\n",
              "      <th>OverweightOrObese</th>\n",
              "    </tr>\n",
              "  </thead>\n",
              "  <tbody>\n",
              "    <tr>\n",
              "      <th>0</th>\n",
              "      <td>2001</td>\n",
              "      <td>10th</td>\n",
              "      <td>3086.0</td>\n",
              "      <td>10.8</td>\n",
              "      <td>24.4</td>\n",
              "    </tr>\n",
              "    <tr>\n",
              "      <th>1</th>\n",
              "      <td>2001</td>\n",
              "      <td>11th</td>\n",
              "      <td>3256.0</td>\n",
              "      <td>10.7</td>\n",
              "      <td>23.2</td>\n",
              "    </tr>\n",
              "    <tr>\n",
              "      <th>2</th>\n",
              "      <td>2001</td>\n",
              "      <td>12th</td>\n",
              "      <td>3161.0</td>\n",
              "      <td>9.6</td>\n",
              "      <td>21.4</td>\n",
              "    </tr>\n",
              "    <tr>\n",
              "      <th>3</th>\n",
              "      <td>2001</td>\n",
              "      <td>2 or more races</td>\n",
              "      <td>359.0</td>\n",
              "      <td>9.2</td>\n",
              "      <td>23.8</td>\n",
              "    </tr>\n",
              "    <tr>\n",
              "      <th>4</th>\n",
              "      <td>2001</td>\n",
              "      <td>9th</td>\n",
              "      <td>3091.0</td>\n",
              "      <td>10.4</td>\n",
              "      <td>26.1</td>\n",
              "    </tr>\n",
              "  </tbody>\n",
              "</table>\n",
              "</div>"
            ],
            "text/plain": [
              "   Year            Group  SampleSize  Obese  OverweightOrObese\n",
              "0  2001             10th      3086.0   10.8               24.4\n",
              "1  2001             11th      3256.0   10.7               23.2\n",
              "2  2001             12th      3161.0    9.6               21.4\n",
              "3  2001  2 or more races       359.0    9.2               23.8\n",
              "4  2001              9th      3091.0   10.4               26.1"
            ]
          },
          "metadata": {
            "tags": []
          },
          "execution_count": 89
        }
      ]
    },
    {
      "cell_type": "markdown",
      "metadata": {
        "id": "Iy1HJQWG-UHk",
        "colab_type": "text"
      },
      "source": [
        "What are the relative sizes of some of our population groups? Let's average the sample sizes for the racial/ethnic groups across time to get an idea."
      ]
    },
    {
      "cell_type": "code",
      "metadata": {
        "id": "G2LpBCnBXyS_",
        "colab_type": "code",
        "outputId": "2152eb7c-6997-43b3-a928-29f789a4c36e",
        "colab": {
          "base_uri": "https://localhost:8080/",
          "height": 297
        }
      },
      "source": [
        "race_ethnicity_grouping = ['Non-Hispanic White', 'Non-Hispanic Black',\n",
        "    'Hispanic', 'Asian', 'American Indian/Alaska Native',\n",
        "    'Hawaiian/Pacific Islander', '2 or more races']\n",
        "us_obesity[['Group','SampleSize']].groupby('Group').mean().loc[\n",
        "    race_ethnicity_grouping].sort_values(by='SampleSize', ascending=False)"
      ],
      "execution_count": 0,
      "outputs": [
        {
          "output_type": "execute_result",
          "data": {
            "text/html": [
              "<div>\n",
              "<style scoped>\n",
              "    .dataframe tbody tr th:only-of-type {\n",
              "        vertical-align: middle;\n",
              "    }\n",
              "\n",
              "    .dataframe tbody tr th {\n",
              "        vertical-align: top;\n",
              "    }\n",
              "\n",
              "    .dataframe thead th {\n",
              "        text-align: right;\n",
              "    }\n",
              "</style>\n",
              "<table border=\"1\" class=\"dataframe\">\n",
              "  <thead>\n",
              "    <tr style=\"text-align: right;\">\n",
              "      <th></th>\n",
              "      <th>SampleSize</th>\n",
              "    </tr>\n",
              "    <tr>\n",
              "      <th>Group</th>\n",
              "      <th></th>\n",
              "    </tr>\n",
              "  </thead>\n",
              "  <tbody>\n",
              "    <tr>\n",
              "      <th>Non-Hispanic White</th>\n",
              "      <td>5958.333333</td>\n",
              "    </tr>\n",
              "    <tr>\n",
              "      <th>Hispanic</th>\n",
              "      <td>3666.333333</td>\n",
              "    </tr>\n",
              "    <tr>\n",
              "      <th>Non-Hispanic Black</th>\n",
              "      <td>2598.333333</td>\n",
              "    </tr>\n",
              "    <tr>\n",
              "      <th>2 or more races</th>\n",
              "      <td>516.666667</td>\n",
              "    </tr>\n",
              "    <tr>\n",
              "      <th>Asian</th>\n",
              "      <td>470.333333</td>\n",
              "    </tr>\n",
              "    <tr>\n",
              "      <th>American Indian/Alaska Native</th>\n",
              "      <td>164.000000</td>\n",
              "    </tr>\n",
              "    <tr>\n",
              "      <th>Hawaiian/Pacific Islander</th>\n",
              "      <td>124.400000</td>\n",
              "    </tr>\n",
              "  </tbody>\n",
              "</table>\n",
              "</div>"
            ],
            "text/plain": [
              "                                SampleSize\n",
              "Group                                     \n",
              "Non-Hispanic White             5958.333333\n",
              "Hispanic                       3666.333333\n",
              "Non-Hispanic Black             2598.333333\n",
              "2 or more races                 516.666667\n",
              "Asian                           470.333333\n",
              "American Indian/Alaska Native   164.000000\n",
              "Hawaiian/Pacific Islander       124.400000"
            ]
          },
          "metadata": {
            "tags": []
          },
          "execution_count": 90
        }
      ]
    },
    {
      "cell_type": "markdown",
      "metadata": {
        "id": "Uevwm32Zudb1",
        "colab_type": "text"
      },
      "source": [
        "Clearly some groups are larger and will influence the overall trends more. We may want to highlight this visually.\n",
        "\n",
        "Finally, let's reformat the 9th grade strings so that they will appear first alphabetically."
      ]
    },
    {
      "cell_type": "code",
      "metadata": {
        "id": "1gTJCZQrupEM",
        "colab_type": "code",
        "colab": {}
      },
      "source": [
        "us_obesity.Group = us_obesity.Group.apply(lambda x: x.replace('9',' 9'))"
      ],
      "execution_count": 0,
      "outputs": []
    },
    {
      "cell_type": "markdown",
      "metadata": {
        "id": "ivVKc9Oy5Pn0",
        "colab_type": "text"
      },
      "source": [
        "### Modeling"
      ]
    },
    {
      "cell_type": "markdown",
      "metadata": {
        "id": "owK0SVhj0htW",
        "colab_type": "text"
      },
      "source": [
        "Let's take a look at how the percentages of students in the U.S. that were obese and overweight or obese has changed from 2001 to 2017, overall and for specific populations. It does't make much sense to compare obesity rates for populations of different types, e.g. 12th graders and males, so we will plot each separately. Let's use variable marker size to illustrate populations' relative sample sizes."
      ]
    },
    {
      "cell_type": "code",
      "metadata": {
        "id": "lKSYhX0E8rj0",
        "colab_type": "code",
        "outputId": "9ce9cce1-3f75-4d3b-b1e4-33730cb8c673",
        "colab": {
          "base_uri": "https://localhost:8080/",
          "height": 1000
        }
      },
      "source": [
        "fig, axs = plt.subplots(4, 2, figsize=(15,20))\n",
        "axs = axs.ravel()\n",
        "\n",
        "total = ['Total']\n",
        "grade_grouping = [' 9th', '10th', '11th', '12th']\n",
        "gender_grouping = ['Male', 'Female']\n",
        "race_ethnicity_grouping = ['Non-Hispanic White', 'Non-Hispanic Black',\n",
        "    'Hispanic', 'Asian', 'American Indian/Alaska Native',\n",
        "    'Hawaiian/Pacific Islander', '2 or more races']\n",
        "\n",
        "for i, ax in enumerate(axs):\n",
        "    grouping = [total,grade_grouping,gender_grouping,race_ethnicity_grouping][int(i/2)]\n",
        "    us_obesity_by_group = us_obesity[us_obesity.Group.isin(grouping)]\n",
        "    groups = us_obesity_by_group.groupby('Group')\n",
        "    for name, group in groups:\n",
        "        if i%2 == 0:\n",
        "          ax.plot(group.Year, group.Obese, linestyle='-')\n",
        "          ax.scatter(group.Year, group.Obese, s=group.SampleSize/50,\n",
        "                     marker='o', linestyle='-', label=name)\n",
        "          ax.set_title('Percent of students obese')\n",
        "          ymax = 10*math.ceil(us_obesity_by_group.Obese.max()/10)\n",
        "        else:\n",
        "          ax.plot(group.Year, group.OverweightOrObese, linestyle='-')\n",
        "          ax.scatter(group.Year, group.OverweightOrObese, s=group.SampleSize/50,\n",
        "                     marker='o', linestyle='-', label=name)\n",
        "          ax.set_title('Percent of students overweight or obese')\n",
        "          ymax = 10*math.ceil(us_obesity_by_group.OverweightOrObese.max()/10)\n",
        "        ax.set_xticks(us_obesity_by_group.Year.unique())\n",
        "        ax.set_xticklabels(us_obesity_by_group.Year.unique())\n",
        "        ax.set_ylim(0, ymax)\n",
        "        if i <= 3:\n",
        "          ax.legend(prop={'size': 13})\n",
        "        elif i <= 5:\n",
        "          ax.legend(prop={'size': 13}, loc='upper left')\n",
        "        else:\n",
        "          ax.legend(prop={'size': 11}, ncol=2)\n",
        "\n",
        "plt.margins(0.1)\n",
        "plt.tight_layout(2.5)\n",
        "plt.show()"
      ],
      "execution_count": 0,
      "outputs": [
        {
          "output_type": "display_data",
          "data": {
            "image/png": "[encoded data removed]",
            "text/plain": [
              "<Figure size 1080x1440 with 8 Axes>"
            ]
          },
          "metadata": {
            "tags": []
          }
        }
      ]
    },
    {
      "cell_type": "markdown",
      "metadata": {
        "id": "pBp060mm5QOZ",
        "colab_type": "text"
      },
      "source": [
        "### Evaluation"
      ]
    },
    {
      "cell_type": "markdown",
      "metadata": {
        "id": "hgjJ39IP9gjz",
        "colab_type": "text"
      },
      "source": [
        "There isn't much that we can say about the grade subgroups. They all basically follow the overall trend, with some switching of places throughout the years. The breakdown by gender is much more stark: males have significantly higher percentages than females for all years. However, the female obesity rates are catching up to the male rates. In fact, the increase in the percent of male students that are overweight or obese from 2001 to 2017 is negligible; the overall increase is almost entirely due to the female population.\n",
        "\n",
        "Looking at the race/ethnicity breakdown, some populations' rates are significantly variable over time. Obesity rates among the American Indian/Alaska Native population are the highest in 2001 but the second-lowest in 2017; meanwhile, those of the Hawaiian/Pacific Islander population are second-lowest in 2001 but highest in 2017. The order of the rates of the other five population groups are more stable. In most years, the Non-Hispanic Black and Hispanic populations have the highest rates out of these five groups, followed by 2 or more races, Non-Hispanic White, and Asian. Obesity rates for the Asian population are the lowest every year.\n",
        "\n",
        "This analysis of the nationwide data has answered our question of how obesity rates within specific populations have changed over time."
      ]
    },
    {
      "cell_type": "markdown",
      "metadata": {
        "id": "HncKYJ3S9YoX",
        "colab_type": "text"
      },
      "source": [
        "# Question 2: How do obesity rates vary over time and by location?"
      ]
    },
    {
      "cell_type": "markdown",
      "metadata": {
        "id": "t8i5b2gC_oK9",
        "colab_type": "text"
      },
      "source": [
        "### Data Understanding"
      ]
    },
    {
      "cell_type": "markdown",
      "metadata": {
        "id": "6vYfMlEzgd3P",
        "colab_type": "text"
      },
      "source": [
        "We have already taken steps to understand the dataset as a whole. Now let's take a look at how obesity rates vary between states. For this question we will ignore the population groups."
      ]
    },
    {
      "cell_type": "markdown",
      "metadata": {
        "id": "JRXmBrL4_pNr",
        "colab_type": "text"
      },
      "source": [
        "### Data Preparation"
      ]
    },
    {
      "cell_type": "markdown",
      "metadata": {
        "colab_type": "text",
        "id": "QgPfzRpQOFiW"
      },
      "source": [
        "Let's select the overall state and territory data, split the columns by question, and calculate the **overweight or obese** metric as before."
      ]
    },
    {
      "cell_type": "code",
      "metadata": {
        "colab_type": "code",
        "id": "W8yjtKRzOE0T",
        "outputId": "600a0dc3-9cdf-4872-9cb4-3bc250b0214a",
        "colab": {
          "base_uri": "https://localhost:8080/",
          "height": 204
        }
      },
      "source": [
        "state_obesity = obesity[~(obesity.Location == 'US') & (obesity.Group == 'Total') &\n",
        "    (obesity.Question.isin(['Percent of students in grades 9-12 who have obesity',\n",
        "    'Percent of students in grades 9-12 who have an overweight classification']\n",
        "    ))]\n",
        "state_obesity = state_obesity[['Year','Location','SampleSize','Question','Value']]\n",
        "state_obesity = state_obesity.pivot_table(index=['Year', 'Location', 'SampleSize'],\n",
        "                                    columns='Question', values = 'Value')\n",
        "del state_obesity.columns.name\n",
        "state_obesity.reset_index(inplace=True)\n",
        "state_obesity.rename(columns={\n",
        "    'Percent of students in grades 9-12 who have an overweight classification':'Overweight',\n",
        "    'Percent of students in grades 9-12 who have obesity':'Obese'}, inplace=True)\n",
        "state_obesity['OverweightOrObese'] = state_obesity.Overweight+state_obesity.Obese\n",
        "state_obesity.drop(columns=\"Overweight\", inplace=True)\n",
        "state_obesity.head()"
      ],
      "execution_count": 0,
      "outputs": [
        {
          "output_type": "execute_result",
          "data": {
            "text/html": [
              "<div>\n",
              "<style scoped>\n",
              "    .dataframe tbody tr th:only-of-type {\n",
              "        vertical-align: middle;\n",
              "    }\n",
              "\n",
              "    .dataframe tbody tr th {\n",
              "        vertical-align: top;\n",
              "    }\n",
              "\n",
              "    .dataframe thead th {\n",
              "        text-align: right;\n",
              "    }\n",
              "</style>\n",
              "<table border=\"1\" class=\"dataframe\">\n",
              "  <thead>\n",
              "    <tr style=\"text-align: right;\">\n",
              "      <th></th>\n",
              "      <th>Year</th>\n",
              "      <th>Location</th>\n",
              "      <th>SampleSize</th>\n",
              "      <th>Obese</th>\n",
              "      <th>OverweightOrObese</th>\n",
              "    </tr>\n",
              "  </thead>\n",
              "  <tbody>\n",
              "    <tr>\n",
              "      <th>0</th>\n",
              "      <td>2001</td>\n",
              "      <td>AL</td>\n",
              "      <td>1526.0</td>\n",
              "      <td>12.3</td>\n",
              "      <td>27.4</td>\n",
              "    </tr>\n",
              "    <tr>\n",
              "      <th>1</th>\n",
              "      <td>2001</td>\n",
              "      <td>AR</td>\n",
              "      <td>1586.0</td>\n",
              "      <td>13.7</td>\n",
              "      <td>29.4</td>\n",
              "    </tr>\n",
              "    <tr>\n",
              "      <th>2</th>\n",
              "      <td>2001</td>\n",
              "      <td>DE</td>\n",
              "      <td>2664.0</td>\n",
              "      <td>10.7</td>\n",
              "      <td>25.5</td>\n",
              "    </tr>\n",
              "    <tr>\n",
              "      <th>3</th>\n",
              "      <td>2001</td>\n",
              "      <td>FL</td>\n",
              "      <td>3802.0</td>\n",
              "      <td>10.1</td>\n",
              "      <td>24.0</td>\n",
              "    </tr>\n",
              "    <tr>\n",
              "      <th>4</th>\n",
              "      <td>2001</td>\n",
              "      <td>ID</td>\n",
              "      <td>1672.0</td>\n",
              "      <td>7.2</td>\n",
              "      <td>17.8</td>\n",
              "    </tr>\n",
              "  </tbody>\n",
              "</table>\n",
              "</div>"
            ],
            "text/plain": [
              "   Year Location  SampleSize  Obese  OverweightOrObese\n",
              "0  2001       AL      1526.0   12.3               27.4\n",
              "1  2001       AR      1586.0   13.7               29.4\n",
              "2  2001       DE      2664.0   10.7               25.5\n",
              "3  2001       FL      3802.0   10.1               24.0\n",
              "4  2001       ID      1672.0    7.2               17.8"
            ]
          },
          "metadata": {
            "tags": []
          },
          "execution_count": 93
        }
      ]
    },
    {
      "cell_type": "markdown",
      "metadata": {
        "id": "nf-_hkOpJCNG",
        "colab_type": "text"
      },
      "source": [
        "Trying to visualize all 51 locations at once (47 states, three territories, and DC) will be infeasible. For easier interpretation, let's look specifically at the locations with highest and lowest obesity rates.\n",
        "\n",
        "First, let's compare each location's rates to the national average for each specific year. That way, if a location only has data for certain years it will be taken into account."
      ]
    },
    {
      "cell_type": "code",
      "metadata": {
        "id": "7bwwmyaaULjC",
        "colab_type": "code",
        "outputId": "3e4bc28c-3162-4bf6-bbd7-804eb047bda8",
        "colab": {
          "base_uri": "https://localhost:8080/",
          "height": 235
        }
      },
      "source": [
        "us_obesity_total = us_obesity[us_obesity.Group == 'Total']\n",
        "state_obesity_diff_from_us = (state_obesity.groupby(['Location','Year']).mean(\n",
        "    )-us_obesity_total.groupby('Year').mean())[['Obese','OverweightOrObese']]\n",
        "state_obesity_diff_from_us.head()"
      ],
      "execution_count": 0,
      "outputs": [
        {
          "output_type": "execute_result",
          "data": {
            "text/html": [
              "<div>\n",
              "<style scoped>\n",
              "    .dataframe tbody tr th:only-of-type {\n",
              "        vertical-align: middle;\n",
              "    }\n",
              "\n",
              "    .dataframe tbody tr th {\n",
              "        vertical-align: top;\n",
              "    }\n",
              "\n",
              "    .dataframe thead th {\n",
              "        text-align: right;\n",
              "    }\n",
              "</style>\n",
              "<table border=\"1\" class=\"dataframe\">\n",
              "  <thead>\n",
              "    <tr style=\"text-align: right;\">\n",
              "      <th></th>\n",
              "      <th></th>\n",
              "      <th>Obese</th>\n",
              "      <th>OverweightOrObese</th>\n",
              "    </tr>\n",
              "    <tr>\n",
              "      <th>Location</th>\n",
              "      <th>Year</th>\n",
              "      <th></th>\n",
              "      <th></th>\n",
              "    </tr>\n",
              "  </thead>\n",
              "  <tbody>\n",
              "    <tr>\n",
              "      <th rowspan=\"5\" valign=\"top\">AK</th>\n",
              "      <th>2003</th>\n",
              "      <td>-1.0</td>\n",
              "      <td>-1.3</td>\n",
              "    </tr>\n",
              "    <tr>\n",
              "      <th>2007</th>\n",
              "      <td>-1.8</td>\n",
              "      <td>-1.3</td>\n",
              "    </tr>\n",
              "    <tr>\n",
              "      <th>2009</th>\n",
              "      <td>0.1</td>\n",
              "      <td>-1.2</td>\n",
              "    </tr>\n",
              "    <tr>\n",
              "      <th>2011</th>\n",
              "      <td>-1.5</td>\n",
              "      <td>-2.3</td>\n",
              "    </tr>\n",
              "    <tr>\n",
              "      <th>2013</th>\n",
              "      <td>-1.3</td>\n",
              "      <td>-4.2</td>\n",
              "    </tr>\n",
              "  </tbody>\n",
              "</table>\n",
              "</div>"
            ],
            "text/plain": [
              "               Obese  OverweightOrObese\n",
              "Location Year                          \n",
              "AK       2003   -1.0               -1.3\n",
              "         2007   -1.8               -1.3\n",
              "         2009    0.1               -1.2\n",
              "         2011   -1.5               -2.3\n",
              "         2013   -1.3               -4.2"
            ]
          },
          "metadata": {
            "tags": []
          },
          "execution_count": 94
        }
      ]
    },
    {
      "cell_type": "markdown",
      "metadata": {
        "id": "5rrwnzKNX8c6",
        "colab_type": "text"
      },
      "source": [
        "Now we can take the average across all years for which a state has data."
      ]
    },
    {
      "cell_type": "code",
      "metadata": {
        "id": "bx3JrjQmX8xP",
        "colab_type": "code",
        "outputId": "0f408cf5-ce8d-4e65-dcce-50175df67e95",
        "colab": {
          "base_uri": "https://localhost:8080/",
          "height": 235
        }
      },
      "source": [
        "state_mean_obesity = state_obesity_diff_from_us.reset_index().groupby(\n",
        "    'Location').mean()[['Obese','OverweightOrObese']]\n",
        "state_mean_obesity.head()"
      ],
      "execution_count": 0,
      "outputs": [
        {
          "output_type": "execute_result",
          "data": {
            "text/html": [
              "<div>\n",
              "<style scoped>\n",
              "    .dataframe tbody tr th:only-of-type {\n",
              "        vertical-align: middle;\n",
              "    }\n",
              "\n",
              "    .dataframe tbody tr th {\n",
              "        vertical-align: top;\n",
              "    }\n",
              "\n",
              "    .dataframe thead th {\n",
              "        text-align: right;\n",
              "    }\n",
              "</style>\n",
              "<table border=\"1\" class=\"dataframe\">\n",
              "  <thead>\n",
              "    <tr style=\"text-align: right;\">\n",
              "      <th></th>\n",
              "      <th>Obese</th>\n",
              "      <th>OverweightOrObese</th>\n",
              "    </tr>\n",
              "    <tr>\n",
              "      <th>Location</th>\n",
              "      <th></th>\n",
              "      <th></th>\n",
              "    </tr>\n",
              "  </thead>\n",
              "  <tbody>\n",
              "    <tr>\n",
              "      <th>AK</th>\n",
              "      <td>-0.928571</td>\n",
              "      <td>-1.242857</td>\n",
              "    </tr>\n",
              "    <tr>\n",
              "      <th>AL</th>\n",
              "      <td>2.257143</td>\n",
              "      <td>3.128571</td>\n",
              "    </tr>\n",
              "    <tr>\n",
              "      <th>AR</th>\n",
              "      <td>3.275000</td>\n",
              "      <td>4.150000</td>\n",
              "    </tr>\n",
              "    <tr>\n",
              "      <th>AZ</th>\n",
              "      <td>-1.612500</td>\n",
              "      <td>-3.125000</td>\n",
              "    </tr>\n",
              "    <tr>\n",
              "      <th>CA</th>\n",
              "      <td>-0.450000</td>\n",
              "      <td>-0.500000</td>\n",
              "    </tr>\n",
              "  </tbody>\n",
              "</table>\n",
              "</div>"
            ],
            "text/plain": [
              "             Obese  OverweightOrObese\n",
              "Location                             \n",
              "AK       -0.928571          -1.242857\n",
              "AL        2.257143           3.128571\n",
              "AR        3.275000           4.150000\n",
              "AZ       -1.612500          -3.125000\n",
              "CA       -0.450000          -0.500000"
            ]
          },
          "metadata": {
            "tags": []
          },
          "execution_count": 95
        }
      ]
    },
    {
      "cell_type": "markdown",
      "metadata": {
        "id": "xPe4c7rXYxki",
        "colab_type": "text"
      },
      "source": [
        "Finally, we can sort the list to get the locations with highest and lowest obesity rates."
      ]
    },
    {
      "cell_type": "code",
      "metadata": {
        "id": "ILJwQTAuYppR",
        "colab_type": "code",
        "outputId": "9ea192ad-f0c2-47f9-ed3a-ec355c5572e3",
        "colab": {
          "base_uri": "https://localhost:8080/",
          "height": 35
        }
      },
      "source": [
        "lowest_obesity = list(state_mean_obesity.sort_values(by='Obese').index[0:5])\n",
        "lowest_obesity"
      ],
      "execution_count": 0,
      "outputs": [
        {
          "output_type": "execute_result",
          "data": {
            "text/plain": [
              "['UT', 'CO', 'ID', 'MT', 'WY']"
            ]
          },
          "metadata": {
            "tags": []
          },
          "execution_count": 96
        }
      ]
    },
    {
      "cell_type": "code",
      "metadata": {
        "id": "wAW6VEGjZObV",
        "colab_type": "code",
        "outputId": "59f1a46e-01e9-424b-82e3-5b1317e25478",
        "colab": {
          "base_uri": "https://localhost:8080/",
          "height": 35
        }
      },
      "source": [
        "highest_obesity = list(state_mean_obesity.sort_values(\n",
        "    by='Obese', ascending=False).index[0:5])\n",
        "highest_obesity"
      ],
      "execution_count": 0,
      "outputs": [
        {
          "output_type": "execute_result",
          "data": {
            "text/plain": [
              "['GU', 'MS', 'KY', 'TN', 'AR']"
            ]
          },
          "metadata": {
            "tags": []
          },
          "execution_count": 97
        }
      ]
    },
    {
      "cell_type": "code",
      "metadata": {
        "id": "CLxjjruNZOm9",
        "colab_type": "code",
        "outputId": "8d392573-74d0-4a9b-f3e1-2974eced9149",
        "colab": {
          "base_uri": "https://localhost:8080/",
          "height": 35
        }
      },
      "source": [
        "lowest_ovr_or_obesity = list(state_mean_obesity.sort_values(\n",
        "    by='OverweightOrObese').index[0:5])\n",
        "lowest_ovr_or_obesity"
      ],
      "execution_count": 0,
      "outputs": [
        {
          "output_type": "execute_result",
          "data": {
            "text/plain": [
              "['UT', 'CO', 'WY', 'MT', 'ID']"
            ]
          },
          "metadata": {
            "tags": []
          },
          "execution_count": 98
        }
      ]
    },
    {
      "cell_type": "code",
      "metadata": {
        "id": "IRqmUaycZOwx",
        "colab_type": "code",
        "outputId": "bd64dded-ad5c-44d3-d473-f8dffa147e71",
        "colab": {
          "base_uri": "https://localhost:8080/",
          "height": 35
        }
      },
      "source": [
        "highest_ovr_or_obesity = list(state_mean_obesity.sort_values(\n",
        "    by='OverweightOrObese', ascending=False).index[0:5])\n",
        "highest_ovr_or_obesity"
      ],
      "execution_count": 0,
      "outputs": [
        {
          "output_type": "execute_result",
          "data": {
            "text/plain": [
              "['GU', 'TN', 'MS', 'LA', 'KY']"
            ]
          },
          "metadata": {
            "tags": []
          },
          "execution_count": 99
        }
      ]
    },
    {
      "cell_type": "markdown",
      "metadata": {
        "id": "VEpXyGtu_1co",
        "colab_type": "text"
      },
      "source": [
        "### Modeling"
      ]
    },
    {
      "cell_type": "markdown",
      "metadata": {
        "id": "26SJ0kj0SE87",
        "colab_type": "text"
      },
      "source": [
        "Now we should be able to plot trends over time with clarity."
      ]
    },
    {
      "cell_type": "code",
      "metadata": {
        "id": "ZVc62cOKLEiQ",
        "colab_type": "code",
        "outputId": "903454d8-30ce-44c9-be08-cb905735f0d9",
        "colab": {
          "base_uri": "https://localhost:8080/",
          "height": 341
        }
      },
      "source": [
        "fig, axs = plt.subplots(1, 2, figsize=(15,5))\n",
        "\n",
        "axs[0].plot(us_obesity_total.Year, us_obesity_total.Obese, 'k', label='US')\n",
        "for name, group in state_obesity[state_obesity.Location.isin(lowest_obesity)].groupby('Location'):\n",
        "    axs[0].plot(group.Year, group.Obese, '-s', label=name)\n",
        "for name, group in state_obesity[state_obesity.Location.isin(highest_obesity) &\n",
        "                                 state_obesity.Location.isin(highest_ovr_or_obesity)].groupby('Location'):\n",
        "    axs[0].plot(group.Year, group.Obese, '-o', label=name)\n",
        "for name, group in state_obesity[state_obesity.Location.isin(highest_obesity) &\n",
        "                                 ~state_obesity.Location.isin(highest_ovr_or_obesity)].groupby('Location'):\n",
        "    axs[0].plot(group.Year, group.Obese, '--o', label=name)\n",
        "axs[0].margins(0.1)\n",
        "axs[0].set_xticks(state_obesity.Year.unique())\n",
        "axs[0].set_xticklabels(state_obesity.Year.unique())\n",
        "axs[0].set_ylim(0, 10*math.ceil(state_obesity.Obese.max()/10))\n",
        "axs[0].legend(loc='upper left',ncol=3)\n",
        "axs[0].set_title('Percent of students obese')\n",
        "\n",
        "axs[1].plot(us_obesity_total.Year, us_obesity_total.OverweightOrObese, 'k', label='US')\n",
        "for name, group in state_obesity[state_obesity.Location.isin(lowest_ovr_or_obesity)].groupby('Location'):\n",
        "    axs[1].plot(group.Year, group.OverweightOrObese, '-s', label=name)\n",
        "for name, group in state_obesity[state_obesity.Location.isin(highest_ovr_or_obesity) &\n",
        "                                 state_obesity.Location.isin(highest_obesity)].groupby('Location'):\n",
        "    axs[1].plot(group.Year, group.OverweightOrObese, '-o', label=name)\n",
        "for name, group in state_obesity[state_obesity.Location.isin(highest_ovr_or_obesity) &\n",
        "                                 ~state_obesity.Location.isin(highest_obesity)].groupby('Location'):\n",
        "    axs[1].plot(group.Year, group.OverweightOrObese, '--o', label=name)\n",
        "axs[1].margins(0.1)\n",
        "axs[1].set_xticks(state_obesity.Year.unique())\n",
        "axs[1].set_xticklabels(state_obesity.Year.unique())\n",
        "axs[1].set_ylim(0, 10*math.ceil(state_obesity.OverweightOrObese.max()/10))\n",
        "axs[1].legend(loc='upper left',ncol=3)\n",
        "axs[1].set_title('Percent of students overweight or obese')\n",
        "\n",
        "plt.margins(0.1)\n",
        "plt.tight_layout(2.5)\n",
        "plt.show()"
      ],
      "execution_count": 0,
      "outputs": [
        {
          "output_type": "display_data",
          "data": {
            "image/png": "[encoded data removed]",
            "text/plain": [
              "<Figure size 1080x360 with 2 Axes>"
            ]
          },
          "metadata": {
            "tags": []
          }
        }
      ]
    },
    {
      "cell_type": "markdown",
      "metadata": {
        "id": "rc9VBgae_5HN",
        "colab_type": "text"
      },
      "source": [
        "### Evaluation"
      ]
    },
    {
      "cell_type": "markdown",
      "metadata": {
        "id": "1W5wtoaMZXMS",
        "colab_type": "text"
      },
      "source": [
        "The five locations with below-average obesity rates were Colorado, Idaho, Montana, Utah, and Wyoming, all located in the Rocky Mountains. The five with above-average rates were Guam, Kentucky, Mississippi, Tennessee, and either Arkansas (obesity) or Louisiana (overweightness or obesity). Besides Guam, these are all located along the Mississippi River. There was a fair amount of switching places between the locations in each group, but no switching between the groups. In fact, with the exception of 2013, none of these states ever crossed the U.S. average. It appears that geographic location may be strongly correlated with youth obesity.\n",
        "\n",
        "Our analysis of the locations with the highest and lowest obesity rates and the resulting visualization convey the correlation between obesity rates and geography."
      ]
    },
    {
      "cell_type": "markdown",
      "metadata": {
        "id": "XWCdp3RnWTn4",
        "colab_type": "text"
      },
      "source": [
        "# Question 3: What nutritional, behavioral, institutional, and environmental factors are associated with obesity rates?"
      ]
    },
    {
      "cell_type": "markdown",
      "metadata": {
        "id": "AUyetFMwCtnn",
        "colab_type": "text"
      },
      "source": [
        "### Data Understanding"
      ]
    },
    {
      "cell_type": "markdown",
      "metadata": {
        "id": "N6F73UP7CzWc",
        "colab_type": "text"
      },
      "source": [
        "The obesity dataset contains nutritional and behavioral risk factors of interest to this project. However, we can also consider institutional and environmental factors from a second dataset."
      ]
    },
    {
      "cell_type": "code",
      "metadata": {
        "id": "x30v4QemqQ9s",
        "colab_type": "code",
        "outputId": "6fc5b1b8-8793-4da9-dc24-6a5f31bae061",
        "colab": {
          "base_uri": "https://localhost:8080/",
          "height": 598
        }
      },
      "source": [
        "policy = pd.read_csv('Policy_and_Environmental_Data.csv')\n",
        "policy.head()"
      ],
      "execution_count": 0,
      "outputs": [
        {
          "output_type": "execute_result",
          "data": {
            "text/html": [
              "<div>\n",
              "<style scoped>\n",
              "    .dataframe tbody tr th:only-of-type {\n",
              "        vertical-align: middle;\n",
              "    }\n",
              "\n",
              "    .dataframe tbody tr th {\n",
              "        vertical-align: top;\n",
              "    }\n",
              "\n",
              "    .dataframe thead th {\n",
              "        text-align: right;\n",
              "    }\n",
              "</style>\n",
              "<table border=\"1\" class=\"dataframe\">\n",
              "  <thead>\n",
              "    <tr style=\"text-align: right;\">\n",
              "      <th></th>\n",
              "      <th>YearStart</th>\n",
              "      <th>YearEnd</th>\n",
              "      <th>LocationAbbr</th>\n",
              "      <th>LocationDesc</th>\n",
              "      <th>Datasource</th>\n",
              "      <th>Class</th>\n",
              "      <th>Topic</th>\n",
              "      <th>Question</th>\n",
              "      <th>Data_Value_Unit</th>\n",
              "      <th>Data_Value_Type</th>\n",
              "      <th>Data_Value</th>\n",
              "      <th>Data_Value_Alt</th>\n",
              "      <th>Data_Value_Footnote_Symbol</th>\n",
              "      <th>Data_Value_Footnote</th>\n",
              "      <th>Total</th>\n",
              "      <th>GeoLocation</th>\n",
              "      <th>ClassID</th>\n",
              "      <th>TopicID</th>\n",
              "      <th>QuestionID</th>\n",
              "      <th>DataValueTypeID</th>\n",
              "      <th>LocationID</th>\n",
              "      <th>StratificationCategory1</th>\n",
              "      <th>Stratification1</th>\n",
              "      <th>StratificationCategoryId1</th>\n",
              "      <th>StratificationID1</th>\n",
              "    </tr>\n",
              "  </thead>\n",
              "  <tbody>\n",
              "    <tr>\n",
              "      <th>0</th>\n",
              "      <td>2014</td>\n",
              "      <td>2014</td>\n",
              "      <td>TX</td>\n",
              "      <td>Texas</td>\n",
              "      <td>Breastfeeding Surveillance Sources</td>\n",
              "      <td>Breastfeeding</td>\n",
              "      <td>Breastfeeding - Environmental or Policy Supports</td>\n",
              "      <td>Number of La Leche League leaders per 1,000 li...</td>\n",
              "      <td>NaN</td>\n",
              "      <td>Value</td>\n",
              "      <td>0.5</td>\n",
              "      <td>0.5</td>\n",
              "      <td>NaN</td>\n",
              "      <td>NaN</td>\n",
              "      <td>Total</td>\n",
              "      <td>(31.827240407, -99.426770206)</td>\n",
              "      <td>BF</td>\n",
              "      <td>BF2</td>\n",
              "      <td>Q014</td>\n",
              "      <td>VALUE</td>\n",
              "      <td>48</td>\n",
              "      <td>Total</td>\n",
              "      <td>Total</td>\n",
              "      <td>OVR</td>\n",
              "      <td>OVERALL</td>\n",
              "    </tr>\n",
              "    <tr>\n",
              "      <th>1</th>\n",
              "      <td>2013</td>\n",
              "      <td>2013</td>\n",
              "      <td>AR</td>\n",
              "      <td>Arkansas</td>\n",
              "      <td>ECE Surveillance Sources</td>\n",
              "      <td>Fruits and Vegetables</td>\n",
              "      <td>Fruits and Vegetables - Environmental or Polic...</td>\n",
              "      <td>State child care regulations align with nation...</td>\n",
              "      <td>NaN</td>\n",
              "      <td>Value</td>\n",
              "      <td>No</td>\n",
              "      <td>10,002</td>\n",
              "      <td>NaN</td>\n",
              "      <td>NaN</td>\n",
              "      <td>Total</td>\n",
              "      <td>(34.748650124, -92.274490743)</td>\n",
              "      <td>FV</td>\n",
              "      <td>FV2</td>\n",
              "      <td>Q032</td>\n",
              "      <td>VALUE</td>\n",
              "      <td>5</td>\n",
              "      <td>Total</td>\n",
              "      <td>Total</td>\n",
              "      <td>OVR</td>\n",
              "      <td>OVERALL</td>\n",
              "    </tr>\n",
              "    <tr>\n",
              "      <th>2</th>\n",
              "      <td>2012</td>\n",
              "      <td>2012</td>\n",
              "      <td>AZ</td>\n",
              "      <td>Arizona</td>\n",
              "      <td>ECE Surveillance Sources</td>\n",
              "      <td>Fruits and Vegetables</td>\n",
              "      <td>Fruits and Vegetables - Environmental or Polic...</td>\n",
              "      <td>State child care regulations align with nation...</td>\n",
              "      <td>NaN</td>\n",
              "      <td>Value</td>\n",
              "      <td>No</td>\n",
              "      <td>10,002</td>\n",
              "      <td>NaN</td>\n",
              "      <td>NaN</td>\n",
              "      <td>Total</td>\n",
              "      <td>(34.86597028, -111.763811277)</td>\n",
              "      <td>FV</td>\n",
              "      <td>FV2</td>\n",
              "      <td>Q033</td>\n",
              "      <td>VALUE</td>\n",
              "      <td>4</td>\n",
              "      <td>Total</td>\n",
              "      <td>Total</td>\n",
              "      <td>OVR</td>\n",
              "      <td>OVERALL</td>\n",
              "    </tr>\n",
              "    <tr>\n",
              "      <th>3</th>\n",
              "      <td>2012</td>\n",
              "      <td>2012</td>\n",
              "      <td>MI</td>\n",
              "      <td>Michigan</td>\n",
              "      <td>School Health Policies and Practices Study</td>\n",
              "      <td>Physical Activity</td>\n",
              "      <td>Physical Activity - Environmental or Policy Su...</td>\n",
              "      <td>State provides guidance on policies for school...</td>\n",
              "      <td>NaN</td>\n",
              "      <td>Value</td>\n",
              "      <td>No</td>\n",
              "      <td>10,002</td>\n",
              "      <td>NaN</td>\n",
              "      <td>NaN</td>\n",
              "      <td>Total</td>\n",
              "      <td>(44.661319543001, -84.71439027)</td>\n",
              "      <td>PA</td>\n",
              "      <td>PA2</td>\n",
              "      <td>Q054</td>\n",
              "      <td>VALUE</td>\n",
              "      <td>26</td>\n",
              "      <td>Total</td>\n",
              "      <td>Total</td>\n",
              "      <td>OVR</td>\n",
              "      <td>OVERALL</td>\n",
              "    </tr>\n",
              "    <tr>\n",
              "      <th>4</th>\n",
              "      <td>2010</td>\n",
              "      <td>2010</td>\n",
              "      <td>DE</td>\n",
              "      <td>Delaware</td>\n",
              "      <td>School Health Profiles (Profiles)</td>\n",
              "      <td>Sugar Drinks</td>\n",
              "      <td>Sugar Drinks - Environmental or Policy Supports</td>\n",
              "      <td>Percent of secondary schools that allowed stud...</td>\n",
              "      <td>NaN</td>\n",
              "      <td>Value</td>\n",
              "      <td>34.4</td>\n",
              "      <td>34.4</td>\n",
              "      <td>NaN</td>\n",
              "      <td>NaN</td>\n",
              "      <td>Total</td>\n",
              "      <td>(39.008830667, -75.577741168)</td>\n",
              "      <td>SD</td>\n",
              "      <td>SD2</td>\n",
              "      <td>Q063</td>\n",
              "      <td>VALUE</td>\n",
              "      <td>10</td>\n",
              "      <td>Total</td>\n",
              "      <td>Total</td>\n",
              "      <td>OVR</td>\n",
              "      <td>OVERALL</td>\n",
              "    </tr>\n",
              "  </tbody>\n",
              "</table>\n",
              "</div>"
            ],
            "text/plain": [
              "   YearStart  YearEnd  ... StratificationCategoryId1 StratificationID1\n",
              "0       2014     2014  ...                       OVR           OVERALL\n",
              "1       2013     2013  ...                       OVR           OVERALL\n",
              "2       2012     2012  ...                       OVR           OVERALL\n",
              "3       2012     2012  ...                       OVR           OVERALL\n",
              "4       2010     2010  ...                       OVR           OVERALL\n",
              "\n",
              "[5 rows x 25 columns]"
            ]
          },
          "metadata": {
            "tags": []
          },
          "execution_count": 101
        }
      ]
    },
    {
      "cell_type": "markdown",
      "metadata": {
        "id": "yscQgea5tOMq",
        "colab_type": "text"
      },
      "source": [
        "This dataset looks similar to the obesity dataset in that it contains the answers to various questions across states and years. One difference is the lack of a column for population groups; the data are simply statewide statistics. Let's take a look at the questions in this dataset to see which we want to consider."
      ]
    },
    {
      "cell_type": "code",
      "metadata": {
        "id": "_3Eyen5nrRpi",
        "colab_type": "code",
        "outputId": "55e2bd15-0c47-4bbd-d79b-3f6353ddc903",
        "colab": {
          "base_uri": "https://localhost:8080/",
          "height": 541
        }
      },
      "source": [
        "policy.Question.unique()"
      ],
      "execution_count": 0,
      "outputs": [
        {
          "output_type": "execute_result",
          "data": {
            "text/plain": [
              "array(['Number of La Leche League leaders per 1,000 live births',\n",
              "       'State child care regulations align with national standards for serving fruits',\n",
              "       'State child care regulations align with national standards for serving vegetables',\n",
              "       'State provides guidance on policies for school districts or schools on joint-use agreements for physical activity facilities',\n",
              "       'Percent of secondary schools that allowed students to purchase sports drinks from one or more vending machines or at the school store, canteen, or snack bar',\n",
              "       'Number of International Board Certified Lactation Consultants (IBCLCs) per 1,000 live births',\n",
              "       'Average Maternity Practice in Infant Nutrition and Care (mPINC) score among hospitals and birthing facilities',\n",
              "       'Percent of live births occurring at facilities designated as \"baby friendly\" by the Baby Friendly Hospital Initiative (BFHI)',\n",
              "       'State child care regulations align with national standards for moderate- to vigorous- intensity physical activity for preschoolers',\n",
              "       'Percent of secondary schools that allowed students to purchase soda pop or fruit drinks from one or more vending machines or at the school store, canteen, or snack bar',\n",
              "       'State has adopted some form of a Complete Streets policy',\n",
              "       'Percent of secondary schools that offered a self-serve salad bar to students',\n",
              "       'State provides guidance on policies for school districts or schools on time spent in moderate-to-vigorous intensity physical activity during physical education class',\n",
              "       'Existence of state-level Food Policy Council',\n",
              "       'Number of food hubs in each state',\n",
              "       'State child care regulations align with national standards for prohibiting use of media and computers with children younger than 2 years',\n",
              "       'State child care regulations align with national standards for limiting total media time for children 2 years or older to not more than 30 minutes once a week',\n",
              "       'State provides guidance on policies for school districts or schools on recess',\n",
              "       'State child care regulations align with national standards for avoiding sugar, including concentrated sweets such as candy, sodas, sweetened drinks, fruit nectars, and flavored milk',\n",
              "       'Number of farmers markets per 100,000 residents',\n",
              "       'Number of local food policy councils in each state',\n",
              "       'State-level farm to school/preschool policy',\n",
              "       'Percent of farmers markets that accept WIC Farmers Market Nutrition Program coupons',\n",
              "       'Percent of farmers markets that accept SNAP benefits',\n",
              "       'Percent of U.S. population living within 1/2 mile of a park',\n",
              "       'State provides guidance on policies for school districts or schools on walking or biking to or from school',\n",
              "       'Percent of youth with parks or playground areas, community centers and sidewalks or walking paths available in their neighborhood'],\n",
              "      dtype=object)"
            ]
          },
          "metadata": {
            "tags": []
          },
          "execution_count": 102
        }
      ]
    },
    {
      "cell_type": "markdown",
      "metadata": {
        "id": "qIB7JNyGu6dN",
        "colab_type": "text"
      },
      "source": [
        "Some refer to breastfeeding, another aspect of health studied by the surveys. Others apply to children significantly younger than the high school students we are considering. We will keep only the relevant questions."
      ]
    },
    {
      "cell_type": "code",
      "metadata": {
        "id": "4O21FLc1wBT8",
        "colab_type": "code",
        "outputId": "769a0eab-af1f-4f2f-9e09-8c5d57494f65",
        "colab": {
          "base_uri": "https://localhost:8080/",
          "height": 35
        }
      },
      "source": [
        "policy.Data_Value.iloc[0]"
      ],
      "execution_count": 0,
      "outputs": [
        {
          "output_type": "execute_result",
          "data": {
            "text/plain": [
              "'0.5'"
            ]
          },
          "metadata": {
            "tags": []
          },
          "execution_count": 103
        }
      ]
    },
    {
      "cell_type": "code",
      "metadata": {
        "id": "GXRHZo6wwGf8",
        "colab_type": "code",
        "outputId": "d066c4e7-e096-4f73-9326-07fedcc5e71e",
        "colab": {
          "base_uri": "https://localhost:8080/",
          "height": 35
        }
      },
      "source": [
        "policy.Data_Value.iloc[346]"
      ],
      "execution_count": 0,
      "outputs": [
        {
          "output_type": "execute_result",
          "data": {
            "text/plain": [
              "'No'"
            ]
          },
          "metadata": {
            "tags": []
          },
          "execution_count": 104
        }
      ]
    },
    {
      "cell_type": "markdown",
      "metadata": {
        "id": "65XYrkFHwdaq",
        "colab_type": "text"
      },
      "source": [
        "Here we are dealing with the same issue of numbers formatted as strings, but with some genuine string values that we will need to maintain."
      ]
    },
    {
      "cell_type": "markdown",
      "metadata": {
        "id": "8HKQ-2WGCv_G",
        "colab_type": "text"
      },
      "source": [
        "### Data Preparation"
      ]
    },
    {
      "cell_type": "markdown",
      "metadata": {
        "id": "PQYtMwSHsx7p",
        "colab_type": "text"
      },
      "source": [
        "First let's separate all of the survey questions in the original obesity dataset."
      ]
    },
    {
      "cell_type": "code",
      "metadata": {
        "id": "RPwaePX8dera",
        "colab_type": "code",
        "outputId": "99352b21-9348-426e-ec50-6704be18de2d",
        "colab": {
          "base_uri": "https://localhost:8080/"
        }
      },
      "source": [
        "obesity = obesity.drop(columns='SampleSize').pivot_table(index=['Year', 'Location', 'Group'], columns='Question')\n",
        "obesity.columns = obesity.columns.get_level_values(1)\n",
        "del obesity.columns.name\n",
        "obesity.reset_index(inplace=True)\n",
        "obesity.head()"
      ],
      "execution_count": 0,
      "outputs": [
        {
          "output_type": "execute_result",
          "data": {
            "text/html": [
              "<div>\n",
              "<style scoped>\n",
              "    .dataframe tbody tr th:only-of-type {\n",
              "        vertical-align: middle;\n",
              "    }\n",
              "\n",
              "    .dataframe tbody tr th {\n",
              "        vertical-align: top;\n",
              "    }\n",
              "\n",
              "    .dataframe thead th {\n",
              "        text-align: right;\n",
              "    }\n",
              "</style>\n",
              "<table border=\"1\" class=\"dataframe\">\n",
              "  <thead>\n",
              "    <tr style=\"text-align: right;\">\n",
              "      <th></th>\n",
              "      <th>Year</th>\n",
              "      <th>Location</th>\n",
              "      <th>Group</th>\n",
              "      <th>Percent of students in grades 9-12 watching 3 or more hours of television each school day</th>\n",
              "      <th>Percent of students in grades 9-12 who achieve 1 hour or more of moderate-and/or vigorous-intensity physical activity daily</th>\n",
              "      <th>Percent of students in grades 9-12 who consume fruit less than 1 time daily</th>\n",
              "      <th>Percent of students in grades 9-12 who consume vegetables less than 1 time daily</th>\n",
              "      <th>Percent of students in grades 9-12 who drank regular soda/pop at least one time per day</th>\n",
              "      <th>Percent of students in grades 9-12 who have an overweight classification</th>\n",
              "      <th>Percent of students in grades 9-12 who have obesity</th>\n",
              "      <th>Percent of students in grades 9-12 who participate in daily physical education</th>\n",
              "    </tr>\n",
              "  </thead>\n",
              "  <tbody>\n",
              "    <tr>\n",
              "      <th>0</th>\n",
              "      <td>2001</td>\n",
              "      <td>AL</td>\n",
              "      <td>10th</td>\n",
              "      <td>51.7</td>\n",
              "      <td>NaN</td>\n",
              "      <td>54.0</td>\n",
              "      <td>47.6</td>\n",
              "      <td>NaN</td>\n",
              "      <td>16.5</td>\n",
              "      <td>11.8</td>\n",
              "      <td>26.1</td>\n",
              "    </tr>\n",
              "    <tr>\n",
              "      <th>1</th>\n",
              "      <td>2001</td>\n",
              "      <td>AL</td>\n",
              "      <td>11th</td>\n",
              "      <td>42.6</td>\n",
              "      <td>NaN</td>\n",
              "      <td>56.4</td>\n",
              "      <td>43.7</td>\n",
              "      <td>NaN</td>\n",
              "      <td>12.5</td>\n",
              "      <td>10.1</td>\n",
              "      <td>26.8</td>\n",
              "    </tr>\n",
              "    <tr>\n",
              "      <th>2</th>\n",
              "      <td>2001</td>\n",
              "      <td>AL</td>\n",
              "      <td>12th</td>\n",
              "      <td>35.0</td>\n",
              "      <td>NaN</td>\n",
              "      <td>52.3</td>\n",
              "      <td>36.3</td>\n",
              "      <td>NaN</td>\n",
              "      <td>15.8</td>\n",
              "      <td>13.6</td>\n",
              "      <td>16.9</td>\n",
              "    </tr>\n",
              "    <tr>\n",
              "      <th>3</th>\n",
              "      <td>2001</td>\n",
              "      <td>AL</td>\n",
              "      <td>9th</td>\n",
              "      <td>51.3</td>\n",
              "      <td>NaN</td>\n",
              "      <td>52.7</td>\n",
              "      <td>52.8</td>\n",
              "      <td>NaN</td>\n",
              "      <td>15.3</td>\n",
              "      <td>13.1</td>\n",
              "      <td>50.6</td>\n",
              "    </tr>\n",
              "    <tr>\n",
              "      <th>4</th>\n",
              "      <td>2001</td>\n",
              "      <td>AL</td>\n",
              "      <td>Female</td>\n",
              "      <td>44.8</td>\n",
              "      <td>NaN</td>\n",
              "      <td>54.6</td>\n",
              "      <td>45.3</td>\n",
              "      <td>NaN</td>\n",
              "      <td>14.9</td>\n",
              "      <td>7.6</td>\n",
              "      <td>23.1</td>\n",
              "    </tr>\n",
              "  </tbody>\n",
              "</table>\n",
              "</div>"
            ],
            "text/plain": [
              "   Year  ... Percent of students in grades 9-12 who participate in daily physical education\n",
              "0  2001  ...                                               26.1                            \n",
              "1  2001  ...                                               26.8                            \n",
              "2  2001  ...                                               16.9                            \n",
              "3  2001  ...                                               50.6                            \n",
              "4  2001  ...                                               23.1                            \n",
              "\n",
              "[5 rows x 11 columns]"
            ]
          },
          "metadata": {
            "tags": []
          },
          "execution_count": 105
        }
      ]
    },
    {
      "cell_type": "markdown",
      "metadata": {
        "id": "5zXuHP10eTD1",
        "colab_type": "text"
      },
      "source": [
        "Let's give these columns shorter names and create the **overweight or obese** column."
      ]
    },
    {
      "cell_type": "code",
      "metadata": {
        "id": "Njr8AVXMtC7O",
        "colab_type": "code",
        "outputId": "ccc008c3-c64e-4aa2-ecdf-4fbb055c6d17",
        "colab": {
          "base_uri": "https://localhost:8080/"
        }
      },
      "source": [
        "obesity.rename(columns={'Percent of students in grades 9-12 watching 3 or more hours of television each school day':'TV',\n",
        "                        'Percent of students in grades 9-12 who achieve 1 hour or more of moderate-and/or vigorous-intensity physical activity daily':'Exercise',\n",
        "                        'Percent of students in grades 9-12 who consume fruit less than 1 time daily':'LackOfFruit',\n",
        "                        'Percent of students in grades 9-12 who consume vegetables less than 1 time daily':'LackOfVeggies',\n",
        "                        'Percent of students in grades 9-12 who drank regular soda/pop at least one time per day':'Soda',\n",
        "                        'Percent of students in grades 9-12 who have an overweight classification':'Overweight',\n",
        "                        'Percent of students in grades 9-12 who have obesity':'Obese',\n",
        "                        'Percent of students in grades 9-12 who participate in daily physical education':'PhysEd'}, inplace=True)\n",
        "obesity = obesity[['Year','Location','Group','TV','Exercise','PhysEd','LackOfFruit','LackOfVeggies','Soda','Overweight','Obese']]\n",
        "obesity['OverweightOrObese'] = obesity.Overweight+obesity.Obese\n",
        "obesity.drop(columns='Overweight', inplace=True)\n",
        "obesity.head()"
      ],
      "execution_count": 0,
      "outputs": [
        {
          "output_type": "execute_result",
          "data": {
            "text/html": [
              "<div>\n",
              "<style scoped>\n",
              "    .dataframe tbody tr th:only-of-type {\n",
              "        vertical-align: middle;\n",
              "    }\n",
              "\n",
              "    .dataframe tbody tr th {\n",
              "        vertical-align: top;\n",
              "    }\n",
              "\n",
              "    .dataframe thead th {\n",
              "        text-align: right;\n",
              "    }\n",
              "</style>\n",
              "<table border=\"1\" class=\"dataframe\">\n",
              "  <thead>\n",
              "    <tr style=\"text-align: right;\">\n",
              "      <th></th>\n",
              "      <th>Year</th>\n",
              "      <th>Location</th>\n",
              "      <th>Group</th>\n",
              "      <th>TV</th>\n",
              "      <th>Exercise</th>\n",
              "      <th>PhysEd</th>\n",
              "      <th>LackOfFruit</th>\n",
              "      <th>LackOfVeggies</th>\n",
              "      <th>Soda</th>\n",
              "      <th>Obese</th>\n",
              "      <th>OverweightOrObese</th>\n",
              "    </tr>\n",
              "  </thead>\n",
              "  <tbody>\n",
              "    <tr>\n",
              "      <th>0</th>\n",
              "      <td>2001</td>\n",
              "      <td>AL</td>\n",
              "      <td>10th</td>\n",
              "      <td>51.7</td>\n",
              "      <td>NaN</td>\n",
              "      <td>26.1</td>\n",
              "      <td>54.0</td>\n",
              "      <td>47.6</td>\n",
              "      <td>NaN</td>\n",
              "      <td>11.8</td>\n",
              "      <td>28.3</td>\n",
              "    </tr>\n",
              "    <tr>\n",
              "      <th>1</th>\n",
              "      <td>2001</td>\n",
              "      <td>AL</td>\n",
              "      <td>11th</td>\n",
              "      <td>42.6</td>\n",
              "      <td>NaN</td>\n",
              "      <td>26.8</td>\n",
              "      <td>56.4</td>\n",
              "      <td>43.7</td>\n",
              "      <td>NaN</td>\n",
              "      <td>10.1</td>\n",
              "      <td>22.6</td>\n",
              "    </tr>\n",
              "    <tr>\n",
              "      <th>2</th>\n",
              "      <td>2001</td>\n",
              "      <td>AL</td>\n",
              "      <td>12th</td>\n",
              "      <td>35.0</td>\n",
              "      <td>NaN</td>\n",
              "      <td>16.9</td>\n",
              "      <td>52.3</td>\n",
              "      <td>36.3</td>\n",
              "      <td>NaN</td>\n",
              "      <td>13.6</td>\n",
              "      <td>29.4</td>\n",
              "    </tr>\n",
              "    <tr>\n",
              "      <th>3</th>\n",
              "      <td>2001</td>\n",
              "      <td>AL</td>\n",
              "      <td>9th</td>\n",
              "      <td>51.3</td>\n",
              "      <td>NaN</td>\n",
              "      <td>50.6</td>\n",
              "      <td>52.7</td>\n",
              "      <td>52.8</td>\n",
              "      <td>NaN</td>\n",
              "      <td>13.1</td>\n",
              "      <td>28.4</td>\n",
              "    </tr>\n",
              "    <tr>\n",
              "      <th>4</th>\n",
              "      <td>2001</td>\n",
              "      <td>AL</td>\n",
              "      <td>Female</td>\n",
              "      <td>44.8</td>\n",
              "      <td>NaN</td>\n",
              "      <td>23.1</td>\n",
              "      <td>54.6</td>\n",
              "      <td>45.3</td>\n",
              "      <td>NaN</td>\n",
              "      <td>7.6</td>\n",
              "      <td>22.5</td>\n",
              "    </tr>\n",
              "  </tbody>\n",
              "</table>\n",
              "</div>"
            ],
            "text/plain": [
              "   Year Location   Group    TV  ...  LackOfVeggies  Soda  Obese  OverweightOrObese\n",
              "0  2001       AL    10th  51.7  ...           47.6   NaN   11.8               28.3\n",
              "1  2001       AL    11th  42.6  ...           43.7   NaN   10.1               22.6\n",
              "2  2001       AL    12th  35.0  ...           36.3   NaN   13.6               29.4\n",
              "3  2001       AL     9th  51.3  ...           52.8   NaN   13.1               28.4\n",
              "4  2001       AL  Female  44.8  ...           45.3   NaN    7.6               22.5\n",
              "\n",
              "[5 rows x 11 columns]"
            ]
          },
          "metadata": {
            "tags": []
          },
          "execution_count": 106
        }
      ]
    },
    {
      "cell_type": "markdown",
      "metadata": {
        "id": "JbZa2sygedkQ",
        "colab_type": "text"
      },
      "source": [
        "The columns pertaining to fruit and vegetable consumption have been named **LackOfFruit** and **LackOfVeggies** to indicate that higher data values correspond to less fruit or vegetable consumption, in contrast to the other columns.\n",
        "\n",
        "Now let's apply the same cleaning process to the policy dataset."
      ]
    },
    {
      "cell_type": "code",
      "metadata": {
        "id": "ctROVpH-qQyt",
        "colab_type": "code",
        "outputId": "dddec727-9aeb-422e-e0f2-c669b97a220e",
        "colab": {
          "base_uri": "https://localhost:8080/"
        }
      },
      "source": [
        "policy = policy[['YearStart','LocationAbbr','Question','Data_Value']]\n",
        "policy.rename(columns={'YearStart':'Year','LocationAbbr':'Location','Data_Value':'Value'}, inplace=True)\n",
        "policy.sort_values(by=['Year','Location'], inplace=True)\n",
        "policy.reset_index(drop=True, inplace=True)\n",
        "policy.head()"
      ],
      "execution_count": 0,
      "outputs": [
        {
          "output_type": "execute_result",
          "data": {
            "text/html": [
              "<div>\n",
              "<style scoped>\n",
              "    .dataframe tbody tr th:only-of-type {\n",
              "        vertical-align: middle;\n",
              "    }\n",
              "\n",
              "    .dataframe tbody tr th {\n",
              "        vertical-align: top;\n",
              "    }\n",
              "\n",
              "    .dataframe thead th {\n",
              "        text-align: right;\n",
              "    }\n",
              "</style>\n",
              "<table border=\"1\" class=\"dataframe\">\n",
              "  <thead>\n",
              "    <tr style=\"text-align: right;\">\n",
              "      <th></th>\n",
              "      <th>Year</th>\n",
              "      <th>Location</th>\n",
              "      <th>Question</th>\n",
              "      <th>Value</th>\n",
              "    </tr>\n",
              "  </thead>\n",
              "  <tbody>\n",
              "    <tr>\n",
              "      <th>0</th>\n",
              "      <td>2002</td>\n",
              "      <td>AK</td>\n",
              "      <td>State-level farm to school/preschool policy</td>\n",
              "      <td>Yes</td>\n",
              "    </tr>\n",
              "    <tr>\n",
              "      <th>1</th>\n",
              "      <td>2002</td>\n",
              "      <td>AL</td>\n",
              "      <td>State-level farm to school/preschool policy</td>\n",
              "      <td>No</td>\n",
              "    </tr>\n",
              "    <tr>\n",
              "      <th>2</th>\n",
              "      <td>2002</td>\n",
              "      <td>AR</td>\n",
              "      <td>State-level farm to school/preschool policy</td>\n",
              "      <td>No</td>\n",
              "    </tr>\n",
              "    <tr>\n",
              "      <th>3</th>\n",
              "      <td>2002</td>\n",
              "      <td>AZ</td>\n",
              "      <td>State-level farm to school/preschool policy</td>\n",
              "      <td>No</td>\n",
              "    </tr>\n",
              "    <tr>\n",
              "      <th>4</th>\n",
              "      <td>2002</td>\n",
              "      <td>CA</td>\n",
              "      <td>State-level farm to school/preschool policy</td>\n",
              "      <td>Yes</td>\n",
              "    </tr>\n",
              "  </tbody>\n",
              "</table>\n",
              "</div>"
            ],
            "text/plain": [
              "   Year Location                                     Question Value\n",
              "0  2002       AK  State-level farm to school/preschool policy   Yes\n",
              "1  2002       AL  State-level farm to school/preschool policy    No\n",
              "2  2002       AR  State-level farm to school/preschool policy    No\n",
              "3  2002       AZ  State-level farm to school/preschool policy    No\n",
              "4  2002       CA  State-level farm to school/preschool policy   Yes"
            ]
          },
          "metadata": {
            "tags": []
          },
          "execution_count": 107
        }
      ]
    },
    {
      "cell_type": "markdown",
      "metadata": {
        "id": "v8sJFbrmuD87",
        "colab_type": "text"
      },
      "source": [
        "We can see that this dataset contains at least one year not present in the obesity dataset. Let's remove all the rows for which either the year or location don't match any of the obesity data."
      ]
    },
    {
      "cell_type": "code",
      "metadata": {
        "id": "VcX0aCxDrRdk",
        "colab_type": "code",
        "outputId": "5332cdc2-7f71-4f51-f090-bf99cb9065ba",
        "colab": {
          "base_uri": "https://localhost:8080/"
        }
      },
      "source": [
        "policy = policy[(policy.Location.isin(obesity.Location.unique())) &\n",
        "                (policy.Year.isin(obesity.Year.unique()))]\n",
        "policy.reset_index(drop=True, inplace=True)\n",
        "policy.head()"
      ],
      "execution_count": 0,
      "outputs": [
        {
          "output_type": "execute_result",
          "data": {
            "text/html": [
              "<div>\n",
              "<style scoped>\n",
              "    .dataframe tbody tr th:only-of-type {\n",
              "        vertical-align: middle;\n",
              "    }\n",
              "\n",
              "    .dataframe tbody tr th {\n",
              "        vertical-align: top;\n",
              "    }\n",
              "\n",
              "    .dataframe thead th {\n",
              "        text-align: right;\n",
              "    }\n",
              "</style>\n",
              "<table border=\"1\" class=\"dataframe\">\n",
              "  <thead>\n",
              "    <tr style=\"text-align: right;\">\n",
              "      <th></th>\n",
              "      <th>Year</th>\n",
              "      <th>Location</th>\n",
              "      <th>Question</th>\n",
              "      <th>Value</th>\n",
              "    </tr>\n",
              "  </thead>\n",
              "  <tbody>\n",
              "    <tr>\n",
              "      <th>0</th>\n",
              "      <td>2007</td>\n",
              "      <td>AK</td>\n",
              "      <td>Average Maternity Practice in Infant Nutrition...</td>\n",
              "      <td>73</td>\n",
              "    </tr>\n",
              "    <tr>\n",
              "      <th>1</th>\n",
              "      <td>2007</td>\n",
              "      <td>AK</td>\n",
              "      <td>Number of International Board Certified Lactat...</td>\n",
              "      <td>5.8</td>\n",
              "    </tr>\n",
              "    <tr>\n",
              "      <th>2</th>\n",
              "      <td>2007</td>\n",
              "      <td>AK</td>\n",
              "      <td>Percent of live births occurring at facilities...</td>\n",
              "      <td>0.0</td>\n",
              "    </tr>\n",
              "    <tr>\n",
              "      <th>3</th>\n",
              "      <td>2007</td>\n",
              "      <td>AL</td>\n",
              "      <td>Average Maternity Practice in Infant Nutrition...</td>\n",
              "      <td>55</td>\n",
              "    </tr>\n",
              "    <tr>\n",
              "      <th>4</th>\n",
              "      <td>2007</td>\n",
              "      <td>AL</td>\n",
              "      <td>Number of International Board Certified Lactat...</td>\n",
              "      <td>1.9</td>\n",
              "    </tr>\n",
              "  </tbody>\n",
              "</table>\n",
              "</div>"
            ],
            "text/plain": [
              "   Year Location                                           Question Value\n",
              "0  2007       AK  Average Maternity Practice in Infant Nutrition...    73\n",
              "1  2007       AK  Number of International Board Certified Lactat...   5.8\n",
              "2  2007       AK  Percent of live births occurring at facilities...   0.0\n",
              "3  2007       AL  Average Maternity Practice in Infant Nutrition...    55\n",
              "4  2007       AL  Number of International Board Certified Lactat...   1.9"
            ]
          },
          "metadata": {
            "tags": []
          },
          "execution_count": 108
        }
      ]
    },
    {
      "cell_type": "markdown",
      "metadata": {
        "id": "Oqi6-qVmFaC9",
        "colab_type": "text"
      },
      "source": [
        "Now we can select the questions of interest and make all data values other than **Yes** and **No** numeric."
      ]
    },
    {
      "cell_type": "code",
      "metadata": {
        "id": "zsjnh72YrRy_",
        "colab_type": "code",
        "colab": {}
      },
      "source": [
        "policy = policy[policy.Question.isin([\n",
        "    'Number of farmers markets per 100,000 residents',\n",
        "    'State child care regulations align with national standards for limiting total media time for children 2 years or older to not more than 30 minutes once a week',\n",
        "    'State child care regulations align with national standards for avoiding sugar, including concentrated sweets such as candy, sodas, sweetened drinks, fruit nectars, and flavored milk',\n",
        "    'State child care regulations align with national standards for serving fruits',\n",
        "    'State child care regulations align with national standards for serving vegetables',\n",
        "    'State has adopted some form of a Complete Streets policy',\n",
        "    'Percent of U.S. population living within 1/2 mile of a park',\n",
        "    'Percent of farmers markets that accept WIC Farmers Market Nutrition Program coupons',\n",
        "    'Number of food hubs in each state'])]\n",
        "policy.Value = policy.Value.apply(lambda x: x if x in ['No','Yes'] else pd.to_numeric(x.replace(',','')))"
      ],
      "execution_count": 0,
      "outputs": []
    },
    {
      "cell_type": "code",
      "metadata": {
        "id": "hYuX4a2RwY8U",
        "colab_type": "code",
        "outputId": "84d64d23-f5a5-4ec6-f275-3fd8a509b64b",
        "colab": {
          "base_uri": "https://localhost:8080/"
        }
      },
      "source": [
        "policy.Value.iloc[0]"
      ],
      "execution_count": 0,
      "outputs": [
        {
          "output_type": "execute_result",
          "data": {
            "text/plain": [
              "3.5"
            ]
          },
          "metadata": {
            "tags": []
          },
          "execution_count": 110
        }
      ]
    },
    {
      "cell_type": "code",
      "metadata": {
        "id": "q_5pl_eEwqHt",
        "colab_type": "code",
        "outputId": "35ef8d6b-f89d-42dc-e183-74181980ed4c",
        "colab": {
          "base_uri": "https://localhost:8080/"
        }
      },
      "source": [
        "policy.Value.iloc[346]"
      ],
      "execution_count": 0,
      "outputs": [
        {
          "output_type": "execute_result",
          "data": {
            "text/plain": [
              "'No'"
            ]
          },
          "metadata": {
            "tags": []
          },
          "execution_count": 111
        }
      ]
    },
    {
      "cell_type": "markdown",
      "metadata": {
        "id": "wTw3wzHmxAfp",
        "colab_type": "text"
      },
      "source": [
        "Now we can split the questions into separate columns and rename."
      ]
    },
    {
      "cell_type": "code",
      "metadata": {
        "id": "DwREj4bOv559",
        "colab_type": "code",
        "outputId": "20363f30-6245-4977-87f5-5a28a281f975",
        "colab": {
          "base_uri": "https://localhost:8080/"
        }
      },
      "source": [
        "policy = policy.pivot_table(index=['Year', 'Location'], columns='Question', aggfunc='first')\n",
        "policy.columns = policy.columns.get_level_values(1)\n",
        "del policy.columns.name\n",
        "policy.reset_index(inplace=True)\n",
        "policy.rename(columns={'Number of farmers markets per 100,000 residents':'FarmMarket',\n",
        "                       'Number of food hubs in each state':'FoodHubs',\n",
        "                       'Percent of U.S. population living within 1/2 mile of a park':'NearPark',\n",
        "                       'Percent of farmers markets that accept WIC Farmers Market Nutrition Program coupons':'WIC',\n",
        "                       'State child care regulations align with national standards for avoiding sugar, including concentrated sweets such as candy, sodas, sweetened drinks, fruit nectars, and flavored milk':'SugarReg',\n",
        "                       'State child care regulations align with national standards for limiting total media time for children 2 years or older to not more than 30 minutes once a week':'MediaReg',\n",
        "                       'State child care regulations align with national standards for serving fruits':'FruitReg',\n",
        "                       'State child care regulations align with national standards for serving vegetables':'VeggieReg',\n",
        "                       'State has adopted some form of a Complete Streets policy':'CompleteStreets'}, inplace=True)\n",
        "policy.head()"
      ],
      "execution_count": 0,
      "outputs": [
        {
          "output_type": "execute_result",
          "data": {
            "text/html": [
              "<div>\n",
              "<style scoped>\n",
              "    .dataframe tbody tr th:only-of-type {\n",
              "        vertical-align: middle;\n",
              "    }\n",
              "\n",
              "    .dataframe tbody tr th {\n",
              "        vertical-align: top;\n",
              "    }\n",
              "\n",
              "    .dataframe thead th {\n",
              "        text-align: right;\n",
              "    }\n",
              "</style>\n",
              "<table border=\"1\" class=\"dataframe\">\n",
              "  <thead>\n",
              "    <tr style=\"text-align: right;\">\n",
              "      <th></th>\n",
              "      <th>Year</th>\n",
              "      <th>Location</th>\n",
              "      <th>FarmMarket</th>\n",
              "      <th>FoodHubs</th>\n",
              "      <th>NearPark</th>\n",
              "      <th>WIC</th>\n",
              "      <th>SugarReg</th>\n",
              "      <th>MediaReg</th>\n",
              "      <th>FruitReg</th>\n",
              "      <th>VeggieReg</th>\n",
              "      <th>CompleteStreets</th>\n",
              "    </tr>\n",
              "  </thead>\n",
              "  <tbody>\n",
              "    <tr>\n",
              "      <th>0</th>\n",
              "      <td>2009</td>\n",
              "      <td>AK</td>\n",
              "      <td>3.5</td>\n",
              "      <td>NaN</td>\n",
              "      <td>NaN</td>\n",
              "      <td>NaN</td>\n",
              "      <td>NaN</td>\n",
              "      <td>NaN</td>\n",
              "      <td>NaN</td>\n",
              "      <td>NaN</td>\n",
              "      <td>NaN</td>\n",
              "    </tr>\n",
              "    <tr>\n",
              "      <th>1</th>\n",
              "      <td>2009</td>\n",
              "      <td>AL</td>\n",
              "      <td>2.4</td>\n",
              "      <td>NaN</td>\n",
              "      <td>NaN</td>\n",
              "      <td>NaN</td>\n",
              "      <td>NaN</td>\n",
              "      <td>NaN</td>\n",
              "      <td>NaN</td>\n",
              "      <td>NaN</td>\n",
              "      <td>NaN</td>\n",
              "    </tr>\n",
              "    <tr>\n",
              "      <th>2</th>\n",
              "      <td>2009</td>\n",
              "      <td>AR</td>\n",
              "      <td>1.7</td>\n",
              "      <td>NaN</td>\n",
              "      <td>NaN</td>\n",
              "      <td>NaN</td>\n",
              "      <td>NaN</td>\n",
              "      <td>NaN</td>\n",
              "      <td>NaN</td>\n",
              "      <td>NaN</td>\n",
              "      <td>NaN</td>\n",
              "    </tr>\n",
              "    <tr>\n",
              "      <th>3</th>\n",
              "      <td>2009</td>\n",
              "      <td>AZ</td>\n",
              "      <td>1</td>\n",
              "      <td>NaN</td>\n",
              "      <td>NaN</td>\n",
              "      <td>NaN</td>\n",
              "      <td>NaN</td>\n",
              "      <td>NaN</td>\n",
              "      <td>NaN</td>\n",
              "      <td>NaN</td>\n",
              "      <td>NaN</td>\n",
              "    </tr>\n",
              "    <tr>\n",
              "      <th>4</th>\n",
              "      <td>2009</td>\n",
              "      <td>CA</td>\n",
              "      <td>1.4</td>\n",
              "      <td>NaN</td>\n",
              "      <td>NaN</td>\n",
              "      <td>NaN</td>\n",
              "      <td>NaN</td>\n",
              "      <td>NaN</td>\n",
              "      <td>NaN</td>\n",
              "      <td>NaN</td>\n",
              "      <td>NaN</td>\n",
              "    </tr>\n",
              "  </tbody>\n",
              "</table>\n",
              "</div>"
            ],
            "text/plain": [
              "   Year Location FarmMarket  ... FruitReg VeggieReg CompleteStreets\n",
              "0  2009       AK        3.5  ...      NaN       NaN             NaN\n",
              "1  2009       AL        2.4  ...      NaN       NaN             NaN\n",
              "2  2009       AR        1.7  ...      NaN       NaN             NaN\n",
              "3  2009       AZ          1  ...      NaN       NaN             NaN\n",
              "4  2009       CA        1.4  ...      NaN       NaN             NaN\n",
              "\n",
              "[5 rows x 11 columns]"
            ]
          },
          "metadata": {
            "tags": []
          },
          "execution_count": 112
        }
      ]
    },
    {
      "cell_type": "markdown",
      "metadata": {
        "id": "8y70Vy0Fxiv-",
        "colab_type": "text"
      },
      "source": [
        "Clearly these columns have some missing values. But first let's merge this dataset with our obesity dataset."
      ]
    },
    {
      "cell_type": "code",
      "metadata": {
        "id": "AZMOweuYv5t_",
        "colab_type": "code",
        "outputId": "63603d1d-b2b9-4531-e6b0-c67dd50ab9b5",
        "colab": {
          "base_uri": "https://localhost:8080/"
        }
      },
      "source": [
        "obesity = obesity.merge(policy, left_on=['Year','Location'],\n",
        "                        right_on=['Year','Location'], how='left')\n",
        "obesity = obesity[['Year','Location','Group','TV','Exercise','PhysEd',\n",
        "    'LackOfFruit','LackOfVeggies','Soda','FarmMarket','FoodHubs','NearPark',\n",
        "    'WIC','SugarReg','MediaReg','FruitReg','VeggieReg','CompleteStreets',\n",
        "    'Obese','OverweightOrObese']]\n",
        "obesity.replace('No', 0, inplace=True)\n",
        "obesity.replace('Yes', 1, inplace=True)\n",
        "obesity.head()"
      ],
      "execution_count": 0,
      "outputs": [
        {
          "output_type": "execute_result",
          "data": {
            "text/html": [
              "<div>\n",
              "<style scoped>\n",
              "    .dataframe tbody tr th:only-of-type {\n",
              "        vertical-align: middle;\n",
              "    }\n",
              "\n",
              "    .dataframe tbody tr th {\n",
              "        vertical-align: top;\n",
              "    }\n",
              "\n",
              "    .dataframe thead th {\n",
              "        text-align: right;\n",
              "    }\n",
              "</style>\n",
              "<table border=\"1\" class=\"dataframe\">\n",
              "  <thead>\n",
              "    <tr style=\"text-align: right;\">\n",
              "      <th></th>\n",
              "      <th>Year</th>\n",
              "      <th>Location</th>\n",
              "      <th>Group</th>\n",
              "      <th>TV</th>\n",
              "      <th>Exercise</th>\n",
              "      <th>PhysEd</th>\n",
              "      <th>LackOfFruit</th>\n",
              "      <th>LackOfVeggies</th>\n",
              "      <th>Soda</th>\n",
              "      <th>FarmMarket</th>\n",
              "      <th>FoodHubs</th>\n",
              "      <th>NearPark</th>\n",
              "      <th>WIC</th>\n",
              "      <th>SugarReg</th>\n",
              "      <th>MediaReg</th>\n",
              "      <th>FruitReg</th>\n",
              "      <th>VeggieReg</th>\n",
              "      <th>CompleteStreets</th>\n",
              "      <th>Obese</th>\n",
              "      <th>OverweightOrObese</th>\n",
              "    </tr>\n",
              "  </thead>\n",
              "  <tbody>\n",
              "    <tr>\n",
              "      <th>0</th>\n",
              "      <td>2001</td>\n",
              "      <td>AL</td>\n",
              "      <td>10th</td>\n",
              "      <td>51.7</td>\n",
              "      <td>NaN</td>\n",
              "      <td>26.1</td>\n",
              "      <td>54.0</td>\n",
              "      <td>47.6</td>\n",
              "      <td>NaN</td>\n",
              "      <td>NaN</td>\n",
              "      <td>NaN</td>\n",
              "      <td>NaN</td>\n",
              "      <td>NaN</td>\n",
              "      <td>NaN</td>\n",
              "      <td>NaN</td>\n",
              "      <td>NaN</td>\n",
              "      <td>NaN</td>\n",
              "      <td>NaN</td>\n",
              "      <td>11.8</td>\n",
              "      <td>28.3</td>\n",
              "    </tr>\n",
              "    <tr>\n",
              "      <th>1</th>\n",
              "      <td>2001</td>\n",
              "      <td>AL</td>\n",
              "      <td>11th</td>\n",
              "      <td>42.6</td>\n",
              "      <td>NaN</td>\n",
              "      <td>26.8</td>\n",
              "      <td>56.4</td>\n",
              "      <td>43.7</td>\n",
              "      <td>NaN</td>\n",
              "      <td>NaN</td>\n",
              "      <td>NaN</td>\n",
              "      <td>NaN</td>\n",
              "      <td>NaN</td>\n",
              "      <td>NaN</td>\n",
              "      <td>NaN</td>\n",
              "      <td>NaN</td>\n",
              "      <td>NaN</td>\n",
              "      <td>NaN</td>\n",
              "      <td>10.1</td>\n",
              "      <td>22.6</td>\n",
              "    </tr>\n",
              "    <tr>\n",
              "      <th>2</th>\n",
              "      <td>2001</td>\n",
              "      <td>AL</td>\n",
              "      <td>12th</td>\n",
              "      <td>35.0</td>\n",
              "      <td>NaN</td>\n",
              "      <td>16.9</td>\n",
              "      <td>52.3</td>\n",
              "      <td>36.3</td>\n",
              "      <td>NaN</td>\n",
              "      <td>NaN</td>\n",
              "      <td>NaN</td>\n",
              "      <td>NaN</td>\n",
              "      <td>NaN</td>\n",
              "      <td>NaN</td>\n",
              "      <td>NaN</td>\n",
              "      <td>NaN</td>\n",
              "      <td>NaN</td>\n",
              "      <td>NaN</td>\n",
              "      <td>13.6</td>\n",
              "      <td>29.4</td>\n",
              "    </tr>\n",
              "    <tr>\n",
              "      <th>3</th>\n",
              "      <td>2001</td>\n",
              "      <td>AL</td>\n",
              "      <td>9th</td>\n",
              "      <td>51.3</td>\n",
              "      <td>NaN</td>\n",
              "      <td>50.6</td>\n",
              "      <td>52.7</td>\n",
              "      <td>52.8</td>\n",
              "      <td>NaN</td>\n",
              "      <td>NaN</td>\n",
              "      <td>NaN</td>\n",
              "      <td>NaN</td>\n",
              "      <td>NaN</td>\n",
              "      <td>NaN</td>\n",
              "      <td>NaN</td>\n",
              "      <td>NaN</td>\n",
              "      <td>NaN</td>\n",
              "      <td>NaN</td>\n",
              "      <td>13.1</td>\n",
              "      <td>28.4</td>\n",
              "    </tr>\n",
              "    <tr>\n",
              "      <th>4</th>\n",
              "      <td>2001</td>\n",
              "      <td>AL</td>\n",
              "      <td>Female</td>\n",
              "      <td>44.8</td>\n",
              "      <td>NaN</td>\n",
              "      <td>23.1</td>\n",
              "      <td>54.6</td>\n",
              "      <td>45.3</td>\n",
              "      <td>NaN</td>\n",
              "      <td>NaN</td>\n",
              "      <td>NaN</td>\n",
              "      <td>NaN</td>\n",
              "      <td>NaN</td>\n",
              "      <td>NaN</td>\n",
              "      <td>NaN</td>\n",
              "      <td>NaN</td>\n",
              "      <td>NaN</td>\n",
              "      <td>NaN</td>\n",
              "      <td>7.6</td>\n",
              "      <td>22.5</td>\n",
              "    </tr>\n",
              "  </tbody>\n",
              "</table>\n",
              "</div>"
            ],
            "text/plain": [
              "   Year Location   Group  ...  CompleteStreets  Obese  OverweightOrObese\n",
              "0  2001       AL    10th  ...              NaN   11.8               28.3\n",
              "1  2001       AL    11th  ...              NaN   10.1               22.6\n",
              "2  2001       AL    12th  ...              NaN   13.6               29.4\n",
              "3  2001       AL     9th  ...              NaN   13.1               28.4\n",
              "4  2001       AL  Female  ...              NaN    7.6               22.5\n",
              "\n",
              "[5 rows x 20 columns]"
            ]
          },
          "metadata": {
            "tags": []
          },
          "execution_count": 113
        }
      ]
    },
    {
      "cell_type": "markdown",
      "metadata": {
        "id": "pAzRXenMG022",
        "colab_type": "text"
      },
      "source": [
        "We should check if any columns have all the same values after the merge."
      ]
    },
    {
      "cell_type": "code",
      "metadata": {
        "id": "DHm14O_-Gnpf",
        "colab_type": "code",
        "outputId": "83895944-390e-4ae4-b350-e0d211d0a6a4",
        "colab": {
          "base_uri": "https://localhost:8080/"
        }
      },
      "source": [
        "obesity.describe()"
      ],
      "execution_count": 0,
      "outputs": [
        {
          "output_type": "execute_result",
          "data": {
            "text/html": [
              "<div>\n",
              "<style scoped>\n",
              "    .dataframe tbody tr th:only-of-type {\n",
              "        vertical-align: middle;\n",
              "    }\n",
              "\n",
              "    .dataframe tbody tr th {\n",
              "        vertical-align: top;\n",
              "    }\n",
              "\n",
              "    .dataframe thead th {\n",
              "        text-align: right;\n",
              "    }\n",
              "</style>\n",
              "<table border=\"1\" class=\"dataframe\">\n",
              "  <thead>\n",
              "    <tr style=\"text-align: right;\">\n",
              "      <th></th>\n",
              "      <th>Year</th>\n",
              "      <th>TV</th>\n",
              "      <th>Exercise</th>\n",
              "      <th>PhysEd</th>\n",
              "      <th>LackOfFruit</th>\n",
              "      <th>LackOfVeggies</th>\n",
              "      <th>Soda</th>\n",
              "      <th>FarmMarket</th>\n",
              "      <th>FoodHubs</th>\n",
              "      <th>NearPark</th>\n",
              "      <th>WIC</th>\n",
              "      <th>SugarReg</th>\n",
              "      <th>MediaReg</th>\n",
              "      <th>FruitReg</th>\n",
              "      <th>VeggieReg</th>\n",
              "      <th>CompleteStreets</th>\n",
              "      <th>Obese</th>\n",
              "      <th>OverweightOrObese</th>\n",
              "    </tr>\n",
              "  </thead>\n",
              "  <tbody>\n",
              "    <tr>\n",
              "      <th>count</th>\n",
              "      <td>3689.000000</td>\n",
              "      <td>3466.000000</td>\n",
              "      <td>2483.000000</td>\n",
              "      <td>3326.000000</td>\n",
              "      <td>3435.000000</td>\n",
              "      <td>3144.000000</td>\n",
              "      <td>2567.000000</td>\n",
              "      <td>905.000000</td>\n",
              "      <td>455.000000</td>\n",
              "      <td>436.000000</td>\n",
              "      <td>455.000000</td>\n",
              "      <td>1828.0</td>\n",
              "      <td>1828.0</td>\n",
              "      <td>1828.000000</td>\n",
              "      <td>1828.000000</td>\n",
              "      <td>1371.000000</td>\n",
              "      <td>3656.000000</td>\n",
              "      <td>3656.000000</td>\n",
              "    </tr>\n",
              "    <tr>\n",
              "      <th>mean</th>\n",
              "      <td>2009.851179</td>\n",
              "      <td>30.544864</td>\n",
              "      <td>24.150423</td>\n",
              "      <td>25.316657</td>\n",
              "      <td>41.497031</td>\n",
              "      <td>39.749459</td>\n",
              "      <td>23.977016</td>\n",
              "      <td>3.389613</td>\n",
              "      <td>10.747253</td>\n",
              "      <td>44.433028</td>\n",
              "      <td>27.986154</td>\n",
              "      <td>0.0</td>\n",
              "      <td>0.0</td>\n",
              "      <td>0.392232</td>\n",
              "      <td>0.129650</td>\n",
              "      <td>1.590080</td>\n",
              "      <td>12.900274</td>\n",
              "      <td>27.981291</td>\n",
              "    </tr>\n",
              "    <tr>\n",
              "      <th>std</th>\n",
              "      <td>4.860062</td>\n",
              "      <td>10.072204</td>\n",
              "      <td>5.884830</td>\n",
              "      <td>12.480206</td>\n",
              "      <td>5.719986</td>\n",
              "      <td>6.969569</td>\n",
              "      <td>8.402084</td>\n",
              "      <td>2.543463</td>\n",
              "      <td>36.110206</td>\n",
              "      <td>19.819794</td>\n",
              "      <td>22.996295</td>\n",
              "      <td>0.0</td>\n",
              "      <td>0.0</td>\n",
              "      <td>1.392719</td>\n",
              "      <td>0.527447</td>\n",
              "      <td>5.433716</td>\n",
              "      <td>3.864098</td>\n",
              "      <td>5.713915</td>\n",
              "    </tr>\n",
              "    <tr>\n",
              "      <th>min</th>\n",
              "      <td>2001.000000</td>\n",
              "      <td>7.800000</td>\n",
              "      <td>7.400000</td>\n",
              "      <td>0.000000</td>\n",
              "      <td>14.400000</td>\n",
              "      <td>13.500000</td>\n",
              "      <td>2.900000</td>\n",
              "      <td>0.200000</td>\n",
              "      <td>0.000000</td>\n",
              "      <td>14.400000</td>\n",
              "      <td>0.000000</td>\n",
              "      <td>0.0</td>\n",
              "      <td>0.0</td>\n",
              "      <td>0.000000</td>\n",
              "      <td>0.000000</td>\n",
              "      <td>0.000000</td>\n",
              "      <td>2.000000</td>\n",
              "      <td>7.300000</td>\n",
              "    </tr>\n",
              "    <tr>\n",
              "      <th>25%</th>\n",
              "      <td>2005.000000</td>\n",
              "      <td>23.300000</td>\n",
              "      <td>20.000000</td>\n",
              "      <td>17.000000</td>\n",
              "      <td>37.700000</td>\n",
              "      <td>35.100000</td>\n",
              "      <td>17.700000</td>\n",
              "      <td>1.600000</td>\n",
              "      <td>1.000000</td>\n",
              "      <td>25.500000</td>\n",
              "      <td>8.500000</td>\n",
              "      <td>0.0</td>\n",
              "      <td>0.0</td>\n",
              "      <td>0.000000</td>\n",
              "      <td>0.000000</td>\n",
              "      <td>0.000000</td>\n",
              "      <td>10.300000</td>\n",
              "      <td>24.300000</td>\n",
              "    </tr>\n",
              "    <tr>\n",
              "      <th>50%</th>\n",
              "      <td>2011.000000</td>\n",
              "      <td>28.800000</td>\n",
              "      <td>24.000000</td>\n",
              "      <td>23.700000</td>\n",
              "      <td>41.000000</td>\n",
              "      <td>39.500000</td>\n",
              "      <td>23.400000</td>\n",
              "      <td>2.700000</td>\n",
              "      <td>3.000000</td>\n",
              "      <td>40.800000</td>\n",
              "      <td>21.600000</td>\n",
              "      <td>0.0</td>\n",
              "      <td>0.0</td>\n",
              "      <td>0.000000</td>\n",
              "      <td>0.000000</td>\n",
              "      <td>1.000000</td>\n",
              "      <td>12.700000</td>\n",
              "      <td>27.900000</td>\n",
              "    </tr>\n",
              "    <tr>\n",
              "      <th>75%</th>\n",
              "      <td>2015.000000</td>\n",
              "      <td>35.800000</td>\n",
              "      <td>27.800000</td>\n",
              "      <td>31.700000</td>\n",
              "      <td>45.100000</td>\n",
              "      <td>44.100000</td>\n",
              "      <td>29.600000</td>\n",
              "      <td>4.300000</td>\n",
              "      <td>7.000000</td>\n",
              "      <td>59.400000</td>\n",
              "      <td>40.600000</td>\n",
              "      <td>0.0</td>\n",
              "      <td>0.0</td>\n",
              "      <td>0.000000</td>\n",
              "      <td>0.000000</td>\n",
              "      <td>1.000000</td>\n",
              "      <td>15.400000</td>\n",
              "      <td>31.700000</td>\n",
              "    </tr>\n",
              "    <tr>\n",
              "      <th>max</th>\n",
              "      <td>2017.000000</td>\n",
              "      <td>73.800000</td>\n",
              "      <td>67.400000</td>\n",
              "      <td>81.900000</td>\n",
              "      <td>59.500000</td>\n",
              "      <td>67.500000</td>\n",
              "      <td>51.200000</td>\n",
              "      <td>14.900000</td>\n",
              "      <td>212.000000</td>\n",
              "      <td>95.700000</td>\n",
              "      <td>83.300000</td>\n",
              "      <td>0.0</td>\n",
              "      <td>0.0</td>\n",
              "      <td>9.000000</td>\n",
              "      <td>4.000000</td>\n",
              "      <td>35.000000</td>\n",
              "      <td>29.100000</td>\n",
              "      <td>50.900000</td>\n",
              "    </tr>\n",
              "  </tbody>\n",
              "</table>\n",
              "</div>"
            ],
            "text/plain": [
              "              Year           TV  ...        Obese  OverweightOrObese\n",
              "count  3689.000000  3466.000000  ...  3656.000000        3656.000000\n",
              "mean   2009.851179    30.544864  ...    12.900274          27.981291\n",
              "std       4.860062    10.072204  ...     3.864098           5.713915\n",
              "min    2001.000000     7.800000  ...     2.000000           7.300000\n",
              "25%    2005.000000    23.300000  ...    10.300000          24.300000\n",
              "50%    2011.000000    28.800000  ...    12.700000          27.900000\n",
              "75%    2015.000000    35.800000  ...    15.400000          31.700000\n",
              "max    2017.000000    73.800000  ...    29.100000          50.900000\n",
              "\n",
              "[8 rows x 18 columns]"
            ]
          },
          "metadata": {
            "tags": []
          },
          "execution_count": 114
        }
      ]
    },
    {
      "cell_type": "markdown",
      "metadata": {
        "id": "CHEQccf1HAAU",
        "colab_type": "text"
      },
      "source": [
        "The **SugarReg** and **MediaReg** columns have standard deviations of zero after merging with the obesity dataset. We will have to drop them."
      ]
    },
    {
      "cell_type": "code",
      "metadata": {
        "id": "AFlrPonqHOTc",
        "colab_type": "code",
        "colab": {}
      },
      "source": [
        "obesity.drop(columns=['SugarReg','MediaReg'], inplace=True)"
      ],
      "execution_count": 0,
      "outputs": []
    },
    {
      "cell_type": "markdown",
      "metadata": {
        "id": "kp0Thqn8D8x4",
        "colab_type": "text"
      },
      "source": [
        "### Modeling"
      ]
    },
    {
      "cell_type": "markdown",
      "metadata": {
        "id": "rK6WLtC8vlQ1",
        "colab_type": "text"
      },
      "source": [
        "For this question, we will plot the average values of the associated risk factors according to location."
      ]
    },
    {
      "cell_type": "code",
      "metadata": {
        "id": "RkoZWd0Gqgfu",
        "colab_type": "code",
        "outputId": "492795e3-4670-4d45-fd23-190b557e90e6",
        "colab": {
          "base_uri": "https://localhost:8080/"
        }
      },
      "source": [
        "mean_values_by_location = obesity[obesity.Group == 'Total'].drop(\n",
        "    columns=['Year','Group','Obese','OverweightOrObese']).groupby('Location').mean()\n",
        "mean_values_by_location.head()"
      ],
      "execution_count": 0,
      "outputs": [
        {
          "output_type": "execute_result",
          "data": {
            "text/html": [
              "<div>\n",
              "<style scoped>\n",
              "    .dataframe tbody tr th:only-of-type {\n",
              "        vertical-align: middle;\n",
              "    }\n",
              "\n",
              "    .dataframe tbody tr th {\n",
              "        vertical-align: top;\n",
              "    }\n",
              "\n",
              "    .dataframe thead th {\n",
              "        text-align: right;\n",
              "    }\n",
              "</style>\n",
              "<table border=\"1\" class=\"dataframe\">\n",
              "  <thead>\n",
              "    <tr style=\"text-align: right;\">\n",
              "      <th></th>\n",
              "      <th>TV</th>\n",
              "      <th>Exercise</th>\n",
              "      <th>PhysEd</th>\n",
              "      <th>LackOfFruit</th>\n",
              "      <th>LackOfVeggies</th>\n",
              "      <th>Soda</th>\n",
              "      <th>FarmMarket</th>\n",
              "      <th>FoodHubs</th>\n",
              "      <th>NearPark</th>\n",
              "      <th>WIC</th>\n",
              "      <th>FruitReg</th>\n",
              "      <th>VeggieReg</th>\n",
              "      <th>CompleteStreets</th>\n",
              "    </tr>\n",
              "    <tr>\n",
              "      <th>Location</th>\n",
              "      <th></th>\n",
              "      <th></th>\n",
              "      <th></th>\n",
              "      <th></th>\n",
              "      <th></th>\n",
              "      <th></th>\n",
              "      <th></th>\n",
              "      <th></th>\n",
              "      <th></th>\n",
              "      <th></th>\n",
              "      <th></th>\n",
              "      <th></th>\n",
              "      <th></th>\n",
              "    </tr>\n",
              "  </thead>\n",
              "  <tbody>\n",
              "    <tr>\n",
              "      <th>AK</th>\n",
              "      <td>23.200000</td>\n",
              "      <td>20.066667</td>\n",
              "      <td>17.228571</td>\n",
              "      <td>41.442857</td>\n",
              "      <td>37.328571</td>\n",
              "      <td>18.133333</td>\n",
              "      <td>4.40</td>\n",
              "      <td>3.0</td>\n",
              "      <td>63.0</td>\n",
              "      <td>38.5</td>\n",
              "      <td>0.0</td>\n",
              "      <td>0.0</td>\n",
              "      <td>0.0</td>\n",
              "    </tr>\n",
              "    <tr>\n",
              "      <th>AL</th>\n",
              "      <td>38.357143</td>\n",
              "      <td>24.500000</td>\n",
              "      <td>35.014286</td>\n",
              "      <td>50.042857</td>\n",
              "      <td>45.800000</td>\n",
              "      <td>35.275000</td>\n",
              "      <td>2.40</td>\n",
              "      <td>NaN</td>\n",
              "      <td>23.2</td>\n",
              "      <td>NaN</td>\n",
              "      <td>0.0</td>\n",
              "      <td>0.0</td>\n",
              "      <td>0.0</td>\n",
              "    </tr>\n",
              "    <tr>\n",
              "      <th>AR</th>\n",
              "      <td>33.937500</td>\n",
              "      <td>25.833333</td>\n",
              "      <td>26.387500</td>\n",
              "      <td>49.487500</td>\n",
              "      <td>44.587500</td>\n",
              "      <td>33.350000</td>\n",
              "      <td>2.65</td>\n",
              "      <td>2.0</td>\n",
              "      <td>22.1</td>\n",
              "      <td>19.6</td>\n",
              "      <td>0.0</td>\n",
              "      <td>0.0</td>\n",
              "      <td>0.0</td>\n",
              "    </tr>\n",
              "    <tr>\n",
              "      <th>AZ</th>\n",
              "      <td>28.875000</td>\n",
              "      <td>24.580000</td>\n",
              "      <td>27.912500</td>\n",
              "      <td>43.600000</td>\n",
              "      <td>42.100000</td>\n",
              "      <td>23.033333</td>\n",
              "      <td>1.15</td>\n",
              "      <td>3.0</td>\n",
              "      <td>64.1</td>\n",
              "      <td>38.0</td>\n",
              "      <td>1.0</td>\n",
              "      <td>0.0</td>\n",
              "      <td>0.0</td>\n",
              "    </tr>\n",
              "    <tr>\n",
              "      <th>CA</th>\n",
              "      <td>20.750000</td>\n",
              "      <td>26.400000</td>\n",
              "      <td>36.700000</td>\n",
              "      <td>35.050000</td>\n",
              "      <td>40.450000</td>\n",
              "      <td>13.250000</td>\n",
              "      <td>1.90</td>\n",
              "      <td>14.0</td>\n",
              "      <td>65.1</td>\n",
              "      <td>48.5</td>\n",
              "      <td>0.5</td>\n",
              "      <td>0.0</td>\n",
              "      <td>1.0</td>\n",
              "    </tr>\n",
              "  </tbody>\n",
              "</table>\n",
              "</div>"
            ],
            "text/plain": [
              "                 TV   Exercise     PhysEd  ...  FruitReg  VeggieReg  CompleteStreets\n",
              "Location                                   ...                                      \n",
              "AK        23.200000  20.066667  17.228571  ...       0.0        0.0              0.0\n",
              "AL        38.357143  24.500000  35.014286  ...       0.0        0.0              0.0\n",
              "AR        33.937500  25.833333  26.387500  ...       0.0        0.0              0.0\n",
              "AZ        28.875000  24.580000  27.912500  ...       1.0        0.0              0.0\n",
              "CA        20.750000  26.400000  36.700000  ...       0.5        0.0              1.0\n",
              "\n",
              "[5 rows x 13 columns]"
            ]
          },
          "metadata": {
            "tags": []
          },
          "execution_count": 116
        }
      ]
    },
    {
      "cell_type": "markdown",
      "metadata": {
        "id": "zDnHZzcJqjPh",
        "colab_type": "text"
      },
      "source": [
        "Let's store the values for the states with the lowest obesity rates. Those lowest in obesity and lowest in overweightness or obesity are identical, so we can use either one."
      ]
    },
    {
      "cell_type": "code",
      "metadata": {
        "id": "_2pgyYKUJpGi",
        "colab_type": "code",
        "outputId": "6f7d3914-6b3f-4372-fe3d-e27e05bf4919",
        "colab": {
          "base_uri": "https://localhost:8080/"
        }
      },
      "source": [
        "lowest_BMI = lowest_obesity.copy()\n",
        "lowest_BMI_mean_values = mean_values_by_location.loc[lowest_BMI].mean()\n",
        "lowest_BMI_mean_values"
      ],
      "execution_count": 0,
      "outputs": [
        {
          "output_type": "execute_result",
          "data": {
            "text/plain": [
              "TV                 21.440833\n",
              "Exercise           25.309000\n",
              "PhysEd             24.293056\n",
              "LackOfFruit        38.149444\n",
              "LackOfVeggies      33.139722\n",
              "Soda               20.358000\n",
              "FarmMarket          3.560000\n",
              "FoodHubs            1.500000\n",
              "NearPark           57.966667\n",
              "WIC                 6.900000\n",
              "FruitReg            0.000000\n",
              "VeggieReg           0.000000\n",
              "CompleteStreets     0.400000\n",
              "dtype: float64"
            ]
          },
          "metadata": {
            "tags": []
          },
          "execution_count": 117
        }
      ]
    },
    {
      "cell_type": "markdown",
      "metadata": {
        "id": "tdnOXJrFKIvY",
        "colab_type": "text"
      },
      "source": [
        "Let's do the same for the locations with the highest obesity rates. Here we must combine the two lists."
      ]
    },
    {
      "cell_type": "code",
      "metadata": {
        "id": "WbindqqMJo5o",
        "colab_type": "code",
        "outputId": "4244e847-ed07-4309-b8bd-cdf2361e2f66",
        "colab": {
          "base_uri": "https://localhost:8080/"
        }
      },
      "source": [
        "highest_BMI = highest_obesity.copy()\n",
        "highest_BMI.extend(highest_ovr_or_obesity)\n",
        "highest_BMI = list(np.unique(highest_BMI))\n",
        "highest_BMI_mean_values = mean_values_by_location.loc[highest_BMI].mean()\n",
        "highest_BMI_mean_values"
      ],
      "execution_count": 0,
      "outputs": [
        {
          "output_type": "execute_result",
          "data": {
            "text/plain": [
              "TV                 33.580655\n",
              "Exercise           23.533333\n",
              "PhysEd             24.365000\n",
              "LackOfFruit        49.196131\n",
              "LackOfVeggies      45.031548\n",
              "Soda               32.641389\n",
              "FarmMarket          2.000000\n",
              "FoodHubs            2.500000\n",
              "NearPark           24.475000\n",
              "WIC                19.800000\n",
              "FruitReg            0.266667\n",
              "VeggieReg           0.200000\n",
              "CompleteStreets     0.666667\n",
              "dtype: float64"
            ]
          },
          "metadata": {
            "tags": []
          },
          "execution_count": 118
        }
      ]
    },
    {
      "cell_type": "markdown",
      "metadata": {
        "id": "ZNyDGdr2KUkb",
        "colab_type": "text"
      },
      "source": [
        "Let's take a look at the U.S. average values as well."
      ]
    },
    {
      "cell_type": "code",
      "metadata": {
        "id": "iGQLi22EJiMN",
        "colab_type": "code",
        "outputId": "ff82743e-3143-4f44-b868-438be6700883",
        "colab": {
          "base_uri": "https://localhost:8080/"
        }
      },
      "source": [
        "us_avg_values = mean_values_by_location.loc['US']\n",
        "us_avg_values"
      ],
      "execution_count": 0,
      "outputs": [
        {
          "output_type": "execute_result",
          "data": {
            "text/plain": [
              "TV                  32.466667\n",
              "Exercise            27.250000\n",
              "PhysEd              30.866667\n",
              "LackOfFruit         38.022222\n",
              "LackOfVeggies       38.155556\n",
              "Soda                26.150000\n",
              "FarmMarket           2.200000\n",
              "FoodHubs           212.000000\n",
              "NearPark            46.400000\n",
              "WIC                 30.800000\n",
              "FruitReg             8.000000\n",
              "VeggieReg            2.750000\n",
              "CompleteStreets     32.333333\n",
              "Name: US, dtype: float64"
            ]
          },
          "metadata": {
            "tags": []
          },
          "execution_count": 119
        }
      ]
    },
    {
      "cell_type": "markdown",
      "metadata": {
        "id": "kXf_geL_Kden",
        "colab_type": "text"
      },
      "source": [
        "The **FoodHubs**, **FruitReg**, **VeggieReg**, and **CompleteStreets** factors represent amounts rather than percentages, so the data labeled 'US' is giving us a sum rather than an average. We can replace these incorrect numbers with averages taken across all states. The reason we did not just do this originally for all factors is that for those factors representing percentages, we do not want the simple average of the location data. We instead want the national average, which would be equal to the average of the location data weighted by location population per year. Calculating it this way would be far too tedious when we can simply use the data labeled 'US'."
      ]
    },
    {
      "cell_type": "code",
      "metadata": {
        "id": "IdTCcRJsLFi6",
        "colab_type": "code",
        "outputId": "b28bbbf9-1949-491b-d48b-4c06a2452121",
        "colab": {
          "base_uri": "https://localhost:8080/"
        }
      },
      "source": [
        "us_avg_values.loc[['FoodHubs','FruitReg','VeggieReg',\n",
        "    'CompleteStreets']] = mean_values_by_location.mean().loc[['FoodHubs',\n",
        "    'FruitReg','VeggieReg','CompleteStreets']]\n",
        "us_avg_values"
      ],
      "execution_count": 0,
      "outputs": [
        {
          "output_type": "execute_result",
          "data": {
            "text/plain": [
              "TV                 32.466667\n",
              "Exercise           27.250000\n",
              "PhysEd             30.866667\n",
              "LackOfFruit        38.022222\n",
              "LackOfVeggies      38.155556\n",
              "Soda               26.150000\n",
              "FarmMarket          2.200000\n",
              "FoodHubs            9.243902\n",
              "NearPark           46.400000\n",
              "WIC                30.800000\n",
              "FruitReg            0.323129\n",
              "VeggieReg           0.112245\n",
              "CompleteStreets     1.260000\n",
              "Name: US, dtype: float64"
            ]
          },
          "metadata": {
            "tags": []
          },
          "execution_count": 120
        }
      ]
    },
    {
      "cell_type": "markdown",
      "metadata": {
        "id": "TlhzmstSusTa",
        "colab_type": "text"
      },
      "source": [
        "Now we can plot how each factor differs between the lowest BMI locations, U.S. average, and the highest BMI locations. In order to better visualize all factors, we can normalize the data within each."
      ]
    },
    {
      "cell_type": "code",
      "metadata": {
        "id": "79fmLJHtOJlA",
        "colab_type": "code",
        "outputId": "cf1ea739-3515-4a86-91a7-4022a40d7015",
        "colab": {
          "base_uri": "https://localhost:8080/"
        }
      },
      "source": [
        "mean_values = pd.concat([lowest_BMI_mean_values, us_avg_values, highest_BMI_mean_values], axis=1)\n",
        "mean_values.columns = ['LowBMI', 'avg', 'HighBMI']\n",
        "lowest_BMI_normalized = mean_values.LowBMI/mean_values.max(axis=1)\n",
        "avg_BMI_normalized = mean_values.avg/mean_values.max(axis=1)\n",
        "highest_BMI_normalized = mean_values.HighBMI/mean_values.max(axis=1)\n",
        "\n",
        "labels = mean_values_by_location.columns\n",
        "labels.values[5] = '      Soda      '\n",
        "\n",
        "x = np.arange(len(labels))\n",
        "width = 0.25\n",
        "\n",
        "fig, ax = plt.subplots(figsize=(15,5))\n",
        "rects1 = ax.bar(x-width, lowest_BMI_normalized, width, color = '#3377EE',\n",
        "                label='Average for low-BMI locations')\n",
        "rects2 = ax.bar(x, avg_BMI_normalized, width, color = '#FFDD00',\n",
        "                label='U.S. average')\n",
        "rects3 = ax.bar(x+width, highest_BMI_normalized, width, color = '#FF4433',\n",
        "                label='Average for high-BMI locations')\n",
        "\n",
        "ax.set_ylabel(' ')\n",
        "ax.set_title('Metrics for high- and low-BMI locations vs. U.S. average')\n",
        "ax.set_xticks(x)\n",
        "ax.set_xticklabels(labels, rotation=15)\n",
        "ax.get_yaxis().set_visible(False)\n",
        "ax.set_ylim(top=1.4)\n",
        "ax.legend(prop={'size': 13})\n",
        "\n",
        "plt.margins(.0125)\n",
        "plt.tight_layout()\n",
        "plt.show()"
      ],
      "execution_count": 0,
      "outputs": [
        {
          "output_type": "display_data",
          "data": {
            "image/png": "[encoded data removed]",
            "text/plain": [
              "<Figure size 1080x360 with 1 Axes>"
            ]
          },
          "metadata": {
            "tags": []
          }
        }
      ]
    },
    {
      "cell_type": "markdown",
      "metadata": {
        "id": "ZWSAgM1pcJMf",
        "colab_type": "text"
      },
      "source": [
        "For certain factors, the low-BMI average and high-BMI average are on opposite sides of the national average, suggesting a possible correlation between that factor and obesity rates. We can validate this analysis by calculating the Pearson correlation coefficient between all columns in our data and visualizing in a heat map."
      ]
    },
    {
      "cell_type": "code",
      "metadata": {
        "id": "gW6TRi50My5P",
        "colab_type": "code",
        "outputId": "2b95ece9-90e3-4ff4-9ff7-267bde65a0dd",
        "colab": {
          "base_uri": "https://localhost:8080/"
        }
      },
      "source": [
        "fig, (ax1, ax2, ax3, ax4) = plt.subplots(4, 1, sharex=True, figsize=(10,9))\n",
        "\n",
        "ax1.set_title('By location')\n",
        "df = obesity[~(obesity.Location == 'US') & (obesity.Group == 'Total')]\n",
        "heatmap(df.corr().drop(columns=['Year','Obese','OverweightOrObese']\n",
        "    ).loc[['Obese','OverweightOrObese']], vmin=-1, vmax=1, annot=True, fmt=\".2f\",\n",
        "    cmap='RdBu_r', cbar=False, ax=ax1)\n",
        "\n",
        "ax2.set_title('By location and school grade')\n",
        "df = obesity[~(obesity.Location == 'US') & (obesity.Group.isin(grade_grouping))]\n",
        "heatmap(df.corr().drop(columns=['Year','Obese','OverweightOrObese']\n",
        "    ).loc[['Obese','OverweightOrObese']], vmin=-1, vmax=1, annot=True, fmt=\".2f\",\n",
        "    cmap='RdBu_r', cbar=False, ax=ax2)\n",
        "\n",
        "ax3.set_title('By location and gender')\n",
        "df = obesity[~(obesity.Location == 'US') & (obesity.Group.isin(gender_grouping))]\n",
        "heatmap(df.corr().drop(columns=['Year','Obese','OverweightOrObese']\n",
        "    ).loc[['Obese','OverweightOrObese']], vmin=-1, vmax=1, annot=True, fmt=\".2f\",\n",
        "    cmap='RdBu_r', cbar=False, ax=ax3)\n",
        "\n",
        "ax4.set_title('By location and race/ethnicity')\n",
        "df = obesity[~(obesity.Location == 'US') & (obesity.Group.isin(race_ethnicity_grouping))]\n",
        "heatmap(df.corr().drop(columns=['Year','Obese','OverweightOrObese']\n",
        "    ).loc[['Obese','OverweightOrObese']], vmin=-1, vmax=1, annot=True, fmt=\".2f\",\n",
        "    cmap='RdBu_r', cbar=False, ax=ax4)\n",
        "\n",
        "plt.setp(ax1.get_yticklabels(), rotation=0)\n",
        "plt.setp(ax2.get_yticklabels(), rotation=0)\n",
        "plt.setp(ax3.get_yticklabels(), rotation=0)\n",
        "plt.setp(ax4.get_yticklabels(), rotation=0)\n",
        "plt.tight_layout(2)\n",
        "plt.show()"
      ],
      "execution_count": 0,
      "outputs": [
        {
          "output_type": "display_data",
          "data": {
            "image/png": "[encoded data removed]",
            "text/plain": [
              "<Figure size 720x648 with 4 Axes>"
            ]
          },
          "metadata": {
            "tags": []
          }
        }
      ]
    },
    {
      "cell_type": "markdown",
      "metadata": {
        "id": "5_JrkZTYECF2",
        "colab_type": "text"
      },
      "source": [
        "### Evaluation"
      ]
    },
    {
      "cell_type": "markdown",
      "metadata": {
        "id": "7S_2rkI-UoV-",
        "colab_type": "text"
      },
      "source": [
        "Low-BMI locations have percentages lower than the national average of high-school students that \"watch 3 or more hours of television each school day\", \"consume vegetables less than 1 time daily\", and \"drink regular soda/pop at least one time per day\". Meanwhile, high-BMI locations have percentages higher than the national average for these same categories, as well as for students \"consuming fruit less than 1 time daily\".\n",
        "\n",
        "Low-BMI locations also have more farmers markets per capita and more people living within half a mile of a park than the national average, while high-BMI locations have fewer of these than the national average. Interestingly, none of the low-BMI locations during any of the years in this data have \"state child care regulations that align with national standards for serving fruits\" or likewise for vegetables. High-BMI locations have these regulations for serving vegetables at rates higher than average, but not for fruits. Perhaps the high-BMI locations have attempted to address their obesity rates through regulations, while the low-BMI locations have not seen the need.\n",
        "\n",
        "The correlation coefficients of factors mostly match what we saw in the bar chart. Watching TV, drinking soda, eating fruits less often, and especially eating vegetables less often are positively correlated with higher obesity rates across the statewide data, grade-grouped data, gender-grouped data, and race/ethnicity-grouped data. Living near a park is negatively correlated with higher obesity rates across these data groups. However, the numbers of farmers markets per capita and the prevalence of vegetable regulations do not appear strongly correlated, in contrast to the what the bar chart visualization implies.\n",
        "\n",
        "These analyses highlight some of the nutritional, behavioral, institutional, and environmental factors that are most associated with obesity rates. However, it is important to remember that for the policy/environmental factors, we do not have population-specific data. In the correlation across location and race/ethnicity for example, we are looking at the correlation between obesity rates in different racial/ethnic groups across many locations versus the percent of all students in that location, regardless of racial/ethnic group, living within half a mile of a park. With more detailed data we would be able to further refine this analysis and consider more specific questions."
      ]
    },
    {
      "cell_type": "markdown",
      "metadata": {
        "id": "Wv_DufB1hV9Y",
        "colab_type": "text"
      },
      "source": [
        "# Question 4: Can we predict obesity rates?"
      ]
    },
    {
      "cell_type": "markdown",
      "metadata": {
        "id": "CvdcNQbiJi7k",
        "colab_type": "text"
      },
      "source": [
        "### Data Understanding"
      ]
    },
    {
      "cell_type": "markdown",
      "metadata": {
        "id": "t2BSOqHxIGrl",
        "colab_type": "text"
      },
      "source": [
        "The correlation calculation we performed quantifies the degree to which there is a linear relationship between our metrics of interest and an associated risk factor. However, it does not take into account the other factors. To do that we can train a linear regression model on the data and see what factors are most important for model performance.\n",
        "\n",
        "Let's take a look at the factors that will be in our model."
      ]
    },
    {
      "cell_type": "code",
      "metadata": {
        "id": "dEJRjvMaLgtu",
        "colab_type": "code",
        "outputId": "5e740719-2604-492e-877f-f319a5cedd97",
        "colab": {
          "base_uri": "https://localhost:8080/"
        }
      },
      "source": [
        "obesity.describe()[['TV','Exercise','PhysEd','LackOfFruit','LackOfVeggies',\n",
        "    'Soda','FarmMarket','FoodHubs','NearPark','WIC','FruitReg','VeggieReg',\n",
        "    'CompleteStreets']].loc[['min','max','std','count']]"
      ],
      "execution_count": 0,
      "outputs": [
        {
          "output_type": "execute_result",
          "data": {
            "text/html": [
              "<div>\n",
              "<style scoped>\n",
              "    .dataframe tbody tr th:only-of-type {\n",
              "        vertical-align: middle;\n",
              "    }\n",
              "\n",
              "    .dataframe tbody tr th {\n",
              "        vertical-align: top;\n",
              "    }\n",
              "\n",
              "    .dataframe thead th {\n",
              "        text-align: right;\n",
              "    }\n",
              "</style>\n",
              "<table border=\"1\" class=\"dataframe\">\n",
              "  <thead>\n",
              "    <tr style=\"text-align: right;\">\n",
              "      <th></th>\n",
              "      <th>TV</th>\n",
              "      <th>Exercise</th>\n",
              "      <th>PhysEd</th>\n",
              "      <th>LackOfFruit</th>\n",
              "      <th>LackOfVeggies</th>\n",
              "      <th>Soda</th>\n",
              "      <th>FarmMarket</th>\n",
              "      <th>FoodHubs</th>\n",
              "      <th>NearPark</th>\n",
              "      <th>WIC</th>\n",
              "      <th>FruitReg</th>\n",
              "      <th>VeggieReg</th>\n",
              "      <th>CompleteStreets</th>\n",
              "    </tr>\n",
              "  </thead>\n",
              "  <tbody>\n",
              "    <tr>\n",
              "      <th>min</th>\n",
              "      <td>7.800000</td>\n",
              "      <td>7.40000</td>\n",
              "      <td>0.000000</td>\n",
              "      <td>14.400000</td>\n",
              "      <td>13.500000</td>\n",
              "      <td>2.900000</td>\n",
              "      <td>0.200000</td>\n",
              "      <td>0.000000</td>\n",
              "      <td>14.400000</td>\n",
              "      <td>0.000000</td>\n",
              "      <td>0.000000</td>\n",
              "      <td>0.000000</td>\n",
              "      <td>0.000000</td>\n",
              "    </tr>\n",
              "    <tr>\n",
              "      <th>max</th>\n",
              "      <td>73.800000</td>\n",
              "      <td>67.40000</td>\n",
              "      <td>81.900000</td>\n",
              "      <td>59.500000</td>\n",
              "      <td>67.500000</td>\n",
              "      <td>51.200000</td>\n",
              "      <td>14.900000</td>\n",
              "      <td>212.000000</td>\n",
              "      <td>95.700000</td>\n",
              "      <td>83.300000</td>\n",
              "      <td>9.000000</td>\n",
              "      <td>4.000000</td>\n",
              "      <td>35.000000</td>\n",
              "    </tr>\n",
              "    <tr>\n",
              "      <th>std</th>\n",
              "      <td>10.072204</td>\n",
              "      <td>5.88483</td>\n",
              "      <td>12.480206</td>\n",
              "      <td>5.719986</td>\n",
              "      <td>6.969569</td>\n",
              "      <td>8.402084</td>\n",
              "      <td>2.543463</td>\n",
              "      <td>36.110206</td>\n",
              "      <td>19.819794</td>\n",
              "      <td>22.996295</td>\n",
              "      <td>1.392719</td>\n",
              "      <td>0.527447</td>\n",
              "      <td>5.433716</td>\n",
              "    </tr>\n",
              "    <tr>\n",
              "      <th>count</th>\n",
              "      <td>3466.000000</td>\n",
              "      <td>2483.00000</td>\n",
              "      <td>3326.000000</td>\n",
              "      <td>3435.000000</td>\n",
              "      <td>3144.000000</td>\n",
              "      <td>2567.000000</td>\n",
              "      <td>905.000000</td>\n",
              "      <td>455.000000</td>\n",
              "      <td>436.000000</td>\n",
              "      <td>455.000000</td>\n",
              "      <td>1828.000000</td>\n",
              "      <td>1828.000000</td>\n",
              "      <td>1371.000000</td>\n",
              "    </tr>\n",
              "  </tbody>\n",
              "</table>\n",
              "</div>"
            ],
            "text/plain": [
              "                TV    Exercise  ...    VeggieReg  CompleteStreets\n",
              "min       7.800000     7.40000  ...     0.000000         0.000000\n",
              "max      73.800000    67.40000  ...     4.000000        35.000000\n",
              "std      10.072204     5.88483  ...     0.527447         5.433716\n",
              "count  3466.000000  2483.00000  ...  1828.000000      1371.000000\n",
              "\n",
              "[4 rows x 13 columns]"
            ]
          },
          "metadata": {
            "tags": []
          },
          "execution_count": 123
        }
      ]
    },
    {
      "cell_type": "markdown",
      "metadata": {
        "id": "QH0FCaDeNyM0",
        "colab_type": "text"
      },
      "source": [
        "The factors vary in their ranges, but from the standard deviation we can see that none have only one value. Some have many missing values, which we will need to fill somehow."
      ]
    },
    {
      "cell_type": "markdown",
      "metadata": {
        "id": "LiwAbcBqLcUq",
        "colab_type": "text"
      },
      "source": [
        "### Data Preparation"
      ]
    },
    {
      "cell_type": "markdown",
      "metadata": {
        "id": "ojR66kFzLYgr",
        "colab_type": "text"
      },
      "source": [
        "Let's start with the data across all locations and drop the columns we don't want to be in the model."
      ]
    },
    {
      "cell_type": "code",
      "metadata": {
        "id": "cyXnOtUNKZI8",
        "colab_type": "code",
        "outputId": "e8663ebd-995b-4a4a-a5cc-6aac5f302c08",
        "colab": {
          "base_uri": "https://localhost:8080/"
        }
      },
      "source": [
        "df = obesity[~(obesity.Location == 'US') & (obesity.Group == 'Total')]\n",
        "df.drop(columns=['Year','Location','Group','OverweightOrObese'], inplace=True)\n",
        "df.head()"
      ],
      "execution_count": 0,
      "outputs": [
        {
          "output_type": "execute_result",
          "data": {
            "text/html": [
              "<div>\n",
              "<style scoped>\n",
              "    .dataframe tbody tr th:only-of-type {\n",
              "        vertical-align: middle;\n",
              "    }\n",
              "\n",
              "    .dataframe tbody tr th {\n",
              "        vertical-align: top;\n",
              "    }\n",
              "\n",
              "    .dataframe thead th {\n",
              "        text-align: right;\n",
              "    }\n",
              "</style>\n",
              "<table border=\"1\" class=\"dataframe\">\n",
              "  <thead>\n",
              "    <tr style=\"text-align: right;\">\n",
              "      <th></th>\n",
              "      <th>TV</th>\n",
              "      <th>Exercise</th>\n",
              "      <th>PhysEd</th>\n",
              "      <th>LackOfFruit</th>\n",
              "      <th>LackOfVeggies</th>\n",
              "      <th>Soda</th>\n",
              "      <th>FarmMarket</th>\n",
              "      <th>FoodHubs</th>\n",
              "      <th>NearPark</th>\n",
              "      <th>WIC</th>\n",
              "      <th>FruitReg</th>\n",
              "      <th>VeggieReg</th>\n",
              "      <th>CompleteStreets</th>\n",
              "      <th>Obese</th>\n",
              "    </tr>\n",
              "  </thead>\n",
              "  <tbody>\n",
              "    <tr>\n",
              "      <th>8</th>\n",
              "      <td>46.1</td>\n",
              "      <td>NaN</td>\n",
              "      <td>31.8</td>\n",
              "      <td>53.9</td>\n",
              "      <td>45.9</td>\n",
              "      <td>NaN</td>\n",
              "      <td>NaN</td>\n",
              "      <td>NaN</td>\n",
              "      <td>NaN</td>\n",
              "      <td>NaN</td>\n",
              "      <td>NaN</td>\n",
              "      <td>NaN</td>\n",
              "      <td>NaN</td>\n",
              "      <td>12.3</td>\n",
              "    </tr>\n",
              "    <tr>\n",
              "      <th>17</th>\n",
              "      <td>42.9</td>\n",
              "      <td>NaN</td>\n",
              "      <td>30.2</td>\n",
              "      <td>46.0</td>\n",
              "      <td>39.2</td>\n",
              "      <td>NaN</td>\n",
              "      <td>NaN</td>\n",
              "      <td>NaN</td>\n",
              "      <td>NaN</td>\n",
              "      <td>NaN</td>\n",
              "      <td>NaN</td>\n",
              "      <td>NaN</td>\n",
              "      <td>NaN</td>\n",
              "      <td>13.7</td>\n",
              "    </tr>\n",
              "    <tr>\n",
              "      <th>27</th>\n",
              "      <td>40.7</td>\n",
              "      <td>NaN</td>\n",
              "      <td>32.0</td>\n",
              "      <td>34.2</td>\n",
              "      <td>31.7</td>\n",
              "      <td>NaN</td>\n",
              "      <td>NaN</td>\n",
              "      <td>NaN</td>\n",
              "      <td>NaN</td>\n",
              "      <td>NaN</td>\n",
              "      <td>NaN</td>\n",
              "      <td>NaN</td>\n",
              "      <td>NaN</td>\n",
              "      <td>10.7</td>\n",
              "    </tr>\n",
              "    <tr>\n",
              "      <th>38</th>\n",
              "      <td>44.9</td>\n",
              "      <td>NaN</td>\n",
              "      <td>25.4</td>\n",
              "      <td>42.2</td>\n",
              "      <td>40.8</td>\n",
              "      <td>NaN</td>\n",
              "      <td>NaN</td>\n",
              "      <td>NaN</td>\n",
              "      <td>NaN</td>\n",
              "      <td>NaN</td>\n",
              "      <td>NaN</td>\n",
              "      <td>NaN</td>\n",
              "      <td>NaN</td>\n",
              "      <td>10.1</td>\n",
              "    </tr>\n",
              "    <tr>\n",
              "      <th>47</th>\n",
              "      <td>24.1</td>\n",
              "      <td>NaN</td>\n",
              "      <td>30.4</td>\n",
              "      <td>40.1</td>\n",
              "      <td>32.2</td>\n",
              "      <td>NaN</td>\n",
              "      <td>NaN</td>\n",
              "      <td>NaN</td>\n",
              "      <td>NaN</td>\n",
              "      <td>NaN</td>\n",
              "      <td>NaN</td>\n",
              "      <td>NaN</td>\n",
              "      <td>NaN</td>\n",
              "      <td>7.2</td>\n",
              "    </tr>\n",
              "  </tbody>\n",
              "</table>\n",
              "</div>"
            ],
            "text/plain": [
              "      TV  Exercise  PhysEd  ...  VeggieReg  CompleteStreets  Obese\n",
              "8   46.1       NaN    31.8  ...        NaN              NaN   12.3\n",
              "17  42.9       NaN    30.2  ...        NaN              NaN   13.7\n",
              "27  40.7       NaN    32.0  ...        NaN              NaN   10.7\n",
              "38  44.9       NaN    25.4  ...        NaN              NaN   10.1\n",
              "47  24.1       NaN    30.4  ...        NaN              NaN    7.2\n",
              "\n",
              "[5 rows x 14 columns]"
            ]
          },
          "metadata": {
            "tags": []
          },
          "execution_count": 124
        }
      ]
    },
    {
      "cell_type": "markdown",
      "metadata": {
        "id": "fcoLED4xLEJG",
        "colab_type": "text"
      },
      "source": [
        "A common strategy to handle missing values is to impute (fill) them with a single value based on the statistics of that column. Let's use scikit-learn's **SimpleImputer** to do this with the mode (the most frequent value)."
      ]
    },
    {
      "cell_type": "code",
      "metadata": {
        "id": "dXWRNg25LCd8",
        "colab_type": "code",
        "outputId": "4808af8d-62cc-49c7-b6b4-d570c44e469c",
        "colab": {
          "base_uri": "https://localhost:8080/"
        }
      },
      "source": [
        "imp = impute.SimpleImputer(strategy='most_frequent')\n",
        "df[df.columns] = imp.fit_transform(df[df.columns])\n",
        "df.head()"
      ],
      "execution_count": 0,
      "outputs": [
        {
          "output_type": "execute_result",
          "data": {
            "text/html": [
              "<div>\n",
              "<style scoped>\n",
              "    .dataframe tbody tr th:only-of-type {\n",
              "        vertical-align: middle;\n",
              "    }\n",
              "\n",
              "    .dataframe tbody tr th {\n",
              "        vertical-align: top;\n",
              "    }\n",
              "\n",
              "    .dataframe thead th {\n",
              "        text-align: right;\n",
              "    }\n",
              "</style>\n",
              "<table border=\"1\" class=\"dataframe\">\n",
              "  <thead>\n",
              "    <tr style=\"text-align: right;\">\n",
              "      <th></th>\n",
              "      <th>TV</th>\n",
              "      <th>Exercise</th>\n",
              "      <th>PhysEd</th>\n",
              "      <th>LackOfFruit</th>\n",
              "      <th>LackOfVeggies</th>\n",
              "      <th>Soda</th>\n",
              "      <th>FarmMarket</th>\n",
              "      <th>FoodHubs</th>\n",
              "      <th>NearPark</th>\n",
              "      <th>WIC</th>\n",
              "      <th>FruitReg</th>\n",
              "      <th>VeggieReg</th>\n",
              "      <th>CompleteStreets</th>\n",
              "      <th>Obese</th>\n",
              "    </tr>\n",
              "  </thead>\n",
              "  <tbody>\n",
              "    <tr>\n",
              "      <th>8</th>\n",
              "      <td>46.1</td>\n",
              "      <td>25.4</td>\n",
              "      <td>31.8</td>\n",
              "      <td>53.9</td>\n",
              "      <td>45.9</td>\n",
              "      <td>18.2</td>\n",
              "      <td>1.6</td>\n",
              "      <td>2.0</td>\n",
              "      <td>14.4</td>\n",
              "      <td>0.0</td>\n",
              "      <td>0.0</td>\n",
              "      <td>0.0</td>\n",
              "      <td>1.0</td>\n",
              "      <td>12.3</td>\n",
              "    </tr>\n",
              "    <tr>\n",
              "      <th>17</th>\n",
              "      <td>42.9</td>\n",
              "      <td>25.4</td>\n",
              "      <td>30.2</td>\n",
              "      <td>46.0</td>\n",
              "      <td>39.2</td>\n",
              "      <td>18.2</td>\n",
              "      <td>1.6</td>\n",
              "      <td>2.0</td>\n",
              "      <td>14.4</td>\n",
              "      <td>0.0</td>\n",
              "      <td>0.0</td>\n",
              "      <td>0.0</td>\n",
              "      <td>1.0</td>\n",
              "      <td>13.7</td>\n",
              "    </tr>\n",
              "    <tr>\n",
              "      <th>27</th>\n",
              "      <td>40.7</td>\n",
              "      <td>25.4</td>\n",
              "      <td>32.0</td>\n",
              "      <td>34.2</td>\n",
              "      <td>31.7</td>\n",
              "      <td>18.2</td>\n",
              "      <td>1.6</td>\n",
              "      <td>2.0</td>\n",
              "      <td>14.4</td>\n",
              "      <td>0.0</td>\n",
              "      <td>0.0</td>\n",
              "      <td>0.0</td>\n",
              "      <td>1.0</td>\n",
              "      <td>10.7</td>\n",
              "    </tr>\n",
              "    <tr>\n",
              "      <th>38</th>\n",
              "      <td>44.9</td>\n",
              "      <td>25.4</td>\n",
              "      <td>25.4</td>\n",
              "      <td>42.2</td>\n",
              "      <td>40.8</td>\n",
              "      <td>18.2</td>\n",
              "      <td>1.6</td>\n",
              "      <td>2.0</td>\n",
              "      <td>14.4</td>\n",
              "      <td>0.0</td>\n",
              "      <td>0.0</td>\n",
              "      <td>0.0</td>\n",
              "      <td>1.0</td>\n",
              "      <td>10.1</td>\n",
              "    </tr>\n",
              "    <tr>\n",
              "      <th>47</th>\n",
              "      <td>24.1</td>\n",
              "      <td>25.4</td>\n",
              "      <td>30.4</td>\n",
              "      <td>40.1</td>\n",
              "      <td>32.2</td>\n",
              "      <td>18.2</td>\n",
              "      <td>1.6</td>\n",
              "      <td>2.0</td>\n",
              "      <td>14.4</td>\n",
              "      <td>0.0</td>\n",
              "      <td>0.0</td>\n",
              "      <td>0.0</td>\n",
              "      <td>1.0</td>\n",
              "      <td>7.2</td>\n",
              "    </tr>\n",
              "  </tbody>\n",
              "</table>\n",
              "</div>"
            ],
            "text/plain": [
              "      TV  Exercise  PhysEd  ...  VeggieReg  CompleteStreets  Obese\n",
              "8   46.1      25.4    31.8  ...        0.0              1.0   12.3\n",
              "17  42.9      25.4    30.2  ...        0.0              1.0   13.7\n",
              "27  40.7      25.4    32.0  ...        0.0              1.0   10.7\n",
              "38  44.9      25.4    25.4  ...        0.0              1.0   10.1\n",
              "47  24.1      25.4    30.4  ...        0.0              1.0    7.2\n",
              "\n",
              "[5 rows x 14 columns]"
            ]
          },
          "metadata": {
            "tags": []
          },
          "execution_count": 125
        }
      ]
    },
    {
      "cell_type": "markdown",
      "metadata": {
        "id": "l2ClVIQsKARx",
        "colab_type": "text"
      },
      "source": [
        "### Modeling"
      ]
    },
    {
      "cell_type": "markdown",
      "metadata": {
        "id": "NtPT5Ao_Loko",
        "colab_type": "text"
      },
      "source": [
        "Now we will split the data into a training set and a test set, build a linear regression model, train it, and use it to make predictions of obesity rates based on the data."
      ]
    },
    {
      "cell_type": "code",
      "metadata": {
        "id": "5heTEf0ULnmQ",
        "colab_type": "code",
        "colab": {}
      },
      "source": [
        "X = df.drop('Obese', axis=1)\n",
        "y = df['Obese']\n",
        "X_train, X_test, y_train, y_test = train_test_split(X, y, test_size=.3, random_state=42)\n",
        "model = linear_model.LinearRegression()\n",
        "model.fit(X_train, y_train)\n",
        "y_train_preds = model.predict(X_train)\n",
        "y_test_preds = model.predict(X_test)"
      ],
      "execution_count": 0,
      "outputs": []
    },
    {
      "cell_type": "markdown",
      "metadata": {
        "id": "Tx5CKDOVVnCS",
        "colab_type": "text"
      },
      "source": [
        "We can use the describe function from SciPy to look at the minimum and maximum of the training set and test set predictions. The percent of students that are obese can never be less than 0 or greater than 100. If any predictions fall outside these boundaries, or even if they are close, then linear regression could be a bad choice."
      ]
    },
    {
      "cell_type": "code",
      "metadata": {
        "id": "rpdd3VVGUOks",
        "colab_type": "code",
        "outputId": "bda470b1-9be6-49c5-a4b5-66338e2dae2f",
        "colab": {
          "base_uri": "https://localhost:8080/",
          "height": 35
        }
      },
      "source": [
        "stats.describe(y_train_preds)[1]"
      ],
      "execution_count": 0,
      "outputs": [
        {
          "output_type": "execute_result",
          "data": {
            "text/plain": [
              "(7.747373170843311, 17.959556265718824)"
            ]
          },
          "metadata": {
            "tags": []
          },
          "execution_count": 127
        }
      ]
    },
    {
      "cell_type": "code",
      "metadata": {
        "id": "oTLb87zRUO1V",
        "colab_type": "code",
        "outputId": "c9d4cfe9-631c-4ec6-e39f-90f9deb87450",
        "colab": {
          "base_uri": "https://localhost:8080/",
          "height": 35
        }
      },
      "source": [
        "stats.describe(y_test_preds)[1]"
      ],
      "execution_count": 0,
      "outputs": [
        {
          "output_type": "execute_result",
          "data": {
            "text/plain": [
              "(7.432411177000436, 18.45203789677136)"
            ]
          },
          "metadata": {
            "tags": []
          },
          "execution_count": 128
        }
      ]
    },
    {
      "cell_type": "markdown",
      "metadata": {
        "id": "Liw4mFU6WNDp",
        "colab_type": "text"
      },
      "source": [
        "Not only are these percentages possible, they seem reasonable based on what we know about the data. Now we can quantify the accuracy of our model using the coefficient of determination between our predictions and the correct predictions."
      ]
    },
    {
      "cell_type": "code",
      "metadata": {
        "id": "42KJYj6rMlQ-",
        "colab_type": "code",
        "outputId": "ae7910c4-6fbc-4935-95df-e8620d9771e8",
        "colab": {
          "base_uri": "https://localhost:8080/",
          "height": 35
        }
      },
      "source": [
        "r2_score(y_train, y_train_preds)"
      ],
      "execution_count": 0,
      "outputs": [
        {
          "output_type": "execute_result",
          "data": {
            "text/plain": [
              "0.5350002085910034"
            ]
          },
          "metadata": {
            "tags": []
          },
          "execution_count": 129
        }
      ]
    },
    {
      "cell_type": "code",
      "metadata": {
        "id": "p8V9l71cMnyV",
        "colab_type": "code",
        "outputId": "e95d6308-ebe5-4d20-bbcb-10a3e6b2aade",
        "colab": {
          "base_uri": "https://localhost:8080/",
          "height": 35
        }
      },
      "source": [
        "r2_score(y_test, y_test_preds)"
      ],
      "execution_count": 0,
      "outputs": [
        {
          "output_type": "execute_result",
          "data": {
            "text/plain": [
              "0.4844578297183506"
            ]
          },
          "metadata": {
            "tags": []
          },
          "execution_count": 130
        }
      ]
    },
    {
      "cell_type": "markdown",
      "metadata": {
        "id": "PfI0eCUsMQlP",
        "colab_type": "text"
      },
      "source": [
        "Model accuracy is only 53.5% for the training set. So even when considering all factors at once and being given all the right answers, a linear model can only achieve so much. The data is far from perfectly correlated.\n",
        "\n",
        "The model accuracy for the test set is 48.4%, not far behind the training score. The model is generalizing fairly well to new samples, despite both scores being lower than we might like.\n",
        "\n",
        "Now let's look at which factors the model weights most heavily."
      ]
    },
    {
      "cell_type": "code",
      "metadata": {
        "id": "SlKjcPfuI1wT",
        "colab_type": "code",
        "outputId": "79b6df03-3685-4b4d-bf72-73b5b2835257",
        "colab": {
          "base_uri": "https://localhost:8080/",
          "height": 452
        }
      },
      "source": [
        "pd.DataFrame(index=X.columns, data=model.coef_, columns = ['coef']\n",
        "             ).sort_values(by='coef', ascending=False)"
      ],
      "execution_count": 0,
      "outputs": [
        {
          "output_type": "execute_result",
          "data": {
            "text/html": [
              "<div>\n",
              "<style scoped>\n",
              "    .dataframe tbody tr th:only-of-type {\n",
              "        vertical-align: middle;\n",
              "    }\n",
              "\n",
              "    .dataframe tbody tr th {\n",
              "        vertical-align: top;\n",
              "    }\n",
              "\n",
              "    .dataframe thead th {\n",
              "        text-align: right;\n",
              "    }\n",
              "</style>\n",
              "<table border=\"1\" class=\"dataframe\">\n",
              "  <thead>\n",
              "    <tr style=\"text-align: right;\">\n",
              "      <th></th>\n",
              "      <th>coef</th>\n",
              "    </tr>\n",
              "  </thead>\n",
              "  <tbody>\n",
              "    <tr>\n",
              "      <th>VeggieReg</th>\n",
              "      <td>2.120486</td>\n",
              "    </tr>\n",
              "    <tr>\n",
              "      <th>FarmMarket</th>\n",
              "      <td>0.278491</td>\n",
              "    </tr>\n",
              "    <tr>\n",
              "      <th>FoodHubs</th>\n",
              "      <td>0.189022</td>\n",
              "    </tr>\n",
              "    <tr>\n",
              "      <th>LackOfFruit</th>\n",
              "      <td>0.172434</td>\n",
              "    </tr>\n",
              "    <tr>\n",
              "      <th>LackOfVeggies</th>\n",
              "      <td>0.123616</td>\n",
              "    </tr>\n",
              "    <tr>\n",
              "      <th>Soda</th>\n",
              "      <td>0.102210</td>\n",
              "    </tr>\n",
              "    <tr>\n",
              "      <th>FruitReg</th>\n",
              "      <td>0.089011</td>\n",
              "    </tr>\n",
              "    <tr>\n",
              "      <th>TV</th>\n",
              "      <td>0.047538</td>\n",
              "    </tr>\n",
              "    <tr>\n",
              "      <th>WIC</th>\n",
              "      <td>0.032109</td>\n",
              "    </tr>\n",
              "    <tr>\n",
              "      <th>NearPark</th>\n",
              "      <td>0.022892</td>\n",
              "    </tr>\n",
              "    <tr>\n",
              "      <th>Exercise</th>\n",
              "      <td>0.008915</td>\n",
              "    </tr>\n",
              "    <tr>\n",
              "      <th>PhysEd</th>\n",
              "      <td>-0.015453</td>\n",
              "    </tr>\n",
              "    <tr>\n",
              "      <th>CompleteStreets</th>\n",
              "      <td>-1.249408</td>\n",
              "    </tr>\n",
              "  </tbody>\n",
              "</table>\n",
              "</div>"
            ],
            "text/plain": [
              "                     coef\n",
              "VeggieReg        2.120486\n",
              "FarmMarket       0.278491\n",
              "FoodHubs         0.189022\n",
              "LackOfFruit      0.172434\n",
              "LackOfVeggies    0.123616\n",
              "Soda             0.102210\n",
              "FruitReg         0.089011\n",
              "TV               0.047538\n",
              "WIC              0.032109\n",
              "NearPark         0.022892\n",
              "Exercise         0.008915\n",
              "PhysEd          -0.015453\n",
              "CompleteStreets -1.249408"
            ]
          },
          "metadata": {
            "tags": []
          },
          "execution_count": 131
        }
      ]
    },
    {
      "cell_type": "markdown",
      "metadata": {
        "id": "EBaiHL5iO6gB",
        "colab_type": "text"
      },
      "source": [
        "Negative values indicate that the model predicts lower obesity when the factor value is high, while for positive coefficients it predicts higher rates. The absolute value of the coefficient represents the degree of influence of that factor on model predictions. Currently **VeggieReg** and **CompleteStreets** are being considered most heavily by the model. From the bar chart we saw that these factors, especially **VeggieReg**, seem to be correlated with geographic lcoation.\n",
        "\n",
        "Will model performance improve if we consider geographic location? Rather than training the model on the specific state or territory, let's take a broader approach. We can use the four regions of the country defined by the [U.S. Census Bureau](https://www2.census.gov/geo/pdfs/maps-data/maps/reference/us_regdiv.pdf): Northeast, Midwest, South, and West. Territories are not classified in a region, so we will group them in a separate class."
      ]
    },
    {
      "cell_type": "code",
      "metadata": {
        "id": "AnkEegU2Sf53",
        "colab_type": "code",
        "outputId": "e6619005-0859-4f73-f171-bbac4a2d8ddd",
        "colab": {
          "base_uri": "https://localhost:8080/",
          "height": 224
        }
      },
      "source": [
        "west = ['AK', 'HI', 'WA', 'OR', 'CA', 'NV', 'ID', 'MT', 'WY', 'UT', 'CO', 'AZ', 'NM']\n",
        "midwest = ['ND', 'SD', 'NE', 'KS', 'MN', 'IA', 'MO', 'WI', 'IL', 'IN', 'MI', 'OH']\n",
        "south = ['TX', 'OK', 'AR', 'LA', 'KY', 'TN', 'MS', 'AL', 'WV', 'MD', 'DE', 'DC', 'VA', 'NC', 'SC', 'GA', 'FL']\n",
        "northeast = ['PA', 'NJ', 'NY', 'CT', 'RI', 'MA', 'VT', 'NH', 'ME']\n",
        "territories = ['VI', 'GU', 'PR']\n",
        "\n",
        "obesity['Region'] = obesity.Location.apply(\n",
        "    lambda x: 'West' if x in west else 'Midwest' if x in midwest else 'South'\n",
        "    if x in south else 'Northeast' if x in northeast else 'Territories'\n",
        "    if x in territories else 'Other')\n",
        "obesity = obesity[['Year', 'Location', 'Region', 'Group', 'TV', 'Exercise',\n",
        "    'PhysEd', 'LackOfFruit', 'LackOfVeggies', 'Soda', 'FarmMarket', 'FoodHubs',\n",
        "    'NearPark', 'WIC', 'FruitReg', 'VeggieReg', 'CompleteStreets', 'Obese',\n",
        "    'OverweightOrObese']]\n",
        "obesity.head()"
      ],
      "execution_count": 0,
      "outputs": [
        {
          "output_type": "execute_result",
          "data": {
            "text/html": [
              "<div>\n",
              "<style scoped>\n",
              "    .dataframe tbody tr th:only-of-type {\n",
              "        vertical-align: middle;\n",
              "    }\n",
              "\n",
              "    .dataframe tbody tr th {\n",
              "        vertical-align: top;\n",
              "    }\n",
              "\n",
              "    .dataframe thead th {\n",
              "        text-align: right;\n",
              "    }\n",
              "</style>\n",
              "<table border=\"1\" class=\"dataframe\">\n",
              "  <thead>\n",
              "    <tr style=\"text-align: right;\">\n",
              "      <th></th>\n",
              "      <th>Year</th>\n",
              "      <th>Location</th>\n",
              "      <th>Region</th>\n",
              "      <th>Group</th>\n",
              "      <th>TV</th>\n",
              "      <th>Exercise</th>\n",
              "      <th>PhysEd</th>\n",
              "      <th>LackOfFruit</th>\n",
              "      <th>LackOfVeggies</th>\n",
              "      <th>Soda</th>\n",
              "      <th>FarmMarket</th>\n",
              "      <th>FoodHubs</th>\n",
              "      <th>NearPark</th>\n",
              "      <th>WIC</th>\n",
              "      <th>FruitReg</th>\n",
              "      <th>VeggieReg</th>\n",
              "      <th>CompleteStreets</th>\n",
              "      <th>Obese</th>\n",
              "      <th>OverweightOrObese</th>\n",
              "    </tr>\n",
              "  </thead>\n",
              "  <tbody>\n",
              "    <tr>\n",
              "      <th>0</th>\n",
              "      <td>2001</td>\n",
              "      <td>AL</td>\n",
              "      <td>South</td>\n",
              "      <td>10th</td>\n",
              "      <td>51.7</td>\n",
              "      <td>NaN</td>\n",
              "      <td>26.1</td>\n",
              "      <td>54.0</td>\n",
              "      <td>47.6</td>\n",
              "      <td>NaN</td>\n",
              "      <td>NaN</td>\n",
              "      <td>NaN</td>\n",
              "      <td>NaN</td>\n",
              "      <td>NaN</td>\n",
              "      <td>NaN</td>\n",
              "      <td>NaN</td>\n",
              "      <td>NaN</td>\n",
              "      <td>11.8</td>\n",
              "      <td>28.3</td>\n",
              "    </tr>\n",
              "    <tr>\n",
              "      <th>1</th>\n",
              "      <td>2001</td>\n",
              "      <td>AL</td>\n",
              "      <td>South</td>\n",
              "      <td>11th</td>\n",
              "      <td>42.6</td>\n",
              "      <td>NaN</td>\n",
              "      <td>26.8</td>\n",
              "      <td>56.4</td>\n",
              "      <td>43.7</td>\n",
              "      <td>NaN</td>\n",
              "      <td>NaN</td>\n",
              "      <td>NaN</td>\n",
              "      <td>NaN</td>\n",
              "      <td>NaN</td>\n",
              "      <td>NaN</td>\n",
              "      <td>NaN</td>\n",
              "      <td>NaN</td>\n",
              "      <td>10.1</td>\n",
              "      <td>22.6</td>\n",
              "    </tr>\n",
              "    <tr>\n",
              "      <th>2</th>\n",
              "      <td>2001</td>\n",
              "      <td>AL</td>\n",
              "      <td>South</td>\n",
              "      <td>12th</td>\n",
              "      <td>35.0</td>\n",
              "      <td>NaN</td>\n",
              "      <td>16.9</td>\n",
              "      <td>52.3</td>\n",
              "      <td>36.3</td>\n",
              "      <td>NaN</td>\n",
              "      <td>NaN</td>\n",
              "      <td>NaN</td>\n",
              "      <td>NaN</td>\n",
              "      <td>NaN</td>\n",
              "      <td>NaN</td>\n",
              "      <td>NaN</td>\n",
              "      <td>NaN</td>\n",
              "      <td>13.6</td>\n",
              "      <td>29.4</td>\n",
              "    </tr>\n",
              "    <tr>\n",
              "      <th>3</th>\n",
              "      <td>2001</td>\n",
              "      <td>AL</td>\n",
              "      <td>South</td>\n",
              "      <td>9th</td>\n",
              "      <td>51.3</td>\n",
              "      <td>NaN</td>\n",
              "      <td>50.6</td>\n",
              "      <td>52.7</td>\n",
              "      <td>52.8</td>\n",
              "      <td>NaN</td>\n",
              "      <td>NaN</td>\n",
              "      <td>NaN</td>\n",
              "      <td>NaN</td>\n",
              "      <td>NaN</td>\n",
              "      <td>NaN</td>\n",
              "      <td>NaN</td>\n",
              "      <td>NaN</td>\n",
              "      <td>13.1</td>\n",
              "      <td>28.4</td>\n",
              "    </tr>\n",
              "    <tr>\n",
              "      <th>4</th>\n",
              "      <td>2001</td>\n",
              "      <td>AL</td>\n",
              "      <td>South</td>\n",
              "      <td>Female</td>\n",
              "      <td>44.8</td>\n",
              "      <td>NaN</td>\n",
              "      <td>23.1</td>\n",
              "      <td>54.6</td>\n",
              "      <td>45.3</td>\n",
              "      <td>NaN</td>\n",
              "      <td>NaN</td>\n",
              "      <td>NaN</td>\n",
              "      <td>NaN</td>\n",
              "      <td>NaN</td>\n",
              "      <td>NaN</td>\n",
              "      <td>NaN</td>\n",
              "      <td>NaN</td>\n",
              "      <td>7.6</td>\n",
              "      <td>22.5</td>\n",
              "    </tr>\n",
              "  </tbody>\n",
              "</table>\n",
              "</div>"
            ],
            "text/plain": [
              "   Year Location Region  ... CompleteStreets  Obese  OverweightOrObese\n",
              "0  2001       AL  South  ...             NaN   11.8               28.3\n",
              "1  2001       AL  South  ...             NaN   10.1               22.6\n",
              "2  2001       AL  South  ...             NaN   13.6               29.4\n",
              "3  2001       AL  South  ...             NaN   13.1               28.4\n",
              "4  2001       AL  South  ...             NaN    7.6               22.5\n",
              "\n",
              "[5 rows x 19 columns]"
            ]
          },
          "metadata": {
            "tags": []
          },
          "execution_count": 132
        }
      ]
    },
    {
      "cell_type": "markdown",
      "metadata": {
        "id": "E-1KAtpbS6RT",
        "colab_type": "text"
      },
      "source": [
        "We'll process the data as before, but with an additional step: encoding our new categorical variable numerically."
      ]
    },
    {
      "cell_type": "code",
      "metadata": {
        "id": "UagKkbRNS6zD",
        "colab_type": "code",
        "outputId": "ae3b8e65-6e11-4005-bda7-73a300aa15c4",
        "colab": {
          "base_uri": "https://localhost:8080/",
          "height": 224
        }
      },
      "source": [
        "df = obesity[~(obesity.Location == 'US') & (obesity.Group == 'Total')]\n",
        "df.drop(columns=['Year','Location','Group','OverweightOrObese'], inplace=True)\n",
        "df = pd.get_dummies(df, drop_first=True)\n",
        "df.head()"
      ],
      "execution_count": 0,
      "outputs": [
        {
          "output_type": "execute_result",
          "data": {
            "text/html": [
              "<div>\n",
              "<style scoped>\n",
              "    .dataframe tbody tr th:only-of-type {\n",
              "        vertical-align: middle;\n",
              "    }\n",
              "\n",
              "    .dataframe tbody tr th {\n",
              "        vertical-align: top;\n",
              "    }\n",
              "\n",
              "    .dataframe thead th {\n",
              "        text-align: right;\n",
              "    }\n",
              "</style>\n",
              "<table border=\"1\" class=\"dataframe\">\n",
              "  <thead>\n",
              "    <tr style=\"text-align: right;\">\n",
              "      <th></th>\n",
              "      <th>TV</th>\n",
              "      <th>Exercise</th>\n",
              "      <th>PhysEd</th>\n",
              "      <th>LackOfFruit</th>\n",
              "      <th>LackOfVeggies</th>\n",
              "      <th>Soda</th>\n",
              "      <th>FarmMarket</th>\n",
              "      <th>FoodHubs</th>\n",
              "      <th>NearPark</th>\n",
              "      <th>WIC</th>\n",
              "      <th>FruitReg</th>\n",
              "      <th>VeggieReg</th>\n",
              "      <th>CompleteStreets</th>\n",
              "      <th>Obese</th>\n",
              "      <th>Region_Northeast</th>\n",
              "      <th>Region_South</th>\n",
              "      <th>Region_Territories</th>\n",
              "      <th>Region_West</th>\n",
              "    </tr>\n",
              "  </thead>\n",
              "  <tbody>\n",
              "    <tr>\n",
              "      <th>8</th>\n",
              "      <td>46.1</td>\n",
              "      <td>NaN</td>\n",
              "      <td>31.8</td>\n",
              "      <td>53.9</td>\n",
              "      <td>45.9</td>\n",
              "      <td>NaN</td>\n",
              "      <td>NaN</td>\n",
              "      <td>NaN</td>\n",
              "      <td>NaN</td>\n",
              "      <td>NaN</td>\n",
              "      <td>NaN</td>\n",
              "      <td>NaN</td>\n",
              "      <td>NaN</td>\n",
              "      <td>12.3</td>\n",
              "      <td>0</td>\n",
              "      <td>1</td>\n",
              "      <td>0</td>\n",
              "      <td>0</td>\n",
              "    </tr>\n",
              "    <tr>\n",
              "      <th>17</th>\n",
              "      <td>42.9</td>\n",
              "      <td>NaN</td>\n",
              "      <td>30.2</td>\n",
              "      <td>46.0</td>\n",
              "      <td>39.2</td>\n",
              "      <td>NaN</td>\n",
              "      <td>NaN</td>\n",
              "      <td>NaN</td>\n",
              "      <td>NaN</td>\n",
              "      <td>NaN</td>\n",
              "      <td>NaN</td>\n",
              "      <td>NaN</td>\n",
              "      <td>NaN</td>\n",
              "      <td>13.7</td>\n",
              "      <td>0</td>\n",
              "      <td>1</td>\n",
              "      <td>0</td>\n",
              "      <td>0</td>\n",
              "    </tr>\n",
              "    <tr>\n",
              "      <th>27</th>\n",
              "      <td>40.7</td>\n",
              "      <td>NaN</td>\n",
              "      <td>32.0</td>\n",
              "      <td>34.2</td>\n",
              "      <td>31.7</td>\n",
              "      <td>NaN</td>\n",
              "      <td>NaN</td>\n",
              "      <td>NaN</td>\n",
              "      <td>NaN</td>\n",
              "      <td>NaN</td>\n",
              "      <td>NaN</td>\n",
              "      <td>NaN</td>\n",
              "      <td>NaN</td>\n",
              "      <td>10.7</td>\n",
              "      <td>0</td>\n",
              "      <td>1</td>\n",
              "      <td>0</td>\n",
              "      <td>0</td>\n",
              "    </tr>\n",
              "    <tr>\n",
              "      <th>38</th>\n",
              "      <td>44.9</td>\n",
              "      <td>NaN</td>\n",
              "      <td>25.4</td>\n",
              "      <td>42.2</td>\n",
              "      <td>40.8</td>\n",
              "      <td>NaN</td>\n",
              "      <td>NaN</td>\n",
              "      <td>NaN</td>\n",
              "      <td>NaN</td>\n",
              "      <td>NaN</td>\n",
              "      <td>NaN</td>\n",
              "      <td>NaN</td>\n",
              "      <td>NaN</td>\n",
              "      <td>10.1</td>\n",
              "      <td>0</td>\n",
              "      <td>1</td>\n",
              "      <td>0</td>\n",
              "      <td>0</td>\n",
              "    </tr>\n",
              "    <tr>\n",
              "      <th>47</th>\n",
              "      <td>24.1</td>\n",
              "      <td>NaN</td>\n",
              "      <td>30.4</td>\n",
              "      <td>40.1</td>\n",
              "      <td>32.2</td>\n",
              "      <td>NaN</td>\n",
              "      <td>NaN</td>\n",
              "      <td>NaN</td>\n",
              "      <td>NaN</td>\n",
              "      <td>NaN</td>\n",
              "      <td>NaN</td>\n",
              "      <td>NaN</td>\n",
              "      <td>NaN</td>\n",
              "      <td>7.2</td>\n",
              "      <td>0</td>\n",
              "      <td>0</td>\n",
              "      <td>0</td>\n",
              "      <td>1</td>\n",
              "    </tr>\n",
              "  </tbody>\n",
              "</table>\n",
              "</div>"
            ],
            "text/plain": [
              "      TV  Exercise  PhysEd  ...  Region_South  Region_Territories  Region_West\n",
              "8   46.1       NaN    31.8  ...             1                   0            0\n",
              "17  42.9       NaN    30.2  ...             1                   0            0\n",
              "27  40.7       NaN    32.0  ...             1                   0            0\n",
              "38  44.9       NaN    25.4  ...             1                   0            0\n",
              "47  24.1       NaN    30.4  ...             0                   0            1\n",
              "\n",
              "[5 rows x 18 columns]"
            ]
          },
          "metadata": {
            "tags": []
          },
          "execution_count": 133
        }
      ]
    },
    {
      "cell_type": "markdown",
      "metadata": {
        "id": "bCw7vhOyTmh6",
        "colab_type": "text"
      },
      "source": [
        "Now we have four columns of zeros and ones to tell us whether or not a location is in the Northeast, South, territories, or West. Zeros in all four columns mean that it is in the Midwest."
      ]
    },
    {
      "cell_type": "code",
      "metadata": {
        "id": "f0DJz8O8TJ-c",
        "colab_type": "code",
        "outputId": "a9d34161-bd3b-474b-80d1-feb99248c8f4",
        "colab": {
          "base_uri": "https://localhost:8080/",
          "height": 35
        }
      },
      "source": [
        "imp = impute.SimpleImputer(strategy='most_frequent')\n",
        "df[df.columns] = imp.fit_transform(df[df.columns])\n",
        "X = df.drop('Obese', axis=1)\n",
        "y = df['Obese']\n",
        "X_train, X_test, y_train, y_test = train_test_split(X, y, test_size=.3, random_state=42)\n",
        "model = linear_model.LinearRegression()\n",
        "model.fit(X_train, y_train)\n",
        "y_train_preds = model.predict(X_train)\n",
        "y_test_preds = model.predict(X_test)\n",
        "r2_score(y_train, y_train_preds)"
      ],
      "execution_count": 0,
      "outputs": [
        {
          "output_type": "execute_result",
          "data": {
            "text/plain": [
              "0.6266046426683943"
            ]
          },
          "metadata": {
            "tags": []
          },
          "execution_count": 134
        }
      ]
    },
    {
      "cell_type": "code",
      "metadata": {
        "id": "48NS7kx5UeCz",
        "colab_type": "code",
        "outputId": "37f7beae-e818-47b0-c127-5d7c2623f8ca",
        "colab": {
          "base_uri": "https://localhost:8080/",
          "height": 35
        }
      },
      "source": [
        "r2_score(y_test, y_test_preds)"
      ],
      "execution_count": 0,
      "outputs": [
        {
          "output_type": "execute_result",
          "data": {
            "text/plain": [
              "0.5285004599973278"
            ]
          },
          "metadata": {
            "tags": []
          },
          "execution_count": 135
        }
      ]
    },
    {
      "cell_type": "markdown",
      "metadata": {
        "id": "kuIrLbkGUlSD",
        "colab_type": "text"
      },
      "source": [
        "By simply telling the model to which of these five regions each sample belongs, model accuracy has improved. Let's zoom in on the location a bit more by providing the region subdivisions used by the Census Bureau."
      ]
    },
    {
      "cell_type": "code",
      "metadata": {
        "id": "pADPfD7PVor_",
        "colab_type": "code",
        "outputId": "d6b437c8-ac4b-4c66-8adc-16331df538d9",
        "colab": {
          "base_uri": "https://localhost:8080/",
          "height": 35
        }
      },
      "source": [
        "NewEngland = ['CT', 'ME', 'MA', 'NH', 'RI', 'VT']\n",
        "MidAtlantic = ['NJ', 'NY', 'PA']\n",
        "EastNorthCentral = ['IL', 'IN', 'MI', 'OH', 'WI']\n",
        "WestNorthCentral = ['IA', 'KS', 'MN', 'MO', 'NE', 'ND', 'SD']\n",
        "SouthAtlantic = ['DE', 'FL', 'GA', 'MD', 'NC', 'SC', 'VA', 'DC', 'WV']\n",
        "EastSouthCentral = ['AL', 'KY', 'MS', 'TN']\n",
        "WestSouthCentral = ['AR', 'LA', 'OK', 'TX']\n",
        "Mountain = ['AZ', 'CO', 'ID', 'MT', 'NV', 'NM', 'UT', 'WY']\n",
        "Pacific = ['AK', 'CA', 'HI', 'OR', 'WA']\n",
        "\n",
        "obesity['Division'] = obesity.Location.apply(\n",
        "    lambda x: 'NewEngland' if x in NewEngland else 'MidAtlantic'\n",
        "    if x in MidAtlantic else 'EastNorthCentral' if x in EastNorthCentral else\n",
        "    'WestNorthCentral' if x in WestNorthCentral else 'SouthAtlantic'\n",
        "    if x in SouthAtlantic else 'EastSouthCentral' if x in EastSouthCentral else\n",
        "    'WestSouthCentral' if x in WestSouthCentral else 'Mountain'\n",
        "    if x in Mountain else 'Pacific' if x in Pacific else 'Territories'\n",
        "    if x in territories else 'Other')\n",
        "obesity = obesity[['Year', 'Location', 'Region', 'Division', 'Group', 'TV', 'Exercise',\n",
        "    'PhysEd', 'LackOfFruit', 'LackOfVeggies', 'Soda', 'FarmMarket', 'FoodHubs',\n",
        "    'NearPark', 'WIC', 'FruitReg', 'VeggieReg', 'CompleteStreets', 'Obese',\n",
        "    'OverweightOrObese']]\n",
        "\n",
        "df = obesity[~(obesity.Location == 'US') &\n",
        "                         (obesity.Group == 'Total')]\n",
        "df.drop(columns=['Year','Location','Group','OverweightOrObese'], inplace=True)\n",
        "df = pd.get_dummies(df, drop_first=True)\n",
        "imp = impute.SimpleImputer(strategy='most_frequent')\n",
        "df[df.columns] = imp.fit_transform(df[df.columns])\n",
        "X = df.drop('Obese', axis=1)\n",
        "y = df['Obese']\n",
        "X_train, X_test, y_train, y_test = train_test_split(X, y, test_size=.3, random_state=42)\n",
        "model = linear_model.LinearRegression()\n",
        "model.fit(X_train, y_train)\n",
        "y_train_preds = model.predict(X_train)\n",
        "y_test_preds = model.predict(X_test)\n",
        "r2_score(y_train, y_train_preds)"
      ],
      "execution_count": 0,
      "outputs": [
        {
          "output_type": "execute_result",
          "data": {
            "text/plain": [
              "0.6735597371680366"
            ]
          },
          "metadata": {
            "tags": []
          },
          "execution_count": 136
        }
      ]
    },
    {
      "cell_type": "code",
      "metadata": {
        "id": "tV-dxaS6V1WN",
        "colab_type": "code",
        "outputId": "84d9076d-e736-4c7e-c4c1-29b6f5de9e3a",
        "colab": {
          "base_uri": "https://localhost:8080/",
          "height": 35
        }
      },
      "source": [
        "r2_score(y_test, y_test_preds)"
      ],
      "execution_count": 0,
      "outputs": [
        {
          "output_type": "execute_result",
          "data": {
            "text/plain": [
              "0.605933458955278"
            ]
          },
          "metadata": {
            "tags": []
          },
          "execution_count": 137
        }
      ]
    },
    {
      "cell_type": "markdown",
      "metadata": {
        "id": "4Qz2u9lBV4Cg",
        "colab_type": "text"
      },
      "source": [
        "We've managed to get test accuracy above 60%; still not ideal for a useful predictive model. Let's consider some other algorithms."
      ]
    },
    {
      "cell_type": "code",
      "metadata": {
        "id": "YpyBgdPXzPlj",
        "colab_type": "code",
        "colab": {}
      },
      "source": [
        "def train_obesity_model(df, response_col, cols_to_drop, test_size, model_type):\n",
        "    '''\n",
        "    INPUT:\n",
        "    df - pandas dataframe with obesity data or a subset thereof\n",
        "    response_col - column of data to predict\n",
        "    cols_to_drop - columns to drop and not train on\n",
        "    test_size - proportion of the test-train split that is for testing, between 0 and 1\n",
        "    model_type - choice of sklearn algorithm: 'LinearRegression', 'Lasso', 'Ridge',\n",
        "        'ElasticNet', 'SVR', 'Bagging', 'RandomForest', 'AdaBoost'\n",
        "\n",
        "    STEPS:\n",
        "    Drop the rows with missing values for the response column\n",
        "    Drop columns with all NaN values\n",
        "    Drop the columns on which we do not want to train, such as the year, location, or other response column\n",
        "    Split categorical variables using get_dummies()\n",
        "    Impute missing values with the mode (most frequent value)\n",
        "    Split into explanatory and response variables\n",
        "    Split into training and test sets\n",
        "    Build model\n",
        "    Fit model to training data\n",
        "    Predict the response variable for training and test sets\n",
        "    Score the model on training and test sets\n",
        "\n",
        "    OUTPUT:\n",
        "    a pandas Series that contains the training score and test score\n",
        "    '''\n",
        "    \n",
        "    # Drop the rows with missing response values\n",
        "    df = df.dropna(subset=[response_col], axis=0)\n",
        "\n",
        "    # Drop columns with all NaN values\n",
        "    df = df.dropna(how='all', axis=1)\n",
        "\n",
        "    # Drop the columns on which we do not want to train, including the other response column\n",
        "    df.drop(columns=cols_to_drop, inplace=True)\n",
        "\n",
        "    # Get dummies\n",
        "    df = pd.get_dummies(df, drop_first=True)\n",
        "\n",
        "    # Impute missing values\n",
        "    imp = impute.SimpleImputer(strategy='most_frequent')\n",
        "    df[df.columns] = imp.fit_transform(df[df.columns])\n",
        "\n",
        "    # Split into explanatory and response variables\n",
        "    X = df.drop(response_col, axis=1)\n",
        "    y = df[response_col]\n",
        "\n",
        "    # Split into training and test sets\n",
        "    X_train, X_test, y_train, y_test = train_test_split(X, y, test_size=test_size, random_state=42)\n",
        "\n",
        "    # Build model\n",
        "    if model_type == 'LinearRegression':\n",
        "      model = linear_model.LinearRegression()\n",
        "    elif model_type == 'Lasso':\n",
        "      model = linear_model.Lasso()\n",
        "    elif model_type == 'Ridge':\n",
        "      model = linear_model.Ridge()\n",
        "    elif model_type == 'ElasticNet':\n",
        "      model = linear_model.ElasticNet()\n",
        "    elif model_type == 'SVR':\n",
        "      model = svm.SVR(C=20)\n",
        "    elif model_type == 'Bagging':\n",
        "      model = ensemble.BaggingRegressor(random_state=0)\n",
        "    elif model_type == 'RandomForest':\n",
        "      model = ensemble.RandomForestRegressor(random_state=0)\n",
        "    elif model_type == 'AdaBoost':\n",
        "      model = ensemble.AdaBoostRegressor(random_state=0)\n",
        "\n",
        "    # Fit model to training data\n",
        "    model.fit(X_train, y_train)\n",
        "\n",
        "    # Predict for training and test data\n",
        "    y_train_preds = model.predict(X_train)\n",
        "    y_test_preds = model.predict(X_test)\n",
        "\n",
        "    # Score model on training and test data\n",
        "    training_score = r2_score(y_train, y_train_preds)\n",
        "    test_score = r2_score(y_test, y_test_preds)\n",
        "\n",
        "    # Return scores\n",
        "    score = pd.Series({'training_score':training_score, 'test_score':test_score})\n",
        "\n",
        "    return score"
      ],
      "execution_count": 0,
      "outputs": []
    },
    {
      "cell_type": "markdown",
      "metadata": {
        "id": "pZ_huNTZXD0y",
        "colab_type": "text"
      },
      "source": [
        "This function perfoms the steps of data preparation, model building, training, predicition, and scoring for five different choices of algorithm: linear regression, ridge regression, support vector regression (SVR), bagging, random forest, and AdaBoost. Ridge regression is a regularization technique that performs linear regression but with a penalties imposed on coefficients being too high. SVR is a regression extension of support vector machines, originally used in classification problems. Bagging, random forest, and AdaBoost are all ensemble techniques, in which multiple models are constructed and their predictions are integrated by some means into a single prediction. Let's build another function to plot the accuracy of these models on various subsets of the data."
      ]
    },
    {
      "cell_type": "code",
      "metadata": {
        "id": "kYnK0nx4l3hM",
        "colab_type": "code",
        "colab": {}
      },
      "source": [
        "def plot_alg_performance(df, cols_to_drop):\n",
        "    '''\n",
        "    INPUT:\n",
        "    df - pandas dataframe with obesity data or a subset thereof\n",
        "    cols_to_drop - columns to drop and not train on\n",
        "    \n",
        "    STEPS:\n",
        "    Set up plot and labels\n",
        "    Set response column to \"Obese\"\n",
        "      Create dataframe to store model accuracy values\n",
        "      For each data grouping (overall, by grade, by gender, by race/ethnicity) and\n",
        "        each algorithm, call train_obesity_model() and store test set accuracy\n",
        "      Plot test scores as bar chart\n",
        "    Set response column to \"OverweightOrObese\"\n",
        "      Create dataframe to store model accuracy values\n",
        "      For each data grouping (overall, by grade, by gender, by race/ethnicity) and\n",
        "        each algorithm, call train_obesity_model() and store test set accuracy\n",
        "      Plot test scores as bar chart\n",
        "\n",
        "    OUTPUT:\n",
        "    None\n",
        "    '''\n",
        "    fig, axs = plt.subplots(2, 1, figsize=(15,9))\n",
        "    labels = ['Overall', 'By school grade',\n",
        "        'By gender', 'By race/ethnicity']\n",
        "    x = np.arange(len(labels))\n",
        "    width = 0.12\n",
        "\n",
        "    # Plot obese results\n",
        "    test_scores = pd.DataFrame({'LinearRegression':[0]*4, 'Lasso':[0]*4,\n",
        "        'Ridge':[0]*4, 'ElasticNet':[0]*4, 'SVR':[0]*4, 'Bagging':[0]*4,\n",
        "        'RandomForest':[0]*4, 'AdaBoost':[0]*4}, index=[\n",
        "        '[\"Total\"]', 'grade_grouping', 'gender_grouping',\n",
        "        'race_ethnicity_grouping'])\n",
        "    cols_to_drop_obese = cols_to_drop.copy()\n",
        "    cols_to_drop_obese.append('OverweightOrObese')\n",
        "    for grouping in test_scores.index:\n",
        "      df_grouping = eval('df[~(df.Location == \"US\") & (df.Group.isin('+grouping+'))]')\n",
        "      for model_type in test_scores.columns:\n",
        "        score = train_obesity_model(df_grouping, 'Obese', cols_to_drop_obese,\n",
        "            test_size=.3, model_type = model_type)\n",
        "        test_scores.loc[grouping, model_type] = score.test_score\n",
        "    rects0 = axs[0].bar(x-2.5*width, test_scores['LinearRegression'], width, color = '#3377EE',\n",
        "                        label='Linear regression')\n",
        "    rects1 = axs[0].bar(x-1.5*width, test_scores['Ridge'], width, color = '#FFDD00',\n",
        "                        label='Ridge regression')\n",
        "    rects2 = axs[0].bar(x-.5*width, test_scores['SVR'], width, color = '#FF4433',\n",
        "                        label='SVR')\n",
        "    rects3 = axs[0].bar(x+.5*width, test_scores['Bagging'], width, color = '#55DD55',\n",
        "                        label='Bagging')\n",
        "    rects4 = axs[0].bar(x+1.5*width, test_scores['RandomForest'], width, color = '#CC55CC',\n",
        "                        label='Random forest')\n",
        "    rects5 = axs[0].bar(x+2.5*width, test_scores['AdaBoost'], width, color = '#AAAAAA',\n",
        "                        label='AdaBoost')\n",
        "    axs[0].annotate('Max test score: '+str(round(test_scores.max().max(), 2)),\n",
        "                    (1.25, 1.05*test_scores.max().max()), fontsize=16)\n",
        "    axs[0].axhline(y=test_scores.max().max(), xmin=0, xmax=6, linestyle='--', c='r')\n",
        "    axs[0].set_xticks(x)\n",
        "    axs[0].set_xticklabels(labels)\n",
        "    axs[0].set_ylim((0,1))\n",
        "    axs[0].legend(loc='upper right', ncol=2)\n",
        "    axs[0].set_title('Test score for predicting the percent of students obese')\n",
        "\n",
        "    # Plot overweight or obese results\n",
        "    test_scores = pd.DataFrame({'LinearRegression':[0]*4, 'Lasso':[0]*4,\n",
        "        'Ridge':[0]*4, 'ElasticNet':[0]*4, 'SVR':[0]*4, 'Bagging':[0]*4,\n",
        "        'RandomForest':[0]*4, 'AdaBoost':[0]*4}, index=[\n",
        "        '[\"Total\"]', 'grade_grouping', 'gender_grouping',\n",
        "        'race_ethnicity_grouping'])\n",
        "    cols_to_drop_ovr_or_obese = cols_to_drop.copy()\n",
        "    cols_to_drop_ovr_or_obese.append('Obese')\n",
        "    for grouping in test_scores.index:\n",
        "      df_grouping = eval('df[~(df.Location == \"US\") & (df.Group.isin('+grouping+'))]')\n",
        "      for model_type in test_scores.columns:\n",
        "        score = train_obesity_model(df_grouping, 'OverweightOrObese', cols_to_drop_ovr_or_obese,\n",
        "            test_size=.3, model_type = model_type)\n",
        "        test_scores.loc[grouping, model_type] = score.test_score\n",
        "    rects0 = axs[1].bar(x-2.5*width, test_scores['LinearRegression'], width, color = '#3377EE',\n",
        "                        label='Linear regression')\n",
        "    rects1 = axs[1].bar(x-1.5*width, test_scores['Ridge'], width, color = '#FFDD00',\n",
        "                        label='Ridge regression')\n",
        "    rects2 = axs[1].bar(x-.5*width, test_scores['SVR'], width, color = '#FF4433',\n",
        "                        label='SVR')\n",
        "    rects3 = axs[1].bar(x+.5*width, test_scores['Bagging'], width, color = '#55DD55',\n",
        "                        label='Bagging')\n",
        "    rects4 = axs[1].bar(x+1.5*width, test_scores['RandomForest'], width, color = '#CC55CC',\n",
        "                        label='Random forest')\n",
        "    rects5 = axs[1].bar(x+2.5*width, test_scores['AdaBoost'], width, color = '#AAAAAA',\n",
        "                        label='AdaBoost')\n",
        "    axs[1].annotate('Max accuracy: '+str(round(test_scores.max().max(), 2)),\n",
        "                    (1.25, 1.05*test_scores.max().max()), fontsize=16)\n",
        "    axs[1].axhline(y=test_scores.max().max(), xmin=0, xmax=6, linestyle='--', c='r')\n",
        "    axs[1].set_xticks(x)\n",
        "    axs[1].set_xticklabels(labels)\n",
        "    axs[1].set_ylim((0,1))\n",
        "    axs[1].legend(loc='upper right', ncol=2)\n",
        "    axs[1].set_title('Test score for predicting the percent of students overweight or obese')\n",
        "\n",
        "    plt.tight_layout(2.5)\n",
        "    plt.show()"
      ],
      "execution_count": 0,
      "outputs": []
    },
    {
      "cell_type": "code",
      "metadata": {
        "id": "CIGSTijRMzSB",
        "colab_type": "code",
        "outputId": "2a1b5462-1c90-43fc-961d-6bbd074d451b",
        "colab": {
          "base_uri": "https://localhost:8080/",
          "height": 629
        }
      },
      "source": [
        "plot_alg_performance(obesity, cols_to_drop = ['Year','Location','Region','Division'])"
      ],
      "execution_count": 0,
      "outputs": [
        {
          "output_type": "display_data",
          "data": {
            "image/png": "[encoded data removed]",
            "text/plain": [
              "<Figure size 1080x648 with 2 Axes>"
            ]
          },
          "metadata": {
            "tags": []
          }
        }
      ]
    },
    {
      "cell_type": "markdown",
      "metadata": {
        "id": "XRHC3OswaGx4",
        "colab_type": "text"
      },
      "source": [
        "For both the percent of students obese and those overweight or obese, SVR, bagging, and random forest outperform the other algorithms. We can also see that predictive performance is better across all algorithms for the overall data by location. This may be because there are simply more data samples, which allow for more training, more learning, and thus higher accuracy when generalizing to the test samples.\n",
        "\n",
        "Let's see how geographic location impacts model performance."
      ]
    },
    {
      "cell_type": "code",
      "metadata": {
        "id": "19SO_vGCZDaC",
        "colab_type": "code",
        "colab": {}
      },
      "source": [
        "plot_alg_performance(obesity, cols_to_drop = ['Year','Region','Division'])"
      ],
      "execution_count": 0,
      "outputs": []
    },
    {
      "cell_type": "markdown",
      "metadata": {
        "id": "fMqbgI8Qa34x",
        "colab_type": "text"
      },
      "source": [
        "Model accuracy improves when we train on the specific location (state or territory). What about the more coarse-grained region and division?"
      ]
    },
    {
      "cell_type": "code",
      "metadata": {
        "id": "l0y-2jL-Ysta",
        "colab_type": "code",
        "colab": {}
      },
      "source": [
        "plot_alg_performance(obesity, cols_to_drop = ['Year','Location','Division'])"
      ],
      "execution_count": 0,
      "outputs": []
    },
    {
      "cell_type": "code",
      "metadata": {
        "id": "0koCSFnIaopt",
        "colab_type": "code",
        "colab": {}
      },
      "source": [
        "plot_alg_performance(obesity, cols_to_drop = ['Year','Location','Region'])"
      ],
      "execution_count": 0,
      "outputs": []
    },
    {
      "cell_type": "markdown",
      "metadata": {
        "id": "h21ifrLObFcE",
        "colab_type": "text"
      },
      "source": [
        "By considering just the region or division, model accuracy improves relative to performance without any consideration of geography, but not as high as when state-level information is given."
      ]
    },
    {
      "cell_type": "markdown",
      "metadata": {
        "id": "96Xf24-rKJxT",
        "colab_type": "text"
      },
      "source": [
        "### Evaluation"
      ]
    },
    {
      "cell_type": "markdown",
      "metadata": {
        "id": "4fBlypdqdn50",
        "colab_type": "text"
      },
      "source": [
        "Recalling the trends explored in Question 1, each of the three population groupings had a different degree of overlap, hinting at the amount of information provided.\n",
        "\n",
        "Obesity rates by school grade were highly overlapping, with no one group having consistently higher or lower values. Thus, the variability was higher than for the overall data without an easy way to differentiate the groups. Here we see worse performance of models trained on data grouped by grade.\n",
        "\n",
        "In contrast, gender provides very meaningful information for predicting obesity rates. Variability in the health outcomes is again higher relative to overall data, but we can differentiate the higher and lower values based on gender. Accordingly, model accuracies are improved relative to those trained on the overall data.\n",
        "\n",
        "The race/ethnicity grouping is somewhere in between these two cases. Some trends cross often while others are more separable and predictable. The Asian obesity rates are the lowest always, while the Non-Hispanic White rates never cross over those of the major population groups (those with larger sample sizes). Model performance, too, is in between that of the grade- and gender-grouped cases, falling near that of the overall data.\n",
        "\n",
        "The impact of geographic information on the models is small but consistent, increasing accuracy by about 7% in the best case. Regional and sub-regional geography can achieve about half of this improvement in accuracy.\n",
        "\n",
        "While model performance is somewhat lacking overall, failing to crack 80% accuracy in most cases, we have an understanding of how it is governed by the choice of training data and model features."
      ]
    },
    {
      "cell_type": "markdown",
      "metadata": {
        "id": "5BEwK1rkdm0m",
        "colab_type": "text"
      },
      "source": [
        "# Summary Evaluation"
      ]
    },
    {
      "cell_type": "markdown",
      "metadata": {
        "id": "wPy-0xdj3qif",
        "colab_type": "text"
      },
      "source": [
        "In examining this data we have seen that the percents of high-school students in the United States that are obese and those that are overweight or obese have increased from 2001 to 2017, are higher in certain racial/ethnic groups, and are higher in males than females, although females are catching up. We have also learned that five states in the Rocky Mountains have the lowest obesity rates, and in those states students tend to watch less TV, eat more vegetables, and drink less non-diet soda than the national average. Those states also have more farmers markets per capita and more people living within half a mile of a park than the national average. Five states along the Mississippi River and Guam have the highest obesity rates, and students in those locations tend to watch more TV, eat fewer fruits and vegetables, and drink more non-diet soda than the national average. Those locations also have fewer farmers markets per capita and fewer people living within half a mile of a park than the national average. Similar results are seen in the single-factor correlation coefficients. We have also shown that by providing some level of information on geographic location, the test set accuracy of a model can be improved.\n",
        "\n",
        "One important caveat is that BMI is not the same as body fat percentage, nor is it perfectly correlated. The metric has been criticized for its bias across height ranges (being underpredicted for shorter individuals and overpredicted for taller) and failure to account for body composition properties, such as a person's degree of musculature.\n",
        "\n",
        "Another is that much of the data considered here are from self-report surveys, including a student's height and weight, which are used to calculate BMI. The [YRBSS methodology documentation](https://www.cdc.gov/mmwr/pdf/rr/rr6201.pdf) mentions a CDC study on the reliability of these two question in particular, in which students' heights and weights were measured after having taken the questionnaire: \"Self-reported height, weight, and BMI calculated from these values were substantially reliable, but on average, students in the study overreported their height by 2.7 inches and underreported their weight by 3.5 pounds, which indicates that YRBSS probably underestimates the prevalence of overweight and obesity in adolescent populations.\" In addition, the policy data comes from aggregating various state and local level reports under a common standard, for example that the \"state has adopted some form of a Complete Streets policy\".\n",
        "\n",
        "Finally, the factors considered here are far from the only ones that could be used to understand and predict rates of youth obesity. The documentation states that the \"CDC decided that the system should focus almost exclusively on health-risk behaviors rather than on the determinants of these behaviors (e.g., knowledge, attitudes, beliefs, and skills), because there is a more direct connection between specific health-risk behaviors and specific health outcomes than between determinants of behaviors and health outcomes.\" However, research and analysis of the determining factors of risk behaviors is undoubtedly important in the effort to address this issue."
      ]
    },
    {
      "cell_type": "markdown",
      "metadata": {
        "id": "jRinf4L93rIn",
        "colab_type": "text"
      },
      "source": [
        "# Deployment"
      ]
    },
    {
      "cell_type": "markdown",
      "metadata": {
        "id": "WR5oy38Qdu-r",
        "colab_type": "text"
      },
      "source": [
        "This project presents a preliminary analysis of the risk factors associated with youth obesity in the United States. It points to gender, geography, television watching, vegetable and soda consumption, and proximity to farmers markets and parks as particularly correlated. Factors such as exercise, physical education, and state regulations were not seen to be strongly correlated. Gender and geography are not actionable interventions that policy makers or companies can implement. Furthermore, it is unclear to what degree the other factors act as proxies for geography, and whether they could be used to positively impact obesity rates. Based on these insights alone, I would recommend American children eat more vegetables, drink less or no soda, and watch less television."
      ]
    }
  ]
}