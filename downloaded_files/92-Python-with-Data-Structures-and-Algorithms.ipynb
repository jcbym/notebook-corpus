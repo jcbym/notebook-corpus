{
 "cells": [
  {
   "cell_type": "code",
   "execution_count": 3,
   "id": "6fffe770",
   "metadata": {},
   "outputs": [
    {
     "name": "stdout",
     "output_type": "stream",
     "text": [
      "14\n",
      "6\n",
      "40\n",
      "2.5\n",
      "2\n"
     ]
    }
   ],
   "source": [
    "a = 10\n",
    "b = 4\n",
    "print(a + b)\n",
    "print(a - b)\n",
    "print(a * b)\n",
    "print(a / b) # floating point division\n",
    "print(a // b) # integer division\n"
   ]
  },
  {
   "cell_type": "code",
   "execution_count": 4,
   "id": "df56ad9b",
   "metadata": {},
   "outputs": [
    {
     "name": "stdout",
     "output_type": "stream",
     "text": [
      "10000\n"
     ]
    }
   ],
   "source": [
    "print(a**b) # exponentiation"
   ]
  },
  {
   "cell_type": "code",
   "execution_count": 5,
   "id": "e9edb8cc",
   "metadata": {},
   "outputs": [
    {
     "data": {
      "text/plain": [
       "2"
      ]
     },
     "execution_count": 5,
     "metadata": {},
     "output_type": "execute_result"
    }
   ],
   "source": [
    "a % b"
   ]
  },
  {
   "cell_type": "code",
   "execution_count": 8,
   "id": "638ddee3",
   "metadata": {},
   "outputs": [
    {
     "data": {
      "text/plain": [
       "14"
      ]
     },
     "execution_count": 8,
     "metadata": {},
     "output_type": "execute_result"
    }
   ],
   "source": [
    "2 + (3 *4)"
   ]
  },
  {
   "cell_type": "code",
   "execution_count": 9,
   "id": "b079c3f1",
   "metadata": {},
   "outputs": [
    {
     "data": {
      "text/plain": [
       "1.5"
      ]
     },
     "execution_count": 9,
     "metadata": {},
     "output_type": "execute_result"
    }
   ],
   "source": [
    "2 * 3/ 4"
   ]
  },
  {
   "cell_type": "code",
   "execution_count": 10,
   "id": "f9d4f4cb",
   "metadata": {},
   "outputs": [
    {
     "data": {
      "text/plain": [
       "1"
      ]
     },
     "execution_count": 10,
     "metadata": {},
     "output_type": "execute_result"
    }
   ],
   "source": [
    "(2 * 3)// 4"
   ]
  },
  {
   "cell_type": "code",
   "execution_count": 12,
   "id": "f2ac2823",
   "metadata": {},
   "outputs": [
    {
     "name": "stdout",
     "output_type": "stream",
     "text": [
      "24\n"
     ]
    }
   ],
   "source": [
    "# simple interest\n",
    "principle = 100\n",
    "rate_of_interest = 12\n",
    "time = 2\n",
    "simple_interest = (principle * rate_of_interest * time)//100\n",
    "print(simple_interest)"
   ]
  },
  {
   "cell_type": "code",
   "execution_count": 16,
   "id": "5f62253d",
   "metadata": {},
   "outputs": [
    {
     "data": {
      "text/plain": [
       "37.77777777777778"
      ]
     },
     "execution_count": 16,
     "metadata": {},
     "output_type": "execute_result"
    }
   ],
   "source": [
    "# fah to cel value\n",
    "fah = 100\n",
    "c = (fah - 32)* 5/9\n",
    "print(\"celcius value: \",c)"
   ]
  },
  {
   "cell_type": "code",
   "execution_count": null,
   "id": "3e668723",
   "metadata": {},
   "outputs": [],
   "source": []
  }
 ],
 "metadata": {
  "kernelspec": {
   "display_name": "Python 3",
   "language": "python",
   "name": "python3"
  },
  "language_info": {
   "codemirror_mode": {
    "name": "ipython",
    "version": 3
   },
   "file_extension": ".py",
   "mimetype": "text/x-python",
   "name": "python",
   "nbconvert_exporter": "python",
   "pygments_lexer": "ipython3",
   "version": "3.8.10"
  }
 },
 "nbformat": 4,
 "nbformat_minor": 5
}
