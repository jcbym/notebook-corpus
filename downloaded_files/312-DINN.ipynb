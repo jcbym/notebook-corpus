{
 "cells": [
  {
   "cell_type": "markdown",
   "metadata": {},
   "source": [
    "# Paper: Transmission potential of smallpox in contemporary populations"
   ]
  },
  {
   "cell_type": "code",
   "execution_count": null,
   "metadata": {},
   "outputs": [],
   "source": [
    "import numpy as np\n",
    "from scipy.integrate import odeint\n",
    "import matplotlib.pyplot as plt"
   ]
  },
  {
   "cell_type": "code",
   "execution_count": null,
   "metadata": {},
   "outputs": [],
   "source": [
    "# Initial conditions\n",
    "\n",
    "S0 = 7000\n",
    "En0 = 0\n",
    "Ei0 = 0\n",
    "Ci0 = 0\n",
    "I0 = 100\n",
    "Q0 = 0\n",
    "U0 = 0\n",
    "V0 = 0\n",
    "N = 7000\n",
    "\n",
    "# A grid of time points (in days)\n",
    "t = np.linspace(0, 100, 50) \n",
    "\n",
    "#parameters\n",
    "chi_1 = 0.06\n",
    "chi_2 = 0.04\n",
    "epsilon_1 = 0.975\n",
    "epsilon_2 = 0.3\n",
    "rho = 0.975\n",
    "theta = 0.95\n",
    "alpha = 0.0685\n",
    "gamma = 0.116\n",
    "\n",
    "# The SIR model differential equations.\n",
    "def deriv(y, t,N, chi_1 ,chi_2 ,epsilon_1 ,epsilon_2 ,rho ,theta ,alpha ,gamma):\n",
    "    S ,En ,Ei ,Ci ,I ,Q ,U, V  = y\n",
    "    phi = I/S\n",
    "    beta = (10 * gamma)/(phi*N) #R0 = 10\n",
    "\n",
    "    dSdt = chi_1 * (1-epsilon_1) * Ci - beta * (phi + rho - phi * rho) * S * I\n",
    "    dEndt = beta * phi * (1-rho)*S*I - alpha*En\n",
    "    dEidt = beta * phi*rho*S*I - (chi_1*epsilon_2 + alpha*(1-epsilon_2))*Ei\n",
    "    dCidt = beta*rho*(1-phi)*S*I-chi_1*Ci\n",
    "    dIdt = alpha*(1-theta)*En- (theta+gamma)*I\n",
    "    dQdt = alpha*(1-epsilon_2)*Ei+theta*(alpha*En+I)-chi_2*Q\n",
    "    dUdt = gamma*I+chi_2*Q\n",
    "    dVdt = chi_1*(epsilon_2*Ei+epsilon_1*Ci) \n",
    "\n",
    "    return dSdt  ,dEndt  ,dEidt  ,dCidt  ,dIdt  ,dQdt  ,dUdt  ,dVdt \n",
    "\n",
    "\n",
    "# Initial conditions vector\n",
    "y0 = S0 ,En0 ,Ei0 ,Ci0 ,I0 ,Q0 ,U0, V0\n",
    "# Integrate the SIR equations over the time grid, t.\n",
    "ret = odeint(deriv, y0, t, args=(N, chi_1 ,chi_2 ,epsilon_1 ,epsilon_2 ,rho ,theta ,alpha ,gamma))\n",
    "S ,En ,Ei ,Ci ,I ,Q ,U, V  = ret.T\n",
    "\n",
    "# Plot the data on two separate curves for S(t), I(t)\n",
    "fig = plt.figure(facecolor='w')\n",
    "ax = fig.add_subplot(111, facecolor='#dddddd', axisbelow=True)\n",
    "ax.plot(t, S, 'violet', alpha=0.5, lw=2, label='Sh', linestyle='dashed')\n",
    "ax.plot(t, En, 'darkgreen', alpha=0.5, lw=2, label='En', linestyle='dashed')\n",
    "ax.plot(t, Ei, 'blue', alpha=0.5, lw=2, label='Ei', linestyle='dashed')\n",
    "ax.plot(t, Ci, 'orange', alpha=0.5, lw=2, label='Ci', linestyle='dashed')\n",
    "ax.plot(t, I, 'red', alpha=0.5, lw=2, label='I', linestyle='dashed')\n",
    "ax.plot(t, Q, 'teal', alpha=0.5, lw=2, label='Q', linestyle='dashed')\n",
    "ax.plot(t, U, 'black', alpha=0.5, lw=2, label='U', linestyle='dashed')\n",
    "ax.plot(t, V, 'green', alpha=0.5, lw=2, label='V', linestyle='dashed')\n",
    "\n",
    "ax.set_xlabel('Time /days')\n",
    "ax.yaxis.set_tick_params(length=0)\n",
    "ax.xaxis.set_tick_params(length=0)\n",
    "ax.grid(b=True, which='major', c='w', lw=2, ls='-')\n",
    "legend = ax.legend()\n",
    "legend.get_frame().set_alpha(0.5)\n",
    "for spine in ('top', 'right', 'bottom', 'left'):\n",
    "    ax.spines[spine].set_visible(False)\n",
    "plt.show()"
   ]
  },
  {
   "cell_type": "code",
   "execution_count": null,
   "metadata": {},
   "outputs": [],
   "source": [
    "#save to csv file\n",
    "a = np.asarray([t, S ,En ,Ei ,Ci ,I ,Q ,U, V]) \n",
    "\n",
    "# np.savetxt(\"smallpox.csv\", a, delimiter=\",\")"
   ]
  }
 ],
 "metadata": {
  "kernelspec": {
   "display_name": "Python 3.7.3 64-bit ('base': conda)",
   "name": "python373jvsc74a57bd0f0396a0f98e081442f6005f4438dae70905c4dba32e635697d7a979ca5a56ea2"
  },
  "language_info": {
   "codemirror_mode": {
    "name": "ipython",
    "version": 3
   },
   "file_extension": ".py",
   "mimetype": "text/x-python",
   "name": "python",
   "nbconvert_exporter": "python",
   "pygments_lexer": "ipython3",
   "version": "3.7.3"
  },
  "orig_nbformat": 2
 },
 "nbformat": 4,
 "nbformat_minor": 2
}