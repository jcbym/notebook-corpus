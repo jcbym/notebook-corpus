{
 "cells": [
  {
   "cell_type": "code",
   "execution_count": 1,
   "id": "d92dd75e-180e-47d2-a5af-335b8b93af4e",
   "metadata": {},
   "outputs": [
    {
     "name": "stdout",
     "output_type": "stream",
     "text": [
      "catboost version: 1.0.5\n"
     ]
    }
   ],
   "source": [
    "%matplotlib inline\n",
    "import matplotlib\n",
    "import matplotlib.pyplot as plt\n",
    "import pandas as pd\n",
    "import numpy as np\n",
    "import seaborn as sns\n",
    "from sklearn.model_selection import train_test_split\n",
    "\n",
    "import catboost\n",
    "print('catboost version:', catboost.__version__)\n",
    "from catboost import CatBoostClassifier "
   ]
  },
  {
   "cell_type": "code",
   "execution_count": 2,
   "id": "b8c95e04-c09c-4886-8f4a-342e3d4f1c9a",
   "metadata": {},
   "outputs": [],
   "source": [
    "data = pd.read_csv(\"games.csv\")"
   ]
  },
  {
   "cell_type": "code",
   "execution_count": 3,
   "id": "788801ea-2aa4-41ca-80c0-1d719057b0da",
   "metadata": {},
   "outputs": [
    {
     "data": {
      "text/html": [
       "<div>\n",
       "<style scoped>\n",
       "    .dataframe tbody tr th:only-of-type {\n",
       "        vertical-align: middle;\n",
       "    }\n",
       "\n",
       "    .dataframe tbody tr th {\n",
       "        vertical-align: top;\n",
       "    }\n",
       "\n",
       "    .dataframe thead th {\n",
       "        text-align: right;\n",
       "    }\n",
       "</style>\n",
       "<table border=\"1\" class=\"dataframe\">\n",
       "  <thead>\n",
       "    <tr style=\"text-align: right;\">\n",
       "      <th></th>\n",
       "      <th>rated</th>\n",
       "      <th>turns</th>\n",
       "      <th>winner</th>\n",
       "      <th>increment_code</th>\n",
       "      <th>opening_eco</th>\n",
       "      <th>opening_ply</th>\n",
       "      <th>rating_difference</th>\n",
       "      <th>average_rating</th>\n",
       "    </tr>\n",
       "  </thead>\n",
       "  <tbody>\n",
       "    <tr>\n",
       "      <th>0</th>\n",
       "      <td>False</td>\n",
       "      <td>13</td>\n",
       "      <td>1.0</td>\n",
       "      <td>15+2</td>\n",
       "      <td>D1</td>\n",
       "      <td>5</td>\n",
       "      <td>309</td>\n",
       "      <td>1345.5</td>\n",
       "    </tr>\n",
       "    <tr>\n",
       "      <th>1</th>\n",
       "      <td>True</td>\n",
       "      <td>16</td>\n",
       "      <td>0.0</td>\n",
       "      <td>5+10</td>\n",
       "      <td>B0</td>\n",
       "      <td>4</td>\n",
       "      <td>61</td>\n",
       "      <td>1291.5</td>\n",
       "    </tr>\n",
       "    <tr>\n",
       "      <th>2</th>\n",
       "      <td>True</td>\n",
       "      <td>61</td>\n",
       "      <td>1.0</td>\n",
       "      <td>5+10</td>\n",
       "      <td>C2</td>\n",
       "      <td>3</td>\n",
       "      <td>-4</td>\n",
       "      <td>1498.0</td>\n",
       "    </tr>\n",
       "    <tr>\n",
       "      <th>3</th>\n",
       "      <td>True</td>\n",
       "      <td>61</td>\n",
       "      <td>1.0</td>\n",
       "      <td>20+0</td>\n",
       "      <td>D0</td>\n",
       "      <td>3</td>\n",
       "      <td>-15</td>\n",
       "      <td>1446.5</td>\n",
       "    </tr>\n",
       "    <tr>\n",
       "      <th>4</th>\n",
       "      <td>True</td>\n",
       "      <td>95</td>\n",
       "      <td>1.0</td>\n",
       "      <td>30+3</td>\n",
       "      <td>C4</td>\n",
       "      <td>5</td>\n",
       "      <td>54</td>\n",
       "      <td>1496.0</td>\n",
       "    </tr>\n",
       "  </tbody>\n",
       "</table>\n",
       "</div>"
      ],
      "text/plain": [
       "   rated  turns  winner increment_code opening_eco  opening_ply  \\\n",
       "0  False     13     1.0           15+2          D1            5   \n",
       "1   True     16     0.0           5+10          B0            4   \n",
       "2   True     61     1.0           5+10          C2            3   \n",
       "3   True     61     1.0           20+0          D0            3   \n",
       "4   True     95     1.0           30+3          C4            5   \n",
       "\n",
       "   rating_difference  average_rating  \n",
       "0                309          1345.5  \n",
       "1                 61          1291.5  \n",
       "2                 -4          1498.0  \n",
       "3                -15          1446.5  \n",
       "4                 54          1496.0  "
      ]
     },
     "execution_count": 3,
     "metadata": {},
     "output_type": "execute_result"
    }
   ],
   "source": [
    "data.drop([\"created_at\",\"white_id\",\"black_id\",\"last_move_at\",\"moves\",\"id\",\"opening_name\",\"victory_status\"], axis = 1, inplace = True)\n",
    "data[\"rating_difference\"]=data[\"white_rating\"]-data[\"black_rating\"]\n",
    "data[\"winner\"] = data[\"winner\"].apply(lambda x: 1 if x=='white' else 0 if x=='black' else 0.5)\n",
    "data[\"average_rating\"]=(data[\"white_rating\"]+data[\"black_rating\"])/2\n",
    "data.drop([\"white_rating\",\"black_rating\"], axis = 1, inplace = True)\n",
    "data['opening_eco'] = [ln[0:2] for ln in data['opening_eco'].values]\n",
    "data.head()"
   ]
  },
  {
   "cell_type": "code",
   "execution_count": 4,
   "id": "67248c87-c211-4efe-a50e-53b11fb89a11",
   "metadata": {},
   "outputs": [],
   "source": [
    "data[\"increment_code\"]= data[\"increment_code\"].str.split(\"+\",n=1,expand=True)\n",
    "data[\"increment_code\"]=data[\"increment_code\"].astype(int)\n",
    "data[\"increment_code\"] = data[\"increment_code\"].apply(lambda x: 1 if x<6 else 2 if x<16 else 3)\n",
    "data[\"rating_difference\"]=data[\"rating_difference\"].astype(float)\n",
    "data[\"turns\"]=data[\"turns\"].astype(float)\n",
    "data[\"opening_ply\"]=data[\"opening_ply\"].astype(float)"
   ]
  },
  {
   "cell_type": "code",
   "execution_count": 5,
   "id": "ec926791-c591-469c-af5a-04cc24a036a0",
   "metadata": {},
   "outputs": [
    {
     "data": {
      "text/html": [
       "<div>\n",
       "<style scoped>\n",
       "    .dataframe tbody tr th:only-of-type {\n",
       "        vertical-align: middle;\n",
       "    }\n",
       "\n",
       "    .dataframe tbody tr th {\n",
       "        vertical-align: top;\n",
       "    }\n",
       "\n",
       "    .dataframe thead th {\n",
       "        text-align: right;\n",
       "    }\n",
       "</style>\n",
       "<table border=\"1\" class=\"dataframe\">\n",
       "  <thead>\n",
       "    <tr style=\"text-align: right;\">\n",
       "      <th></th>\n",
       "      <th>rated</th>\n",
       "      <th>turns</th>\n",
       "      <th>winner</th>\n",
       "      <th>increment_code</th>\n",
       "      <th>opening_eco</th>\n",
       "      <th>opening_ply</th>\n",
       "      <th>rating_difference</th>\n",
       "      <th>average_rating</th>\n",
       "    </tr>\n",
       "  </thead>\n",
       "  <tbody>\n",
       "    <tr>\n",
       "      <th>0</th>\n",
       "      <td>False</td>\n",
       "      <td>13.0</td>\n",
       "      <td>1.0</td>\n",
       "      <td>2</td>\n",
       "      <td>D1</td>\n",
       "      <td>5.0</td>\n",
       "      <td>309.0</td>\n",
       "      <td>1345.5</td>\n",
       "    </tr>\n",
       "    <tr>\n",
       "      <th>1</th>\n",
       "      <td>True</td>\n",
       "      <td>16.0</td>\n",
       "      <td>0.0</td>\n",
       "      <td>1</td>\n",
       "      <td>B0</td>\n",
       "      <td>4.0</td>\n",
       "      <td>61.0</td>\n",
       "      <td>1291.5</td>\n",
       "    </tr>\n",
       "    <tr>\n",
       "      <th>2</th>\n",
       "      <td>True</td>\n",
       "      <td>61.0</td>\n",
       "      <td>1.0</td>\n",
       "      <td>1</td>\n",
       "      <td>C2</td>\n",
       "      <td>3.0</td>\n",
       "      <td>-4.0</td>\n",
       "      <td>1498.0</td>\n",
       "    </tr>\n",
       "    <tr>\n",
       "      <th>3</th>\n",
       "      <td>True</td>\n",
       "      <td>61.0</td>\n",
       "      <td>1.0</td>\n",
       "      <td>3</td>\n",
       "      <td>D0</td>\n",
       "      <td>3.0</td>\n",
       "      <td>-15.0</td>\n",
       "      <td>1446.5</td>\n",
       "    </tr>\n",
       "    <tr>\n",
       "      <th>4</th>\n",
       "      <td>True</td>\n",
       "      <td>95.0</td>\n",
       "      <td>1.0</td>\n",
       "      <td>3</td>\n",
       "      <td>C4</td>\n",
       "      <td>5.0</td>\n",
       "      <td>54.0</td>\n",
       "      <td>1496.0</td>\n",
       "    </tr>\n",
       "  </tbody>\n",
       "</table>\n",
       "</div>"
      ],
      "text/plain": [
       "   rated  turns  winner  increment_code opening_eco  opening_ply  \\\n",
       "0  False   13.0     1.0               2          D1          5.0   \n",
       "1   True   16.0     0.0               1          B0          4.0   \n",
       "2   True   61.0     1.0               1          C2          3.0   \n",
       "3   True   61.0     1.0               3          D0          3.0   \n",
       "4   True   95.0     1.0               3          C4          5.0   \n",
       "\n",
       "   rating_difference  average_rating  \n",
       "0              309.0          1345.5  \n",
       "1               61.0          1291.5  \n",
       "2               -4.0          1498.0  \n",
       "3              -15.0          1446.5  \n",
       "4               54.0          1496.0  "
      ]
     },
     "execution_count": 5,
     "metadata": {},
     "output_type": "execute_result"
    }
   ],
   "source": [
    "data.head()"
   ]
  },
  {
   "cell_type": "code",
   "execution_count": 9,
   "id": "8e0150b5-f074-498d-b8b5-3899d396285e",
   "metadata": {},
   "outputs": [
    {
     "name": "stdout",
     "output_type": "stream",
     "text": [
      "['rated', 'turns', 'increment_code', 'opening_eco', 'opening_ply', 'rating_difference', 'average_rating']\n",
      "[0 2 3]\n"
     ]
    }
   ],
   "source": [
    "data_catboost_ready_df = data.dropna()\n",
    "features = [feat for feat in list(data_catboost_ready_df) if feat != 'winner']\n",
    "print(features)\n",
    "categorical_features = np.where(data_catboost_ready_df[features].dtypes != np.float64)[0]\n",
    "print(categorical_features)"
   ]
  },
  {
   "cell_type": "code",
   "execution_count": 10,
   "id": "ce789cf3-d2df-4fa8-960e-c0d021a50b2c",
   "metadata": {},
   "outputs": [
    {
     "name": "stdout",
     "output_type": "stream",
     "text": [
      "0:\ttest: 0.6305904\tbest: 0.6305904 (0)\ttotal: 149ms\tremaining: 12m 26s\n",
      "200:\ttest: 0.7125365\tbest: 0.7126815 (197)\ttotal: 4.17s\tremaining: 1m 39s\n",
      "400:\ttest: 0.7359433\tbest: 0.7359433 (400)\ttotal: 8.27s\tremaining: 1m 34s\n",
      "600:\ttest: 0.7412445\tbest: 0.7412445 (600)\ttotal: 12.6s\tremaining: 1m 31s\n",
      "800:\ttest: 0.7441822\tbest: 0.7441822 (800)\ttotal: 17s\tremaining: 1m 28s\n",
      "1000:\ttest: 0.7490179\tbest: 0.7490179 (1000)\ttotal: 20.9s\tremaining: 1m 23s\n",
      "1200:\ttest: 0.7544223\tbest: 0.7544223 (1200)\ttotal: 24.6s\tremaining: 1m 17s\n",
      "1400:\ttest: 0.7588056\tbest: 0.7588097 (1399)\ttotal: 28.8s\tremaining: 1m 14s\n",
      "1600:\ttest: 0.7621217\tbest: 0.7621258 (1599)\ttotal: 33.4s\tremaining: 1m 10s\n",
      "1800:\ttest: 0.7645585\tbest: 0.7645746 (1798)\ttotal: 38.1s\tremaining: 1m 7s\n",
      "2000:\ttest: 0.7676283\tbest: 0.7676283 (2000)\ttotal: 41.3s\tremaining: 1m 1s\n",
      "2200:\ttest: 0.7709261\tbest: 0.7709261 (2200)\ttotal: 46s\tremaining: 58.5s\n",
      "2400:\ttest: 0.7736537\tbest: 0.7736572 (2397)\ttotal: 50.2s\tremaining: 54.4s\n",
      "2600:\ttest: 0.7762908\tbest: 0.7762908 (2600)\ttotal: 53.6s\tremaining: 49.5s\n",
      "2800:\ttest: 0.7782226\tbest: 0.7782261 (2798)\ttotal: 56.9s\tremaining: 44.7s\n",
      "3000:\ttest: 0.7805220\tbest: 0.7805351 (2994)\ttotal: 1m\tremaining: 40.4s\n",
      "3200:\ttest: 0.7825941\tbest: 0.7825950 (3199)\ttotal: 1m 4s\tremaining: 36.2s\n",
      "3400:\ttest: 0.7848186\tbest: 0.7848229 (3399)\ttotal: 1m 7s\tremaining: 31.9s\n",
      "3600:\ttest: 0.7869221\tbest: 0.7869221 (3600)\ttotal: 1m 11s\tremaining: 27.7s\n",
      "3800:\ttest: 0.7891918\tbest: 0.7891918 (3800)\ttotal: 1m 14s\tremaining: 23.6s\n",
      "4000:\ttest: 0.7908770\tbest: 0.7908770 (4000)\ttotal: 1m 18s\tremaining: 19.6s\n",
      "4200:\ttest: 0.7923338\tbest: 0.7923387 (4199)\ttotal: 1m 21s\tremaining: 15.6s\n",
      "4400:\ttest: 0.7940189\tbest: 0.7940269 (4398)\ttotal: 1m 25s\tremaining: 11.6s\n",
      "4600:\ttest: 0.7959594\tbest: 0.7959639 (4599)\ttotal: 1m 28s\tremaining: 7.68s\n",
      "4800:\ttest: 0.7978218\tbest: 0.7978218 (4800)\ttotal: 1m 32s\tremaining: 3.83s\n",
      "4999:\ttest: 0.7992174\tbest: 0.7992174 (4999)\ttotal: 1m 36s\tremaining: 0us\n",
      "\n",
      "bestTest = 0.7992173952\n",
      "bestIteration = 4999\n",
      "\n"
     ]
    },
    {
     "data": {
      "text/plain": [
       "<catboost.core.CatBoostClassifier at 0x26ef86eff40>"
      ]
     },
     "execution_count": 10,
     "metadata": {},
     "output_type": "execute_result"
    }
   ],
   "source": [
    "X_train, X_test, y_train, y_test = train_test_split(data[features], data[['winner']], test_size=0.6, random_state=42)\n",
    "params = {'iterations':5000,\n",
    "        'learning_rate':0.01,\n",
    "         'cat_features':categorical_features,\n",
    "         'depth':3,\n",
    "        'eval_metric':'AUC',\n",
    "       'verbose':200,\n",
    "        'od_type':\"Iter\",\n",
    "        'od_wait':500,\n",
    "        'random_seed': 1 }\n",
    "\n",
    "cat_model = CatBoostClassifier(**params)\n",
    "#cat_model.fit(X_train, y_train, eval_set=(X_test, y_test), use_best_model=True,plot=True);\n",
    "cat_model.fit(X_train, y_train,eval_set=(X_test, y_test),use_best_model=True)"
   ]
  },
  {
   "cell_type": "code",
   "execution_count": 11,
   "id": "ade1ec98-b5ec-482f-b368-13375eac5ef2",
   "metadata": {},
   "outputs": [],
   "source": [
    "import shap\n",
    "from shap import *# package used to calculate Shap values\n",
    "# SHapley Additive exPlanations\n",
    "# The goal of SHAP is to explain the prediction of an instance x by computing the contribution of each feature to the prediction. The SHAP explanation method computes Shapley values from coalitional game theory. The feature values of a data instance act as players in a coalition. Shapley values tell us how to fairly distribute the \"payout\" (= the prediction) among the features. \n",
    "\n",
    "from catboost import *\n",
    "explainer = shap.TreeExplainer(cat_model)\n",
    "shap_values = explainer.shap_values(X_train)"
   ]
  },
  {
   "cell_type": "code",
   "execution_count": 12,
   "id": "61dbf8e9-f805-45f9-ba4f-c78507a44450",
   "metadata": {},
   "outputs": [
    {
     "data": {
      "image/png": "[encoded data removed]",
      "text/plain": [
       "<Figure size 576x309.6 with 1 Axes>"
      ]
     },
     "metadata": {
      "needs_background": "light"
     },
     "output_type": "display_data"
    }
   ],
   "source": [
    "shap.summary_plot(shap_values, X_train)"
   ]
  },
  {
   "cell_type": "code",
   "execution_count": 24,
   "id": "d93ad55f-be8d-4ca4-9504-c0f0e4663472",
   "metadata": {},
   "outputs": [
    {
     "data": {
      "image/png": "[encoded data removed]",
      "text/plain": [
       "<Figure size 576x309.6 with 2 Axes>"
      ]
     },
     "metadata": {
      "needs_background": "light"
     },
     "output_type": "display_data"
    }
   ],
   "source": [
    "shap.summary_plot(shap_values[0], X_train)"
   ]
  },
  {
   "cell_type": "code",
   "execution_count": null,
   "id": "70ddd3c4-a0a0-40da-82f6-9102ef595630",
   "metadata": {},
   "outputs": [],
   "source": []
  },
  {
   "cell_type": "code",
   "execution_count": null,
   "id": "01415d20-ea65-4acf-936a-c236138bf63d",
   "metadata": {},
   "outputs": [],
   "source": []
  }
 ],
 "metadata": {
  "kernelspec": {
   "display_name": "Python 3",
   "language": "python",
   "name": "python3"
  },
  "language_info": {
   "codemirror_mode": {
    "name": "ipython",
    "version": 3
   },
   "file_extension": ".py",
   "mimetype": "text/x-python",
   "name": "python",
   "nbconvert_exporter": "python",
   "pygments_lexer": "ipython3",
   "version": "3.8.8"
  }
 },
 "nbformat": 4,
 "nbformat_minor": 5
}
