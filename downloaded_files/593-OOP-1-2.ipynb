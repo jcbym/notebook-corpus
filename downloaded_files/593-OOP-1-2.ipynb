{
  "nbformat": 4,
  "nbformat_minor": 0,
  "metadata": {
    "colab": {
      "name": "Prelim Exam.ipynb",
      "provenance": [],
      "authorship_tag": "ABX9TyO4si76Xf13GQpmjYE6Cygg",
      "include_colab_link": true
    },
    "kernelspec": {
      "name": "python3",
      "display_name": "Python 3"
    },
    "language_info": {
      "name": "python"
    }
  },
  "cells": [
    {
      "cell_type": "markdown",
      "metadata": {
        "id": "view-in-github",
        "colab_type": "text"
      },
      "source": [
        "<a href=\"https://colab.research.google.com/github/JHORIZ-RODEL-AQUINO/OOP-1-2/blob/main/Prelim_Exam.ipynb\" target=\"_parent\"><img src=\"https://colab.research.google.com/assets/colab-badge.svg\" alt=\"Open In Colab\"/></a>"
      ]
    },
    {
      "cell_type": "code",
      "execution_count": 7,
      "metadata": {
        "colab": {
          "base_uri": "https://localhost:8080/"
        },
        "id": "io5cm06ocQk5",
        "outputId": "22354f14-ea2c-44e1-c832-ef1718fcb51e"
      },
      "outputs": [
        {
          "output_type": "stream",
          "name": "stdout",
          "text": [
            "Name: Jhoriz Rodel F. Aquino \n",
            "Student Number: 202106201 \n",
            "Age: 19 \n",
            "School: Cavite State University \n",
            "Course: Bachelor of Science in Computer Engineering\n"
          ]
        }
      ],
      "source": [
        "class Student:\n",
        "  def __init__(self, Name, Student_No, Age, School, Course):\n",
        "    self.Name = Name\n",
        "    self.Student_No = Student_No\n",
        "    self.Age = Age\n",
        "    self.School = School\n",
        "    self.Course = Course\n",
        "\n",
        "  def Info(self):\n",
        "    print(f\"Name: {self.Name} \\nStudent Number: {self.Student_No} \\nAge: {self.Age} \\nSchool: {self.School} \\nCourse: {self.Course}\")\n",
        "    \n",
        "\n",
        "Myself = Student(\"Jhoriz Rodel F. Aquino\", 202106201, 19, \"Cavite State University\", \"Bachelor of Science in Computer Engineering\")\n",
        "Myself.Info()"
      ]
    }
  ]
}