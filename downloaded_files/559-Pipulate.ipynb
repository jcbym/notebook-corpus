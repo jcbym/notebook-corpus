{
 "cells": [
  {
   "cell_type": "code",
   "execution_count": null,
   "metadata": {
    "collapsed": true
   },
   "outputs": [],
   "source": [
    "# Re-run this freshen your external functions.\n",
    "import notebook_finder\n",
    "from imp import reload\n",
    "import functions_for_pipulate as kung; reload(kung)\n",
    "import functions_for_pipulate as kung; reload(kung)"
   ]
  },
  {
   "cell_type": "code",
   "execution_count": null,
   "metadata": {
    "collapsed": true,
    "scrolled": false
   },
   "outputs": [],
   "source": [
    "# Edit False to True and run this to update your goodproxies.txt\n",
    "update_proxies = False\n",
    "if update_proxies:    \n",
    "    import pipulate.update_proxies as up\n",
    "    up.Main()"
   ]
  },
  {
   "cell_type": "code",
   "execution_count": null,
   "metadata": {
    "collapsed": true
   },
   "outputs": [],
   "source": [
    "# Send a keyword to the serp function. Always use a list (as if a spreadsheet row).\n",
    "alist = kung.serp(['Dr Pepper'])\n",
    "alist"
   ]
  },
  {
   "cell_type": "code",
   "execution_count": null,
   "metadata": {
    "collapsed": true
   },
   "outputs": [],
   "source": [
    "import pipulate as gs\n",
    "import pandas as pd\n",
    "sheet_name = 'Search Results'\n",
    "sheet = gs.name(sheet_name)\n",
    "tab = sheet.sheet1"
   ]
  },
  {
   "cell_type": "code",
   "execution_count": null,
   "metadata": {
    "collapsed": true
   },
   "outputs": [],
   "source": [
    "# This applys the serp function with step-by-stride for long-list sanity.\n",
    "row1 = 1\n",
    "for i, x in enumerate(tab.col_values(2)):\n",
    "    if not x:\n",
    "        row1 = i+1\n",
    "        break\n",
    "\n",
    "rows = (row1, 100)\n",
    "cols = ('a', 'b')\n",
    "stride = 1\n",
    "sheet =gs.name(sheet_name)\n",
    "tab = sheet.sheet1\n",
    "cl, df = gs.pipulate(tab, rows, cols)\n",
    "steps = rows[1] - rows[0] + 1\n",
    "for i in range(steps):\n",
    "    row = i % stride\n",
    "    if not row:\n",
    "        r1 = rows[0] + i\n",
    "        r2 = r1 + stride - 1\n",
    "        rtup = (r1, r2)\n",
    "        print('Cells %s to %s:' % rtup)\n",
    "        cl, df = gs.pipulate(tab, rtup, cols)\n",
    "        df['B'] = df.apply(kung.serp, axis=1)\n",
    "        gs.populate(tab, cl, df)"
   ]
  },
  {
   "cell_type": "code",
   "execution_count": null,
   "metadata": {
    "collapsed": true
   },
   "outputs": [],
   "source": [
    "# Now we extract the position each keyword was in for the desired URL\n",
    "steps = rows[1] - rows[0] + 1\n",
    "for i in range(steps):\n",
    "    row = i % stride\n",
    "    if not row:\n",
    "        r1 = rows[0] + i\n",
    "        r2 = r1 + stride - 1\n",
    "        rtup = (r1, r2)\n",
    "        print('Cells %s to %s:' % rtup)\n",
    "        cl, df = gs.pipulate(tab, rtup, cols)\n",
    "        df['D'] = df.apply(kung.extract_pos, axis=1)\n",
    "        gs.populate(tab, cl, df)"
   ]
  }
 ],
 "metadata": {
  "kernelspec": {
   "display_name": "Python 3",
   "language": "python",
   "name": "python3"
  },
  "language_info": {
   "codemirror_mode": {
    "name": "ipython",
    "version": 3
   },
   "file_extension": ".py",
   "mimetype": "text/x-python",
   "name": "python",
   "nbconvert_exporter": "python",
   "pygments_lexer": "ipython3",
   "version": "3.6.2"
  }
 },
 "nbformat": 4,
 "nbformat_minor": 2
}
