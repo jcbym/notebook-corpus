{
  "nbformat": 4,
  "nbformat_minor": 0,
  "metadata": {
    "colab": {
      "name": "Problem Solving Programtically - Student.ipynb",
      "provenance": [],
      "collapsed_sections": []
    },
    "kernelspec": {
      "name": "python3",
      "display_name": "Python 3"
    }
  },
  "cells": [
    {
      "cell_type": "markdown",
      "metadata": {
        "colab_type": "text",
        "id": "_TjzrYqRewpS"
      },
      "source": [
        "#The Typical Problem Solving Advice\n",
        "If you google \"problem solving techniques\" you'll see countless websites filled with advice along the lines of:\n",
        "1. Define the problem\n",
        "2. Identify various solutions\n",
        "3. Evaluate and choose a solution\n",
        "4. Implement your solution\n",
        "\n",
        "<img src=\"https://asq.org/-/media/Images/Learn-About-Quality/problem-solving.png?la=en\"/>\n",
        "\n",
        "While these steps aren't terrible for general problems in your life, they hide a lot of what goes into problem solving and they also don't apply very well to programming. So let's take a look at programatic problem solving."
      ]
    },
    {
      "cell_type": "markdown",
      "metadata": {
        "colab_type": "text",
        "id": "1BtRiNNmkucm"
      },
      "source": [
        "# Problem Solving for Programmers\n",
        "\n",
        "<center><image src=\"https://encrypted-tbn0.gstatic.com/images?q=tbn:ANd9GcRS5MijpfNFRGagIYuZTHncViOe6m1GtuC7WaLfE5R-ZldjwIyu\"/></center>\n",
        "\n",
        "Before we dive into the steps of problem solving, let's grab a problem that we can apply the steps to. For some, this problem may seem trivial but the steps we take below apply equally well to more difficult problems.\n",
        "<br/>\n",
        "<br/>\n",
        "`If we list all the natural numbers below 10 that are multiples of 3 or 5, we get 3, 5, 6 and 9. The sum of these multiples is 23.\n",
        "Find the sum of all the multiples of 3 or 5 below a given natural number.`"
      ]
    },
    {
      "cell_type": "markdown",
      "metadata": {
        "colab_type": "text",
        "id": "kQCQF-ZLd8wY"
      },
      "source": [
        "One last thing: DO NOT write any code until it is explicitly stated. Any questions you are asked should be in plain language readable to anyone, even if you could just as easily write the code. This will not only demonstrate how much of the process is not reliant on coding ability, but will also be how you end up stepping through this problem solving on more complex challenges (even if it is just in your head). Don't cheat yourself out of good habits."
      ]
    },
    {
      "cell_type": "markdown",
      "metadata": {
        "colab_type": "text",
        "id": "WvXHuMJ4d2Lq"
      },
      "source": [
        "## 1. Believe that you can solve any problem you come across\n",
        "This step may seem hokey but it has an outsized impact on your ability to solve difficult problems. If you don't believe you have the tools to solve a problem you are likely to become discouraged, give up, and never solve the problem - a self fulfilling prophecy. If you believe a problem is beatable you are much more likely to put in the time and work to break it down and solve it.\n",
        "\n",
        "<center><img src=\"https://media.giphy.com/media/Vccpm1O9gV1g4/giphy.gif\"/></center>"
      ]
    },
    {
      "cell_type": "markdown",
      "metadata": {
        "colab_type": "text",
        "id": "E9SltRdB3eoH"
      },
      "source": [
        "## 2. Read the problem for understanding\n",
        "Understanding what the problem is asking is critical for getting a corrrect solution. If you are asked to subtract `b` from `a` but instead do `b-a` you are going to arrive at a solution that is correct adjacent but still wrong. Luckily, there are questions you can ask to make sure you understand what is being asked of you and what the end result will be. The questions below are not an exhaustive list, and some of these questions may not apply to every situation, but by asking yourself clarifying questions you'll be able to begin understanding the problem in a way that is helpful for translating it to code.\n",
        " - **What is the problem asking me to do?** Simply explain the problem in your own words to yourself, another person, or a rubber duck. Restating the problem is going to help you begin digesting the challenge."
      ]
    },
    {
      "cell_type": "markdown",
      "metadata": {
        "colab": {},
        "colab_type": "code",
        "id": "MOAKxHIo3tvL"
      },
      "source": [
        "the question is asking to take the sum of n mod 3,5  respectivly for any given starting number n"
      ]
    },
    {
      "cell_type": "markdown",
      "metadata": {
        "colab_type": "text",
        "id": "4t1v4KYG2xP1"
      },
      "source": [
        "- **What is the expected input?** What are the changeable values I'm giving to be transformed? What are the values I could change to make my code reusable over a bunch of similar situations? In code challenges this is easier to identify - what are the items that keep changing  in the examples but aren't the ending answer? In less formal problems, like when coding parts of a project, this may be a bit more difficult but still do-able, if it isn't your problem is likely not clearly stated. Don't just define your input vaguely you should know details such as data type (`int`, `float`, `bool`, etc.), size, length, can it be negative, etc.\n",
        " "
      ]
    },
    {
      "cell_type": "markdown",
      "metadata": {
        "colab": {},
        "colab_type": "code",
        "id": "aHG-0vGA3w9F"
      },
      "source": [
        "the exspected input is any whole number so an int between 0 and inf\n",
        "I would specify that the starting number has to be atleast 3 but there is nothing in the question the states there is a minum solution value, meaning that a _valid_ anwser could be 0"
      ]
    },
    {
      "cell_type": "markdown",
      "metadata": {
        "colab_type": "text",
        "id": "67vh_slq2xaL"
      },
      "source": [
        " - **What is the expected output?** What does end result look like? What do I expect to get out of this chunk of code? Just like with input, in a code challenge this is usually pretty clear, and just like with input we want to know the details of our output not just that it's a number.\n"
      ]
    },
    {
      "cell_type": "markdown",
      "metadata": {
        "colab": {},
        "colab_type": "code",
        "id": "c0Q5f5y934Ix"
      },
      "source": [
        "the exspected output is an int that represent the sum of the inteagers that mod into 3,5"
      ]
    },
    {
      "cell_type": "markdown",
      "metadata": {
        "colab_type": "text",
        "id": "XJZnec1U2xF3"
      },
      "source": [
        " - **Can I break this into smaller problems?** If the answer is yes, do it and use these sames steps on your smaller, easier problems. Once you solve the smaller easier problems, put it all back together."
      ]
    },
    {
      "cell_type": "markdown",
      "metadata": {
        "colab": {},
        "colab_type": "code",
        "id": "Keruy8Hu37Tp"
      },
      "source": [
        "im going to need to find all of the mod of 3 below number n, then sums for all mod 5 under n then add the sums togeather."
      ]
    },
    {
      "cell_type": "markdown",
      "metadata": {
        "colab_type": "text",
        "id": "8OCTJkkU3JgF"
      },
      "source": [
        " - **Are there any restrictions on what I can do?** Some problems come with restrictions, either arbitrary to test skill like in code challenges, or imposed by real world demands such as pre-existing code, customer requirements, speed, memory usage, etc. List them out so you don't solve the wrong problem."
      ]
    },
    {
      "cell_type": "markdown",
      "metadata": {
        "colab": {},
        "colab_type": "code",
        "id": "EuAfdkZq4AZc"
      },
      "source": [
        "There are no explicit restrictions for this problem, since infinity is not strictly 'a natural number' it is the quantity of members in the set of all natural numbers possible.\n",
        "additionaly while there are restrictions computationaly with picking an extremely large number as n the question does not explicitly state that conciterations should be made for the state of the hardwear being used to make the computation."
      ]
    },
    {
      "cell_type": "markdown",
      "metadata": {
        "colab_type": "text",
        "id": "AsYbG-6M3VXi"
      },
      "source": [
        " - **Have you seen similar problems?** This question becomes more powerful with experience but even if you are just starting with coding it is helpful to ask because you might have applicable experience from other aspects of your life. But why do we care if the problem looks familiar? Because you generally don't get points for being clever. Don't find a novel way to turn a screw when the screwdriver exist. In addition, even if a screwdriver is not an exact fit, it can point to a solution that does work. Sometimes just swapping out a bit (like the type of screwdriver head) is all you need to do to solve the problem."
      ]
    },
    {
      "cell_type": "markdown",
      "metadata": {},
      "source": [
        "I've seen a similar but more complex question called the monkey in a room with a typewritter problem aka the [Infinite monkey theorem](https://en.wikipedia.org/wiki/Infinite_monkey_theorem) \n",
        "it uses the same method to specify a target set and an impossible source of input of n characters long\n",
        "although the underling method of summing and taking the mod of numbers is diffrent a variation of the solution can be used for this problem"
      ]
    },
    {
      "cell_type": "markdown",
      "metadata": {
        "colab_type": "text",
        "id": "g8lBzARV4Ki2"
      },
      "source": [
        "## 3. Start with the simplest possible situation and scale up\n",
        "Understanding a problem at scale can be daunting, you see so much happening that may not be entirely clear to you. If you approach some problems trying to solve for the end result right away, you end up overwhelmed. If you take that same problem and solve for the simplest possible scenario it will usually be trivial but it gives you a starting point to build on. Slowly adding complexity will illuminate patterns in the problem that will allow you to solve it with greater ease.\n",
        " - **Start with the simplest possible situation, what should happen?**"
      ]
    },
    {
      "cell_type": "markdown",
      "metadata": {
        "colab": {},
        "colab_type": "code",
        "id": "8NBnOSit7G_v"
      },
      "source": [
        "make two list's  of numbers the list of mod 3 and the list of mod 5 then sum these list and add the products"
      ]
    },
    {
      "cell_type": "markdown",
      "metadata": {
        "colab_type": "text",
        "id": "I81T8T5A7Qpj"
      },
      "source": [
        " - **What is the next smallest step we can take?**"
      ]
    },
    {
      "cell_type": "markdown",
      "metadata": {
        "colab": {},
        "colab_type": "code",
        "id": "lBxAglzL8vMk"
      },
      "source": [
        "*confused"
      ]
    },
    {
      "cell_type": "markdown",
      "metadata": {
        "colab_type": "text",
        "id": "tRhpgxKD8v-9"
      },
      "source": [
        "- **Step through until the behavior changes**"
      ]
    },
    {
      "cell_type": "markdown",
      "metadata": {
        "colab": {},
        "colab_type": "code",
        "id": "9G8DTaAl86Eb"
      },
      "source": []
    },
    {
      "cell_type": "markdown",
      "metadata": {
        "colab_type": "text",
        "id": "38MMILL88-ef"
      },
      "source": [
        "- **Keep stepping through until you are sure there are no more unseen cases**"
      ]
    },
    {
      "cell_type": "markdown",
      "metadata": {
        "colab": {},
        "colab_type": "code",
        "id": "dMRz0Psi9WRZ"
      },
      "source": []
    },
    {
      "cell_type": "markdown",
      "metadata": {
        "colab_type": "text",
        "id": "9Ddl7XD5-lRJ"
      },
      "source": [
        "## 4. What are the steps we took to solve the problem manually?\n",
        "This step is an iterative process. We are going to list the steps, then try to simplify - rinse and repeat. This will take us to the limits of plain language so we will do one final step and write pseudocode. \n",
        "\n",
        "**[Pseudocode](https://en.wikipedia.org/wiki/Pseudocode)** is an informal high-level description of the operating principle of a computer program or other algorithm. It uses the structural conventions of a normal programming language, but is intended for human reading rather than machine reading. Pseudocode typically omits details that are essential for machine understanding of the algorithm, such as variable declarations."
      ]
    },
    {
      "cell_type": "markdown",
      "metadata": {
        "colab": {},
        "colab_type": "code",
        "id": "-6uXXTkIBjfs"
      },
      "source": [
        "```\n",
        "list1=empty\n",
        "list2=empty\n",
        "# iterate through numbers in n\n",
        "for i in n:\n",
        "    #if mod 3 then add to a list\n",
        "    if mod 3:\n",
        "        add_to(list1)\n",
        "    #if mod 5 then add to another list\n",
        "    elif mod 5:\n",
        "        add_to(list2)\n",
        "    # otherwise do nothing\n",
        "    else:\n",
        "        pass\n",
        "# return the product of the sum of the lists\n",
        "return sum(list1)+sum(list2)\n",
        "```"
      ]
    },
    {
      "cell_type": "markdown",
      "metadata": {
        "colab_type": "text",
        "id": "yjKkJ9MCBuMb"
      },
      "source": [
        "## 5. Translate your pseudocode to code\n",
        "We have finally arrived at the programming section of the problem solving technique. We have broken the problem down into tiny bits, we understand what we are giving and receiving, we know when things change, and we have small steps to work with. Only have to translate and we are done, right?\n",
        "\n",
        "One other thing, don't be so quick to wipe your pseudo code. You may be able to turn some of it into comments and save yourself some work later."
      ]
    },
    {
      "cell_type": "code",
      "execution_count": 7,
      "metadata": {},
      "outputs": [],
      "source": [
        "def func(n):\n",
        "    list1=[]\n",
        "    list2=[]\n",
        "    # iterate through numbers in n except the last number\n",
        "    for i in n[:-1]:\n",
        "        #if mod 3 then add to a list\n",
        "        if (i%3) == 0:\n",
        "            list1.append(i)\n",
        "        #if mod 5 then add to another list\n",
        "        if (i%5) == 0:\n",
        "            list2.append(i)\n",
        "        # otherwise do nothing\n",
        "        else:\n",
        "            pass\n",
        "    # return the product of the sum of the lists\n",
        "    return sum(list1)+sum(list2)"
      ]
    },
    {
      "cell_type": "code",
      "execution_count": 8,
      "metadata": {},
      "outputs": [
        {
          "data": {
            "text/plain": "23"
          },
          "execution_count": 8,
          "metadata": {},
          "output_type": "execute_result"
        }
      ],
      "source": [
        "test=[1,2,3,4,5,6,7,8,9,10] # should result with 23\n",
        "func(test)"
      ]
    },
    {
      "cell_type": "markdown",
      "metadata": {
        "colab_type": "text",
        "id": "sUpVa3CoDQ2U"
      },
      "source": [
        "## 6. Debug, refactor, debug, refactor, debug.....\n",
        "Often times you may have a solution that works in your head but doesn't work when translated. Or maybe it does but it results in code you would be embarrassed to show. This is where you fix that, read the error messages and bang out the kinks, and then make it pretty-ish. This is also a good time to mull over those restrictions from step 1 again. And remember, good code is DRY, so look for places you repeat or opportunities to make your code more universal, like putting it in a function."
      ]
    },
    {
      "cell_type": "code",
      "execution_count": 0,
      "metadata": {
        "colab": {},
        "colab_type": "code",
        "id": "QyOR2MG1NTZa"
      },
      "outputs": [],
      "source": [
        ""
      ]
    },
    {
      "cell_type": "markdown",
      "metadata": {
        "colab_type": "text",
        "id": "-9uGBD8WFsh0"
      },
      "source": [
        "## 7. Break it, debug, refactor...\n",
        "We were so close to being done why are we breaking it?! Because someone else will, intentionally or unintentionally, it may even be yourself later on in the same coding session. So how do we break it? We look for edge cases, corner cases, and even things no sane person should be doing. Depending on the issues we identify and the application for the code, we may not find it useful to patch some of these issues but you should still be aware of them. Robust, reusable code will make everyone's life easier.\n",
        "\n",
        "<center><image src=\"https://media.giphy.com/media/GWD5nSpiHxs3K/giphy.gif\" /></center>\n",
        "\n",
        "So what are some ways to break our code that a normal user might do? What about the dumbest user you can imagine? What are some cases that should work but are really extreme?"
      ]
    },
    {
      "cell_type": "markdown",
      "metadata": {
        "colab": {},
        "colab_type": "code",
        "id": "G1WIXz_WPBmq"
      },
      "source": []
    },
    {
      "cell_type": "markdown",
      "metadata": {
        "colab_type": "text",
        "id": "kK7VFzOsIaHj"
      },
      "source": [
        "## 8. Feedback, and Practice\n",
        "This is the step you should most take to heart if you want to become a good programmer. There is no secret sauce to becoming good at something, it boils down to getting feedback and practicing. \n",
        "\n",
        "Ask for input and critique, how could this have been written better? Too shy or no one around, self-critique and ask the internet - google your problem and see how other people did it. Side Note: DO NOT google an answer to copy and paste, you learn very little this way, especially if you don't understand why the code works. \n",
        "\n",
        "Practice is the other piece of the puzzle. Do code challenges on the regular. Choose problems that push you into unknown territory. Write code constantly. The more you do, the more you fail, the more you learn, the bettter you get."
      ]
    },
    {
      "cell_type": "code",
      "execution_count": 0,
      "metadata": {
        "colab": {},
        "colab_type": "code",
        "id": "Xb-tqsUptxz_"
      },
      "outputs": [],
      "source": [
        ""
      ]
    },
    {
      "cell_type": "markdown",
      "metadata": {
        "colab_type": "text",
        "id": "z4BVpQuTKYZQ"
      },
      "source": [
        "# One Final Note\n",
        "Failure is common, it is part of the process. Sometimes you will take on a problem you just don't grok. That is okay, work it honestly, try multiple solutions, and even if you end up with little to show for it you will likely have learned from it. Don't give up quickly but do step away if you get stuck, use the 20 minute rule because sometimes all you need is fresh eyes. If you do admit defeat, that's fine but don't stop there. Look at how other people solved the problem, understand each step of their process, look for how your approach differs. Knowing how you failed when someone else succeeded is overlooked as a teaching tool too often. Don't take the **L** and walk away, learn and get a rematch later on.\n",
        "\n",
        "<center><image src=\"https://68.media.tumblr.com/7f4a6f3af97919971bec404bc638c28a/tumblr_odwxteBSgv1rp0vkjo1_500.gif\"></center>"
      ]
    },
    {
      "cell_type": "code",
      "execution_count": 0,
      "metadata": {
        "colab": {},
        "colab_type": "code",
        "id": "HGakHx82L4_9"
      },
      "outputs": [],
      "source": [
        ""
      ]
    },
    {
      "cell_type": "markdown",
      "metadata": {
        "colab_type": "text",
        "id": "IAmGVjVHLpqX"
      },
      "source": [
        "#Assignment\n",
        "For the code challenges below, step through all parts of the problem solving techniques above and write out everything just like we did in lecture. If you can't solve a problem - ask for help, use the 20 minute rule, pair program. If you finally concede, look up an answer and explain how your attempts differ from what the solution is doing, and what the solution code is doing at each step (add copious comments to their code once you copy and paste it in to the notebook)\n",
        "\n",
        "## 1. Fibonacci Sum\n",
        "\n",
        "Each new term in the Fibonacci sequence is generated by adding the previous two terms. By starting with 1 and 2, the first 10 terms will be:\n",
        "\n",
        "1, 2, 3, 5, 8, 13, 21, 34, 55, 89, ...\n",
        "\n",
        "By considering the terms in the Fibonacci sequence whose values do not exceed four million, find the sum of the even-valued terms.\n",
        "\n",
        "## 2. Number of Letters in Numbers\n",
        "If the numbers 1 to 5 are written out in words: one, two, three, four, five, then there are 3 + 3 + 5 + 4 + 4 = 19 letters used in total.\n",
        "\n",
        "If all the numbers from 1 to 1000 (one thousand) inclusive were written out in words, how many letters would be used?\n",
        "\n",
        "NOTE: Do not count spaces or hyphens. For example, 342 (three hundred and forty-two) contains 23 letters and 115 (one hundred and fifteen) contains 20 letters. The use of \"and\" when writing out numbers is in compliance with British usage.\n",
        "\n",
        "## 3.  Flea Circus\n",
        "A 30×30 grid of squares contains 900 fleas, initially one flea per square.\n",
        "When a bell is rung, each flea jumps to an adjacent square at random (usually 4 possibilities, except for fleas on the edge of the grid or at the corners).\n",
        "\n",
        "What is the expected number of unoccupied squares after 50 rings of the bell?\n",
        "\n",
        "## Stretch Goal\n",
        "Find a code challenge site from google or the resources below and continue practicing the techniques above.\n"
      ]
    },
    {
      "cell_type": "markdown",
      "metadata": {
        "colab_type": "text",
        "id": "8-4MxzXxNmXr"
      },
      "source": [
        "#Resources\n",
        "##Code Challenge Websites\n",
        " - [Project Euler](projecteuler.net)\n",
        " - [Top Coder](topcoder.com)\n",
        " - [Coderbyte](coderbyte.com)\n",
        " - [Hacker Rank](hackerrank.com)\n",
        "\n",
        "##Books\n",
        " - [Cracking the Coding Interview](http://www.crackingthecodinginterview.com/)\n",
        " - [Think Like a Programmer](https://nostarch.com/thinklikeaprogrammer)\n",
        "\n",
        "##Video\n",
        " - [Your Brain's API - Giving and Getting Technical Help](https://www.youtube.com/watch?v=hY14Er6JX2s)\n",
        "  - [Supporting Slide Deck](https://speakerdeck.com/slaundy/your-brains-api-getting-and-giving-technical-help)"
      ]
    }
  ]
}