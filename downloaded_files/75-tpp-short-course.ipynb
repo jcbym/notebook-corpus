{
 "cells": [
  {
   "cell_type": "markdown",
   "metadata": {},
   "source": [
    "# Code for Lecture-1 of Short Course of Temporal Point Processes"
   ]
  },
  {
   "cell_type": "code",
   "execution_count": 4,
   "metadata": {},
   "outputs": [],
   "source": [
    "import numpy as np\n",
    "import torch"
   ]
  },
  {
   "cell_type": "code",
   "execution_count": 18,
   "metadata": {},
   "outputs": [
    {
     "data": {
      "text/plain": [
       "<torch._C.Generator at 0x112bfe7b0>"
      ]
     },
     "execution_count": 18,
     "metadata": {},
     "output_type": "execute_result"
    }
   ],
   "source": [
    "# fix random seed \n",
    "np.random.seed(12345)\n",
    "torch.random.manual_seed(12345)"
   ]
  },
  {
   "cell_type": "markdown",
   "metadata": {},
   "source": [
    "## Univariate Point Process with Constant Intensity"
   ]
  },
  {
   "cell_type": "markdown",
   "metadata": {},
   "source": [
    "### Sampling a sequence of events"
   ]
  },
  {
   "cell_type": "code",
   "execution_count": 12,
   "metadata": {},
   "outputs": [],
   "source": [
    "# function of sampling next event given constant intensity \n",
    "# method : inversion sampling \n",
    "def draw_dt_invsam(intensity): \n",
    "    u = np.random.uniform(low=0.0, high=1.0)\n",
    "    return -np.log(1-u)/intensity"
   ]
  },
  {
   "cell_type": "code",
   "execution_count": 49,
   "metadata": {},
   "outputs": [
    {
     "name": "stdout",
     "output_type": "stream",
     "text": [
      "over time interval [0, 1000.0]\n",
      "# of events : 496\n",
      "time of 0-th event : 4.4187\n",
      "time of 495-th event : 995.1007\n"
     ]
    }
   ],
   "source": [
    "# draw a sequence over [0, T]\n",
    "# from a point process with constant intensity\n",
    "T = 1000.0\n",
    "intensity = 0.5\n",
    "t = 0\n",
    "seq = []\n",
    "\n",
    "while True:\n",
    "    dt = draw_dt_invsam(intensity)\n",
    "    t += dt\n",
    "    if t <= T: \n",
    "        seq += [t]\n",
    "    else: \n",
    "        break\n",
    "\n",
    "# check the data \n",
    "print(f\"over time interval [0, {T}]\")\n",
    "print(f\"# of events : {len(seq)}\")\n",
    "print(f\"time of 0-th event : {seq[0]:.4f}\")\n",
    "print(f\"time of {len(seq)-1}-th event : {seq[-1]:.4f}\")"
   ]
  },
  {
   "cell_type": "markdown",
   "metadata": {},
   "source": [
    "### Estimate intensity by maximum log-likelihood estimation (MLE)\n",
    "\n",
    "When intensity is a constant, the MLE is ${I}/(T - t_0)$ where $I$ is the number events and $[t_0, T]$ is the observation interval"
   ]
  },
  {
   "cell_type": "code",
   "execution_count": 50,
   "metadata": {},
   "outputs": [
    {
     "name": "stdout",
     "output_type": "stream",
     "text": [
      "true intenstiy is : 0.5\n",
      "estimate by MLE is : 0.496\n"
     ]
    }
   ],
   "source": [
    "# MLE : # of events / (T - t_0)\n",
    "\n",
    "intensity_mle = len(seq) / (T - 0.0)\n",
    "\n",
    "# check the estimate\n",
    "print(f\"true intenstiy is : {intensity}\")\n",
    "print(f\"estimate by MLE is : {intensity_mle}\")"
   ]
  },
  {
   "cell_type": "markdown",
   "metadata": {},
   "source": [
    "### Predict next event time by minimum Bayes risk (MBR)\n",
    "\n",
    "MBR prediction for next event time is $\\int_{s}^{\\infty} t p(t) dt$ where $s$ is the starting time and $p(t) = \\lambda \\exp(-\\lambda (t-s))$ is the density function of next event time $t \\geq s$. \n",
    "When $\\lambda$ is constant, it is as simple as $(\\lambda s + 1) / \\lambda = s + 1/\\lambda$.\n",
    "So it is the starting time $s$ plus the expected $dt$ with given intensity $\\lambda$.  "
   ]
  },
  {
   "cell_type": "code",
   "execution_count": 51,
   "metadata": {},
   "outputs": [
    {
     "name": "stdout",
     "output_type": "stream",
     "text": [
      "check time prediction accuracy\n",
      "RMSE using estimated intensity : 2.3414\n",
      "RMSE using true intensity : 2.3414\n"
     ]
    }
   ],
   "source": [
    "se_mle, se_true = 0.0, 0.0\n",
    "for i, s in enumerate([0.0] + seq[:-1]): \n",
    "    t_pred_mle = s + 1.0 / intensity_mle\n",
    "    t_pred_true = s + 1.0 / intensity\n",
    "    t = seq[i]\n",
    "    se_mle += (t_pred_mle - t) ** 2\n",
    "    se_true += (t_pred_true - t) ** 2\n",
    "\n",
    "rmse_mle = np.sqrt(se_mle / len(seq))\n",
    "rmse_true = np.sqrt(se_true / len(seq))\n",
    "\n",
    "print(f\"check time prediction accuracy\")\n",
    "print(f\"RMSE using estimated intensity : {rmse_mle:.4f}\")\n",
    "print(f\"RMSE using true intensity : {rmse_true:.4f}\")"
   ]
  },
  {
   "cell_type": "markdown",
   "metadata": {},
   "source": [
    "## Multivariate Point Process with Constant Intensities"
   ]
  },
  {
   "cell_type": "markdown",
   "metadata": {},
   "source": [
    "### Sampling a sequence of events¶"
   ]
  },
  {
   "cell_type": "code",
   "execution_count": 52,
   "metadata": {},
   "outputs": [
    {
     "name": "stdout",
     "output_type": "stream",
     "text": [
      "over time interval [0, 1000.0]\n",
      "# of events : 1009\n",
      "time of 0-th event : 0.2168\n",
      "time of 1008-th event : 999.0822\n",
      "# of type-0 : 754\n",
      "# of type-1 : 255\n"
     ]
    }
   ],
   "source": [
    "# draw a sequence over [0, T]\n",
    "# from a point process with constant intensity\n",
    "T = 1000.0\n",
    "intens = [0.75, 0.25]\n",
    "intensity = sum(intens)\n",
    "probs = np.array(intens) / intensity\n",
    "t = 0\n",
    "seq = []\n",
    "\n",
    "while True:\n",
    "    # draw dt using inversion sampling\n",
    "    dt = draw_dt_invsam(intensity)\n",
    "    t += dt\n",
    "    if t <= T: \n",
    "        # draw type from categorical dist\n",
    "        k = np.random.choice(2, p=probs)\n",
    "        seq += [(t, k)]\n",
    "    else: \n",
    "        break\n",
    "\n",
    "# check the data \n",
    "c0 = 0\n",
    "for x in seq: \n",
    "    if x[1] == 0: \n",
    "        c0 += 1\n",
    "c1 = len(seq) - c0\n",
    "print(f\"over time interval [0, {T}]\")\n",
    "print(f\"# of events : {len(seq)}\")\n",
    "print(f\"time of 0-th event : {seq[0][0]:.4f}\")\n",
    "print(f\"time of {len(seq)-1}-th event : {seq[-1][0]:.4f}\")\n",
    "print(f\"# of type-0 : {c0}\")\n",
    "print(f\"# of type-1 : {c1}\")"
   ]
  },
  {
   "cell_type": "markdown",
   "metadata": {},
   "source": [
    "### Estimate intensities by MLE\n",
    "\n",
    "When intensities are constants, the MLE is $\\lambda_0 = {I}_0/(T - t_0)$ and $\\lambda_1 = I_1 / (T - t_0)$ where $I_k$ is the number events of $k$-th type and $[t_0, T]$ is the observation interval. "
   ]
  },
  {
   "cell_type": "code",
   "execution_count": 57,
   "metadata": {},
   "outputs": [
    {
     "name": "stdout",
     "output_type": "stream",
     "text": [
      "true intensties are : [0.75, 0.25]\n",
      "estimates by MLE is : [0.75, 0.26]\n"
     ]
    }
   ],
   "source": [
    "# MLE : # of events / (T - t_0)\n",
    "\n",
    "inten0_mle = c0 / (T - 0.0)\n",
    "inten1_mle = c1 / (T - 0.0)\n",
    "intensity_mle = inten0_mle + inten1_mle\n",
    "\n",
    "# check the estimate\n",
    "print(f\"true intensties are : {intens}\")\n",
    "print(f\"estimates by MLE is : [{inten0_mle:.2f}, {inten1_mle:.2f}]\")"
   ]
  },
  {
   "cell_type": "markdown",
   "metadata": {},
   "source": [
    "### Predict next event time and type by minimum Bayes risk (MBR)\n",
    "\n",
    "MBR prediction for next event time is $\\int_{s}^{\\infty} t p(t) dt$ where $s$ is the starting time, $p(t) = \\lambda \\exp(-\\lambda (t-s))$ is the density function of next event time $t \\geq s$, and $\\lambda = \\lambda_0 + \\lambda_1$ is the total intensity. \n",
    "When $\\lambda_0$ and $\\lambda_1$ are constants, it is as simple as $(\\lambda s + 1) / \\lambda = s + 1/\\lambda$, the same as in the univariate case because time prediction is only dependent on the total intensity, but not individual intensities. \n",
    "\n",
    "MBR prediction for type given time is $\\arg\\!\\max_k \\lambda_k$. "
   ]
  },
  {
   "cell_type": "code",
   "execution_count": 58,
   "metadata": {},
   "outputs": [
    {
     "name": "stdout",
     "output_type": "stream",
     "text": [
      "check time prediction accuracy\n",
      "RMSE using estimated intensity : 1.0192\n",
      "RMSE using true intensity : 1.0192\n",
      "\n",
      "check type prediction error rate\n",
      "Error Rate using estimated intensities : 25.27%\n",
      "Error Rate using true intensities : 25.27%\n"
     ]
    }
   ],
   "source": [
    "se_mle, se_true = 0.0, 0.0\n",
    "nerr_mle, nerr_true = 0, 0 \n",
    "for i, s in enumerate([(0.0, None)] + seq[:-1]): \n",
    "    # time\n",
    "    t_pred_mle = s[0] + 1.0 / intensity_mle\n",
    "    t_pred_true = s[0] + 1.0 / intensity\n",
    "    t = seq[i][0]\n",
    "    se_mle += (t_pred_mle - t) ** 2\n",
    "    se_true += (t_pred_true - t) ** 2\n",
    "    # type \n",
    "    k_mle = np.argmax([inten0_mle, inten1_mle])\n",
    "    k_true = np.argmax(intens)\n",
    "    k = seq[i][1]\n",
    "    if k_mle != k: \n",
    "        nerr_mle += 1\n",
    "    if k_true != k: \n",
    "        nerr_true += 1\n",
    "\n",
    "rmse_mle = np.sqrt(se_mle / len(seq))\n",
    "rmse_true = np.sqrt(se_true / len(seq))\n",
    "\n",
    "print(f\"check time prediction accuracy\")\n",
    "print(f\"RMSE using estimated intensity : {rmse_mle:.4f}\")\n",
    "print(f\"RMSE using true intensity : {rmse_true:.4f}\")\n",
    "\n",
    "print(f\"\\ncheck type prediction error rate\")\n",
    "print(f\"Error Rate using estimated intensities : {100.0*nerr_mle/len(seq):.2f}%\")\n",
    "print(f\"Error Rate using true intensities : {100.0*nerr_true/len(seq):.2f}%\")\n"
   ]
  },
  {
   "cell_type": "markdown",
   "metadata": {},
   "source": [
    "Note: this model will always predict $k=0$ because $\\lambda_0 > \\lambda_1$ holds for all the infinitely many time points. \n",
    "This model is of course bad because it doesn't consider any context. \n",
    "We will walk through better models in the next lecture."
   ]
  },
  {
   "cell_type": "code",
   "execution_count": null,
   "metadata": {},
   "outputs": [],
   "source": []
  }
 ],
 "metadata": {
  "kernelspec": {
   "display_name": "tppcourse",
   "language": "python",
   "name": "tppcourse"
  },
  "language_info": {
   "codemirror_mode": {
    "name": "ipython",
    "version": 3
   },
   "file_extension": ".py",
   "mimetype": "text/x-python",
   "name": "python",
   "nbconvert_exporter": "python",
   "pygments_lexer": "ipython3",
   "version": "3.8.6"
  }
 },
 "nbformat": 4,
 "nbformat_minor": 2
}
