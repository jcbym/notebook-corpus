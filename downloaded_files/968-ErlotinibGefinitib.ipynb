{
 "cells": [
  {
   "cell_type": "markdown",
   "metadata": {},
   "source": [
    "# Modelling the Tumour Growth Inhibitory Effects of Erlotinib and Gefitinib\n",
    "\n",
    "Erlotinib and Gefitinib are tyrosine kinase inhibitors (TKIs) which are used in clinical practice to treat epidermoid cancers. In particular, both drugs deactivate the EGFR tyrosine kinase which is widely associated with tumour cell proliferation, regeneration, differentiation, and development. In this project, we model the pharmacokinetics and pharmacodynamics of Erlotinib and Gefitinib in mice to better understand the tumour growth inhibiting effects of those two compounds. Of particular interest is the *in silico* exploration of efficacious dosing regimens. This will allow us to suggest optimally efficacious treatment strategies with Erlotinib or Gefitinib.\n",
    "\n",
    "Our analysis starts with re-analysing *in vivo* data sets published in a study from 2016 [1]. Here the tumour growth of patient-derived tumour explants LXF A677 (adenocarcinoma of the lung) and cell line-derived tumour xenografts VXF A431 (vulva cancer) in mice was monitored. Each experiment comprised a control group and three groups that were treated with one of three dosing regimens. All treatments were orally administered once a day in different intervals, see Figure 1.\n",
    "\n",
    "(WILL BE EXTENDED AS THE PROJECT EVOLVES)"
   ]
  },
  {
   "cell_type": "markdown",
   "metadata": {},
   "source": [
    "## Bibliography\n",
    "\n",
    "- <a name=\"ref1\"> [1] </a> Eigenmann et. al., Combining Nonclinical Experiments with Translational PKPD Modeling to Differentiate Erlotinib and Gefitinib, Mol Cancer Ther (2016)"
   ]
  },
  {
   "cell_type": "markdown",
   "metadata": {},
   "source": [
    "[Back to GitHub repository](https://github.com/DavAug/ErlotinibGefitinib)"
   ]
  }
 ],
 "metadata": {
  "language_info": {
   "codemirror_mode": {
    "name": "ipython",
    "version": 3
   },
   "file_extension": ".py",
   "mimetype": "text/x-python",
   "name": "python",
   "nbconvert_exporter": "python",
   "pygments_lexer": "ipython3",
   "version": 3
  },
  "orig_nbformat": 2
 },
 "nbformat": 4,
 "nbformat_minor": 2
}