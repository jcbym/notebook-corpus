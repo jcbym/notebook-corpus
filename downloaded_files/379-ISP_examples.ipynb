{
 "cells": [
  {
   "cell_type": "markdown",
   "metadata": {},
   "source": [
    "### Solution 1"
   ]
  },
  {
   "cell_type": "code",
   "execution_count": 1,
   "metadata": {},
   "outputs": [
    {
     "name": "stdout",
     "output_type": "stream",
     "text": [
      "모평균: 46.50\n",
      "모분산: 15.25\n"
     ]
    }
   ],
   "source": [
    "# a)\n",
    "prob_dic = {40:0.2, 45:0.3, 50:0.5}\n",
    "X_mean = sum([x*prob for x, prob in prob_dic.items()])\n",
    "X_var = sum([((x-X_mean)**2)*prob for x, prob in prob_dic.items()])\n",
    "print(f\"모평균: {X_mean:.2f}\")\n",
    "print(f\"모분산: {X_var:.2f}\")"
   ]
  },
  {
   "cell_type": "code",
   "execution_count": 2,
   "metadata": {},
   "outputs": [
    {
     "name": "stdout",
     "output_type": "stream",
     "text": [
      "표본 평균: 46.50\n",
      "표본 분산: 7.63\n"
     ]
    }
   ],
   "source": [
    "# b)\n",
    "n = 2\n",
    "sample_mean = X_mean\n",
    "sample_var = X_var / n\n",
    "print(f\"표본 평균: {sample_mean:.2f}\")\n",
    "print(f\"표본 분산: {sample_var:.2f}\")"
   ]
  }
 ],
 "metadata": {
  "kernelspec": {
   "display_name": "Python 3",
   "language": "python",
   "name": "python3"
  },
  "language_info": {
   "codemirror_mode": {
    "name": "ipython",
    "version": 3
   },
   "file_extension": ".py",
   "mimetype": "text/x-python",
   "name": "python",
   "nbconvert_exporter": "python",
   "pygments_lexer": "ipython3",
   "version": "3.7.4"
  }
 },
 "nbformat": 4,
 "nbformat_minor": 2
}
