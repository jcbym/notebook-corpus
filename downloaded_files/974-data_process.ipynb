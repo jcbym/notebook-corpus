{
 "cells": [
  {
   "cell_type": "code",
   "execution_count": 10,
   "metadata": {},
   "outputs": [],
   "source": [
    "from glob import glob\n",
    "import os\n",
    "import shutil\n",
    "from time import time\n",
    "from tqdm import tqdm\n",
    "import shutil"
   ]
  },
  {
   "cell_type": "code",
   "execution_count": 7,
   "metadata": {},
   "outputs": [],
   "source": [
    "#dirs to files\n",
    "total_files = []\n",
    "\n",
    "def dirs2files(root):\n",
    "     for path, dirs, files in os.walk(root):\n",
    "        if len(files) > 0:\n",
    "            total_files.extend(glob(os.path.join(path, '*.jpg')))\n",
    "        if len(dirs) > 0:\n",
    "            for dr in dirs:\n",
    "                dirs2files(dr)\n",
    "            \n",
    "        \n",
    "root = '/Users/huangkai/Desktop/workspace/'\n",
    "store_root = '/Users/huangkai/Desktop/data/guotu/wuxi/org'\n",
    "dirs2files(root)\n",
    "for p in tqdm(total_files):\n",
    "    if os.path.exists(p):\n",
    "        shutil.copy(p, store_root)\n",
    "    else:\n",
    "        print(p)"
   ]
  },
  {
   "cell_type": "code",
   "execution_count": 22,
   "metadata": {},
   "outputs": [],
   "source": [
    "image_root = '/Users/huangkai/Desktop/data/guotu/wuxi/org'\n",
    "store_root = '/Users/huangkai/Desktop/data/guotu/wuxi/split'\n",
    "paths = glob(os.path.join(image_root, '*.jpg'))\n",
    "interval = 100\n",
    "flag = 10\n",
    "f = 0\n",
    "for i in range(0, len(paths), interval):\n",
    "    begin = i\n",
    "    end = i + interval\n",
    "    store_dir = os.path.join(store_root, str(begin))\n",
    "    if not os.path.exists(store_dir):\n",
    "        os.makedirs(store_dir)\n",
    "    for p in paths[begin:end]:shutil.copy(p, store_dir)\n",
    "    f += 1\n",
    "    if f > flag:\n",
    "        break"
   ]
  }
 ],
 "metadata": {
  "kernelspec": {
   "display_name": "Python 3",
   "language": "python",
   "name": "python3"
  },
  "language_info": {
   "codemirror_mode": {
    "name": "ipython",
    "version": 3
   },
   "file_extension": ".py",
   "mimetype": "text/x-python",
   "name": "python",
   "nbconvert_exporter": "python",
   "pygments_lexer": "ipython3",
   "version": "3.7.3"
  }
 },
 "nbformat": 4,
 "nbformat_minor": 2
}
