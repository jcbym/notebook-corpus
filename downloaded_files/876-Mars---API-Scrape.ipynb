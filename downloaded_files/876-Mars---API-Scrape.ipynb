{
 "cells": [
  {
   "cell_type": "code",
   "execution_count": 89,
   "metadata": {},
   "outputs": [],
   "source": [
    "from splinter import Browser\n",
    "from bs4 import BeautifulSoup"
   ]
  },
  {
   "cell_type": "code",
   "execution_count": 90,
   "metadata": {},
   "outputs": [],
   "source": [
    "executable_path = {'executable_path': 'chromedriver.exe'}\n",
    "browser = Browser('chrome', **executable_path, headless=False)"
   ]
  },
  {
   "cell_type": "code",
   "execution_count": 91,
   "metadata": {},
   "outputs": [],
   "source": [
    "url = 'https://mars.nasa.gov/news/'\n",
    "browser.visit(url)"
   ]
  },
  {
   "cell_type": "code",
   "execution_count": 97,
   "metadata": {},
   "outputs": [
    {
     "name": "stdout",
     "output_type": "stream",
     "text": [
      "-----------\n",
      "Opportunity Hunkers Down During Dust Storm\n",
      "Science operations for NASA's Opportunity rover have been temporarily suspended as it waits out a growing dust storm on Mars.\n",
      "-----------\n",
      "NASA Finds Ancient Organic Material, Mysterious Methane on Mars\n",
      "NASA’s Curiosity rover has found evidence on Mars with implications for NASA’s search for life.\n",
      "-----------\n",
      "NASA to Host Live Discussion on New Mars Science Results\n",
      "Questions are welcome during a live discussion at 11 a.m. PDT (2 p.m. EDT) Thursday, June 7, on new science results from NASA's Mars Curiosity rover.\n",
      "-----------\n",
      "Mars Curiosity's Labs Are Back in Action\n",
      "NASA's Curiosity rover is analyzing drilled samples on Mars in one of its onboard labs for the first time in more than a year.\n",
      "-----------\n",
      "NASA CubeSats Steer Toward Mars\n",
      "NASA has achieved a first for the class of tiny spacecraft known as CubeSats, which are opening new access to space.\n",
      "-----------\n",
      "Scientists Shrink Chemistry Lab to Seek Evidence of Life on Mars\n",
      "An international team of scientists has created a tiny chemistry lab for a rover that will drill beneath the Martian surface looking for signs of past or present life.\n",
      "-----------\n",
      "InSight Steers Toward Mars\n",
      "The spacecraft has completed its first trajectory correction maneuver.\n",
      "-----------\n",
      "Drilling Success: Curiosity is Collecting Mars Rocks\n",
      "Engineers will now test delivering samples to instruments inside NASA's Curiosity Mars rover.\n",
      "-----------\n",
      "NASA's Curiosity Rover Aims to Get Its Rhythm Back\n",
      "Rover engineers at JPL will try to restore percussive drilling on Mars this week, part of a larger series of tests that will last through summer.\n",
      "-----------\n",
      "A Pale Blue Dot, As Seen by a CubeSat\n",
      "One of NASA's MarCO CubeSats has taken its first image.\n",
      "-----------\n",
      "Mars Helicopter to Fly on NASA’s Next Red Planet Rover Mission\n",
      "NASA is adding a Mars helicopter to the agency’s next mission to the Red Planet, Mars 2020.\n",
      "-----------\n",
      "NASA's First Deep-Space CubeSats Say: 'Polo!'\n",
      "MarCO is a pair of tiny spacecraft that launched with NASA's InSight lander today.\n",
      "-----------\n",
      "NASA, ULA Launch Mission to Study How Mars Was Made\n",
      "NASA’s Mars InSight mission launched this morning on a 300-million-mile trip to Mars to study for the first time what lies deep beneath the surface of the Red Planet.\n",
      "-----------\n",
      "NASA’s First Mission to Study the Interior of Mars Awaits May 5 Launch\n",
      "All systems are go for NASA’s next launch to the Red Planet. \n",
      "-----------\n",
      "Vice President Pence Visits JPL, Previews NASA’s Next Mars Mission Launch\n",
      "A week before NASA's next Mars launch, Vice President Mike Pence toured the birthplace of the InSight Mars Lander and numerous other past, present and future space missions.\n",
      "-----------\n",
      "NASA Sets Sights on May 5 Launch of InSight to Mars\n",
      "NASA’s next mission to Mars, InSight, is scheduled to launch Saturday, May 5, on a first-ever mission to study the heart of the Red Planet.\n",
      "-----------\n",
      "Results of Heat Shield Testing\n",
      "A post-test inspection of the composite structure for a heat shield to be used on the Mars 2020 mission revealed that a fracture occurred during structural testing.\n",
      "-----------\n",
      "NASA Engineers Dream Big with Small Spacecraft\n",
      "The first CubeSat mission to deep space will launch in May.\n",
      "-----------\n",
      "Bound for Mars: Countdown to First Interplanetary Launch from California\n",
      "On May 5, millions of Californians may witness the historic first interplanetary launch from America’s West Coast.\n",
      "-----------\n",
      "NASA Invests in Visionary Technology \n",
      "NASA is investing in technology concepts, including several from JPL, that may one day be used for future space exploration missions.\n",
      "-----------\n",
      "NASA is Ready to Study the Heart of Mars\n",
      "NASA is about to go on a journey to study the center of Mars.\n",
      "-----------\n",
      "‘Marsquakes’ Could Shake Up Planetary Science\n",
      "InSight, the next mission to the Red Planet, will use seismology to see into the depths of Mars.\n",
      "-----------\n",
      "Mars Curiosity Celebrates Sol 2,000\n",
      "NASA's Mars Curiosity rover just hit a new milestone: its two-thousandth Martian day on the Red Planet. An image mosaic taken recently offers a preview of what comes next.\n",
      "-----------\n",
      "NASA Briefing on First Mission to Study Mars Interior\n",
      "NASA’s next mission to Mars will be the topic of a media briefing Thursday, March 29, at JPL. The briefing will air live on NASA Television and the agency’s website.\n",
      "-----------\n",
      "New 'AR' Mobile App Features 3-D NASA Spacecraft\n",
      "NASA spacecraft travel to far-off destinations in space, but a new mobile app produced by NASA's Jet Propulsion Laboratory, Pasadena, California, brings spacecraft to users.\n",
      "-----------\n",
      "NASA Mars Mission Tours California\n",
      "Scientists and engineers with NASA's next mission to Mars will be touring California cities starting this month.\n",
      "-----------\n",
      "Next NASA Mars Rover Reaches Key Manufacturing Milestone\n",
      "NASA's Mars 2020 mission has begun the assembly, test and launch operations (ATLO) phase of its development, on track for a July 2020 launch to Mars.\n",
      "-----------\n",
      "Witness First Mars Launch from West Coast\n",
      "NASA invites digital creators to apply for social media credentials to cover the launch of the InSight mission to Mars, May 3-5, at California's Vandenberg Air Force Base.\n",
      "-----------\n",
      "360 Video: Tour a Mars Robot Test Lab\n",
      "Engineers are practicing operations for NASA's Mars InSight lander, which is launching this spring.\n",
      "-----------\n",
      "NASA InSight Mission to Mars Arrives at Launch Site\n",
      "NASA's InSight spacecraft has arrived at Vandenberg Air Force Base in central California to begin final preparations for a launch this May.\n",
      "-----------\n",
      "Curiosity Tests a New Way to Drill on Mars\n",
      "NASA's Mars Curiosity rover has conducted the first test of a new drilling technique on the Red Planet since its drill stopped working reliably.     \n",
      "-----------\n",
      "Seven Ways Mars InSight is Different\n",
      "NASA has a long and successful track record at Mars. Since 1965, it has flown by, orbited, landed and roved across the surface of the Red Planet. What can InSight -- planned for launch in May -- do that hasn’t been done before?\n",
      "-----------\n",
      "Nearly a Decade After Mars Phoenix Landed, Another Look\n",
      "A recent view from Mars orbit of the site where NASA's Phoenix Mars mission landed on far-northern Mars nearly a decade ago captures changes.\n",
      "-----------\n",
      "Spacecraft Exits Safe Mode\n",
      "Diagnostic work is the focus for resuming service and exiting safe standby status.\n",
      "-----------\n",
      "5,000 Days on Mars; Solar-Powered Rover Approaching 5,000th Martian Dawn\n",
      "The Sun will rise on NASA's solar-powered Mars rover Opportunity for the 5,000th time on Saturday, sending rays of energy to a robot that continues to provide revelations.\n",
      "-----------\n",
      "Long-Lived Mars Rover Opportunity Keeps Finding Surprises\n",
      "NASA's Mars Exploration Rover Opportunity keeps providing surprises about the Red Planet, most recently with observations of possible \"rock stripes.\"\n",
      "-----------\n",
      "A Piece of Mars is Going Home\n",
      "When it launches in 2020, NASA's next Mars rover will carry a chunk of Martian meteorite on board.\n",
      "-----------\n",
      "Mars Reconnaissance Orbiter Preparing for Years Ahead\n",
      "NASA's Mars Reconnaissance Orbiter (MRO) has begun extra stargazing to help the space agency accomplish advances in Mars exploration over the next decade.\n",
      "-----------\n",
      "Tiny Crystal Shapes Get Close Look From Mars Rover\n",
      "Star-shaped, tiny, dark bumps in the fine-layered bright bedrock of a Martian ridge are drawing close inspection by NASA's Curiosity Mars rover.\n",
      "-----------\n",
      "NASA Tests Atomic Clock for Deep Space Navigation\n",
      "Project could help spacecraft keep time more efficiently and allow ground stations to better track multiple satellites at once near crowded areas like Mars.\n"
     ]
    }
   ],
   "source": [
    "# Iterate through all pages\n",
    "#for x in range(1, 8):\n",
    "    # HTML object\n",
    "html = browser.html\n",
    "    # Parse HTML with Beautiful Soup\n",
    "soup = BeautifulSoup(html, 'html.parser')\n",
    "    # Retrieve all elements that contain book information\n",
    "articles = soup.find_all('li', class_='slide')\n",
    "\n",
    "    # Iterate through each book\n",
    "for article in articles:\n",
    "        # Use Beautiful Soup's find() method to navigate and retrieve attributes\n",
    "    div = article.find('div', class_='content_title')\n",
    "    news_p = article.find('div', class_='article_teaser_body')\n",
    "    news_title = div.find('a')\n",
    "    print('-----------')\n",
    "    print(news_title.text)\n",
    "    print(news_p.text)\n",
    "\n",
    "# Click the 'Next' button on each page\n",
    "    #browser.click_link_by_partial_text('more')"
   ]
  },
  {
   "cell_type": "code",
   "execution_count": 62,
   "metadata": {},
   "outputs": [
    {
     "name": "stdout",
     "output_type": "stream",
     "text": [
      "[]\n"
     ]
    }
   ],
   "source": [
    "results = soup.find_all('li', class_=\"slide\")\n",
    "print(results)"
   ]
  },
  {
   "cell_type": "code",
   "execution_count": 44,
   "metadata": {},
   "outputs": [
    {
     "name": "stdout",
     "output_type": "stream",
     "text": [
      "None\n",
      "None\n",
      "None\n",
      "None\n",
      "None\n",
      "None\n"
     ]
    }
   ],
   "source": [
    "for result in results:\n",
    "    try:\n",
    "        title = result.find('div', class_ = 'rollover_description_inner')\n",
    "        print(title)\n",
    "    except AttributeError as e:\n",
    "        print(e)"
   ]
  },
  {
   "cell_type": "code",
   "execution_count": null,
   "metadata": {},
   "outputs": [],
   "source": []
  },
  {
   "cell_type": "code",
   "execution_count": null,
   "metadata": {},
   "outputs": [],
   "source": []
  }
 ],
 "metadata": {
  "kernelspec": {
   "display_name": "Python [default]",
   "language": "python",
   "name": "python3"
  },
  "language_info": {
   "codemirror_mode": {
    "name": "ipython",
    "version": 3
   },
   "file_extension": ".py",
   "mimetype": "text/x-python",
   "name": "python",
   "nbconvert_exporter": "python",
   "pygments_lexer": "ipython3",
   "version": "3.6.4"
  }
 },
 "nbformat": 4,
 "nbformat_minor": 2
}
