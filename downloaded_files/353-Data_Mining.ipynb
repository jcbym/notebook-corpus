{
 "cells": [
  {
   "cell_type": "code",
   "execution_count": 1,
   "metadata": {
    "collapsed": true
   },
   "outputs": [],
   "source": [
    "import csv\n",
    "import pprint as pp\n",
    "import networkx as nx\n",
    "import numpy as np\n",
    "import matplotlib.pyplot as plt"
   ]
  },
  {
   "cell_type": "code",
   "execution_count": 2,
   "metadata": {
    "collapsed": true
   },
   "outputs": [],
   "source": [
    "input_graph_adjacency_list_file_name = './small_graph__adjacency_list.tsv'\n",
    "wiki_graph_adjacency_list_file_name = './wiki_graph__adjacency_list.tsv'\n",
    "\n",
    "alpha = .15\n",
    "epsilon = 10**-6"
   ]
  },
  {
   "cell_type": "code",
   "execution_count": 3,
   "metadata": {
    "collapsed": false
   },
   "outputs": [],
   "source": [
    "file = []\n",
    "graph = {}\n",
    "with open(wiki_graph_adjacency_list_file_name, 'r', newline='\\n') as fp:\n",
    "    file = fp.read().strip().split(\"\\n\")"
   ]
  },
  {
   "cell_type": "code",
   "execution_count": 4,
   "metadata": {
    "collapsed": true
   },
   "outputs": [],
   "source": [
    "for f in file:\n",
    "    row = f.split(\"\\r\")[0].split(\"\\t\")\n",
    "    graph[row[0]] = row[1:]"
   ]
  },
  {
   "cell_type": "code",
   "execution_count": 7,
   "metadata": {
    "collapsed": false
   },
   "outputs": [],
   "source": [
    "inverse_graph = {k:[] for k in graph.keys()}"
   ]
  },
  {
   "cell_type": "code",
   "execution_count": 6,
   "metadata": {
    "collapsed": false
   },
   "outputs": [
    {
     "data": {
      "text/plain": [
       "1685"
      ]
     },
     "execution_count": 6,
     "metadata": {},
     "output_type": "execute_result"
    }
   ],
   "source": [
    "len(graph)"
   ]
  },
  {
   "cell_type": "code",
   "execution_count": 8,
   "metadata": {
    "collapsed": false
   },
   "outputs": [],
   "source": [
    "for node in graph:\n",
    "    \n",
    "    for ingoing in graph[node]:\n",
    "        \n",
    "        inverse_graph[ingoing].append(node)"
   ]
  },
  {
   "cell_type": "code",
   "execution_count": 9,
   "metadata": {
    "collapsed": false
   },
   "outputs": [],
   "source": [
    "\n",
    "def create_initial_pagerank_vector(graph):\n",
    "    N = len(graph.keys())\n",
    "    page_rank_vector = {k:1/N for k in graph.keys()}\n",
    "    \n",
    "    return page_rank_vector"
   ]
  },
  {
   "cell_type": "code",
   "execution_count": 146,
   "metadata": {
    "collapsed": false
   },
   "outputs": [],
   "source": [
    "page_rank_vector = create_initial_pagerank_vector(graph)"
   ]
  },
  {
   "cell_type": "code",
   "execution_count": 10,
   "metadata": {
    "collapsed": false
   },
   "outputs": [],
   "source": [
    "def single_iteration_page_rank(graph, reverse_graph, page_rank_vector, alpha):\n",
    "    \n",
    "    \n",
    "    N = len(graph.keys())\n",
    "    \n",
    "    next_page_rank_vector = {k:0 for k in page_rank_vector.keys()}\n",
    "    for node in page_rank_vector:\n",
    "        \n",
    "        if len(graph[node]) == 0:\n",
    "            next_page_rank_vector[node] = 0\n",
    "            \n",
    "        else:\n",
    "            for ingoing in reverse_graph[node]:\n",
    "                next_page_rank_vector[node] += (1-alpha) * page_rank_vector[ingoing]/len(graph[ingoing])\n",
    "    \n",
    "    leakedPR = 1 - sum(next_page_rank_vector.values()) \n",
    "    \n",
    "    for node in next_page_rank_vector:\n",
    "        next_page_rank_vector[node] += leakedPR/N\n",
    "        \n",
    "    return next_page_rank_vector"
   ]
  },
  {
   "cell_type": "code",
   "execution_count": 11,
   "metadata": {
    "collapsed": false
   },
   "outputs": [],
   "source": [
    "def get_distance(vector0, vector1):\n",
    "    \n",
    "    vector0 = np.array(vector0)\n",
    "    vector1 = np.array(vector1)\n",
    "    distance = 0.\n",
    "    distance = np.sum(abs(vector0-vector1))\n",
    "    \n",
    "    return distance"
   ]
  },
  {
   "cell_type": "code",
   "execution_count": 12,
   "metadata": {
    "collapsed": false
   },
   "outputs": [
    {
     "name": "stdout",
     "output_type": "stream",
     "text": [
      "52\n"
     ]
    }
   ],
   "source": [
    "page_rank_vector = create_initial_pagerank_vector(graph)\n",
    "\n",
    "\n",
    "convergence = []\n",
    "distance = 1000\n",
    "iteration = 0\n",
    "while distance >= epsilon:\n",
    "    \n",
    "    page_rank_vector_new = single_iteration_page_rank(graph,inverse_graph,page_rank_vector, alpha)\n",
    "    \n",
    "    vector0 = []\n",
    "    vector1 = []\n",
    "    for node in graph:\n",
    "        \n",
    "        vector0.append(page_rank_vector[node])\n",
    "        vector1.append(page_rank_vector_new[node])\n",
    "    \n",
    "    distance = get_distance(vector0,vector1)\n",
    "    iteration += 1\n",
    "    page_rank_vector = {k:page_rank_vector_new[k] for k in page_rank_vector_new}#copy.deepcopy(page_rank_vector_new)\n",
    "    \n",
    "    convergence.append([iteration,distance])\n",
    "    \n",
    "print(iteration)"
   ]
  },
  {
   "cell_type": "code",
   "execution_count": 13,
   "metadata": {
    "collapsed": true
   },
   "outputs": [],
   "source": [
    "convergence = np.array(convergence)"
   ]
  },
  {
   "cell_type": "code",
   "execution_count": 14,
   "metadata": {
    "collapsed": false
   },
   "outputs": [
    {
     "data": {
      "image/png": "[encoded data removed]",
      "text/plain": [
       "<matplotlib.figure.Figure at 0x7f0f9a2251d0>"
      ]
     },
     "metadata": {},
     "output_type": "display_data"
    }
   ],
   "source": [
    "plt.plot(convergence[:,0],convergence[:,1])\n",
    "plt.ylabel('convergence')\n",
    "plt.xlabel(\"iterations\")\n",
    "plt.grid()\n",
    "plt.show()"
   ]
  },
  {
   "cell_type": "code",
   "execution_count": 158,
   "metadata": {
    "collapsed": false
   },
   "outputs": [
    {
     "data": {
      "text/plain": [
       "1.0"
      ]
     },
     "execution_count": 158,
     "metadata": {},
     "output_type": "execute_result"
    }
   ],
   "source": [
    "np.sum(list(page_rank_vector.values()))"
   ]
  }
 ],
 "metadata": {
  "anaconda-cloud": {},
  "kernelspec": {
   "display_name": "Python [conda root]",
   "language": "python",
   "name": "conda-root-py"
  },
  "language_info": {
   "codemirror_mode": {
    "name": "ipython",
    "version": 3
   },
   "file_extension": ".py",
   "mimetype": "text/x-python",
   "name": "python",
   "nbconvert_exporter": "python",
   "pygments_lexer": "ipython3",
   "version": "3.5.2"
  }
 },
 "nbformat": 4,
 "nbformat_minor": 2
}
