{
 "cells": [
  {
   "cell_type": "markdown",
   "metadata": {},
   "source": [
    "Introduction to Numpy\n",
    "=================="
   ]
  },
  {
   "cell_type": "code",
   "execution_count": 1,
   "metadata": {},
   "outputs": [
    {
     "data": {
      "text/plain": [
       "'1.18.1'"
      ]
     },
     "execution_count": 1,
     "metadata": {},
     "output_type": "execute_result"
    }
   ],
   "source": [
    "import numpy as np\n",
    "np.__version__"
   ]
  },
  {
   "cell_type": "markdown",
   "metadata": {},
   "source": [
    "Numpy Arrays\n",
    "-----------------\n",
    "\n",
    "np arrays differ from Python lists as follows:\n",
    "- they are immutable (cannot add/remove, change length, but can change\n",
    "  what reference a particular element points to)\n",
    "- all elements must be of the same [type](https://numpy.org/devdocs/user/basics.types.html)\n",
    "  (when creating a numpy array from a list, numpy will coerce the\n",
    "  elements into a single type (e.g., a mix of floats and ints will \n",
    "  be coerced into floats)"
   ]
  },
  {
   "cell_type": "code",
   "execution_count": 2,
   "metadata": {},
   "outputs": [
    {
     "data": {
      "text/plain": [
       "'forget'"
      ]
     },
     "execution_count": 2,
     "metadata": {},
     "output_type": "execute_result"
    }
   ],
   "source": [
    "gpas_as_list = [4.0, 3.286, 3.5]\n",
    "\n",
    "# Can append element to list\n",
    "gpas_as_list.append(4.0)\n",
    "\n",
    "# Can have multiple types\n",
    "gpas_as_list.insert(1, 'forget')\n",
    "\n",
    "# Can remove items\n",
    "gpas_as_list.pop(1)"
   ]
  },
  {
   "cell_type": "code",
   "execution_count": 3,
   "metadata": {},
   "outputs": [
    {
     "data": {
      "text/plain": [
       "[4.0, 3.286, 3.5, 4.0]"
      ]
     },
     "execution_count": 3,
     "metadata": {},
     "output_type": "execute_result"
    }
   ],
   "source": [
    "gpas_as_list"
   ]
  },
  {
   "cell_type": "code",
   "execution_count": 4,
   "metadata": {},
   "outputs": [],
   "source": [
    "gpas = np.array(gpas_as_list)"
   ]
  },
  {
   "cell_type": "markdown",
   "metadata": {},
   "source": [
    "*Some common properties on np arrays:*"
   ]
  },
  {
   "cell_type": "code",
   "execution_count": 5,
   "metadata": {},
   "outputs": [
    {
     "name": "stdout",
     "output_type": "stream",
     "text": [
      "float64\n",
      "8\n",
      "4\n",
      "32\n"
     ]
    }
   ],
   "source": [
    "print(gpas.dtype)\n",
    "print(gpas.itemsize)  # in bytes\n",
    "print(gpas.size)  # number of elements\n",
    "print(gpas.nbytes)  # number of bytes"
   ]
  },
  {
   "cell_type": "code",
   "execution_count": 6,
   "metadata": {},
   "outputs": [],
   "source": [
    "# create a 100-element array with all elements set to 0.0\n",
    "study_minutes_floats = np.zeros(100)\n",
    "\n",
    "# given we only want to track +ve whole minutes, and there are only 1440\n",
    "# minutes in a day, we can use UINT16 as a more efficient type than\n",
    "# Float64\n",
    "study_minutes = np.zeros(100, np.uint16)"
   ]
  },
  {
   "cell_type": "code",
   "execution_count": 7,
   "metadata": {},
   "outputs": [
    {
     "name": "stdout",
     "output_type": "stream",
     "text": [
      "Variable               Type       Data/Info\n",
      "-------------------------------------------\n",
      "gpas                   ndarray    4: 4 elems, type `float64`, 32 bytes\n",
      "gpas_as_list           list       n=4\n",
      "np                     module     <module 'numpy' from '/Us<...>kages/numpy/__init__.py'>\n",
      "study_minutes          ndarray    100: 100 elems, type `uint16`, 200 bytes\n",
      "study_minutes_floats   ndarray    100: 100 elems, type `float64`, 800 bytes\n"
     ]
    }
   ],
   "source": [
    "%whos"
   ]
  },
  {
   "cell_type": "code",
   "execution_count": 8,
   "metadata": {},
   "outputs": [
    {
     "name": "stdout",
     "output_type": "stream",
     "text": [
      "150\n",
      "<class 'numpy.uint16'>\n"
     ]
    }
   ],
   "source": [
    "study_minutes[0] = 150\n",
    "first_day_minutes = study_minutes[0]\n",
    "print(first_day_minutes)\n",
    "print(type(first_day_minutes))"
   ]
  },
  {
   "cell_type": "code",
   "execution_count": 9,
   "metadata": {},
   "outputs": [
    {
     "name": "stdout",
     "output_type": "stream",
     "text": [
      "[150  60   0   0   0   0   0   0   0   0   0   0   0   0   0   0   0   0\n",
      "   0   0   0   0   0   0   0   0   0   0   0   0   0   0   0   0   0   0\n",
      "   0   0   0   0   0   0   0   0   0   0   0   0   0   0   0   0   0   0\n",
      "   0   0   0   0   0   0   0   0   0   0   0   0   0   0   0   0   0   0\n",
      "   0   0   0   0   0   0   0   0   0   0   0   0   0   0   0   0   0   0\n",
      "   0   0   0   0   0   0   0   0   0   0]\n"
     ]
    }
   ],
   "source": [
    "study_minutes[1] = 60\n",
    "print(study_minutes)"
   ]
  },
  {
   "cell_type": "code",
   "execution_count": 10,
   "metadata": {},
   "outputs": [
    {
     "name": "stdout",
     "output_type": "stream",
     "text": [
      "[150  60  80  60  30  90   0   0   0   0   0   0   0   0   0   0   0   0\n",
      "   0   0   0   0   0   0   0   0   0   0   0   0   0   0   0   0   0   0\n",
      "   0   0   0   0   0   0   0   0   0   0   0   0   0   0   0   0   0   0\n",
      "   0   0   0   0   0   0   0   0   0   0   0   0   0   0   0   0   0   0\n",
      "   0   0   0   0   0   0   0   0   0   0   0   0   0   0   0   0   0   0\n",
      "   0   0   0   0   0   0   0   0   0   0]\n"
     ]
    }
   ],
   "source": [
    "# update multiple elements at once\n",
    "study_minutes[2:6] = [80, 60, 30, 90]\n",
    "print(study_minutes)"
   ]
  },
  {
   "cell_type": "code",
   "execution_count": 11,
   "metadata": {},
   "outputs": [
    {
     "data": {
      "text/plain": [
       "array([[4.   , 3.285, 3.5  , 4.   ],\n",
       "       [3.2  , 3.8  , 4.   , 4.   ],\n",
       "       [3.96 , 3.92 , 4.   , 4.   ]], dtype=float16)"
      ]
     },
     "execution_count": 11,
     "metadata": {},
     "output_type": "execute_result"
    }
   ],
   "source": [
    "# the numpy array datatype is \"ndarray\" for n-dimensional array\n",
    "# var[y][x] where y is the row and x is the column\n",
    "#\n",
    "# Creating a 2D (matrix) array:\n",
    "students_gpas = np.array([\n",
    "    [4.0, 3.286, 3.5, 4.0],\n",
    "    [3.2, 3.8, 4.0, 4.0],\n",
    "    [3.96, 3.92, 4.0, 4.0],\n",
    "], np.float16)\n",
    "students_gpas"
   ]
  },
  {
   "cell_type": "code",
   "execution_count": 12,
   "metadata": {},
   "outputs": [
    {
     "data": {
      "text/plain": [
       "2"
      ]
     },
     "execution_count": 12,
     "metadata": {},
     "output_type": "execute_result"
    }
   ],
   "source": [
    "students_gpas.ndim  # number of dimensions"
   ]
  },
  {
   "cell_type": "code",
   "execution_count": 13,
   "metadata": {},
   "outputs": [
    {
     "data": {
      "text/plain": [
       "(3, 4)"
      ]
     },
     "execution_count": 13,
     "metadata": {},
     "output_type": "execute_result"
    }
   ],
   "source": [
    "students_gpas.shape  # (rows, columns)"
   ]
  },
  {
   "cell_type": "code",
   "execution_count": 14,
   "metadata": {},
   "outputs": [
    {
     "name": "stdout",
     "output_type": "stream",
     "text": [
      "Variable               Type       Data/Info\n",
      "-------------------------------------------\n",
      "gpas                   ndarray    4: 4 elems, type `float64`, 32 bytes\n",
      "students_gpas          ndarray    3x4: 12 elems, type `float16`, 24 bytes\n",
      "study_minutes          ndarray    100: 100 elems, type `uint16`, 200 bytes\n",
      "study_minutes_floats   ndarray    100: 100 elems, type `float64`, 800 bytes\n"
     ]
    }
   ],
   "source": [
    "# note .size will return the total number of elements\n",
    "# len() will return the length of a row\n",
    "%whos ndarray"
   ]
  },
  {
   "cell_type": "code",
   "execution_count": 15,
   "metadata": {},
   "outputs": [
    {
     "name": "stdout",
     "output_type": "stream",
     "text": [
      "class:  ndarray\n",
      "shape:  (3, 4)\n",
      "strides:  (8, 2)\n",
      "itemsize:  2\n",
      "aligned:  True\n",
      "contiguous:  True\n",
      "fortran:  False\n",
      "data pointer: 0x7fe4de608270\n",
      "byteorder:  little\n",
      "byteswap:  False\n",
      "type: float16\n"
     ]
    }
   ],
   "source": [
    "np.info(students_gpas)"
   ]
  },
  {
   "cell_type": "code",
   "execution_count": 16,
   "metadata": {},
   "outputs": [],
   "source": [
    "# Create a 2D version of the study_minutes array\n",
    "# note: as we are instantiating this from an existing ndarray it is\n",
    "# instantiated with the pre-existing datatype\n",
    "study_minutes = np.array([\n",
    "    study_minutes,\n",
    "    np.zeros(100, np.uint16)\n",
    "])"
   ]
  },
  {
   "cell_type": "code",
   "execution_count": 17,
   "metadata": {},
   "outputs": [
    {
     "data": {
      "text/plain": [
       "(2, 100)"
      ]
     },
     "execution_count": 17,
     "metadata": {},
     "output_type": "execute_result"
    }
   ],
   "source": [
    "study_minutes.shape"
   ]
  },
  {
   "cell_type": "code",
   "execution_count": 18,
   "metadata": {},
   "outputs": [],
   "source": [
    "# set round 2 day 1 to 60\n",
    "study_minutes[1][0] = 60"
   ]
  },
  {
   "cell_type": "code",
   "execution_count": 19,
   "metadata": {},
   "outputs": [
    {
     "data": {
      "text/plain": [
       "60"
      ]
     },
     "execution_count": 19,
     "metadata": {},
     "output_type": "execute_result"
    }
   ],
   "source": [
    "# numpy arrays have an alternative bracket-comma notation for accessing\n",
    "# the contents of n-dimensional arrays:\n",
    "study_minutes[1, 0]  # equivalent to [1][0]"
   ]
  },
  {
   "cell_type": "code",
   "execution_count": 20,
   "metadata": {},
   "outputs": [],
   "source": [
    "rand = np.random.RandomState(42)\n",
    "fake_log = rand.randint(30, 180, size=100, dtype=np.uint16)  # minval, maxval"
   ]
  },
  {
   "cell_type": "code",
   "execution_count": 21,
   "metadata": {},
   "outputs": [
    {
     "data": {
      "text/plain": [
       "array([132, 122, 128,  44, 136, 129, 101,  95,  50, 132, 151,  64, 104,\n",
       "       175, 117, 146, 139, 129, 133, 176,  98, 160, 179,  99,  82, 142,\n",
       "        31, 106, 117,  56,  98,  67, 121, 159,  81, 170,  31,  50,  49,\n",
       "        87, 179,  51, 116, 177, 118,  78, 171, 117,  88, 123, 102,  44,\n",
       "        79,  31, 108,  80,  59, 137,  84,  93, 155, 160,  67,  80, 166,\n",
       "       164,  70,  50, 102, 113,  47, 131, 161, 118,  82,  89,  81,  43,\n",
       "        81,  38, 119,  52,  82,  31, 159,  57, 113,  71, 121, 140,  91,\n",
       "        70,  37, 106,  64, 127, 110,  58,  93,  79], dtype=uint16)"
      ]
     },
     "execution_count": 21,
     "metadata": {},
     "output_type": "execute_result"
    }
   ],
   "source": [
    "fake_log"
   ]
  },
  {
   "cell_type": "code",
   "execution_count": 22,
   "metadata": {},
   "outputs": [
    {
     "data": {
      "text/plain": [
       "array([44, 50], dtype=uint16)"
      ]
     },
     "execution_count": 22,
     "metadata": {},
     "output_type": "execute_result"
    }
   ],
   "source": [
    "fake_log[[3, 8]]"
   ]
  },
  {
   "cell_type": "code",
   "execution_count": 23,
   "metadata": {},
   "outputs": [
    {
     "data": {
      "text/plain": [
       "array([[ 44,  50],\n",
       "       [132, 122]], dtype=uint16)"
      ]
     },
     "execution_count": 23,
     "metadata": {},
     "output_type": "execute_result"
    }
   ],
   "source": [
    "index = np.array([\n",
    "    [3, 8],\n",
    "    [0, 1],\n",
    "])\n",
    "fake_log[index]"
   ]
  },
  {
   "cell_type": "code",
   "execution_count": 24,
   "metadata": {},
   "outputs": [],
   "source": [
    "# np.append() takes a numpy array and some new data and a target axis and\n",
    "# returns a new numpy array\n",
    "# Note that the rank (# dimensions) of the appended data must match the\n",
    "# rank of the original array (making this method more like extend than\n",
    "# append). Here we are putting fake_log inside a list to get a 2D array\n",
    "study_minutes = np.append(study_minutes, [fake_log], axis=0)"
   ]
  },
  {
   "cell_type": "code",
   "execution_count": 25,
   "metadata": {},
   "outputs": [],
   "source": [
    "study_minutes[1,1] = 360"
   ]
  },
  {
   "cell_type": "code",
   "execution_count": 26,
   "metadata": {},
   "outputs": [
    {
     "data": {
      "text/plain": [
       "array([[150,  60,  80,  60,  30,  90,   0,   0,   0,   0,   0,   0,   0,\n",
       "          0,   0,   0,   0,   0,   0,   0,   0,   0,   0,   0,   0,   0,\n",
       "          0,   0,   0,   0,   0,   0,   0,   0,   0,   0,   0,   0,   0,\n",
       "          0,   0,   0,   0,   0,   0,   0,   0,   0,   0,   0,   0,   0,\n",
       "          0,   0,   0,   0,   0,   0,   0,   0,   0,   0,   0,   0,   0,\n",
       "          0,   0,   0,   0,   0,   0,   0,   0,   0,   0,   0,   0,   0,\n",
       "          0,   0,   0,   0,   0,   0,   0,   0,   0,   0,   0,   0,   0,\n",
       "          0,   0,   0,   0,   0,   0,   0,   0,   0],\n",
       "       [ 60, 360,   0,   0,   0,   0,   0,   0,   0,   0,   0,   0,   0,\n",
       "          0,   0,   0,   0,   0,   0,   0,   0,   0,   0,   0,   0,   0,\n",
       "          0,   0,   0,   0,   0,   0,   0,   0,   0,   0,   0,   0,   0,\n",
       "          0,   0,   0,   0,   0,   0,   0,   0,   0,   0,   0,   0,   0,\n",
       "          0,   0,   0,   0,   0,   0,   0,   0,   0,   0,   0,   0,   0,\n",
       "          0,   0,   0,   0,   0,   0,   0,   0,   0,   0,   0,   0,   0,\n",
       "          0,   0,   0,   0,   0,   0,   0,   0,   0,   0,   0,   0,   0,\n",
       "          0,   0,   0,   0,   0,   0,   0,   0,   0],\n",
       "       [132, 122, 128,  44, 136, 129, 101,  95,  50, 132, 151,  64, 104,\n",
       "        175, 117, 146, 139, 129, 133, 176,  98, 160, 179,  99,  82, 142,\n",
       "         31, 106, 117,  56,  98,  67, 121, 159,  81, 170,  31,  50,  49,\n",
       "         87, 179,  51, 116, 177, 118,  78, 171, 117,  88, 123, 102,  44,\n",
       "         79,  31, 108,  80,  59, 137,  84,  93, 155, 160,  67,  80, 166,\n",
       "        164,  70,  50, 102, 113,  47, 131, 161, 118,  82,  89,  81,  43,\n",
       "         81,  38, 119,  52,  82,  31, 159,  57, 113,  71, 121, 140,  91,\n",
       "         70,  37, 106,  64, 127, 110,  58,  93,  79]], dtype=uint16)"
      ]
     },
     "execution_count": 26,
     "metadata": {},
     "output_type": "execute_result"
    }
   ],
   "source": [
    "study_minutes"
   ]
  },
  {
   "cell_type": "code",
   "execution_count": 27,
   "metadata": {},
   "outputs": [],
   "source": [
    "mask = fake_log < 60  # check each value in fake_log with the specified comparison operator"
   ]
  },
  {
   "cell_type": "code",
   "execution_count": 28,
   "metadata": {},
   "outputs": [
    {
     "data": {
      "text/plain": [
       "array([44, 50, 31, 56, 31, 50, 49, 51, 44, 31, 59, 50, 47, 43, 38, 52, 31,\n",
       "       57, 37, 58], dtype=uint16)"
      ]
     },
     "execution_count": 28,
     "metadata": {},
     "output_type": "execute_result"
    }
   ],
   "source": [
    "# use the boolean array from the previous step as a mask to select only\n",
    "# the values inside fake_log which were marked True\n",
    "fake_log[mask]"
   ]
  },
  {
   "cell_type": "code",
   "execution_count": 29,
   "metadata": {},
   "outputs": [],
   "source": [
    "# To make a boolean array using multiple conditions, we need to use\n",
    "# bitwise operators which have been overloaded in numpy as\n",
    "# elementwise operators:\n",
    "two_way_mask = (study_minutes > 0) & (study_minutes < 60)"
   ]
  },
  {
   "cell_type": "code",
   "execution_count": 30,
   "metadata": {},
   "outputs": [
    {
     "data": {
      "text/plain": [
       "array([[False, False, False, False,  True, False, False, False, False,\n",
       "        False, False, False, False, False, False, False, False, False,\n",
       "        False, False, False, False, False, False, False, False, False,\n",
       "        False, False, False, False, False, False, False, False, False,\n",
       "        False, False, False, False, False, False, False, False, False,\n",
       "        False, False, False, False, False, False, False, False, False,\n",
       "        False, False, False, False, False, False, False, False, False,\n",
       "        False, False, False, False, False, False, False, False, False,\n",
       "        False, False, False, False, False, False, False, False, False,\n",
       "        False, False, False, False, False, False, False, False, False,\n",
       "        False, False, False, False, False, False, False, False, False,\n",
       "        False],\n",
       "       [False, False, False, False, False, False, False, False, False,\n",
       "        False, False, False, False, False, False, False, False, False,\n",
       "        False, False, False, False, False, False, False, False, False,\n",
       "        False, False, False, False, False, False, False, False, False,\n",
       "        False, False, False, False, False, False, False, False, False,\n",
       "        False, False, False, False, False, False, False, False, False,\n",
       "        False, False, False, False, False, False, False, False, False,\n",
       "        False, False, False, False, False, False, False, False, False,\n",
       "        False, False, False, False, False, False, False, False, False,\n",
       "        False, False, False, False, False, False, False, False, False,\n",
       "        False, False, False, False, False, False, False, False, False,\n",
       "        False],\n",
       "       [False, False, False,  True, False, False, False, False,  True,\n",
       "        False, False, False, False, False, False, False, False, False,\n",
       "        False, False, False, False, False, False, False, False,  True,\n",
       "        False, False,  True, False, False, False, False, False, False,\n",
       "         True,  True,  True, False, False,  True, False, False, False,\n",
       "        False, False, False, False, False, False,  True, False,  True,\n",
       "        False, False,  True, False, False, False, False, False, False,\n",
       "        False, False, False, False,  True, False, False,  True, False,\n",
       "        False, False, False, False, False,  True, False,  True, False,\n",
       "         True, False,  True, False,  True, False, False, False, False,\n",
       "        False, False,  True, False, False, False, False,  True, False,\n",
       "        False]])"
      ]
     },
     "execution_count": 30,
     "metadata": {},
     "output_type": "execute_result"
    }
   ],
   "source": [
    "two_way_mask"
   ]
  },
  {
   "cell_type": "code",
   "execution_count": 31,
   "metadata": {},
   "outputs": [
    {
     "data": {
      "text/plain": [
       "array([30, 44, 50, 31, 56, 31, 50, 49, 51, 44, 31, 59, 50, 47, 43, 38, 52,\n",
       "       31, 57, 37, 58], dtype=uint16)"
      ]
     },
     "execution_count": 31,
     "metadata": {},
     "output_type": "execute_result"
    }
   ],
   "source": [
    "study_minutes[two_way_mask]"
   ]
  },
  {
   "cell_type": "markdown",
   "metadata": {},
   "source": [
    "### Elementwise operators ###\n",
    "\n",
    "- `&`: AND\n",
    "- `|`: OR\n",
    "- `^`: XOR\n",
    "- `~`: NOT (unary operator)"
   ]
  },
  {
   "cell_type": "code",
   "execution_count": 32,
   "metadata": {},
   "outputs": [
    {
     "data": {
      "text/plain": [
       "array([False, False,  True])"
      ]
     },
     "execution_count": 32,
     "metadata": {},
     "output_type": "execute_result"
    }
   ],
   "source": [
    "np.array([False, True, True]) & np.array([False, False, True])"
   ]
  },
  {
   "cell_type": "code",
   "execution_count": 33,
   "metadata": {},
   "outputs": [
    {
     "data": {
      "text/plain": [
       "array([False,  True,  True])"
      ]
     },
     "execution_count": 33,
     "metadata": {},
     "output_type": "execute_result"
    }
   ],
   "source": [
    "np.array([False, True, True]) | np.array([False, False, True])"
   ]
  },
  {
   "cell_type": "code",
   "execution_count": 34,
   "metadata": {},
   "outputs": [
    {
     "data": {
      "text/plain": [
       "array([False,  True, False])"
      ]
     },
     "execution_count": 34,
     "metadata": {},
     "output_type": "execute_result"
    }
   ],
   "source": [
    "np.array([False, True, True]) ^ np.array([False, False, True])"
   ]
  },
  {
   "cell_type": "code",
   "execution_count": 35,
   "metadata": {},
   "outputs": [
    {
     "data": {
      "text/plain": [
       "array([ True, False, False])"
      ]
     },
     "execution_count": 35,
     "metadata": {},
     "output_type": "execute_result"
    }
   ],
   "source": [
    "~np.array([False, True, True])"
   ]
  },
  {
   "cell_type": "code",
   "execution_count": 36,
   "metadata": {},
   "outputs": [],
   "source": [
    "# Update values in an array with a boolean mask:\n",
    "study_minutes[study_minutes < 60] = 0"
   ]
  },
  {
   "cell_type": "code",
   "execution_count": 37,
   "metadata": {},
   "outputs": [
    {
     "data": {
      "text/plain": [
       "array([[150,  60,  80,  60,   0,  90,   0,   0,   0,   0,   0,   0,   0,\n",
       "          0,   0,   0,   0,   0,   0,   0,   0,   0,   0,   0,   0,   0,\n",
       "          0,   0,   0,   0,   0,   0,   0,   0,   0,   0,   0,   0,   0,\n",
       "          0,   0,   0,   0,   0,   0,   0,   0,   0,   0,   0,   0,   0,\n",
       "          0,   0,   0,   0,   0,   0,   0,   0,   0,   0,   0,   0,   0,\n",
       "          0,   0,   0,   0,   0,   0,   0,   0,   0,   0,   0,   0,   0,\n",
       "          0,   0,   0,   0,   0,   0,   0,   0,   0,   0,   0,   0,   0,\n",
       "          0,   0,   0,   0,   0,   0,   0,   0,   0],\n",
       "       [ 60, 360,   0,   0,   0,   0,   0,   0,   0,   0,   0,   0,   0,\n",
       "          0,   0,   0,   0,   0,   0,   0,   0,   0,   0,   0,   0,   0,\n",
       "          0,   0,   0,   0,   0,   0,   0,   0,   0,   0,   0,   0,   0,\n",
       "          0,   0,   0,   0,   0,   0,   0,   0,   0,   0,   0,   0,   0,\n",
       "          0,   0,   0,   0,   0,   0,   0,   0,   0,   0,   0,   0,   0,\n",
       "          0,   0,   0,   0,   0,   0,   0,   0,   0,   0,   0,   0,   0,\n",
       "          0,   0,   0,   0,   0,   0,   0,   0,   0,   0,   0,   0,   0,\n",
       "          0,   0,   0,   0,   0,   0,   0,   0,   0],\n",
       "       [132, 122, 128,   0, 136, 129, 101,  95,   0, 132, 151,  64, 104,\n",
       "        175, 117, 146, 139, 129, 133, 176,  98, 160, 179,  99,  82, 142,\n",
       "          0, 106, 117,   0,  98,  67, 121, 159,  81, 170,   0,   0,   0,\n",
       "         87, 179,   0, 116, 177, 118,  78, 171, 117,  88, 123, 102,   0,\n",
       "         79,   0, 108,  80,   0, 137,  84,  93, 155, 160,  67,  80, 166,\n",
       "        164,  70,   0, 102, 113,   0, 131, 161, 118,  82,  89,  81,   0,\n",
       "         81,   0, 119,   0,  82,   0, 159,   0, 113,  71, 121, 140,  91,\n",
       "         70,   0, 106,  64, 127, 110,   0,  93,  79]], dtype=uint16)"
      ]
     },
     "execution_count": 37,
     "metadata": {},
     "output_type": "execute_result"
    }
   ],
   "source": [
    "study_minutes"
   ]
  },
  {
   "cell_type": "code",
   "execution_count": 38,
   "metadata": {},
   "outputs": [],
   "source": [
    "fruit = [\"apple\", \"banana\", \"cherry\", \"durian\"]"
   ]
  },
  {
   "cell_type": "code",
   "execution_count": 39,
   "metadata": {},
   "outputs": [
    {
     "data": {
      "text/plain": [
       "['banana', 'cherry']"
      ]
     },
     "execution_count": 39,
     "metadata": {},
     "output_type": "execute_result"
    }
   ],
   "source": [
    "fruit[1:3]"
   ]
  },
  {
   "cell_type": "code",
   "execution_count": 40,
   "metadata": {},
   "outputs": [
    {
     "data": {
      "text/plain": [
       "['apple', 'cherry']"
      ]
     },
     "execution_count": 40,
     "metadata": {},
     "output_type": "execute_result"
    }
   ],
   "source": [
    "fruit[::2]"
   ]
  },
  {
   "cell_type": "code",
   "execution_count": 41,
   "metadata": {},
   "outputs": [
    {
     "data": {
      "text/plain": [
       "array([ 0,  1,  2,  3,  4,  5,  6,  7,  8,  9, 10, 11, 12, 13, 14, 15, 16,\n",
       "       17, 18, 19])"
      ]
     },
     "execution_count": 41,
     "metadata": {},
     "output_type": "execute_result"
    }
   ],
   "source": [
    "# arange is like python range but returns a numpy ndarray instead of\n",
    "# a python Range object\n",
    "np.arange(20)"
   ]
  },
  {
   "cell_type": "code",
   "execution_count": 42,
   "metadata": {},
   "outputs": [
    {
     "data": {
      "text/plain": [
       "array([ 0,  1,  2,  3,  4,  5,  6,  7,  8,  9, 10, 11, 12, 13, 14, 15, 16,\n",
       "       17, 18, 19, 20, 21, 22, 23, 24, 25, 26, 27, 28, 29, 30, 31, 32, 33,\n",
       "       34, 35, 36, 37, 38, 39, 40, 41])"
      ]
     },
     "execution_count": 42,
     "metadata": {},
     "output_type": "execute_result"
    }
   ],
   "source": [
    "practice = np.arange(42)\n",
    "practice"
   ]
  },
  {
   "cell_type": "code",
   "execution_count": 43,
   "metadata": {},
   "outputs": [
    {
     "data": {
      "text/plain": [
       "array([[ 0,  1,  2,  3,  4,  5],\n",
       "       [ 6,  7,  8,  9, 10, 11],\n",
       "       [12, 13, 14, 15, 16, 17],\n",
       "       [18, 19, 20, 21, 22, 23],\n",
       "       [24, 25, 26, 27, 28, 29],\n",
       "       [30, 31, 32, 33, 34, 35],\n",
       "       [36, 37, 38, 39, 40, 41]])"
      ]
     },
     "execution_count": 43,
     "metadata": {},
     "output_type": "execute_result"
    }
   ],
   "source": [
    "# break the range up into 7 rows of 6 items\n",
    "# NOTE: the number of elements in the 2D array must still match exactly\n",
    "# the number of elements in the original array\n",
    "practice.shape = (7, 6)\n",
    "practice"
   ]
  },
  {
   "cell_type": "code",
   "execution_count": 47,
   "metadata": {},
   "outputs": [
    {
     "data": {
      "text/plain": [
       "array([ 3,  9, 15, 21, 27, 33, 39])"
      ]
     },
     "execution_count": 47,
     "metadata": {},
     "output_type": "execute_result"
    }
   ],
   "source": [
    "# We can use the last component of the tuple to specify a column\n",
    "practice[:,3]"
   ]
  },
  {
   "cell_type": "code",
   "execution_count": 49,
   "metadata": {},
   "outputs": [
    {
     "data": {
      "text/plain": [
       "array([[ 2,  3],\n",
       "       [ 8,  9],\n",
       "       [14, 15],\n",
       "       [20, 21],\n",
       "       [26, 27],\n",
       "       [32, 33],\n",
       "       [38, 39]])"
      ]
     },
     "execution_count": 49,
     "metadata": {},
     "output_type": "execute_result"
    }
   ],
   "source": [
    "# Or use a slice to specify multiple columns\n",
    "practice[:,2:4]"
   ]
  },
  {
   "cell_type": "code",
   "execution_count": 54,
   "metadata": {},
   "outputs": [
    {
     "name": "stdout",
     "output_type": "stream",
     "text": [
      "None\n",
      "[[ 0  1  2  3  4  5]\n",
      " [ 6  7  8  9 10 11]\n",
      " [12 13 14 15 16 17]\n",
      " [18 19 20 21 22 23]\n",
      " [24 25 26 27 28 29]\n",
      " [30 31 32 33 34 35]\n",
      " [36 37 38 39 40 41]]\n",
      "<class 'numpy.ndarray'>\n",
      "True\n"
     ]
    }
   ],
   "source": [
    "# WARNING: 'slices' in numpy DO NOT return a copy of the data, they return\n",
    "# a 'view' of the data. Thus by manipulating the 'slice' you are actually\n",
    "# manipulating the underlying data.\n",
    "#\n",
    "# It's not always obvious at a glance whether we are seeing a true ndarray\n",
    "# or a view. We can check by examining the `base` property. This is \n",
    "# None for ndarray and the base array for a view\n",
    "print(practice.base)  # None\n",
    "v = practice[:, 2:4]\n",
    "print(v.base)  # the repr of v's base property (the base array)\n",
    "print( type(v.base) )  # the type of the base array\n",
    "\n",
    "print( v.base is practice )  # True"
   ]
  },
  {
   "cell_type": "code",
   "execution_count": 55,
   "metadata": {},
   "outputs": [
    {
     "data": {
      "text/plain": [
       "array([[ 0,  1,  2,  3,  4,  5,  6,  7,  8,  9, 10, 11, 12, 13],\n",
       "       [14, 15, 16, 17, 18, 19, 20, 21, 22, 23, 24, 25, 26, 27],\n",
       "       [28, 29, 30, 31, 32, 33, 34, 35, 36, 37, 38, 39, 40, 41]])"
      ]
     },
     "execution_count": 55,
     "metadata": {},
     "output_type": "execute_result"
    }
   ],
   "source": [
    "alternate_view = practice.reshape(3, 14)"
   ]
  },
  {
   "cell_type": "code",
   "execution_count": 56,
   "metadata": {},
   "outputs": [
    {
     "data": {
      "text/plain": [
       "array([[ 0,  1],\n",
       "       [ 2,  3],\n",
       "       [ 4,  5],\n",
       "       [ 6,  7],\n",
       "       [ 8,  9],\n",
       "       [10, 11],\n",
       "       [12, 13],\n",
       "       [14, 15],\n",
       "       [16, 17],\n",
       "       [18, 19],\n",
       "       [20, 21],\n",
       "       [22, 23],\n",
       "       [24, 25],\n",
       "       [26, 27],\n",
       "       [28, 29],\n",
       "       [30, 31],\n",
       "       [32, 33],\n",
       "       [34, 35],\n",
       "       [36, 37],\n",
       "       [38, 39],\n",
       "       [40, 41]])"
      ]
     },
     "execution_count": 56,
     "metadata": {},
     "output_type": "execute_result"
    }
   ],
   "source": [
    "# we can use -1 to let the reshape method infer one of the dimensions\n",
    "practice.reshape(-1, 2)"
   ]
  },
  {
   "cell_type": "code",
   "execution_count": 64,
   "metadata": {},
   "outputs": [
    {
     "name": "stdout",
     "output_type": "stream",
     "text": [
      "[ 0  1  2  3  4  5  6  7  8  9 10 11 12 13 14 15 16 17 18 19 20 21 22 23\n",
      " 24 25 26 27 28 29 30 31 32 33 34 35 36 37 38 39 40 41]\n",
      "[[ 0  1  2  3  4  5]\n",
      " [ 6  7  8  9 10 11]\n",
      " [12 13 14 15 16 17]\n",
      " [18 19 20 21 22 23]\n",
      " [24 25 26 27 28 29]\n",
      " [30 31 32 33 34 35]\n",
      " [36 37 38 39 40 41]]\n"
     ]
    }
   ],
   "source": [
    "# flattened view\n",
    "rav = practice.ravel()\n",
    "print(rav)\n",
    "print(rav.base)  # rav is a view"
   ]
  },
  {
   "cell_type": "code",
   "execution_count": 65,
   "metadata": {},
   "outputs": [
    {
     "name": "stdout",
     "output_type": "stream",
     "text": [
      "[ 0  1  2  3  4  5  6  7  8  9 10 11 12 13 14 15 16 17 18 19 20 21 22 23\n",
      " 24 25 26 27 28 29 30 31 32 33 34 35 36 37 38 39 40 41]\n",
      "None\n"
     ]
    }
   ],
   "source": [
    "# flattened copy\n",
    "flat = practice.flatten()\n",
    "print(flat)\n",
    "print(flat.base)  # flat is a new array"
   ]
  },
  {
   "cell_type": "code",
   "execution_count": 66,
   "metadata": {},
   "outputs": [
    {
     "name": "stdout",
     "output_type": "stream",
     "text": [
      "Search results for 'flat'\n",
      "-------------------------\n",
      "numpy.diagflat\n",
      "    Create a two-dimensional array with the flattened input as a diagonal.\n",
      "numpy.flatiter\n",
      "    Flat iterator object to iterate over arrays.\n",
      "numpy.put\n",
      "    Replaces specified elements of an array with given values.\n",
      "numpy.flatnonzero\n",
      "    Return indices that are non-zero in the flattened version of a.\n",
      "numpy.ravel\n",
      "    Return a contiguous flattened array.\n",
      "numpy.ma.diagflat\n",
      "    Create a two-dimensional array with the flattened input as a diagonal.\n",
      "numpy.unravel_index\n",
      "    Converts a flat index or array of flat indices into a tuple\n",
      "numpy.matrix.flatten\n",
      "    Return a flattened copy of the matrix.\n",
      "numpy.ma.flatten_mask\n",
      "    Returns a completely flattened version of the mask, where nested fields\n",
      "numpy.chararray.flatten\n",
      "    Return a copy of the array collapsed into one dimension.\n",
      "numpy.chararray.put\n",
      "    Set ``a.flat[n] = values[n]`` for all `n` in indices.\n",
      "numpy.ravel_multi_index\n",
      "    Converts a tuple of index arrays into an array of flat\n",
      "numpy.matrix.getA1\n",
      "    Return `self` as a flattened `ndarray`.\n",
      "numpy.matrix.ravel\n",
      "    Return a flattened matrix.\n",
      "numpy.chararray.ravel\n",
      "    a.ravel([order])\n",
      "numpy.ma.flatten_structured_array\n",
      "    Flatten a structured array.\n",
      "numpy.ma.MaskedArray.flatten\n",
      "    Return a copy of the array collapsed into one dimension.\n",
      "numpy.ma.MaskedArray.put\n",
      "    Set storage-indexed locations to corresponding values.\n",
      "numpy.ma.mrecords.fromarrays\n",
      "    Creates a mrecarray from a (flat) list of masked arrays.\n",
      "numpy.lib.recfunctions.flatten_descr\n",
      "    Flatten a structured data-type description.\n",
      "numpy.lib.recfunctions.get_names_flat\n",
      "    Returns the field names of the input datatype as a tuple. Nested structure\n",
      "numpy.ptp\n",
      "    Range of values (maximum - minimum) along an axis.\n",
      "numpy.std\n",
      "    Compute the standard deviation along the specified axis.\n",
      "numpy.var\n",
      "    Compute the variance along the specified axis.\n",
      "numpy.amax\n",
      "    Return the maximum of an array or maximum along an axis.\n",
      "numpy.amin\n",
      "    Return the minimum of an array or minimum along an axis.\n",
      "numpy.diag\n",
      "    Extract a diagonal or construct a diagonal array.\n",
      "numpy.isin\n",
      "    Calculates `element in test_elements`, broadcasting over `element` only.\n",
      "numpy.mean\n",
      "    Compute the arithmetic mean along the specified axis.\n",
      "numpy.roll\n",
      "    Roll array elements along a given axis.\n",
      "numpy.sort\n",
      "    Return a sorted copy of an array.\n",
      "numpy.take\n",
      "    Take elements from an array along an axis.\n",
      "numpy.vdot\n",
      "    Return the dot product of two vectors.\n",
      "numpy.outer\n",
      "    Compute the outer product of two vectors.\n",
      "numpy.trace\n",
      "    Return the sum along diagonals of the array.\n",
      "numpy.append\n",
      "    Append values to the end of an array.\n",
      "numpy.argmax\n",
      "    Returns the indices of the maximum values along an axis.\n",
      "numpy.argmin\n",
      "    Returns the indices of the minimum values along an axis.\n",
      "numpy.cumsum\n",
      "    Return the cumulative sum of the elements along a given axis.\n",
      "numpy.delete\n",
      "    Return a new array with sub-arrays along an axis deleted. For a one\n",
      "numpy.core._multiarray_umath.unravel_index\n",
      "    Converts a flat index or array of flat indices into a tuple\n",
      "numpy.insert\n",
      "    Insert values along the given axis before the given indices.\n",
      "numpy.median\n",
      "    Compute the median along the specified axis.\n",
      "numpy.nanmax\n",
      "    Return the maximum of an array or maximum along an axis, ignoring any\n",
      "numpy.nanmin\n",
      "    Return minimum of an array or minimum along an axis, ignoring any NaNs.\n",
      "numpy.nanstd\n",
      "    Compute the standard deviation along the specified axis, while\n",
      "numpy.nansum\n",
      "    Return the sum of array elements over a given axis treating Not a\n",
      "numpy.nanvar\n",
      "    Compute the variance along the specified axis, while ignoring NaNs.\n",
      "numpy.nditer\n",
      "    Efficient multi-dimensional iterator object to iterate over arrays.\n",
      "numpy.repeat\n",
      "    Repeat elements of an array.\n",
      "numpy.unique\n",
      "    Find the unique elements of an array.\n",
      "numpy.argsort\n",
      "    Returns the indices that would sort an array.\n",
      "numpy.cumprod\n",
      "    Return the cumulative product of elements along a given axis.\n",
      "numpy.ediff1d\n",
      "    The differences between consecutive elements of an array.\n",
      "numpy.nanmean\n",
      "    Compute the arithmetic mean along the specified axis, ignoring NaNs.\n",
      "numpy.nanprod\n",
      "    Return the product of array elements over a given axis treating Not a\n",
      "numpy.ndarray\n",
      "    ndarray(shape, dtype=float, buffer=None, offset=0,\n",
      "numpy.ndindex\n",
      "    An N-dimensional iterator object to index arrays.\n",
      "numpy.nonzero\n",
      "    Return the indices of the elements that are non-zero.\n",
      "numpy.putmask\n",
      "    Changes elements of an array based on conditional and input values.\n",
      "numpy.union1d\n",
      "    Find the union of two arrays.\n",
      "numpy.compress\n",
      "    Return selected slices of an array along given axis.\n",
      "numpy.diagonal\n",
      "    Return specified diagonals.\n",
      "numpy.packbits\n",
      "    Packs the elements of a binary-valued array into bits in a uint8 array.\n",
      "numpy.quantile\n",
      "    Compute the q-th quantile of the data along the specified axis.\n",
      "numpy.broadcast\n",
      "    Produce an object that mimics broadcasting.\n",
      "numpy.chararray\n",
      "    chararray(shape, itemsize=1, unicode=False, buffer=None, offset=0,\n",
      "numpy.histogram\n",
      "    Compute the histogram of a set of data.\n",
      "numpy.nanargmax\n",
      "    Return the indices of the maximum values in the specified axis ignoring\n",
      "numpy.nanargmin\n",
      "    Return the indices of the minimum values in the specified axis ignoring\n",
      "numpy.nancumsum\n",
      "    Return the cumulative sum of array elements over a given axis treating Not a\n",
      "numpy.nanmedian\n",
      "    Compute the median along the specified axis, while ignoring NaNs.\n",
      "numpy.partition\n",
      "    Return a partitioned copy of an array.\n",
      "numpy.core._multiarray_umath.ravel_multi_index\n",
      "    Converts a tuple of index arrays into an array of flat\n",
      "numpy.nancumprod\n",
      "    Return the cumulative product of array elements over a given axis treating Not a\n",
      "numpy.percentile\n",
      "    Compute the q-th percentile of the data along the specified axis.\n",
      "numpy.unpackbits\n",
      "    Unpacks elements of a uint8 array into a binary-valued output array.\n",
      "numpy.concatenate\n",
      "    Join a sequence of arrays along an existing axis.\n",
      "numpy.intersect1d\n",
      "    Find the intersection of two arrays.\n",
      "numpy.nanquantile\n",
      "    Compute the qth quantile of the data along the specified axis,\n",
      "numpy.ndenumerate\n",
      "    Multidimensional index iterator.\n",
      "numpy.argpartition\n",
      "    Perform an indirect partition along the given axis using the\n",
      "numpy.flatiter.copy\n",
      "    copy()\n",
      "numpy.ma.max\n",
      "    Return the maximum along a given axis.\n",
      "numpy.ma.min\n",
      "    Return the minimum along a given axis.\n",
      "numpy.ma.ptp\n",
      "    Return (maximum - minimum) along the given dimension\n",
      "numpy.ma.var\n",
      "    Compute the variance along the specified axis.\n",
      "numpy.nested_iters\n",
      "    Create nditers for use in nested loops\n",
      "numpy.ma.anom\n",
      "    Compute the anomalies (deviations from the arithmetic mean)\n",
      "numpy.ma.isin\n",
      "    Calculates `element in test_elements`, broadcasting over\n",
      "numpy.count_nonzero\n",
      "    Counts the number of non-zero values in the array ``a``.\n",
      "numpy.ma.sort\n",
      "    Sort the array, in-place\n",
      "numpy.nanpercentile\n",
      "    Compute the qth percentile of the data along the specified axis,\n",
      "numpy.ma.outer\n",
      "    Compute the outer product of two vectors.\n",
      "numpy.put_along_axis\n",
      "    Put values into the destination array by matching 1d index and data slices.\n",
      "numpy.ma.append\n",
      "    Append values to the end of an array.\n",
      "numpy.ma.argmax\n",
      "    Returns array of indices of the maximum values along the given axis.\n",
      "numpy.ma.argmin\n",
      "    Return array of indices to the minimum values along the given axis.\n",
      "numpy.ma.median\n",
      "    Compute the median along the specified axis.\n",
      "numpy.ma.argsort\n",
      "    Return an ndarray of indices that sort the array along the\n",
      "numpy.take_along_axis\n",
      "    Take values from the input array by matching 1d index and data slices.\n",
      "numpy.ma.average\n",
      "    Return the weighted average of array over the given axis.\n",
      "numpy.ma.nonzero\n",
      "    nonzero(self)\n",
      "numpy.savez_compressed\n",
      "    Save several arrays into a single file in compressed ``.npz`` format.\n",
      "numpy.ma.tests.test_subclassing.CSAIterator\n",
      "    Flat iterator object that uses its own setter/getter\n",
      "numpy.chararray.item\n",
      "    a.item(*args)\n",
      "numpy.matrix.argmax\n",
      "    Indexes of the maximum values along an axis.\n",
      "numpy.matrix.argmin\n",
      "    Indexes of the minimum values along an axis.\n",
      "numpy.histogram_bin_edges\n",
      "    Function to calculate only the edges of the bins used by the `histogram`\n",
      "numpy.chararray.resize\n",
      "    Change shape and size of array in-place.\n",
      "numpy.ma.clump_masked\n",
      "    Returns a list of slices corresponding to the masked clumps of a 1-D array.\n",
      "numpy.ma.count_masked\n",
      "    Count the number of masked elements along the given axis.\n",
      "numpy.ma.mask_rowcols\n",
      "    Mask rows and/or columns of a 2D array that contain masked values.\n",
      "numpy.lib.Arrayterator\n",
      "    Buffered iterator for big arrays.\n",
      "numpy.ma.flatnotmasked_edges\n",
      "    Find the indices of the first and last unmasked values.\n",
      "numpy.ma.clump_unmasked\n",
      "    Return list of slices corresponding to the unmasked clumps of a 1-D array.\n",
      "numpy.ma.notmasked_edges\n",
      "    Find the indices of the first and last unmasked values along an axis.\n",
      "numpy.ma.flatnotmasked_contiguous\n",
      "    Find contiguous unmasked data in a masked array along the given axis.\n",
      "numpy.ma.notmasked_contiguous\n",
      "    Find contiguous unmasked data in a masked array along the given axis.\n",
      "numpy.ma.MaskedArray.max\n",
      "    Return the maximum along a given axis.\n",
      "numpy.ma.MaskedArray.min\n",
      "    Return the minimum along a given axis.\n",
      "numpy.ma.MaskedArray.ptp\n",
      "    Return (maximum - minimum) along the given dimension\n",
      "numpy.ma.MaskedArray.var\n",
      "    Compute the variance along the specified axis.\n",
      "numpy.ma.MaskedArray.anom\n",
      "    Compute the anomalies (deviations from the arithmetic mean)\n",
      "numpy.ma.MaskedArray.sort\n",
      "    Sort the array, in-place\n",
      "numpy.lib._iotools.flatten_dtype\n",
      "    Unpack a structured data-type by collapsing nested fields and/or fields\n",
      "numpy.ma.MaskedArray.argmax\n",
      "    Returns array of indices of the maximum values along the given axis.\n",
      "numpy.ma.MaskedArray.argmin\n",
      "    Return array of indices to the minimum values along the given axis.\n",
      "numpy.ma.MaskedArray.argsort\n",
      "    Return an ndarray of indices that sort the array along the\n",
      "numpy.ma.MaskedArray.nonzero\n",
      "    Return the indices of unmasked elements that are not zero.\n",
      "numpy.core._multiarray_umath.vdot\n",
      "    Return the dot product of two vectors.\n",
      "numpy.lib.tests.test__iotools.TestMiscFunctions.test_flatten_dtype\n",
      "    Testing flatten_dtype\n",
      "numpy.core._multiarray_umath.putmask\n",
      "    Changes elements of an array based on conditional and input values.\n",
      "numpy.core._multiarray_umath.packbits\n",
      "    Packs the elements of a binary-valued array into bits in a uint8 array.\n",
      "numpy.lib.recfunctions.merge_arrays\n",
      "    Merge arrays field by field.\n",
      "numpy.core._multiarray_umath.unpackbits\n",
      "    Unpacks elements of a uint8 array into a binary-valued output array.\n",
      "numpy.core._multiarray_umath.concatenate\n",
      "    Join a sequence of arrays along an existing axis.\n",
      "numpy.polynomial.hermite.hermvander2d\n",
      "    Pseudo-Vandermonde matrix of given degrees.\n",
      "numpy.polynomial.hermite.hermvander3d\n",
      "    Pseudo-Vandermonde matrix of given degrees.\n",
      "numpy.polynomial.laguerre.lagvander2d\n",
      "    Pseudo-Vandermonde matrix of given degrees.\n",
      "numpy.polynomial.laguerre.lagvander3d\n",
      "    Pseudo-Vandermonde matrix of given degrees.\n",
      "numpy.polynomial.legendre.legvander2d\n",
      "    Pseudo-Vandermonde matrix of given degrees.\n",
      "numpy.polynomial.legendre.legvander3d\n",
      "    Pseudo-Vandermonde matrix of given degrees.\n",
      "numpy.polynomial.chebyshev.chebvander2d\n",
      "    Pseudo-Vandermonde matrix of given degrees.\n",
      "numpy.polynomial.chebyshev.chebvander3d\n",
      "    Pseudo-Vandermonde matrix of given degrees.\n",
      "numpy.polynomial.hermite_e.hermevander2d\n",
      "    Pseudo-Vandermonde matrix of given degrees.\n",
      "numpy.polynomial.hermite_e.hermevander3d\n",
      "    Pseudo-Vandermonde matrix of given degrees.\n",
      "numpy.polynomial.polynomial.polyvander2d\n",
      "    Pseudo-Vandermonde matrix of given degrees.\n",
      "numpy.polynomial.polynomial.polyvander3d\n",
      "    Pseudo-Vandermonde matrix of given degrees.\n",
      "numpy.ma.tests.test_subclassing.SubArray\n",
      "    ndarray(shape, dtype=float, buffer=None, offset=0,\n",
      "numpy.lib.tests.test_stride_tricks.SimpleSubClass\n",
      "    ndarray(shape, dtype=float, buffer=None, offset=0,\n",
      "numpy.core.tests.test_function_base.PhysicalQuantity2\n",
      "    ndarray(shape, dtype=float, buffer=None, offset=0,\n",
      "numpy.ma.tests.test_subclassing.ComplicatedSubArray\n",
      "    ndarray(shape, dtype=float, buffer=None, offset=0,\n",
      "numpy.lib.tests.test_stride_tricks.VerySimpleSubClass\n",
      "    ndarray(shape, dtype=float, buffer=None, offset=0,"
     ]
    }
   ],
   "source": [
    "np.lookfor(\"flat\")"
   ]
  },
  {
   "cell_type": "code",
   "execution_count": 67,
   "metadata": {},
   "outputs": [],
   "source": [
    "np.ravel?"
   ]
  },
  {
   "cell_type": "code",
   "execution_count": 69,
   "metadata": {},
   "outputs": [
    {
     "name": "stdout",
     "output_type": "stream",
     "text": [
      "[[ 0  6 12 18 24 30 36]\n",
      " [ 1  7 13 19 25 31 37]\n",
      " [ 2  8 14 20 26 32 38]\n",
      " [ 3  9 15 21 27 33 39]\n",
      " [ 4 10 16 22 28 34 40]\n",
      " [ 5 11 17 23 29 35 41]]\n",
      "[[ 0  1  2  3  4  5]\n",
      " [ 6  7  8  9 10 11]\n",
      " [12 13 14 15 16 17]\n",
      " [18 19 20 21 22 23]\n",
      " [24 25 26 27 28 29]\n",
      " [30 31 32 33 34 35]\n",
      " [36 37 38 39 40 41]]\n"
     ]
    }
   ],
   "source": [
    "transp = practice.T  # transpose\n",
    "print(transp)\n",
    "print(transp.base)"
   ]
  },
  {
   "cell_type": "code",
   "execution_count": 70,
   "metadata": {},
   "outputs": [],
   "source": [
    "t2 = transp.copy()\n",
    "print(t2)\n",
    "print(t2.base)"
   ]
  },
  {
   "cell_type": "markdown",
   "metadata": {},
   "source": [
    "Numpy Array Programming\n",
    "--------------------------------\n"
   ]
  },
  {
   "cell_type": "code",
   "execution_count": 75,
   "metadata": {},
   "outputs": [
    {
     "name": "stdout",
     "output_type": "stream",
     "text": [
      "[1.5  8.   1.25 2.  ]\n"
     ]
    }
   ],
   "source": [
    "# Consider the following:\n",
    "#\n",
    "# 2T + 0B + 0H + 0M = 3\n",
    "# 4T + 1B + 2H + 2M = 20.5\n",
    "# 0T + 1B + 0H + 1M = 10\n",
    "# 6T + 0B + 1H + 2M = 14.25\n",
    "#\n",
    "# We can turn the left side of the equations into a matrix and the\n",
    "# right side into a vector and solve\n",
    "orders = np.array([\n",
    "    [2, 0, 0, 0],\n",
    "    [4, 1, 2, 2],\n",
    "    [0, 1, 0, 1],\n",
    "    [6, 0, 1, 2],\n",
    "])\n",
    "totals = np.array([3, 20.50, 10, 14.25])\n",
    "prices = np.linalg.solve(orders, totals)\n",
    "print(prices)"
   ]
  },
  {
   "cell_type": "code",
   "execution_count": 77,
   "metadata": {},
   "outputs": [
    {
     "name": "stdout",
     "output_type": "stream",
     "text": [
      "[ 3.   20.5  10.   14.25]\n",
      "[ 3.   20.5  10.   14.25]\n"
     ]
    }
   ],
   "source": [
    "# The following are equivalent (multiply each element in the matrix by\n",
    "# its corresponding value in the vector):\n",
    "print( orders.dot(prices) )\n",
    "print( orders @ prices )"
   ]
  },
  {
   "cell_type": "code",
   "execution_count": 78,
   "metadata": {},
   "outputs": [
    {
     "data": {
      "text/plain": [
       "(array([1, 2, 3, 4, 5]), array([ 6,  7,  8,  9, 10]))"
      ]
     },
     "execution_count": 78,
     "metadata": {},
     "output_type": "execute_result"
    }
   ],
   "source": [
    "# Numpy has a number of `ufunc` functions, which take a vector and apply\n",
    "# a formula to each value in the vector\n",
    "a, b = np.split( np.arange(1, 11), 2)\n",
    "a, b"
   ]
  },
  {
   "cell_type": "code",
   "execution_count": 80,
   "metadata": {},
   "outputs": [
    {
     "name": "stdout",
     "output_type": "stream",
     "text": [
      "[ 7  9 11 13 15]\n",
      "[3 4 5 6 7]\n"
     ]
    }
   ],
   "source": [
    "# regular operators are overloaded for arrays\n",
    "# note both operands need to be the correct shape\n",
    "print( a + b )\n",
    "print( a + 2 )  # spreading a scalar across a vector is known as 'broadcasting'"
   ]
  },
  {
   "cell_type": "code",
   "execution_count": 81,
   "metadata": {},
   "outputs": [
    {
     "data": {
      "text/plain": [
       "array([[ 0.,  2.,  4.],\n",
       "       [ 3.,  5.,  7.],\n",
       "       [ 6.,  8., 10.]])"
      ]
     },
     "execution_count": 81,
     "metadata": {},
     "output_type": "execute_result"
    }
   ],
   "source": [
    "x1 = np.arange(9.0).reshape((3, 3))  # create a 3x3 array from 0...8.0\n",
    "x2 = np.arange(3.0)  # create a vector from 0 to 2.0\n",
    "np.add(x1, x2)  # equivalent to x1 + x2"
   ]
  },
  {
   "cell_type": "code",
   "execution_count": 85,
   "metadata": {},
   "outputs": [
    {
     "name": "stdout",
     "output_type": "stream",
     "text": [
      "3.805\n",
      "[3.695 3.75  3.97 ]\n",
      "[3.72  3.668 3.834 4.   ]\n"
     ]
    }
   ],
   "source": [
    "print( students_gpas.mean() )  # all students\n",
    "print( students_gpas.mean(axis=1) )  # average for each student\n",
    "print( students_gpas.mean(axis=0) )  # average of all students for each year"
   ]
  },
  {
   "cell_type": "code",
   "execution_count": null,
   "metadata": {},
   "outputs": [],
   "source": []
  },
  {
   "cell_type": "code",
   "execution_count": null,
   "metadata": {},
   "outputs": [],
   "source": []
  },
  {
   "cell_type": "code",
   "execution_count": null,
   "metadata": {},
   "outputs": [],
   "source": []
  }
 ],
 "metadata": {
  "kernelspec": {
   "display_name": "Python 3",
   "language": "python",
   "name": "python3"
  },
  "language_info": {
   "codemirror_mode": {
    "name": "ipython",
    "version": 3
   },
   "file_extension": ".py",
   "mimetype": "text/x-python",
   "name": "python",
   "nbconvert_exporter": "python",
   "pygments_lexer": "ipython3",
   "version": "3.7.6"
  }
 },
 "nbformat": 4,
 "nbformat_minor": 4
}
