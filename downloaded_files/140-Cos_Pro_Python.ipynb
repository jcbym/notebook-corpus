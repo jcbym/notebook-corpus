{
 "cells": [
  {
   "cell_type": "markdown",
   "metadata": {},
   "source": [
    "# Professional Coding Specialist COS Pro level 2 - python\n",
    "# `mock test 2`"
   ]
  },
  {
   "cell_type": "markdown",
   "metadata": {},
   "source": [
    "# 1. Make a function that calculates football field rental fee"
   ]
  },
  {
   "cell_type": "code",
   "execution_count": 29,
   "metadata": {},
   "outputs": [],
   "source": [
    "def solution(n, price):\n",
    "    games = n*(n-1) // 2\n",
    "    per_day = n // 2\n",
    "    answer = (games // per_day) * price\n",
    "    return answer"
   ]
  },
  {
   "cell_type": "markdown",
   "metadata": {},
   "source": [
    "# 2. Make a function that calculates the order amount of the football shoes"
   ]
  },
  {
   "cell_type": "code",
   "execution_count": 1,
   "metadata": {},
   "outputs": [],
   "source": [
    "def solution(shoes_size):\n",
    "    answer = [0 for _ in range(6)]\n",
    "    \n",
    "    for size in shoes_size:\n",
    "        if size == '7':\n",
    "            answer[0] += 1\n",
    "        elif size == '7.5':\n",
    "            answer[1] += 1\n",
    "        elif size == '8':\n",
    "            answer[2] += 1\n",
    "        elif size == '8.5':\n",
    "            answer[3] += 1\n",
    "        elif size == '9':\n",
    "            answer[4] += 1\n",
    "        elif size == '9.5':\n",
    "            answer[5] += 1\n",
    "    \n",
    "    return answer"
   ]
  },
  {
   "cell_type": "code",
   "execution_count": 2,
   "metadata": {},
   "outputs": [
    {
     "data": {
      "text/plain": [
       "[0, 2, 2, 0, 1, 0]"
      ]
     },
     "execution_count": 2,
     "metadata": {},
     "output_type": "execute_result"
    }
   ],
   "source": [
    "sizes = ['7.5', '7.5', '9', '8', '8']\n",
    "solution(sizes)"
   ]
  },
  {
   "cell_type": "markdown",
   "metadata": {},
   "source": [
    "# 3. Make a function that subtracts the second maximum value from the first maximum value"
   ]
  },
  {
   "cell_type": "code",
   "execution_count": 31,
   "metadata": {},
   "outputs": [],
   "source": [
    "def func_a(list, num):\n",
    "    ret = []\n",
    "    for i in list:\n",
    "        if i < num:\n",
    "            ret.append(i)\n",
    "    return ret\n",
    "\n",
    "def func_b(a, b):\n",
    "    if a > b:\n",
    "        return a - b\n",
    "    else:\n",
    "        return b - a\n",
    "    \n",
    "def func_c(list):\n",
    "    ret = -1\n",
    "    for i in list:\n",
    "        if ret < i:\n",
    "            ret = i\n",
    "    return ret\n",
    "\n",
    "def solution(visitor):\n",
    "    max_first = func_c(visitor)\n",
    "    visitor_removed = func_a(visitor, max_first)\n",
    "    max_second = func_c(visitor_removed)\n",
    "    answer = func_b(max_first, max_second)\n",
    "    return answer"
   ]
  },
  {
   "cell_type": "code",
   "execution_count": 33,
   "metadata": {},
   "outputs": [
    {
     "data": {
      "text/plain": [
       "5"
      ]
     },
     "execution_count": 33,
     "metadata": {},
     "output_type": "execute_result"
    }
   ],
   "source": [
    "samples = [1, 2, 3, 4, 5, 1, 2, 3, 1, 2, 1, 2, 1, 10]\n",
    "solution(samples)"
   ]
  },
  {
   "cell_type": "markdown",
   "metadata": {},
   "source": [
    "# 4. Make a function that counts number of person by score"
   ]
  },
  {
   "cell_type": "code",
   "execution_count": 34,
   "metadata": {},
   "outputs": [],
   "source": [
    "def solution(scores):\n",
    "    grade_counter = [0 for i in range(5)]\n",
    "    \n",
    "    for i in scores:\n",
    "        if i >= 85:\n",
    "            grade_counter[0] += 1\n",
    "        elif i >= 70:\n",
    "            grade_counter[1] += 1\n",
    "        elif i >= 55:\n",
    "            grade_counter[2] += 1\n",
    "        elif i >= 40:\n",
    "            grade_counter[3] += 1\n",
    "        else:\n",
    "            grade_counter[4] += 1\n",
    "    \n",
    "    return grade_counter"
   ]
  },
  {
   "cell_type": "code",
   "execution_count": 35,
   "metadata": {},
   "outputs": [
    {
     "data": {
      "text/plain": [
       "[2, 2, 1, 2, 0]"
      ]
     },
     "execution_count": 35,
     "metadata": {},
     "output_type": "execute_result"
    }
   ],
   "source": [
    "samples = [100, 90, 80, 70, 60, 50, 40]\n",
    "solution(samples)"
   ]
  },
  {
   "cell_type": "markdown",
   "metadata": {},
   "source": [
    "# 5. Make a function that counts frequencies"
   ]
  },
  {
   "cell_type": "code",
   "execution_count": 38,
   "metadata": {},
   "outputs": [],
   "source": [
    "def func_a(list):\n",
    "    counter = [0 for _ in range(1001)]\n",
    "    for i in list:\n",
    "        counter[i] += 1\n",
    "    return counter\n",
    "\n",
    "def func_b(list):\n",
    "    ret = 0\n",
    "    for i in list:\n",
    "        if ret < i:\n",
    "            ret = i\n",
    "    return ret\n",
    "\n",
    "def func_c(list):\n",
    "    ret = func_b(list)\n",
    "    for i in list:\n",
    "        if i < ret and i != 0:\n",
    "            ret = i\n",
    "    return ret\n",
    "\n",
    "def solution(list):\n",
    "    counter = func_a(list)\n",
    "    max_cnt = func_b(counter)\n",
    "    min_cnt = func_c(counter)\n",
    "    return max_cnt // min_cnt"
   ]
  },
  {
   "cell_type": "code",
   "execution_count": 40,
   "metadata": {},
   "outputs": [
    {
     "data": {
      "text/plain": [
       "4"
      ]
     },
     "execution_count": 40,
     "metadata": {},
     "output_type": "execute_result"
    }
   ],
   "source": [
    "samples = [5, 10, 30, 27, 23, 11, 5, 10, 5, 5]\n",
    "solution(samples)"
   ]
  },
  {
   "cell_type": "markdown",
   "metadata": {},
   "source": [
    "# 6. Make a function that counts how many persons are heavier than 'k'"
   ]
  },
  {
   "cell_type": "code",
   "execution_count": 41,
   "metadata": {},
   "outputs": [],
   "source": [
    "def solution(weight, k):\n",
    "    answer = 0\n",
    "    for w in weight:\n",
    "        if w > k:\n",
    "            answer += 1\n",
    "    return answer"
   ]
  },
  {
   "cell_type": "code",
   "execution_count": 42,
   "metadata": {},
   "outputs": [
    {
     "data": {
      "text/plain": [
       "3"
      ]
     },
     "execution_count": 42,
     "metadata": {},
     "output_type": "execute_result"
    }
   ],
   "source": [
    "ls_weight = [50, 60, 70, 80, 90, 100]\n",
    "solution(ls_weight, 78)"
   ]
  },
  {
   "cell_type": "markdown",
   "metadata": {},
   "source": [
    "# 7. Make a function that changes certain characters of the input string"
   ]
  },
  {
   "cell_type": "code",
   "execution_count": 47,
   "metadata": {},
   "outputs": [
    {
     "data": {
      "text/plain": [
       "105"
      ]
     },
     "execution_count": 47,
     "metadata": {},
     "output_type": "execute_result"
    }
   ],
   "source": [
    "# from unicode character to number\n",
    "ord('i')"
   ]
  },
  {
   "cell_type": "code",
   "execution_count": 49,
   "metadata": {},
   "outputs": [
    {
     "data": {
      "text/plain": [
       "'i'"
      ]
     },
     "execution_count": 49,
     "metadata": {},
     "output_type": "execute_result"
    }
   ],
   "source": [
    "# from number to unicode charcter\n",
    "chr(105)"
   ]
  },
  {
   "cell_type": "code",
   "execution_count": 50,
   "metadata": {},
   "outputs": [],
   "source": [
    "def solution(s):\n",
    "    answer = []\n",
    "    for c in s:\n",
    "        if '0' <= c <= '9':\n",
    "            n = ord('i') - ord(c)\n",
    "            c = chr(n)\n",
    "        answer.append(c)\n",
    "    return ''.join(answer)"
   ]
  },
  {
   "cell_type": "code",
   "execution_count": 51,
   "metadata": {},
   "outputs": [
    {
     "data": {
      "text/plain": [
       "'ab1c3d'"
      ]
     },
     "execution_count": 51,
     "metadata": {},
     "output_type": "execute_result"
    }
   ],
   "source": [
    "string = 'ab8c6d'\n",
    "solution(string)"
   ]
  },
  {
   "cell_type": "markdown",
   "metadata": {},
   "source": [
    "# 8. Make a function that counts names which contains certain characters"
   ]
  },
  {
   "cell_type": "code",
   "execution_count": 52,
   "metadata": {},
   "outputs": [],
   "source": [
    "def solution(name_list):\n",
    "    answer = 0\n",
    "    for name in name_list:\n",
    "        for char in name:\n",
    "            if char.find('A') > -1 or char.find('K') > -1:\n",
    "                answer += 1\n",
    "                break\n",
    "    return answer"
   ]
  },
  {
   "cell_type": "code",
   "execution_count": 53,
   "metadata": {},
   "outputs": [
    {
     "data": {
      "text/plain": [
       "2"
      ]
     },
     "execution_count": 53,
     "metadata": {},
     "output_type": "execute_result"
    }
   ],
   "source": [
    "names = ['Anthony', 'Karl', 'Jan', 'June']\n",
    "solution(names)"
   ]
  },
  {
   "cell_type": "markdown",
   "metadata": {},
   "source": [
    "# 9. Make a function that get total box amount needed"
   ]
  },
  {
   "cell_type": "code",
   "execution_count": 54,
   "metadata": {},
   "outputs": [],
   "source": [
    "def solution(orders):\n",
    "    answer = 0\n",
    "    size = 0\n",
    "    for o in orders:\n",
    "        for i in range(6):\n",
    "            if o[i] != 0:\n",
    "                size += ((i+1)**2) * (o[i])\n",
    "    answer = size // 36\n",
    "    if size % 36 != 0:\n",
    "        answer += 1\n",
    "    return answer"
   ]
  },
  {
   "cell_type": "markdown",
   "metadata": {},
   "source": [
    "# 10. Make a function that checks if the input ISBN numbers are valid"
   ]
  },
  {
   "cell_type": "code",
   "execution_count": 55,
   "metadata": {},
   "outputs": [],
   "source": [
    "def sum_isbn(isbn):\n",
    "    sum = 0\n",
    "    for i in range(len(isbn)):\n",
    "        c = int(isbn[i])\n",
    "        if i % 2:\n",
    "            w = 3\n",
    "        else:\n",
    "            w = 1\n",
    "        sum += w * c\n",
    "    return sum\n",
    "\n",
    "def solution(isbn):\n",
    "    \n",
    "    answer = ''\n",
    "    sum = sum_isbn(isbn[:-1])\n",
    "    r = 10 - (sum % 10)\n",
    "    \n",
    "    if r == 10:\n",
    "        answer = '0'\n",
    "    else:\n",
    "        answer = str(r)\n",
    "    \n",
    "    return answer"
   ]
  },
  {
   "cell_type": "code",
   "execution_count": 57,
   "metadata": {},
   "outputs": [
    {
     "data": {
      "text/plain": [
       "'0'"
      ]
     },
     "execution_count": 57,
     "metadata": {},
     "output_type": "execute_result"
    }
   ],
   "source": [
    "solution('9788960777330')"
   ]
  }
 ],
 "metadata": {
  "kernelspec": {
   "display_name": "Python 3",
   "language": "python",
   "name": "python3"
  },
  "language_info": {
   "codemirror_mode": {
    "name": "ipython",
    "version": 3
   },
   "file_extension": ".py",
   "mimetype": "text/x-python",
   "name": "python",
   "nbconvert_exporter": "python",
   "pygments_lexer": "ipython3",
   "version": "3.6.9"
  }
 },
 "nbformat": 4,
 "nbformat_minor": 2
}
