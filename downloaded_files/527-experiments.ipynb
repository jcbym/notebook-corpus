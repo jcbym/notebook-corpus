{
 "cells": [
  {
   "cell_type": "markdown",
   "metadata": {},
   "source": [
    "**Interesting questions**\n",
    "\n",
    " - Is earthquake more likely to strike in day (NO.)\n",
    " - Are earthquakes getting stronger?\n",
    " - Are there more earthquakes these days than 30 years ago?\n",
    " - Are we saving up for big earthquake? (look for patterns)\n",
    " - Is depth related to magnitude?\n",
    " - Are surface earthquakes stronger?\n",
    " \n",
    " Depends on region (pick a region, e.g. san andreas region)"
   ]
  },
  {
   "cell_type": "code",
   "execution_count": null,
   "metadata": {},
   "outputs": [],
   "source": [
    "df_read = read.csv(\"earthquakes.csv\")\n",
    "df_read$Date = as.Date(df_read$Date, format=\"%m/%d/%Y\")\n",
    "\n",
    "df = data.frame(\n",
    "    date=df_read$Date,\n",
    "    year = as.integer(format(df_read$Date, \"%Y\")),\n",
    "    depth = df_read$Depth,\n",
    "    latitude=df_read$Latitude,\n",
    "    longitude=df_read$Longitude,\n",
    "    type=df_read$Type,\n",
    "    magnitude=df_read$Magnitude,\n",
    "    magnitude_type=df_read$Magnitude.Type\n",
    ")"
   ]
  },
  {
   "cell_type": "code",
   "execution_count": null,
   "metadata": {},
   "outputs": [],
   "source": [
    "df"
   ]
  },
  {
   "cell_type": "code",
   "execution_count": null,
   "metadata": {},
   "outputs": [],
   "source": [
    "hist(df$depth)"
   ]
  },
  {
   "cell_type": "code",
   "execution_count": null,
   "metadata": {},
   "outputs": [],
   "source": [
    "hist(df$magnitude)"
   ]
  },
  {
   "cell_type": "code",
   "execution_count": null,
   "metadata": {},
   "outputs": [],
   "source": [
    "plot(df$magnitude, df$depth)"
   ]
  },
  {
   "cell_type": "code",
   "execution_count": null,
   "metadata": {},
   "outputs": [],
   "source": [
    "hist(df$year)"
   ]
  },
  {
   "cell_type": "code",
   "execution_count": null,
   "metadata": {},
   "outputs": [],
   "source": [
    "agg = aggregate(magnitude ~ year, df, mean)\n",
    "plot(agg$year, agg$magnitude)"
   ]
  }
 ],
 "metadata": {
  "kernelspec": {
   "display_name": "R",
   "language": "R",
   "name": "ir"
  },
  "language_info": {
   "codemirror_mode": "r",
   "file_extension": ".r",
   "mimetype": "text/x-r-source",
   "name": "R",
   "pygments_lexer": "r",
   "version": "3.6.2"
  }
 },
 "nbformat": 4,
 "nbformat_minor": 4
}
