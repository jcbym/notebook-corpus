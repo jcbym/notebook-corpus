{
  "nbformat": 4,
  "nbformat_minor": 0,
  "metadata": {
    "colab": {
      "name": "NLL Loss",
      "provenance": [],
      "collapsed_sections": [
        "yPWU9O3LO94x",
        "DVW34RpOzIp2",
        "VOGK2zK0HVBc"
      ]
    },
    "kernelspec": {
      "name": "python3",
      "display_name": "Python 3"
    }
  },
  "cells": [
    {
      "cell_type": "markdown",
      "metadata": {
        "id": "tRLe8VENOQM9",
        "colab_type": "text"
      },
      "source": [
        "# NLL loss\n",
        "\n",
        "The current mlpack implementation is probably not correct (?)\n",
        "\n",
        "\n",
        "A basic NumPy implementation is included below.\n",
        "```python\n",
        "import torch\n",
        "import numpy as np\n",
        "\n",
        "x = torch.tensor([[-0.1689, -2.0033, -3.8886],\n",
        "                  [-0.2862, -1.9392, -2.2532],\n",
        "                  [-1.0543, -0.6196, -2.1769],\n",
        "                  [-1.2865, -1.4797, -0.7011]])\n",
        "y = torch.tensor([2, 2, 1, 2])\n",
        "\n",
        "x = x.numpy()\n",
        "y = y.numpy()\n",
        "\n",
        "lst = []\n",
        "for k in range(len(x)):\n",
        "    lst.append(-x[k][y[k]]) # y[k] = currentTarget variable in mlpack \n",
        "\n",
        "print(lst)           # none reduction\n",
        "print(np.mean(lst))  # mean reduction \n",
        "```"
      ]
    },
    {
      "cell_type": "markdown",
      "metadata": {
        "id": "yPWU9O3LO94x",
        "colab_type": "text"
      },
      "source": [
        "### Imports and installation of mlpack"
      ]
    },
    {
      "cell_type": "code",
      "metadata": {
        "id": "ZoQR5XuyPAb9",
        "colab_type": "code",
        "colab": {}
      },
      "source": [
        "%%capture\n",
        "!sudo apt-get install libmlpack-dev \n",
        "import torch\n",
        "import torch.nn as nn"
      ],
      "execution_count": 1,
      "outputs": []
    },
    {
      "cell_type": "markdown",
      "metadata": {
        "colab_type": "text",
        "id": "y6sYXvFs4H2k"
      },
      "source": [
        "### PyTorch"
      ]
    },
    {
      "cell_type": "markdown",
      "metadata": {
        "id": "DVW34RpOzIp2",
        "colab_type": "text"
      },
      "source": [
        "#### Input generation with fixed seeds"
      ]
    },
    {
      "cell_type": "code",
      "metadata": {
        "id": "j8KrWiyyzLbV",
        "colab_type": "code",
        "colab": {}
      },
      "source": [
        "import random\n",
        "import os\n",
        "import numpy as np\n",
        "\n",
        "def fix_seeds(seed=0):\n",
        "  SEED = seed\n",
        "  random.seed(seed)\n",
        "  os.environ['PYTHONHASHSEED'] = str(SEED)\n",
        "  np.random.seed(SEED)\n",
        "  torch.manual_seed(SEED)\n",
        "  torch.backends.cudnn.deterministic = True\n",
        "  torch.backends.cudnn.benchmark = False\n",
        "  if (torch.cuda.is_available()):\n",
        "    torch.cuda.manual_seed(SEED)\n",
        "\n",
        "fix_seeds()"
      ],
      "execution_count": 2,
      "outputs": []
    },
    {
      "cell_type": "code",
      "metadata": {
        "id": "VKcqzrKSzNrp",
        "colab_type": "code",
        "colab": {
          "base_uri": "https://localhost:8080/",
          "height": 138
        },
        "outputId": "71caa590-e79e-4e8a-adad-8a376839ac80"
      },
      "source": [
        "x0 = torch.randn(4, 3)   \n",
        "x = nn.LogSoftmax(dim=1)(x0)       # 4 samples, 3 classes (NLL is a multi-label loss function)\n",
        "y = torch.LongTensor(4).random_(3) # choose 4 numbers randomly in the range 1 to 3, as [ 0 <= targets[i] <= num_classes - 1 ] is required by PyTorch.\n",
        "\n",
        "print('Input : ')\n",
        "print(x)\n",
        "print('Target : ')\n",
        "print(y)"
      ],
      "execution_count": 3,
      "outputs": [
        {
          "output_type": "stream",
          "text": [
            "Input : \n",
            "tensor([[-0.1689, -2.0033, -3.8886],\n",
            "        [-0.2862, -1.9392, -2.2532],\n",
            "        [-1.0543, -0.6196, -2.1769],\n",
            "        [-1.2865, -1.4797, -0.7011]])\n",
            "Target : \n",
            "tensor([2, 2, 1, 2])\n"
          ],
          "name": "stdout"
        }
      ]
    },
    {
      "cell_type": "markdown",
      "metadata": {
        "colab_type": "text",
        "id": "YBHd3wIt4H2l"
      },
      "source": [
        "#### None Reduction\n"
      ]
    },
    {
      "cell_type": "code",
      "metadata": {
        "colab_type": "code",
        "id": "tbvKldxa4H2m",
        "colab": {
          "base_uri": "https://localhost:8080/",
          "height": 277
        },
        "outputId": "e981cdf8-f261-4ef7-e691-9006b21bf308"
      },
      "source": [
        "loss = torch.nn.NLLLoss(reduction='none')\n",
        "input = torch.tensor([[-0.1689, -2.0033, -3.8886],\n",
        "                      [-0.2862, -1.9392, -2.2532],\n",
        "                      [-1.0543, -0.6196, -2.1769],\n",
        "                      [-1.2865, -1.4797, -0.7011]], requires_grad=True)\n",
        "target = torch.tensor([2, 2, 1, 2])\n",
        "output = loss(input, target)\n",
        "output.backward(torch.ones(target.shape))\n",
        "print(\"Input : \")\n",
        "print(input)\n",
        "print(\"Target : \")\n",
        "print(target)\n",
        "print(\"FORWARD : \")\n",
        "print(\"Loss : \")\n",
        "print(output)\n",
        "print(\"BACKWARD : \")\n",
        "print(input.grad)"
      ],
      "execution_count": 4,
      "outputs": [
        {
          "output_type": "stream",
          "text": [
            "Input : \n",
            "tensor([[-0.1689, -2.0033, -3.8886],\n",
            "        [-0.2862, -1.9392, -2.2532],\n",
            "        [-1.0543, -0.6196, -2.1769],\n",
            "        [-1.2865, -1.4797, -0.7011]], requires_grad=True)\n",
            "Target : \n",
            "tensor([2, 2, 1, 2])\n",
            "FORWARD : \n",
            "Loss : \n",
            "tensor([3.8886, 2.2532, 0.6196, 0.7011], grad_fn=<NllLossBackward>)\n",
            "BACKWARD : \n",
            "tensor([[ 0.,  0., -1.],\n",
            "        [ 0.,  0., -1.],\n",
            "        [ 0., -1.,  0.],\n",
            "        [ 0.,  0., -1.]])\n"
          ],
          "name": "stdout"
        }
      ]
    },
    {
      "cell_type": "markdown",
      "metadata": {
        "colab_type": "text",
        "id": "2eAofEln4H2p"
      },
      "source": [
        "#### Sum Reduction"
      ]
    },
    {
      "cell_type": "code",
      "metadata": {
        "colab_type": "code",
        "id": "alko8BnL4H2p",
        "colab": {
          "base_uri": "https://localhost:8080/",
          "height": 277
        },
        "outputId": "d68abd32-5612-4411-efc0-e668050330fa"
      },
      "source": [
        "loss = torch.nn.NLLLoss(reduction='sum')\n",
        "input = torch.tensor([[-0.1689, -2.0033, -3.8886],\n",
        "                      [-0.2862, -1.9392, -2.2532],\n",
        "                      [-1.0543, -0.6196, -2.1769],\n",
        "                      [-1.2865, -1.4797, -0.7011]], requires_grad=True)\n",
        "target = torch.tensor([2, 2, 1, 2])\n",
        "output = loss(input, target)\n",
        "output.backward()\n",
        "print(\"Input : \")\n",
        "print(input)\n",
        "print(\"Target : \")\n",
        "print(target)\n",
        "print(\"FORWARD : \")\n",
        "print(\"Loss : \")\n",
        "print(output)\n",
        "print(\"BACKWARD : \")\n",
        "print(input.grad)"
      ],
      "execution_count": 5,
      "outputs": [
        {
          "output_type": "stream",
          "text": [
            "Input : \n",
            "tensor([[-0.1689, -2.0033, -3.8886],\n",
            "        [-0.2862, -1.9392, -2.2532],\n",
            "        [-1.0543, -0.6196, -2.1769],\n",
            "        [-1.2865, -1.4797, -0.7011]], requires_grad=True)\n",
            "Target : \n",
            "tensor([2, 2, 1, 2])\n",
            "FORWARD : \n",
            "Loss : \n",
            "tensor(7.4625, grad_fn=<NllLossBackward>)\n",
            "BACKWARD : \n",
            "tensor([[ 0.,  0., -1.],\n",
            "        [ 0.,  0., -1.],\n",
            "        [ 0., -1.,  0.],\n",
            "        [ 0.,  0., -1.]])\n"
          ],
          "name": "stdout"
        }
      ]
    },
    {
      "cell_type": "markdown",
      "metadata": {
        "colab_type": "text",
        "id": "vJukNLu24H2s"
      },
      "source": [
        "#### Mean reduction"
      ]
    },
    {
      "cell_type": "code",
      "metadata": {
        "colab_type": "code",
        "id": "_nlOMbXC4H2t",
        "colab": {
          "base_uri": "https://localhost:8080/",
          "height": 277
        },
        "outputId": "3a6759e1-dc43-48fb-fb8d-002c87e6b1e8"
      },
      "source": [
        "loss = torch.nn.NLLLoss(reduction='mean')\n",
        "input = torch.tensor([[-0.1689, -2.0033, -3.8886],\n",
        "                      [-0.2862, -1.9392, -2.2532],\n",
        "                      [-1.0543, -0.6196, -2.1769],\n",
        "                      [-1.2865, -1.4797, -0.7011]], requires_grad=True)\n",
        "target = torch.tensor([2, 2, 1, 2])\n",
        "output = loss(input, target)\n",
        "output.backward()\n",
        "print(\"Input : \")\n",
        "print(input)\n",
        "print(\"Target : \")\n",
        "print(target)\n",
        "print(\"FORWARD : \")\n",
        "print(\"Loss : \")\n",
        "print(output)\n",
        "print(\"BACKWARD : \")\n",
        "print(input.grad)"
      ],
      "execution_count": 6,
      "outputs": [
        {
          "output_type": "stream",
          "text": [
            "Input : \n",
            "tensor([[-0.1689, -2.0033, -3.8886],\n",
            "        [-0.2862, -1.9392, -2.2532],\n",
            "        [-1.0543, -0.6196, -2.1769],\n",
            "        [-1.2865, -1.4797, -0.7011]], requires_grad=True)\n",
            "Target : \n",
            "tensor([2, 2, 1, 2])\n",
            "FORWARD : \n",
            "Loss : \n",
            "tensor(1.8656, grad_fn=<NllLossBackward>)\n",
            "BACKWARD : \n",
            "tensor([[ 0.0000,  0.0000, -0.2500],\n",
            "        [ 0.0000,  0.0000, -0.2500],\n",
            "        [ 0.0000, -0.2500,  0.0000],\n",
            "        [ 0.0000,  0.0000, -0.2500]])\n"
          ],
          "name": "stdout"
        }
      ]
    },
    {
      "cell_type": "markdown",
      "metadata": {
        "colab_type": "text",
        "id": "h7fZHZDk4H2w"
      },
      "source": [
        "### mlpack\n"
      ]
    },
    {
      "cell_type": "markdown",
      "metadata": {
        "id": "VOGK2zK0HVBc",
        "colab_type": "text"
      },
      "source": [
        "##### CURRENT IMPLEMENTATION - implements sum reduction, but probably incorrectly {Results don't match PyTorch output}"
      ]
    },
    {
      "cell_type": "code",
      "metadata": {
        "id": "M_SoVQTPzDgb",
        "colab_type": "code",
        "colab": {}
      },
      "source": [
        "%%capture\n",
        "%%writefile test.cpp  \n",
        "\n",
        "#include <iostream>\n",
        "#include <armadillo>\n",
        "\n",
        "using namespace std;\n",
        "using namespace arma;\n",
        "\n",
        "int main()\n",
        "{\n",
        "  // Constructor\n",
        "  arma::mat x,y;\n",
        " \n",
        "  // PyTorch : input of shape N x C = 4 x 3, i.e N = 4, C = 3, target of shape N  = 4 \n",
        "  // mlpack : input.n_rows = 4, input.n_cols = 3, target.n_rows = 1, target.n_cols = 4\n",
        " \n",
        "  x << -0.1689 << -2.0033 << -3.8886 << endr\n",
        "    << -0.2862 << -1.9392 << -2.2532 << endr\n",
        "    << -1.0543 << -0.6196 << -2.1769 << endr\n",
        "    << -1.2865 << -1.4797 << -0.7011 << endr;\n",
        " \n",
        "  // Disparity I observed for bounds checking in target vector. Not sure why (?)\n",
        "  // PyTorch : 0 <= target[i] < C , i.e. 0 <= target[i] < 3\n",
        "  // mlpack : 0 <= currentTarget < input.n_rows, i.e 0 <= target[i] < 4\n",
        " \n",
        "  y << 2 << 2 << 1 << 2 << endr;\n",
        " \n",
        "\n",
        "  // Forward\n",
        " \n",
        "  double loss_sum = 0;\n",
        "  for (size_t i = 0; i < x.n_cols; ++i)\n",
        "  {\n",
        "    size_t currentTarget = y(i) - 1;\n",
        "    loss_sum -= x(currentTarget, i);\n",
        "  }\n",
        "\n",
        "  // Backward\n",
        " \n",
        "  arma::mat output;\n",
        "  output = arma::zeros<arma::mat>(x.n_rows, x.n_cols);\n",
        "  for (size_t i = 0; i < x.n_cols; ++i)\n",
        "  {\n",
        "    size_t currentTarget = y(i) - 1;\n",
        "    output(currentTarget, i) = -1;\n",
        "  }\n",
        "\n",
        "  // Display\n",
        "  cout << \"------------------------------------------------------------------\" << endl;\n",
        "  cout << \"USER-PROVIDED MATRICES : \" << endl;\n",
        "  cout << \"------------------------------------------------------------------\" << endl;\n",
        "  cout << \"Input shape : \"<< x.n_rows << \" \" << x.n_cols << endl;\n",
        "  cout << \"Input : \" << endl << x << endl;\n",
        "  cout << \"Target shape : \"<< y.n_rows << \" \" << y.n_cols << endl;\n",
        "  cout << \"Target : \" << endl << y << endl;\n",
        "  cout << \"Loss : \" << endl << loss_sum << endl;\n",
        "  cout << \"Backward output : \" << endl << output << endl;\n",
        "  cout << \"------------------------------------------------------------------\" << endl;\n",
        "  return 0;\n",
        "}"
      ],
      "execution_count": 7,
      "outputs": []
    },
    {
      "cell_type": "code",
      "metadata": {
        "id": "77JI-aIiHdag",
        "colab_type": "code",
        "colab": {
          "base_uri": "https://localhost:8080/",
          "height": 416
        },
        "outputId": "b3c6b48b-529a-4710-ef14-56e988bc012e"
      },
      "source": [
        "%%script bash\n",
        "g++ test.cpp -o test -larmadillo && ./test"
      ],
      "execution_count": 8,
      "outputs": [
        {
          "output_type": "stream",
          "text": [
            "------------------------------------------------------------------\n",
            "USER-PROVIDED MATRICES : \n",
            "------------------------------------------------------------------\n",
            "Input shape : 4 3\n",
            "Input : \n",
            "  -0.1689  -2.0033  -3.8886\n",
            "  -0.2862  -1.9392  -2.2532\n",
            "  -1.0543  -0.6196  -2.1769\n",
            "  -1.2865  -1.4797  -0.7011\n",
            "\n",
            "Target shape : 1 4\n",
            "Target : \n",
            "   2.0000   2.0000   1.0000   2.0000\n",
            "\n",
            "Loss : \n",
            "6.114\n",
            "Backward output : \n",
            "        0        0  -1.0000\n",
            "  -1.0000  -1.0000        0\n",
            "        0        0        0\n",
            "        0        0        0\n",
            "\n",
            "------------------------------------------------------------------\n"
          ],
          "name": "stdout"
        }
      ]
    },
    {
      "cell_type": "markdown",
      "metadata": {
        "id": "Hc-zzIEyPEmo",
        "colab_type": "text"
      },
      "source": [
        "##### NEW IMPLEMENTATION - matches exactly with PyTorch, implements all the reductions"
      ]
    },
    {
      "cell_type": "code",
      "metadata": {
        "id": "UJFHYKZKPGoA",
        "colab_type": "code",
        "colab": {}
      },
      "source": [
        "%%capture\n",
        "%%writefile test.cpp  \n",
        "\n",
        "#include <iostream>\n",
        "#include <armadillo>\n",
        "\n",
        "using namespace std;\n",
        "using namespace arma;\n",
        "\n",
        "int main()\n",
        "{\n",
        "  // Constructor\n",
        "  arma::mat x,y;\n",
        " \n",
        "  // PyTorch : input of shape N x C = 4 x 3, i.e N = 4, C = 3, target of shape N = 4  \n",
        "  // PyTorch : 0 <= target[i] < C , i.e. 0 <= target[i] < 3 for all i\n",
        "  // PyTorch : -> Forward : l[n] = -x[n][y[n]] where  0 <= n <= N-1,  i.e l[0] = -x[0][2], l[1] = -x[1][2], l[2] = -x[2][1], l[3] = -x[3][2] , loss_none = [ l[0], l[1], l[2], l[3] ]\n",
        " \n",
        "  x << -0.1689 << -2.0033 << -3.8886 << endr\n",
        "    << -0.2862 << -1.9392 << -2.2532 << endr\n",
        "    << -1.0543 << -0.6196 << -2.1769 << endr\n",
        "    << -1.2865 << -1.4797 << -0.7011 << endr;\n",
        "   \n",
        "  y << 2 << 2 << 1 << 2 << endr;\n",
        " \n",
        "  // Forward\n",
        "  arma::mat loss_none;\n",
        "  loss_none.zeros(size(y));\n",
        "  for (size_t i = 0; i < y.n_cols; ++i)\n",
        "  {\n",
        "    size_t currentTarget = y(i);\n",
        "    loss_none(i) = -x(i, currentTarget);\n",
        "  }\n",
        " \n",
        "  double loss_sum = arma::accu(loss_none);\n",
        "  double loss_mean = loss_sum / y.n_elem;\n",
        "\n",
        "\n",
        "  // Backward\n",
        "  arma::mat output;\n",
        "  output.zeros(size(x));\n",
        "  for (size_t i = 0; i < y.n_cols; ++i)\n",
        "  {\n",
        "    size_t currentTarget = y(i);\n",
        "    output(i, currentTarget) = -1;\n",
        "  }\n",
        "\n",
        "  // Display\n",
        "  cout << \"------------------------------------------------------------------\" << endl;\n",
        "  cout << \"USER-PROVIDED MATRICES : \" << endl;\n",
        "  cout << \"------------------------------------------------------------------\" << endl;\n",
        "  cout << \"Input shape : \"<< x.n_rows << \" \" << x.n_cols << endl;\n",
        "  cout << \"Input : \" << endl << x << endl;\n",
        "  cout << \"Target shape : \"<< y.n_rows << \" \" << y.n_cols << endl;\n",
        "  cout << \"Target : \" << endl << y << endl;\n",
        "  cout << \"------------------------------------------------------------------\" << endl;\n",
        "  cout << \"NONE \" << endl;\n",
        "  cout << \"------------------------------------------------------------------\" << endl;\n",
        "  cout << \"Loss (none):\\n\" << loss_none << '\\n';\n",
        "  cout << \"------------------------------------------------------------------\" << endl;\n",
        "  cout << \"SUM \" << endl;\n",
        "  cout << \"------------------------------------------------------------------\" << endl;\n",
        "  cout << \"FORWARD : \" << endl;\n",
        "  cout << \"Loss (sum):\\n\" << loss_sum << '\\n';\n",
        "  cout << \"BACKWARD : \" << endl;\n",
        "  cout << \"Output shape : \"<< output.n_rows << \" \" << output.n_cols << endl;\n",
        "  cout << \"Output (sum) : \" << endl << output << endl;\n",
        "  cout << \"Sum of all values in this matrix : \" << arma::as_scalar(arma::accu(output)) << endl;\n",
        "  cout << \"------------------------------------------------------------------\" << endl;\n",
        "  cout << \"MEAN \" << endl;\n",
        "  cout << \"------------------------------------------------------------------\" << endl;\n",
        "  cout << \"FORWARD : \" << endl;\n",
        "  cout << \"Loss (mean):\\n\" << loss_mean << '\\n';\n",
        "  cout << \"BACKWARD : \" << endl;\n",
        "  cout << \"Output shape : \"<< output.n_rows << \" \" << output.n_cols << endl;\n",
        "  cout << \"Output (mean) : \" << endl << output / y.n_elem << endl;\n",
        "  cout << \"Sum of all values in this matrix : \" << arma::as_scalar(arma::accu(output / y.n_elem)) << endl;\n",
        "  cout << \"------------------------------------------------------------------\" << endl;\n",
        "\n",
        "  return 0;\n",
        "}"
      ],
      "execution_count": 9,
      "outputs": []
    },
    {
      "cell_type": "code",
      "metadata": {
        "id": "AT2MUfluPHge",
        "colab_type": "code",
        "colab": {
          "base_uri": "https://localhost:8080/",
          "height": 901
        },
        "outputId": "8292165b-8be3-4253-9840-91d376aa238c"
      },
      "source": [
        "%%script bash\n",
        "g++ test.cpp -o test -larmadillo && ./test"
      ],
      "execution_count": 10,
      "outputs": [
        {
          "output_type": "stream",
          "text": [
            "------------------------------------------------------------------\n",
            "USER-PROVIDED MATRICES : \n",
            "------------------------------------------------------------------\n",
            "Input shape : 4 3\n",
            "Input : \n",
            "  -0.1689  -2.0033  -3.8886\n",
            "  -0.2862  -1.9392  -2.2532\n",
            "  -1.0543  -0.6196  -2.1769\n",
            "  -1.2865  -1.4797  -0.7011\n",
            "\n",
            "Target shape : 1 4\n",
            "Target : \n",
            "   2.0000   2.0000   1.0000   2.0000\n",
            "\n",
            "------------------------------------------------------------------\n",
            "NONE \n",
            "------------------------------------------------------------------\n",
            "Loss (none):\n",
            "   3.8886   2.2532   0.6196   0.7011\n",
            "\n",
            "------------------------------------------------------------------\n",
            "SUM \n",
            "------------------------------------------------------------------\n",
            "FORWARD : \n",
            "Loss (sum):\n",
            "7.4625\n",
            "BACKWARD : \n",
            "Output shape : 4 3\n",
            "Output (sum) : \n",
            "        0        0  -1.0000\n",
            "        0        0  -1.0000\n",
            "        0  -1.0000        0\n",
            "        0        0  -1.0000\n",
            "\n",
            "Sum of all values in this matrix : -4\n",
            "------------------------------------------------------------------\n",
            "MEAN \n",
            "------------------------------------------------------------------\n",
            "FORWARD : \n",
            "Loss (mean):\n",
            "1.86562\n",
            "BACKWARD : \n",
            "Output shape : 4 3\n",
            "Output (mean) : \n",
            "        0        0  -0.2500\n",
            "        0        0  -0.2500\n",
            "        0  -0.2500        0\n",
            "        0        0  -0.2500\n",
            "\n",
            "Sum of all values in this matrix : -1\n",
            "------------------------------------------------------------------\n"
          ],
          "name": "stdout"
        }
      ]
    }
  ]
}