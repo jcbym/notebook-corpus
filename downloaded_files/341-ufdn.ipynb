{
 "cells": [
  {
   "cell_type": "markdown",
   "id": "active-costs",
   "metadata": {},
   "source": [
    "## Set Target Directory "
   ]
  },
  {
   "cell_type": "code",
   "execution_count": null,
   "id": "bulgarian-firewall",
   "metadata": {
    "tags": []
   },
   "outputs": [],
   "source": [
    "# All files in target_dir will be Unified file name,include directorys.\n",
    "# You should change target_dir string manually .\n",
    "# You should better use absolute directory path .\n",
    "target_dir = \"../EmptyDir/\""
   ]
  },
  {
   "cell_type": "markdown",
   "id": "instructional-making",
   "metadata": {},
   "source": [
    "## Desfine Set and Also Pickle to File "
   ]
  },
  {
   "cell_type": "code",
   "execution_count": 1,
   "id": "twenty-richardson",
   "metadata": {
    "execution": {
     "iopub.execute_input": "2021-04-23T08:11:58.355549Z",
     "iopub.status.busy": "2021-04-23T08:11:58.355178Z",
     "iopub.status.idle": "2021-04-23T08:11:58.362868Z",
     "shell.execute_reply": "2021-04-23T08:11:58.362326Z",
     "shell.execute_reply.started": "2021-04-23T08:11:58.355459Z"
    },
    "tags": []
   },
   "outputs": [],
   "source": [
    "data_path = \"./data/\""
   ]
  },
  {
   "cell_type": "markdown",
   "id": "c45847b0-18b0-46a0-9edf-1ce01b503590",
   "metadata": {},
   "source": [
    "#### Keep Original List"
   ]
  },
  {
   "cell_type": "code",
   "execution_count": null,
   "id": "a299ed1a-a25c-4e8d-8dcc-5a1bd6dc5380",
   "metadata": {
    "jupyter": {
     "source_hidden": true
    },
    "tags": []
   },
   "outputs": [],
   "source": [
    "BashSpecialParamList = [\"$*\", \"$@\", \"$#\", \"$?\", \"$-\", \"$$\", \"$!\", \"$0\"]\n",
    "KeepOriginalList = []\n",
    "KeepOriginalList.extend(BashSpecialParamList)\n",
    "\n",
    "# import os\n",
    "# import pickle\n",
    "\n",
    "# fname = \"KeepOriginalList.pkl\"\n",
    "# fpath = os.path.join(data_path, fname)\n",
    "# with open(fpath, \"wb\") as fhand:\n",
    "#     pickle.dump(KeepOriginalList, fhand)"
   ]
  },
  {
   "cell_type": "markdown",
   "id": "polyphonic-retreat",
   "metadata": {
    "tags": []
   },
   "source": [
    "#### Define Characters Set Dictionary"
   ]
  },
  {
   "cell_type": "code",
   "execution_count": 3,
   "id": "included-candidate",
   "metadata": {
    "execution": {
     "iopub.execute_input": "2021-04-23T08:12:17.144804Z",
     "iopub.status.busy": "2021-04-23T08:12:17.144602Z",
     "iopub.status.idle": "2021-04-23T08:12:17.152398Z",
     "shell.execute_reply": "2021-04-23T08:12:17.151878Z",
     "shell.execute_reply.started": "2021-04-23T08:12:17.144780Z"
    },
    "jupyter": {
     "source_hidden": true
    },
    "tags": []
   },
   "outputs": [],
   "source": [
    "import collections\n",
    "\n",
    "CharDictionary = collections.OrderedDict()\n",
    "globalSepChar = \"_\"\n",
    "CharDictionary = {\n",
    "    \"\\r\": globalSepChar,\n",
    "    \"\\n\": globalSepChar,\n",
    "    \"?\": globalSepChar,\n",
    "    \",\": globalSepChar,\n",
    "    \"!\": globalSepChar,\n",
    "    \":\": globalSepChar,\n",
    "    \"&\": globalSepChar,\n",
    "    \"@\": globalSepChar,\n",
    "    \"·\": globalSepChar,  #at the middle height of row\n",
    "    \"\\`\": globalSepChar,\n",
    "    \" \": globalSepChar,  #space\n",
    "    \"(\": globalSepChar,\n",
    "    \")\": globalSepChar,\n",
    "    \"'\": globalSepChar,\n",
    "    \"+\": globalSepChar,\n",
    "    \"-\": globalSepChar,\n",
    "    \"=\": globalSepChar,\n",
    "    \"|\": globalSepChar,\n",
    "    \"[\": globalSepChar,\n",
    "    \"]\": globalSepChar,\n",
    "    \"{\": globalSepChar,\n",
    "    \"}\": globalSepChar,\n",
    "    \"»\": globalSepChar,\n",
    "    \"«\": globalSepChar,\n",
    "    \"\\\"\": globalSepChar,\n",
    "    \"*\": globalSepChar,\n",
    "    \"#\": globalSepChar,\n",
    "    \"®\": globalSepChar,\n",
    "    \"…\": globalSepChar,\n",
    "    \"“\": globalSepChar,\n",
    "    \"”\": globalSepChar,\n",
    "    #     \".\": globalSepChar,\n",
    "    \"•\": globalSepChar,\n",
    "    \"，\": globalSepChar,\n",
    "    \"–\": globalSepChar,\n",
    "    \"—\": globalSepChar,\n",
    "    #     \"一\": globalSepChar,#It is a chinese number character, means one\n",
    "    \"、\": globalSepChar,\n",
    "    \"（\": globalSepChar,\n",
    "    \"）\": globalSepChar,\n",
    "    \"《\": globalSepChar,\n",
    "    \"》\": globalSepChar,\n",
    "    \">\": globalSepChar,\n",
    "    \"【\": globalSepChar,\n",
    "    \"】\": globalSepChar,\n",
    "    \"「\": globalSepChar,\n",
    "    \"」\": globalSepChar,\n",
    "    \"｜\": globalSepChar,\n",
    "    \"：\": globalSepChar,\n",
    "    \"；\": globalSepChar,\n",
    "    \"？\": globalSepChar,\n",
    "    \"！\": globalSepChar,\n",
    "    \"🚀\": globalSepChar,\n",
    "    \"🚴\": globalSepChar,\n",
    "    \"🌏\": globalSepChar,\n",
    "    \"🐾\": globalSepChar,\n",
    "    \"❤️\": globalSepChar,\n",
    "    \"%2F\": globalSepChar,\n",
    "    \"____\": globalSepChar,\n",
    "    \"___\": globalSepChar,\n",
    "    \"__\": globalSepChar,\n",
    "    \"._\": globalSepChar,\n",
    "    \"What’s\": \"What_is\",\n",
    "    \"what’s\": \"what_is\"\n",
    "}\n",
    "\n",
    "# import os\n",
    "# import pickle\n",
    "\n",
    "# fname = \"CharDictionary.pkl\"\n",
    "# fpath = os.path.join(data_path, fname)\n",
    "# with open(fpath, \"wb\") as fhand:\n",
    "#     pickle.dump(CharDictionary, fhand)"
   ]
  },
  {
   "cell_type": "markdown",
   "id": "fatty-breath",
   "metadata": {},
   "source": [
    "#### Define Terminology Set Dictionary"
   ]
  },
  {
   "cell_type": "code",
   "execution_count": null,
   "id": "chemical-warehouse",
   "metadata": {
    "jupyter": {
     "source_hidden": true
    },
    "tags": []
   },
   "outputs": [],
   "source": [
    "TerminologyDictionary = {\n",
    "    #     \"apple\": \"Apple\",\n",
    "    \"asciinema\": \"asciinema\",\n",
    "    \"api\": \"API\",\n",
    "    \"atm\": \"ATM\",\n",
    "    \"cmsis\": \"CMSIS\",\n",
    "    \"cypress\": \"CYPRESS\",\n",
    "    \"dji\": \"DJI\",\n",
    "    #     \"google\": \"Google\",\n",
    "    \"i2c\": \"I2C\",\n",
    "    \"kicad\": \"KiCAD\",\n",
    "    \"mbed\": \"Mbed\",\n",
    "    \"mosfet\": \"MOSFET\",\n",
    "    \"mux\": \"MUX\",\n",
    "    \"nltk\": \"NLTK\",\n",
    "    \"nucleo\": \"NUCLEO\",\n",
    "    \"pcb\": \"PCB\",\n",
    "    \"pcie\": \"PCIe\",\n",
    "    \"psoc\": \"PSoC\",\n",
    "    \"rohs\": \"ROHS\",\n",
    "    \"spi\": \"SPI\",\n",
    "    \"stm32\": \"STM32\",\n",
    "    \"stmicroelectronics\": \"STMicroelectronics\",\n",
    "    \"ti\": \"TI\",\n",
    "    \"usb\": \"USB\",\n",
    "    \"vishay\": \"VISHAY\",\n",
    "}\n",
    "\n",
    "# import os\n",
    "# import pickle\n",
    "\n",
    "# fname = \"TerminologyDictionary.pkl\"\n",
    "# fpath = os.path.join(data_path, fname)\n",
    "\n",
    "# with open(fpath, \"wb\") as fhand:\n",
    "#     pickle.dump(TerminologyDictionary, fhand)"
   ]
  },
  {
   "cell_type": "markdown",
   "id": "determined-candle",
   "metadata": {},
   "source": [
    "#### Define Ignored Directory Key"
   ]
  },
  {
   "cell_type": "code",
   "execution_count": null,
   "id": "narrow-music",
   "metadata": {
    "tags": []
   },
   "outputs": [],
   "source": [
    "IgnoredDirectoryKeyList = [\".git\", \".xcodeproj\", \".cydsn\", \".cywrk\"]\n",
    "\n",
    "import os\n",
    "import pickle\n",
    "\n",
    "# fname = \"IgnoredDirectoryKeyList.pkl\"\n",
    "# fpath = os.path.join(data_path, fname)\n",
    "# with open(fpath, \"wb\") as fhand:\n",
    "#     pickle.dump(IgnoredDirectoryKeyList, fhand)"
   ]
  },
  {
   "cell_type": "markdown",
   "id": "partial-genre",
   "metadata": {},
   "source": [
    "#### Get Words Set and Convert to Lower Case"
   ]
  },
  {
   "cell_type": "code",
   "execution_count": null,
   "id": "continued-fifteen",
   "metadata": {
    "tags": []
   },
   "outputs": [],
   "source": [
    "from nltk.corpus import words\n",
    "\n",
    "LowerCaseWordSet = set(list(map(lambda x: x.lower(), words.words())))\n",
    "\n",
    "from datetime import datetime\n",
    "import pickle\n",
    "\n",
    "with open(\n",
    "        os.path.join(\n",
    "            data_path,\n",
    "            \"NLTK_corpus_words_\" + datetime.now().strftime(\"%Y%m%d\") + \".pkl\"),\n",
    "        \"wb\") as fhand:\n",
    "    pickle.dump(words.words(), fhand)\n",
    "\n",
    "fname = \"LowerCaseWordSet.pkl\"\n",
    "fpath = os.path.join(data_path, fname)\n",
    "lnkpath = os.path.join(data_path, \"LowerCaseWordSet.pkl\")\n",
    "with open(fpath, \"wb\") as fhand:\n",
    "    pickle.dump(LowerCaseWordSet, fhand)"
   ]
  },
  {
   "cell_type": "markdown",
   "id": "welcome-nursery",
   "metadata": {},
   "source": [
    "---\n",
    "## Jupyter Notebook Version"
   ]
  },
  {
   "cell_type": "markdown",
   "id": "signal-satin",
   "metadata": {},
   "source": [
    "### Define Functions"
   ]
  },
  {
   "cell_type": "code",
   "execution_count": null,
   "id": "specified-sheriff",
   "metadata": {
    "tags": []
   },
   "outputs": [],
   "source": [
    "def replaceChar(charDict={}, fNameStr=\"\"):\n",
    "    assert charDict\n",
    "    assert fNameStr\n",
    "    print(fNameStr)\n",
    "    import os\n",
    "    root, ext = os.path.splitext(fNameStr)\n",
    "    for key, value in charDict.items():\n",
    "        if key in root:\n",
    "            root = root.replace(key, value)\n",
    "            print(\"---%s\" % root + ext)\n",
    "    return root + ext\n",
    "\n",
    "\n",
    "def processHeadTailSepChar(fNameStr=\"\"):\n",
    "    assert fNameStr\n",
    "    globalSepChar = \"_\"\n",
    "    import os\n",
    "    root, ext = os.path.splitext(fNameStr)\n",
    "    if root.startswith(globalSepChar):\n",
    "        root = globalSepChar.join(root.split(globalSepChar)[1:])\n",
    "    if root.endswith(globalSepChar):\n",
    "        root = globalSepChar.join(root.split(globalSepChar)[0:-1])\n",
    "    return root + ext\n",
    "\n",
    "\n",
    "def processTerminology(fNameStr=\"\"):\n",
    "    global gParamDict\n",
    "    globalSepChar = \"_\"\n",
    "    import os\n",
    "    root, ext = os.path.splitext(fNameStr)\n",
    "    wordList = root.split(globalSepChar)\n",
    "    newWordList = []\n",
    "    for word in wordList:\n",
    "        if word.lower() in gParamDict[\"TerminologyDictionary\"].keys():\n",
    "            newWordList.append(\n",
    "                gParamDict[\"TerminologyDictionary\"][word.lower()])\n",
    "        else:\n",
    "            newWordList.append(word)\n",
    "    return globalSepChar.join(newWordList) + ext\n",
    "\n",
    "\n",
    "def titlelize(fNameStr=\"\"):\n",
    "    assert fNameStr\n",
    "    import os\n",
    "    root, ext = os.path.splitext(fNameStr)\n",
    "    return root.title() + ext\n",
    "\n",
    "\n",
    "def processWord(wordSet=set(), fNameStr=\"\"):\n",
    "    assert wordSet\n",
    "    assert fNameStr\n",
    "    globalSepChar = \"_\"\n",
    "    import os\n",
    "    import string\n",
    "    root, ext = os.path.splitext(fNameStr)\n",
    "    wordList = root.split(globalSepChar)\n",
    "    newWordList = []\n",
    "    for word in wordList:\n",
    "        if word.lower() in wordSet:\n",
    "            newWordList.append(string.capwords(word))\n",
    "        else:\n",
    "            newWordList.append(word)\n",
    "\n",
    "    return globalSepChar.join(newWordList) + ext"
   ]
  },
  {
   "cell_type": "markdown",
   "id": "pointed-california",
   "metadata": {},
   "source": [
    "### Processing Files"
   ]
  },
  {
   "cell_type": "code",
   "execution_count": null,
   "id": "damaged-scientist",
   "metadata": {
    "tags": []
   },
   "outputs": [],
   "source": [
    "import os\n",
    "for subdir, dirs, files in os.walk(target_dir):\n",
    "    for file in files:\n",
    "        oldNamePath = os.path.join(subdir, file)\n",
    "        #         newName = \"\".join(file.split())\n",
    "        newName = file\n",
    "        # replace characters by defined Dictionary\n",
    "        newName = replaceChar(charDict=CharDictionary, fNameStr=newName)\n",
    "        # process Head and Tail character exclude file name extension\n",
    "        newName = processHeadTailSepChar(fNameStr=newName)\n",
    "        # Capitalize\n",
    "        #         newName = newName.capitalize()\n",
    "        # Titlelize File Name\n",
    "        #         newName = titlelize(fNameStr=newName)\n",
    "        # Capwords only when word in wordsSet\n",
    "        newName = processWord(wordSet=LowerCaseWordSet, fNameStr=newName)\n",
    "        # Pretty Terminology\n",
    "        newName = processTerminology(termDictionary=TerminologyDictionary,\n",
    "                                     fNameStr=newName)\n",
    "        # Create full path\n",
    "        newNamePath = os.path.join(subdir, newName)\n",
    "        # rename file name\n",
    "        os.rename(oldNamePath, newNamePath)\n",
    "        print(\"==>%s\" % newName)"
   ]
  },
  {
   "cell_type": "markdown",
   "id": "academic-blackberry",
   "metadata": {},
   "source": [
    "---\n",
    "## Standalone Version"
   ]
  },
  {
   "cell_type": "markdown",
   "id": "arabic-highway",
   "metadata": {
    "tags": []
   },
   "source": [
    "---\n",
    "## Roadmap\n",
    "\n",
    "* colorfull print the difference OldFileName and NewFileName\n",
    "* support undo operation \n",
    "* support set depth\n",
    "* support set ignore directory or files\n",
    "* pretty ShortTerm,such as ATM,ROHS,PCB,...\n",
    "* personalize file name ,such as capatilize every word,...\n",
    "* search all ipynb or python file name and auto correction ...\n",
    "* reserve original file name as link\n",
    "* ensure First Char in Alphabet and Capitalize"
   ]
  },
  {
   "cell_type": "markdown",
   "id": "featured-opera",
   "metadata": {},
   "source": [
    "## Others ..."
   ]
  },
  {
   "cell_type": "markdown",
   "id": "minor-prefix",
   "metadata": {},
   "source": [
    "---"
   ]
  }
 ],
 "metadata": {
  "kernelspec": {
   "display_name": "Python 3",
   "language": "python",
   "name": "python3"
  },
  "language_info": {
   "codemirror_mode": {
    "name": "ipython",
    "version": 3
   },
   "file_extension": ".py",
   "mimetype": "text/x-python",
   "name": "python",
   "nbconvert_exporter": "python",
   "pygments_lexer": "ipython3",
   "version": "3.8.8"
  },
  "toc-autonumbering": true,
  "toc-showcode": false
 },
 "nbformat": 4,
 "nbformat_minor": 5
}
