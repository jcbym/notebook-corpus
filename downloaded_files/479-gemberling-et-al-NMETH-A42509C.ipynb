{
 "cells": [
  {
   "cell_type": "code",
   "execution_count": 1,
   "metadata": {},
   "outputs": [
    {
     "data": {
      "text/plain": [
       "u'/gpfs/fs1/data/reddylab/Alex/collab/20190701_Matt'"
      ]
     },
     "execution_count": 1,
     "metadata": {},
     "output_type": "execute_result"
    }
   ],
   "source": [
    "pwd"
   ]
  },
  {
   "cell_type": "code",
   "execution_count": null,
   "metadata": {},
   "outputs": [],
   "source": [
    "%%bash\n",
    "xfer\n",
    "cd /data/reddylab/Alex/tmp/\n",
    "basemount -c Mitchell.MiSeq bm_tmp"
   ]
  },
  {
   "cell_type": "code",
   "execution_count": null,
   "metadata": {},
   "outputs": [],
   "source": [
    "%%bash\n",
    "module load bcl2fastq2/v2.20.0.422-gcb01\n",
    "sbatch \\\n",
    "    --partition new,all \\\n",
    "    --cpus-per-task 1 \\\n",
    "    -o /data/reddylab/Alex/collab/20190701_Matt/logs/bcl2fastq.cre_neg_g5.log \\\n",
    "    <<'EOF'\n",
    "#!/bin/bash\n",
    "\n",
    "mkdir -p /data/reddylab/Alex/collab/20190701_Matt/data/rna_seq/raw_reads/miseq/KS150-RNA  && \\\n",
    "bcl2fastq \\\n",
    "    --create-fastq-for-index-reads \\\n",
    "    -R /data/reddylab/Alex/tmp/bm_tmp/Runs/KS150-RNA/Files \\\n",
    "    -p 1 \\\n",
    "    --output-dir /data/reddylab/Alex/collab/20190701_Matt/data/rna_seq/raw_reads/miseq/KS150-RNA \\\n",
    "    --sample-sheet /data/reddylab/Alex/collab/20190701_Matt/data/rna_seq/metadata/cre_neg_g5.miseq.SampleSheet.csv\n",
    "    \n",
    "EOF"
   ]
  },
  {
   "cell_type": "code",
   "execution_count": 3,
   "metadata": {},
   "outputs": [
    {
     "data": {
      "text/plain": [
       "u'/gpfs/fs1/data/reddylab/Alex/collab/20190701_Matt'"
      ]
     },
     "execution_count": 3,
     "metadata": {},
     "output_type": "execute_result"
    }
   ],
   "source": [
    "pwd"
   ]
  },
  {
   "cell_type": "code",
   "execution_count": 12,
   "metadata": {},
   "outputs": [
    {
     "name": "stdout",
     "output_type": "stream",
     "text": [
      "Overwriting /data/reddylab/Alex/collab/20190701_Matt/data/rna_seq/metadata/cre_neg_g5.miseq.SampleSheet.csv\n"
     ]
    }
   ],
   "source": [
    "%%writefile /data/reddylab/Alex/collab/20190701_Matt/data/rna_seq/metadata/cre_neg_g5.miseq.SampleSheet.csv\n",
    "[Header],,,,,,,,,\n",
    "IEMFileVersion,4,,,,,,,,\n",
    "Investigator Name,Keith,,,,,,,,\n",
    "Experiment Name,KS150-RNA,,,,,,,,\n",
    "Date,2020-11-02,,,,,,,,\n",
    "Workflow,GenerateFASTQ,,,,,,,,\n",
    "Application,FASTQ Only,,,,,,,,\n",
    "Assay,RNA-seq,,,,,,,,\n",
    "Description,p300 mouse,,,,,,,,\n",
    "Chemistry,Amplicon,,,,,,,,\n",
    ",,,,,,,,,\n",
    "[Reads],,,,,,,,,\n",
    "26,,,,,,,,,\n",
    "26,,,,,,,,,\n",
    "[Settings],,,,,,,,,\n",
    "ReverseComplement,0,,,,,,,,\n",
    ",,,,,,,,,\n",
    ",,,,,,,,,\n",
    "[Data],,,,,,,,,\n",
    "Sample_ID,Sample_Name,Sample_Plate,Sample_Well,I7_Index_ID,index,I5_Index_ID,index2,Sample_Project,Description\n",
    "CRE-neg-g5-rep1,CRE-neg-g5-rep1,,,,CGCTCATT,,CAGGACGT,,\n",
    "CRE-neg-g5-rep3,CRE-neg-g5-rep3,,,,TCCGGAGA,,CAGGACGT,,\n"
   ]
  },
  {
   "cell_type": "code",
   "execution_count": null,
   "metadata": {},
   "outputs": [],
   "source": [
    "Sample_ID,Sample_Name,Sample_Plate,Sample_Well,I7_Index_ID,index,I5_Index_ID,index2,Sample_Project,Description\n",
    "CRE-neg-g5-rep1,CRE-neg-g5-rep1,,,,CGCTCATT,,,,\n",
    "CRE-neg-g5-rep3,CRE-neg-g5-rep3,,,,TCCGGAGA,,,,\n"
   ]
  },
  {
   "cell_type": "code",
   "execution_count": null,
   "metadata": {},
   "outputs": [],
   "source": [
    "CAGGACGT"
   ]
  }
 ],
 "metadata": {
  "kernelspec": {
   "display_name": "alex_dev",
   "language": "python",
   "name": "alex_dev"
  },
  "language_info": {
   "codemirror_mode": {
    "name": "ipython",
    "version": 2
   },
   "file_extension": ".py",
   "mimetype": "text/x-python",
   "name": "python",
   "nbconvert_exporter": "python",
   "pygments_lexer": "ipython2",
   "version": "2.7.15"
  }
 },
 "nbformat": 4,
 "nbformat_minor": 4
}
