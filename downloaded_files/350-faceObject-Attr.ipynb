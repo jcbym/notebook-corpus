{
 "cells": [
  {
   "cell_type": "code",
   "execution_count": 1,
   "metadata": {},
   "outputs": [],
   "source": [
    "%load_ext autoreload\n",
    "%autoreload 2"
   ]
  },
  {
   "cell_type": "code",
   "execution_count": 2,
   "metadata": {},
   "outputs": [],
   "source": [
    "from src import detect_faces, show_bboxes\n",
    "from PIL import Image"
   ]
  },
  {
   "cell_type": "code",
   "execution_count": 3,
   "metadata": {},
   "outputs": [
    {
     "name": "stderr",
     "output_type": "stream",
     "text": [
      "/tmp/pycharm_project_256/src/first_stage.py:32: UserWarning: volatile was removed and now has no effect. Use `with torch.no_grad():` instead.\n",
      "  img = Variable(torch.FloatTensor(_preprocess(img)), volatile=True)\n",
      "/tmp/pycharm_project_256/src/get_nets.py:70: UserWarning: Implicit dimension choice for softmax has been deprecated. Change the call to include dim=X as an argument.\n",
      "  a = F.softmax(a)\n",
      "/tmp/pycharm_project_256/src/detector.py:79: UserWarning: volatile was removed and now has no effect. Use `with torch.no_grad():` instead.\n",
      "  img_boxes = Variable(torch.FloatTensor(img_boxes), volatile=True)\n",
      "/tmp/pycharm_project_256/src/get_nets.py:115: UserWarning: Implicit dimension choice for softmax has been deprecated. Change the call to include dim=X as an argument.\n",
      "  a = F.softmax(a)\n",
      "/tmp/pycharm_project_256/src/detector.py:100: UserWarning: volatile was removed and now has no effect. Use `with torch.no_grad():` instead.\n",
      "  img_boxes = Variable(torch.FloatTensor(img_boxes), volatile=True)\n",
      "/tmp/pycharm_project_256/src/get_nets.py:168: UserWarning: Implicit dimension choice for softmax has been deprecated. Change the call to include dim=X as an argument.\n",
      "  a = F.softmax(a)\n"
     ]
    },
    {
     "data": {
      "text/plain": [
       "array([[620.93873394, 100.9765327 , 639.46573743, 124.90946859,\n",
       "          0.99999964],\n",
       "       [550.43546137,  86.82156259, 572.07386273, 115.2026062 ,\n",
       "          0.99999654],\n",
       "       [764.10010809,  28.00577708, 781.63673773,  48.79598545,\n",
       "          0.99999475],\n",
       "       [246.51461056, 101.60951342, 265.15349615, 124.28833158,\n",
       "          0.99999452],\n",
       "       [460.18466238, 106.99617012, 483.89634962, 138.04353018,\n",
       "          0.99998832],\n",
       "       [502.27609479,  95.00380045, 518.92981476, 115.97170699,\n",
       "          0.99998498],\n",
       "       [ 41.25581613, 107.32904226,  66.47888859, 140.39937699,\n",
       "          0.9999814 ],\n",
       "       [725.32375103,  93.69897062, 747.21527463, 122.29958698,\n",
       "          0.99986243],\n",
       "       [117.63215476, 112.75963342, 136.36649346, 136.89327282,\n",
       "          0.9998368 ],\n",
       "       [212.88838406, 101.55964047, 229.84212023, 123.43677177,\n",
       "          0.99967098],\n",
       "       [313.65754664,  92.46563244, 334.57922878, 118.76809749,\n",
       "          0.99963057],\n",
       "       [383.28061347, 115.3180572 , 402.70753747, 141.50204353,\n",
       "          0.9996171 ],\n",
       "       [581.59377116, 104.63762155, 596.43098773, 125.61503404,\n",
       "          0.99904794],\n",
       "       [838.1718435 , 125.67480472, 857.79159091, 150.55662056,\n",
       "          0.99830759],\n",
       "       [661.05093327,  89.30565879, 676.98470145, 111.75219874,\n",
       "          0.99755245],\n",
       "       [182.82385828, 130.50589365, 202.2892404 , 153.14520122,\n",
       "          0.99591219]])"
      ]
     },
     "execution_count": 3,
     "metadata": {},
     "output_type": "execute_result"
    }
   ],
   "source": [
    "img = Image.open('images/office1.jpg')\n",
    "bounding_boxes, landmarks = detect_faces(img)\n",
    "\n",
    "bounding_boxes"
   ]
  }
 ],
 "metadata": {
  "kernelspec": {
   "display_name": "Python 3",
   "language": "python",
   "name": "python3"
  },
  "language_info": {
   "codemirror_mode": {
    "name": "ipython",
    "version": 3
   },
   "file_extension": ".py",
   "mimetype": "text/x-python",
   "name": "python",
   "nbconvert_exporter": "python",
   "pygments_lexer": "ipython3",
   "version": "3.6.8"
  },
  "varInspector": {
   "cols": {
    "lenName": 16,
    "lenType": 16,
    "lenVar": 40
   },
   "kernels_config": {
    "python": {
     "delete_cmd_postfix": "",
     "delete_cmd_prefix": "del ",
     "library": "var_list.py",
     "varRefreshCmd": "print(var_dic_list())"
    },
    "r": {
     "delete_cmd_postfix": ") ",
     "delete_cmd_prefix": "rm(",
     "library": "var_list.r",
     "varRefreshCmd": "cat(var_dic_list()) "
    }
   },
   "types_to_exclude": [
    "module",
    "function",
    "builtin_function_or_method",
    "instance",
    "_Feature"
   ],
   "window_display": false
  }
 },
 "nbformat": 4,
 "nbformat_minor": 2
}
