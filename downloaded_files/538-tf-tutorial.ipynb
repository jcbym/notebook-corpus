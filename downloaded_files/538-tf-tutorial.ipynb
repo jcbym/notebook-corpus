{
 "cells": [
  {
   "cell_type": "code",
   "execution_count": null,
   "metadata": {},
   "outputs": [],
   "source": [
    "%matplotlib inline\n",
    "%config IPython.matplotlib.backend = \"retina\"\n",
    "from matplotlib import rcParams\n",
    "rcParams[\"figure.dpi\"] = 150\n",
    "rcParams[\"savefig.dpi\"] = 150"
   ]
  },
  {
   "cell_type": "markdown",
   "metadata": {},
   "source": [
    "# An introduction to TensorFlow for probabilistic modeling\n",
    "\n",
    "In this worksheet, we will go through an example of fitting a line to data using [TensorFlow](https://www.tensorflow.org/) to build the model combined with the standard astronomical Python stack.\n",
    "To run this notebook, you will need to have the standard scientific Python packages installed: NumPy, SciPy, and Matplotlib.\n",
    "You will also need TensorFlow. The installation instructions can be found [here](https://www.tensorflow.org/install/), but it's often enough to just run:\n",
    "\n",
    "```bash\n",
    "pip install -U tensorflow\n",
    "```\n",
    "\n",
    "(This is generally better than using conda because the conda packages were really old when I last checked.)\n",
    "\n",
    "## Data & model\n",
    "\n",
    "To start, let's simulate some fake data.\n",
    "We'll generate the data from a linear model and we'll assume that the error bars are unknown (we'll fit for the magnitude of the uncertainty in a minute)."
   ]
  },
  {
   "cell_type": "code",
   "execution_count": null,
   "metadata": {},
   "outputs": [],
   "source": [
    "import numpy as np\n",
    "import matplotlib.pyplot as plt\n",
    "np.random.seed(123)\n",
    "\n",
    "true_params = (-0.4, 0.03, 0.1)\n",
    "x = np.sort(np.random.uniform(-1, 1, 50))\n",
    "y = true_params[0] * x + true_params[1] + true_params[2] * np.random.randn(len(x))\n",
    "\n",
    "plt.plot(x, y, \".k\", label=\"data\")\n",
    "t = np.linspace(-1, 1, 5000)\n",
    "plt.plot(t, true_params[0]*t+true_params[1], label=\"truth\")\n",
    "plt.legend()\n",
    "plt.xlabel(\"x\")\n",
    "plt.ylabel(\"y\");"
   ]
  },
  {
   "cell_type": "markdown",
   "metadata": {},
   "source": [
    "We won't go into the mathematical details of this model here (if you're interested, check out [Hogg, Bovy, & Lang 2010](https://arxiv.org/abs/1008.4686)), but the basic idea is that we need to write down the following likelihood function for this model:\n",
    "\n",
    "$$\n",
    "\\log p(y\\,|\\,m,\\,b,\\,s) = -\\frac{1}{2}\\,\\sum_{n=1}^N \\left[ \\frac{(y_n - m\\,x_n - b)^2}{s^2} + \\log(2\\,\\pi\\,s^2) \\right]\n",
    "$$\n",
    "\n",
    "In NumPy, you might write this function as follows:"
   ]
  },
  {
   "cell_type": "code",
   "execution_count": null,
   "metadata": {},
   "outputs": [],
   "source": [
    "def np_log_like(x, y, m, b, s):\n",
    "    model = m * x + b\n",
    "    return -0.5*np.sum(((y-model)/s)**2+np.log(2*np.pi*s**2))\n",
    "\n",
    "print(\"The log likelihood computed using numpy: {0}\".format(np_log_like(x, y, *true_params)))"
   ]
  },
  {
   "cell_type": "markdown",
   "metadata": {},
   "source": [
    "Now your job is to fill in the following function and re-write this in TensorFlow. (The docs are [here](https://www.tensorflow.org/api_docs/python/tf).)"
   ]
  },
  {
   "cell_type": "code",
   "execution_count": null,
   "metadata": {},
   "outputs": [],
   "source": [
    "import tensorflow as tf\n",
    "print(\"Using TensorFlow version {0}\".format(tf.__version__))\n",
    "\n",
    "# The default type in tensorflow is float32, but we want to force float64 here.\n",
    "T = tf.float64\n",
    "\n",
    "# Convert the numpy arrays to tensors.\n",
    "# This step of using the \"constant\" method isn't strictly necessary,\n",
    "#  but it will come in handy later.\n",
    "x_tensor = tf.constant(x, dtype=T)\n",
    "y_tensor = tf.constant(y, dtype=T)\n",
    "\n",
    "# These are the parameters that we will fit for.\n",
    "# Most tensors are immutable so we need to call them \"Variable\"s if we\n",
    "#  want to change them.\n",
    "m_tensor = tf.Variable(true_params[0], dtype=T)\n",
    "b_tensor = tf.Variable(true_params[1], dtype=T)\n",
    "s_tensor = tf.Variable(true_params[2], dtype=T)\n",
    "\n",
    "# This is the function that you should write.\n",
    "# Hint: in many cases you can get a long way by taking numpy code and\n",
    "#  converting \"np\" to \"tf\".\n",
    "def tf_log_like(x, y, m, b, s):\n",
    "    # ADD YOUR CODE HERE...\n",
    "\n",
    "# Now we execute this function to define the operations.\n",
    "log_like = tf_log_like(x_tensor, y_tensor, m_tensor, b_tensor, s_tensor)\n",
    "print(\"'log_like' is: {0}\".format(log_like))\n",
    "\n",
    "# And finally open a session to execute the model.\n",
    "with tf.Session() as session:\n",
    "    # This step is needed to set up the variables.\n",
    "    session.run(tf.global_variables_initializer())\n",
    "    \n",
    "    # And compute the log likelihood.\n",
    "    print(\"The log likelihood computed using tensorflow: {0}\"\n",
    "          .format(session.run(log_like)))"
   ]
  },
  {
   "cell_type": "markdown",
   "metadata": {},
   "source": [
    "If the value of the log likelihood of this cell isn't identical to the one above, edit your function until it is.\n",
    "After that, think a bit about what is happening at each step of the code.\n",
    "What does the value of `log_like` mean and why does it have this value?"
   ]
  },
  {
   "cell_type": "markdown",
   "metadata": {},
   "source": [
    "## The \"feed_dict\"\n",
    "\n",
    "One useful concept in TensorFlow is called the `feed_dict` and it is passed to the `session.run` method as a keyword argument.\n",
    "It allows you to easily evaluate some part of your model for different values of any number of tensors without re-defining the full graph.\n",
    "For example, to compute the log likelihood for a different slope, we could use the following code:"
   ]
  },
  {
   "cell_type": "code",
   "execution_count": null,
   "metadata": {},
   "outputs": [],
   "source": [
    "feed_dict = {\n",
    "    m_tensor: 0.1,  # <-- NOTE: this is *not* a typo. The key should be\n",
    "                    #           *the tensor*, not a string!\n",
    "}\n",
    "\n",
    "with tf.Session() as session:\n",
    "    session.run(tf.global_variables_initializer())\n",
    "    print(\"The log likelihood for a slope of 0.1: {0}\"\n",
    "          .format(session.run(log_like, feed_dict=feed_dict)))"
   ]
  },
  {
   "cell_type": "markdown",
   "metadata": {},
   "source": [
    "This is generally most useful for parameters that you are fitting for, but it also works for other tensors.\n",
    "For example, we can compute the likelihood for a different dataset as follows:"
   ]
  },
  {
   "cell_type": "code",
   "execution_count": null,
   "metadata": {},
   "outputs": [],
   "source": [
    "feed_dict = {\n",
    "    y_tensor: np.zeros_like(y),\n",
    "}\n",
    "\n",
    "with tf.Session() as session:\n",
    "    session.run(tf.global_variables_initializer())\n",
    "    print(\"The log likelihood for a dataset of zeros: {0}\"\n",
    "          .format(session.run(log_like, feed_dict=feed_dict)))"
   ]
  },
  {
   "cell_type": "markdown",
   "metadata": {},
   "source": [
    "## Gradients & optimization\n",
    "\n",
    "One of the key benefits of TensorFlow is that it efficiently computes gradients of scalar functions with respect to any other tensors.\n",
    "These gradients can be used with many inference algorithms to improve the reliability and efficiency of fitting probabilistic models to data.\n",
    "For example, many non-linear optimization algorithms (like the ones that might be familiar from [scipy.optimize](https://docs.scipy.org/doc/scipy/reference/optimize.html)) can substantially benefit from gradients of the objective function.\n",
    "Furthermore, the performance of Markov chain Monte Carlo (MCMC) methods can be improved by using the gradients of the log probability function to generate samples (see [Radford Neal's review](http://www.mcmchandbook.net/HandbookChapter5.pdf), for example).\n",
    "\n",
    "In the following cell, use the [tf.gradients](https://www.tensorflow.org/api_docs/python/tf/gradients) function to define an operation to compute the gradient of `log_like` with respect to `m_tensor`, `b_tensor`, and `s_tensor`.\n",
    "Then, open a session, and evaluate this gradient (you should get something like: `[-48.6057, 52.6399, 122.76701]`)."
   ]
  },
  {
   "cell_type": "code",
   "execution_count": null,
   "metadata": {},
   "outputs": [],
   "source": [
    "# ADD YOUR CODE HERE..."
   ]
  },
  {
   "cell_type": "markdown",
   "metadata": {},
   "source": [
    "Now that you see how to compute these gradients, **go back up to the cell where we defined our model in TensorFlow and re-write it in terms of $\\log(s)$ instead of $s$**. (This is generally a better parameterization for any model where a parameter must always be positive.)\n",
    "This should involve introducing a new `Variable` (`log_s_tensor` instead of `s_tensor`) and then redefining `s_tensor` in terms of `log_s_tensor`.\n",
    "With this new parameterization, how would you compute the gradient of `log_like` with respect to the new parameters?\n",
    "\n",
    "We can now use our model and one of the gradient based optimizers included with TensorFlow.\n",
    "Specifically, let's use the interface to the optimizers in [scipy.optimize](https://docs.scipy.org/doc/scipy/reference/optimize.html) because these optimizers are commonly used by astronomers.\n",
    "First, remember that (for historical reasons) most optimizers *minimize* their objective so we'll want to minimize the *negative* log likelihood in order to *maximize* the log likelihood."
   ]
  },
  {
   "cell_type": "code",
   "execution_count": null,
   "metadata": {},
   "outputs": [],
   "source": [
    "neg_log_like = -log_like\n",
    "\n",
    "opt = tf.contrib.opt.ScipyOptimizerInterface(\n",
    "    neg_log_like, var_list=[m_tensor, b_tensor, log_s_tensor])\n",
    "\n",
    "with tf.Session() as session:\n",
    "    session.run(tf.global_variables_initializer())\n",
    "    \n",
    "    print(\"Initial log likelihood: {0}\".format(session.run(log_like)))\n",
    "    opt.minimize(session)\n",
    "    print(\"Final log likelihood: {0}\\n\".format(session.run(log_like)))\n",
    "    \n",
    "    params = session.run([m_tensor, b_tensor, s_tensor])\n",
    "    print(\"Final parameters: {0}\".format(params))\n",
    "    print(\"True parameters: {0}\".format(true_params))"
   ]
  },
  {
   "cell_type": "markdown",
   "metadata": {},
   "source": [
    "## Interfacing with Python & sampling using MCMC\n",
    "\n",
    "Another common task is to sample the posterior probability using MCMC.\n",
    "To start, we need to choose a log prior for the parameters.\n",
    "For today, let's choose an improper uniform prior on `log_s_tensor` (i.e. a constant value for all values of `log_s_tensor`) and use the prior [suggested by Jake VanderPlas on his blog](http://jakevdp.github.io/blog/2014/06/14/frequentism-and-bayesianism-4-bayesian-in-python/#Prior-on-Slope-and-Intercept) for `m_tensor` and `b_tensor`.\n",
    "First, write down the log prior from Jake's blog post and add it to `log_like` to get `log_prob` (a tensor that will be equal to the log posterior up to an additive constant)."
   ]
  },
  {
   "cell_type": "code",
   "execution_count": null,
   "metadata": {},
   "outputs": [],
   "source": [
    "log_prior = # <-- ADD YUR DEFINITION OF THE PRIOR HERE\n",
    "log_prob = log_like + log_prior\n",
    "with tf.Session() as session:\n",
    "    session.run(tf.global_variables_initializer())\n",
    "    print(session.run(log_prob))"
   ]
  },
  {
   "cell_type": "markdown",
   "metadata": {},
   "source": [
    "This worksheet comes with a helper class called `TFModel` that can be used to create a interface between a TensorFlow model and standard Python fitting packages.\n",
    "The key feature of this interface is that it wraps a tensor and exposes the value and gradient as Python methods (using the `feed_dict` as described above).\n",
    "For example, to wrap our log probability, we can use the following workflow:"
   ]
  },
  {
   "cell_type": "code",
   "execution_count": null,
   "metadata": {},
   "outputs": [],
   "source": [
    "# First we say that we want the model to return the value and gradient\n",
    "# of `log_prob` as a function of the parameters `m_tensor`, `b_tensor`,\n",
    "# and `log_s_tensor`.\n",
    "from helpers import TFModel\n",
    "model = TFModel(log_prob, [m_tensor, b_tensor, log_s_tensor])\n",
    "\n",
    "with tf.Session() as session:\n",
    "    session.run(tf.global_variables_initializer())\n",
    "    \n",
    "    # Within the session, you first need to call the `setup` method.\n",
    "    model.setup(session)\n",
    "    \n",
    "    # You can access the current parameter vector for the model.\n",
    "    # This will always be a flat numpy array.\n",
    "    params = model.current_vector()\n",
    "    \n",
    "    # The value and gradient of the tensor can be evaluated for specific\n",
    "    # values of the parameters.\n",
    "    print(\"The value is: {0}\".format(model.value(params)))\n",
    "    print(\"The gradient is: {0}\".format(model.gradient(params)))"
   ]
  },
  {
   "cell_type": "markdown",
   "metadata": {},
   "source": [
    "As an example, we can use this interface to use [emcee](http://emcee.readthedocs.io) to sample this posterior probability that we have defined.\n",
    "To run this cell, you will need to install emcee (the docs are [here](http://emcee.readthedocs.io))."
   ]
  },
  {
   "cell_type": "code",
   "execution_count": null,
   "metadata": {},
   "outputs": [],
   "source": [
    "import time\n",
    "import emcee\n",
    "\n",
    "emcee_time = time.time()\n",
    "with tf.Session() as session:\n",
    "    session.run(tf.global_variables_initializer())\n",
    "    model.setup(session)\n",
    "    \n",
    "    pos = model.current_vector()\n",
    "    pos = pos + 1e-5*np.random.randn(32, len(pos))\n",
    "    nwalkers, ndim = pos.shape\n",
    "    \n",
    "    sampler = emcee.EnsembleSampler(nwalkers, ndim, model.value)\n",
    "    pos, _, _ = sampler.run_mcmc(pos, 200)\n",
    "    sampler.reset()\n",
    "    pos, _, _ = sampler.run_mcmc(pos, 2000)\n",
    "emcee_time = time.time() - emcee_time"
   ]
  },
  {
   "cell_type": "markdown",
   "metadata": {},
   "source": [
    "And then we can plot the results using the [corner](http://corner.readthedocs.io/) package."
   ]
  },
  {
   "cell_type": "code",
   "execution_count": null,
   "metadata": {},
   "outputs": [],
   "source": [
    "import corner\n",
    "truth = np.array(true_params)\n",
    "truth[-1] = np.log(true_params[-1])\n",
    "corner.corner(sampler.flatchain,\n",
    "              labels=[\"m\", \"b\", \"log(s)\"],\n",
    "              truths=truth);"
   ]
  },
  {
   "cell_type": "markdown",
   "metadata": {},
   "source": [
    "## Hamiltonian Monte Carlo (HMC)\n",
    "\n",
    "This looks pretty good, but emcee doesn't currently have support for methods like HMC that use gradient information to improve the efficiency of the inference.\n",
    "While there are several packages that exist in Python for running HMC, I haven't been completely happy with any of them so, for this tutorial, I wrote a simple Hamiltonian sampler (specifically it implements the [No U-Turns Sampler](https://arxiv.org/abs/1111.4246) as implemented in [Stan](http://mc-stan.org/) and [PyMC3](http://docs.pymc.io/)).\n",
    "This isn't the place to get into the details of a sampler like this, but to run it here, you can use the following code:"
   ]
  },
  {
   "cell_type": "code",
   "execution_count": null,
   "metadata": {},
   "outputs": [],
   "source": [
    "import helpers\n",
    "\n",
    "# We will cheat a little bit and use our previous chain to estimate the\n",
    "# the appropriate tuning scales for the parameters.\n",
    "metric = helpers.DiagonalMetric(3, np.var(sampler.flatchain, axis=0))\n",
    "\n",
    "nuts_time = time.time()\n",
    "with tf.Session() as session:\n",
    "    session.run(tf.global_variables_initializer())\n",
    "    model.setup(session)  # <-- Don't forget to run setup!\n",
    "\n",
    "    # This method does the sampling:\n",
    "    nuts = helpers.tf_simple_nuts(\n",
    "        session,\n",
    "        log_prob,\n",
    "        [m_tensor, b_tensor, log_s_tensor],\n",
    "        3500,          # The number of MCMC steps\n",
    "        1.0,           # The integration step size\n",
    "        metric=metric  # The scaling metric computed above\n",
    "    )\n",
    "nuts_time = time.time() - nuts_time"
   ]
  },
  {
   "cell_type": "code",
   "execution_count": null,
   "metadata": {},
   "outputs": [],
   "source": [
    "corner.corner(nuts[0],\n",
    "              range=[(np.min(v), np.max(v)) for v in sampler.flatchain.T],\n",
    "              labels=[\"m\", \"b\", \"log(s)\"],\n",
    "              truths=truth);"
   ]
  },
  {
   "cell_type": "markdown",
   "metadata": {},
   "source": [
    "These contours look a little bit rattier than the ones above, but the real test is the computation time per *independent* sample (see [this blog post](http://dfm.io/posts/autocorr/) for a discussion of methods for estimating the number of independent samples).\n",
    "For this example, we can compute the number of independent samples from each chain:"
   ]
  },
  {
   "cell_type": "code",
   "execution_count": null,
   "metadata": {},
   "outputs": [],
   "source": [
    "# First estimate the autocorrelation time of each chain\n",
    "from autocorr import integrated_time\n",
    "tau_emcee = integrated_time(np.swapaxes(sampler.chain, 0, 1))\n",
    "tau_nuts = integrated_time(nuts[0][:, None, :])\n",
    "\n",
    "# Then the effective numbers of samples\n",
    "neff_emcee = len(sampler.flatchain) / np.mean(tau_emcee)\n",
    "neff_nuts = len(nuts[0]) / np.mean(tau_nuts)\n",
    "\n",
    "print(\"The effective number of samples from emcee: {0:.0f}\".format(neff_emcee))\n",
    "print(\"The effective number of samples from NUTS: {0:.0f}\".format(neff_nuts))\n",
    "print(\"The time per effective sample for emcee: {0:.1f} ms\".format(1000*emcee_time / neff_emcee))\n",
    "print(\"The time per effective sample for NUTS: {0:.1f} ms\".format(1000*nuts_time / neff_nuts))"
   ]
  },
  {
   "cell_type": "markdown",
   "metadata": {},
   "source": [
    "If everything went as planned, you should see that the NUTS sampler is substantially more efficient (i.e. it requires less computation time per independent sample) than emcee (but we're not considering the cost of tuning here).\n",
    "This disparity will tend to increase for problems with more parameters.\n",
    "In general, sampling a density with tens of parameters using emcee will require substantially more patience and computation power than sampling the same problem with NUTS, but NUTS is more sensitive to the specific choices of tuning parameters. "
   ]
  },
  {
   "cell_type": "code",
   "execution_count": null,
   "metadata": {},
   "outputs": [],
   "source": []
  }
 ],
 "metadata": {
  "kernelspec": {
   "display_name": "Python 3",
   "language": "python",
   "name": "python3"
  },
  "language_info": {
   "codemirror_mode": {
    "name": "ipython",
    "version": 3
   },
   "file_extension": ".py",
   "mimetype": "text/x-python",
   "name": "python",
   "nbconvert_exporter": "python",
   "pygments_lexer": "ipython3",
   "version": "3.6.1"
  }
 },
 "nbformat": 4,
 "nbformat_minor": 2
}
