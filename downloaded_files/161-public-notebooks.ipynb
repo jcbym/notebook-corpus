{
 "cells": [
  {
   "cell_type": "code",
   "execution_count": 12,
   "metadata": {
    "collapsed": false
   },
   "outputs": [
    {
     "name": "stdout",
     "output_type": "stream",
     "text": [
      "\n"
     ]
    }
   ],
   "source": [
    "import binascii\n",
    "\n",
    "def load_anpa_file(path, debug=False): \n",
    "    data = ''\n",
    "    lines = []\n",
    "    subs = {'1e': ';', '1d': ';'}\n",
    "\n",
    "    with open(path, 'rb') as fh:\n",
    "        byte = fh.read(1)\n",
    "        last = byte\n",
    "        data += byte\n",
    "        if debug:\n",
    "            print binascii.hexlify(byte), byte\n",
    "        while byte != \"\":\n",
    "            byte = fh.read(1)\n",
    "            if binascii.hexlify(byte) in subs:\n",
    "                byte = subs[binascii.hexlify(byte)]\n",
    "            if debug:\n",
    "                print binascii.hexlify(byte), byte\n",
    "            data += byte\n",
    "            if binascii.hexlify(last + byte) == '0d0a':\n",
    "                if debug:\n",
    "                    print data\n",
    "                lines.append(data)\n",
    "                data = ''\n",
    "            last = byte\n",
    "    return lines"
   ]
  },
  {
   "cell_type": "code",
   "execution_count": 15,
   "metadata": {
    "collapsed": false
   },
   "outputs": [],
   "source": [
    "def cleaner(string, debug=False):\n",
    "    cleaned = ''\n",
    "    banned = ['0a', '0d', '1f', '06', '08', '19']\n",
    "    for char in string:\n",
    "        if binascii.hexlify(char) not in banned:\n",
    "            if debug:\n",
    "                print binascii.hexlify(char), char\n",
    "            cleaned += char\n",
    "    return cleaned.strip()\n",
    "\n",
    "def region_parser(lines):\n",
    "    state = ''\n",
    "    header = []\n",
    "    results = {}\n",
    "\n",
    "    for line in lines:\n",
    "        if binascii.hexlify(line) == '0d0a':\n",
    "            return results\n",
    "        line = cleaner(line)\n",
    "        if line == '^By The Associated Press=':\n",
    "            state = 'EnterHeader'\n",
    "        elif line.find('returns from Illinois by Geographic Region') != -1 and line.endswith('<'):\n",
    "            state = 'EndHeader'\n",
    "        elif line.startswith('^') and line.endswith('<'):\n",
    "            state = 'BeginRegions'\n",
    "        elif state == 'BeginRegions':\n",
    "            state = 'InRegions'\n",
    "        elif state == 'InRegions' and line.startswith('^RegTotals'):\n",
    "            state = 'EndRegions'\n",
    "\n",
    "        if state == 'EndHeader' and line.find(';') != -1 and len(line.split(';')):\n",
    "            raw = line.split(';')\n",
    "            for r in raw:\n",
    "                if cleaner(r):\n",
    "                    header.append(cleaner(r))\n",
    "        elif state == 'InRegions' and line.find(';') != -1 and len(line.split(';')):\n",
    "            raw = line.split(';')\n",
    "            idx = 0\n",
    "            region = ''\n",
    "            for r in raw:\n",
    "                temp = cleaner(r)\n",
    "                if temp:\n",
    "                    if idx == 0:\n",
    "                        region = temp\n",
    "                        results[region] = {}\n",
    "                    else:\n",
    "                        results[region][header[idx - 1]] = int(temp.replace(',', ''))\n",
    "                    idx += 1"
   ]
  },
  {
   "cell_type": "code",
   "execution_count": 25,
   "metadata": {
    "collapsed": false
   },
   "outputs": [
    {
     "name": "stdout",
     "output_type": "stream",
     "text": [
      "Chicago {'PR': 0, 'Sanders': 0, 'DeLaFnt': 0, 'Clinton': 0, 'Cohen': 0, 'TP': 2069}\n",
      "CookSuburb {'PR': 0, 'Sanders': 0, 'DeLaFnt': 0, 'Clinton': 0, 'Cohen': 0, 'TP': 1599}\n",
      "DuPage {'PR': 0, 'Sanders': 0, 'DeLaFnt': 0, 'Clinton': 0, 'Cohen': 0, 'TP': 869}\n",
      "Kane {'PR': 0, 'Sanders': 0, 'DeLaFnt': 0, 'Clinton': 0, 'Cohen': 0, 'TP': 301}\n",
      "Kendall {'PR': 0, 'Sanders': 0, 'DeLaFnt': 0, 'Clinton': 0, 'Cohen': 0, 'TP': 84}\n",
      "Lake {'PR': 0, 'Sanders': 0, 'DeLaFnt': 0, 'Clinton': 0, 'Cohen': 0, 'TP': 415}\n",
      "McHenry {'PR': 0, 'Sanders': 0, 'DeLaFnt': 0, 'Clinton': 0, 'Cohen': 0, 'TP': 212}\n",
      "Will {'PR': 0, 'Sanders': 0, 'DeLaFnt': 0, 'Clinton': 0, 'Cohen': 0, 'TP': 300}\n",
      "Downstate {'PR': 0, 'Sanders': 0, 'DeLaFnt': 0, 'Clinton': 0, 'Cohen': 0, 'TP': 25470}\n",
      "Total {'PR': 0, 'Sanders': 0, 'DeLaFnt': 0, 'Clinton': 0, 'Cohen': 0, 'TP': 10094}\n"
     ]
    }
   ],
   "source": [
    "def print_results(results):\n",
    "    special = ['Chicago', 'CookSuburb', 'DuPage', 'Kane', 'Kendall', 'Lake', 'McHenry', 'Will']\n",
    "    banned = ['PR', 'TP']\n",
    "    for region in special:\n",
    "        print region, results[region]\n",
    "\n",
    "    downstate = {}\n",
    "    total = {}\n",
    "    for key in results[special[0]].keys():\n",
    "        downstate[key] = 0\n",
    "        total[key] = 0\n",
    "    for region in results:\n",
    "        for key in results[special[0]].keys():\n",
    "            total[key] += results[region][key]\n",
    "            if region not in special:\n",
    "                for key in results[region]:\n",
    "                    downstate[key] += results[region][key]\n",
    "    print 'Downstate', downstate\n",
    "    print 'Total', total\n",
    "\n",
    "print_results(region_parser(load_anpa_file('IL-Dem-Pres-Reg-Geo-2-Takes.anpa')))"
   ]
  },
  {
   "cell_type": "code",
   "execution_count": null,
   "metadata": {
    "collapsed": true
   },
   "outputs": [],
   "source": []
  }
 ],
 "metadata": {
  "kernelspec": {
   "display_name": "Python 2",
   "language": "python",
   "name": "python2"
  },
  "language_info": {
   "codemirror_mode": {
    "name": "ipython",
    "version": 2
   },
   "file_extension": ".py",
   "mimetype": "text/x-python",
   "name": "python",
   "nbconvert_exporter": "python",
   "pygments_lexer": "ipython2",
   "version": "2.7.8"
  }
 },
 "nbformat": 4,
 "nbformat_minor": 0
}
