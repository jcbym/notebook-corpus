{
  "nbformat": 4,
  "nbformat_minor": 0,
  "metadata": {
    "kernelspec": {
      "display_name": "Python 3",
      "language": "python",
      "name": "python3"
    },
    "language_info": {
      "codemirror_mode": {
        "name": "ipython",
        "version": 3
      },
      "file_extension": ".py",
      "mimetype": "text/x-python",
      "name": "python",
      "nbconvert_exporter": "python",
      "pygments_lexer": "ipython3",
      "version": "3.8.3"
    },
    "colab": {
      "name": "EDA (1).ipynb",
      "provenance": [],
      "toc_visible": true
    }
  },
  "cells": [
    {
      "cell_type": "markdown",
      "metadata": {
        "id": "GRGVSrDNoaPl"
      },
      "source": [
        "# EDA\n",
        " - before covid and lockdown"
      ]
    },
    {
      "cell_type": "code",
      "metadata": {
        "id": "Frs_oD1vtGjE",
        "outputId": "cdefad34-9d15-4e4a-97af-5863fcc2a6f0",
        "colab": {
          "base_uri": "https://localhost:8080/",
          "height": 67
        }
      },
      "source": [
        "from google.colab import drive\n",
        "drive.mount(\"/content/drive/\")\n",
        "%cd \"drive/My Drive/\"\n"
      ],
      "execution_count": 37,
      "outputs": [
        {
          "output_type": "stream",
          "text": [
            "Drive already mounted at /content/drive/; to attempt to forcibly remount, call drive.mount(\"/content/drive/\", force_remount=True).\n",
            "[Errno 2] No such file or directory: 'drive/My Drive/'\n",
            "/content/drive/.shortcut-targets-by-id/1L9_g5eG75GYICVKt3zWeiKeDbqXPwoTg/twitter_data_food_quantity\n"
          ],
          "name": "stdout"
        }
      ]
    },
    {
      "cell_type": "code",
      "metadata": {
        "id": "6KxuWCXZvIlN",
        "outputId": "42d9838d-6876-4cea-acec-5691d5bc661e",
        "colab": {
          "base_uri": "https://localhost:8080/",
          "height": 50
        }
      },
      "source": [
        "%cd \"twitter_data_food_quantity\""
      ],
      "execution_count": 38,
      "outputs": [
        {
          "output_type": "stream",
          "text": [
            "[Errno 2] No such file or directory: 'twitter_data_food_quantity'\n",
            "/content/drive/.shortcut-targets-by-id/1L9_g5eG75GYICVKt3zWeiKeDbqXPwoTg/twitter_data_food_quantity\n"
          ],
          "name": "stdout"
        }
      ]
    },
    {
      "cell_type": "code",
      "metadata": {
        "id": "_PTHrPIMw5J3",
        "outputId": "a6a31dcb-156a-4ebb-baf8-5ab7b198f730",
        "colab": {
          "base_uri": "https://localhost:8080/",
          "height": 34
        }
      },
      "source": [
        "!ls"
      ],
      "execution_count": 39,
      "outputs": [
        {
          "output_type": "stream",
          "text": [
            "kenya  nigeria\tsouth_africa\n"
          ],
          "name": "stdout"
        }
      ]
    },
    {
      "cell_type": "code",
      "metadata": {
        "id": "QEVJDPTtq_MX"
      },
      "source": [
        "import pandas as pd\n",
        "import seaborn as sns\n",
        "import matplotlib.pyplot as plt\n",
        "import time\n",
        "import datetime"
      ],
      "execution_count": 40,
      "outputs": []
    },
    {
      "cell_type": "code",
      "metadata": {
        "id": "TOQ-pwY5uX3G"
      },
      "source": [
        "import nltk\n",
        "from textblob import TextBlob"
      ],
      "execution_count": 41,
      "outputs": []
    },
    {
      "cell_type": "code",
      "metadata": {
        "id": "ODSfr7fes5ti",
        "outputId": "6b5271cf-d75c-43b7-ca1d-e9673cf8dbff",
        "colab": {
          "base_uri": "https://localhost:8080/",
          "height": 67
        }
      },
      "source": [
        "nltk.download('punkt')"
      ],
      "execution_count": null,
      "outputs": [
        {
          "output_type": "stream",
          "text": [
            "[nltk_data] Downloading package punkt to /root/nltk_data...\n",
            "[nltk_data]   Unzipping tokenizers/punkt.zip.\n"
          ],
          "name": "stdout"
        },
        {
          "output_type": "execute_result",
          "data": {
            "text/plain": [
              "True"
            ]
          },
          "metadata": {
            "tags": []
          },
          "execution_count": 6
        }
      ]
    },
    {
      "cell_type": "code",
      "metadata": {
        "id": "ysXvmNEuoaPq"
      },
      "source": [
        "def to_date(datas):\n",
        "    for data in datas:\n",
        "        data.created_at = data.created_at.dt.strftime('%Y-%m-%d')\n",
        "        data.created_at = pd.to_datetime(data.created_at)"
      ],
      "execution_count": 42,
      "outputs": []
    },
    {
      "cell_type": "markdown",
      "metadata": {
        "id": "eF2zML_ZoaRi"
      },
      "source": [
        "## Kenya"
      ]
    },
    {
      "cell_type": "code",
      "metadata": {
        "id": "F1Ey4Xw4oaRj"
      },
      "source": [
        "# after_covid_kenya = pd.read_csv(\"/Untitled Folder 2/after_covid_kenya.csv\",parse_dates=['created_at'])\n",
        "after_lockdown_Nairobi = pd.read_csv(\"kenya/after_lockdown_kenya.csv\",parse_dates=['created_at'])\n",
        "# before_covid_kenya = pd.read_csv(\"before_covid_kenya.csv\",parse_dates=['created_at'])\n",
        "before_lockdown_Nairobi = pd.read_csv(\"kenya/before_lockdown_kenya.csv\",parse_dates=['created_at'])\n",
        "during_lockdown_Nairobi = pd.read_csv(\"kenya/during_lockdown_kenya.csv\",parse_dates=['created_at'])"
      ],
      "execution_count": 43,
      "outputs": []
    },
    {
      "cell_type": "code",
      "metadata": {
        "id": "rTgfUnZ1wiDI"
      },
      "source": [
        "before_lockdown_Nairobi"
      ],
      "execution_count": null,
      "outputs": []
    },
    {
      "cell_type": "code",
      "metadata": {
        "id": "kldOqEb5oaRw"
      },
      "source": [
        "from matplotlib  import rcParams\n",
        "\n",
        "%matplotlib inline\n",
        "rcParams[\"figure.figsize\"] = 16,6\n",
        "c = '#386B7F'"
      ],
      "execution_count": null,
      "outputs": []
    },
    {
      "cell_type": "code",
      "metadata": {
        "id": "zreiZs37oaR2"
      },
      "source": [
        "datas = [before_lockdown_Nairobi,during_lockdown_Nairobi,after_lockdown_Nairobi]\n"
      ],
      "execution_count": 135,
      "outputs": []
    },
    {
      "cell_type": "code",
      "metadata": {
        "id": "zOSoLxFFoaR6"
      },
      "source": [
        "to_date(datas)"
      ],
      "execution_count": 141,
      "outputs": []
    },
    {
      "cell_type": "code",
      "metadata": {
        "id": "rUMUtdBiciZL",
        "outputId": "8cd0c641-6666-4eb2-fa4a-daa5afb6c03d",
        "colab": {
          "base_uri": "https://localhost:8080/",
          "height": 469
        }
      },
      "source": [
        "datas[0]"
      ],
      "execution_count": 142,
      "outputs": [
        {
          "output_type": "execute_result",
          "data": {
            "text/html": [
              "<div>\n",
              "<style scoped>\n",
              "    .dataframe tbody tr th:only-of-type {\n",
              "        vertical-align: middle;\n",
              "    }\n",
              "\n",
              "    .dataframe tbody tr th {\n",
              "        vertical-align: top;\n",
              "    }\n",
              "\n",
              "    .dataframe thead th {\n",
              "        text-align: right;\n",
              "    }\n",
              "</style>\n",
              "<table border=\"1\" class=\"dataframe\">\n",
              "  <thead>\n",
              "    <tr style=\"text-align: right;\">\n",
              "      <th></th>\n",
              "      <th>Unnamed: 0</th>\n",
              "      <th>Unnamed: 0.1</th>\n",
              "      <th>id</th>\n",
              "      <th>created_at</th>\n",
              "      <th>screen_name</th>\n",
              "      <th>retweet_count</th>\n",
              "      <th>favorite_count</th>\n",
              "      <th>text</th>\n",
              "    </tr>\n",
              "  </thead>\n",
              "  <tbody>\n",
              "    <tr>\n",
              "      <th>0</th>\n",
              "      <td>8185</td>\n",
              "      <td>1966</td>\n",
              "      <td>1.227875e+18</td>\n",
              "      <td>2020-02-13</td>\n",
              "      <td>1023KISSFM</td>\n",
              "      <td>0.0</td>\n",
              "      <td>0.0</td>\n",
              "      <td>#HealthtipswithAntoinette foods you should nev...</td>\n",
              "    </tr>\n",
              "    <tr>\n",
              "      <th>1</th>\n",
              "      <td>27082</td>\n",
              "      <td>1215</td>\n",
              "      <td>1.252118e+18</td>\n",
              "      <td>2020-04-20</td>\n",
              "      <td>ICRAF</td>\n",
              "      <td>1.0</td>\n",
              "      <td>6.0</td>\n",
              "      <td>Mitigation strategies are urgently needed to c...</td>\n",
              "    </tr>\n",
              "    <tr>\n",
              "      <th>2</th>\n",
              "      <td>27086</td>\n",
              "      <td>1219</td>\n",
              "      <td>1.251110e+18</td>\n",
              "      <td>2020-04-17</td>\n",
              "      <td>ICRAF</td>\n",
              "      <td>0.0</td>\n",
              "      <td>3.0</td>\n",
              "      <td>What's #COVID19's impact on the #foodsystems o...</td>\n",
              "    </tr>\n",
              "    <tr>\n",
              "      <th>3</th>\n",
              "      <td>27096</td>\n",
              "      <td>1229</td>\n",
              "      <td>1.250378e+18</td>\n",
              "      <td>2020-04-15</td>\n",
              "      <td>ICRAF</td>\n",
              "      <td>8.0</td>\n",
              "      <td>18.0</td>\n",
              "      <td>#Publication| Livelihoods and wider social ben...</td>\n",
              "    </tr>\n",
              "    <tr>\n",
              "      <th>4</th>\n",
              "      <td>27112</td>\n",
              "      <td>1245</td>\n",
              "      <td>1.248240e+18</td>\n",
              "      <td>2020-04-09</td>\n",
              "      <td>ICRAF</td>\n",
              "      <td>14.0</td>\n",
              "      <td>35.0</td>\n",
              "      <td>#Agroforestry interventions can make a huge im...</td>\n",
              "    </tr>\n",
              "    <tr>\n",
              "      <th>...</th>\n",
              "      <td>...</td>\n",
              "      <td>...</td>\n",
              "      <td>...</td>\n",
              "      <td>...</td>\n",
              "      <td>...</td>\n",
              "      <td>...</td>\n",
              "      <td>...</td>\n",
              "      <td>...</td>\n",
              "    </tr>\n",
              "    <tr>\n",
              "      <th>1316</th>\n",
              "      <td>1124253</td>\n",
              "      <td>1494</td>\n",
              "      <td>1.214420e+18</td>\n",
              "      <td>2020-01-07</td>\n",
              "      <td>FoodBizAfrica</td>\n",
              "      <td>0.0</td>\n",
              "      <td>0.0</td>\n",
              "      <td>#NEWS #FoodBusinessAfrica #FoodWorldMedia #Afr...</td>\n",
              "    </tr>\n",
              "    <tr>\n",
              "      <th>1317</th>\n",
              "      <td>1124254</td>\n",
              "      <td>1495</td>\n",
              "      <td>1.214419e+18</td>\n",
              "      <td>2020-01-07</td>\n",
              "      <td>FoodBizAfrica</td>\n",
              "      <td>0.0</td>\n",
              "      <td>0.0</td>\n",
              "      <td>#NEWS #FoodBusinessAfrica #FoodWorldMedia #Afr...</td>\n",
              "    </tr>\n",
              "    <tr>\n",
              "      <th>1318</th>\n",
              "      <td>1124255</td>\n",
              "      <td>1496</td>\n",
              "      <td>1.214419e+18</td>\n",
              "      <td>2020-01-07</td>\n",
              "      <td>FoodBizAfrica</td>\n",
              "      <td>0.0</td>\n",
              "      <td>1.0</td>\n",
              "      <td>#NEWS #FoodBusinessAfrica #FoodWorldMedia #Afr...</td>\n",
              "    </tr>\n",
              "    <tr>\n",
              "      <th>1319</th>\n",
              "      <td>1124256</td>\n",
              "      <td>1497</td>\n",
              "      <td>1.214061e+18</td>\n",
              "      <td>2020-01-06</td>\n",
              "      <td>FoodBizAfrica</td>\n",
              "      <td>1.0</td>\n",
              "      <td>0.0</td>\n",
              "      <td>Happy new year from Africas No. 1 #Food, #Beve...</td>\n",
              "    </tr>\n",
              "    <tr>\n",
              "      <th>1320</th>\n",
              "      <td>1124257</td>\n",
              "      <td>1498</td>\n",
              "      <td>1.212816e+18</td>\n",
              "      <td>2020-01-02</td>\n",
              "      <td>FoodBizAfrica</td>\n",
              "      <td>0.0</td>\n",
              "      <td>1.0</td>\n",
              "      <td>Happy new year from Africas No. 1 #Food, #Beve...</td>\n",
              "    </tr>\n",
              "  </tbody>\n",
              "</table>\n",
              "<p>1321 rows × 8 columns</p>\n",
              "</div>"
            ],
            "text/plain": [
              "      Unnamed: 0  ...                                               text\n",
              "0           8185  ...  #HealthtipswithAntoinette foods you should nev...\n",
              "1          27082  ...  Mitigation strategies are urgently needed to c...\n",
              "2          27086  ...  What's #COVID19's impact on the #foodsystems o...\n",
              "3          27096  ...  #Publication| Livelihoods and wider social ben...\n",
              "4          27112  ...  #Agroforestry interventions can make a huge im...\n",
              "...          ...  ...                                                ...\n",
              "1316     1124253  ...  #NEWS #FoodBusinessAfrica #FoodWorldMedia #Afr...\n",
              "1317     1124254  ...  #NEWS #FoodBusinessAfrica #FoodWorldMedia #Afr...\n",
              "1318     1124255  ...  #NEWS #FoodBusinessAfrica #FoodWorldMedia #Afr...\n",
              "1319     1124256  ...  Happy new year from Africas No. 1 #Food, #Beve...\n",
              "1320     1124257  ...  Happy new year from Africas No. 1 #Food, #Beve...\n",
              "\n",
              "[1321 rows x 8 columns]"
            ]
          },
          "metadata": {
            "tags": []
          },
          "execution_count": 142
        }
      ]
    },
    {
      "cell_type": "code",
      "metadata": {
        "id": "w8wgO5SkArag"
      },
      "source": [
        "\n",
        "datas = [data.groupby([\"screen_name\"])['text'].apply(lambda x: ','.join(x)).reset_index() for data in datas]"
      ],
      "execution_count": 119,
      "outputs": []
    },
    {
      "cell_type": "code",
      "metadata": {
        "id": "uIAaIoaKToC6",
        "outputId": "65b8d5e8-ae1f-48bc-ff7f-fbd80c3860d8",
        "colab": {
          "base_uri": "https://localhost:8080/",
          "height": 402
        }
      },
      "source": [
        "datas[0]"
      ],
      "execution_count": 120,
      "outputs": [
        {
          "output_type": "execute_result",
          "data": {
            "text/html": [
              "<div>\n",
              "<style scoped>\n",
              "    .dataframe tbody tr th:only-of-type {\n",
              "        vertical-align: middle;\n",
              "    }\n",
              "\n",
              "    .dataframe tbody tr th {\n",
              "        vertical-align: top;\n",
              "    }\n",
              "\n",
              "    .dataframe thead th {\n",
              "        text-align: right;\n",
              "    }\n",
              "</style>\n",
              "<table border=\"1\" class=\"dataframe\">\n",
              "  <thead>\n",
              "    <tr style=\"text-align: right;\">\n",
              "      <th></th>\n",
              "      <th>screen_name</th>\n",
              "      <th>text</th>\n",
              "    </tr>\n",
              "  </thead>\n",
              "  <tbody>\n",
              "    <tr>\n",
              "      <th>0</th>\n",
              "      <td>1023KISSFM</td>\n",
              "      <td>#HealthtipswithAntoinette foods you should nev...</td>\n",
              "    </tr>\n",
              "    <tr>\n",
              "      <th>1</th>\n",
              "      <td>3adcompany</td>\n",
              "      <td>Complain, then still take it because you dont ...</td>\n",
              "    </tr>\n",
              "    <tr>\n",
              "      <th>2</th>\n",
              "      <td>ACODE_Uganda</td>\n",
              "      <td>New #GreenEconomy Barometer report says we mus...</td>\n",
              "    </tr>\n",
              "    <tr>\n",
              "      <th>3</th>\n",
              "      <td>AKlegacyUG</td>\n",
              "      <td>GIRLS are like; ''Take me out on a date, buy m...</td>\n",
              "    </tr>\n",
              "    <tr>\n",
              "      <th>4</th>\n",
              "      <td>ASARECA</td>\n",
              "      <td>As the world continues to fight #COVID19, #foo...</td>\n",
              "    </tr>\n",
              "    <tr>\n",
              "      <th>...</th>\n",
              "      <td>...</td>\n",
              "      <td>...</td>\n",
              "    </tr>\n",
              "    <tr>\n",
              "      <th>192</th>\n",
              "      <td>songajames123</td>\n",
              "      <td>Eight things you need to know about govt food ...</td>\n",
              "    </tr>\n",
              "    <tr>\n",
              "      <th>193</th>\n",
              "      <td>ug_edge</td>\n",
              "      <td>Kakiri police stopped a truck and motorcycle s...</td>\n",
              "    </tr>\n",
              "    <tr>\n",
              "      <th>194</th>\n",
              "      <td>undptz</td>\n",
              "      <td>Garlic is a healthy food that may have some an...</td>\n",
              "    </tr>\n",
              "    <tr>\n",
              "      <th>195</th>\n",
              "      <td>unicefrw</td>\n",
              "      <td>Did you know? Breastmilk alone is the best foo...</td>\n",
              "    </tr>\n",
              "    <tr>\n",
              "      <th>196</th>\n",
              "      <td>wamkubwa</td>\n",
              "      <td>Just thinking out loud- Why cant such food dis...</td>\n",
              "    </tr>\n",
              "  </tbody>\n",
              "</table>\n",
              "<p>197 rows × 2 columns</p>\n",
              "</div>"
            ],
            "text/plain": [
              "       screen_name                                               text\n",
              "0       1023KISSFM  #HealthtipswithAntoinette foods you should nev...\n",
              "1       3adcompany  Complain, then still take it because you dont ...\n",
              "2     ACODE_Uganda  New #GreenEconomy Barometer report says we mus...\n",
              "3       AKlegacyUG  GIRLS are like; ''Take me out on a date, buy m...\n",
              "4          ASARECA  As the world continues to fight #COVID19, #foo...\n",
              "..             ...                                                ...\n",
              "192  songajames123  Eight things you need to know about govt food ...\n",
              "193        ug_edge  Kakiri police stopped a truck and motorcycle s...\n",
              "194         undptz  Garlic is a healthy food that may have some an...\n",
              "195       unicefrw  Did you know? Breastmilk alone is the best foo...\n",
              "196       wamkubwa  Just thinking out loud- Why cant such food dis...\n",
              "\n",
              "[197 rows x 2 columns]"
            ]
          },
          "metadata": {
            "tags": []
          },
          "execution_count": 120
        }
      ]
    },
    {
      "cell_type": "code",
      "metadata": {
        "id": "2Kr-dyjTTnl2"
      },
      "source": [
        ""
      ],
      "execution_count": null,
      "outputs": []
    },
    {
      "cell_type": "code",
      "metadata": {
        "id": "FEbZs5dcEDsX"
      },
      "source": [
        "# Create a list of lists containing lowercase words for each tweet\n",
        "import nltk\n",
        "from nltk.corpus import stopwords\n",
        "stop_words = stopwords.words('english')\n",
        "\n",
        "words_in_tweet_bn = [re.findall(r'[#]\\w+', text) for text in datas[0].text]\n",
        "\n",
        "words_in_tweet_dn = [re.findall(r'[#]\\w+', text) for text in datas[1].text]\n",
        "\n",
        "              \n",
        "words_in_tweet_an = [re.findall(r'[#]\\w+', text) for text in datas[2].text]\n",
        "\n",
        "# words_in_tweet_an = [[word for word in tweet_words if not word in stop_words]\n",
        "#               for tweet_words in words_in_tweet_an]\n",
        "\n",
        "\n"
      ],
      "execution_count": 128,
      "outputs": []
    },
    {
      "cell_type": "code",
      "metadata": {
        "id": "UIdQNdiOM4Eg"
      },
      "source": [
        ""
      ],
      "execution_count": 128,
      "outputs": []
    },
    {
      "cell_type": "code",
      "metadata": {
        "id": "nqC6iqRmEXSD"
      },
      "source": [
        "# List of all words across tweets\n",
        "import itertools\n",
        "import collections\n",
        "\n",
        "\n",
        "all_words_bn = list(itertools.chain(*words_in_tweet_bn))\n",
        "all_words_dn = list(itertools.chain(*words_in_tweet_dn))\n",
        "all_words_an = list(itertools.chain(*words_in_tweet_an))\n",
        "\n",
        "\n",
        "# Create counter\n",
        "counts_no_bn = collections.Counter(all_words_bn)\n",
        "counts_no_dn = collections.Counter(all_words_dn)\n",
        "counts_no_an = collections.Counter(all_words_an)\n",
        "\n",
        "# counts_no.most_common(15)"
      ],
      "execution_count": 129,
      "outputs": []
    },
    {
      "cell_type": "code",
      "metadata": {
        "id": "dOkSvgpwDKS6",
        "outputId": "dff6cddf-298a-469f-e397-699178526afb",
        "colab": {
          "base_uri": "https://localhost:8080/",
          "height": 491
        }
      },
      "source": [
        "\n",
        "count_words_bn = pd.DataFrame(counts_no_bn.most_common(15), columns=['words', 'count'])\n",
        "count_words_dn = pd.DataFrame(counts_no_dn.most_common(15), columns=['words', 'count'])\n",
        "count_words_an = pd.DataFrame(counts_no_an.most_common(15), columns=['words', 'count'])\n",
        "\n",
        "count_words_bn"
      ],
      "execution_count": 130,
      "outputs": [
        {
          "output_type": "execute_result",
          "data": {
            "text/html": [
              "<div>\n",
              "<style scoped>\n",
              "    .dataframe tbody tr th:only-of-type {\n",
              "        vertical-align: middle;\n",
              "    }\n",
              "\n",
              "    .dataframe tbody tr th {\n",
              "        vertical-align: top;\n",
              "    }\n",
              "\n",
              "    .dataframe thead th {\n",
              "        text-align: right;\n",
              "    }\n",
              "</style>\n",
              "<table border=\"1\" class=\"dataframe\">\n",
              "  <thead>\n",
              "    <tr style=\"text-align: right;\">\n",
              "      <th></th>\n",
              "      <th>words</th>\n",
              "      <th>count</th>\n",
              "    </tr>\n",
              "  </thead>\n",
              "  <tbody>\n",
              "    <tr>\n",
              "      <th>0</th>\n",
              "      <td>#Africa</td>\n",
              "      <td>584</td>\n",
              "    </tr>\n",
              "    <tr>\n",
              "      <th>1</th>\n",
              "      <td>#NEWS</td>\n",
              "      <td>569</td>\n",
              "    </tr>\n",
              "    <tr>\n",
              "      <th>2</th>\n",
              "      <td>#FoodBusinessAfrica</td>\n",
              "      <td>569</td>\n",
              "    </tr>\n",
              "    <tr>\n",
              "      <th>3</th>\n",
              "      <td>#FoodWorldMedia</td>\n",
              "      <td>569</td>\n",
              "    </tr>\n",
              "    <tr>\n",
              "      <th>4</th>\n",
              "      <td>#World</td>\n",
              "      <td>569</td>\n",
              "    </tr>\n",
              "    <tr>\n",
              "      <th>5</th>\n",
              "      <td>#DairyIndustry</td>\n",
              "      <td>569</td>\n",
              "    </tr>\n",
              "    <tr>\n",
              "      <th>6</th>\n",
              "      <td>#MillingIndustry</td>\n",
              "      <td>569</td>\n",
              "    </tr>\n",
              "    <tr>\n",
              "      <th>7</th>\n",
              "      <td>#BeverageIndustry</td>\n",
              "      <td>569</td>\n",
              "    </tr>\n",
              "    <tr>\n",
              "      <th>8</th>\n",
              "      <td>#foodsecurity</td>\n",
              "      <td>33</td>\n",
              "    </tr>\n",
              "    <tr>\n",
              "      <th>9</th>\n",
              "      <td>#food</td>\n",
              "      <td>28</td>\n",
              "    </tr>\n",
              "    <tr>\n",
              "      <th>10</th>\n",
              "      <td>#COVID19</td>\n",
              "      <td>25</td>\n",
              "    </tr>\n",
              "    <tr>\n",
              "      <th>11</th>\n",
              "      <td>#agriculture</td>\n",
              "      <td>17</td>\n",
              "    </tr>\n",
              "    <tr>\n",
              "      <th>12</th>\n",
              "      <td>#COVID19UG</td>\n",
              "      <td>17</td>\n",
              "    </tr>\n",
              "    <tr>\n",
              "      <th>13</th>\n",
              "      <td>#KiberaFoodChaos</td>\n",
              "      <td>11</td>\n",
              "    </tr>\n",
              "    <tr>\n",
              "      <th>14</th>\n",
              "      <td>#foodsystems</td>\n",
              "      <td>10</td>\n",
              "    </tr>\n",
              "  </tbody>\n",
              "</table>\n",
              "</div>"
            ],
            "text/plain": [
              "                  words  count\n",
              "0               #Africa    584\n",
              "1                 #NEWS    569\n",
              "2   #FoodBusinessAfrica    569\n",
              "3       #FoodWorldMedia    569\n",
              "4                #World    569\n",
              "5        #DairyIndustry    569\n",
              "6      #MillingIndustry    569\n",
              "7     #BeverageIndustry    569\n",
              "8         #foodsecurity     33\n",
              "9                 #food     28\n",
              "10             #COVID19     25\n",
              "11         #agriculture     17\n",
              "12           #COVID19UG     17\n",
              "13     #KiberaFoodChaos     11\n",
              "14         #foodsystems     10"
            ]
          },
          "metadata": {
            "tags": []
          },
          "execution_count": 130
        }
      ]
    },
    {
      "cell_type": "code",
      "metadata": {
        "id": "UB0BOthCFNBU",
        "outputId": "95038722-de91-4fd3-ccee-700c219a11d1",
        "colab": {
          "base_uri": "https://localhost:8080/",
          "height": 934
        }
      },
      "source": [
        "# fig, ax = plt.subplots(sub_pl3,1figsize=(8, 8))\n",
        "fig, (ax1, ax2,ax3) = plt.subplots(3, 1,figsize=(6, 16))\n",
        "\n",
        "# Plot horizontal bar graph\n",
        "count_words_bn.sort_values(by='count').plot.barh(x='words',\n",
        "                      y='count',\n",
        "                      ax=ax1,\n",
        "                      color=\"purple\")\n",
        "\n",
        "ax1.set_title(\"Common Words Found in Tweets (before_lockdown in Nairobi)\")\n",
        "\n",
        "# Plot horizontal bar graph\n",
        "count_words_dn.sort_values(by='count').plot.barh(x='words',\n",
        "                      y='count',\n",
        "                      ax=ax2,\n",
        "                      color=\"purple\")\n",
        "\n",
        "ax2.set_title(\"Common Words Found in Tweets (during_lockdown in Nairobi)\")\n",
        "\n",
        "# Plot horizontal bar graph\n",
        "count_words_an.sort_values(by='count').plot.barh(x='words',\n",
        "                      y='count',\n",
        "                      ax=ax3,\n",
        "                      color=\"purple\")\n",
        "\n",
        "ax3.set_title(\"Common Words Found in Tweets (after_lockdown in Nairobi)\")\n",
        "\n",
        "plt.show()"
      ],
      "execution_count": 134,
      "outputs": [
        {
          "output_type": "display_data",
          "data": {
            "image/png": "[encoded data removed]",
            "text/plain": [
              "<Figure size 432x1152 with 3 Axes>"
            ]
          },
          "metadata": {
            "tags": [],
            "needs_background": "light"
          }
        }
      ]
    },
    {
      "cell_type": "code",
      "metadata": {
        "id": "5PRBQVwubu6q",
        "outputId": "fcb5decd-4920-4699-ce12-1a3e9f58e72d",
        "colab": {
          "base_uri": "https://localhost:8080/",
          "height": 431
        }
      },
      "source": [
        "datas[0].groupby([\"screen_name\"]).agg({\"text\":\"count\"}).sort_values(by =\"text\",ascending=False)"
      ],
      "execution_count": 140,
      "outputs": [
        {
          "output_type": "execute_result",
          "data": {
            "text/html": [
              "<div>\n",
              "<style scoped>\n",
              "    .dataframe tbody tr th:only-of-type {\n",
              "        vertical-align: middle;\n",
              "    }\n",
              "\n",
              "    .dataframe tbody tr th {\n",
              "        vertical-align: top;\n",
              "    }\n",
              "\n",
              "    .dataframe thead th {\n",
              "        text-align: right;\n",
              "    }\n",
              "</style>\n",
              "<table border=\"1\" class=\"dataframe\">\n",
              "  <thead>\n",
              "    <tr style=\"text-align: right;\">\n",
              "      <th></th>\n",
              "      <th>text</th>\n",
              "    </tr>\n",
              "    <tr>\n",
              "      <th>screen_name</th>\n",
              "      <th></th>\n",
              "    </tr>\n",
              "  </thead>\n",
              "  <tbody>\n",
              "    <tr>\n",
              "      <th>FoodBizAfrica</th>\n",
              "      <td>602</td>\n",
              "    </tr>\n",
              "    <tr>\n",
              "      <th>AfricaSustain1</th>\n",
              "      <td>41</td>\n",
              "    </tr>\n",
              "    <tr>\n",
              "      <th>AgricultureNan</th>\n",
              "      <td>34</td>\n",
              "    </tr>\n",
              "    <tr>\n",
              "      <th>ChadDigo</th>\n",
              "      <td>32</td>\n",
              "    </tr>\n",
              "    <tr>\n",
              "      <th>UgandaRedCross</th>\n",
              "      <td>24</td>\n",
              "    </tr>\n",
              "    <tr>\n",
              "      <th>...</th>\n",
              "      <td>...</td>\n",
              "    </tr>\n",
              "    <tr>\n",
              "      <th>MohamudNadif</th>\n",
              "      <td>1</td>\n",
              "    </tr>\n",
              "    <tr>\n",
              "      <th>MitiAlliance</th>\n",
              "      <td>1</td>\n",
              "    </tr>\n",
              "    <tr>\n",
              "      <th>MarubeKiage</th>\n",
              "      <td>1</td>\n",
              "    </tr>\n",
              "    <tr>\n",
              "      <th>LuizAlbrecht1</th>\n",
              "      <td>1</td>\n",
              "    </tr>\n",
              "    <tr>\n",
              "      <th>wamkubwa</th>\n",
              "      <td>1</td>\n",
              "    </tr>\n",
              "  </tbody>\n",
              "</table>\n",
              "<p>197 rows × 1 columns</p>\n",
              "</div>"
            ],
            "text/plain": [
              "                text\n",
              "screen_name         \n",
              "FoodBizAfrica    602\n",
              "AfricaSustain1    41\n",
              "AgricultureNan    34\n",
              "ChadDigo          32\n",
              "UgandaRedCross    24\n",
              "...              ...\n",
              "MohamudNadif       1\n",
              "MitiAlliance       1\n",
              "MarubeKiage        1\n",
              "LuizAlbrecht1      1\n",
              "wamkubwa           1\n",
              "\n",
              "[197 rows x 1 columns]"
            ]
          },
          "metadata": {
            "tags": []
          },
          "execution_count": 140
        }
      ]
    },
    {
      "cell_type": "code",
      "metadata": {
        "id": "6UCcUt9BceGl",
        "outputId": "96a6cdee-9ecc-4327-ebac-83406e1a1d81",
        "colab": {
          "base_uri": "https://localhost:8080/",
          "height": 431
        }
      },
      "source": [
        "datas[1].groupby([\"screen_name\"]).agg({\"text\":\"count\"}).sort_values(by =\"text\",ascending=False)"
      ],
      "execution_count": 143,
      "outputs": [
        {
          "output_type": "execute_result",
          "data": {
            "text/html": [
              "<div>\n",
              "<style scoped>\n",
              "    .dataframe tbody tr th:only-of-type {\n",
              "        vertical-align: middle;\n",
              "    }\n",
              "\n",
              "    .dataframe tbody tr th {\n",
              "        vertical-align: top;\n",
              "    }\n",
              "\n",
              "    .dataframe thead th {\n",
              "        text-align: right;\n",
              "    }\n",
              "</style>\n",
              "<table border=\"1\" class=\"dataframe\">\n",
              "  <thead>\n",
              "    <tr style=\"text-align: right;\">\n",
              "      <th></th>\n",
              "      <th>text</th>\n",
              "    </tr>\n",
              "    <tr>\n",
              "      <th>screen_name</th>\n",
              "      <th></th>\n",
              "    </tr>\n",
              "  </thead>\n",
              "  <tbody>\n",
              "    <tr>\n",
              "      <th>FoodBizAfrica</th>\n",
              "      <td>286</td>\n",
              "    </tr>\n",
              "    <tr>\n",
              "      <th>ICRAF</th>\n",
              "      <td>97</td>\n",
              "    </tr>\n",
              "    <tr>\n",
              "      <th>Consumers_Kenya</th>\n",
              "      <td>34</td>\n",
              "    </tr>\n",
              "    <tr>\n",
              "      <th>AgricultureNan</th>\n",
              "      <td>25</td>\n",
              "    </tr>\n",
              "    <tr>\n",
              "      <th>Kenya_2U</th>\n",
              "      <td>24</td>\n",
              "    </tr>\n",
              "    <tr>\n",
              "      <th>...</th>\n",
              "      <td>...</td>\n",
              "    </tr>\n",
              "    <tr>\n",
              "      <th>EugeneRwubaka</th>\n",
              "      <td>1</td>\n",
              "    </tr>\n",
              "    <tr>\n",
              "      <th>FelixRugamba2</th>\n",
              "      <td>1</td>\n",
              "    </tr>\n",
              "    <tr>\n",
              "      <th>StormyPetrel228</th>\n",
              "      <td>1</td>\n",
              "    </tr>\n",
              "    <tr>\n",
              "      <th>FoleniKE</th>\n",
              "      <td>1</td>\n",
              "    </tr>\n",
              "    <tr>\n",
              "      <th>visitrwanda_now</th>\n",
              "      <td>1</td>\n",
              "    </tr>\n",
              "  </tbody>\n",
              "</table>\n",
              "<p>220 rows × 1 columns</p>\n",
              "</div>"
            ],
            "text/plain": [
              "                 text\n",
              "screen_name          \n",
              "FoodBizAfrica     286\n",
              "ICRAF              97\n",
              "Consumers_Kenya    34\n",
              "AgricultureNan     25\n",
              "Kenya_2U           24\n",
              "...               ...\n",
              "EugeneRwubaka       1\n",
              "FelixRugamba2       1\n",
              "StormyPetrel228     1\n",
              "FoleniKE            1\n",
              "visitrwanda_now     1\n",
              "\n",
              "[220 rows x 1 columns]"
            ]
          },
          "metadata": {
            "tags": []
          },
          "execution_count": 143
        }
      ]
    },
    {
      "cell_type": "code",
      "metadata": {
        "id": "7O1klMPkc_JL",
        "outputId": "d92abf3d-deca-47dc-a675-547bbe019d38",
        "colab": {
          "base_uri": "https://localhost:8080/",
          "height": 431
        }
      },
      "source": [
        "datas[2].groupby([\"screen_name\"]).agg({\"text\":\"count\"}).sort_values(by =\"text\",ascending=False)"
      ],
      "execution_count": 144,
      "outputs": [
        {
          "output_type": "execute_result",
          "data": {
            "text/html": [
              "<div>\n",
              "<style scoped>\n",
              "    .dataframe tbody tr th:only-of-type {\n",
              "        vertical-align: middle;\n",
              "    }\n",
              "\n",
              "    .dataframe tbody tr th {\n",
              "        vertical-align: top;\n",
              "    }\n",
              "\n",
              "    .dataframe thead th {\n",
              "        text-align: right;\n",
              "    }\n",
              "</style>\n",
              "<table border=\"1\" class=\"dataframe\">\n",
              "  <thead>\n",
              "    <tr style=\"text-align: right;\">\n",
              "      <th></th>\n",
              "      <th>text</th>\n",
              "    </tr>\n",
              "    <tr>\n",
              "      <th>screen_name</th>\n",
              "      <th></th>\n",
              "    </tr>\n",
              "  </thead>\n",
              "  <tbody>\n",
              "    <tr>\n",
              "      <th>FoodBizAfrica</th>\n",
              "      <td>182</td>\n",
              "    </tr>\n",
              "    <tr>\n",
              "      <th>ICRAF</th>\n",
              "      <td>55</td>\n",
              "    </tr>\n",
              "    <tr>\n",
              "      <th>Consumers_Kenya</th>\n",
              "      <td>51</td>\n",
              "    </tr>\n",
              "    <tr>\n",
              "      <th>AfricaSustain1</th>\n",
              "      <td>39</td>\n",
              "    </tr>\n",
              "    <tr>\n",
              "      <th>hiramkush</th>\n",
              "      <td>32</td>\n",
              "    </tr>\n",
              "    <tr>\n",
              "      <th>...</th>\n",
              "      <td>...</td>\n",
              "    </tr>\n",
              "    <tr>\n",
              "      <th>Saitonne</th>\n",
              "      <td>1</td>\n",
              "    </tr>\n",
              "    <tr>\n",
              "      <th>Sam_Chyme</th>\n",
              "      <td>1</td>\n",
              "    </tr>\n",
              "    <tr>\n",
              "      <th>Shucayb_Shekeye</th>\n",
              "      <td>1</td>\n",
              "    </tr>\n",
              "    <tr>\n",
              "      <th>SikuNjemaKesho</th>\n",
              "      <td>1</td>\n",
              "    </tr>\n",
              "    <tr>\n",
              "      <th>AASciences</th>\n",
              "      <td>1</td>\n",
              "    </tr>\n",
              "  </tbody>\n",
              "</table>\n",
              "<p>333 rows × 1 columns</p>\n",
              "</div>"
            ],
            "text/plain": [
              "                 text\n",
              "screen_name          \n",
              "FoodBizAfrica     182\n",
              "ICRAF              55\n",
              "Consumers_Kenya    51\n",
              "AfricaSustain1     39\n",
              "hiramkush          32\n",
              "...               ...\n",
              "Saitonne            1\n",
              "Sam_Chyme           1\n",
              "Shucayb_Shekeye     1\n",
              "SikuNjemaKesho      1\n",
              "AASciences          1\n",
              "\n",
              "[333 rows x 1 columns]"
            ]
          },
          "metadata": {
            "tags": []
          },
          "execution_count": 144
        }
      ]
    },
    {
      "cell_type": "markdown",
      "metadata": {
        "id": "ekQkOEXGsHdm"
      },
      "source": [
        "\n",
        "# Johannesburg"
      ]
    },
    {
      "cell_type": "code",
      "metadata": {
        "id": "lg4IgvuaoaSq"
      },
      "source": [
        "after_ld_Johannesburg = pd.read_csv(\"south_africa/after_lockdown_south_africa.csv\",parse_dates=['created_at'])\n",
        "before_ld_Johannesburg = pd.read_csv(\"south_africa/before_lockdown_south_africa.csv\",parse_dates=['created_at'])\n",
        "during_ld_Johannesburg = pd.read_csv(\"south_africa/during_lockdown_south_africa.csv\",parse_dates=['created_at'])"
      ],
      "execution_count": null,
      "outputs": []
    },
    {
      "cell_type": "code",
      "metadata": {
        "id": "aHt_WuONoaSt"
      },
      "source": [
        "datas_j = [before_ld_Johannesburg,during_ld_Johannesburg,after_ld_Johannesburg]"
      ],
      "execution_count": null,
      "outputs": []
    },
    {
      "cell_type": "code",
      "metadata": {
        "id": "anY7U6dioaSw"
      },
      "source": [
        "to_date(datas)"
      ],
      "execution_count": null,
      "outputs": []
    },
    {
      "cell_type": "markdown",
      "metadata": {
        "id": "hxi_qIOBsk6e"
      },
      "source": [
        "# Lagos"
      ]
    },
    {
      "cell_type": "code",
      "metadata": {
        "id": "8eIIgaKasnJ_"
      },
      "source": [
        "after_ld_Lagos = pd.read_csv(\"nigeria/after_lockdown_nigeria.csv\",parse_dates=['created_at'])\n",
        "before_ld_Lagos = pd.read_csv(\"nigeria/before_lockdown_nigeria.csv\",parse_dates=['created_at'])\n",
        "during_ld_Lagos = pd.read_csv(\"nigeria/during_lockdown_nigeria.csv\",parse_dates=['created_at'])"
      ],
      "execution_count": null,
      "outputs": []
    },
    {
      "cell_type": "code",
      "metadata": {
        "id": "MKVEPj9TspdI",
        "outputId": "a9142a22-de29-437f-b53d-19c6bdbb3455",
        "colab": {
          "base_uri": "https://localhost:8080/",
          "height": 161
        }
      },
      "source": [
        "datas_L = [before_ld_Lagos,after_ld_Lagos,during_ld_Lagos]"
      ],
      "execution_count": null,
      "outputs": [
        {
          "output_type": "error",
          "ename": "NameError",
          "evalue": "ignored",
          "traceback": [
            "\u001b[0;31m---------------------------------------------------------------------------\u001b[0m",
            "\u001b[0;31mNameError\u001b[0m                                 Traceback (most recent call last)",
            "\u001b[0;32m<ipython-input-154-b633bbc8a1d2>\u001b[0m in \u001b[0;36m<module>\u001b[0;34m()\u001b[0m\n\u001b[0;32m----> 1\u001b[0;31m \u001b[0mdatas_L\u001b[0m \u001b[0;34m=\u001b[0m \u001b[0;34m[\u001b[0m\u001b[0mbefore_ld_Lagos\u001b[0m\u001b[0;34m,\u001b[0m\u001b[0mafter_ld_Lagos\u001b[0m\u001b[0;34m,\u001b[0m\u001b[0mduring_ld_Lagos\u001b[0m\u001b[0;34m]\u001b[0m\u001b[0;34m\u001b[0m\u001b[0;34m\u001b[0m\u001b[0m\n\u001b[0m",
            "\u001b[0;31mNameError\u001b[0m: name 'before_ld_Lagos' is not defined"
          ]
        }
      ]
    },
    {
      "cell_type": "code",
      "metadata": {
        "id": "LgkWfD7Lsrf_"
      },
      "source": [
        "to_date(datas)"
      ],
      "execution_count": null,
      "outputs": []
    }
  ]
}