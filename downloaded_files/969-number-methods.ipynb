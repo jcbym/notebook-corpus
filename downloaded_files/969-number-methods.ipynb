{
 "cells": [
  {
   "cell_type": "markdown",
   "id": "c42ce966",
   "metadata": {},
   "source": [
    "<h1 style=\"border: 1.5px solid #ccc; \n",
    "           padding: 8px 12px; \n",
    "           color:#56BFCB;\"\n",
    "    >\n",
    "    <center> <br/>\n",
    "        Lista de Exercícios da Semana 2 <br/>\n",
    "        <span style=\"font-size:18px;\"> Guilherme Esdras </span>\n",
    "    </center>\n",
    "</h1>"
   ]
  },
  {
   "cell_type": "markdown",
   "id": "5bacd6b9-ae35-4d03-bba9-b64cd172e61d",
   "metadata": {},
   "source": [
    "---"
   ]
  },
  {
   "cell_type": "markdown",
   "id": "7e1d1f47",
   "metadata": {},
   "source": [
    "<div class=\"alert alert-block alert-info\" style=\"color:#20484d;\">\n",
    "    <b>1.</b> Como importar a biblioteca numpy e verificar a versão utilizada?\n",
    "</div>"
   ]
  },
  {
   "cell_type": "code",
   "execution_count": 1,
   "id": "bf4f471d-09e8-4606-8b16-e7f1b1783e1f",
   "metadata": {},
   "outputs": [],
   "source": [
    "# Importando a biblioteca numpy e \"apelidando-a\" como \"np\"\n",
    "import numpy as np"
   ]
  },
  {
   "cell_type": "code",
   "execution_count": 2,
   "id": "9099e311-8dd4-4c4f-a04c-009a08884283",
   "metadata": {
    "tags": []
   },
   "outputs": [
    {
     "data": {
      "text/plain": [
       "'1.20.1'"
      ]
     },
     "execution_count": 2,
     "metadata": {},
     "output_type": "execute_result"
    }
   ],
   "source": [
    "# Verificando a versão utilizada\n",
    "np.__version__"
   ]
  },
  {
   "cell_type": "markdown",
   "id": "c4892b84-ea52-4e0e-afe5-4516c45bc3de",
   "metadata": {},
   "source": [
    "---"
   ]
  },
  {
   "cell_type": "markdown",
   "id": "106d8eec",
   "metadata": {},
   "source": [
    "<div class=\"alert alert-block alert-info\" style=\"color:#20484d;\">\n",
    "    <b>2.</b> Explique, com suas palavras, os conceitos de vetorização e <i>broadcasting</i> que Numpy implementa.\n",
    "</div>"
   ]
  },
  {
   "cell_type": "markdown",
   "id": "c32b32c3-839c-4b83-a88b-b245664ea068",
   "metadata": {},
   "source": [
    "#### **Vetorização**"
   ]
  },
  {
   "cell_type": "markdown",
   "id": "c30a2239-8ad2-49b6-aada-ac9a8ea3a2a5",
   "metadata": {},
   "source": [
    "Para entender o conceito de vetorização do Numpy, é importante entender como o mesmo funciona e qual o seu objetivo."
   ]
  },
  {
   "cell_type": "markdown",
   "id": "69fb5390-85b5-4ece-a8da-bc335984de16",
   "metadata": {},
   "source": [
    "Basicamente, explicando de forma resumida, o Numpy foi desenvolvido com a intenção de aumentar a produtividade e diminuir o tempo de execução das funções (principalmente de Arrays) nativas do Python, e para isso utiliza-se da linguagem C, fazendo nos \"bastidores\" a implementação dos Arrays do Python nessa linguagem, chegando bem mais próximo do *hardware* e aumentando significativamente a eficiência do programa.\n",
    "\n",
    "A utilização do Numpy em projetos com Python pode ser chamada de \"computação orientada a arrays\", pois mesmo o Python não possuindo Arrays, e sim, Listas, o Numpy, desce até níveis mais baixos de códigos desenvolvidos em C para implementar as funcionalidades do Python utilizando Arrays, melhorando considerávelmente a sua perfomance."
   ]
  },
  {
   "cell_type": "markdown",
   "id": "7b881736-35ee-4684-b460-1b2a0a385606",
   "metadata": {},
   "source": [
    "É aí que entra o conceito de Vetorização, um Array, nada mais é que um Vetor. E esta \"habilidade\" super produtiva do NumPy de melhorar o Python utilizando-se de Arrays desenvolvidos em uma linguagem de mais baixo nível para chegar ainda mais próximo do Hardware e aumentar expressivamente sua performance, é o que chamamos no NumPy de **Vetorização**."
   ]
  },
  {
   "cell_type": "markdown",
   "id": "dc7a3ff5-1bc2-4e32-90a2-55e9bdbf2979",
   "metadata": {},
   "source": [
    "##### **Um exemplo com teste de performance**"
   ]
  },
  {
   "cell_type": "markdown",
   "id": "af39c105-22b6-4ba9-9cc1-4d6f82ec5c30",
   "metadata": {},
   "source": [
    "Para exemplificar a performance que a vetorização do NumPy garante, segue um exemplo utilizando duas listas.\n",
    "\n",
    "Uma lista padrão do Python e outra vetorizada com NumPy.\n",
    "\n",
    "Para somar +1 em cada uma das duas, na versão do Python, seria necessário um *loop for* padrão, enquanto que em um Array do NumPy o mesmo desce até o nível para implementar a mesma função utilizando-se da linguagem C."
   ]
  },
  {
   "cell_type": "code",
   "execution_count": 3,
   "id": "acf7004c",
   "metadata": {},
   "outputs": [],
   "source": [
    "# Utiliza-se a funcao Timer da biblioteca timeit para cronometrar o tempo de execucao\n",
    "from timeit import Timer"
   ]
  },
  {
   "cell_type": "code",
   "execution_count": 4,
   "id": "ec0e77fa-06d3-45d6-b82b-7266c2cba3b4",
   "metadata": {},
   "outputs": [],
   "source": [
    "# Para testar a performance, declaramos duas listas:\n",
    "py_lst = list(range(500000)) # 1- Lista padrao do Python\n",
    "np_arr = np.array(py_lst)    # 2- Lista Vetorizada do NumPy"
   ]
  },
  {
   "cell_type": "code",
   "execution_count": 5,
   "id": "2177c4c4-f2e2-4e39-988f-fd7a57de204b",
   "metadata": {},
   "outputs": [],
   "source": [
    "# Escrevemos duas funcoes:\n",
    "def python_for():\n",
    "    # Soma +1 em cada um dos elementos da lista do Python utilizando um loop for\n",
    "    return [ n+1 for n in py_lst ]\n",
    "\n",
    "def numpy_add():\n",
    "    # Soma + 1 em cada um dos elementos do vetor do NumPy\n",
    "    return np_arr + 1 # O mesmo utiliza-se de um loop a nivel C por debaixo dos panos para somar cada elemento\n",
    "\n",
    "    # Este eh o processo conhecido como Vetorizacao\n",
    "    # Funcoes tambem podem ser vetorizadas utilizando a funcao vectorize do numpy."
   ]
  },
  {
   "cell_type": "code",
   "execution_count": 6,
   "id": "65719d94-aa03-428e-ab88-24cacae67c97",
   "metadata": {},
   "outputs": [
    {
     "name": "stdout",
     "output_type": "stream",
     "text": [
      "0.3200066050012538\n",
      "0.00597479300267878\n"
     ]
    }
   ],
   "source": [
    "# Utilizando-se da biblioteca timeit, executa cada uma das funcoes repetidas vezes igualmente\n",
    "# cronometrando o tempo de cada execucao e imprimindo-os\n",
    "print(min(Timer(python_for).repeat(10, 10)))\n",
    "print(min(Timer(numpy_add).repeat(10, 10)))"
   ]
  },
  {
   "cell_type": "markdown",
   "id": "830d8c9b-e289-4bdd-b20a-f49759368c2f",
   "metadata": {},
   "source": [
    "<div class=\"alert alert-block alert-success\">\n",
    "    E como podemos observar, a operação realizada utilizando-se da Vetorização do NumPy foi <b>centenas de vezes mais rápida!</b>\n",
    "</div>"
   ]
  },
  {
   "cell_type": "markdown",
   "id": "e27f6158-d7ea-4012-b184-46ef18f15061",
   "metadata": {},
   "source": [
    "##### ***Broadcasting***"
   ]
  },
  {
   "cell_type": "markdown",
   "id": "06e58e90-adac-4539-bd66-4f837bb46dc3",
   "metadata": {},
   "source": [
    "Já o termo \"*broadcasting*\" descreve como o NumPy trata os Arrays com diferentes formatos durante operações aritméticas.\n",
    "\n",
    "Operações, como soma e subtração por exemplo, não podem ser realizadas caso sejam usados Arrays de tamanhos diferentes."
   ]
  },
  {
   "cell_type": "code",
   "execution_count": 7,
   "id": "a495ce57-2792-4157-b315-fc6e348bbf39",
   "metadata": {},
   "outputs": [
    {
     "data": {
      "text/plain": [
       "array([5, 7, 9])"
      ]
     },
     "execution_count": 7,
     "metadata": {},
     "output_type": "execute_result"
    }
   ],
   "source": [
    "# Exemplo\n",
    "a = np.array([1, 2, 3])\n",
    "b = np.array([4, 5, 6])\n",
    "c = a + b\n",
    "c"
   ]
  },
  {
   "cell_type": "code",
   "execution_count": 8,
   "id": "9a967e2b-995b-48ac-a474-e860119babb3",
   "metadata": {},
   "outputs": [
    {
     "data": {
      "text/plain": [
       "array([10, 12, 14])"
      ]
     },
     "execution_count": 8,
     "metadata": {},
     "output_type": "execute_result"
    }
   ],
   "source": [
    "c + 5"
   ]
  },
  {
   "cell_type": "markdown",
   "id": "d0b445ea-5b74-428a-80ef-dcf120975ba9",
   "metadata": {},
   "source": [
    "---"
   ]
  },
  {
   "cell_type": "markdown",
   "id": "4648361d",
   "metadata": {},
   "source": [
    "<div class=\"alert alert-block alert-info\" style=\"color:#20484d;\">\n",
    "    <b>3.</b> Liste as diferenças entre uma lista, um dicionário, um array numpy, dando exemplos de aplicações de em que cada tipo seria mais interessante.\n",
    "</div>"
   ]
  },
  {
   "cell_type": "markdown",
   "id": "08bf8bf8-3785-410d-aebd-d698ebe8b591",
   "metadata": {},
   "source": [
    "### **Lista**"
   ]
  },
  {
   "cell_type": "markdown",
   "id": "0eb1deec-09f9-436b-87e1-a39d296217d5",
   "metadata": {},
   "source": [
    "Em Python uma lista é usada para armazenar elementos de diferentes tipos. Isso impõe que cada um dos elementos da lista poderão ficar em posições diferentes na memória.\n",
    "\n",
    "Dessa forma, listas são geralmente utilizadas quando:\n",
    " - se quer armazenar dados de diferentes tipos em conjunto;\n",
    " - permitir duplicatas;\n",
    " - crescer a quantidade de elementos de forma dinâmica;\n",
    " - aumentar corriqueiramente a quantidade de dados, tendo em vista que o método append das listas possui maior velocidade.\n",
    "\n",
    "Porém, para tais feitos, é necessário levar em consideração alguns fatores:\n",
    " - o tempo para processamento destes dados poderá ser significantemente mais devagar\n",
    " - seja pelos diferentes tipos de seus dados, como pela posição de memória onde cada um ficará, como também pela forma como o Python nativamente implementa estas listas."
   ]
  },
  {
   "cell_type": "markdown",
   "id": "5bae6091-7b08-4cbe-86cb-63116aa3c170",
   "metadata": {},
   "source": [
    "##### **Exemplo de Aplicação**"
   ]
  },
  {
   "cell_type": "code",
   "execution_count": 9,
   "id": "8ce25dca-4f3a-4740-bd27-dad4914c927a",
   "metadata": {},
   "outputs": [
    {
     "data": {
      "text/plain": [
       "['string', 'char', 2, ['1', 2, 3.0], 4j]"
      ]
     },
     "execution_count": 9,
     "metadata": {},
     "output_type": "execute_result"
    }
   ],
   "source": [
    "# Simples exemplo de aplicacao onde nao seria possivel com outros tipos\n",
    "uma_lista = [\"string\", 'char', 2, ['1', 2, 3.0], 4j]\n",
    "uma_lista"
   ]
  },
  {
   "cell_type": "markdown",
   "id": "ca9dc401-9784-4552-9c6a-9de367da30e9",
   "metadata": {},
   "source": [
    "### **Dicionário**"
   ]
  },
  {
   "cell_type": "markdown",
   "id": "c6b7a6b8-d154-421b-9b95-4fb6df1468d2",
   "metadata": {},
   "source": [
    "Dicionários são usados para armazenar dados em pares de chave:valor.\n",
    "\n",
    "Em Python, dicionários são coleções maleáveis mas que não suportam duplicatas."
   ]
  },
  {
   "cell_type": "markdown",
   "id": "dd8ffa8e-fd14-4bb1-ae91-5358d4a76e42",
   "metadata": {},
   "source": [
    "#### **Exemplo de Aplicação**"
   ]
  },
  {
   "cell_type": "code",
   "execution_count": 10,
   "id": "dc83156d-6007-4c1d-a382-c48f14375a05",
   "metadata": {},
   "outputs": [
    {
     "data": {
      "text/plain": [
       "{'chave': 'valor', 5: 6}"
      ]
     },
     "execution_count": 10,
     "metadata": {},
     "output_type": "execute_result"
    }
   ],
   "source": [
    "# Simples exemplo de aplicacao onde nao seria possivel com outros tipos\n",
    "um_dict = {\"chave\": 'valor', 5: 6}\n",
    "um_dict"
   ]
  },
  {
   "cell_type": "markdown",
   "id": "b3bc887c-3ebe-4e2c-ac66-e992955b5ccb",
   "metadata": {},
   "source": [
    "### **Array NumPy**"
   ]
  },
  {
   "cell_type": "markdown",
   "id": "9f2d5f4c-1ea1-40cd-9ab1-6ffe38710a4d",
   "metadata": {},
   "source": [
    "Os Arrays do NumPy são usados para armazenar dados homogêneos, ou seja, todos do mesmo tipo, de tamanho fixo e em ordem sequencial na memória.\n",
    "\n",
    "Estes vetores facilitam operações matemáticas e outras que envolvem grandes quantidades de dados, pois tais operações são executadas de forma significativamente mais eficiente e com bem menos código do que usando formas tradicionais com métodos e funcionalidades nativas do Python.\n",
    "\n",
    "Sendo assim, Arrays do NumPy são típicamente mais utilizados para:\n",
    " - Criar vetores n-dimensionais;\n",
    " - operações inteligentes com seus elementos;\n",
    " - tarefas que envolvam computação e operação de matrizes;\n",
    " - projetos utilizando grandes quantidades de dados onde a velocidade e desempenho sejam de grande importância.\n",
    "\n",
    "Porém, assim como os outros tipos, Arrays do NumPy também possuem algumas restrições, como:\n",
    " - Todos os elementos devem ser do mesmo tipo"
   ]
  },
  {
   "cell_type": "markdown",
   "id": "d591f6ef-7d11-4cce-992f-d7f310e1b291",
   "metadata": {},
   "source": [
    "#### **Exemplo de Aplicação**"
   ]
  },
  {
   "cell_type": "code",
   "execution_count": 11,
   "id": "714b6324-6a8a-49ee-bcbf-a59929ac0eb1",
   "metadata": {},
   "outputs": [
    {
     "data": {
      "text/plain": [
       "array([17, 18, 19])"
      ]
     },
     "execution_count": 11,
     "metadata": {},
     "output_type": "execute_result"
    }
   ],
   "source": [
    "# Simples exemplo de aplicacao onde nao seria possivel com outros tipos\n",
    "um_array = np.array([7, 8, 9])\n",
    "um_array + 10"
   ]
  },
  {
   "cell_type": "markdown",
   "id": "f2bd98eb-0f5b-420f-ac80-1b76bf48b496",
   "metadata": {},
   "source": [
    "---"
   ]
  },
  {
   "cell_type": "markdown",
   "id": "eef794b8",
   "metadata": {},
   "source": [
    "<div class=\"alert alert-block alert-info\" style=\"color:#20484d;\">\n",
    "    <b>4.</b> Forme a matriz <br/>\n",
    "    &emsp;[[1,  6, 11], <br/>\n",
    "    &emsp; [2,  7, 12], <br/>\n",
    "    &emsp; [3,  8, 13], <br/>\n",
    "    &emsp; [4,  9, 14], <br/>\n",
    "    &emsp; [5, 10, 15]] <br/>\n",
    "    &emsp; usando lista e <i>array</i> Numpy.\n",
    "</div>"
   ]
  },
  {
   "cell_type": "markdown",
   "id": "75bf12af-21c2-467d-a71d-48b8c1d6b096",
   "metadata": {},
   "source": [
    "**Usando Lista**"
   ]
  },
  {
   "cell_type": "code",
   "execution_count": 12,
   "id": "ac3bf5e5-e42d-4f8b-836b-a87120fa5fe0",
   "metadata": {},
   "outputs": [
    {
     "data": {
      "text/plain": [
       "array([[ 1,  6, 11],\n",
       "       [ 2,  7, 12],\n",
       "       [ 3,  8, 13],\n",
       "       [ 4,  9, 14],\n",
       "       [ 5, 10, 15]])"
      ]
     },
     "execution_count": 12,
     "metadata": {},
     "output_type": "execute_result"
    }
   ],
   "source": [
    "q4_matriz_py = []\n",
    "\n",
    "for lin in range(5):\n",
    "    q4_matriz_py.append([])\n",
    "    for col in range(1, 16, 5):\n",
    "        q4_matriz_py[lin].append(col+lin)\n",
    "\n",
    "np.array(q4_matriz_py) # Utilizando NumPy apenas para imprimir \"bunitin\""
   ]
  },
  {
   "cell_type": "markdown",
   "id": "1d6d3052-8a5f-4f34-90d9-75822177444c",
   "metadata": {},
   "source": [
    " "
   ]
  },
  {
   "cell_type": "markdown",
   "id": "eaa5f04a-e7d0-4bab-b66f-79e2084028ce",
   "metadata": {},
   "source": [
    "**Usando Array NumPy**"
   ]
  },
  {
   "cell_type": "code",
   "execution_count": 13,
   "id": "68882228-5d4e-4f5e-b32c-4d2bb4ebe229",
   "metadata": {},
   "outputs": [
    {
     "data": {
      "text/plain": [
       "array([[ 1,  6, 11],\n",
       "       [ 2,  7, 12],\n",
       "       [ 3,  8, 13],\n",
       "       [ 4,  9, 14],\n",
       "       [ 5, 10, 15]])"
      ]
     },
     "execution_count": 13,
     "metadata": {},
     "output_type": "execute_result"
    }
   ],
   "source": [
    "q4_matriz_np = [np.arange(x+1, x+12, 5) for x in range(5)]\n",
    "\n",
    "np.array(q4_matriz_np) # Utilizando NumPy apenas para imprimir \"bunitin\""
   ]
  },
  {
   "cell_type": "markdown",
   "id": "3021afa3-5d9a-4036-b713-59b0bf15c3ad",
   "metadata": {},
   "source": [
    "---"
   ]
  },
  {
   "cell_type": "markdown",
   "id": "37ac4d27",
   "metadata": {},
   "source": [
    "<div class=\"alert alert-block alert-info\" style=\"color:#20484d;\">\n",
    "    <b>5.</b> Usando numpy, crie:\n",
    "</div>"
   ]
  },
  {
   "cell_type": "markdown",
   "id": "6f87b4b3-bdfe-4bb6-9238-6383196dfa0c",
   "metadata": {},
   "source": [
    "<div class=\"alert alert-block alert-info\" style=\"color:#20484d;\">\n",
    "    <b>5. a)</b> um vetor de 10 elementos entre 1 e 20\n",
    "</div>"
   ]
  },
  {
   "cell_type": "code",
   "execution_count": 14,
   "id": "8b700e43-b482-4319-9c93-9010ade63833",
   "metadata": {},
   "outputs": [
    {
     "data": {
      "text/plain": [
       "array([ 1.        ,  3.11111111,  5.22222222,  7.33333333,  9.44444444,\n",
       "       11.55555556, 13.66666667, 15.77777778, 17.88888889, 20.        ])"
      ]
     },
     "execution_count": 14,
     "metadata": {},
     "output_type": "execute_result"
    }
   ],
   "source": [
    "np.linspace(1,20,10)"
   ]
  },
  {
   "cell_type": "markdown",
   "id": "532bc746-9da9-48e5-81b4-53c06572f73c",
   "metadata": {},
   "source": [
    "<div class=\"alert alert-block alert-info\" style=\"color:#20484d;\">\n",
    "    <b>5. b)</b> um vetor entre 1 e 20, com passo de 2\n",
    "</div>"
   ]
  },
  {
   "cell_type": "code",
   "execution_count": 15,
   "id": "c1b2b965-e36e-425c-af16-e0bf888d792b",
   "metadata": {},
   "outputs": [
    {
     "data": {
      "text/plain": [
       "array([ 1,  3,  5,  7,  9, 11, 13, 15, 17, 19])"
      ]
     },
     "execution_count": 15,
     "metadata": {},
     "output_type": "execute_result"
    }
   ],
   "source": [
    "np.arange(1, 20, 2)"
   ]
  },
  {
   "cell_type": "markdown",
   "id": "0f6ae2c7-4add-4ff0-b310-a24b1ed46ff3",
   "metadata": {},
   "source": [
    "<div class=\"alert alert-block alert-info\" style=\"color:#20484d;\">\n",
    "    <b>5. c)</b> uma matriz $3 \\times 3$ cujos elementos da diagonal sejam o vetor $[1,2,3]$ e os demais sejam todos $0$\n",
    "</div>"
   ]
  },
  {
   "cell_type": "code",
   "execution_count": 16,
   "id": "9156cd4d-40cb-4b73-96ad-3425a42fe9b5",
   "metadata": {},
   "outputs": [
    {
     "data": {
      "text/plain": [
       "array([[1, 0, 0],\n",
       "       [0, 2, 0],\n",
       "       [0, 0, 3]])"
      ]
     },
     "execution_count": 16,
     "metadata": {},
     "output_type": "execute_result"
    }
   ],
   "source": [
    "np.diag([1,2,3])"
   ]
  },
  {
   "cell_type": "markdown",
   "id": "591bb8f2-4405-49dd-a637-3d7e0600c8aa",
   "metadata": {},
   "source": [
    "---"
   ]
  },
  {
   "cell_type": "markdown",
   "id": "09972883-ffbe-49a6-9a32-8388ef05b5ed",
   "metadata": {},
   "source": [
    "<div class=\"alert alert-block alert-info\" style=\"color:#20484d;\">\n",
    "    <b>6.1</b> Considere a lista $[\\text{-2, 4., '7', 9}]$ e crie um array Numpy a partir dessta lista.\n",
    "</div>"
   ]
  },
  {
   "cell_type": "code",
   "execution_count": 17,
   "id": "cc775bdc-5f02-48e5-a532-a7a10b3dbdd1",
   "metadata": {},
   "outputs": [
    {
     "data": {
      "text/plain": [
       "array(['-2', '4.0', '7', '9'], dtype='<U32')"
      ]
     },
     "execution_count": 17,
     "metadata": {},
     "output_type": "execute_result"
    }
   ],
   "source": [
    "np.array([-2,4.,'7',9])"
   ]
  },
  {
   "cell_type": "markdown",
   "id": "9b66dd92-3420-4872-8366-e2be8a93e1e7",
   "metadata": {},
   "source": [
    "<div class=\"alert alert-block alert-info\" style=\"color:#20484d;\">\n",
    "    <b>6.2</b> Houve uma mudança no tipo de vários elementos. Explique com suas palavras porque isso aconteceu.\n",
    "</div>"
   ]
  },
  {
   "cell_type": "markdown",
   "id": "cdaeade1-8c49-47c9-8fcd-35d4a16ef1d5",
   "metadata": {},
   "source": [
    "Isso acontece pois os tipos de dados dos Arrays NumPy possuem um tipo de \"hierarquia\", onde um dado do tipo String  possui maior precedência que floats e integers, por exemplo, que é o que aconteceu neste caso.\n",
    "\n",
    "O NumPy efetuou um upcasting em todos os outros elementos baseado no elemento com tipo de maior significância, ou seja, o tipo string do elemento da posição 2 (`'7'`)."
   ]
  },
  {
   "cell_type": "markdown",
   "id": "c31c2bc9-03b9-4288-82a6-b687d924101d",
   "metadata": {},
   "source": [
    "<div class=\"alert alert-block alert-info\" style=\"color:#20484d;\">\n",
    "    <b>6.3</b> Se o elemento '7' for escrito como inteiro, o que muda na saída e por que?\n",
    "</div>"
   ]
  },
  {
   "cell_type": "markdown",
   "id": "6a441d43-e4d6-4057-a486-33ea17bef307",
   "metadata": {},
   "source": [
    "Neste caso, o upcasting seria feito baseado no tipo do elemento da posição 1 (`4.`) que é float, e possui maior precedência em relação aos outros, que são do tipo inteiro.\n",
    "\n",
    "Então todos os outros elementos passariam a ser igualmente do tipo float."
   ]
  },
  {
   "cell_type": "code",
   "execution_count": 18,
   "id": "9db582b6-9516-4dcd-95ad-f4afe528f683",
   "metadata": {},
   "outputs": [
    {
     "data": {
      "text/plain": [
       "array([-2.,  4.,  7.,  9.])"
      ]
     },
     "execution_count": 18,
     "metadata": {},
     "output_type": "execute_result"
    }
   ],
   "source": [
    "np.array([-2,4.,7,9])"
   ]
  },
  {
   "cell_type": "markdown",
   "id": "030af2c4-dc6f-45f4-8744-abe8c3dd5d4f",
   "metadata": {},
   "source": [
    "---"
   ]
  },
  {
   "cell_type": "markdown",
   "id": "2ecc28be-9f87-4000-a0e6-664becef1700",
   "metadata": {},
   "source": [
    "<div class=\"alert alert-block alert-info\" style=\"color:#20484d;\">\n",
    "    <b>7.</b> Crie um vetor A com valores variando de 10 à 49, um vetor B variando de 1 à 39 e um vetor C de 10 à 20...\n",
    "</div>"
   ]
  },
  {
   "cell_type": "code",
   "execution_count": 19,
   "id": "072557bf-8ce8-4061-9831-6946cb78c944",
   "metadata": {},
   "outputs": [
    {
     "data": {
      "text/plain": [
       "array([10.        , 12.78571429, 15.57142857, 18.35714286, 21.14285714,\n",
       "       23.92857143, 26.71428571, 29.5       , 32.28571429, 35.07142857,\n",
       "       37.85714286, 40.64285714, 43.42857143, 46.21428571, 49.        ])"
      ]
     },
     "execution_count": 19,
     "metadata": {},
     "output_type": "execute_result"
    }
   ],
   "source": [
    "A = np.linspace(10, 49, 15)\n",
    "A"
   ]
  },
  {
   "cell_type": "code",
   "execution_count": 20,
   "id": "28749496-f33f-4ba0-9b10-0ef5086a05af",
   "metadata": {},
   "outputs": [
    {
     "data": {
      "text/plain": [
       "array([ 1.        ,  3.71428571,  6.42857143,  9.14285714, 11.85714286,\n",
       "       14.57142857, 17.28571429, 20.        , 22.71428571, 25.42857143,\n",
       "       28.14285714, 30.85714286, 33.57142857, 36.28571429, 39.        ])"
      ]
     },
     "execution_count": 20,
     "metadata": {},
     "output_type": "execute_result"
    }
   ],
   "source": [
    "B = np.linspace(1, 39, 15)\n",
    "B"
   ]
  },
  {
   "cell_type": "code",
   "execution_count": 21,
   "id": "97515c52-7ae4-45af-b8f0-cdf6aa7a751a",
   "metadata": {},
   "outputs": [
    {
     "data": {
      "text/plain": [
       "array([10, 11, 12, 13, 14, 15, 16, 17, 18, 19])"
      ]
     },
     "execution_count": 21,
     "metadata": {},
     "output_type": "execute_result"
    }
   ],
   "source": [
    "C = np.arange(10, 20)\n",
    "C"
   ]
  },
  {
   "cell_type": "markdown",
   "id": "00d3a84a-323b-4b6e-b51c-c8a3825b3f57",
   "metadata": {},
   "source": [
    "<div class=\"alert alert-block alert-info\" style=\"color:#20484d;\">\n",
    "    ...Então realize e comente a saída das seguintes operações:\n",
    "</div>"
   ]
  },
  {
   "cell_type": "markdown",
   "id": "46c1f035-3cb8-48c2-9842-d861de338897",
   "metadata": {},
   "source": [
    "<div class=\"alert alert-block alert-info\" style=\"color:#20484d;\">\n",
    "    <b>7. a)</b> $A + B$\n",
    "</div>"
   ]
  },
  {
   "cell_type": "code",
   "execution_count": 22,
   "id": "6e87039f-cf3c-4b33-bfae-c898e8279ef6",
   "metadata": {
    "tags": []
   },
   "outputs": [
    {
     "data": {
      "text/plain": [
       "array([11. , 16.5, 22. , 27.5, 33. , 38.5, 44. , 49.5, 55. , 60.5, 66. ,\n",
       "       71.5, 77. , 82.5, 88. ])"
      ]
     },
     "execution_count": 22,
     "metadata": {},
     "output_type": "execute_result"
    }
   ],
   "source": [
    "A + B"
   ]
  },
  {
   "cell_type": "markdown",
   "id": "6c90d385-49b8-4f1e-a4d7-08caaad92b32",
   "metadata": {},
   "source": [
    "O NumPy somou elemento por elemento de cada vetor de forma explícita utilizando o *broadcasting* e a vetorização com o *loop for* a nível da  linguagem C. \\\n",
    "Coisa que não seria possível utilizando listas comuns do Python."
   ]
  },
  {
   "cell_type": "markdown",
   "id": "13392bfc-e28f-4fa3-8727-4d6e7649b1ab",
   "metadata": {},
   "source": [
    " "
   ]
  },
  {
   "cell_type": "markdown",
   "id": "6362f2e7-f477-408d-8227-d73c89992480",
   "metadata": {},
   "source": [
    "<div class=\"alert alert-block alert-info\" style=\"color:#20484d;\">\n",
    "    <b>7. b)</b> $A \\cdot B$\n",
    "</div>"
   ]
  },
  {
   "cell_type": "code",
   "execution_count": 23,
   "id": "73385d7c-0ab8-4b8e-8fff-c783d89caa5e",
   "metadata": {},
   "outputs": [
    {
     "data": {
      "text/plain": [
       "array([  10.        ,   47.48979592,  100.10204082,  167.83673469,\n",
       "        250.69387755,  348.67346939,  461.7755102 ,  590.        ,\n",
       "        733.34693878,  891.81632653, 1065.40816327, 1254.12244898,\n",
       "       1457.95918367, 1676.91836735, 1911.        ])"
      ]
     },
     "execution_count": 23,
     "metadata": {},
     "output_type": "execute_result"
    }
   ],
   "source": [
    "A * B"
   ]
  },
  {
   "cell_type": "markdown",
   "id": "c2e6682d-3d3a-4bf1-b53e-1cb68081521d",
   "metadata": {},
   "source": [
    "Assim como na operação anterior, o NumPy multiplicou cada um dos elementos de um vetor com o do outro na mesma posição."
   ]
  },
  {
   "cell_type": "markdown",
   "id": "d5a8d480-253e-47c3-b7d5-9a803ebaf57c",
   "metadata": {},
   "source": [
    " "
   ]
  },
  {
   "cell_type": "markdown",
   "id": "4b32b94f-8bf4-4950-86a1-62bfcad2c9f7",
   "metadata": {
    "tags": []
   },
   "source": [
    "<div class=\"alert alert-block alert-info\" style=\"color:#20484d;\">\n",
    "    <b>7. c)</b> $A + C$\n",
    "</div>"
   ]
  },
  {
   "cell_type": "code",
   "execution_count": 24,
   "id": "df3a959b-e649-482e-b196-8c160b90dcf2",
   "metadata": {},
   "outputs": [
    {
     "name": "stdout",
     "output_type": "stream",
     "text": [
      "operands could not be broadcast together with shapes (15,) (10,) \n"
     ]
    }
   ],
   "source": [
    "try:\n",
    "    A + C\n",
    "except ValueError as err:\n",
    "    print(str(err))"
   ]
  },
  {
   "cell_type": "markdown",
   "id": "c0453aa7-482b-430d-a7a0-14d495775f4f",
   "metadata": {},
   "source": [
    "Aqui é retornado um erro, pois, propositalmente, gerei Arrays de shapes diferentes para produzir o erro de *broadcasting*, onde quando não é possível Arrays de tamanhos/formatos diferentes realizarem operações entre si."
   ]
  },
  {
   "cell_type": "markdown",
   "id": "982afeaa-2fea-49de-bb54-9a32d170047d",
   "metadata": {},
   "source": [
    " "
   ]
  },
  {
   "cell_type": "markdown",
   "id": "33b71fdd-d670-429e-b84b-917d84fdc14c",
   "metadata": {},
   "source": [
    "<div class=\"alert alert-block alert-info\" style=\"color:#20484d;\">\n",
    "    <b>7. d)</b> $B \\cdot C$\n",
    "</div>"
   ]
  },
  {
   "cell_type": "code",
   "execution_count": 25,
   "id": "30b1ffe3-503c-4a9f-8cac-f6fc0d592bcc",
   "metadata": {},
   "outputs": [
    {
     "name": "stdout",
     "output_type": "stream",
     "text": [
      "operands could not be broadcast together with shapes (15,) (10,) \n"
     ]
    }
   ],
   "source": [
    "try:\n",
    "    B * C\n",
    "except ValueError as err:\n",
    "    print(str(err))"
   ]
  },
  {
   "cell_type": "markdown",
   "id": "dc9e7041-027d-4db0-8365-13c55798e20a",
   "metadata": {},
   "source": [
    "Mesmo caso do anterior."
   ]
  },
  {
   "cell_type": "markdown",
   "id": "047896dd-6dd3-4ed0-a152-c2c3b7b1387f",
   "metadata": {},
   "source": [
    " "
   ]
  },
  {
   "cell_type": "markdown",
   "id": "44db3859-10db-4c6c-9f98-32f792405c37",
   "metadata": {},
   "source": [
    "---"
   ]
  },
  {
   "cell_type": "markdown",
   "id": "388c664c-965f-443e-8d7a-d35058fe4338",
   "metadata": {},
   "source": [
    "<div class=\"alert alert-block alert-info\" style=\"color:#20484d;\">\n",
    "    <b>8.</b> Crie uma matriz $3 \\times 3$, com elementos variando de $0$ à $8$.\n",
    "</div>"
   ]
  },
  {
   "cell_type": "code",
   "execution_count": 26,
   "id": "14360297-23a5-4068-a8b8-ac1e2c7fb81f",
   "metadata": {},
   "outputs": [
    {
     "data": {
      "text/plain": [
       "array([[0, 1, 2],\n",
       "       [3, 4, 5],\n",
       "       [6, 7, 8]])"
      ]
     },
     "execution_count": 26,
     "metadata": {},
     "output_type": "execute_result"
    }
   ],
   "source": [
    "np.arange(0, 9).reshape(3,3)"
   ]
  },
  {
   "cell_type": "markdown",
   "id": "d6caebd8-7a7a-40b0-86e8-914ec6ad3c8a",
   "metadata": {},
   "source": [
    "---"
   ]
  },
  {
   "cell_type": "markdown",
   "id": "d7dc192f-a6e2-4410-b0fa-a00c8117156d",
   "metadata": {},
   "source": [
    "<div class=\"alert alert-block alert-info\" style=\"color:#20484d;\">\n",
    "    <b>9.</b> Crie uma matriz $3 \\times 3 \\times 3$, com elementos aleatórios.\n",
    "</div>"
   ]
  },
  {
   "cell_type": "code",
   "execution_count": 27,
   "id": "3f408c3f-623f-4c40-bdde-0d1d74b7e2ab",
   "metadata": {},
   "outputs": [
    {
     "data": {
      "text/plain": [
       "array([[[0.87287314, 0.06092811, 0.84022733],\n",
       "        [0.77724233, 0.10145638, 0.8817559 ],\n",
       "        [0.77801462, 0.29607061, 0.89979368]],\n",
       "\n",
       "       [[0.06131183, 0.03891409, 0.93701012],\n",
       "        [0.78423475, 0.78309379, 0.30423756],\n",
       "        [0.8926094 , 0.27791725, 0.64310604]],\n",
       "\n",
       "       [[0.84435383, 0.2202773 , 0.99664954],\n",
       "        [0.68702229, 0.6169468 , 0.03540832],\n",
       "        [0.24638421, 0.83949757, 0.59414099]]])"
      ]
     },
     "execution_count": 27,
     "metadata": {},
     "output_type": "execute_result"
    }
   ],
   "source": [
    "np.random.random((3, 3, 3))"
   ]
  },
  {
   "cell_type": "markdown",
   "id": "46acfcaa-4ab3-4f2b-a9c8-9b7a314a9492",
   "metadata": {},
   "source": [
    "---"
   ]
  },
  {
   "cell_type": "markdown",
   "id": "f851b2aa-d942-4fa0-8069-e848cb7f469c",
   "metadata": {},
   "source": [
    "<div class=\"alert alert-block alert-info\" style=\"color:#20484d;\">\n",
    "    <b>10.</b> Usando a função $sin$ do numpy, e a função $plot$ da matplotlib, módulo de geração de gráficos, plote um gráfico contendo os dois primeiros períodos de uma senóide.\n",
    "</div>"
   ]
  },
  {
   "cell_type": "code",
   "execution_count": 28,
   "id": "0bcacc80-0cbf-47b6-8c19-72d7e39321de",
   "metadata": {},
   "outputs": [],
   "source": [
    "import matplotlib.pyplot as plt"
   ]
  },
  {
   "cell_type": "code",
   "execution_count": 29,
   "id": "9400afc5-32bc-4b71-a1f0-54a863cff2f7",
   "metadata": {},
   "outputs": [],
   "source": [
    "%matplotlib inline"
   ]
  },
  {
   "cell_type": "code",
   "execution_count": 30,
   "id": "40d50c5d-d314-4226-a203-03913ff2514c",
   "metadata": {},
   "outputs": [],
   "source": [
    "x = np.arange(0, 4*np.pi, 0.001)\n",
    "y = np.sin(x)"
   ]
  },
  {
   "cell_type": "code",
   "execution_count": 31,
   "id": "108093f6-0c81-41ce-85c7-e7e05e43b995",
   "metadata": {},
   "outputs": [
    {
     "data": {
      "image/png": "[encoded data removed]",
      "text/plain": [
       "<Figure size 432x288 with 1 Axes>"
      ]
     },
     "metadata": {
      "needs_background": "light"
     },
     "output_type": "display_data"
    }
   ],
   "source": [
    "plt.title(\"Questão 10 - Dois primeiros periodos de uma senoide\")\n",
    "plt.xlabel(\"X\")\n",
    "plt.ylabel(\"Y\")\n",
    "plt.plot(x, y, 'b', label=\"Senoide\")\n",
    "plt.legend()\n",
    "plt.grid()\n",
    "plt.show()"
   ]
  }
 ],
 "metadata": {
  "kernelspec": {
   "display_name": "Python 3",
   "language": "python",
   "name": "python3"
  },
  "language_info": {
   "codemirror_mode": {
    "name": "ipython",
    "version": 3
   },
   "file_extension": ".py",
   "mimetype": "text/x-python",
   "name": "python",
   "nbconvert_exporter": "python",
   "pygments_lexer": "ipython3",
   "version": "3.8.8"
  }
 },
 "nbformat": 4,
 "nbformat_minor": 5
}
