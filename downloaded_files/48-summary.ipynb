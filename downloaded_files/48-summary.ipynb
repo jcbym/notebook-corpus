{
  "nbformat": 4,
  "nbformat_minor": 0,
  "metadata": {
    "colab": {
      "name": "cos_similarity_tfidfvectorizer.ipynb",
      "provenance": [],
      "collapsed_sections": [],
      "mount_file_id": "1sGGqBzAJDUp8fNT-3O_UNHVKCL5wBTqh",
      "authorship_tag": "ABX9TyNuGujFYwL90n+wWaViHL7K",
      "include_colab_link": true
    },
    "kernelspec": {
      "name": "python3",
      "display_name": "Python 3"
    },
    "language_info": {
      "name": "python"
    }
  },
  "cells": [
    {
      "cell_type": "markdown",
      "metadata": {
        "id": "view-in-github",
        "colab_type": "text"
      },
      "source": [
        "<a href=\"https://colab.research.google.com/github/ginttone/summary/blob/master/cos_similarity_tfidfvectorizer.ipynb\" target=\"_parent\"><img src=\"https://colab.research.google.com/assets/colab-badge.svg\" alt=\"Open In Colab\"/></a>"
      ]
    },
    {
      "cell_type": "markdown",
      "metadata": {
        "id": "n7krLioBmv6_"
      },
      "source": [
        "# word to back\n",
        "\n",
        "씨보우 - 워드투백 - 엔그램"
      ]
    },
    {
      "cell_type": "markdown",
      "metadata": {
        "id": "vpJI3IjonAnk"
      },
      "source": [
        "## [Similarity(관계성 확인)](https://wikidocs.net/24603)\n",
        "```\n",
        "      바나나  사과  저는  좋아요\n",
        "문서1   0      1     1     1\n",
        "문서2   1      0     1     1\n",
        "문서3   2      0     2     2\n",
        "\n",
        "```\n",
        "\n",
        "토크나이저 -> 군집화 -> 분류체계 -> 긍정부정 뽑아냄 : 걸러내는 방법으로 사용\n"
      ]
    },
    {
      "cell_type": "code",
      "metadata": {
        "id": "tKZeTxCjjseJ"
      },
      "source": [
        "from numpy import dot\n",
        "from numpy.linalg import norm\n",
        "import numpy as np\n",
        "def cos_sim(A, B):\n",
        "       return dot(A, B)/(norm(A)*norm(B))"
      ],
      "execution_count": 19,
      "outputs": []
    },
    {
      "cell_type": "code",
      "metadata": {
        "id": "g7wXH1sbobH8"
      },
      "source": [
        "doc1= np.array([0 , 1 , 1 , 1])\n",
        "doc2= np.array([1 , 0 , 1 , 1])\n",
        "doc3= np.array([2 , 0 , 2 , 2])"
      ],
      "execution_count": 20,
      "outputs": []
    },
    {
      "cell_type": "code",
      "metadata": {
        "colab": {
          "base_uri": "https://localhost:8080/"
        },
        "id": "_JSlvCnQqFxq",
        "outputId": "1e821351-5fce-48c4-8a41-8fb1493e4d92"
      },
      "source": [
        "cos_sim(doc1, doc2)"
      ],
      "execution_count": 21,
      "outputs": [
        {
          "output_type": "execute_result",
          "data": {
            "text/plain": [
              "0.6666666666666667"
            ]
          },
          "metadata": {},
          "execution_count": 21
        }
      ]
    },
    {
      "cell_type": "code",
      "metadata": {
        "colab": {
          "base_uri": "https://localhost:8080/"
        },
        "id": "30fDTCTGqIPe",
        "outputId": "080a2812-adbd-44b0-a326-124970c601dd"
      },
      "source": [
        "cos_sim(doc1, doc3)"
      ],
      "execution_count": 22,
      "outputs": [
        {
          "output_type": "execute_result",
          "data": {
            "text/plain": [
              "0.6666666666666667"
            ]
          },
          "metadata": {},
          "execution_count": 22
        }
      ]
    },
    {
      "cell_type": "code",
      "metadata": {
        "colab": {
          "base_uri": "https://localhost:8080/"
        },
        "id": "CfB7EDZKqOEg",
        "outputId": "c66e0528-e337-4701-c975-69b30fd4130b"
      },
      "source": [
        "cos_sim(doc2, doc3)"
      ],
      "execution_count": 23,
      "outputs": [
        {
          "output_type": "execute_result",
          "data": {
            "text/plain": [
              "1.0000000000000002"
            ]
          },
          "metadata": {},
          "execution_count": 23
        }
      ]
    },
    {
      "cell_type": "markdown",
      "metadata": {
        "id": "ek_nQ6ONtg_d"
      },
      "source": [
        "# [네이버 API사용](https://developers.naver.com/main/)\n",
        "```\n",
        "1. 공공 API\n",
        "  API공통 가이드\n",
        "    샘플코드 \n",
        "      로그인방식 API호출 예 \n",
        "      비로그인 방식 API호출 예\n",
        "  서비스 API\n",
        "    검색\n",
        "     블로그\n",
        "      오픈 API이용 신청\n",
        "        Application\n",
        "         개요 : Client ID(n5q55BwQT2B4ZSaQuxl6, Client Secret(VnlvNdrwph)\n",
        "         API설정 : 내게 맞는 key설정\n",
        "           사용 API(검색)\n",
        "         Playground(beta): \n",
        "           API선택(Search-기본검색)\n",
        "           API URL(https://openapi.naver.com/v1/search/{serviceid})\n",
        "           serviceid(*) (blog)\n",
        "           query(*) (검색어)\n",
        "           display (검색결과 출력수)\n",
        "           start (검색시작위치)\n",
        "           sort(유사도Similarity)\n",
        "           filter(이미지 링크도 가져올 수 있음)\n",
        "\n",
        "           API호출 \n",
        "            API 요청\n",
        "            API 호출 결과\n",
        "\n",
        "2. 스크레핑\n",
        "```"
      ]
    },
    {
      "cell_type": "markdown",
      "metadata": {
        "id": "vP4QMat-i9RC"
      },
      "source": [
        "# TfidfVectorizer\n",
        "\n",
        "TF-IDF(Term Frequency - Inverse Document Frequency)는 정보 검색과 텍스트 마이닝에서 이용하는 가중치로, 여러 문서로 이루어진 문서군이 있을 때 어떤 단어가 특정 문서 내에서 얼마나 중요한 것인지를 나타내는 통계적 수치이다. 문서의 핵심어를 추출하거나, 검색 엔진에서 검색 결과의 순위를 결정하거나, 문서들 사이의 비슷한 정도를 구하는 등의 용도로 사용할 수 있다.\n",
        "\n",
        "TF(단어 빈도, term frequency)는 특정한 단어가 문서 내에 얼마나 자주 등장하는지를 나타내는 값으로, 이 값이 높을수록 문서에서 중요하다고 생각할 수 있다. 하지만 단어 자체가 문서군 내에서 자주 사용 되는 경우, 이것은 그 단어가 흔하게 등장한다는 것을 의미한다. 이것을 DF(문서 빈도, document frequency)라고 하며, 이 값의 역수를 IDF(역문서 빈도, inverse document frequency)라고 한다. TF-IDF는 TF와 IDF를 곱한 값이다.\n",
        "\n",
        "[출처]위키백과"
      ]
    },
    {
      "cell_type": "code",
      "metadata": {
        "id": "Y3XsPcWC2EJy"
      },
      "source": [
        "from sklearn.feature_extraction.text import TfidfVectorizer"
      ],
      "execution_count": 24,
      "outputs": []
    },
    {
      "cell_type": "code",
      "metadata": {
        "id": "DEXo9d9ai74H"
      },
      "source": [
        "corpus = [\n",
        "    'you know I want your love',\n",
        "    'I like you',\n",
        "    'what should I do ',    \n",
        "]"
      ],
      "execution_count": 25,
      "outputs": []
    },
    {
      "cell_type": "code",
      "metadata": {
        "colab": {
          "base_uri": "https://localhost:8080/"
        },
        "id": "6NxpjwAQjYNS",
        "outputId": "5948035e-4419-4f78-9cde-4ee438d68011"
      },
      "source": [
        "tfidf = TfidfVectorizer()\n",
        "tfidf.fit_transform(corpus).toarray()"
      ],
      "execution_count": 26,
      "outputs": [
        {
          "output_type": "execute_result",
          "data": {
            "text/plain": [
              "array([[0.        , 0.46735098, 0.        , 0.46735098, 0.        ,\n",
              "        0.46735098, 0.        , 0.35543247, 0.46735098],\n",
              "       [0.        , 0.        , 0.79596054, 0.        , 0.        ,\n",
              "        0.        , 0.        , 0.60534851, 0.        ],\n",
              "       [0.57735027, 0.        , 0.        , 0.        , 0.57735027,\n",
              "        0.        , 0.57735027, 0.        , 0.        ]])"
            ]
          },
          "metadata": {},
          "execution_count": 26
        }
      ]
    },
    {
      "cell_type": "code",
      "metadata": {
        "colab": {
          "base_uri": "https://localhost:8080/"
        },
        "id": "dFb-S2qDjw_1",
        "outputId": "db3ffba2-99c4-4b35-c641-1bcff55f0981"
      },
      "source": [
        "print(tfidf.vocabulary_)"
      ],
      "execution_count": 27,
      "outputs": [
        {
          "output_type": "stream",
          "text": [
            "{'you': 7, 'know': 1, 'want': 5, 'your': 8, 'love': 3, 'like': 2, 'what': 6, 'should': 4, 'do': 0}\n"
          ],
          "name": "stdout"
        }
      ]
    },
    {
      "cell_type": "markdown",
      "metadata": {
        "id": "yWeQM8mAlb1j"
      },
      "source": [
        "## Recommanded with cos similarity\n",
        "\n",
        "tf-idf로 추천시스템 사용\n",
        "[kaggel-movies_metadata.csv](https://www.kaggle.com/rounakbanik/the-movies-dataset/version/7?select=movies_metadata.csv)"
      ]
    },
    {
      "cell_type": "code",
      "metadata": {
        "colab": {
          "base_uri": "https://localhost:8080/"
        },
        "id": "B2anyNkyj5Gz",
        "outputId": "3e89bf1c-607d-4005-b4a7-0e6cf271335b"
      },
      "source": [
        "!ls ./drive/MyDrive/Multi_test_deeplearning/movies_metadata.csv"
      ],
      "execution_count": 28,
      "outputs": [
        {
          "output_type": "stream",
          "text": [
            "./drive/MyDrive/Multi_test_deeplearning/movies_metadata.csv\n"
          ],
          "name": "stdout"
        }
      ]
    },
    {
      "cell_type": "code",
      "metadata": {
        "id": "HXt9TNnzmyuC"
      },
      "source": [
        "import pandas as pd"
      ],
      "execution_count": 29,
      "outputs": []
    },
    {
      "cell_type": "code",
      "metadata": {
        "colab": {
          "base_uri": "https://localhost:8080/"
        },
        "id": "kx9boqDYm2kg",
        "outputId": "6107b876-7a35-4dbd-fb11-285ba76cf6dc"
      },
      "source": [
        "df_data = pd.read_csv('./drive/MyDrive/Multi_test_deeplearning/movies_metadata.csv')"
      ],
      "execution_count": 32,
      "outputs": [
        {
          "output_type": "stream",
          "text": [
            "/usr/local/lib/python3.7/dist-packages/IPython/core/interactiveshell.py:2718: DtypeWarning: Columns (10) have mixed types.Specify dtype option on import or set low_memory=False.\n",
            "  interactivity=interactivity, compiler=compiler, result=result)\n"
          ],
          "name": "stderr"
        }
      ]
    },
    {
      "cell_type": "code",
      "metadata": {
        "colab": {
          "base_uri": "https://localhost:8080/"
        },
        "id": "5RNOtuoPnEEP",
        "outputId": "f3012fbd-27a0-44d9-db7b-869303b73390"
      },
      "source": [
        "df_data.columns"
      ],
      "execution_count": 33,
      "outputs": [
        {
          "output_type": "execute_result",
          "data": {
            "text/plain": [
              "Index(['adult', 'belongs_to_collection', 'budget', 'genres', 'homepage', 'id',\n",
              "       'imdb_id', 'original_language', 'original_title', 'overview',\n",
              "       'popularity', 'poster_path', 'production_companies',\n",
              "       'production_countries', 'release_date', 'revenue', 'runtime',\n",
              "       'spoken_languages', 'status', 'tagline', 'title', 'video',\n",
              "       'vote_average', 'vote_count'],\n",
              "      dtype='object')"
            ]
          },
          "metadata": {},
          "execution_count": 33
        }
      ]
    },
    {
      "cell_type": "code",
      "metadata": {
        "id": "Y-kfA3hEnjFK"
      },
      "source": [
        "data = df_data.head(10000)"
      ],
      "execution_count": 35,
      "outputs": []
    },
    {
      "cell_type": "code",
      "metadata": {
        "id": "ncNusRUYnqk1"
      },
      "source": [
        "data = data.dropna()"
      ],
      "execution_count": 36,
      "outputs": []
    },
    {
      "cell_type": "code",
      "metadata": {
        "colab": {
          "base_uri": "https://localhost:8080/"
        },
        "id": "riMB-9Aen8-g",
        "outputId": "43650630-75f3-4343-ed5f-272180420702"
      },
      "source": [
        "data.info()"
      ],
      "execution_count": 37,
      "outputs": [
        {
          "output_type": "stream",
          "text": [
            "<class 'pandas.core.frame.DataFrame'>\n",
            "Int64Index: 158 entries, 9 to 9888\n",
            "Data columns (total 24 columns):\n",
            " #   Column                 Non-Null Count  Dtype  \n",
            "---  ------                 --------------  -----  \n",
            " 0   adult                  158 non-null    object \n",
            " 1   belongs_to_collection  158 non-null    object \n",
            " 2   budget                 158 non-null    object \n",
            " 3   genres                 158 non-null    object \n",
            " 4   homepage               158 non-null    object \n",
            " 5   id                     158 non-null    object \n",
            " 6   imdb_id                158 non-null    object \n",
            " 7   original_language      158 non-null    object \n",
            " 8   original_title         158 non-null    object \n",
            " 9   overview               158 non-null    object \n",
            " 10  popularity             158 non-null    object \n",
            " 11  poster_path            158 non-null    object \n",
            " 12  production_companies   158 non-null    object \n",
            " 13  production_countries   158 non-null    object \n",
            " 14  release_date           158 non-null    object \n",
            " 15  revenue                158 non-null    float64\n",
            " 16  runtime                158 non-null    float64\n",
            " 17  spoken_languages       158 non-null    object \n",
            " 18  status                 158 non-null    object \n",
            " 19  tagline                158 non-null    object \n",
            " 20  title                  158 non-null    object \n",
            " 21  video                  158 non-null    object \n",
            " 22  vote_average           158 non-null    float64\n",
            " 23  vote_count             158 non-null    float64\n",
            "dtypes: float64(4), object(20)\n",
            "memory usage: 30.9+ KB\n"
          ],
          "name": "stdout"
        }
      ]
    },
    {
      "cell_type": "code",
      "metadata": {
        "id": "F_cfVoWwoBtB"
      },
      "source": [
        "from sklearn.feature_extraction.text import TfidfVectorizer"
      ],
      "execution_count": 38,
      "outputs": []
    },
    {
      "cell_type": "code",
      "metadata": {
        "id": "Msvzo7v_oTpD"
      },
      "source": [
        "tfidf= TfidfVectorizer()"
      ],
      "execution_count": 39,
      "outputs": []
    },
    {
      "cell_type": "code",
      "metadata": {
        "id": "assFRtfbojle"
      },
      "source": [
        "tfidf_matrix = tfidf.fit_transform(data['overview'])"
      ],
      "execution_count": 40,
      "outputs": []
    },
    {
      "cell_type": "markdown",
      "metadata": {
        "id": "CFyzkZa7pLni"
      },
      "source": [
        "열 = 보케브러리 사이즈 같은 것 확인"
      ]
    },
    {
      "cell_type": "code",
      "metadata": {
        "colab": {
          "base_uri": "https://localhost:8080/"
        },
        "id": "BFtUqUafozLQ",
        "outputId": "f3b5b6e6-31b3-45ee-d688-3d9fc86c6c84"
      },
      "source": [
        "tfidf_matrix.shape"
      ],
      "execution_count": 43,
      "outputs": [
        {
          "output_type": "execute_result",
          "data": {
            "text/plain": [
              "(158, 2696)"
            ]
          },
          "metadata": {},
          "execution_count": 43
        }
      ]
    },
    {
      "cell_type": "code",
      "metadata": {
        "colab": {
          "base_uri": "https://localhost:8080/"
        },
        "id": "bIyHgAdNo5Ij",
        "outputId": "bdd3fb96-d9ba-437d-8c06-e3714e38ebab"
      },
      "source": [
        "len(tfidf.vocabulary_)"
      ],
      "execution_count": 46,
      "outputs": [
        {
          "output_type": "execute_result",
          "data": {
            "text/plain": [
              "2696"
            ]
          },
          "metadata": {},
          "execution_count": 46
        }
      ]
    },
    {
      "cell_type": "code",
      "metadata": {
        "colab": {
          "base_uri": "https://localhost:8080/"
        },
        "id": "57eW1fFnpDGF",
        "outputId": "1a646b12-534f-445f-e789-2271f2ff3159"
      },
      "source": [
        "type(tfidf_matrix)"
      ],
      "execution_count": 47,
      "outputs": [
        {
          "output_type": "execute_result",
          "data": {
            "text/plain": [
              "scipy.sparse.csr.csr_matrix"
            ]
          },
          "metadata": {},
          "execution_count": 47
        }
      ]
    },
    {
      "cell_type": "code",
      "metadata": {
        "colab": {
          "base_uri": "https://localhost:8080/"
        },
        "id": "ezIuOJRNpRjD",
        "outputId": "3c475bbc-9a1c-4997-e08e-20a7ecbea0bc"
      },
      "source": [
        "tfidf_matrix[4].toarray()"
      ],
      "execution_count": 49,
      "outputs": [
        {
          "output_type": "execute_result",
          "data": {
            "text/plain": [
              "array([[0., 0., 0., ..., 0., 0., 0.]])"
            ]
          },
          "metadata": {},
          "execution_count": 49
        }
      ]
    },
    {
      "cell_type": "markdown",
      "metadata": {
        "id": "XES1jL4ZqN9O"
      },
      "source": [
        "##  linear_kernel \n",
        "\n",
        "두 cos(코사인)의 각도를 자동으로 구해 sim(시밀러리티)비교해줌"
      ]
    },
    {
      "cell_type": "code",
      "metadata": {
        "id": "m29P1CYvpUrm"
      },
      "source": [
        "from sklearn.metrics.pairwise import linear_kernel"
      ],
      "execution_count": 51,
      "outputs": []
    },
    {
      "cell_type": "code",
      "metadata": {
        "colab": {
          "base_uri": "https://localhost:8080/"
        },
        "id": "gEpLEsIfqEcQ",
        "outputId": "02bde634-3392-4f9e-8018-9afd733e1bf1"
      },
      "source": [
        "cos_sim = linear_kernel(tfidf_matrix)\n",
        "type(cos_sim), cos_sim.shape"
      ],
      "execution_count": 54,
      "outputs": [
        {
          "output_type": "execute_result",
          "data": {
            "text/plain": [
              "(numpy.ndarray, (158, 158))"
            ]
          },
          "metadata": {},
          "execution_count": 54
        }
      ]
    },
    {
      "cell_type": "code",
      "metadata": {
        "colab": {
          "base_uri": "https://localhost:8080/"
        },
        "id": "imLVcZclqYKO",
        "outputId": "55c88052-57fc-465d-c314-5e7f08c7c6b0"
      },
      "source": [
        "cos_sim[3]"
      ],
      "execution_count": 55,
      "outputs": [
        {
          "output_type": "execute_result",
          "data": {
            "text/plain": [
              "array([0.03403894, 0.07378662, 0.0606532 , 1.        , 0.05231864,\n",
              "       0.05361942, 0.04305033, 0.01963748, 0.03302958, 0.04013632,\n",
              "       0.05650286, 0.04380791, 0.045455  , 0.0360105 , 0.07208718,\n",
              "       0.06037126, 0.02463999, 0.06438099, 0.0261279 , 0.03232211,\n",
              "       0.03084823, 0.04654037, 0.05100054, 0.02586476, 0.01778496,\n",
              "       0.05746612, 0.10967293, 0.0282976 , 0.04640804, 0.02406314,\n",
              "       0.0671682 , 0.03956612, 0.04875229, 0.04437252, 0.02699316,\n",
              "       0.02809418, 0.04223523, 0.02060186, 0.05070264, 0.03129839,\n",
              "       0.02382746, 0.03403162, 0.03612028, 0.0502291 , 0.04674237,\n",
              "       0.07158003, 0.02806686, 0.03066928, 0.07962729, 0.04691775,\n",
              "       0.00644533, 0.0481169 , 0.03853567, 0.03240614, 0.01586077,\n",
              "       0.02972285, 0.06138844, 0.02404479, 0.02269754, 0.03191292,\n",
              "       0.05483523, 0.03238852, 0.10369226, 0.01014625, 0.02365042,\n",
              "       0.07221074, 0.0937075 , 0.06614349, 0.06212896, 0.03717476,\n",
              "       0.03104298, 0.04467526, 0.04421634, 0.0348611 , 0.0419346 ,\n",
              "       0.04463273, 0.08416776, 0.02689952, 0.0765093 , 0.03427164,\n",
              "       0.05688173, 0.03798184, 0.06100084, 0.06977991, 0.043257  ,\n",
              "       0.06593067, 0.07318941, 0.03004147, 0.07785691, 0.03362121,\n",
              "       0.04905523, 0.05165596, 0.0530247 , 0.03135838, 0.03568706,\n",
              "       0.01777612, 0.02582292, 0.06439404, 0.09755842, 0.04048298,\n",
              "       0.02410179, 0.11799301, 0.02372764, 0.03365979, 0.0516431 ,\n",
              "       0.03419398, 0.05102216, 0.03686381, 0.05020573, 0.        ,\n",
              "       0.04703451, 0.06167647, 0.09303921, 0.05049593, 0.04349756,\n",
              "       0.06190237, 0.01970586, 0.0232032 , 0.04319589, 0.03768416,\n",
              "       0.01250471, 0.04833805, 0.03121207, 0.01953039, 0.03584489,\n",
              "       0.04046393, 0.04644173, 0.07827514, 0.06894843, 0.0402017 ,\n",
              "       0.04454245, 0.04634837, 0.07287341, 0.05707715, 0.03935795,\n",
              "       0.02696071, 0.03522189, 0.03972236, 0.04045747, 0.03815843,\n",
              "       0.04161958, 0.05359455, 0.0795967 , 0.04720775, 0.06361119,\n",
              "       0.03409284, 0.09568197, 0.03113103, 0.07496798, 0.06092952,\n",
              "       0.02241252, 0.03758525, 0.02565086, 0.06497691, 0.03866494,\n",
              "       0.09101481, 0.05321531, 0.05776599])"
            ]
          },
          "metadata": {},
          "execution_count": 55
        }
      ]
    },
    {
      "cell_type": "markdown",
      "metadata": {
        "id": "W3g5hnW3q7ef"
      },
      "source": [
        "## 특정값(어떠한 글자)을 cos_sim에 넣어 값을 구해보자"
      ]
    },
    {
      "cell_type": "code",
      "metadata": {
        "id": "KYrJewkbqzdR"
      },
      "source": [
        "indeces= pd.Series(data.index, index=data['title']).drop_duplicates()"
      ],
      "execution_count": 56,
      "outputs": []
    },
    {
      "cell_type": "code",
      "metadata": {
        "colab": {
          "base_uri": "https://localhost:8080/"
        },
        "id": "P2qaDZTfreDt",
        "outputId": "942266f1-3c37-4598-c591-10cee440ea27"
      },
      "source": [
        "indeces.head(5)"
      ],
      "execution_count": 57,
      "outputs": [
        {
          "output_type": "execute_result",
          "data": {
            "text/plain": [
              "title\n",
              "GoldenEye                                    9\n",
              "Friday                                      68\n",
              "From Dusk Till Dawn                         69\n",
              "Blue in the Face                           153\n",
              "Mighty Morphin Power Rangers: The Movie    178\n",
              "dtype: int64"
            ]
          },
          "metadata": {},
          "execution_count": 57
        }
      ]
    },
    {
      "cell_type": "code",
      "metadata": {
        "colab": {
          "base_uri": "https://localhost:8080/"
        },
        "id": "HUoYEDrSrgN1",
        "outputId": "b2c5615a-f3b5-439d-f005-c425e457cbca"
      },
      "source": [
        "indeces['Friday']"
      ],
      "execution_count": 58,
      "outputs": [
        {
          "output_type": "execute_result",
          "data": {
            "text/plain": [
              "68"
            ]
          },
          "metadata": {},
          "execution_count": 58
        }
      ]
    },
    {
      "cell_type": "code",
      "metadata": {
        "id": "mAqMallmsLdv"
      },
      "source": [
        "list(cos_sim[68])"
      ],
      "execution_count": null,
      "outputs": []
    },
    {
      "cell_type": "markdown",
      "metadata": {
        "id": "Ng9EUjp8skEB"
      },
      "source": [
        "```\n",
        "Friday 68 과 가장 비슷한/근접한 영화 리스트\n",
        "\n",
        "[0.13194603087080797,\n",
        " 0.030927327604283728,\n",
        " 0.0467927108671522,\n",
        " 0.062128961011914285,\n",
        " 0.02819879512031219,\n",
        " 0.022630888578312233,\n",
        " 0.062094365926947295,\n",
        " 0.04486089904579155,\n",
        " 0.030344648750782806,\n",
        " ...\n",
        "\n",
        " ```"
      ]
    },
    {
      "cell_type": "code",
      "metadata": {
        "id": "QP4komscxdiH"
      },
      "source": [
        "cosim_list= list(enumerate(cos_sim[68]))\n",
        "cosim_list # 영화의 index를 구하기 위한 조치"
      ],
      "execution_count": null,
      "outputs": []
    },
    {
      "cell_type": "markdown",
      "metadata": {
        "id": "BBGa1Tm-x39A"
      },
      "source": [
        "```\n",
        "[(0, 0.13194603087080797),\n",
        " (1, 0.030927327604283728),\n",
        " (2, 0.0467927108671522),\n",
        " (3, 0.062128961011914285),\n",
        " (4, 0.02819879512031219),\n",
        " (5, 0.022630888578312233),\n",
        " (6, 0.062094365926947295),\n",
        " (7, 0.04486089904579155),\n",
        " ...\n",
        "```"
      ]
    },
    {
      "cell_type": "markdown",
      "metadata": {
        "id": "hOi86PwIs_5H"
      },
      "source": [
        "sorted(list(cos_sim[68])) 시밀라리티 순서대로 정렬\n",
        "\n",
        "sorted(list(cos_sim[68]),reverse=True) 시밀라리티가 가장 높은 순으로 정렬-리버스\n",
        "\n",
        "sorted(cosim_list, key=lambda x:x[1] ,reverse=True)람다는 for문처럼 넣어줌- 1번째에 넣음"
      ]
    },
    {
      "cell_type": "code",
      "metadata": {
        "colab": {
          "base_uri": "https://localhost:8080/"
        },
        "id": "JbjoRMXssfb_",
        "outputId": "d2267656-1d67-4c3d-ae38-6823f093c2ef"
      },
      "source": [
        "cosim_index = sorted(cosim_list, key=lambda x:x[1] ,reverse=True)\n",
        "cosim_index[1:11] #나 자신 빠지고 상위 10위 안에 드는 것만 가져옴"
      ],
      "execution_count": 69,
      "outputs": [
        {
          "output_type": "execute_result",
          "data": {
            "text/plain": [
              "[(137, 0.2260806869818658),\n",
              " (67, 0.20577065758382976),\n",
              " (139, 0.18933514188443545),\n",
              " (85, 0.1687057669941765),\n",
              " (84, 0.14086168813612873),\n",
              " (118, 0.13905922820403888),\n",
              " (14, 0.1388409776447674),\n",
              " (90, 0.13673014182356702),\n",
              " (71, 0.13438619076762243),\n",
              " (82, 0.1328692152222701)]"
            ]
          },
          "metadata": {},
          "execution_count": 69
        }
      ]
    },
    {
      "cell_type": "markdown",
      "metadata": {
        "id": "kbQeWwLJzC4e"
      },
      "source": [
        "영화이름으로 바꾸기(숫자->텍스트)\n",
        "\n",
        "```\n",
        "for i in cosim_index:\n",
        "  i[0]\n",
        "```\n"
      ]
    },
    {
      "cell_type": "code",
      "metadata": {
        "colab": {
          "base_uri": "https://localhost:8080/"
        },
        "id": "n4Rg0yzSs5BE",
        "outputId": "f39f92f6-550e-4d15-9df5-b6b8c6e94741"
      },
      "source": [
        "[i[0] for i in cosim_index[1:11]]"
      ],
      "execution_count": 71,
      "outputs": [
        {
          "output_type": "execute_result",
          "data": {
            "text/plain": [
              "[137, 67, 139, 85, 84, 118, 14, 90, 71, 82]"
            ]
          },
          "metadata": {},
          "execution_count": 71
        }
      ]
    },
    {
      "cell_type": "code",
      "metadata": {
        "id": "2xQuc25bzkgj"
      },
      "source": [
        "movie_indeces = [i[0] for i in cosim_index[1:11]]"
      ],
      "execution_count": 73,
      "outputs": []
    },
    {
      "cell_type": "code",
      "metadata": {
        "colab": {
          "base_uri": "https://localhost:8080/"
        },
        "id": "Sq5_IJG_zxah",
        "outputId": "d07831ce-c03a-4e55-8f61-0c2a57469239"
      },
      "source": [
        "data['title'].iloc[movie_indeces]"
      ],
      "execution_count": 76,
      "outputs": [
        {
          "output_type": "execute_result",
          "data": {
            "text/plain": [
              "7329                You Only Live Twice\n",
              "2832              From Russia with Love\n",
              "7333              Never Say Never Again\n",
              "3517        The Man with the Golden Gun\n",
              "3516                          Moonraker\n",
              "5734                    Die Another Day\n",
              "638                 Mission: Impossible\n",
              "3859               Diamonds Are Forever\n",
              "2875                   Live and Let Die\n",
              "3511    On Her Majesty's Secret Service\n",
              "Name: title, dtype: object"
            ]
          },
          "metadata": {},
          "execution_count": 76
        }
      ]
    },
    {
      "cell_type": "markdown",
      "metadata": {
        "id": "JoKTcMOu1iY-"
      },
      "source": [
        "\n",
        "\n",
        "```\n",
        "      doc1   doc2   doc3\n",
        "doc1  1.0    0232   0.323\n",
        "doc2  0.323  1.0    0.323\n",
        "doc3  0.32   0.123  1.0\n",
        "```"
      ]
    },
    {
      "cell_type": "code",
      "metadata": {
        "id": "Y0pqBRpGz6iR"
      },
      "source": [
        ""
      ],
      "execution_count": null,
      "outputs": []
    }
  ]
}