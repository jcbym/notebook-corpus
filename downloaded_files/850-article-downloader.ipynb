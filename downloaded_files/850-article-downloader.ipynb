{
 "cells": [
  {
   "cell_type": "code",
   "execution_count": 1,
   "metadata": {
    "collapsed": true
   },
   "outputs": [],
   "source": [
    "from articledownloader import ArticleDownloader\n",
    "import time\n",
    "\n",
    "#doi request from crossref\n",
    "\n",
    "downloader = ArticleDownloader(els_api_key='0d9ef2ed78ce2bd5894129c31917d307')\n",
    "doi_file = open('doi0', 'w')\n",
    "\n",
    "list = downloader.get_dois_from_journal_issn('2155-5435' , rows = 10 , pub_after=2008)\n",
    "for item in list:\n",
    "    doi_file.write(item + '\\n')\n",
    "\n",
    "doi_file.close()"
   ]
  },
  {
   "cell_type": "code",
   "execution_count": 1,
   "metadata": {
    "collapsed": true
   },
   "outputs": [],
   "source": [
    "from articledownloader import ArticleDownloader\n",
    "import time\n",
    "import random\n",
    "\n",
    "#xml form in elsvier\n",
    "\n",
    "downloader = ArticleDownloader(els_api_key='09ec4f19cbad121ec1403fb56de73c0f')\n",
    "doi=open('doi_file1', 'r')\n",
    "for i,line in enumerate(doi.readlines()[6:12]):        #[200:]\n",
    "    n=str(i+1)\n",
    "    linev=line.strip('\\n')\n",
    "    file_name='elsfull' + n + '.xml'\n",
    "    my_file = open(file_name, 'wb')\n",
    "    downloader.get_xml_from_doi(linev, my_file, 'elsevier')\n",
    "    my_file.close()\n",
    "    time.sleep(random.randint(15,25))\n",
    "    if i+1 == 3:\n",
    "        break\n",
    "    \n",
    "doi.close()"
   ]
  },
  {
   "cell_type": "code",
   "execution_count": null,
   "metadata": {
    "collapsed": true
   },
   "outputs": [],
   "source": [
    "from articledownloader import ArticleDownloader\n",
    "import time\n",
    "import random\n",
    "\n",
    "#html form in wiley\n",
    "\n",
    "downloader = ArticleDownloader(els_api_key='0d9ef2ed78ce2bd5894129c31917d307')\n",
    "doi=open('full_article/doi_list/ad_ma_2012_20', 'r')\n",
    "for i,line in enumerate(doi.readlines()[5:]):        #[200:]\n",
    "    n=str(5+1)\n",
    "    linev=line.strip('\\n')\n",
    "    file_name='full_article/20_ad_ma/' + n + '.html'\n",
    "    my_file = open(file_name, 'wb')\n",
    "    downloader.get_html_from_doi(linev, my_file, 'wiley')\n",
    "    my_file.close()\n",
    "    time.sleep(random.randint(20,30))\n",
    "    if i+1 == 5:\n",
    "        break\n",
    "    \n",
    "doi.close()"
   ]
  },
  {
   "cell_type": "code",
   "execution_count": null,
   "metadata": {
    "collapsed": true
   },
   "outputs": [],
   "source": [
    "from plusdownloader import PlusDownloader\n",
    "import time\n",
    "import random\n",
    "\n",
    "#html form in aip\n",
    "\n",
    "downloader = PlusDownloader()\n",
    "doi=open('full_article/doi_list/jcp_2015_300', 'r')\n",
    "for i,line in enumerate(doi.readlines()[50:]):        #[200:]\n",
    "    n=str(i+51)\n",
    "    linev=line.strip('\\n')\n",
    "    file_name='full_article/300_jcp_full/' + n + '.html'\n",
    "    my_file = open(file_name, 'wb')\n",
    "    downloader.get_html_from_doi(linev, my_file, 'aip')\n",
    "    my_file.close()\n",
    "    time.sleep(random.randint(30,50))\n",
    "    if i+1 == 50:\n",
    "        break\n",
    "    \n",
    "doi.close()"
   ]
  },
  {
   "cell_type": "code",
   "execution_count": null,
   "metadata": {
    "collapsed": true
   },
   "outputs": [],
   "source": [
    "from articledownloader import ArticleDownloader\n",
    "import time\n",
    "import random\n",
    "\n",
    "#html form in nature\n",
    "\n",
    "downloader = ArticleDownloader(els_api_key='0d9ef2ed78ce2bd5894129c31917d307')\n",
    "doi=open('full_article/doi_list/nature_2015_300', 'r')\n",
    "for i,line in enumerate(doi.readlines()):        #[200:]\n",
    "    n=str(i+1)\n",
    "    linev=line.strip('\\n')\n",
    "    file_name='full_article/300_nature_full/' + n + '.html'\n",
    "    my_file = open(file_name, 'wb')\n",
    "    downloader.get_html_from_doi(linev, my_file, 'nature')\n",
    "    my_file.close()\n",
    "    time.sleep(random.randint(25,40))\n",
    "    if i+1 == 50:\n",
    "        break\n",
    "    \n",
    "doi.close()"
   ]
  },
  {
   "cell_type": "code",
   "execution_count": null,
   "metadata": {
    "collapsed": true
   },
   "outputs": [],
   "source": [
    "from plusdownloader import PlusDownloader\n",
    "import time\n",
    "import random\n",
    "\n",
    "#html form in aps\n",
    "\n",
    "downloader = PlusDownloader()\n",
    "doi=open('full_article/doi_list/aps_2015_300', 'r')\n",
    "for i,line in enumerate(doi.readlines()):        #[200:]\n",
    "    n=str(i+1)\n",
    "    linev=line.strip('\\n')\n",
    "    file_name='full_article/300_aps_full/' + n + '.html'\n",
    "    my_file = open(file_name, 'wb')\n",
    "    downloader.get_html_from_doi(linev, my_file, 'aps')\n",
    "    my_file.close()\n",
    "    time.sleep(random.randint(15,35))\n",
    "    if i+1 == 3:\n",
    "        break\n",
    "    \n",
    "doi.close()"
   ]
  },
  {
   "cell_type": "code",
   "execution_count": null,
   "metadata": {
    "collapsed": true
   },
   "outputs": [],
   "source": [
    "from articledownloader import ArticleDownloader\n",
    "import time\n",
    "import random\n",
    "\n",
    "#html form in rsc\n",
    "\n",
    "downloader = ArticleDownloader(els_api_key='0d9ef2ed78ce2bd5894129c31917d307')\n",
    "doi=open('full_article/doi_list/pccp_2010_500', 'r')\n",
    "for i,line in enumerate(doi.readlines()[50:]):        #[200:]\n",
    "    n=str(i+51)\n",
    "    linev=line.strip('\\n')\n",
    "    file_name='full_article/500_pccp/' + n + '.html'\n",
    "    my_file = open(file_name, 'wb')\n",
    "    downloader.get_html_from_doi(linev, my_file, 'rsc')\n",
    "    my_file.close()\n",
    "    time.sleep(random.randint(25,45))\n",
    "    if i+1 == 50:\n",
    "        break\n",
    "    \n",
    "doi.close()"
   ]
  },
  {
   "cell_type": "code",
   "execution_count": null,
   "metadata": {
    "collapsed": true
   },
   "outputs": [],
   "source": [
    "from articledownloader import ArticleDownloader\n",
    "import time\n",
    "import random\n",
    "\n",
    "#html form in aaas\n",
    "\n",
    "downloader = ArticleDownloader(els_api_key='0d9ef2ed78ce2bd5894129c31917d307')\n",
    "doi=open('full_article/doi_list/science_2015_300', 'r')\n",
    "for i,line in enumerate(doi.readlines()):        #[200:]\n",
    "    n=str(i+1)\n",
    "    linev=line.strip('\\n')\t09ec4f19cbad121ec1403fb56de73c0f\n",
    "    file_name='full_article/300_science_full/' + n + '.pdf'\n",
    "    my_file = open(file_name, 'wb')\n",
    "    downloader.get_html_from_doi(linev, my_file, 'aaas')\n",
    "    my_file.close()\n",
    "    time.sleep(random.randint(25,45))\n",
    "    if i+1 == 5:\n",
    "        break\n",
    "    \n",
    "doi.close()"
   ]
  },
  {
   "cell_type": "code",
   "execution_count": null,
   "metadata": {
    "collapsed": true
   },
   "outputs": [],
   "source": [
    "from plusdownloader import PlusDownloader\n",
    "import time\n",
    "import random\n",
    "\n",
    "#html form in pnas\n",
    "\n",
    "downloader = PlusDownloader()\n",
    "doi=open('full_article/doi_list/pnas_2015_300', 'r')\n",
    "for i,line in enumerate(doi.readlines()):        #[200:]\n",
    "    n=str(i+1)\n",
    "    linev=line.strip('\\n')\n",
    "    file_name='full_article/300_pnas_full/' + n + '.html'\n",
    "    my_file = open(file_name, 'wb')\n",
    "    downloader.get_html_from_doi(linev, my_file, 'pnas')\n",
    "    my_file.close()\n",
    "    time.sleep(random.randint(15,35))\n",
    "    if i+1 == 5:\n",
    "        break\n",
    "    \n",
    "doi.close()"
   ]
  },
  {
   "cell_type": "code",
   "execution_count": 2,
   "metadata": {
    "collapsed": true
   },
   "outputs": [],
   "source": [
    "from articledownloader import ArticleDownloader\n",
    "import time\n",
    "import random\n",
    "\n",
    "#html form in acs\n",
    "\n",
    "downloader = ArticleDownloader(els_api_key='0d9ef2ed78ce2bd5894129c31917d307')\n",
    "doi=open('doi0', 'r')\n",
    "for i,line in enumerate(doi.readlines()):        #[200:]\n",
    "    n=str(i+1)\n",
    "    linev=line.strip('\\n')\n",
    "    file_name='fullfile' + n + '.pdf'\n",
    "    my_file = open(file_name, 'wb')\n",
    "    downloader.get_pdf_from_doi(linev, my_file, 'acs')\n",
    "    my_file.close()\n",
    "    time.sleep(random.randint(30,45))\n",
    "    if i+1 == 5:\n",
    "        break\n",
    "    \n",
    "doi.close()"
   ]
  }
 ],
 "metadata": {
  "kernelspec": {
   "display_name": "Python 2",
   "language": "python",
   "name": "python2"
  },
  "language_info": {
   "codemirror_mode": {
    "name": "ipython",
    "version": 2
   },
   "file_extension": ".py",
   "mimetype": "text/x-python",
   "name": "python",
   "nbconvert_exporter": "python",
   "pygments_lexer": "ipython2",
   "version": "2.7.15"
  }
 },
 "nbformat": 4,
 "nbformat_minor": 2
}
