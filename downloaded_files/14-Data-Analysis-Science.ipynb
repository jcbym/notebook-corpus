{
 "cells": [
  {
   "cell_type": "code",
   "execution_count": 114,
   "metadata": {
    "ExecuteTime": {
     "end_time": "2017-12-31T23:34:42.854690Z",
     "start_time": "2017-12-31T23:34:42.622988Z"
    }
   },
   "outputs": [],
   "source": [
    "import pandas as pd\n",
    "import seaborn as sns\n",
    "import matplotlib.pyplot as plt\n",
    "%matplotlib inline\n",
    "import sys\n",
    "import warnings\n",
    "warnings.filterwarnings('ignore')\n",
    "from IPython.display import display"
   ]
  },
  {
   "cell_type": "code",
   "execution_count": 86,
   "metadata": {
    "ExecuteTime": {
     "end_time": "2017-12-31T23:28:41.348948Z",
     "start_time": "2017-12-31T23:28:39.426167Z"
    }
   },
   "outputs": [],
   "source": [
    "p_2016 = 'data/p4v2016.xls'\n",
    "gdp_per = 'gdp_per_capita.xlsx'\n",
    "data_2016 = pd.read_excel(p_2016, sheetname=0)\n",
    "data_gdp = pd.read_excel(gdp_per, sheetname=0)"
   ]
  },
  {
   "cell_type": "code",
   "execution_count": 87,
   "metadata": {
    "ExecuteTime": {
     "end_time": "2017-12-31T23:28:42.351898Z",
     "start_time": "2017-12-31T23:28:42.326879Z"
    }
   },
   "outputs": [
    {
     "data": {
      "text/html": [
       "<div>\n",
       "<style>\n",
       "    .dataframe thead tr:only-child th {\n",
       "        text-align: right;\n",
       "    }\n",
       "\n",
       "    .dataframe thead th {\n",
       "        text-align: left;\n",
       "    }\n",
       "\n",
       "    .dataframe tbody tr th {\n",
       "        vertical-align: top;\n",
       "    }\n",
       "</style>\n",
       "<table border=\"1\" class=\"dataframe\">\n",
       "  <thead>\n",
       "    <tr style=\"text-align: right;\">\n",
       "      <th></th>\n",
       "      <th>cyear</th>\n",
       "      <th>ccode</th>\n",
       "      <th>scode</th>\n",
       "      <th>country</th>\n",
       "      <th>year</th>\n",
       "      <th>flag</th>\n",
       "      <th>fragment</th>\n",
       "      <th>democ</th>\n",
       "      <th>autoc</th>\n",
       "      <th>polity</th>\n",
       "      <th>...</th>\n",
       "      <th>interim</th>\n",
       "      <th>bmonth</th>\n",
       "      <th>bday</th>\n",
       "      <th>byear</th>\n",
       "      <th>bprec</th>\n",
       "      <th>post</th>\n",
       "      <th>change</th>\n",
       "      <th>d4</th>\n",
       "      <th>sf</th>\n",
       "      <th>regtrans</th>\n",
       "    </tr>\n",
       "  </thead>\n",
       "  <tbody>\n",
       "    <tr>\n",
       "      <th>0</th>\n",
       "      <td>7001800</td>\n",
       "      <td>700</td>\n",
       "      <td>AFG</td>\n",
       "      <td>Afghanistan</td>\n",
       "      <td>1800</td>\n",
       "      <td>0</td>\n",
       "      <td>NaN</td>\n",
       "      <td>1</td>\n",
       "      <td>7</td>\n",
       "      <td>-6</td>\n",
       "      <td>...</td>\n",
       "      <td>NaN</td>\n",
       "      <td>1.0</td>\n",
       "      <td>1.0</td>\n",
       "      <td>1800.0</td>\n",
       "      <td>1.0</td>\n",
       "      <td>-6.0</td>\n",
       "      <td>88.0</td>\n",
       "      <td>1.0</td>\n",
       "      <td>NaN</td>\n",
       "      <td>NaN</td>\n",
       "    </tr>\n",
       "    <tr>\n",
       "      <th>1</th>\n",
       "      <td>7001801</td>\n",
       "      <td>700</td>\n",
       "      <td>AFG</td>\n",
       "      <td>Afghanistan</td>\n",
       "      <td>1801</td>\n",
       "      <td>0</td>\n",
       "      <td>NaN</td>\n",
       "      <td>1</td>\n",
       "      <td>7</td>\n",
       "      <td>-6</td>\n",
       "      <td>...</td>\n",
       "      <td>NaN</td>\n",
       "      <td>NaN</td>\n",
       "      <td>NaN</td>\n",
       "      <td>NaN</td>\n",
       "      <td>NaN</td>\n",
       "      <td>NaN</td>\n",
       "      <td>NaN</td>\n",
       "      <td>NaN</td>\n",
       "      <td>NaN</td>\n",
       "      <td>NaN</td>\n",
       "    </tr>\n",
       "    <tr>\n",
       "      <th>2</th>\n",
       "      <td>7001802</td>\n",
       "      <td>700</td>\n",
       "      <td>AFG</td>\n",
       "      <td>Afghanistan</td>\n",
       "      <td>1802</td>\n",
       "      <td>0</td>\n",
       "      <td>NaN</td>\n",
       "      <td>1</td>\n",
       "      <td>7</td>\n",
       "      <td>-6</td>\n",
       "      <td>...</td>\n",
       "      <td>NaN</td>\n",
       "      <td>NaN</td>\n",
       "      <td>NaN</td>\n",
       "      <td>NaN</td>\n",
       "      <td>NaN</td>\n",
       "      <td>NaN</td>\n",
       "      <td>NaN</td>\n",
       "      <td>NaN</td>\n",
       "      <td>NaN</td>\n",
       "      <td>NaN</td>\n",
       "    </tr>\n",
       "  </tbody>\n",
       "</table>\n",
       "<p>3 rows × 36 columns</p>\n",
       "</div>"
      ],
      "text/plain": [
       "     cyear  ccode scode      country  year  flag  fragment  democ  autoc  \\\n",
       "0  7001800    700   AFG  Afghanistan  1800     0       NaN      1      7   \n",
       "1  7001801    700   AFG  Afghanistan  1801     0       NaN      1      7   \n",
       "2  7001802    700   AFG  Afghanistan  1802     0       NaN      1      7   \n",
       "\n",
       "   polity    ...     interim  bmonth  bday   byear  bprec  post  change   d4  \\\n",
       "0      -6    ...         NaN     1.0   1.0  1800.0    1.0  -6.0    88.0  1.0   \n",
       "1      -6    ...         NaN     NaN   NaN     NaN    NaN   NaN     NaN  NaN   \n",
       "2      -6    ...         NaN     NaN   NaN     NaN    NaN   NaN     NaN  NaN   \n",
       "\n",
       "   sf  regtrans  \n",
       "0 NaN       NaN  \n",
       "1 NaN       NaN  \n",
       "2 NaN       NaN  \n",
       "\n",
       "[3 rows x 36 columns]"
      ]
     },
     "execution_count": 87,
     "metadata": {},
     "output_type": "execute_result"
    }
   ],
   "source": [
    "data_2016.head(3)"
   ]
  },
  {
   "cell_type": "code",
   "execution_count": 88,
   "metadata": {
    "ExecuteTime": {
     "end_time": "2017-12-31T23:28:44.629869Z",
     "start_time": "2017-12-31T23:28:44.616859Z"
    }
   },
   "outputs": [
    {
     "data": {
      "text/html": [
       "<div>\n",
       "<style>\n",
       "    .dataframe thead tr:only-child th {\n",
       "        text-align: right;\n",
       "    }\n",
       "\n",
       "    .dataframe thead th {\n",
       "        text-align: left;\n",
       "    }\n",
       "\n",
       "    .dataframe tbody tr th {\n",
       "        vertical-align: top;\n",
       "    }\n",
       "</style>\n",
       "<table border=\"1\" class=\"dataframe\">\n",
       "  <thead>\n",
       "    <tr style=\"text-align: right;\">\n",
       "      <th></th>\n",
       "      <th>Country</th>\n",
       "      <th>Currency</th>\n",
       "      <th>Year</th>\n",
       "      <th>Per capita GDP</th>\n",
       "    </tr>\n",
       "  </thead>\n",
       "  <tbody>\n",
       "    <tr>\n",
       "      <th>0</th>\n",
       "      <td>Afghanistan</td>\n",
       "      <td>US$</td>\n",
       "      <td>1970</td>\n",
       "      <td>157.258461</td>\n",
       "    </tr>\n",
       "    <tr>\n",
       "      <th>1</th>\n",
       "      <td>Afghanistan</td>\n",
       "      <td>US$</td>\n",
       "      <td>1971</td>\n",
       "      <td>160.443153</td>\n",
       "    </tr>\n",
       "    <tr>\n",
       "      <th>2</th>\n",
       "      <td>Afghanistan</td>\n",
       "      <td>US$</td>\n",
       "      <td>1972</td>\n",
       "      <td>136.175612</td>\n",
       "    </tr>\n",
       "  </tbody>\n",
       "</table>\n",
       "</div>"
      ],
      "text/plain": [
       "       Country Currency  Year  Per capita GDP\n",
       "0  Afghanistan      US$  1970      157.258461\n",
       "1  Afghanistan      US$  1971      160.443153\n",
       "2  Afghanistan      US$  1972      136.175612"
      ]
     },
     "execution_count": 88,
     "metadata": {},
     "output_type": "execute_result"
    }
   ],
   "source": [
    "data_gdp.head(3)"
   ]
  },
  {
   "cell_type": "code",
   "execution_count": 89,
   "metadata": {
    "ExecuteTime": {
     "end_time": "2017-12-31T23:28:45.042795Z",
     "start_time": "2017-12-31T23:28:45.033809Z"
    }
   },
   "outputs": [],
   "source": [
    "time_range = [1970, 1971, 1972, 1973, 1974, 1975, 1976, 1977, 1978, 1979, 1980, 1981, 1982, 1983, 1984, 1985, 1986, 1987, 1988, 1989, 1990, 1991, 1992, 1993, 1994, 1995, 1996, 1997, 1998, 2000, 2001, 2002, 2003, 2004, 2005, 2006, 2007,\n",
    "            2008, 2009, 2010, 2011, 2012, 2013, 2013, 2014, 2015]\n",
    "only_africa = [\"Angola\", \"Gabon\", \"Nigeria\", \"Benin\", \"Gambia, The\", \"Rwanda\", \"Guinea-Bissau\",\n",
    "   \"Botswana\", \"Ghana\", \"São Tomé and Principe\", \"Burkina Faso\", \"Guinea\", \"Senegal\", \"Burundi\", \"Seychelles\", \"Cabo Verde\", \"Kenya\", \"Sierra Leone\", \"Cameroon\", \"Lesotho\", \"Somalia\", \"Central African Republic\", \"Liberia\", \"South Africa\", \"Chad\", \"Madagascar\", \"Comoros\", \"Malawi\", \"Sudan\", \"Congo, Dem. Rep.\", \"Mali\", \"Swaziland\", \"Congo, Rep\", \"Mauritania\", \"Tanzania\", \"Côte d'Ivoire\", \"Mauritius\", \"Togo\", \"Equatorial Guinea\", \"Mozambique\", \"Uganda\", \"Eritrea\" \"Namibia\", \"Zambia\", \"Ethiopia\", \"Niger\", \"Zimbabwe\"]\n"
   ]
  },
  {
   "cell_type": "code",
   "execution_count": 97,
   "metadata": {
    "ExecuteTime": {
     "end_time": "2017-12-31T23:30:09.270290Z",
     "start_time": "2017-12-31T23:30:09.262285Z"
    }
   },
   "outputs": [
    {
     "data": {
      "text/plain": [
       "46"
      ]
     },
     "execution_count": 97,
     "metadata": {},
     "output_type": "execute_result"
    }
   ],
   "source": [
    "len(only_africa)"
   ]
  },
  {
   "cell_type": "code",
   "execution_count": 91,
   "metadata": {
    "ExecuteTime": {
     "end_time": "2017-12-31T23:29:08.946758Z",
     "start_time": "2017-12-31T23:29:08.935770Z"
    }
   },
   "outputs": [],
   "source": [
    "data_2016 = data_2016.rename(columns={'country': 'Country', 'year': 'Year'})"
   ]
  },
  {
   "cell_type": "code",
   "execution_count": 92,
   "metadata": {
    "ExecuteTime": {
     "end_time": "2017-12-31T23:29:13.677662Z",
     "start_time": "2017-12-31T23:29:13.651643Z"
    }
   },
   "outputs": [],
   "source": [
    "merged_data = pd.merge(left=data_gdp, right=data_2016, how='left', on=['Country', 'Year'])"
   ]
  },
  {
   "cell_type": "code",
   "execution_count": 93,
   "metadata": {
    "ExecuteTime": {
     "end_time": "2017-12-31T23:29:15.596983Z",
     "start_time": "2017-12-31T23:29:15.565956Z"
    }
   },
   "outputs": [
    {
     "data": {
      "text/html": [
       "<div>\n",
       "<style>\n",
       "    .dataframe thead tr:only-child th {\n",
       "        text-align: right;\n",
       "    }\n",
       "\n",
       "    .dataframe thead th {\n",
       "        text-align: left;\n",
       "    }\n",
       "\n",
       "    .dataframe tbody tr th {\n",
       "        vertical-align: top;\n",
       "    }\n",
       "</style>\n",
       "<table border=\"1\" class=\"dataframe\">\n",
       "  <thead>\n",
       "    <tr style=\"text-align: right;\">\n",
       "      <th></th>\n",
       "      <th>Country</th>\n",
       "      <th>Currency</th>\n",
       "      <th>Year</th>\n",
       "      <th>Per capita GDP</th>\n",
       "      <th>cyear</th>\n",
       "      <th>ccode</th>\n",
       "      <th>scode</th>\n",
       "      <th>flag</th>\n",
       "      <th>fragment</th>\n",
       "      <th>democ</th>\n",
       "      <th>...</th>\n",
       "      <th>interim</th>\n",
       "      <th>bmonth</th>\n",
       "      <th>bday</th>\n",
       "      <th>byear</th>\n",
       "      <th>bprec</th>\n",
       "      <th>post</th>\n",
       "      <th>change</th>\n",
       "      <th>d4</th>\n",
       "      <th>sf</th>\n",
       "      <th>regtrans</th>\n",
       "    </tr>\n",
       "  </thead>\n",
       "  <tbody>\n",
       "    <tr>\n",
       "      <th>0</th>\n",
       "      <td>Afghanistan</td>\n",
       "      <td>US$</td>\n",
       "      <td>1970</td>\n",
       "      <td>157.258461</td>\n",
       "      <td>7001970.0</td>\n",
       "      <td>700.0</td>\n",
       "      <td>AFG</td>\n",
       "      <td>0.0</td>\n",
       "      <td>NaN</td>\n",
       "      <td>0.0</td>\n",
       "      <td>...</td>\n",
       "      <td>NaN</td>\n",
       "      <td>NaN</td>\n",
       "      <td>NaN</td>\n",
       "      <td>NaN</td>\n",
       "      <td>NaN</td>\n",
       "      <td>NaN</td>\n",
       "      <td>NaN</td>\n",
       "      <td>NaN</td>\n",
       "      <td>NaN</td>\n",
       "      <td>NaN</td>\n",
       "    </tr>\n",
       "    <tr>\n",
       "      <th>1</th>\n",
       "      <td>Afghanistan</td>\n",
       "      <td>US$</td>\n",
       "      <td>1971</td>\n",
       "      <td>160.443153</td>\n",
       "      <td>7001971.0</td>\n",
       "      <td>700.0</td>\n",
       "      <td>AFG</td>\n",
       "      <td>0.0</td>\n",
       "      <td>NaN</td>\n",
       "      <td>0.0</td>\n",
       "      <td>...</td>\n",
       "      <td>NaN</td>\n",
       "      <td>NaN</td>\n",
       "      <td>NaN</td>\n",
       "      <td>NaN</td>\n",
       "      <td>NaN</td>\n",
       "      <td>NaN</td>\n",
       "      <td>NaN</td>\n",
       "      <td>NaN</td>\n",
       "      <td>NaN</td>\n",
       "      <td>NaN</td>\n",
       "    </tr>\n",
       "    <tr>\n",
       "      <th>2</th>\n",
       "      <td>Afghanistan</td>\n",
       "      <td>US$</td>\n",
       "      <td>1972</td>\n",
       "      <td>136.175612</td>\n",
       "      <td>7001972.0</td>\n",
       "      <td>700.0</td>\n",
       "      <td>AFG</td>\n",
       "      <td>0.0</td>\n",
       "      <td>NaN</td>\n",
       "      <td>0.0</td>\n",
       "      <td>...</td>\n",
       "      <td>NaN</td>\n",
       "      <td>NaN</td>\n",
       "      <td>NaN</td>\n",
       "      <td>NaN</td>\n",
       "      <td>NaN</td>\n",
       "      <td>NaN</td>\n",
       "      <td>NaN</td>\n",
       "      <td>NaN</td>\n",
       "      <td>NaN</td>\n",
       "      <td>NaN</td>\n",
       "    </tr>\n",
       "    <tr>\n",
       "      <th>3</th>\n",
       "      <td>Afghanistan</td>\n",
       "      <td>US$</td>\n",
       "      <td>1973</td>\n",
       "      <td>144.173945</td>\n",
       "      <td>7001973.0</td>\n",
       "      <td>700.0</td>\n",
       "      <td>AFG</td>\n",
       "      <td>0.0</td>\n",
       "      <td>NaN</td>\n",
       "      <td>0.0</td>\n",
       "      <td>...</td>\n",
       "      <td>NaN</td>\n",
       "      <td>NaN</td>\n",
       "      <td>NaN</td>\n",
       "      <td>NaN</td>\n",
       "      <td>NaN</td>\n",
       "      <td>NaN</td>\n",
       "      <td>NaN</td>\n",
       "      <td>NaN</td>\n",
       "      <td>NaN</td>\n",
       "      <td>NaN</td>\n",
       "    </tr>\n",
       "    <tr>\n",
       "      <th>4</th>\n",
       "      <td>Afghanistan</td>\n",
       "      <td>US$</td>\n",
       "      <td>1974</td>\n",
       "      <td>175.027098</td>\n",
       "      <td>7001974.0</td>\n",
       "      <td>700.0</td>\n",
       "      <td>AFG</td>\n",
       "      <td>0.0</td>\n",
       "      <td>NaN</td>\n",
       "      <td>0.0</td>\n",
       "      <td>...</td>\n",
       "      <td>NaN</td>\n",
       "      <td>NaN</td>\n",
       "      <td>NaN</td>\n",
       "      <td>NaN</td>\n",
       "      <td>NaN</td>\n",
       "      <td>NaN</td>\n",
       "      <td>NaN</td>\n",
       "      <td>NaN</td>\n",
       "      <td>NaN</td>\n",
       "      <td>NaN</td>\n",
       "    </tr>\n",
       "  </tbody>\n",
       "</table>\n",
       "<p>5 rows × 38 columns</p>\n",
       "</div>"
      ],
      "text/plain": [
       "       Country Currency  Year  Per capita GDP      cyear  ccode scode  flag  \\\n",
       "0  Afghanistan      US$  1970      157.258461  7001970.0  700.0   AFG   0.0   \n",
       "1  Afghanistan      US$  1971      160.443153  7001971.0  700.0   AFG   0.0   \n",
       "2  Afghanistan      US$  1972      136.175612  7001972.0  700.0   AFG   0.0   \n",
       "3  Afghanistan      US$  1973      144.173945  7001973.0  700.0   AFG   0.0   \n",
       "4  Afghanistan      US$  1974      175.027098  7001974.0  700.0   AFG   0.0   \n",
       "\n",
       "   fragment  democ    ...     interim  bmonth  bday  byear  bprec  post  \\\n",
       "0       NaN    0.0    ...         NaN     NaN   NaN    NaN    NaN   NaN   \n",
       "1       NaN    0.0    ...         NaN     NaN   NaN    NaN    NaN   NaN   \n",
       "2       NaN    0.0    ...         NaN     NaN   NaN    NaN    NaN   NaN   \n",
       "3       NaN    0.0    ...         NaN     NaN   NaN    NaN    NaN   NaN   \n",
       "4       NaN    0.0    ...         NaN     NaN   NaN    NaN    NaN   NaN   \n",
       "\n",
       "   change  d4  sf  regtrans  \n",
       "0     NaN NaN NaN       NaN  \n",
       "1     NaN NaN NaN       NaN  \n",
       "2     NaN NaN NaN       NaN  \n",
       "3     NaN NaN NaN       NaN  \n",
       "4     NaN NaN NaN       NaN  \n",
       "\n",
       "[5 rows x 38 columns]"
      ]
     },
     "execution_count": 93,
     "metadata": {},
     "output_type": "execute_result"
    }
   ],
   "source": [
    "merged_data.head()"
   ]
  },
  {
   "cell_type": "code",
   "execution_count": 94,
   "metadata": {
    "ExecuteTime": {
     "end_time": "2017-12-31T23:29:34.146061Z",
     "start_time": "2017-12-31T23:29:34.003617Z"
    }
   },
   "outputs": [],
   "source": [
    "final_merged = merged_data[(merged_data['Year'].isin(time_range)) & (merged_data['Country'].isin(only_africa))]\n",
    "#final_merged['Year'] = pd.to_datetime(final_merged['Year'])\n",
    "final_merged.index = pd.RangeIndex(len(final_merged.index))\n",
    "final_merged['Region'] = 'SSA'"
   ]
  },
  {
   "cell_type": "code",
   "execution_count": 102,
   "metadata": {
    "ExecuteTime": {
     "end_time": "2017-12-31T23:31:05.346743Z",
     "start_time": "2017-12-31T23:31:05.340757Z"
    }
   },
   "outputs": [
    {
     "data": {
      "text/plain": [
       "array(['Angola', 'Benin', 'Botswana', 'Burkina Faso', 'Burundi',\n",
       "       'Cabo Verde', 'Cameroon', 'Central African Republic', 'Chad',\n",
       "       'Comoros', \"Côte d'Ivoire\", 'Equatorial Guinea', 'Ethiopia',\n",
       "       'Gabon', 'Ghana', 'Guinea', 'Guinea-Bissau', 'Kenya', 'Lesotho',\n",
       "       'Liberia', 'Madagascar', 'Malawi', 'Mali', 'Mauritania',\n",
       "       'Mauritius', 'Mozambique', 'Niger', 'Nigeria', 'Rwanda', 'Senegal',\n",
       "       'Seychelles', 'Sierra Leone', 'Somalia', 'South Africa', 'Sudan',\n",
       "       'Swaziland', 'Togo', 'Uganda', 'Zambia', 'Zimbabwe'], dtype=object)"
      ]
     },
     "execution_count": 102,
     "metadata": {},
     "output_type": "execute_result"
    }
   ],
   "source": [
    "final_merged['Country'].unique()"
   ]
  },
  {
   "cell_type": "code",
   "execution_count": 96,
   "metadata": {
    "ExecuteTime": {
     "end_time": "2017-12-31T23:29:42.357164Z",
     "start_time": "2017-12-31T23:29:42.325141Z"
    }
   },
   "outputs": [
    {
     "data": {
      "text/html": [
       "<div>\n",
       "<style>\n",
       "    .dataframe thead tr:only-child th {\n",
       "        text-align: right;\n",
       "    }\n",
       "\n",
       "    .dataframe thead th {\n",
       "        text-align: left;\n",
       "    }\n",
       "\n",
       "    .dataframe tbody tr th {\n",
       "        vertical-align: top;\n",
       "    }\n",
       "</style>\n",
       "<table border=\"1\" class=\"dataframe\">\n",
       "  <thead>\n",
       "    <tr style=\"text-align: right;\">\n",
       "      <th></th>\n",
       "      <th>Country</th>\n",
       "      <th>Currency</th>\n",
       "      <th>Year</th>\n",
       "      <th>Per capita GDP</th>\n",
       "      <th>cyear</th>\n",
       "      <th>ccode</th>\n",
       "      <th>scode</th>\n",
       "      <th>flag</th>\n",
       "      <th>fragment</th>\n",
       "      <th>democ</th>\n",
       "      <th>...</th>\n",
       "      <th>bmonth</th>\n",
       "      <th>bday</th>\n",
       "      <th>byear</th>\n",
       "      <th>bprec</th>\n",
       "      <th>post</th>\n",
       "      <th>change</th>\n",
       "      <th>d4</th>\n",
       "      <th>sf</th>\n",
       "      <th>regtrans</th>\n",
       "      <th>Region</th>\n",
       "    </tr>\n",
       "  </thead>\n",
       "  <tbody>\n",
       "    <tr>\n",
       "      <th>1739</th>\n",
       "      <td>Zimbabwe</td>\n",
       "      <td>US$</td>\n",
       "      <td>2011</td>\n",
       "      <td>768.540514</td>\n",
       "      <td>5522011.0</td>\n",
       "      <td>552.0</td>\n",
       "      <td>ZIM</td>\n",
       "      <td>0.0</td>\n",
       "      <td>0.0</td>\n",
       "      <td>3.0</td>\n",
       "      <td>...</td>\n",
       "      <td>NaN</td>\n",
       "      <td>NaN</td>\n",
       "      <td>NaN</td>\n",
       "      <td>NaN</td>\n",
       "      <td>NaN</td>\n",
       "      <td>NaN</td>\n",
       "      <td>NaN</td>\n",
       "      <td>NaN</td>\n",
       "      <td>NaN</td>\n",
       "      <td>SSA</td>\n",
       "    </tr>\n",
       "    <tr>\n",
       "      <th>1740</th>\n",
       "      <td>Zimbabwe</td>\n",
       "      <td>US$</td>\n",
       "      <td>2012</td>\n",
       "      <td>850.847229</td>\n",
       "      <td>5522012.0</td>\n",
       "      <td>552.0</td>\n",
       "      <td>ZIM</td>\n",
       "      <td>0.0</td>\n",
       "      <td>0.0</td>\n",
       "      <td>3.0</td>\n",
       "      <td>...</td>\n",
       "      <td>NaN</td>\n",
       "      <td>NaN</td>\n",
       "      <td>NaN</td>\n",
       "      <td>NaN</td>\n",
       "      <td>NaN</td>\n",
       "      <td>NaN</td>\n",
       "      <td>NaN</td>\n",
       "      <td>NaN</td>\n",
       "      <td>NaN</td>\n",
       "      <td>SSA</td>\n",
       "    </tr>\n",
       "    <tr>\n",
       "      <th>1741</th>\n",
       "      <td>Zimbabwe</td>\n",
       "      <td>US$</td>\n",
       "      <td>2013</td>\n",
       "      <td>905.485078</td>\n",
       "      <td>5522013.0</td>\n",
       "      <td>552.0</td>\n",
       "      <td>ZIM</td>\n",
       "      <td>2.0</td>\n",
       "      <td>0.0</td>\n",
       "      <td>5.0</td>\n",
       "      <td>...</td>\n",
       "      <td>5.0</td>\n",
       "      <td>22.0</td>\n",
       "      <td>2013.0</td>\n",
       "      <td>1.0</td>\n",
       "      <td>4.0</td>\n",
       "      <td>3.0</td>\n",
       "      <td>1.0</td>\n",
       "      <td>NaN</td>\n",
       "      <td>1.0</td>\n",
       "      <td>SSA</td>\n",
       "    </tr>\n",
       "    <tr>\n",
       "      <th>1742</th>\n",
       "      <td>Zimbabwe</td>\n",
       "      <td>US$</td>\n",
       "      <td>2014</td>\n",
       "      <td>931.203924</td>\n",
       "      <td>5522014.0</td>\n",
       "      <td>552.0</td>\n",
       "      <td>ZIM</td>\n",
       "      <td>2.0</td>\n",
       "      <td>0.0</td>\n",
       "      <td>5.0</td>\n",
       "      <td>...</td>\n",
       "      <td>NaN</td>\n",
       "      <td>NaN</td>\n",
       "      <td>NaN</td>\n",
       "      <td>NaN</td>\n",
       "      <td>NaN</td>\n",
       "      <td>NaN</td>\n",
       "      <td>NaN</td>\n",
       "      <td>NaN</td>\n",
       "      <td>NaN</td>\n",
       "      <td>SSA</td>\n",
       "    </tr>\n",
       "    <tr>\n",
       "      <th>1743</th>\n",
       "      <td>Zimbabwe</td>\n",
       "      <td>US$</td>\n",
       "      <td>2015</td>\n",
       "      <td>890.421576</td>\n",
       "      <td>5522015.0</td>\n",
       "      <td>552.0</td>\n",
       "      <td>ZIM</td>\n",
       "      <td>2.0</td>\n",
       "      <td>0.0</td>\n",
       "      <td>5.0</td>\n",
       "      <td>...</td>\n",
       "      <td>NaN</td>\n",
       "      <td>NaN</td>\n",
       "      <td>NaN</td>\n",
       "      <td>NaN</td>\n",
       "      <td>NaN</td>\n",
       "      <td>NaN</td>\n",
       "      <td>NaN</td>\n",
       "      <td>NaN</td>\n",
       "      <td>NaN</td>\n",
       "      <td>SSA</td>\n",
       "    </tr>\n",
       "  </tbody>\n",
       "</table>\n",
       "<p>5 rows × 39 columns</p>\n",
       "</div>"
      ],
      "text/plain": [
       "       Country Currency  Year  Per capita GDP      cyear  ccode scode  flag  \\\n",
       "1739  Zimbabwe      US$  2011      768.540514  5522011.0  552.0   ZIM   0.0   \n",
       "1740  Zimbabwe      US$  2012      850.847229  5522012.0  552.0   ZIM   0.0   \n",
       "1741  Zimbabwe      US$  2013      905.485078  5522013.0  552.0   ZIM   2.0   \n",
       "1742  Zimbabwe      US$  2014      931.203924  5522014.0  552.0   ZIM   2.0   \n",
       "1743  Zimbabwe      US$  2015      890.421576  5522015.0  552.0   ZIM   2.0   \n",
       "\n",
       "      fragment  democ   ...    bmonth  bday   byear  bprec  post  change   d4  \\\n",
       "1739       0.0    3.0   ...       NaN   NaN     NaN    NaN   NaN     NaN  NaN   \n",
       "1740       0.0    3.0   ...       NaN   NaN     NaN    NaN   NaN     NaN  NaN   \n",
       "1741       0.0    5.0   ...       5.0  22.0  2013.0    1.0   4.0     3.0  1.0   \n",
       "1742       0.0    5.0   ...       NaN   NaN     NaN    NaN   NaN     NaN  NaN   \n",
       "1743       0.0    5.0   ...       NaN   NaN     NaN    NaN   NaN     NaN  NaN   \n",
       "\n",
       "      sf  regtrans  Region  \n",
       "1739 NaN       NaN     SSA  \n",
       "1740 NaN       NaN     SSA  \n",
       "1741 NaN       1.0     SSA  \n",
       "1742 NaN       NaN     SSA  \n",
       "1743 NaN       NaN     SSA  \n",
       "\n",
       "[5 rows x 39 columns]"
      ]
     },
     "execution_count": 96,
     "metadata": {},
     "output_type": "execute_result"
    }
   ],
   "source": [
    "final_merged.tail()"
   ]
  },
  {
   "cell_type": "code",
   "execution_count": 109,
   "metadata": {
    "ExecuteTime": {
     "end_time": "2017-12-31T23:34:00.718114Z",
     "start_time": "2017-12-31T23:34:00.711128Z"
    }
   },
   "outputs": [],
   "source": [
    "group_data = final_merged.groupby(['Country', 'Year'])['Per capita GDP'].mean()"
   ]
  },
  {
   "cell_type": "code",
   "execution_count": 116,
   "metadata": {
    "ExecuteTime": {
     "end_time": "2017-12-31T23:34:52.649037Z",
     "start_time": "2017-12-31T23:34:52.369760Z"
    }
   },
   "outputs": [
    {
     "data": {
      "text/plain": [
       "<matplotlib.axes._subplots.AxesSubplot at 0x1d76310e0b8>"
      ]
     },
     "execution_count": 116,
     "metadata": {},
     "output_type": "execute_result"
    },
    {
     "data": {
      "image/png": "[encoded data removed]",
      "text/plain": [
       "<matplotlib.figure.Figure at 0x1d765238550>"
      ]
     },
     "metadata": {},
     "output_type": "display_data"
    }
   ],
   "source": [
    "group_data.plot(kind='line')"
   ]
  },
  {
   "cell_type": "code",
   "execution_count": null,
   "metadata": {},
   "outputs": [],
   "source": []
  },
  {
   "cell_type": "code",
   "execution_count": 147,
   "metadata": {
    "ExecuteTime": {
     "end_time": "2017-12-31T23:49:32.423138Z",
     "start_time": "2017-12-31T23:49:32.419135Z"
    }
   },
   "outputs": [],
   "source": [
    "# setting up data table\n",
    "# we are interested only investigating Country, Region, Per capita GDP\n",
    "analysis_table = final_merged[['Country', 'Region', 'Per capita GDP','Year']]"
   ]
  },
  {
   "cell_type": "code",
   "execution_count": 148,
   "metadata": {
    "ExecuteTime": {
     "end_time": "2017-12-31T23:49:33.987917Z",
     "start_time": "2017-12-31T23:49:33.975909Z"
    }
   },
   "outputs": [
    {
     "data": {
      "text/html": [
       "<div>\n",
       "<style>\n",
       "    .dataframe thead tr:only-child th {\n",
       "        text-align: right;\n",
       "    }\n",
       "\n",
       "    .dataframe thead th {\n",
       "        text-align: left;\n",
       "    }\n",
       "\n",
       "    .dataframe tbody tr th {\n",
       "        vertical-align: top;\n",
       "    }\n",
       "</style>\n",
       "<table border=\"1\" class=\"dataframe\">\n",
       "  <thead>\n",
       "    <tr style=\"text-align: right;\">\n",
       "      <th></th>\n",
       "      <th>Country</th>\n",
       "      <th>Region</th>\n",
       "      <th>Per capita GDP</th>\n",
       "      <th>Year</th>\n",
       "    </tr>\n",
       "  </thead>\n",
       "  <tbody>\n",
       "    <tr>\n",
       "      <th>1739</th>\n",
       "      <td>Zimbabwe</td>\n",
       "      <td>SSA</td>\n",
       "      <td>768.540514</td>\n",
       "      <td>2011</td>\n",
       "    </tr>\n",
       "    <tr>\n",
       "      <th>1740</th>\n",
       "      <td>Zimbabwe</td>\n",
       "      <td>SSA</td>\n",
       "      <td>850.847229</td>\n",
       "      <td>2012</td>\n",
       "    </tr>\n",
       "    <tr>\n",
       "      <th>1741</th>\n",
       "      <td>Zimbabwe</td>\n",
       "      <td>SSA</td>\n",
       "      <td>905.485078</td>\n",
       "      <td>2013</td>\n",
       "    </tr>\n",
       "    <tr>\n",
       "      <th>1742</th>\n",
       "      <td>Zimbabwe</td>\n",
       "      <td>SSA</td>\n",
       "      <td>931.203924</td>\n",
       "      <td>2014</td>\n",
       "    </tr>\n",
       "    <tr>\n",
       "      <th>1743</th>\n",
       "      <td>Zimbabwe</td>\n",
       "      <td>SSA</td>\n",
       "      <td>890.421576</td>\n",
       "      <td>2015</td>\n",
       "    </tr>\n",
       "  </tbody>\n",
       "</table>\n",
       "</div>"
      ],
      "text/plain": [
       "       Country Region  Per capita GDP  Year\n",
       "1739  Zimbabwe    SSA      768.540514  2011\n",
       "1740  Zimbabwe    SSA      850.847229  2012\n",
       "1741  Zimbabwe    SSA      905.485078  2013\n",
       "1742  Zimbabwe    SSA      931.203924  2014\n",
       "1743  Zimbabwe    SSA      890.421576  2015"
      ]
     },
     "execution_count": 148,
     "metadata": {},
     "output_type": "execute_result"
    }
   ],
   "source": [
    "analysis_table.tail()"
   ]
  },
  {
   "cell_type": "code",
   "execution_count": 224,
   "metadata": {
    "ExecuteTime": {
     "end_time": "2018-01-01T00:36:37.889121Z",
     "start_time": "2018-01-01T00:36:37.881114Z"
    }
   },
   "outputs": [],
   "source": [
    "group_analysis = analysis_table.groupby(['Country']).agg({'Per capita GDP':'mean'})"
   ]
  },
  {
   "cell_type": "code",
   "execution_count": 231,
   "metadata": {
    "ExecuteTime": {
     "end_time": "2018-01-01T00:38:50.763113Z",
     "start_time": "2018-01-01T00:38:50.758129Z"
    }
   },
   "outputs": [],
   "source": [
    "gdp_column = group_analysis"
   ]
  },
  {
   "cell_type": "code",
   "execution_count": 230,
   "metadata": {
    "ExecuteTime": {
     "end_time": "2018-01-01T00:38:07.945082Z",
     "start_time": "2018-01-01T00:38:07.933072Z"
    }
   },
   "outputs": [
    {
     "data": {
      "text/html": [
       "<div>\n",
       "<style>\n",
       "    .dataframe thead tr:only-child th {\n",
       "        text-align: right;\n",
       "    }\n",
       "\n",
       "    .dataframe thead th {\n",
       "        text-align: left;\n",
       "    }\n",
       "\n",
       "    .dataframe tbody tr th {\n",
       "        vertical-align: top;\n",
       "    }\n",
       "</style>\n",
       "<table border=\"1\" class=\"dataframe\">\n",
       "  <thead>\n",
       "    <tr style=\"text-align: right;\">\n",
       "      <th></th>\n",
       "      <th>Per capita GDP</th>\n",
       "    </tr>\n",
       "    <tr>\n",
       "      <th>Country</th>\n",
       "      <th></th>\n",
       "    </tr>\n",
       "  </thead>\n",
       "  <tbody>\n",
       "    <tr>\n",
       "      <th>Angola</th>\n",
       "      <td>1701.670683</td>\n",
       "    </tr>\n",
       "    <tr>\n",
       "      <th>Benin</th>\n",
       "      <td>430.773726</td>\n",
       "    </tr>\n",
       "    <tr>\n",
       "      <th>Botswana</th>\n",
       "      <td>2798.869019</td>\n",
       "    </tr>\n",
       "    <tr>\n",
       "      <th>Burkina Faso</th>\n",
       "      <td>318.221919</td>\n",
       "    </tr>\n",
       "    <tr>\n",
       "      <th>Burundi</th>\n",
       "      <td>169.639283</td>\n",
       "    </tr>\n",
       "  </tbody>\n",
       "</table>\n",
       "</div>"
      ],
      "text/plain": [
       "              Per capita GDP\n",
       "Country                     \n",
       "Angola           1701.670683\n",
       "Benin             430.773726\n",
       "Botswana         2798.869019\n",
       "Burkina Faso      318.221919\n",
       "Burundi           169.639283"
      ]
     },
     "execution_count": 230,
     "metadata": {},
     "output_type": "execute_result"
    }
   ],
   "source": [
    "group_analysis2 = analysis_table.groupby(['Country']).agg({'Per capita GDP':'mean'})\n",
    "group_analysis2.head()"
   ]
  },
  {
   "cell_type": "code",
   "execution_count": null,
   "metadata": {},
   "outputs": [],
   "source": []
  },
  {
   "cell_type": "code",
   "execution_count": null,
   "metadata": {},
   "outputs": [],
   "source": []
  },
  {
   "cell_type": "code",
   "execution_count": null,
   "metadata": {},
   "outputs": [],
   "source": []
  },
  {
   "cell_type": "code",
   "execution_count": 232,
   "metadata": {
    "ExecuteTime": {
     "end_time": "2018-01-01T00:38:54.497443Z",
     "start_time": "2018-01-01T00:38:54.492437Z"
    }
   },
   "outputs": [],
   "source": [
    "gdp_column = gdp_column.reset_index()"
   ]
  },
  {
   "cell_type": "code",
   "execution_count": 233,
   "metadata": {
    "ExecuteTime": {
     "end_time": "2018-01-01T00:38:55.913688Z",
     "start_time": "2018-01-01T00:38:55.898679Z"
    }
   },
   "outputs": [
    {
     "data": {
      "text/html": [
       "<div>\n",
       "<style>\n",
       "    .dataframe thead tr:only-child th {\n",
       "        text-align: right;\n",
       "    }\n",
       "\n",
       "    .dataframe thead th {\n",
       "        text-align: left;\n",
       "    }\n",
       "\n",
       "    .dataframe tbody tr th {\n",
       "        vertical-align: top;\n",
       "    }\n",
       "</style>\n",
       "<table border=\"1\" class=\"dataframe\">\n",
       "  <thead>\n",
       "    <tr style=\"text-align: right;\">\n",
       "      <th></th>\n",
       "      <th>Year</th>\n",
       "      <th>Per capita GDP</th>\n",
       "    </tr>\n",
       "  </thead>\n",
       "  <tbody>\n",
       "    <tr>\n",
       "      <th>0</th>\n",
       "      <td>1970</td>\n",
       "      <td>244.270864</td>\n",
       "    </tr>\n",
       "    <tr>\n",
       "      <th>1</th>\n",
       "      <td>1971</td>\n",
       "      <td>264.173091</td>\n",
       "    </tr>\n",
       "    <tr>\n",
       "      <th>2</th>\n",
       "      <td>1972</td>\n",
       "      <td>294.230738</td>\n",
       "    </tr>\n",
       "    <tr>\n",
       "      <th>3</th>\n",
       "      <td>1973</td>\n",
       "      <td>360.156807</td>\n",
       "    </tr>\n",
       "    <tr>\n",
       "      <th>4</th>\n",
       "      <td>1974</td>\n",
       "      <td>461.033039</td>\n",
       "    </tr>\n",
       "    <tr>\n",
       "      <th>5</th>\n",
       "      <td>1975</td>\n",
       "      <td>527.671029</td>\n",
       "    </tr>\n",
       "    <tr>\n",
       "      <th>6</th>\n",
       "      <td>1976</td>\n",
       "      <td>576.436836</td>\n",
       "    </tr>\n",
       "    <tr>\n",
       "      <th>7</th>\n",
       "      <td>1977</td>\n",
       "      <td>599.206065</td>\n",
       "    </tr>\n",
       "    <tr>\n",
       "      <th>8</th>\n",
       "      <td>1978</td>\n",
       "      <td>639.873761</td>\n",
       "    </tr>\n",
       "    <tr>\n",
       "      <th>9</th>\n",
       "      <td>1979</td>\n",
       "      <td>760.638047</td>\n",
       "    </tr>\n",
       "    <tr>\n",
       "      <th>10</th>\n",
       "      <td>1980</td>\n",
       "      <td>918.063002</td>\n",
       "    </tr>\n",
       "    <tr>\n",
       "      <th>11</th>\n",
       "      <td>1981</td>\n",
       "      <td>871.431405</td>\n",
       "    </tr>\n",
       "    <tr>\n",
       "      <th>12</th>\n",
       "      <td>1982</td>\n",
       "      <td>815.286905</td>\n",
       "    </tr>\n",
       "    <tr>\n",
       "      <th>13</th>\n",
       "      <td>1983</td>\n",
       "      <td>787.278590</td>\n",
       "    </tr>\n",
       "    <tr>\n",
       "      <th>14</th>\n",
       "      <td>1984</td>\n",
       "      <td>753.292101</td>\n",
       "    </tr>\n",
       "    <tr>\n",
       "      <th>15</th>\n",
       "      <td>1985</td>\n",
       "      <td>730.841014</td>\n",
       "    </tr>\n",
       "    <tr>\n",
       "      <th>16</th>\n",
       "      <td>1986</td>\n",
       "      <td>774.951558</td>\n",
       "    </tr>\n",
       "    <tr>\n",
       "      <th>17</th>\n",
       "      <td>1987</td>\n",
       "      <td>839.783886</td>\n",
       "    </tr>\n",
       "    <tr>\n",
       "      <th>18</th>\n",
       "      <td>1988</td>\n",
       "      <td>893.961149</td>\n",
       "    </tr>\n",
       "    <tr>\n",
       "      <th>19</th>\n",
       "      <td>1989</td>\n",
       "      <td>926.260088</td>\n",
       "    </tr>\n",
       "    <tr>\n",
       "      <th>20</th>\n",
       "      <td>1990</td>\n",
       "      <td>1032.975772</td>\n",
       "    </tr>\n",
       "    <tr>\n",
       "      <th>21</th>\n",
       "      <td>1991</td>\n",
       "      <td>1027.052726</td>\n",
       "    </tr>\n",
       "    <tr>\n",
       "      <th>22</th>\n",
       "      <td>1992</td>\n",
       "      <td>1070.707839</td>\n",
       "    </tr>\n",
       "    <tr>\n",
       "      <th>23</th>\n",
       "      <td>1993</td>\n",
       "      <td>1007.133626</td>\n",
       "    </tr>\n",
       "    <tr>\n",
       "      <th>24</th>\n",
       "      <td>1994</td>\n",
       "      <td>949.946416</td>\n",
       "    </tr>\n",
       "    <tr>\n",
       "      <th>25</th>\n",
       "      <td>1995</td>\n",
       "      <td>1035.006466</td>\n",
       "    </tr>\n",
       "    <tr>\n",
       "      <th>26</th>\n",
       "      <td>1996</td>\n",
       "      <td>1056.685945</td>\n",
       "    </tr>\n",
       "    <tr>\n",
       "      <th>27</th>\n",
       "      <td>1997</td>\n",
       "      <td>1074.636997</td>\n",
       "    </tr>\n",
       "    <tr>\n",
       "      <th>28</th>\n",
       "      <td>1998</td>\n",
       "      <td>1025.690368</td>\n",
       "    </tr>\n",
       "    <tr>\n",
       "      <th>29</th>\n",
       "      <td>2000</td>\n",
       "      <td>1059.376316</td>\n",
       "    </tr>\n",
       "    <tr>\n",
       "      <th>30</th>\n",
       "      <td>2001</td>\n",
       "      <td>1050.631149</td>\n",
       "    </tr>\n",
       "    <tr>\n",
       "      <th>31</th>\n",
       "      <td>2002</td>\n",
       "      <td>1112.226479</td>\n",
       "    </tr>\n",
       "    <tr>\n",
       "      <th>32</th>\n",
       "      <td>2003</td>\n",
       "      <td>1325.199861</td>\n",
       "    </tr>\n",
       "    <tr>\n",
       "      <th>33</th>\n",
       "      <td>2004</td>\n",
       "      <td>1547.390205</td>\n",
       "    </tr>\n",
       "    <tr>\n",
       "      <th>34</th>\n",
       "      <td>2005</td>\n",
       "      <td>1792.528190</td>\n",
       "    </tr>\n",
       "    <tr>\n",
       "      <th>35</th>\n",
       "      <td>2006</td>\n",
       "      <td>1960.215663</td>\n",
       "    </tr>\n",
       "    <tr>\n",
       "      <th>36</th>\n",
       "      <td>2007</td>\n",
       "      <td>2229.897188</td>\n",
       "    </tr>\n",
       "    <tr>\n",
       "      <th>37</th>\n",
       "      <td>2008</td>\n",
       "      <td>2601.776708</td>\n",
       "    </tr>\n",
       "    <tr>\n",
       "      <th>38</th>\n",
       "      <td>2009</td>\n",
       "      <td>2227.931900</td>\n",
       "    </tr>\n",
       "    <tr>\n",
       "      <th>39</th>\n",
       "      <td>2010</td>\n",
       "      <td>2450.441175</td>\n",
       "    </tr>\n",
       "    <tr>\n",
       "      <th>40</th>\n",
       "      <td>2011</td>\n",
       "      <td>2867.053181</td>\n",
       "    </tr>\n",
       "    <tr>\n",
       "      <th>41</th>\n",
       "      <td>2012</td>\n",
       "      <td>2859.741626</td>\n",
       "    </tr>\n",
       "    <tr>\n",
       "      <th>42</th>\n",
       "      <td>2013</td>\n",
       "      <td>2930.637001</td>\n",
       "    </tr>\n",
       "    <tr>\n",
       "      <th>43</th>\n",
       "      <td>2014</td>\n",
       "      <td>2927.080450</td>\n",
       "    </tr>\n",
       "    <tr>\n",
       "      <th>44</th>\n",
       "      <td>2015</td>\n",
       "      <td>2436.102496</td>\n",
       "    </tr>\n",
       "  </tbody>\n",
       "</table>\n",
       "</div>"
      ],
      "text/plain": [
       "    Year  Per capita GDP\n",
       "0   1970      244.270864\n",
       "1   1971      264.173091\n",
       "2   1972      294.230738\n",
       "3   1973      360.156807\n",
       "4   1974      461.033039\n",
       "5   1975      527.671029\n",
       "6   1976      576.436836\n",
       "7   1977      599.206065\n",
       "8   1978      639.873761\n",
       "9   1979      760.638047\n",
       "10  1980      918.063002\n",
       "11  1981      871.431405\n",
       "12  1982      815.286905\n",
       "13  1983      787.278590\n",
       "14  1984      753.292101\n",
       "15  1985      730.841014\n",
       "16  1986      774.951558\n",
       "17  1987      839.783886\n",
       "18  1988      893.961149\n",
       "19  1989      926.260088\n",
       "20  1990     1032.975772\n",
       "21  1991     1027.052726\n",
       "22  1992     1070.707839\n",
       "23  1993     1007.133626\n",
       "24  1994      949.946416\n",
       "25  1995     1035.006466\n",
       "26  1996     1056.685945\n",
       "27  1997     1074.636997\n",
       "28  1998     1025.690368\n",
       "29  2000     1059.376316\n",
       "30  2001     1050.631149\n",
       "31  2002     1112.226479\n",
       "32  2003     1325.199861\n",
       "33  2004     1547.390205\n",
       "34  2005     1792.528190\n",
       "35  2006     1960.215663\n",
       "36  2007     2229.897188\n",
       "37  2008     2601.776708\n",
       "38  2009     2227.931900\n",
       "39  2010     2450.441175\n",
       "40  2011     2867.053181\n",
       "41  2012     2859.741626\n",
       "42  2013     2930.637001\n",
       "43  2014     2927.080450\n",
       "44  2015     2436.102496"
      ]
     },
     "execution_count": 233,
     "metadata": {},
     "output_type": "execute_result"
    }
   ],
   "source": [
    "gdp_column"
   ]
  },
  {
   "cell_type": "code",
   "execution_count": 234,
   "metadata": {
    "ExecuteTime": {
     "end_time": "2018-01-01T00:39:03.925169Z",
     "start_time": "2018-01-01T00:39:03.920165Z"
    }
   },
   "outputs": [],
   "source": [
    "gdp_column['Region'] = analysis_table['Region']"
   ]
  },
  {
   "cell_type": "code",
   "execution_count": 235,
   "metadata": {
    "ExecuteTime": {
     "end_time": "2018-01-01T00:39:04.707519Z",
     "start_time": "2018-01-01T00:39:04.697508Z"
    }
   },
   "outputs": [
    {
     "data": {
      "text/html": [
       "<div>\n",
       "<style>\n",
       "    .dataframe thead tr:only-child th {\n",
       "        text-align: right;\n",
       "    }\n",
       "\n",
       "    .dataframe thead th {\n",
       "        text-align: left;\n",
       "    }\n",
       "\n",
       "    .dataframe tbody tr th {\n",
       "        vertical-align: top;\n",
       "    }\n",
       "</style>\n",
       "<table border=\"1\" class=\"dataframe\">\n",
       "  <thead>\n",
       "    <tr style=\"text-align: right;\">\n",
       "      <th></th>\n",
       "      <th>Year</th>\n",
       "      <th>Per capita GDP</th>\n",
       "      <th>Region</th>\n",
       "    </tr>\n",
       "  </thead>\n",
       "  <tbody>\n",
       "    <tr>\n",
       "      <th>0</th>\n",
       "      <td>1970</td>\n",
       "      <td>244.270864</td>\n",
       "      <td>SSA</td>\n",
       "    </tr>\n",
       "    <tr>\n",
       "      <th>1</th>\n",
       "      <td>1971</td>\n",
       "      <td>264.173091</td>\n",
       "      <td>SSA</td>\n",
       "    </tr>\n",
       "    <tr>\n",
       "      <th>2</th>\n",
       "      <td>1972</td>\n",
       "      <td>294.230738</td>\n",
       "      <td>SSA</td>\n",
       "    </tr>\n",
       "    <tr>\n",
       "      <th>3</th>\n",
       "      <td>1973</td>\n",
       "      <td>360.156807</td>\n",
       "      <td>SSA</td>\n",
       "    </tr>\n",
       "    <tr>\n",
       "      <th>4</th>\n",
       "      <td>1974</td>\n",
       "      <td>461.033039</td>\n",
       "      <td>SSA</td>\n",
       "    </tr>\n",
       "  </tbody>\n",
       "</table>\n",
       "</div>"
      ],
      "text/plain": [
       "   Year  Per capita GDP Region\n",
       "0  1970      244.270864    SSA\n",
       "1  1971      264.173091    SSA\n",
       "2  1972      294.230738    SSA\n",
       "3  1973      360.156807    SSA\n",
       "4  1974      461.033039    SSA"
      ]
     },
     "execution_count": 235,
     "metadata": {},
     "output_type": "execute_result"
    }
   ],
   "source": [
    "gdp_column.head()"
   ]
  },
  {
   "cell_type": "code",
   "execution_count": 236,
   "metadata": {
    "ExecuteTime": {
     "end_time": "2018-01-01T00:39:09.721171Z",
     "start_time": "2018-01-01T00:39:09.716168Z"
    }
   },
   "outputs": [],
   "source": [
    "gdp_column.set_index('Year', drop=True, inplace=True)"
   ]
  },
  {
   "cell_type": "code",
   "execution_count": 237,
   "metadata": {
    "ExecuteTime": {
     "end_time": "2018-01-01T00:39:10.851807Z",
     "start_time": "2018-01-01T00:39:10.843803Z"
    }
   },
   "outputs": [
    {
     "data": {
      "text/html": [
       "<div>\n",
       "<style>\n",
       "    .dataframe thead tr:only-child th {\n",
       "        text-align: right;\n",
       "    }\n",
       "\n",
       "    .dataframe thead th {\n",
       "        text-align: left;\n",
       "    }\n",
       "\n",
       "    .dataframe tbody tr th {\n",
       "        vertical-align: top;\n",
       "    }\n",
       "</style>\n",
       "<table border=\"1\" class=\"dataframe\">\n",
       "  <thead>\n",
       "    <tr style=\"text-align: right;\">\n",
       "      <th></th>\n",
       "      <th>Per capita GDP</th>\n",
       "      <th>Region</th>\n",
       "    </tr>\n",
       "    <tr>\n",
       "      <th>Year</th>\n",
       "      <th></th>\n",
       "      <th></th>\n",
       "    </tr>\n",
       "  </thead>\n",
       "  <tbody>\n",
       "    <tr>\n",
       "      <th>1970</th>\n",
       "      <td>244.270864</td>\n",
       "      <td>SSA</td>\n",
       "    </tr>\n",
       "    <tr>\n",
       "      <th>1971</th>\n",
       "      <td>264.173091</td>\n",
       "      <td>SSA</td>\n",
       "    </tr>\n",
       "    <tr>\n",
       "      <th>1972</th>\n",
       "      <td>294.230738</td>\n",
       "      <td>SSA</td>\n",
       "    </tr>\n",
       "    <tr>\n",
       "      <th>1973</th>\n",
       "      <td>360.156807</td>\n",
       "      <td>SSA</td>\n",
       "    </tr>\n",
       "    <tr>\n",
       "      <th>1974</th>\n",
       "      <td>461.033039</td>\n",
       "      <td>SSA</td>\n",
       "    </tr>\n",
       "  </tbody>\n",
       "</table>\n",
       "</div>"
      ],
      "text/plain": [
       "      Per capita GDP Region\n",
       "Year                       \n",
       "1970      244.270864    SSA\n",
       "1971      264.173091    SSA\n",
       "1972      294.230738    SSA\n",
       "1973      360.156807    SSA\n",
       "1974      461.033039    SSA"
      ]
     },
     "execution_count": 237,
     "metadata": {},
     "output_type": "execute_result"
    }
   ],
   "source": [
    "gdp_column.head()"
   ]
  },
  {
   "cell_type": "code",
   "execution_count": 238,
   "metadata": {
    "ExecuteTime": {
     "end_time": "2018-01-01T00:39:16.871329Z",
     "start_time": "2018-01-01T00:39:16.866325Z"
    }
   },
   "outputs": [],
   "source": [
    "# adding column\n",
    "gdp_column['counter'] = range(0, len(gdp_column.index.values))"
   ]
  },
  {
   "cell_type": "code",
   "execution_count": 239,
   "metadata": {
    "ExecuteTime": {
     "end_time": "2018-01-01T00:39:18.145353Z",
     "start_time": "2018-01-01T00:39:18.136352Z"
    }
   },
   "outputs": [
    {
     "data": {
      "text/html": [
       "<div>\n",
       "<style>\n",
       "    .dataframe thead tr:only-child th {\n",
       "        text-align: right;\n",
       "    }\n",
       "\n",
       "    .dataframe thead th {\n",
       "        text-align: left;\n",
       "    }\n",
       "\n",
       "    .dataframe tbody tr th {\n",
       "        vertical-align: top;\n",
       "    }\n",
       "</style>\n",
       "<table border=\"1\" class=\"dataframe\">\n",
       "  <thead>\n",
       "    <tr style=\"text-align: right;\">\n",
       "      <th></th>\n",
       "      <th>Per capita GDP</th>\n",
       "      <th>Region</th>\n",
       "      <th>counter</th>\n",
       "    </tr>\n",
       "    <tr>\n",
       "      <th>Year</th>\n",
       "      <th></th>\n",
       "      <th></th>\n",
       "      <th></th>\n",
       "    </tr>\n",
       "  </thead>\n",
       "  <tbody>\n",
       "    <tr>\n",
       "      <th>1970</th>\n",
       "      <td>244.270864</td>\n",
       "      <td>SSA</td>\n",
       "      <td>0</td>\n",
       "    </tr>\n",
       "    <tr>\n",
       "      <th>1971</th>\n",
       "      <td>264.173091</td>\n",
       "      <td>SSA</td>\n",
       "      <td>1</td>\n",
       "    </tr>\n",
       "    <tr>\n",
       "      <th>1972</th>\n",
       "      <td>294.230738</td>\n",
       "      <td>SSA</td>\n",
       "      <td>2</td>\n",
       "    </tr>\n",
       "    <tr>\n",
       "      <th>1973</th>\n",
       "      <td>360.156807</td>\n",
       "      <td>SSA</td>\n",
       "      <td>3</td>\n",
       "    </tr>\n",
       "    <tr>\n",
       "      <th>1974</th>\n",
       "      <td>461.033039</td>\n",
       "      <td>SSA</td>\n",
       "      <td>4</td>\n",
       "    </tr>\n",
       "  </tbody>\n",
       "</table>\n",
       "</div>"
      ],
      "text/plain": [
       "      Per capita GDP Region  counter\n",
       "Year                                \n",
       "1970      244.270864    SSA        0\n",
       "1971      264.173091    SSA        1\n",
       "1972      294.230738    SSA        2\n",
       "1973      360.156807    SSA        3\n",
       "1974      461.033039    SSA        4"
      ]
     },
     "execution_count": 239,
     "metadata": {},
     "output_type": "execute_result"
    }
   ],
   "source": [
    "gdp_column.head()"
   ]
  },
  {
   "cell_type": "code",
   "execution_count": 240,
   "metadata": {
    "ExecuteTime": {
     "end_time": "2018-01-01T00:39:23.009636Z",
     "start_time": "2018-01-01T00:39:22.877541Z"
    }
   },
   "outputs": [
    {
     "data": {
      "text/plain": [
       "[<matplotlib.lines.Line2D at 0x1d7684a4128>]"
      ]
     },
     "execution_count": 240,
     "metadata": {},
     "output_type": "execute_result"
    },
    {
     "data": {
      "image/png": "[encoded data removed]",
      "text/plain": [
       "<matplotlib.figure.Figure at 0x1d7684a8898>"
      ]
     },
     "metadata": {},
     "output_type": "display_data"
    }
   ],
   "source": [
    "#plot counter(index) vs per capita gdp\n",
    "fig = plt.figure(1)\n",
    "ax1 = fig.add_subplot(111)\n",
    "ax1.set_xlabel(\"comparing\")\n",
    "ax1.set_ylabel(\"GDP\")\n",
    "ax1.set_title(\"Original Plot\")\n",
    "ax1.plot('counter','Per capita GDP', data = gdp_column)"
   ]
  },
  {
   "cell_type": "code",
   "execution_count": 241,
   "metadata": {
    "ExecuteTime": {
     "end_time": "2018-01-01T00:39:31.043584Z",
     "start_time": "2018-01-01T00:39:31.027573Z"
    }
   },
   "outputs": [
    {
     "data": {
      "text/html": [
       "<div>\n",
       "<style>\n",
       "    .dataframe thead tr:only-child th {\n",
       "        text-align: right;\n",
       "    }\n",
       "\n",
       "    .dataframe thead th {\n",
       "        text-align: left;\n",
       "    }\n",
       "\n",
       "    .dataframe tbody tr th {\n",
       "        vertical-align: top;\n",
       "    }\n",
       "</style>\n",
       "<table border=\"1\" class=\"dataframe\">\n",
       "  <thead>\n",
       "    <tr style=\"text-align: right;\">\n",
       "      <th></th>\n",
       "      <th>Per capita GDP</th>\n",
       "      <th>Region</th>\n",
       "      <th>counter</th>\n",
       "    </tr>\n",
       "  </thead>\n",
       "  <tbody>\n",
       "    <tr>\n",
       "      <th>1974</th>\n",
       "      <td>461.033039</td>\n",
       "      <td>SSA</td>\n",
       "      <td>4</td>\n",
       "    </tr>\n",
       "    <tr>\n",
       "      <th>1978</th>\n",
       "      <td>639.873761</td>\n",
       "      <td>SSA</td>\n",
       "      <td>8</td>\n",
       "    </tr>\n",
       "    <tr>\n",
       "      <th>1982</th>\n",
       "      <td>815.286905</td>\n",
       "      <td>SSA</td>\n",
       "      <td>12</td>\n",
       "    </tr>\n",
       "    <tr>\n",
       "      <th>1995</th>\n",
       "      <td>1035.006466</td>\n",
       "      <td>SSA</td>\n",
       "      <td>25</td>\n",
       "    </tr>\n",
       "    <tr>\n",
       "      <th>1996</th>\n",
       "      <td>1056.685945</td>\n",
       "      <td>SSA</td>\n",
       "      <td>26</td>\n",
       "    </tr>\n",
       "  </tbody>\n",
       "</table>\n",
       "</div>"
      ],
      "text/plain": [
       "      Per capita GDP Region  counter\n",
       "1974      461.033039    SSA        4\n",
       "1978      639.873761    SSA        8\n",
       "1982      815.286905    SSA       12\n",
       "1995     1035.006466    SSA       25\n",
       "1996     1056.685945    SSA       26"
      ]
     },
     "execution_count": 241,
     "metadata": {},
     "output_type": "execute_result"
    }
   ],
   "source": [
    "# choosing same of the data\n",
    "sample_data = gdp_column.sample(frac=.2, random_state=42)\n",
    "sample_data.index.name = None\n",
    "sample_data = sample_data.sort_values(by = ['counter'], ascending=[True])\n",
    "sample_data.head()"
   ]
  },
  {
   "cell_type": "code",
   "execution_count": 242,
   "metadata": {
    "ExecuteTime": {
     "end_time": "2018-01-01T00:39:33.829562Z",
     "start_time": "2018-01-01T00:39:33.688179Z"
    }
   },
   "outputs": [
    {
     "data": {
      "image/png": "[encoded data removed]",
      "text/plain": [
       "<matplotlib.figure.Figure at 0x1d763075cc0>"
      ]
     },
     "metadata": {},
     "output_type": "display_data"
    }
   ],
   "source": [
    "axes = sample_data.plot('counter', 'Per capita GDP', legend=False, title=\"sample data\")"
   ]
  },
  {
   "cell_type": "code",
   "execution_count": 243,
   "metadata": {
    "ExecuteTime": {
     "end_time": "2018-01-01T00:39:37.447642Z",
     "start_time": "2018-01-01T00:39:37.244479Z"
    }
   },
   "outputs": [
    {
     "data": {
      "text/plain": [
       "Text(0.5,1,'Sample data')"
      ]
     },
     "execution_count": 243,
     "metadata": {},
     "output_type": "execute_result"
    },
    {
     "data": {
      "image/png": "[encoded data removed]",
      "text/plain": [
       "<matplotlib.figure.Figure at 0x1d7684934e0>"
      ]
     },
     "metadata": {},
     "output_type": "display_data"
    }
   ],
   "source": [
    "fig, axes = plt.subplots(nrows = 1, ncols = 2, figsize = (10, 5))\n",
    "axes[0].plot('counter','Per capita GDP', data = gdp_column)\n",
    "axes[0].set_title(\"Original plot\")\n",
    "axes[1].plot('counter', 'Per capita GDP', data = sample_data)\n",
    "axes[1].set_title(\"Sample data\")"
   ]
  },
  {
   "cell_type": "code",
   "execution_count": 244,
   "metadata": {
    "ExecuteTime": {
     "end_time": "2018-01-01T00:39:42.892438Z",
     "start_time": "2018-01-01T00:39:42.887434Z"
    }
   },
   "outputs": [],
   "source": [
    "gdp_column.reset_index(inplace=True)"
   ]
  },
  {
   "cell_type": "code",
   "execution_count": 251,
   "metadata": {
    "ExecuteTime": {
     "end_time": "2018-01-01T00:43:19.931227Z",
     "start_time": "2018-01-01T00:43:19.920218Z"
    }
   },
   "outputs": [
    {
     "data": {
      "text/html": [
       "<div>\n",
       "<style>\n",
       "    .dataframe thead tr:only-child th {\n",
       "        text-align: right;\n",
       "    }\n",
       "\n",
       "    .dataframe thead th {\n",
       "        text-align: left;\n",
       "    }\n",
       "\n",
       "    .dataframe tbody tr th {\n",
       "        vertical-align: top;\n",
       "    }\n",
       "</style>\n",
       "<table border=\"1\" class=\"dataframe\">\n",
       "  <thead>\n",
       "    <tr style=\"text-align: right;\">\n",
       "      <th></th>\n",
       "      <th>Year</th>\n",
       "      <th>Per capita GDP</th>\n",
       "      <th>Region</th>\n",
       "      <th>counter</th>\n",
       "    </tr>\n",
       "  </thead>\n",
       "  <tbody>\n",
       "    <tr>\n",
       "      <th>40</th>\n",
       "      <td>2011</td>\n",
       "      <td>2867.053181</td>\n",
       "      <td>SSA</td>\n",
       "      <td>40</td>\n",
       "    </tr>\n",
       "    <tr>\n",
       "      <th>41</th>\n",
       "      <td>2012</td>\n",
       "      <td>2859.741626</td>\n",
       "      <td>SSA</td>\n",
       "      <td>41</td>\n",
       "    </tr>\n",
       "    <tr>\n",
       "      <th>42</th>\n",
       "      <td>2013</td>\n",
       "      <td>2930.637001</td>\n",
       "      <td>SSA</td>\n",
       "      <td>42</td>\n",
       "    </tr>\n",
       "    <tr>\n",
       "      <th>43</th>\n",
       "      <td>2014</td>\n",
       "      <td>2927.080450</td>\n",
       "      <td>SSA</td>\n",
       "      <td>43</td>\n",
       "    </tr>\n",
       "    <tr>\n",
       "      <th>44</th>\n",
       "      <td>2015</td>\n",
       "      <td>2436.102496</td>\n",
       "      <td>SSA</td>\n",
       "      <td>44</td>\n",
       "    </tr>\n",
       "  </tbody>\n",
       "</table>\n",
       "</div>"
      ],
      "text/plain": [
       "    Year  Per capita GDP Region  counter\n",
       "40  2011     2867.053181    SSA       40\n",
       "41  2012     2859.741626    SSA       41\n",
       "42  2013     2930.637001    SSA       42\n",
       "43  2014     2927.080450    SSA       43\n",
       "44  2015     2436.102496    SSA       44"
      ]
     },
     "execution_count": 251,
     "metadata": {},
     "output_type": "execute_result"
    }
   ],
   "source": [
    "gdp_column.tail()"
   ]
  },
  {
   "cell_type": "code",
   "execution_count": 274,
   "metadata": {
    "ExecuteTime": {
     "end_time": "2018-01-01T00:52:44.256878Z",
     "start_time": "2018-01-01T00:52:44.094379Z"
    }
   },
   "outputs": [
    {
     "data": {
      "text/plain": [
       "Text(0,0.5,'Per capita GDP')"
      ]
     },
     "execution_count": 274,
     "metadata": {},
     "output_type": "execute_result"
    },
    {
     "data": {
      "image/png": "[encoded data removed]",
      "text/plain": [
       "<matplotlib.figure.Figure at 0x1d76600b4e0>"
      ]
     },
     "metadata": {},
     "output_type": "display_data"
    }
   ],
   "source": [
    "#time series analysis\n",
    "sns.set_style(\"darkgrid\")\n",
    "fig = plt.figure(figsize=(10,6))\n",
    "ax = fig.add_subplot(111)\n",
    "ax.plot(gdp_column['Year'], gdp_column['Per capita GDP'], color = 'red',\n",
    "        linewidth = 3, alpha = .7, label = \"GDP\")\n",
    "ax.set_xlim(xmin=1970, xmax=2015)\n",
    "ax.set_xlabel(\"Year\")\n",
    "ax.set_ylabel(\"Per capita GDP\")"
   ]
  },
  {
   "cell_type": "code",
   "execution_count": 279,
   "metadata": {
    "ExecuteTime": {
     "end_time": "2018-01-01T01:00:59.995112Z",
     "start_time": "2018-01-01T01:00:59.980101Z"
    }
   },
   "outputs": [
    {
     "data": {
      "text/html": [
       "<div>\n",
       "<style>\n",
       "    .dataframe thead tr:only-child th {\n",
       "        text-align: right;\n",
       "    }\n",
       "\n",
       "    .dataframe thead th {\n",
       "        text-align: left;\n",
       "    }\n",
       "\n",
       "    .dataframe tbody tr th {\n",
       "        vertical-align: top;\n",
       "    }\n",
       "</style>\n",
       "<table border=\"1\" class=\"dataframe\">\n",
       "  <thead>\n",
       "    <tr style=\"text-align: right;\">\n",
       "      <th></th>\n",
       "      <th>Country</th>\n",
       "      <th>Region</th>\n",
       "      <th>Per capita GDP</th>\n",
       "      <th>Year</th>\n",
       "      <th>democ</th>\n",
       "    </tr>\n",
       "  </thead>\n",
       "  <tbody>\n",
       "    <tr>\n",
       "      <th>1739</th>\n",
       "      <td>Zimbabwe</td>\n",
       "      <td>SSA</td>\n",
       "      <td>768.540514</td>\n",
       "      <td>2011</td>\n",
       "      <td>3.0</td>\n",
       "    </tr>\n",
       "    <tr>\n",
       "      <th>1740</th>\n",
       "      <td>Zimbabwe</td>\n",
       "      <td>SSA</td>\n",
       "      <td>850.847229</td>\n",
       "      <td>2012</td>\n",
       "      <td>3.0</td>\n",
       "    </tr>\n",
       "    <tr>\n",
       "      <th>1741</th>\n",
       "      <td>Zimbabwe</td>\n",
       "      <td>SSA</td>\n",
       "      <td>905.485078</td>\n",
       "      <td>2013</td>\n",
       "      <td>5.0</td>\n",
       "    </tr>\n",
       "    <tr>\n",
       "      <th>1742</th>\n",
       "      <td>Zimbabwe</td>\n",
       "      <td>SSA</td>\n",
       "      <td>931.203924</td>\n",
       "      <td>2014</td>\n",
       "      <td>5.0</td>\n",
       "    </tr>\n",
       "    <tr>\n",
       "      <th>1743</th>\n",
       "      <td>Zimbabwe</td>\n",
       "      <td>SSA</td>\n",
       "      <td>890.421576</td>\n",
       "      <td>2015</td>\n",
       "      <td>5.0</td>\n",
       "    </tr>\n",
       "  </tbody>\n",
       "</table>\n",
       "</div>"
      ],
      "text/plain": [
       "       Country Region  Per capita GDP  Year  democ\n",
       "1739  Zimbabwe    SSA      768.540514  2011    3.0\n",
       "1740  Zimbabwe    SSA      850.847229  2012    3.0\n",
       "1741  Zimbabwe    SSA      905.485078  2013    5.0\n",
       "1742  Zimbabwe    SSA      931.203924  2014    5.0\n",
       "1743  Zimbabwe    SSA      890.421576  2015    5.0"
      ]
     },
     "execution_count": 279,
     "metadata": {},
     "output_type": "execute_result"
    }
   ],
   "source": [
    "demo = final_merged[['Country', 'Region', 'Per capita GDP','Year', 'democ']]\n",
    "demo.tail()"
   ]
  },
  {
   "cell_type": "code",
   "execution_count": 281,
   "metadata": {
    "ExecuteTime": {
     "end_time": "2018-01-01T01:01:54.257114Z",
     "start_time": "2018-01-01T01:01:54.251127Z"
    }
   },
   "outputs": [],
   "source": [
    "democracy = final_merged.groupby(['Year']).agg({'democ':'mean'})"
   ]
  },
  {
   "cell_type": "code",
   "execution_count": 283,
   "metadata": {
    "ExecuteTime": {
     "end_time": "2018-01-01T01:02:18.275675Z",
     "start_time": "2018-01-01T01:02:18.267683Z"
    }
   },
   "outputs": [
    {
     "data": {
      "text/html": [
       "<div>\n",
       "<style>\n",
       "    .dataframe thead tr:only-child th {\n",
       "        text-align: right;\n",
       "    }\n",
       "\n",
       "    .dataframe thead th {\n",
       "        text-align: left;\n",
       "    }\n",
       "\n",
       "    .dataframe tbody tr th {\n",
       "        vertical-align: top;\n",
       "    }\n",
       "</style>\n",
       "<table border=\"1\" class=\"dataframe\">\n",
       "  <thead>\n",
       "    <tr style=\"text-align: right;\">\n",
       "      <th></th>\n",
       "      <th>democ</th>\n",
       "    </tr>\n",
       "    <tr>\n",
       "      <th>Year</th>\n",
       "      <th></th>\n",
       "    </tr>\n",
       "  </thead>\n",
       "  <tbody>\n",
       "    <tr>\n",
       "      <th>1970</th>\n",
       "      <td>1.516129</td>\n",
       "    </tr>\n",
       "    <tr>\n",
       "      <th>1971</th>\n",
       "      <td>1.419355</td>\n",
       "    </tr>\n",
       "    <tr>\n",
       "      <th>1972</th>\n",
       "      <td>1.096774</td>\n",
       "    </tr>\n",
       "    <tr>\n",
       "      <th>1973</th>\n",
       "      <td>0.967742</td>\n",
       "    </tr>\n",
       "    <tr>\n",
       "      <th>1974</th>\n",
       "      <td>0.937500</td>\n",
       "    </tr>\n",
       "  </tbody>\n",
       "</table>\n",
       "</div>"
      ],
      "text/plain": [
       "         democ\n",
       "Year          \n",
       "1970  1.516129\n",
       "1971  1.419355\n",
       "1972  1.096774\n",
       "1973  0.967742\n",
       "1974  0.937500"
      ]
     },
     "execution_count": 283,
     "metadata": {},
     "output_type": "execute_result"
    }
   ],
   "source": [
    "democracy.head()"
   ]
  },
  {
   "cell_type": "code",
   "execution_count": 292,
   "metadata": {
    "ExecuteTime": {
     "end_time": "2018-01-01T01:03:41.807351Z",
     "start_time": "2018-01-01T01:03:41.802347Z"
    }
   },
   "outputs": [],
   "source": [
    "democracy.reset_index(inplace=True)"
   ]
  },
  {
   "cell_type": "code",
   "execution_count": 299,
   "metadata": {
    "ExecuteTime": {
     "end_time": "2018-01-01T01:05:15.453298Z",
     "start_time": "2018-01-01T01:05:15.445790Z"
    }
   },
   "outputs": [],
   "source": [
    "gdp_column = gdp_column.merge(democracy, on='Year')\n",
    "#gdp_column.drop(['democ_x'])"
   ]
  },
  {
   "cell_type": "code",
   "execution_count": 307,
   "metadata": {
    "ExecuteTime": {
     "end_time": "2018-01-01T01:07:14.111543Z",
     "start_time": "2018-01-01T01:07:14.097033Z"
    }
   },
   "outputs": [
    {
     "data": {
      "text/html": [
       "<div>\n",
       "<style>\n",
       "    .dataframe thead tr:only-child th {\n",
       "        text-align: right;\n",
       "    }\n",
       "\n",
       "    .dataframe thead th {\n",
       "        text-align: left;\n",
       "    }\n",
       "\n",
       "    .dataframe tbody tr th {\n",
       "        vertical-align: top;\n",
       "    }\n",
       "</style>\n",
       "<table border=\"1\" class=\"dataframe\">\n",
       "  <thead>\n",
       "    <tr style=\"text-align: right;\">\n",
       "      <th></th>\n",
       "      <th>Year</th>\n",
       "      <th>Per capita GDP</th>\n",
       "      <th>Region</th>\n",
       "      <th>counter</th>\n",
       "      <th>democ</th>\n",
       "    </tr>\n",
       "  </thead>\n",
       "  <tbody>\n",
       "    <tr>\n",
       "      <th>0</th>\n",
       "      <td>1970</td>\n",
       "      <td>244.270864</td>\n",
       "      <td>SSA</td>\n",
       "      <td>0</td>\n",
       "      <td>1.516129</td>\n",
       "    </tr>\n",
       "    <tr>\n",
       "      <th>1</th>\n",
       "      <td>1971</td>\n",
       "      <td>264.173091</td>\n",
       "      <td>SSA</td>\n",
       "      <td>1</td>\n",
       "      <td>1.419355</td>\n",
       "    </tr>\n",
       "    <tr>\n",
       "      <th>2</th>\n",
       "      <td>1972</td>\n",
       "      <td>294.230738</td>\n",
       "      <td>SSA</td>\n",
       "      <td>2</td>\n",
       "      <td>1.096774</td>\n",
       "    </tr>\n",
       "    <tr>\n",
       "      <th>3</th>\n",
       "      <td>1973</td>\n",
       "      <td>360.156807</td>\n",
       "      <td>SSA</td>\n",
       "      <td>3</td>\n",
       "      <td>0.967742</td>\n",
       "    </tr>\n",
       "    <tr>\n",
       "      <th>4</th>\n",
       "      <td>1974</td>\n",
       "      <td>461.033039</td>\n",
       "      <td>SSA</td>\n",
       "      <td>4</td>\n",
       "      <td>0.937500</td>\n",
       "    </tr>\n",
       "  </tbody>\n",
       "</table>\n",
       "</div>"
      ],
      "text/plain": [
       "   Year  Per capita GDP Region  counter     democ\n",
       "0  1970      244.270864    SSA        0  1.516129\n",
       "1  1971      264.173091    SSA        1  1.419355\n",
       "2  1972      294.230738    SSA        2  1.096774\n",
       "3  1973      360.156807    SSA        3  0.967742\n",
       "4  1974      461.033039    SSA        4  0.937500"
      ]
     },
     "execution_count": 307,
     "metadata": {},
     "output_type": "execute_result"
    }
   ],
   "source": [
    "#gdp_column.drop('democ_x', axis=1, inplace=True)\n",
    "gdp_column = gdp_column.rename(columns={'democ_y':'democ'})\n",
    "gdp_column.head()"
   ]
  },
  {
   "cell_type": "code",
   "execution_count": 336,
   "metadata": {
    "ExecuteTime": {
     "end_time": "2018-01-01T01:17:54.815460Z",
     "start_time": "2018-01-01T01:17:54.512549Z"
    }
   },
   "outputs": [
    {
     "data": {
      "text/plain": [
       "<matplotlib.legend.Legend at 0x1d769201940>"
      ]
     },
     "execution_count": 336,
     "metadata": {},
     "output_type": "execute_result"
    },
    {
     "data": {
      "image/png": "[encoded data removed]",
      "text/plain": [
       "<matplotlib.figure.Figure at 0x1d768f1e048>"
      ]
     },
     "metadata": {},
     "output_type": "display_data"
    }
   ],
   "source": [
    "#time series analysis\n",
    "sns.set_style(\"darkgrid\")\n",
    "fig = plt.figure(figsize=(10,8))\n",
    "ax = fig.add_subplot(211)\n",
    "ax.plot(gdp_column['Year'], gdp_column['Per capita GDP'], color = 'red',\n",
    "        linewidth = 3, alpha = .7, label = \"Per capita GDP\")\n",
    "ax.set_xlim(xmin=1970, xmax=2015)\n",
    "ax.set_ylabel(\"Per capita GDP\")\n",
    "plt.legend()\n",
    "#--------------------------------------------------------------\n",
    "ax = fig.add_subplot(212)\n",
    "ax.plot(gdp_column['Year'], gdp_column['democ'], color = 'blue',\n",
    "        linewidth = 3, alpha = .7, label = \"Democracy Score\")\n",
    "#ax.plot(gdp_column['Year'])\n",
    "ax.set_xlim(xmin=1970, xmax=2015)\n",
    "ax.set_xlabel(\"Year\")\n",
    "ax.set_ylabel(\"Democracy\")\n",
    "plt.legend()"
   ]
  },
  {
   "cell_type": "code",
   "execution_count": null,
   "metadata": {},
   "outputs": [],
   "source": []
  }
 ],
 "metadata": {
  "kernelspec": {
   "display_name": "Python 3",
   "language": "python",
   "name": "python3"
  },
  "language_info": {
   "codemirror_mode": {
    "name": "ipython",
    "version": 3
   },
   "file_extension": ".py",
   "mimetype": "text/x-python",
   "name": "python",
   "nbconvert_exporter": "python",
   "pygments_lexer": "ipython3",
   "version": "3.6.3"
  },
  "toc": {
   "nav_menu": {},
   "number_sections": true,
   "sideBar": true,
   "skip_h1_title": false,
   "toc_cell": false,
   "toc_position": {},
   "toc_section_display": "block",
   "toc_window_display": false
  },
  "varInspector": {
   "cols": {
    "lenName": 16,
    "lenType": 16,
    "lenVar": 40
   },
   "kernels_config": {
    "python": {
     "delete_cmd_postfix": "",
     "delete_cmd_prefix": "del ",
     "library": "var_list.py",
     "varRefreshCmd": "print(var_dic_list())"
    },
    "r": {
     "delete_cmd_postfix": ") ",
     "delete_cmd_prefix": "rm(",
     "library": "var_list.r",
     "varRefreshCmd": "cat(var_dic_list()) "
    }
   },
   "types_to_exclude": [
    "module",
    "function",
    "builtin_function_or_method",
    "instance",
    "_Feature"
   ],
   "window_display": false
  }
 },
 "nbformat": 4,
 "nbformat_minor": 2
}
