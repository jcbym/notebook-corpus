{
 "cells": [
  {
   "cell_type": "markdown",
   "metadata": {},
   "source": [
    "Funciones\n",
    "--"
   ]
  },
  {
   "cell_type": "code",
   "execution_count": 4,
   "metadata": {},
   "outputs": [],
   "source": [
    "def saludo():\n",
    "    print(\"Hola mundo\")"
   ]
  },
  {
   "cell_type": "code",
   "execution_count": 6,
   "metadata": {},
   "outputs": [],
   "source": [
    "def tres_saludos ():\n",
    "    for i in range (3):\n",
    "        saludo()\n",
    "    "
   ]
  },
  {
   "cell_type": "code",
   "execution_count": 7,
   "metadata": {},
   "outputs": [
    {
     "name": "stdout",
     "output_type": "stream",
     "text": [
      "Hola mundo\n",
      "Hola mundo\n",
      "Hola mundo\n"
     ]
    }
   ],
   "source": [
    "tres_saludos()"
   ]
  },
  {
   "cell_type": "code",
   "execution_count": 8,
   "metadata": {},
   "outputs": [],
   "source": [
    "def media_1 ():\n",
    "    media=(2+4)/2\n",
    "    print(\"La media es: \", media)"
   ]
  },
  {
   "cell_type": "code",
   "execution_count": 9,
   "metadata": {},
   "outputs": [
    {
     "name": "stdout",
     "output_type": "stream",
     "text": [
      "La media es:  3.0\n"
     ]
    }
   ],
   "source": [
    "media_1()"
   ]
  },
  {
   "cell_type": "code",
   "execution_count": 12,
   "metadata": {},
   "outputs": [
    {
     "name": "stdout",
     "output_type": "stream",
     "text": [
      "HolaMundo\n",
      "9\n",
      "[1, 34, 5, 4, 56]\n"
     ]
    },
    {
     "data": {
      "text/plain": [
       "(None, None, None)"
      ]
     },
     "execution_count": 12,
     "metadata": {},
     "output_type": "execute_result"
    }
   ],
   "source": [
    "#Las funciones admiten parámetros en si llamada\n",
    "\n",
    "def suma(a,b):\n",
    "    print(a+b)\n",
    "    \n",
    "suma(\"Hola\",\"Mundo\"), suma (3,6), suma([1,34,5],[4,56])"
   ]
  },
  {
   "cell_type": "code",
   "execution_count": 13,
   "metadata": {},
   "outputs": [
    {
     "name": "stdout",
     "output_type": "stream",
     "text": [
      "La media es:  4.0\n",
      "La media es:  7.0\n"
     ]
    }
   ],
   "source": [
    "def media_2 (a,b=5):\n",
    "    media=(a+b)/2\n",
    "    print(\"La media es: \", media)\n",
    "media_2(3)\n",
    "media_2(4,10)"
   ]
  },
  {
   "cell_type": "code",
   "execution_count": 14,
   "metadata": {},
   "outputs": [
    {
     "name": "stdout",
     "output_type": "stream",
     "text": [
      "Hola Mundo\n",
      "Hola Mundo\n",
      "Que tal!! Mundo\n",
      "Hola Mundo\n",
      "Buen día Mundo\n",
      "Buen día Mundo\n",
      "Buen día Mundo\n"
     ]
    }
   ],
   "source": [
    "def saludar (nombre=\"Mundo\", mensaje=\"Hola\"):\n",
    "    print (mensaje, nombre)\n",
    "    \n",
    "saludar()\n",
    "saludar(\"Mundo\")\n",
    "saludar(mensaje=\"Que tal!!\")\n",
    "saludar(nombre=\"Mundo\")\n",
    "saludar(mensaje=\"Buen día\", nombre=\"Mundo\")\n",
    "\n",
    "saludar(nombre=\"Mundo\", mensaje=\"Buen día\",)\n",
    "saludar(\"Mundo\", mensaje=\"Buen día\",)\n",
    "\n"
   ]
  },
  {
   "cell_type": "code",
   "execution_count": 17,
   "metadata": {},
   "outputs": [
    {
     "data": {
      "text/plain": [
       "1.5"
      ]
     },
     "execution_count": 17,
     "metadata": {},
     "output_type": "execute_result"
    }
   ],
   "source": [
    "def media_3 (a,b):\n",
    "    media=(a+b)/2\n",
    "    return media  #Te regresa el valor, mismo que puedes almacenar en una variable\n",
    "\n",
    "media_3(1,2)"
   ]
  },
  {
   "cell_type": "markdown",
   "metadata": {},
   "source": [
    "Tarea\n",
    "--\n",
    "\n",
    "asdfgh $x_2 = x^2$ sdfgh\n",
    "\n",
    "$$\n",
    "x_2 = x^2\n",
    "$$"
   ]
  },
  {
   "cell_type": "markdown",
   "metadata": {},
   "source": [
    "Realizar la operación a+b+c+d"
   ]
  },
  {
   "cell_type": "code",
   "execution_count": 21,
   "metadata": {},
   "outputs": [
    {
     "name": "stdout",
     "output_type": "stream",
     "text": [
      "5\n"
     ]
    }
   ],
   "source": [
    "def suma (a,b,c,d):\n",
    "    valor=a+b+c+d\n",
    "    print(valor)\n",
    "\n",
    "suma(1,2,1,1)"
   ]
  },
  {
   "cell_type": "markdown",
   "metadata": {},
   "source": [
    "Realizar la operación $x^2$"
   ]
  },
  {
   "cell_type": "code",
   "execution_count": 29,
   "metadata": {},
   "outputs": [
    {
     "name": "stdout",
     "output_type": "stream",
     "text": [
      "10000\n"
     ]
    }
   ],
   "source": [
    "def potencia (x):\n",
    "    y=x**2\n",
    "    print(y)\n",
    "\n",
    "potencia(100)"
   ]
  },
  {
   "cell_type": "markdown",
   "metadata": {},
   "source": [
    "Media"
   ]
  },
  {
   "cell_type": "code",
   "execution_count": 51,
   "metadata": {},
   "outputs": [
    {
     "data": {
      "text/plain": [
       "5.0"
      ]
     },
     "execution_count": 51,
     "metadata": {},
     "output_type": "execute_result"
    }
   ],
   "source": [
    "def media (lista):\n",
    "    x=0\n",
    "    for i in lista: #i toma los valores dentro de la lista\n",
    "        x=x+i\n",
    "    media=x/len(lista)\n",
    "    return media\n",
    "\n",
    "lista=[5,5,5,5,5,5]\n",
    "\n",
    "media(lista)\n",
    "\n"
   ]
  },
  {
   "cell_type": "markdown",
   "metadata": {},
   "source": [
    "Desviación estándar"
   ]
  },
  {
   "cell_type": "code",
   "execution_count": 66,
   "metadata": {},
   "outputs": [
    {
     "name": "stdout",
     "output_type": "stream",
     "text": [
      "0.5773502691896257\n",
      "3.5\n"
     ]
    }
   ],
   "source": [
    "def desviacion (lista):\n",
    "    x=0\n",
    "    m=media(lista)\n",
    "    for i in lista:\n",
    "        x=x+(i-m)**2\n",
    "    desv=x/(len(lista)-1)\n",
    "    desv=desv**(1/2)\n",
    "    return desv\n",
    "    \n",
    "l=[3,4,3,4]\n",
    "\n",
    "print (desviacion(l))\n",
    "print (media(l))"
   ]
  },
  {
   "cell_type": "code",
   "execution_count": null,
   "metadata": {},
   "outputs": [],
   "source": [
    "#Poner código para importar librería"
   ]
  },
  {
   "cell_type": "markdown",
   "metadata": {},
   "source": [
    "Ámbito global y nolocal\n",
    "--"
   ]
  },
  {
   "cell_type": "code",
   "execution_count": null,
   "metadata": {},
   "outputs": [],
   "source": [
    "#Ver foto que le envié a George"
   ]
  },
  {
   "cell_type": "code",
   "execution_count": 68,
   "metadata": {},
   "outputs": [
    {
     "name": "stdout",
     "output_type": "stream",
     "text": [
      "3\n",
      "3\n",
      "4\n"
     ]
    }
   ],
   "source": [
    "def varios (param1, param2, *otros): \n",
    "    for val in otros:\n",
    "        print (val)\n",
    "varios(1,2)\n",
    "varios(1,2,3)\n",
    "varios(1,2,3,4) #a partir de tres, todos los demás datos se almacenan en una tupra\n"
   ]
  },
  {
   "cell_type": "code",
   "execution_count": 69,
   "metadata": {},
   "outputs": [
    {
     "name": "stdout",
     "output_type": "stream",
     "text": [
      "nombre Michel\n",
      "apellido Lopez\n",
      "a 43\n",
      "val 456\n",
      "tmp 68\n"
     ]
    }
   ],
   "source": [
    "def Nombres(**kwargs): #Con dos asteriscos, recibe diccionarios\n",
    "    for key in kwargs:\n",
    "        print(key, kwargs[key])\n",
    "        \n",
    "Nombres(nombre=\"Michel\", apellido=\"Lopez\",a=43,val=456, tmp=68)"
   ]
  },
  {
   "cell_type": "code",
   "execution_count": null,
   "metadata": {},
   "outputs": [],
   "source": [
    "#Funcion lambda\n",
    "\n",
    "f=lambda x:x*5\n",
    "f(2)\n",
    "\n",
    "#Esto de arriba es equivalente a tener:\n",
    "def f(x):\n",
    "    return x*5"
   ]
  },
  {
   "cell_type": "markdown",
   "metadata": {},
   "source": [
    "Definir funciones con un número variable de argumentos\n",
    "--"
   ]
  },
  {
   "cell_type": "code",
   "execution_count": 7,
   "metadata": {},
   "outputs": [
    {
     "name": "stdout",
     "output_type": "stream",
     "text": [
      "<class 'tuple'>\n",
      "<class 'tuple'>\n",
      "3\n",
      "<class 'tuple'>\n",
      "3\n",
      "4\n"
     ]
    }
   ],
   "source": [
    "def varios (param1, param2, *otros):\n",
    "    print (type(otros))\n",
    "    for val in otros:\n",
    "        print(val)\n",
    "\n",
    "varios (1,2)\n",
    "varios (1,2,3)\n",
    "varios (1,2,3,4)\n",
    "\n",
    "#La variable *otros es una Tupla"
   ]
  },
  {
   "cell_type": "markdown",
   "metadata": {},
   "source": [
    "Si queremos asignar valor a una variable en una función, pero no queremos que Python la considere como ¿? debemos declararla en la función como global\n",
    "--"
   ]
  },
  {
   "cell_type": "code",
   "execution_count": 8,
   "metadata": {},
   "outputs": [
    {
     "name": "stdout",
     "output_type": "stream",
     "text": [
      "El ámbito de la variable es global, valor  10\n",
      "El ámbito de la variable es global, valor  1\n",
      "También aquí conozco el valor.  2\n",
      "Y aquí también conozco 3\n"
     ]
    }
   ],
   "source": [
    "def function_0 ():\n",
    "    variable_Global=10\n",
    "    print(\"El ámbito de la variable es global, valor \", variable_Global)\n",
    "    \n",
    "def function_1 ():\n",
    "    global variable_Global\n",
    "    #variable_Global=2\n",
    "    print(\"El ámbito de la variable es global, valor \", variable_Global)\n",
    "    variable_Global=2\n",
    "    \n",
    "def function_2 ():\n",
    "    global variable_Global\n",
    "    print(\"También aquí conozco el valor. \", variable_Global)\n",
    "    variable_Global=3\n",
    "\n",
    "variable_Global=1\n",
    "function_0()\n",
    "function_1()\n",
    "function_2()\n",
    "print (\"Y aquí también conozco\", variable_Global)"
   ]
  },
  {
   "cell_type": "markdown",
   "metadata": {},
   "source": [
    "Argumentos variables clave-valor\n",
    "--\n",
    "*args is used to send a non-keyworded variable lenght argument list to the function\n",
    "\n",
    "**kwargs allows you to pass keyworded variable lenght of arguments to a function"
   ]
  },
  {
   "cell_type": "code",
   "execution_count": 11,
   "metadata": {},
   "outputs": [
    {
     "name": "stdout",
     "output_type": "stream",
     "text": [
      "nombre Michel\n",
      "apellido Lopez\n"
     ]
    }
   ],
   "source": [
    "def Nombres (**kwargs):\n",
    "    for key in kwargs:\n",
    "        print (key,kwargs[key])\n",
    "        \n",
    "Nombres (nombre=\"Michel\",apellido=\"Lopez\")"
   ]
  },
  {
   "cell_type": "code",
   "execution_count": 13,
   "metadata": {},
   "outputs": [
    {
     "name": "stdout",
     "output_type": "stream",
     "text": [
      "50\n",
      "40\n",
      "10\n",
      "200\n"
     ]
    }
   ],
   "source": [
    "def Area(**kwargs):\n",
    "    Base=kwargs.get(\"base\",2)\n",
    "    Altura=kwargs.get(\"altura\",5)\n",
    "    return Base*Altura\n",
    "\n",
    "print (Area (base=10))\n",
    "print (Area (altura=20))\n",
    "print (Area ())\n",
    "print (Area (base=10,altura=20))"
   ]
  },
  {
   "cell_type": "markdown",
   "metadata": {},
   "source": [
    "Todo junto\n",
    "--"
   ]
  },
  {
   "cell_type": "code",
   "execution_count": 14,
   "metadata": {},
   "outputs": [
    {
     "name": "stdout",
     "output_type": "stream",
     "text": [
      "parametro_fijo Hola\n",
      "1\n",
      "2\n",
      "3\n",
      "El valor de Nombre es Michel\n",
      "El valor de Apellido es Lopez\n"
     ]
    }
   ],
   "source": [
    "def recorrer_parametros_arbitrarios(parametro_fijo, parametro_fijo2=\"Mundo\",*arbitrarios,**kwords):\n",
    "    print (\"parametro_fijo\",parametro_fijo)\n",
    "    print(parametro_fijo2)\n",
    "    for argumento in arbitrarios:\n",
    "        print(argumento)\n",
    "    \n",
    "    #Los argumentos tipo clave, se recorren como los diccionarios\n",
    "    for clave in kwords:\n",
    "        print (\"El valor de\",clave,\"es\",kwords[clave])\n",
    "\n",
    "recorrer_parametros_arbitrarios(\"Hola\",1,2,3,Nombre=\"Michel\",Apellido=\"Lopez\")\n"
   ]
  }
 ],
 "metadata": {
  "kernelspec": {
   "display_name": "Python 3",
   "language": "python",
   "name": "python3"
  },
  "language_info": {
   "codemirror_mode": {
    "name": "ipython",
    "version": 3
   },
   "file_extension": ".py",
   "mimetype": "text/x-python",
   "name": "python",
   "nbconvert_exporter": "python",
   "pygments_lexer": "ipython3",
   "version": "3.7.1"
  }
 },
 "nbformat": 4,
 "nbformat_minor": 2
}
