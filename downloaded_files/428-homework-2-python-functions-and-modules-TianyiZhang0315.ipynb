{
 "cells": [
  {
   "cell_type": "code",
   "execution_count": 13,
   "metadata": {},
   "outputs": [
    {
     "name": "stdout",
     "output_type": "stream",
     "text": [
      "successfully download from url.\n",
      "<bound method NDFrame.head of                          Date  Fremont Bridge East Sidewalk  \\\n",
      "0      02/24/2015 02:00:00 AM                           3.0   \n",
      "1      01/01/2019 12:00:00 AM                           0.0   \n",
      "2      01/01/2019 01:00:00 AM                           2.0   \n",
      "3      02/15/2016 12:00:00 AM                           3.0   \n",
      "4      01/01/2019 02:00:00 AM                           1.0   \n",
      "...                       ...                           ...   \n",
      "61291  12/12/2013 05:00:00 AM                          21.0   \n",
      "61292  07/19/2013 09:00:00 PM                          63.0   \n",
      "61293  05/18/2018 07:00:00 PM                          70.0   \n",
      "61294  12/04/2014 07:00:00 AM                         150.0   \n",
      "61295  10/01/2013 04:00:00 AM                           3.0   \n",
      "\n",
      "       Fremont Bridge West Sidewalk  \n",
      "0                               3.0  \n",
      "1                               9.0  \n",
      "2                              22.0  \n",
      "3                               3.0  \n",
      "4                              11.0  \n",
      "...                             ...  \n",
      "61291                           3.0  \n",
      "61292                          52.0  \n",
      "61293                         111.0  \n",
      "61294                          62.0  \n",
      "61295                           2.0  \n",
      "\n",
      "[61296 rows x 3 columns]>\n",
      "Columns are not in same dtype. \n",
      "False\n"
     ]
    }
   ],
   "source": [
    "'''Homework 2 for CSE 583\n",
    "'''\n",
    "import pandas as pd\n",
    "import urllib.request\n",
    "def read_url_2df(save_path,filename,\\#download file from url to save_path as filename\n",
    "                 url = 'https://data.seattle.gov/api/views/65db-xm6k/rows.csv?accessType=DOWNLOAD'):\n",
    "    if save_path == '':#specify condition when save in the cwd\n",
    "        urllib.request.urlretrieve(url, filename)\n",
    "        print('successfully download from url.')\n",
    "        return pd.read_csv(filename)\n",
    "    else:\n",
    "        urllib.request.urlretrieve(url, save_path+ '/' +filename)\n",
    "        print('successfully download from url.')\n",
    "        return pd.read_csv(save_path+ '/' +filename)\n",
    "def test_create_dataframe(df,lst):#test df with conditions\n",
    "    try:#test column names\n",
    "        new_df = df[lst]\n",
    "    except KeyError:\n",
    "        print('Column not exist.')\n",
    "        return False\n",
    "    for i in range(1,len(df.dtypes)):#test dtypes\n",
    "        if df.dtypes[0]==df.dtypes[i]:\n",
    "            pass\n",
    "        else:\n",
    "            print('Columns are not in same dtype. ')\n",
    "            return False\n",
    "    if df.shape[0]>=10:#test row length\n",
    "        return True\n",
    "    else:\n",
    "        print('df contains less than 10 rows. ')\n",
    "        return False\n",
    "if __name__ == '__main__':\n",
    "    df = read_url_2df('','data.csv') #test function1 case1\n",
    "    df = read_url_2df('C:/Users/ALLEN/Desktop/Game','data.csv') #test function1 case2\n",
    "    print(df.head)#check df\n",
    "    print(test_create_dataframe(df,df.columns))#test function2\n",
    "        \n",
    "        "
   ]
  },
  {
   "cell_type": "code",
   "execution_count": null,
   "metadata": {},
   "outputs": [],
   "source": []
  }
 ],
 "metadata": {
  "kernelspec": {
   "display_name": "Python 3",
   "language": "python",
   "name": "python3"
  },
  "language_info": {
   "codemirror_mode": {
    "name": "ipython",
    "version": 3
   },
   "file_extension": ".py",
   "mimetype": "text/x-python",
   "name": "python",
   "nbconvert_exporter": "python",
   "pygments_lexer": "ipython3",
   "version": "3.6.7"
  }
 },
 "nbformat": 4,
 "nbformat_minor": 2
}
