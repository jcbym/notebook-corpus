{
 "cells": [
  {
   "cell_type": "markdown",
   "metadata": {},
   "source": [
    "## Step 4: Problem Analysis Code Journal\n",
    "\n",
    "Inputs: a command:\n",
    "\n",
    " n => new journal entry inputs: date, time (hrs), summary  \n",
    " l => list journal entries  \n",
    " t => add up time  \n",
    " q => quit  \n",
    "\n",
    "Outputs: depends on command\n",
    "\n",
    "Algorithm (Steps in Program):\n",
    "```\n",
    "new journal:\n",
    "- input date, time, hrs,\n",
    "- make row\n",
    "- append to file\n",
    "\n",
    "list journal\n",
    "- open file\n",
    "- read lines\n",
    "- print to screen \n",
    "\n",
    "add up time\n",
    "- open file\n",
    "- for each line in file\n",
    "- parse for hours, add up\n",
    "- print total\n",
    "\n",
    "```\n"
   ]
  },
  {
   "cell_type": "code",
   "execution_count": 1,
   "metadata": {},
   "outputs": [],
   "source": [
    "def list_journal_entries(journal_file):\n",
    "    total_time = 0\n",
    "    with open(journal_file,'r') as f:\n",
    "        print(f\"===DATE===\\t==HRS==\\t\\t====COMMENTS====\")        \n",
    "        for line in f:\n",
    "            line = line.strip()\n",
    "            date, hours_worked, comments = line.split(',')\n",
    "            hours_worked = float(hours_worked)\n",
    "            print(f\"{date:10}\\t{hours_worked:-7}\\t\\t{comments:16}\")\n",
    "            total_time = total_time + hours_worked\n",
    "           \n",
    "        print(f\"\\nTOTAL HOURS: {total_time}\")\n",
    "    return \n",
    "\n",
    "\n",
    "#list_journal_entries('journal.txt')"
   ]
  },
  {
   "cell_type": "code",
   "execution_count": 2,
   "metadata": {},
   "outputs": [],
   "source": [
    "def add_journal_entry(journal_file):\n",
    "    date = input(\"Enter Journal Entry Date: \")\n",
    "    hours = float(input(\"Enter Hours Worked: \"))\n",
    "    comments = input(\"What did you do? : \").replace(\",\",\"\")\n",
    "    line = f\"{date},{hours},{comments}\\n\"\n",
    "    with open (journal_file,'a') as f:\n",
    "        f.write(line)\n",
    "        \n",
    "    return\n",
    "\n",
    "\n",
    "#add_journal_entry(\"journal.txt\")\n",
    "                  "
   ]
  },
  {
   "cell_type": "code",
   "execution_count": 3,
   "metadata": {},
   "outputs": [
    {
     "name": "stdout",
     "output_type": "stream",
     "text": [
      "[n]ew journal entry\n",
      "[l]ist journal entries\n",
      "[q]uit\n",
      "l\n",
      "List Journal Entries\n",
      "=====================\n",
      "===DATE===\t==HRS==\t\t====COMMENTS====\n",
      "2020-10-01\t    1.0\t\tsomething       \n",
      "2020-10-02\t    2.9\t\ta b c.          \n",
      "\n",
      "TOTAL HOURS: 3.9\n",
      "[n]ew journal entry\n",
      "[l]ist journal entries\n",
      "[q]uit\n",
      "q\n"
     ]
    }
   ],
   "source": [
    "journal_file='journal.txt'\n",
    "\n",
    "while True:\n",
    "    command = input(\"[n]ew journal entry\\n[l]ist journal entries\\n[q]uit\\n\").lower()\n",
    "    if command == 'q':\n",
    "        break\n",
    "    if command == 'n':\n",
    "        print(\"New Journal Entry\")\n",
    "        print(\"=====================\")\n",
    "        add_journal_entry(journal_file)\n",
    "    elif command == 'l':\n",
    "        print(\"List Journal Entries\")\n",
    "        print(\"=====================\")\n",
    "        list_journal_entries(journal_file)            \n",
    "    else:\n",
    "        print(\"Invalid Command\")\n",
    "        "
   ]
  },
  {
   "cell_type": "code",
   "execution_count": null,
   "metadata": {},
   "outputs": [],
   "source": []
  },
  {
   "cell_type": "code",
   "execution_count": null,
   "metadata": {},
   "outputs": [],
   "source": []
  }
 ],
 "metadata": {
  "kernelspec": {
   "display_name": "Python 3",
   "language": "python",
   "name": "python3"
  },
  "language_info": {
   "codemirror_mode": {
    "name": "ipython",
    "version": 3
   },
   "file_extension": ".py",
   "mimetype": "text/x-python",
   "name": "python",
   "nbconvert_exporter": "python",
   "pygments_lexer": "ipython3",
   "version": "3.7.6"
  }
 },
 "nbformat": 4,
 "nbformat_minor": 4
}
