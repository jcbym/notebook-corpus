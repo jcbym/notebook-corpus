{
 "cells": [
  {
   "cell_type": "markdown",
   "metadata": {},
   "source": [
    "# Pseudorapidity Resolution"
   ]
  },
  {
   "cell_type": "markdown",
   "metadata": {},
   "source": [
    " At CERN particles are accelerated and collided with the LHC (Large Hadron Collider) particle accelerator. With the CMS detector the new particles created in these collisions can be observed and measured. There is the opened CMS detector in the picture below. [https://commons.wikimedia.org/wiki/File:CMS@CERN.jpg]\n",
    "<img src=\"CMS1.png\" width=\"500\" height=\"400\">"
   ]
  },
  {
   "cell_type": "markdown",
   "metadata": {},
   "source": [
    "The pseudorapidity is a function of $\\theta$, $\\eta = -\\ln\\big|\\tan \\big(\\frac{\\theta}{2}\\big)\\big|$, where $\\theta$ is defined as the angle from the z-axis in the xz-plane. \n",
    "<img src=\"CMS2.png\" width=\"400\" height=\"400\"> \n",
    "We can consider the invariant mass (M) from $\\sqrt{2p_{T1}p_{T2}(\\cosh(\\eta_1 - \\eta_2) - \\cos(\\phi_1 - \\phi_2) }$."
   ]
  },
  {
   "cell_type": "markdown",
   "metadata": {},
   "source": [
    "# 1. จงแสดงกราฟระหว่าง Pseudorapidity และ $\\theta$ เมื่อ $1^{\\circ}\\leq\\theta\\leq90^{\\circ}$"
   ]
  },
  {
   "cell_type": "code",
   "execution_count": 1,
   "metadata": {},
   "outputs": [
    {
     "data": {
      "image/png": "[encoded data removed]",
      "text/plain": [
       "<Figure size 432x288 with 1 Axes>"
      ]
     },
     "metadata": {
      "needs_background": "light"
     },
     "output_type": "display_data"
    }
   ],
   "source": [
    "import pandas as pd\n",
    "import numpy as np\n",
    "import matplotlib.pyplot as plt\n",
    "\n",
    "data = pd.read_csv(\"Final.csv\")\n",
    "\n",
    "x = np.arange(np.pi/180,np.pi/2,0.01)\n",
    "y = -np.log(np.tan(x)/2)\n",
    "\n",
    "plt.plot(x,y)\n",
    "plt.show()"
   ]
  },
  {
   "cell_type": "markdown",
   "metadata": {},
   "source": [
    "# 2. จงแสดงวิธีการวิเคราะห์ข้อมูลและเติมข้อมูลลงในตารางต่อไปนี้\n",
    " | Pseudorapidity      | Entries | The average mass (GeV) | The standard deviation (GeV)    |\n",
    " | :---    |  :---       |    :----:   |          ---: |\n",
    " | $|\\eta|$ $\\leq$ 0.5     | $N_1$ | $M_1$   |  $\\sigma_1$   |\n",
    " | 0.5 < $|\\eta|$ $\\leq$ 1.0 | $N_2$  |   $M_2$     |  $\\sigma_2$   |  \n",
    " | 1.0 < $|\\eta|$ $\\leq$ 2.0   | $N_3$ |  $M_3$     |  $\\sigma_3$   |\n",
    " | 2.0 < $|\\eta|$ $\\leq$ 3.0   | $N_4$ | $M_4$     |  $\\sigma_4$   |\n",
    " | 3.0 < $|\\eta|$   | $N_5$ | $M_5$      |  $\\sigma_5$   |\n",
    "\n"
   ]
  },
  {
   "cell_type": "code",
   "execution_count": 2,
   "metadata": {},
   "outputs": [
    {
     "data": {
      "text/html": [
       "<div>\n",
       "<style scoped>\n",
       "    .dataframe tbody tr th:only-of-type {\n",
       "        vertical-align: middle;\n",
       "    }\n",
       "\n",
       "    .dataframe tbody tr th {\n",
       "        vertical-align: top;\n",
       "    }\n",
       "\n",
       "    .dataframe thead th {\n",
       "        text-align: right;\n",
       "    }\n",
       "</style>\n",
       "<table border=\"1\" class=\"dataframe\">\n",
       "  <thead>\n",
       "    <tr style=\"text-align: right;\">\n",
       "      <th></th>\n",
       "      <th>Run</th>\n",
       "      <th>Event</th>\n",
       "      <th>pt1</th>\n",
       "      <th>eta1</th>\n",
       "      <th>phi1</th>\n",
       "      <th>Q1</th>\n",
       "      <th>dxy1</th>\n",
       "      <th>iso1</th>\n",
       "      <th>pt2</th>\n",
       "      <th>eta2</th>\n",
       "      <th>phi2</th>\n",
       "      <th>Q2</th>\n",
       "      <th>dxy2</th>\n",
       "      <th>iso2</th>\n",
       "      <th>M</th>\n",
       "    </tr>\n",
       "  </thead>\n",
       "  <tbody>\n",
       "    <tr>\n",
       "      <th>0</th>\n",
       "      <td>165617</td>\n",
       "      <td>74969122</td>\n",
       "      <td>54.7055</td>\n",
       "      <td>-0.4324</td>\n",
       "      <td>2.5742</td>\n",
       "      <td>1</td>\n",
       "      <td>-0.0745</td>\n",
       "      <td>0.4999</td>\n",
       "      <td>34.2464</td>\n",
       "      <td>-0.9885</td>\n",
       "      <td>-0.4987</td>\n",
       "      <td>-1</td>\n",
       "      <td>0.0712</td>\n",
       "      <td>3.4221</td>\n",
       "      <td>89.885919</td>\n",
       "    </tr>\n",
       "    <tr>\n",
       "      <th>1</th>\n",
       "      <td>165617</td>\n",
       "      <td>75138253</td>\n",
       "      <td>24.5872</td>\n",
       "      <td>-2.0522</td>\n",
       "      <td>2.8666</td>\n",
       "      <td>-1</td>\n",
       "      <td>-0.0554</td>\n",
       "      <td>0.0000</td>\n",
       "      <td>28.5389</td>\n",
       "      <td>0.3852</td>\n",
       "      <td>-1.9912</td>\n",
       "      <td>1</td>\n",
       "      <td>0.0515</td>\n",
       "      <td>0.0000</td>\n",
       "      <td>88.812177</td>\n",
       "    </tr>\n",
       "    <tr>\n",
       "      <th>2</th>\n",
       "      <td>165617</td>\n",
       "      <td>75887636</td>\n",
       "      <td>31.7386</td>\n",
       "      <td>-2.2595</td>\n",
       "      <td>-1.3323</td>\n",
       "      <td>-1</td>\n",
       "      <td>0.0879</td>\n",
       "      <td>0.0000</td>\n",
       "      <td>30.2344</td>\n",
       "      <td>-0.4684</td>\n",
       "      <td>1.8833</td>\n",
       "      <td>1</td>\n",
       "      <td>-0.0876</td>\n",
       "      <td>0.0000</td>\n",
       "      <td>88.474683</td>\n",
       "    </tr>\n",
       "    <tr>\n",
       "      <th>3</th>\n",
       "      <td>165617</td>\n",
       "      <td>75779415</td>\n",
       "      <td>39.7394</td>\n",
       "      <td>-0.7123</td>\n",
       "      <td>-0.3123</td>\n",
       "      <td>1</td>\n",
       "      <td>0.0585</td>\n",
       "      <td>0.0000</td>\n",
       "      <td>48.2790</td>\n",
       "      <td>-0.1956</td>\n",
       "      <td>2.9703</td>\n",
       "      <td>-1</td>\n",
       "      <td>-0.0492</td>\n",
       "      <td>0.0000</td>\n",
       "      <td>90.332429</td>\n",
       "    </tr>\n",
       "    <tr>\n",
       "      <th>4</th>\n",
       "      <td>165617</td>\n",
       "      <td>75098104</td>\n",
       "      <td>41.2998</td>\n",
       "      <td>-0.1571</td>\n",
       "      <td>-3.0408</td>\n",
       "      <td>1</td>\n",
       "      <td>-0.0305</td>\n",
       "      <td>1.2280</td>\n",
       "      <td>43.4508</td>\n",
       "      <td>0.5910</td>\n",
       "      <td>-0.0428</td>\n",
       "      <td>-1</td>\n",
       "      <td>0.0442</td>\n",
       "      <td>0.0000</td>\n",
       "      <td>90.515882</td>\n",
       "    </tr>\n",
       "  </tbody>\n",
       "</table>\n",
       "</div>"
      ],
      "text/plain": [
       "      Run     Event      pt1    eta1    phi1  Q1    dxy1    iso1      pt2  \\\n",
       "0  165617  74969122  54.7055 -0.4324  2.5742   1 -0.0745  0.4999  34.2464   \n",
       "1  165617  75138253  24.5872 -2.0522  2.8666  -1 -0.0554  0.0000  28.5389   \n",
       "2  165617  75887636  31.7386 -2.2595 -1.3323  -1  0.0879  0.0000  30.2344   \n",
       "3  165617  75779415  39.7394 -0.7123 -0.3123   1  0.0585  0.0000  48.2790   \n",
       "4  165617  75098104  41.2998 -0.1571 -3.0408   1 -0.0305  1.2280  43.4508   \n",
       "\n",
       "     eta2    phi2  Q2    dxy2    iso2          M  \n",
       "0 -0.9885 -0.4987  -1  0.0712  3.4221  89.885919  \n",
       "1  0.3852 -1.9912   1  0.0515  0.0000  88.812177  \n",
       "2 -0.4684  1.8833   1 -0.0876  0.0000  88.474683  \n",
       "3 -0.1956  2.9703  -1 -0.0492  0.0000  90.332429  \n",
       "4  0.5910 -0.0428  -1  0.0442  0.0000  90.515882  "
      ]
     },
     "execution_count": 2,
     "metadata": {},
     "output_type": "execute_result"
    }
   ],
   "source": [
    "\n",
    "\n",
    "invariant_mass = np.sqrt(2*data.pt1*data.pt2*(np.cosh(data.eta1 - data.eta2) - np.cos(data.phi1 - data.phi2)))\n",
    "dataset = data.assign(M=invariant_mass)\n",
    "dataset.head()"
   ]
  },
  {
   "cell_type": "code",
   "execution_count": 3,
   "metadata": {},
   "outputs": [
    {
     "name": "stderr",
     "output_type": "stream",
     "text": [
      "/opt/conda/lib/python3.7/site-packages/pandas/core/series.py:679: RuntimeWarning: divide by zero encountered in log\n",
      "  result = getattr(ufunc, method)(*inputs, **kwargs)\n",
      "/opt/conda/lib/python3.7/site-packages/pandas/core/series.py:679: RuntimeWarning: invalid value encountered in log\n",
      "  result = getattr(ufunc, method)(*inputs, **kwargs)\n"
     ]
    },
    {
     "data": {
      "text/plain": [
       "87.74986668285794"
      ]
     },
     "execution_count": 3,
     "metadata": {},
     "output_type": "execute_result"
    }
   ],
   "source": [
    "pseudorapidity1 = np.abs(-np.log(np.tan(data.eta1)/2 ) )\n",
    "pseudorapidity2 = np.abs(-np.log(np.tan(data.eta2)/2 ) )\n",
    "dataset = dataset.assign(nu1=pseudorapidity1)\n",
    "dataset = dataset.assign(nu2=pseudorapidity2)\n",
    "\n",
    "newdata1 = dataset[(dataset.nu1 >= 0) & (dataset.nu1 <= 0.5) & (dataset.nu2 >= 0) & (dataset.nu2 <= 0.5)]\n",
    "newdata2 = dataset[(dataset.nu1 > 0.5) & (dataset.nu1 <= 1.0) & (dataset.nu2 > 0.5) & (dataset.nu2 <= 1.0)]\n",
    "newdata3 = dataset[(dataset.nu1 > 1.0) & (dataset.nu1 <= 2.0) & (dataset.nu2 > 1.0) & (dataset.nu2 <= 2.0)]\n",
    "newdata4 = dataset[(dataset.nu1 > 2.0) & (dataset.nu1 <= 3.0) & (dataset.nu2 > 2.0) & (dataset.nu2 <= 3.0)]\n",
    "newdata5 = dataset[(dataset.nu1 > 3.0) & (dataset.nu2 > 3.0) ]\n",
    "\n",
    "\n",
    "newdata1.M.mean()"
   ]
  },
  {
   "cell_type": "code",
   "execution_count": 4,
   "metadata": {},
   "outputs": [
    {
     "data": {
      "text/plain": [
       "87.74076915874397"
      ]
     },
     "execution_count": 4,
     "metadata": {},
     "output_type": "execute_result"
    }
   ],
   "source": [
    "newdata2.M.mean()"
   ]
  },
  {
   "cell_type": "code",
   "execution_count": 5,
   "metadata": {},
   "outputs": [
    {
     "data": {
      "text/plain": [
       "88.79435284846176"
      ]
     },
     "execution_count": 5,
     "metadata": {},
     "output_type": "execute_result"
    }
   ],
   "source": [
    "newdata3.M.mean()"
   ]
  },
  {
   "cell_type": "code",
   "execution_count": 6,
   "metadata": {},
   "outputs": [
    {
     "data": {
      "text/plain": [
       "86.77498165108685"
      ]
     },
     "execution_count": 6,
     "metadata": {},
     "output_type": "execute_result"
    }
   ],
   "source": [
    "newdata4.M.mean()"
   ]
  },
  {
   "cell_type": "code",
   "execution_count": 7,
   "metadata": {},
   "outputs": [
    {
     "data": {
      "text/plain": [
       "88.33097143033967"
      ]
     },
     "execution_count": 7,
     "metadata": {},
     "output_type": "execute_result"
    }
   ],
   "source": [
    "newdata5.M.mean()"
   ]
  },
  {
   "cell_type": "code",
   "execution_count": 8,
   "metadata": {},
   "outputs": [
    {
     "data": {
      "text/plain": [
       "9.70071758692747"
      ]
     },
     "execution_count": 8,
     "metadata": {},
     "output_type": "execute_result"
    }
   ],
   "source": [
    "newdata1.M.std()"
   ]
  },
  {
   "cell_type": "code",
   "execution_count": 9,
   "metadata": {},
   "outputs": [
    {
     "data": {
      "text/plain": [
       "8.451124446898453"
      ]
     },
     "execution_count": 9,
     "metadata": {},
     "output_type": "execute_result"
    }
   ],
   "source": [
    "newdata2.M.std()"
   ]
  },
  {
   "cell_type": "code",
   "execution_count": 10,
   "metadata": {},
   "outputs": [
    {
     "data": {
      "text/plain": [
       "8.677146524913892"
      ]
     },
     "execution_count": 10,
     "metadata": {},
     "output_type": "execute_result"
    }
   ],
   "source": [
    "newdata3.M.std()"
   ]
  },
  {
   "cell_type": "code",
   "execution_count": 11,
   "metadata": {},
   "outputs": [
    {
     "data": {
      "text/plain": [
       "10.238237596754411"
      ]
     },
     "execution_count": 11,
     "metadata": {},
     "output_type": "execute_result"
    }
   ],
   "source": [
    "newdata4.M.std()"
   ]
  },
  {
   "cell_type": "code",
   "execution_count": 12,
   "metadata": {},
   "outputs": [
    {
     "data": {
      "text/plain": [
       "4.987366053545505"
      ]
     },
     "execution_count": 12,
     "metadata": {},
     "output_type": "execute_result"
    }
   ],
   "source": [
    "newdata5.M.std()"
   ]
  },
  {
   "cell_type": "markdown",
   "metadata": {},
   "source": [
    "# 3. จงพล็อตกราฟระหว่าง Pseudorapidity vs The average mass (GeV)"
   ]
  },
  {
   "cell_type": "code",
   "execution_count": 13,
   "metadata": {},
   "outputs": [],
   "source": [
    "x1 = ['$|\\eta|\\leq0.5$', '$0.5<|\\eta|\\leq1.0$','$1.0<|\\eta|\\leq2.0$', '$2.0<|\\eta|\\leq3.0$', '$3.0<|\\eta|$']\n",
    "y1 = []"
   ]
  },
  {
   "cell_type": "code",
   "execution_count": null,
   "metadata": {},
   "outputs": [],
   "source": []
  },
  {
   "cell_type": "markdown",
   "metadata": {},
   "source": [
    "# 4. จงพล็อตกราฟระหว่าง Pseudorapidity vs The standard deviation (GeV)"
   ]
  },
  {
   "cell_type": "code",
   "execution_count": 14,
   "metadata": {},
   "outputs": [],
   "source": [
    "x1 = ['$|\\eta|\\leq0.5$', '$0.5<|\\eta|\\leq1.0$','$1.0<|\\eta|\\leq2.0$', '$2.0<|\\eta|\\leq3.0$', '$3.0<|\\eta|$']\n",
    "y2 = []"
   ]
  },
  {
   "cell_type": "code",
   "execution_count": null,
   "metadata": {},
   "outputs": [],
   "source": []
  },
  {
   "cell_type": "markdown",
   "metadata": {},
   "source": [
    "# 5. จากกราฟในข้อ 2 และ 3 จงวิเคราะห์ผลจากการทดลองข้างต้น"
   ]
  },
  {
   "cell_type": "code",
   "execution_count": null,
   "metadata": {},
   "outputs": [],
   "source": []
  },
  {
   "cell_type": "markdown",
   "metadata": {},
   "source": [
    "## วิธีการส่งไฟล์ --> ไปที่ File --> Download as --> HTML (.html) หรือ Notebook (.ipynb) --> ส่งใน GG Classroom"
   ]
  }
 ],
 "metadata": {
  "kernelspec": {
   "display_name": "Python 3",
   "language": "python",
   "name": "python3"
  },
  "language_info": {
   "codemirror_mode": {
    "name": "ipython",
    "version": 3
   },
   "file_extension": ".py",
   "mimetype": "text/x-python",
   "name": "python",
   "nbconvert_exporter": "python",
   "pygments_lexer": "ipython3",
   "version": "3.7.6"
  }
 },
 "nbformat": 4,
 "nbformat_minor": 5
}
