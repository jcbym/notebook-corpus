{
 "cells": [
  {
   "cell_type": "markdown",
   "id": "b8cb093b",
   "metadata": {
    "tags": []
   },
   "source": [
    "## 0. 今日の量子コンピュータの問題\n",
    "\n",
    "- Noisy Intermediate-Scale Quantum (NISQ) デバイス\n",
    "    - 量子回路が深くなる（ゲート数が多くなる）ほど、誤差が大きくなる\n",
    "    - 十分な量子ビット数ではない\n",
    "- 量子ビットが全結合でない量子デバイスもある\n",
    "- 各社が開発している量子デバイスに対して、量子ソフトウェアツールキットが用意されてる\n"
   ]
  },
  {
   "cell_type": "markdown",
   "id": "6e1950ee",
   "metadata": {
    "tags": []
   },
   "source": [
    "### 0-1. TKETとは\n",
    "- Quantum Software Development Kit\n",
    "- C++で実装\n",
    "- pythonモジュール　`pytket`で利用可能\n",
    "- 最適化コンパイラ：　ユーザーフレンドリーな回路→量子デバイスで実行可能な回路に変換可能\n",
    "    - Language-agnostic (多くの量子回路をプログラミングするフレームワーク(qiskit, Cirq, etc)をサポート)\n",
    "    - Retagetable (多くの量子デバイス(IBM, Honeywell, etc)をサポート)\n",
    "    - Circuit Optimisation (量子計算時に生じるデバイスエラーの影響を最小化。デバイス依存＆デバイス非依存のものが実装)\n",
    "    \n",
    "<img src=\"./fig/tket1.png\" width=\"750\">\n"
   ]
  },
  {
   "cell_type": "markdown",
   "id": "75c32ba7",
   "metadata": {},
   "source": [
    "参照\n",
    "- [pytket ドキュメント](https://cqcl.github.io/tket/pytket/api/index.html)\n",
    "- [pytket ユーザーマニュアル](https://cqcl.github.io/pytket/manual/index.html)\n",
    "- [t|ket⟩ : A Retargetable Compiler for NISQ Devices](https://arxiv.org/abs/2003.10611)"
   ]
  },
  {
   "cell_type": "markdown",
   "id": "90fcd536",
   "metadata": {},
   "source": [
    "### 0-2. 今回必要となる python、python パッケージ\n",
    "* Python 3.8 or higher (Python 3.9.7で動作確認をしています。)\n",
    "\n",
    "|  パッケージ （version） |  概要  |\n",
    "| :---- | :---- |\n",
    "|  pytket==1.0.1  |  tketを利用するためのpython モジュール |\n",
    "|  pytket-qiskit==0.23.0  |  qiskitを利用するためのpytket-extension  |\n",
    "|  pytket-braket==0.17.0  |  Amazon Braketを利用するためのpytket-extension  |\n",
    "|  pytket-qsharp==0.23.0  |  Azure Quantumを利用するためのpytket-extension  |\n",
    "|  pytket-qulacs==0.17.0  |  Qulacsを利用するためのpytket-extension  |\n",
    "\n",
    "* pytket-qsharpのパッケージは.net等のインストールが必要です。詳しくは[pytket-qsharpドキュメント](https://cqcl.github.io/pytket-extensions/api/qsharp/index.html#http://)をご確認ください。\n",
    "\n",
    "<img src=\"fig/tket2.png\" width=\"750\">"
   ]
  },
  {
   "cell_type": "markdown",
   "id": "aa16497a",
   "metadata": {},
   "source": [
    "環境にインストールされていない場合は、以下のセルの＃を取り除き、インストールしてください。"
   ]
  },
  {
   "cell_type": "code",
   "execution_count": null,
   "id": "f53935a7",
   "metadata": {},
   "outputs": [],
   "source": [
    "#!pip install pytket==1.0.1\n",
    "#!pip install pytket-qiskit==0.23.0\n",
    "#!pip install pytket-braket==0.17.0\n",
    "#!pip install pytket-qsharp==0.23.0\n",
    "#!pip install pytket-qulacs==0.17.0\n",
    "#!pip install pylatexenc #可視化のためのパッケージ"
   ]
  },
  {
   "cell_type": "markdown",
   "id": "2e43c4f2",
   "metadata": {
    "tags": []
   },
   "source": [
    "## 1. 量子回路を作成\n",
    "ここでは IBMの量子デバイスやシュミレーションを利用できる`qiskit`と`tket`でベル状態を作成する。"
   ]
  },
  {
   "cell_type": "markdown",
   "id": "4b5f8f4b",
   "metadata": {},
   "source": [
    "### 1-1. `qiskit`でベル状態を作成\n",
    "$$ |\\Psi\\rangle = \\frac{1}{\\sqrt{2}}(|00\\rangle+|11\\rangle)$$"
   ]
  },
  {
   "cell_type": "code",
   "execution_count": null,
   "id": "3d9e4a20",
   "metadata": {},
   "outputs": [],
   "source": [
    "from qiskit import QuantumCircuit\n",
    "\n",
    "qs_bell = QuantumCircuit(2)\n",
    "qs_bell.h(0)\n",
    "qs_bell.cx(0,1)\n",
    "qs_bell.measure_all()\n",
    "\n",
    "qs_bell.draw(output='mpl')"
   ]
  },
  {
   "cell_type": "code",
   "execution_count": null,
   "id": "ceeee451",
   "metadata": {},
   "outputs": [],
   "source": [
    "#from qiskit.tools.visualization import circuit_drawer\n",
    "#circuit_drawer(qs_bell, output='mpl')"
   ]
  },
  {
   "cell_type": "markdown",
   "id": "4c0d22db",
   "metadata": {
    "slideshow": {
     "slide_type": "slide"
    }
   },
   "source": [
    "### 1-2. IBMが提供しているローカルシミュレータで計算"
   ]
  },
  {
   "cell_type": "code",
   "execution_count": null,
   "id": "56449c7b",
   "metadata": {},
   "outputs": [],
   "source": [
    "from qiskit import Aer\n",
    "from qiskit.visualization import plot_histogram"
   ]
  },
  {
   "cell_type": "code",
   "execution_count": null,
   "id": "6081ad71",
   "metadata": {},
   "outputs": [],
   "source": [
    "#Aer.backends()"
   ]
  },
  {
   "cell_type": "code",
   "execution_count": null,
   "id": "4d250a09",
   "metadata": {},
   "outputs": [],
   "source": [
    "ibm_sim = Aer.get_backend('aer_simulator')"
   ]
  },
  {
   "cell_type": "code",
   "execution_count": null,
   "id": "3899b615",
   "metadata": {},
   "outputs": [],
   "source": [
    "handle = ibm_sim.run(qs_bell, shots=1000)\n",
    "counts = handle.result().get_counts()\n",
    "plot_histogram(counts)"
   ]
  },
  {
   "cell_type": "markdown",
   "id": "82da5f25",
   "metadata": {},
   "source": [
    "### 1-3. `tket`でベル状態を作成"
   ]
  },
  {
   "cell_type": "code",
   "execution_count": null,
   "id": "76615941",
   "metadata": {},
   "outputs": [],
   "source": [
    "from pytket import Circuit\n",
    "from pytket.circuit.display import render_circuit_jupyter\n",
    "\n",
    "bell = Circuit(2)\n",
    "bell.H(0).CX(0,1)\n",
    "bell.measure_all()\n",
    "\n",
    "render_circuit_jupyter(bell)"
   ]
  },
  {
   "cell_type": "markdown",
   "id": "a1e02a9b",
   "metadata": {},
   "source": [
    "### 1-4. `pytket-qiskit`でIBMが提供しているローカルシミュレータで計算"
   ]
  },
  {
   "cell_type": "code",
   "execution_count": null,
   "id": "6c4bfc9e",
   "metadata": {},
   "outputs": [],
   "source": [
    "from pytket.extensions.qiskit import AerBackend\n",
    "backend = AerBackend()\n",
    "\n",
    "handle = backend.process_circuit(bell, n_shots =1000)\n",
    "result_counts = backend.get_result(handle).get_counts()\n",
    "plot_histogram(result_counts)"
   ]
  },
  {
   "cell_type": "markdown",
   "id": "3f570571",
   "metadata": {
    "tags": []
   },
   "source": [
    "## 2. 量子回路の変換\n",
    "pytketでは\n",
    "- qiskitで記述した量子回路からtketの量子回路のクラスに変換が可能\n",
    "- tketで記述した量子回路からqiskitの量子回路のクラスに変換が可能\n",
    "- tketで記述した量子回路と他の量子回路をプログラミングするフレームワークでの量子回路の交換が可能\n",
    "\n",
    "参照：[pytket-extensions](https://cqcl.github.io/pytket-extensions/api/index.html) "
   ]
  },
  {
   "cell_type": "markdown",
   "id": "cc06b5db",
   "metadata": {},
   "source": [
    "### 2-1. `qiskit`の量子回路から`tket`の量子回路に変換"
   ]
  },
  {
   "cell_type": "code",
   "execution_count": null,
   "id": "67884d14",
   "metadata": {},
   "outputs": [],
   "source": [
    "from pytket.extensions.qiskit import qiskit_to_tk"
   ]
  },
  {
   "cell_type": "code",
   "execution_count": null,
   "id": "13f9045c",
   "metadata": {},
   "outputs": [],
   "source": [
    "bell2 = qiskit_to_tk(qs_bell)\n",
    "bell2"
   ]
  },
  {
   "cell_type": "code",
   "execution_count": null,
   "id": "131f2a7c",
   "metadata": {},
   "outputs": [],
   "source": [
    "render_circuit_jupyter(bell2)"
   ]
  },
  {
   "cell_type": "markdown",
   "id": "1d354e75",
   "metadata": {},
   "source": [
    "### 2-2. `tket`の量子回路から`qiskit`の量子回路に変換"
   ]
  },
  {
   "cell_type": "code",
   "execution_count": null,
   "id": "bfe450cc",
   "metadata": {},
   "outputs": [],
   "source": [
    "from pytket.extensions.qiskit import tk_to_qiskit"
   ]
  },
  {
   "cell_type": "code",
   "execution_count": null,
   "id": "d91a19a2",
   "metadata": {},
   "outputs": [],
   "source": [
    "qs_bell2 = tk_to_qiskit(bell)\n",
    "qs_bell2.draw('mpl')"
   ]
  },
  {
   "cell_type": "code",
   "execution_count": null,
   "id": "06031b7d",
   "metadata": {},
   "outputs": [],
   "source": []
  },
  {
   "cell_type": "code",
   "execution_count": null,
   "id": "a6b3724f",
   "metadata": {},
   "outputs": [],
   "source": [
    "#from pytket.extensions.braket import tk_to_braket\n",
    "#tk_to_braket(bell)"
   ]
  },
  {
   "cell_type": "markdown",
   "id": "abe62932",
   "metadata": {
    "tags": []
   },
   "source": [
    "## 3. 量子回路の最適化\n",
    "例えば、Hゲートを同じビットに連続して作用させるとゲート操作をしていない恒等な量子状態が得られます。\n",
    "<img src=\"fig/circ.png\" width=\"500\">\n",
    "\n",
    "量子回路が深くなる（ゲート数が多くなる）ほど、誤差が大きくなるNISQ デバイスでは左辺のような状況は除去したい。\n",
    "\n",
    "その他にも下記のような恒等な関係があります。\n",
    "\n",
    "<img src=\"fig/relation.png\" width=\"700\">"
   ]
  },
  {
   "cell_type": "markdown",
   "id": "bae1e99c",
   "metadata": {},
   "source": [
    "### 3-1. PauliSimp 関数を利用した、量子回路の最適化\n",
    "tketには量子回路を最適化する様々な機能が用意されている。\n",
    "ここでは、PauliSimp 関数を利用した回路の最適化を行う。\n",
    "\n",
    "（PauliSimp 関数：Pauli ゲートとCliffordゲートで表現された量子回路を出力）\n",
    "\n",
    "ランダムな量子回路を作成し、回路の深さとCXの深さを数える。"
   ]
  },
  {
   "cell_type": "code",
   "execution_count": null,
   "id": "a96b3e7a",
   "metadata": {},
   "outputs": [],
   "source": [
    "from pytket.pauli import Pauli\n",
    "from pytket.circuit import PauliExpBox, fresh_symbol, OpType\n",
    "from pytket.passes import DecomposeBoxes\n",
    "box = PauliExpBox([Pauli.I, Pauli.Z, Pauli.X, Pauli.Y], fresh_symbol('tm'))\n",
    "from pytket.utils import Graph\n",
    "import numpy as np\n",
    "\n",
    "def get_random_pauli_gadgets(n_qubits, n_pauli_gadgets, max_entangle):\n",
    "    \"\"\" \"\"\"\n",
    "    paulis = [Pauli.I, Pauli.X, Pauli.Y, Pauli.Z]\n",
    "    circ = Circuit(n_qubits)\n",
    "    for i in range(n_pauli_gadgets):\n",
    "        ls_paulis = [np.random.choice(paulis) for k in range(max_entangle)]\n",
    "        if ls_paulis.count(Pauli.Y) % 2 == 0:\n",
    "            continue\n",
    "        if len(ls_paulis) - ls_paulis.count(Pauli.I) <= 1:\n",
    "            continue\n",
    "        qubits = np.random.choice(\n",
    "            [i for i in range(n_qubits)], size=max_entangle, replace=False\n",
    "        )\n",
    "        box = PauliExpBox(ls_paulis, fresh_symbol('a'))\n",
    "        circ.add_pauliexpbox(box, sorted(qubits))\n",
    "    DecomposeBoxes().apply(circ)\n",
    "    return circ\n",
    "\n",
    "circ = get_random_pauli_gadgets(\n",
    "    n_qubits=8, n_pauli_gadgets=300, max_entangle=5\n",
    ")\n",
    "print('Circuit depth: ', circ.depth())\n",
    "print('CX depth: ', circ.depth_by_type(OpType.CX))\n",
    "render_circuit_jupyter(circ)"
   ]
  },
  {
   "cell_type": "markdown",
   "id": "dfe39210",
   "metadata": {},
   "source": [
    "PauliSimp 関数を使って、量子回路の最適化"
   ]
  },
  {
   "cell_type": "code",
   "execution_count": null,
   "id": "d48f9aac",
   "metadata": {},
   "outputs": [],
   "source": [
    "# Circuit optimization by using compiler passes.\n",
    "from pytket.passes import PauliSimp\n",
    "circx = circ.copy()\n",
    "PauliSimp().apply(circx)\n",
    "print('Circuit depth: ', circx.depth())\n",
    "print('CX depth: ', circx.depth_by_type(OpType.CX))\n",
    "#render_circuit_jupyter(circx)"
   ]
  },
  {
   "cell_type": "markdown",
   "id": "14c10de5",
   "metadata": {
    "tags": []
   },
   "source": [
    "## 4. pytket-extensionで、IBM Quantum、Amazon Braket、Azure Quantum、Qulacsを利用\n",
    "- 下記のスクリプトはそれぞれのクラウドで<span style=\"color: red; \">有料の操作</span>となることがありますので、ご注意ください"
   ]
  },
  {
   "cell_type": "markdown",
   "id": "a2fe901a",
   "metadata": {
    "tags": []
   },
   "source": [
    "### 4-1. pytket-qiskitを利用して、IBM Quantumのシミュレータや実機にアクセス"
   ]
  },
  {
   "cell_type": "code",
   "execution_count": null,
   "id": "440004ec",
   "metadata": {},
   "outputs": [],
   "source": [
    "path = 'ibm-token'\n",
    "f = open(path)\n",
    "ibm_token = f.read()\n",
    "f.close()\n",
    "from pytket.extensions.qiskit.backends.config import set_ibmq_config\n",
    "set_ibmq_config(ibmq_api_token=ibm_token)"
   ]
  },
  {
   "cell_type": "code",
   "execution_count": null,
   "id": "a003af36",
   "metadata": {},
   "outputs": [],
   "source": [
    "from pytket.extensions.qiskit import IBMQBackend, IBMQEmulatorBackend\n",
    "from pytket import Circuit\n",
    "from pytket.circuit.display import render_circuit_jupyter"
   ]
  },
  {
   "cell_type": "code",
   "execution_count": null,
   "id": "1469076b",
   "metadata": {},
   "outputs": [],
   "source": [
    "#ibm_backend = IBMQBackend(\"ibmq_lima\")\n",
    "#ibm_backend = IBMQBackend(\"ibmq_qasm_simulator\")\n",
    "# AerBackend to emulate the behaviour of IBMQBackend. Requires a valid IBMQ account.\n",
    "ibm_backend = IBMQEmulatorBackend(\"ibmq_lima\")"
   ]
  },
  {
   "cell_type": "code",
   "execution_count": null,
   "id": "26d7a2c6-be52-49d1-93a2-28fbcfdf4fb9",
   "metadata": {},
   "outputs": [],
   "source": [
    "bell = Circuit(2)\n",
    "bell.H(0).CX(0,1)\n",
    "bell.measure_all()\n",
    "render_circuit_jupyter(bell)\n",
    "\n",
    "# backendのgate setで量子回路を表現する\n",
    "ibm_bell = ibm_backend.get_compiled_circuit(bell)\n",
    "render_circuit_jupyter(ibm_bell)"
   ]
  },
  {
   "cell_type": "code",
   "execution_count": null,
   "id": "c51c02cb",
   "metadata": {},
   "outputs": [],
   "source": [
    "ibm_handle = ibm_backend.process_circuit(ibm_bell, n_shots =1000)"
   ]
  },
  {
   "cell_type": "code",
   "execution_count": null,
   "id": "0ff2d781",
   "metadata": {},
   "outputs": [],
   "source": [
    "ibm_result = ibm_backend.get_result(ibm_handle)"
   ]
  },
  {
   "cell_type": "code",
   "execution_count": null,
   "id": "8596dc83",
   "metadata": {},
   "outputs": [],
   "source": [
    "#ibm_backend.cancel(ibm_handle)"
   ]
  },
  {
   "cell_type": "code",
   "execution_count": null,
   "id": "da392a0a",
   "metadata": {},
   "outputs": [],
   "source": [
    "from qiskit.visualization import plot_histogram\n",
    "plot_histogram(ibm_result.get_counts())"
   ]
  },
  {
   "cell_type": "code",
   "execution_count": null,
   "id": "c72f9afb",
   "metadata": {},
   "outputs": [],
   "source": []
  },
  {
   "cell_type": "markdown",
   "id": "57b922c0",
   "metadata": {
    "tags": []
   },
   "source": [
    "### 4-2. pytket-braketを利用して、Amazon Braketのシミュレータや実機にアクセス"
   ]
  },
  {
   "cell_type": "code",
   "execution_count": null,
   "id": "419859cb",
   "metadata": {},
   "outputs": [],
   "source": [
    "#フォルダーにアクセスキー等の情報ファイルaws-keyを作成し、読み込む\n",
    "path = 'aws-key'\n",
    "f = open(path)\n",
    "aws_access_key_id, aws_secret_access_key, s3_name, bucket_key= [s.strip() for s in f.readlines()]\n",
    "f.close()"
   ]
  },
  {
   "cell_type": "code",
   "execution_count": null,
   "id": "6d0f3a0e-3166-4f1d-bcef-7398bd7fa1e6",
   "metadata": {},
   "outputs": [],
   "source": [
    "#Braket clientを作成し、Sessionを開始するところで\"No module named 'braket.device_schema.oqc'\"のエラーが出た場合には,amazon-braket-schemasをアップグレード\n",
    "#!pip install --upgrade amazon-braket-schemas"
   ]
  },
  {
   "cell_type": "code",
   "execution_count": null,
   "id": "02aec0db",
   "metadata": {},
   "outputs": [],
   "source": [
    "# Braket clientを作成し、Sessionを開始\n",
    "import boto3\n",
    "from braket.aws import AwsSession\n",
    "boto_session = boto3.Session(\n",
    "    aws_access_key_id= aws_access_key_id,\n",
    "    aws_secret_access_key= aws_secret_access_key,\n",
    "    region_name= 'eu-west-2'\n",
    ")\n",
    "aws_session = AwsSession(boto_session=boto_session)"
   ]
  },
  {
   "cell_type": "code",
   "execution_count": null,
   "id": "44d12dd3-a1b4-48f5-b5f0-abcc010b3c95",
   "metadata": {
    "tags": []
   },
   "outputs": [],
   "source": [
    "#aws_session.search_devices()"
   ]
  },
  {
   "cell_type": "code",
   "execution_count": null,
   "id": "fa36070a",
   "metadata": {},
   "outputs": [],
   "source": [
    "# backend の選択\n",
    "from pytket.extensions.braket import BraketBackend\n",
    "\n",
    "# ionQ   arn:aws:braket:::device/qpu/ionq/ionQdevice, region: us-east-1\n",
    "# aws_backend = BraketBackend(device='ionQdevice', s3_bucket=s3_name , s3_folder = bucket_key, device_type = 'qpu', provider = 'ionq', aws_session=aws_session)\n",
    "# Aspen-11   arn:aws:braket:::device/qpu/rigetti/Aspen-11 #Aspen-11, region: us-west-1\n",
    "# aws_backend = BraketBackend(device='Aspen-11', s3_bucket=s3_name , s3_folder = bucket_key, device_type = 'qpu', provider = 'rigetti', aws_session=aws_session)\n",
    "# Aspen-M-1   arn:aws:braket:::device/qpu/rigetti/Aspen-11 #Aspen-11, region: us-west-1\n",
    "# aws_backend = BraketBackend(device='Aspen-M-1',region = 'us-west-1', s3_bucket=s3_name , s3_folder = bucket_key, device_type = 'qpu', provider = 'rigetti', aws_session=aws_session)\n",
    "# Oxford Lucy   arn:aws:braket:eu-west-2::device/qpu/oqc/Lucy #Lucy, region: eu-west-2\n",
    "# aws_backend = BraketBackend(device='Lucy',region = 'eu-west-2', s3_bucket=s3_name , s3_folder = bucket_key, device_type = 'qpu', provider = 'oqc', aws_session=aws_session)\n",
    "# SV1    sim_arn = 'arn:aws:braket:::device/quantum-simulator/amazon/sv1'     #SV1, region:\n",
    "# aws_backend = BraketBackend(device='sv1', s3_bucket=s3_name , s3_folder = bucket_key, aws_session=aws_session)\n",
    "# TN1   sim_arn = 'arn:aws:braket:::device/quantum-simulator/amazon/tn1'    #TN1, region: us-west-2, us-east-1\n",
    "# aws_backend = BraketBackend(device='tn1', s3_bucket=s3_name , s3_folder = bucket_key, device_type = 'quantum-simulator', provider = 'amazon', aws_session=aws_session)\n",
    "# DM1   'arn:aws:braket:::device/quantum-simulator/amazon/dm1'    #DM1, region: \n",
    "# aws_backend = BraketBackend(device='dm1', s3_bucket=s3_name , s3_folder = bucket_key, device_type = 'quantum-simulator', provider = 'amazon', aws_session=aws_session)\n",
    "\n",
    "aws_backend = BraketBackend(local=True)\n"
   ]
  },
  {
   "cell_type": "code",
   "execution_count": null,
   "id": "abfed170",
   "metadata": {},
   "outputs": [],
   "source": [
    "# bell状態の作成\n",
    "bell = Circuit(2)\n",
    "bell.H(0).CX(0,1)\n",
    "render_circuit_jupyter(bell)\n",
    "\n",
    "# bell状態をbackendのgate setで量子回路を表現する\n",
    "aws_bell = aws_backend.get_compiled_circuit(bell)\n",
    "render_circuit_jupyter(aws_bell)"
   ]
  },
  {
   "cell_type": "code",
   "execution_count": null,
   "id": "52c5e7be",
   "metadata": {},
   "outputs": [],
   "source": [
    "aws_handle = aws_backend.process_circuit(aws_bell, n_shots =1000)"
   ]
  },
  {
   "cell_type": "code",
   "execution_count": null,
   "id": "d73c163a",
   "metadata": {},
   "outputs": [],
   "source": [
    "aws_result = aws_backend.get_result(aws_handle)\n",
    "print(aws_result.get_counts())"
   ]
  },
  {
   "cell_type": "code",
   "execution_count": null,
   "id": "100e9d0e",
   "metadata": {},
   "outputs": [],
   "source": [
    "counts = aws_result.get_counts()\n",
    "plot_histogram(counts)"
   ]
  },
  {
   "cell_type": "code",
   "execution_count": null,
   "id": "78ed9120-31b1-4eb0-8d8b-486bae1aaef4",
   "metadata": {},
   "outputs": [],
   "source": []
  },
  {
   "cell_type": "markdown",
   "id": "f77fd570",
   "metadata": {},
   "source": [
    "### 4-3. pytket-qsharpを利用して、Azure Quantumのシミュレータや実機にアクセス"
   ]
  },
  {
   "cell_type": "code",
   "execution_count": null,
   "id": "a07de338",
   "metadata": {},
   "outputs": [],
   "source": [
    "path = 'azure-key'\n",
    "f = open(path)\n",
    "resource_id = [s.strip() for s in f.readlines()]\n",
    "f.close()"
   ]
  },
  {
   "cell_type": "code",
   "execution_count": null,
   "id": "9a335553",
   "metadata": {},
   "outputs": [],
   "source": [
    "from pytket.extensions.qsharp import set_azure_config\n",
    "set_azure_config(resourceId=resource_id, location=\"eastus\")"
   ]
  },
  {
   "cell_type": "code",
   "execution_count": null,
   "id": "68a02cd0-9282-4925-b91d-c1254b19ea7d",
   "metadata": {},
   "outputs": [],
   "source": [
    "from pytket.extensions.qsharp import AzureBackend"
   ]
  },
  {
   "cell_type": "code",
   "execution_count": null,
   "id": "8c748fa2",
   "metadata": {},
   "outputs": [],
   "source": [
    "# Azure Qauntum上の実機IonQを利用する\n",
    "#from pytket.extensions.qsharp import AzureBackend\n",
    "#azure_backend = AzureBackend(target_name='ionq.simulator')"
   ]
  },
  {
   "cell_type": "code",
   "execution_count": null,
   "id": "a8c82059",
   "metadata": {},
   "outputs": [],
   "source": [
    "# Azure Qauntumが提供しているローカルシミュレータを利用する\n",
    "from pytket.extensions.qsharp import QsharpSimulatorBackend\n",
    "from qiskit.visualization import plot_histogram"
   ]
  },
  {
   "cell_type": "code",
   "execution_count": null,
   "id": "1535c788-e1d0-4f48-a5e8-6346d3eccbed",
   "metadata": {},
   "outputs": [],
   "source": [
    "azure_backend = QsharpSimulatorBackend()"
   ]
  },
  {
   "cell_type": "code",
   "execution_count": null,
   "id": "42d9d392-427a-499e-a23d-837d8d6e743a",
   "metadata": {},
   "outputs": [],
   "source": [
    "from pytket import Circuit\n",
    "from pytket.circuit.display import render_circuit_jupyter\n",
    "bell = Circuit(2)\n",
    "bell.H(0).CX(0,1)\n",
    "bell.measure_all()\n",
    "render_circuit_jupyter(bell)\n",
    "\n",
    "# backendのgate setで量子回路を表現する\n",
    "azure_bell = azure_backend.get_compiled_circuit(bell)\n",
    "render_circuit_jupyter(azure_bell)"
   ]
  },
  {
   "cell_type": "code",
   "execution_count": null,
   "id": "9589ef4c-a2fd-437c-a469-7f16bf3dfaa4",
   "metadata": {},
   "outputs": [],
   "source": [
    "result = azure_backend.process_circuit(azure_bell, n_shots=1000)"
   ]
  },
  {
   "cell_type": "code",
   "execution_count": null,
   "id": "5ca71b9c-d5da-4777-a4e0-e1466d0d9356",
   "metadata": {},
   "outputs": [],
   "source": [
    "azure_result = azure_backend.get_result(result)\n",
    "azure_counts = azure_result.get_counts()\n",
    "azure_counts"
   ]
  },
  {
   "cell_type": "code",
   "execution_count": null,
   "id": "72f471d1-54f8-4de3-8257-5c871cd365e1",
   "metadata": {},
   "outputs": [],
   "source": [
    "plot_histogram(azure_counts)"
   ]
  },
  {
   "cell_type": "code",
   "execution_count": null,
   "id": "60f09bc5-d709-4cc4-ab91-304a792da0ef",
   "metadata": {},
   "outputs": [],
   "source": []
  },
  {
   "cell_type": "markdown",
   "id": "a3ca6460",
   "metadata": {},
   "source": [
    "### 4-4. pytket-qulacs を利用して、Qulacsのシミュレータにアクセス"
   ]
  },
  {
   "cell_type": "code",
   "execution_count": null,
   "id": "1d895103",
   "metadata": {},
   "outputs": [],
   "source": [
    "from pytket.extensions.qulacs import QulacsBackend\n",
    "qulacs_backend = QulacsBackend()"
   ]
  },
  {
   "cell_type": "code",
   "execution_count": null,
   "id": "db650acf",
   "metadata": {},
   "outputs": [],
   "source": [
    "# bell状態の作成\n",
    "bell = Circuit(2)\n",
    "bell.H(0).CX(0,1)\n",
    "bell.measure_all()\n",
    "\n",
    "render_circuit_jupyter(bell)\n",
    "\n",
    "# backendのgate setで量子回路を表現する\n",
    "qulacs_bell = qulacs_backend.get_compiled_circuit(bell)\n",
    "render_circuit_jupyter(qulacs_bell)"
   ]
  },
  {
   "cell_type": "code",
   "execution_count": null,
   "id": "0c4c68ae-5321-4cde-9938-f053ca0c2bee",
   "metadata": {},
   "outputs": [],
   "source": [
    "qulacs_handle = qulacs_backend.process_circuit(qulacs_bell, n_shots=1000)"
   ]
  },
  {
   "cell_type": "code",
   "execution_count": null,
   "id": "e2848529",
   "metadata": {},
   "outputs": [],
   "source": [
    "qulacs_result = qulacs_backend.get_result(qulacs_handle)\n",
    "print(qulacs_result.get_counts())"
   ]
  },
  {
   "cell_type": "code",
   "execution_count": null,
   "id": "3a0a0948",
   "metadata": {},
   "outputs": [],
   "source": [
    "counts = qulacs_result.get_counts()\n",
    "plot_histogram(counts)"
   ]
  },
  {
   "cell_type": "code",
   "execution_count": null,
   "id": "436c689f-cc36-4925-866a-1456c60f7d00",
   "metadata": {},
   "outputs": [],
   "source": []
  },
  {
   "cell_type": "markdown",
   "id": "14cb5d25-86fa-42f0-9758-d0935fba2fbd",
   "metadata": {},
   "source": [
    "スクリプトに関してのお問い合わせは以下までお願いいたします。\n",
    "- 問い合わせ先（ 日本語 ）: cqcjapan.business@cambridgequantum.com\n"
   ]
  },
  {
   "cell_type": "markdown",
   "id": "19945b3c-3831-4432-96dc-54f9b99a001d",
   "metadata": {
    "tags": []
   },
   "source": [
    "弊社のご紹介\n",
    "- ウェブサイト（ 英語 ）： https://cambridgequantum.com/\n",
    "- 各種技術詳細： https://cambridgequantum.com/our-technology/\n",
    "- 学術論文： https://cambridgequantum.com/our-publications/　\n",
    "- プレスリリース（ 日本語 ）： https://japan.zdnet.com/company/30001168/release/　\n",
    "- Twitter（ 日本語 ）： https://twitter.com/cqc_japan\n",
    "- CQ日本チーム主催の勉強会（ 日本語 ）： https://cambridgequantum.connpass.com/\n",
    "- 採用情報（ 日本語 ）：https://jobs.eu.lever.co/cambridgequantum?location=Tokyo\n",
    "- 問い合わせ先（ 日本語 ）: cqcjapan.business@cambridgequantum.com\n"
   ]
  },
  {
   "cell_type": "code",
   "execution_count": null,
   "id": "c0283d75-16e7-46a1-91d2-f6148910d877",
   "metadata": {},
   "outputs": [],
   "source": []
  }
 ],
 "metadata": {
  "kernelspec": {
   "display_name": "Python 3 (ipykernel)",
   "language": "python",
   "name": "python3"
  },
  "language_info": {
   "codemirror_mode": {
    "name": "ipython",
    "version": 3
   },
   "file_extension": ".py",
   "mimetype": "text/x-python",
   "name": "python",
   "nbconvert_exporter": "python",
   "pygments_lexer": "ipython3",
   "version": "3.9.7"
  },
  "toc-showmarkdowntxt": false
 },
 "nbformat": 4,
 "nbformat_minor": 5
}
