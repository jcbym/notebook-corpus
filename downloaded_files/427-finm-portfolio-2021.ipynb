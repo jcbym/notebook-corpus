{
 "cells": [
  {
   "cell_type": "markdown",
   "metadata": {},
   "source": [
    "## Section 2: Mean-Variance Optimization"
   ]
  },
  {
   "cell_type": "code",
   "execution_count": 1,
   "metadata": {},
   "outputs": [],
   "source": [
    "# Section 2: Mean-Variance Optimization\n",
    "\n",
    "import pandas as pd\n",
    "import numpy as np\n",
    "\n",
    "df = pd.read_excel('multi_asset_etf_data.xlsx',sheet_name='excess returns')\n",
    "# excess return\n",
    "df_tilde = df.set_index('Date')"
   ]
  },
  {
   "cell_type": "markdown",
   "metadata": {},
   "source": [
    "Problem 1: Summary Statistics"
   ]
  },
  {
   "cell_type": "markdown",
   "metadata": {},
   "source": [
    "(a) Calculate and display the mean and volatility of each asset’s excess retu"
   ]
  },
  {
   "cell_type": "code",
   "execution_count": 3,
   "metadata": {},
   "outputs": [
    {
     "data": {
      "text/html": [
       "<div>\n",
       "<style scoped>\n",
       "    .dataframe tbody tr th:only-of-type {\n",
       "        vertical-align: middle;\n",
       "    }\n",
       "\n",
       "    .dataframe tbody tr th {\n",
       "        vertical-align: top;\n",
       "    }\n",
       "\n",
       "    .dataframe thead th {\n",
       "        text-align: right;\n",
       "    }\n",
       "</style>\n",
       "<table border=\"1\" class=\"dataframe\">\n",
       "  <thead>\n",
       "    <tr style=\"text-align: right;\">\n",
       "      <th></th>\n",
       "      <th>Mean</th>\n",
       "      <th>Vol</th>\n",
       "      <th>Sharpe</th>\n",
       "    </tr>\n",
       "  </thead>\n",
       "  <tbody>\n",
       "    <tr>\n",
       "      <th>BWX</th>\n",
       "      <td>0.020819</td>\n",
       "      <td>0.074304</td>\n",
       "      <td>0.280189</td>\n",
       "    </tr>\n",
       "    <tr>\n",
       "      <th>DBC</th>\n",
       "      <td>0.010053</td>\n",
       "      <td>0.177327</td>\n",
       "      <td>0.056689</td>\n",
       "    </tr>\n",
       "    <tr>\n",
       "      <th>EEM</th>\n",
       "      <td>0.093103</td>\n",
       "      <td>0.196190</td>\n",
       "      <td>0.474556</td>\n",
       "    </tr>\n",
       "    <tr>\n",
       "      <th>EFA</th>\n",
       "      <td>0.099239</td>\n",
       "      <td>0.161319</td>\n",
       "      <td>0.615174</td>\n",
       "    </tr>\n",
       "    <tr>\n",
       "      <th>HYG</th>\n",
       "      <td>0.081193</td>\n",
       "      <td>0.085989</td>\n",
       "      <td>0.944231</td>\n",
       "    </tr>\n",
       "    <tr>\n",
       "      <th>IEF</th>\n",
       "      <td>0.033424</td>\n",
       "      <td>0.056895</td>\n",
       "      <td>0.587473</td>\n",
       "    </tr>\n",
       "    <tr>\n",
       "      <th>IYR</th>\n",
       "      <td>0.164311</td>\n",
       "      <td>0.180085</td>\n",
       "      <td>0.912408</td>\n",
       "    </tr>\n",
       "    <tr>\n",
       "      <th>PSP</th>\n",
       "      <td>0.170243</td>\n",
       "      <td>0.213412</td>\n",
       "      <td>0.797721</td>\n",
       "    </tr>\n",
       "    <tr>\n",
       "      <th>QAI</th>\n",
       "      <td>0.027795</td>\n",
       "      <td>0.047800</td>\n",
       "      <td>0.581490</td>\n",
       "    </tr>\n",
       "    <tr>\n",
       "      <th>SPY</th>\n",
       "      <td>0.164907</td>\n",
       "      <td>0.139166</td>\n",
       "      <td>1.184963</td>\n",
       "    </tr>\n",
       "    <tr>\n",
       "      <th>TIP</th>\n",
       "      <td>0.037242</td>\n",
       "      <td>0.045151</td>\n",
       "      <td>0.824835</td>\n",
       "    </tr>\n",
       "  </tbody>\n",
       "</table>\n",
       "</div>"
      ],
      "text/plain": [
       "         Mean       Vol    Sharpe\n",
       "BWX  0.020819  0.074304  0.280189\n",
       "DBC  0.010053  0.177327  0.056689\n",
       "EEM  0.093103  0.196190  0.474556\n",
       "EFA  0.099239  0.161319  0.615174\n",
       "HYG  0.081193  0.085989  0.944231\n",
       "IEF  0.033424  0.056895  0.587473\n",
       "IYR  0.164311  0.180085  0.912408\n",
       "PSP  0.170243  0.213412  0.797721\n",
       "QAI  0.027795  0.047800  0.581490\n",
       "SPY  0.164907  0.139166  1.184963\n",
       "TIP  0.037242  0.045151  0.824835"
      ]
     },
     "execution_count": 3,
     "metadata": {},
     "output_type": "execute_result"
    }
   ],
   "source": [
    "#1a)\n",
    "\n",
    "# annualize the excess returns\n",
    "df_tilde_annual = 12 * df_tilde \n",
    "\n",
    "# mean excess return\n",
    "mu_tilde_annual = df_tilde_annual.mean()\n",
    "\n",
    "# volatility\n",
    "sigma = df_tilde_annual.std()/np.sqrt(12)\n",
    "\n",
    "# Sharpe ratio\n",
    "sharpe_ratio = mu_tilde_annual/sigma\n",
    "\n",
    "table1 = pd.DataFrame({'Mean':mu_tilde_annual, 'Vol':sigma, 'Sharpe':sharpe_ratio})\n",
    "table1"
   ]
  },
  {
   "cell_type": "markdown",
   "metadata": {},
   "source": [
    "(b)  Which assets have the best and worst Sharpe ratios?"
   ]
  },
  {
   "cell_type": "code",
   "execution_count": 4,
   "metadata": {},
   "outputs": [
    {
     "name": "stdout",
     "output_type": "stream",
     "text": [
      "The asset with the best Sharpe ratio is: SPY\n",
      "The asset with the best Sharpe ratio is: DBC\n"
     ]
    }
   ],
   "source": [
    "#1b)\n",
    "# best Sharpe ratio\n",
    "best_Sharpe_asset = table1['Sharpe'].idxmax()\n",
    "\n",
    "# worst Sharpe ratio\n",
    "worst_Sharpe_asset = table1['Sharpe'].idxmin()\n",
    "\n",
    "print('The asset with the best Sharpe ratio is: ' + best_Sharpe_asset)\n",
    "print('The asset with the best Sharpe ratio is: ' + worst_Sharpe_asset)"
   ]
  },
  {
   "cell_type": "markdown",
   "metadata": {},
   "source": [
    "Problem 2: Descriptive Analysis"
   ]
  },
  {
   "cell_type": "markdown",
   "metadata": {},
   "source": [
    "a) Calculate the correlation matrix of the returns.  Which pair has the highest correlation?And the lowest"
   ]
  },
  {
   "cell_type": "code",
   "execution_count": 5,
   "metadata": {},
   "outputs": [
    {
     "data": {
      "text/html": [
       "<div>\n",
       "<style scoped>\n",
       "    .dataframe tbody tr th:only-of-type {\n",
       "        vertical-align: middle;\n",
       "    }\n",
       "\n",
       "    .dataframe tbody tr th {\n",
       "        vertical-align: top;\n",
       "    }\n",
       "\n",
       "    .dataframe thead th {\n",
       "        text-align: right;\n",
       "    }\n",
       "</style>\n",
       "<table border=\"1\" class=\"dataframe\">\n",
       "  <thead>\n",
       "    <tr style=\"text-align: right;\">\n",
       "      <th></th>\n",
       "      <th>BWX</th>\n",
       "      <th>DBC</th>\n",
       "      <th>EEM</th>\n",
       "      <th>EFA</th>\n",
       "      <th>HYG</th>\n",
       "      <th>IEF</th>\n",
       "      <th>IYR</th>\n",
       "      <th>PSP</th>\n",
       "      <th>QAI</th>\n",
       "      <th>SPY</th>\n",
       "      <th>TIP</th>\n",
       "    </tr>\n",
       "  </thead>\n",
       "  <tbody>\n",
       "    <tr>\n",
       "      <th>BWX</th>\n",
       "      <td>NaN</td>\n",
       "      <td>0.437619</td>\n",
       "      <td>0.608377</td>\n",
       "      <td>0.552190</td>\n",
       "      <td>0.479980</td>\n",
       "      <td>0.235399</td>\n",
       "      <td>0.397112</td>\n",
       "      <td>0.456009</td>\n",
       "      <td>0.605444</td>\n",
       "      <td>0.373806</td>\n",
       "      <td>0.526797</td>\n",
       "    </tr>\n",
       "    <tr>\n",
       "      <th>DBC</th>\n",
       "      <td>0.437619</td>\n",
       "      <td>NaN</td>\n",
       "      <td>0.619991</td>\n",
       "      <td>0.634630</td>\n",
       "      <td>0.530205</td>\n",
       "      <td>-0.379698</td>\n",
       "      <td>0.321818</td>\n",
       "      <td>0.575219</td>\n",
       "      <td>0.617904</td>\n",
       "      <td>0.574377</td>\n",
       "      <td>0.137627</td>\n",
       "    </tr>\n",
       "    <tr>\n",
       "      <th>EEM</th>\n",
       "      <td>0.608377</td>\n",
       "      <td>0.619991</td>\n",
       "      <td>NaN</td>\n",
       "      <td>0.854021</td>\n",
       "      <td>0.748341</td>\n",
       "      <td>-0.311420</td>\n",
       "      <td>0.614140</td>\n",
       "      <td>0.804353</td>\n",
       "      <td>0.805874</td>\n",
       "      <td>0.757758</td>\n",
       "      <td>0.221171</td>\n",
       "    </tr>\n",
       "    <tr>\n",
       "      <th>EFA</th>\n",
       "      <td>0.552190</td>\n",
       "      <td>0.634630</td>\n",
       "      <td>0.854021</td>\n",
       "      <td>NaN</td>\n",
       "      <td>0.750992</td>\n",
       "      <td>-0.378969</td>\n",
       "      <td>0.666056</td>\n",
       "      <td>0.908241</td>\n",
       "      <td>0.830229</td>\n",
       "      <td>0.873131</td>\n",
       "      <td>0.138746</td>\n",
       "    </tr>\n",
       "    <tr>\n",
       "      <th>HYG</th>\n",
       "      <td>0.479980</td>\n",
       "      <td>0.530205</td>\n",
       "      <td>0.748341</td>\n",
       "      <td>0.750992</td>\n",
       "      <td>NaN</td>\n",
       "      <td>-0.237206</td>\n",
       "      <td>0.757550</td>\n",
       "      <td>0.820091</td>\n",
       "      <td>0.745370</td>\n",
       "      <td>0.746024</td>\n",
       "      <td>0.208048</td>\n",
       "    </tr>\n",
       "    <tr>\n",
       "      <th>IEF</th>\n",
       "      <td>0.235399</td>\n",
       "      <td>-0.379698</td>\n",
       "      <td>-0.311420</td>\n",
       "      <td>-0.378969</td>\n",
       "      <td>-0.237206</td>\n",
       "      <td>NaN</td>\n",
       "      <td>-0.079125</td>\n",
       "      <td>-0.404348</td>\n",
       "      <td>-0.161356</td>\n",
       "      <td>-0.419998</td>\n",
       "      <td>0.649038</td>\n",
       "    </tr>\n",
       "    <tr>\n",
       "      <th>IYR</th>\n",
       "      <td>0.397112</td>\n",
       "      <td>0.321818</td>\n",
       "      <td>0.614140</td>\n",
       "      <td>0.666056</td>\n",
       "      <td>0.757550</td>\n",
       "      <td>-0.079125</td>\n",
       "      <td>NaN</td>\n",
       "      <td>0.734348</td>\n",
       "      <td>0.601285</td>\n",
       "      <td>0.716066</td>\n",
       "      <td>0.283457</td>\n",
       "    </tr>\n",
       "    <tr>\n",
       "      <th>PSP</th>\n",
       "      <td>0.456009</td>\n",
       "      <td>0.575219</td>\n",
       "      <td>0.804353</td>\n",
       "      <td>0.908241</td>\n",
       "      <td>0.820091</td>\n",
       "      <td>-0.404348</td>\n",
       "      <td>0.734348</td>\n",
       "      <td>NaN</td>\n",
       "      <td>0.810628</td>\n",
       "      <td>0.894176</td>\n",
       "      <td>0.135455</td>\n",
       "    </tr>\n",
       "    <tr>\n",
       "      <th>QAI</th>\n",
       "      <td>0.605444</td>\n",
       "      <td>0.617904</td>\n",
       "      <td>0.805874</td>\n",
       "      <td>0.830229</td>\n",
       "      <td>0.745370</td>\n",
       "      <td>-0.161356</td>\n",
       "      <td>0.601285</td>\n",
       "      <td>0.810628</td>\n",
       "      <td>NaN</td>\n",
       "      <td>0.820112</td>\n",
       "      <td>0.337546</td>\n",
       "    </tr>\n",
       "    <tr>\n",
       "      <th>SPY</th>\n",
       "      <td>0.373806</td>\n",
       "      <td>0.574377</td>\n",
       "      <td>0.757758</td>\n",
       "      <td>0.873131</td>\n",
       "      <td>0.746024</td>\n",
       "      <td>-0.419998</td>\n",
       "      <td>0.716066</td>\n",
       "      <td>0.894176</td>\n",
       "      <td>0.820112</td>\n",
       "      <td>NaN</td>\n",
       "      <td>0.103265</td>\n",
       "    </tr>\n",
       "    <tr>\n",
       "      <th>TIP</th>\n",
       "      <td>0.526797</td>\n",
       "      <td>0.137627</td>\n",
       "      <td>0.221171</td>\n",
       "      <td>0.138746</td>\n",
       "      <td>0.208048</td>\n",
       "      <td>0.649038</td>\n",
       "      <td>0.283457</td>\n",
       "      <td>0.135455</td>\n",
       "      <td>0.337546</td>\n",
       "      <td>0.103265</td>\n",
       "      <td>NaN</td>\n",
       "    </tr>\n",
       "  </tbody>\n",
       "</table>\n",
       "</div>"
      ],
      "text/plain": [
       "          BWX       DBC       EEM       EFA       HYG       IEF       IYR  \\\n",
       "BWX       NaN  0.437619  0.608377  0.552190  0.479980  0.235399  0.397112   \n",
       "DBC  0.437619       NaN  0.619991  0.634630  0.530205 -0.379698  0.321818   \n",
       "EEM  0.608377  0.619991       NaN  0.854021  0.748341 -0.311420  0.614140   \n",
       "EFA  0.552190  0.634630  0.854021       NaN  0.750992 -0.378969  0.666056   \n",
       "HYG  0.479980  0.530205  0.748341  0.750992       NaN -0.237206  0.757550   \n",
       "IEF  0.235399 -0.379698 -0.311420 -0.378969 -0.237206       NaN -0.079125   \n",
       "IYR  0.397112  0.321818  0.614140  0.666056  0.757550 -0.079125       NaN   \n",
       "PSP  0.456009  0.575219  0.804353  0.908241  0.820091 -0.404348  0.734348   \n",
       "QAI  0.605444  0.617904  0.805874  0.830229  0.745370 -0.161356  0.601285   \n",
       "SPY  0.373806  0.574377  0.757758  0.873131  0.746024 -0.419998  0.716066   \n",
       "TIP  0.526797  0.137627  0.221171  0.138746  0.208048  0.649038  0.283457   \n",
       "\n",
       "          PSP       QAI       SPY       TIP  \n",
       "BWX  0.456009  0.605444  0.373806  0.526797  \n",
       "DBC  0.575219  0.617904  0.574377  0.137627  \n",
       "EEM  0.804353  0.805874  0.757758  0.221171  \n",
       "EFA  0.908241  0.830229  0.873131  0.138746  \n",
       "HYG  0.820091  0.745370  0.746024  0.208048  \n",
       "IEF -0.404348 -0.161356 -0.419998  0.649038  \n",
       "IYR  0.734348  0.601285  0.716066  0.283457  \n",
       "PSP       NaN  0.810628  0.894176  0.135455  \n",
       "QAI  0.810628       NaN  0.820112  0.337546  \n",
       "SPY  0.894176  0.820112       NaN  0.103265  \n",
       "TIP  0.135455  0.337546  0.103265       NaN  "
      ]
     },
     "execution_count": 5,
     "metadata": {},
     "output_type": "execute_result"
    },
    {
     "data": {
      "image/png": "[encoded data removed]",
      "text/plain": [
       "<Figure size 432x288 with 2 Axes>"
      ]
     },
     "metadata": {
      "needs_background": "light"
     },
     "output_type": "display_data"
    }
   ],
   "source": [
    "#2a) \n",
    "import seaborn as sns\n",
    "\n",
    "# Correlation matrix\n",
    "corrmat = df_tilde_annual.corr()\n",
    "\n",
    "# ignore self-correlation\n",
    "corrmat[corrmat==1] = None\n",
    "\n",
    "sns.heatmap(corrmat)\n",
    "corrmat"
   ]
  },
  {
   "cell_type": "markdown",
   "metadata": {},
   "source": [
    "b) How well have TIPS done in our sample?  Have they outperformed domestic bonds?  Foreignbonds?"
   ]
  },
  {
   "cell_type": "markdown",
   "metadata": {},
   "source": [
    "Solution: TIPS has outperformed domestic bonds (IEF) and foreign bonds (BWX). We can conclude this by looking at their Sharpe Ratios. TIP = 0.824, IEF = 0.58, BWX = 0.280"
   ]
  },
  {
   "cell_type": "markdown",
   "metadata": {},
   "source": [
    "c) Based on the data, do TIPS seem to expand the investment opportunity set, implying thatHarvard should consider them as a separate asset?"
   ]
  },
  {
   "cell_type": "markdown",
   "metadata": {},
   "source": [
    "Solution: Based off of the above correlation matrix, TIP has a 0.64 correlation with IEF and a 0.527 correlation with BWX. Since both of these correlations are high, we can conclude that TIP is not a seprate asset. While it does perform better, it does not appear to be a seperate asset. "
   ]
  },
  {
   "cell_type": "markdown",
   "metadata": {},
   "source": [
    "Problem 3: The MV frontier"
   ]
  },
  {
   "cell_type": "markdown",
   "metadata": {},
   "source": [
    "a) Compute and display the weights of the tangency portfolio: w^{tan}"
   ]
  },
  {
   "cell_type": "code",
   "execution_count": 6,
   "metadata": {},
   "outputs": [
    {
     "data": {
      "text/plain": [
       "BWX   -0.259236\n",
       "DBC   -0.049786\n",
       "EEM    0.068120\n",
       "EFA   -0.157671\n",
       "HYG    0.775635\n",
       "IEF    1.734962\n",
       "IYR   -0.366667\n",
       "PSP   -0.000685\n",
       "QAI   -2.477194\n",
       "SPY    1.540749\n",
       "TIP    0.191773\n",
       "dtype: float64"
      ]
     },
     "execution_count": 6,
     "metadata": {},
     "output_type": "execute_result"
    }
   ],
   "source": [
    "#3a) \n",
    "# compute and display the weights of the tangency portfolio\n",
    "\n",
    "def compute_tangency(df_tilde):\n",
    "\n",
    "    #variance-covariance matrix\n",
    "    Sigma = df_tilde.cov()\n",
    "\n",
    "    # N is the number of assets\n",
    "    N = Sigma.shape[0]\n",
    "\n",
    "    Sigma_adj = Sigma.copy()\n",
    "\n",
    "    mu_tilde = df_tilde.mean()\n",
    "    Sigma_inv = np.linalg.inv(Sigma_adj)\n",
    "    weights = Sigma_inv @ mu_tilde / (np.ones(N) @ Sigma_inv @ mu_tilde)\n",
    "\n",
    "    omega_tangency = pd.Series(weights, index=mu_tilde.index)\n",
    "\n",
    "    return omega_tangency, mu_tilde, Sigma\n",
    "\n",
    "omega_tangency, mu_tilde, Sigma = compute_tangency(df_tilde_annual)\n",
    "\n",
    "omega_tangency"
   ]
  },
  {
   "cell_type": "markdown",
   "metadata": {},
   "source": [
    "3b) Compute the mean, volatility, and Sharpe ratio for the tangency portfolio"
   ]
  },
  {
   "cell_type": "code",
   "execution_count": 7,
   "metadata": {},
   "outputs": [
    {
     "name": "stdout",
     "output_type": "stream",
     "text": [
      "For the tangency Portfolio, Mean: 0.2377671633954933, Volatility: 0.10480197847812664, Sharpe Ratio: 2.2687278126635557\n"
     ]
    }
   ],
   "source": [
    "#3b)\n",
    "# compute the mean, volatility, and Sharpe ratio for the tangency portfolio\n",
    "\n",
    "# mean\n",
    "mean_tangency = mu_tilde @ omega_tangency\n",
    "\n",
    "# volatility\n",
    "vol_tangency = np.sqrt(omega_tangency @ Sigma @ omega_tangency)/np.sqrt(12)\n",
    "\n",
    "# Sharpe ratio\n",
    "sharpe_tangency = mean_tangency/vol_tangency\n",
    "\n",
    "print('For the tangency Portfolio, Mean: ' + str(mean_tangency) + ', Volatility: ' + str(vol_tangency)\n",
    "     + ', Sharpe Ratio: ' + str(sharpe_tangency))"
   ]
  },
  {
   "cell_type": "markdown",
   "metadata": {},
   "source": [
    "Problem 4: The allocation"
   ]
  },
  {
   "cell_type": "markdown",
   "metadata": {},
   "source": [
    "a)  Compute and display the weights of MV portfolios with target returns of ̃μ^p=.01."
   ]
  },
  {
   "cell_type": "code",
   "execution_count": 8,
   "metadata": {},
   "outputs": [
    {
     "data": {
      "text/plain": [
       "BWX   -0.130835\n",
       "DBC   -0.025127\n",
       "EEM    0.034380\n",
       "EFA   -0.079576\n",
       "HYG    0.391459\n",
       "IEF    0.875628\n",
       "IYR   -0.185055\n",
       "PSP   -0.000346\n",
       "QAI   -1.250228\n",
       "SPY    0.777609\n",
       "TIP    0.096787\n",
       "dtype: float64"
      ]
     },
     "execution_count": 8,
     "metadata": {},
     "output_type": "execute_result"
    }
   ],
   "source": [
    "# 4a)\n",
    "\n",
    "# Compute and display the weights of MV portfolios with target returns=0.01\n",
    "\n",
    "def target_mv_portfolio(df_tilde, target_return):\n",
    "\n",
    "    omega_tangency, mu_tilde, Sigma = compute_tangency(df_tilde, diagonalize_Sigma=diagonalize_Sigma)\n",
    "    Sigma_adj = Sigma.copy()\n",
    "\n",
    "    Sigma_inv = np.linalg.inv(Sigma_adj)\n",
    "    N = Sigma_adj.shape[0]\n",
    "    delta_tilde = ((np.ones(N) @ Sigma_inv @ mu_tilde)/(mu_tilde @ Sigma_inv @ mu_tilde)) * target_return\n",
    "\n",
    "    omega_star = delta_tilde * omega_tangency\n",
    "\n",
    "    return omega_star\n",
    "\n",
    "# TODO: Annualized target return in footnote is not up to date\n",
    "\n",
    "omega_star = target_mv_portfolio(df_tilde_annual, target_return=0.01 * 12)\n",
    "\n",
    "omega_star"
   ]
  },
  {
   "cell_type": "code",
   "execution_count": 9,
   "metadata": {},
   "outputs": [
    {
     "data": {
      "text/plain": [
       "0.5046954267625108"
      ]
     },
     "execution_count": 9,
     "metadata": {},
     "output_type": "execute_result"
    }
   ],
   "source": [
    "# fraction in the assets, the rest invested in risk-free rate\n",
    "omega_star.sum()"
   ]
  },
  {
   "cell_type": "markdown",
   "metadata": {},
   "source": [
    "b) What is the mean, volatility, and Sharpe ratio for w^p?"
   ]
  },
  {
   "cell_type": "code",
   "execution_count": 10,
   "metadata": {},
   "outputs": [
    {
     "name": "stdout",
     "output_type": "stream",
     "text": [
      "For the portfolio with the target excess returns 0.01, Mean: 0.12000000000000006, Volatility: 0.05289307925357357, Sharpe Ratio: 2.2687278126635557\n"
     ]
    }
   ],
   "source": [
    "#4b)\n",
    "# compute the mean, volatility, and Sharpe ratio for the omega_star\n",
    "\n",
    "# mean \n",
    "mean = mu_tilde @ omega_star\n",
    "\n",
    "# volatlity\n",
    "vol = np.sqrt(omega_star @ Sigma @ omega_star)/np.sqrt(12)\n",
    "\n",
    "# Sharpe ratio\n",
    "sharpe_ratio = mean/vol\n",
    "\n",
    "print('For the portfolio with the target excess returns 0.01, Mean: ' + str(mean) \n",
    "      + ', Volatility: ' + str(vol)\n",
    "     + ', Sharpe Ratio: ' + str(sharpe_ratio))"
   ]
  },
  {
   "cell_type": "markdown",
   "metadata": {},
   "source": [
    "c) Discuss the allocation.  In which assets is the portfolio most long?  And s"
   ]
  },
  {
   "cell_type": "code",
   "execution_count": 34,
   "metadata": {},
   "outputs": [
    {
     "name": "stdout",
     "output_type": "stream",
     "text": [
      "QAI   -1.250228\n",
      "IYR   -0.185055\n",
      "BWX   -0.130835\n",
      "EFA   -0.079576\n",
      "DBC   -0.025127\n",
      "PSP   -0.000346\n",
      "EEM    0.034380\n",
      "TIP    0.096787\n",
      "HYG    0.391459\n",
      "SPY    0.777609\n",
      "IEF    0.875628\n",
      "dtype: float64\n",
      "The portfolio most long is IEF.\n",
      "The portfolio most short is QAI.\n"
     ]
    },
    {
     "data": {
      "image/png": "[encoded data removed]",
      "text/plain": [
       "<Figure size 432x288 with 2 Axes>"
      ]
     },
     "metadata": {
      "needs_background": "light"
     },
     "output_type": "display_data"
    }
   ],
   "source": [
    "#4c) \n",
    "# most long and short\n",
    "sorted_omega_star = omega_star.sort_values()\n",
    "print(sorted_omega_star)\n",
    "\n",
    "sns.heatmap(Sigma)\n",
    "\n",
    "# most long: IEF : low covariance\n",
    "# most short: QAI\n",
    "\n",
    "print('The portfolio most long is '+ sorted_omega_star.idxmax()+'.')\n",
    "print('The portfolio most short is '+ sorted_omega_star.idxmin()+'.')"
   ]
  },
  {
   "cell_type": "markdown",
   "metadata": {},
   "source": [
    "d)\n",
    "No, it does not. SPY has the strongest sharpe ratio and is the second most long. Furthermore, QAI is the most short, however it does not have the worst Sharpe Ratio. MV solutions puts weight to the assets according to the covariances, and given the variance-covariance matrix heatmap above, we can see that IEF has an overall lowest covatiance with the other assets."
   ]
  },
  {
   "cell_type": "markdown",
   "metadata": {},
   "source": [
    "Problem 5: Simple Portfolios"
   ]
  },
  {
   "cell_type": "markdown",
   "metadata": {},
   "source": [
    "a) Calculate the performance of the equally-weighted portfolio over the sample. Rescale theentire  weighting  vector  to  have  target  mean ̃μ=.01. Report  its  mean,  volatility,  andSharpe ratio."
   ]
  },
  {
   "cell_type": "code",
   "execution_count": 13,
   "metadata": {},
   "outputs": [
    {
     "name": "stdout",
     "output_type": "stream",
     "text": [
      "For the equally-weighted portfolio, Mean: 0.0820299518246152, Volatility:0.09813252126465091, Sharpe-ratio: 0.8359099589767073\n",
      "For the rescaled-weighting portfolio, Mean: 0.12000000000000002, Volatility:0.14355613150835042, Sharpe-ratio: 0.8359099589767075\n"
     ]
    }
   ],
   "source": [
    "#5a)\n",
    "N = Sigma.shape[0]\n",
    "\n",
    "# Equal weight\n",
    "equal_weight = np.empty(N)\n",
    "equal_weight.fill(1/N)\n",
    "\n",
    "mean_eqw = mu_tilde @ equal_weight\n",
    "\n",
    "vol_eqw = np.sqrt(equal_weight @ Sigma @ equal_weight) / np.sqrt(12)\n",
    "\n",
    "sharpe_eqw = mean_eqw/vol_eqw\n",
    "\n",
    "print('For the equally-weighted portfolio, Mean: ' + str(mean_eqw) + ', Volatility:' + str(vol_eqw)\n",
    "     + ', Sharpe-ratio: ' + str(sharpe_eqw))\n",
    "\n",
    "# Rescale\n",
    "scaler = 0.01 * 12 # annualize the target returns\n",
    "rescaled_weight = equal_weight / (mean_eqw/scaler)\n",
    "\n",
    "mean_rescaled = mu_tilde @ rescaled_weight\n",
    "\n",
    "vol_rescaled = np.sqrt(rescaled_weight @ Sigma @ rescaled_weight) / np.sqrt(12)\n",
    "\n",
    "sharpe_rescaled = mean_rescaled/vol_rescaled\n",
    "\n",
    "print('For the rescaled-weighting portfolio, Mean: ' + str(mean_rescaled) + ', Volatility:' + str(vol_rescaled)\n",
    "     + ', Sharpe-ratio: ' + str(sharpe_rescaled))"
   ]
  },
  {
   "cell_type": "markdown",
   "metadata": {},
   "source": [
    "b) Calculate the performance of the “risk-parity” portfolio over the sample. Risk-parity is aterm used in a variety of ways, but here we have in mind setting the weight of the portfolioto be proportional to the inverse of its full-sample volatility estimate. You will need to rescale it to have a target meanof ̃μ=.01."
   ]
  },
  {
   "cell_type": "code",
   "execution_count": 14,
   "metadata": {},
   "outputs": [
    {
     "name": "stdout",
     "output_type": "stream",
     "text": [
      "For the 'risk-parity' portfolio, Mean: 7.2597285624445504, Volatility:7.765036238138095, Sharpe-ratio: 0.9349252649702111\n",
      "For the rescaled 'risk-parity' portfolio, Mean: 0.12, Volatility:0.12835250527091432, Sharpe-ratio: 0.9349252649702111\n"
     ]
    }
   ],
   "source": [
    "#5b)\n",
    "# risk-parity portfolio\n",
    "risk_parity_weight = 1/sigma\n",
    "\n",
    "mean_rp = mu_tilde @ risk_parity_weight\n",
    "\n",
    "vol_rp = np.sqrt(risk_parity_weight @ Sigma @ risk_parity_weight) / np.sqrt(12)\n",
    "\n",
    "sharpe_rp = mean_rp/vol_rp\n",
    "\n",
    "print('For the \\'risk-parity\\' portfolio, Mean: ' + str(mean_rp) + ', Volatility:' + str(vol_rp)\n",
    "     + ', Sharpe-ratio: ' + str(sharpe_rp))\n",
    "\n",
    "# rescale\n",
    "\n",
    "scaler = 0.01 * 12 # annualize the target returns\n",
    "rp_rescaled_weight = risk_parity_weight / (mean_rp/scaler)\n",
    "\n",
    "mean_rp_rescaled = mu_tilde @ rp_rescaled_weight\n",
    "\n",
    "vol_rp_rescaled = np.sqrt(rp_rescaled_weight @ Sigma @ rp_rescaled_weight) / np.sqrt(12)\n",
    "\n",
    "sharpe_rp_rescaled = mean_rp_rescaled/vol_rp_rescaled\n",
    "\n",
    "print('For the rescaled \\'risk-parity\\' portfolio, Mean: ' + str(mean_rp_rescaled) \n",
    "      + ', Volatility:' + str(vol_rp_rescaled)\n",
    "     + ', Sharpe-ratio: ' + str(sharpe_rp_rescaled))"
   ]
  },
  {
   "cell_type": "markdown",
   "metadata": {},
   "source": [
    "c)\n",
    "\n",
    "Sharpe Ratio of the rescaled 'risk-parity' portfolio is higher than that of the MV portfolio in 2.4"
   ]
  },
  {
   "cell_type": "markdown",
   "metadata": {},
   "source": [
    "Problem 6: Out-of-Sample Performanc"
   ]
  },
  {
   "cell_type": "markdown",
   "metadata": {},
   "source": [
    "a) Using only data through the end of 2020,  compute w^p for ̃μ^p=.01,  allocating to all 11assets."
   ]
  },
  {
   "cell_type": "code",
   "execution_count": 16,
   "metadata": {},
   "outputs": [
    {
     "data": {
      "text/plain": [
       "BWX   -0.039015\n",
       "DBC   -0.070831\n",
       "EEM    0.027148\n",
       "EFA   -0.076195\n",
       "HYG    0.461413\n",
       "IEF    0.844823\n",
       "IYR   -0.209008\n",
       "PSP   -0.024835\n",
       "QAI   -1.197772\n",
       "SPY    0.785429\n",
       "TIP    0.056842\n",
       "dtype: float64"
      ]
     },
     "execution_count": 16,
     "metadata": {},
     "output_type": "execute_result"
    }
   ],
   "source": [
    "#6a)\n",
    "\n",
    "df_temp = df_tilde_annual.loc[:'2020', :]\n",
    "\n",
    "omega_tangency_1, mu_tilde_1, Sigma_1 = compute_tangency(df_temp)\n",
    "\n",
    "omega_star_1 = target_mv_portfolio(df_temp, target_return=0.01*12)\n",
    "\n",
    "omega_star_1"
   ]
  },
  {
   "cell_type": "markdown",
   "metadata": {},
   "source": [
    "b)  Using those weights, calculate the portfolio’s Sharpe ratio within that sample, through the end of 2020"
   ]
  },
  {
   "cell_type": "code",
   "execution_count": 17,
   "metadata": {},
   "outputs": [
    {
     "data": {
      "text/plain": [
       "2.28985281394002"
      ]
     },
     "execution_count": 17,
     "metadata": {},
     "output_type": "execute_result"
    }
   ],
   "source": [
    "#6b)\n",
    "\n",
    "# Performance of 2020\n",
    "\n",
    "mean_1 = omega_star_1 @ mu_tilde_1\n",
    "\n",
    "vol_1 = np.sqrt(omega_star_1 @ Sigma_1 @ omega_star_1)/np.sqrt(12)\n",
    "\n",
    "sharpe_ratio_in_sample = mean_1/vol_1\n",
    "\n",
    "sharpe_ratio_in_sample"
   ]
  },
  {
   "cell_type": "markdown",
   "metadata": {},
   "source": [
    "c)  Again  using  those  weights,  (derived  using  data  through  2020,)  calculate  the  portfolio’s Sharpe ratio based on performance in 202"
   ]
  },
  {
   "cell_type": "code",
   "execution_count": 18,
   "metadata": {},
   "outputs": [
    {
     "data": {
      "text/plain": [
       "1.5096849087307802"
      ]
     },
     "execution_count": 18,
     "metadata": {},
     "output_type": "execute_result"
    }
   ],
   "source": [
    "#6c)\n",
    "\n",
    "# with weights above, calculate performance of 2021\n",
    "\n",
    "df_temp_1 = df_tilde_annual.loc['2021':, :]\n",
    "\n",
    "omega_tangency_2, mu_tilde_2, Sigma_2 = compute_tangency(df_temp_1)\n",
    "\n",
    "mean_2 = omega_star_1 @ mu_tilde_2\n",
    "\n",
    "vol_2 = np.sqrt(omega_star_1 @ Sigma_2 @ omega_star_1)/np.sqrt(12)\n",
    "\n",
    "sharpe_ratio_out_of_sample = mean_2/vol_2\n",
    "\n",
    "sharpe_ratio_out_of_sample"
   ]
  },
  {
   "cell_type": "markdown",
   "metadata": {},
   "source": [
    "**Reference: Solutions to HW1_2020"
   ]
  }
 ],
 "metadata": {
  "kernelspec": {
   "display_name": "Python 3",
   "language": "python",
   "name": "python3"
  },
  "language_info": {
   "codemirror_mode": {
    "name": "ipython",
    "version": 3
   },
   "file_extension": ".py",
   "mimetype": "text/x-python",
   "name": "python",
   "nbconvert_exporter": "python",
   "pygments_lexer": "ipython3",
   "version": "3.7.10"
  },
  "toc": {
   "base_numbering": 1,
   "nav_menu": {},
   "number_sections": true,
   "sideBar": true,
   "skip_h1_title": false,
   "title_cell": "Table of Contents",
   "title_sidebar": "Contents",
   "toc_cell": false,
   "toc_position": {},
   "toc_section_display": true,
   "toc_window_display": false
  }
 },
 "nbformat": 4,
 "nbformat_minor": 4
}
