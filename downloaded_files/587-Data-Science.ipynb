{
 "cells": [
  {
   "cell_type": "markdown",
   "metadata": {},
   "source": [
    "# Python Practical Exam\n",
    "\n",
    "© Explore Data Science Academy \n",
    "## Instructions to students\n",
    "* **DO NOT ADD / REMOVE CELLS FROM THIS NOTEBOOK, AND DO NOT CHANGE THE NAMES OF THE FUNCTIONS REQUIRED FOR TESTING.**\n",
    "  \n",
    "* This exam consists of six questions. Each of the questions is independent and do not require you to use functions built from previous questions. You can answer the questions in any order you like.\n",
    "\n",
    "* Ensure that the answers to your questions do not contain `syntax` or `indentation` errors. Questions with these errors will break the auto grader and will mark the _**entire exam**_ as incorrect. The auto grader will give you an error message if this is the case. Use this error message to correct the offending code or comment it out before resubmitting.\n",
    "* You will be able to make _**multiple submissions**_ to the auto grader. Use this ability to check if a question you have answered is correct before proceeding to the next question.\n",
    "* Only place code in sections that contain the `# Your code here.` comment.\n",
    "* We have provided some expected outputs for your code. Use these to determine if your code behaves as intended.\n",
    "* Some questions may have multiple requirements. It is possible to receive partial marks in these questions, so if you get stuck, try to submit to the auto grader before moving on."
   ]
  },
  {
   "cell_type": "code",
   "execution_count": 16,
   "metadata": {},
   "outputs": [],
   "source": [
    "import numpy as np\n",
    "import pandas as pd"
   ]
  },
  {
   "cell_type": "markdown",
   "metadata": {},
   "source": [
    "## Section 1: Numerical computation\n",
    "### Question 1\n",
    "We have a rope and want to cut the rope into four pieces to make a square. Given a rope of length $x$, what is the largest square (by area) that can be built given that a side of the square, $s$, can only be integer values? Units of measurement can be ignored. We are only interested in the numerical value of the solution.\n",
    "<p align=\"center\">\n",
    "<img src=\"https://raw.githubusercontent.com/Explore-AI/Pictures/master/python_fundamentals/python_exam/Largest_Square_Rope.jpg\"\n",
    "     alt=\"Largest Square\"\n",
    "     style=\"float: center; padding-bottom=0.5em\"\n",
    "     width=700px/>\n",
    "     <br>\n",
    "     <em>Figure 1: Area of the largest square enclosed by a rope. </em>\n",
    "</p>    \n",
    "\n",
    "**Function specifications**\n",
    "\n",
    "*Argument(s):*\n",
    "\n",
    "- **x** `(float)` $\\rightarrow$ the length of the rope.\n",
    "\n",
    "*Return:* \n",
    "\n",
    "- **area** `(int)` $\\rightarrow$ the area of the square formed by the rope.\n",
    "\n",
    "> 💡**HINT**💡\n",
    ">\n",
    ">The perimeter of the square cannot exceed the length of the rope."
   ]
  },
  {
   "cell_type": "code",
   "execution_count": 17,
   "metadata": {},
   "outputs": [],
   "source": [
    "### START FUNCTION\n",
    "def largest_square(x):\n",
    "    # Your code here.\n",
    "    s= int(x/4)\n",
    "    return s**2\n",
    "### END FUNCTION"
   ]
  },
  {
   "cell_type": "code",
   "execution_count": 12,
   "metadata": {},
   "outputs": [
    {
     "data": {
      "text/plain": [
       "9"
      ]
     },
     "execution_count": 12,
     "metadata": {},
     "output_type": "execute_result"
    }
   ],
   "source": [
    "largest_square(12)"
   ]
  },
  {
   "cell_type": "markdown",
   "metadata": {},
   "source": [
    "_**Expected outputs:**_\n",
    "```python\n",
    "largest_square(12) == 9\n",
    "largest_square(41.5) == 100\n",
    "largest_square(324) == 6561\n",
    "```"
   ]
  },
  {
   "cell_type": "markdown",
   "metadata": {},
   "source": [
    "### Question 2\n",
    "Given a square matrix of size $n\\times n $ that only contains integers, compute the sum of the two diagonals. If the dimension of the square matrix is odd, make sure that you are not double-counting the value at the centre of the matrix.\n",
    "\n",
    "<p align=\"center\">\n",
    "<img src=\"https://raw.githubusercontent.com/Explore-AI/Pictures/master/python_fundamentals/python_exam/Sum_of_diagonals.jpg\"\n",
    "     alt=\"Sum of diagonals\"\n",
    "     style=\"float: center; padding-bottom=0.5em\"\n",
    "     width=50%/>\n",
    "     <br>\n",
    "     <em>Figure 2: Sum of diagonals.</em>\n",
    "</p>    \n",
    "\n",
    "\n",
    "**Function specifications**\n",
    "\n",
    "*Arguments:*\n",
    "- **matrix** `(numpy.ndarray)` $\\rightarrow$ input matrix to be used for computing the sum.\n",
    "\n",
    "*Return:*\n",
    "- **sum** `(int)` $\\rightarrow$  return the sum of the two diagonals.\n"
   ]
  },
  {
   "cell_type": "code",
   "execution_count": 18,
   "metadata": {},
   "outputs": [],
   "source": [
    "### START FUNCTION\n",
    "def sum_of_diagonals(matrix):\n",
    "    # Your code here.\n",
    "    n = len(matrix)\n",
    "    primary = 0\n",
    "    secondary = 0;\n",
    "    for i in range(0, n):\n",
    "        primary += matrix[i][i]\n",
    "        secondary += matrix[i][n-i-1]\n",
    "    if (n % 2 == 0): return primary + secondary\n",
    "    else: return primary + secondary - matrix[n//2][n//2]\n",
    "    #return \n",
    "### END FUNCTION"
   ]
  },
  {
   "cell_type": "code",
   "execution_count": 19,
   "metadata": {},
   "outputs": [
    {
     "name": "stdout",
     "output_type": "stream",
     "text": [
      "[[1 8 1 3]\n",
      " [2 9 9 0]\n",
      " [5 9 5 0]\n",
      " [4 4 5 0]]\n"
     ]
    },
    {
     "data": {
      "text/plain": [
       "40"
      ]
     },
     "execution_count": 19,
     "metadata": {},
     "output_type": "execute_result"
    }
   ],
   "source": [
    "matrix =np.random.randint(10,size=(4,4))\n",
    "print(matrix)\n",
    "sum_of_diagonals(matrix)"
   ]
  },
  {
   "cell_type": "markdown",
   "metadata": {},
   "source": [
    "_**Expected outputs:**_\n",
    "```python\n",
    "matrix = np.array([[7, 0, 8],\n",
    "                   [6, 9, 1],\n",
    "                   [3, 8, 4]])\n",
    "sum_of_diagonals(matrix)==31\n",
    "\n",
    "\n",
    "matrix = np.array([[4, 1, 1, 1],\n",
    "                   [1, 3, 8, 0],\n",
    "                   [0, 8, 5, 7],\n",
    "                   [1, 6, 1, 3]])\n",
    "sum_of_diagonals(matrix)==33\n",
    "```"
   ]
  },
  {
   "cell_type": "markdown",
   "metadata": {},
   "source": [
    "## Section 2: Strings and lists\n",
    "\n",
    "### Question 3:\n",
    "\n",
    "Write a function that computes the ratio of vowels vs. consonants ($\\frac{vowels}{consonants}$) in a given sentence. The ratio should be given as a floating-point number rounded off to two decimal places. When writing your function, be sure to appropriately cater for the following punctuation marks:\n",
    "- apostrophes (')\n",
    "- quotations (\")\n",
    "- full stops (.)\n",
    "- commas (,)\n",
    "- exclamations (!)  \n",
    "- question marks (?)\n",
    "- colons (:)\n",
    "- semicolons (;)\n",
    "\n",
    "*Arguments:*\n",
    "- **sentence** `(string)` $\\rightarrow$ sentence required to compute the ratio.\n",
    "\n",
    "*Return:*\n",
    "- **ratio** `(float)` $\\rightarrow$ a ratio that describes the number of vowels to consonants: vowels/consonants.\n",
    "\n",
    "> 💡**HINT**💡\n",
    ">\n",
    ">Remember to cater for the white spaces that appear in your sentence."
   ]
  },
  {
   "cell_type": "code",
   "execution_count": 20,
   "metadata": {},
   "outputs": [],
   "source": [
    "### START FUNCTION\n",
    "def vowel_consonant_ratio(sentence):\n",
    "    # Your code here.\n",
    "    vowels=0\n",
    "    consonants=0\n",
    "    specials=0\n",
    "    for i in sentence:\n",
    "        if(i == 'a'or i == 'e'or i == 'i'or i == 'o'or i == 'u' or\n",
    "           i == 'A'or i == 'E'or i == 'I'or i == 'O'or i == 'U' ):\n",
    "               vowels=vowels+1;\n",
    "        elif(i==\"'\" or i=='\"' or i=='!'or i==','or i=='.'or i=='?'or i==':'or i==';' or i==' '):\n",
    "            specials=specials+1;\n",
    "        else:\n",
    "            consonants=consonants+1;    \n",
    "    ratio=vowels/consonants\n",
    "    ratio = round(ratio, 2)\n",
    "    return ratio\n",
    "### END FUNCTION"
   ]
  },
  {
   "cell_type": "code",
   "execution_count": 21,
   "metadata": {},
   "outputs": [
    {
     "data": {
      "text/plain": [
       "0.83"
      ]
     },
     "execution_count": 21,
     "metadata": {},
     "output_type": "execute_result"
    }
   ],
   "source": [
    "vowel_consonant_ratio(\"Thomas! Where have you been?\")"
   ]
  },
  {
   "cell_type": "markdown",
   "metadata": {},
   "source": [
    "***Expected outputs***\n",
    "\n",
    "```python\n",
    "vowel_consonant_ratio(\"This is a random sentence!\")==0.62\n",
    "vowel_consonant_ratio(\"Thomas! Where have you been?\")==0.83\n",
    "```"
   ]
  },
  {
   "cell_type": "markdown",
   "metadata": {},
   "source": [
    "### Question 4\n",
    "\n",
    "Write a function that will redact every third word in a sentence. Make use of the hashtag (`#`) symbol to redact the characters that make up the word, i.e. if the word is five characters long then a string of five hashtags should replace that word. However, this should not redact any of the following punctuation marks:\n",
    "- apostrophes (')\n",
    "- quotations (\")\n",
    "- full stops (.)\n",
    "- commas (,)\n",
    "- exclamations (!)  \n",
    "- question marks (?)\n",
    "- colons (:)\n",
    "- semicolons (;)\n",
    "\n",
    "*Arguments:*\n",
    "- **sentence** `(string)` $\\rightarrow$ sentence that needs to be redacted.\n",
    "\n",
    "*Return:*\n",
    "- **redacted sentence** `(string)`$\\rightarrow$ every third word should be redacted."
   ]
  },
  {
   "cell_type": "code",
   "execution_count": 22,
   "metadata": {},
   "outputs": [],
   "source": [
    "### START FUNCTION\n",
    "def redact_words(sentence):\n",
    "    # Your code here.\n",
    "    sentence=sentence.split()    \n",
    "    length=len(sentence)\n",
    "    letters=['a', 'b', 'c', 'd', 'e', 'f', 'g', 'h', 'i', 'j', 'k', 'l', 'm', 'n', 'o', 'p', 'q', 'r', 's', 't', 'u', 'v', 'w', 'x', 'y', 'z']\n",
    "    for i in range (2, length, 3):\n",
    "        for letter in sentence[i]:\n",
    "            if letter.lower() in letters:                \n",
    "                sentence[i]=sentence[i].replace(letter,\"#\")  \n",
    "    redacted_sentence=\" \".join(str(x) for x in sentence)\n",
    "    return redacted_sentence\n",
    "### END FUNCTION   "
   ]
  },
  {
   "cell_type": "code",
   "execution_count": 23,
   "metadata": {},
   "outputs": [
    {
     "data": {
      "text/plain": [
       "'My dear ########, do you ########## the nature ## the given ########?'"
      ]
     },
     "execution_count": 23,
     "metadata": {},
     "output_type": "execute_result"
    }
   ],
   "source": [
    "sentence = \"My dear Explorer, do you understand the nature of the given question?\"\n",
    "redact_words(sentence)"
   ]
  },
  {
   "cell_type": "markdown",
   "metadata": {},
   "source": [
    "***Expected outputs***\n",
    "\n",
    "```python\n",
    "sentence = \"My dear Explorer, do you understand the nature of the given question?\"\n",
    "redact_words(sentence) ==  'My dear ########, do you ########## the nature ## the given ########?'\n",
    "\n",
    "sentence = \"Explorer, this is why you shouldn't come to a test unprepared.\"\n",
    "redact_words(sentence)==\"Explorer, this ## why you #######'# come to # test unprepared.\"\n",
    "\n",
    "```"
   ]
  },
  {
   "cell_type": "markdown",
   "metadata": {},
   "source": [
    "### Question 5\n",
    "\n",
    "Given an alphanumeric list, separate it into three different lists stored in a dictionary:\n",
    "\n",
    "- The first list should only contain lowercase letters.\n",
    "- The second list should only contain uppercase letters.\n",
    "- The third list should only contain numbers.\n",
    "\n",
    "Each list stored in the dictionary should be stored in ascending order. Use the following naming convention when creating your lists:\n",
    "- numbers\n",
    "- uppercase\n",
    "- lowercase\n",
    "\n",
    "Make sure that you adhere to the above instruction, as the name of your lists will be used to mark your function.\n",
    "\n",
    "*Arguments:*\n",
    "- **character_list:** `(list)` $\\rightarrow$ list of alphanumeric characters.\n",
    "\n",
    "*Return:*\n",
    "- **dictionary** `(dict)` $\\rightarrow$  dictionary containing all three lists."
   ]
  },
  {
   "cell_type": "code",
   "execution_count": 69,
   "metadata": {},
   "outputs": [],
   "source": [
    "### START FUNCTION\n",
    "def create_dictionary(character_list):\n",
    "    # Your code here.\n",
    "    letters=['a', 'b', 'c', 'd', 'e', 'f', 'g', 'h', 'i', 'j', 'k', 'l', 'm', 'n', 'o', 'p', 'q', 'r', 's', 't', 'u', 'v', 'w', 'x', 'y', 'z']\n",
    "    lettersu=['A', 'B', 'C', 'D', 'E', 'F', 'G', 'H', 'I', 'J', 'K', 'L', 'M', 'N', 'O', 'P', 'Q', 'R', 'S', 'T', 'U', 'V', 'W', 'X', 'Y', 'Z']\n",
    "    num_list=[x for x in character_list if x not in letters and x not in lettersu]\n",
    "    num_list=sorted(num_list)\n",
    "    uppercase_list=[x for x in character_list if x in lettersu]\n",
    "    uppercase_list=sorted(uppercase_list)\n",
    "    lowercase_list=[x for x in character_list if x in letters]\n",
    "    lowercase_list=sorted(lowercase_list)\n",
    "    keys=['numbers', 'uppercase', 'lowercase']\n",
    "    values=[num_list, uppercase_list, lowercase_list]\n",
    "    dictionary=dict(zip(keys, values))\n",
    "    return dictionary\n",
    "### END FUNCTION"
   ]
  },
  {
   "cell_type": "code",
   "execution_count": 70,
   "metadata": {},
   "outputs": [
    {
     "data": {
      "text/plain": [
       "{'numbers': [2, 3.2, 5, 6],\n",
       " 'uppercase': ['A', 'K'],\n",
       " 'lowercase': ['j', 'o', 'x']}"
      ]
     },
     "execution_count": 70,
     "metadata": {},
     "output_type": "execute_result"
    }
   ],
   "source": [
    "lst = [2,'j','K','o',6,'x',5,'A',3.2]\n",
    "create_dictionary(lst)"
   ]
  },
  {
   "cell_type": "markdown",
   "metadata": {},
   "source": [
    "***Expected outputs***\n",
    "\n",
    "```python\n",
    "lst = [2,'j','K','o',6,'x',5,'A',3.2]\n",
    "create_dictionary(lst)\n",
    "\n",
    "{'numbers': [2, 3.2, 5, 6],\n",
    " 'uppercase': ['A', 'K'],\n",
    " 'lowercase': ['j', 'o', 'x']}\n",
    " ```\n",
    "\n"
   ]
  },
  {
   "cell_type": "markdown",
   "metadata": {},
   "source": [
    "## Section 3: DataFrames\n",
    "You will need the below DataFrames to answer the following questions.\n",
    "\n",
    "_**DO NOT ALTER THESE DATAFRAMES, AS DOING SO CAN LEAD TO A NEGATIVE MARK.**_\n",
    "\n"
   ]
  },
  {
   "cell_type": "code",
   "execution_count": 89,
   "metadata": {},
   "outputs": [
    {
     "data": {
      "text/html": [
       "<div>\n",
       "<style scoped>\n",
       "    .dataframe tbody tr th:only-of-type {\n",
       "        vertical-align: middle;\n",
       "    }\n",
       "\n",
       "    .dataframe tbody tr th {\n",
       "        vertical-align: top;\n",
       "    }\n",
       "\n",
       "    .dataframe thead th {\n",
       "        text-align: right;\n",
       "    }\n",
       "</style>\n",
       "<table border=\"1\" class=\"dataframe\">\n",
       "  <thead>\n",
       "    <tr style=\"text-align: right;\">\n",
       "      <th></th>\n",
       "      <th>Country Name</th>\n",
       "    </tr>\n",
       "    <tr>\n",
       "      <th>Country Code</th>\n",
       "      <th></th>\n",
       "    </tr>\n",
       "  </thead>\n",
       "  <tbody>\n",
       "    <tr>\n",
       "      <th>ABW</th>\n",
       "      <td>Aruba</td>\n",
       "    </tr>\n",
       "    <tr>\n",
       "      <th>AFG</th>\n",
       "      <td>Afghanistan</td>\n",
       "    </tr>\n",
       "    <tr>\n",
       "      <th>AGO</th>\n",
       "      <td>Angola</td>\n",
       "    </tr>\n",
       "    <tr>\n",
       "      <th>ALB</th>\n",
       "      <td>Albania</td>\n",
       "    </tr>\n",
       "    <tr>\n",
       "      <th>AND</th>\n",
       "      <td>Andorra</td>\n",
       "    </tr>\n",
       "  </tbody>\n",
       "</table>\n",
       "</div>"
      ],
      "text/plain": [
       "             Country Name\n",
       "Country Code             \n",
       "ABW                 Aruba\n",
       "AFG           Afghanistan\n",
       "AGO                Angola\n",
       "ALB               Albania\n",
       "AND               Andorra"
      ]
     },
     "execution_count": 89,
     "metadata": {},
     "output_type": "execute_result"
    }
   ],
   "source": [
    "country_map_df = pd.read_csv('https://raw.githubusercontent.com/Explore-AI/Public-Data/master/AnalyseProject/country_code_map.csv', index_col='Country Code')\n",
    "population_df = pd.read_csv('https://raw.githubusercontent.com/Explore-AI/Public-Data/master/AnalyseProject/world_population.csv', index_col='Country Code')\n",
    "meta_df = pd.read_csv('https://raw.githubusercontent.com/Explore-AI/Public-Data/master/AnalyseProject/metadata.csv', index_col='Country Code')\n",
    "country_map_df.head()"
   ]
  },
  {
   "cell_type": "markdown",
   "metadata": {},
   "source": [
    "_**DataFrame specifications:**_\n",
    "\n",
    "The DataFrames provide information about the population of the world for various years. Some things to note:\n",
    "* All DataFrames have a `Country Code` as an index, which is a three-letter code referring to a country.\n",
    "* The `country_map_df` data maps the `Country Code` to a `Country Name`.\n",
    "* The `population_df` data contains information on the population for a given country between the years 1960 and 2017.\n",
    "* The `meta_df` data contains meta-information about each country, including its geographical region, its income group, and a comment on the country as a whole."
   ]
  },
  {
   "cell_type": "markdown",
   "metadata": {},
   "source": [
    "### Question 6\n",
    "\n",
    "Write a function that will return a list of countries for a specified region and income group. If the specified region and income group do not return a country, return `None` as the value.\n",
    "\n",
    "\n",
    "**Function specifications**\n",
    "\n",
    "*Argument(s):*\n",
    "- **region** `(string)` $\\rightarrow$ the region you want to query.\n",
    "- **income_group** `(string)` $\\rightarrow$ the income group you want to query.\n",
    "\n",
    "\n",
    "*Return:*\n",
    "- **countries** `(list)` $\\rightarrow$ return a list of countries that match the search criteria or **`None`** if no countries are found."
   ]
  },
  {
   "cell_type": "code",
   "execution_count": 99,
   "metadata": {},
   "outputs": [],
   "source": [
    "### START FUNCTION\n",
    "def find_countries_by_region_and_income(region,income_group):\n",
    "    # Your code here.\n",
    "    custom_df=meta_df[(meta_df['Region']== region) & (meta_df[\"Income Group\"]== income_group)]\n",
    "    countries_abb = custom_df.index.tolist()\n",
    "    if len(countries_abb)== 0:\n",
    "        countries = None\n",
    "    else:\n",
    "        countries_df=country_map_df[country_map_df.index.isin(countries_abb)]\n",
    "        countries=countries_df['Country Name'].tolist()\n",
    "    return countries\n",
    "### END FUNCTION"
   ]
  },
  {
   "cell_type": "code",
   "execution_count": 105,
   "metadata": {},
   "outputs": [
    {
     "data": {
      "text/plain": [
       "['Botswana',\n",
       " 'Gabon',\n",
       " 'Equatorial Guinea',\n",
       " 'Mauritius',\n",
       " 'Namibia',\n",
       " 'South Africa']"
      ]
     },
     "execution_count": 105,
     "metadata": {},
     "output_type": "execute_result"
    }
   ],
   "source": [
    "countries=find_countries_by_region_and_income('Sub-Saharan Africa','Upper middle income')\n",
    "countries"
   ]
  },
  {
   "cell_type": "markdown",
   "metadata": {},
   "source": [
    "***Expected output***\n",
    "\n",
    "```python\n",
    "find_countries_by_region_and_income('South Asia','High income')==None\n",
    "find_countries_by_region_and_income('Europe & Central Asia','Low income')==['Tajikistan']\n",
    "find_countries_by_region_and_income('Sub-Saharan Africa','Upper middle income')==['Botswana','Gabon','Equatorial Guinea','Mauritius','Namibia','South Africa']\n",
    "```"
   ]
  },
  {
   "cell_type": "code",
   "execution_count": null,
   "metadata": {},
   "outputs": [],
   "source": []
  }
 ],
 "metadata": {
  "interpreter": {
   "hash": "6b5ebbc2c6bde2831bc6c0426f75aca8137ccfc69d329557556ed73faee126ae"
  },
  "kernelspec": {
   "display_name": "Python 3 (ipykernel)",
   "language": "python",
   "name": "python3"
  },
  "language_info": {
   "codemirror_mode": {
    "name": "ipython",
    "version": 3
   },
   "file_extension": ".py",
   "mimetype": "text/x-python",
   "name": "python",
   "nbconvert_exporter": "python",
   "pygments_lexer": "ipython3",
   "version": "3.9.7"
  }
 },
 "nbformat": 4,
 "nbformat_minor": 4
}
