{
 "cells": [
  {
   "cell_type": "code",
   "execution_count": null,
   "metadata": {
    "scrolled": true
   },
   "outputs": [],
   "source": [
    "import requests, json\n",
    "              \n",
    "year = input(\"Year: \")\n",
    "make = input(\"Make: \")\n",
    "model = input(\"Model: \")\n",
    "\n",
    "def car_search(year, make, model):\n",
    "    url = 'http://www.nhtsa.gov/webapi/api/SafetyRatings/'\n",
    "    final_url = url + 'modelyear/' + year + '/make/' + make + '/model/' + model + '?format=json'\n",
    "    #print(final_url)\n",
    "    req = requests.get(final_url)\n",
    "\n",
    "    apiDict = json.loads(req.text)\n",
    "    \n",
    "    for x, y in apiDict.items():\n",
    "        if x == 'Results':\n",
    "            result_dicts = y #list of dicts\n",
    "            for lists in y:\n",
    "                dicts = lists\n",
    "                for key, value in dicts.items():\n",
    "                    print(key + \":\", value)\n",
    "\n",
    "car_search(year, make, model)\n",
    "\n",
    "vehicleId = input(\"Please choose the correct Vehicle Id and enter it: \")\n",
    "\n",
    "def main():\n",
    "    url = 'http://www.nhtsa.gov/webapi/api/SafetyRatings/'\n",
    "    final_url = url + 'VehicleId/' + vehicleId + '?format=json'\n",
    "    print(final_url)\n",
    "    req = requests.get(final_url)\n",
    "\n",
    "    apiDict = json.loads(req.text)\n",
    "    \n",
    "    for x, y in apiDict.items():\n",
    "        if x == 'Results':\n",
    "            result_dicts = y #list of dicts\n",
    "            for lists in y:\n",
    "                dicts = lists\n",
    "                for key, value in dicts.items():\n",
    "                    print(key + \":\", value)\n",
    "\n",
    "main()\n"
   ]
  },
  {
   "cell_type": "code",
   "execution_count": null,
   "metadata": {},
   "outputs": [],
   "source": [
    "import requests, json\n",
    "req = requests.get('http://www.nhtsa.gov/webapi//api/SafetyRatings/modelyear/2012?format=json')\n",
    "\n",
    "if(int(req.status_code) == 200):\n",
    "#     print(req.headers.keys())\n",
    "    apiDict = json.loads(req.text)\n",
    "    formatted_api = json.dumps(apiDict, indent=2)\n",
    "    print(formatted_api)"
   ]
  },
  {
   "cell_type": "code",
   "execution_count": null,
   "metadata": {},
   "outputs": [],
   "source": [
    "import requests, json\n",
    "import pandas as pd\n",
    "              \n",
    "year = input(\"Year: \")\n",
    "make = input(\"Make: \")\n",
    "model = input(\"Model: \")\n",
    "\n",
    "def car_search(year, make, model):\n",
    "    url = 'http://www.nhtsa.gov/webapi/api/SafetyRatings/'\n",
    "    final_url = url + 'modelyear/' + year + '/make/' + make + '/model/' + model + '?format=json'\n",
    "    #print(final_url)\n",
    "    req = requests.get(final_url)\n",
    "\n",
    "    apiDict = json.loads(req.text)\n",
    "    \n",
    "    for x, y in apiDict.items():\n",
    "        if x == 'Results':\n",
    "            result_dicts = y #list of dicts\n",
    "            for lists in y:\n",
    "                dicts = lists\n",
    "                for key, value in dicts.items():\n",
    "                    print(key + \":\", value)\n",
    "\n",
    "car_search(year, make, model)\n",
    "    \n",
    "vehicleId = input(\"Please choose the correct Vehicle Id and enter it: \")\n",
    "\n",
    "\n",
    "url = 'http://www.nhtsa.gov/webapi/api/SafetyRatings/'\n",
    "ratings_url = url + 'VehicleId/' + vehicleId + '?format=json'\n",
    "print(ratings_url)\n",
    "final_req = requests.get(ratings_url)"
   ]
  },
  {
   "cell_type": "code",
   "execution_count": null,
   "metadata": {},
   "outputs": [],
   "source": [
    "apiDict = json.loads(final_req.text)\n",
    "print(apiDict)\n",
    "readin = pd.read_json(ratings_url)\n",
    "print(readin)"
   ]
  },
  {
   "cell_type": "code",
   "execution_count": null,
   "metadata": {},
   "outputs": [],
   "source": []
  }
 ],
 "metadata": {
  "kernelspec": {
   "display_name": "Python 3",
   "language": "python",
   "name": "python3"
  },
  "language_info": {
   "codemirror_mode": {
    "name": "ipython",
    "version": 3
   },
   "file_extension": ".py",
   "mimetype": "text/x-python",
   "name": "python",
   "nbconvert_exporter": "python",
   "pygments_lexer": "ipython3",
   "version": "3.7.4"
  }
 },
 "nbformat": 4,
 "nbformat_minor": 2
}
