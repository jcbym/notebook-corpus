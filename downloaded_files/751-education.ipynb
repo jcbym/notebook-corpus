{
 "cells": [
  {
   "cell_type": "code",
   "execution_count": 2,
   "metadata": {},
   "outputs": [],
   "source": [
    "import nltk"
   ]
  },
  {
   "cell_type": "code",
   "execution_count": 21,
   "metadata": {},
   "outputs": [
    {
     "data": {
      "text/plain": [
       "'3.2.5'"
      ]
     },
     "execution_count": 21,
     "metadata": {},
     "output_type": "execute_result"
    }
   ],
   "source": [
    "nltk.__version__"
   ]
  },
  {
   "cell_type": "code",
   "execution_count": 4,
   "metadata": {},
   "outputs": [
    {
     "name": "stdout",
     "output_type": "stream",
     "text": [
      "showing info https://raw.githubusercontent.com/nltk/nltk_data/gh-pages/index.xml\n"
     ]
    },
    {
     "data": {
      "text/plain": [
       "True"
      ]
     },
     "execution_count": 4,
     "metadata": {},
     "output_type": "execute_result"
    }
   ],
   "source": [
    "nltk.download()"
   ]
  },
  {
   "cell_type": "code",
   "execution_count": 5,
   "metadata": {},
   "outputs": [],
   "source": [
    "from nltk.corpus import stopwords\n",
    "from nltk.tokenize import word_tokenize, sent_tokenize"
   ]
  },
  {
   "cell_type": "code",
   "execution_count": 9,
   "metadata": {},
   "outputs": [
    {
     "data": {
      "text/plain": [
       "['Next',\n",
       " 'evening',\n",
       " 'Halloween',\n",
       " '.',\n",
       " 'The',\n",
       " 'girls',\n",
       " 'school',\n",
       " 'disco',\n",
       " '.',\n",
       " '“',\n",
       " 'Are',\n",
       " 'better',\n",
       " '?',\n",
       " '”',\n",
       " 'asked',\n",
       " 'Tara',\n",
       " '.',\n",
       " '“',\n",
       " 'I',\n",
       " '’',\n",
       " 'fine',\n",
       " ',',\n",
       " '”',\n",
       " 'said',\n",
       " 'Amy',\n",
       " '.',\n",
       " '“',\n",
       " 'I',\n",
       " 'think',\n",
       " 'smell',\n",
       " 'paint',\n",
       " 'started',\n",
       " 'attack.',\n",
       " '”',\n",
       " 'Tara',\n",
       " 'looked',\n",
       " 'around',\n",
       " '.',\n",
       " '“',\n",
       " 'So',\n",
       " ',',\n",
       " 'zombies',\n",
       " '?',\n",
       " '”',\n",
       " '“',\n",
       " 'I',\n",
       " '’',\n",
       " 'know',\n",
       " ',',\n",
       " 'I',\n",
       " '’',\n",
       " 'want',\n",
       " 'see',\n",
       " 'Kamal',\n",
       " ',',\n",
       " '”',\n",
       " 'said',\n",
       " 'Amy',\n",
       " '.',\n",
       " '“',\n",
       " 'Come',\n",
       " ',',\n",
       " 'let',\n",
       " '’',\n",
       " 'dance',\n",
       " '!',\n",
       " '”']"
      ]
     },
     "execution_count": 9,
     "metadata": {},
     "output_type": "execute_result"
    }
   ],
   "source": [
    "sample_text = \"Next evening was Halloween. The girls were at the school disco. “Are you better now?” asked Tara. “I’m fine,” said Amy. “I think it was the smell of paint that started the attack.” Tara looked around. “So, where are the zombies?” “I don’t know, I don’t want to see Kamal again,” said Amy. “Come on, let’s dance!”\"\n",
    "stop_words = stopwords.words('english')\n",
    "[w for w in word_tokenize(sample_text) if w not in stop_words]"
   ]
  },
  {
   "cell_type": "code",
   "execution_count": 10,
   "metadata": {},
   "outputs": [],
   "source": [
    "from nltk.stem import PorterStemmer"
   ]
  },
  {
   "cell_type": "code",
   "execution_count": 14,
   "metadata": {},
   "outputs": [
    {
     "data": {
      "text/plain": [
       "['next',\n",
       " 'even',\n",
       " 'halloween',\n",
       " '.',\n",
       " 'the',\n",
       " 'girl',\n",
       " 'school',\n",
       " 'disco',\n",
       " '.',\n",
       " '“',\n",
       " 'are',\n",
       " 'better',\n",
       " '?',\n",
       " '”',\n",
       " 'ask',\n",
       " 'tara',\n",
       " '.',\n",
       " '“',\n",
       " 'I',\n",
       " '’',\n",
       " 'fine',\n",
       " ',',\n",
       " '”',\n",
       " 'said',\n",
       " 'ami',\n",
       " '.',\n",
       " '“',\n",
       " 'I',\n",
       " 'think',\n",
       " 'smell',\n",
       " 'paint',\n",
       " 'start',\n",
       " 'attack.',\n",
       " '”',\n",
       " 'tara',\n",
       " 'look',\n",
       " 'around',\n",
       " '.',\n",
       " '“',\n",
       " 'So',\n",
       " ',',\n",
       " 'zombi',\n",
       " '?',\n",
       " '”',\n",
       " '“',\n",
       " 'I',\n",
       " '’',\n",
       " 'know',\n",
       " ',',\n",
       " 'I',\n",
       " '’',\n",
       " 'want',\n",
       " 'see',\n",
       " 'kamal',\n",
       " ',',\n",
       " '”',\n",
       " 'said',\n",
       " 'ami',\n",
       " '.',\n",
       " '“',\n",
       " 'come',\n",
       " ',',\n",
       " 'let',\n",
       " '’',\n",
       " 'danc',\n",
       " '!',\n",
       " '”']"
      ]
     },
     "execution_count": 14,
     "metadata": {},
     "output_type": "execute_result"
    }
   ],
   "source": [
    "ps = PorterStemmer()\n",
    "example_words = [\"ride\", \"riding\", \"rided\", \"rid\"]\n",
    "\n",
    "[ps.stem(w) for w in word_tokenize(sample_text) if w not in stop_words]"
   ]
  },
  {
   "cell_type": "code",
   "execution_count": 15,
   "metadata": {},
   "outputs": [
    {
     "name": "stdout",
     "output_type": "stream",
     "text": [
      "*** Introductory Examples for the NLTK Book ***\n",
      "Loading text1, ..., text9 and sent1, ..., sent9\n",
      "Type the name of the text or sentence to view it.\n",
      "Type: 'texts()' or 'sents()' to list the materials.\n",
      "text1: Moby Dick by Herman Melville 1851\n",
      "text2: Sense and Sensibility by Jane Austen 1811\n",
      "text3: The Book of Genesis\n",
      "text4: Inaugural Address Corpus\n",
      "text5: Chat Corpus\n",
      "text6: Monty Python and the Holy Grail\n",
      "text7: Wall Street Journal\n",
      "text8: Personals Corpus\n",
      "text9: The Man Who Was Thursday by G . K . Chesterton 1908\n"
     ]
    }
   ],
   "source": [
    "from nltk.book import *"
   ]
  },
  {
   "cell_type": "code",
   "execution_count": 43,
   "metadata": {},
   "outputs": [
    {
     "data": {
      "text/plain": [
       "['The',\n",
       " 'family',\n",
       " 'of',\n",
       " 'Dashwood',\n",
       " 'had',\n",
       " 'long',\n",
       " 'been',\n",
       " 'settled',\n",
       " 'in',\n",
       " 'Sussex',\n",
       " '.']"
      ]
     },
     "execution_count": 43,
     "metadata": {},
     "output_type": "execute_result"
    }
   ],
   "source": [
    "sent2"
   ]
  }
 ],
 "metadata": {
  "kernelspec": {
   "display_name": "Python 3",
   "language": "python",
   "name": "python3"
  },
  "language_info": {
   "codemirror_mode": {
    "name": "ipython",
    "version": 3
   },
   "file_extension": ".py",
   "mimetype": "text/x-python",
   "name": "python",
   "nbconvert_exporter": "python",
   "pygments_lexer": "ipython3",
   "version": "3.6.4"
  }
 },
 "nbformat": 4,
 "nbformat_minor": 2
}
