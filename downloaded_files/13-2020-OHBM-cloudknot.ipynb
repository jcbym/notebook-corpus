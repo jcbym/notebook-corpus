{
 "cells": [
  {
   "cell_type": "code",
   "execution_count": 1,
   "metadata": {},
   "outputs": [],
   "source": [
    "import cloudknot as ck"
   ]
  },
  {
   "cell_type": "code",
   "execution_count": 2,
   "metadata": {},
   "outputs": [],
   "source": [
    "def fs_segment(subject):\n",
    "    import os\n",
    "    import os.path as op\n",
    "    import boto3\n",
    "    import numpy as np\n",
    "    import nibabel as nib\n",
    "    import nipype \n",
    "    from subprocess import call\n",
    "    resource = boto3.resource('s3')\n",
    "    bucket_name = 'arokem.mri2mri'\n",
    "    b = resource.Bucket(bucket_name)\n",
    "    ll = list(b.objects.all())\n",
    "    client = boto3.client('s3')\n",
    "    \n",
    "    print(\"Downloading T1 and DTI data\")\n",
    "    for l in ll:\n",
    "        k = l.key\n",
    "        if k.startswith(\"IXI-T1\" ) and k.split('/')[-1].startswith(subject):\n",
    "            print(\"Downloading T1\")\n",
    "            b.download_file(k, \"/home/cloudknot-user/T1.nii.gz\")\n",
    "\n",
    "    FREESURFER_HOME = \"/opt/freesurfer-6.0.0/\"\n",
    "    SUBJECTS_DIR = \"/home/cloudknot-user/subjects/\"\n",
    "    os.mkdir(SUBJECTS_DIR)\n",
    "\n",
    "    os.environ['SUBJECTS_DIR'] = SUBJECTS_DIR\n",
    "    os.environ['FREESURFER_HOME'] = FREESURFER_HOME\n",
    "    os.environ['MNI_DIR'] = FREESURFER_HOME + \"mni\"\n",
    "    os.environ[\"FSFAST_HOME\"] = FREESURFER_HOME + \"fsfast\"\n",
    "    os.environ[\"OLDPWD\"]= FREESURFER_HOME\n",
    "    os.environ[\"FSF_OUTPUT_FORMAT\"] = \"nii.gz\"\n",
    "    os.environ[\"LOCAL_DIR\"] = FREESURFER_HOME + \"local\"\n",
    "    os.environ[\"FMRI_ANALYSIS_DIR\"] = FREESURFER_HOME + \"fsfast\"\n",
    "    os.environ[\"PWD\"] = \"/root\"\n",
    "    os.environ[\"FUNCTIONALS_DIR\"] = FREESURFER_HOME + \"sessions\"\n",
    "    os.environ[\"HOME\"]=\"/root\"\n",
    "    os.environ[\"MNI_PERL5LIB\"] = FREESURFER_HOME + \"mni/share/perl5\"\n",
    "    os.environ[\"MINC_BIN_DIR\"] = FREESURFER_HOME + \"mni/bin\"\n",
    "    os.environ[\"PERL5LIB\"]= FREESURFER_HOME + \"mni/share/perl5\"\n",
    "    os.environ[\"FS_OVERRIDE\"] = \"0\"\n",
    "    os.environ[\"PATH\"]= \"/opt/freesurfer-6.0.0/bin:/opt/freesurfer-6.0.0/fsfast/bin:/opt/freesurfer-6.0.0/tktools:/opt/freesurfer-6.0.0/mni/bin:/opt/freesurfer-6.0.0/bin:/opt/freesurfer-6.0.0/fsfast/bin:/opt/freesurfer-6.0.0/tktools:/opt/freesurfer-6.0.0/mni/bin:/opt/freesurfer-6.0.0/bin:/opt/freesurfer-6.0.0/fsfast/bin:/opt/freesurfer-6.0.0/tktools:/opt/freesurfer-6.0.0/mni/bin:/opt/freesurfer-6.0.0/bin:/opt/freesurfer-6.0.0/fsfast/bin:/opt/freesurfer-6.0.0/tktools:/opt/freesurfer-6.0.0/mni/bin:/opt/freesurfer-6.0.0/bin:/opt/freesurfer-6.0.0/fsfast/bin:/opt/freesurfer-6.0.0/tktools:/opt/freesurfer-6.0.0/mni/bin:/opt/freesurfer-6.0.0/bin:/opt/freesurfer-6.0.0/fsfast/bin:/opt/freesurfer-6.0.0/tktools:/opt/freesurfer-6.0.0/mni/bin:/opt/freesurfer-6.0.0/bin:/opt/freesurfer-6.0.0/fsfast/bin:/opt/freesurfer-6.0.0/tktools:/opt/freesurfer-6.0.0/mni/bin:/opt/freesurfer-6.0.0/bin:/opt/freesurfer-6.0.0/fsfast/bin:/opt/freesurfer-6.0.0/tktools:/opt/freesurfer-6.0.0/mni/bin:/opt/freesurfer-6.0.0/bin:/opt/freesurfer-6.0.0/fsfast/bin:/opt/freesurfer-6.0.0/tktools:/opt/freesurfer-6.0.0/mni/bin:/opt/freesurfer-6.0.0/bin:/opt/freesurfer-6.0.0/fsfast/bin:/opt/freesurfer-6.0.0/tktools:/opt/freesurfer-6.0.0/mni/bin:/opt/freesurfer-6.0.0/bin:/opt/freesurfer-6.0.0/fsfast/bin:/opt/freesurfer-6.0.0/tktools:/opt/freesurfer-6.0.0/mni/bin:/opt/freesurfer-6.0.0/bin:/opt/freesurfer-6.0.0/fsfast/bin:/opt/freesurfer-6.0.0/tktools:/opt/freesurfer-6.0.0/mni/bin:/opt/freesurfer-6.0.0/bin:/opt/freesurfer-6.0.0/fsfast/bin:/opt/freesurfer-6.0.0/tktools:/opt/freesurfer-6.0.0/mni/bin:/opt/freesurfer-6.0.0/bin:/opt/freesurfer-6.0.0/fsfast/bin:/opt/freesurfer-6.0.0/tktools:/opt/freesurfer-6.0.0/mni/bin:/opt/freesurfer-6.0.0/bin:/usr/local/sbin:/usr/local/bin:/usr/sbin:/usr/bin:/sbin:/bin\"\n",
    "    os.environ[\"MINC_LIB_DIR\"]= FREESURFER_HOME + \"mni/lib\"\n",
    "    os.environ[\"MNI_DATAPATH\"]= FREESURFER_HOME + \"mni/data\"\n",
    "               \n",
    "\n",
    "    from nipype.interfaces.freesurfer import ReconAll\n",
    "    reconall = ReconAll()\n",
    "    reconall.inputs.subject_id = subject\n",
    "    reconall.inputs.directive = 'all'\n",
    "    reconall.inputs.subjects_dir = SUBJECTS_DIR\n",
    "    reconall.inputs.T1_files = \"/home/cloudknot-user/T1.nii.gz\" \n",
    "    reconall.run()\n",
    "            \n",
    "    def upload_directory(path, bucketname, folder):\n",
    "        for root, dirs, files in os.walk(path):\n",
    "            for file in files:\n",
    "                print(op.join(folder, os.path.split(root)[-1], file))\n",
    "                client.upload_file(op.join(root, file), \n",
    "                                   bucketname, \n",
    "                                   os.path.join(folder, os.path.split(root)[-1], file))\n",
    "\n",
    "    upload_directory(SUBJECTS_DIR + \"%s/\"%subject, \n",
    "                     'arokem.mri2mri', \n",
    "                     'IXI-Freesurfer-segmentations/%s/'%subject)\n",
    "    "
   ]
  },
  {
   "cell_type": "code",
   "execution_count": 3,
   "metadata": {},
   "outputs": [],
   "source": [
    "image = ck.DockerImage(func=fs_segment,\n",
    "                       base_image=\"arokem/fs:2\")"
   ]
  },
  {
   "cell_type": "code",
   "execution_count": 4,
   "metadata": {},
   "outputs": [],
   "source": [
    "from glob import glob"
   ]
  },
  {
   "cell_type": "code",
   "execution_count": 5,
   "metadata": {},
   "outputs": [],
   "source": [
    "ids = list(set([foo.split('/')[-1].split('-')[0] for \n",
    "                foo in glob('/Users/arokem/data/mri2mri/t1_pdd_cosine_L1_unet128_T3_3d/IXI*')]))"
   ]
  },
  {
   "cell_type": "code",
   "execution_count": 7,
   "metadata": {},
   "outputs": [],
   "source": [
    "ids = [\"IXI398\",\n",
    "    \"IXI286\",\n",
    "    \"IXI056\",\n",
    "    \"IXI490\",\n",
    "    \"IXI094\",\n",
    "    \"IXI498\",\n",
    "    \"IXI368\",\n",
    "    \"IXI128\",\n",
    "    \"IXI397\",\n",
    "    \"IXI216\",\n",
    "    \"IXI285\",\n",
    "    \"IXI265\",\n",
    "    \"IXI488\",\n",
    "    \"IXI136\",\n",
    "    \"IXI567\",\n",
    "    \"IXI381\",\n",
    "    \"IXI161\",\n",
    "    \"IXI160\",\n",
    "    \"IXI308\",\n",
    "    \"IXI537\",\n",
    "    \"IXI623\",\n",
    "    \"IXI127\",\n",
    "    \"IXI558\",\n",
    "    \"IXI297\",\n",
    "    \"IXI455\",\n",
    "    \"IXI598\",\n",
    "    \"IXI236\",\n",
    "    \"IXI484\",\n",
    "    \"IXI335\",\n",
    "    \"IXI389\",\n",
    "    \"IXI211\",\n",
    "    \"IXI377\",\n",
    "    \"IXI169\",\n",
    "    \"IXI480\",\n",
    "    \"IXI048\",\n",
    "    \"IXI440\"]"
   ]
  },
  {
   "cell_type": "code",
   "execution_count": 8,
   "metadata": {},
   "outputs": [
    {
     "data": {
      "text/plain": [
       "36"
      ]
     },
     "execution_count": 8,
     "metadata": {},
     "output_type": "execute_result"
    }
   ],
   "source": [
    "len(ids)"
   ]
  },
  {
   "cell_type": "code",
   "execution_count": 9,
   "metadata": {},
   "outputs": [],
   "source": [
    "knots = []\n",
    "results = []\n",
    "for i in range(len(ids) // 10 + 1):\n",
    "    knots.append(ck.Knot(name='fs_seg_2_32_%s'%i,\n",
    "               docker_image=image,\n",
    "               #memory=10000,\n",
    "               bid_percentage=100,\n",
    "               resource_type=\"SPOT\",\n",
    "               #image_id=\"ami-0b251dc6f872712a4\",\n",
    "               pars_policies=('AmazonS3FullAccess',)))\n",
    "    results.append(knots[-1].map(ids[i*10:(i+1)*10]))"
   ]
  },
  {
   "cell_type": "code",
   "execution_count": null,
   "metadata": {},
   "outputs": [],
   "source": []
  }
 ],
 "metadata": {
  "kernelspec": {
   "display_name": "Python 3",
   "language": "python",
   "name": "python3"
  },
  "language_info": {
   "codemirror_mode": {
    "name": "ipython",
    "version": 3
   },
   "file_extension": ".py",
   "mimetype": "text/x-python",
   "name": "python",
   "nbconvert_exporter": "python",
   "pygments_lexer": "ipython3",
   "version": "3.7.0"
  }
 },
 "nbformat": 4,
 "nbformat_minor": 2
}
