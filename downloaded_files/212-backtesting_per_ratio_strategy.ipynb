{
 "cells": [
  {
   "cell_type": "markdown",
   "metadata": {},
   "source": [
    "### 한국 주식시장에서 PER을 활용한 투자 전략은 아직도 유효한가?"
   ]
  },
  {
   "cell_type": "markdown",
   "metadata": {},
   "source": [
    "#### Summary\n",
    "- 2000년대 초반 저PER 주식을 매수해 큰 돈을 버셨다는 분들을 만남\n",
    "- 이 시기부터 저PER을 활용한 가치투자 전략이 인기를 끌기 시작했다고 말씀하심\n",
    "- 다만 2014년 이후 PER을 활용한 투자 전략이 잘 통하지 않는다고 덧붙이심\n",
    "- 1) 실제로 2000년대 초반부터 2014년까지 저PER 전략이 좋은 성과를 거뒀는지 확인하고\n",
    "- 2) 2014년 이후 이 전략이 유효하지 않았는지 검증해 보자"
   ]
  },
  {
   "cell_type": "markdown",
   "metadata": {},
   "source": [
    "#### 데이터 설명\n",
    "- 데이터는 아래 3개 csv 파일에 저장돼 있습니다"
   ]
  },
  {
   "cell_type": "markdown",
   "metadata": {},
   "source": [
    "#### 1) 실적데이터.csv\n",
    "- 순이익(지배): PER 계산하는 데 사용\n",
    "- 자본총계(지배): 나중에 PBR 백테스팅에 사용할 예정\n",
    "- 매출액: 이번 테스트엔 사용하지 않음\n",
    "- 영업이익: 이번 테스트엔 사용하지 않음"
   ]
  },
  {
   "cell_type": "markdown",
   "metadata": {},
   "source": [
    "#### 2) 주가데이터.csv\n",
    "- 수정주가(종가): 주가 수익률 계산하는 데 사용\n",
    "- 수정시가(시가): 사용 안할듯\n",
    "- 5일평균 거래대금: 실제로 매수할 수 있는 종목인지 판별하는 데 사용\n",
    "- 시가총액: PER, PBR 계산하는 데 사용"
   ]
  },
  {
   "cell_type": "markdown",
   "metadata": {},
   "source": [
    "#### 3) 투자유의종목여부.csv\n",
    "- 투자유의구분(1:유의, 0:정상\n",
    "- 투자주의환기종목구분(1:해당, 0:미해당)\n",
    "- 관리종목여부(1:관리, 0:정상)\n",
    "- 거래정지여부(1:정지, 0:정상)\n",
    "- 정리매매구분(1:해당, 0:정상)\n",
    "- 하나라도 해당되면 매수하지 않음"
   ]
  },
  {
   "cell_type": "markdown",
   "metadata": {},
   "source": [
    "#### 데이터 가공에 앞서 알아야 할 점\n",
    "- 1년에 실적 발표는 4차례(매 분기)\n",
    "- PER은 직접 계산해서 써야 됨\n",
    "- PER: 시가총액/연간순이익(주가/주당순이익)\n",
    "- PER 산출에 연간 순이익이 사용됨(연간 순이익: 직전 4개 분기 합산 순이익)"
   ]
  }
 ],
 "metadata": {
  "kernelspec": {
   "display_name": "Python 3",
   "language": "python",
   "name": "python3"
  },
  "language_info": {
   "codemirror_mode": {
    "name": "ipython",
    "version": 3
   },
   "file_extension": ".py",
   "mimetype": "text/x-python",
   "name": "python",
   "nbconvert_exporter": "python",
   "pygments_lexer": "ipython3",
   "version": "3.7.3"
  }
 },
 "nbformat": 4,
 "nbformat_minor": 2
}
