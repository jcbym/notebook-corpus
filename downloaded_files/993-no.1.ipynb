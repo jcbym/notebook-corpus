{
 "cells": [
  {
   "cell_type": "markdown",
   "metadata": {},
   "source": [
    "# 选择\n",
    "## 布尔类型、数值和表达式\n",
    "![](../Photo/33.png)\n",
    "- 注意：比较运算符的相等是两个等到，一个等到代表赋值\n",
    "- 在Python中可以用整型0来代表False，其他数字来代表True\n",
    "- 后面还会讲到 is 在判断语句中的用发"
   ]
  },
  {
   "cell_type": "code",
   "execution_count": 1,
   "metadata": {},
   "outputs": [
    {
     "ename": "SyntaxError",
     "evalue": "invalid syntax (<ipython-input-1-7455fa766a7c>, line 3)",
     "output_type": "error",
     "traceback": [
      "\u001b[1;36m  File \u001b[1;32m\"<ipython-input-1-7455fa766a7c>\"\u001b[1;36m, line \u001b[1;32m3\u001b[0m\n\u001b[1;33m    80 - 90 B\u001b[0m\n\u001b[1;37m            ^\u001b[0m\n\u001b[1;31mSyntaxError\u001b[0m\u001b[1;31m:\u001b[0m invalid syntax\n"
     ]
    }
   ],
   "source": [
    "if num > 90\n",
    "    print('A')\n",
    "esif 80 < num <= 90\n"
   ]
  },
  {
   "cell_type": "markdown",
   "metadata": {},
   "source": [
    "## 字符串的比较使用ASCII值"
   ]
  },
  {
   "cell_type": "markdown",
   "metadata": {},
   "source": [
    "## Markdown \n",
    "- https://github.com/younghz/Markdown"
   ]
  },
  {
   "cell_type": "markdown",
   "metadata": {},
   "source": [
    "## EP:\n",
    "- <img src=\"../Photo/34.png\"></img>\n",
    "- 输入一个数字，判断其实奇数还是偶数"
   ]
  },
  {
   "cell_type": "markdown",
   "metadata": {},
   "source": [
    "## 产生随机数字\n",
    "- 函数random.randint(a,b) 可以用来产生一个a和b之间且包括a和b的随机整数"
   ]
  },
  {
   "cell_type": "code",
   "execution_count": null,
   "metadata": {},
   "outputs": [
    {
     "name": "stdout",
     "output_type": "stream",
     "text": [
      "请输入你猜的数据80\n",
      "猜大了 重猜!\n"
     ]
    }
   ],
   "source": [
    "import random\n",
    "a = random.randint(1,100)\n",
    "b = eval(input(\"请输入你猜的数据\"))\n",
    "while True:\n",
    "    if b<a:\n",
    "        print(\"猜大了 重猜!\")\n",
    "        break\n",
    "    elif b>a:\n",
    "        print(\"猜小了 重猜!\")\n",
    "        \n",
    "    elif b==a:\n",
    "        print(\"猜对了 开心!\")\n",
    "        break"
   ]
  },
  {
   "cell_type": "markdown",
   "metadata": {},
   "source": [
    "##  其他random方法\n",
    "- random.random 返回0.0到1.0之间前闭后开区间的随机浮点\n",
    "- random.randrange(a,b) 前闭后开"
   ]
  },
  {
   "cell_type": "markdown",
   "metadata": {},
   "source": [
    "## EP：\n",
    "- 产生两个随机整数number1和number2，然后显示给用户，使用户输入数字的和，并判定其是否正确\n",
    "- 进阶:写一个随机序号点名程序"
   ]
  },
  {
   "cell_type": "code",
   "execution_count": null,
   "metadata": {},
   "outputs": [
    {
     "name": "stdout",
     "output_type": "stream",
     "text": [
      "51 57\n",
      "请计算它们的和108\n",
      "计算正确\n"
     ]
    }
   ],
   "source": [
    "import random\n",
    "a = random.randint(1,100)\n",
    "b = random.randint(1,100)\n",
    "print(a,b)\n",
    "i = eval(input(\"请计算它们的和\"))\n",
    "c = a + b\n",
    "while True:\n",
    "    if i==c:\n",
    "        print(\"计算正确\")\n",
    "        break\n",
    "    else:\n",
    "        print(\"计算错误\")\n"
   ]
  },
  {
   "cell_type": "code",
   "execution_count": null,
   "metadata": {},
   "outputs": [],
   "source": []
  },
  {
   "cell_type": "markdown",
   "metadata": {},
   "source": [
    "## if语句\n",
    "- 如果条件正确就执行一个单向if语句，亦即当条件为真的时候才执行if内部的语句\n",
    "- Python有很多选择语句:\n",
    "> - 单向if \n",
    "  - 双向if-else\n",
    "  - 嵌套if\n",
    "  - 多向if-elif-else\n",
    "  \n",
    "- 注意：当语句含有子语句的时候，那么一定至少要有一个缩进，也就是说如果有儿子存在，那么一定要缩进\n",
    "- 切记不可tab键和space混用，单用tab 或者 space\n",
    "- 当你输出的结果是无论if是否为真时都需要显示时，语句应该与if对齐"
   ]
  },
  {
   "cell_type": "code",
   "execution_count": 3,
   "metadata": {},
   "outputs": [
    {
     "ename": "SyntaxError",
     "evalue": "invalid syntax (<ipython-input-3-05e5a69df58c>, line 8)",
     "output_type": "error",
     "traceback": [
      "\u001b[1;36m  File \u001b[1;32m\"<ipython-input-3-05e5a69df58c>\"\u001b[1;36m, line \u001b[1;32m8\u001b[0m\n\u001b[1;33m    if==\"公务员\"\u001b[0m\n\u001b[1;37m       ^\u001b[0m\n\u001b[1;31mSyntaxError\u001b[0m\u001b[1;31m:\u001b[0m invalid syntax\n"
     ]
    }
   ],
   "source": [
    "age = eval(input(\"请输入年龄\"))\n",
    "zx = eval(input(\"请输入长相\"))\n",
    "sr = eval(input(\"请输入收入\"))\n",
    "gz = eval(input(\"请输入工作\"))\n",
    "if age<=30:\n",
    "    if zx==\"帅\":\n",
    "        if sr==\"中等\":\n",
    "            if==\"公务员\"\n",
    "            print(\"见\")\n",
    "        elif sr==\"高\"\n",
    "        print(\"见\")\n",
    "        elif sr==\"低\"\n",
    "         print(\"不见\")\n",
    "    else zx==\"丑\"\n",
    "        print(\"不见\")        \n",
    "else age>30:\n",
    "    print(\"不见\")\n",
    "    "
   ]
  },
  {
   "cell_type": "markdown",
   "metadata": {},
   "source": [
    "## EP：\n",
    "- 用户输入一个数字，判断其实奇数还是偶数\n",
    "- 进阶：可以查看下4.5实例研究猜生日"
   ]
  },
  {
   "cell_type": "markdown",
   "metadata": {},
   "source": [
    "## 双向if-else 语句\n",
    "- 如果条件为真，那么走if内部语句，否则走else内部语句"
   ]
  },
  {
   "cell_type": "markdown",
   "metadata": {},
   "source": [
    "## EP：\n",
    "- 产生两个随机整数number1和number2，然后显示给用户，使用户输入数字，并判定其是否正确,如果正确打印“you‘re correct”，否则打印正确错误"
   ]
  },
  {
   "cell_type": "markdown",
   "metadata": {},
   "source": [
    "## 嵌套if 和多向if-elif-else\n",
    "![](../Photo/35.png)"
   ]
  },
  {
   "cell_type": "markdown",
   "metadata": {},
   "source": [
    "## EP：\n",
    "- 提示用户输入一个年份，然后显示表示这一年的动物\n",
    "![](../Photo/36.png)\n",
    "- 计算身体质量指数的程序\n",
    "- BMI = 以千克为单位的体重除以以米为单位的身高\n",
    "![](../Photo/37.png)"
   ]
  },
  {
   "cell_type": "code",
   "execution_count": 4,
   "metadata": {},
   "outputs": [
    {
     "name": "stdout",
     "output_type": "stream",
     "text": [
      "请输入您的出生年份12345\n",
      "蛇\n"
     ]
    }
   ],
   "source": [
    "year = eval(input(\"请输入您的出生年份\"))\n",
    "a = year % 12\n",
    "if a == 0:\n",
    "    print(\"猴\")\n",
    "elif a== 1:\n",
    "    print(\"鸡\")\n",
    "elif a== 2:\n",
    "    print(\"狗\")\n",
    "elif a== 3:\n",
    "    print(\"猪\")\n",
    "elif a== 4:\n",
    "    print(\"鼠\")\n",
    "elif a== 5:\n",
    "    print(\"牛\")\n",
    "elif a== 6:\n",
    "    print(\"虎\")\n",
    "elif a== 7:\n",
    "    print(\"兔\")\n",
    "elif a== 8:\n",
    "    print(\"龙\")\n",
    "elif a== 9:\n",
    "    print(\"蛇\")\n",
    "elif a== 10:\n",
    "    print(\"马\")\n",
    "elif a== 11:\n",
    "    print(\"羊\")    "
   ]
  },
  {
   "cell_type": "code",
   "execution_count": 5,
   "metadata": {},
   "outputs": [
    {
     "ename": "SyntaxError",
     "evalue": "invalid syntax (<ipython-input-5-a551896b908a>, line 6)",
     "output_type": "error",
     "traceback": [
      "\u001b[1;36m  File \u001b[1;32m\"<ipython-input-5-a551896b908a>\"\u001b[1;36m, line \u001b[1;32m6\u001b[0m\n\u001b[1;33m    elif BIM\u001b[0m\n\u001b[1;37m            ^\u001b[0m\n\u001b[1;31mSyntaxError\u001b[0m\u001b[1;31m:\u001b[0m invalid syntax\n"
     ]
    }
   ],
   "source": [
    "T = eval(\"请输入您的体重(千克)\")\n",
    "S = eval(\"请输入您的身高(米)\")\n",
    "BMI = T/S\n",
    "if BMI<18.5:\n",
    "    print(\"超轻\")\n",
    "elif BIM"
   ]
  },
  {
   "cell_type": "markdown",
   "metadata": {},
   "source": [
    "## 逻辑运算符\n",
    "![](../Photo/38.png)"
   ]
  },
  {
   "cell_type": "markdown",
   "metadata": {},
   "source": [
    "![](../Photo/39.png)\n",
    "![](../Photo/40.png)"
   ]
  },
  {
   "cell_type": "markdown",
   "metadata": {},
   "source": [
    "## EP：\n",
    "- 判定闰年：一个年份如果能被4整除但不能被100整除，或者能被400整除，那么这个年份就是闰年\n",
    "- 提示用户输入一个年份，并返回是否是闰年\n",
    "- 提示用户输入一个数字，判断其是否为水仙花数"
   ]
  },
  {
   "cell_type": "code",
   "execution_count": 11,
   "metadata": {},
   "outputs": [
    {
     "name": "stdout",
     "output_type": "stream",
     "text": [
      "请输入一个年份2018\n",
      "不是闰年\n"
     ]
    }
   ],
   "source": [
    "year = eval(input(\"请输入一个年份\"))\n",
    "if (year%4 == 0 ) and (year % 100 != 0):\n",
    "    print(\"闰年\")\n",
    "elif year % 400 ==0:\n",
    "    print(\"闰年\")\n",
    "else :\n",
    "    print(\"不是闰年\")"
   ]
  },
  {
   "cell_type": "code",
   "execution_count": 10,
   "metadata": {},
   "outputs": [
    {
     "name": "stdout",
     "output_type": "stream",
     "text": [
      "请输入一个三位数153\n",
      "这个数为水仙花数\n"
     ]
    }
   ],
   "source": [
    "num = eval(input(\"请输入一个三位数\"))\n",
    "num1 = num//100\n",
    "num2 = (num%100)//10\n",
    "num3 = (num%100)%10\n",
    "nums = num1*num1*num1+num2*num2*num2+num3*num3*num3\n",
    "if nums==num:\n",
    "    print(\"这个数为水仙花数\")\n",
    "else:\n",
    "    print(\"这数不是\")"
   ]
  },
  {
   "cell_type": "markdown",
   "metadata": {},
   "source": [
    "## 实例研究：彩票\n",
    "![](../Photo/41.png)"
   ]
  },
  {
   "cell_type": "code",
   "execution_count": null,
   "metadata": {},
   "outputs": [],
   "source": [
    " "
   ]
  },
  {
   "cell_type": "markdown",
   "metadata": {},
   "source": [
    "# Homework\n",
    "- 1\n",
    "![](../Photo/42.png)"
   ]
  },
  {
   "cell_type": "code",
   "execution_count": 2,
   "metadata": {},
   "outputs": [
    {
     "name": "stdout",
     "output_type": "stream",
     "text": [
      "请输入a1\n",
      "请输入b2\n",
      "请输入c3\n",
      "没有实根\n"
     ]
    }
   ],
   "source": [
    "a = eval(input(\"请输入a\"))\n",
    "b = eval(input(\"请输入b\"))\n",
    "c = eval(input(\"请输入c\"))\n",
    "d = b*b - 4*a*c\n",
    "if d>0:\n",
    "    r1 = (-b+sqrt(d))/2*a\n",
    "    r2 = (-b-sqrt(d))/2*a\n",
    "    print(r1,r2)\n",
    "elif d==0:\n",
    "    r1 = (-b+sqrt(d))/2*a\n",
    "    print(r1)\n",
    "elif d<0:\n",
    "    print(\"没有实根\")\n",
    "    "
   ]
  },
  {
   "cell_type": "markdown",
   "metadata": {},
   "source": [
    "- 2\n",
    "![](../Photo/43.png)"
   ]
  },
  {
   "cell_type": "code",
   "execution_count": 3,
   "metadata": {},
   "outputs": [
    {
     "name": "stdout",
     "output_type": "stream",
     "text": [
      "57 24\n",
      "请计算它们的和44\n",
      "计算错误\n"
     ]
    }
   ],
   "source": [
    "import random\n",
    "a = random.randint(1,100)\n",
    "b = random.randint(1,100)\n",
    "print(a,b)\n",
    "i = eval(input(\"请计算它们的和\"))\n",
    "c = a + b\n",
    "if i==c:\n",
    "    print(\"计算正确\")        \n",
    "else:\n",
    "    print(\"计算错误\")\n",
    "        "
   ]
  },
  {
   "cell_type": "markdown",
   "metadata": {},
   "source": [
    "- 3\n",
    "![](../Photo/44.png)"
   ]
  },
  {
   "cell_type": "code",
   "execution_count": 4,
   "metadata": {},
   "outputs": [
    {
     "name": "stdout",
     "output_type": "stream",
     "text": [
      "请输入今天星期几4\n",
      "请输入天数5\n",
      "星期二\n"
     ]
    }
   ],
   "source": [
    "a = eval(input(\"请输入今天星期几\"))\n",
    "b = eval(input(\"请输入天数\"))\n",
    "c = (a+b)%7\n",
    "if c==1:\n",
    "    print(\"星期一\")\n",
    "elif c==2:\n",
    "    print(\"星期二\")\n",
    "elif c==3:\n",
    "    print(\"星期三\")\n",
    "elif c==4:\n",
    "    print(\"星期四\")\n",
    "elif c==5:\n",
    "    print(\"星期五\")\n",
    "elif c==6:\n",
    "    print(\"星期六\")\n",
    "elif c==0:\n",
    "    print(\"星期日\")"
   ]
  },
  {
   "cell_type": "markdown",
   "metadata": {},
   "source": [
    "- 4\n",
    "![](../Photo/45.png)"
   ]
  },
  {
   "cell_type": "code",
   "execution_count": 6,
   "metadata": {},
   "outputs": [
    {
     "name": "stdout",
     "output_type": "stream",
     "text": [
      "请输入数字11\n",
      "请输入数字22\n",
      "请输入数字33\n",
      "3 2 1\n"
     ]
    }
   ],
   "source": [
    "a = eval(input(\"请输入数字1\"))\n",
    "b = eval(input(\"请输入数字2\"))\n",
    "c = eval(input(\"请输入数字3\"))\n",
    "if a>=b and b>=c:\n",
    "    print(a,b,c)\n",
    "elif a>=b and b<=c:\n",
    "    if a>=c:        \n",
    "        print(a,c,b)\n",
    "    else:\n",
    "        print(c,a,b)\n",
    "elif b>=a and a>=c:\n",
    "    print(b,a,c)\n",
    "elif b>=a and c>=a:\n",
    "    if b>=c:\n",
    "        print(b,c,a)\n",
    "    else:\n",
    "        print(c,b,a)\n",
    "elif c>=a and a>=b:\n",
    "    print(c,a,b)\n",
    "elif c>=a and b>=a:\n",
    "    if c>=b:\n",
    "        print(c,b,a)\n",
    "    else:\n",
    "        print(b,c,a)"
   ]
  },
  {
   "cell_type": "markdown",
   "metadata": {},
   "source": [
    "- 5\n",
    "![](../Photo/46.png)"
   ]
  },
  {
   "cell_type": "code",
   "execution_count": 11,
   "metadata": {},
   "outputs": [
    {
     "name": "stdout",
     "output_type": "stream",
     "text": [
      "请输入包装1的质量,价钱30,40\n",
      "请输入包装2的质量,价钱40,80\n",
      "包装2价钱更好\n"
     ]
    }
   ],
   "source": [
    "a1,b1 = eval(input(\"请输入包装1的质量,价钱\"))\n",
    "a2,b2 = eval(input(\"请输入包装2的质量,价钱\"))\n",
    "c1 = b1/a1\n",
    "c2 = b2/a2\n",
    "if c1>c2:\n",
    "    print(\"包装1价钱更好\")\n",
    "else:\n",
    "    print(\"包装2价钱更好\")"
   ]
  },
  {
   "cell_type": "markdown",
   "metadata": {},
   "source": [
    "- 6\n",
    "![](../Photo/47.png)"
   ]
  },
  {
   "cell_type": "code",
   "execution_count": 4,
   "metadata": {},
   "outputs": [
    {
     "name": "stdout",
     "output_type": "stream",
     "text": [
      "请输入月份3\n",
      "请输入年份2018\n",
      "不是闰年\n",
      "31\n"
     ]
    }
   ],
   "source": [
    "m = eval(input(\"请输入月份\"))\n",
    "y = eval(input(\"请输入年份\"))\n",
    "if (y%4 == 0 ) and (y % 100 != 0) or (y % 400 ==0):\n",
    "#    print(\"闰年\")\n",
    "    if m==2:\n",
    "        print(28)\n",
    "    elif m==1 or m==3 or m==5 or m==7 or m==8 or m==10 or m==12:\n",
    "        print(31)\n",
    "    elif m==4 or m==6 or m==9 or m==11:\n",
    "        print(30)\n",
    "# elif year % 400 ==0:\n",
    "#     print(\"闰年\")\n",
    "else:\n",
    "#    print(\"不是闰年\")\n",
    "    if m==2:\n",
    "        print(29)\n",
    "    elif m==1 or m==3 or m==5 or m==7 or m==8 or m==10 or m==12:\n",
    "        print(31)\n",
    "    elif m==4 or m==6 or m==9 or m==11:\n",
    "        print(30)"
   ]
  },
  {
   "cell_type": "markdown",
   "metadata": {},
   "source": [
    "- 7\n",
    "![](../Photo/48.png)"
   ]
  },
  {
   "cell_type": "code",
   "execution_count": 1,
   "metadata": {},
   "outputs": [
    {
     "name": "stdout",
     "output_type": "stream",
     "text": [
      "请输入你猜的数据1\n",
      "猜对了 开心!\n"
     ]
    }
   ],
   "source": [
    "import random\n",
    "a = random.randint(0,1)\n",
    "while True:\n",
    "    b = eval(input(\"请输入你猜的数据\"))\n",
    "    if b!=a:\n",
    "        print(\"猜错了 重猜!\") \n",
    "    else :\n",
    "        print(\"猜对了 开心!\")\n",
    "        break"
   ]
  },
  {
   "cell_type": "markdown",
   "metadata": {},
   "source": [
    "- 8\n",
    "![](../Photo/49.png)"
   ]
  },
  {
   "cell_type": "code",
   "execution_count": 2,
   "metadata": {},
   "outputs": [
    {
     "name": "stdout",
     "output_type": "stream",
     "text": [
      "请输入你猜的数据1\n",
      "赢了\n"
     ]
    }
   ],
   "source": [
    "import random\n",
    "a = random.randint(0,2)\n",
    "b = eval(input(\"请输入你猜的数据\"))\n",
    "if b==a:\n",
    "    print(\"平局\")\n",
    "elif b==0 and a==2:\n",
    "    print(\"输了\")\n",
    "elif b==0 and a==1:\n",
    "    print(\"赢了\")\n",
    "elif b==1 and a==2:\n",
    "    print(\"输了\")\n",
    "elif b==1 and a==0:\n",
    "    print(\"赢了\")\n",
    "elif b==2 and a==0:\n",
    "    print(\"输了\")\n",
    "elif b==2 and a==1:\n",
    "    print(\"赢了\")"
   ]
  },
  {
   "cell_type": "markdown",
   "metadata": {},
   "source": [
    "- 9\n",
    "![](../Photo/50.png)"
   ]
  },
  {
   "cell_type": "code",
   "execution_count": null,
   "metadata": {},
   "outputs": [],
   "source": [
    "k = eval(input(\"请输入年份\"))\n",
    "k = eval(input(\"请输入年份\"))\n",
    "k = eval(input(\"请输入年份\"))\n",
    "k = eval(input(\"请输入年份\"))"
   ]
  },
  {
   "cell_type": "markdown",
   "metadata": {},
   "source": [
    "- 10\n",
    "![](../Photo/51.png)"
   ]
  },
  {
   "cell_type": "code",
   "execution_count": null,
   "metadata": {},
   "outputs": [],
   "source": []
  },
  {
   "cell_type": "markdown",
   "metadata": {},
   "source": [
    "- 11\n",
    "![](../Photo/52.png)"
   ]
  },
  {
   "cell_type": "code",
   "execution_count": 3,
   "metadata": {},
   "outputs": [
    {
     "name": "stdout",
     "output_type": "stream",
     "text": [
      "请输入一个三位数121\n",
      "是回文数\n"
     ]
    }
   ],
   "source": [
    "num = eval(input(\"请输入一个三位数\"))\n",
    "a = num//100\n",
    "b = (num%100)%10\n",
    "if a==b:\n",
    "    print(\"是回文数\")\n",
    "else:\n",
    "    print(\"不是回文数\")"
   ]
  },
  {
   "cell_type": "markdown",
   "metadata": {},
   "source": [
    "- 12\n",
    "![](../Photo/53.png)"
   ]
  },
  {
   "cell_type": "code",
   "execution_count": 11,
   "metadata": {},
   "outputs": [
    {
     "name": "stdout",
     "output_type": "stream",
     "text": [
      "请输入三角形边长2\n",
      "请输入三角形边长3\n",
      "请输入三角形边长4\n",
      "周长是:9\n"
     ]
    }
   ],
   "source": [
    "bc1 = eval(input(\"请输入三角形边长\"))\n",
    "bc2 = eval(input(\"请输入三角形边长\"))\n",
    "bc3 = eval(input(\"请输入三角形边长\"))\n",
    "a = bc1+bc2\n",
    "b = bc1+bc3\n",
    "c = bc2+bc3\n",
    "if (a>bc3) and (b>bc2) and (c>bc1):\n",
    "    d = bc1+bc2+bc3\n",
    "    print(\"周长是:\"+str(d))\n",
    "else :\n",
    "    print(\"三边不合法\")"
   ]
  }
 ],
 "metadata": {
  "kernelspec": {
   "display_name": "Python 3",
   "language": "python",
   "name": "python3"
  },
  "language_info": {
   "codemirror_mode": {
    "name": "ipython",
    "version": 3
   },
   "file_extension": ".py",
   "mimetype": "text/x-python",
   "name": "python",
   "nbconvert_exporter": "python",
   "pygments_lexer": "ipython3",
   "version": "3.6.4"
  }
 },
 "nbformat": 4,
 "nbformat_minor": 2
}
