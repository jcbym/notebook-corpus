{
 "cells": [
  {
   "cell_type": "markdown",
   "metadata": {},
   "source": [
    "# Suivi du travail effectué"
   ]
  },
  {
   "cell_type": "markdown",
   "metadata": {},
   "source": [
    "## 22 janvier-5 février"
   ]
  },
  {
   "cell_type": "markdown",
   "metadata": {},
   "source": [
    "Travai effectué:\n",
    "- Compréhension des données\n",
    "- Étude de la corrélation entre les variables\n",
    "- Étude de la dégradation et de la réactivité en fonction du millieu \n",
    "- Étude de la dégradation et de la réactivité en fonction des nucléotides\n",
    "- Étude de la dégradation et de la réactivité en fonction de \"predicted_loop_type\" (type d'angenssement des nucléotides) et du millieu\n",
    "- Étude des données dites de mauvaises qualités avec \"SN_filter\"\t\n",
    "\n",
    "\n",
    "- Nous pensons également que la longueur des chaines de lettre dans \"predicted_loop_type\" peut faire varier la réactiviter et la dégradation "
   ]
  },
  {
   "cell_type": "markdown",
   "metadata": {},
   "source": [
    "## 5 au 19 février "
   ]
  },
  {
   "cell_type": "markdown",
   "metadata": {},
   "source": [
    "Travail effectué:\n",
    "- Étude des corrélations quantitatives entre les données\n",
    "- Création d'une fonction qui clean les données d'entrée: une ligne par valeur de dégradations/ réactivité\n",
    "- Étude de la dégradation en fonction du nombre de lettres identiques dans \"predicted_loop_type\"  "
   ]
  },
  {
   "cell_type": "markdown",
   "metadata": {},
   "source": [
    "Piste à suivre \n",
    "- Comment utiliser \"structure\" ou pas ?\n",
    "- Commencer les modèles "
   ]
  },
  {
   "cell_type": "markdown",
   "metadata": {},
   "source": [
    "## Du 19 au 26 février"
   ]
  },
  {
   "cell_type": "markdown",
   "metadata": {},
   "source": [
    "Travail effectué:\n",
    "- Corrélation entre les variables qualitatives\n",
    "- Analyses des données terminé/ on clean le code et améliore la présentation du notbook\n",
    "- Première submission avec modèle linéaires: score 0.44 \n",
    "- Ébauche d'une introduction"
   ]
  },
  {
   "cell_type": "markdown",
   "metadata": {},
   "source": [
    "Piste à suivre: \n",
    "- Complexifier les modèles et en trouver des nouveaux  \n",
    "- Pour la suite, on pense qu'il serait interessant de faire varier la proportion de valeurs fausse dans l'apprentissage de notre modèle. En effet, dans la submition, on ne connait pas la proportion de valeurs \"vraies\" (qui passent le filtre).\n",
    "- Pistes qui pourraient nous être utiles :\n",
    "- bbps: https://www.kaggle.com/c/stanford-covid-vaccine/discussion/182021\n",
    "- arnie  https://github.com/DasLab/arnie"
   ]
  },
  {
   "cell_type": "markdown",
   "metadata": {},
   "source": [
    "## Du 1er au 15 Mars"
   ]
  },
  {
   "cell_type": "markdown",
   "metadata": {},
   "source": [
    "Travail effectué:\n",
    "- Utilisation de structure pour créer une nouvelle feature\n",
    "- Création de modèle random forest\n",
    "- Création d'un notbook fichier_test pour clean les données test\n",
    "- Création d'un notbook submission pour faciliter la submission\n",
    "- On implémente la loss KAGGLE"
   ]
  },
  {
   "cell_type": "markdown",
   "metadata": {},
   "source": [
    "## Du 15 au 30 Mars"
   ]
  },
  {
   "cell_type": "markdown",
   "metadata": {},
   "source": [
    "Travail effectué:\n",
    "- Création d'une classe modèle linéaire pour tenter de train notre model avec la loss de kaggle: la prédiction est moins bonne qu'avec sklearn\n",
    "- Rédaction du rapport\n",
    "- Modèle deep learning \n",
    "- Détermination des meilleur submission sur les modèles linéaires et random forrest"
   ]
  },
  {
   "cell_type": "code",
   "execution_count": null,
   "metadata": {},
   "outputs": [],
   "source": []
  }
 ],
 "metadata": {
  "kernelspec": {
   "display_name": "Python 3",
   "language": "python",
   "name": "python3"
  },
  "language_info": {
   "codemirror_mode": {
    "name": "ipython",
    "version": 3
   },
   "file_extension": ".py",
   "mimetype": "text/x-python",
   "name": "python",
   "nbconvert_exporter": "python",
   "pygments_lexer": "ipython3",
   "version": "3.7.4"
  }
 },
 "nbformat": 4,
 "nbformat_minor": 2
}
