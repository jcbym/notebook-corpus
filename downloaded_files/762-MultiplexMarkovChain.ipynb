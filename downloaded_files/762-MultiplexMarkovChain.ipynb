{
 "metadata": {
  "name": "",
  "signature": "sha256:f324b15e7ed1bd1f31f70f02673006cd68c3fbe5d42f6df9a7ac59e1598664a2"
 },
 "nbformat": 3,
 "nbformat_minor": 0,
 "worksheets": [
  {
   "cells": [
    {
     "cell_type": "code",
     "collapsed": false,
     "input": [
      "# show plots inside the notebook \n",
      "%matplotlib inline"
     ],
     "language": "python",
     "metadata": {},
     "outputs": [],
     "prompt_number": 1
    },
    {
     "cell_type": "heading",
     "level": 1,
     "metadata": {},
     "source": [
      "Example: Network of alliance and trade between countries"
     ]
    },
    {
     "cell_type": "markdown",
     "metadata": {},
     "source": [
      "This notebook shows a step by step example of how to construct the Multiplex Markov Chain from longitudinal data on a multiplex network with two layers. The Multiplex Markov chain helps to detect \"dynamical spillover\". See the following paper for details:"
     ]
    },
    {
     "cell_type": "markdown",
     "metadata": {},
     "source": [
      "In our dataset, the nodes are countries in the world and the two layers are alliance and trade. The data starts in 1950 and ends in 2003. The input data has alliance as the first layer and trade as the second layer. Here are the first few lines of the file that stores the data about edges present in the network."
     ]
    },
    {
     "cell_type": "code",
     "collapsed": false,
     "input": [
      "with open(\"alliance_trade_edges.csv\",\"r\") as f:\n",
      "    for i in range(6):\n",
      "        print((f.readline()).rstrip())"
     ],
     "language": "python",
     "metadata": {},
     "outputs": [
      {
       "output_type": "stream",
       "stream": "stdout",
       "text": [
        "year,nation1,nation2,alliance,trade\n",
        "1950,2,20,1,1\n",
        "1950,2,40,1,1\n",
        "1950,2,41,1,1\n",
        "1950,2,42,1,1\n",
        "1950,2,70,1,1\n"
       ]
      }
     ],
     "prompt_number": 2
    },
    {
     "cell_type": "markdown",
     "metadata": {},
     "source": [
      "The multiplex network has two layers. Therefore, every edge in this network has four possible states: no alliance or trade (state:0 {labelled at}), only alliance (state:1 {labelled At}), only trade (state:2 {labelled aT}) or both alliance and trade (state:3 {labelled AT}). Therefore, from one year to the next, there are sixteen possible transitions. The transition from state $S_t = \\{0,1,2,3\\}$ to state $S_{t+1} = \\{0,1,2,3\\}$ is denoted as transition $i = 4S_t + S_{t+1}$.  "
     ]
    },
    {
     "cell_type": "code",
     "collapsed": false,
     "input": [
      "# first convert the multiplex network data into transition counts of a Markov chain\n",
      "from extract_counts import *"
     ],
     "language": "python",
     "metadata": {},
     "outputs": [],
     "prompt_number": 3
    },
    {
     "cell_type": "markdown",
     "metadata": {},
     "source": [
      "The following gives us a dictionary with the index as the year. The entry corresponding to the year gives us the counts associated with that year to the next, say $y \\to y+1$. There are several instances in the dataset where a country exists in year $y$ but not in year $y+1$ and vice versa. The parameter \"method\" decides how we handle such cases. The parameter accepts two values: \"union\", \"intersection\". When we choose \"union\" the node is included in the counts if it is present in at least one of the timesteps. If we choose \"intersection\" the node is included in the counts only if it is present in both years."
     ]
    },
    {
     "cell_type": "code",
     "collapsed": false,
     "input": [
      "counts_by_year = compute_counts_from_file(\"./alliance_trade_edges.csv\", \"./alliance_trade_nodes.csv\", method=\"intersection\")"
     ],
     "language": "python",
     "metadata": {},
     "outputs": [
      {
       "output_type": "stream",
       "stream": "stderr",
       "text": [
        "INFO:multiplex_markov_chain:Getting counts for 1950-->1951\n"
       ]
      },
      {
       "output_type": "stream",
       "stream": "stderr",
       "text": [
        "INFO:multiplex_markov_chain:Getting counts for 1951-->1952\n"
       ]
      },
      {
       "output_type": "stream",
       "stream": "stderr",
       "text": [
        "INFO:multiplex_markov_chain:Getting counts for 1952-->1953\n"
       ]
      },
      {
       "output_type": "stream",
       "stream": "stderr",
       "text": [
        "INFO:multiplex_markov_chain:Getting counts for 1953-->1954\n"
       ]
      },
      {
       "output_type": "stream",
       "stream": "stderr",
       "text": [
        "INFO:multiplex_markov_chain:Getting counts for 1954-->1955\n"
       ]
      },
      {
       "output_type": "stream",
       "stream": "stderr",
       "text": [
        "INFO:multiplex_markov_chain:Getting counts for 1955-->1956\n"
       ]
      },
      {
       "output_type": "stream",
       "stream": "stderr",
       "text": [
        "INFO:multiplex_markov_chain:Getting counts for 1956-->1957\n"
       ]
      },
      {
       "output_type": "stream",
       "stream": "stderr",
       "text": [
        "INFO:multiplex_markov_chain:Getting counts for 1957-->1958\n"
       ]
      },
      {
       "output_type": "stream",
       "stream": "stderr",
       "text": [
        "INFO:multiplex_markov_chain:Getting counts for 1958-->1959\n"
       ]
      },
      {
       "output_type": "stream",
       "stream": "stderr",
       "text": [
        "INFO:multiplex_markov_chain:Getting counts for 1959-->1960\n"
       ]
      },
      {
       "output_type": "stream",
       "stream": "stderr",
       "text": [
        "INFO:multiplex_markov_chain:Getting counts for 1960-->1961\n"
       ]
      },
      {
       "output_type": "stream",
       "stream": "stderr",
       "text": [
        "INFO:multiplex_markov_chain:Getting counts for 1961-->1962\n"
       ]
      },
      {
       "output_type": "stream",
       "stream": "stderr",
       "text": [
        "INFO:multiplex_markov_chain:Getting counts for 1962-->1963\n"
       ]
      },
      {
       "output_type": "stream",
       "stream": "stderr",
       "text": [
        "INFO:multiplex_markov_chain:Getting counts for 1963-->1964\n"
       ]
      },
      {
       "output_type": "stream",
       "stream": "stderr",
       "text": [
        "INFO:multiplex_markov_chain:Getting counts for 1964-->1965\n"
       ]
      },
      {
       "output_type": "stream",
       "stream": "stderr",
       "text": [
        "INFO:multiplex_markov_chain:Getting counts for 1965-->1966\n"
       ]
      },
      {
       "output_type": "stream",
       "stream": "stderr",
       "text": [
        "INFO:multiplex_markov_chain:Getting counts for 1966-->1967\n"
       ]
      },
      {
       "output_type": "stream",
       "stream": "stderr",
       "text": [
        "INFO:multiplex_markov_chain:Getting counts for 1967-->1968\n"
       ]
      },
      {
       "output_type": "stream",
       "stream": "stderr",
       "text": [
        "INFO:multiplex_markov_chain:Getting counts for 1968-->1969\n"
       ]
      },
      {
       "output_type": "stream",
       "stream": "stderr",
       "text": [
        "INFO:multiplex_markov_chain:Getting counts for 1969-->1970\n"
       ]
      },
      {
       "output_type": "stream",
       "stream": "stderr",
       "text": [
        "INFO:multiplex_markov_chain:Getting counts for 1970-->1971\n"
       ]
      },
      {
       "output_type": "stream",
       "stream": "stderr",
       "text": [
        "INFO:multiplex_markov_chain:Getting counts for 1971-->1972\n"
       ]
      },
      {
       "output_type": "stream",
       "stream": "stderr",
       "text": [
        "INFO:multiplex_markov_chain:Getting counts for 1972-->1973\n"
       ]
      },
      {
       "output_type": "stream",
       "stream": "stderr",
       "text": [
        "INFO:multiplex_markov_chain:Getting counts for 1973-->1974\n"
       ]
      },
      {
       "output_type": "stream",
       "stream": "stderr",
       "text": [
        "INFO:multiplex_markov_chain:Getting counts for 1974-->1975\n"
       ]
      },
      {
       "output_type": "stream",
       "stream": "stderr",
       "text": [
        "INFO:multiplex_markov_chain:Getting counts for 1975-->1976\n"
       ]
      },
      {
       "output_type": "stream",
       "stream": "stderr",
       "text": [
        "INFO:multiplex_markov_chain:Getting counts for 1976-->1977\n"
       ]
      },
      {
       "output_type": "stream",
       "stream": "stderr",
       "text": [
        "INFO:multiplex_markov_chain:Getting counts for 1977-->1978\n"
       ]
      },
      {
       "output_type": "stream",
       "stream": "stderr",
       "text": [
        "INFO:multiplex_markov_chain:Getting counts for 1978-->1979\n"
       ]
      },
      {
       "output_type": "stream",
       "stream": "stderr",
       "text": [
        "INFO:multiplex_markov_chain:Getting counts for 1979-->1980\n"
       ]
      },
      {
       "output_type": "stream",
       "stream": "stderr",
       "text": [
        "INFO:multiplex_markov_chain:Getting counts for 1980-->1981\n"
       ]
      },
      {
       "output_type": "stream",
       "stream": "stderr",
       "text": [
        "INFO:multiplex_markov_chain:Getting counts for 1981-->1982\n"
       ]
      },
      {
       "output_type": "stream",
       "stream": "stderr",
       "text": [
        "INFO:multiplex_markov_chain:Getting counts for 1982-->1983\n"
       ]
      },
      {
       "output_type": "stream",
       "stream": "stderr",
       "text": [
        "INFO:multiplex_markov_chain:Getting counts for 1983-->1984\n"
       ]
      },
      {
       "output_type": "stream",
       "stream": "stderr",
       "text": [
        "INFO:multiplex_markov_chain:Getting counts for 1984-->1985\n"
       ]
      },
      {
       "output_type": "stream",
       "stream": "stderr",
       "text": [
        "INFO:multiplex_markov_chain:Getting counts for 1985-->1986\n"
       ]
      },
      {
       "output_type": "stream",
       "stream": "stderr",
       "text": [
        "INFO:multiplex_markov_chain:Getting counts for 1986-->1987\n"
       ]
      },
      {
       "output_type": "stream",
       "stream": "stderr",
       "text": [
        "INFO:multiplex_markov_chain:Getting counts for 1987-->1988\n"
       ]
      },
      {
       "output_type": "stream",
       "stream": "stderr",
       "text": [
        "INFO:multiplex_markov_chain:Getting counts for 1988-->1989\n"
       ]
      },
      {
       "output_type": "stream",
       "stream": "stderr",
       "text": [
        "INFO:multiplex_markov_chain:Getting counts for 1989-->1990\n"
       ]
      },
      {
       "output_type": "stream",
       "stream": "stderr",
       "text": [
        "INFO:multiplex_markov_chain:Getting counts for 1990-->1991\n"
       ]
      },
      {
       "output_type": "stream",
       "stream": "stderr",
       "text": [
        "INFO:multiplex_markov_chain:Getting counts for 1991-->1992\n"
       ]
      },
      {
       "output_type": "stream",
       "stream": "stderr",
       "text": [
        "INFO:multiplex_markov_chain:Getting counts for 1992-->1993\n"
       ]
      },
      {
       "output_type": "stream",
       "stream": "stderr",
       "text": [
        "INFO:multiplex_markov_chain:Getting counts for 1993-->1994\n"
       ]
      },
      {
       "output_type": "stream",
       "stream": "stderr",
       "text": [
        "INFO:multiplex_markov_chain:Getting counts for 1994-->1995\n"
       ]
      },
      {
       "output_type": "stream",
       "stream": "stderr",
       "text": [
        "INFO:multiplex_markov_chain:Getting counts for 1995-->1996\n"
       ]
      },
      {
       "output_type": "stream",
       "stream": "stderr",
       "text": [
        "INFO:multiplex_markov_chain:Getting counts for 1996-->1997\n"
       ]
      },
      {
       "output_type": "stream",
       "stream": "stderr",
       "text": [
        "INFO:multiplex_markov_chain:Getting counts for 1997-->1998\n"
       ]
      },
      {
       "output_type": "stream",
       "stream": "stderr",
       "text": [
        "INFO:multiplex_markov_chain:Getting counts for 1998-->1999\n"
       ]
      },
      {
       "output_type": "stream",
       "stream": "stderr",
       "text": [
        "INFO:multiplex_markov_chain:Getting counts for 1999-->2000\n"
       ]
      },
      {
       "output_type": "stream",
       "stream": "stderr",
       "text": [
        "INFO:multiplex_markov_chain:Getting counts for 2000-->2001\n"
       ]
      },
      {
       "output_type": "stream",
       "stream": "stderr",
       "text": [
        "INFO:multiplex_markov_chain:Getting counts for 2001-->2002\n"
       ]
      },
      {
       "output_type": "stream",
       "stream": "stderr",
       "text": [
        "INFO:multiplex_markov_chain:Reached end of edge list\n"
       ]
      },
      {
       "output_type": "stream",
       "stream": "stderr",
       "text": [
        "INFO:multiplex_markov_chain:Getting counts for 2002-->2003\n"
       ]
      }
     ],
     "prompt_number": 4
    },
    {
     "cell_type": "markdown",
     "metadata": {},
     "source": [
      "An array (of size $16$) which contains the counts of each of the $16$ possible transitions is associated with each year."
     ]
    },
    {
     "cell_type": "code",
     "collapsed": false,
     "input": [
      "# check how the counts look\n",
      "counts_by_year[\"1950\"]"
     ],
     "language": "python",
     "metadata": {},
     "outputs": [
      {
       "metadata": {},
       "output_type": "pyout",
       "prompt_number": 5,
       "text": [
        "array([1360,    2,   85,    0,    0,  100,    0,   13,   71,    0,  900,\n",
        "         26,    0,   19,    0,  199])"
       ]
      }
     ],
     "prompt_number": 5
    },
    {
     "cell_type": "markdown",
     "metadata": {},
     "source": [
      "Having obtained the counts, we can now construct the Multiplex Markov chain, compute the null model and check for transitions that are significantly different due to interaction between the two layers. Since our purpose here is to illustrate how to use the code, we will accumulate all the counts from 1950 to 2003. We do a more careful analysis of whether such an aggregation is justified in the article ()."
     ]
    },
    {
     "cell_type": "code",
     "collapsed": false,
     "input": [
      "# make np array of dictionary and sum counts\n",
      "counts = np.sum(np.array(list(counts_by_year.values())),axis=0)"
     ],
     "language": "python",
     "metadata": {},
     "outputs": [],
     "prompt_number": 6
    },
    {
     "cell_type": "code",
     "collapsed": false,
     "input": [
      "print(counts)"
     ],
     "language": "python",
     "metadata": {},
     "outputs": [
      {
       "output_type": "stream",
       "stream": "stdout",
       "text": [
        "[319388    485  19285     50    108  11964      3   1552  17205     53\n",
        " 165360    707     10   1311    196  25513]\n"
       ]
      }
     ],
     "prompt_number": 7
    },
    {
     "cell_type": "markdown",
     "metadata": {},
     "source": [
      "The above counts are what we will use to construct our Multiplex Markov chain and the corresponding null model. We import the corresponding class and construct the Multiplex Markov chain."
     ]
    },
    {
     "cell_type": "code",
     "collapsed": false,
     "input": [
      "from MultiplexMarkovChain import *"
     ],
     "language": "python",
     "metadata": {},
     "outputs": [],
     "prompt_number": 8
    },
    {
     "cell_type": "code",
     "collapsed": false,
     "input": [
      "mmc = MultiplexMarkovChain(counts)"
     ],
     "language": "python",
     "metadata": {},
     "outputs": [],
     "prompt_number": 9
    },
    {
     "cell_type": "code",
     "collapsed": false,
     "input": [
      "# print the parameters of the Markov chain associated with the transitions (this is the probability of transition i)\n",
      "mmc.get_parameters()"
     ],
     "language": "python",
     "metadata": {},
     "outputs": [
      {
       "metadata": {},
       "output_type": "pyout",
       "prompt_number": 10,
       "text": [
        "array([  9.41561619e-01,   1.43273233e-03,   5.68552999e-02,\n",
        "         1.50348455e-04,   7.99647861e-03,   8.77778593e-01,\n",
        "         2.93448757e-04,   1.13931480e-01,   9.38531274e-02,\n",
        "         2.94552417e-04,   9.01990411e-01,   3.86190946e-03,\n",
        "         4.06895021e-04,   4.85314789e-02,   7.28711992e-03,\n",
        "         9.43774506e-01])"
       ]
      }
     ],
     "prompt_number": 10
    },
    {
     "cell_type": "code",
     "collapsed": false,
     "input": [
      "#print the corresponding null probability\n",
      "mmc.get_null_prob()"
     ],
     "language": "python",
     "metadata": {},
     "outputs": [
      {
       "metadata": {},
       "output_type": "pyout",
       "prompt_number": 11,
       "text": [
        "array([  9.38457991e-01,   2.33336637e-03,   5.90617928e-02,\n",
        "         1.46850262e-04,   7.35806713e-03,   9.33433290e-01,\n",
        "         4.63079478e-04,   5.87455636e-02,   8.81069685e-02,\n",
        "         2.19067704e-04,   9.09412815e-01,   2.26114893e-03,\n",
        "         6.90810879e-04,   8.76352253e-02,   7.13033573e-03,\n",
        "         9.04543628e-01])"
       ]
      }
     ],
     "prompt_number": 11
    },
    {
     "cell_type": "code",
     "collapsed": false,
     "input": [
      "# print state totals\n",
      "mmc.get_state_totals()"
     ],
     "language": "python",
     "metadata": {},
     "outputs": [
      {
       "metadata": {},
       "output_type": "pyout",
       "prompt_number": 12,
       "text": [
        "array([ 339208.,   13627.,  183325.,   27030.])"
       ]
      }
     ],
     "prompt_number": 12
    },
    {
     "cell_type": "markdown",
     "metadata": {},
     "source": [
      "In order determine if spillover exists between the alliance and trade layer we need to check if the transition parameters of the Multiplex Markov chain are \"substantially\" different from those of the null model. We can do this by checking if the confidence interval for the Multiplex Markov chain and the null model overlap. In this example (and in the article) we choose the 99% confidence interval. Since our state totals are of the order of $10^4$, we can construct the confidence interval using a Gaussian approximation. "
     ]
    },
    {
     "cell_type": "markdown",
     "metadata": {},
     "source": [
      "Note: For a Gaussian distribution the 99% confidence interval is given by $\\mu \\pm 2.58 \\sigma$, where $\\mu$ is the mean and $\\sigma$ is the standard deviation. "
     ]
    },
    {
     "cell_type": "code",
     "collapsed": false,
     "input": [
      "import matplotlib.pylab as plt"
     ],
     "language": "python",
     "metadata": {},
     "outputs": [],
     "prompt_number": 13
    },
    {
     "cell_type": "code",
     "collapsed": false,
     "input": [
      "z_alpha = 2.58 # change to alter level of confidence"
     ],
     "language": "python",
     "metadata": {},
     "outputs": [],
     "prompt_number": 14
    },
    {
     "cell_type": "code",
     "collapsed": false,
     "input": [
      "# Plot to check for overlap in confidence intervals\n",
      "plt.clf()\n",
      "fig = plt.figure(figsize=(16, 8))\n",
      "y = mmc.get_parameters()\n",
      "y_std = z_alpha*mmc.get_std_dev()\n",
      "y_null = mmc.get_null_prob()\n",
      "y_null_std = yerr=z_alpha*mmc.get_null_std_dev()\n",
      "state_labels = {0:'at', 1:'At', 2:'aT', 3:'AT'}\n",
      "xlabels = []\n",
      "# prepare transition label\n",
      "for i in range(4):\n",
      "    for j in range(4):\n",
      "        index = 4*i + j\n",
      "        ax = plt.subplot2grid((4,4),(i,j))\n",
      "        ax.errorbar([1], y[index], yerr=y_std[index], fmt=\"o\", label=\"MMC\")\n",
      "        ax.errorbar([1], y_null[index], yerr=y_null_std[index], fmt=\"s\", color=\"r\", label=\"Null\")\n",
      "        ttext = state_labels[i] + \"-->\" + state_labels[j]\n",
      "        ax.set_title(ttext)\n",
      "        ax.tick_params(axis='x', which='both', bottom='off', top='off', labelbottom='off') #don't display xticks\n",
      "fig.subplots_adjust(wspace=0.4)"
     ],
     "language": "python",
     "metadata": {},
     "outputs": [
      {
       "metadata": {},
       "output_type": "display_data",
       "text": [
        "<matplotlib.figure.Figure at 0x7f001645e2b0>"
       ]
      },
      {
       "metadata": {},
       "output_type": "display_data",
       "png": "[encoded data removed]",
       "text": [
        "<matplotlib.figure.Figure at 0x7f0015d394a8>"
       ]
      }
     ],
     "prompt_number": 15
    },
    {
     "cell_type": "markdown",
     "metadata": {},
     "source": [
      "From the above panel of figures we can determine which of these transitions exhibit dynamical spillover. We discuss the implications of the spillover in the article that can be found "
     ]
    },
    {
     "cell_type": "code",
     "collapsed": false,
     "input": [],
     "language": "python",
     "metadata": {},
     "outputs": [],
     "prompt_number": 15
    }
   ],
   "metadata": {}
  }
 ]
}