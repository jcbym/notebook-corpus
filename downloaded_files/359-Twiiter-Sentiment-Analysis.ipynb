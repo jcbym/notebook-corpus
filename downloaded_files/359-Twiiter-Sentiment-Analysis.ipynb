{
 "cells": [
  {
   "cell_type": "code",
   "execution_count": 73,
   "metadata": {},
   "outputs": [],
   "source": [
    "import tweepy           # To consume Twitter's API\n",
    "import pandas as pd     # To handle data\n",
    "import numpy as np      # For number computing\n",
    "\n",
    "# For plotting and visualization:\n",
    "from IPython.display import display\n",
    "import matplotlib.pyplot as plt\n",
    "import seaborn as sns\n",
    "%matplotlib inline"
   ]
  },
  {
   "cell_type": "code",
   "execution_count": 74,
   "metadata": {},
   "outputs": [],
   "source": [
    "# Twitter App access keys for @user\n",
    "\n",
    "# Consume:\n",
    "CONSUMER_KEY    = 'xabxdefgh......'\n",
    "CONSUMER_SECRET = 'abcdef.........'\n",
    "\n",
    "\n",
    "# Access:\n",
    "ACCESS_TOKEN  = '123456-WGpWArWvozAuyEwxTOqkKRBUtBoKLClqJ3Q64hT'\n",
    "ACCESS_SECRET = 'xxxxxxxxxxxxxxxxxxxxx'"
   ]
  },
  {
   "cell_type": "code",
   "execution_count": 75,
   "metadata": {},
   "outputs": [],
   "source": [
    "# We import our access keys:\n",
    "from credentials import *    # This will allow us to use the keys as variables\n",
    "\n",
    "# API's setup:\n",
    "def twitter_setup():\n",
    "    \"\"\"\n",
    "    Utility function to setup the Twitter's API\n",
    "    with our access keys provided.\n",
    "    \"\"\"\n",
    "    # Authentication and access using keys:\n",
    "    auth = tweepy.OAuthHandler(CONSUMER_KEY, CONSUMER_SECRET)\n",
    "    auth.set_access_token(ACCESS_TOKEN, ACCESS_SECRET)\n",
    "\n",
    "    # Return API with authentication:\n",
    "    api = tweepy.API(auth)\n",
    "    return api"
   ]
  },
  {
   "cell_type": "code",
   "execution_count": 160,
   "metadata": {
    "scrolled": true
   },
   "outputs": [
    {
     "name": "stdout",
     "output_type": "stream",
     "text": [
      "Number of tweets extracted: 200.\n",
      "\n",
      "5 recent tweets:\n",
      "\n",
      "Birthday greetings to my valued colleague and one of India’s senior most leaders, Shri Ram Vilas Paswan Ji. A true… https://t.co/QWuBREKN15\n",
      "\n",
      "A promise fulfilled!\n",
      "\n",
      "We are honoured and humbled that we had the opportunity to take a decision on the historic in… https://t.co/b5io3aG5fs\n",
      "\n",
      "Strengthening India’s higher education sector. https://t.co/bXYsZAboIx\n",
      "\n",
      "Congratulations to the people of Tripura! Their long pending demand was fulfilled today. https://t.co/P1ebzWl7zU\n",
      "\n",
      "Great interaction with young IAS officers who have recently been appointed Assistant Secretaries in the Government… https://t.co/UewAES5iwg\n",
      "\n"
     ]
    }
   ],
   "source": [
    "extractor = twitter_setup()\n",
    "\n",
    "# We create a tweet list as follows:\n",
    "#tweets = extractor.search(q=\"#RILAGM\", count=200)\n",
    "tweets = extractor.user_timeline(screen_name=\"narendramodi\", count=200)\n",
    "print(\"Number of tweets extracted: {}.\\n\".format(len(tweets)))\n",
    "\n",
    "# We print the most recent 5 tweets:\n",
    "print(\"5 recent tweets:\\n\")\n",
    "for tweet in tweets[:5]:\n",
    "    print(tweet.text)\n",
    "    print()"
   ]
  },
  {
   "cell_type": "code",
   "execution_count": 161,
   "metadata": {},
   "outputs": [
    {
     "data": {
      "text/html": [
       "<div>\n",
       "<style scoped>\n",
       "    .dataframe tbody tr th:only-of-type {\n",
       "        vertical-align: middle;\n",
       "    }\n",
       "\n",
       "    .dataframe tbody tr th {\n",
       "        vertical-align: top;\n",
       "    }\n",
       "\n",
       "    .dataframe thead th {\n",
       "        text-align: right;\n",
       "    }\n",
       "</style>\n",
       "<table border=\"1\" class=\"dataframe\">\n",
       "  <thead>\n",
       "    <tr style=\"text-align: right;\">\n",
       "      <th></th>\n",
       "      <th>Tweets</th>\n",
       "    </tr>\n",
       "  </thead>\n",
       "  <tbody>\n",
       "    <tr>\n",
       "      <th>0</th>\n",
       "      <td>Birthday greetings to my valued colleague and ...</td>\n",
       "    </tr>\n",
       "    <tr>\n",
       "      <th>1</th>\n",
       "      <td>A promise fulfilled!\\n\\nWe are honoured and hu...</td>\n",
       "    </tr>\n",
       "    <tr>\n",
       "      <th>2</th>\n",
       "      <td>Strengthening India’s higher education sector....</td>\n",
       "    </tr>\n",
       "    <tr>\n",
       "      <th>3</th>\n",
       "      <td>Congratulations to the people of Tripura! Thei...</td>\n",
       "    </tr>\n",
       "    <tr>\n",
       "      <th>4</th>\n",
       "      <td>Great interaction with young IAS officers who ...</td>\n",
       "    </tr>\n",
       "    <tr>\n",
       "      <th>5</th>\n",
       "      <td>मिट्टी के स्वास्थ्य से लेकर सिंचाई तक, आसानी स...</td>\n",
       "    </tr>\n",
       "    <tr>\n",
       "      <th>6</th>\n",
       "      <td>We are leaving no stone unturned to ensure the...</td>\n",
       "    </tr>\n",
       "    <tr>\n",
       "      <th>7</th>\n",
       "      <td>Well said. I fully agree that when India’s far...</td>\n",
       "    </tr>\n",
       "    <tr>\n",
       "      <th>8</th>\n",
       "      <td>कृषि क्षेत्र के विकास और किसान कल्याण के लिए ज...</td>\n",
       "    </tr>\n",
       "    <tr>\n",
       "      <th>9</th>\n",
       "      <td>मुझे अत्यंत खुशी हो रही है कि किसान भाइयों-बहन...</td>\n",
       "    </tr>\n",
       "  </tbody>\n",
       "</table>\n",
       "</div>"
      ],
      "text/plain": [
       "                                              Tweets\n",
       "0  Birthday greetings to my valued colleague and ...\n",
       "1  A promise fulfilled!\\n\\nWe are honoured and hu...\n",
       "2  Strengthening India’s higher education sector....\n",
       "3  Congratulations to the people of Tripura! Thei...\n",
       "4  Great interaction with young IAS officers who ...\n",
       "5  मिट्टी के स्वास्थ्य से लेकर सिंचाई तक, आसानी स...\n",
       "6  We are leaving no stone unturned to ensure the...\n",
       "7  Well said. I fully agree that when India’s far...\n",
       "8  कृषि क्षेत्र के विकास और किसान कल्याण के लिए ज...\n",
       "9  मुझे अत्यंत खुशी हो रही है कि किसान भाइयों-बहन..."
      ]
     },
     "metadata": {},
     "output_type": "display_data"
    }
   ],
   "source": [
    "# We create a pandas dataframe as follows:\n",
    "data = pd.DataFrame(data=[tweet.text for tweet in tweets], columns=['Tweets'])\n",
    "\n",
    "# We display the first 10 elements of the dataframe:\n",
    "display(data.head(10))"
   ]
  },
  {
   "cell_type": "code",
   "execution_count": 162,
   "metadata": {
    "scrolled": false
   },
   "outputs": [
    {
     "name": "stdout",
     "output_type": "stream",
     "text": [
      "['__class__', '__delattr__', '__dict__', '__dir__', '__doc__', '__eq__', '__format__', '__ge__', '__getattribute__', '__getstate__', '__gt__', '__hash__', '__init__', '__init_subclass__', '__le__', '__lt__', '__module__', '__ne__', '__new__', '__reduce__', '__reduce_ex__', '__repr__', '__setattr__', '__sizeof__', '__str__', '__subclasshook__', '__weakref__', '_api', '_json', 'author', 'contributors', 'coordinates', 'created_at', 'destroy', 'entities', 'favorite', 'favorite_count', 'favorited', 'geo', 'id', 'id_str', 'in_reply_to_screen_name', 'in_reply_to_status_id', 'in_reply_to_status_id_str', 'in_reply_to_user_id', 'in_reply_to_user_id_str', 'is_quote_status', 'lang', 'parse', 'parse_list', 'place', 'retweet', 'retweet_count', 'retweeted', 'retweets', 'source', 'source_url', 'text', 'truncated', 'user']\n"
     ]
    }
   ],
   "source": [
    "# Internal methods of a single tweet object:\n",
    "print(dir(tweets[0]))"
   ]
  },
  {
   "cell_type": "code",
   "execution_count": 163,
   "metadata": {},
   "outputs": [
    {
     "name": "stdout",
     "output_type": "stream",
     "text": [
      "1014701594041085953\n",
      "2018-07-05 02:44:46\n",
      "Twitter for iPhone\n",
      "8598\n",
      "1461\n",
      "None\n",
      "None\n",
      "{'hashtags': [], 'symbols': [], 'user_mentions': [], 'urls': [{'url': 'https://t.co/QWuBREKN15', 'expanded_url': 'https://twitter.com/i/web/status/1014701594041085953', 'display_url': 'twitter.com/i/web/status/1…', 'indices': [116, 139]}]}\n"
     ]
    }
   ],
   "source": [
    "# We print info from the first tweet:\n",
    "print(tweets[0].id)\n",
    "print(tweets[0].created_at)\n",
    "print(tweets[0].source)\n",
    "print(tweets[0].favorite_count)\n",
    "print(tweets[0].retweet_count)\n",
    "print(tweets[0].geo)\n",
    "print(tweets[0].coordinates)\n",
    "print(tweets[0].entities)"
   ]
  },
  {
   "cell_type": "code",
   "execution_count": 164,
   "metadata": {},
   "outputs": [],
   "source": [
    "# We add relevant data:\n",
    "data['len']  = np.array([len(tweet.text) for tweet in tweets])\n",
    "data['ID']   = np.array([tweet.id for tweet in tweets])\n",
    "data['Date'] = np.array([tweet.created_at for tweet in tweets])\n",
    "data['Source'] = np.array([tweet.source for tweet in tweets])\n",
    "data['Likes']  = np.array([tweet.favorite_count for tweet in tweets])\n",
    "data['RTs']    = np.array([tweet.retweet_count for tweet in tweets])"
   ]
  },
  {
   "cell_type": "code",
   "execution_count": 165,
   "metadata": {},
   "outputs": [
    {
     "data": {
      "text/html": [
       "<div>\n",
       "<style scoped>\n",
       "    .dataframe tbody tr th:only-of-type {\n",
       "        vertical-align: middle;\n",
       "    }\n",
       "\n",
       "    .dataframe tbody tr th {\n",
       "        vertical-align: top;\n",
       "    }\n",
       "\n",
       "    .dataframe thead th {\n",
       "        text-align: right;\n",
       "    }\n",
       "</style>\n",
       "<table border=\"1\" class=\"dataframe\">\n",
       "  <thead>\n",
       "    <tr style=\"text-align: right;\">\n",
       "      <th></th>\n",
       "      <th>Tweets</th>\n",
       "      <th>len</th>\n",
       "      <th>ID</th>\n",
       "      <th>Date</th>\n",
       "      <th>Source</th>\n",
       "      <th>Likes</th>\n",
       "      <th>RTs</th>\n",
       "    </tr>\n",
       "  </thead>\n",
       "  <tbody>\n",
       "    <tr>\n",
       "      <th>0</th>\n",
       "      <td>Birthday greetings to my valued colleague and ...</td>\n",
       "      <td>139</td>\n",
       "      <td>1014701594041085953</td>\n",
       "      <td>2018-07-05 02:44:46</td>\n",
       "      <td>Twitter for iPhone</td>\n",
       "      <td>8598</td>\n",
       "      <td>1461</td>\n",
       "    </tr>\n",
       "    <tr>\n",
       "      <th>1</th>\n",
       "      <td>A promise fulfilled!\\n\\nWe are honoured and hu...</td>\n",
       "      <td>140</td>\n",
       "      <td>1014517413776199681</td>\n",
       "      <td>2018-07-04 14:32:54</td>\n",
       "      <td>Twitter Web Client</td>\n",
       "      <td>13162</td>\n",
       "      <td>3804</td>\n",
       "    </tr>\n",
       "    <tr>\n",
       "      <th>2</th>\n",
       "      <td>Strengthening India’s higher education sector....</td>\n",
       "      <td>70</td>\n",
       "      <td>1014517151854575617</td>\n",
       "      <td>2018-07-04 14:31:52</td>\n",
       "      <td>Twitter Web Client</td>\n",
       "      <td>6346</td>\n",
       "      <td>1415</td>\n",
       "    </tr>\n",
       "    <tr>\n",
       "      <th>3</th>\n",
       "      <td>Congratulations to the people of Tripura! Thei...</td>\n",
       "      <td>112</td>\n",
       "      <td>1014517090261168128</td>\n",
       "      <td>2018-07-04 14:31:37</td>\n",
       "      <td>Twitter Web Client</td>\n",
       "      <td>7705</td>\n",
       "      <td>1993</td>\n",
       "    </tr>\n",
       "    <tr>\n",
       "      <th>4</th>\n",
       "      <td>Great interaction with young IAS officers who ...</td>\n",
       "      <td>139</td>\n",
       "      <td>1014516811541372928</td>\n",
       "      <td>2018-07-04 14:30:31</td>\n",
       "      <td>Twitter Web Client</td>\n",
       "      <td>4066</td>\n",
       "      <td>1128</td>\n",
       "    </tr>\n",
       "    <tr>\n",
       "      <th>5</th>\n",
       "      <td>मिट्टी के स्वास्थ्य से लेकर सिंचाई तक, आसानी स...</td>\n",
       "      <td>140</td>\n",
       "      <td>1014516392417062912</td>\n",
       "      <td>2018-07-04 14:28:51</td>\n",
       "      <td>Twitter Web Client</td>\n",
       "      <td>5591</td>\n",
       "      <td>1516</td>\n",
       "    </tr>\n",
       "    <tr>\n",
       "      <th>6</th>\n",
       "      <td>We are leaving no stone unturned to ensure the...</td>\n",
       "      <td>96</td>\n",
       "      <td>1014516295583191040</td>\n",
       "      <td>2018-07-04 14:28:28</td>\n",
       "      <td>Twitter Web Client</td>\n",
       "      <td>3382</td>\n",
       "      <td>929</td>\n",
       "    </tr>\n",
       "    <tr>\n",
       "      <th>7</th>\n",
       "      <td>Well said. I fully agree that when India’s far...</td>\n",
       "      <td>104</td>\n",
       "      <td>1014516115790163968</td>\n",
       "      <td>2018-07-04 14:27:45</td>\n",
       "      <td>Twitter Web Client</td>\n",
       "      <td>3983</td>\n",
       "      <td>992</td>\n",
       "    </tr>\n",
       "    <tr>\n",
       "      <th>8</th>\n",
       "      <td>कृषि क्षेत्र के विकास और किसान कल्याण के लिए ज...</td>\n",
       "      <td>140</td>\n",
       "      <td>1014436056257744897</td>\n",
       "      <td>2018-07-04 09:09:37</td>\n",
       "      <td>Twitter for iPhone</td>\n",
       "      <td>17849</td>\n",
       "      <td>4340</td>\n",
       "    </tr>\n",
       "    <tr>\n",
       "      <th>9</th>\n",
       "      <td>मुझे अत्यंत खुशी हो रही है कि किसान भाइयों-बहन...</td>\n",
       "      <td>138</td>\n",
       "      <td>1014435806700867585</td>\n",
       "      <td>2018-07-04 09:08:38</td>\n",
       "      <td>Twitter for iPhone</td>\n",
       "      <td>31527</td>\n",
       "      <td>9162</td>\n",
       "    </tr>\n",
       "  </tbody>\n",
       "</table>\n",
       "</div>"
      ],
      "text/plain": [
       "                                              Tweets  len  \\\n",
       "0  Birthday greetings to my valued colleague and ...  139   \n",
       "1  A promise fulfilled!\\n\\nWe are honoured and hu...  140   \n",
       "2  Strengthening India’s higher education sector....   70   \n",
       "3  Congratulations to the people of Tripura! Thei...  112   \n",
       "4  Great interaction with young IAS officers who ...  139   \n",
       "5  मिट्टी के स्वास्थ्य से लेकर सिंचाई तक, आसानी स...  140   \n",
       "6  We are leaving no stone unturned to ensure the...   96   \n",
       "7  Well said. I fully agree that when India’s far...  104   \n",
       "8  कृषि क्षेत्र के विकास और किसान कल्याण के लिए ज...  140   \n",
       "9  मुझे अत्यंत खुशी हो रही है कि किसान भाइयों-बहन...  138   \n",
       "\n",
       "                    ID                Date              Source  Likes   RTs  \n",
       "0  1014701594041085953 2018-07-05 02:44:46  Twitter for iPhone   8598  1461  \n",
       "1  1014517413776199681 2018-07-04 14:32:54  Twitter Web Client  13162  3804  \n",
       "2  1014517151854575617 2018-07-04 14:31:52  Twitter Web Client   6346  1415  \n",
       "3  1014517090261168128 2018-07-04 14:31:37  Twitter Web Client   7705  1993  \n",
       "4  1014516811541372928 2018-07-04 14:30:31  Twitter Web Client   4066  1128  \n",
       "5  1014516392417062912 2018-07-04 14:28:51  Twitter Web Client   5591  1516  \n",
       "6  1014516295583191040 2018-07-04 14:28:28  Twitter Web Client   3382   929  \n",
       "7  1014516115790163968 2018-07-04 14:27:45  Twitter Web Client   3983   992  \n",
       "8  1014436056257744897 2018-07-04 09:09:37  Twitter for iPhone  17849  4340  \n",
       "9  1014435806700867585 2018-07-04 09:08:38  Twitter for iPhone  31527  9162  "
      ]
     },
     "metadata": {},
     "output_type": "display_data"
    }
   ],
   "source": [
    "# Display of first 10 elements from dataframe:\n",
    "display(data.head(10))"
   ]
  },
  {
   "cell_type": "code",
   "execution_count": 166,
   "metadata": {},
   "outputs": [
    {
     "name": "stdout",
     "output_type": "stream",
     "text": [
      "The lenght's average in tweets: 131.55\n"
     ]
    }
   ],
   "source": [
    "# We extract the mean of lenghts:\n",
    "mean = np.mean(data['len'])\n",
    "\n",
    "print(\"The lenght's average in tweets: {}\".format(mean))"
   ]
  },
  {
   "cell_type": "code",
   "execution_count": 167,
   "metadata": {},
   "outputs": [
    {
     "name": "stdout",
     "output_type": "stream",
     "text": [
      "The tweet with more likes is: \n",
      "Birthday greetings to Congress President Shri @RahulGandhi. I pray for his long and healthy life.\n",
      "Number of likes: 39286\n",
      "97 characters.\n",
      "\n",
      "The tweet with more retweets is: \n",
      "मुझे अत्यंत खुशी हो रही है कि किसान भाइयों-बहनों को सरकार ने लागत के 1.5 गुना MSP देने का जो वादा किया था, आज उसे… https://t.co/WHTpSGhWVW\n",
      "Number of retweets: 9162\n",
      "138 characters.\n",
      "\n"
     ]
    }
   ],
   "source": [
    "# We extract the tweet with more FAVs and more RTs:\n",
    "\n",
    "fav_max = np.max(data['Likes'])\n",
    "rt_max  = np.max(data['RTs'])\n",
    "\n",
    "fav = data[data.Likes == fav_max].index[0]\n",
    "rt  = data[data.RTs == rt_max].index[0]\n",
    "\n",
    "# Max FAVs:\n",
    "print(\"The tweet with more likes is: \\n{}\".format(data['Tweets'][fav]))\n",
    "print(\"Number of likes: {}\".format(fav_max))\n",
    "print(\"{} characters.\\n\".format(data['len'][fav]))\n",
    "\n",
    "# Max RTs:\n",
    "print(\"The tweet with more retweets is: \\n{}\".format(data['Tweets'][rt]))\n",
    "print(\"Number of retweets: {}\".format(rt_max))\n",
    "print(\"{} characters.\\n\".format(data['len'][rt]))"
   ]
  },
  {
   "cell_type": "code",
   "execution_count": 168,
   "metadata": {},
   "outputs": [],
   "source": [
    "# We create time series for data:\n",
    "\n",
    "tlen = pd.Series(data=data['len'].values, index=data['Date'])\n",
    "tfav = pd.Series(data=data['Likes'].values, index=data['Date'])\n",
    "tret = pd.Series(data=data['RTs'].values, index=data['Date'])"
   ]
  },
  {
   "cell_type": "code",
   "execution_count": 169,
   "metadata": {
    "scrolled": true
   },
   "outputs": [
    {
     "data": {
      "image/png": "[encoded data removed]",
      "text/plain": [
       "<Figure size 1152x288 with 1 Axes>"
      ]
     },
     "metadata": {},
     "output_type": "display_data"
    }
   ],
   "source": [
    "# Lenghts along time:\n",
    "tlen.plot(figsize=(16,4), color='r');"
   ]
  },
  {
   "cell_type": "code",
   "execution_count": 170,
   "metadata": {
    "scrolled": false
   },
   "outputs": [
    {
     "data": {
      "image/png": "[encoded data removed]",
      "text/plain": [
       "<Figure size 1152x288 with 1 Axes>"
      ]
     },
     "metadata": {},
     "output_type": "display_data"
    }
   ],
   "source": [
    "# Likes vs retweets visualization:\n",
    "tfav.plot(figsize=(16,4), label=\"Likes\", legend=True)\n",
    "tret.plot(figsize=(16,4), label=\"Retweets\", legend=True);"
   ]
  },
  {
   "cell_type": "code",
   "execution_count": 171,
   "metadata": {},
   "outputs": [
    {
     "name": "stdout",
     "output_type": "stream",
     "text": [
      "Creation of content sources:\n",
      "* Twitter for iPhone\n",
      "* Twitter Web Client\n",
      "* Twitter for Android\n",
      "* Media Studio\n"
     ]
    }
   ],
   "source": [
    "# We obtain all possible sources:\n",
    "sources = []\n",
    "for source in data['Source']:\n",
    "    if source not in sources:\n",
    "        sources.append(source)\n",
    "\n",
    "# We print sources list:\n",
    "print(\"Creation of content sources:\")\n",
    "for source in sources:\n",
    "    print(\"* {}\".format(source))"
   ]
  },
  {
   "cell_type": "code",
   "execution_count": 172,
   "metadata": {},
   "outputs": [
    {
     "data": {
      "image/png": "[encoded data removed]",
      "text/plain": [
       "<Figure size 432x432 with 1 Axes>"
      ]
     },
     "metadata": {},
     "output_type": "display_data"
    }
   ],
   "source": [
    "# We create a numpy vector mapped to labels:\n",
    "percent = np.zeros(len(sources))\n",
    "\n",
    "for source in data['Source']:\n",
    "    for index in range(len(sources)):\n",
    "        if source == sources[index]:\n",
    "            percent[index] += 1\n",
    "            pass\n",
    "\n",
    "percent /= 100\n",
    "\n",
    "# Pie chart:\n",
    "pie_chart = pd.Series(percent, index=sources, name='Sources')\n",
    "pie_chart.plot.pie(fontsize=11, autopct='%.2f', figsize=(6, 6));"
   ]
  },
  {
   "cell_type": "code",
   "execution_count": 173,
   "metadata": {},
   "outputs": [],
   "source": [
    "from textblob import TextBlob\n",
    "import re\n",
    "\n",
    "def clean_tweet(tweet):\n",
    "    '''\n",
    "    Utility function to clean the text in a tweet by removing \n",
    "    links and special characters using regex.\n",
    "    '''\n",
    "    return ' '.join(re.sub(\"(@[A-Za-z0-9]+)|([^0-9A-Za-z \\t])|(\\w+:\\/\\/\\S+)\", \" \", tweet).split())\n",
    "\n",
    "def analize_sentiment(tweet):\n",
    "    '''\n",
    "    Utility function to classify the polarity of a tweet\n",
    "    using textblob.\n",
    "    '''\n",
    "    analysis = TextBlob(clean_tweet(tweet))\n",
    "    if analysis.sentiment.polarity > 0:\n",
    "        return 1\n",
    "    elif analysis.sentiment.polarity == 0:\n",
    "        return 0\n",
    "    else:\n",
    "        return -1"
   ]
  },
  {
   "cell_type": "code",
   "execution_count": 174,
   "metadata": {
    "scrolled": true
   },
   "outputs": [
    {
     "data": {
      "text/html": [
       "<div>\n",
       "<style scoped>\n",
       "    .dataframe tbody tr th:only-of-type {\n",
       "        vertical-align: middle;\n",
       "    }\n",
       "\n",
       "    .dataframe tbody tr th {\n",
       "        vertical-align: top;\n",
       "    }\n",
       "\n",
       "    .dataframe thead th {\n",
       "        text-align: right;\n",
       "    }\n",
       "</style>\n",
       "<table border=\"1\" class=\"dataframe\">\n",
       "  <thead>\n",
       "    <tr style=\"text-align: right;\">\n",
       "      <th></th>\n",
       "      <th>Tweets</th>\n",
       "      <th>len</th>\n",
       "      <th>ID</th>\n",
       "      <th>Date</th>\n",
       "      <th>Source</th>\n",
       "      <th>Likes</th>\n",
       "      <th>RTs</th>\n",
       "      <th>SA</th>\n",
       "    </tr>\n",
       "  </thead>\n",
       "  <tbody>\n",
       "    <tr>\n",
       "      <th>0</th>\n",
       "      <td>Birthday greetings to my valued colleague and ...</td>\n",
       "      <td>139</td>\n",
       "      <td>1014701594041085953</td>\n",
       "      <td>2018-07-05 02:44:46</td>\n",
       "      <td>Twitter for iPhone</td>\n",
       "      <td>8598</td>\n",
       "      <td>1461</td>\n",
       "      <td>1</td>\n",
       "    </tr>\n",
       "    <tr>\n",
       "      <th>1</th>\n",
       "      <td>A promise fulfilled!\\n\\nWe are honoured and hu...</td>\n",
       "      <td>140</td>\n",
       "      <td>1014517413776199681</td>\n",
       "      <td>2018-07-04 14:32:54</td>\n",
       "      <td>Twitter Web Client</td>\n",
       "      <td>13162</td>\n",
       "      <td>3804</td>\n",
       "      <td>0</td>\n",
       "    </tr>\n",
       "    <tr>\n",
       "      <th>2</th>\n",
       "      <td>Strengthening India’s higher education sector....</td>\n",
       "      <td>70</td>\n",
       "      <td>1014517151854575617</td>\n",
       "      <td>2018-07-04 14:31:52</td>\n",
       "      <td>Twitter Web Client</td>\n",
       "      <td>6346</td>\n",
       "      <td>1415</td>\n",
       "      <td>1</td>\n",
       "    </tr>\n",
       "    <tr>\n",
       "      <th>3</th>\n",
       "      <td>Congratulations to the people of Tripura! Thei...</td>\n",
       "      <td>112</td>\n",
       "      <td>1014517090261168128</td>\n",
       "      <td>2018-07-04 14:31:37</td>\n",
       "      <td>Twitter Web Client</td>\n",
       "      <td>7705</td>\n",
       "      <td>1993</td>\n",
       "      <td>-1</td>\n",
       "    </tr>\n",
       "    <tr>\n",
       "      <th>4</th>\n",
       "      <td>Great interaction with young IAS officers who ...</td>\n",
       "      <td>139</td>\n",
       "      <td>1014516811541372928</td>\n",
       "      <td>2018-07-04 14:30:31</td>\n",
       "      <td>Twitter Web Client</td>\n",
       "      <td>4066</td>\n",
       "      <td>1128</td>\n",
       "      <td>1</td>\n",
       "    </tr>\n",
       "    <tr>\n",
       "      <th>5</th>\n",
       "      <td>मिट्टी के स्वास्थ्य से लेकर सिंचाई तक, आसानी स...</td>\n",
       "      <td>140</td>\n",
       "      <td>1014516392417062912</td>\n",
       "      <td>2018-07-04 14:28:51</td>\n",
       "      <td>Twitter Web Client</td>\n",
       "      <td>5591</td>\n",
       "      <td>1516</td>\n",
       "      <td>0</td>\n",
       "    </tr>\n",
       "    <tr>\n",
       "      <th>6</th>\n",
       "      <td>We are leaving no stone unturned to ensure the...</td>\n",
       "      <td>96</td>\n",
       "      <td>1014516295583191040</td>\n",
       "      <td>2018-07-04 14:28:28</td>\n",
       "      <td>Twitter Web Client</td>\n",
       "      <td>3382</td>\n",
       "      <td>929</td>\n",
       "      <td>0</td>\n",
       "    </tr>\n",
       "    <tr>\n",
       "      <th>7</th>\n",
       "      <td>Well said. I fully agree that when India’s far...</td>\n",
       "      <td>104</td>\n",
       "      <td>1014516115790163968</td>\n",
       "      <td>2018-07-04 14:27:45</td>\n",
       "      <td>Twitter Web Client</td>\n",
       "      <td>3983</td>\n",
       "      <td>992</td>\n",
       "      <td>0</td>\n",
       "    </tr>\n",
       "    <tr>\n",
       "      <th>8</th>\n",
       "      <td>कृषि क्षेत्र के विकास और किसान कल्याण के लिए ज...</td>\n",
       "      <td>140</td>\n",
       "      <td>1014436056257744897</td>\n",
       "      <td>2018-07-04 09:09:37</td>\n",
       "      <td>Twitter for iPhone</td>\n",
       "      <td>17849</td>\n",
       "      <td>4340</td>\n",
       "      <td>0</td>\n",
       "    </tr>\n",
       "    <tr>\n",
       "      <th>9</th>\n",
       "      <td>मुझे अत्यंत खुशी हो रही है कि किसान भाइयों-बहन...</td>\n",
       "      <td>138</td>\n",
       "      <td>1014435806700867585</td>\n",
       "      <td>2018-07-04 09:08:38</td>\n",
       "      <td>Twitter for iPhone</td>\n",
       "      <td>31527</td>\n",
       "      <td>9162</td>\n",
       "      <td>0</td>\n",
       "    </tr>\n",
       "  </tbody>\n",
       "</table>\n",
       "</div>"
      ],
      "text/plain": [
       "                                              Tweets  len  \\\n",
       "0  Birthday greetings to my valued colleague and ...  139   \n",
       "1  A promise fulfilled!\\n\\nWe are honoured and hu...  140   \n",
       "2  Strengthening India’s higher education sector....   70   \n",
       "3  Congratulations to the people of Tripura! Thei...  112   \n",
       "4  Great interaction with young IAS officers who ...  139   \n",
       "5  मिट्टी के स्वास्थ्य से लेकर सिंचाई तक, आसानी स...  140   \n",
       "6  We are leaving no stone unturned to ensure the...   96   \n",
       "7  Well said. I fully agree that when India’s far...  104   \n",
       "8  कृषि क्षेत्र के विकास और किसान कल्याण के लिए ज...  140   \n",
       "9  मुझे अत्यंत खुशी हो रही है कि किसान भाइयों-बहन...  138   \n",
       "\n",
       "                    ID                Date              Source  Likes   RTs  \\\n",
       "0  1014701594041085953 2018-07-05 02:44:46  Twitter for iPhone   8598  1461   \n",
       "1  1014517413776199681 2018-07-04 14:32:54  Twitter Web Client  13162  3804   \n",
       "2  1014517151854575617 2018-07-04 14:31:52  Twitter Web Client   6346  1415   \n",
       "3  1014517090261168128 2018-07-04 14:31:37  Twitter Web Client   7705  1993   \n",
       "4  1014516811541372928 2018-07-04 14:30:31  Twitter Web Client   4066  1128   \n",
       "5  1014516392417062912 2018-07-04 14:28:51  Twitter Web Client   5591  1516   \n",
       "6  1014516295583191040 2018-07-04 14:28:28  Twitter Web Client   3382   929   \n",
       "7  1014516115790163968 2018-07-04 14:27:45  Twitter Web Client   3983   992   \n",
       "8  1014436056257744897 2018-07-04 09:09:37  Twitter for iPhone  17849  4340   \n",
       "9  1014435806700867585 2018-07-04 09:08:38  Twitter for iPhone  31527  9162   \n",
       "\n",
       "   SA  \n",
       "0   1  \n",
       "1   0  \n",
       "2   1  \n",
       "3  -1  \n",
       "4   1  \n",
       "5   0  \n",
       "6   0  \n",
       "7   0  \n",
       "8   0  \n",
       "9   0  "
      ]
     },
     "metadata": {},
     "output_type": "display_data"
    }
   ],
   "source": [
    "# We create a column with the result of the analysis:\n",
    "data['SA'] = np.array([ analize_sentiment(tweet) for tweet in data['Tweets'] ])\n",
    "\n",
    "# We display the updated dataframe with the new column:\n",
    "display(data.head(10))"
   ]
  },
  {
   "cell_type": "code",
   "execution_count": 175,
   "metadata": {},
   "outputs": [],
   "source": [
    "# We construct lists with classified tweets:\n",
    "\n",
    "pos_tweets = [ tweet for index, tweet in enumerate(data['Tweets']) if data['SA'][index] > 0]\n",
    "neu_tweets = [ tweet for index, tweet in enumerate(data['Tweets']) if data['SA'][index] == 0]\n",
    "neg_tweets = [ tweet for index, tweet in enumerate(data['Tweets']) if data['SA'][index] < 0]"
   ]
  },
  {
   "cell_type": "code",
   "execution_count": 176,
   "metadata": {},
   "outputs": [
    {
     "name": "stdout",
     "output_type": "stream",
     "text": [
      "Percentage of positive tweets: 41.5%\n",
      "Percentage of neutral tweets: 55.0%\n",
      "Percentage de negative tweets: 3.5%\n"
     ]
    }
   ],
   "source": [
    "# We print percentages:\n",
    "\n",
    "print(\"Percentage of positive tweets: {}%\".format(len(pos_tweets)*100/len(data['Tweets'])))\n",
    "print(\"Percentage of neutral tweets: {}%\".format(len(neu_tweets)*100/len(data['Tweets'])))\n",
    "print(\"Percentage de negative tweets: {}%\".format(len(neg_tweets)*100/len(data['Tweets'])))"
   ]
  },
  {
   "cell_type": "code",
   "execution_count": null,
   "metadata": {},
   "outputs": [],
   "source": []
  },
  {
   "cell_type": "code",
   "execution_count": null,
   "metadata": {},
   "outputs": [],
   "source": []
  },
  {
   "cell_type": "code",
   "execution_count": null,
   "metadata": {},
   "outputs": [],
   "source": []
  },
  {
   "cell_type": "code",
   "execution_count": null,
   "metadata": {},
   "outputs": [],
   "source": []
  },
  {
   "cell_type": "code",
   "execution_count": null,
   "metadata": {},
   "outputs": [],
   "source": []
  },
  {
   "cell_type": "code",
   "execution_count": null,
   "metadata": {},
   "outputs": [],
   "source": []
  },
  {
   "cell_type": "code",
   "execution_count": null,
   "metadata": {},
   "outputs": [],
   "source": []
  },
  {
   "cell_type": "code",
   "execution_count": null,
   "metadata": {},
   "outputs": [],
   "source": []
  },
  {
   "cell_type": "code",
   "execution_count": null,
   "metadata": {},
   "outputs": [],
   "source": []
  }
 ],
 "metadata": {
  "kernelspec": {
   "display_name": "Python 3",
   "language": "python",
   "name": "python3"
  },
  "language_info": {
   "codemirror_mode": {
    "name": "ipython",
    "version": 3
   },
   "file_extension": ".py",
   "mimetype": "text/x-python",
   "name": "python",
   "nbconvert_exporter": "python",
   "pygments_lexer": "ipython3",
   "version": "3.6.5"
  }
 },
 "nbformat": 4,
 "nbformat_minor": 2
}
