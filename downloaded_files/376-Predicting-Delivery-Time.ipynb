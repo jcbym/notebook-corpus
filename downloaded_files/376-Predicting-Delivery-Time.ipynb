{
 "cells": [
  {
   "cell_type": "code",
   "execution_count": 378,
   "metadata": {
    "collapsed": false
   },
   "outputs": [],
   "source": [
    "import pandas as pd\n",
    "import requests\n",
    "import numpy as np\n",
    "from math import radians, cos, sin, asin, sqrt\n"
   ]
  },
  {
   "cell_type": "code",
   "execution_count": 2,
   "metadata": {
    "collapsed": false
   },
   "outputs": [],
   "source": [
    "df = pd.read_csv(\"supplydata.csv\")"
   ]
  },
  {
   "cell_type": "code",
   "execution_count": 3,
   "metadata": {
    "collapsed": true
   },
   "outputs": [],
   "source": [
    "pd.set_option('display.max_colwidth', -1)"
   ]
  },
  {
   "cell_type": "code",
   "execution_count": 4,
   "metadata": {
    "collapsed": true
   },
   "outputs": [],
   "source": [
    "#Stripping Details to get only the origin and delivery Dates\n",
    "df[\"detail\"] =  df.details.str[:40] + df.details.str[-65:] \n"
   ]
  },
  {
   "cell_type": "code",
   "execution_count": 84,
   "metadata": {
    "collapsed": false
   },
   "outputs": [],
   "source": [
    "#Some cleaning\n",
    "df[\"detail2\"] = df.detail.str.replace(',', '').str.replace('\"','').str.replace(']','').str.replace(\"'\",\"\")"
   ]
  },
  {
   "cell_type": "code",
   "execution_count": 132,
   "metadata": {
    "collapsed": true
   },
   "outputs": [],
   "source": [
    "#Extracting Dates Function\n",
    "import datefinder\n",
    "from datetime import datetime\n",
    "\n",
    "def cleaner(string):\n",
    "    try:\n",
    "        matches = datefinder.find_dates(string)\n",
    "        return (matches.next() - matches.next()).days\n",
    "    except StopIteration:\n",
    "        return -999"
   ]
  },
  {
   "cell_type": "code",
   "execution_count": 103,
   "metadata": {
    "collapsed": false
   },
   "outputs": [],
   "source": [
    "df[\"Time taken\"] = df[\"detail2\"].map(cleaner)"
   ]
  },
  {
   "cell_type": "code",
   "execution_count": 105,
   "metadata": {
    "collapsed": true
   },
   "outputs": [],
   "source": [
    "df.drop('details', axis=1, inplace=True)\n",
    "df.drop('Unnamed: 0', axis=1, inplace=True)\n"
   ]
  },
  {
   "cell_type": "code",
   "execution_count": 107,
   "metadata": {
    "collapsed": false
   },
   "outputs": [],
   "source": [
    "df.to_csv(\"timetaken.csv\")"
   ]
  },
  {
   "cell_type": "code",
   "execution_count": 108,
   "metadata": {
    "collapsed": true
   },
   "outputs": [],
   "source": [
    "df = df.drop(df[df['Time taken']<0].index)\n"
   ]
  },
  {
   "cell_type": "code",
   "execution_count": 110,
   "metadata": {
    "collapsed": false
   },
   "outputs": [
    {
     "data": {
      "text/html": [
       "<div>\n",
       "<table border=\"1\" class=\"dataframe\">\n",
       "  <thead>\n",
       "    <tr style=\"text-align: right;\">\n",
       "      <th></th>\n",
       "      <th>Unnamed: 0</th>\n",
       "      <th>pieces</th>\n",
       "      <th>Time taken</th>\n",
       "    </tr>\n",
       "  </thead>\n",
       "  <tbody>\n",
       "    <tr>\n",
       "      <th>count</th>\n",
       "      <td>428370.000000</td>\n",
       "      <td>428370.000000</td>\n",
       "      <td>428370.000000</td>\n",
       "    </tr>\n",
       "    <tr>\n",
       "      <th>mean</th>\n",
       "      <td>253077.997610</td>\n",
       "      <td>1.029376</td>\n",
       "      <td>2.156057</td>\n",
       "    </tr>\n",
       "    <tr>\n",
       "      <th>std</th>\n",
       "      <td>145115.073481</td>\n",
       "      <td>0.552665</td>\n",
       "      <td>4.075782</td>\n",
       "    </tr>\n",
       "    <tr>\n",
       "      <th>min</th>\n",
       "      <td>1.000000</td>\n",
       "      <td>1.000000</td>\n",
       "      <td>0.000000</td>\n",
       "    </tr>\n",
       "    <tr>\n",
       "      <th>25%</th>\n",
       "      <td>127348.250000</td>\n",
       "      <td>1.000000</td>\n",
       "      <td>1.000000</td>\n",
       "    </tr>\n",
       "    <tr>\n",
       "      <th>50%</th>\n",
       "      <td>252465.500000</td>\n",
       "      <td>1.000000</td>\n",
       "      <td>1.000000</td>\n",
       "    </tr>\n",
       "    <tr>\n",
       "      <th>75%</th>\n",
       "      <td>380047.500000</td>\n",
       "      <td>1.000000</td>\n",
       "      <td>2.000000</td>\n",
       "    </tr>\n",
       "    <tr>\n",
       "      <th>max</th>\n",
       "      <td>499598.000000</td>\n",
       "      <td>69.000000</td>\n",
       "      <td>551.000000</td>\n",
       "    </tr>\n",
       "  </tbody>\n",
       "</table>\n",
       "</div>"
      ],
      "text/plain": [
       "          Unnamed: 0         pieces     Time taken\n",
       "count  428370.000000  428370.000000  428370.000000\n",
       "mean   253077.997610  1.029376       2.156057     \n",
       "std    145115.073481  0.552665       4.075782     \n",
       "min    1.000000       1.000000       0.000000     \n",
       "25%    127348.250000  1.000000       1.000000     \n",
       "50%    252465.500000  1.000000       1.000000     \n",
       "75%    380047.500000  1.000000       2.000000     \n",
       "max    499598.000000  69.000000      551.000000   "
      ]
     },
     "execution_count": 110,
     "metadata": {},
     "output_type": "execute_result"
    }
   ],
   "source": [
    "df.describe()"
   ]
  },
  {
   "cell_type": "code",
   "execution_count": 115,
   "metadata": {
    "collapsed": true
   },
   "outputs": [],
   "source": [
    "df = df.drop(df[df['Time taken']>15].index)\n"
   ]
  },
  {
   "cell_type": "code",
   "execution_count": 118,
   "metadata": {
    "collapsed": false,
    "scrolled": true
   },
   "outputs": [
    {
     "data": {
      "text/html": [
       "<div>\n",
       "<table border=\"1\" class=\"dataframe\">\n",
       "  <thead>\n",
       "    <tr style=\"text-align: right;\">\n",
       "      <th></th>\n",
       "      <th>pieces</th>\n",
       "      <th>Time taken</th>\n",
       "    </tr>\n",
       "  </thead>\n",
       "  <tbody>\n",
       "    <tr>\n",
       "      <th>count</th>\n",
       "      <td>424989.000000</td>\n",
       "      <td>424989.000000</td>\n",
       "    </tr>\n",
       "    <tr>\n",
       "      <th>mean</th>\n",
       "      <td>1.028956</td>\n",
       "      <td>1.939156</td>\n",
       "    </tr>\n",
       "    <tr>\n",
       "      <th>std</th>\n",
       "      <td>0.547880</td>\n",
       "      <td>1.810264</td>\n",
       "    </tr>\n",
       "    <tr>\n",
       "      <th>min</th>\n",
       "      <td>1.000000</td>\n",
       "      <td>0.000000</td>\n",
       "    </tr>\n",
       "    <tr>\n",
       "      <th>25%</th>\n",
       "      <td>1.000000</td>\n",
       "      <td>1.000000</td>\n",
       "    </tr>\n",
       "    <tr>\n",
       "      <th>50%</th>\n",
       "      <td>1.000000</td>\n",
       "      <td>1.000000</td>\n",
       "    </tr>\n",
       "    <tr>\n",
       "      <th>75%</th>\n",
       "      <td>1.000000</td>\n",
       "      <td>2.000000</td>\n",
       "    </tr>\n",
       "    <tr>\n",
       "      <th>max</th>\n",
       "      <td>69.000000</td>\n",
       "      <td>15.000000</td>\n",
       "    </tr>\n",
       "  </tbody>\n",
       "</table>\n",
       "</div>"
      ],
      "text/plain": [
       "              pieces     Time taken\n",
       "count  424989.000000  424989.000000\n",
       "mean   1.028956       1.939156     \n",
       "std    0.547880       1.810264     \n",
       "min    1.000000       0.000000     \n",
       "25%    1.000000       1.000000     \n",
       "50%    1.000000       1.000000     \n",
       "75%    1.000000       2.000000     \n",
       "max    69.000000      15.000000    "
      ]
     },
     "execution_count": 118,
     "metadata": {},
     "output_type": "execute_result"
    }
   ],
   "source": [
    "df.describe()"
   ]
  },
  {
   "cell_type": "code",
   "execution_count": 170,
   "metadata": {
    "collapsed": true
   },
   "outputs": [],
   "source": [
    "df.drop('Unnamed: 0', axis=1, inplace=True)\n",
    "df.drop('details', axis=1, inplace=True)\n",
    "df.drop('pieces', axis=1, inplace=True)\n"
   ]
  },
  {
   "cell_type": "code",
   "execution_count": 149,
   "metadata": {
    "collapsed": true
   },
   "outputs": [],
   "source": [
    "df.to_csv(\"FinalTimeTaken.csv\")"
   ]
  },
  {
   "cell_type": "code",
   "execution_count": 167,
   "metadata": {
    "collapsed": false
   },
   "outputs": [],
   "source": [
    "df = pd.read_csv(\"FinalTimeTaken.csv\")"
   ]
  },
  {
   "cell_type": "code",
   "execution_count": 174,
   "metadata": {
    "collapsed": false
   },
   "outputs": [],
   "source": [
    "df.destinationbranch = df.destinationbranch.str.replace('SDC', '').str.strip()\n",
    "df.originbranch = df.originbranch.str.replace('SDC', '').str.strip()"
   ]
  },
  {
   "cell_type": "code",
   "execution_count": 235,
   "metadata": {
    "collapsed": true
   },
   "outputs": [],
   "source": [
    "df.destinationbranch = df.destinationbranch.str.replace('MAHIPALPUR MDC', 'MAHIPALPUR')\n",
    "df.originbranch = df.originbranch.str.replace('MAHIPALPUR MDC', 'MAHIPALPUR')"
   ]
  },
  {
   "cell_type": "code",
   "execution_count": 236,
   "metadata": {
    "collapsed": false
   },
   "outputs": [
    {
     "data": {
      "text/html": [
       "<div>\n",
       "<table border=\"1\" class=\"dataframe\">\n",
       "  <thead>\n",
       "    <tr style=\"text-align: right;\">\n",
       "      <th></th>\n",
       "      <th>destinationbranch</th>\n",
       "      <th>originbranch</th>\n",
       "      <th>producttype</th>\n",
       "      <th>Time taken</th>\n",
       "    </tr>\n",
       "  </thead>\n",
       "  <tbody>\n",
       "    <tr>\n",
       "      <th>0</th>\n",
       "      <td>BAREILLY</td>\n",
       "      <td>OKHLA</td>\n",
       "      <td>T2</td>\n",
       "      <td>8</td>\n",
       "    </tr>\n",
       "    <tr>\n",
       "      <th>1</th>\n",
       "      <td>BAREILLY</td>\n",
       "      <td>OKHLA</td>\n",
       "      <td>T2</td>\n",
       "      <td>4</td>\n",
       "    </tr>\n",
       "    <tr>\n",
       "      <th>2</th>\n",
       "      <td>NOIDA</td>\n",
       "      <td>OKHLA</td>\n",
       "      <td>T2</td>\n",
       "      <td>1</td>\n",
       "    </tr>\n",
       "    <tr>\n",
       "      <th>3</th>\n",
       "      <td>BAREILLY</td>\n",
       "      <td>OKHLA</td>\n",
       "      <td>T2</td>\n",
       "      <td>4</td>\n",
       "    </tr>\n",
       "    <tr>\n",
       "      <th>4</th>\n",
       "      <td>MORADABAD</td>\n",
       "      <td>OKHLA</td>\n",
       "      <td>T2</td>\n",
       "      <td>6</td>\n",
       "    </tr>\n",
       "  </tbody>\n",
       "</table>\n",
       "</div>"
      ],
      "text/plain": [
       "  destinationbranch originbranch producttype  Time taken\n",
       "0  BAREILLY          OKHLA        T2          8         \n",
       "1  BAREILLY          OKHLA        T2          4         \n",
       "2  NOIDA             OKHLA        T2          1         \n",
       "3  BAREILLY          OKHLA        T2          4         \n",
       "4  MORADABAD         OKHLA        T2          6         "
      ]
     },
     "execution_count": 236,
     "metadata": {},
     "output_type": "execute_result"
    }
   ],
   "source": [
    "df.head()"
   ]
  },
  {
   "cell_type": "code",
   "execution_count": 237,
   "metadata": {
    "collapsed": false
   },
   "outputs": [
    {
     "data": {
      "text/plain": [
       "array(['BAREILLY', 'NOIDA', 'MORADABAD', 'GHAZIABAD', 'MAHIPALPUR',\n",
       "       'MEERUT', 'KIRTI NAGAR', 'LAXMI NAGAR', 'RANI JHANSI', 'KANPUR',\n",
       "       'LUCKNOW', 'AMRITSAR', 'JALANDHAR', 'LUDHIANA', 'VARANASI',\n",
       "       'GURGAON', 'AJMER', 'INDORE', 'WAZIRPUR', 'FARIDABAD', 'CHANDIGARH',\n",
       "       'JAIPUR', 'GURGAON  EAST', 'OKHLA', 'AGRA', 'AMBALA', 'ALLAHABAD',\n",
       "       'HARIDWAR', 'PATIALA', 'BHOPAL', 'KOTA', 'JODHPUR', 'PANIPAT',\n",
       "       'SONIPAT', 'VISHNU GARDEN', 'DEHRADUN', 'KARNAL', 'ANDHERI EAST',\n",
       "       'YELAHANKA', 'PANCHSHEEL VIHAR', 'BHIWANDI', 'AZADPUR'], dtype=object)"
      ]
     },
     "execution_count": 237,
     "metadata": {},
     "output_type": "execute_result"
    }
   ],
   "source": [
    "df.destinationbranch.unique()"
   ]
  },
  {
   "cell_type": "code",
   "execution_count": 238,
   "metadata": {
    "collapsed": false,
    "scrolled": true
   },
   "outputs": [
    {
     "data": {
      "text/plain": [
       "array(['OKHLA', 'WAZIRPUR', 'NOIDA', 'RANI JHANSI', 'CHANDIGARH',\n",
       "       'LAXMI NAGAR', 'MAHIPALPUR', 'GHAZIABAD', 'ANDHERI EAST', 'GURGAON',\n",
       "       'VISHNU GARDEN', 'KIRTI NAGAR', 'GURGAON  EAST', 'KANPUR',\n",
       "       'ALLAHABAD', 'BAREILLY', 'VARANASI', 'JALANDHAR', 'AMRITSAR',\n",
       "       'FARIDABAD', 'JAIPUR', 'LUDHIANA', 'INDORE', 'BHOPAL', 'MEERUT',\n",
       "       'KARNAL', 'PANIPAT', 'PATIALA', 'MORADABAD', 'AMBALA', 'YELAHANKA',\n",
       "       'AGRA', 'LUCKNOW', 'SONIPAT', 'KOTA', 'HARIDWAR', 'DEHRADUN',\n",
       "       'AJMER', 'JODHPUR', 'PANCHSHEEL VIHAR', 'BHIWANDI'], dtype=object)"
      ]
     },
     "execution_count": 238,
     "metadata": {},
     "output_type": "execute_result"
    }
   ],
   "source": [
    "df.originbranch.unique()"
   ]
  },
  {
   "cell_type": "code",
   "execution_count": 239,
   "metadata": {
    "collapsed": false
   },
   "outputs": [
    {
     "data": {
      "text/plain": [
       "['AZADPUR']"
      ]
     },
     "execution_count": 239,
     "metadata": {},
     "output_type": "execute_result"
    }
   ],
   "source": [
    "list(set(df.destinationbranch.unique()) - set(df.originbranch.unique() ))"
   ]
  },
  {
   "cell_type": "code",
   "execution_count": 186,
   "metadata": {
    "collapsed": false
   },
   "outputs": [],
   "source": [
    "list_of_cities = df.originbranch.unique().tolist() + list(set(df.destinationbranch.unique()) - set(df.originbranch.unique() ))"
   ]
  },
  {
   "cell_type": "code",
   "execution_count": 217,
   "metadata": {
    "collapsed": false
   },
   "outputs": [],
   "source": [
    "d = {}\n",
    "for i in list_of_cities:\n",
    "    d[i] = 1"
   ]
  },
  {
   "cell_type": "code",
   "execution_count": null,
   "metadata": {
    "collapsed": true
   },
   "outputs": [],
   "source": [
    "#Getting longitudes and latitudes\n",
    "for key in d:\n",
    "    response = requests.get('https://maps.googleapis.com/maps/api/geocode/json?address=' + key)\n",
    "    resp_json_payload = response.json()\n",
    "    d[key] = (resp_json_payload['results'][0]['geometry']['location'])\n",
    "    time.sleep(0.2)"
   ]
  },
  {
   "cell_type": "code",
   "execution_count": 290,
   "metadata": {
    "collapsed": false,
    "scrolled": true
   },
   "outputs": [
    {
     "data": {
      "text/plain": [
       "{'AGRA': {u'lat': 27.1766701, u'lng': 78.00807449999999},\n",
       " 'AJMER': {u'lat': 26.4498954, u'lng': 74.6399163},\n",
       " 'ALLAHABAD': {u'lat': 25.4358011, u'lng': 81.846311},\n",
       " 'AMBALA': {u'lat': 30.3781788, u'lng': 76.7766974},\n",
       " 'AMRITSAR': {u'lat': 31.6339793, u'lng': 74.8722642},\n",
       " 'ANDHERI EAST': {u'lat': 19.1154908, u'lng': 72.8726952},\n",
       " 'AZADPUR': {u'lat': 28.7102951, u'lng': 77.1752448},\n",
       " 'BAREILLY': {u'lat': 28.3670355, u'lng': 79.4304381},\n",
       " 'BHIWANDI': {u'lat': 19.2812547, u'lng': 73.0482912},\n",
       " 'BHOPAL': {u'lat': 23.2599333, u'lng': 77.412615},\n",
       " 'CHANDIGARH': {u'lat': 30.7333148, u'lng': 76.7794179},\n",
       " 'DEHRADUN': {u'lat': 30.3164945, u'lng': 78.03219179999999},\n",
       " 'FARIDABAD': {u'lat': 28.4089123, u'lng': 77.3177894},\n",
       " 'GHAZIABAD': {u'lat': 28.6691565, u'lng': 77.45375779999999},\n",
       " 'GURGAON': {u'lat': 28.4594965, u'lng': 77.0266383},\n",
       " 'GURGAON  EAST': {u'lat': 28.4594965, u'lng': 77.0266383},\n",
       " 'HARIDWAR': {u'lat': 29.9456906, u'lng': 78.16424780000001},\n",
       " 'INDORE': {u'lat': 22.7195687, u'lng': 75.8577258},\n",
       " 'JAIPUR': {u'lat': 26.9124336, u'lng': 75.7872709},\n",
       " 'JALANDHAR': {u'lat': 31.3260152, u'lng': 75.57618289999999},\n",
       " 'JODHPUR': {u'lat': 26.2389469, u'lng': 73.02430939999999},\n",
       " 'KANPUR': {u'lat': 26.449923, u'lng': 80.3318736},\n",
       " 'KARNAL': {u'lat': 29.6856929, u'lng': 76.9904825},\n",
       " 'KIRTI NAGAR': {u'lat': 28.6504091, u'lng': 77.14442679999999},\n",
       " 'KOTA': {u'lat': 25.2138156, u'lng': 75.8647527},\n",
       " 'LAXMI NAGAR': {u'lat': 29.07, u'lng': 80.67},\n",
       " 'LUCKNOW': {u'lat': 26.8466937, u'lng': 80.94616599999999},\n",
       " 'LUDHIANA': {u'lat': 30.900965, u'lng': 75.8572758},\n",
       " 'MAHIPALPUR': {u'lat': 28.5448686, u'lng': 77.1281345},\n",
       " 'MEERUT': {u'lat': 28.9844618, u'lng': 77.7064137},\n",
       " 'MORADABAD': {u'lat': 28.8386481, u'lng': 78.7733286},\n",
       " 'NOIDA': {u'lat': 28.5355161, u'lng': 77.3910265},\n",
       " 'OKHLA': {u'lat': 28.56028, u'lng': 77.2913315},\n",
       " 'PANCHSHEEL VIHAR': {u'lat': 28.5334659, u'lng': 77.21969849999999},\n",
       " 'PANIPAT': {u'lat': 29.3909464, u'lng': 76.9635023},\n",
       " 'PATIALA': {u'lat': 30.3397809, u'lng': 76.3868797},\n",
       " 'RANI JHANSI': {u'lat': 28.6868196, u'lng': 77.4509217},\n",
       " 'SONIPAT': {u'lat': 28.9287735, u'lng': 77.09128100000001},\n",
       " 'VARANASI': {u'lat': 25.3176452, u'lng': 82.9739144},\n",
       " 'VISHNU GARDEN': {u'lat': 28.6519345, u'lng': 77.0940718},\n",
       " 'WAZIRPUR': {u'lat': 28.7002168, u'lng': 77.1637899},\n",
       " 'YELAHANKA': {u'lat': 13.1004849, u'lng': 77.5940134}}"
      ]
     },
     "execution_count": 290,
     "metadata": {},
     "output_type": "execute_result"
    }
   ],
   "source": [
    "d"
   ]
  },
  {
   "cell_type": "code",
   "execution_count": 289,
   "metadata": {
    "collapsed": false
   },
   "outputs": [],
   "source": [
    "del d[\"MAHIPALPUR MDC\"]"
   ]
  },
  {
   "cell_type": "code",
   "execution_count": 248,
   "metadata": {
    "collapsed": false
   },
   "outputs": [],
   "source": [
    "coord_dict = d"
   ]
  },
  {
   "cell_type": "code",
   "execution_count": 316,
   "metadata": {
    "collapsed": false
   },
   "outputs": [
    {
     "data": {
      "text/plain": [
       "[{u'lat': 13.1004849, u'lng': 77.5940134},\n",
       " {u'lat': 30.900965, u'lng': 75.8572758},\n",
       " {u'lat': 26.8466937, u'lng': 80.94616599999999},\n",
       " {u'lat': 29.6856929, u'lng': 76.9904825},\n",
       " {u'lat': 28.8386481, u'lng': 78.7733286},\n",
       " {u'lat': 31.3260152, u'lng': 75.57618289999999},\n",
       " {u'lat': 28.6868196, u'lng': 77.4509217},\n",
       " {u'lat': 28.6504091, u'lng': 77.14442679999999},\n",
       " {u'lat': 28.56028, u'lng': 77.2913315},\n",
       " {u'lat': 26.2389469, u'lng': 73.02430939999999},\n",
       " {u'lat': 28.5355161, u'lng': 77.3910265},\n",
       " {u'lat': 25.3176452, u'lng': 82.9739144},\n",
       " {u'lat': 25.2138156, u'lng': 75.8647527},\n",
       " {u'lat': 28.6691565, u'lng': 77.45375779999999},\n",
       " {u'lat': 28.4594965, u'lng': 77.0266383},\n",
       " {u'lat': 28.6519345, u'lng': 77.0940718},\n",
       " {u'lat': 28.4089123, u'lng': 77.3177894},\n",
       " {u'lat': 28.7002168, u'lng': 77.1637899},\n",
       " {u'lat': 31.6339793, u'lng': 74.8722642},\n",
       " {u'lat': 25.4358011, u'lng': 81.846311},\n",
       " {u'lat': 29.07, u'lng': 80.67},\n",
       " {u'lat': 28.3670355, u'lng': 79.4304381},\n",
       " {u'lat': 22.7195687, u'lng': 75.8577258},\n",
       " {u'lat': 28.9844618, u'lng': 77.7064137},\n",
       " {u'lat': 30.7333148, u'lng': 76.7794179},\n",
       " {u'lat': 26.4498954, u'lng': 74.6399163},\n",
       " {u'lat': 27.1766701, u'lng': 78.00807449999999},\n",
       " {u'lat': 26.449923, u'lng': 80.3318736},\n",
       " {u'lat': 29.9456906, u'lng': 78.16424780000001},\n",
       " {u'lat': 28.4594965, u'lng': 77.0266383},\n",
       " {u'lat': 29.3909464, u'lng': 76.9635023},\n",
       " {u'lat': 30.3164945, u'lng': 78.03219179999999},\n",
       " {u'lat': 28.5334659, u'lng': 77.21969849999999},\n",
       " {u'lat': 30.3397809, u'lng': 76.3868797},\n",
       " {u'lat': 28.5448686, u'lng': 77.1281345},\n",
       " {u'lat': 26.9124336, u'lng': 75.7872709},\n",
       " {u'lat': 19.2812547, u'lng': 73.0482912},\n",
       " {u'lat': 30.3781788, u'lng': 76.7766974},\n",
       " {u'lat': 19.1154908, u'lng': 72.8726952},\n",
       " {u'lat': 28.7102951, u'lng': 77.1752448},\n",
       " {u'lat': 23.2599333, u'lng': 77.412615},\n",
       " {u'lat': 28.9287735, u'lng': 77.09128100000001}]"
      ]
     },
     "execution_count": 316,
     "metadata": {},
     "output_type": "execute_result"
    }
   ],
   "source": [
    "d.values()"
   ]
  },
  {
   "cell_type": "code",
   "execution_count": 344,
   "metadata": {
    "collapsed": false
   },
   "outputs": [],
   "source": [
    "df[\"lon1\"] = df[\"originbranch\"].apply(lambda x: d.get(x).get(\"lng\"))\n",
    "df[\"lat1\"] = df[\"originbranch\"].apply(lambda x: d.get(x).get(\"lat\"))\n",
    "df[\"lon2\"] = df[\"destinationbranch\"].apply(lambda x: d.get(x).get(\"lng\"))\n",
    "df[\"lat2\"] = df[\"destinationbranch\"].apply(lambda x: d.get(x).get(\"lat\"))"
   ]
  },
  {
   "cell_type": "code",
   "execution_count": 346,
   "metadata": {
    "collapsed": false
   },
   "outputs": [
    {
     "data": {
      "text/html": [
       "<div>\n",
       "<table border=\"1\" class=\"dataframe\">\n",
       "  <thead>\n",
       "    <tr style=\"text-align: right;\">\n",
       "      <th></th>\n",
       "      <th>destinationbranch</th>\n",
       "      <th>originbranch</th>\n",
       "      <th>producttype</th>\n",
       "      <th>Time taken</th>\n",
       "      <th>lon1</th>\n",
       "      <th>lat1</th>\n",
       "      <th>lon2</th>\n",
       "      <th>lat2</th>\n",
       "    </tr>\n",
       "  </thead>\n",
       "  <tbody>\n",
       "    <tr>\n",
       "      <th>0</th>\n",
       "      <td>BAREILLY</td>\n",
       "      <td>OKHLA</td>\n",
       "      <td>T2</td>\n",
       "      <td>8</td>\n",
       "      <td>77.291331</td>\n",
       "      <td>28.56028</td>\n",
       "      <td>79.430438</td>\n",
       "      <td>28.367036</td>\n",
       "    </tr>\n",
       "    <tr>\n",
       "      <th>1</th>\n",
       "      <td>BAREILLY</td>\n",
       "      <td>OKHLA</td>\n",
       "      <td>T2</td>\n",
       "      <td>4</td>\n",
       "      <td>77.291331</td>\n",
       "      <td>28.56028</td>\n",
       "      <td>79.430438</td>\n",
       "      <td>28.367036</td>\n",
       "    </tr>\n",
       "    <tr>\n",
       "      <th>2</th>\n",
       "      <td>NOIDA</td>\n",
       "      <td>OKHLA</td>\n",
       "      <td>T2</td>\n",
       "      <td>1</td>\n",
       "      <td>77.291331</td>\n",
       "      <td>28.56028</td>\n",
       "      <td>77.391026</td>\n",
       "      <td>28.535516</td>\n",
       "    </tr>\n",
       "    <tr>\n",
       "      <th>3</th>\n",
       "      <td>BAREILLY</td>\n",
       "      <td>OKHLA</td>\n",
       "      <td>T2</td>\n",
       "      <td>4</td>\n",
       "      <td>77.291331</td>\n",
       "      <td>28.56028</td>\n",
       "      <td>79.430438</td>\n",
       "      <td>28.367036</td>\n",
       "    </tr>\n",
       "    <tr>\n",
       "      <th>4</th>\n",
       "      <td>MORADABAD</td>\n",
       "      <td>OKHLA</td>\n",
       "      <td>T2</td>\n",
       "      <td>6</td>\n",
       "      <td>77.291331</td>\n",
       "      <td>28.56028</td>\n",
       "      <td>78.773329</td>\n",
       "      <td>28.838648</td>\n",
       "    </tr>\n",
       "  </tbody>\n",
       "</table>\n",
       "</div>"
      ],
      "text/plain": [
       "  destinationbranch originbranch producttype  Time taken       lon1      lat1  \\\n",
       "0  BAREILLY          OKHLA        T2          8           77.291331  28.56028   \n",
       "1  BAREILLY          OKHLA        T2          4           77.291331  28.56028   \n",
       "2  NOIDA             OKHLA        T2          1           77.291331  28.56028   \n",
       "3  BAREILLY          OKHLA        T2          4           77.291331  28.56028   \n",
       "4  MORADABAD         OKHLA        T2          6           77.291331  28.56028   \n",
       "\n",
       "        lon2       lat2  \n",
       "0  79.430438  28.367036  \n",
       "1  79.430438  28.367036  \n",
       "2  77.391026  28.535516  \n",
       "3  79.430438  28.367036  \n",
       "4  78.773329  28.838648  "
      ]
     },
     "execution_count": 346,
     "metadata": {},
     "output_type": "execute_result"
    }
   ],
   "source": [
    "df.head()"
   ]
  },
  {
   "cell_type": "code",
   "execution_count": 385,
   "metadata": {
    "collapsed": false
   },
   "outputs": [],
   "source": [
    "#Haversine Formula to calculate the distance\n",
    "import math\n",
    "\n",
    "def distance(lon1, lat1, lon2, lat2):\n",
    "    radius = 6371\n",
    "\n",
    "    dlat = math.radians(lat2-lat1)\n",
    "    dlon = math.radians(lon2-lon1)\n",
    "    a = math.sin(dlat/2) * math.sin(dlat/2) + math.cos(math.radians(lat1)) \\\n",
    "        * math.cos(math.radians(lat2)) * math.sin(dlon/2) * math.sin(dlon/2)\n",
    "    c = 2 * math.atan2(math.sqrt(a), math.sqrt(1-a))\n",
    "    d = radius * c\n",
    "\n",
    "    return d"
   ]
  },
  {
   "cell_type": "code",
   "execution_count": 387,
   "metadata": {
    "collapsed": false
   },
   "outputs": [],
   "source": [
    "#Vectorize the function and apply \n",
    "df[\"Distance\"] = np.vectorize(distance)(df['lon1'], df['lat1'],df['lon2'],df['lat2'])"
   ]
  },
  {
   "cell_type": "code",
   "execution_count": 388,
   "metadata": {
    "collapsed": false,
    "scrolled": true
   },
   "outputs": [
    {
     "data": {
      "text/html": [
       "<div>\n",
       "<table border=\"1\" class=\"dataframe\">\n",
       "  <thead>\n",
       "    <tr style=\"text-align: right;\">\n",
       "      <th></th>\n",
       "      <th>destinationbranch</th>\n",
       "      <th>originbranch</th>\n",
       "      <th>producttype</th>\n",
       "      <th>Time taken</th>\n",
       "      <th>lon1</th>\n",
       "      <th>lat1</th>\n",
       "      <th>lon2</th>\n",
       "      <th>lat2</th>\n",
       "      <th>Distance</th>\n",
       "    </tr>\n",
       "  </thead>\n",
       "  <tbody>\n",
       "    <tr>\n",
       "      <th>0</th>\n",
       "      <td>BAREILLY</td>\n",
       "      <td>OKHLA</td>\n",
       "      <td>T2</td>\n",
       "      <td>8</td>\n",
       "      <td>77.291331</td>\n",
       "      <td>28.56028</td>\n",
       "      <td>79.430438</td>\n",
       "      <td>28.367036</td>\n",
       "      <td>210.203675</td>\n",
       "    </tr>\n",
       "    <tr>\n",
       "      <th>1</th>\n",
       "      <td>BAREILLY</td>\n",
       "      <td>OKHLA</td>\n",
       "      <td>T2</td>\n",
       "      <td>4</td>\n",
       "      <td>77.291331</td>\n",
       "      <td>28.56028</td>\n",
       "      <td>79.430438</td>\n",
       "      <td>28.367036</td>\n",
       "      <td>210.203675</td>\n",
       "    </tr>\n",
       "    <tr>\n",
       "      <th>2</th>\n",
       "      <td>NOIDA</td>\n",
       "      <td>OKHLA</td>\n",
       "      <td>T2</td>\n",
       "      <td>1</td>\n",
       "      <td>77.291331</td>\n",
       "      <td>28.56028</td>\n",
       "      <td>77.391026</td>\n",
       "      <td>28.535516</td>\n",
       "      <td>10.119614</td>\n",
       "    </tr>\n",
       "    <tr>\n",
       "      <th>3</th>\n",
       "      <td>BAREILLY</td>\n",
       "      <td>OKHLA</td>\n",
       "      <td>T2</td>\n",
       "      <td>4</td>\n",
       "      <td>77.291331</td>\n",
       "      <td>28.56028</td>\n",
       "      <td>79.430438</td>\n",
       "      <td>28.367036</td>\n",
       "      <td>210.203675</td>\n",
       "    </tr>\n",
       "    <tr>\n",
       "      <th>4</th>\n",
       "      <td>MORADABAD</td>\n",
       "      <td>OKHLA</td>\n",
       "      <td>T2</td>\n",
       "      <td>6</td>\n",
       "      <td>77.291331</td>\n",
       "      <td>28.56028</td>\n",
       "      <td>78.773329</td>\n",
       "      <td>28.838648</td>\n",
       "      <td>147.821979</td>\n",
       "    </tr>\n",
       "  </tbody>\n",
       "</table>\n",
       "</div>"
      ],
      "text/plain": [
       "  destinationbranch originbranch producttype  Time taken       lon1      lat1  \\\n",
       "0  BAREILLY          OKHLA        T2          8           77.291331  28.56028   \n",
       "1  BAREILLY          OKHLA        T2          4           77.291331  28.56028   \n",
       "2  NOIDA             OKHLA        T2          1           77.291331  28.56028   \n",
       "3  BAREILLY          OKHLA        T2          4           77.291331  28.56028   \n",
       "4  MORADABAD         OKHLA        T2          6           77.291331  28.56028   \n",
       "\n",
       "        lon2       lat2    Distance  \n",
       "0  79.430438  28.367036  210.203675  \n",
       "1  79.430438  28.367036  210.203675  \n",
       "2  77.391026  28.535516  10.119614   \n",
       "3  79.430438  28.367036  210.203675  \n",
       "4  78.773329  28.838648  147.821979  "
      ]
     },
     "execution_count": 388,
     "metadata": {},
     "output_type": "execute_result"
    }
   ],
   "source": [
    "df.head()"
   ]
  },
  {
   "cell_type": "code",
   "execution_count": 393,
   "metadata": {
    "collapsed": true
   },
   "outputs": [],
   "source": [
    "df.drop('destinationbranch', axis=1, inplace=True)\n",
    "df.drop('originbranch', axis=1, inplace=True)\n",
    "df.drop('lon1', axis=1, inplace=True)\n",
    "df.drop('lon2', axis=1, inplace=True)\n",
    "df.drop('lat1', axis=1, inplace=True)\n",
    "df.drop('lat2', axis=1, inplace=True)\n"
   ]
  },
  {
   "cell_type": "code",
   "execution_count": 401,
   "metadata": {
    "collapsed": false
   },
   "outputs": [],
   "source": [
    "#One hot encoding\n",
    "df = pd.get_dummies(df)"
   ]
  },
  {
   "cell_type": "code",
   "execution_count": 404,
   "metadata": {
    "collapsed": false
   },
   "outputs": [
    {
     "name": "stdout",
     "output_type": "stream",
     "text": [
      "<class 'pandas.core.frame.DataFrame'>\n",
      "RangeIndex: 424989 entries, 0 to 424988\n",
      "Data columns (total 11 columns):\n",
      "Time taken            424989 non-null int64\n",
      "Distance              424989 non-null float64\n",
      "producttype_T1        424989 non-null float64\n",
      "producttype_T148      424989 non-null float64\n",
      "producttype_T172      424989 non-null float64\n",
      "producttype_T196      424989 non-null float64\n",
      "producttype_T2        424989 non-null float64\n",
      "producttype_T21400    424989 non-null float64\n",
      "producttype_T3        424989 non-null float64\n",
      "producttype_T4        424989 non-null float64\n",
      "producttype_null      424989 non-null float64\n",
      "dtypes: float64(10), int64(1)\n",
      "memory usage: 35.7 MB\n"
     ]
    }
   ],
   "source": [
    "df.info()"
   ]
  },
  {
   "cell_type": "code",
   "execution_count": 407,
   "metadata": {
    "collapsed": false
   },
   "outputs": [],
   "source": [
    "df.to_csv(\"FinalDataSet\")"
   ]
  },
  {
   "cell_type": "code",
   "execution_count": 409,
   "metadata": {
    "collapsed": false
   },
   "outputs": [
    {
     "data": {
      "text/plain": [
       "Time taken            int64  \n",
       "Distance              float64\n",
       "producttype_T1        float64\n",
       "producttype_T148      float64\n",
       "producttype_T172      float64\n",
       "producttype_T196      float64\n",
       "producttype_T2        float64\n",
       "producttype_T21400    float64\n",
       "producttype_T3        float64\n",
       "producttype_T4        float64\n",
       "producttype_null      float64\n",
       "dtype: object"
      ]
     },
     "execution_count": 409,
     "metadata": {},
     "output_type": "execute_result"
    }
   ],
   "source": [
    "df.dtypes"
   ]
  }
 ],
 "metadata": {
  "kernelspec": {
   "display_name": "Python 2",
   "language": "python",
   "name": "python2"
  },
  "language_info": {
   "codemirror_mode": {
    "name": "ipython",
    "version": 2
   },
   "file_extension": ".py",
   "mimetype": "text/x-python",
   "name": "python",
   "nbconvert_exporter": "python",
   "pygments_lexer": "ipython2",
   "version": "2.7.6"
  }
 },
 "nbformat": 4,
 "nbformat_minor": 0
}
